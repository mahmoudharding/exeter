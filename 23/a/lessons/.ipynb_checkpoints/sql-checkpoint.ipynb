{
 "cells": [
  {
   "cell_type": "markdown",
   "id": "99b0e848-d310-4975-a5d5-0e88d5fa442b",
   "metadata": {},
   "source": [
    "# Lesson 12: A Very Brief Introduction to SQL Clauses"
   ]
  },
  {
   "cell_type": "code",
   "execution_count": 2,
   "id": "4dac5f0b-5c7d-4544-bda1-e61880867b26",
   "metadata": {},
   "outputs": [],
   "source": [
    "import pandas as pd\n",
    "import numpy as np\n",
    "import sqlite3"
   ]
  },
  {
   "cell_type": "code",
   "execution_count": 5,
   "id": "e114d83e-1024-4e44-9462-95f459422323",
   "metadata": {},
   "outputs": [],
   "source": [
    "con = sqlite3.connect(\"data/chinook.db\")"
   ]
  },
  {
   "cell_type": "markdown",
   "id": "713ee769-3b83-4f66-b736-14844d1eb99b",
   "metadata": {},
   "source": [
    "## Working with Dataframes\n",
    "\n",
    "The function `pd.read_sql(sql, con)` returns the results from an SQL query as a data frame."
   ]
  },
  {
   "cell_type": "code",
   "execution_count": 6,
   "id": "ee2abf6d-e221-4deb-b3d7-f6e79cf87893",
   "metadata": {},
   "outputs": [
    {
     "data": {
      "text/html": [
       "<div>\n",
       "<style scoped>\n",
       "    .dataframe tbody tr th:only-of-type {\n",
       "        vertical-align: middle;\n",
       "    }\n",
       "\n",
       "    .dataframe tbody tr th {\n",
       "        vertical-align: top;\n",
       "    }\n",
       "\n",
       "    .dataframe thead th {\n",
       "        text-align: right;\n",
       "    }\n",
       "</style>\n",
       "<table border=\"1\" class=\"dataframe\">\n",
       "  <thead>\n",
       "    <tr style=\"text-align: right;\">\n",
       "      <th></th>\n",
       "      <th>Title</th>\n",
       "      <th>ArtistId</th>\n",
       "    </tr>\n",
       "  </thead>\n",
       "  <tbody>\n",
       "    <tr>\n",
       "      <th>0</th>\n",
       "      <td>For Those About To Rock We Salute You</td>\n",
       "      <td>1</td>\n",
       "    </tr>\n",
       "    <tr>\n",
       "      <th>1</th>\n",
       "      <td>Balls to the Wall</td>\n",
       "      <td>2</td>\n",
       "    </tr>\n",
       "    <tr>\n",
       "      <th>2</th>\n",
       "      <td>Restless and Wild</td>\n",
       "      <td>2</td>\n",
       "    </tr>\n",
       "    <tr>\n",
       "      <th>3</th>\n",
       "      <td>Let There Be Rock</td>\n",
       "      <td>1</td>\n",
       "    </tr>\n",
       "    <tr>\n",
       "      <th>4</th>\n",
       "      <td>Big Ones</td>\n",
       "      <td>3</td>\n",
       "    </tr>\n",
       "    <tr>\n",
       "      <th>5</th>\n",
       "      <td>Jagged Little Pill</td>\n",
       "      <td>4</td>\n",
       "    </tr>\n",
       "    <tr>\n",
       "      <th>6</th>\n",
       "      <td>Facelift</td>\n",
       "      <td>5</td>\n",
       "    </tr>\n",
       "    <tr>\n",
       "      <th>7</th>\n",
       "      <td>Warner 25 Anos</td>\n",
       "      <td>6</td>\n",
       "    </tr>\n",
       "    <tr>\n",
       "      <th>8</th>\n",
       "      <td>Plays Metallica By Four Cellos</td>\n",
       "      <td>7</td>\n",
       "    </tr>\n",
       "    <tr>\n",
       "      <th>9</th>\n",
       "      <td>Audioslave</td>\n",
       "      <td>8</td>\n",
       "    </tr>\n",
       "  </tbody>\n",
       "</table>\n",
       "</div>"
      ],
      "text/plain": [
       "                                   Title  ArtistId\n",
       "0  For Those About To Rock We Salute You         1\n",
       "1                      Balls to the Wall         2\n",
       "2                      Restless and Wild         2\n",
       "3                      Let There Be Rock         1\n",
       "4                               Big Ones         3\n",
       "5                     Jagged Little Pill         4\n",
       "6                               Facelift         5\n",
       "7                         Warner 25 Anos         6\n",
       "8         Plays Metallica By Four Cellos         7\n",
       "9                             Audioslave         8"
      ]
     },
     "execution_count": 6,
     "metadata": {},
     "output_type": "execute_result"
    }
   ],
   "source": [
    "pd.read_sql(\"SELECT Title, artistID \\\n",
    "            FROM albums \\\n",
    "            LIMIT 10;\", \n",
    "            con)"
   ]
  },
  {
   "cell_type": "code",
   "execution_count": null,
   "id": "1288ef92-0936-4db9-927c-94c854aba8d3",
   "metadata": {},
   "outputs": [],
   "source": []
  }
 ],
 "metadata": {
  "kernelspec": {
   "display_name": "Python 3 (ipykernel)",
   "language": "python",
   "name": "python3"
  },
  "language_info": {
   "codemirror_mode": {
    "name": "ipython",
    "version": 3
   },
   "file_extension": ".py",
   "mimetype": "text/x-python",
   "name": "python",
   "nbconvert_exporter": "python",
   "pygments_lexer": "ipython3",
   "version": "3.9.6"
  }
 },
 "nbformat": 4,
 "nbformat_minor": 5
}
