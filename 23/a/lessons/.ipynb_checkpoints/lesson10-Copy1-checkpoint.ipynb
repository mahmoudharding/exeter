{
 "cells": [
  {
   "cell_type": "markdown",
   "id": "ec2f4a5e-2e9e-457d-a25e-2f1998c16691",
   "metadata": {},
   "source": [
    "# Lesson 10: Pandas II"
   ]
  },
  {
   "cell_type": "markdown",
   "id": "0b09916b-61e4-4dd9-b22a-15acc462475d",
   "metadata": {},
   "source": [
    "## 0. Table from `datascience`"
   ]
  },
  {
   "cell_type": "code",
   "execution_count": null,
   "id": "83c2cf34-c5a1-40fa-956e-742426f45935",
   "metadata": {},
   "outputs": [],
   "source": [
    "from datascience import *"
   ]
  },
  {
   "cell_type": "code",
   "execution_count": null,
   "id": "3dc3a695-7696-4b09-b70d-ce581afbbe00",
   "metadata": {},
   "outputs": [],
   "source": [
    "elections_table = Table.read_table('data/elections.csv')\n",
    "elections_table"
   ]
  },
  {
   "cell_type": "code",
   "execution_count": null,
   "id": "e50e9ebc-077f-409d-8e32-551e395f0b4f",
   "metadata": {},
   "outputs": [],
   "source": [
    "type(elections_table)"
   ]
  },
  {
   "cell_type": "markdown",
   "id": "35d11a51-d595-4ba3-b766-88c18e9fc12c",
   "metadata": {},
   "source": [
    "## 1. Pandas"
   ]
  },
  {
   "cell_type": "code",
   "execution_count": null,
   "id": "ca09b15b-32be-42fd-bdf8-fd1a96fd22f3",
   "metadata": {},
   "outputs": [],
   "source": [
    "import numpy as np\n",
    "import pandas as pd\n",
    "\n",
    "%matplotlib inline\n",
    "import matplotlib.pyplot as plt\n",
    "plt.style.use('fivethirtyeight')"
   ]
  },
  {
   "cell_type": "code",
   "execution_count": null,
   "id": "ae5668d5-5995-4eb9-864f-8d4eb7b6b155",
   "metadata": {},
   "outputs": [],
   "source": [
    "elections_pd = pd.read_csv('data/elections.csv')\n",
    "elections_pd"
   ]
  },
  {
   "cell_type": "code",
   "execution_count": null,
   "id": "91af4b11-56e4-47c4-a2df-533dbb95cff0",
   "metadata": {},
   "outputs": [],
   "source": [
    "type(elections_pd)"
   ]
  },
  {
   "cell_type": "code",
   "execution_count": null,
   "id": "acd56768-3e83-4ac7-89cc-1ecc98c79a7b",
   "metadata": {},
   "outputs": [],
   "source": [
    "elections = elections_pd\n",
    "elections.head()"
   ]
  },
  {
   "cell_type": "code",
   "execution_count": null,
   "id": "7bf2cfea-df5b-4e69-84a1-4e69d7bdbcca",
   "metadata": {},
   "outputs": [],
   "source": [
    "results = elections[\"Result\"]\n",
    "#.value_counts()\n",
    "type(results)\n",
    "results.value_counts()"
   ]
  },
  {
   "cell_type": "code",
   "execution_count": null,
   "id": "f6314dbc-b275-429b-aa12-887d47da0ec1",
   "metadata": {},
   "outputs": [],
   "source": [
    "type(results)"
   ]
  },
  {
   "cell_type": "markdown",
   "id": "1278c40e-5dea-4b7a-9402-ebe1d1d2d5e7",
   "metadata": {},
   "source": [
    "`value_counts()` method that operates on a series object. It returns the totals from each category in the series."
   ]
  },
  {
   "cell_type": "code",
   "execution_count": null,
   "id": "766f8679-ccce-4ae9-928a-fd022dbf1c26",
   "metadata": {},
   "outputs": [],
   "source": [
    "party = elections[\"Party\"]\n",
    "party.value_counts()"
   ]
  },
  {
   "cell_type": "code",
   "execution_count": null,
   "id": "39994f78-9593-439a-9a31-9e97ed5ca985",
   "metadata": {},
   "outputs": [],
   "source": [
    "elections.head()"
   ]
  },
  {
   "cell_type": "code",
   "execution_count": null,
   "id": "809082ac-952b-4e60-8176-f4e648b916ab",
   "metadata": {},
   "outputs": [],
   "source": [
    "percent = elections[\"%\"]\n",
    "percent.value_counts()"
   ]
  },
  {
   "cell_type": "code",
   "execution_count": null,
   "id": "7ef1c52e-d905-4715-9e33-40caea1018a9",
   "metadata": {},
   "outputs": [],
   "source": [
    "ufo = pd.read_csv('data/ufo.csv')\n",
    "ufo.head()"
   ]
  },
  {
   "cell_type": "code",
   "execution_count": null,
   "id": "306af8aa-dc9d-4451-afd1-202ab90f54ae",
   "metadata": {},
   "outputs": [],
   "source": [
    "ufo_idx = ufo.set_index('State')\n",
    "ufo_idx"
   ]
  },
  {
   "cell_type": "code",
   "execution_count": null,
   "id": "a77c8452-d596-439e-8170-dda96017933b",
   "metadata": {},
   "outputs": [],
   "source": [
    "ufo_idx.loc['NY'].head()"
   ]
  },
  {
   "cell_type": "code",
   "execution_count": null,
   "id": "8eb5ec2e-56ae-4099-b7dc-2be0eb2e7a2b",
   "metadata": {},
   "outputs": [],
   "source": [
    "ufo.loc[0]"
   ]
  },
  {
   "cell_type": "code",
   "execution_count": null,
   "id": "389ef5ee-e367-46f5-84a0-c0ec58347bd6",
   "metadata": {},
   "outputs": [],
   "source": [
    "ufo.iloc[0:2,2:4]"
   ]
  },
  {
   "cell_type": "code",
   "execution_count": null,
   "id": "752e4fd8-32b9-4e07-b475-1c6a884a76bd",
   "metadata": {},
   "outputs": [],
   "source": [
    "ufo[ufo['Shape Reported'] == 'LIGHT'].shape[0]"
   ]
  },
  {
   "cell_type": "markdown",
   "id": "c173b38f-ac7f-4707-9064-2b44f0ce6cd4",
   "metadata": {},
   "source": [
    "[goupby](https://pandas.pydata.org/docs/reference/api/pandas.DataFrame.groupby.html)"
   ]
  },
  {
   "cell_type": "code",
   "execution_count": null,
   "id": "d52ec2c6-a26f-45bb-ac36-ba4572014194",
   "metadata": {},
   "outputs": [],
   "source": [
    "ufo.columns"
   ]
  },
  {
   "cell_type": "code",
   "execution_count": null,
   "id": "e72a6dbd-da1a-42cc-b3b0-2493f41aea58",
   "metadata": {},
   "outputs": [],
   "source": [
    "ufo.groupby(\"State\").count()"
   ]
  },
  {
   "cell_type": "code",
   "execution_count": null,
   "id": "1e56df1e-0d0c-4d25-9a5e-be0720bbf885",
   "metadata": {},
   "outputs": [],
   "source": [
    "ufo.dtypes"
   ]
  },
  {
   "cell_type": "markdown",
   "id": "3a482aa9-d4e0-4560-bb8e-f79f4fb57425",
   "metadata": {},
   "source": [
    "## 2. More Pandas\n",
    "\n",
    "`.sample` "
   ]
  },
  {
   "cell_type": "code",
   "execution_count": null,
   "id": "1054ce6c-6c25-4550-840d-58104aa65ea2",
   "metadata": {},
   "outputs": [],
   "source": [
    "elections = pd.read_csv('data/elections.csv')\n",
    "elections.head()"
   ]
  },
  {
   "cell_type": "markdown",
   "id": "a04a2b53-1b8b-440c-9c16-3ffa44e65f30",
   "metadata": {},
   "source": [
    "Which of the following commands returns the dataframe below.\n",
    "\n",
    "<img src=\"images/elections1.jpg\" />\n",
    "\n",
    "1. `elections.iloc[[0, 3, 5], [0, 3]]`\n",
    "\n",
    "2. `elections.loc[[0, 3, 5], [\"Candidate\":\"Year\"]]`\n",
    "\n",
    "3. `elections.loc[elections[\"%\"] > 50, [\"Candidate\", \"Year\"]].head(3)`\n",
    "\n",
    "4. `elections.loc[elections[\"%\"] > 50, [\"Candidate\", \"Year\"]].iloc[0:2, :]`"
   ]
  },
  {
   "cell_type": "markdown",
   "id": "755706de-f85a-408c-a60e-4d925a205e10",
   "metadata": {},
   "source": [
    "`.sample`\n",
    "\n",
    "By default, it is **without replacement**. Use `replace=true` for replacement."
   ]
  },
  {
   "cell_type": "code",
   "execution_count": null,
   "id": "42fb20cc-1e7b-4183-bb83-b535fa5afc87",
   "metadata": {},
   "outputs": [],
   "source": []
  },
  {
   "cell_type": "markdown",
   "id": "3f9a8643-3357-4747-9c3d-6ba0cabf7723",
   "metadata": {},
   "source": [
    "`.query`"
   ]
  },
  {
   "cell_type": "code",
   "execution_count": null,
   "id": "15053613-e5f6-4a51-95a4-3926dfbb82ef",
   "metadata": {},
   "outputs": [],
   "source": []
  },
  {
   "cell_type": "markdown",
   "id": "473352a5-e612-49f3-806c-1355b406c0c4",
   "metadata": {},
   "source": [
    "## 3. More List Comprehensions"
   ]
  },
  {
   "cell_type": "code",
   "execution_count": null,
   "id": "08a3124f-34c6-4ab8-a1ef-98a16014b44f",
   "metadata": {},
   "outputs": [],
   "source": [
    "babynames = pd.read_csv('data/baby_names.csv', index_col = 0)\n",
    "babynames.head()"
   ]
  },
  {
   "cell_type": "code",
   "execution_count": null,
   "id": "a0ac5dda-1c06-415e-b5ba-f9e0aa3767d7",
   "metadata": {},
   "outputs": [],
   "source": [
    "j_names = babynames[[i[0] == 'J' for i in babynames['Name']]]\n",
    "j_names.head()"
   ]
  },
  {
   "cell_type": "code",
   "execution_count": null,
   "id": "8e84e233-2799-42d7-b694-f8d8c1ae8827",
   "metadata": {},
   "outputs": [],
   "source": [
    "j_names = babynames[[i.startswith('J') for i in babynames['Name']]]\n",
    "j_names.head()"
   ]
  },
  {
   "cell_type": "code",
   "execution_count": null,
   "id": "8bf9e47d-c6fc-4082-ac26-23569f2d986b",
   "metadata": {},
   "outputs": [],
   "source": [
    "j_names = babynames[babynames['Name'].str.startswith('J')]\n",
    "j_names.head()"
   ]
  },
  {
   "cell_type": "code",
   "execution_count": null,
   "id": "41b19e5b-5cc6-405c-9a64-544ebeb02b0e",
   "metadata": {},
   "outputs": [],
   "source": [
    "babynames[babynames['Name'].str.startswith('J')].sample(10)"
   ]
  },
  {
   "cell_type": "code",
   "execution_count": null,
   "id": "502823cb-8e17-409b-9b27-2cc916c37a4a",
   "metadata": {},
   "outputs": [],
   "source": [
    "babynames[babynames['Name'].str.contains('ad')].sample(10)"
   ]
  },
  {
   "cell_type": "markdown",
   "id": "f215cb81-e761-40d0-9322-adce352f544d",
   "metadata": {},
   "source": [
    "**Question:** \n",
    "\n",
    "Write a line of code that creates a list (or Series or array) of all names that end with `“ert”`."
   ]
  },
  {
   "cell_type": "code",
   "execution_count": null,
   "id": "138a9621-63e1-4e78-9df7-85271114df91",
   "metadata": {},
   "outputs": [],
   "source": []
  },
  {
   "cell_type": "markdown",
   "id": "87f7c9d1-02aa-4c29-bb1d-00a5074dfa23",
   "metadata": {},
   "source": [
    "## 4. Adding, Modifying, and Removing Columns\n",
    "\n",
    "`.str.len`"
   ]
  },
  {
   "cell_type": "code",
   "execution_count": null,
   "id": "3245aaf2-6937-4acd-945b-cf4f50f92eec",
   "metadata": {},
   "outputs": [],
   "source": [
    "babyname_lengths = babynames['Name'].str.len()\n",
    "babyname_lengths.head()"
   ]
  },
  {
   "cell_type": "code",
   "execution_count": null,
   "id": "a6cf2063-18b6-436e-a0e0-d697fe6ac482",
   "metadata": {},
   "outputs": [],
   "source": [
    "babynames[\"name_lengths\"] = babyname_lengths\n",
    "babynames.head()"
   ]
  },
  {
   "cell_type": "markdown",
   "id": "470d7690-c073-4ca3-9173-284a6a383d18",
   "metadata": {},
   "source": [
    "Sort the `babynames` dataframe by the values in the `name_lengths` column."
   ]
  },
  {
   "cell_type": "code",
   "execution_count": null,
   "id": "1fcd1e9d-c1f0-4d8d-be99-585e3709e8ac",
   "metadata": {},
   "outputs": [],
   "source": [
    "babynames.sort_values(by = ['name_lengths'])"
   ]
  },
  {
   "cell_type": "code",
   "execution_count": null,
   "id": "3289d3e6-67d9-4b65-8e5e-17c27ed1d975",
   "metadata": {},
   "outputs": [],
   "source": [
    "babynames.sort_values(by = ['...'], ascending = ...)"
   ]
  },
  {
   "cell_type": "code",
   "execution_count": null,
   "id": "06d3a336-ba5a-4980-b36a-5e1865528bdd",
   "metadata": {},
   "outputs": [],
   "source": [
    "babynames.head()"
   ]
  },
  {
   "cell_type": "code",
   "execution_count": null,
   "id": "caadeb8c-f6e1-40e1-af6e-70a0144d8f6f",
   "metadata": {},
   "outputs": [],
   "source": [
    "babynames.sort_values(by = ['...'], ascending = ..., inplace = ...)\n",
    "babynames.head()"
   ]
  },
  {
   "cell_type": "markdown",
   "id": "be12720a-7d50-4720-b5d0-02cf63a9eb02",
   "metadata": {},
   "source": [
    "`.drop`"
   ]
  },
  {
   "cell_type": "code",
   "execution_count": null,
   "id": "dd88651e-293c-4230-bea9-63b94149be0c",
   "metadata": {},
   "outputs": [],
   "source": [
    "babynames = babynames.drop('...', axis = ... )\n",
    "babynames.head()"
   ]
  },
  {
   "cell_type": "markdown",
   "id": "6cd4de73-1d7b-4342-a3b3-da61b100a567",
   "metadata": {},
   "source": [
    "## 5. Groupby and Aggregate\n",
    "\n",
    "For common operations, rather than saying e.g. `groupby.agg(sum)`, we can instead do `groupby.sum()`"
   ]
  },
  {
   "cell_type": "code",
   "execution_count": null,
   "id": "36e8f34b-ada7-4cac-a2b1-97a40d8e2792",
   "metadata": {},
   "outputs": [],
   "source": [
    "elections.groupby(\"...\").agg(sum).head()"
   ]
  },
  {
   "cell_type": "code",
   "execution_count": null,
   "id": "f3329e7e-4f12-43de-bb93-b3fede675e77",
   "metadata": {},
   "outputs": [],
   "source": [
    "elections.groupby(\"...\").sum().head()"
   ]
  },
  {
   "cell_type": "markdown",
   "id": "687e448b-e33e-4b71-a032-6804b60ce413",
   "metadata": {},
   "source": [
    "Be careful when using `.groupby` and `.agg`."
   ]
  },
  {
   "cell_type": "code",
   "execution_count": null,
   "id": "9e3c1ed4-7639-47da-b366-8e1ab85dd1ea",
   "metadata": {},
   "outputs": [],
   "source": [
    "elections.groupby(\"Party\").agg(max)"
   ]
  },
  {
   "cell_type": "markdown",
   "id": "1e574b99-1b28-492f-a28f-9f19733e1894",
   "metadata": {},
   "source": [
    "**Challenge** \n",
    "\n",
    "Suppose we want to build a table showing the total number of babies born of each sex in each year. "
   ]
  },
  {
   "cell_type": "markdown",
   "id": "4b00944d-061c-44fa-9f44-d2d8f6124063",
   "metadata": {},
   "source": [
    "## 5.  Pivot Tables\n",
    "\n",
    "What is a [pivot table](https://en.wikipedia.org/wiki/Pivot_table)?"
   ]
  },
  {
   "cell_type": "code",
   "execution_count": null,
   "id": "bf0d3206-ed89-4e3d-840b-5739d447d2ff",
   "metadata": {},
   "outputs": [],
   "source": [
    "babynames.groupby(['...', '...']).agg(sum).head()"
   ]
  },
  {
   "cell_type": "code",
   "execution_count": null,
   "id": "c08d4e34-b368-4de6-ae91-be00ea47625f",
   "metadata": {},
   "outputs": [],
   "source": [
    "babynames_pivot = babynames.pivot_table(\n",
    "    index = '...',\n",
    "    columns = '...',\n",
    "    values = '...',\n",
    "    aggfunc = ...\n",
    ")\n",
    "babynames_pivot.head()"
   ]
  },
  {
   "cell_type": "code",
   "execution_count": null,
   "id": "a2055bea-9ec8-4678-bec3-018c67054f8e",
   "metadata": {},
   "outputs": [],
   "source": []
  }
 ],
 "metadata": {
  "kernelspec": {
   "display_name": "Python 3 (ipykernel)",
   "language": "python",
   "name": "python3"
  },
  "language_info": {
   "codemirror_mode": {
    "name": "ipython",
    "version": 3
   },
   "file_extension": ".py",
   "mimetype": "text/x-python",
   "name": "python",
   "nbconvert_exporter": "python",
   "pygments_lexer": "ipython3",
   "version": "3.10.5"
  }
 },
 "nbformat": 4,
 "nbformat_minor": 5
}
