{
 "cells": [
  {
   "cell_type": "markdown",
   "id": "9f1c69c4-ba3c-405c-a420-c3f2083c1817",
   "metadata": {},
   "source": [
    "# Lesson 05: Data Sampling\n",
    "\n",
    "We will use this lesson to introduce the `pandas` module. `pandas` is a fast, powerful, flexible and easy to use open source data analysis and manipulation tool, built on top of the Python programming language.\n",
    "\n",
    "The main object we will use is the `DataFrame`. This is similar in structure to the `Table` object from the `datascience` library we used in the Foundations of Data Science course."
   ]
  },
  {
   "cell_type": "code",
   "execution_count": null,
   "id": "5a5c15ef-bb40-41f2-a7ba-dfeabeab0cda",
   "metadata": {},
   "outputs": [],
   "source": [
    "from datascience import *\n",
    "import numpy as np\n",
    "import matplotlib.pyplot as plt\n",
    "%matplotlib inline"
   ]
  },
  {
   "cell_type": "markdown",
   "id": "9ec1814d-0e48-46dc-a571-0bb60991405f",
   "metadata": {},
   "source": [
    "## Fake Election Data Set\n",
    "\n",
    "Import the `gotham.csv` data set into `Table`. The file is located in the data folder. This fake data set contains information on every registered voter in Gotham City."
   ]
  },
  {
   "cell_type": "code",
   "execution_count": null,
   "id": "93d11664-1e9e-4683-a52a-3b985bdbaa2f",
   "metadata": {},
   "outputs": [],
   "source": [
    "gotham_table = ...\n",
    "gotham_table"
   ]
  },
  {
   "cell_type": "markdown",
   "id": "1843250e-35bc-4d0d-a113-bdd0e1bafe7a",
   "metadata": {},
   "source": [
    "Use the code cells below (add more if you like) to explore the `gotham` table. You'll be required to give a brief synopsis of your initial EDA (Exploratory Data Analysis)."
   ]
  },
  {
   "cell_type": "code",
   "execution_count": null,
   "id": "5fdef491-abe6-4aa4-b8c9-c2ec85926996",
   "metadata": {},
   "outputs": [],
   "source": []
  },
  {
   "cell_type": "code",
   "execution_count": null,
   "id": "28bb1173-c790-4935-8c5c-2c363c7c632a",
   "metadata": {},
   "outputs": [],
   "source": []
  },
  {
   "cell_type": "code",
   "execution_count": null,
   "id": "7a8666b7-0002-4ac5-802b-2d2911014931",
   "metadata": {},
   "outputs": [],
   "source": []
  },
  {
   "cell_type": "code",
   "execution_count": null,
   "id": "4595fc97-992d-4662-850e-e2d125a37696",
   "metadata": {},
   "outputs": [],
   "source": []
  },
  {
   "cell_type": "markdown",
   "id": "97f9ee97-7dfa-410f-be37-3cd294001022",
   "metadata": {},
   "source": [
    "In this course we'll be using `pandas`. Let's load the `gotham.csv` file into  `pandas DataFrame`. The `pandas` User Guide can be found [here](https://pandas.pydata.org/docs/user_guide/index.html#user-guide)."
   ]
  },
  {
   "cell_type": "code",
   "execution_count": null,
   "id": "c63f5d25-96eb-4fd6-9852-4f4ba4154f06",
   "metadata": {},
   "outputs": [],
   "source": []
  },
  {
   "cell_type": "code",
   "execution_count": null,
   "id": "11b89706-c271-4ab8-ad0c-de8786cf35cf",
   "metadata": {},
   "outputs": [],
   "source": [
    "gotham = ...\n",
    "gotham"
   ]
  },
  {
   "cell_type": "markdown",
   "id": "13eebee8-26ba-479d-9653-7b3a2a87a503",
   "metadata": {},
   "source": [
    "## The Basics of a `pandas DataFrame`"
   ]
  },
  {
   "cell_type": "code",
   "execution_count": null,
   "id": "7fbee89f-6bf0-44c4-8a30-33ca90a036f6",
   "metadata": {},
   "outputs": [],
   "source": []
  },
  {
   "cell_type": "code",
   "execution_count": null,
   "id": "c3a3bafa-0581-408c-8dbc-8feeba73c367",
   "metadata": {},
   "outputs": [],
   "source": []
  },
  {
   "cell_type": "code",
   "execution_count": null,
   "id": "ff7f4989-4c8d-4e10-a5f3-f14400fdcc08",
   "metadata": {},
   "outputs": [],
   "source": []
  },
  {
   "cell_type": "code",
   "execution_count": null,
   "id": "683840f8-0cb1-493d-a14b-d4bb5c227acc",
   "metadata": {},
   "outputs": [],
   "source": []
  },
  {
   "cell_type": "code",
   "execution_count": null,
   "id": "e9232494-0aec-4360-bddd-0a21d733fd8d",
   "metadata": {},
   "outputs": [],
   "source": []
  },
  {
   "cell_type": "markdown",
   "id": "d491004b-2fd8-43e2-8304-bf83c20187d0",
   "metadata": {},
   "source": [
    "**Example 1.** What percentage of voters are planning to vote for the Democrat candidate?"
   ]
  },
  {
   "cell_type": "code",
   "execution_count": null,
   "id": "1881f96d-99d7-457f-ba91-4b42129b0243",
   "metadata": {},
   "outputs": [],
   "source": []
  },
  {
   "cell_type": "markdown",
   "id": "800de79e-addc-480e-925f-9581d8f2d8f5",
   "metadata": {},
   "source": [
    "**Example 2.** How many people are retired?"
   ]
  },
  {
   "cell_type": "code",
   "execution_count": null,
   "id": "59abcdf5-ae5f-4c77-abe5-92ac83ae8890",
   "metadata": {},
   "outputs": [],
   "source": []
  },
  {
   "cell_type": "markdown",
   "id": "30c4955a-a529-4774-bc11-b4326962a007",
   "metadata": {},
   "source": [
    "**Example 3.** Suppose we take a convenience sample of everyone who is retired?"
   ]
  },
  {
   "cell_type": "code",
   "execution_count": null,
   "id": "cf871bf2-b5db-4cad-9ec8-d1221ea89e0e",
   "metadata": {},
   "outputs": [],
   "source": []
  },
  {
   "cell_type": "code",
   "execution_count": null,
   "id": "3972d30d-b6c2-459c-a41d-7eb28a04abf0",
   "metadata": {},
   "outputs": [],
   "source": []
  },
  {
   "cell_type": "markdown",
   "id": "92875261-3478-4b89-bb5c-a2f0b3cb600c",
   "metadata": {},
   "source": [
    "**Example 4.** What percentage of voters are planning to vote Democrat by age and male/female?"
   ]
  },
  {
   "cell_type": "code",
   "execution_count": null,
   "id": "1ac42038-3203-4a6e-9182-31b4ab4a3f6a",
   "metadata": {},
   "outputs": [],
   "source": [
    "votes_by_demo = gotham.groupby([\"age\",\"is.male\"]).agg(\"mean\")\n",
    "votes_by_demo = votes_by_demo.reset_index()"
   ]
  },
  {
   "cell_type": "code",
   "execution_count": null,
   "id": "a1f0c20a-1fe1-4318-859a-6b97938317f2",
   "metadata": {},
   "outputs": [],
   "source": [
    "import matplotlib.pyplot as plt\n",
    "import matplotlib.ticker as ticker\n",
    "import seaborn as sns"
   ]
  },
  {
   "cell_type": "code",
   "execution_count": null,
   "id": "61856b56-a504-42bb-8cc4-61f744d8e20e",
   "metadata": {},
   "outputs": [],
   "source": [
    "fig = plt.figure();\n",
    "red_blue = [\"#bf1518\", \"#397eb7\"]\n",
    "with sns.color_palette(sns.color_palette(red_blue)):\n",
    "    ax = sns.pointplot(data = votes_by_demo, x = \"age\", y = \"vote.dem\", hue = \"is.male\")\n",
    "\n",
    "ax.set_title(\"Voting preferences by demographics\")\n",
    "fig.canvas.draw()\n",
    "new_ticks = [i.get_text() for i in ax.get_xticklabels()];\n",
    "plt.xticks(range(0, len(new_ticks), 10), new_ticks[::10]);"
   ]
  },
  {
   "cell_type": "markdown",
   "id": "c1bd467c-e98b-418a-ae1d-197bbca9c918",
   "metadata": {},
   "source": [
    "**Example 5.** What if we instead took a simple random sample? How big would it need to be to outperform our convenience sample?"
   ]
  },
  {
   "cell_type": "code",
   "execution_count": null,
   "id": "079398da-8940-4050-a703-735ed8295ad0",
   "metadata": {},
   "outputs": [],
   "source": [
    "random_sample = gotham.sample(1000, replace = False)\n",
    "100 * np.mean(random_sample[\"vote.dem\"])"
   ]
  },
  {
   "cell_type": "code",
   "execution_count": null,
   "id": "b92a1d4d-8e21-4dbb-9473-dc6de6157d4b",
   "metadata": {},
   "outputs": [],
   "source": []
  },
  {
   "cell_type": "markdown",
   "id": "faf28a2b-0470-4edc-80cf-c95161788a1e",
   "metadata": {},
   "source": [
    "**Example 6.** What if older voters are more likely to answer the phone??"
   ]
  },
  {
   "cell_type": "code",
   "execution_count": null,
   "id": "7fab06ba-4023-4e1b-8f63-779e5313090a",
   "metadata": {},
   "outputs": [],
   "source": []
  }
 ],
 "metadata": {
  "kernelspec": {
   "display_name": "Python 3 (ipykernel)",
   "language": "python",
   "name": "python3"
  },
  "language_info": {
   "codemirror_mode": {
    "name": "ipython",
    "version": 3
   },
   "file_extension": ".py",
   "mimetype": "text/x-python",
   "name": "python",
   "nbconvert_exporter": "python",
   "pygments_lexer": "ipython3",
   "version": "3.10.5"
  }
 },
 "nbformat": 4,
 "nbformat_minor": 5
}
