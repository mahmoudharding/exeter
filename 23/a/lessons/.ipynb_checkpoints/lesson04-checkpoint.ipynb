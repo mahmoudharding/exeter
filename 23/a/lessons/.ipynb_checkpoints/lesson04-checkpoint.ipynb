{
 "cells": [
  {
   "cell_type": "markdown",
   "id": "ec2f4a5e-2e9e-457d-a25e-2f1998c16691",
   "metadata": {},
   "source": [
    "# Lesson 04: Python Basics"
   ]
  },
  {
   "cell_type": "markdown",
   "id": "0b09916b-61e4-4dd9-b22a-15acc462475d",
   "metadata": {},
   "source": [
    "## 0. Prerequisite Knowledge\n",
    "\n",
    "### Data Types\n",
    "- Numerical: `int`, `float`\n",
    "\n",
    "- Categorical: `str`\n",
    "\n",
    "- Boolean: `bool` (`True`, `False`)\n",
    "\n",
    "### Control Structures\n",
    "\n",
    "- `for` loop\n",
    "\n",
    "- `if`, `elif`,  `else` \n",
    "\n",
    "## Collection Arrays\n",
    "\n",
    "- List\n",
    "\n",
    "- Tuple\n",
    "\n",
    "- Dictionary\n",
    "\n",
    "- Set (not part of this course)"
   ]
  },
  {
   "cell_type": "markdown",
   "id": "3ccdb745-45ca-4a39-b212-42722a359d66",
   "metadata": {},
   "source": [
    "### Lists\n",
    "\n",
    "- Lists are used to store multiple items in a single variable.\n",
    "- Lists are created using square brackets `[ ]`"
   ]
  },
  {
   "cell_type": "code",
   "execution_count": null,
   "id": "89df430d-88fa-41a1-9bf4-c2d7af4d9acb",
   "metadata": {},
   "outputs": [],
   "source": [
    "my_list = [1, 3, 7, 5, 9]\n",
    "my_list"
   ]
  },
  {
   "cell_type": "code",
   "execution_count": null,
   "id": "e998ed41-3622-4fbe-ac9e-dd22a2a2b14e",
   "metadata": {},
   "outputs": [],
   "source": [
    "my_list.sort()\n",
    "my_list"
   ]
  },
  {
   "cell_type": "code",
   "execution_count": null,
   "id": "9c89a3f5-3022-4702-81a8-67bac7e54ee4",
   "metadata": {},
   "outputs": [],
   "source": [
    "letters = ['a', 'c', 'b', 'M', 'B', 'A'] \n",
    "letters"
   ]
  },
  {
   "cell_type": "code",
   "execution_count": null,
   "id": "e4ab051b-671a-4da4-bad9-0a5afbd3f30b",
   "metadata": {},
   "outputs": [],
   "source": [
    "letters.sort()\n",
    "letters"
   ]
  },
  {
   "cell_type": "code",
   "execution_count": 1,
   "id": "9b643f0e-c8c7-469c-9c87-e92239ea2f7f",
   "metadata": {},
   "outputs": [
    {
     "data": {
      "text/plain": [
       "['alex', 'Robert', 'ray', 'Zaynab']"
      ]
     },
     "execution_count": 1,
     "metadata": {},
     "output_type": "execute_result"
    }
   ],
   "source": [
    "names = ['alex', 'Robert', 'ray', 'Zaynab']\n",
    "names"
   ]
  },
  {
   "cell_type": "code",
   "execution_count": 3,
   "id": "5f2a17b9-f64b-4a37-9835-9705fe590dac",
   "metadata": {},
   "outputs": [
    {
     "data": {
      "text/plain": [
       "['Robert', 'Zaynab', 'alex', 'ray']"
      ]
     },
     "execution_count": 3,
     "metadata": {},
     "output_type": "execute_result"
    }
   ],
   "source": [
    "names.sort()\n",
    "names"
   ]
  },
  {
   "cell_type": "code",
   "execution_count": null,
   "id": "09146eb3-8d50-421b-b96f-feb4bf699fb4",
   "metadata": {},
   "outputs": [],
   "source": [
    "type(...)"
   ]
  },
  {
   "cell_type": "markdown",
   "id": "c5ec46a4-cf83-4983-a9e7-e3efb0bcc796",
   "metadata": {},
   "source": [
    "- List items are ordered, mutable (i.e. changeable), and allow duplicate values.\n",
    "\n",
    "- List items are indexed, the first item has index `[0]`, the second item has index `[1]` etc.\n",
    "\n",
    "- The items have a defined order, and that order will not change.\n",
    "\n",
    "- If you add new items to a list, the new items will be placed at the end of the list."
   ]
  },
  {
   "cell_type": "code",
   "execution_count": null,
   "id": "c83cf678-5056-4730-a5a8-7648d259e2c2",
   "metadata": {},
   "outputs": [],
   "source": [
    "my_list[...]"
   ]
  },
  {
   "cell_type": "code",
   "execution_count": null,
   "id": "7c86da3f-1bc8-4c54-b01c-b7ec7f1f0b5a",
   "metadata": {},
   "outputs": [],
   "source": [
    "len(...)"
   ]
  },
  {
   "cell_type": "markdown",
   "id": "8f56f57c-66e9-4568-ad97-b7780a11837d",
   "metadata": {},
   "source": [
    "**Example 1.** Use a `for` loop to print all the items in `my_list`."
   ]
  },
  {
   "cell_type": "code",
   "execution_count": null,
   "id": "4d2cf722-5db6-40f0-a985-1eec91c0adb7",
   "metadata": {},
   "outputs": [],
   "source": [
    "..."
   ]
  },
  {
   "cell_type": "code",
   "execution_count": null,
   "id": "f5eb93bc-601d-44c7-93df-3cb1c3c05e6a",
   "metadata": {},
   "outputs": [],
   "source": [
    "..."
   ]
  },
  {
   "cell_type": "markdown",
   "id": "c67500bb-fd35-4598-b1b0-45d14666f766",
   "metadata": {},
   "source": [
    "**Example 2.** Use a `for` loop to print all the items in `my_list`.\n",
    "\n",
    "```\n",
    "The index for element 1 is 0\n",
    "The index for element 3 is 1\n",
    "The index for element 5 is 2\n",
    "The index for element 7 is 3\n",
    "The index for element 9 is 4\n",
    "```"
   ]
  },
  {
   "cell_type": "code",
   "execution_count": null,
   "id": "ca0256b0-b10d-46d2-862e-71ce55c0561e",
   "metadata": {},
   "outputs": [],
   "source": [
    "..."
   ]
  },
  {
   "cell_type": "markdown",
   "id": "5af235d6-6f82-47d8-bf78-14208708c9b5",
   "metadata": {},
   "source": [
    "**Example 3.** Add 11 to `my_list`."
   ]
  },
  {
   "cell_type": "code",
   "execution_count": null,
   "id": "0dca3fb6-4dd5-49eb-a489-64befea158e1",
   "metadata": {},
   "outputs": [],
   "source": [
    "..."
   ]
  },
  {
   "cell_type": "code",
   "execution_count": null,
   "id": "18a1fea7-0bc3-493c-ab79-ebfe09faed1d",
   "metadata": {},
   "outputs": [],
   "source": [
    "my_list"
   ]
  },
  {
   "cell_type": "markdown",
   "id": "17dd9221-f2de-40c1-9a21-3ad94dc45ee4",
   "metadata": {},
   "source": [
    "- A list is mutable - meaning we can change, add, and remove items in a list after it has been created.\n",
    "\n",
    "  - Remove all items: `.clear()`\n",
    "\n",
    "  - Remove an item by index and get its value: `.pop()`\n",
    "\n",
    "  - Remove an item by value: `.remove()`\n",
    "\n",
    "  - Remove items by index or slice: `del()`\n",
    "  \n",
    "  \n",
    "**Example 4.** Remove 9 from `my_list`."
   ]
  },
  {
   "cell_type": "code",
   "execution_count": null,
   "id": "c9626982-7519-4214-ab1d-3a86b2cef198",
   "metadata": {},
   "outputs": [],
   "source": [
    "..."
   ]
  },
  {
   "cell_type": "code",
   "execution_count": null,
   "id": "cded8a6c-f765-4442-b3d9-56ecbcbb377d",
   "metadata": {},
   "outputs": [],
   "source": [
    "my_list"
   ]
  },
  {
   "cell_type": "markdown",
   "id": "d5b6aeeb-6f17-4e68-9745-7adf97d0019b",
   "metadata": {},
   "source": [
    "`.pop()` removes an item by index."
   ]
  },
  {
   "cell_type": "code",
   "execution_count": null,
   "id": "0e1ae07e-86cf-40fc-a0e9-492a00dadeba",
   "metadata": {},
   "outputs": [],
   "source": [
    "my_list.pop(2)"
   ]
  },
  {
   "cell_type": "code",
   "execution_count": null,
   "id": "941a94b9-92c8-4e89-8213-6fc58c46675e",
   "metadata": {},
   "outputs": [],
   "source": [
    "my_list"
   ]
  },
  {
   "cell_type": "code",
   "execution_count": null,
   "id": "b64037b2-7bbf-47ba-a543-ec38eeb833e1",
   "metadata": {},
   "outputs": [],
   "source": [
    "my_school = ['North', 'Carolina', 'School', 'Science', 'Mathematics']\n",
    "my_school"
   ]
  },
  {
   "cell_type": "code",
   "execution_count": null,
   "id": "248cbd20-84e7-4e83-9e08-9a4ea2bd3bc7",
   "metadata": {},
   "outputs": [],
   "source": [
    "my_school.append(1980)"
   ]
  },
  {
   "cell_type": "code",
   "execution_count": null,
   "id": "168aa953-e305-4713-8e07-c0e0c334318b",
   "metadata": {},
   "outputs": [],
   "source": [
    "my_school"
   ]
  },
  {
   "cell_type": "code",
   "execution_count": null,
   "id": "0afb9eed-8cda-4778-a679-e9dc443de4c4",
   "metadata": {},
   "outputs": [],
   "source": [
    "my_school.append(2**0.5)"
   ]
  },
  {
   "cell_type": "code",
   "execution_count": null,
   "id": "7df56bb5-8c14-41af-b833-abea105cc2f1",
   "metadata": {},
   "outputs": [],
   "source": [
    "my_school"
   ]
  },
  {
   "cell_type": "markdown",
   "id": "c26b18ad-9c92-4ff4-a270-775b30de7d42",
   "metadata": {},
   "source": [
    "### List Comprehension"
   ]
  },
  {
   "cell_type": "code",
   "execution_count": null,
   "id": "4df5df0e-6005-468e-9f8b-54fc041da8a6",
   "metadata": {},
   "outputs": [],
   "source": [
    "odd_to_99 = [number for number in range(1, 100, 2)]\n",
    "print(odd_to_99)"
   ]
  },
  {
   "cell_type": "markdown",
   "id": "484c33e8-e4b5-4e24-852a-64c99b1b94a9",
   "metadata": {},
   "source": [
    "### Tuples\n",
    "\n",
    "- Tuples are used to store multiple items in a single variable.\n",
    "\n",
    "- Tuples are written with parentheses ( )"
   ]
  },
  {
   "cell_type": "code",
   "execution_count": null,
   "id": "87ba18f0-9898-431d-a0a0-f67f30a98539",
   "metadata": {},
   "outputs": [],
   "source": [
    "my_tuple = (2, 4, 6, 8)\n",
    "my_tuple"
   ]
  },
  {
   "cell_type": "code",
   "execution_count": null,
   "id": "a0872d0e-2380-43ad-962d-ca13e770781b",
   "metadata": {},
   "outputs": [],
   "source": [
    "len(my_tuple)"
   ]
  },
  {
   "cell_type": "code",
   "execution_count": null,
   "id": "f46333da-d74a-4157-8b8c-7c245b59debc",
   "metadata": {},
   "outputs": [],
   "source": [
    "my_tuple[0]"
   ]
  },
  {
   "cell_type": "markdown",
   "id": "0a5ec5fa-1b60-4151-86b7-7f0be25fa2c4",
   "metadata": {},
   "source": [
    "- `.index()` searches the tuple for a specified value and returns the position of where it was found"
   ]
  },
  {
   "cell_type": "code",
   "execution_count": null,
   "id": "7703592d-ba68-47a6-90ff-ee01e26703cd",
   "metadata": {},
   "outputs": [],
   "source": [
    "my_tuple.index(8)"
   ]
  },
  {
   "cell_type": "code",
   "execution_count": null,
   "id": "8c1dadfd-b227-44ab-9887-7e19de52bc99",
   "metadata": {},
   "outputs": [],
   "source": [
    "for number in my_tuple:\n",
    "    print(number)"
   ]
  },
  {
   "cell_type": "code",
   "execution_count": null,
   "id": "9d227810-2445-4fb0-8b21-49c13d50f796",
   "metadata": {},
   "outputs": [],
   "source": [
    "ds_course_codes = ('MA4110', 'MA4112')\n",
    "ds_course_codes"
   ]
  },
  {
   "cell_type": "markdown",
   "id": "a79f90cf-a1a6-4816-8a2c-01ddf9798dfa",
   "metadata": {},
   "source": [
    "### Dictionaries\n",
    "\n",
    "- Dictionaries are used to store data values in `key : value` pairs.\n",
    "\n",
    "- A dictionary is a collection which is ordered, changeable and do not allow duplicate keys.."
   ]
  },
  {
   "cell_type": "code",
   "execution_count": null,
   "id": "f17ece62-9522-4130-bf4c-f2a428c67145",
   "metadata": {
    "tags": []
   },
   "outputs": [],
   "source": [
    "my_dictionary = {\"a\":\"apple\", \"b\":\"banana\",\"c\":\"carrot\"}\n",
    "my_dictionary"
   ]
  },
  {
   "cell_type": "code",
   "execution_count": null,
   "id": "7e8a9e67-825b-417d-887b-5cb0d72e978c",
   "metadata": {},
   "outputs": [],
   "source": [
    "my_dictionary['a']"
   ]
  },
  {
   "cell_type": "code",
   "execution_count": 1,
   "id": "a2abce83-827a-4bdc-a599-67cce4db34f1",
   "metadata": {},
   "outputs": [
    {
     "data": {
      "text/plain": [
       "{'name': 'Mahmoud', 'age': 50, 'country': 'US'}"
      ]
     },
     "execution_count": 1,
     "metadata": {},
     "output_type": "execute_result"
    }
   ],
   "source": [
    "my_info = dict(name = \"Mahmoud\", age = 50, country = \"US\")\n",
    "my_info"
   ]
  },
  {
   "cell_type": "code",
   "execution_count": 2,
   "id": "3e9eef7a-9dc3-4b97-9ddd-3c01a370c7c3",
   "metadata": {},
   "outputs": [
    {
     "data": {
      "text/plain": [
       "{'name': ['Mahmoud', 'John', 'Karen', 'Kathy'],\n",
       " 'age': [50, 25, 45, 33],\n",
       " 'country': 'US'}"
      ]
     },
     "execution_count": 2,
     "metadata": {},
     "output_type": "execute_result"
    }
   ],
   "source": [
    "dept_info = dict(name = ['Mahmoud', 'John', 'Karen', 'Kathy'], age = [50, 25, 45, 33], country = \"US\")\n",
    "dept_info"
   ]
  },
  {
   "cell_type": "markdown",
   "id": "31be5bef-4e9e-491d-b929-8310f676404a",
   "metadata": {},
   "source": [
    "dept_info['name'][0]"
   ]
  },
  {
   "cell_type": "code",
   "execution_count": 3,
   "id": "268471cc-1ac9-478f-99ee-856fd9c445dc",
   "metadata": {},
   "outputs": [
    {
     "data": {
      "text/plain": [
       "{'name': ['Mahmoud', 'John', 'Karen', 'Kathy'],\n",
       " 'age': [50, 25, 45, 33],\n",
       " 'country': 'US',\n",
       " 'dept': 'math'}"
      ]
     },
     "execution_count": 3,
     "metadata": {},
     "output_type": "execute_result"
    }
   ],
   "source": [
    "dept_info[\"dept\"] = \"math\"\n",
    "dept_info"
   ]
  },
  {
   "cell_type": "code",
   "execution_count": 4,
   "id": "3b28e784-4088-4cbc-bec9-7cd9a23f1db8",
   "metadata": {},
   "outputs": [],
   "source": [
    "dept_info['name'].append('Jayson')"
   ]
  },
  {
   "cell_type": "code",
   "execution_count": 5,
   "id": "2e728806-ac53-4e4a-804a-bffcf7863450",
   "metadata": {},
   "outputs": [
    {
     "data": {
      "text/plain": [
       "{'name': ['Mahmoud', 'John', 'Karen', 'Kathy', 'Jayson'],\n",
       " 'age': [50, 25, 45, 33],\n",
       " 'country': 'US',\n",
       " 'dept': 'math'}"
      ]
     },
     "execution_count": 5,
     "metadata": {},
     "output_type": "execute_result"
    }
   ],
   "source": [
    "dept_info"
   ]
  },
  {
   "cell_type": "markdown",
   "id": "5ef48ca3-6920-495f-9852-eacfd20d0dd3",
   "metadata": {},
   "source": [
    "**Example 5.** Below are two lists combine them into a dictionary using the `zip()` function."
   ]
  },
  {
   "cell_type": "code",
   "execution_count": null,
   "id": "f36c8ad9-b465-4878-9b9c-111e90e14cf6",
   "metadata": {},
   "outputs": [],
   "source": [
    "keys = [x for x in \"abcdefgh\"]\n",
    "values = [y for y in range(0,8)]\n",
    "\n"
   ]
  },
  {
   "cell_type": "markdown",
   "id": "15193bd7-c977-4807-8d2e-2f0872b9a431",
   "metadata": {},
   "source": [
    "**Example 6.** Create the following dictionary using dictionary comprehensions.\n",
    "\n",
    "```\n",
    "{0: 0, 1: 1, 2: 2, 3: 3, 4: 4, 5: 5}\n",
    "```"
   ]
  },
  {
   "cell_type": "code",
   "execution_count": null,
   "id": "fd499336-4378-4593-950e-33e0b1255a23",
   "metadata": {},
   "outputs": [],
   "source": [
    "..."
   ]
  },
  {
   "cell_type": "markdown",
   "id": "17e74ee0-573e-463f-bc59-6028b41bba35",
   "metadata": {},
   "source": [
    "**Example 7.** Create the following dictionary using dictionary comprehensions.\n",
    "\n",
    "```\n",
    "{'a': 0, 'b': 1, 'c': 4, 'd': 9, 'e': 16, 'f': 25}\n",
    "```"
   ]
  },
  {
   "cell_type": "code",
   "execution_count": null,
   "id": "f3437094-4377-4a17-9f77-b20b250c52e2",
   "metadata": {},
   "outputs": [],
   "source": [
    "..."
   ]
  },
  {
   "cell_type": "code",
   "execution_count": null,
   "id": "a776ba43-38e4-4b94-a2e4-a7997754c4e8",
   "metadata": {},
   "outputs": [],
   "source": [
    "AFCDivisions = {\n",
    "\"North\": [\"Steelers\", \"Browns\", \"Ravens\", \"Bengals\"],\n",
    "\"East\" : [\"Patriots\", \"Jets\", \"Dolphins\", \"Bills\"],\n",
    "\"West\" : [\"Raiders\", \"Chiefs\", \"Chargers\", \"Broncos\"]\n",
    "}\n",
    "AFCDivisions[\"North\"]"
   ]
  },
  {
   "cell_type": "code",
   "execution_count": null,
   "id": "29e99dd5-2c0e-4928-97dc-8759a1c8cd51",
   "metadata": {},
   "outputs": [],
   "source": [
    "AFCDivisions.keys()"
   ]
  },
  {
   "cell_type": "code",
   "execution_count": null,
   "id": "256f599e-dfcc-443e-a123-0e7bef79c2a5",
   "metadata": {},
   "outputs": [],
   "source": [
    "for key in AFCDivisions.keys():\n",
    "    print(key)"
   ]
  },
  {
   "cell_type": "code",
   "execution_count": null,
   "id": "337d9f1b-90bc-48fd-bb74-deb47289e4b0",
   "metadata": {},
   "outputs": [],
   "source": [
    "for key in AFCDivisions:\n",
    "    print(key,':',AFCDivisions[key])"
   ]
  },
  {
   "cell_type": "code",
   "execution_count": null,
   "id": "05487c95-2811-4ab2-bcbc-d4ab71db08a3",
   "metadata": {},
   "outputs": [],
   "source": [
    "AFCDivisions.get('North')"
   ]
  },
  {
   "cell_type": "code",
   "execution_count": null,
   "id": "a694af05-7c0a-4696-8925-408281e5b591",
   "metadata": {},
   "outputs": [],
   "source": [
    "AFCDivisions.get('North')[0]"
   ]
  },
  {
   "cell_type": "code",
   "execution_count": null,
   "id": "23883327-68eb-4338-bc16-c06663baae87",
   "metadata": {},
   "outputs": [],
   "source": [
    "AFCDivisions.values()"
   ]
  }
 ],
 "metadata": {
  "kernelspec": {
   "display_name": "Python 3 (ipykernel)",
   "language": "python",
   "name": "python3"
  },
  "language_info": {
   "codemirror_mode": {
    "name": "ipython",
    "version": 3
   },
   "file_extension": ".py",
   "mimetype": "text/x-python",
   "name": "python",
   "nbconvert_exporter": "python",
   "pygments_lexer": "ipython3",
   "version": "3.10.5"
  }
 },
 "nbformat": 4,
 "nbformat_minor": 5
}
