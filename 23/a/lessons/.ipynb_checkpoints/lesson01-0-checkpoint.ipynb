{
 "cells": [
  {
   "cell_type": "markdown",
   "id": "ec2f4a5e-2e9e-457d-a25e-2f1998c16691",
   "metadata": {},
   "source": [
    "# Lesson 01: The Data Science Lifecycle"
   ]
  },
  {
   "cell_type": "code",
   "execution_count": 1,
   "id": "3ea4a468-4e8e-4cc9-ba25-1960cac78b87",
   "metadata": {},
   "outputs": [],
   "source": [
    "import pandas as pd\n",
    "import numpy as np\n",
    "np.random.seed(24)\n",
    "\n",
    "import matplotlib.pyplot as plt\n",
    "plt.style.use('fivethirtyeight')\n",
    "%matplotlib inline"
   ]
  },
  {
   "cell_type": "markdown",
   "id": "0b09916b-61e4-4dd9-b22a-15acc462475d",
   "metadata": {},
   "source": [
    "## 1. Simple Questions about the Class\n",
    "\n",
    "- How many students do we have?\n",
    "\n",
    "- What are their majors?\n",
    "\n",
    "- What year are they?\n",
    "\n",
    "- Diversity ...?"
   ]
  }
 ],
 "metadata": {
  "kernelspec": {
   "display_name": "Python 3 (ipykernel)",
   "language": "python",
   "name": "python3"
  },
  "language_info": {
   "codemirror_mode": {
    "name": "ipython",
    "version": 3
   },
   "file_extension": ".py",
   "mimetype": "text/x-python",
   "name": "python",
   "nbconvert_exporter": "python",
   "pygments_lexer": "ipython3",
   "version": "3.9.6"
  }
 },
 "nbformat": 4,
 "nbformat_minor": 5
}
