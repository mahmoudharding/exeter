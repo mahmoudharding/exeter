{
 "cells": [
  {
   "cell_type": "markdown",
   "id": "ec2f4a5e-2e9e-457d-a25e-2f1998c16691",
   "metadata": {},
   "source": [
    "# Lesson 09: Pandas Dataframes"
   ]
  },
  {
   "cell_type": "markdown",
   "id": "0b09916b-61e4-4dd9-b22a-15acc462475d",
   "metadata": {},
   "source": [
    "## 0. Table from `datascience`"
   ]
  },
  {
   "cell_type": "code",
   "execution_count": null,
   "id": "83c2cf34-c5a1-40fa-956e-742426f45935",
   "metadata": {},
   "outputs": [],
   "source": [
    "from datascience import *"
   ]
  },
  {
   "cell_type": "code",
   "execution_count": null,
   "id": "3dc3a695-7696-4b09-b70d-ce581afbbe00",
   "metadata": {},
   "outputs": [],
   "source": [
    "elections_table = Table.read_table('data/elections.csv')\n",
    "elections_table"
   ]
  },
  {
   "cell_type": "code",
   "execution_count": null,
   "id": "e50e9ebc-077f-409d-8e32-551e395f0b4f",
   "metadata": {},
   "outputs": [],
   "source": [
    "type(elections_table)"
   ]
  },
  {
   "cell_type": "markdown",
   "id": "35d11a51-d595-4ba3-b766-88c18e9fc12c",
   "metadata": {},
   "source": [
    "## 1. Pandas"
   ]
  },
  {
   "cell_type": "code",
   "execution_count": null,
   "id": "ca09b15b-32be-42fd-bdf8-fd1a96fd22f3",
   "metadata": {},
   "outputs": [],
   "source": [
    "import numpy as np\n",
    "import pandas as pd\n",
    "\n",
    "%matplotlib inline\n",
    "import matplotlib.pyplot as plt\n",
    "plt.style.use('fivethirtyeight')"
   ]
  },
  {
   "cell_type": "code",
   "execution_count": null,
   "id": "ae5668d5-5995-4eb9-864f-8d4eb7b6b155",
   "metadata": {},
   "outputs": [],
   "source": [
    "elections_pd = pd.read_csv('data/elections.csv')\n",
    "elections_pd"
   ]
  },
  {
   "cell_type": "code",
   "execution_count": null,
   "id": "91af4b11-56e4-47c4-a2df-533dbb95cff0",
   "metadata": {},
   "outputs": [],
   "source": [
    "type(elections_pd)"
   ]
  }
 ],
 "metadata": {
  "kernelspec": {
   "display_name": "Python 3 (ipykernel)",
   "language": "python",
   "name": "python3"
  },
  "language_info": {
   "codemirror_mode": {
    "name": "ipython",
    "version": 3
   },
   "file_extension": ".py",
   "mimetype": "text/x-python",
   "name": "python",
   "nbconvert_exporter": "python",
   "pygments_lexer": "ipython3",
   "version": "3.9.6"
  }
 },
 "nbformat": 4,
 "nbformat_minor": 5
}
