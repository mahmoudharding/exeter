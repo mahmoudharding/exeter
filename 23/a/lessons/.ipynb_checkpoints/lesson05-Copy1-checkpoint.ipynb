{
 "cells": [
  {
   "cell_type": "markdown",
   "id": "9f1c69c4-ba3c-405c-a420-c3f2083c1817",
   "metadata": {},
   "source": [
    "# Lesson 05: Data Sampling\n",
    "\n",
    "We will use this lesson to introduce the `pandas` module. `pandas` is a fast, powerful, flexible and easy to use open source data analysis and manipulation tool, built on top of the Python programming language.\n",
    "\n",
    "The main object we will use is the `DataFrame`. This is similar in structure to the `Table` object from the `datascience` library we used in the Foundations of Data Science course."
   ]
  },
  {
   "cell_type": "code",
   "execution_count": 2,
   "id": "5a5c15ef-bb40-41f2-a7ba-dfeabeab0cda",
   "metadata": {},
   "outputs": [],
   "source": [
    "from datascience import *\n",
    "import numpy as np\n",
    "import matplotlib.pyplot as plt\n",
    "%matplotlib inline"
   ]
  },
  {
   "cell_type": "markdown",
   "id": "9ec1814d-0e48-46dc-a571-0bb60991405f",
   "metadata": {},
   "source": [
    "## Fake Election Data Set\n",
    "\n",
    "Import the `gotham.csv` data set into `Table`. The file is located in the data folder. This fake data set contains information on every registered voter in Gotham City."
   ]
  },
  {
   "cell_type": "code",
   "execution_count": 3,
   "id": "93d11664-1e9e-4683-a52a-3b985bdbaa2f",
   "metadata": {},
   "outputs": [
    {
     "data": {
      "text/html": [
       "<table border=\"1\" class=\"dataframe\">\n",
       "    <thead>\n",
       "        <tr>\n",
       "            <th>age</th> <th>is.male</th> <th>vote</th> <th>vote.dem</th>\n",
       "        </tr>\n",
       "    </thead>\n",
       "    <tbody>\n",
       "        <tr>\n",
       "            <td>35  </td> <td>0      </td> <td>Dem </td> <td>1       </td>\n",
       "        </tr>\n",
       "        <tr>\n",
       "            <td>42  </td> <td>1      </td> <td>Rep </td> <td>0       </td>\n",
       "        </tr>\n",
       "        <tr>\n",
       "            <td>55  </td> <td>0      </td> <td>Dem </td> <td>1       </td>\n",
       "        </tr>\n",
       "        <tr>\n",
       "            <td>77  </td> <td>1      </td> <td>Rep </td> <td>0       </td>\n",
       "        </tr>\n",
       "        <tr>\n",
       "            <td>31  </td> <td>0      </td> <td>Dem </td> <td>1       </td>\n",
       "        </tr>\n",
       "        <tr>\n",
       "            <td>76  </td> <td>0      </td> <td>Rep </td> <td>0       </td>\n",
       "        </tr>\n",
       "        <tr>\n",
       "            <td>79  </td> <td>0      </td> <td>Dem </td> <td>1       </td>\n",
       "        </tr>\n",
       "        <tr>\n",
       "            <td>60  </td> <td>0      </td> <td>Rep </td> <td>0       </td>\n",
       "        </tr>\n",
       "        <tr>\n",
       "            <td>58  </td> <td>1      </td> <td>Rep </td> <td>0       </td>\n",
       "        </tr>\n",
       "        <tr>\n",
       "            <td>22  </td> <td>0      </td> <td>Dem </td> <td>1       </td>\n",
       "        </tr>\n",
       "    </tbody>\n",
       "</table>\n",
       "<p>... (1299990 rows omitted)</p>"
      ],
      "text/plain": [
       "age  | is.male | vote | vote.dem\n",
       "35   | 0       | Dem  | 1\n",
       "42   | 1       | Rep  | 0\n",
       "55   | 0       | Dem  | 1\n",
       "77   | 1       | Rep  | 0\n",
       "31   | 0       | Dem  | 1\n",
       "76   | 0       | Rep  | 0\n",
       "79   | 0       | Dem  | 1\n",
       "60   | 0       | Rep  | 0\n",
       "58   | 1       | Rep  | 0\n",
       "22   | 0       | Dem  | 1\n",
       "... (1299990 rows omitted)"
      ]
     },
     "execution_count": 3,
     "metadata": {},
     "output_type": "execute_result"
    }
   ],
   "source": [
    "gotham_table = Table().read_table('data/gotham.csv')\n",
    "gotham_table"
   ]
  },
  {
   "cell_type": "markdown",
   "id": "1843250e-35bc-4d0d-a113-bdd0e1bafe7a",
   "metadata": {},
   "source": [
    "Use the code cells below (add more if you like) to explore the `gotham` table. You'll be required to give a brief synopsis of your initial EDA (Exploratory Data Analysis)."
   ]
  },
  {
   "cell_type": "code",
   "execution_count": 4,
   "id": "5fdef491-abe6-4aa4-b8c9-c2ec85926996",
   "metadata": {},
   "outputs": [
    {
     "data": {
      "text/html": [
       "<table border=\"1\" class=\"dataframe\">\n",
       "    <thead>\n",
       "        <tr>\n",
       "            <th>age</th> <th>is.male</th> <th>vote</th> <th>vote.dem</th>\n",
       "        </tr>\n",
       "    </thead>\n",
       "    <tbody>\n",
       "        <tr>\n",
       "            <td>18  </td> <td>0      </td> <td>Dem </td> <td>1       </td>\n",
       "        </tr>\n",
       "        <tr>\n",
       "            <td>18  </td> <td>0      </td> <td>Dem </td> <td>1       </td>\n",
       "        </tr>\n",
       "        <tr>\n",
       "            <td>18  </td> <td>1      </td> <td>Dem </td> <td>1       </td>\n",
       "        </tr>\n",
       "        <tr>\n",
       "            <td>18  </td> <td>0      </td> <td>Dem </td> <td>1       </td>\n",
       "        </tr>\n",
       "        <tr>\n",
       "            <td>18  </td> <td>1      </td> <td>Dem </td> <td>1       </td>\n",
       "        </tr>\n",
       "        <tr>\n",
       "            <td>18  </td> <td>0      </td> <td>Dem </td> <td>1       </td>\n",
       "        </tr>\n",
       "        <tr>\n",
       "            <td>18  </td> <td>1      </td> <td>Dem </td> <td>1       </td>\n",
       "        </tr>\n",
       "        <tr>\n",
       "            <td>18  </td> <td>0      </td> <td>Dem </td> <td>1       </td>\n",
       "        </tr>\n",
       "        <tr>\n",
       "            <td>18  </td> <td>1      </td> <td>Dem </td> <td>1       </td>\n",
       "        </tr>\n",
       "        <tr>\n",
       "            <td>18  </td> <td>0      </td> <td>Dem </td> <td>1       </td>\n",
       "        </tr>\n",
       "    </tbody>\n",
       "</table>\n",
       "<p>... (1299990 rows omitted)</p>"
      ],
      "text/plain": [
       "age  | is.male | vote | vote.dem\n",
       "18   | 0       | Dem  | 1\n",
       "18   | 0       | Dem  | 1\n",
       "18   | 1       | Dem  | 1\n",
       "18   | 0       | Dem  | 1\n",
       "18   | 1       | Dem  | 1\n",
       "18   | 0       | Dem  | 1\n",
       "18   | 1       | Dem  | 1\n",
       "18   | 0       | Dem  | 1\n",
       "18   | 1       | Dem  | 1\n",
       "18   | 0       | Dem  | 1\n",
       "... (1299990 rows omitted)"
      ]
     },
     "execution_count": 4,
     "metadata": {},
     "output_type": "execute_result"
    }
   ],
   "source": [
    "gotham_table.sort('age', descending=False)"
   ]
  },
  {
   "cell_type": "code",
   "execution_count": 5,
   "id": "28bb1173-c790-4935-8c5c-2c363c7c632a",
   "metadata": {},
   "outputs": [
    {
     "data": {
      "text/plain": [
       "0.49997000000000003"
      ]
     },
     "execution_count": 5,
     "metadata": {},
     "output_type": "execute_result"
    }
   ],
   "source": [
    "np.sum(gotham_table[1])/gotham_table.num_rows"
   ]
  },
  {
   "cell_type": "code",
   "execution_count": 6,
   "id": "7a8666b7-0002-4ac5-802b-2d2911014931",
   "metadata": {},
   "outputs": [
    {
     "data": {
      "text/html": [
       "<table border=\"1\" class=\"dataframe\">\n",
       "    <thead>\n",
       "        <tr>\n",
       "            <th>vote</th> <th>count</th>\n",
       "        </tr>\n",
       "    </thead>\n",
       "    <tbody>\n",
       "        <tr>\n",
       "            <td>Dem </td> <td>689363</td>\n",
       "        </tr>\n",
       "        <tr>\n",
       "            <td>Rep </td> <td>610637</td>\n",
       "        </tr>\n",
       "    </tbody>\n",
       "</table>"
      ],
      "text/plain": [
       "vote | count\n",
       "Dem  | 689363\n",
       "Rep  | 610637"
      ]
     },
     "execution_count": 6,
     "metadata": {},
     "output_type": "execute_result"
    }
   ],
   "source": [
    "gotham_table.group('vote')"
   ]
  },
  {
   "cell_type": "code",
   "execution_count": 7,
   "id": "4595fc97-992d-4662-850e-e2d125a37696",
   "metadata": {},
   "outputs": [
    {
     "data": {
      "text/plain": [
       "54.978214552999574"
      ]
     },
     "execution_count": 7,
     "metadata": {},
     "output_type": "execute_result"
    }
   ],
   "source": [
    "np.average(gotham_table.where('vote', are.equal_to('Rep')).column('age'))"
   ]
  },
  {
   "cell_type": "markdown",
   "id": "97f9ee97-7dfa-410f-be37-3cd294001022",
   "metadata": {},
   "source": [
    "In this course we'll be using `pandas`. Let's load the `gotham.csv` file into  `pandas DataFrame`. The `pandas` User Guide can be found [here](https://pandas.pydata.org/docs/user_guide/index.html#user-guide)."
   ]
  },
  {
   "cell_type": "code",
   "execution_count": 8,
   "id": "c63f5d25-96eb-4fd6-9852-4f4ba4154f06",
   "metadata": {},
   "outputs": [
    {
     "data": {
      "text/plain": [
       "1300000"
      ]
     },
     "execution_count": 8,
     "metadata": {},
     "output_type": "execute_result"
    }
   ],
   "source": [
    "gotham_table.num_rows"
   ]
  },
  {
   "cell_type": "code",
   "execution_count": 9,
   "id": "8a9354c8-702d-49bc-bc3c-2cd03ab2835d",
   "metadata": {},
   "outputs": [
    {
     "data": {
      "text/plain": [
       "array(['Dem', 'Rep'],\n",
       "      dtype='<U3')"
      ]
     },
     "execution_count": 9,
     "metadata": {},
     "output_type": "execute_result"
    }
   ],
   "source": [
    "np.unique(gotham_table.column('vote'))"
   ]
  },
  {
   "cell_type": "code",
   "execution_count": 10,
   "id": "18c290ce-f35c-4752-bfeb-44e0627c9909",
   "metadata": {},
   "outputs": [
    {
     "data": {
      "text/plain": [
       "49.988449230769234"
      ]
     },
     "execution_count": 10,
     "metadata": {},
     "output_type": "execute_result"
    }
   ],
   "source": [
    "np.average(gotham_table.column('age'))"
   ]
  },
  {
   "cell_type": "code",
   "execution_count": 11,
   "id": "67ac0ded-a742-4d5a-8740-861b914dcb34",
   "metadata": {},
   "outputs": [
    {
     "data": {
      "image/png": "[encoded data removed]",
      "text/plain": [
       "<Figure size 432x288 with 1 Axes>"
      ]
     },
     "metadata": {
      "needs_background": "light"
     },
     "output_type": "display_data"
    }
   ],
   "source": [
    "gotham_table.select('age').hist()"
   ]
  },
  {
   "cell_type": "code",
   "execution_count": 12,
   "id": "edbf608b-552d-46af-b8c3-ba9bc303bbd7",
   "metadata": {
    "tags": []
   },
   "outputs": [
    {
     "data": {
      "image/png": "[encoded data removed]",
      "text/plain": [
       "<Figure size 432x288 with 1 Axes>"
      ]
     },
     "metadata": {
      "needs_background": "light"
     },
     "output_type": "display_data"
    }
   ],
   "source": [
    "gotham_table.hist('age')"
   ]
  },
  {
   "cell_type": "code",
   "execution_count": 13,
   "id": "1daec30a-424a-49a2-b7f0-d333e82637a7",
   "metadata": {},
   "outputs": [
    {
     "data": {
      "text/plain": [
       "array(['Dem', 'Rep', 'Dem', ..., 'Rep', 'Rep', 'Dem'],\n",
       "      dtype='<U3')"
      ]
     },
     "execution_count": 13,
     "metadata": {},
     "output_type": "execute_result"
    }
   ],
   "source": [
    "gotham_table.column('vote')"
   ]
  },
  {
   "cell_type": "code",
   "execution_count": 14,
   "id": "ab68f67b-8a86-4d6b-94c4-728a80a7d941",
   "metadata": {},
   "outputs": [],
   "source": [
    "import pandas as pd"
   ]
  },
  {
   "cell_type": "code",
   "execution_count": 15,
   "id": "11b89706-c271-4ab8-ad0c-de8786cf35cf",
   "metadata": {},
   "outputs": [
    {
     "data": {
      "text/html": [
       "<div>\n",
       "<style scoped>\n",
       "    .dataframe tbody tr th:only-of-type {\n",
       "        vertical-align: middle;\n",
       "    }\n",
       "\n",
       "    .dataframe tbody tr th {\n",
       "        vertical-align: top;\n",
       "    }\n",
       "\n",
       "    .dataframe thead th {\n",
       "        text-align: right;\n",
       "    }\n",
       "</style>\n",
       "<table border=\"1\" class=\"dataframe\">\n",
       "  <thead>\n",
       "    <tr style=\"text-align: right;\">\n",
       "      <th></th>\n",
       "      <th>age</th>\n",
       "      <th>is.male</th>\n",
       "      <th>vote</th>\n",
       "      <th>vote.dem</th>\n",
       "    </tr>\n",
       "  </thead>\n",
       "  <tbody>\n",
       "    <tr>\n",
       "      <th>0</th>\n",
       "      <td>35</td>\n",
       "      <td>0</td>\n",
       "      <td>Dem</td>\n",
       "      <td>1</td>\n",
       "    </tr>\n",
       "    <tr>\n",
       "      <th>1</th>\n",
       "      <td>42</td>\n",
       "      <td>1</td>\n",
       "      <td>Rep</td>\n",
       "      <td>0</td>\n",
       "    </tr>\n",
       "    <tr>\n",
       "      <th>2</th>\n",
       "      <td>55</td>\n",
       "      <td>0</td>\n",
       "      <td>Dem</td>\n",
       "      <td>1</td>\n",
       "    </tr>\n",
       "    <tr>\n",
       "      <th>3</th>\n",
       "      <td>77</td>\n",
       "      <td>1</td>\n",
       "      <td>Rep</td>\n",
       "      <td>0</td>\n",
       "    </tr>\n",
       "    <tr>\n",
       "      <th>4</th>\n",
       "      <td>31</td>\n",
       "      <td>0</td>\n",
       "      <td>Dem</td>\n",
       "      <td>1</td>\n",
       "    </tr>\n",
       "    <tr>\n",
       "      <th>...</th>\n",
       "      <td>...</td>\n",
       "      <td>...</td>\n",
       "      <td>...</td>\n",
       "      <td>...</td>\n",
       "    </tr>\n",
       "    <tr>\n",
       "      <th>1299995</th>\n",
       "      <td>62</td>\n",
       "      <td>1</td>\n",
       "      <td>Dem</td>\n",
       "      <td>1</td>\n",
       "    </tr>\n",
       "    <tr>\n",
       "      <th>1299996</th>\n",
       "      <td>78</td>\n",
       "      <td>1</td>\n",
       "      <td>Rep</td>\n",
       "      <td>0</td>\n",
       "    </tr>\n",
       "    <tr>\n",
       "      <th>1299997</th>\n",
       "      <td>68</td>\n",
       "      <td>0</td>\n",
       "      <td>Rep</td>\n",
       "      <td>0</td>\n",
       "    </tr>\n",
       "    <tr>\n",
       "      <th>1299998</th>\n",
       "      <td>82</td>\n",
       "      <td>1</td>\n",
       "      <td>Rep</td>\n",
       "      <td>0</td>\n",
       "    </tr>\n",
       "    <tr>\n",
       "      <th>1299999</th>\n",
       "      <td>23</td>\n",
       "      <td>0</td>\n",
       "      <td>Dem</td>\n",
       "      <td>1</td>\n",
       "    </tr>\n",
       "  </tbody>\n",
       "</table>\n",
       "<p>1300000 rows × 4 columns</p>\n",
       "</div>"
      ],
      "text/plain": [
       "         age  is.male vote  vote.dem\n",
       "0         35        0  Dem         1\n",
       "1         42        1  Rep         0\n",
       "2         55        0  Dem         1\n",
       "3         77        1  Rep         0\n",
       "4         31        0  Dem         1\n",
       "...      ...      ...  ...       ...\n",
       "1299995   62        1  Dem         1\n",
       "1299996   78        1  Rep         0\n",
       "1299997   68        0  Rep         0\n",
       "1299998   82        1  Rep         0\n",
       "1299999   23        0  Dem         1\n",
       "\n",
       "[1300000 rows x 4 columns]"
      ]
     },
     "execution_count": 15,
     "metadata": {},
     "output_type": "execute_result"
    }
   ],
   "source": [
    "gotham = pd.read_csv('data/gotham.csv')\n",
    "gotham"
   ]
  },
  {
   "cell_type": "markdown",
   "id": "13eebee8-26ba-479d-9653-7b3a2a87a503",
   "metadata": {},
   "source": [
    "## The Basics of a `pandas DataFrame`"
   ]
  },
  {
   "cell_type": "code",
   "execution_count": 16,
   "id": "7fbee89f-6bf0-44c4-8a30-33ca90a036f6",
   "metadata": {},
   "outputs": [
    {
     "data": {
      "text/html": [
       "<div>\n",
       "<style scoped>\n",
       "    .dataframe tbody tr th:only-of-type {\n",
       "        vertical-align: middle;\n",
       "    }\n",
       "\n",
       "    .dataframe tbody tr th {\n",
       "        vertical-align: top;\n",
       "    }\n",
       "\n",
       "    .dataframe thead th {\n",
       "        text-align: right;\n",
       "    }\n",
       "</style>\n",
       "<table border=\"1\" class=\"dataframe\">\n",
       "  <thead>\n",
       "    <tr style=\"text-align: right;\">\n",
       "      <th></th>\n",
       "      <th>age</th>\n",
       "      <th>is.male</th>\n",
       "      <th>vote.dem</th>\n",
       "    </tr>\n",
       "  </thead>\n",
       "  <tbody>\n",
       "    <tr>\n",
       "      <th>count</th>\n",
       "      <td>1.300000e+06</td>\n",
       "      <td>1.300000e+06</td>\n",
       "      <td>1.300000e+06</td>\n",
       "    </tr>\n",
       "    <tr>\n",
       "      <th>mean</th>\n",
       "      <td>4.998845e+01</td>\n",
       "      <td>4.999700e-01</td>\n",
       "      <td>5.302792e-01</td>\n",
       "    </tr>\n",
       "    <tr>\n",
       "      <th>std</th>\n",
       "      <td>1.876022e+01</td>\n",
       "      <td>5.000002e-01</td>\n",
       "      <td>4.990825e-01</td>\n",
       "    </tr>\n",
       "    <tr>\n",
       "      <th>min</th>\n",
       "      <td>1.800000e+01</td>\n",
       "      <td>0.000000e+00</td>\n",
       "      <td>0.000000e+00</td>\n",
       "    </tr>\n",
       "    <tr>\n",
       "      <th>25%</th>\n",
       "      <td>3.400000e+01</td>\n",
       "      <td>0.000000e+00</td>\n",
       "      <td>0.000000e+00</td>\n",
       "    </tr>\n",
       "    <tr>\n",
       "      <th>50%</th>\n",
       "      <td>5.000000e+01</td>\n",
       "      <td>0.000000e+00</td>\n",
       "      <td>1.000000e+00</td>\n",
       "    </tr>\n",
       "    <tr>\n",
       "      <th>75%</th>\n",
       "      <td>6.600000e+01</td>\n",
       "      <td>1.000000e+00</td>\n",
       "      <td>1.000000e+00</td>\n",
       "    </tr>\n",
       "    <tr>\n",
       "      <th>max</th>\n",
       "      <td>8.200000e+01</td>\n",
       "      <td>1.000000e+00</td>\n",
       "      <td>1.000000e+00</td>\n",
       "    </tr>\n",
       "  </tbody>\n",
       "</table>\n",
       "</div>"
      ],
      "text/plain": [
       "                age       is.male      vote.dem\n",
       "count  1.300000e+06  1.300000e+06  1.300000e+06\n",
       "mean   4.998845e+01  4.999700e-01  5.302792e-01\n",
       "std    1.876022e+01  5.000002e-01  4.990825e-01\n",
       "min    1.800000e+01  0.000000e+00  0.000000e+00\n",
       "25%    3.400000e+01  0.000000e+00  0.000000e+00\n",
       "50%    5.000000e+01  0.000000e+00  1.000000e+00\n",
       "75%    6.600000e+01  1.000000e+00  1.000000e+00\n",
       "max    8.200000e+01  1.000000e+00  1.000000e+00"
      ]
     },
     "execution_count": 16,
     "metadata": {},
     "output_type": "execute_result"
    }
   ],
   "source": [
    "gotham.describe()"
   ]
  },
  {
   "cell_type": "code",
   "execution_count": 17,
   "id": "c3a3bafa-0581-408c-8dbc-8feeba73c367",
   "metadata": {},
   "outputs": [
    {
     "data": {
      "text/plain": [
       "(1300000, 4)"
      ]
     },
     "execution_count": 17,
     "metadata": {},
     "output_type": "execute_result"
    }
   ],
   "source": [
    "gotham.shape"
   ]
  },
  {
   "cell_type": "code",
   "execution_count": 18,
   "id": "ff7f4989-4c8d-4e10-a5f3-f14400fdcc08",
   "metadata": {},
   "outputs": [
    {
     "data": {
      "text/plain": [
       "1300000"
      ]
     },
     "execution_count": 18,
     "metadata": {},
     "output_type": "execute_result"
    }
   ],
   "source": [
    "gotham.shape[0]"
   ]
  },
  {
   "cell_type": "code",
   "execution_count": 19,
   "id": "683840f8-0cb1-493d-a14b-d4bb5c227acc",
   "metadata": {},
   "outputs": [
    {
     "data": {
      "text/plain": [
       "0          Dem\n",
       "1          Rep\n",
       "2          Dem\n",
       "3          Rep\n",
       "4          Dem\n",
       "          ... \n",
       "1299995    Dem\n",
       "1299996    Rep\n",
       "1299997    Rep\n",
       "1299998    Rep\n",
       "1299999    Dem\n",
       "Name: vote, Length: 1300000, dtype: object"
      ]
     },
     "execution_count": 19,
     "metadata": {},
     "output_type": "execute_result"
    }
   ],
   "source": [
    "gotham['vote']"
   ]
  },
  {
   "cell_type": "code",
   "execution_count": 20,
   "id": "e9232494-0aec-4360-bddd-0a21d733fd8d",
   "metadata": {},
   "outputs": [
    {
     "data": {
      "text/plain": [
       "49.988449230769234"
      ]
     },
     "execution_count": 20,
     "metadata": {},
     "output_type": "execute_result"
    }
   ],
   "source": [
    "np.average(gotham['age'])"
   ]
  },
  {
   "cell_type": "code",
   "execution_count": 21,
   "id": "18c28b31-5c53-4237-bd6d-3f534314f0d1",
   "metadata": {},
   "outputs": [
    {
     "data": {
      "text/plain": [
       "<bound method DataFrame.info of          age  is.male vote  vote.dem\n",
       "0         35        0  Dem         1\n",
       "1         42        1  Rep         0\n",
       "2         55        0  Dem         1\n",
       "3         77        1  Rep         0\n",
       "4         31        0  Dem         1\n",
       "...      ...      ...  ...       ...\n",
       "1299995   62        1  Dem         1\n",
       "1299996   78        1  Rep         0\n",
       "1299997   68        0  Rep         0\n",
       "1299998   82        1  Rep         0\n",
       "1299999   23        0  Dem         1\n",
       "\n",
       "[1300000 rows x 4 columns]>"
      ]
     },
     "execution_count": 21,
     "metadata": {},
     "output_type": "execute_result"
    }
   ],
   "source": [
    "gotham.info"
   ]
  },
  {
   "cell_type": "code",
   "execution_count": 22,
   "id": "e33929cf-2216-445f-90ab-d21431424e97",
   "metadata": {},
   "outputs": [
    {
     "name": "stdout",
     "output_type": "stream",
     "text": [
      "<class 'pandas.core.frame.DataFrame'>\n",
      "RangeIndex: 1300000 entries, 0 to 1299999\n",
      "Data columns (total 4 columns):\n",
      " #   Column    Non-Null Count    Dtype \n",
      "---  ------    --------------    ----- \n",
      " 0   age       1300000 non-null  int64 \n",
      " 1   is.male   1300000 non-null  int64 \n",
      " 2   vote      1300000 non-null  object\n",
      " 3   vote.dem  1300000 non-null  int64 \n",
      "dtypes: int64(3), object(1)\n",
      "memory usage: 39.7+ MB\n"
     ]
    }
   ],
   "source": [
    "gotham.info()"
   ]
  },
  {
   "cell_type": "code",
   "execution_count": 23,
   "id": "e597bb6f-b4bd-4ab3-ad0f-e87e43d0cafd",
   "metadata": {},
   "outputs": [
    {
     "data": {
      "text/plain": [
       "method"
      ]
     },
     "execution_count": 23,
     "metadata": {},
     "output_type": "execute_result"
    }
   ],
   "source": [
    "type(gotham.info)"
   ]
  },
  {
   "cell_type": "code",
   "execution_count": 24,
   "id": "ae339309-07c1-4334-b48c-0c8c5851cb91",
   "metadata": {},
   "outputs": [
    {
     "name": "stdout",
     "output_type": "stream",
     "text": [
      "<class 'pandas.core.frame.DataFrame'>\n",
      "RangeIndex: 1300000 entries, 0 to 1299999\n",
      "Data columns (total 4 columns):\n",
      " #   Column    Non-Null Count    Dtype \n",
      "---  ------    --------------    ----- \n",
      " 0   age       1300000 non-null  int64 \n",
      " 1   is.male   1300000 non-null  int64 \n",
      " 2   vote      1300000 non-null  object\n",
      " 3   vote.dem  1300000 non-null  int64 \n",
      "dtypes: int64(3), object(1)\n",
      "memory usage: 39.7+ MB\n"
     ]
    },
    {
     "data": {
      "text/plain": [
       "NoneType"
      ]
     },
     "execution_count": 24,
     "metadata": {},
     "output_type": "execute_result"
    }
   ],
   "source": [
    "type(gotham.info())"
   ]
  },
  {
   "cell_type": "markdown",
   "id": "d491004b-2fd8-43e2-8304-bf83c20187d0",
   "metadata": {},
   "source": [
    "**Example 1.** What percentage of voters are planning to vote for the Democrat candidate?"
   ]
  },
  {
   "cell_type": "code",
   "execution_count": null,
   "id": "1881f96d-99d7-457f-ba91-4b42129b0243",
   "metadata": {},
   "outputs": [],
   "source": []
  },
  {
   "cell_type": "markdown",
   "id": "800de79e-addc-480e-925f-9581d8f2d8f5",
   "metadata": {},
   "source": [
    "**Example 2.** How many people are retired?"
   ]
  },
  {
   "cell_type": "code",
   "execution_count": null,
   "id": "59abcdf5-ae5f-4c77-abe5-92ac83ae8890",
   "metadata": {},
   "outputs": [],
   "source": []
  },
  {
   "cell_type": "markdown",
   "id": "30c4955a-a529-4774-bc11-b4326962a007",
   "metadata": {},
   "source": [
    "**Example 3.** Suppose we take a convenience sample of everyone who is retired?"
   ]
  },
  {
   "cell_type": "code",
   "execution_count": 29,
   "id": "cf871bf2-b5db-4cad-9ec8-d1221ea89e0e",
   "metadata": {},
   "outputs": [
    {
     "data": {
      "text/plain": [
       "37.44755089093924"
      ]
     },
     "execution_count": 29,
     "metadata": {},
     "output_type": "execute_result"
    }
   ],
   "source": []
  },
  {
   "cell_type": "code",
   "execution_count": 36,
   "id": "3972d30d-b6c2-459c-a41d-7eb28a04abf0",
   "metadata": {},
   "outputs": [
    {
     "data": {
      "text/plain": [
       "53.02792307692308"
      ]
     },
     "execution_count": 36,
     "metadata": {},
     "output_type": "execute_result"
    }
   ],
   "source": []
  },
  {
   "cell_type": "markdown",
   "id": "92875261-3478-4b89-bb5c-a2f0b3cb600c",
   "metadata": {},
   "source": [
    "**Example 4.** What percentage of voters are planning to vote Democrat by age and male/female?"
   ]
  },
  {
   "cell_type": "code",
   "execution_count": 30,
   "id": "1ac42038-3203-4a6e-9182-31b4ab4a3f6a",
   "metadata": {},
   "outputs": [],
   "source": [
    "votes_by_demo = gotham.groupby([\"age\",\"is.male\"]).agg(\"mean\")\n",
    "votes_by_demo = votes_by_demo.reset_index()\n"
   ]
  },
  {
   "cell_type": "code",
   "execution_count": 27,
   "id": "a1f0c20a-1fe1-4318-859a-6b97938317f2",
   "metadata": {},
   "outputs": [],
   "source": [
    "import matplotlib.pyplot as plt\n",
    "import matplotlib.ticker as ticker\n",
    "import seaborn as sns"
   ]
  },
  {
   "cell_type": "code",
   "execution_count": 28,
   "id": "61856b56-a504-42bb-8cc4-61f744d8e20e",
   "metadata": {},
   "outputs": [
    {
     "data": {
      "image/png": "[encoded data removed]",
      "text/plain": [
       "<Figure size 432x288 with 1 Axes>"
      ]
     },
     "metadata": {
      "needs_background": "light"
     },
     "output_type": "display_data"
    }
   ],
   "source": [
    "fig = plt.figure();\n",
    "red_blue = [\"#bf1518\", \"#397eb7\"]\n",
    "with sns.color_palette(sns.color_palette(red_blue)):\n",
    "    ax = sns.pointplot(data = votes_by_demo, x = \"age\", y = \"vote.dem\", hue = \"is.male\")\n",
    "\n",
    "ax.set_title(\"Voting preferences by demographics\")\n",
    "fig.canvas.draw()\n",
    "new_ticks = [i.get_text() for i in ax.get_xticklabels()];\n",
    "plt.xticks(range(0, len(new_ticks), 10), new_ticks[::10]);"
   ]
  },
  {
   "cell_type": "markdown",
   "id": "c1bd467c-e98b-418a-ae1d-197bbca9c918",
   "metadata": {},
   "source": [
    "**Example 5.** What if we instead took a simple random sample? How big would it need to be to outperform our convenience sample?"
   ]
  },
  {
   "cell_type": "code",
   "execution_count": 48,
   "id": "079398da-8940-4050-a703-735ed8295ad0",
   "metadata": {},
   "outputs": [],
   "source": [
    "x = []\n",
    "for i in range(100):\n",
    "    random_sample = gotham.sample(100, replace = False)\n",
    "    x.append(100 * np.mean(random_sample[\"vote.dem\"]))"
   ]
  },
  {
   "cell_type": "code",
   "execution_count": 49,
   "id": "b92a1d4d-8e21-4dbb-9473-dc6de6157d4b",
   "metadata": {},
   "outputs": [
    {
     "data": {
      "text/plain": [
       "(array([  2.,   5.,  14.,  16.,  16.,  19.,  15.,   9.,   2.,   2.]),\n",
       " array([ 40. ,  42.8,  45.6,  48.4,  51.2,  54. ,  56.8,  59.6,  62.4,\n",
       "         65.2,  68. ]),\n",
       " <BarContainer object of 10 artists>)"
      ]
     },
     "execution_count": 49,
     "metadata": {},
     "output_type": "execute_result"
    },
    {
     "data": {
      "image/png": "[encoded data removed]",
      "text/plain": [
       "<Figure size 432x288 with 1 Axes>"
      ]
     },
     "metadata": {
      "needs_background": "light"
     },
     "output_type": "display_data"
    }
   ],
   "source": [
    "plt.hist(x)"
   ]
  },
  {
   "cell_type": "markdown",
   "id": "faf28a2b-0470-4edc-80cf-c95161788a1e",
   "metadata": {},
   "source": [
    "**Example 6.** What if older voters are more likely to answer the phone?"
   ]
  },
  {
   "cell_type": "code",
   "execution_count": null,
   "id": "7fab06ba-4023-4e1b-8f63-779e5313090a",
   "metadata": {},
   "outputs": [],
   "source": []
  }
 ],
 "metadata": {
  "kernelspec": {
   "display_name": "Python 3 (ipykernel)",
   "language": "python",
   "name": "python3"
  },
  "language_info": {
   "codemirror_mode": {
    "name": "ipython",
    "version": 3
   },
   "file_extension": ".py",
   "mimetype": "text/x-python",
   "name": "python",
   "nbconvert_exporter": "python",
   "pygments_lexer": "ipython3",
   "version": "3.10.5"
  }
 },
 "nbformat": 4,
 "nbformat_minor": 5
}
