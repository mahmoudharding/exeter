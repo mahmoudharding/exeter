{
 "cells": [
  {
   "cell_type": "markdown",
   "id": "ba969a95-bd0e-4659-ac65-733f7dae0e75",
   "metadata": {},
   "source": [
    "# Lesson 10: Data Types & Visualization\n",
    "\n",
    "Before making an exploratory plot, or any plot for that matter, it's a good idea to examine the feature (or features) and decide on each one's type, which we call feature type. (Some times we refer to a feature as a variable and its type as variable type.)"
   ]
  },
  {
   "cell_type": "markdown",
   "id": "7c98641e-8a7a-4f32-bc1c-cced76b09147",
   "metadata": {},
   "source": [
    "**Nominal**\n",
    "A feature that represents \"named\" categories, where the categories do not have a natural ordering, is called nominal. For example political party affiliation (Democrat, Republican, Green, Other).\n",
    "\n",
    "**Ordinal**\n",
    "Measurements that represent ordered categories are called ordinal. Examples of ordinal features are: T-shirt size (small, medium, large); Likert-scale response (disagree, neutral, agree). It is important to note that with an ordinal feature, the difference between, say, small and medium, need not be the same as the difference between medium and large. We can order the categories, but the differences between consecutive categories may not even be quantifiable. Think of the number of stars in a restaurant review and what one star means in comparison to two stars.\n",
    "\n",
    "Ordinal and nominal data are *subtypes* of categorical data. Another name for categorical data is qualitative. In contrast we also have quantitative features.\n",
    "\n",
    "**Quantitative**\n",
    "Data that represent numeric measurements or quantities are called quantitative. Examples include: height measured to the nearest cm, price reported in USD, and distance measured to the nearest kilometer. Quantitative features can be further divided into discrete, meaning that only a few values of the feature are possible, and continuous, meaning that the quantity could in principal be measured to arbitrary precision. The number of siblings in a family takes on a discrete set of values (such as, 0, 1, 2). In contrast, height can theoretically be reported to any number of decimal places so we consider it continuous. There is no hard and fast rule to determine whether a quantity is discrete or continuous. In some cases, it can be a judgment call and at other times we may want to purposefully consider a continuous feature to be discrete."
   ]
  },
  {
   "cell_type": "code",
   "execution_count": null,
   "id": "5e8cdb6c-0c6b-4058-96cb-f9cfc7b69e1e",
   "metadata": {},
   "outputs": [],
   "source": [
    "import pandas as pd\n",
    "import numpy as np"
   ]
  },
  {
   "cell_type": "code",
   "execution_count": null,
   "id": "afcb2e47-dfe0-4a79-9142-9187a507ac77",
   "metadata": {},
   "outputs": [],
   "source": [
    "dogs = pd.read_csv('data/akc.csv')\n",
    "dogs"
   ]
  }
 ],
 "metadata": {
  "kernelspec": {
   "display_name": "Python 3 (ipykernel)",
   "language": "python",
   "name": "python3"
  },
  "language_info": {
   "codemirror_mode": {
    "name": "ipython",
    "version": 3
   },
   "file_extension": ".py",
   "mimetype": "text/x-python",
   "name": "python",
   "nbconvert_exporter": "python",
   "pygments_lexer": "ipython3",
   "version": "3.10.5"
  }
 },
 "nbformat": 4,
 "nbformat_minor": 5
}
