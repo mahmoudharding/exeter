{
 "cells": [
  {
   "cell_type": "markdown",
   "id": "5031052c-9aea-4e01-9cbf-2af138a45ccb",
   "metadata": {},
   "source": [
    "# Lesson 11: Exploratory Data Analysis"
   ]
  },
  {
   "cell_type": "code",
   "execution_count": null,
   "id": "ffc47cd4-3be2-43e4-883a-6a4bd5180849",
   "metadata": {},
   "outputs": [],
   "source": [
    "import pandas as pd\n",
    "import numpy as np\n",
    "import matplotlib.pyplot as plt\n",
    "plt.style.use('seaborn-whitegrid')\n",
    "%matplotlib inline"
   ]
  },
  {
   "cell_type": "markdown",
   "id": "654d3e7b-ed1f-4ad7-8361-ee20148e9fd7",
   "metadata": {},
   "source": [
    "## [JSON](https://en.wikipedia.org/wiki/JSON#:~:text=JSON%20(JavaScript%20Object%20Notation%2C%20pronounced,(or%20other%20serializable%20values).)\n",
    "\n",
    "### What is a JSON file?\n",
    "\n",
    "JSON (JavaScript Object Notation) is an open standard file format for sharing data that uses human-readable text to store and transmit data. JSON files are stored with the .json extension. JSON requires less formatting and is a good alternative for XML. JSON is derived from JavaScript but is a language-independent data format. The generation and parsing of JSON is supported by many modern programming languages. application/json is the media type used for JSON.\n",
    "\n",
    "### Brief History\n",
    "\n",
    "There was a need for real-time server to client communication that lead to the creation of JSON. The JSON format was first specified by Douglas Crockford in March 2001. JSON was based on Standard ECMA-262 3rd Edition—December 1999 which is a subset of JavaScript. The first edition of JSON standard ECMA-404 was published in October 2013 by Ecma International. RFC 7159 became the main reference for JSON’s Internet uses in 2014. In November 2017, ISO/IEC 21778:2017 was published as an international standard. RFC 8259 was published on 13 December 2017 by The Internet Engineering Task Force which is the current version of the Internet Standard STD 90.\n",
    "\n",
    "### JSON Syntax \n",
    "\n",
    "JSON data is written in key/value pairs. The key and value are separated by a colon(:) in the middle with the key on the left and the value on the right. Different key/value pairs are separated by a comma(,). The key is a string surrounded by double quotation marks for example “name”. The values can be of the following types.\n",
    "\n",
    "- Number\n",
    "\n",
    "- String: Sequence of Unicode characters surrounded by double quotation marks.\n",
    "\n",
    "- Boolean: True or False.\n",
    "\n",
    "- Array: A list of values surrounded by square brackets, for example\n",
    "\n",
    "```\n",
    "[ \"Apple\", \"Banana\", \"Orange\" ]\n",
    "```\n",
    "\n",
    "- Object: A collection of key/value pairs surrounded by curly braces, for example\n",
    "\n",
    "```\n",
    "{\"name\": \"Dana\", \"age\": 17, \"favoriteSport\" : \"soccer\"}\n",
    "```\n",
    "\n",
    "### JSON Example\n",
    "\n",
    "```\n",
    "{\n",
    "   \"name\":\"Jack\",\n",
    "   \"age\":30,\n",
    "   \"contactNumbers\":[\n",
    "      {\n",
    "         \"type\":\"Home\",\n",
    "         \"number\":\"123 123-123\"\n",
    "      },\n",
    "      {\n",
    "         \"type\":\"Office\",\n",
    "         \"number\":\"321 321-321\"\n",
    "      }\n",
    "   ],\n",
    "   \"spouse\":null,\n",
    "   \"favoriteSports\":[\n",
    "      \"Football\",\n",
    "      \"Cricket\"\n",
    "   ]\n",
    "}\n",
    "```"
   ]
  },
  {
   "cell_type": "code",
   "execution_count": null,
   "id": "343d46d1-34b3-44a6-99fd-398c89a35d58",
   "metadata": {},
   "outputs": [],
   "source": [
    "nobel = pd.read_json('data/nobel-prize.json')\n",
    "nobel"
   ]
  }
 ],
 "metadata": {
  "kernelspec": {
   "display_name": "Python 3 (ipykernel)",
   "language": "python",
   "name": "python3"
  },
  "language_info": {
   "codemirror_mode": {
    "name": "ipython",
    "version": 3
   },
   "file_extension": ".py",
   "mimetype": "text/x-python",
   "name": "python",
   "nbconvert_exporter": "python",
   "pygments_lexer": "ipython3",
   "version": "3.9.6"
  }
 },
 "nbformat": 4,
 "nbformat_minor": 5
}
