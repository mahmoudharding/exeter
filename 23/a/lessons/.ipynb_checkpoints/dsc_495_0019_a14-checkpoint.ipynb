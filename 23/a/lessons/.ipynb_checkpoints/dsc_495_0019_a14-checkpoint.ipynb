{
 "cells": [
  {
   "cell_type": "code",
   "execution_count": null,
   "metadata": {
    "deletable": false,
    "editable": false
   },
   "outputs": [],
   "source": [
    "# Initialize Otter\n",
    "import otter\n",
    "grader = otter.Notebook(\"dsc_495_0019_a14.ipynb\")"
   ]
  },
  {
   "cell_type": "markdown",
   "metadata": {},
   "source": [
    "# Assignment 14\n",
    "\n",
    "## Due: Tuesday, April 5, 2022 @ 11:59pm\n",
    "\n",
    "In this assignment we will get more familiar with building plots for categorical and numerical data.\n",
    "\n",
    "I would like you to attempt each level of the assignment. They get progressively harder. To get **full credit** on this assignment, you must complete the first three levels (Levels I, II, and III). Levels IV and V give you a chance to work with some more advanced features in Python plotting.\n",
    "\n",
    "**Note:** Try not to delete the instructions of the assignment.\n",
    "\n",
    "In the markdown cell below enter your name, section, and the date."
   ]
  },
  {
   "cell_type": "markdown",
   "metadata": {},
   "source": [
    "**Name:** \n",
    "\n",
    "**Section:** \n",
    "\n",
    "**Date:**"
   ]
  },
  {
   "cell_type": "markdown",
   "metadata": {},
   "source": [
    "Run the cell below"
   ]
  },
  {
   "cell_type": "code",
   "execution_count": null,
   "metadata": {},
   "outputs": [],
   "source": [
    "import pandas as pd\n",
    "import numpy as np\n",
    "import seaborn as sns\n",
    "import matplotlib.pyplot as plt\n",
    "%matplotlib inline\n",
    "plt.rcParams['figure.figsize'] = (12, 5)\n",
    "plt.rcParams['figure.dpi'] = 100"
   ]
  },
  {
   "cell_type": "markdown",
   "metadata": {},
   "source": [
    "## Plotting in Pyhon"
   ]
  },
  {
   "cell_type": "markdown",
   "metadata": {},
   "source": [
    "Let's explore the `titanic` dataset."
   ]
  },
  {
   "cell_type": "code",
   "execution_count": null,
   "metadata": {},
   "outputs": [],
   "source": [
    "titanic = pd.read_csv(\"data/titanic.csv\")\n",
    "titanic.head()"
   ]
  },
  {
   "cell_type": "markdown",
   "metadata": {},
   "source": [
    "Before we start let's convert the `Embarked`, `Sex`, and `Survived` columns to type category."
   ]
  },
  {
   "cell_type": "markdown",
   "metadata": {},
   "source": [
    "**Question 1.** Convert the `Embarked`, `Sex`, and `Survived` columns to type category."
   ]
  },
  {
   "cell_type": "code",
   "execution_count": null,
   "metadata": {
    "tags": []
   },
   "outputs": [],
   "source": [
    "titanic.Embarked = ...\n",
    "titanic.Sex = ...\n",
    "titanic.Survived = ...\n",
    "titanic.Embarked.cat.categories = [\"Cherbourg\", \"Queenstown\", \"Southampton\"]\n",
    "titanic.Sex.cat.categories = [\"Female\", \"Male\"]\n",
    "titanic.Survived.cat.categories = [\"Died\", \"Survived\"]"
   ]
  },
  {
   "cell_type": "code",
   "execution_count": null,
   "metadata": {
    "deletable": false,
    "editable": false
   },
   "outputs": [],
   "source": [
    "grader.check(\"q1\")"
   ]
  },
  {
   "cell_type": "markdown",
   "metadata": {},
   "source": [
    "## Categorical Variables\n",
    "\n",
    "## Bar Plot\n",
    "\n",
    "A bar plot displays the counts of the labels from a categorical column. This can be done using `pandas`\n",
    "\n",
    "```\n",
    "df.plot.bar()\n",
    "```\n",
    "\n",
    "or using `matplotlib`\n",
    "\n",
    "```\n",
    "plt.bar()\n",
    "```"
   ]
  },
  {
   "cell_type": "code",
   "execution_count": null,
   "metadata": {},
   "outputs": [],
   "source": [
    "tbl = titanic.Embarked.value_counts()\n",
    "tbl"
   ]
  },
  {
   "cell_type": "markdown",
   "metadata": {},
   "source": [
    "<!-- BEGIN QUESTION -->\n",
    "\n",
    "**Question 2.** Make a bar chart using `plt.bar()` for the counts of the `Embarked` column.\n",
    "\n",
    "**Note:** \n",
    "\n",
    "- `x` represents the categories.\n",
    "\n",
    "- `height` represents the corresponding heights."
   ]
  },
  {
   "cell_type": "code",
   "execution_count": null,
   "metadata": {
    "tags": []
   },
   "outputs": [],
   "source": [
    "plt.bar(x = ..., height = ...);"
   ]
  },
  {
   "cell_type": "markdown",
   "metadata": {},
   "source": [
    "<!-- END QUESTION -->\n",
    "\n",
    "We can make the same bar plot using `panda`s."
   ]
  },
  {
   "cell_type": "code",
   "execution_count": null,
   "metadata": {},
   "outputs": [],
   "source": [
    "tbl.plot.bar(rot = 0);"
   ]
  },
  {
   "cell_type": "markdown",
   "metadata": {},
   "source": [
    "<!-- BEGIN QUESTION -->\n",
    "\n",
    "**Question 3.** Add a title and axes labels to the plot from **Question 2**.\n",
    "\n",
    "<img src=\"images/g1.png\" width=\"400\" height=\"100\">"
   ]
  },
  {
   "cell_type": "code",
   "execution_count": null,
   "metadata": {
    "tags": []
   },
   "outputs": [],
   "source": [
    "plt.bar(x = [\"Southampton\", \"Cherbourg\", \"Queenstown\"], height = tbl)\n",
    "plt.title(\"...\"\")\n",
    "plt.xlabel(\"\\n...\"\")\n",
    "plt.ylabel(\"...\");"
   ]
  },
  {
   "cell_type": "markdown",
   "metadata": {},
   "source": [
    "<!-- END QUESTION -->\n",
    "\n",
    "We can prodcue a stacked bar chart by using a two-way contingency table."
   ]
  },
  {
   "cell_type": "markdown",
   "metadata": {},
   "source": [
    "<!-- BEGIN QUESTION -->\n",
    "\n",
    "**Question 4.** Make a two-way contingency table that looks like\n",
    "\n",
    "|**Survived**   |**Died**|**Survived**|\n",
    "|---------------|--------|------------|\n",
    "|**Embarked**   |        |            |\n",
    "|**Cherbourg**  | 75     |          93|\n",
    "|**Queenstown** | 47     |          30|\n",
    "|**Southampton**| 427    |         217|"
   ]
  },
  {
   "cell_type": "code",
   "execution_count": null,
   "metadata": {
    "tags": []
   },
   "outputs": [],
   "source": [
    "two_way_tbl = pd.crosstab(titanic.Embarked, titanic.Survived)\n",
    "two_way_tbl"
   ]
  },
  {
   "cell_type": "code",
   "execution_count": null,
   "metadata": {
    "deletable": false,
    "editable": false
   },
   "outputs": [],
   "source": [
    "grader.check(\"q4\")"
   ]
  },
  {
   "cell_type": "markdown",
   "metadata": {},
   "source": [
    "<!-- END QUESTION -->\n",
    "\n"
   ]
  },
  {
   "cell_type": "code",
   "execution_count": null,
   "metadata": {},
   "outputs": [],
   "source": [
    "type(two_way_tbl)"
   ]
  },
  {
   "cell_type": "code",
   "execution_count": null,
   "metadata": {},
   "outputs": [],
   "source": [
    "print(titanic.Embarked.cat.categories)"
   ]
  },
  {
   "cell_type": "code",
   "execution_count": null,
   "metadata": {},
   "outputs": [],
   "source": [
    "two_way_tbl.loc[:, \"Survived\"]"
   ]
  },
  {
   "cell_type": "markdown",
   "metadata": {},
   "source": [
    "### Stacked Bar Plot"
   ]
  },
  {
   "cell_type": "markdown",
   "metadata": {},
   "source": [
    "**Example 1.** Let's use the `two_way_tbl` dataframe to create a stacked bar plot."
   ]
  },
  {
   "cell_type": "code",
   "execution_count": null,
   "metadata": {},
   "outputs": [],
   "source": [
    "p1 = plt.bar(x = [\"Cherbourg\", \"Queenstown\", \"Southampton\"],\n",
    "             height = two_way_tbl.loc[:, \"Died\"], label = 'Died')\n",
    "\n",
    "p2 = plt.bar(x = [\"Cherbourg\", \"Queenstown\", \"Southampton\"],\n",
    "             height = two_way_tbl.loc[:, \"Survived\"],\n",
    "             bottom = two_way_tbl.loc[:, \"Died\"], label = 'Survived')\n",
    "\n",
    "plt.title(\"Passenger Counts for Each Port\")\n",
    "plt.xlabel(\"\\nPort Embarked\")\n",
    "plt.ylabel(\"Count\")\n",
    "plt.legend();"
   ]
  },
  {
   "cell_type": "markdown",
   "metadata": {},
   "source": [
    "Let's inspect the elements of this plot."
   ]
  },
  {
   "cell_type": "code",
   "execution_count": null,
   "metadata": {},
   "outputs": [],
   "source": [
    "type(p1), type(p2)"
   ]
  },
  {
   "cell_type": "code",
   "execution_count": null,
   "metadata": {},
   "outputs": [],
   "source": [
    "len(p1)"
   ]
  },
  {
   "cell_type": "code",
   "execution_count": null,
   "metadata": {},
   "outputs": [],
   "source": [
    "type(p1[0]), type(p1[1]), type(p1[2])"
   ]
  },
  {
   "cell_type": "markdown",
   "metadata": {},
   "source": [
    "**Example 2.**  We can prodcue the same plot using `tbl.plot.bar()`."
   ]
  },
  {
   "cell_type": "code",
   "execution_count": null,
   "metadata": {},
   "outputs": [],
   "source": [
    "two_way_tbl.plot.bar(stacked = True, rot = 0);"
   ]
  },
  {
   "cell_type": "markdown",
   "metadata": {},
   "source": [
    "**Example 3.** The `.plot.bar()` function returns a `matplotlib.axes.AxesSubplot` object. We can set the labels on that object."
   ]
  },
  {
   "cell_type": "code",
   "execution_count": null,
   "metadata": {},
   "outputs": [],
   "source": [
    "ax = two_way_tbl.plot.bar(stacked = True, rot = 0)\n",
    "ax.set_title(\"Passenger Counts for Each Port\")\n",
    "ax.set_xlabel(\"\\nPort Embarked\")\n",
    "ax.set_ylabel(\"Count\")\n",
    "ax.legend();"
   ]
  },
  {
   "cell_type": "markdown",
   "metadata": {},
   "source": [
    "### Side by Side Bar Plots\n",
    "\n",
    "**Example 4.** We can make side by side bar plots with `.plot.bar()`."
   ]
  },
  {
   "cell_type": "code",
   "execution_count": null,
   "metadata": {},
   "outputs": [],
   "source": [
    "two_way_tbl.plot.bar(rot = 0);"
   ]
  },
  {
   "cell_type": "markdown",
   "metadata": {},
   "source": [
    "<!-- BEGIN QUESTION -->\n",
    "\n",
    "**Question 5.** Add a title and axes labels to your plot from **Example 4**."
   ]
  },
  {
   "cell_type": "code",
   "execution_count": null,
   "metadata": {
    "tags": []
   },
   "outputs": [],
   "source": [
    "ax = two_way_tbl.plot.bar(rot = 0)\n",
    "ax.set_title(\"...\"\")\n",
    "ax.set_xlabel(\"\\n...\"\")\n",
    "ax.set_ylabel(\"...\")\n",
    "ax.legend(...);"
   ]
  },
  {
   "cell_type": "markdown",
   "metadata": {},
   "source": [
    "<!-- END QUESTION -->\n",
    "\n",
    "## Numerical Variables\n",
    "\n",
    "### Histograms\n",
    "\n",
    "A histogram is an approximate representation of the distribution (the frequency and pattern) of numerical data."
   ]
  },
  {
   "cell_type": "markdown",
   "metadata": {},
   "source": [
    "Now let's look at the distribution of the ages of the passengers on the titanic.\n",
    "\n",
    "**Example 5.** Use `.hist()` to plot a histogram of the ages of the passengers on the titanic."
   ]
  },
  {
   "cell_type": "code",
   "execution_count": null,
   "metadata": {},
   "outputs": [],
   "source": [
    "titanic.Age.hist();"
   ]
  },
  {
   "cell_type": "markdown",
   "metadata": {},
   "source": [
    "**Example 6.** Customize the plot from **Example 5.** by removing the gridlines, and, adding axes labels and a title."
   ]
  },
  {
   "cell_type": "code",
   "execution_count": null,
   "metadata": {},
   "outputs": [],
   "source": [
    "ax = titanic.Age.hist()\n",
    "ax.grid(False)\n",
    "ax.set_title(\"Distribution of Passenger Ages\")\n",
    "ax.set_xlabel(\"\\nAges\")\n",
    "ax.set_ylabel(\"Count\");"
   ]
  },
  {
   "cell_type": "markdown",
   "metadata": {},
   "source": [
    "**Example 7.** We can also customize the bars."
   ]
  },
  {
   "cell_type": "code",
   "execution_count": null,
   "metadata": {},
   "outputs": [],
   "source": [
    "ax = titanic.Age.hist(edgecolor = \"black\")\n",
    "ax.grid(False)\n",
    "ax.set_title(\"Distribution of Passenger Ages\")\n",
    "ax.set_xlabel(\"\\nAges\")\n",
    "ax.set_ylabel(\"Count\");"
   ]
  },
  {
   "cell_type": "markdown",
   "metadata": {},
   "source": [
    "**Example 8.** We can also customize the number of bins and the bin locations."
   ]
  },
  {
   "cell_type": "code",
   "execution_count": null,
   "metadata": {},
   "outputs": [],
   "source": [
    "ax = titanic.Age.hist(color = \"red\", edgecolor = \"black\", bins = 6)\n",
    "ax.grid(False)\n",
    "ax.set_title(\"Distribution of Passenger Ages\")\n",
    "ax.set_xlabel(\"\\nAges\")\n",
    "ax.set_ylabel(\"Count\");"
   ]
  },
  {
   "cell_type": "code",
   "execution_count": null,
   "metadata": {},
   "outputs": [],
   "source": [
    "bins = [0, 10, 20, 30, 40, 50, 60, 70]\n",
    "ax = titanic.Age.hist(color = \"lightblue\", edgecolor = \"blue\", bins = bins)\n",
    "ax.grid(False)\n",
    "ax.set_title(\"Distribution of Passenger Ages\")\n",
    "ax.set_xlabel(\"\\nAges\")\n",
    "ax.set_ylabel(\"Count\");"
   ]
  },
  {
   "cell_type": "markdown",
   "metadata": {},
   "source": [
    "Now let's look at some univariate information by slicing our three-way contingency table. "
   ]
  },
  {
   "cell_type": "markdown",
   "metadata": {},
   "source": [
    "**Example 9.** We can also compare across distributions using `by = `."
   ]
  },
  {
   "cell_type": "code",
   "execution_count": null,
   "metadata": {},
   "outputs": [],
   "source": [
    "ax = titanic.Age.hist(edgecolor = \"black\", bins = bins, by = titanic.Survived, rot = 0)\n",
    "ax[0].set_xlabel(\"\\nAge\")\n",
    "ax[1].set_xlabel(\"\\nAge\");"
   ]
  },
  {
   "cell_type": "markdown",
   "metadata": {},
   "source": [
    "**Example 10.** We can also make overlayed histograms."
   ]
  },
  {
   "cell_type": "code",
   "execution_count": null,
   "metadata": {},
   "outputs": [],
   "source": [
    "male = titanic.loc[titanic.Sex == 'Male'].Fare\n",
    "female = titanic.loc[titanic.Sex == 'Female'].Fare\n",
    "num_bins = 10\n",
    "ax = male.hist(bins = num_bins, alpha = 0.5, label = 'Male', edgecolor = 'black')\n",
    "ax = female.hist(bins = num_bins, alpha = 0.5, label = 'Female', edgecolor = 'black')\n",
    "ax.grid(False)\n",
    "ax.set_xlabel(\"\\nFare\")\n",
    "ax.set_ylabel(\"Count\")\n",
    "ax.legend();"
   ]
  },
  {
   "cell_type": "code",
   "execution_count": null,
   "metadata": {},
   "outputs": [],
   "source": [
    "age_died = titanic.loc[titanic.Survived == \"Died\", \"Age\"]\n",
    "age_survived = titanic.loc[titanic.Survived == \"Survived\", \"Age\"]\n",
    "ax = age_died.hist(alpha = 0.5, label = 'Died', edgecolor = 'black')\n",
    "ax = age_survived.hist(alpha = 0.5, label = 'Survived', edgecolor = 'black')\n",
    "ax.grid(False)\n",
    "ax.set_xlabel(\"\\nAge\")\n",
    "ax.set_ylabel(\"Count\")\n",
    "ax.legend();"
   ]
  },
  {
   "cell_type": "markdown",
   "metadata": {},
   "source": [
    "### Scatter Plots\n",
    "\n",
    "A scatter plot is used to visualize the linear relationship between variables."
   ]
  },
  {
   "cell_type": "markdown",
   "metadata": {},
   "source": [
    "**Example 11.** Make a scatter plot using `Age` to predict `Fare`."
   ]
  },
  {
   "cell_type": "code",
   "execution_count": null,
   "metadata": {},
   "outputs": [],
   "source": [
    "titanic.plot.scatter(x = \"Age\", y = \"Fare\");"
   ]
  },
  {
   "cell_type": "markdown",
   "metadata": {},
   "source": [
    "If we want we can customize the marker type and size."
   ]
  },
  {
   "cell_type": "code",
   "execution_count": null,
   "metadata": {},
   "outputs": [],
   "source": [
    "titanic.plot.scatter(x = \"Age\", y = \"Fare\", c = \"red\", s = 40, marker = \"^\");"
   ]
  },
  {
   "cell_type": "markdown",
   "metadata": {},
   "source": [
    "**Example 12.** We can modify based on a label from a categorical feature."
   ]
  },
  {
   "cell_type": "code",
   "execution_count": null,
   "metadata": {},
   "outputs": [],
   "source": [
    "ax = plt.scatter(x = titanic.loc[titanic.Survived == \"Died\"].Age, y = titanic.loc[titanic.Survived == \"Died\"].Fare, alpha = 0.5, c = \"red\", label = \"Died\")\n",
    "ax = plt.scatter(x = titanic.loc[titanic.Survived == \"Survived\"].Age, y = titanic.loc[titanic.Survived == \"Survived\"].Fare, alpha = 0.25, c = \"blue\", label = \"Survived\")\n",
    "plt.title(\"Scatter Plot of Age vs. Fare by Survival Status\")\n",
    "plt.xlabel(\"Age\")\n",
    "plt.ylabel(\"Fare\")\n",
    "plt.legend();"
   ]
  },
  {
   "cell_type": "markdown",
   "metadata": {},
   "source": [
    "### Line Chart\n",
    "\n",
    "A line chart is similar to a scatter plot except that the measurement points are ordered and joined with straight line segments. A line chart is often used to visualize a trend in data over intervals of time – a time series – thus the line is often drawn chronologically.\n",
    "\n",
    "**Example 13.** A line chart that shows the average first quarter score for away teams for selected seasons."
   ]
  },
  {
   "cell_type": "code",
   "execution_count": null,
   "metadata": {},
   "outputs": [],
   "source": [
    "nfl = pd.read_csv('data/scores.csv')\n",
    "nfl.head()"
   ]
  },
  {
   "cell_type": "code",
   "execution_count": null,
   "metadata": {},
   "outputs": [],
   "source": [
    "nfl.Season"
   ]
  },
  {
   "cell_type": "code",
   "execution_count": null,
   "metadata": {},
   "outputs": [],
   "source": [
    "plt.plot(nfl.Season, nfl.AQ1);"
   ]
  },
  {
   "cell_type": "code",
   "execution_count": null,
   "metadata": {},
   "outputs": [],
   "source": [
    "seasons = sorted(nfl.Season.to_list())\n",
    "yticks = np.round(np.linspace(np.min(nfl.AQ1), np.max(nfl.AQ1), 10), 1)\n",
    "\n",
    "plt.plot(nfl.Season, nfl.AQ1)\n",
    "plt.xticks(seasons)\n",
    "plt.yticks(yticks)\n",
    "plt.title(\"Mean of Points by Away Team per Quarter\")\n",
    "plt.xlabel(\"\\nSeason\")\n",
    "plt.ylabel(\"Average Points\");"
   ]
  },
  {
   "cell_type": "markdown",
   "metadata": {},
   "source": [
    "### Box Plots\n",
    "\n",
    "A box plot displays the five-number summary of a set of data.\n",
    "\n",
    "- Min, Q1, Median, Q3, and Max\n",
    "\n",
    "- Shows possible outliers\n",
    "\n",
    "**Example 14.** A boxplot of the `Age` variable."
   ]
  },
  {
   "cell_type": "code",
   "execution_count": null,
   "metadata": {},
   "outputs": [],
   "source": [
    "titanic.Age.plot.box();"
   ]
  },
  {
   "cell_type": "markdown",
   "metadata": {},
   "source": [
    "A boxplot grouped by `Survived`."
   ]
  },
  {
   "cell_type": "code",
   "execution_count": null,
   "metadata": {},
   "outputs": [],
   "source": [
    "titanic.boxplot(column = \"Age\", by = \"Survived\")\n",
    "plt.grid(False)\n",
    "plt.suptitle(\"\")\n",
    "plt.title(\"Box Grouped by Survival Status\");"
   ]
  },
  {
   "cell_type": "markdown",
   "metadata": {},
   "source": [
    "For the remainder of this notebook you will create your own plots using data from the `bike` dataframe.\n",
    "\n",
    "**Note:** Be sure to provide a title and label your axes.\n",
    "\n",
    "Run the cell below."
   ]
  },
  {
   "cell_type": "code",
   "execution_count": null,
   "metadata": {},
   "outputs": [],
   "source": [
    "penguins = pd.read_csv('data/penguins.csv')\n",
    "penguins.head()"
   ]
  },
  {
   "cell_type": "markdown",
   "metadata": {},
   "source": [
    "# Level I"
   ]
  },
  {
   "cell_type": "markdown",
   "metadata": {},
   "source": [
    "<!-- BEGIN QUESTION -->\n",
    "\n",
    "**Question 6.** Choose a categorical column from the `penguins` dataframe. Then use the data to create a bar plot.\n",
    "\n",
    "**Note:** Be sure to provide a title and label your axes."
   ]
  },
  {
   "cell_type": "code",
   "execution_count": null,
   "metadata": {
    "tags": []
   },
   "outputs": [],
   "source": [
    "..."
   ]
  },
  {
   "cell_type": "markdown",
   "metadata": {},
   "source": [
    "<!-- END QUESTION -->\n",
    "\n",
    "<!-- BEGIN QUESTION -->\n",
    "\n",
    "**Question 7.** Choose a numerical column from the `penguins` dataframe. Then use the data to create a histogram.\n",
    "\n",
    "**Note:** Be sure to provide a title and label your axes."
   ]
  },
  {
   "cell_type": "code",
   "execution_count": null,
   "metadata": {
    "tags": []
   },
   "outputs": [],
   "source": [
    "..."
   ]
  },
  {
   "cell_type": "markdown",
   "metadata": {},
   "source": [
    "<!-- END QUESTION -->\n",
    "\n",
    "<!-- BEGIN QUESTION -->\n",
    "\n",
    "**Question 8.** Choose a numerical column from the `penguins` dataframe. Then use the data to create a box plot.\n",
    "\n",
    "**Note:** Be sure to provide a title and label your axes."
   ]
  },
  {
   "cell_type": "code",
   "execution_count": null,
   "metadata": {
    "tags": []
   },
   "outputs": [],
   "source": [
    "..."
   ]
  },
  {
   "cell_type": "markdown",
   "metadata": {},
   "source": [
    "<!-- END QUESTION -->\n",
    "\n",
    "# Level II"
   ]
  },
  {
   "cell_type": "markdown",
   "metadata": {},
   "source": [
    "<!-- BEGIN QUESTION -->\n",
    "\n",
    "**Question 9.** Choose two numerical columns from the `penguins` dataframe. Then use the data to create a scatter plot.\n",
    "\n",
    "**Note:** Be sure to provide a title and label your axes."
   ]
  },
  {
   "cell_type": "code",
   "execution_count": null,
   "metadata": {
    "tags": []
   },
   "outputs": [],
   "source": [
    "..."
   ]
  },
  {
   "cell_type": "markdown",
   "metadata": {},
   "source": [
    "<!-- END QUESTION -->\n",
    "\n",
    "# Level III"
   ]
  },
  {
   "cell_type": "markdown",
   "metadata": {},
   "source": [
    "<!-- BEGIN QUESTION -->\n",
    "\n",
    "**Question 10.** Use data from the `penguins` dataframe to create a stacked bar plot.\n",
    "\n",
    "**Note:** Be sure to provide a title and label your axes."
   ]
  },
  {
   "cell_type": "code",
   "execution_count": null,
   "metadata": {
    "tags": []
   },
   "outputs": [],
   "source": [
    "..."
   ]
  },
  {
   "cell_type": "markdown",
   "metadata": {},
   "source": [
    "<!-- END QUESTION -->\n",
    "\n",
    "<!-- BEGIN QUESTION -->\n",
    "\n",
    "**Question 11.** Use data from the `penguins` dataframe to create a side by side bar plot.\n",
    "\n",
    "**Note:** Be sure to provide a title and label your axes."
   ]
  },
  {
   "cell_type": "code",
   "execution_count": null,
   "metadata": {
    "tags": []
   },
   "outputs": [],
   "source": [
    "..."
   ]
  },
  {
   "cell_type": "markdown",
   "metadata": {},
   "source": [
    "<!-- END QUESTION -->\n",
    "\n",
    "<!-- BEGIN QUESTION -->\n",
    "\n",
    "**Question 12.** Use data from the `penguins` dataframe to create a overlayed histogram.\n",
    "\n",
    "**Note:** Be sure to provide a title and label your axes."
   ]
  },
  {
   "cell_type": "code",
   "execution_count": null,
   "metadata": {
    "tags": []
   },
   "outputs": [],
   "source": [
    "..."
   ]
  },
  {
   "cell_type": "markdown",
   "metadata": {},
   "source": [
    "<!-- END QUESTION -->\n",
    "\n",
    "# Level IV"
   ]
  },
  {
   "cell_type": "markdown",
   "metadata": {},
   "source": [
    "<!-- BEGIN QUESTION -->\n",
    "\n",
    "**Question 13.** Use data from the `penguins` dataframe to create a scatter plot that has different colored points for different labels of a categroical variable.\n",
    "\n",
    "**Hint:** See **Example 12**.\n",
    "\n",
    "**Note:** Be sure to provide a title and label your axes."
   ]
  },
  {
   "cell_type": "code",
   "execution_count": null,
   "metadata": {
    "tags": []
   },
   "outputs": [],
   "source": [
    "..."
   ]
  },
  {
   "cell_type": "markdown",
   "metadata": {},
   "source": [
    "<!-- END QUESTION -->\n",
    "\n",
    "# Level V"
   ]
  },
  {
   "cell_type": "markdown",
   "metadata": {},
   "source": [
    "<!-- BEGIN QUESTION -->\n",
    "\n",
    "**Question 14.** Use data from the `nfl` dataframe to create a line chart that has different colored lines for each column (`AQ1`, `AQ2`, `AQ3`, `AQ4`, `HQ1`, `HQ2`, `HQ3`, `HQ4`).\n",
    "\n",
    "**Note:** Be sure to provide a title and label your axes."
   ]
  },
  {
   "cell_type": "code",
   "execution_count": null,
   "metadata": {
    "tags": []
   },
   "outputs": [],
   "source": [
    "..."
   ]
  },
  {
   "cell_type": "markdown",
   "metadata": {},
   "source": [
    "<!-- END QUESTION -->\n",
    "\n"
   ]
  },
  {
   "cell_type": "markdown",
   "metadata": {
    "deletable": false,
    "editable": false
   },
   "source": [
    "## Submission\n",
    "\n",
    "Make sure you have run all cells in your notebook in order before running the cell below, so that all images/graphs appear in the output. The cell below will generate a zip file for you to submit. **Please save before exporting!**\n",
    "\n",
    "When done exporting, download the .zip file by finding it in the file browswer on the left side of the screen, then right-click and select **Download**. You'll submit this .zip file for the assignment in Moodle to Gradescope for grading."
   ]
  },
  {
   "cell_type": "code",
   "execution_count": null,
   "metadata": {
    "deletable": false,
    "editable": false
   },
   "outputs": [],
   "source": [
    "# Save your notebook first, then run this cell to export your submission.\n",
    "grader.export(pdf=False)"
   ]
  },
  {
   "cell_type": "markdown",
   "metadata": {},
   "source": [
    " "
   ]
  }
 ],
 "metadata": {
  "kernelspec": {
   "display_name": "Python 3",
   "language": "python",
   "name": "python3"
  },
  "language_info": {
   "codemirror_mode": {
    "name": "ipython",
    "version": 3
   },
   "file_extension": ".py",
   "mimetype": "text/x-python",
   "name": "python",
   "nbconvert_exporter": "python",
   "pygments_lexer": "ipython3",
   "version": "3.7.9"
  },
  "otter": {
   "tests": {
    "q1": {
     "name": "q1",
     "points": null,
     "suites": [
      {
       "cases": [
        {
         "code": ">>> titanic.Embarked.dtype.name\n'category'",
         "hidden": false,
         "locked": false
        },
        {
         "code": ">>> titanic.Sex.dtype.name\n'category'",
         "hidden": false,
         "locked": false
        },
        {
         "code": ">>> titanic.Survived.dtype.name\n'category'",
         "hidden": false,
         "locked": false
        }
       ],
       "scored": true,
       "setup": "",
       "teardown": "",
       "type": "doctest"
      }
     ]
    },
    "q4": {
     "name": "q4",
     "points": null,
     "suites": [
      {
       "cases": [
        {
         "code": ">>> isinstance(two_way_tbl, pd.core.frame.DataFrame)\nTrue",
         "hidden": false,
         "locked": false
        },
        {
         "code": ">>> sum(two_way_tbl.Died)\n549",
         "hidden": false,
         "locked": false
        },
        {
         "code": ">>> sum(two_way_tbl.Survived)\n340",
         "hidden": false,
         "locked": false
        }
       ],
       "scored": true,
       "setup": "",
       "teardown": "",
       "type": "doctest"
      }
     ]
    }
   }
  }
 },
 "nbformat": 4,
 "nbformat_minor": 4
}
