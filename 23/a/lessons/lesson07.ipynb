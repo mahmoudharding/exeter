{
 "cells": [
  {
   "cell_type": "markdown",
   "id": "d6504419-bc9f-4d57-8ff2-a93bd258a2ff",
   "metadata": {},
   "source": [
    "# Lesson 07: Permutations and Combinations"
   ]
  },
  {
   "cell_type": "code",
   "execution_count": null,
   "id": "6813a724-9d75-4636-a5ad-340aa37b9855",
   "metadata": {},
   "outputs": [],
   "source": [
    "l = [1, 2, 3]\n",
    "for i in l:\n",
    "    print(i)"
   ]
  },
  {
   "cell_type": "code",
   "execution_count": null,
   "id": "978520b4-7b41-44a7-8296-aaf04ed3c2b7",
   "metadata": {},
   "outputs": [],
   "source": [
    "# A Python program to print all \n",
    "# permutations using library function \n",
    "from itertools import permutations "
   ]
  },
  {
   "cell_type": "code",
   "execution_count": null,
   "id": "ad7048d3-d71f-4049-ae6b-7f3d4818ec7e",
   "metadata": {},
   "outputs": [],
   "source": [
    "perm = permutations([\"A\", \"B\", \"C\", \"D\"]) \n",
    "perm"
   ]
  },
  {
   "cell_type": "code",
   "execution_count": null,
   "id": "0d0ca67f-d0f4-4aac-9054-2877171461ae",
   "metadata": {},
   "outputs": [],
   "source": [
    "list(perm)"
   ]
  },
  {
   "cell_type": "code",
   "execution_count": null,
   "id": "94993179-d68e-4117-b421-131ba6b669cd",
   "metadata": {},
   "outputs": [],
   "source": [
    "len(list(perm))"
   ]
  },
  {
   "cell_type": "code",
   "execution_count": null,
   "id": "f37aa8dd-298e-48ba-bbe2-857bcb16c2fb",
   "metadata": {},
   "outputs": [],
   "source": [
    "# Get all permutations of [A, B, C, D, E] \n",
    "perm = permutations([\"A\", \"B\", \"C\", \"D\", \"E\"]) \n",
    "  \n",
    "# Print the obtained permutations \n",
    "for i in list(perm): \n",
    "    print (i) "
   ]
  },
  {
   "cell_type": "code",
   "execution_count": null,
   "id": "ef8625ae-35cc-4485-a874-18c2245a6974",
   "metadata": {},
   "outputs": [],
   "source": [
    "# Get all permutations of length 3 \n",
    "perm = permutations([\"A\", \"B\", \"C\", \"D\", \"E\"], 3) \n",
    "  \n",
    "# Print the obtained permutations \n",
    "for i in list(perm): \n",
    "    if \"A\" in i and \"B\" in i and \"C\" in i:\n",
    "        print (i) "
   ]
  },
  {
   "cell_type": "code",
   "execution_count": null,
   "id": "cb28444d-3572-49a9-ab05-97a9f4e95231",
   "metadata": {},
   "outputs": [],
   "source": [
    "sneakers = combinations([\"A\", \"B\", \"C\", \"D\", \"E\", \"F\"], 3)\n",
    "len(list(sneakers))"
   ]
  },
  {
   "cell_type": "code",
   "execution_count": null,
   "id": "a3146389-5bba-4f74-927d-37e52529fb5e",
   "metadata": {},
   "outputs": [],
   "source": [
    "from itertools import combinations"
   ]
  },
  {
   "cell_type": "code",
   "execution_count": null,
   "id": "f220f8ec-c66d-4b2d-9fa4-43141d1f1d64",
   "metadata": {},
   "outputs": [],
   "source": [
    "# Get all combinations of [\"A\", \"B\", \"C\", \"D\", \"E\"]\n",
    "# and length 2\n",
    "comb = combinations([\"A\", \"B\", \"C\", \"D\", \"E\", \"F\"], 3)\n",
    "  \n",
    "# Print the obtained combinations\n",
    "for i in list(comb):\n",
    "    print (i)"
   ]
  }
 ],
 "metadata": {
  "kernelspec": {
   "display_name": "Python 3 (ipykernel)",
   "language": "python",
   "name": "python3"
  },
  "language_info": {
   "codemirror_mode": {
    "name": "ipython",
    "version": 3
   },
   "file_extension": ".py",
   "mimetype": "text/x-python",
   "name": "python",
   "nbconvert_exporter": "python",
   "pygments_lexer": "ipython3",
   "version": "3.10.11"
  }
 },
 "nbformat": 4,
 "nbformat_minor": 5
}
