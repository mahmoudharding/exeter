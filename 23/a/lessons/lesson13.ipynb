{
 "cells": [
  {
   "attachments": {},
   "cell_type": "markdown",
   "id": "99b0e848-d310-4975-a5d5-0e88d5fa442b",
   "metadata": {},
   "source": [
    "# Lesson 13: Making Sense of Data"
   ]
  },
  {
   "cell_type": "code",
   "execution_count": null,
   "id": "4dac5f0b-5c7d-4544-bda1-e61880867b26",
   "metadata": {},
   "outputs": [],
   "source": [
    "import pandas as pd\n",
    "import numpy as np\n",
    "\n",
    "%matplotlib inline\n",
    "import matplotlib.pyplot as plt"
   ]
  },
  {
   "cell_type": "code",
   "execution_count": null,
   "id": "e114d83e-1024-4e44-9462-95f459422323",
   "metadata": {},
   "outputs": [],
   "source": [
    "titanic = pd.read_csv('data/titanic.csv')\n",
    "titanic.head()"
   ]
  },
  {
   "attachments": {},
   "cell_type": "markdown",
   "id": "fdf222f8-914b-431f-a734-35fe341db188",
   "metadata": {},
   "source": [
    "What data type is the `Embarked` Series?"
   ]
  },
  {
   "cell_type": "code",
   "execution_count": null,
   "id": "31dbca22-aab9-4064-9508-acb3fecd1d82",
   "metadata": {},
   "outputs": [],
   "source": []
  },
  {
   "attachments": {},
   "cell_type": "markdown",
   "id": "408c41c8-2b67-435e-8de2-620814d563c4",
   "metadata": {},
   "source": [
    "What is the pandas [`category`](https://pbpython.com/pandas_dtypes_cat.html#:~:text=The%20category%20data%20type%20in,more%20efficiently%20store%20the%20data.) type?"
   ]
  },
  {
   "cell_type": "code",
   "execution_count": null,
   "id": "eae3d8dc-019e-425c-bef3-337bdb19dc9f",
   "metadata": {},
   "outputs": [],
   "source": []
  },
  {
   "attachments": {},
   "cell_type": "markdown",
   "id": "5773242d-3c9f-459a-9087-fec5c10ab92a",
   "metadata": {},
   "source": [
    "Let's change `Embarked` to type `category`."
   ]
  },
  {
   "cell_type": "code",
   "execution_count": null,
   "id": "4c4c14fb-2578-40da-bb32-e21d0243772a",
   "metadata": {},
   "outputs": [],
   "source": [
    "titanic.Embarked.cat.categories = [\"Cherbourg\", \"Queenstown\", \"Southampton\"]\n",
    "titanic.Embarked[0:2]"
   ]
  },
  {
   "attachments": {},
   "cell_type": "markdown",
   "id": "34099ef0-fbd9-494f-8326-50888afc2471",
   "metadata": {},
   "source": [
    "Change the `Sex` and `Survived` columns to ttype `category`."
   ]
  },
  {
   "cell_type": "code",
   "execution_count": null,
   "id": "d8b6ebbc-7b77-4cdd-a99c-e17252af62b0",
   "metadata": {},
   "outputs": [],
   "source": [
    "titanic.Sex = ...\n",
    "titanic.Sex.cat.categories = ...\n",
    "titanic.Survived = ...\n",
    "titanic.Survived.cat.categories = ..."
   ]
  },
  {
   "attachments": {},
   "cell_type": "markdown",
   "id": "1dcae974-abd6-479d-8484-cf34f9782fc4",
   "metadata": {},
   "source": [
    "If you correctly changed the `Sex` and `Survived` columns to category you should see this\n",
    "\n",
    "```\n",
    "(Index(['Male', 'Female'], dtype='object'),\n",
    " Index(['Died', 'Survived'], dtype='object'))\n",
    "```\n",
    "if you run the following commands in the next cell."
   ]
  },
  {
   "cell_type": "code",
   "execution_count": null,
   "id": "6a9404bd-904e-41de-b828-cd00878c1e32",
   "metadata": {},
   "outputs": [],
   "source": [
    "titanic.Sex.cat.categories, titanic.Survived.cat.categories"
   ]
  },
  {
   "attachments": {},
   "cell_type": "markdown",
   "id": "2ced230c-f1be-4ebc-80c9-c145d4d338a0",
   "metadata": {},
   "source": [
    "Use the `.value_counts()` method to display the counts for the `Embarked`, `Sex`, and `Survived` columns."
   ]
  },
  {
   "cell_type": "code",
   "execution_count": null,
   "id": "9f56e7cf-a40a-47eb-aff3-f06e7c2ad7cd",
   "metadata": {},
   "outputs": [],
   "source": []
  },
  {
   "attachments": {},
   "cell_type": "markdown",
   "id": "be531f2f-a5d4-4f79-9d76-4f194b834478",
   "metadata": {},
   "source": [
    "## 1. Contingency Tables\n",
    "\n",
    "### Two-Way\n",
    "\n",
    "The `pd.crosstab()` function will make a two-way contingency table that gets returned as a dataframe."
   ]
  },
  {
   "cell_type": "code",
   "execution_count": null,
   "id": "036e5fea-ab6e-4114-abee-1a416a11b1f6",
   "metadata": {},
   "outputs": [],
   "source": [
    "pd.crosstab()"
   ]
  },
  {
   "attachments": {},
   "cell_type": "markdown",
   "id": "f0207a27-2c02-4f1c-80b0-1108ce0745fc",
   "metadata": {},
   "source": [
    "We can add marginal totals."
   ]
  },
  {
   "cell_type": "code",
   "execution_count": null,
   "id": "45f6754f-6277-447b-adea-9963c9ecb1b9",
   "metadata": {},
   "outputs": [],
   "source": [
    "pd.crosstab()"
   ]
  },
  {
   "attachments": {},
   "cell_type": "markdown",
   "id": "2c215e39-4dd3-47c8-967b-3610368e2133",
   "metadata": {},
   "source": [
    "We can change the row names and the column names. "
   ]
  },
  {
   "cell_type": "code",
   "execution_count": null,
   "id": "5a69cebd-fbd9-426d-a370-5462efabff9f",
   "metadata": {},
   "outputs": [],
   "source": [
    "pd.crosstab()"
   ]
  },
  {
   "attachments": {},
   "cell_type": "markdown",
   "id": "e00971d7-54bc-4596-812e-28ebb0626630",
   "metadata": {},
   "source": [
    "## Three-Way\n",
    "\n",
    "We can make three-way contingency tables."
   ]
  },
  {
   "cell_type": "code",
   "execution_count": null,
   "id": "13c42b91-a245-4360-b283-89af80371fcd",
   "metadata": {},
   "outputs": [],
   "source": []
  },
  {
   "attachments": {},
   "cell_type": "markdown",
   "id": "f8207efc-d132-4038-ae47-f713334f4dc4",
   "metadata": {},
   "source": [
    "Save the three-way contingency table from the previous cell to an object named `tbl`."
   ]
  },
  {
   "cell_type": "code",
   "execution_count": null,
   "id": "89cdc723-f13d-47b2-8adf-b1bef1493ddc",
   "metadata": {},
   "outputs": [],
   "source": [
    "tbl = ..."
   ]
  },
  {
   "attachments": {},
   "cell_type": "markdown",
   "id": "5fead4de-dd1f-4c24-8bf0-9c5d9f0f2afd",
   "metadata": {},
   "source": [
    "Now let's look at some bivariate information by slicing our three-way contingency table. \n",
    "\n",
    "**Example 1.** \n",
    "\n",
    "```\n",
    "Embarked     Survival\n",
    "Cherbourg    Died         66\n",
    "             Survived     29\n",
    "Queenstown   Died         38\n",
    "             Survived      3\n",
    "Southampton  Died        364\n",
    "             Survived     77\n",
    "All                      577\n",
    "Name: Female, dtype: int64\n",
    "```"
   ]
  },
  {
   "cell_type": "code",
   "execution_count": null,
   "id": "b939c952-9203-4ee4-a19d-f4f92b94120b",
   "metadata": {},
   "outputs": [],
   "source": [
    "tbl.iloc[]"
   ]
  },
  {
   "attachments": {},
   "cell_type": "markdown",
   "id": "5fc0445d-8512-4ba8-b791-90fb3da7b117",
   "metadata": {},
   "source": [
    "**Example 2.** \n",
    "\n",
    "```\n",
    "Embarked     Survival\n",
    "Cherbourg    Died          9\n",
    "             Survived     64\n",
    "Queenstown   Died          9\n",
    "             Survived     27\n",
    "Southampton  Died         63\n",
    "             Survived    140\n",
    "All                      312\n",
    "Name: Male, dtype: int64\n",
    "```"
   ]
  },
  {
   "cell_type": "code",
   "execution_count": null,
   "id": "4304a104-879f-40e1-adaf-be7d5e421a1a",
   "metadata": {},
   "outputs": [],
   "source": [
    "tbl.loc[]"
   ]
  },
  {
   "attachments": {},
   "cell_type": "markdown",
   "id": "853802de-662e-4638-ac71-8c2367b4284d",
   "metadata": {},
   "source": [
    "**Example 3.** \n",
    "\n",
    "\n",
    "|               |**Sex**     |**Male**|**Female**|**All**|\n",
    "|---------------|------------|-------|--------|----------|\n",
    "|**Embarked**   |**Survival**|       |        |          |\n",
    "|**Cherbourg**  |**Died**    |  9    | 66     |  75      |\n",
    "|**Queenstown** |**Died**    |  9    | 38     |  47      |\n",
    "|**Southampton**|**Died**    |  63   | 364    |  427     |"
   ]
  },
  {
   "cell_type": "code",
   "execution_count": null,
   "id": "a42bf9d2-8e8b-4505-8ef6-7a4c3e61433d",
   "metadata": {},
   "outputs": [],
   "source": [
    "tbl.iloc[]"
   ]
  },
  {
   "attachments": {},
   "cell_type": "markdown",
   "id": "4c0f82b6-aa7d-4ac3-89cd-772c0202cffe",
   "metadata": {},
   "source": [
    "**Example 4.** \n",
    "\n",
    "\n",
    "|               |**Sex**     |**Male**|**Female**|**All**|\n",
    "|---------------|------------|-------|--------|----------|\n",
    "|**Embarked**   |**Survival**|       |        |          |\n",
    "|**Cherbourg**  |**Died**    |  9    | 66     |  75      |\n",
    "|**Queenstown** |**Died**    |  9    | 38     |  47      |\n",
    "|**Southampton**|**Died**    |  63   | 364    |  427     |"
   ]
  },
  {
   "cell_type": "code",
   "execution_count": null,
   "id": "3696f8eb-54e6-493b-8ef3-b530c8b1da28",
   "metadata": {},
   "outputs": [],
   "source": [
    "tbl.loc[]"
   ]
  },
  {
   "attachments": {},
   "cell_type": "markdown",
   "id": "ef054f50-1414-4596-8b3e-36ddbca55e63",
   "metadata": {},
   "source": [
    "Now let's look at some univariate information by slicing our three-way contingency table. "
   ]
  },
  {
   "attachments": {},
   "cell_type": "markdown",
   "id": "1d198255-19ea-4b0d-80ce-eb0f5e3e810e",
   "metadata": {},
   "source": [
    "**Example 5.** \n",
    "\n",
    "```\n",
    "Sex\n",
    "Male       9\n",
    "Female    66\n",
    "All       75\n",
    "Name: (Cherbourg, Died), dtype: int64\n",
    "```"
   ]
  },
  {
   "cell_type": "code",
   "execution_count": null,
   "id": "cb9ccb28-0dc6-44d3-87ce-d97f29948ec0",
   "metadata": {},
   "outputs": [],
   "source": [
    "tbl.iloc[]"
   ]
  },
  {
   "attachments": {},
   "cell_type": "markdown",
   "id": "808a4a04-0ee1-4d9a-9e8d-4c67fac3d999",
   "metadata": {},
   "source": [
    "**Example 6.** \n",
    "\n",
    "```\n",
    "Sex\n",
    "Male       9\n",
    "Female    66\n",
    "All       75\n",
    "Name: (Cherbourg, Died), dtype: int64\n",
    "```"
   ]
  },
  {
   "cell_type": "code",
   "execution_count": null,
   "id": "604d60f9-3b71-4378-95b9-81a17a7cc845",
   "metadata": {},
   "outputs": [],
   "source": [
    "tbl.loc[]"
   ]
  },
  {
   "attachments": {},
   "cell_type": "markdown",
   "id": "5a6061b7-b5a7-4b33-b39b-b1e4dd4c4cfc",
   "metadata": {
    "tags": []
   },
   "source": [
    "## 2. Measures of Center and Spread\n",
    "\n",
    "The `.describe()` method computes and displays summary statistics for a Python dataframe."
   ]
  },
  {
   "cell_type": "code",
   "execution_count": null,
   "id": "d644a892-6afe-4882-950e-0bfaed8f32e8",
   "metadata": {},
   "outputs": [],
   "source": [
    "titanic.describe()"
   ]
  },
  {
   "cell_type": "code",
   "execution_count": null,
   "id": "90da3ca9-d2dd-4dc4-b700-db4bc8a095aa",
   "metadata": {},
   "outputs": [],
   "source": [
    "titanic[[\"Age\", \"Fare\"]].describe()"
   ]
  },
  {
   "attachments": {},
   "cell_type": "markdown",
   "id": "ebcb69ef-49c5-4c30-817d-cc73f20424e4",
   "metadata": {},
   "source": [
    "- The `percentiles` parameter is list-like of numbers.\n",
    "\n",
    "- The `percentiles` parameter is optional.\n",
    "\n",
    "- The percentiles to include in the output. All should fall between 0 and 1. The default is `[.25, .5, .75]`, which returns the 25th, 50th, and 75th percentiles."
   ]
  },
  {
   "cell_type": "code",
   "execution_count": null,
   "id": "edb603ba-89b5-421a-bf9f-612ba54741d4",
   "metadata": {},
   "outputs": [],
   "source": [
    "titanic[[\"Age\", \"Fare\"]].describe(percentiles = [0.05, 0.25])"
   ]
  },
  {
   "attachments": {},
   "cell_type": "markdown",
   "id": "928374b6-e11e-4d45-aae2-ba1934d6a565",
   "metadata": {},
   "source": [
    "- The `.quantile` method Return values at the given quantile over requested axis.\n",
    "\n",
    "- The default is the 50%"
   ]
  },
  {
   "cell_type": "code",
   "execution_count": null,
   "id": "f90bb644-29e7-4ea8-bffe-3edb9e142cc2",
   "metadata": {},
   "outputs": [],
   "source": [
    "titanic.Age.quantile()"
   ]
  },
  {
   "cell_type": "code",
   "execution_count": null,
   "id": "e04d0aa7-dd32-48b0-bfa9-acc8173c20f9",
   "metadata": {},
   "outputs": [],
   "source": [
    "titanic.Age.quantile(q = [0.2, 0.25, 0.5, 0.95])"
   ]
  },
  {
   "attachments": {},
   "cell_type": "markdown",
   "id": "15894c69-486e-4647-b41d-5224fcedefc7",
   "metadata": {},
   "source": [
    "## 3. Measures of Linear Relationship\n",
    "\n",
    "The `.corr()` method is used to find the pairwise correlation of all columns in the dataframe."
   ]
  },
  {
   "cell_type": "code",
   "execution_count": null,
   "id": "0e972e22-291e-412c-895a-c3886fb0cf42",
   "metadata": {},
   "outputs": [],
   "source": [
    "titanic.corr()"
   ]
  },
  {
   "cell_type": "code",
   "execution_count": null,
   "id": "084ea5c8-bd32-4e7b-af79-372ecb390e98",
   "metadata": {},
   "outputs": [],
   "source": [
    "titanic[[\"Age\", \"Fare\"]].corr()"
   ]
  }
 ],
 "metadata": {
  "kernelspec": {
   "display_name": "Python 3 (ipykernel)",
   "language": "python",
   "name": "python3"
  },
  "language_info": {
   "codemirror_mode": {
    "name": "ipython",
    "version": 3
   },
   "file_extension": ".py",
   "mimetype": "text/x-python",
   "name": "python",
   "nbconvert_exporter": "python",
   "pygments_lexer": "ipython3",
   "version": "3.10.11"
  }
 },
 "nbformat": 4,
 "nbformat_minor": 5
}
