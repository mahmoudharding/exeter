{
 "cells": [
  {
   "attachments": {},
   "cell_type": "markdown",
   "id": "b0f20164-3bb2-47be-b0da-f9a8c6b053d1",
   "metadata": {},
   "source": [
    "# Lesson 11: Making Sense of Data\n",
    "\n",
    "We generally use different types of charts to visualize quantitative (numerical) data and qualitative (ordinal or nominal) data.\n",
    "\n",
    "For quantitative data, we most often use histograms, box plots, and scatter plots.\n",
    "\n",
    "We can use the [`seaborn` plotting library](https://seaborn.pydata.org/index.html) to create these plots in Python. We will use a dataset containing information about passengers aboard the Titanic."
   ]
  },
  {
   "cell_type": "code",
   "execution_count": null,
   "id": "6475ca35-ff9c-4c2f-bcd4-962bc651ac01",
   "metadata": {},
   "outputs": [],
   "source": [
    "import pandas as pd\n",
    "import numpy as np\n",
    "\n",
    "%matplotlib inline\n",
    "from matplotlib import pyplot as plt\n",
    "import seaborn as sns"
   ]
  },
  {
   "cell_type": "code",
   "execution_count": null,
   "id": "e29bec5a-eade-4952-bc8c-638d35beaa4c",
   "metadata": {},
   "outputs": [],
   "source": [
    "print(sns.get_dataset_names())"
   ]
  },
  {
   "cell_type": "code",
   "execution_count": null,
   "id": "2b883ffc-b34b-4fe0-8ed7-fd8644a6a927",
   "metadata": {},
   "outputs": [],
   "source": [
    "titanic = sns.load_dataset('titanic')\n",
    "titanic"
   ]
  },
  {
   "cell_type": "code",
   "execution_count": null,
   "id": "54ffdeb9-830c-4895-9531-f25da921910e",
   "metadata": {},
   "outputs": [],
   "source": [
    "titanic.info()"
   ]
  },
  {
   "cell_type": "code",
   "execution_count": null,
   "id": "f9499889-539f-4311-89aa-c99853e6ab05",
   "metadata": {},
   "outputs": [],
   "source": [
    "titanic.age"
   ]
  },
  {
   "cell_type": "code",
   "execution_count": null,
   "id": "56a25766-d5d0-4217-8897-0db2e6b9a5d9",
   "metadata": {},
   "outputs": [],
   "source": [
    "# matplotlib\n",
    "plt.scatter(titanic.age, titanic.fare);"
   ]
  },
  {
   "cell_type": "code",
   "execution_count": null,
   "id": "50866c78-3325-4dae-b18d-ed0d750d74e5",
   "metadata": {},
   "outputs": [],
   "source": [
    "ans = sns.load_dataset('anscombe')\n",
    "ans.head()"
   ]
  },
  {
   "cell_type": "code",
   "execution_count": null,
   "id": "df23f1f5-02ca-48ea-b3c3-f21b2ecd46c9",
   "metadata": {},
   "outputs": [],
   "source": [
    "sns.scatterplot(data=titanic, x='age', y='fare');"
   ]
  },
  {
   "cell_type": "code",
   "execution_count": null,
   "id": "3c5beeb0-3be6-4742-ac9d-a96a9e4a84fe",
   "metadata": {},
   "outputs": [],
   "source": [
    "sns.scatterplot(data=ans, x='x', y='y');"
   ]
  },
  {
   "cell_type": "code",
   "execution_count": null,
   "id": "7b6260a3-ba1d-4927-99df-5126280b9b79",
   "metadata": {},
   "outputs": [],
   "source": [
    "ans.dataset"
   ]
  },
  {
   "cell_type": "code",
   "execution_count": null,
   "id": "883393d5-7123-4626-a86e-10122c84c9e4",
   "metadata": {},
   "outputs": [],
   "source": [
    "sns.scatterplot(data=ans, x='x', y='y', hue='dataset');"
   ]
  },
  {
   "cell_type": "code",
   "execution_count": null,
   "id": "fa7fdc24-6de0-4ddf-bce9-ed304a9a5ad3",
   "metadata": {},
   "outputs": [],
   "source": [
    "sns.lmplot(data=ans, x='x', y='y', ci=False);"
   ]
  },
  {
   "cell_type": "code",
   "execution_count": null,
   "id": "777f7bec-784a-4dac-bfe3-de085f254f21",
   "metadata": {},
   "outputs": [],
   "source": [
    "sns.relplot(data=ans, x='x', y='y', col='dataset');"
   ]
  },
  {
   "cell_type": "code",
   "execution_count": null,
   "id": "ca311256-acd4-4c77-8f0b-232089c60e6b",
   "metadata": {},
   "outputs": [],
   "source": [
    "sns.relplot(data=ans, x='x', y='y', col='dataset', col_wrap=2);"
   ]
  },
  {
   "cell_type": "code",
   "execution_count": null,
   "id": "1d6721b4-0edb-4e9d-8c44-4f5b88f9c9db",
   "metadata": {},
   "outputs": [],
   "source": [
    "grp = ans.groupby('dataset')\n",
    "for name, contents in grp:\n",
    "    print(name)\n",
    "    print('Correlation\\t', round(grp.get_group(name).corr().iloc[0,1], 4))\n",
    "    print('Mean x\\t\\t', grp.get_group(name)['x'].mean())\n",
    "    print('Mean y\\t\\t', round(grp.get_group(name)['y'].mean(), 2))\n",
    "    print('Std x\\t\\t', round(grp.get_group(name)['x'].std(), 4))\n",
    "    print('Std y\\t\\t', round(grp.get_group(name)['y'].std(), 2))\n",
    "    print('\\n')"
   ]
  },
  {
   "cell_type": "code",
   "execution_count": null,
   "id": "4b0ac8bb-860e-4796-974a-3b92985b0031",
   "metadata": {},
   "outputs": [],
   "source": [
    "births = pd.read_csv('data/baby.csv')\n",
    "births.head()"
   ]
  },
  {
   "cell_type": "code",
   "execution_count": null,
   "id": "0c298f09-4d74-478f-9ae5-f7ad984a77d5",
   "metadata": {},
   "outputs": [],
   "source": [
    "births.shape"
   ]
  },
  {
   "cell_type": "code",
   "execution_count": null,
   "id": "4916e8e2-5bc4-4898-aee1-d78e80581730",
   "metadata": {},
   "outputs": [],
   "source": [
    "births['Maternal Smoker'].value_counts()\n",
    "#print(type(births['Maternal Smoker'].value_counts()))"
   ]
  },
  {
   "cell_type": "code",
   "execution_count": null,
   "id": "5078d41d-fbe5-4cb6-b424-31e61cc2fdbc",
   "metadata": {},
   "outputs": [],
   "source": [
    "births['Maternal Smoker'].value_counts().plot(kind='bar', rot=0);"
   ]
  },
  {
   "cell_type": "code",
   "execution_count": null,
   "id": "71c624bb-8cd3-4745-a111-66fa270ef8cb",
   "metadata": {},
   "outputs": [],
   "source": [
    "sns.countplot(data=births, x='Maternal Smoker');"
   ]
  },
  {
   "cell_type": "code",
   "execution_count": null,
   "id": "5c8777e9-a52f-47de-9e22-da57d4746754",
   "metadata": {},
   "outputs": [],
   "source": [
    "majors = pd.read_csv('data/majors.csv')\n",
    "majors"
   ]
  },
  {
   "cell_type": "code",
   "execution_count": null,
   "id": "0487074e-7e9f-412c-8f59-830bbc07f7b4",
   "metadata": {},
   "outputs": [],
   "source": [
    "d = {'major' : ['Data Science', 'History', 'Biology', 'Business'],\n",
    "     'gpas' : [3.25, 3.1, 2.95, 3.42]}\n",
    "\n",
    "majors = pd.DataFrame(data=d)\n",
    "majors"
   ]
  },
  {
   "cell_type": "code",
   "execution_count": null,
   "id": "5c1ff894-4949-4121-97f4-ab435a615e57",
   "metadata": {},
   "outputs": [],
   "source": [
    "# pandas\n",
    "majors.plot.bar(x='major', y='gpas', rot=0);"
   ]
  },
  {
   "cell_type": "code",
   "execution_count": null,
   "id": "0dd0d14d-6bbc-4fb7-acb7-63d3c4b609be",
   "metadata": {},
   "outputs": [],
   "source": [
    "plt.bar(x=majors.major, height=majors.gpas);"
   ]
  },
  {
   "cell_type": "code",
   "execution_count": null,
   "id": "0c5aa936-1c22-459b-a640-5f55d0943208",
   "metadata": {},
   "outputs": [],
   "source": [
    "sns.barplot(data=majors, x='major', y='gpas');"
   ]
  },
  {
   "cell_type": "code",
   "execution_count": null,
   "id": "0896a3c2-ea41-423f-b3ba-294d2a4cbf34",
   "metadata": {},
   "outputs": [],
   "source": [
    "sns.rugplot(births['Birth Weight']);"
   ]
  },
  {
   "cell_type": "code",
   "execution_count": null,
   "id": "5954cdf7-db99-485e-bc35-62f8f5bcdd75",
   "metadata": {},
   "outputs": [],
   "source": [
    "sns.rugplot(data=births, x='Birth Weight', height=.1);"
   ]
  },
  {
   "cell_type": "code",
   "execution_count": null,
   "id": "525a7b10-fe9b-4e7a-a0cc-a382de95249b",
   "metadata": {},
   "outputs": [],
   "source": [
    "bins = range(50, 200, 5)\n",
    "plt.hist(births['Birth Weight'], bins=bins, edgecolor='black');"
   ]
  },
  {
   "cell_type": "code",
   "execution_count": null,
   "id": "f3b63965-bd18-4b87-a757-9ada4595cee9",
   "metadata": {},
   "outputs": [],
   "source": [
    "plt.hist(births['Birth Weight'], bins=bins, density=True, edgecolor='white');"
   ]
  },
  {
   "cell_type": "code",
   "execution_count": null,
   "id": "3b5a1b3f-5102-4e8f-8376-a1eb7fac6fbc",
   "metadata": {},
   "outputs": [],
   "source": [
    "plt.hist(births['Birth Weight'], bins=np.arange(50, 200, 20), density=True, edgecolor='white');"
   ]
  },
  {
   "cell_type": "code",
   "execution_count": null,
   "id": "2e3e0a5d-3d23-4c89-a88e-07ebde506e8f",
   "metadata": {},
   "outputs": [],
   "source": [
    "plt.hist(births['Birth Weight'], bins=[50, 100, 120, 140, 200], edgecolor='white', density=True);"
   ]
  },
  {
   "cell_type": "code",
   "execution_count": null,
   "id": "a91c1c71-3270-49d2-8b62-8ba399f75f4a",
   "metadata": {},
   "outputs": [],
   "source": [
    "sns.histplot(data=births, x='Birth Weight', edgecolor='white', kde='True');"
   ]
  },
  {
   "cell_type": "code",
   "execution_count": null,
   "id": "74ac0be2-eb34-446f-8ce8-935db6469603",
   "metadata": {},
   "outputs": [],
   "source": [
    "sns.kdeplot(data=births, x='Birth Weight');"
   ]
  },
  {
   "cell_type": "code",
   "execution_count": null,
   "id": "2533531e-2276-4558-a4b1-3abf494cca36",
   "metadata": {},
   "outputs": [],
   "source": [
    "non_smoking = births[births['Maternal Smoker'] != True]\n",
    "sns.histplot(data=non_smoking, x='Birth Weight', edgecolor='white', kde=True)\n",
    "plt.title('Non-Smoking Mothers');"
   ]
  },
  {
   "cell_type": "code",
   "execution_count": null,
   "id": "c0f3d0a2",
   "metadata": {},
   "outputs": [],
   "source": [
    "smoking = births[births['Maternal Smoker'] == True]\n",
    "sns.histplot(data=smoking, x='Birth Weight', edgecolor='white', color='orange', kde=True)\n",
    "plt.title('Smoking Mothers');"
   ]
  },
  {
   "cell_type": "code",
   "execution_count": null,
   "id": "200b87dc-01bc-435f-a493-87bd785055b2",
   "metadata": {},
   "outputs": [],
   "source": [
    "smoke = births['Maternal Smoker'].astype('category')\n",
    "bweight = births['Birth Weight']\n",
    "df = pd.concat([bweight, smoke], axis=1)\n",
    "sns.boxplot(data=df, x='Birth Weight', y='Maternal Smoker');"
   ]
  },
  {
   "cell_type": "code",
   "execution_count": null,
   "id": "e0324078-c87c-4f2c-beeb-80a0f83deffe",
   "metadata": {},
   "outputs": [],
   "source": [
    "smoke"
   ]
  },
  {
   "cell_type": "code",
   "execution_count": null,
   "id": "262e1492-7df4-4b38-9207-956049ce8d7c",
   "metadata": {},
   "outputs": [],
   "source": [
    "sns.boxplot(data=df, x='Maternal Smoker', y='Birth Weight', orient='v');"
   ]
  },
  {
   "cell_type": "code",
   "execution_count": null,
   "id": "113fbb1e-ad06-4fdf-8ad8-f39ec1057042",
   "metadata": {},
   "outputs": [],
   "source": [
    "sns.scatterplot(data=births, x='Maternal Height', y='Birth Weight');"
   ]
  },
  {
   "cell_type": "code",
   "execution_count": null,
   "id": "d0aa8086-4318-454d-a19d-5efe7c068648",
   "metadata": {},
   "outputs": [],
   "source": [
    "sns.scatterplot(data=births, x='Maternal Height', y='Birth Weight', hue='Maternal Smoker');"
   ]
  },
  {
   "cell_type": "code",
   "execution_count": null,
   "id": "6dedbc39-5d4b-42aa-bcf6-89f8a070616f",
   "metadata": {},
   "outputs": [],
   "source": [
    "sns.lmplot(data=births, x='Maternal Height', y='Birth Weight', ci=False);"
   ]
  },
  {
   "cell_type": "code",
   "execution_count": null,
   "id": "275fa855-6945-4303-8e6a-22364329639e",
   "metadata": {},
   "outputs": [],
   "source": [
    "sns.jointplot(data=births, x='Maternal Height', y='Birth Weight', marginal_kws={'edgecolor' : 'white'});"
   ]
  },
  {
   "cell_type": "code",
   "execution_count": null,
   "id": "cde25ced-696a-45e1-b68c-5602394a1ed2",
   "metadata": {},
   "outputs": [],
   "source": [
    "sns.jointplot(data=births, x='Maternal Height', y='Birth Weight', kind='kde', fill=True);"
   ]
  },
  {
   "cell_type": "code",
   "execution_count": null,
   "id": "658509bc-f7a4-4ea0-8d99-f32ddbb04906",
   "metadata": {},
   "outputs": [],
   "source": []
  }
 ],
 "metadata": {
  "kernelspec": {
   "display_name": "Python 3 (ipykernel)",
   "language": "python",
   "name": "python3"
  },
  "language_info": {
   "codemirror_mode": {
    "name": "ipython",
    "version": 3
   },
   "file_extension": ".py",
   "mimetype": "text/x-python",
   "name": "python",
   "nbconvert_exporter": "python",
   "pygments_lexer": "ipython3",
   "version": "3.10.11"
  }
 },
 "nbformat": 4,
 "nbformat_minor": 5
}
