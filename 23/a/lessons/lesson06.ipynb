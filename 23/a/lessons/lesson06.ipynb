{
 "cells": [
  {
   "cell_type": "markdown",
   "id": "ec2f4a5e-2e9e-457d-a25e-2f1998c16691",
   "metadata": {},
   "source": [
    "# Lesson 06: Python String Methods"
   ]
  },
  {
   "cell_type": "markdown",
   "id": "0b09916b-61e4-4dd9-b22a-15acc462475d",
   "metadata": {},
   "source": [
    "## 0. Prerequisite Knowledge\n",
    "\n",
    "### Data Types\n",
    "- `str`\n",
    "\n",
    "### Functions and Methods\n",
    "\n",
    "```\n",
    "function_name(arg1, other_args)\n",
    "\n",
    "variable_name.method(arg1, other_args)\n",
    "```\n",
    "\n",
    "## 1. Strings\n",
    "\n",
    "Text can be thought of as a sequence of `characters` (letters, digits, symbols). We call this text  `string`. Click [here](https://docs.python.org/3/library/string.html?highlight=str#module-string) to see a reference."
   ]
  },
  {
   "cell_type": "markdown",
   "id": "3ccdb745-45ca-4a39-b212-42722a359d66",
   "metadata": {},
   "source": [
    "### Constructing Strings\n",
    "\n",
    "- Data type that is a sequence of characters"
   ]
  },
  {
   "cell_type": "code",
   "execution_count": null,
   "id": "89df430d-88fa-41a1-9bf4-c2d7af4d9acb",
   "metadata": {},
   "outputs": [],
   "source": [
    "mascot = 'unicorn'\n",
    "mascot"
   ]
  },
  {
   "cell_type": "code",
   "execution_count": null,
   "id": "9c89a3f5-3022-4702-81a8-67bac7e54ee4",
   "metadata": {},
   "outputs": [],
   "source": [
    "print(mascot)"
   ]
  },
  {
   "cell_type": "code",
   "execution_count": null,
   "id": "e998ed41-3622-4fbe-ac9e-dd22a2a2b14e",
   "metadata": {},
   "outputs": [],
   "source": [
    "print(type(mascot))"
   ]
  },
  {
   "cell_type": "markdown",
   "id": "46a4833c-fb4e-4a31-bfe8-a073b8e57c0b",
   "metadata": {},
   "source": [
    "Can change numbers to strings using `str()`."
   ]
  },
  {
   "cell_type": "code",
   "execution_count": null,
   "id": "e4ab051b-671a-4da4-bad9-0a5afbd3f30b",
   "metadata": {},
   "outputs": [],
   "source": [
    "str(123)"
   ]
  },
  {
   "cell_type": "code",
   "execution_count": null,
   "id": "b5c6cea4-06fe-458a-bc12-4eab6ca71588",
   "metadata": {},
   "outputs": [],
   "source": [
    "str(1.23)"
   ]
  },
  {
   "cell_type": "markdown",
   "id": "6fed0c85-39a4-4bcc-8122-c6b416838dee",
   "metadata": {},
   "source": [
    "### Indexing\n",
    "\n",
    "We can access string elements using `[ ]`."
   ]
  },
  {
   "cell_type": "code",
   "execution_count": null,
   "id": "5f2a17b9-f64b-4a37-9835-9705fe590dac",
   "metadata": {},
   "outputs": [],
   "source": [
    "mascot[-1]"
   ]
  },
  {
   "cell_type": "code",
   "execution_count": null,
   "id": "09146eb3-8d50-421b-b96f-feb4bf699fb4",
   "metadata": {},
   "outputs": [],
   "source": [
    "mascot[0]"
   ]
  },
  {
   "cell_type": "markdown",
   "id": "a26215e4-a8ad-4033-86aa-eef2b11fcb14",
   "metadata": {},
   "source": [
    "### Slicing\n"
   ]
  },
  {
   "cell_type": "code",
   "execution_count": null,
   "id": "ed493c94-3b5a-4fb0-9804-1317744119d5",
   "metadata": {},
   "outputs": [],
   "source": [
    "mascot[3:]"
   ]
  },
  {
   "cell_type": "markdown",
   "id": "31ee59e9-5945-4a6f-9ca1-91b1c817393b",
   "metadata": {},
   "source": [
    "### Immutable"
   ]
  },
  {
   "cell_type": "code",
   "execution_count": null,
   "id": "2fe0209b-7da5-427c-bc54-ab5e45a38825",
   "metadata": {},
   "outputs": [],
   "source": [
    "mascot[0] = 'U'"
   ]
  },
  {
   "cell_type": "markdown",
   "id": "9c93d3a2-f1ce-462a-aa8c-d1b0b3275067",
   "metadata": {},
   "source": [
    "### Concatenate"
   ]
  },
  {
   "cell_type": "code",
   "execution_count": null,
   "id": "a4df99b2-5b3c-4d1f-a672-a95f5d295369",
   "metadata": {},
   "outputs": [],
   "source": [
    "'we ' + 'are ' + mascot+'s'"
   ]
  },
  {
   "cell_type": "code",
   "execution_count": null,
   "id": "86133967-8b9a-4108-ac7f-724f77bcf11a",
   "metadata": {},
   "outputs": [],
   "source": [
    "'we ' 'are' ' unicorns'"
   ]
  },
  {
   "cell_type": "code",
   "execution_count": null,
   "id": "b2073311-1331-4a32-a71c-c2150611ef93",
   "metadata": {},
   "outputs": [],
   "source": [
    "'we ' 'are' mascot"
   ]
  },
  {
   "cell_type": "code",
   "execution_count": null,
   "id": "082fdd67-a464-4ece-abf8-a126ccac3678",
   "metadata": {},
   "outputs": [],
   "source": [
    "'class of ' 2022"
   ]
  },
  {
   "cell_type": "code",
   "execution_count": null,
   "id": "5cfe3aee-f350-4bc5-bcc6-3f2aa3f23f8b",
   "metadata": {},
   "outputs": [],
   "source": [
    "'class of ' + str(2022)"
   ]
  },
  {
   "cell_type": "code",
   "execution_count": null,
   "id": "c8195f1a-90db-4de8-9699-8593e5053283",
   "metadata": {},
   "outputs": [],
   "source": [
    "'class of ' + str(2022) + '!' * 5"
   ]
  },
  {
   "cell_type": "markdown",
   "id": "f23091d2-ab34-4dfb-b88f-5956ef3c888b",
   "metadata": {},
   "source": [
    "### String Functions"
   ]
  },
  {
   "cell_type": "code",
   "execution_count": null,
   "id": "6361d2e3-8578-48ed-839c-4d378734167d",
   "metadata": {},
   "outputs": [],
   "source": [
    "len(mascot)"
   ]
  },
  {
   "cell_type": "code",
   "execution_count": null,
   "id": "9a8056ca-cd68-4952-9b5e-4754183492dc",
   "metadata": {},
   "outputs": [],
   "source": [
    "sorted(mascot)"
   ]
  },
  {
   "cell_type": "code",
   "execution_count": null,
   "id": "67e9ca8b-4b85-4c45-ab5b-0abf21f63924",
   "metadata": {},
   "outputs": [],
   "source": [
    "sorted('we are ' + mascot + 's')"
   ]
  },
  {
   "cell_type": "markdown",
   "id": "04d9b7bd-4a75-4c26-91d1-d93546914eb8",
   "metadata": {},
   "source": [
    "### String Methods"
   ]
  },
  {
   "cell_type": "code",
   "execution_count": null,
   "id": "553f55e8-eca5-4117-8eda-89d49e81e3d6",
   "metadata": {},
   "outputs": [],
   "source": [
    "mascot.upper()"
   ]
  },
  {
   "cell_type": "code",
   "execution_count": null,
   "id": "558e490d-e13b-4aaa-92f6-85cac69951e6",
   "metadata": {},
   "outputs": [],
   "source": [
    "mascot"
   ]
  },
  {
   "cell_type": "code",
   "execution_count": null,
   "id": "9b6a1d89-c102-46a2-93a1-6eb02f5f8970",
   "metadata": {},
   "outputs": [],
   "source": [
    "mascot.replace('u', 'U')"
   ]
  },
  {
   "cell_type": "code",
   "execution_count": null,
   "id": "df29b61d-c90e-443d-a96b-3a14dce382c8",
   "metadata": {},
   "outputs": [],
   "source": [
    "ncssm = '   We are the Unicorns   '\n",
    "ncssm"
   ]
  },
  {
   "cell_type": "code",
   "execution_count": null,
   "id": "26c31625-4c75-40c9-8c49-f519de04d89d",
   "metadata": {},
   "outputs": [],
   "source": [
    "ncssm.split(' ')"
   ]
  },
  {
   "cell_type": "code",
   "execution_count": null,
   "id": "32225bd5-abdb-4bef-8969-914a24d7a5e7",
   "metadata": {},
   "outputs": [],
   "source": [
    "ncssm.strip()"
   ]
  },
  {
   "cell_type": "code",
   "execution_count": null,
   "id": "d7e7e0ab-3c24-4716-b450-d810fd13dae4",
   "metadata": {},
   "outputs": [],
   "source": [
    "ncssm.strip().split(' ')"
   ]
  },
  {
   "cell_type": "markdown",
   "id": "a02461c6-e692-45ae-b5ea-772d6ae5e71c",
   "metadata": {},
   "source": [
    "### Inserting Values into Strings"
   ]
  },
  {
   "cell_type": "code",
   "execution_count": null,
   "id": "3292d996-0d74-4a02-bd7e-a0b36f3ae852",
   "metadata": {},
   "outputs": [],
   "source": [
    "years = 2\n",
    "salary = 15\n",
    "demand = 'I have {1} years of Python experience and request a salary of at least {0} dollars per hour during my summer internship.'\n",
    "print(demand.format(salary,years))"
   ]
  },
  {
   "cell_type": "code",
   "execution_count": null,
   "id": "d3256333-b60d-49a8-b638-b743edea37f7",
   "metadata": {},
   "outputs": [],
   "source": [
    "demand = 'I have {} years of Python experience and request a salary of at least {} dollars per hour during my summer internship.'\n",
    "print(demand.format(salary,years))"
   ]
  },
  {
   "cell_type": "markdown",
   "id": "0fac539d-8010-42e1-ac8d-cfa2c0e19bc9",
   "metadata": {},
   "source": [
    "Formatting decimal numbers."
   ]
  },
  {
   "cell_type": "code",
   "execution_count": null,
   "id": "c10f1ce2-8c65-42d3-b45a-f0629d06637e",
   "metadata": {},
   "outputs": [],
   "source": [
    "ratio_1 = 22/7\n",
    "ratio_2 = 353/113\n",
    "\n",
    "s=\"Pi can be this to 4 decimal places {r1:.4f} or this to 5 decimal places {r2:.5f}\"\n",
    "print(s.format(r1 = ratio_1, r2 = ratio_2))"
   ]
  },
  {
   "cell_type": "markdown",
   "id": "579d7e88-d3aa-430c-b9f4-56716ca3a669",
   "metadata": {},
   "source": [
    "### Iterable"
   ]
  },
  {
   "cell_type": "code",
   "execution_count": null,
   "id": "9b643f0e-c8c7-469c-9c87-e92239ea2f7f",
   "metadata": {},
   "outputs": [],
   "source": [
    "for letter in mascot:\n",
    "    print(letter)"
   ]
  }
 ],
 "metadata": {
  "kernelspec": {
   "display_name": "Python 3 (ipykernel)",
   "language": "python",
   "name": "python3"
  },
  "language_info": {
   "codemirror_mode": {
    "name": "ipython",
    "version": 3
   },
   "file_extension": ".py",
   "mimetype": "text/x-python",
   "name": "python",
   "nbconvert_exporter": "python",
   "pygments_lexer": "ipython3",
   "version": "3.10.11"
  }
 },
 "nbformat": 4,
 "nbformat_minor": 5
}
