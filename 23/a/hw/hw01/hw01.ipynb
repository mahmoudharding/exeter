{
 "cells": [
  {
   "cell_type": "code",
   "execution_count": null,
   "id": "612b46ed",
   "metadata": {
    "deletable": false,
    "editable": false
   },
   "outputs": [],
   "source": [
    "# Initialize Otter\n",
    "import otter\n",
    "grader = otter.Notebook(\"hw01.ipynb\")"
   ]
  },
  {
   "cell_type": "markdown",
   "id": "0fab758c",
   "metadata": {},
   "source": [
    "# Homework 01\n",
    "\n",
    "Welcome to Homework 01! To receive credit for a homework assignment, answer all questions correctly and submit before the deadline.\n",
    "\n",
    "**Due Date:** \n",
    "\n",
    "**Collaboration Policy:** You are not allowed to discuss this assignment with other students. If you have questions please refer them to your instructor.\n",
    "\n",
    "**Note:** For autograded probability questions, the provided tests will only check that your answer is within a reasonable range.\n",
    "\n",
    "Run the cell below."
   ]
  },
  {
   "cell_type": "code",
   "execution_count": null,
   "id": "9e21a959",
   "metadata": {},
   "outputs": [],
   "source": [
    "import numpy as np\n",
    "\n",
    "from scipy import special\n",
    "\n",
    "%matplotlib inline\n",
    "import matplotlib.pyplot as plt\n",
    "plt.style.use('fivethirtyeight')"
   ]
  },
  {
   "cell_type": "markdown",
   "id": "6e1db6ef",
   "metadata": {},
   "source": [
    "# Introduction\n",
    "\n",
    "The outcome of the 2016 US presidential election took many people and many pollsters by surprise. In this assignment we will carry out a post mortem simulation study in an attempt to understand what happened. Doing such an analysis is especially important given how often federal elections happen. \n",
    "\n",
    "According to [whitehouse.gov](https://www.whitehouse.gov/about-the-white-house/our-government/elections-and-voting/#:~:text=Federal%20elections%20occur%20every%20two,is%20held%20every%20fourth%20year.) \n",
    "\n",
    "> \"Federal elections occur every two years, on the first Tuesday after the first Monday in November. Every member of the House of Representatives and about one-third of the Senate is up for reelection in any given election year. A presidential election is held every fourth year.\" \n",
    "\n",
    "> \"Federal elections are administered by state and local governments, and the specifics of how elections are conducted differ from state to state. The Constitution and laws of the United States grant States wide latitude in how they administer elections.\"."
   ]
  },
  {
   "cell_type": "markdown",
   "id": "f7403d1e",
   "metadata": {},
   "source": [
    "# Random Sample\n",
    "\n",
    "In Pennsylvania, 6,165,478 people voted in the 2016 Presidential election.\n",
    "Trump received 48.18% of the vote and Clinton received 47.46%.\n",
    "This doesn't add up to 100% because other candidates received votes.\n",
    "All together these other candidates received 100% - 48.18% - 47.46% = 4.36% of the vote.\n",
    "\n",
    "The table below displays the counts and proportions.\n",
    "\n",
    "\n",
    "|   Voted for   |  Trump|    Clinton|    Other|\n",
    "|-----------|-----------|-----------|---------|\n",
    "| Probability      |   0.4818   | 0.4746  |   0.0436 |\n",
    "| Number of people | 2,970,733  | 2,926,441 | 268,304 |"
   ]
  },
  {
   "cell_type": "markdown",
   "id": "3236b18c",
   "metadata": {},
   "source": [
    "**Question 1.** Suppose we pick a simple random sample of 20 of the 6,165,478 Pennsylvania (PA) voters. In the sample, let $N_T$ be the number of Trump voters, $N_C$ the number of Clinton voters, and $N_O$ the number of \"other\" voters. $N_T$, $N_C$, and $N_O$ are random: they depend on how the sample comes out. In the Foundations of Data Science course we called such quantities \"statistics\".\n",
    "\n",
    "Pick the correct option: \n",
    "\n",
    "$N_T + N_C + N_O$ is equal to\n",
    "\n",
    "a. 3\n",
    "\n",
    "b. 20\n",
    "\n",
    "c. 6,165,478\n",
    "\n",
    "d. a random quantity\n",
    "\n",
    "**Note:** If your answer is d, put  \n",
    "\n",
    "```\n",
    "ans_q1 = 'd'\n",
    "```\n",
    "\n",
    "for the purpose of grading.\n"
   ]
  },
  {
   "cell_type": "code",
   "execution_count": null,
   "id": "0dd2973b",
   "metadata": {
    "tags": []
   },
   "outputs": [],
   "source": [
    "ans_q1 = ..."
   ]
  },
  {
   "cell_type": "code",
   "execution_count": null,
   "id": "e62e95e3",
   "metadata": {
    "deletable": false,
    "editable": false
   },
   "outputs": [],
   "source": [
    "grader.check(\"q1\")"
   ]
  },
  {
   "cell_type": "markdown",
   "id": "72a5a8f6",
   "metadata": {},
   "source": [
    "**Question 2.** Pick the correct option.\n",
    "\n",
    "A simple random sample of 20 PA voters is like a sample drawn at random without replacement, because\n",
    "\n",
    "a. that's the definition of \"simple random sample\"\n",
    "\n",
    "b. there are only 3 categories of voters, which is small in comparison to 20\n",
    "\n",
    "c. there are only 20 people in the sample, which is small in comparison to the total number of PA voters\n",
    "\n",
    "d. all PA voters are equally likely to be selected\n",
    "\n",
    "**Note:** If your answer is d, put  \n",
    "\n",
    "```\n",
    "ans_q2 = 'd'\n",
    "``` \n",
    "\n",
    "for the purpose of grading. \n"
   ]
  },
  {
   "cell_type": "code",
   "execution_count": null,
   "id": "70aa7132",
   "metadata": {
    "tags": []
   },
   "outputs": [],
   "source": [
    "ans_q2 = ..."
   ]
  },
  {
   "cell_type": "code",
   "execution_count": null,
   "id": "128a9cde",
   "metadata": {
    "deletable": false,
    "editable": false
   },
   "outputs": [],
   "source": [
    "grader.check(\"q2\")"
   ]
  },
  {
   "cell_type": "markdown",
   "id": "03952d21",
   "metadata": {},
   "source": [
    "# Multinomial Probability\n",
    "\n",
    "Earlier this semester we learned that the binomial distribution allows one to compute the probability of obtaining a given number of binary outcomes. For example, it can be used to compute the probability of getting 6 heads out of 10 coin flips. The flip of a coin is a binary outcome because it only has two possible outcomes: heads and tails. \n",
    "\n",
    "The multinomial distribution is used to compute the probabilities in situations in which there are more than two possible outcomes. For example, suppose that two students played numerous games of [rock, paper, scissors](https://youtu.be/ND4fd6yScBM) and it was determined that the probability Student A would win is 0.40, the probability Student B would win is 0.35, and the probability the game would end in a draw is 0.25. The multinomial distribution can be used to answer questions such as: \n",
    "\n",
    "> *\"If these two students played 10 games, what is the probability that Student A would win 5 games, Student B would win 3 games, and the remaining 2 games would end in a draw?\"* \n",
    "\n",
    "The following formula gives the probability of obtaining a specific set of outcomes when there are three possible outcomes for each event \n",
    "\n",
    "$$p=\\frac{n!}{n_1! \\cdot n_2! \\cdot n_3!}p_1^{n_1} \\cdot p_2^{n_2} \\cdot p_3^{n_3}$$\n",
    "\n",
    "where\n",
    "\n",
    "- $p$ is the probability,\n",
    "\n",
    "- $n$ is the total number of events,\n",
    "\n",
    "- $n_1$ is the number of times outcome 1 occurs,\n",
    "\n",
    "- $n_2$ is the number of times outcome 2 occurs,\n",
    "\n",
    "- $n_3$ is the number of times outcome 3 occurs,\n",
    "\n",
    "- $p_1$ is the probability of outcome 1\n",
    "\n",
    "- $p_2$ is the probability of outcome 2, \n",
    "\n",
    "- and $p_3$ is the probability of outcome 3."
   ]
  },
  {
   "cell_type": "markdown",
   "id": "82b72814",
   "metadata": {},
   "source": [
    "**Question 3.** Suppose that two students played 10 games of rock, paper, scissors and it was determined that the probability Student A would win is 0.40, the probability Student B would win is 0.35, and the probability the game would end in a draw is 0.25. If these two students played 10 games, Student A would win 5 games, Student B would win 3 games, and the remaining 2 games would end in a draw. Assign the correct value to each variable listed in the cell below."
   ]
  },
  {
   "cell_type": "code",
   "execution_count": null,
   "id": "850cafb7",
   "metadata": {
    "tags": []
   },
   "outputs": [],
   "source": [
    "# Number of games\n",
    "n = ...\n",
    "\n",
    "# Number of games won by Student A\n",
    "n1 = ...\n",
    "\n",
    "# Number of games won by Student B\n",
    "n2 = ...\n",
    "\n",
    "# Number of games drawn\n",
    "n3 = ...\n",
    "\n",
    "# Probability Stundet A wins\n",
    "p1 = ...\n",
    "\n",
    "# Probability Student B wins\n",
    "p2 = ...\n",
    "\n",
    "# Probability of a draw\n",
    "p3 = ..."
   ]
  },
  {
   "cell_type": "code",
   "execution_count": null,
   "id": "e815886c",
   "metadata": {
    "deletable": false,
    "editable": false
   },
   "outputs": [],
   "source": [
    "grader.check(\"q3\")"
   ]
  },
  {
   "cell_type": "markdown",
   "id": "d70d4ab6",
   "metadata": {},
   "source": [
    "**Question 4.** What is the probability that Student A would win 5 games, Student B wins 3 games, and the remaining 2 games end in a draw?\n",
    "\n",
    "**Hint:** The `special.factorial` function, that we used in a previous lab, can be used to compute factorial products."
   ]
  },
  {
   "cell_type": "code",
   "execution_count": null,
   "id": "3b7c56d1",
   "metadata": {
    "tags": []
   },
   "outputs": [],
   "source": [
    "ans_q4 = ...\n",
    "ans_q4"
   ]
  },
  {
   "cell_type": "code",
   "execution_count": null,
   "id": "4264050d",
   "metadata": {
    "deletable": false,
    "editable": false
   },
   "outputs": [],
   "source": [
    "grader.check(\"q4\")"
   ]
  },
  {
   "cell_type": "markdown",
   "id": "93a443ca",
   "metadata": {},
   "source": [
    "For the sample defined in **Question 1.**, the probability that the sample contains $t$ Trump voters, $c$ Clinton voters and $o$ \"other\" voters is denoted by $P(N_T = t, N_C = c, N_O = o)$, where $t$, $c$, and $o$ can be any three non-negative integers that add up to 20 (the number in the simple random sample). "
   ]
  },
  {
   "cell_type": "markdown",
   "id": "fc28ae20",
   "metadata": {},
   "source": [
    "**Question 5.**  Define a function `prob_sample_counts` that takes any three non-negative integers $t$, $c$, and $o$, and returns $P(N_T = t, N_C = c, N_O = o)$. \n",
    "\n",
    "**Hints:**\n",
    "\n",
    "- The probability is 0 for some choices of the arguments, and your function should return 0 in those cases. For example, the number of sampled voters can't be negative.\n",
    "\n",
    "- Remember that **Question 2.** implies you can use results for sampling with replacement."
   ]
  },
  {
   "cell_type": "code",
   "execution_count": null,
   "id": "42c884ce",
   "metadata": {
    "tags": []
   },
   "outputs": [],
   "source": [
    "def prob_sample_counts(t, c, o):\n",
    "    \"\"\"Returns the probability of getting a sample t, c, o\n",
    "       -------\n",
    "       t: number of votes for Trump\n",
    "       c: number of votes for Clinton\n",
    "       o: number of votes for Other \"\"\"\n",
    "    ..."
   ]
  },
  {
   "cell_type": "markdown",
   "id": "7bccdae8",
   "metadata": {},
   "source": [
    "**Question 6.** Check that your function determines a probability distribution by summing all the terms.\n",
    "\n",
    "**Hints:** \n",
    "\n",
    "- You will need to iterate through certain values of $c$ and $t$ to compute the sum of all probabilities.\n",
    "\n",
    "- To see how you can iterate through multiple values (i.e. $c$ and $t$) click [here](https://www.w3schools.com/python/gloss_python_for_nested.asp).\n",
    "\n",
    "**Note:** Due to floating point errors you may see `1.0000000000000007`. We will ignore this amount of loss of significance for the purpose of this assignment."
   ]
  },
  {
   "cell_type": "code",
   "execution_count": null,
   "id": "8f3fffa1",
   "metadata": {
    "tags": []
   },
   "outputs": [],
   "source": [
    "ans_q6 = ...\n",
    "ans_q6"
   ]
  },
  {
   "cell_type": "code",
   "execution_count": null,
   "id": "93e9320d",
   "metadata": {
    "deletable": false,
    "editable": false
   },
   "outputs": [],
   "source": [
    "grader.check(\"q6\")"
   ]
  },
  {
   "cell_type": "markdown",
   "id": "cae58fa8",
   "metadata": {},
   "source": [
    "**Question 7.** Use `prob_sample_counts` to find the chance that the sample consists of 11 Trump voters, 8 Clinton voters, and 1 *\"other\"* voter."
   ]
  },
  {
   "cell_type": "code",
   "execution_count": null,
   "id": "afa06386",
   "metadata": {
    "tags": []
   },
   "outputs": [],
   "source": [
    "ans_q7 = ...\n",
    "ans_q7"
   ]
  },
  {
   "cell_type": "code",
   "execution_count": null,
   "id": "9e17b53e",
   "metadata": {
    "deletable": false,
    "editable": false
   },
   "outputs": [],
   "source": [
    "grader.check(\"q7\")"
   ]
  },
  {
   "cell_type": "markdown",
   "id": "80291669",
   "metadata": {},
   "source": [
    "**Question 8.** Write an expression that evaluates the chance that the sample contains at least 7 Trump voters, at least 7 Clinton voters, and at least 1 \"other\" voter. \n",
    "\n",
    "**Hint:** You might find **Question 6.** useful."
   ]
  },
  {
   "cell_type": "code",
   "execution_count": null,
   "id": "753afe21",
   "metadata": {
    "tags": []
   },
   "outputs": [],
   "source": [
    "ans_q8 = ...\n",
    "ans_q8"
   ]
  },
  {
   "cell_type": "code",
   "execution_count": null,
   "id": "a767b9e5",
   "metadata": {
    "deletable": false,
    "editable": false
   },
   "outputs": [],
   "source": [
    "grader.check(\"q8\")"
   ]
  },
  {
   "cell_type": "markdown",
   "id": "0b52b1bf",
   "metadata": {},
   "source": [
    "# Election Polling\n",
    "\n",
    "Political polling is a type of public opinion polling that can represent a snapshot of public opinion at the particular moment in time. Voter opinion shifts from week to week, even day to day, as candidates battle it out on the campaign trail.\n",
    "\n",
    "Polls usually start with a \"horse-race\" question, where respondents are asked whom they would vote for in a head-to-head race if the election were tomorrow: Candidate A or Candidate B. The survey begins with this question so that the respondent is not influenced by any of the other questions asked in the survey. Some other questions are asked to help assess how likely is it that the respondent will vote. For example, questions about age, education, and sex are asked in order to adjust the findings in case one group appears overly represented in the sample. To contact people, pollsters typically use [random digit dialing](https://en.wikipedia.org/wiki/Random_digit_dialing)."
   ]
  },
  {
   "cell_type": "markdown",
   "id": "9ff81713",
   "metadata": {},
   "source": [
    "<!-- BEGIN QUESTION -->\n",
    "\n",
    "**Question 9.** If we're trying to predict the results of the Clinton vs. Trump presidential race, what is the population of interest? "
   ]
  },
  {
   "cell_type": "markdown",
   "id": "124868d5",
   "metadata": {},
   "source": [
    "_Type your answer here, replacing this text._"
   ]
  },
  {
   "cell_type": "markdown",
   "id": "b460a211",
   "metadata": {},
   "source": [
    "<!-- END QUESTION -->\n",
    "\n",
    "<!-- BEGIN QUESTION -->\n",
    "\n",
    "**Question 10.** What is the access frame?"
   ]
  },
  {
   "cell_type": "markdown",
   "id": "0ab671a9",
   "metadata": {},
   "source": [
    "_Type your answer here, replacing this text._"
   ]
  },
  {
   "cell_type": "markdown",
   "id": "c00a6bff",
   "metadata": {},
   "source": [
    "<!-- END QUESTION -->\n",
    "\n",
    "## How might the sampling frame differ from the population?\n",
    "\n",
    "After the fact, many experts have studied the 2016 election results. For example, according to the American Association for Public Opinion Research (AAPOR), predictions made before the election were flawed for three key reasons:\n",
    "\n",
    "1. Voters changed their preferences a few days before the election.\n",
    "\n",
    "1. Those sampled were not representative of the voting population, e.g., some said that there was an over-representation of college graduates in some poll samples. \n",
    "\n",
    "1. Voters kept their support for Trump to themselves (hidden from the pollsters).\n",
    "\n",
    "In **Simulation Study of the Sampling Error** ,  \n",
    "\n",
    "- we will carry out a study of the sampling error when there is no bias. In other words, we will try to compute the chance that we get the election result wrong even if we collect our sample in a manner that is completely correct. In this case, any failure of our prediction is due entirely to random chance.\n",
    "\n",
    "In **Simulation Study of Selection Bias**,\n",
    "\n",
    "- We will carry out a study of the sampling error when there is bias of the second type from the list above. In other words, we will try to compute the chance that we get the election result wrong if we have a small systematic bias. In this case, any failure of our prediction is due to a combination of random chance and our bias."
   ]
  },
  {
   "cell_type": "markdown",
   "id": "4b9364d9",
   "metadata": {},
   "source": [
    "<!-- BEGIN QUESTION -->\n",
    "\n",
    "**Question 11.** Why can't we assess the impact of the other two biases (voters changing preference and voters hiding their preference)? \n",
    "\n",
    "**Note:** You might find it easier to complete this question after you've completed the rest of the homework including the simulation study."
   ]
  },
  {
   "cell_type": "markdown",
   "id": "751dd136",
   "metadata": {},
   "source": [
    "_Type your answer here, replacing this text._"
   ]
  },
  {
   "cell_type": "markdown",
   "id": "9a2046c3",
   "metadata": {},
   "source": [
    "<!-- END QUESTION -->\n",
    "\n",
    "## How large was the sampling error?\n",
    "\n",
    "In some states the race was very close, and it may have been simply sampling error, i.e., random chance that the majority of the voters chosen for the sample voted for Clinton.\n",
    "\n",
    "A 2 or 3-point polling error in Trump’s favor (typical error historically) would likely be enough to tip the Electoral College to him.\n",
    "\n",
    "One year after the 2016 election, Nate Silver wrote in **The Media Has A Probability Problem** that \"the media’s demand for certainty -- and its lack of statistical rigor -- is a bad match for our complex world.\" FiveThirtyEight forecast that Clinton had about a 70 percent chance of winning.  \n",
    "\n",
    "We will first carry out a simulation study to assess the impact of the sampling error on the predictions."
   ]
  },
  {
   "cell_type": "markdown",
   "id": "c5c44604",
   "metadata": {},
   "source": [
    "## The Electoral College\n",
    "\n",
    "The US president is chosen by the Electoral College, not by the popular vote. Each state is allotted a certain number of electoral college votes, as a function of their population.\n",
    "Whomever wins in the state gets all of the electoral college votes for that state.\n",
    "\n",
    "There are 538 electoral college votes (hence the name of the Nate Silver's site, FiveThirtyEight).\n",
    "\n",
    "Pollsters correctly predicted the election outcome in 46 of the 50 states. For these 46 states Trump received 231 and Clinton received 232 electoral college votes. The remaining 4 states accounted for a total of 75 votes, and whichever candidate received the majority of the electoral college votes in these states would win the election. \n",
    "\n",
    "These states were Florida, Michigan, Pennsylvania, and Wisconsin.\n",
    "\n",
    "|State |Electoral College Votes|\n",
    "| --- | --- |\n",
    "|Florida | 29 |\n",
    "|Michigan | 16 |\n",
    "|Pennsylvania | 20 |\n",
    "|Wisconsin | 10|\n",
    "\n",
    "For Donald Trump to win the election, he had to win either:\n",
    "\n",
    "* Florida + one (or more) other states\n",
    "* Michigan, Pennsylvania, and Wisconsin\n",
    "\n",
    "\n",
    "The electoral margins were very narrow in these four states, as seen below:\n",
    "\n",
    "\n",
    "|State | Trump |   Clinton | Total Voters |\n",
    "| --- | --- |  --- |  --- |\n",
    "|Florida | 49.02 | 47.82 | 9,419,886  | \n",
    "|Michigan | 47.50 | 47.27  |  4,799,284|\n",
    "|Pennsylvania | 48.18 | 47.46 |  6,165,478|\n",
    "|Wisconsin | 47.22 | 46.45  |  2,976,150|\n",
    "\n",
    "Those narrow electoral margins can make it hard to predict the outcome given the sample sizes that the polls used. "
   ]
  },
  {
   "cell_type": "markdown",
   "id": "c048f280",
   "metadata": {},
   "source": [
    "# Simulation Study of the Sampling Error\n",
    "\n",
    "Now that we know how people actually voted, we can carry out a simulation study that imitates the polling. Our ultimate goal in this problem is to understand the chance that we will incorrectly call the election for Hillary Clinton even if our sample was collected with absolutely no bias."
   ]
  },
  {
   "cell_type": "markdown",
   "id": "91369c83",
   "metadata": {},
   "source": [
    "For your convenience, the results of the vote in the four pivotal states is repeated below:\n",
    "\n",
    "|State | Trump |   Clinton | Total Voters |\n",
    "| --- | --- |  --- |  --- |\n",
    "|Florida | 49.02 | 47.82 | 9,419,886  | \n",
    "|Michigan | 47.50 | 47.27  |  4,799,284|\n",
    "|Pennsylvania | 48.18 | 47.46 |  6,165,478|\n",
    "|Wisconsin | 47.22 | 46.45  |  2,976,150|"
   ]
  },
  {
   "cell_type": "markdown",
   "id": "faeecc83",
   "metadata": {},
   "source": [
    "**Question 12.**  Using the table above, write a function named `draw_state_sample(N, state)` that returns a sample with replacement of $N$ voters from the given state. Your result should be returned as a list, where the first element is the number of Trump votes, the second element is the number of Clinton votes, and the third is the number of Other votes. \n",
    "\n",
    "For example, `draw_state_sample(1500, \"florida\")` could return `[727, 692, 81]`. You may assume that the state name is given in all lower case.\n",
    "\n",
    "**Hint:** You might find `np.random.multinomial` useful. Click [here](https://numpy.org/doc/stable/reference/random/generated/numpy.random.multinomial.html) to read the documentation.\n",
    "\n",
    "**Note:** Make sure that your function is working before you continue. You can check with your instructor."
   ]
  },
  {
   "cell_type": "code",
   "execution_count": null,
   "id": "cb73df96",
   "metadata": {
    "tags": []
   },
   "outputs": [],
   "source": [
    "def draw_state_sample(N, state):  \n",
    "    \"\"\"Returns a list where the first item is the number of Trump votes, the \n",
    "       second item is the number of Clinton votes, and the third item is the number\n",
    "       of votes for other.\n",
    "       -----\n",
    "       N: The number of voters from the state\n",
    "       state: The state Florida, Michigan, Pennsylvania, or Wisconsin\n",
    "    \"\"\"\n",
    "    ..."
   ]
  },
  {
   "cell_type": "code",
   "execution_count": null,
   "id": "46d6ea4e",
   "metadata": {
    "deletable": false,
    "editable": false
   },
   "outputs": [],
   "source": [
    "grader.check(\"q12\")"
   ]
  },
  {
   "cell_type": "markdown",
   "id": "00c514fb",
   "metadata": {},
   "source": [
    "**Question 13.** Now, create a function named `trump_advantage` that takes in a sample of votes (like the one returned by `draw_state_sample`) and returns the difference in the proportion of votes between Trump and Clinton. \n",
    "\n",
    "For example `trump_advantage([100, 60, 40])` would return `0.2`, since Trump had 50% of the votes in this sample and Clinton had 30%.\n",
    "\n",
    "**Note:** Make sure that your function is working before you continue. You can check with your instructor."
   ]
  },
  {
   "cell_type": "code",
   "execution_count": null,
   "id": "ca20a3b7",
   "metadata": {
    "tags": []
   },
   "outputs": [],
   "source": [
    "def trump_advantage(voter_sample):\n",
    "    \"\"\"Returns the difference in the proportion of votes between Trump and Clinton.\n",
    "       -----\n",
    "       voter_sample: The list from the draw_state_sample function.\n",
    "    \"\"\"\n",
    "    ..."
   ]
  },
  {
   "cell_type": "code",
   "execution_count": null,
   "id": "e42b45e7",
   "metadata": {
    "deletable": false,
    "editable": false
   },
   "outputs": [],
   "source": [
    "grader.check(\"q13\")"
   ]
  },
  {
   "cell_type": "markdown",
   "id": "54f8ac06",
   "metadata": {},
   "source": [
    "**Question 14.** Simulate Trump's advantage across 100,000 simple random samples of 1500 voters for the state of **Pennsylvania** and store the results of each simulation in a list called `simulations`."
   ]
  },
  {
   "cell_type": "code",
   "execution_count": null,
   "id": "82251856",
   "metadata": {
    "tags": []
   },
   "outputs": [],
   "source": [
    "simulations = ..."
   ]
  },
  {
   "cell_type": "code",
   "execution_count": null,
   "id": "5d42fd1f",
   "metadata": {
    "deletable": false,
    "editable": false
   },
   "outputs": [],
   "source": [
    "grader.check(\"q14\")"
   ]
  },
  {
   "cell_type": "markdown",
   "id": "e9480270",
   "metadata": {},
   "source": [
    "<!-- BEGIN QUESTION -->\n",
    "\n",
    "**Question 15.** Make a histogram of the sampling distribution of Trump's proportion advantage in Pennsylvania.\n",
    "\n",
    "**Notes:** \n",
    "\n",
    "- You can use the [`plt.hist` function](https://matplotlib.org/3.1.1/api/_as_gen/matplotlib.pyplot.hist.html) in your code.\n",
    "\n",
    "- Choose an appropriate value for the number of bins.\n",
    "\n",
    "- Make sure to give your plot a title and add labels where appropriate.\n",
    "\n",
    "- You can do this using `plt.title`, `plt.xlabel`, and `plt.ylabel`."
   ]
  },
  {
   "cell_type": "code",
   "execution_count": null,
   "id": "e4b5369f",
   "metadata": {
    "tags": []
   },
   "outputs": [],
   "source": [
    "..."
   ]
  },
  {
   "cell_type": "markdown",
   "id": "627a9351",
   "metadata": {},
   "source": [
    "<!-- END QUESTION -->\n",
    "\n",
    "<!-- BEGIN QUESTION -->\n",
    "\n",
    "**Question 16.** What does the histogram reveal about Trump's advantage based on our simulation?"
   ]
  },
  {
   "cell_type": "markdown",
   "id": "744e1361",
   "metadata": {},
   "source": [
    "_Type your answer here, replacing this text._"
   ]
  },
  {
   "cell_type": "markdown",
   "id": "ad09aeb9",
   "metadata": {},
   "source": [
    "<!-- END QUESTION -->\n",
    "\n",
    "**Question 17.** Now write a function named `trump_wins(N)` that creates a sample of $N$ voters for each of the four crucial states (Florida, Michigan, Pennsylvania, and Wisconsin) and returns 1 if Trump is predicted to win based on these samples and 0 if Trump is predicted to lose.\n",
    "\n",
    "Recall that for Trump to win the election, he must either:\n",
    "\n",
    "- Win the state of Florida and 1 or more other states\n",
    "\n",
    "- Win Michigan, Pennsylvania, and Wisconsin\n",
    "\n",
    "**Hint:** It would be helpful to use your `trump_advantage` function to complete this part of the assignment."
   ]
  },
  {
   "cell_type": "code",
   "execution_count": null,
   "id": "1a6a9628",
   "metadata": {
    "tags": []
   },
   "outputs": [],
   "source": [
    "def trump_wins(N):\n",
    "    \"\"\"Returns 1 if Trump is predicted to win based on these samples and 0 if Trump is predicted to lose.\n",
    "       -----\n",
    "       N: A sample of voters from Florida, Michigan, Pennsylvania, and Wisconsin.\n",
    "    \"\"\"\n",
    "    ..."
   ]
  },
  {
   "cell_type": "code",
   "execution_count": null,
   "id": "3de46f44",
   "metadata": {
    "deletable": false,
    "editable": false
   },
   "outputs": [],
   "source": [
    "grader.check(\"q17\")"
   ]
  },
  {
   "cell_type": "markdown",
   "id": "02948eb2",
   "metadata": {},
   "source": [
    "**Question 18.** If we repeat 100,000 simulations of the election (i.e. we call `trump_wins(1500)` 100,000 times) what proportion of these simulations predict a Trump victory? Save your answer as `proportion_trump`.\n",
    "\n",
    "**Note:** This number represents the percent chance that a given sample will correctly predict Trump's victory **even if the sample was collected with absolutely no bias**."
   ]
  },
  {
   "cell_type": "code",
   "execution_count": null,
   "id": "df77d629",
   "metadata": {
    "tags": []
   },
   "outputs": [],
   "source": [
    "proportion_trump = ...\n",
    "proportion_trump"
   ]
  },
  {
   "cell_type": "code",
   "execution_count": null,
   "id": "eed12cbf",
   "metadata": {
    "deletable": false,
    "editable": false
   },
   "outputs": [],
   "source": [
    "grader.check(\"q18\")"
   ]
  },
  {
   "cell_type": "markdown",
   "id": "0c0e4b6a",
   "metadata": {},
   "source": [
    "We have just completed our study of sampling error, and found how our predictions might look if there was no bias in our sampling process. Essentially, we assumed that the people surveyed didn't change their minds, didn't hide who they voted for, and were representative of those who voted on election day.\n",
    "\n",
    "# Simulation Study of Selection Bias\n",
    "\n",
    "According to an article by Grotenhuis, Subramanian, Nieuwenhuis, Pelzer and Eisinga entitled [Better poll sampling would have cast more doubt on the potential for Hillary Clinton to win the 2016 election](https://blogs.lse.ac.uk/usappblog/2018/02/01/better-poll-sampling-would-have-cast-more-doubt-on-the-potential-for-hillary-clinton-to-win-the-2016-election/#Author):\n",
    "\n",
    "> \"In a perfect world, polls sample from the population of voters, who would state their political preference perfectly clearly and then vote accordingly.\"\n",
    "\n",
    "That's the simulation study that we just performed. \n",
    "\n",
    "It's difficult to control for every source of selection bias. And, it's not possible to control for some of the other sources of bias. Next we investigate the effect of small sampling bias on the polling results in these four battleground states. Throughout this problem, we'll examine the impacts of a 0.5 percent bias in favor of Clinton in each state. Such a bias has been suggested because highly educated voters tend to be more willing to participate in polls."
   ]
  },
  {
   "cell_type": "markdown",
   "id": "7fa3b6d9",
   "metadata": {},
   "source": [
    "**Question 19.** In Pennsylvania, Clinton received 47.46 percent of the votes and Trump 48.18 percent. Increase the population of Clinton voters to 47.46 + 1  percent and correspondingly decrease the percent of Trump voters. Then simulate Trump's advantage across 100,000 simple random samples of 1500 voters for the state of **Pennsylvania** and store the results of each simulation in a list called `biased_simulations`.\n",
    "\n",
    "**Note:** Your answer to this problem should be just like your answer from **Question 12.**, but now using samples that are biased as described above."
   ]
  },
  {
   "cell_type": "code",
   "execution_count": null,
   "id": "88afaa68",
   "metadata": {
    "tags": []
   },
   "outputs": [],
   "source": [
    "def draw_biased_state_sample(N, state):\n",
    "    \"\"\"Returns a list where the first item is the number of Trump votes, the \n",
    "        second item is the number of Clinton votes, and the third item is the number\n",
    "        of votes for other.\n",
    "        -----\n",
    "        N: A sample of voters from Florida, Michigan, Pennsylvania, and Wisconsin.\n",
    "        state: Florida, Michigan, Pennsylvania, and Wisconsin.\n",
    "    \"\"\"    \n",
    "    ...\n",
    "biased_simulations = .."
   ]
  },
  {
   "cell_type": "code",
   "execution_count": null,
   "id": "6111533e",
   "metadata": {
    "deletable": false,
    "editable": false
   },
   "outputs": [],
   "source": [
    "grader.check(\"q19\")"
   ]
  },
  {
   "cell_type": "markdown",
   "id": "4f31612b",
   "metadata": {},
   "source": [
    "<!-- BEGIN QUESTION -->\n",
    "\n",
    "**Question 20.** Make a histogram of the new sampling distribution of Trump's proportion advantage now using the biased samples from **Question 19**.\n",
    "\n",
    "**Notes:** \n",
    "\n",
    "- You can use the [`plt.hist` function](https://matplotlib.org/3.1.1/api/_as_gen/matplotlib.pyplot.hist.html) in your code.\n",
    "\n",
    "- Choose an appropriate value for the number of bins.\n",
    "\n",
    "- Make sure to give your plot a title and add labels where appropriate.\n",
    "\n",
    "- You can do this using `plt.title`, `plt.xlabel`, and `plt.ylabel`."
   ]
  },
  {
   "cell_type": "code",
   "execution_count": null,
   "id": "2184dd1b",
   "metadata": {
    "tags": []
   },
   "outputs": [],
   "source": [
    "..."
   ]
  },
  {
   "cell_type": "markdown",
   "id": "34ef4810",
   "metadata": {},
   "source": [
    "<!-- END QUESTION -->\n",
    "\n",
    "<!-- BEGIN QUESTION -->\n",
    "\n",
    "**Question 21.** What does the histogram reveal about Trump's advantage based on our simulation with bias included?"
   ]
  },
  {
   "cell_type": "markdown",
   "id": "906ecb53",
   "metadata": {},
   "source": [
    "_Type your answer here, replacing this text._"
   ]
  },
  {
   "cell_type": "markdown",
   "id": "11e46c03",
   "metadata": {},
   "source": [
    "<!-- END QUESTION -->\n",
    "\n",
    "<!-- BEGIN QUESTION -->\n",
    "\n",
    "**Question 22.** Write 2-3 sentences comparing the histograms you created in **Question 15.** and in **Question 20**."
   ]
  },
  {
   "cell_type": "markdown",
   "id": "f4f6b936",
   "metadata": {},
   "source": [
    "_Type your answer here, replacing this text._"
   ]
  },
  {
   "cell_type": "markdown",
   "id": "ebc98f9b",
   "metadata": {},
   "source": [
    "<!-- END QUESTION -->\n",
    "\n",
    "**Question 23.** Now perform 100,000 simulations of all four states and return the proportion of these simulations that result in a Trump victory. This is the same fraction that you computed in **Question 18**, but now using your biased samples. Save your answer as `proportion_trump_biased`.\n",
    "\n",
    "**Note:** This number represents the chance that a sample biased 1% in Hillary Clinton's favor will correctly predict Trump's victory. You should observe that the chance is significantly lower than with an unbiased sample (i.e. your answer in **Question 18**)."
   ]
  },
  {
   "cell_type": "code",
   "execution_count": null,
   "id": "27009662",
   "metadata": {
    "tags": []
   },
   "outputs": [],
   "source": [
    "def trump_wins_biased(N):\n",
    "    \"\"\" Returns a 1 if Trump is predicted to win based on these samples and 0 if Trump is predicted to lose.\n",
    "        -----\n",
    "        N: A sample of voters from Florida, Michigan, Pennsylvania, and Wisconsin.\n",
    "    \"\"\"\n",
    "    ...\n",
    "proportion_trump_biased = ...\n",
    "proportion_trump_biased"
   ]
  },
  {
   "cell_type": "code",
   "execution_count": null,
   "id": "4c671ed7",
   "metadata": {
    "deletable": false,
    "editable": false
   },
   "outputs": [],
   "source": [
    "grader.check(\"q23\")"
   ]
  },
  {
   "cell_type": "markdown",
   "id": "cc06d393",
   "metadata": {
    "tags": []
   },
   "source": [
    "# Would increasing the sample size have helped?"
   ]
  },
  {
   "cell_type": "markdown",
   "id": "a297a07c",
   "metadata": {},
   "source": [
    "**Question 24.** Try a sample size of 5,000 and run 100,000 simulations of a sample with replacement. What proportion of the 100,000 times is Trump predicted to win the election in the unbiased setting? In the biased setting?\n",
    "\n",
    "Save your answers as `high_sample_size_unbiased_proportion_trump` and `high_sample_size_biased_proportion_trump`.\n",
    "\n",
    "**Note:** Your solution will take a while to run."
   ]
  },
  {
   "cell_type": "code",
   "execution_count": null,
   "id": "63b093cc",
   "metadata": {
    "tags": []
   },
   "outputs": [],
   "source": [
    "high_sample_size_unbiased_proportion_trump = ..\n",
    "high_sample_size_biased_proportion_trump = ...\n",
    "print(high_sample_size_unbiased_proportion_trump)\n",
    "print(high_sample_size_biased_proportion_trump)"
   ]
  },
  {
   "cell_type": "code",
   "execution_count": null,
   "id": "a355d7d3",
   "metadata": {
    "deletable": false,
    "editable": false
   },
   "outputs": [],
   "source": [
    "grader.check(\"q24\")"
   ]
  },
  {
   "cell_type": "markdown",
   "id": "377269a0",
   "metadata": {},
   "source": [
    "<!-- BEGIN QUESTION -->\n",
    "\n",
    "**Question 25.** What do your observations from **Question 24** say about the impact of sample size on the sampling error and on the bias?"
   ]
  },
  {
   "cell_type": "markdown",
   "id": "9b97e1a4",
   "metadata": {},
   "source": [
    "_Type your answer here, replacing this text._"
   ]
  },
  {
   "cell_type": "markdown",
   "id": "78af90af",
   "metadata": {},
   "source": [
    "<!-- END QUESTION -->\n",
    "\n",
    "According to FiveThirtyEight: \n",
    "\n",
    "> \"... Polls of the November 2016 presidential election were about as accurate as polls of presidential elections have been on average since 1972.\""
   ]
  },
  {
   "cell_type": "markdown",
   "id": "8fbaea49",
   "metadata": {},
   "source": [
    "<!-- BEGIN QUESTION -->\n",
    "\n",
    "**Question 26.** When the margin of victory may be relatively small as it was in 2016, why don't polling agencies simply gather significantly larger samples to bring this error close to zero? Write 4-5 sentences to answer this question."
   ]
  },
  {
   "cell_type": "markdown",
   "id": "08a6a04d",
   "metadata": {},
   "source": [
    "_Type your answer here, replacing this text._"
   ]
  },
  {
   "cell_type": "markdown",
   "id": "8c59f09c",
   "metadata": {},
   "source": [
    "<!-- END QUESTION -->\n",
    "\n"
   ]
  },
  {
   "cell_type": "markdown",
   "id": "0a4305be",
   "metadata": {
    "deletable": false,
    "editable": false
   },
   "source": [
    "## Submission\n",
    "\n",
    "Make sure you have run all cells in your notebook in order before running the cell below, so that all images/graphs appear in the output. The cell below will generate a zip file for you to submit. **Please save before exporting!**"
   ]
  },
  {
   "cell_type": "code",
   "execution_count": null,
   "id": "1d296e0b",
   "metadata": {
    "deletable": false,
    "editable": false
   },
   "outputs": [],
   "source": [
    "# Save your notebook first, then run this cell to export your submission.\n",
    "grader.export(run_tests=True)"
   ]
  },
  {
   "cell_type": "markdown",
   "id": "0f890725",
   "metadata": {},
   "source": [
    " "
   ]
  }
 ],
 "metadata": {
  "kernelspec": {
   "display_name": "Python 3 (ipykernel)",
   "language": "python",
   "name": "python3"
  },
  "language_info": {
   "codemirror_mode": {
    "name": "ipython",
    "version": 3
   },
   "file_extension": ".py",
   "mimetype": "text/x-python",
   "name": "python",
   "nbconvert_exporter": "python",
   "pygments_lexer": "ipython3",
   "version": "3.10.11"
  },
  "otter": {
   "OK_FORMAT": true,
   "tests": {
    "q1": {
     "name": "q1",
     "points": null,
     "suites": [
      {
       "cases": [
        {
         "code": ">>> isinstance(ans_q1, str)\nTrue",
         "hidden": false,
         "locked": false
        }
       ],
       "scored": true,
       "setup": "",
       "teardown": "",
       "type": "doctest"
      }
     ]
    },
    "q12": {
     "name": "q12",
     "points": null,
     "suites": [
      {
       "cases": [
        {
         "code": ">>> np.random.seed(123)\n>>> draw_state_sample(1500, \"florida\")\narray([763, 692,  45])",
         "hidden": false,
         "locked": false
        },
        {
         "code": ">>> np.random.seed(123)\n>>> draw_state_sample(1500, \"wisconsin\")\narray([736, 675,  89])",
         "hidden": false,
         "locked": false
        },
        {
         "code": ">>> np.random.seed(123)\n>>> draw_state_sample(1500, \"wisconsin\")\narray([736, 675,  89])",
         "hidden": false,
         "locked": false
        },
        {
         "code": ">>> np.random.seed(123)\n>>> draw_state_sample(1500, \"wisconsin\")\narray([736, 675,  89])",
         "hidden": false,
         "locked": false
        }
       ],
       "scored": true,
       "setup": "",
       "teardown": "",
       "type": "doctest"
      }
     ]
    },
    "q13": {
     "name": "q13",
     "points": null,
     "suites": [
      {
       "cases": [
        {
         "code": ">>> np.random.seed(123)\n>>> trump_advantage([100, 60, 40])\n0.2",
         "hidden": false,
         "locked": false
        }
       ],
       "scored": true,
       "setup": "",
       "teardown": "",
       "type": "doctest"
      }
     ]
    },
    "q14": {
     "name": "q14",
     "points": null,
     "suites": [
      {
       "cases": [
        {
         "code": ">>> len(simulations)\n100000",
         "hidden": false,
         "locked": false
        }
       ],
       "scored": true,
       "setup": "",
       "teardown": "",
       "type": "doctest"
      }
     ]
    },
    "q17": {
     "name": "q17",
     "points": null,
     "suites": [
      {
       "cases": [
        {
         "code": ">>> trump_wins(1500) in [1, 0]\nTrue",
         "hidden": false,
         "locked": false
        }
       ],
       "scored": true,
       "setup": "",
       "teardown": "",
       "type": "doctest"
      }
     ]
    },
    "q18": {
     "name": "q18",
     "points": null,
     "suites": [
      {
       "cases": [
        {
         "code": ">>> 0 < proportion_trump < 1\nTrue",
         "hidden": false,
         "locked": false
        }
       ],
       "scored": true,
       "setup": "",
       "teardown": "",
       "type": "doctest"
      }
     ]
    },
    "q19": {
     "name": "q19",
     "points": null,
     "suites": [
      {
       "cases": [
        {
         "code": ">>> len(biased_simulations)\n100000",
         "hidden": false,
         "locked": false
        }
       ],
       "scored": true,
       "setup": "",
       "teardown": "",
       "type": "doctest"
      }
     ]
    },
    "q2": {
     "name": "q2",
     "points": null,
     "suites": [
      {
       "cases": [
        {
         "code": ">>> isinstance(ans_q2, str)\nTrue",
         "hidden": false,
         "locked": false
        }
       ],
       "scored": true,
       "setup": "",
       "teardown": "",
       "type": "doctest"
      }
     ]
    },
    "q23": {
     "name": "q23",
     "points": null,
     "suites": [
      {
       "cases": [
        {
         "code": ">>> 0 < proportion_trump_biased < 1\nTrue",
         "hidden": false,
         "locked": false
        }
       ],
       "scored": true,
       "setup": "",
       "teardown": "",
       "type": "doctest"
      }
     ]
    },
    "q24": {
     "name": "q24",
     "points": null,
     "suites": [
      {
       "cases": [
        {
         "code": ">>> 0 < high_sample_size_unbiased_proportion_trump < 1\nTrue",
         "hidden": false,
         "locked": false
        },
        {
         "code": ">>> 0 < high_sample_size_biased_proportion_trump < 1\nTrue",
         "hidden": false,
         "locked": false
        }
       ],
       "scored": true,
       "setup": "",
       "teardown": "",
       "type": "doctest"
      }
     ]
    },
    "q3": {
     "name": "q3",
     "points": null,
     "suites": [
      {
       "cases": [
        {
         "code": ">>> isinstance(n, int) and isinstance(n1, int) and isinstance(n2, int) and isinstance(n3, int)\nTrue",
         "hidden": false,
         "locked": false
        },
        {
         "code": ">>> isinstance(p1, float) and isinstance(p2, float) and isinstance(p3, float)\nTrue",
         "hidden": false,
         "locked": false
        },
        {
         "code": ">>> p1 + p2 + p3\n1.0",
         "hidden": false,
         "locked": false
        }
       ],
       "scored": true,
       "setup": "",
       "teardown": "",
       "type": "doctest"
      }
     ]
    },
    "q4": {
     "name": "q4",
     "points": null,
     "suites": [
      {
       "cases": [
        {
         "code": ">>> isinstance(ans_q4, float)\nTrue",
         "hidden": false,
         "locked": false
        },
        {
         "code": ">>> 0 < ans_q4 < 0.07\nTrue",
         "hidden": false,
         "locked": false
        }
       ],
       "scored": true,
       "setup": "",
       "teardown": "",
       "type": "doctest"
      }
     ]
    },
    "q6": {
     "name": "q6",
     "points": null,
     "suites": [
      {
       "cases": [
        {
         "code": ">>> round(ans_q6)\n1",
         "hidden": false,
         "locked": false
        }
       ],
       "scored": true,
       "setup": "",
       "teardown": "",
       "type": "doctest"
      }
     ]
    },
    "q7": {
     "name": "q7",
     "points": null,
     "suites": [
      {
       "cases": [
        {
         "code": ">>> round(ans_q7, 5)\n0.05509",
         "hidden": false,
         "locked": false
        }
       ],
       "scored": true,
       "setup": "",
       "teardown": "",
       "type": "doctest"
      }
     ]
    },
    "q8": {
     "name": "q8",
     "points": null,
     "suites": [
      {
       "cases": [
        {
         "code": ">>> round(ans_q8, 6)\n0.469387",
         "hidden": false,
         "locked": false
        }
       ],
       "scored": true,
       "setup": "",
       "teardown": "",
       "type": "doctest"
      }
     ]
    }
   }
  }
 },
 "nbformat": 4,
 "nbformat_minor": 5
}
