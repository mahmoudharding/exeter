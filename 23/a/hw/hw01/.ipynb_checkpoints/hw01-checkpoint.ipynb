{
 "cells": [
  {
   "cell_type": "raw",
   "id": "ea413773-17a3-4c3d-aec6-8b4e7f97d8ac",
   "metadata": {},
   "source": [
    "# ASSIGNMENT CONFIG\n",
    "generate: true"
   ]
  },
  {
   "cell_type": "markdown",
   "id": "3f9d6914-de7a-4c96-a0c1-9da5181cda8e",
   "metadata": {},
   "source": [
    "# Homework 01\n",
    "\n",
    "Welcome to Homework 01! To receive credit for a homework assignment, answer all questions correctly and submit before the deadline.\n",
    "\n",
    "**Due Date:** \n",
    "\n",
    "**Collaboration Policy:** You are not allowed to discuss this assignment with other students. If you have questions please refer them to your instructor.\n",
    "\n",
    "**Note:** For autograded probability questions, the provided tests will only check that your answer is within a reasonable range.\n",
    "\n",
    "Run the cell below."
   ]
  },
  {
   "cell_type": "code",
   "execution_count": 1,
   "id": "8f6531cd-3c9d-4eb2-8541-1213081426a6",
   "metadata": {},
   "outputs": [],
   "source": [
    "import numpy as np\n",
    "\n",
    "from scipy import special\n",
    "\n",
    "%matplotlib inline\n",
    "import matplotlib.pyplot as plt\n",
    "plt.style.use('fivethirtyeight')"
   ]
  },
  {
   "cell_type": "markdown",
   "id": "1b1c7b1f-99d4-4f88-9f5c-2f87a657c9be",
   "metadata": {},
   "source": [
    "# Introduction\n",
    "\n",
    "The outcome of the 2016 US presidential election took many people and many pollsters by surprise. In this assignment we will carry out a post mortem simulation study in an attempt to understand what happened. Doing such an analysis is especially important given how often federal elections happen. \n",
    "\n",
    "According to [whitehouse.gov](https://www.whitehouse.gov/about-the-white-house/our-government/elections-and-voting/#:~:text=Federal%20elections%20occur%20every%20two,is%20held%20every%20fourth%20year.) \n",
    "\n",
    "> \"Federal elections occur every two years, on the first Tuesday after the first Monday in November. Every member of the House of Representatives and about one-third of the Senate is up for reelection in any given election year. A presidential election is held every fourth year.\" \n",
    "\n",
    "> \"Federal elections are administered by state and local governments, and the specifics of how elections are conducted differ from state to state. The Constitution and laws of the United States grant States wide latitude in how they administer elections.\"."
   ]
  },
  {
   "cell_type": "markdown",
   "id": "a5cb34d4-bbc9-4eea-8d49-56e1bdc2ec44",
   "metadata": {},
   "source": [
    "# Random Sample\n",
    "\n",
    "In Pennsylvania, 6,165,478 people voted in the 2016 Presidential election.\n",
    "Trump received 48.18% of the vote and Clinton received 47.46%.\n",
    "This doesn't add up to 100% because other candidates received votes.\n",
    "All together these other candidates received 100% - 48.18% - 47.46% = 4.36% of the vote.\n",
    "\n",
    "The table below displays the counts and proportions.\n",
    "\n",
    "\n",
    "|   Voted for   |  Trump|    Clinton|    Other|\n",
    "|-----------|-----------|-----------|---------|\n",
    "| Probability      |   0.4818   | 0.4746  |   0.0436 |\n",
    "| Number of people | 2,970,733  | 2,926,441 | 268,304 |"
   ]
  },
  {
   "cell_type": "raw",
   "id": "fdd76686-5c01-4e06-98fb-8d9ec24b6aa0",
   "metadata": {},
   "source": [
    "# BEGIN QUESTION\n",
    "name: q1"
   ]
  },
  {
   "cell_type": "markdown",
   "id": "255c0428-5930-403b-9bd1-30f4f4a896bf",
   "metadata": {},
   "source": [
    "**Question 1.** Suppose we pick a simple random sample of 20 of the 6,165,478 Pennsylvania (PA) voters. In the sample, let $N_T$ be the number of Trump voters, $N_C$ the number of Clinton voters, and $N_O$ the number of \"other\" voters. $N_T$, $N_C$, and $N_O$ are random: they depend on how the sample comes out. In the Foundations of Data Science course we called such quantities \"statistics\".\n",
    "\n",
    "Pick the correct option: \n",
    "\n",
    "$N_T + N_C + N_O$ is equal to\n",
    "\n",
    "a. 3\n",
    "\n",
    "b. 20\n",
    "\n",
    "c. 6,165,478\n",
    "\n",
    "d. a random quantity\n",
    "\n",
    "**Note:** If your answer is d, put  \n",
    "\n",
    "```\n",
    "ans_q1 = 'd'\n",
    "```\n",
    "\n",
    "for the purpose of grading.\n"
   ]
  },
  {
   "cell_type": "raw",
   "id": "648e36db-d1c3-4581-9e1a-37b5cc37494a",
   "metadata": {},
   "source": [
    "# BEGIN SOLUTION"
   ]
  },
  {
   "cell_type": "code",
   "execution_count": 2,
   "id": "742b8d69-b1d2-4e9a-afd8-9417ce89d759",
   "metadata": {},
   "outputs": [],
   "source": [
    "ans_q1 = 'b' # SOLUTION"
   ]
  },
  {
   "cell_type": "raw",
   "id": "fcf497dd-c6c1-4bd6-8366-616924fe624a",
   "metadata": {},
   "source": [
    "# END SOLUTION"
   ]
  },
  {
   "cell_type": "raw",
   "id": "e1a5546a-3531-4a8c-a855-7d62c32d617d",
   "metadata": {},
   "source": [
    "# BEGIN TESTS"
   ]
  },
  {
   "cell_type": "code",
   "execution_count": 3,
   "id": "683aa5bb-b994-471f-9a53-2907538f06c1",
   "metadata": {},
   "outputs": [
    {
     "data": {
      "text/plain": [
       "True"
      ]
     },
     "execution_count": 3,
     "metadata": {},
     "output_type": "execute_result"
    }
   ],
   "source": [
    "isinstance(ans_q1, str)"
   ]
  },
  {
   "cell_type": "code",
   "execution_count": 4,
   "id": "8d44f46f-0670-400b-944d-6b10d40673b5",
   "metadata": {},
   "outputs": [
    {
     "data": {
      "text/plain": [
       "True"
      ]
     },
     "execution_count": 4,
     "metadata": {},
     "output_type": "execute_result"
    }
   ],
   "source": [
    "# HIDDEN\n",
    "ans_q1 == 'b'"
   ]
  },
  {
   "cell_type": "raw",
   "id": "a5537d2f-d74d-4d4c-9dbe-589e228792ae",
   "metadata": {},
   "source": [
    "# END TESTS"
   ]
  },
  {
   "cell_type": "raw",
   "id": "f721c2e4-09bb-4c52-8059-be0c7584d185",
   "metadata": {},
   "source": [
    "# END QUESTION"
   ]
  },
  {
   "cell_type": "raw",
   "id": "28c5c31c-073b-4ade-8c72-73892a3979ae",
   "metadata": {},
   "source": [
    "# BEGIN QUESTION\n",
    "name: q2"
   ]
  },
  {
   "cell_type": "markdown",
   "id": "f38f3b38-fdcb-4af5-8548-c48da3349050",
   "metadata": {},
   "source": [
    "**Question 2.** Pick the correct option.\n",
    "\n",
    "A simple random sample of 20 PA voters is like a sample drawn at random without replacement, because\n",
    "\n",
    "a. that's the definition of \"simple random sample\"\n",
    "\n",
    "b. there are only 3 categories of voters, which is small in comparison to 20\n",
    "\n",
    "c. there are only 20 people in the sample, which is small in comparison to the total number of PA voters\n",
    "\n",
    "d. all PA voters are equally likely to be selected\n",
    "\n",
    "**Note:** If your answer is d, put  \n",
    "\n",
    "```\n",
    "ans_q2 = 'd'\n",
    "``` \n",
    "\n",
    "for the purpose of grading. \n"
   ]
  },
  {
   "cell_type": "raw",
   "id": "98ddc6ab-ebe3-4832-b918-10f6f95bbb69",
   "metadata": {},
   "source": [
    "# BEGIN SOLUTION"
   ]
  },
  {
   "cell_type": "code",
   "execution_count": 5,
   "id": "acdf90da-7a6f-448b-8a24-2b75d7eb14fe",
   "metadata": {},
   "outputs": [],
   "source": [
    "ans_q2 = 'd' # SOLUTION"
   ]
  },
  {
   "cell_type": "raw",
   "id": "e0c26048-1caa-479a-af73-b7fc1a63ec3d",
   "metadata": {},
   "source": [
    "# END SOLUTION"
   ]
  },
  {
   "cell_type": "raw",
   "id": "d0f14656-fc07-41af-98eb-cc16144e3af7",
   "metadata": {},
   "source": [
    "# BEGIN TESTS"
   ]
  },
  {
   "cell_type": "code",
   "execution_count": 6,
   "id": "18a99cbc-93f2-41c5-ae47-efe9dc63153c",
   "metadata": {},
   "outputs": [
    {
     "data": {
      "text/plain": [
       "True"
      ]
     },
     "execution_count": 6,
     "metadata": {},
     "output_type": "execute_result"
    }
   ],
   "source": [
    "isinstance(ans_q2, str)"
   ]
  },
  {
   "cell_type": "code",
   "execution_count": 7,
   "id": "28de5c80-043e-4d16-8635-8c7555423b01",
   "metadata": {},
   "outputs": [
    {
     "data": {
      "text/plain": [
       "True"
      ]
     },
     "execution_count": 7,
     "metadata": {},
     "output_type": "execute_result"
    }
   ],
   "source": [
    "# HIDDEN \n",
    "ans_q2 == 'd'"
   ]
  },
  {
   "cell_type": "raw",
   "id": "e1eaf648-49a8-413a-bc8a-a7f2939ab2f5",
   "metadata": {},
   "source": [
    "# END TESTS"
   ]
  },
  {
   "cell_type": "raw",
   "id": "4a0c08df-64f2-421c-8edf-d2ec1e6d7c70",
   "metadata": {},
   "source": [
    "# END QUESTION"
   ]
  },
  {
   "cell_type": "markdown",
   "id": "0524cbde-f3f8-4719-b5db-782f056dd780",
   "metadata": {},
   "source": [
    "# Multinomial Probability\n",
    "\n",
    "Earlier this semester we learned that the binomial distribution allows one to compute the probability of obtaining a given number of binary outcomes. For example, it can be used to compute the probability of getting 6 heads out of 10 coin flips. The flip of a coin is a binary outcome because it only has two possible outcomes: heads and tails. \n",
    "\n",
    "The multinomial distribution is used to compute the probabilities in situations in which there are more than two possible outcomes. For example, suppose that two students played numerous games of [rock, paper, scissors](https://youtu.be/ND4fd6yScBM) and it was determined that the probability Student A would win is 0.40, the probability Student B would win is 0.35, and the probability the game would end in a draw is 0.25. The multinomial distribution can be used to answer questions such as: \n",
    "\n",
    "> *\"If these two students played 10 games, what is the probability that Student A would win 5 games, Student B would win 3 games, and the remaining 2 games would end in a draw?\"* \n",
    "\n",
    "The following formula gives the probability of obtaining a specific set of outcomes when there are three possible outcomes for each event \n",
    "\n",
    "$$p=\\frac{n!}{n_1! \\cdot n_2! \\cdot n_3!}p_1^{n_1} \\cdot p_2^{n_2} \\cdot p_3^{n_3}$$\n",
    "\n",
    "where\n",
    "\n",
    "- $p$ is the probability,\n",
    "\n",
    "- $n$ is the total number of events,\n",
    "\n",
    "- $n_1$ is the number of times outcome 1 occurs,\n",
    "\n",
    "- $n_2$ is the number of times outcome 2 occurs,\n",
    "\n",
    "- $n_3$ is the number of times outcome 3 occurs,\n",
    "\n",
    "- $p_1$ is the probability of outcome 1\n",
    "\n",
    "- $p_2$ is the probability of outcome 2, \n",
    "\n",
    "- and $p_3$ is the probability of outcome 3."
   ]
  },
  {
   "cell_type": "raw",
   "id": "c73ade12-442c-41a5-863b-9284dc5e0b5a",
   "metadata": {},
   "source": [
    "# BEGIN QUESTION\n",
    "name: q3"
   ]
  },
  {
   "cell_type": "markdown",
   "id": "0afe8ca9-1cf5-4aeb-9eda-13bcaf1d7192",
   "metadata": {},
   "source": [
    "**Question 3.** Suppose that two students played 10 games of rock, paper, scissors and it was determined that the probability Student A would win is 0.40, the probability Student B would win is 0.35, and the probability the game would end in a draw is 0.25. If these two students played 10 games, Student A would win 5 games, Student B would win 3 games, and the remaining 2 games would end in a draw. Assign the correct value to each variable listed in the cell below."
   ]
  },
  {
   "cell_type": "raw",
   "id": "3b3d4364-7931-403f-9745-a060f0ce2c50",
   "metadata": {},
   "source": [
    "# BEGIN SOLUTION"
   ]
  },
  {
   "cell_type": "code",
   "execution_count": 8,
   "id": "5cba8d9e-e9c8-4973-bc41-274f9ff25dec",
   "metadata": {},
   "outputs": [],
   "source": [
    "# Number of games\n",
    "n = 10 # SOLUTION\n",
    "\n",
    "# Number of games won by Student A\n",
    "n1 = 5 # SOLUTION\n",
    "\n",
    "# Number of games won by Student B\n",
    "n2 = 3 # SOLUTION\n",
    "\n",
    "# Number of games drawn\n",
    "n3 = 2 # SOLUTION\n",
    "\n",
    "# Probability Stundet A wins\n",
    "p1 = 0.4 # SOLUTION\n",
    "\n",
    "# Probability Student B wins\n",
    "p2 = 0.35 # SOLUTION\n",
    "\n",
    "# Probability of a draw\n",
    "p3 = 0.25 # SOLUTION"
   ]
  },
  {
   "cell_type": "raw",
   "id": "2bc3c9e1-4bec-46c4-9e41-8cc3884920a1",
   "metadata": {},
   "source": [
    "# END SOLUTION"
   ]
  },
  {
   "cell_type": "raw",
   "id": "a2489395-48d2-4f63-8062-3eff9072e10a",
   "metadata": {},
   "source": [
    "# BEGIN TESTS"
   ]
  },
  {
   "cell_type": "code",
   "execution_count": 9,
   "id": "ac531865-47de-4f80-bf89-784ce1dd89de",
   "metadata": {},
   "outputs": [
    {
     "data": {
      "text/plain": [
       "True"
      ]
     },
     "execution_count": 9,
     "metadata": {},
     "output_type": "execute_result"
    }
   ],
   "source": [
    "isinstance(n, int) and isinstance(n1, int) and isinstance(n2, int) and isinstance(n3, int)"
   ]
  },
  {
   "cell_type": "code",
   "execution_count": 10,
   "id": "abf10a2e-96af-43d2-8147-ca4a5dddfb8f",
   "metadata": {},
   "outputs": [
    {
     "data": {
      "text/plain": [
       "True"
      ]
     },
     "execution_count": 10,
     "metadata": {},
     "output_type": "execute_result"
    }
   ],
   "source": [
    "isinstance(p1, float) and isinstance(p2, float) and isinstance(p3, float)"
   ]
  },
  {
   "cell_type": "code",
   "execution_count": 11,
   "id": "75362379-83aa-4cc4-b186-d7014952e7b7",
   "metadata": {},
   "outputs": [
    {
     "data": {
      "text/plain": [
       "1.0"
      ]
     },
     "execution_count": 11,
     "metadata": {},
     "output_type": "execute_result"
    }
   ],
   "source": [
    "p1 + p2 + p3"
   ]
  },
  {
   "cell_type": "code",
   "execution_count": 12,
   "id": "f94285d7-3fc6-4ad9-af4b-c3086693e84d",
   "metadata": {},
   "outputs": [
    {
     "data": {
      "text/plain": [
       "0.4"
      ]
     },
     "execution_count": 12,
     "metadata": {},
     "output_type": "execute_result"
    }
   ],
   "source": [
    "# HIDDEN\n",
    "p1"
   ]
  },
  {
   "cell_type": "code",
   "execution_count": 13,
   "id": "69f090ac-2d6a-41d2-bc5d-67d0ee362cee",
   "metadata": {},
   "outputs": [
    {
     "data": {
      "text/plain": [
       "0.35"
      ]
     },
     "execution_count": 13,
     "metadata": {},
     "output_type": "execute_result"
    }
   ],
   "source": [
    "# HIDDEN\n",
    "p2"
   ]
  },
  {
   "cell_type": "code",
   "execution_count": 14,
   "id": "c4189a7a-8254-4b6e-9c23-e1a004763fee",
   "metadata": {},
   "outputs": [
    {
     "data": {
      "text/plain": [
       "0.25"
      ]
     },
     "execution_count": 14,
     "metadata": {},
     "output_type": "execute_result"
    }
   ],
   "source": [
    "# HIDDEN\n",
    "p3"
   ]
  },
  {
   "cell_type": "raw",
   "id": "69a62e75-bd6f-4ffb-9755-3f424c9b9ae9",
   "metadata": {},
   "source": [
    "# END TESTS"
   ]
  },
  {
   "cell_type": "raw",
   "id": "fb1d40a8-ba6b-4323-b2a3-c1cdcff7ad28",
   "metadata": {},
   "source": [
    "# END QUESTION"
   ]
  },
  {
   "cell_type": "raw",
   "id": "46567d09-82cc-43e5-b34f-e3f70ade2c80",
   "metadata": {},
   "source": [
    "# BEGIN QUESTION\n",
    "name: q4"
   ]
  },
  {
   "cell_type": "markdown",
   "id": "74dc7762-4c94-4d9b-ac62-6d6a43302f8d",
   "metadata": {},
   "source": [
    "**Question 4.** What is the probability that Student A would win 5 games, Student B wins 3 games, and the remaining 2 games end in a draw?\n",
    "\n",
    "**Hint:** The `special.factorial` function, that we used in a previous lab, can be used to compute factorial products."
   ]
  },
  {
   "cell_type": "raw",
   "id": "6c3fe486-995f-4ee1-a950-2aa068508d6e",
   "metadata": {},
   "source": [
    "# BEGIN SOLUTION"
   ]
  },
  {
   "cell_type": "code",
   "execution_count": 15,
   "id": "0f9368ab-5b3b-40a0-88de-8ea0ef27ca59",
   "metadata": {},
   "outputs": [
    {
     "data": {
      "text/plain": [
       "0.0691488"
      ]
     },
     "execution_count": 15,
     "metadata": {},
     "output_type": "execute_result"
    }
   ],
   "source": [
    "ans_q4 = special.factorial(n)/(special.factorial(n1)*special.factorial(n2)*special.factorial(n3))*p1**n1*p2**n2*p3**n3 # SOLUTION\n",
    "ans_q4"
   ]
  },
  {
   "cell_type": "raw",
   "id": "74bbc375-77c6-4aea-b286-aa27adcfbd92",
   "metadata": {},
   "source": [
    "# END SOLUTION"
   ]
  },
  {
   "cell_type": "raw",
   "id": "d92bff18-3701-4143-8546-124caed0a06d",
   "metadata": {},
   "source": [
    "# BEGIN TESTS"
   ]
  },
  {
   "cell_type": "code",
   "execution_count": 16,
   "id": "4d79078b-5756-4e86-9495-ead750bedda0",
   "metadata": {},
   "outputs": [
    {
     "data": {
      "text/plain": [
       "True"
      ]
     },
     "execution_count": 16,
     "metadata": {},
     "output_type": "execute_result"
    }
   ],
   "source": [
    "isinstance(ans_q4, float)"
   ]
  },
  {
   "cell_type": "code",
   "execution_count": 17,
   "id": "613dcea4-4032-4261-9fd7-dfd70bcfd1d2",
   "metadata": {},
   "outputs": [
    {
     "data": {
      "text/plain": [
       "True"
      ]
     },
     "execution_count": 17,
     "metadata": {},
     "output_type": "execute_result"
    }
   ],
   "source": [
    "0 < ans_q4 < 0.07"
   ]
  },
  {
   "cell_type": "code",
   "execution_count": 18,
   "id": "ee79ac91-b7ac-42b0-a590-69df87d3996c",
   "metadata": {},
   "outputs": [
    {
     "data": {
      "text/plain": [
       "0.0691488"
      ]
     },
     "execution_count": 18,
     "metadata": {},
     "output_type": "execute_result"
    }
   ],
   "source": [
    "# HIDDEN\n",
    "ans_q4"
   ]
  },
  {
   "cell_type": "raw",
   "id": "70089d39-a996-488b-b551-43b0a22457be",
   "metadata": {},
   "source": [
    "# END TESTS"
   ]
  },
  {
   "cell_type": "raw",
   "id": "39185024-bcee-4bdc-a5c7-1958789b3583",
   "metadata": {},
   "source": [
    "# END QUESTION"
   ]
  },
  {
   "cell_type": "markdown",
   "id": "dddf65df-2268-4c11-8d24-645888e5dcfd",
   "metadata": {},
   "source": [
    "For the sample defined in **Question 1.**, the probability that the sample contains $t$ Trump voters, $c$ Clinton voters and $o$ \"other\" voters is denoted by $P(N_T = t, N_C = c, N_O = o)$, where $t$, $c$, and $o$ can be any three non-negative integers that add up to 20 (the number in the simple random sample). "
   ]
  },
  {
   "cell_type": "raw",
   "id": "5c83f01c-54e1-47f8-8940-0398a16ecd99",
   "metadata": {},
   "source": [
    "# BEGIN QUESTION\n",
    "name: q5"
   ]
  },
  {
   "cell_type": "markdown",
   "id": "680c02be-654c-48cf-9170-33d8289ad4f7",
   "metadata": {},
   "source": [
    "**Question 5.**  Define a function `prob_sample_counts` that takes any three non-negative integers $t$, $c$, and $o$, and returns $P(N_T = t, N_C = c, N_O = o)$. \n",
    "\n",
    "**Hints:**\n",
    "\n",
    "- The probability is 0 for some choices of the arguments, and your function should return 0 in those cases. For example, the number of sampled voters can't be negative.\n",
    "\n",
    "- Remember that **Question 2.** implies you can use results for sampling with replacement."
   ]
  },
  {
   "cell_type": "raw",
   "id": "efb0ef54-0150-4b87-93af-2caad0af19dc",
   "metadata": {},
   "source": [
    "# BEGIN SOLUTION"
   ]
  },
  {
   "cell_type": "code",
   "execution_count": 19,
   "id": "c48f9a3b-fa12-4237-bf67-c9d4ff2965e9",
   "metadata": {},
   "outputs": [],
   "source": [
    "def prob_sample_counts(t, c, o):\n",
    "    \"\"\"Returns the probability of getting a sample t, c, o\n",
    "       -------\n",
    "       t: number of votes for Trump\n",
    "       c: number of votes for Clinton\n",
    "       o: number of votes for Other \"\"\"\n",
    "# BEGIN SOLUTION NO PROMPT\n",
    "    if t + c + o != 20:\n",
    "        print('error')\n",
    "        return 0\n",
    "    if t < 0 or c < 0 or o < 0:\n",
    "        print('error')\n",
    "        return 0\n",
    "    return special.factorial(20) / (\n",
    "        special.factorial(t) *\n",
    "        special.factorial(c) *\n",
    "        special.factorial(o)\n",
    "    ) * 0.4818**t * 0.4746**c * 0.0436**o\n",
    "# END SOLUTION\n",
    "\"\"\" # BEGIN PROMPT\n",
    "    ...\n",
    "\"\"\"; # END PROMPT"
   ]
  },
  {
   "cell_type": "raw",
   "id": "f46207b5-c1d6-4e4e-8b16-ace050479cfd",
   "metadata": {},
   "source": [
    "# END SOLUTION"
   ]
  },
  {
   "cell_type": "raw",
   "id": "54bebb3d-d476-42a5-b039-9053b5ea3ea5",
   "metadata": {},
   "source": [
    "# BEGIN TESTS"
   ]
  },
  {
   "cell_type": "raw",
   "id": "d7a6697a-cc76-48f9-a48a-bca4a59671b1",
   "metadata": {},
   "source": [
    "# END TESTS"
   ]
  },
  {
   "cell_type": "raw",
   "id": "5c0ccc24-d36c-4283-96b5-a7e99b22009a",
   "metadata": {},
   "source": [
    "# END QUESTION"
   ]
  },
  {
   "cell_type": "raw",
   "id": "1d7211d1-54f8-4b58-adce-c567fc8d4837",
   "metadata": {},
   "source": [
    "# BEGIN QUESTION\n",
    "name: q6"
   ]
  },
  {
   "cell_type": "markdown",
   "id": "43eadaab-7627-4c48-a0d9-4844fbe8cb8f",
   "metadata": {},
   "source": [
    "**Question 6.** Check that your function determines a probability distribution by summing all the terms.\n",
    "\n",
    "**Hints:** \n",
    "\n",
    "- You will need to iterate through certain values of $c$ and $t$ to compute the sum of all probabilities.\n",
    "\n",
    "- To see how you can iterate through multiple values (i.e. $c$ and $t$) click [here](https://www.w3schools.com/python/gloss_python_for_nested.asp).\n",
    "\n",
    "**Note:** Due to floating point errors you may see `1.0000000000000007`. We will ignore this amount of loss of significance for the purpose of this assignment."
   ]
  },
  {
   "cell_type": "raw",
   "id": "2a8685a5-61c7-4dba-a9c5-bfc86dc0cb95",
   "metadata": {},
   "source": [
    "# BEGIN SOLUTION"
   ]
  },
  {
   "cell_type": "code",
   "execution_count": 20,
   "id": "face57b8-56f9-4eab-8ed5-ca20f1842f07",
   "metadata": {},
   "outputs": [
    {
     "data": {
      "text/plain": [
       "1.0000000000000007"
      ]
     },
     "execution_count": 20,
     "metadata": {},
     "output_type": "execute_result"
    }
   ],
   "source": [
    "ans_q6 = sum(prob_sample_counts(t,c,o) for t in range(21) for c in range(21) for o in range(21) if t+c+o == 20) # SOLUTION\n",
    "ans_q6"
   ]
  },
  {
   "cell_type": "raw",
   "id": "aa732591-bf9d-42a0-8bb0-8b17a197552b",
   "metadata": {},
   "source": [
    "# END SOLUTION"
   ]
  },
  {
   "cell_type": "raw",
   "id": "5fefa1e1-9254-4369-a7c9-cd78511e78ce",
   "metadata": {},
   "source": [
    "# BEGIN TESTS"
   ]
  },
  {
   "cell_type": "code",
   "execution_count": 21,
   "id": "2f4d243c-1fde-425a-b97a-6a2f4bb6102a",
   "metadata": {},
   "outputs": [
    {
     "data": {
      "text/plain": [
       "1"
      ]
     },
     "execution_count": 21,
     "metadata": {},
     "output_type": "execute_result"
    }
   ],
   "source": [
    "round(ans_q6)"
   ]
  },
  {
   "cell_type": "raw",
   "id": "a5b72155-bde9-4ed0-9c54-9e3f3ed32825",
   "metadata": {},
   "source": [
    "# END TESTS"
   ]
  },
  {
   "cell_type": "raw",
   "id": "3ceb9cd5-1e1b-4af9-9a4b-608efc36370a",
   "metadata": {},
   "source": [
    "# END QUESTION"
   ]
  },
  {
   "cell_type": "raw",
   "id": "6596616e-8862-4089-a39a-2657df14226d",
   "metadata": {},
   "source": [
    "# BEGIN QUESTION\n",
    "name: q7"
   ]
  },
  {
   "cell_type": "markdown",
   "id": "deadf4e7-27e2-4250-93db-06d39f2e4ff9",
   "metadata": {},
   "source": [
    "**Question 7.** Use `prob_sample_counts` to find the chance that the sample consists of 11 Trump voters, 8 Clinton voters, and 1 *\"other\"* voter."
   ]
  },
  {
   "cell_type": "raw",
   "id": "034e8e73-3c14-48db-a300-38ee66ec25f4",
   "metadata": {},
   "source": [
    "# BEGIN SOLUTION"
   ]
  },
  {
   "cell_type": "code",
   "execution_count": 22,
   "id": "df7adf2e-b019-4fbc-b68d-91d16bc826ae",
   "metadata": {},
   "outputs": [
    {
     "data": {
      "text/plain": [
       "0.055092374118670545"
      ]
     },
     "execution_count": 22,
     "metadata": {},
     "output_type": "execute_result"
    }
   ],
   "source": [
    "ans_q7 = prob_sample_counts(11,8,1) # SOLUTION\n",
    "ans_q7"
   ]
  },
  {
   "cell_type": "raw",
   "id": "f8180c90-5b57-4019-9c42-17e23642e2b7",
   "metadata": {},
   "source": [
    "# END SOLUTION"
   ]
  },
  {
   "cell_type": "raw",
   "id": "c964c6fa-695e-4c0d-bd1d-cc1f9dcabe8c",
   "metadata": {},
   "source": [
    "# BEGIN TESTS"
   ]
  },
  {
   "cell_type": "code",
   "execution_count": 23,
   "id": "12b88353-fad4-4b6e-9a0f-d1d4fb9f6726",
   "metadata": {},
   "outputs": [
    {
     "data": {
      "text/plain": [
       "0.05509"
      ]
     },
     "execution_count": 23,
     "metadata": {},
     "output_type": "execute_result"
    }
   ],
   "source": [
    "round(ans_q7, 5)"
   ]
  },
  {
   "cell_type": "raw",
   "id": "803f2d98-aed2-4bf1-a7d6-c15173e40f9a",
   "metadata": {},
   "source": [
    "# END TESTS"
   ]
  },
  {
   "cell_type": "raw",
   "id": "c2a04b59-de52-4e00-8324-6be671ccf2dd",
   "metadata": {},
   "source": [
    "# END QUESTION"
   ]
  },
  {
   "cell_type": "raw",
   "id": "6d93b658-20cc-4946-ac9f-0c69ec7d2c6b",
   "metadata": {},
   "source": [
    "# BEGIN QUESTION\n",
    "name: q8"
   ]
  },
  {
   "cell_type": "markdown",
   "id": "e4a45cdc-f372-4d01-8f76-3c8fa0b6fefe",
   "metadata": {},
   "source": [
    "**Question 8.** Write an expression that evaluates the chance that the sample contains at least 7 Trump voters, at least 7 Clinton voters, and at least 1 \"other\" voter. \n",
    "\n",
    "**Hint:** You might find **Question 6.** useful."
   ]
  },
  {
   "cell_type": "raw",
   "id": "12bdd794-d8e2-4b5c-bc6b-6a32396c2898",
   "metadata": {},
   "source": [
    "# BEGIN SOLUTION"
   ]
  },
  {
   "cell_type": "code",
   "execution_count": 24,
   "id": "f9e1c6c6-b619-4e56-b75b-15154998d6f2",
   "metadata": {},
   "outputs": [
    {
     "data": {
      "text/plain": [
       "0.46938707665092416"
      ]
     },
     "execution_count": 24,
     "metadata": {},
     "output_type": "execute_result"
    }
   ],
   "source": [
    "ans_q8 = sum(prob_sample_counts(t,c,o) for t in range(7,21) for c in range(7,21) for o in range(1,21) if t+c+o == 20) # SOLUTION\n",
    "ans_q8"
   ]
  },
  {
   "cell_type": "raw",
   "id": "74e7a9f0-59c2-45a8-8996-4e15a45e112d",
   "metadata": {},
   "source": [
    "# END SOLUTION"
   ]
  },
  {
   "cell_type": "raw",
   "id": "7a314cf6-8d6c-4834-8e05-3313aaf5a0cc",
   "metadata": {},
   "source": [
    "# BEGIN TESTS"
   ]
  },
  {
   "cell_type": "code",
   "execution_count": 25,
   "id": "af7687d9-fc0f-492d-8f48-778ec819ec06",
   "metadata": {},
   "outputs": [
    {
     "data": {
      "text/plain": [
       "0.469387"
      ]
     },
     "execution_count": 25,
     "metadata": {},
     "output_type": "execute_result"
    }
   ],
   "source": [
    "round(ans_q8, 6)"
   ]
  },
  {
   "cell_type": "raw",
   "id": "1ef2a125-f16b-4bda-8a9b-07aee5bcdd32",
   "metadata": {},
   "source": [
    "# END TESTS"
   ]
  },
  {
   "cell_type": "raw",
   "id": "9e0a0b21-8ee8-4a4a-87f0-367b4b762cfd",
   "metadata": {},
   "source": [
    "# END QUESTION"
   ]
  },
  {
   "cell_type": "markdown",
   "id": "e2d4c8d8-8ab6-4a73-bd50-280c96b0f865",
   "metadata": {},
   "source": [
    "# Election Polling\n",
    "\n",
    "Political polling is a type of public opinion polling that can represent a snapshot of public opinion at the particular moment in time. Voter opinion shifts from week to week, even day to day, as candidates battle it out on the campaign trail.\n",
    "\n",
    "Polls usually start with a \"horse-race\" question, where respondents are asked whom they would vote for in a head-to-head race if the election were tomorrow: Candidate A or Candidate B. The survey begins with this question so that the respondent is not influenced by any of the other questions asked in the survey. Some other questions are asked to help assess how likely is it that the respondent will vote. For example, questions about age, education, and sex are asked in order to adjust the findings in case one group appears overly represented in the sample. To contact people, pollsters typically use [random digit dialing](https://en.wikipedia.org/wiki/Random_digit_dialing)."
   ]
  },
  {
   "cell_type": "raw",
   "id": "3c0b5f4b-485a-4973-b7b2-fa7257356471",
   "metadata": {},
   "source": [
    "# BEGIN QUESTION\n",
    "name: q9\n",
    "manual: true"
   ]
  },
  {
   "cell_type": "markdown",
   "id": "a690419f-b31a-45cc-910e-0595186c41de",
   "metadata": {},
   "source": [
    "**Question 9.** If we're trying to predict the results of the Clinton vs. Trump presidential race, what is the population of interest? "
   ]
  },
  {
   "cell_type": "raw",
   "id": "2dc61454-32c9-44c6-83c7-2b26ee9c52d2",
   "metadata": {},
   "source": [
    "# BEGIN SOLUTION"
   ]
  },
  {
   "cell_type": "markdown",
   "id": "015b359c-8364-424b-863b-10523f324b9c",
   "metadata": {},
   "source": [
    "**SOLUTION:** The population of interest would be everyone eligible to vote in the Clinton vs. Trump presidential election."
   ]
  },
  {
   "cell_type": "raw",
   "id": "4375c29c-893e-43ff-8706-83166835d03b",
   "metadata": {},
   "source": [
    "# END SOLUTION"
   ]
  },
  {
   "cell_type": "raw",
   "id": "2821d037-5741-4672-be2d-22a26da435ce",
   "metadata": {},
   "source": [
    "# END QUESTION"
   ]
  },
  {
   "cell_type": "raw",
   "id": "bad38b80-7071-406e-80c5-f2e542eb70be",
   "metadata": {},
   "source": [
    "# BEGIN QUESTION\n",
    "name: q10\n",
    "manual: true"
   ]
  },
  {
   "cell_type": "markdown",
   "id": "ca7a5f19-69a5-414a-b86e-7e9146287927",
   "metadata": {},
   "source": [
    "**Question 10.** What is the access frame?"
   ]
  },
  {
   "cell_type": "raw",
   "id": "7c190888-2cf5-4a8f-9c97-c8b10d0e5214",
   "metadata": {},
   "source": [
    "# BEGIN SOLUTION"
   ]
  },
  {
   "cell_type": "markdown",
   "id": "e2d31077-9f99-4a69-a81f-fd0e673be838",
   "metadata": {},
   "source": [
    "**SOLUTION:** The access frame is the list of individuals who are eligible to vote in the presidential election."
   ]
  },
  {
   "cell_type": "raw",
   "id": "be87006d-764a-4cfe-aaa4-5e316f181c8a",
   "metadata": {},
   "source": [
    "# END SOLUTION"
   ]
  },
  {
   "cell_type": "raw",
   "id": "64a45560-6d25-4a3e-81af-d8e28463321f",
   "metadata": {},
   "source": [
    "# END QUESTION"
   ]
  },
  {
   "cell_type": "markdown",
   "id": "95631c29-425e-4e99-adbe-c6cc36925ee1",
   "metadata": {},
   "source": [
    "## How might the sampling frame differ from the population?\n",
    "\n",
    "After the fact, many experts have studied the 2016 election results. For example, according to the American Association for Public Opinion Research (AAPOR), predictions made before the election were flawed for three key reasons:\n",
    "\n",
    "1. Voters changed their preferences a few days before the election.\n",
    "\n",
    "1. Those sampled were not representative of the voting population, e.g., some said that there was an over-representation of college graduates in some poll samples. \n",
    "\n",
    "1. Voters kept their support for Trump to themselves (hidden from the pollsters).\n",
    "\n",
    "In **Simulation Study of the Sampling Error** ,  \n",
    "\n",
    "- we will carry out a study of the sampling error when there is no bias. In other words, we will try to compute the chance that we get the election result wrong even if we collect our sample in a manner that is completely correct. In this case, any failure of our prediction is due entirely to random chance.\n",
    "\n",
    "In **Simulation Study of Selection Bias**,\n",
    "\n",
    "- We will carry out a study of the sampling error when there is bias of the second type from the list above. In other words, we will try to compute the chance that we get the election result wrong if we have a small systematic bias. In this case, any failure of our prediction is due to a combination of random chance and our bias."
   ]
  },
  {
   "cell_type": "raw",
   "id": "decc7ac7-5fde-4d9d-91cd-56ad0190669a",
   "metadata": {},
   "source": [
    "# BEGIN QUESTION\n",
    "name: q11\n",
    "manual: true"
   ]
  },
  {
   "cell_type": "markdown",
   "id": "c03a773d-22ee-4559-894a-f89bb4e00f05",
   "metadata": {},
   "source": [
    "**Question 11.** Why can't we assess the impact of the other two biases (voters changing preference and voters hiding their preference)? \n",
    "\n",
    "**Note:** You might find it easier to complete this question after you've completed the rest of the homework including the simulation study."
   ]
  },
  {
   "cell_type": "raw",
   "id": "fa8a266d-b6f1-4baa-8bf7-081eb0b914f1",
   "metadata": {},
   "source": [
    "# BEGIN SOLUTION"
   ]
  },
  {
   "cell_type": "markdown",
   "id": "851ab031-19eb-478c-a08f-89ea0044b163",
   "metadata": {},
   "source": [
    "**SOLUTION:** While we can relatively easily measure how far from an accurate representation the demographics of those polled is, assuming that the demographic information was collected, it's impossible to say who changed support or hid their support since these are unknown quantities."
   ]
  },
  {
   "cell_type": "raw",
   "id": "25e231a5-c2a5-4249-801f-b881c5865a44",
   "metadata": {},
   "source": [
    "# END SOLUTION"
   ]
  },
  {
   "cell_type": "raw",
   "id": "a5410ec6-42bb-48be-8dd7-665072a32456",
   "metadata": {},
   "source": [
    "# END QUESTION"
   ]
  },
  {
   "cell_type": "markdown",
   "id": "135664e0-a109-4904-93e3-2989b131f1df",
   "metadata": {},
   "source": [
    "## How large was the sampling error?\n",
    "\n",
    "In some states the race was very close, and it may have been simply sampling error, i.e., random chance that the majority of the voters chosen for the sample voted for Clinton.\n",
    "\n",
    "A 2 or 3-point polling error in Trump’s favor (typical error historically) would likely be enough to tip the Electoral College to him.\n",
    "\n",
    "One year after the 2016 election, Nate Silver wrote in **The Media Has A Probability Problem** that \"the media’s demand for certainty -- and its lack of statistical rigor -- is a bad match for our complex world.\" FiveThirtyEight forecast that Clinton had about a 70 percent chance of winning.  \n",
    "\n",
    "We will first carry out a simulation study to assess the impact of the sampling error on the predictions."
   ]
  },
  {
   "cell_type": "markdown",
   "id": "dd5133c3-d271-4245-b2c4-ac6dc34afbbe",
   "metadata": {},
   "source": [
    "## The Electoral College\n",
    "\n",
    "The US president is chosen by the Electoral College, not by the popular vote. Each state is allotted a certain number of electoral college votes, as a function of their population.\n",
    "Whomever wins in the state gets all of the electoral college votes for that state.\n",
    "\n",
    "There are 538 electoral college votes (hence the name of the Nate Silver's site, FiveThirtyEight).\n",
    "\n",
    "Pollsters correctly predicted the election outcome in 46 of the 50 states. For these 46 states Trump received 231 and Clinton received 232 electoral college votes. The remaining 4 states accounted for a total of 75 votes, and whichever candidate received the majority of the electoral college votes in these states would win the election. \n",
    "\n",
    "These states were Florida, Michigan, Pennsylvania, and Wisconsin.\n",
    "\n",
    "|State |Electoral College Votes|\n",
    "| --- | --- |\n",
    "|Florida | 29 |\n",
    "|Michigan | 16 |\n",
    "|Pennsylvania | 20 |\n",
    "|Wisconsin | 10|\n",
    "\n",
    "For Donald Trump to win the election, he had to win either:\n",
    "\n",
    "* Florida + one (or more) other states\n",
    "* Michigan, Pennsylvania, and Wisconsin\n",
    "\n",
    "\n",
    "The electoral margins were very narrow in these four states, as seen below:\n",
    "\n",
    "\n",
    "|State | Trump |   Clinton | Total Voters |\n",
    "| --- | --- |  --- |  --- |\n",
    "|Florida | 49.02 | 47.82 | 9,419,886  | \n",
    "|Michigan | 47.50 | 47.27  |  4,799,284|\n",
    "|Pennsylvania | 48.18 | 47.46 |  6,165,478|\n",
    "|Wisconsin | 47.22 | 46.45  |  2,976,150|\n",
    "\n",
    "Those narrow electoral margins can make it hard to predict the outcome given the sample sizes that the polls used. "
   ]
  },
  {
   "cell_type": "markdown",
   "id": "87789303-7e74-4a42-a148-2689e2c414ea",
   "metadata": {},
   "source": [
    "# Simulation Study of the Sampling Error\n",
    "\n",
    "Now that we know how people actually voted, we can carry out a simulation study that imitates the polling. Our ultimate goal in this problem is to understand the chance that we will incorrectly call the election for Hillary Clinton even if our sample was collected with absolutely no bias."
   ]
  },
  {
   "cell_type": "markdown",
   "id": "f2f61490-cd5f-4a91-ae15-5e26fbd19851",
   "metadata": {},
   "source": [
    "For your convenience, the results of the vote in the four pivotal states is repeated below:\n",
    "\n",
    "|State | Trump |   Clinton | Total Voters |\n",
    "| --- | --- |  --- |  --- |\n",
    "|Florida | 49.02 | 47.82 | 9,419,886  | \n",
    "|Michigan | 47.50 | 47.27  |  4,799,284|\n",
    "|Pennsylvania | 48.18 | 47.46 |  6,165,478|\n",
    "|Wisconsin | 47.22 | 46.45  |  2,976,150|"
   ]
  },
  {
   "cell_type": "raw",
   "id": "207640fd-9901-4b2b-9a63-ab32fe40f1ec",
   "metadata": {},
   "source": [
    "# BEGIN QUESTION\n",
    "name: q12"
   ]
  },
  {
   "cell_type": "markdown",
   "id": "1dff06f0-eee8-48a0-bc63-efa0f5b9e58b",
   "metadata": {},
   "source": [
    "**Question 12.**  Using the table above, write a function named `draw_state_sample(N, state)` that returns a sample with replacement of $N$ voters from the given state. Your result should be returned as a list, where the first element is the number of Trump votes, the second element is the number of Clinton votes, and the third is the number of Other votes. \n",
    "\n",
    "For example, `draw_state_sample(1500, \"florida\")` could return `[727, 692, 81]`. You may assume that the state name is given in all lower case.\n",
    "\n",
    "**Hint:** You might find `np.random.multinomial` useful. Click [here](https://numpy.org/doc/stable/reference/random/generated/numpy.random.multinomial.html) to read the documentation.\n",
    "\n",
    "**Note:** Make sure that your function is working before you continue. You can check with your instructor."
   ]
  },
  {
   "cell_type": "raw",
   "id": "07f5513d-cd73-42a8-9027-d22a0595c31e",
   "metadata": {},
   "source": [
    "# BEGIN SOLUTION"
   ]
  },
  {
   "cell_type": "code",
   "execution_count": 26,
   "id": "b2518186-5fa3-4bf8-b64b-6e0dd9afaba9",
   "metadata": {},
   "outputs": [],
   "source": [
    "def draw_state_sample(N, state):  \n",
    "    \"\"\"Returns a list where the first item is the number of Trump votes, the \n",
    "       second item is the number of Clinton votes, and the third item is the number\n",
    "       of votes for other.\n",
    "       -----\n",
    "       N: The number of voters from the state\n",
    "       state: The state Florida, Michigan, Pennsylvania, or Wisconsin\n",
    "    \"\"\"\n",
    "# BEGIN SOLUTION NO PROMPT\n",
    "    draw_state_sample_data = {\n",
    "    'florida': [0.4902, 0.4782, 1-(0.4902 + 0.4782)],\n",
    "    'michigan': [0.4750, 0.4727, 1-(0.4750 + 0.4727)],\n",
    "    'pennsylvania': [0.4818, 0.4746, 1-(0.4818 + 0.4746)],\n",
    "    'wisconsin': [0.4722, 0.4645, 1-(0.4722 + 0.4645)],\n",
    "    }\n",
    "\n",
    "    if state.lower() not in ['florida', 'michigan', 'pennsylvania', 'wisconsin']:\n",
    "        return [0, 0, 0]\n",
    "    return np.random.multinomial(N, draw_state_sample_data[state.lower()])\n",
    "# END SOLUTION\n",
    "\"\"\" # BEGIN PROMPT\n",
    "    ...\n",
    "\"\"\"; # END PROMPT"
   ]
  },
  {
   "cell_type": "raw",
   "id": "a5788bee-d04f-4b03-a2c1-8f877d21930c",
   "metadata": {},
   "source": [
    "# END SOLUTION"
   ]
  },
  {
   "cell_type": "raw",
   "id": "3dccfa87-cfb7-4c80-a059-8ce6356636e7",
   "metadata": {},
   "source": [
    "# BEGIN TESTS"
   ]
  },
  {
   "cell_type": "code",
   "execution_count": 27,
   "id": "7fd11bbe-c589-4a92-9e43-1e2ccc669e1b",
   "metadata": {},
   "outputs": [
    {
     "data": {
      "text/plain": [
       "array([763, 692,  45])"
      ]
     },
     "execution_count": 27,
     "metadata": {},
     "output_type": "execute_result"
    }
   ],
   "source": [
    "np.random.seed(123)\n",
    "draw_state_sample(1500, \"florida\")"
   ]
  },
  {
   "cell_type": "code",
   "execution_count": 28,
   "id": "b0a57c21-c1ab-4d37-98c8-e39a368bd7f6",
   "metadata": {},
   "outputs": [
    {
     "data": {
      "text/plain": [
       "array([736, 675,  89])"
      ]
     },
     "execution_count": 28,
     "metadata": {},
     "output_type": "execute_result"
    }
   ],
   "source": [
    "np.random.seed(123)\n",
    "draw_state_sample(1500, \"wisconsin\")"
   ]
  },
  {
   "cell_type": "code",
   "execution_count": 29,
   "id": "e5838480",
   "metadata": {},
   "outputs": [
    {
     "data": {
      "text/plain": [
       "array([736, 675,  89])"
      ]
     },
     "execution_count": 29,
     "metadata": {},
     "output_type": "execute_result"
    }
   ],
   "source": [
    "np.random.seed(123)\n",
    "draw_state_sample(1500, \"wisconsin\")"
   ]
  },
  {
   "cell_type": "code",
   "execution_count": 30,
   "id": "b729fa60",
   "metadata": {},
   "outputs": [
    {
     "data": {
      "text/plain": [
       "array([736, 675,  89])"
      ]
     },
     "execution_count": 30,
     "metadata": {},
     "output_type": "execute_result"
    }
   ],
   "source": [
    "np.random.seed(123)\n",
    "draw_state_sample(1500, \"wisconsin\")"
   ]
  },
  {
   "cell_type": "raw",
   "id": "cf250ec6-f922-4cdc-866d-ffb6569b50bc",
   "metadata": {},
   "source": [
    "# END TESTS"
   ]
  },
  {
   "cell_type": "raw",
   "id": "99aab544-9755-477f-95ca-ef759fe7fbe4",
   "metadata": {},
   "source": [
    "# END QUESTION"
   ]
  },
  {
   "cell_type": "raw",
   "id": "18dec292-9142-4d77-b493-225e8a2b3cdb",
   "metadata": {},
   "source": [
    "# BEGIN QUESTION\n",
    "name: q13"
   ]
  },
  {
   "cell_type": "markdown",
   "id": "96df67bd-ec0f-4f73-a68f-fa590eefaffd",
   "metadata": {},
   "source": [
    "**Question 13.** Now, create a function named `trump_advantage` that takes in a sample of votes (like the one returned by `draw_state_sample`) and returns the difference in the proportion of votes between Trump and Clinton. \n",
    "\n",
    "For example `trump_advantage([100, 60, 40])` would return `0.2`, since Trump had 50% of the votes in this sample and Clinton had 30%.\n",
    "\n",
    "**Note:** Make sure that your function is working before you continue. You can check with your instructor."
   ]
  },
  {
   "cell_type": "raw",
   "id": "d6c43809-8c67-4a18-9bd5-de744067833f",
   "metadata": {},
   "source": [
    "# BEGIN SOLUTION"
   ]
  },
  {
   "cell_type": "code",
   "execution_count": 31,
   "id": "f2156529-49a4-4bbd-a077-6be6653df7ca",
   "metadata": {},
   "outputs": [],
   "source": [
    "def trump_advantage(voter_sample):\n",
    "    \"\"\"Returns the difference in the proportion of votes between Trump and Clinton.\n",
    "       -----\n",
    "       voter_sample: The list from the draw_state_sample function.\n",
    "    \"\"\"\n",
    "# BEGIN SOLUTION NO PROMPT\n",
    "    return voter_sample[0]/sum(voter_sample) - voter_sample[1]/sum(voter_sample)\n",
    "# END SOLUTION\n",
    "\"\"\" # BEGIN PROMPT\n",
    "    ...\n",
    "\"\"\"; # END PROMPT"
   ]
  },
  {
   "cell_type": "raw",
   "id": "97aba3a6-8d26-4b75-bb77-5ab385810e6b",
   "metadata": {},
   "source": [
    "# END SOLUTION"
   ]
  },
  {
   "cell_type": "raw",
   "id": "34ed4e0a-6bb7-4ea7-a800-293cffa6601c",
   "metadata": {},
   "source": [
    "# BEGIN TESTS"
   ]
  },
  {
   "cell_type": "code",
   "execution_count": 32,
   "id": "9e2bb7cf-660c-4c73-a312-5af5b70f6786",
   "metadata": {},
   "outputs": [
    {
     "data": {
      "text/plain": [
       "0.2"
      ]
     },
     "execution_count": 32,
     "metadata": {},
     "output_type": "execute_result"
    }
   ],
   "source": [
    "np.random.seed(123)\n",
    "trump_advantage([100, 60, 40])"
   ]
  },
  {
   "cell_type": "raw",
   "id": "e4467e9e-8fed-4fe0-b491-73d3e3c14354",
   "metadata": {},
   "source": [
    "# END TESTS"
   ]
  },
  {
   "cell_type": "raw",
   "id": "03edb98b-51c8-4b47-ac73-8b08a286f3ec",
   "metadata": {},
   "source": [
    "# END QUESTION"
   ]
  },
  {
   "cell_type": "raw",
   "id": "89069f27-2ab2-4252-bb55-a9d49dd3624d",
   "metadata": {},
   "source": [
    "# BEGIN QUESTION\n",
    "name: q14"
   ]
  },
  {
   "cell_type": "markdown",
   "id": "f197d077-5187-4af0-885c-1a6a20ba2724",
   "metadata": {},
   "source": [
    "**Question 14.** Simulate Trump's advantage across 100,000 simple random samples of 1500 voters for the state of **Pennsylvania** and store the results of each simulation in a list called `simulations`."
   ]
  },
  {
   "cell_type": "raw",
   "id": "b5e84c14-c139-49ce-b0cf-e44234cab223",
   "metadata": {},
   "source": [
    "# BEGIN SOLUTION"
   ]
  },
  {
   "cell_type": "code",
   "execution_count": 33,
   "id": "cfbb4b9e-4fda-4847-adf8-65cc6758fc32",
   "metadata": {},
   "outputs": [],
   "source": [
    "simulations = [trump_advantage(draw_state_sample(1500, 'pennsylvania')) for _ in range(100000)] # SOLUTIONS"
   ]
  },
  {
   "cell_type": "raw",
   "id": "12fefdd6-2d5e-47e5-9aee-adb025283272",
   "metadata": {},
   "source": [
    "# END SOLUTION"
   ]
  },
  {
   "cell_type": "raw",
   "id": "d25bbf92-ec92-437e-8d11-26da6a07a9a8",
   "metadata": {},
   "source": [
    "# BEGIN TESTS"
   ]
  },
  {
   "cell_type": "code",
   "execution_count": 34,
   "id": "ce1bc148-ea84-4bdf-9bb8-0c8c62306d24",
   "metadata": {},
   "outputs": [
    {
     "data": {
      "text/plain": [
       "100000"
      ]
     },
     "execution_count": 34,
     "metadata": {},
     "output_type": "execute_result"
    }
   ],
   "source": [
    "len(simulations)"
   ]
  },
  {
   "cell_type": "code",
   "execution_count": 35,
   "id": "eded81eb-9fbe-4f45-9385-af595673a5ea",
   "metadata": {},
   "outputs": [
    {
     "data": {
      "text/plain": [
       "1.0"
      ]
     },
     "execution_count": 35,
     "metadata": {},
     "output_type": "execute_result"
    }
   ],
   "source": [
    "# HIDDEN\n",
    "np.random.seed(123)\n",
    "trump_advantage(draw_state_sample(1, 'pennsylvania'))"
   ]
  },
  {
   "cell_type": "code",
   "execution_count": 36,
   "id": "19d2adcd-29a0-4b73-bbe7-7eed474ed31c",
   "metadata": {},
   "outputs": [
    {
     "data": {
      "text/plain": [
       "718.5146666666667"
      ]
     },
     "execution_count": 36,
     "metadata": {},
     "output_type": "execute_result"
    }
   ],
   "source": [
    "# HIDDEN\n",
    "np.random.seed(123)\n",
    "np.sum([trump_advantage(draw_state_sample(1500, 'pennsylvania')) for _ in range(100000)])"
   ]
  },
  {
   "cell_type": "raw",
   "id": "c15ba9cc-a01d-4e8b-aab9-12db59e29879",
   "metadata": {},
   "source": [
    "# END TESTS"
   ]
  },
  {
   "cell_type": "raw",
   "id": "4bba46db-64bd-43ea-a59a-2ad409580f36",
   "metadata": {},
   "source": [
    "# END QUESTION"
   ]
  },
  {
   "cell_type": "raw",
   "id": "099efd4a-b38b-4060-b95b-c87fe9944261",
   "metadata": {},
   "source": [
    "# BEGIN QUESTION\n",
    "name: q15\n",
    "manual: true"
   ]
  },
  {
   "cell_type": "markdown",
   "id": "f8196148-46cb-45dd-aad7-b4dfade4b423",
   "metadata": {},
   "source": [
    "**Question 15.** Make a histogram of the sampling distribution of Trump's proportion advantage in Pennsylvania.\n",
    "\n",
    "**Notes:** \n",
    "\n",
    "- You can use the [`plt.hist` function](https://matplotlib.org/3.1.1/api/_as_gen/matplotlib.pyplot.hist.html) in your code.\n",
    "\n",
    "- Choose an appropriate value for the number of bins.\n",
    "\n",
    "- Make sure to give your plot a title and add labels where appropriate.\n",
    "\n",
    "- You can do this using `plt.title`, `plt.xlabel`, and `plt.ylabel`."
   ]
  },
  {
   "cell_type": "raw",
   "id": "a4738352-93a2-463d-b67c-be17e0714261",
   "metadata": {},
   "source": [
    "# BEGIN SOLUTION"
   ]
  },
  {
   "cell_type": "code",
   "execution_count": 37,
   "id": "25ba2e53-572c-46a4-97ba-34f93faa8753",
   "metadata": {},
   "outputs": [
    {
     "data": {
      "image/png": "[encoded data removed]",
      "text/plain": [
       "<Figure size 432x288 with 1 Axes>"
      ]
     },
     "metadata": {},
     "output_type": "display_data"
    }
   ],
   "source": [
    "# BEGIN SOLUTION NO PROMPT\n",
    "plt.hist(simulations, bins=20)\n",
    "plt.title('Pennsylvania')\n",
    "plt.xlabel('Sampling Distribution Advantage')\n",
    "plt.ylabel('Number of Simulations');\n",
    "# END SOLUTION\n",
    "\"\"\" # BEGIN PROMPT\n",
    "...\n",
    "\"\"\"; # END PROMPT"
   ]
  },
  {
   "cell_type": "raw",
   "id": "04bc1531-7791-4bdf-8a11-3bdebf2221be",
   "metadata": {},
   "source": [
    "# END SOLUTION"
   ]
  },
  {
   "cell_type": "raw",
   "id": "0274ff20-1992-4b12-974f-e0dded96d13f",
   "metadata": {},
   "source": [
    "# END QUESTION"
   ]
  },
  {
   "cell_type": "raw",
   "id": "7b90eeeb-17a3-4497-86aa-80e197c6a521",
   "metadata": {},
   "source": [
    "# BEGIN QUESTION\n",
    "name: q16\n",
    "manual: true"
   ]
  },
  {
   "cell_type": "markdown",
   "id": "b0ebfca2-5f52-42de-a8f1-03c19ae3646e",
   "metadata": {},
   "source": [
    "**Question 16.** What does the histogram reveal about Trump's advantage based on our simulation?"
   ]
  },
  {
   "cell_type": "raw",
   "id": "3010fad1-3a24-41ae-b993-bb0e95bbc0f5",
   "metadata": {},
   "source": [
    "# BEGIN SOLUTION"
   ]
  },
  {
   "cell_type": "markdown",
   "id": "977eca92-3010-4b8f-a859-e6c6c4daf002",
   "metadata": {},
   "source": [
    "**SOLUTION:** In the majority of the simulations Trump's advantage was 0. This is where the tallest bin is located. The advantage appears to be normally distributed about 0."
   ]
  },
  {
   "cell_type": "raw",
   "id": "28c8cefa-d7d4-4170-a339-a132613636d0",
   "metadata": {},
   "source": [
    "# END SOLUTION"
   ]
  },
  {
   "cell_type": "raw",
   "id": "26944212-afe7-4865-9672-0754ed5c7c68",
   "metadata": {},
   "source": [
    "# END QUESTION"
   ]
  },
  {
   "cell_type": "raw",
   "id": "0cc8d3c2-0deb-46c8-a556-50febf02beca",
   "metadata": {},
   "source": [
    "# BEGIN QUESTION\n",
    "name: q17"
   ]
  },
  {
   "cell_type": "markdown",
   "id": "7d41a4ae-5d51-4959-971f-647473a173a1",
   "metadata": {},
   "source": [
    "**Question 17.** Now write a function named `trump_wins(N)` that creates a sample of $N$ voters for each of the four crucial states (Florida, Michigan, Pennsylvania, and Wisconsin) and returns 1 if Trump is predicted to win based on these samples and 0 if Trump is predicted to lose.\n",
    "\n",
    "Recall that for Trump to win the election, he must either:\n",
    "\n",
    "- Win the state of Florida and 1 or more other states\n",
    "\n",
    "- Win Michigan, Pennsylvania, and Wisconsin\n",
    "\n",
    "**Hint:** It would be helpful to use your `trump_advantage` function to complete this part of the assignment."
   ]
  },
  {
   "cell_type": "raw",
   "id": "5058ab4e-32ae-435c-a4b4-69046c866eea",
   "metadata": {},
   "source": [
    "# BEGIN SOLUTION"
   ]
  },
  {
   "cell_type": "code",
   "execution_count": 38,
   "id": "b44b24a3-2333-4844-ba8a-0397c45de524",
   "metadata": {},
   "outputs": [],
   "source": [
    "def trump_wins(N):\n",
    "    \"\"\"Returns 1 if Trump is predicted to win based on these samples and 0 if Trump is predicted to lose.\n",
    "       -----\n",
    "       N: A sample of voters from Florida, Michigan, Pennsylvania, and Wisconsin.\n",
    "    \"\"\"\n",
    "# BEGIN SOLUTION NO PROMPT\n",
    "    wins_florida = np.argmax(draw_state_sample(N, 'florida')) == 0\n",
    "    wins_michigan = np.argmax(draw_state_sample(N, 'michigan')) == 0\n",
    "    wins_pennsylvania = np.argmax(draw_state_sample(N, 'pennsylvania')) == 0\n",
    "    wins_wisconsin = np.argmax(draw_state_sample(N, 'wisconsin')) == 0\n",
    "    return 1 if (wins_florida and (wins_michigan or wins_pennsylvania or wins_wisconsin)) or (wins_michigan and wins_pennsylvania and wins_wisconsin) else 0\n",
    "# END SOLUTION\n",
    "\"\"\" # BEGIN PROMPT\n",
    "    ...\n",
    "\"\"\"; # END PROMPT"
   ]
  },
  {
   "cell_type": "raw",
   "id": "ca0f7f56-33b2-4b2f-af51-c4ef04f53129",
   "metadata": {},
   "source": [
    "# END SOLUTION"
   ]
  },
  {
   "cell_type": "raw",
   "id": "8fb130b9-97bc-43dd-be7a-91b6301a31ff",
   "metadata": {},
   "source": [
    "# BEGIN TESTS"
   ]
  },
  {
   "cell_type": "code",
   "execution_count": 39,
   "id": "82342ae2-c6b0-4b61-b38d-2fc151539d19",
   "metadata": {},
   "outputs": [
    {
     "data": {
      "text/plain": [
       "True"
      ]
     },
     "execution_count": 39,
     "metadata": {},
     "output_type": "execute_result"
    }
   ],
   "source": [
    "trump_wins(1500) in [1, 0]"
   ]
  },
  {
   "cell_type": "raw",
   "id": "4affe4d3-5ce9-422a-ae18-a9cd03b6b7a3",
   "metadata": {},
   "source": [
    "# END TESTS"
   ]
  },
  {
   "cell_type": "raw",
   "id": "768c80c7-8d7d-40dd-9741-4fdc8627b0bc",
   "metadata": {},
   "source": [
    "# END QUESTION"
   ]
  },
  {
   "cell_type": "raw",
   "id": "22dc0aaa-2cc1-4d75-9e4c-ad739bb8b7de",
   "metadata": {},
   "source": [
    "# BEGIN QUESTION\n",
    "name: q18"
   ]
  },
  {
   "cell_type": "markdown",
   "id": "97d48a0a-4fa2-4e70-82c2-6da8924a5454",
   "metadata": {},
   "source": [
    "**Question 18.** If we repeat 100,000 simulations of the election (i.e. we call `trump_wins(1500)` 100,000 times) what proportion of these simulations predict a Trump victory? Save your answer as `proportion_trump`.\n",
    "\n",
    "**Note:** This number represents the percent chance that a given sample will correctly predict Trump's victory **even if the sample was collected with absolutely no bias**."
   ]
  },
  {
   "cell_type": "raw",
   "id": "93dcedbf-1afc-489f-9579-6327cea93f11",
   "metadata": {},
   "source": [
    "# BEGIN SOLUTION"
   ]
  },
  {
   "cell_type": "code",
   "execution_count": 40,
   "id": "01247bf5-dbde-4b7e-b300-8bc72214c420",
   "metadata": {},
   "outputs": [
    {
     "data": {
      "text/plain": [
       "0.70639"
      ]
     },
     "execution_count": 40,
     "metadata": {},
     "output_type": "execute_result"
    }
   ],
   "source": [
    "# BEGIN SOLUTION NO PROMPT\n",
    "proportion_trump_sims = [trump_wins(1500) for _ in range(100000)]\n",
    "proportion_trump = sum(proportion_trump_sims) / len(proportion_trump_sims)\n",
    "# END SOLUTION\n",
    "\"\"\" # BEGIN PROMPT\n",
    "proportion_trump = ...\n",
    "\"\"\"; # END PROMPT\n",
    "proportion_trump"
   ]
  },
  {
   "cell_type": "raw",
   "id": "f96af62f-9dc3-40fc-9b9b-e4753eb25b7d",
   "metadata": {},
   "source": [
    "# END SOLUTION"
   ]
  },
  {
   "cell_type": "raw",
   "id": "69c4e5f2-7bd4-48f0-89a6-92b7560454d1",
   "metadata": {},
   "source": [
    "# BEGIN TESTS"
   ]
  },
  {
   "cell_type": "code",
   "execution_count": 41,
   "id": "4d0997d4-39f2-4d09-ab23-f035db7d99f7",
   "metadata": {},
   "outputs": [
    {
     "data": {
      "text/plain": [
       "True"
      ]
     },
     "execution_count": 41,
     "metadata": {},
     "output_type": "execute_result"
    }
   ],
   "source": [
    "0 < proportion_trump < 1"
   ]
  },
  {
   "cell_type": "code",
   "execution_count": 42,
   "id": "df85ab88-4b1b-4328-90f9-6af1d75972f5",
   "metadata": {},
   "outputs": [
    {
     "data": {
      "text/plain": [
       "True"
      ]
     },
     "execution_count": 42,
     "metadata": {},
     "output_type": "execute_result"
    }
   ],
   "source": [
    "# HIDDEN\n",
    "np.random.seed(123)\n",
    "0 < np.sum([trump_wins(1500) for _ in range(100000)])/100000 < 1"
   ]
  },
  {
   "cell_type": "raw",
   "id": "ba709a75-a289-4474-9fac-ab56440f357d",
   "metadata": {},
   "source": [
    "# END TESTS"
   ]
  },
  {
   "cell_type": "raw",
   "id": "a7510d5a-144d-4194-923c-6d1a91eaabc1",
   "metadata": {},
   "source": [
    "# END QUESTION"
   ]
  },
  {
   "cell_type": "markdown",
   "id": "bea67388-11d9-4722-9ccb-ef41f6672f3e",
   "metadata": {},
   "source": [
    "We have just completed our study of sampling error, and found how our predictions might look if there was no bias in our sampling process. Essentially, we assumed that the people surveyed didn't change their minds, didn't hide who they voted for, and were representative of those who voted on election day.\n",
    "\n",
    "# Simulation Study of Selection Bias\n",
    "\n",
    "According to an article by Grotenhuis, Subramanian, Nieuwenhuis, Pelzer and Eisinga entitled [Better poll sampling would have cast more doubt on the potential for Hillary Clinton to win the 2016 election](https://blogs.lse.ac.uk/usappblog/2018/02/01/better-poll-sampling-would-have-cast-more-doubt-on-the-potential-for-hillary-clinton-to-win-the-2016-election/#Author):\n",
    "\n",
    "> \"In a perfect world, polls sample from the population of voters, who would state their political preference perfectly clearly and then vote accordingly.\"\n",
    "\n",
    "That's the simulation study that we just performed. \n",
    "\n",
    "It's difficult to control for every source of selection bias. And, it's not possible to control for some of the other sources of bias. Next we investigate the effect of small sampling bias on the polling results in these four battleground states. Throughout this problem, we'll examine the impacts of a 0.5 percent bias in favor of Clinton in each state. Such a bias has been suggested because highly educated voters tend to be more willing to participate in polls."
   ]
  },
  {
   "cell_type": "raw",
   "id": "6f1965ae-5cfd-491c-b6f3-7698f3eac0a9",
   "metadata": {},
   "source": [
    "# BEGIN QUESTION\n",
    "name: q19"
   ]
  },
  {
   "cell_type": "markdown",
   "id": "dd3f8d4b-99c8-40c6-8ce2-132354ed8a8b",
   "metadata": {},
   "source": [
    "**Question 19.** In Pennsylvania, Clinton received 47.46 percent of the votes and Trump 48.18 percent. Increase the population of Clinton voters to 47.46 + 1  percent and correspondingly decrease the percent of Trump voters. Then simulate Trump's advantage across 100,000 simple random samples of 1500 voters for the state of **Pennsylvania** and store the results of each simulation in a list called `biased_simulations`.\n",
    "\n",
    "**Note:** Your answer to this problem should be just like your answer from **Question 12.**, but now using samples that are biased as described above."
   ]
  },
  {
   "cell_type": "raw",
   "id": "564b8e1f-aec6-42e4-b37e-cbaccd6af155",
   "metadata": {},
   "source": [
    "# BEGIN SOLUTION"
   ]
  },
  {
   "cell_type": "code",
   "execution_count": 43,
   "id": "eff5accd-6a61-4e32-9d75-bfbb31004c0e",
   "metadata": {},
   "outputs": [],
   "source": [
    "def draw_biased_state_sample(N, state):\n",
    "    \"\"\"Returns a list where the first item is the number of Trump votes, the \n",
    "        second item is the number of Clinton votes, and the third item is the number\n",
    "        of votes for other.\n",
    "        -----\n",
    "        N: A sample of voters from Florida, Michigan, Pennsylvania, and Wisconsin.\n",
    "        state: Florida, Michigan, Pennsylvania, and Wisconsin.\n",
    "    \"\"\"    \n",
    "# BEGIN SOLUTION NO PROMPT\n",
    "    draw_state_sample_data = {\n",
    "    'florida': [0.4902, 0.4782, 1-(0.4902 + 0.4782)],\n",
    "    'michigan': [0.4750, 0.4727, 1-(0.4750 + 0.4727)],\n",
    "    'pennsylvania': [0.4818-0.01, 0.4746+0.01, 1-(0.4818 + 0.4746)],\n",
    "    'wisconsin': [0.4722, 0.4645, 1-(0.4722 + 0.4645)],\n",
    "    }\n",
    "    if state.lower() not in ['florida', 'michigan', 'pennsylvania', 'wisconsin']:\n",
    "        return [0, 0, 0]\n",
    "    new_props = draw_state_sample_data[state.lower()]\n",
    "    new_props = [new_props[0], new_props[1], new_props[2]]\n",
    "    return np.random.multinomial(N, new_props)\n",
    "biased_simulations = [trump_advantage(draw_biased_state_sample(1500, 'pennsylvania')) for _ in range(100000)]\n",
    "# END SOLUTION\n",
    "\"\"\" # BEGIN PROMPT\n",
    "    ...\n",
    "biased_simulations = ..\n",
    "\"\"\"; # END PROMPT"
   ]
  },
  {
   "cell_type": "raw",
   "id": "d38a6bb0-9027-417c-9148-054968e57424",
   "metadata": {},
   "source": [
    "# END SOLUTION"
   ]
  },
  {
   "cell_type": "raw",
   "id": "968ecad5-a10b-4ada-860e-e32caa3c3601",
   "metadata": {},
   "source": [
    "# BEGIN TESTS"
   ]
  },
  {
   "cell_type": "code",
   "execution_count": 44,
   "id": "602a47e1-63c3-4c37-b0bd-cec5897e78e4",
   "metadata": {},
   "outputs": [
    {
     "data": {
      "text/plain": [
       "100000"
      ]
     },
     "execution_count": 44,
     "metadata": {},
     "output_type": "execute_result"
    }
   ],
   "source": [
    "len(biased_simulations)"
   ]
  },
  {
   "cell_type": "code",
   "execution_count": 45,
   "id": "eb650af0-349f-476f-8092-4cd585aadc75",
   "metadata": {},
   "outputs": [
    {
     "data": {
      "text/plain": [
       "-1283.0733333333333"
      ]
     },
     "execution_count": 45,
     "metadata": {},
     "output_type": "execute_result"
    }
   ],
   "source": [
    "# HIDDEN\n",
    "np.random.seed(123)\n",
    "np.sum([trump_advantage(draw_biased_state_sample(1500, 'pennsylvania')) for _ in range(100000)])"
   ]
  },
  {
   "cell_type": "raw",
   "id": "f773e560-da2b-4522-a912-d969c0deea05",
   "metadata": {},
   "source": [
    "# END TESTS"
   ]
  },
  {
   "cell_type": "raw",
   "id": "e47e8a21-f459-4e96-8b27-bb8c98c40db0",
   "metadata": {},
   "source": [
    "# END QUESTION"
   ]
  },
  {
   "cell_type": "raw",
   "id": "a96a8412-9dfc-43a5-971a-a748214fb120",
   "metadata": {},
   "source": [
    "# BEGIN QUESTION\n",
    "name: q20\n",
    "manual: true"
   ]
  },
  {
   "cell_type": "markdown",
   "id": "4ad414d1-e3f7-4121-9182-9e6b9ddd4559",
   "metadata": {},
   "source": [
    "**Question 20.** Make a histogram of the new sampling distribution of Trump's proportion advantage now using the biased samples from **Question 19**.\n",
    "\n",
    "**Notes:** \n",
    "\n",
    "- You can use the [`plt.hist` function](https://matplotlib.org/3.1.1/api/_as_gen/matplotlib.pyplot.hist.html) in your code.\n",
    "\n",
    "- Choose an appropriate value for the number of bins.\n",
    "\n",
    "- Make sure to give your plot a title and add labels where appropriate.\n",
    "\n",
    "- You can do this using `plt.title`, `plt.xlabel`, and `plt.ylabel`."
   ]
  },
  {
   "cell_type": "raw",
   "id": "a0340b0e-b686-4631-ac99-266200c7bcb4",
   "metadata": {},
   "source": [
    "# BEGIN SOLUTION"
   ]
  },
  {
   "cell_type": "code",
   "execution_count": 46,
   "id": "f4f4221e-5f73-4e2d-8270-19ef5a62c314",
   "metadata": {},
   "outputs": [
    {
     "data": {
      "image/png": "[encoded data removed]",
      "text/plain": [
       "<Figure size 432x288 with 1 Axes>"
      ]
     },
     "metadata": {},
     "output_type": "display_data"
    }
   ],
   "source": [
    "# BEGIN SOLUTION NO PROMPT\n",
    "plt.hist(biased_simulations, bins=20)\n",
    "plt.title('Biased Sampling of Pennsylvania')\n",
    "plt.xlabel('Sampling Distribution Advantage')\n",
    "plt.ylabel('Number of Simulations');\n",
    "# END SOLUTION\n",
    "\"\"\" # BEGIN PROMPT\n",
    "...\n",
    "\"\"\"; # END PROMPT"
   ]
  },
  {
   "cell_type": "raw",
   "id": "6edc4966-a8dc-4427-87c7-866608d91138",
   "metadata": {},
   "source": [
    "# END SOLUTION"
   ]
  },
  {
   "cell_type": "raw",
   "id": "3004dc6c-b654-437d-981d-0aa88ffd80e6",
   "metadata": {},
   "source": [
    "# END QUESTION"
   ]
  },
  {
   "cell_type": "raw",
   "id": "8881b81b-5e7d-46b0-b11b-2489a7ea24af",
   "metadata": {},
   "source": [
    "# BEGIN QUESTION\n",
    "name: q21\n",
    "manual: true"
   ]
  },
  {
   "cell_type": "markdown",
   "id": "62dc7617-d422-4bbd-b084-059108e75297",
   "metadata": {},
   "source": [
    "**Question 21.** What does the histogram reveal about Trump's advantage based on our simulation with bias included?"
   ]
  },
  {
   "cell_type": "raw",
   "id": "998f6aa5-7204-45dd-bdc6-0593e738603a",
   "metadata": {},
   "source": [
    "# BEGIN SOLUTION"
   ]
  },
  {
   "cell_type": "markdown",
   "id": "9479bcdb-ef55-46bc-836b-8d4d4cc05cac",
   "metadata": {},
   "source": [
    "**SOLUTION:** In the majority of the simulations Trump has lost the advantage. This is where the tallest bin is located. The advantage appears to be normally distributed about -0.02."
   ]
  },
  {
   "cell_type": "raw",
   "id": "9f8d9f14-c7fa-4154-9b2a-f8d5b3133d05",
   "metadata": {},
   "source": [
    "# END SOLUTION"
   ]
  },
  {
   "cell_type": "raw",
   "id": "80a64b9f-e2ff-4621-9154-a924a4feefd3",
   "metadata": {},
   "source": [
    "# END QUESTION"
   ]
  },
  {
   "cell_type": "raw",
   "id": "1ed8ea03-ca5c-466d-ae84-bf4223627f61",
   "metadata": {},
   "source": [
    "# BEGIN QUESTION\n",
    "name: q22\n",
    "manual: true"
   ]
  },
  {
   "cell_type": "markdown",
   "id": "3d8974e7-1882-49b7-ae12-658563d7510c",
   "metadata": {},
   "source": [
    "**Question 22.** Write 2-3 sentences comparing the histograms you created in **Question 15.** and in **Question 20**."
   ]
  },
  {
   "cell_type": "raw",
   "id": "d44a596b-2d07-4d50-9e63-304ae6d437ce",
   "metadata": {},
   "source": [
    "# BEGIN SOLUTION"
   ]
  },
  {
   "cell_type": "markdown",
   "id": "70d84359-0ecb-4608-8668-fdb6f93538ce",
   "metadata": {},
   "source": [
    "**SOLUTION:** Both histograms are approximately normal unimodal distributions with no perceivable skew, which is predicted by the central limit theorem. However, the biased histogram has a mean and center ever so slightly to the left of the unbiased histogram, which is to be expected since it is biased very slightly against Trump."
   ]
  },
  {
   "cell_type": "raw",
   "id": "b8884890-ed46-481d-8371-e76d8612d251",
   "metadata": {},
   "source": [
    "# END SOLUTION"
   ]
  },
  {
   "cell_type": "raw",
   "id": "f217eaa9-c981-432b-a087-3c6ab28c6f24",
   "metadata": {},
   "source": [
    "# END QUESTION"
   ]
  },
  {
   "cell_type": "raw",
   "id": "91de7113-24c5-47ae-8195-216511f5c03d",
   "metadata": {},
   "source": [
    "# BEGIN QUESTION\n",
    "name: q23"
   ]
  },
  {
   "cell_type": "markdown",
   "id": "a3cbcebe-7a58-45ae-a44f-7687b6bedf0d",
   "metadata": {},
   "source": [
    "**Question 23.** Now perform 100,000 simulations of all four states and return the proportion of these simulations that result in a Trump victory. This is the same fraction that you computed in **Question 18**, but now using your biased samples. Save your answer as `proportion_trump_biased`.\n",
    "\n",
    "**Note:** This number represents the chance that a sample biased 1% in Hillary Clinton's favor will correctly predict Trump's victory. You should observe that the chance is significantly lower than with an unbiased sample (i.e. your answer in **Question 18**)."
   ]
  },
  {
   "cell_type": "raw",
   "id": "14fb5c88-b01c-4f8b-9abf-3da687f06b25",
   "metadata": {},
   "source": [
    "# BEGIN SOLUTION"
   ]
  },
  {
   "cell_type": "code",
   "execution_count": 47,
   "id": "25766d31-3647-47e9-a537-836794307b7f",
   "metadata": {},
   "outputs": [
    {
     "data": {
      "text/plain": [
       "0.63733"
      ]
     },
     "execution_count": 47,
     "metadata": {},
     "output_type": "execute_result"
    }
   ],
   "source": [
    "def trump_wins_biased(N):\n",
    "    \"\"\" Returns a 1 if Trump is predicted to win based on these samples and 0 if Trump is predicted to lose.\n",
    "        -----\n",
    "        N: A sample of voters from Florida, Michigan, Pennsylvania, and Wisconsin.\n",
    "    \"\"\"\n",
    "# BEGIN SOLUTION NO PROMPT\n",
    "    wins_florida = np.argmax(draw_biased_state_sample(N, 'florida')) == 0\n",
    "    wins_michigan = np.argmax(draw_biased_state_sample(N, 'michigan')) == 0\n",
    "    wins_pennsylvania = np.argmax(draw_biased_state_sample(N, 'pennsylvania')) == 0\n",
    "    wins_wisconsin = np.argmax(draw_biased_state_sample(N, 'wisconsin')) == 0\n",
    "    \n",
    "    return 1 if (wins_florida and (wins_michigan or wins_pennsylvania or wins_wisconsin)) or (wins_michigan and wins_pennsylvania and wins_wisconsin) else 0\n",
    "\n",
    "proportion_trump_sims_biased = [trump_wins_biased(1500) for _ in range(100000)]\n",
    "proportion_trump_biased = sum(proportion_trump_sims_biased) / len(proportion_trump_sims_biased)\n",
    "# END SOLUTION\n",
    "\"\"\" # BEGIN PROMPT\n",
    "    ...\n",
    "proportion_trump_biased = ...\n",
    "\"\"\"; # END PROMPT\n",
    "proportion_trump_biased"
   ]
  },
  {
   "cell_type": "raw",
   "id": "3fc5ccf1-d6fe-404c-a580-1e9b93538f0e",
   "metadata": {},
   "source": [
    "# END SOLUTION"
   ]
  },
  {
   "cell_type": "raw",
   "id": "58b37f50-47d9-4c66-a416-8c19b0ac9190",
   "metadata": {},
   "source": [
    "# BEGIN TESTS"
   ]
  },
  {
   "cell_type": "code",
   "execution_count": 48,
   "id": "a5247290-05c2-4ba0-b8ed-09f232d7a171",
   "metadata": {},
   "outputs": [
    {
     "data": {
      "text/plain": [
       "True"
      ]
     },
     "execution_count": 48,
     "metadata": {},
     "output_type": "execute_result"
    }
   ],
   "source": [
    "0 < proportion_trump_biased < 1"
   ]
  },
  {
   "cell_type": "code",
   "execution_count": 49,
   "id": "a98212c8-8628-4b17-a874-059238527a59",
   "metadata": {},
   "outputs": [
    {
     "data": {
      "text/plain": [
       "True"
      ]
     },
     "execution_count": 49,
     "metadata": {},
     "output_type": "execute_result"
    }
   ],
   "source": [
    "# HIDDEN\n",
    "np.random.seed(123)\n",
    "0 < np.sum([trump_wins_biased(1500) for _ in range(100000)])/100000 < 1"
   ]
  },
  {
   "cell_type": "raw",
   "id": "162091f8-b322-45be-9d56-a4b4ef8cf8ef",
   "metadata": {},
   "source": [
    "# END TESTS"
   ]
  },
  {
   "cell_type": "raw",
   "id": "d89e2ca8-d1d5-4c37-b30e-d794f290d808",
   "metadata": {},
   "source": [
    "# END QUESTION"
   ]
  },
  {
   "cell_type": "markdown",
   "id": "633dfd60-c76f-4487-92ee-45a3bc53ddc4",
   "metadata": {
    "tags": []
   },
   "source": [
    "# Would increasing the sample size have helped?"
   ]
  },
  {
   "cell_type": "raw",
   "id": "1da65e64-69df-454c-808f-0531f2d5ed9f",
   "metadata": {},
   "source": [
    "# BEGIN QUESTION\n",
    "name: q24"
   ]
  },
  {
   "cell_type": "markdown",
   "id": "caa02c19-23ba-49f1-8bd6-5c1bf11424b5",
   "metadata": {},
   "source": [
    "**Question 24.** Try a sample size of 5,000 and run 100,000 simulations of a sample with replacement. What proportion of the 100,000 times is Trump predicted to win the election in the unbiased setting? In the biased setting?\n",
    "\n",
    "Save your answers as `high_sample_size_unbiased_proportion_trump` and `high_sample_size_biased_proportion_trump`.\n",
    "\n",
    "**Note:** Your solution will take a while to run."
   ]
  },
  {
   "cell_type": "raw",
   "id": "aeabdd72-7bcb-458e-8ae2-7900f64c14e3",
   "metadata": {},
   "source": [
    "# BEGIN SOLUTION"
   ]
  },
  {
   "cell_type": "code",
   "execution_count": 50,
   "id": "494b5c3e-3e98-45d6-890d-90e75e1f24d7",
   "metadata": {},
   "outputs": [
    {
     "name": "stdout",
     "output_type": "stream",
     "text": [
      "0.83327\n",
      "0.73856\n"
     ]
    }
   ],
   "source": [
    "# BEGIN SOLUTION NO PROMPT\n",
    "high_sample_size_unbiased_proportion_trump = sum([trump_wins(5000) for _ in range(100000)])/100000\n",
    "high_sample_size_biased_proportion_trump = sum([trump_wins_biased(5000) for _ in range(100000)])/100000\n",
    "# END SOLUTION\n",
    "\"\"\" # BEGIN PROMPT\n",
    "high_sample_size_unbiased_proportion_trump = ..\n",
    "high_sample_size_biased_proportion_trump = ...\n",
    "\"\"\"; # END PROMPT\n",
    "print(high_sample_size_unbiased_proportion_trump)\n",
    "print(high_sample_size_biased_proportion_trump)"
   ]
  },
  {
   "cell_type": "raw",
   "id": "cec5d5da-d158-497e-acde-e095d2f81311",
   "metadata": {},
   "source": [
    "# END SOLUTION"
   ]
  },
  {
   "cell_type": "raw",
   "id": "0d71c546-cc9c-4204-8ecc-b2e18effe502",
   "metadata": {},
   "source": [
    "# BEGIN TESTS"
   ]
  },
  {
   "cell_type": "code",
   "execution_count": 51,
   "id": "083b522a-0771-4e8c-8fd6-79a541b130ad",
   "metadata": {},
   "outputs": [
    {
     "data": {
      "text/plain": [
       "True"
      ]
     },
     "execution_count": 51,
     "metadata": {},
     "output_type": "execute_result"
    }
   ],
   "source": [
    "0 < high_sample_size_unbiased_proportion_trump < 1"
   ]
  },
  {
   "cell_type": "code",
   "execution_count": 52,
   "id": "c1d98922-5fe7-43ce-a946-9b42a212f143",
   "metadata": {},
   "outputs": [
    {
     "data": {
      "text/plain": [
       "True"
      ]
     },
     "execution_count": 52,
     "metadata": {},
     "output_type": "execute_result"
    }
   ],
   "source": [
    "0 < high_sample_size_biased_proportion_trump < 1"
   ]
  },
  {
   "cell_type": "code",
   "execution_count": 53,
   "id": "7b739af6-7882-45e7-81cf-e698d7d8d864",
   "metadata": {},
   "outputs": [
    {
     "data": {
      "text/plain": [
       "0.83631"
      ]
     },
     "execution_count": 53,
     "metadata": {},
     "output_type": "execute_result"
    }
   ],
   "source": [
    "# HIDDEN\n",
    "np.random.seed(123)\n",
    "np.sum(sum([trump_wins(5000) for _ in range(100000)]))/100000"
   ]
  },
  {
   "cell_type": "code",
   "execution_count": 54,
   "id": "fa0995be-55b9-4ae9-8605-8adfc781294a",
   "metadata": {},
   "outputs": [
    {
     "data": {
      "text/plain": [
       "True"
      ]
     },
     "execution_count": 54,
     "metadata": {},
     "output_type": "execute_result"
    }
   ],
   "source": [
    "# HIDDEN\n",
    "np.random.seed(123)\n",
    "0 < np.sum(sum([trump_wins_biased(5000) for _ in range(100000)]))/100000 < 1"
   ]
  },
  {
   "cell_type": "raw",
   "id": "5cb797af-c7db-450d-82e8-3173ec0f6dbf",
   "metadata": {},
   "source": [
    "# END TESTS"
   ]
  },
  {
   "cell_type": "raw",
   "id": "75cbfc79-411b-49f2-981a-bd7500007b97",
   "metadata": {},
   "source": [
    "# END QUESTION"
   ]
  },
  {
   "cell_type": "raw",
   "id": "3de2e7d4-7e3d-4948-a989-c29ec25361de",
   "metadata": {},
   "source": [
    "# BEGIN QUESTION\n",
    "name: q25\n",
    "manual: true"
   ]
  },
  {
   "cell_type": "markdown",
   "id": "b2e2a027-944b-4846-8958-9223efba1fab",
   "metadata": {},
   "source": [
    "**Question 25.** What do your observations from **Question 24** say about the impact of sample size on the sampling error and on the bias?"
   ]
  },
  {
   "cell_type": "raw",
   "id": "62f0b955-9fa5-47e6-8d6b-c36b499e4134",
   "metadata": {},
   "source": [
    "# BEGIN SOLUTION"
   ]
  },
  {
   "cell_type": "markdown",
   "id": "da217299-e330-4dc6-85ba-67e6406d0d9a",
   "metadata": {},
   "source": [
    "**SOLUTION:** They suggest that changing the sample size with a systemically biased sample does little to reduce the sampling error. In fact it makes it worse."
   ]
  },
  {
   "cell_type": "raw",
   "id": "35cb089a-2fea-41e9-b6e2-49112bf025ad",
   "metadata": {},
   "source": [
    "# END SOLUTION"
   ]
  },
  {
   "cell_type": "raw",
   "id": "b0dde22b-70de-47ad-89b5-8fecd938dc26",
   "metadata": {},
   "source": [
    "# END QUESTION"
   ]
  },
  {
   "cell_type": "markdown",
   "id": "69cb9b5e-7f2e-4ad2-90e4-50ee4b795827",
   "metadata": {},
   "source": [
    "According to FiveThirtyEight: \n",
    "\n",
    "> \"... Polls of the November 2016 presidential election were about as accurate as polls of presidential elections have been on average since 1972.\""
   ]
  },
  {
   "cell_type": "raw",
   "id": "90c681ca-4756-48d7-9186-af7bb101bbc3",
   "metadata": {},
   "source": [
    "# BEGIN QUESTION\n",
    "name: q26\n",
    "manual: true"
   ]
  },
  {
   "cell_type": "markdown",
   "id": "772ddf99-1a24-419b-8894-5ff7cfaff89c",
   "metadata": {},
   "source": [
    "**Question 26.** When the margin of victory may be relatively small as it was in 2016, why don't polling agencies simply gather significantly larger samples to bring this error close to zero? Write 4-5 sentences to answer this question."
   ]
  },
  {
   "cell_type": "raw",
   "id": "09a41fd7-d591-40d2-b27b-fa0026844add",
   "metadata": {},
   "source": [
    "# BEGIN SOLUTION"
   ]
  },
  {
   "cell_type": "markdown",
   "id": "a1868a01-1ad9-4843-80e4-9f119a2e2482",
   "metadata": {},
   "source": [
    "**SOLUTION:** In a strictly practical sense, gathering larger samples is difficult, time-consuming, and most importantly, expensive. It's hard to say that money spent towards gathering larger samples wouldn't be better spent gathering higher-quality and more representative samples. Furthermore, as this homework has shown, larger samples don't necessarily correct for systemic biases in sampling and only serve to entrench them. In a statistical sense, this is verified by the fact that as the size of the sample increases the standard deviation tends to decrease but the mean remains essentially unchanged once outliers cannot have an excessive effect."
   ]
  },
  {
   "cell_type": "raw",
   "id": "77295bd0-d739-4924-bf70-a1822342c9a1",
   "metadata": {},
   "source": [
    "# END SOLUTION"
   ]
  },
  {
   "cell_type": "raw",
   "id": "67227c5c-0a16-4642-9be5-e87e119dd3ea",
   "metadata": {},
   "source": [
    "# END QUESTION"
   ]
  }
 ],
 "metadata": {
  "kernelspec": {
   "display_name": "Python 3 (ipykernel)",
   "language": "python",
   "name": "python3"
  },
  "language_info": {
   "codemirror_mode": {
    "name": "ipython",
    "version": 3
   },
   "file_extension": ".py",
   "mimetype": "text/x-python",
   "name": "python",
   "nbconvert_exporter": "python",
   "pygments_lexer": "ipython3",
   "version": "3.10.11"
  }
 },
 "nbformat": 4,
 "nbformat_minor": 5
}
