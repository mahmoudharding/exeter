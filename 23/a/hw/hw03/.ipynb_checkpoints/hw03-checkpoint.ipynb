{
 "cells": [
  {
   "cell_type": "raw",
   "id": "9854ef70-3cc0-4a0e-8bb1-e70f432e64a0",
   "metadata": {},
   "source": [
    "# ASSIGNMENT CONFIG\n",
    "generate: true\n",
    "files:\n",
    "  - data/bikeshare.txt\n",
    "  - images/boxplot.png\n",
    "  - images/casual_v_registered.png\n",
    "  - images/casual_registered_working_nonworking.png\n",
    "  - images/diurnal_bikes.png\n",
    "  - images/g1.png\n",
    "  - images/kde.png"
   ]
  },
  {
   "cell_type": "markdown",
   "id": "fcb3323b-7ef0-4659-b51f-8cfe2e8dbf3e",
   "metadata": {},
   "source": [
    "# Homework 03: Exploratory Data Analysis and Visualization\n",
    "\n",
    "Welcome to Homework 03! To receive credit for a homework assignment, answer all questions correctly and submit before the deadline.\n",
    "\n",
    "**Due Date:**\n",
    "\n",
    "**Collaboration Policy:** You are not allowed to discuss this assignment with other students. If you have questions please refer them to your instructor.\n",
    "\n",
    "# Introduction\n",
    "\n",
    "In this assignment, you will perform tasks to clean, visualize, and explore the bike sharing data. You will also investigate open-ended questions. These open-ended questions ask you to think critically about how the plots you have created provide insight into the data.\n",
    "\n",
    "After completing this assignment, you should be comfortable with:\n",
    "\n",
    "* reading plaintext delimited data into `pandas`.\n",
    "\n",
    "* wrangling data for analysis.\n",
    "\n",
    "* using EDA to learn about your data. \n",
    "\n",
    "* making informative plots.\n",
    "\n",
    "**Notes:**\n",
    "\n",
    "- Your plots should be **similar** to the given examples. Small variations are acceptable such as color differences or slight variations in scale. However it is in your best interest to make the plots as similar as possible, as similarity is subject to the instructor.\n",
    "\n",
    "- It is expected that for all plotting questions from here on out, there are appropriate titles, axis labels, legends, etc. The following question serves as a good guideline on what is \"enough\": If I directly downloaded the plot and viewed it, would I be able to tell what was being visualized without knowing the question?** \n",
    "\n",
    "- In this notebook a custom figure size has been configured. Click [here](https://matplotlib.org/users/customizing.html) to read the documentation about customizing aspects of `matplotlib`.\n",
    "\n",
    "Run the cell below."
   ]
  },
  {
   "cell_type": "code",
   "execution_count": 70,
   "id": "1940db7b-72b7-4af4-bf05-fc29b623531a",
   "metadata": {},
   "outputs": [],
   "source": [
    "import numpy as np\n",
    "import os\n",
    "import pandas as pd\n",
    "import seaborn as sns\n",
    "\n",
    "%matplotlib inline\n",
    "import matplotlib.pyplot as plt\n",
    "plt.rcParams['figure.figsize'] = (10, 4)\n",
    "plt.rcParams['figure.dpi'] = 100"
   ]
  },
  {
   "cell_type": "markdown",
   "id": "7c0e28e9-7a49-4a8e-bb98-6d108845c4db",
   "metadata": {
    "tags": []
   },
   "source": [
    "## Loading Bike Sharing Data\n",
    "The data we are exploring was collected from a bike sharing system in Washington D.C.\n",
    "\n",
    "The variables in this data frame are defined as:\n",
    "\n",
    "Variable  |Description\n",
    ":--------- |:--------------------------------------------------------------\n",
    "instant | record index\n",
    "dteday | date\n",
    "season | 1. spring <br> 2. summer <br> 3. fall <br> 4. winter\n",
    "yr | year (0: 2011, 1:2012)\n",
    "mnth | month ( 1 to 12)\n",
    "hr | hour (0 to 23)\n",
    "holiday | whether day is holiday or not\n",
    "weekday | day of the week\n",
    "workingday | if day is neither weekend nor holiday\n",
    "weathersit | 1. clear or partly cloudy <br> 2. mist and clouds <br> 3. light snow or rain <br> 4. heavy rain or snow\n",
    "temp | normalized temperature in Celsius (divided by 41)\n",
    "atemp | normalized \"feels-like\" temperature in Celsius (divided by 50)\n",
    "hum | normalized percent humidity (divided by 100)\n",
    "windspeed| normalized wind speed (divided by 67)\n",
    "casual | count of casual users\n",
    "registered | count of registered users\n",
    "cnt | count of total rental bikes including casual and registered  "
   ]
  },
  {
   "cell_type": "raw",
   "id": "ca6d77bd-dcab-4dc1-9895-86a79a2325cc",
   "metadata": {},
   "source": [
    "# BEGIN QUESTION\n",
    "name: q1\n",
    "manal: true"
   ]
  },
  {
   "cell_type": "markdown",
   "id": "89d49a1a-0a2c-4393-9a0f-bdb867a39a18",
   "metadata": {},
   "source": [
    "**Question 1.** Using the criteria established by the authors of the textbook [Learning Data Science](https://learningds.org/ch/10/eda_feature_types.html) in section 10.1 classify the features of the the Bike Sharing dataset."
   ]
  },
  {
   "cell_type": "raw",
   "id": "b4b4f054-9d85-43a7-9aa7-91927d3ee50c",
   "metadata": {},
   "source": [
    "# BEGIN SOLUTION"
   ]
  },
  {
   "cell_type": "markdown",
   "id": "2d74ce4b-46ef-4d82-b3b6-287a0b332d56",
   "metadata": {},
   "source": [
    "**SOLUTION:** Categorical: season (nominal), yr (ordinal, binary), month (ordinal), holiday (binary), weekday (ordinal, binary), workingday (binary), weathersit (ordinal). Numerical: hour, temp, atemp, hum, windspeed, causal, registered, cnt"
   ]
  },
  {
   "cell_type": "raw",
   "id": "66f3768d-c15e-41e5-a232-d417eeec3029",
   "metadata": {},
   "source": [
    "# END SOLUTION"
   ]
  },
  {
   "cell_type": "raw",
   "id": "518710ec-5646-4d50-8963-d110f0f534f8",
   "metadata": {},
   "source": [
    "# END QUESTION"
   ]
  },
  {
   "cell_type": "markdown",
   "id": "2965304d-c259-4767-a586-ad6ecd6e82c4",
   "metadata": {},
   "source": [
    "### Examining the File Contents and the Metadata\n",
    "\n",
    "Run the cell below to print out the first 5 lines of the `bikeshare.txt` file."
   ]
  },
  {
   "cell_type": "code",
   "execution_count": 2,
   "id": "ef78ba6e-5bff-49c2-bd46-799f4737b4ae",
   "metadata": {},
   "outputs": [
    {
     "name": "stdout",
     "output_type": "stream",
     "text": [
      "instant,dteday,season,yr,mnth,hr,holiday,weekday,workingday,weathersit,temp,atemp,hum,windspeed,casual,registered,cnt\n",
      "1,2011-01-01,1,0,1,0,0,6,0,1,0.24,0.2879,0.81,0,3,13,16\n",
      "2,2011-01-01,1,0,1,1,0,6,0,1,0.22,0.2727,0.8,0,8,32,40\n",
      "3,2011-01-01,1,0,1,2,0,6,0,1,0.22,0.2727,0.8,0,5,27,32\n",
      "4,2011-01-01,1,0,1,3,0,6,0,1,0.24,0.2879,0.75,0,3,10,13\n"
     ]
    }
   ],
   "source": [
    "from itertools import islice\n",
    "\n",
    "lines_to_print = 5\n",
    "with open('data/bikeshare.txt', \"r\") as f:\n",
    "    for line in list(islice(f, lines_to_print)):\n",
    "        print(line, end = \"\")"
   ]
  },
  {
   "cell_type": "raw",
   "id": "0b9b93b2-5257-484b-8a07-a18b7546f31f",
   "metadata": {},
   "source": [
    "# BEGIN QUESTION\n",
    "name: q2"
   ]
  },
  {
   "cell_type": "markdown",
   "id": "2fd4dae4-b429-49d8-b958-3b0fa72c6576",
   "metadata": {},
   "source": [
    "**Question 2.** Identify the file format. Then choose an item from the list below and assign its corresponding number to the variable `q2`.\n",
    "\n",
    "\n",
    "1. Excel spreadsheet\n",
    "\n",
    "2. CSV (comma-separated values)\n",
    "\n",
    "3. TSV (tab-separated values)"
   ]
  },
  {
   "cell_type": "raw",
   "id": "a240e3ed-7770-4613-aa63-82c5a2208fac",
   "metadata": {},
   "source": [
    "# BEGIN SOLUTION"
   ]
  },
  {
   "cell_type": "code",
   "execution_count": 3,
   "id": "f1e3e156-29bd-427d-9c32-c403d3c9c9b3",
   "metadata": {},
   "outputs": [],
   "source": [
    "q2 = 2 # SOLUTION"
   ]
  },
  {
   "cell_type": "raw",
   "id": "33576008-77a8-407f-aca3-c17f72adfd40",
   "metadata": {},
   "source": [
    "# END SOLUTION"
   ]
  },
  {
   "cell_type": "raw",
   "id": "35bcf4ce-05d4-44a7-8e44-8053ddc50150",
   "metadata": {},
   "source": [
    "# BEGIN TESTS"
   ]
  },
  {
   "cell_type": "code",
   "execution_count": 4,
   "id": "e9f67ea0-96f6-435a-ba4b-b4fe5a510e29",
   "metadata": {},
   "outputs": [
    {
     "data": {
      "text/plain": [
       "True"
      ]
     },
     "execution_count": 4,
     "metadata": {},
     "output_type": "execute_result"
    }
   ],
   "source": [
    "isinstance(q2, int)"
   ]
  },
  {
   "cell_type": "code",
   "execution_count": 5,
   "id": "d057d769-6ba8-4f6c-a015-d386b84dc1d4",
   "metadata": {},
   "outputs": [
    {
     "data": {
      "text/plain": [
       "True"
      ]
     },
     "execution_count": 5,
     "metadata": {},
     "output_type": "execute_result"
    }
   ],
   "source": [
    "q2 in [1, 2, 3]"
   ]
  },
  {
   "cell_type": "code",
   "execution_count": 6,
   "id": "8304e089-ede3-4fc1-bd7e-54ef4fd841f1",
   "metadata": {},
   "outputs": [
    {
     "data": {
      "text/plain": [
       "True"
      ]
     },
     "execution_count": 6,
     "metadata": {},
     "output_type": "execute_result"
    }
   ],
   "source": [
    "# HIDDEN\n",
    "q2 == 2"
   ]
  },
  {
   "cell_type": "raw",
   "id": "14966bfc-4484-4416-a71a-d445a6f4a747",
   "metadata": {},
   "source": [
    "# END TESTS"
   ]
  },
  {
   "cell_type": "raw",
   "id": "28d717a3-f58b-4a58-bcb3-54431974570b",
   "metadata": {},
   "source": [
    "# END QUESTION"
   ]
  },
  {
   "cell_type": "markdown",
   "id": "bad1a2d7-abb8-47f2-9c88-9de7e8c4964e",
   "metadata": {},
   "source": [
    "Metadata is \"data that provides information about other data\". In other words, it is \"data about the data\". [[1]](https://en.wikipedia.org/wiki/Metadata)\n",
    "\n",
    "Run the cell below to view some metadata about the `bikeshare.txt` file."
   ]
  },
  {
   "cell_type": "code",
   "execution_count": 7,
   "id": "eb45eb52-6b89-4193-89e3-98c1b720419b",
   "metadata": {},
   "outputs": [
    {
     "name": "stdout",
     "output_type": "stream",
     "text": [
      "Size: 1156736 bytes\n",
      "Line Count: 17380 lines\n"
     ]
    }
   ],
   "source": [
    "size = os.stat(\"data/bikeshare.txt\").st_size\n",
    "line_count = len(open(\"data/bikeshare.txt\").readlines(  ))\n",
    "\n",
    "print(\"Size:\", size, \"bytes\")\n",
    "print(\"Line Count:\", line_count, \"lines\")"
   ]
  },
  {
   "cell_type": "raw",
   "id": "e9d8ffb9-5f9a-4979-833a-3420e02b44fb",
   "metadata": {},
   "source": [
    "# BEGIN QUESTION\n",
    "name: q3"
   ]
  },
  {
   "cell_type": "markdown",
   "id": "7d3931c8-74d3-4568-808e-d0576a2ac99c",
   "metadata": {},
   "source": [
    "**Question 3.** Identify the size and the line count. Then put the values in a dictionary object and assign it the variable `q3`. \n",
    "\n",
    "**Note:** Make sure the keys are *Size* and *Line Count* and the corresponding numerical values."
   ]
  },
  {
   "cell_type": "raw",
   "id": "357e968c-7a14-42d1-8687-d255b886c384",
   "metadata": {},
   "source": [
    "# BEGIN SOLUTION"
   ]
  },
  {
   "cell_type": "code",
   "execution_count": 8,
   "id": "3cd0570a-2eb5-4f47-b31f-fd9eb09a1e2f",
   "metadata": {},
   "outputs": [
    {
     "data": {
      "text/plain": [
       "{'Size': 1156736, 'Line Count': 17380}"
      ]
     },
     "execution_count": 8,
     "metadata": {},
     "output_type": "execute_result"
    }
   ],
   "source": [
    "q3 = {'Size':1156736, 'Line Count':17380} # SOLUTION\n",
    "q3"
   ]
  },
  {
   "cell_type": "raw",
   "id": "d1828143-552a-407d-af77-27339e964e6a",
   "metadata": {},
   "source": [
    "# END SOLUTION"
   ]
  },
  {
   "cell_type": "raw",
   "id": "da605246-a6ae-4292-bf52-a16c103ab418",
   "metadata": {},
   "source": [
    "# BEGIN TESTS"
   ]
  },
  {
   "cell_type": "code",
   "execution_count": 9,
   "id": "5e55318a-8b0d-4763-9e82-39376e268344",
   "metadata": {},
   "outputs": [
    {
     "data": {
      "text/plain": [
       "True"
      ]
     },
     "execution_count": 9,
     "metadata": {},
     "output_type": "execute_result"
    }
   ],
   "source": [
    "isinstance(q3, dict)"
   ]
  },
  {
   "cell_type": "code",
   "execution_count": 10,
   "id": "a87feb49-39c8-4f84-b5bb-c851ea0c3a7d",
   "metadata": {},
   "outputs": [
    {
     "data": {
      "text/plain": [
       "True"
      ]
     },
     "execution_count": 10,
     "metadata": {},
     "output_type": "execute_result"
    }
   ],
   "source": [
    "1156736 in q3.values()"
   ]
  },
  {
   "cell_type": "code",
   "execution_count": 11,
   "id": "f70cdbcc-e81d-4392-a9df-20f5b0a96bf9",
   "metadata": {},
   "outputs": [
    {
     "data": {
      "text/plain": [
       "True"
      ]
     },
     "execution_count": 11,
     "metadata": {},
     "output_type": "execute_result"
    }
   ],
   "source": [
    "17380 in q3.values()"
   ]
  },
  {
   "cell_type": "code",
   "execution_count": 12,
   "id": "72a39932-1931-4e9d-9375-8e9a27781a66",
   "metadata": {},
   "outputs": [
    {
     "data": {
      "text/plain": [
       "True"
      ]
     },
     "execution_count": 12,
     "metadata": {},
     "output_type": "execute_result"
    }
   ],
   "source": [
    "# HIDDEN\n",
    "'Size' in q3.keys()"
   ]
  },
  {
   "cell_type": "code",
   "execution_count": 13,
   "id": "0f805110-ebff-4dbf-af28-cc829e136fd1",
   "metadata": {},
   "outputs": [
    {
     "data": {
      "text/plain": [
       "True"
      ]
     },
     "execution_count": 13,
     "metadata": {},
     "output_type": "execute_result"
    }
   ],
   "source": [
    "# HIDDEN\n",
    "'Line Count' in q3.keys()"
   ]
  },
  {
   "cell_type": "raw",
   "id": "22e42495-a6d0-40c1-b452-be2d757ca385",
   "metadata": {},
   "source": [
    "# END TESTS"
   ]
  },
  {
   "cell_type": "raw",
   "id": "ce2b6757-27d8-4467-ac78-cc6666069125",
   "metadata": {},
   "source": [
    "# END QUESTION"
   ]
  },
  {
   "cell_type": "markdown",
   "id": "d9b51c10-6789-4271-b6e6-86fd18a38e2f",
   "metadata": {},
   "source": [
    "### Loading the Data\n",
    "\n",
    "Run the cell below to load the dataset as a `pndas` `DataFrame`."
   ]
  },
  {
   "cell_type": "code",
   "execution_count": 14,
   "id": "d0bb20db-f43a-4de4-953a-ad44625017ee",
   "metadata": {},
   "outputs": [],
   "source": [
    "bike = pd.read_csv('data/bikeshare.txt')"
   ]
  },
  {
   "cell_type": "code",
   "execution_count": 15,
   "id": "5fdad073-5dc0-483a-8ba9-ef7f0f7f6b47",
   "metadata": {},
   "outputs": [
    {
     "data": {
      "text/html": [
       "<div>\n",
       "<style scoped>\n",
       "    .dataframe tbody tr th:only-of-type {\n",
       "        vertical-align: middle;\n",
       "    }\n",
       "\n",
       "    .dataframe tbody tr th {\n",
       "        vertical-align: top;\n",
       "    }\n",
       "\n",
       "    .dataframe thead th {\n",
       "        text-align: right;\n",
       "    }\n",
       "</style>\n",
       "<table border=\"1\" class=\"dataframe\">\n",
       "  <thead>\n",
       "    <tr style=\"text-align: right;\">\n",
       "      <th></th>\n",
       "      <th>instant</th>\n",
       "      <th>dteday</th>\n",
       "      <th>season</th>\n",
       "      <th>yr</th>\n",
       "      <th>mnth</th>\n",
       "      <th>hr</th>\n",
       "      <th>holiday</th>\n",
       "      <th>weekday</th>\n",
       "      <th>workingday</th>\n",
       "      <th>weathersit</th>\n",
       "      <th>temp</th>\n",
       "      <th>atemp</th>\n",
       "      <th>hum</th>\n",
       "      <th>windspeed</th>\n",
       "      <th>casual</th>\n",
       "      <th>registered</th>\n",
       "      <th>cnt</th>\n",
       "    </tr>\n",
       "  </thead>\n",
       "  <tbody>\n",
       "    <tr>\n",
       "      <th>0</th>\n",
       "      <td>1</td>\n",
       "      <td>2011-01-01</td>\n",
       "      <td>1</td>\n",
       "      <td>0</td>\n",
       "      <td>1</td>\n",
       "      <td>0</td>\n",
       "      <td>0</td>\n",
       "      <td>6</td>\n",
       "      <td>0</td>\n",
       "      <td>1</td>\n",
       "      <td>0.24</td>\n",
       "      <td>0.2879</td>\n",
       "      <td>0.81</td>\n",
       "      <td>0.0</td>\n",
       "      <td>3</td>\n",
       "      <td>13</td>\n",
       "      <td>16</td>\n",
       "    </tr>\n",
       "    <tr>\n",
       "      <th>1</th>\n",
       "      <td>2</td>\n",
       "      <td>2011-01-01</td>\n",
       "      <td>1</td>\n",
       "      <td>0</td>\n",
       "      <td>1</td>\n",
       "      <td>1</td>\n",
       "      <td>0</td>\n",
       "      <td>6</td>\n",
       "      <td>0</td>\n",
       "      <td>1</td>\n",
       "      <td>0.22</td>\n",
       "      <td>0.2727</td>\n",
       "      <td>0.80</td>\n",
       "      <td>0.0</td>\n",
       "      <td>8</td>\n",
       "      <td>32</td>\n",
       "      <td>40</td>\n",
       "    </tr>\n",
       "    <tr>\n",
       "      <th>2</th>\n",
       "      <td>3</td>\n",
       "      <td>2011-01-01</td>\n",
       "      <td>1</td>\n",
       "      <td>0</td>\n",
       "      <td>1</td>\n",
       "      <td>2</td>\n",
       "      <td>0</td>\n",
       "      <td>6</td>\n",
       "      <td>0</td>\n",
       "      <td>1</td>\n",
       "      <td>0.22</td>\n",
       "      <td>0.2727</td>\n",
       "      <td>0.80</td>\n",
       "      <td>0.0</td>\n",
       "      <td>5</td>\n",
       "      <td>27</td>\n",
       "      <td>32</td>\n",
       "    </tr>\n",
       "    <tr>\n",
       "      <th>3</th>\n",
       "      <td>4</td>\n",
       "      <td>2011-01-01</td>\n",
       "      <td>1</td>\n",
       "      <td>0</td>\n",
       "      <td>1</td>\n",
       "      <td>3</td>\n",
       "      <td>0</td>\n",
       "      <td>6</td>\n",
       "      <td>0</td>\n",
       "      <td>1</td>\n",
       "      <td>0.24</td>\n",
       "      <td>0.2879</td>\n",
       "      <td>0.75</td>\n",
       "      <td>0.0</td>\n",
       "      <td>3</td>\n",
       "      <td>10</td>\n",
       "      <td>13</td>\n",
       "    </tr>\n",
       "    <tr>\n",
       "      <th>4</th>\n",
       "      <td>5</td>\n",
       "      <td>2011-01-01</td>\n",
       "      <td>1</td>\n",
       "      <td>0</td>\n",
       "      <td>1</td>\n",
       "      <td>4</td>\n",
       "      <td>0</td>\n",
       "      <td>6</td>\n",
       "      <td>0</td>\n",
       "      <td>1</td>\n",
       "      <td>0.24</td>\n",
       "      <td>0.2879</td>\n",
       "      <td>0.75</td>\n",
       "      <td>0.0</td>\n",
       "      <td>0</td>\n",
       "      <td>1</td>\n",
       "      <td>1</td>\n",
       "    </tr>\n",
       "  </tbody>\n",
       "</table>\n",
       "</div>"
      ],
      "text/plain": [
       "   instant      dteday  season  yr  mnth  hr  holiday  weekday  workingday  \\\n",
       "0        1  2011-01-01       1   0     1   0        0        6           0   \n",
       "1        2  2011-01-01       1   0     1   1        0        6           0   \n",
       "2        3  2011-01-01       1   0     1   2        0        6           0   \n",
       "3        4  2011-01-01       1   0     1   3        0        6           0   \n",
       "4        5  2011-01-01       1   0     1   4        0        6           0   \n",
       "\n",
       "   weathersit  temp   atemp   hum  windspeed  casual  registered  cnt  \n",
       "0           1  0.24  0.2879  0.81        0.0       3          13   16  \n",
       "1           1  0.22  0.2727  0.80        0.0       8          32   40  \n",
       "2           1  0.22  0.2727  0.80        0.0       5          27   32  \n",
       "3           1  0.24  0.2879  0.75        0.0       3          10   13  \n",
       "4           1  0.24  0.2879  0.75        0.0       0           1    1  "
      ]
     },
     "execution_count": 15,
     "metadata": {},
     "output_type": "execute_result"
    }
   ],
   "source": [
    "bike.head()"
   ]
  },
  {
   "cell_type": "raw",
   "id": "862e7a97-798c-4f65-868a-71dbd4e7bae4",
   "metadata": {},
   "source": [
    "# BEGIN QUESTION\n",
    "name: q4\n",
    "manual: true"
   ]
  },
  {
   "cell_type": "markdown",
   "id": "7e4dd08f-f995-41ff-b19a-067531c3fe73",
   "metadata": {},
   "source": [
    "**Question 4.** Before we start, use the cells below to perform some initial data exploration. Include text/markdown cells before each code cell to explain what you are investigating and why it is of interest to you.\n",
    "\n",
    "**Note:** You must use each markdown cell and each code cell."
   ]
  },
  {
   "cell_type": "raw",
   "id": "d0202b28-670b-4208-a104-e88dff5157bf",
   "metadata": {},
   "source": [
    "# BEGIN SOLUTION"
   ]
  },
  {
   "cell_type": "markdown",
   "id": "50f49c9a-98f1-400c-9eb5-05c612967522",
   "metadata": {},
   "source": [
    "*Type your explanation here and in the code cell below put your code.*"
   ]
  },
  {
   "cell_type": "code",
   "execution_count": 16,
   "id": "896bad44-4fc0-4a9a-9660-5af1f8a68e58",
   "metadata": {},
   "outputs": [
    {
     "data": {
      "text/plain": [
       "Ellipsis"
      ]
     },
     "execution_count": 16,
     "metadata": {},
     "output_type": "execute_result"
    }
   ],
   "source": [
    "..."
   ]
  },
  {
   "cell_type": "markdown",
   "id": "1f1940ba-6b50-45d1-9ec7-826ba3b7a92a",
   "metadata": {},
   "source": [
    "*Type your explanation here and in the code cell below put your code.*"
   ]
  },
  {
   "cell_type": "code",
   "execution_count": 17,
   "id": "301bca07-e674-4a39-be81-4bda475d44d3",
   "metadata": {},
   "outputs": [
    {
     "data": {
      "text/plain": [
       "Ellipsis"
      ]
     },
     "execution_count": 17,
     "metadata": {},
     "output_type": "execute_result"
    }
   ],
   "source": [
    "..."
   ]
  },
  {
   "cell_type": "markdown",
   "id": "871fa7a7-dce4-4152-80df-c83e232c216b",
   "metadata": {},
   "source": [
    "*Type your explanation here and in the code cell below put your code.*"
   ]
  },
  {
   "cell_type": "code",
   "execution_count": 18,
   "id": "10536cc0-7c3d-46a2-8316-f5bf689adf61",
   "metadata": {},
   "outputs": [
    {
     "data": {
      "text/plain": [
       "Ellipsis"
      ]
     },
     "execution_count": 18,
     "metadata": {},
     "output_type": "execute_result"
    }
   ],
   "source": [
    "..."
   ]
  },
  {
   "cell_type": "raw",
   "id": "e36272e0-6b8d-44c6-b163-828c8bbfbe7e",
   "metadata": {},
   "source": [
    "# END SOLUTION"
   ]
  },
  {
   "cell_type": "raw",
   "id": "db77929c-237e-401e-88f5-53e660bb71d7",
   "metadata": {},
   "source": [
    "# END QUESTION"
   ]
  },
  {
   "cell_type": "markdown",
   "id": "56db7e09-81b0-433f-818a-9f157f938c3a",
   "metadata": {},
   "source": [
    "# Data Wrangling\n",
    "A few of the variables that are numeric/integer actually encode categorical data. These include `holiday`, `weekday`, `workingday`, and `weathersit`. In the following question, we will convert these four variables to strings specifying the categories. \n",
    "\n",
    "In particular, we will use 3-letter labels (`Sun`, `Mon`, `Tue`, `Wed`, `Thu`, `Fri`, and `Sat`) for `weekday`. For `holiday` and `workingday`,  we will simply use `yes`/`no`.\n",
    "\n",
    "In this exercise we will **mutate** the data frame (i.e. **overwriting the corresponding variables in the data frame.**). However, our notebook will effectively document this in-place data transformation for future readers. \n",
    "\n",
    "**Note:** Make sure to leave the underlying datafile `bikeshare.txt` unmodified."
   ]
  },
  {
   "cell_type": "raw",
   "id": "4bc35985-bfd6-467d-b527-03cdd37ace29",
   "metadata": {},
   "source": [
    "# BEGIN QUESTION\n",
    "name: q5"
   ]
  },
  {
   "cell_type": "markdown",
   "id": "1425ea63-89fa-4138-aa73-b7dab3ac7222",
   "metadata": {},
   "source": [
    "**Question 5.** Decode the `yr`, `holiday`, `weekday`, `workingday`, `weathersit` and `season` fields:\n",
    "\n",
    "- `yr`: Convert 0 to 2011 and 1 to 2012. These values should be strings.\n",
    "\n",
    "- `holiday`: Convert to `yes` and `no`  .\n",
    "\n",
    "- `weekday`: Mutate the `'weekday'` column to use the 3-letter label (`'Sun'`, `'Mon'`, `'Tue'`, `'Wed'`, `'Thu'`, `'Fri'`, and `'Sat'`) instead of its current numerical values. Assume `0` corresponds to `Sun`, `1` to `Mon` and so on.\n",
    "\n",
    "- `workingday`: Convert to `yes` and `no`.\n",
    "\n",
    "- `weathersit`: You should replace each value with one of `Clear`, `Mist`, `Light`, or `Heavy`.\n",
    "\n",
    "- `season`: Convert to Spring, Summer, Fall, Winter.\n",
    "\n",
    "**Note:** If you want to revert changes, run the cell that reloads the data file.\n",
    "\n",
    "**Hint:**  One approach is to use the [replace](https://pandas.pydata.org/pandas-docs/stable/reference/api/pandas.DataFrame.replace.html) method of the `pandas` `DataFrame` class. We haven't discussed how to do this so you'll need to look at the documentation."
   ]
  },
  {
   "cell_type": "raw",
   "id": "3b19215a-5357-4d59-9e99-2a6336e4f6c6",
   "metadata": {},
   "source": [
    "# BEGIN SOLUTION"
   ]
  },
  {
   "cell_type": "code",
   "execution_count": 19,
   "id": "1f0d26d6-4e22-4d06-a824-a2be28cdb27f",
   "metadata": {},
   "outputs": [
    {
     "data": {
      "text/html": [
       "<div>\n",
       "<style scoped>\n",
       "    .dataframe tbody tr th:only-of-type {\n",
       "        vertical-align: middle;\n",
       "    }\n",
       "\n",
       "    .dataframe tbody tr th {\n",
       "        vertical-align: top;\n",
       "    }\n",
       "\n",
       "    .dataframe thead th {\n",
       "        text-align: right;\n",
       "    }\n",
       "</style>\n",
       "<table border=\"1\" class=\"dataframe\">\n",
       "  <thead>\n",
       "    <tr style=\"text-align: right;\">\n",
       "      <th></th>\n",
       "      <th>instant</th>\n",
       "      <th>dteday</th>\n",
       "      <th>season</th>\n",
       "      <th>yr</th>\n",
       "      <th>mnth</th>\n",
       "      <th>hr</th>\n",
       "      <th>holiday</th>\n",
       "      <th>weekday</th>\n",
       "      <th>workingday</th>\n",
       "      <th>weathersit</th>\n",
       "      <th>temp</th>\n",
       "      <th>atemp</th>\n",
       "      <th>hum</th>\n",
       "      <th>windspeed</th>\n",
       "      <th>casual</th>\n",
       "      <th>registered</th>\n",
       "      <th>cnt</th>\n",
       "    </tr>\n",
       "  </thead>\n",
       "  <tbody>\n",
       "    <tr>\n",
       "      <th>0</th>\n",
       "      <td>1</td>\n",
       "      <td>2011-01-01</td>\n",
       "      <td>Spring</td>\n",
       "      <td>2011</td>\n",
       "      <td>1</td>\n",
       "      <td>0</td>\n",
       "      <td>no</td>\n",
       "      <td>Sat</td>\n",
       "      <td>no</td>\n",
       "      <td>Clear</td>\n",
       "      <td>0.24</td>\n",
       "      <td>0.2879</td>\n",
       "      <td>0.81</td>\n",
       "      <td>0.0</td>\n",
       "      <td>3</td>\n",
       "      <td>13</td>\n",
       "      <td>16</td>\n",
       "    </tr>\n",
       "    <tr>\n",
       "      <th>1</th>\n",
       "      <td>2</td>\n",
       "      <td>2011-01-01</td>\n",
       "      <td>Spring</td>\n",
       "      <td>2011</td>\n",
       "      <td>1</td>\n",
       "      <td>1</td>\n",
       "      <td>no</td>\n",
       "      <td>Sat</td>\n",
       "      <td>no</td>\n",
       "      <td>Clear</td>\n",
       "      <td>0.22</td>\n",
       "      <td>0.2727</td>\n",
       "      <td>0.80</td>\n",
       "      <td>0.0</td>\n",
       "      <td>8</td>\n",
       "      <td>32</td>\n",
       "      <td>40</td>\n",
       "    </tr>\n",
       "    <tr>\n",
       "      <th>2</th>\n",
       "      <td>3</td>\n",
       "      <td>2011-01-01</td>\n",
       "      <td>Spring</td>\n",
       "      <td>2011</td>\n",
       "      <td>1</td>\n",
       "      <td>2</td>\n",
       "      <td>no</td>\n",
       "      <td>Sat</td>\n",
       "      <td>no</td>\n",
       "      <td>Clear</td>\n",
       "      <td>0.22</td>\n",
       "      <td>0.2727</td>\n",
       "      <td>0.80</td>\n",
       "      <td>0.0</td>\n",
       "      <td>5</td>\n",
       "      <td>27</td>\n",
       "      <td>32</td>\n",
       "    </tr>\n",
       "    <tr>\n",
       "      <th>3</th>\n",
       "      <td>4</td>\n",
       "      <td>2011-01-01</td>\n",
       "      <td>Spring</td>\n",
       "      <td>2011</td>\n",
       "      <td>1</td>\n",
       "      <td>3</td>\n",
       "      <td>no</td>\n",
       "      <td>Sat</td>\n",
       "      <td>no</td>\n",
       "      <td>Clear</td>\n",
       "      <td>0.24</td>\n",
       "      <td>0.2879</td>\n",
       "      <td>0.75</td>\n",
       "      <td>0.0</td>\n",
       "      <td>3</td>\n",
       "      <td>10</td>\n",
       "      <td>13</td>\n",
       "    </tr>\n",
       "    <tr>\n",
       "      <th>4</th>\n",
       "      <td>5</td>\n",
       "      <td>2011-01-01</td>\n",
       "      <td>Spring</td>\n",
       "      <td>2011</td>\n",
       "      <td>1</td>\n",
       "      <td>4</td>\n",
       "      <td>no</td>\n",
       "      <td>Sat</td>\n",
       "      <td>no</td>\n",
       "      <td>Clear</td>\n",
       "      <td>0.24</td>\n",
       "      <td>0.2879</td>\n",
       "      <td>0.75</td>\n",
       "      <td>0.0</td>\n",
       "      <td>0</td>\n",
       "      <td>1</td>\n",
       "      <td>1</td>\n",
       "    </tr>\n",
       "  </tbody>\n",
       "</table>\n",
       "</div>"
      ],
      "text/plain": [
       "   instant      dteday  season    yr  mnth  hr holiday weekday workingday  \\\n",
       "0        1  2011-01-01  Spring  2011     1   0      no     Sat         no   \n",
       "1        2  2011-01-01  Spring  2011     1   1      no     Sat         no   \n",
       "2        3  2011-01-01  Spring  2011     1   2      no     Sat         no   \n",
       "3        4  2011-01-01  Spring  2011     1   3      no     Sat         no   \n",
       "4        5  2011-01-01  Spring  2011     1   4      no     Sat         no   \n",
       "\n",
       "  weathersit  temp   atemp   hum  windspeed  casual  registered  cnt  \n",
       "0      Clear  0.24  0.2879  0.81        0.0       3          13   16  \n",
       "1      Clear  0.22  0.2727  0.80        0.0       8          32   40  \n",
       "2      Clear  0.22  0.2727  0.80        0.0       5          27   32  \n",
       "3      Clear  0.24  0.2879  0.75        0.0       3          10   13  \n",
       "4      Clear  0.24  0.2879  0.75        0.0       0           1    1  "
      ]
     },
     "execution_count": 19,
     "metadata": {},
     "output_type": "execute_result"
    }
   ],
   "source": [
    "# BEGIN SOLUTION NO PROMPT\n",
    "bike['yr'] = bike['yr'].apply(lambda x: '2012' if x else '2011')\n",
    "bike['holiday'] = bike['holiday'].apply(lambda x: 'yes' if x else 'no')\n",
    "bike['workingday'] = bike['workingday'].apply(lambda x: 'yes' if x else 'no')\n",
    "bike['weathersit'] = bike['weathersit'].apply(lambda x: ['Clear', 'Mist', 'Light', 'Heavy'][x-1])\n",
    "bike['weekday'] = bike['weekday'].apply(lambda x: ['Sun', 'Mon', 'Tue', 'Wed', 'Thu', 'Fri', 'Sat'][x])\n",
    "bike['season'] = bike['season'].apply(lambda x: ['Spring', 'Summer', 'Fall', 'Winter'][x-1])\n",
    "# END SOLUTION\n",
    "\"\"\" # BEGIN PROMPT\n",
    "...\n",
    "\"\"\"; # END PROMPT\n",
    "bike.head()"
   ]
  },
  {
   "cell_type": "raw",
   "id": "351ab303-e224-47c0-8ad4-02ae86493be3",
   "metadata": {},
   "source": [
    "# END SOLUTION"
   ]
  },
  {
   "cell_type": "raw",
   "id": "ce10f550-cadf-47c3-9a20-b4bb6461d536",
   "metadata": {},
   "source": [
    "# BEGIN TESTS"
   ]
  },
  {
   "cell_type": "code",
   "execution_count": 20,
   "id": "db628d3f-1e76-4a9f-91a8-6d8096f59c6b",
   "metadata": {},
   "outputs": [
    {
     "data": {
      "text/plain": [
       "4242"
      ]
     },
     "execution_count": 20,
     "metadata": {},
     "output_type": "execute_result"
    }
   ],
   "source": [
    "bike.season.value_counts()['Spring']"
   ]
  },
  {
   "cell_type": "code",
   "execution_count": 21,
   "id": "1b4b4e85-3fbc-4d84-9400-740f002984a0",
   "metadata": {},
   "outputs": [
    {
     "data": {
      "text/plain": [
       "4409"
      ]
     },
     "execution_count": 21,
     "metadata": {},
     "output_type": "execute_result"
    }
   ],
   "source": [
    "bike.season.value_counts()['Summer']"
   ]
  },
  {
   "cell_type": "code",
   "execution_count": 22,
   "id": "e810c40f-1b90-4e4d-93d8-d92efb47a9e0",
   "metadata": {},
   "outputs": [
    {
     "data": {
      "text/plain": [
       "4496"
      ]
     },
     "execution_count": 22,
     "metadata": {},
     "output_type": "execute_result"
    }
   ],
   "source": [
    "bike.season.value_counts()['Fall']"
   ]
  },
  {
   "cell_type": "code",
   "execution_count": 23,
   "id": "0f38488f-05ea-4f54-b835-3755720ef007",
   "metadata": {},
   "outputs": [
    {
     "data": {
      "text/plain": [
       "4232"
      ]
     },
     "execution_count": 23,
     "metadata": {},
     "output_type": "execute_result"
    }
   ],
   "source": [
    "bike.season.value_counts()['Winter']"
   ]
  },
  {
   "cell_type": "code",
   "execution_count": 24,
   "id": "229d3d27-427a-4249-b996-1acd93f4af08",
   "metadata": {},
   "outputs": [
    {
     "data": {
      "text/plain": [
       "8734"
      ]
     },
     "execution_count": 24,
     "metadata": {},
     "output_type": "execute_result"
    }
   ],
   "source": [
    "bike.yr.value_counts()['2012']"
   ]
  },
  {
   "cell_type": "code",
   "execution_count": 25,
   "id": "fd100ce6",
   "metadata": {},
   "outputs": [
    {
     "data": {
      "text/plain": [
       "8734"
      ]
     },
     "execution_count": 25,
     "metadata": {},
     "output_type": "execute_result"
    }
   ],
   "source": [
    "bike.yr.value_counts()['2012']"
   ]
  },
  {
   "cell_type": "code",
   "execution_count": 26,
   "id": "1cf478c9-f679-4549-9df4-d9b94996261f",
   "metadata": {},
   "outputs": [
    {
     "data": {
      "text/plain": [
       "500"
      ]
     },
     "execution_count": 26,
     "metadata": {},
     "output_type": "execute_result"
    }
   ],
   "source": [
    "bike.holiday.value_counts()['yes']"
   ]
  },
  {
   "cell_type": "code",
   "execution_count": 27,
   "id": "3f144ef7",
   "metadata": {},
   "outputs": [
    {
     "data": {
      "text/plain": [
       "500"
      ]
     },
     "execution_count": 27,
     "metadata": {},
     "output_type": "execute_result"
    }
   ],
   "source": [
    "bike.holiday.value_counts()['yes']"
   ]
  },
  {
   "cell_type": "code",
   "execution_count": 28,
   "id": "d0e10329-e8fc-47f6-adf1-20ffa753dc69",
   "metadata": {},
   "outputs": [
    {
     "data": {
      "text/plain": [
       "2487"
      ]
     },
     "execution_count": 28,
     "metadata": {},
     "output_type": "execute_result"
    }
   ],
   "source": [
    "bike.weekday.value_counts()['Fri']"
   ]
  },
  {
   "cell_type": "code",
   "execution_count": 29,
   "id": "22bdb960",
   "metadata": {},
   "outputs": [
    {
     "data": {
      "text/plain": [
       "2487"
      ]
     },
     "execution_count": 29,
     "metadata": {},
     "output_type": "execute_result"
    }
   ],
   "source": [
    "bike.weekday.value_counts()['Fri']"
   ]
  },
  {
   "cell_type": "code",
   "execution_count": 30,
   "id": "b727692e",
   "metadata": {},
   "outputs": [
    {
     "data": {
      "text/plain": [
       "2487"
      ]
     },
     "execution_count": 30,
     "metadata": {},
     "output_type": "execute_result"
    }
   ],
   "source": [
    "bike.weekday.value_counts()['Fri']"
   ]
  },
  {
   "cell_type": "code",
   "execution_count": 31,
   "id": "1171b002",
   "metadata": {},
   "outputs": [
    {
     "data": {
      "text/plain": [
       "2487"
      ]
     },
     "execution_count": 31,
     "metadata": {},
     "output_type": "execute_result"
    }
   ],
   "source": [
    "bike.weekday.value_counts()['Fri']"
   ]
  },
  {
   "cell_type": "code",
   "execution_count": 32,
   "id": "22205afd",
   "metadata": {},
   "outputs": [
    {
     "data": {
      "text/plain": [
       "2487"
      ]
     },
     "execution_count": 32,
     "metadata": {},
     "output_type": "execute_result"
    }
   ],
   "source": [
    "bike.weekday.value_counts()['Fri']"
   ]
  },
  {
   "cell_type": "code",
   "execution_count": 33,
   "id": "7a3853c3",
   "metadata": {},
   "outputs": [
    {
     "data": {
      "text/plain": [
       "2487"
      ]
     },
     "execution_count": 33,
     "metadata": {},
     "output_type": "execute_result"
    }
   ],
   "source": [
    "bike.weekday.value_counts()['Fri']"
   ]
  },
  {
   "cell_type": "code",
   "execution_count": 34,
   "id": "22593553",
   "metadata": {},
   "outputs": [
    {
     "data": {
      "text/plain": [
       "2487"
      ]
     },
     "execution_count": 34,
     "metadata": {},
     "output_type": "execute_result"
    }
   ],
   "source": [
    "bike.weekday.value_counts()['Fri']"
   ]
  },
  {
   "cell_type": "code",
   "execution_count": 35,
   "id": "3c6cf34e",
   "metadata": {},
   "outputs": [
    {
     "data": {
      "text/plain": [
       "2487"
      ]
     },
     "execution_count": 35,
     "metadata": {},
     "output_type": "execute_result"
    }
   ],
   "source": [
    "bike.weekday.value_counts()['Fri']"
   ]
  },
  {
   "cell_type": "code",
   "execution_count": 36,
   "id": "96cb7f0d",
   "metadata": {},
   "outputs": [
    {
     "data": {
      "text/plain": [
       "2487"
      ]
     },
     "execution_count": 36,
     "metadata": {},
     "output_type": "execute_result"
    }
   ],
   "source": [
    "bike.weekday.value_counts()['Fri']"
   ]
  },
  {
   "cell_type": "code",
   "execution_count": 37,
   "id": "3c15d259",
   "metadata": {},
   "outputs": [
    {
     "data": {
      "text/plain": [
       "2487"
      ]
     },
     "execution_count": 37,
     "metadata": {},
     "output_type": "execute_result"
    }
   ],
   "source": [
    "bike.weekday.value_counts()['Fri']"
   ]
  },
  {
   "cell_type": "code",
   "execution_count": 38,
   "id": "c04c31d8",
   "metadata": {},
   "outputs": [
    {
     "data": {
      "text/plain": [
       "2487"
      ]
     },
     "execution_count": 38,
     "metadata": {},
     "output_type": "execute_result"
    }
   ],
   "source": [
    "bike.weekday.value_counts()['Fri']"
   ]
  },
  {
   "cell_type": "code",
   "execution_count": 39,
   "id": "006a7880",
   "metadata": {},
   "outputs": [
    {
     "data": {
      "text/plain": [
       "2487"
      ]
     },
     "execution_count": 39,
     "metadata": {},
     "output_type": "execute_result"
    }
   ],
   "source": [
    "bike.weekday.value_counts()['Fri']"
   ]
  },
  {
   "cell_type": "raw",
   "id": "78413a7e-fd13-4d32-9abd-241c091f5fca",
   "metadata": {},
   "source": [
    "# END TESTS"
   ]
  },
  {
   "cell_type": "raw",
   "id": "cdecc631-b437-4f82-b664-1e717efbd4f3",
   "metadata": {},
   "source": [
    "# END QUESTION"
   ]
  },
  {
   "cell_type": "raw",
   "id": "8277cb17-c531-42c1-b45e-a93ece315a25",
   "metadata": {},
   "source": [
    "# BEGIN QUESTION\n",
    "name: q6\n",
    "points: 0.5"
   ]
  },
  {
   "cell_type": "markdown",
   "id": "d1883825-f0ca-49bf-816e-3b96227dc465",
   "metadata": {},
   "source": [
    "**Question 6.** How many entries in the data correspond to holidays?  Set the variable `num_holidays` to this value.\n",
    "\n",
    "**Note:** To earn all the points for this question you must show the code you used to obtain your result."
   ]
  },
  {
   "cell_type": "raw",
   "id": "0fc38259-b164-4ae0-b8e5-4e5648f2e42b",
   "metadata": {},
   "source": [
    "# BEGIN SOLUTION"
   ]
  },
  {
   "cell_type": "code",
   "execution_count": 40,
   "id": "f76b586b-5d7f-4900-a020-58c185e90eee",
   "metadata": {},
   "outputs": [
    {
     "data": {
      "text/plain": [
       "500"
      ]
     },
     "execution_count": 40,
     "metadata": {},
     "output_type": "execute_result"
    }
   ],
   "source": [
    "num_holidays = bike['holiday'].value_counts()['yes']\n",
    "num_holidays"
   ]
  },
  {
   "cell_type": "raw",
   "id": "10ad49cf-29b6-485c-ad71-6a3e3fbd2b36",
   "metadata": {},
   "source": [
    "# END SOLUTION"
   ]
  },
  {
   "cell_type": "raw",
   "id": "8cd1492d-6ae3-4559-89bf-09c021a151d1",
   "metadata": {},
   "source": [
    "# BEGIN TESTS"
   ]
  },
  {
   "cell_type": "code",
   "execution_count": 41,
   "id": "fe53698c-8ba8-499b-9265-af9cf6aaf059",
   "metadata": {},
   "outputs": [
    {
     "data": {
      "text/plain": [
       "True"
      ]
     },
     "execution_count": 41,
     "metadata": {},
     "output_type": "execute_result"
    }
   ],
   "source": [
    "isinstance(num_holidays, int) or isinstance(num_holidays, np.int64)"
   ]
  },
  {
   "cell_type": "code",
   "execution_count": 42,
   "id": "fa47f05b-ec5d-4ad4-b451-d669c7d03e5f",
   "metadata": {},
   "outputs": [
    {
     "data": {
      "text/plain": [
       "True"
      ]
     },
     "execution_count": 42,
     "metadata": {},
     "output_type": "execute_result"
    }
   ],
   "source": [
    "# HIDDEN\n",
    "num_holidays == 500"
   ]
  },
  {
   "cell_type": "code",
   "execution_count": 43,
   "id": "540153ef",
   "metadata": {},
   "outputs": [
    {
     "data": {
      "text/plain": [
       "True"
      ]
     },
     "execution_count": 43,
     "metadata": {},
     "output_type": "execute_result"
    }
   ],
   "source": [
    "# HIDDEN\n",
    "num_holidays == 500"
   ]
  },
  {
   "cell_type": "raw",
   "id": "498c5a08-8103-4211-beb7-4cba933bb3ba",
   "metadata": {},
   "source": [
    "# END TESTS"
   ]
  },
  {
   "cell_type": "raw",
   "id": "b7c4d05c-068d-4570-8fb8-8f1d46c2c640",
   "metadata": {},
   "source": [
    "# END QUESTION"
   ]
  },
  {
   "cell_type": "markdown",
   "id": "4f3a1e9d-cd7d-4e2f-8fe0-2a2818de095c",
   "metadata": {},
   "source": [
    "Holidays don't always occur on the weekend. What if we wanted to know the distribution of non-working days (holidays) in each year that occurred on each weekday (i.e. Mon, Tue, Wed, Thu, Fri)?"
   ]
  },
  {
   "cell_type": "raw",
   "id": "4666b4cb-7c0a-499b-9dfe-7fedbbe00446",
   "metadata": {},
   "source": [
    "# BEGIN QUESTION\n",
    "name: q7\n",
    "points: 0.5"
   ]
  },
  {
   "cell_type": "markdown",
   "id": "7cef7efe-49e4-47cd-9ed5-f93b9b7cfd1c",
   "metadata": {},
   "source": [
    "**Question 7.** How many entries in the data correspond to non-working days that did not occur on the weekend? For this question we will assume weekend days to be Saturday and Sunday. Save your answer as a number to the variable `q7`.\n",
    "\n",
    "**Note:** To earn all the points for this question you must show the code you used to obtain your result."
   ]
  },
  {
   "cell_type": "raw",
   "id": "c0416cb7-104a-4abd-b216-f3ab80e44b11",
   "metadata": {},
   "source": [
    "# BEGIN SOLUTION"
   ]
  },
  {
   "cell_type": "code",
   "execution_count": 44,
   "id": "de4d9777-d0ad-46ae-9879-6f7f26bbaa70",
   "metadata": {},
   "outputs": [
    {
     "data": {
      "text/plain": [
       "500"
      ]
     },
     "execution_count": 44,
     "metadata": {},
     "output_type": "execute_result"
    }
   ],
   "source": [
    "q7 = bike[(bike['workingday'] == 'no') & (~bike['weekday'].isin(['Sat', 'Sun']))]['weekday'].shape[0] # SOLUTION\n",
    "q7"
   ]
  },
  {
   "cell_type": "raw",
   "id": "53747bdc-6d81-4f66-9064-8daffd11b132",
   "metadata": {},
   "source": [
    "# END SOLUTION"
   ]
  },
  {
   "cell_type": "raw",
   "id": "a47ca925-9d36-4752-904d-75ab2a4a01e6",
   "metadata": {},
   "source": [
    "# BEGIN TESTS"
   ]
  },
  {
   "cell_type": "code",
   "execution_count": 45,
   "id": "930ed1a4-bc9a-4bc8-8e2b-7f28a2d155a2",
   "metadata": {},
   "outputs": [
    {
     "data": {
      "text/plain": [
       "True"
      ]
     },
     "execution_count": 45,
     "metadata": {},
     "output_type": "execute_result"
    }
   ],
   "source": [
    "isinstance(q7, int) or isinstance(q7, np.int64)"
   ]
  },
  {
   "cell_type": "code",
   "execution_count": 46,
   "id": "0e45b079-8c60-4837-bf66-22cc8670ee81",
   "metadata": {},
   "outputs": [
    {
     "data": {
      "text/plain": [
       "True"
      ]
     },
     "execution_count": 46,
     "metadata": {},
     "output_type": "execute_result"
    }
   ],
   "source": [
    "q7 == 500"
   ]
  },
  {
   "cell_type": "raw",
   "id": "18048ae3-bfb1-4909-bc0e-2d815dac89ca",
   "metadata": {},
   "source": [
    "# END TESTS"
   ]
  },
  {
   "cell_type": "raw",
   "id": "26536ef0-ae29-415c-a31c-9d1f05efba61",
   "metadata": {},
   "source": [
    "# END QUESTION"
   ]
  },
  {
   "cell_type": "raw",
   "id": "6fdb03ff-bd7c-45f1-9c98-0cd7098e3280",
   "metadata": {},
   "source": [
    "# BEGIN QUESTION\n",
    "name: q8\n",
    "points: 0.5"
   ]
  },
  {
   "cell_type": "markdown",
   "id": "1e710e96-25cf-4096-8072-9495b48bf5e8",
   "metadata": {},
   "source": [
    "**Question 8.** How many non working days were on each weekday (i.e. Mon, Tue, Wed, Thu, Fri) in 2011? Save your result to a dataframe named `q8`, where the index values are integers and the column names are **day** (for the day of the week) and **count** (for the number of non working days)\n",
    "\n",
    "**Note:** To earn all the points for this question you must show the code you used to obtain your result."
   ]
  },
  {
   "cell_type": "raw",
   "id": "7e5aead5-e32a-449a-9a06-4766f101fccf",
   "metadata": {},
   "source": [
    "# BEGIN SOLUTION"
   ]
  },
  {
   "cell_type": "code",
   "execution_count": 47,
   "id": "7973da7e-e7c8-40f5-b900-ee228c884c5c",
   "metadata": {},
   "outputs": [
    {
     "data": {
      "text/html": [
       "<div>\n",
       "<style scoped>\n",
       "    .dataframe tbody tr th:only-of-type {\n",
       "        vertical-align: middle;\n",
       "    }\n",
       "\n",
       "    .dataframe tbody tr th {\n",
       "        vertical-align: top;\n",
       "    }\n",
       "\n",
       "    .dataframe thead th {\n",
       "        text-align: right;\n",
       "    }\n",
       "</style>\n",
       "<table border=\"1\" class=\"dataframe\">\n",
       "  <thead>\n",
       "    <tr style=\"text-align: right;\">\n",
       "      <th></th>\n",
       "      <th>day</th>\n",
       "      <th>count</th>\n",
       "    </tr>\n",
       "  </thead>\n",
       "  <tbody>\n",
       "    <tr>\n",
       "      <th>0</th>\n",
       "      <td>Mon</td>\n",
       "      <td>167</td>\n",
       "    </tr>\n",
       "    <tr>\n",
       "      <th>1</th>\n",
       "      <td>Fri</td>\n",
       "      <td>48</td>\n",
       "    </tr>\n",
       "    <tr>\n",
       "      <th>2</th>\n",
       "      <td>Thu</td>\n",
       "      <td>24</td>\n",
       "    </tr>\n",
       "  </tbody>\n",
       "</table>\n",
       "</div>"
      ],
      "text/plain": [
       "   day  count\n",
       "0  Mon    167\n",
       "1  Fri     48\n",
       "2  Thu     24"
      ]
     },
     "execution_count": 47,
     "metadata": {},
     "output_type": "execute_result"
    }
   ],
   "source": [
    "q8 = bike[(bike.yr == '2011') & (bike['workingday'] == 'no') & (~bike['weekday'].isin(['Sat', 'Sun']))]['weekday'].value_counts().to_frame().reset_index().rename(columns={'index':'day', 'weekday':'count'}) # SOLUTION\n",
    "q8"
   ]
  },
  {
   "cell_type": "raw",
   "id": "2fa29850-cbb5-4cb4-8bbc-962cd287e0d1",
   "metadata": {},
   "source": [
    "# END SOLUTION"
   ]
  },
  {
   "cell_type": "raw",
   "id": "82643b9f-d56d-4261-b7b2-1eec02d0b82c",
   "metadata": {},
   "source": [
    "# BEGIN TESTS"
   ]
  },
  {
   "cell_type": "code",
   "execution_count": 48,
   "id": "d408c5bd-06f0-4d50-80ad-c23636d0e1fd",
   "metadata": {},
   "outputs": [
    {
     "data": {
      "text/plain": [
       "True"
      ]
     },
     "execution_count": 48,
     "metadata": {},
     "output_type": "execute_result"
    }
   ],
   "source": [
    "isinstance(q8, pd.core.frame.DataFrame)"
   ]
  },
  {
   "cell_type": "code",
   "execution_count": 49,
   "id": "e3bd8a6d-a89e-4c8b-834f-adb8c7dade06",
   "metadata": {},
   "outputs": [
    {
     "data": {
      "text/plain": [
       "['Mon', 'Fri', 'Thu']"
      ]
     },
     "execution_count": 49,
     "metadata": {},
     "output_type": "execute_result"
    }
   ],
   "source": [
    "list(q8.day)"
   ]
  },
  {
   "cell_type": "code",
   "execution_count": 50,
   "id": "021972a5",
   "metadata": {},
   "outputs": [
    {
     "data": {
      "text/plain": [
       "['Mon', 'Fri', 'Thu']"
      ]
     },
     "execution_count": 50,
     "metadata": {},
     "output_type": "execute_result"
    }
   ],
   "source": [
    "list(q8.day)"
   ]
  },
  {
   "cell_type": "code",
   "execution_count": 51,
   "id": "c5710183",
   "metadata": {},
   "outputs": [
    {
     "data": {
      "text/plain": [
       "['Mon', 'Fri', 'Thu']"
      ]
     },
     "execution_count": 51,
     "metadata": {},
     "output_type": "execute_result"
    }
   ],
   "source": [
    "list(q8.day)"
   ]
  },
  {
   "cell_type": "code",
   "execution_count": 52,
   "id": "c7a51577-adf2-4c33-b6ca-d288e2d88c0f",
   "metadata": {},
   "outputs": [
    {
     "data": {
      "text/plain": [
       "True"
      ]
     },
     "execution_count": 52,
     "metadata": {},
     "output_type": "execute_result"
    }
   ],
   "source": [
    "# HIDDEN\n",
    "(q8[q8['day'] == 'Mon']['count'].iloc[0] == 167) & (q8[q8['day'] == 'Fri']['count'].iloc[0]  == 48) & (q8[q8['day'] == 'Thu']['count'].iloc[0]  == 24)"
   ]
  },
  {
   "cell_type": "code",
   "execution_count": 53,
   "id": "e8665712",
   "metadata": {},
   "outputs": [
    {
     "data": {
      "text/plain": [
       "True"
      ]
     },
     "execution_count": 53,
     "metadata": {},
     "output_type": "execute_result"
    }
   ],
   "source": [
    "# HIDDEN\n",
    "(q8[q8['day'] == 'Mon']['count'].iloc[0] == 167) & (q8[q8['day'] == 'Fri']['count'].iloc[0]  == 48) & (q8[q8['day'] == 'Thu']['count'].iloc[0]  == 24)"
   ]
  },
  {
   "cell_type": "raw",
   "id": "f8a1068d-576f-43dd-b38e-4c9002ccd70e",
   "metadata": {},
   "source": [
    "# END TESTS"
   ]
  },
  {
   "cell_type": "raw",
   "id": "44f02870-7d94-46f9-bf27-2f4c660e0717",
   "metadata": {},
   "source": [
    "# END QUESTION"
   ]
  },
  {
   "cell_type": "raw",
   "id": "4088c62f-56e6-4081-a025-220ff1b1e18b",
   "metadata": {},
   "source": [
    "# BEGIN QUESTION\n",
    "name: q9\n",
    "manual: true"
   ]
  },
  {
   "cell_type": "markdown",
   "id": "2a1658cf-302b-48c8-9b37-8f9fe861315d",
   "metadata": {},
   "source": [
    "**Question 9.** Use your result from **Question 8** to make a bar chart. \n",
    "\n",
    "**Note:** Make sure you give the plot a title and label the axes."
   ]
  },
  {
   "cell_type": "raw",
   "id": "725d05fd-e2f7-43db-80d2-533c793d0546",
   "metadata": {},
   "source": [
    "# BEGIN SOLUTION"
   ]
  },
  {
   "cell_type": "code",
   "execution_count": 54,
   "id": "7c0e9be0-002a-4379-bfe7-e135709e1eac",
   "metadata": {},
   "outputs": [
    {
     "data": {
      "image/png": "[encoded data removed]",
      "text/plain": [
       "<Figure size 1000x400 with 1 Axes>"
      ]
     },
     "metadata": {},
     "output_type": "display_data"
    }
   ],
   "source": [
    "sns.barplot(data=q8, x='day', y='count') # SOLUTION\n",
    "plt.title('Non-working Weekdays'); # SOLUTION"
   ]
  },
  {
   "cell_type": "raw",
   "id": "60e4a639-94ff-485b-9193-bda07abf6748",
   "metadata": {},
   "source": [
    "# END SOLUTION"
   ]
  },
  {
   "cell_type": "raw",
   "id": "00f3cf8f-cd5b-42d4-806e-461fbf9a02de",
   "metadata": {},
   "source": [
    "# END QUESTION"
   ]
  },
  {
   "cell_type": "markdown",
   "id": "26875887-8c48-468b-ac85-cd786aa0e500",
   "metadata": {},
   "source": [
    "The granularity of this data is at the hourly level.  However, for some of the analysis we will also want to compute daily statistics.  In particular, in the next few questions we will be analyzing the daily number of registered and unregistered users."
   ]
  },
  {
   "cell_type": "raw",
   "id": "eda0f78e-dc62-420b-af0d-5d1c4cb5c15e",
   "metadata": {},
   "source": [
    "# BEGIN QUESTION\n",
    "name: q10"
   ]
  },
  {
   "cell_type": "markdown",
   "id": "f294f0c3-46b5-4321-bec4-07e4f5b0d743",
   "metadata": {},
   "source": [
    "**Question 10.** Construct a dataframe named `daily_count` indexed by `dteday` with the following columns:\n",
    "\n",
    "* `casual`: total number of casual riders for each day\n",
    "\n",
    "* `registered`: total number of registered riders for each day\n",
    "\n",
    "* `workingday`: whether that day is a working day or not (`yes` or `no`)\n",
    "\n",
    "**Hint**: Consider using the `groupby` and `agg` functions. For `agg`, you can check the [documentation](https://pandas.pydata.org/pandas-docs/stable/generated/pandas.core.groupby.DataFrameGroupBy.agg.html) for examples on applying different aggregations per column. If you use the capability to do different aggregations by column, you can do this task with a single call to `groupby` and `agg`. For the `workingday` column we can take any of the values since we are grouping by the day, thus the value will be the same within each group. It may also be helpful to take a look at the `first` or `last` aggregation functions."
   ]
  },
  {
   "cell_type": "raw",
   "id": "6db3f1c1-4061-4c4b-bd69-c75a8f076ba8",
   "metadata": {},
   "source": [
    "# BEGIN SOLUTION"
   ]
  },
  {
   "cell_type": "code",
   "execution_count": 55,
   "id": "a56ca6ea-8687-4f29-8592-29d6adcf8d3d",
   "metadata": {},
   "outputs": [
    {
     "data": {
      "text/html": [
       "<div>\n",
       "<style scoped>\n",
       "    .dataframe tbody tr th:only-of-type {\n",
       "        vertical-align: middle;\n",
       "    }\n",
       "\n",
       "    .dataframe tbody tr th {\n",
       "        vertical-align: top;\n",
       "    }\n",
       "\n",
       "    .dataframe thead th {\n",
       "        text-align: right;\n",
       "    }\n",
       "</style>\n",
       "<table border=\"1\" class=\"dataframe\">\n",
       "  <thead>\n",
       "    <tr style=\"text-align: right;\">\n",
       "      <th></th>\n",
       "      <th>casual</th>\n",
       "      <th>registered</th>\n",
       "      <th>workingday</th>\n",
       "    </tr>\n",
       "    <tr>\n",
       "      <th>dteday</th>\n",
       "      <th></th>\n",
       "      <th></th>\n",
       "      <th></th>\n",
       "    </tr>\n",
       "  </thead>\n",
       "  <tbody>\n",
       "    <tr>\n",
       "      <th>2011-01-01</th>\n",
       "      <td>331</td>\n",
       "      <td>654</td>\n",
       "      <td>no</td>\n",
       "    </tr>\n",
       "    <tr>\n",
       "      <th>2011-01-02</th>\n",
       "      <td>131</td>\n",
       "      <td>670</td>\n",
       "      <td>no</td>\n",
       "    </tr>\n",
       "    <tr>\n",
       "      <th>2011-01-03</th>\n",
       "      <td>120</td>\n",
       "      <td>1229</td>\n",
       "      <td>yes</td>\n",
       "    </tr>\n",
       "    <tr>\n",
       "      <th>2011-01-04</th>\n",
       "      <td>108</td>\n",
       "      <td>1454</td>\n",
       "      <td>yes</td>\n",
       "    </tr>\n",
       "    <tr>\n",
       "      <th>2011-01-05</th>\n",
       "      <td>82</td>\n",
       "      <td>1518</td>\n",
       "      <td>yes</td>\n",
       "    </tr>\n",
       "  </tbody>\n",
       "</table>\n",
       "</div>"
      ],
      "text/plain": [
       "            casual  registered workingday\n",
       "dteday                                   \n",
       "2011-01-01     331         654         no\n",
       "2011-01-02     131         670         no\n",
       "2011-01-03     120        1229        yes\n",
       "2011-01-04     108        1454        yes\n",
       "2011-01-05      82        1518        yes"
      ]
     },
     "execution_count": 55,
     "metadata": {},
     "output_type": "execute_result"
    }
   ],
   "source": [
    "daily_count = bike.groupby('dteday').agg({'casual': 'sum', 'registered': 'sum', 'workingday': 'first'}) # SOLUTION\n",
    "daily_count.head()"
   ]
  },
  {
   "cell_type": "raw",
   "id": "190bdc4c-d6f2-47ab-9243-e2396ff14de1",
   "metadata": {},
   "source": [
    "# END SOLUTION"
   ]
  },
  {
   "cell_type": "raw",
   "id": "5eba70ae-c41e-4412-b8a4-3dccbc923a25",
   "metadata": {},
   "source": [
    "# BEGIN TESTS"
   ]
  },
  {
   "cell_type": "code",
   "execution_count": 56,
   "id": "3606e6fa-c7f1-4ff0-b35f-b50c21279987",
   "metadata": {},
   "outputs": [
    {
     "data": {
      "text/plain": [
       "231"
      ]
     },
     "execution_count": 56,
     "metadata": {},
     "output_type": "execute_result"
    }
   ],
   "source": [
    "daily_count['workingday'].value_counts()['no']"
   ]
  },
  {
   "cell_type": "code",
   "execution_count": 57,
   "id": "888657aa",
   "metadata": {},
   "outputs": [
    {
     "data": {
      "text/plain": [
       "231"
      ]
     },
     "execution_count": 57,
     "metadata": {},
     "output_type": "execute_result"
    }
   ],
   "source": [
    "daily_count['workingday'].value_counts()['no']"
   ]
  },
  {
   "cell_type": "code",
   "execution_count": 58,
   "id": "ca540bf8",
   "metadata": {},
   "outputs": [
    {
     "data": {
      "text/plain": [
       "231"
      ]
     },
     "execution_count": 58,
     "metadata": {},
     "output_type": "execute_result"
    }
   ],
   "source": [
    "daily_count['workingday'].value_counts()['no']"
   ]
  },
  {
   "cell_type": "code",
   "execution_count": 59,
   "id": "c3a25dbb",
   "metadata": {},
   "outputs": [
    {
     "data": {
      "text/plain": [
       "231"
      ]
     },
     "execution_count": 59,
     "metadata": {},
     "output_type": "execute_result"
    }
   ],
   "source": [
    "daily_count['workingday'].value_counts()['no']"
   ]
  },
  {
   "cell_type": "code",
   "execution_count": 60,
   "id": "6532e7ef",
   "metadata": {},
   "outputs": [
    {
     "data": {
      "text/plain": [
       "231"
      ]
     },
     "execution_count": 60,
     "metadata": {},
     "output_type": "execute_result"
    }
   ],
   "source": [
    "daily_count['workingday'].value_counts()['no']"
   ]
  },
  {
   "cell_type": "code",
   "execution_count": 61,
   "id": "ee9d751f",
   "metadata": {},
   "outputs": [
    {
     "data": {
      "text/plain": [
       "231"
      ]
     },
     "execution_count": 61,
     "metadata": {},
     "output_type": "execute_result"
    }
   ],
   "source": [
    "daily_count['workingday'].value_counts()['no']"
   ]
  },
  {
   "cell_type": "code",
   "execution_count": 62,
   "id": "2a612a01",
   "metadata": {},
   "outputs": [
    {
     "data": {
      "text/plain": [
       "231"
      ]
     },
     "execution_count": 62,
     "metadata": {},
     "output_type": "execute_result"
    }
   ],
   "source": [
    "daily_count['workingday'].value_counts()['no']"
   ]
  },
  {
   "cell_type": "raw",
   "id": "bf0f2a64-f6fb-4105-aa6c-623c6fed559c",
   "metadata": {},
   "source": [
    "# END TESTS"
   ]
  },
  {
   "cell_type": "raw",
   "id": "79dadf77-3407-4fe3-8c72-a556b26a568a",
   "metadata": {},
   "source": [
    "# END QUESTION"
   ]
  },
  {
   "cell_type": "markdown",
   "id": "a9bb8aec-7206-4956-9f0d-5d13bb5ba56e",
   "metadata": {},
   "source": [
    "# Exploring the Distribution of Riders\n",
    "\n",
    "Let's begin by comparing the distribution of the daily counts of casual and registered riders."
   ]
  },
  {
   "cell_type": "raw",
   "id": "420e3a95-217c-440f-b043-f7cc6f8ae1a6",
   "metadata": {},
   "source": [
    "# BEGIN QUESTION\n",
    "name: q11\n",
    "manual: true"
   ]
  },
  {
   "cell_type": "markdown",
   "id": "f9fe2c17-10d2-4ead-80e3-95708b29dc99",
   "metadata": {},
   "source": [
    "**Question 11.** Create a histogram that overlays the distribution of the daily counts of `casual` and `registered` users. \n",
    "\n",
    "- The temporal granularity of the records should be daily counts, which you should have after completing **Question 10**.\n",
    "\n",
    "- After creating the plot, look at it and make sure you understand what the plot is actually telling us (e.g on a given day, the most likely number of registered riders we expect is ~4000, but it could be anywhere from nearly 0 to 7000).\n",
    "\n",
    "**Hint:** `matplotlib.pyplot` has methods to customize the features of a plot. For example, the syntax for the `.xlabel`, `.ylabel`, `.title`, and `.legend` methods can be found in the [documentation](https://matplotlib.org/stable/index.html).\n",
    "\n",
    "<img src='images/casual_v_registered.png' width = \"800px\" class = \"center\"/>"
   ]
  },
  {
   "cell_type": "raw",
   "id": "d0fce99b-7b1b-464f-b225-3c9b864e9ebd",
   "metadata": {},
   "source": [
    "# BEGIN SOLUTION"
   ]
  },
  {
   "cell_type": "code",
   "execution_count": 63,
   "id": "20b3c9fe-387e-43df-bf11-4444369a551b",
   "metadata": {},
   "outputs": [
    {
     "data": {
      "image/png": "[encoded data removed]",
      "text/plain": [
       "<Figure size 1000x400 with 1 Axes>"
      ]
     },
     "metadata": {},
     "output_type": "display_data"
    }
   ],
   "source": [
    "# BEGIN SOLUTION NO PROMPT\n",
    "plt.hist(daily_count[\"casual\"], bins=range(0,7500,500), alpha=.75, label=\"casual\", edgecolor='white')\n",
    "plt.hist(daily_count[\"registered\"], bins=range(0,7500,500), alpha=.75, label=\"registered\", edgecolor='white')\n",
    "plt.legend([\"Registered\", \"Casual\"])\n",
    "plt.xlabel(\"Rider Count\")\n",
    "plt.ylabel(\"Count\")\n",
    "plt.title(\"Distribution Comparison of Casual vs Registered Riders\");\n",
    "# END SOLUTION\n",
    "\"\"\" # BEGIN PROMPT\n",
    "...\n",
    "\"\"\"; # END PROMPT"
   ]
  },
  {
   "cell_type": "raw",
   "id": "6fb92a20-02fa-4dd6-b4ed-e04ae82398d4",
   "metadata": {},
   "source": [
    "# END SOLUTION"
   ]
  },
  {
   "cell_type": "raw",
   "id": "cfe9e35f-253e-4d32-a60c-89d9c4bd06a0",
   "metadata": {},
   "source": [
    "# END QUESTION"
   ]
  },
  {
   "cell_type": "raw",
   "id": "d3196a12-1b65-4a3b-aca9-d50c3bf08524",
   "metadata": {},
   "source": [
    "# BEGIN QUESTION\n",
    "name: q12\n",
    "manual: true"
   ]
  },
  {
   "cell_type": "markdown",
   "id": "fa59c47d-b905-4e24-ae6b-7b3e0dd05955",
   "metadata": {},
   "source": [
    "**Question 12.** In the cell below, describe the differences you notice between the histograms for casual and registered riders. Consider each of the following concepts:\n",
    "\n",
    "- mode. \n",
    "\n",
    "- symmetry.\n",
    "\n",
    "- skewness. \n",
    "\n",
    "- spread of the distributions. "
   ]
  },
  {
   "cell_type": "raw",
   "id": "06172b37-2846-4f81-8371-a7c04edeb0bc",
   "metadata": {},
   "source": [
    "# BEGIN SOLUTION"
   ]
  },
  {
   "cell_type": "markdown",
   "id": "ca05ba16-42a3-4354-bf53-2c1b1efe2525",
   "metadata": {},
   "source": [
    "**SOLUTION:** Answers may vary"
   ]
  },
  {
   "cell_type": "raw",
   "id": "c4d59c04-c809-41ba-97b5-79ba2123a416",
   "metadata": {},
   "source": [
    "# END SOLUTION"
   ]
  },
  {
   "cell_type": "raw",
   "id": "accee4a9-01e4-4669-8b3d-91d6387bbd43",
   "metadata": {},
   "source": [
    "# END QUESTION"
   ]
  },
  {
   "cell_type": "markdown",
   "id": "89f4769d-ec37-4318-8a2c-0202b5144de9",
   "metadata": {},
   "source": [
    "## Ethical Considerations\n",
    "\n",
    "City planners, transportation agencies, and policy makers have started to collaborate with bike sharing companies in order to reduce congestion and transportation costs. Recently city planners and policy makers have also been trying to make transportation more equitable. \n",
    "\n",
    "Equity in transportation includes: finding ways to make transportation more accessible to people in all neighborhoods within a given region, making the costs of transportation affordable to people across all income levels, and assessing how inclusive transportation systems are over time. Data about city residents may shed light on how to better assess transportation cost and equity impacts on transportation users. \n",
    "\n",
    "Keeping this in mind, answer the following two question on the nature of the data, their possible shortcomings, and ethical considerations associated with how we as data scientists use, manipulate, and share this data."
   ]
  },
  {
   "cell_type": "raw",
   "id": "37a80341-daad-4825-9658-fdacb83cde33",
   "metadata": {},
   "source": [
    "# BEGIN QUESTION\n",
    "name: q13\n",
    "manual: true"
   ]
  },
  {
   "cell_type": "markdown",
   "id": "0825b7c8-d05b-454c-8a4f-8200b0d72038",
   "metadata": {},
   "source": [
    "**Question 13.** In addition to the type of rider (`casual` vs. `registered`) and the overall count of each, what other kinds of demographic data would be useful (e.g. identity, neighborhood, monetary expenses, etc.)? "
   ]
  },
  {
   "cell_type": "raw",
   "id": "fe6fc0c4-c95d-4955-903b-6333047b952a",
   "metadata": {},
   "source": [
    "# BEGIN SOLUTION"
   ]
  },
  {
   "cell_type": "markdown",
   "id": "a70e2cd7-ba32-4666-934f-ae0b99ca3c99",
   "metadata": {},
   "source": [
    "**SOLUTION:** Answers may vary"
   ]
  },
  {
   "cell_type": "raw",
   "id": "1cff49ea-22c6-4798-8dd8-8f53f7ff6f85",
   "metadata": {},
   "source": [
    "# END SOLUTION"
   ]
  },
  {
   "cell_type": "raw",
   "id": "2e714756-b878-4e58-914a-8418190eadcf",
   "metadata": {},
   "source": [
    "# END QUESTION"
   ]
  },
  {
   "cell_type": "raw",
   "id": "1297cfd4-5755-416c-8d78-9c84948e1795",
   "metadata": {},
   "source": [
    "# BEGIN QUESTION\n",
    "name: q14\n",
    "manual: true"
   ]
  },
  {
   "cell_type": "markdown",
   "id": "ffa5c307-f61f-4456-a7fb-81da379dca64",
   "metadata": {},
   "source": [
    "**Question 14.** What is an example of a privacy or consent issue that could occur when accessing the demographic data you mentioned in the previous question."
   ]
  },
  {
   "cell_type": "raw",
   "id": "fbb30ba1-9dab-49e1-862d-d6d8e7f4e838",
   "metadata": {},
   "source": [
    "# BEGIN SOLUTION"
   ]
  },
  {
   "cell_type": "markdown",
   "id": "005897fb-20ba-42d4-89cc-4a9a8f2929ee",
   "metadata": {},
   "source": [
    "**SOLUTION:** Answers may vary"
   ]
  },
  {
   "cell_type": "raw",
   "id": "122821b4-18e1-44d5-862c-4a74dd311f2b",
   "metadata": {},
   "source": [
    "# END SOLUTION"
   ]
  },
  {
   "cell_type": "raw",
   "id": "7c8cce14-031b-4269-95ae-2ba4144d53d6",
   "metadata": {},
   "source": [
    "# END QUESTION"
   ]
  },
  {
   "cell_type": "markdown",
   "id": "6bf107d0-c839-4474-8031-1729b7b91437",
   "metadata": {},
   "source": [
    "[Seaborn](https://seaborn.pydata.org/) is a Python data visualization library based on [`matplotlib`](https://matplotlib.org/).\n",
    "\n",
    "**Note:** For a brief introduction to the ideas behind the library, you can read the [introductory notes](https://seaborn.pydata.org/introduction.html) or the [paper](https://joss.theoj.org/papers/10.21105/joss.03021).\n",
    "\n",
    "In the next few questions we will use seaborn."
   ]
  },
  {
   "cell_type": "raw",
   "id": "3eef9a45-50c0-4806-88b3-778dd9423520",
   "metadata": {},
   "source": [
    "# BEGIN QUESTION\n",
    "name: q15\n",
    "manual: true"
   ]
  },
  {
   "cell_type": "markdown",
   "id": "908d1ca2-3be1-44b5-80ff-855bcc4161c2",
   "metadata": {},
   "source": [
    "**Question 15.** Use the [`sns.histplot`](https://seaborn.pydata.org/generated/seaborn.histplot.html) function to create a plot that overlays the distribution of the daily counts of `casual` and `registered` users. The temporal granularity of the records should be daily counts, which you should have after completing **Question 5**.\n",
    "\n",
    "Include a legend, $x-$label, $y-$label, and title. Read the [seaborn plotting tutorial](https://seaborn.pydata.org/tutorial/distributions.html) if you're not sure how to add these. After creating the plot, look at it and make sure you understand what the plot is actually telling us, e.g on a given day, the most likely number of registered riders we expect is ~4000, but it could be anywhere from nearly 0 to 7000.\n",
    "\n",
    "<img src='images/g1.png' width = \"800px\"/>\n",
    "\n",
    "Click [here](https://seaborn.pydata.org/generated/seaborn.histplot.html) to find more information about `sns.histplot`."
   ]
  },
  {
   "cell_type": "raw",
   "id": "6b4fe0cf-8534-4f2f-879b-695e7e30f20f",
   "metadata": {},
   "source": [
    "# BEGIN SOLUTION"
   ]
  },
  {
   "cell_type": "code",
   "execution_count": 64,
   "id": "c22eba68-279f-4417-92ae-6ec46c336e71",
   "metadata": {},
   "outputs": [
    {
     "data": {
      "image/png": "[encoded data removed]",
      "text/plain": [
       "<Figure size 1000x400 with 1 Axes>"
      ]
     },
     "metadata": {},
     "output_type": "display_data"
    }
   ],
   "source": [
    "# BEGIN SOLUTION NO PROMPT\n",
    "sns.histplot(data=daily_count, x='casual', kde=True, label='Casual', color='blue', edgecolor='white')\n",
    "sns.histplot(data=daily_count, x='registered', kde=True, label='Registered', color='orange', edgecolor='white')\n",
    "plt.legend([\"Casual\", \"Registered\"])\n",
    "plt.xlabel(\"Rider Count\")\n",
    "plt.ylabel(\"Density\")\n",
    "plt.title(\"Distribution Comparison of Casual vs Registered Riders\");\n",
    "# END SOLUTION\n",
    "\"\"\" # BEGIN PROMPT\n",
    "...\n",
    "\"\"\"; # END PROMPT"
   ]
  },
  {
   "cell_type": "raw",
   "id": "a2852ea5-45b3-460e-b05d-f6f0cb15a3c3",
   "metadata": {},
   "source": [
    "# END SOLUTION"
   ]
  },
  {
   "cell_type": "raw",
   "id": "f88431ea-4011-4ba3-b4e9-a494116fce22",
   "metadata": {},
   "source": [
    "# END QUESTION"
   ]
  },
  {
   "cell_type": "raw",
   "id": "e2ad79b6-cd79-45fa-b6ef-667e533e757b",
   "metadata": {},
   "source": [
    "# BEGIN QUESTION\n",
    "name: q16\n",
    "manual: true"
   ]
  },
  {
   "cell_type": "markdown",
   "id": "d6992782-24b6-47c9-86d9-3055249f6d03",
   "metadata": {},
   "source": [
    "**Question 16.** The density plots do not show us how the counts for registered and casual riders vary together. Use [`sns.lmplot`](https://seaborn.pydata.org/generated/seaborn.lmplot.html) to make a scatter plot to investigate the relationship between casual and registered counts. This time, let's use the `bike` dataframe to plot hourly counts instead of daily counts.\n",
    "\n",
    "The `lmplot` function will also try to draw a linear regression line (just as you saw in Data 8). Color the points in the scatterplot according to whether or not the day is working day. There are many points in the scatter plot so make them small to help reduce overplotting. Also make sure to set `fit_reg=True` to generate the linear regression line. You can set the `height` parameter if you want to adjust the size of the `lmplot`. Make sure to include a title.\n",
    "\n",
    "<img src='images/casual_registered_working_nonworking.png' width=\"800px\" />\n",
    "\n",
    "**Hints:** \n",
    "\n",
    "- Checkout this helpful [tutorial on `lmplot`](https://seaborn.pydata.org/tutorial/regression.html).\n",
    "\n",
    "- You will need to set `x`, `y`, and `hue` and the `scatter_kws`.\n",
    "\n",
    "- In the `sns.lmplot` function leave the key word arguments `fit_reg = True, scatter_kws = {\"s\": 3}, legend = False`. `scatter_kws = {\"s\": 3}` controls the size of each point and `legend=False` allows you to control the placement of the legend using `plt.legend`.\n"
   ]
  },
  {
   "cell_type": "raw",
   "id": "11ae42e6-e842-4ba9-8e95-50dccb503f58",
   "metadata": {},
   "source": [
    "# BEGIN SOLUTION"
   ]
  },
  {
   "cell_type": "code",
   "execution_count": 65,
   "id": "caf4dbd7-701a-471d-ab63-5ed9b128f3de",
   "metadata": {},
   "outputs": [
    {
     "data": {
      "image/png": "[encoded data removed]",
      "text/plain": [
       "<Figure size 592.111x500 with 1 Axes>"
      ]
     },
     "metadata": {},
     "output_type": "display_data"
    }
   ],
   "source": [
    "# BEGIN SOLUTION NO PROMPT\n",
    "g = sns.lmplot(data=bike, x=\"casual\", y=\"registered\", fit_reg=True, scatter_kws={\"s\": 10, \"edgecolor\":\"white\"}, legend=True, ci=False, hue=\"workingday\")\n",
    "g._legend.set_title(\"Working Day\")\n",
    "plt.title(\"Comparison of Casual vs Registered Riders on Working and Non-working Days\")\n",
    "plt.xlabel(\"Casual\")\n",
    "plt.ylabel(\"Registered\");\n",
    "# END SOLUTION\n",
    "\"\"\" # BEGIN PROMPT\n",
    "...\n",
    "\"\"\"; # END PROMPT"
   ]
  },
  {
   "cell_type": "raw",
   "id": "b6649645-b8a9-45b6-ba0d-d0bb28cd5b80",
   "metadata": {},
   "source": [
    "# END SOLUTION"
   ]
  },
  {
   "cell_type": "raw",
   "id": "36291a91-3671-4383-9158-c350756b93f5",
   "metadata": {},
   "source": [
    "# END QUESTION"
   ]
  },
  {
   "cell_type": "raw",
   "id": "1c9a87a8-4d1a-47e8-9b6b-03705606848c",
   "metadata": {
    "tags": []
   },
   "source": [
    "# BEGIN QUESTION\n",
    "name: q17\n",
    "manual: true"
   ]
  },
  {
   "cell_type": "markdown",
   "id": "1b4ccdd2-ef57-4639-a245-5cd9c953fb83",
   "metadata": {},
   "source": [
    "**Question 17.** What does this scatterplot seem to reveal about the relationship (if any) between casual and registered riders and whether or not the day is on the weekend?\n"
   ]
  },
  {
   "cell_type": "raw",
   "id": "12ec1fb1-a2b0-41fc-9b4d-b6a3a30388f7",
   "metadata": {},
   "source": [
    "# BEGIN SOLUTION"
   ]
  },
  {
   "cell_type": "markdown",
   "id": "e9d2e8c4-ebe3-450f-9a0a-ff36fc01bc9c",
   "metadata": {},
   "source": [
    "**SOLUTION:** Answer will vary"
   ]
  },
  {
   "cell_type": "raw",
   "id": "ddbe7009-69be-41aa-a754-354fa0c5a7e7",
   "metadata": {},
   "source": [
    "# END SOLUTION"
   ]
  },
  {
   "cell_type": "raw",
   "id": "d736223a-ad42-45d1-9168-256762b7c9e2",
   "metadata": {},
   "source": [
    "# END QUESTION"
   ]
  },
  {
   "cell_type": "raw",
   "id": "9d61257b-f24a-4ecc-937d-ad5353d9c4c5",
   "metadata": {
    "tags": []
   },
   "source": [
    "# BEGIN QUESTION\n",
    "name: q18\n",
    "manual: true"
   ]
  },
  {
   "cell_type": "markdown",
   "id": "78aa6e30-4518-48a7-aba4-38fdf6c26e90",
   "metadata": {},
   "source": [
    "**Question 18.** Let's examine the behavior of riders by plotting the average number of riders for each hour of the day over the **entire dataset**, stratified by rider type. Your plot should look like the following:\n",
    "\n",
    "<img src=\"images/diurnal_bikes.png\" width = \"800px\"/>"
   ]
  },
  {
   "cell_type": "raw",
   "id": "c030ba4b-6956-48a6-a2da-6827f10c0e04",
   "metadata": {},
   "source": [
    "# BEGIN SOLUTION"
   ]
  },
  {
   "cell_type": "code",
   "execution_count": 72,
   "id": "e7f1bf55-764f-47f7-9565-cdaeb7106ded",
   "metadata": {},
   "outputs": [
    {
     "data": {
      "image/png": "[encoded data removed]",
      "text/plain": [
       "<Figure size 1000x400 with 1 Axes>"
      ]
     },
     "metadata": {},
     "output_type": "display_data"
    }
   ],
   "source": [
    "# BEGIN SOLUTION NO PROMPT\n",
    "sns.lineplot(data=bike, x='hr', y='casual', estimator='mean', errorbar=None, legend=False)\n",
    "sns.lineplot(data=bike, x='hr', y='registered', estimator='mean', errorbar=None, legend=False)\n",
    "plt.legend(labels=['Casual', 'Registered'], loc='upper left')\n",
    "plt.title('Average Count of Casual vs. Registered by Hour')\n",
    "plt.xlabel('Hour of the Day')\n",
    "plt.ylabel('Average Count');\n",
    "# END SOLUTION\n",
    "\"\"\" # BEGIN PROMPT\n",
    "...\n",
    "\"\"\"; # END PROMPT"
   ]
  },
  {
   "cell_type": "raw",
   "id": "666e3f65-a414-4e6a-b099-86ae9f1211e5",
   "metadata": {},
   "source": [
    "# END SOLUTION"
   ]
  },
  {
   "cell_type": "raw",
   "id": "0a38cabf-3e9c-4ccd-9dc2-33eac1cbf931",
   "metadata": {},
   "source": [
    "# END QUESTION"
   ]
  },
  {
   "cell_type": "raw",
   "id": "9b524d67-16a2-4fa0-8c64-862003ea6af3",
   "metadata": {
    "tags": []
   },
   "source": [
    "# BEGIN QUESTION\n",
    "name: q19\n",
    "manual: true"
   ]
  },
  {
   "cell_type": "markdown",
   "id": "b69de4ca-1ee0-43c6-8667-328b443ae819",
   "metadata": {},
   "source": [
    "**Question 19.** What do you observe about the bike use of the different categories of riders from the plot? When does each group have the most use? How does the bike use change throughout the day?"
   ]
  },
  {
   "cell_type": "raw",
   "id": "65e2159e-a578-471b-bc3b-d3076d3e9cd3",
   "metadata": {},
   "source": [
    "# BEGIN SOLUTION"
   ]
  },
  {
   "cell_type": "markdown",
   "id": "12c175b3-5eca-4f16-9260-55793ac54abb",
   "metadata": {},
   "source": [
    "**SOLUTION:** Answer will vary"
   ]
  },
  {
   "cell_type": "raw",
   "id": "131f7816-2de2-46ff-a2ad-88b545f27125",
   "metadata": {},
   "source": [
    "# END SOLUTION"
   ]
  },
  {
   "cell_type": "raw",
   "id": "f901b580-b494-4d86-8b82-3ef0fb9fa056",
   "metadata": {},
   "source": [
    "# END QUESTION"
   ]
  },
  {
   "cell_type": "raw",
   "id": "968437f3-1e3a-47a9-a0e5-8f674fe763b5",
   "metadata": {
    "tags": []
   },
   "source": [
    "# BEGIN QUESTION\n",
    "name: q20\n",
    "manual: true"
   ]
  },
  {
   "cell_type": "markdown",
   "id": "3dd0c169-400c-4353-9ab4-02d73f197594",
   "metadata": {},
   "source": [
    "**Question 20.** What can you say about the meaning of the peaks in the registered riders' distribution?"
   ]
  },
  {
   "cell_type": "raw",
   "id": "45a05c55-67a3-4ef4-8ee2-bc3633b013ec",
   "metadata": {},
   "source": [
    "# BEGIN SOLUTION"
   ]
  },
  {
   "cell_type": "markdown",
   "id": "66b0c74a-da96-424c-8248-7e1093ab1a3d",
   "metadata": {},
   "source": [
    "**SOLUTION:** Answer will vary"
   ]
  },
  {
   "cell_type": "raw",
   "id": "4378c22a-0357-421f-8662-93018de527b0",
   "metadata": {},
   "source": [
    "# END SOLUTION"
   ]
  },
  {
   "cell_type": "raw",
   "id": "c606edf2-bf30-46eb-ba0f-280a47884500",
   "metadata": {},
   "source": [
    "# END QUESTION"
   ]
  },
  {
   "cell_type": "raw",
   "id": "7a439272-995a-4e45-ba30-65736842f9c0",
   "metadata": {
    "tags": []
   },
   "source": [
    "# BEGIN QUESTION\n",
    "name: q21\n",
    "manual: true"
   ]
  },
  {
   "cell_type": "markdown",
   "id": "a3429692-427f-4ba7-bf19-5f6c5e5c3154",
   "metadata": {},
   "source": [
    "**Question 21.** Create a box plot to compare the total number of riders for each season.\n",
    "\n",
    "<img src=\"images/boxplot.png\" width = \"800px\"/>"
   ]
  },
  {
   "cell_type": "raw",
   "id": "d538287d-e237-4780-8a8b-21c4d6f07770",
   "metadata": {},
   "source": [
    "# BEGIN SOLUTION"
   ]
  },
  {
   "cell_type": "code",
   "execution_count": 73,
   "id": "cf0b3d5e-6999-47e8-a7d3-8ddc9c5382d0",
   "metadata": {},
   "outputs": [
    {
     "data": {
      "image/png": "[encoded data removed]",
      "text/plain": [
       "<Figure size 1000x400 with 1 Axes>"
      ]
     },
     "metadata": {},
     "output_type": "display_data"
    }
   ],
   "source": [
    "# BEGIN SOLUTION NO PROMPT\n",
    "sns.boxplot(data=bike, x='cnt', y=bike.season.astype('category'))\n",
    "plt.title('Distribution of Riders Based on Weather')\n",
    "plt.xlabel('Number of Riders')\n",
    "plt.ylabel('Weather Conditions');\n",
    "# END SOLUTION\n",
    "\"\"\" # BEGIN PROMPT\n",
    "...\n",
    "\"\"\"; # END PROMPT"
   ]
  },
  {
   "cell_type": "raw",
   "id": "8d834238-179c-4a0d-b1a3-0c792048962b",
   "metadata": {},
   "source": [
    "# END SOLUTION"
   ]
  },
  {
   "cell_type": "raw",
   "id": "69019afd-52ff-469d-ae38-c0d953950d88",
   "metadata": {},
   "source": [
    "# END QUESTION"
   ]
  },
  {
   "cell_type": "raw",
   "id": "a619f370-4758-431b-9d75-269ad878af65",
   "metadata": {
    "tags": []
   },
   "source": [
    "# BEGIN QUESTION\n",
    "name: q22\n",
    "manual: true"
   ]
  },
  {
   "cell_type": "markdown",
   "id": "98e73a3e-a065-4875-9941-aebf61426c95",
   "metadata": {},
   "source": [
    "**Question 22.** Compare the distribution of the rider's based on the season. Is this what you would expect? Why, why not?"
   ]
  },
  {
   "cell_type": "raw",
   "id": "0d613ac2-2800-4edf-9083-0126779e92de",
   "metadata": {},
   "source": [
    "# BEGIN SOLUTION"
   ]
  },
  {
   "cell_type": "markdown",
   "id": "42134fc0-2a83-4b3d-8f36-d1aadc1eb7fd",
   "metadata": {},
   "source": [
    "**SOLUTION:** Answer will vary"
   ]
  },
  {
   "cell_type": "raw",
   "id": "6643fd0e-c456-4ec8-bcac-3a2a3dd9096f",
   "metadata": {},
   "source": [
    "# END SOLUTION"
   ]
  },
  {
   "cell_type": "raw",
   "id": "d9887bac-6070-4ee1-8b3f-377859e2c71d",
   "metadata": {},
   "source": [
    "# END QUESTION"
   ]
  },
  {
   "cell_type": "raw",
   "id": "c8688834-1ad3-4f66-b24e-77748e217f5b",
   "metadata": {
    "tags": []
   },
   "source": [
    "# BEGIN QUESTION\n",
    "name: q23\n",
    "manual: true"
   ]
  },
  {
   "cell_type": "markdown",
   "id": "99d34de9-c546-4dc9-8ded-8f055dec1590",
   "metadata": {},
   "source": [
    "**Question 23.** Create a density plot to compare the total number of riders and the temperature.\n",
    "\n",
    "<img src=\"images/kde.png\" width = \"800px\"/>"
   ]
  },
  {
   "cell_type": "raw",
   "id": "25764330-7290-49d5-88e0-50ce59fbc919",
   "metadata": {},
   "source": [
    "# BEGIN SOLUTION"
   ]
  },
  {
   "cell_type": "code",
   "execution_count": 74,
   "id": "dce5f035-a130-487c-a28d-a6efa79177e3",
   "metadata": {},
   "outputs": [
    {
     "data": {
      "image/png": "[encoded data removed]",
      "text/plain": [
       "<Figure size 1000x400 with 1 Axes>"
      ]
     },
     "metadata": {},
     "output_type": "display_data"
    }
   ],
   "source": [
    "sns.scatterplot(data=bike, x='temp', y='cnt', edgecolor='white');"
   ]
  },
  {
   "cell_type": "code",
   "execution_count": 76,
   "id": "2782b318-cce6-4d79-ba54-9b8b04551449",
   "metadata": {},
   "outputs": [
    {
     "data": {
      "image/png": "[encoded data removed]",
      "text/plain": [
       "<Figure size 1000x400 with 1 Axes>"
      ]
     },
     "metadata": {},
     "output_type": "display_data"
    }
   ],
   "source": [
    "# BEGIN SOLUTION NO PROMPT\n",
    "sns.kdeplot(data=bike, x='temp', y='cnt', fill=True)\n",
    "plt.title('Density Plot of Temperature and Riders')\n",
    "plt.ylabel('Riders');\n",
    "# END SOLUTION\n",
    "\"\"\" # BEGIN PROMPT\n",
    "...\n",
    "\"\"\"; # END PROMPT"
   ]
  },
  {
   "cell_type": "raw",
   "id": "78369407-a331-4978-a0fe-8f1d3dc41ed0",
   "metadata": {},
   "source": [
    "# END SOLUTION"
   ]
  },
  {
   "cell_type": "raw",
   "id": "62590140-8331-4927-ad31-736e6c045087",
   "metadata": {},
   "source": [
    "# END QUESTION"
   ]
  },
  {
   "cell_type": "raw",
   "id": "88c80453-c6c3-4883-afc1-ab63b2f22d64",
   "metadata": {
    "tags": []
   },
   "source": [
    "# BEGIN QUESTION\n",
    "name: q24\n",
    "manual: true"
   ]
  },
  {
   "cell_type": "markdown",
   "id": "e0188cde-344c-4f2f-82d8-aa50326c60b8",
   "metadata": {},
   "source": [
    "**Question 24.** What information can you infer from your visualization in the previous question?"
   ]
  },
  {
   "cell_type": "raw",
   "id": "3e2e616b-f530-4a5d-a429-3ced058e9413",
   "metadata": {},
   "source": [
    "# BEGIN SOLUTION"
   ]
  },
  {
   "cell_type": "markdown",
   "id": "a3411812-7434-4219-be84-a336ee9f2c42",
   "metadata": {},
   "source": [
    "**SOLUTION:** Answer will vary"
   ]
  },
  {
   "cell_type": "raw",
   "id": "e385a2c3-e484-43f3-9dec-949d85b303ba",
   "metadata": {},
   "source": [
    "# END SOLUTION"
   ]
  },
  {
   "cell_type": "raw",
   "id": "55ad43de-d335-415c-a438-3a48a43924b4",
   "metadata": {},
   "source": [
    "# END QUESTION"
   ]
  }
 ],
 "metadata": {
  "kernelspec": {
   "display_name": "Python 3 (ipykernel)",
   "language": "python",
   "name": "python3"
  },
  "language_info": {
   "codemirror_mode": {
    "name": "ipython",
    "version": 3
   },
   "file_extension": ".py",
   "mimetype": "text/x-python",
   "name": "python",
   "nbconvert_exporter": "python",
   "pygments_lexer": "ipython3",
   "version": "3.10.11"
  }
 },
 "nbformat": 4,
 "nbformat_minor": 5
}
