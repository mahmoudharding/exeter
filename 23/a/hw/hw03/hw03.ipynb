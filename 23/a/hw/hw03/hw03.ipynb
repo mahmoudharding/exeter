{
 "cells": [
  {
   "cell_type": "code",
   "execution_count": null,
   "id": "9cf722f6",
   "metadata": {
    "deletable": false,
    "editable": false
   },
   "outputs": [],
   "source": [
    "# Initialize Otter\n",
    "import otter\n",
    "grader = otter.Notebook(\"hw03.ipynb\")"
   ]
  },
  {
   "cell_type": "markdown",
   "id": "7b959345",
   "metadata": {},
   "source": [
    "# Homework 03: Exploratory Data Analysis and Visualization\n",
    "\n",
    "Welcome to Homework 03! To receive credit for a homework assignment, answer all questions correctly and submit before the deadline.\n",
    "\n",
    "**Due Date:**\n",
    "\n",
    "**Collaboration Policy:** You are not allowed to discuss this assignment with other students. If you have questions please refer them to your instructor.\n",
    "\n",
    "# Introduction\n",
    "\n",
    "In this assignment, you will perform tasks to clean, visualize, and explore the bike sharing data. You will also investigate open-ended questions. These open-ended questions ask you to think critically about how the plots you have created provide insight into the data.\n",
    "\n",
    "After completing this assignment, you should be comfortable with:\n",
    "\n",
    "* reading plaintext delimited data into `pandas`.\n",
    "\n",
    "* wrangling data for analysis.\n",
    "\n",
    "* using EDA to learn about your data. \n",
    "\n",
    "* making informative plots.\n",
    "\n",
    "**Notes:**\n",
    "\n",
    "- Your plots should be **similar** to the given examples. Small variations are acceptable such as color differences or slight variations in scale. However it is in your best interest to make the plots as similar as possible, as similarity is subject to the instructor.\n",
    "\n",
    "- It is expected that for all plotting questions from here on out, there are appropriate titles, axis labels, legends, etc. The following question serves as a good guideline on what is \"enough\": If I directly downloaded the plot and viewed it, would I be able to tell what was being visualized without knowing the question?** \n",
    "\n",
    "- In this notebook a custom figure size has been configured. Click [here](https://matplotlib.org/users/customizing.html) to read the documentation about customizing aspects of `matplotlib`.\n",
    "\n",
    "Run the cell below."
   ]
  },
  {
   "cell_type": "code",
   "execution_count": null,
   "id": "c42d58ff",
   "metadata": {},
   "outputs": [],
   "source": [
    "import numpy as np\n",
    "import os\n",
    "import pandas as pd\n",
    "import seaborn as sns\n",
    "\n",
    "%matplotlib inline\n",
    "import matplotlib.pyplot as plt\n",
    "plt.rcParams['figure.figsize'] = (10, 4)\n",
    "plt.rcParams['figure.dpi'] = 100"
   ]
  },
  {
   "cell_type": "markdown",
   "id": "b11b323f",
   "metadata": {
    "tags": []
   },
   "source": [
    "## Loading Bike Sharing Data\n",
    "The data we are exploring was collected from a bike sharing system in Washington D.C.\n",
    "\n",
    "The variables in this data frame are defined as:\n",
    "\n",
    "Variable  |Description\n",
    ":--------- |:--------------------------------------------------------------\n",
    "instant | record index\n",
    "dteday | date\n",
    "season | 1. spring <br> 2. summer <br> 3. fall <br> 4. winter\n",
    "yr | year (0: 2011, 1:2012)\n",
    "mnth | month ( 1 to 12)\n",
    "hr | hour (0 to 23)\n",
    "holiday | whether day is holiday or not\n",
    "weekday | day of the week\n",
    "workingday | if day is neither weekend nor holiday\n",
    "weathersit | 1. clear or partly cloudy <br> 2. mist and clouds <br> 3. light snow or rain <br> 4. heavy rain or snow\n",
    "temp | normalized temperature in Celsius (divided by 41)\n",
    "atemp | normalized \"feels-like\" temperature in Celsius (divided by 50)\n",
    "hum | normalized percent humidity (divided by 100)\n",
    "windspeed| normalized wind speed (divided by 67)\n",
    "casual | count of casual users\n",
    "registered | count of registered users\n",
    "cnt | count of total rental bikes including casual and registered  "
   ]
  },
  {
   "cell_type": "markdown",
   "id": "f13a5179",
   "metadata": {},
   "source": [
    "**Question 1.** Using the criteria established by the authors of the textbook [Learning Data Science](https://learningds.org/ch/10/eda_feature_types.html) in section 10.1 classify the features of the the Bike Sharing dataset."
   ]
  },
  {
   "cell_type": "markdown",
   "id": "c88989fb",
   "metadata": {},
   "source": [
    "_Type your answer here, replacing this text._"
   ]
  },
  {
   "cell_type": "markdown",
   "id": "d06e52e5",
   "metadata": {},
   "source": [
    "### Examining the File Contents and the Metadata\n",
    "\n",
    "Run the cell below to print out the first 5 lines of the `bikeshare.txt` file."
   ]
  },
  {
   "cell_type": "code",
   "execution_count": null,
   "id": "33f683ca",
   "metadata": {},
   "outputs": [],
   "source": [
    "from itertools import islice\n",
    "\n",
    "lines_to_print = 5\n",
    "with open('data/bikeshare.txt', \"r\") as f:\n",
    "    for line in list(islice(f, lines_to_print)):\n",
    "        print(line, end = \"\")"
   ]
  },
  {
   "cell_type": "markdown",
   "id": "3805501f",
   "metadata": {},
   "source": [
    "**Question 2.** Identify the file format. Then choose an item from the list below and assign its corresponding number to the variable `q2`.\n",
    "\n",
    "\n",
    "1. Excel spreadsheet\n",
    "\n",
    "2. CSV (comma-separated values)\n",
    "\n",
    "3. TSV (tab-separated values)"
   ]
  },
  {
   "cell_type": "code",
   "execution_count": null,
   "id": "7c0298db",
   "metadata": {
    "tags": []
   },
   "outputs": [],
   "source": [
    "q2 = ..."
   ]
  },
  {
   "cell_type": "code",
   "execution_count": null,
   "id": "87d337f4",
   "metadata": {
    "deletable": false,
    "editable": false
   },
   "outputs": [],
   "source": [
    "grader.check(\"q2\")"
   ]
  },
  {
   "cell_type": "markdown",
   "id": "b7b3e8a2",
   "metadata": {},
   "source": [
    "Metadata is \"data that provides information about other data\". In other words, it is \"data about the data\". [[1]](https://en.wikipedia.org/wiki/Metadata)\n",
    "\n",
    "Run the cell below to view some metadata about the `bikeshare.txt` file."
   ]
  },
  {
   "cell_type": "code",
   "execution_count": null,
   "id": "1d67bf72",
   "metadata": {},
   "outputs": [],
   "source": [
    "size = os.stat(\"data/bikeshare.txt\").st_size\n",
    "line_count = len(open(\"data/bikeshare.txt\").readlines(  ))\n",
    "\n",
    "print(\"Size:\", size, \"bytes\")\n",
    "print(\"Line Count:\", line_count, \"lines\")"
   ]
  },
  {
   "cell_type": "markdown",
   "id": "a3e9a0db",
   "metadata": {},
   "source": [
    "**Question 3.** Identify the size and the line count. Then put the values in a dictionary object and assign it the variable `q3`. \n",
    "\n",
    "**Note:** Make sure the keys are *Size* and *Line Count* and the corresponding numerical values."
   ]
  },
  {
   "cell_type": "code",
   "execution_count": null,
   "id": "629632d9",
   "metadata": {
    "tags": []
   },
   "outputs": [],
   "source": [
    "q3 = ...\n",
    "q3"
   ]
  },
  {
   "cell_type": "code",
   "execution_count": null,
   "id": "e69c0c05",
   "metadata": {
    "deletable": false,
    "editable": false
   },
   "outputs": [],
   "source": [
    "grader.check(\"q3\")"
   ]
  },
  {
   "cell_type": "markdown",
   "id": "40f52a76",
   "metadata": {},
   "source": [
    "### Loading the Data\n",
    "\n",
    "Run the cell below to load the dataset as a `pndas` `DataFrame`."
   ]
  },
  {
   "cell_type": "code",
   "execution_count": null,
   "id": "6688f219",
   "metadata": {},
   "outputs": [],
   "source": [
    "bike = pd.read_csv('data/bikeshare.txt')"
   ]
  },
  {
   "cell_type": "code",
   "execution_count": null,
   "id": "9e51a939",
   "metadata": {},
   "outputs": [],
   "source": [
    "bike.head()"
   ]
  },
  {
   "cell_type": "markdown",
   "id": "c51be09d",
   "metadata": {},
   "source": [
    "<!-- BEGIN QUESTION -->\n",
    "\n",
    "**Question 4.** Before we start, use the cells below to perform some initial data exploration. Include text/markdown cells before each code cell to explain what you are investigating and why it is of interest to you.\n",
    "\n",
    "**Note:** You must use each markdown cell and each code cell."
   ]
  },
  {
   "cell_type": "markdown",
   "id": "acab2eee",
   "metadata": {},
   "source": [
    "_Type your answer here, replacing this text._"
   ]
  },
  {
   "cell_type": "code",
   "execution_count": null,
   "id": "6863225a",
   "metadata": {
    "tags": []
   },
   "outputs": [],
   "source": [
    "..."
   ]
  },
  {
   "cell_type": "code",
   "execution_count": null,
   "id": "d4681fb7",
   "metadata": {
    "tags": []
   },
   "outputs": [],
   "source": [
    "..."
   ]
  },
  {
   "cell_type": "code",
   "execution_count": null,
   "id": "d69ba9bc",
   "metadata": {
    "tags": []
   },
   "outputs": [],
   "source": [
    "..."
   ]
  },
  {
   "cell_type": "markdown",
   "id": "8e56be95",
   "metadata": {},
   "source": [
    "<!-- END QUESTION -->\n",
    "\n",
    "# Data Wrangling\n",
    "A few of the variables that are numeric/integer actually encode categorical data. These include `holiday`, `weekday`, `workingday`, and `weathersit`. In the following question, we will convert these four variables to strings specifying the categories. \n",
    "\n",
    "In particular, we will use 3-letter labels (`Sun`, `Mon`, `Tue`, `Wed`, `Thu`, `Fri`, and `Sat`) for `weekday`. For `holiday` and `workingday`,  we will simply use `yes`/`no`.\n",
    "\n",
    "In this exercise we will **mutate** the data frame (i.e. **overwriting the corresponding variables in the data frame.**). However, our notebook will effectively document this in-place data transformation for future readers. \n",
    "\n",
    "**Note:** Make sure to leave the underlying datafile `bikeshare.txt` unmodified."
   ]
  },
  {
   "cell_type": "markdown",
   "id": "6498aa07",
   "metadata": {},
   "source": [
    "**Question 5.** Decode the `yr`, `holiday`, `weekday`, `workingday`, `weathersit` and `season` fields:\n",
    "\n",
    "- `yr`: Convert 0 to 2011 and 1 to 2012. These values should be strings.\n",
    "\n",
    "- `holiday`: Convert to `yes` and `no`  .\n",
    "\n",
    "- `weekday`: Mutate the `'weekday'` column to use the 3-letter label (`'Sun'`, `'Mon'`, `'Tue'`, `'Wed'`, `'Thu'`, `'Fri'`, and `'Sat'`) instead of its current numerical values. Assume `0` corresponds to `Sun`, `1` to `Mon` and so on.\n",
    "\n",
    "- `workingday`: Convert to `yes` and `no`.\n",
    "\n",
    "- `weathersit`: You should replace each value with one of `Clear`, `Mist`, `Light`, or `Heavy`.\n",
    "\n",
    "- `season`: Convert to Spring, Summer, Fall, Winter.\n",
    "\n",
    "**Note:** If you want to revert changes, run the cell that reloads the data file.\n",
    "\n",
    "**Hint:**  One approach is to use the [replace](https://pandas.pydata.org/pandas-docs/stable/reference/api/pandas.DataFrame.replace.html) method of the `pandas` `DataFrame` class. We haven't discussed how to do this so you'll need to look at the documentation."
   ]
  },
  {
   "cell_type": "code",
   "execution_count": null,
   "id": "99a27003",
   "metadata": {
    "tags": []
   },
   "outputs": [],
   "source": [
    "...\n",
    "bike.head()"
   ]
  },
  {
   "cell_type": "code",
   "execution_count": null,
   "id": "7a2f79ea",
   "metadata": {
    "deletable": false,
    "editable": false
   },
   "outputs": [],
   "source": [
    "grader.check(\"q5\")"
   ]
  },
  {
   "cell_type": "markdown",
   "id": "c2a59590",
   "metadata": {},
   "source": [
    "**Question 6.** How many entries in the data correspond to holidays?  Set the variable `num_holidays` to this value.\n",
    "\n",
    "**Note:** To earn all the points for this question you must show the code you used to obtain your result."
   ]
  },
  {
   "cell_type": "code",
   "execution_count": null,
   "id": "9cd2ffcd",
   "metadata": {
    "tags": []
   },
   "outputs": [],
   "source": [
    "num_holidays = bike['holiday'].value_counts()['yes']\n",
    "num_holidays"
   ]
  },
  {
   "cell_type": "code",
   "execution_count": null,
   "id": "6a79e5c7",
   "metadata": {
    "deletable": false,
    "editable": false
   },
   "outputs": [],
   "source": [
    "grader.check(\"q6\")"
   ]
  },
  {
   "cell_type": "markdown",
   "id": "7b82fd63",
   "metadata": {},
   "source": [
    "Holidays don't always occur on the weekend. What if we wanted to know the distribution of non-working days (holidays) in each year that occurred on each weekday (i.e. Mon, Tue, Wed, Thu, Fri)?"
   ]
  },
  {
   "cell_type": "markdown",
   "id": "2ce8b13e",
   "metadata": {},
   "source": [
    "**Question 7.** How many entries in the data correspond to non-working days that did not occur on the weekend? For this question we will assume weekend days to be Saturday and Sunday. Save your answer as a number to the variable `q7`.\n",
    "\n",
    "**Note:** To earn all the points for this question you must show the code you used to obtain your result."
   ]
  },
  {
   "cell_type": "code",
   "execution_count": null,
   "id": "711b4ee5",
   "metadata": {
    "tags": []
   },
   "outputs": [],
   "source": [
    "q7 = ...\n",
    "q7"
   ]
  },
  {
   "cell_type": "code",
   "execution_count": null,
   "id": "f6ad4d00",
   "metadata": {
    "deletable": false,
    "editable": false
   },
   "outputs": [],
   "source": [
    "grader.check(\"q7\")"
   ]
  },
  {
   "cell_type": "markdown",
   "id": "077db1b0",
   "metadata": {},
   "source": [
    "**Question 8.** How many non working days were on each weekday (i.e. Mon, Tue, Wed, Thu, Fri) in 2011? Save your result to a dataframe named `q8`, where the index values are integers and the column names are **day** (for the day of the week) and **count** (for the number of non working days)\n",
    "\n",
    "**Note:** To earn all the points for this question you must show the code you used to obtain your result."
   ]
  },
  {
   "cell_type": "code",
   "execution_count": null,
   "id": "f08e26af",
   "metadata": {
    "tags": []
   },
   "outputs": [],
   "source": [
    "q8 = ...\n",
    "q8"
   ]
  },
  {
   "cell_type": "code",
   "execution_count": null,
   "id": "28defffa",
   "metadata": {
    "deletable": false,
    "editable": false
   },
   "outputs": [],
   "source": [
    "grader.check(\"q8\")"
   ]
  },
  {
   "cell_type": "markdown",
   "id": "7006ecdd",
   "metadata": {},
   "source": [
    "<!-- BEGIN QUESTION -->\n",
    "\n",
    "**Question 9.** Use your result from **Question 8** to make a bar chart. \n",
    "\n",
    "**Note:** Make sure you give the plot a title and label the axes."
   ]
  },
  {
   "cell_type": "code",
   "execution_count": null,
   "id": "caeb0a19",
   "metadata": {
    "tags": []
   },
   "outputs": [],
   "source": [
    "...\n",
    "..."
   ]
  },
  {
   "cell_type": "markdown",
   "id": "7e1f1115",
   "metadata": {},
   "source": [
    "<!-- END QUESTION -->\n",
    "\n",
    "The granularity of this data is at the hourly level.  However, for some of the analysis we will also want to compute daily statistics.  In particular, in the next few questions we will be analyzing the daily number of registered and unregistered users."
   ]
  },
  {
   "cell_type": "markdown",
   "id": "2945cef3",
   "metadata": {},
   "source": [
    "**Question 10.** Construct a dataframe named `daily_count` indexed by `dteday` with the following columns:\n",
    "\n",
    "* `casual`: total number of casual riders for each day\n",
    "\n",
    "* `registered`: total number of registered riders for each day\n",
    "\n",
    "* `workingday`: whether that day is a working day or not (`yes` or `no`)\n",
    "\n",
    "**Hint**: Consider using the `groupby` and `agg` functions. For `agg`, you can check the [documentation](https://pandas.pydata.org/pandas-docs/stable/generated/pandas.core.groupby.DataFrameGroupBy.agg.html) for examples on applying different aggregations per column. If you use the capability to do different aggregations by column, you can do this task with a single call to `groupby` and `agg`. For the `workingday` column we can take any of the values since we are grouping by the day, thus the value will be the same within each group. It may also be helpful to take a look at the `first` or `last` aggregation functions."
   ]
  },
  {
   "cell_type": "code",
   "execution_count": null,
   "id": "041e5039",
   "metadata": {
    "tags": []
   },
   "outputs": [],
   "source": [
    "daily_count = ...\n",
    "daily_count.head()"
   ]
  },
  {
   "cell_type": "code",
   "execution_count": null,
   "id": "5696c55b",
   "metadata": {
    "deletable": false,
    "editable": false
   },
   "outputs": [],
   "source": [
    "grader.check(\"q10\")"
   ]
  },
  {
   "cell_type": "markdown",
   "id": "11570ad6",
   "metadata": {},
   "source": [
    "# Exploring the Distribution of Riders\n",
    "\n",
    "Let's begin by comparing the distribution of the daily counts of casual and registered riders."
   ]
  },
  {
   "cell_type": "markdown",
   "id": "c5eaaa3c",
   "metadata": {},
   "source": [
    "<!-- BEGIN QUESTION -->\n",
    "\n",
    "**Question 11.** Create a histogram that overlays the distribution of the daily counts of `casual` and `registered` users. \n",
    "\n",
    "- The temporal granularity of the records should be daily counts, which you should have after completing **Question 10**.\n",
    "\n",
    "- After creating the plot, look at it and make sure you understand what the plot is actually telling us (e.g on a given day, the most likely number of registered riders we expect is ~4000, but it could be anywhere from nearly 0 to 7000).\n",
    "\n",
    "**Hint:** `matplotlib.pyplot` has methods to customize the features of a plot. For example, the syntax for the `.xlabel`, `.ylabel`, `.title`, and `.legend` methods can be found in the [documentation](https://matplotlib.org/stable/index.html).\n",
    "\n",
    "<img src='images/casual_v_registered.png' width = \"800px\" class = \"center\"/>"
   ]
  },
  {
   "cell_type": "code",
   "execution_count": null,
   "id": "896a0391",
   "metadata": {
    "tags": []
   },
   "outputs": [],
   "source": [
    "..."
   ]
  },
  {
   "cell_type": "markdown",
   "id": "549dd195",
   "metadata": {},
   "source": [
    "<!-- END QUESTION -->\n",
    "\n",
    "<!-- BEGIN QUESTION -->\n",
    "\n",
    "**Question 12.** In the cell below, describe the differences you notice between the histograms for casual and registered riders. Consider each of the following concepts:\n",
    "\n",
    "- mode. \n",
    "\n",
    "- symmetry.\n",
    "\n",
    "- skewness. \n",
    "\n",
    "- spread of the distributions. "
   ]
  },
  {
   "cell_type": "markdown",
   "id": "ff96c343",
   "metadata": {},
   "source": [
    "_Type your answer here, replacing this text._"
   ]
  },
  {
   "cell_type": "markdown",
   "id": "9c5f9483",
   "metadata": {},
   "source": [
    "<!-- END QUESTION -->\n",
    "\n",
    "## Ethical Considerations\n",
    "\n",
    "City planners, transportation agencies, and policy makers have started to collaborate with bike sharing companies in order to reduce congestion and transportation costs. Recently city planners and policy makers have also been trying to make transportation more equitable. \n",
    "\n",
    "Equity in transportation includes: finding ways to make transportation more accessible to people in all neighborhoods within a given region, making the costs of transportation affordable to people across all income levels, and assessing how inclusive transportation systems are over time. Data about city residents may shed light on how to better assess transportation cost and equity impacts on transportation users. \n",
    "\n",
    "Keeping this in mind, answer the following two question on the nature of the data, their possible shortcomings, and ethical considerations associated with how we as data scientists use, manipulate, and share this data."
   ]
  },
  {
   "cell_type": "markdown",
   "id": "d4ff13af",
   "metadata": {},
   "source": [
    "<!-- BEGIN QUESTION -->\n",
    "\n",
    "**Question 13.** In addition to the type of rider (`casual` vs. `registered`) and the overall count of each, what other kinds of demographic data would be useful (e.g. identity, neighborhood, monetary expenses, etc.)? "
   ]
  },
  {
   "cell_type": "markdown",
   "id": "27198bad",
   "metadata": {},
   "source": [
    "_Type your answer here, replacing this text._"
   ]
  },
  {
   "cell_type": "markdown",
   "id": "fd8bb18f",
   "metadata": {},
   "source": [
    "<!-- END QUESTION -->\n",
    "\n",
    "<!-- BEGIN QUESTION -->\n",
    "\n",
    "**Question 14.** What is an example of a privacy or consent issue that could occur when accessing the demographic data you mentioned in the previous question."
   ]
  },
  {
   "cell_type": "markdown",
   "id": "1a5674b3",
   "metadata": {},
   "source": [
    "_Type your answer here, replacing this text._"
   ]
  },
  {
   "cell_type": "markdown",
   "id": "6d324be0",
   "metadata": {},
   "source": [
    "<!-- END QUESTION -->\n",
    "\n",
    "[Seaborn](https://seaborn.pydata.org/) is a Python data visualization library based on [`matplotlib`](https://matplotlib.org/).\n",
    "\n",
    "**Note:** For a brief introduction to the ideas behind the library, you can read the [introductory notes](https://seaborn.pydata.org/introduction.html) or the [paper](https://joss.theoj.org/papers/10.21105/joss.03021).\n",
    "\n",
    "In the next few questions we will use seaborn."
   ]
  },
  {
   "cell_type": "markdown",
   "id": "239aa070",
   "metadata": {},
   "source": [
    "<!-- BEGIN QUESTION -->\n",
    "\n",
    "**Question 15.** Use the [`sns.histplot`](https://seaborn.pydata.org/generated/seaborn.histplot.html) function to create a plot that overlays the distribution of the daily counts of `casual` and `registered` users. The temporal granularity of the records should be daily counts, which you should have after completing **Question 5**.\n",
    "\n",
    "Include a legend, $x-$label, $y-$label, and title. Read the [seaborn plotting tutorial](https://seaborn.pydata.org/tutorial/distributions.html) if you're not sure how to add these. After creating the plot, look at it and make sure you understand what the plot is actually telling us, e.g on a given day, the most likely number of registered riders we expect is ~4000, but it could be anywhere from nearly 0 to 7000.\n",
    "\n",
    "<img src='images/g1.png' width = \"800px\"/>\n",
    "\n",
    "Click [here](https://seaborn.pydata.org/generated/seaborn.histplot.html) to find more information about `sns.histplot`."
   ]
  },
  {
   "cell_type": "code",
   "execution_count": null,
   "id": "6b8a2711",
   "metadata": {
    "tags": []
   },
   "outputs": [],
   "source": [
    "..."
   ]
  },
  {
   "cell_type": "markdown",
   "id": "c79acb1b",
   "metadata": {},
   "source": [
    "<!-- END QUESTION -->\n",
    "\n",
    "<!-- BEGIN QUESTION -->\n",
    "\n",
    "**Question 16.** The density plots do not show us how the counts for registered and casual riders vary together. Use [`sns.lmplot`](https://seaborn.pydata.org/generated/seaborn.lmplot.html) to make a scatter plot to investigate the relationship between casual and registered counts. This time, let's use the `bike` dataframe to plot hourly counts instead of daily counts.\n",
    "\n",
    "The `lmplot` function will also try to draw a linear regression line (just as you saw in Data 8). Color the points in the scatterplot according to whether or not the day is working day. There are many points in the scatter plot so make them small to help reduce overplotting. Also make sure to set `fit_reg=True` to generate the linear regression line. You can set the `height` parameter if you want to adjust the size of the `lmplot`. Make sure to include a title.\n",
    "\n",
    "<img src='images/casual_registered_working_nonworking.png' width=\"800px\" />\n",
    "\n",
    "**Hints:** \n",
    "\n",
    "- Checkout this helpful [tutorial on `lmplot`](https://seaborn.pydata.org/tutorial/regression.html).\n",
    "\n",
    "- You will need to set `x`, `y`, and `hue` and the `scatter_kws`.\n",
    "\n",
    "- In the `sns.lmplot` function leave the key word arguments `fit_reg = True, scatter_kws = {\"s\": 3}, legend = False`. `scatter_kws = {\"s\": 3}` controls the size of each point and `legend=False` allows you to control the placement of the legend using `plt.legend`.\n"
   ]
  },
  {
   "cell_type": "code",
   "execution_count": null,
   "id": "527860ab",
   "metadata": {
    "tags": []
   },
   "outputs": [],
   "source": [
    "..."
   ]
  },
  {
   "cell_type": "markdown",
   "id": "a59a7d22",
   "metadata": {},
   "source": [
    "<!-- END QUESTION -->\n",
    "\n",
    "<!-- BEGIN QUESTION -->\n",
    "\n",
    "**Question 17.** What does this scatterplot seem to reveal about the relationship (if any) between casual and registered riders and whether or not the day is on the weekend?\n"
   ]
  },
  {
   "cell_type": "markdown",
   "id": "f1c38194",
   "metadata": {},
   "source": [
    "_Type your answer here, replacing this text._"
   ]
  },
  {
   "cell_type": "markdown",
   "id": "6d0bc45f",
   "metadata": {},
   "source": [
    "<!-- END QUESTION -->\n",
    "\n",
    "<!-- BEGIN QUESTION -->\n",
    "\n",
    "**Question 18.** Let's examine the behavior of riders by plotting the average number of riders for each hour of the day over the **entire dataset**, stratified by rider type. Your plot should look like the following:\n",
    "\n",
    "<img src=\"images/diurnal_bikes.png\" width = \"800px\"/>"
   ]
  },
  {
   "cell_type": "code",
   "execution_count": null,
   "id": "be067623",
   "metadata": {
    "tags": []
   },
   "outputs": [],
   "source": [
    "..."
   ]
  },
  {
   "cell_type": "markdown",
   "id": "7d809ee4",
   "metadata": {},
   "source": [
    "<!-- END QUESTION -->\n",
    "\n",
    "<!-- BEGIN QUESTION -->\n",
    "\n",
    "**Question 19.** What do you observe about the bike use of the different categories of riders from the plot? When does each group have the most use? How does the bike use change throughout the day?"
   ]
  },
  {
   "cell_type": "markdown",
   "id": "1250fdbb",
   "metadata": {},
   "source": [
    "_Type your answer here, replacing this text._"
   ]
  },
  {
   "cell_type": "markdown",
   "id": "e824c566",
   "metadata": {},
   "source": [
    "<!-- END QUESTION -->\n",
    "\n",
    "<!-- BEGIN QUESTION -->\n",
    "\n",
    "**Question 20.** What can you say about the meaning of the peaks in the registered riders' distribution?"
   ]
  },
  {
   "cell_type": "markdown",
   "id": "e9f4ccfc",
   "metadata": {},
   "source": [
    "_Type your answer here, replacing this text._"
   ]
  },
  {
   "cell_type": "markdown",
   "id": "f27efea2",
   "metadata": {},
   "source": [
    "<!-- END QUESTION -->\n",
    "\n",
    "<!-- BEGIN QUESTION -->\n",
    "\n",
    "**Question 21.** Create a box plot to compare the total number of riders for each season.\n",
    "\n",
    "<img src=\"images/boxplot.png\" width = \"800px\"/>"
   ]
  },
  {
   "cell_type": "code",
   "execution_count": null,
   "id": "17e1e2f7",
   "metadata": {
    "tags": []
   },
   "outputs": [],
   "source": [
    "..."
   ]
  },
  {
   "cell_type": "markdown",
   "id": "3a1114bc",
   "metadata": {},
   "source": [
    "<!-- END QUESTION -->\n",
    "\n",
    "<!-- BEGIN QUESTION -->\n",
    "\n",
    "**Question 22.** Compare the distribution of the rider's based on the season. Is this what you would expect? Why, why not?"
   ]
  },
  {
   "cell_type": "markdown",
   "id": "f920212e",
   "metadata": {},
   "source": [
    "_Type your answer here, replacing this text._"
   ]
  },
  {
   "cell_type": "markdown",
   "id": "ac9bc03d",
   "metadata": {},
   "source": [
    "<!-- END QUESTION -->\n",
    "\n",
    "<!-- BEGIN QUESTION -->\n",
    "\n",
    "**Question 23.** Create a density plot to compare the total number of riders and the temperature.\n",
    "\n",
    "<img src=\"images/kde.png\" width = \"800px\"/>"
   ]
  },
  {
   "cell_type": "code",
   "execution_count": null,
   "id": "cc05c74f",
   "metadata": {
    "tags": []
   },
   "outputs": [],
   "source": [
    "sns.scatterplot(data=bike, x='temp', y='cnt', edgecolor='white');"
   ]
  },
  {
   "cell_type": "code",
   "execution_count": null,
   "id": "6d3b284f",
   "metadata": {
    "tags": []
   },
   "outputs": [],
   "source": [
    "..."
   ]
  },
  {
   "cell_type": "markdown",
   "id": "4005f8ee",
   "metadata": {},
   "source": [
    "<!-- END QUESTION -->\n",
    "\n",
    "<!-- BEGIN QUESTION -->\n",
    "\n",
    "**Question 24.** What information can you infer from your visualization in the previous question?"
   ]
  },
  {
   "cell_type": "markdown",
   "id": "b50ec65f",
   "metadata": {},
   "source": [
    "_Type your answer here, replacing this text._"
   ]
  },
  {
   "cell_type": "markdown",
   "id": "c8fd6055",
   "metadata": {},
   "source": [
    "<!-- END QUESTION -->\n",
    "\n"
   ]
  },
  {
   "cell_type": "markdown",
   "id": "332af8a9",
   "metadata": {
    "deletable": false,
    "editable": false
   },
   "source": [
    "## Submission\n",
    "\n",
    "Make sure you have run all cells in your notebook in order before running the cell below, so that all images/graphs appear in the output. The cell below will generate a zip file for you to submit. **Please save before exporting!**"
   ]
  },
  {
   "cell_type": "code",
   "execution_count": null,
   "id": "2594d579",
   "metadata": {
    "deletable": false,
    "editable": false
   },
   "outputs": [],
   "source": [
    "# Save your notebook first, then run this cell to export your submission.\n",
    "grader.export(run_tests=True)"
   ]
  },
  {
   "cell_type": "markdown",
   "id": "f59b2700",
   "metadata": {},
   "source": [
    " "
   ]
  }
 ],
 "metadata": {
  "kernelspec": {
   "display_name": "Python 3 (ipykernel)",
   "language": "python",
   "name": "python3"
  },
  "language_info": {
   "codemirror_mode": {
    "name": "ipython",
    "version": 3
   },
   "file_extension": ".py",
   "mimetype": "text/x-python",
   "name": "python",
   "nbconvert_exporter": "python",
   "pygments_lexer": "ipython3",
   "version": "3.10.11"
  },
  "otter": {
   "OK_FORMAT": true,
   "tests": {
    "q10": {
     "name": "q10",
     "points": null,
     "suites": [
      {
       "cases": [
        {
         "code": ">>> daily_count['workingday'].value_counts()['no']\n231",
         "hidden": false,
         "locked": false
        },
        {
         "code": ">>> daily_count['workingday'].value_counts()['no']\n231",
         "hidden": false,
         "locked": false
        },
        {
         "code": ">>> daily_count['workingday'].value_counts()['no']\n231",
         "hidden": false,
         "locked": false
        },
        {
         "code": ">>> daily_count['workingday'].value_counts()['no']\n231",
         "hidden": false,
         "locked": false
        },
        {
         "code": ">>> daily_count['workingday'].value_counts()['no']\n231",
         "hidden": false,
         "locked": false
        },
        {
         "code": ">>> daily_count['workingday'].value_counts()['no']\n231",
         "hidden": false,
         "locked": false
        },
        {
         "code": ">>> daily_count['workingday'].value_counts()['no']\n231",
         "hidden": false,
         "locked": false
        }
       ],
       "scored": true,
       "setup": "",
       "teardown": "",
       "type": "doctest"
      }
     ]
    },
    "q2": {
     "name": "q2",
     "points": null,
     "suites": [
      {
       "cases": [
        {
         "code": ">>> isinstance(q2, int)\nTrue",
         "hidden": false,
         "locked": false
        },
        {
         "code": ">>> q2 in [1, 2, 3]\nTrue",
         "hidden": false,
         "locked": false
        }
       ],
       "scored": true,
       "setup": "",
       "teardown": "",
       "type": "doctest"
      }
     ]
    },
    "q3": {
     "name": "q3",
     "points": null,
     "suites": [
      {
       "cases": [
        {
         "code": ">>> isinstance(q3, dict)\nTrue",
         "hidden": false,
         "locked": false
        },
        {
         "code": ">>> 1156736 in q3.values()\nTrue",
         "hidden": false,
         "locked": false
        },
        {
         "code": ">>> 17380 in q3.values()\nTrue",
         "hidden": false,
         "locked": false
        }
       ],
       "scored": true,
       "setup": "",
       "teardown": "",
       "type": "doctest"
      }
     ]
    },
    "q5": {
     "name": "q5",
     "points": null,
     "suites": [
      {
       "cases": [
        {
         "code": ">>> bike.season.value_counts()['Spring']\n4242",
         "hidden": false,
         "locked": false
        },
        {
         "code": ">>> bike.season.value_counts()['Summer']\n4409",
         "hidden": false,
         "locked": false
        },
        {
         "code": ">>> bike.season.value_counts()['Fall']\n4496",
         "hidden": false,
         "locked": false
        },
        {
         "code": ">>> bike.season.value_counts()['Winter']\n4232",
         "hidden": false,
         "locked": false
        },
        {
         "code": ">>> bike.yr.value_counts()['2012']\n8734",
         "hidden": false,
         "locked": false
        },
        {
         "code": ">>> bike.yr.value_counts()['2012']\n8734",
         "hidden": false,
         "locked": false
        },
        {
         "code": ">>> bike.holiday.value_counts()['yes']\n500",
         "hidden": false,
         "locked": false
        },
        {
         "code": ">>> bike.holiday.value_counts()['yes']\n500",
         "hidden": false,
         "locked": false
        },
        {
         "code": ">>> bike.weekday.value_counts()['Fri']\n2487",
         "hidden": false,
         "locked": false
        },
        {
         "code": ">>> bike.weekday.value_counts()['Fri']\n2487",
         "hidden": false,
         "locked": false
        },
        {
         "code": ">>> bike.weekday.value_counts()['Fri']\n2487",
         "hidden": false,
         "locked": false
        },
        {
         "code": ">>> bike.weekday.value_counts()['Fri']\n2487",
         "hidden": false,
         "locked": false
        },
        {
         "code": ">>> bike.weekday.value_counts()['Fri']\n2487",
         "hidden": false,
         "locked": false
        },
        {
         "code": ">>> bike.weekday.value_counts()['Fri']\n2487",
         "hidden": false,
         "locked": false
        },
        {
         "code": ">>> bike.weekday.value_counts()['Fri']\n2487",
         "hidden": false,
         "locked": false
        },
        {
         "code": ">>> bike.weekday.value_counts()['Fri']\n2487",
         "hidden": false,
         "locked": false
        },
        {
         "code": ">>> bike.weekday.value_counts()['Fri']\n2487",
         "hidden": false,
         "locked": false
        },
        {
         "code": ">>> bike.weekday.value_counts()['Fri']\n2487",
         "hidden": false,
         "locked": false
        },
        {
         "code": ">>> bike.weekday.value_counts()['Fri']\n2487",
         "hidden": false,
         "locked": false
        },
        {
         "code": ">>> bike.weekday.value_counts()['Fri']\n2487",
         "hidden": false,
         "locked": false
        }
       ],
       "scored": true,
       "setup": "",
       "teardown": "",
       "type": "doctest"
      }
     ]
    },
    "q6": {
     "name": "q6",
     "points": 0.5,
     "suites": [
      {
       "cases": [
        {
         "code": ">>> isinstance(num_holidays, int) or isinstance(num_holidays, np.int64)\nTrue",
         "hidden": false,
         "locked": false
        }
       ],
       "scored": true,
       "setup": "",
       "teardown": "",
       "type": "doctest"
      }
     ]
    },
    "q7": {
     "name": "q7",
     "points": 0.5,
     "suites": [
      {
       "cases": [
        {
         "code": ">>> isinstance(q7, int) or isinstance(q7, np.int64)\nTrue",
         "hidden": false,
         "locked": false
        },
        {
         "code": ">>> q7 == 500\nTrue",
         "hidden": false,
         "locked": false
        }
       ],
       "scored": true,
       "setup": "",
       "teardown": "",
       "type": "doctest"
      }
     ]
    },
    "q8": {
     "name": "q8",
     "points": 0.5,
     "suites": [
      {
       "cases": [
        {
         "code": ">>> isinstance(q8, pd.core.frame.DataFrame)\nTrue",
         "hidden": false,
         "locked": false
        },
        {
         "code": ">>> list(q8.day)\n['Mon', 'Fri', 'Thu']",
         "hidden": false,
         "locked": false
        },
        {
         "code": ">>> list(q8.day)\n['Mon', 'Fri', 'Thu']",
         "hidden": false,
         "locked": false
        },
        {
         "code": ">>> list(q8.day)\n['Mon', 'Fri', 'Thu']",
         "hidden": false,
         "locked": false
        }
       ],
       "scored": true,
       "setup": "",
       "teardown": "",
       "type": "doctest"
      }
     ]
    }
   }
  }
 },
 "nbformat": 4,
 "nbformat_minor": 5
}
