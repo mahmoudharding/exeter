{
 "cells": [
  {
   "cell_type": "markdown",
   "id": "2bf1f701-bb68-4964-b50d-bd7b4acd6560",
   "metadata": {},
   "source": [
    "## Final Report"
   ]
  },
  {
   "cell_type": "markdown",
   "id": "72355d90-713c-4679-b3bc-63639136d257",
   "metadata": {
    "tags": []
   },
   "source": [
    "## Introduction"
   ]
  },
  {
   "cell_type": "markdown",
   "id": "e51d012a-9d3e-4d74-866a-da890fc18fd1",
   "metadata": {
    "tags": []
   },
   "source": [
    "## Exploratory Data Analysis"
   ]
  },
  {
   "cell_type": "markdown",
   "id": "7566e005-3ca6-4f16-96d9-3abc3bf7de61",
   "metadata": {
    "tags": []
   },
   "source": [
    "## Grid Search "
   ]
  },
  {
   "cell_type": "markdown",
   "id": "8b1a746d-b5cf-4497-820d-b99bea5c020b",
   "metadata": {
    "tags": []
   },
   "source": [
    "## Gradient Descent $\\left(y-c \\right)^2$"
   ]
  },
  {
   "cell_type": "markdown",
   "id": "0697ce5c-24b3-4778-a1fd-b37e0255a860",
   "metadata": {
    "tags": []
   },
   "source": [
    "## Gradient Descent $\\left(y-b_0-b_1x \\right)^2$"
   ]
  }
 ],
 "metadata": {
  "kernelspec": {
   "display_name": "Python 3 (ipykernel)",
   "language": "python",
   "name": "python3"
  },
  "language_info": {
   "codemirror_mode": {
    "name": "ipython",
    "version": 3
   },
   "file_extension": ".py",
   "mimetype": "text/x-python",
   "name": "python",
   "nbconvert_exporter": "python",
   "pygments_lexer": "ipython3",
   "version": "3.10.11"
  }
 },
 "nbformat": 4,
 "nbformat_minor": 5
}
