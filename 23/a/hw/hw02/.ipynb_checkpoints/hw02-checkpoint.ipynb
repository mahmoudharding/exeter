{
 "cells": [
  {
   "cell_type": "markdown",
   "id": "562e7ea6-3158-4cf1-a91e-1a3ccb567bfe",
   "metadata": {
    "tags": []
   },
   "source": [
    "# Homework 02: Exploratory Data Analysis and Data Wrangling \n",
    "\n",
    "Welcome to Homework 02! In this homework you will practice using functions and methods from the `pandas` library.\n",
    "\n",
    "**Due Date:** \n",
    "\n",
    "**Collaboration Policy:** You are not allowed to discuss this assignment with other students. If you have questions please refer them to your instructor.\n",
    "\n",
    "**Notes:**\n",
    "\n",
    "- we use data from `classics.csv` file which is part of The CORGIS Project (The Collection of Really Great, Interesting, Situated Datasets) (see documentation [here](https://corgis-edu.github.io/corgis/csv/classics/)). \n",
    "\n",
    "**Warning:** Try not to delete the instructions or the questions of the assignment.\n",
    "\n",
    "In the markdown cell below enter your name, section, and the date."
   ]
  },
  {
   "cell_type": "markdown",
   "id": "2bd5ba5b-f495-4c31-a22b-90b6c329be7d",
   "metadata": {},
   "source": [
    "**Name:** \n",
    "\n",
    "**Section:** \n",
    "\n",
    "**Date:**\n",
    "\n",
    "Let's get started!"
   ]
  },
  {
   "cell_type": "markdown",
   "id": "cc27b96a-60ef-49db-b67a-40d60971686d",
   "metadata": {},
   "source": [
    "In order to complete the tasks in this assignment you will need to `import` the necessary modules."
   ]
  },
  {
   "cell_type": "markdown",
   "id": "75dda3cc-4635-43ef-b042-3e5278dab6bb",
   "metadata": {},
   "source": [
    "**Question 1.** Import the `NumPy`, `pandas` and `re` packages.\n",
    "\n",
    "**Note:** Be sure to use appropriate aliasing."
   ]
  },
  {
   "cell_type": "code",
   "execution_count": null,
   "id": "4c3849b8-efa1-4eb1-92bc-d0accdaadf69",
   "metadata": {},
   "outputs": [],
   "source": [
    "import pandas as pd"
   ]
  },
  {
   "cell_type": "code",
   "execution_count": null,
   "id": "1bb48772-e863-4f02-b947-020646bbec27",
   "metadata": {},
   "outputs": [],
   "source": [
    "classics = pd.read_csv('data/classics.csv')\n",
    "classics[classics['bibliography.author.name'] == 'Homer']['bibliography.title'].to_frame()"
   ]
  },
  {
   "cell_type": "markdown",
   "id": "4f1487ef-eb1d-4a6c-9d56-8ef96fabaeaa",
   "metadata": {},
   "source": [
    "## Exploratory Data Analysis\n",
    "\n",
    "### What is exploratory data analysis?\n",
    "\n",
    ">Exploratory data analysis is closely associated with John Tukey, of Princeton University and Bell Labs. Tukey proposed exploratory data analysis in 1961, and wrote a book about it in 1977. Tukey’s interest in exploratory data analysis influenced the development of the S statistical language at Bell Labs, which later led to S-Plus and R. \n",
    "\n",
    "**Source:** [Data Wrangling and Exploratory Data Analysis Explained](https://www.infoworld.com/article/3612888/data-wrangling-and-exploratory-data-analysis-explained.html)"
   ]
  },
  {
   "cell_type": "markdown",
   "id": "382ffac1-5632-43ba-beb0-63b857b3f2f9",
   "metadata": {},
   "source": [
    "**Question 2.** Read in the dataset `classics.csv` and save it to a `pandas` `DataFrame` object.\n",
    "\n",
    "**Note:** The dataset is located in the data folder."
   ]
  },
  {
   "cell_type": "code",
   "execution_count": null,
   "id": "293462ed-fa64-46dd-9506-512a2c9ce127",
   "metadata": {},
   "outputs": [],
   "source": [
    "classics = ..."
   ]
  },
  {
   "cell_type": "markdown",
   "id": "e8d8f6c7-22f6-4529-84b1-e88f5c940f93",
   "metadata": {},
   "source": [
    "**Question 2a.** After you load the dataset display the first 10 rows only."
   ]
  },
  {
   "cell_type": "code",
   "execution_count": null,
   "id": "63fba241-2529-454a-b77f-ed633029a775",
   "metadata": {},
   "outputs": [],
   "source": [
    "..."
   ]
  },
  {
   "cell_type": "markdown",
   "id": "6793d85f-38db-4949-9b64-96dedb25e727",
   "metadata": {},
   "source": [
    "**Question 3.** Use the `.columns` methods to explore the dataset. "
   ]
  },
  {
   "cell_type": "code",
   "execution_count": null,
   "id": "272c8846-1f8f-42c8-843e-599ab167f7a9",
   "metadata": {},
   "outputs": [],
   "source": [
    "..."
   ]
  },
  {
   "cell_type": "markdown",
   "id": "36219233-c951-4bcc-8db4-3a06816756cb",
   "metadata": {},
   "source": [
    "**Question 3a.** Use the code cell below to write a Python expression that returns a column that contains categroical data as a `Series`."
   ]
  },
  {
   "cell_type": "code",
   "execution_count": null,
   "id": "cdc77dc4-c573-405f-8380-3251bd2a169f",
   "metadata": {},
   "outputs": [],
   "source": [
    "..."
   ]
  },
  {
   "cell_type": "markdown",
   "id": "14ba0916-c461-4181-9bd0-b62464b394b5",
   "metadata": {},
   "source": [
    "**Question 3b.** Use the code cell below to write a Python expression that returns a column that contains numerical data as a `DataFrame`."
   ]
  },
  {
   "cell_type": "code",
   "execution_count": null,
   "id": "f1fb37e0-e7e6-4ad7-8d87-cfa4aeb0edd9",
   "metadata": {},
   "outputs": [],
   "source": [
    "..."
   ]
  },
  {
   "cell_type": "markdown",
   "id": "0a53e546-5aaf-40b3-8d16-f304ea0a27ae",
   "metadata": {},
   "source": [
    "**Question 4.** Use the next four code cells to explore the `classics` dataset. After your exploration is complete, use the markdown cell to summarize you exploratory data analysis in paragraph form. Be sure to include comments int he code cells to explain your thought processes as you explore.\n",
    "\n",
    "**Note:** Each code cell must be used during your exploratory data analysis. Make sure that the intent of each cell is different. or example, finding the mean, median, and standard deviation of a column will be considered as finding numerical summaries. Even though the numerical values represent different measures of central tendency and spread, they all fall under the same category of numerical summaries. If you are not sure please contact your instructor. "
   ]
  },
  {
   "cell_type": "code",
   "execution_count": null,
   "id": "cc84cafd-314b-4b16-aced-42a4a1ae29bf",
   "metadata": {},
   "outputs": [],
   "source": [
    "..."
   ]
  },
  {
   "cell_type": "code",
   "execution_count": null,
   "id": "94e09a15-70de-4f45-b8d2-2af293aa503c",
   "metadata": {},
   "outputs": [],
   "source": [
    "..."
   ]
  },
  {
   "cell_type": "code",
   "execution_count": null,
   "id": "258a0e4b-5adb-4d76-9923-5a3af272d3de",
   "metadata": {},
   "outputs": [],
   "source": [
    "..."
   ]
  },
  {
   "cell_type": "code",
   "execution_count": null,
   "id": "f0fd7513-1e3f-4d92-a059-66a3bdb0c26e",
   "metadata": {},
   "outputs": [],
   "source": [
    "..."
   ]
  },
  {
   "cell_type": "markdown",
   "id": "0473c483-13d3-4fde-b392-8287c7d9862c",
   "metadata": {},
   "source": [
    "_Type you paragraph here._"
   ]
  },
  {
   "cell_type": "markdown",
   "id": "e9910093-b783-4ca8-8c6c-b42403762f47",
   "metadata": {},
   "source": [
    "**Question 5.** Choose a year between the earliest and latest author birth year in the dataset. Then, write an expression to determine if each author birth year is greater than a set year that you chose."
   ]
  },
  {
   "cell_type": "code",
   "execution_count": null,
   "id": "82e4cd00-1c5d-41ee-b854-4142f8270613",
   "metadata": {},
   "outputs": [],
   "source": [
    "..."
   ]
  },
  {
   "cell_type": "markdown",
   "id": "af6c4d8e-4927-42da-82f9-d826f21cfd03",
   "metadata": {},
   "source": [
    "**Question 6.** Create a new data frame named `classics_100` containing only books written by authors within the past 100 years."
   ]
  },
  {
   "cell_type": "code",
   "execution_count": null,
   "id": "5b8fe494-98a5-4769-8633-ca8bdebe7f94",
   "metadata": {},
   "outputs": [],
   "source": [
    "classics_100 = ..."
   ]
  },
  {
   "cell_type": "markdown",
   "id": "4727f639-072b-48a2-b28a-6ccb93cc4a7f",
   "metadata": {},
   "source": [
    "**Question 7.** How many authors are there?\n",
    "\n",
    "**Note:** Use the code cell below to determine this value programmatically."
   ]
  },
  {
   "cell_type": "code",
   "execution_count": null,
   "id": "b6336360-f884-479f-8d96-7fe9d09ebc46",
   "metadata": {},
   "outputs": [],
   "source": [
    "..."
   ]
  },
  {
   "cell_type": "markdown",
   "id": "4c2b447d-a121-4c3b-8aa3-6c3a2eb4b006",
   "metadata": {},
   "source": [
    "**Question 7a.** Type your answer (the number of books) from **Question 7** in the Markdown cell below."
   ]
  },
  {
   "cell_type": "markdown",
   "id": "de0b0ed9-4923-435d-a6cc-e2d0cd22ad1a",
   "metadata": {},
   "source": [
    "_Type your answer from Question 5 a. in this cell._"
   ]
  },
  {
   "cell_type": "markdown",
   "id": "4952d4f5-64fc-4262-8e25-4aa5db1a76b7",
   "metadata": {},
   "source": [
    "**Question 8.** Who is the most ancient author?\n",
    "\n",
    "**Note:** Use the code cell below to determine this value programmatically."
   ]
  },
  {
   "cell_type": "code",
   "execution_count": null,
   "id": "efd3606a-31ea-47ba-aec4-77d138f24a03",
   "metadata": {},
   "outputs": [],
   "source": [
    "..."
   ]
  },
  {
   "cell_type": "markdown",
   "id": "fc7c1e15-175f-4856-9307-2376cc4164c4",
   "metadata": {},
   "source": [
    "Type your answer (the author's name) from **Question 8.** in the Markdown cell below."
   ]
  },
  {
   "cell_type": "markdown",
   "id": "66698c88-14bc-424c-b6c5-5abc5417efc8",
   "metadata": {},
   "source": [
    "_Type your answer from Question 8. in this cell._"
   ]
  },
  {
   "cell_type": "markdown",
   "id": "f5eaa95a-5333-429a-a45a-2ae76b413a84",
   "metadata": {},
   "source": [
    "**Question 8a.** How many books did the most ancient author write?\n",
    "\n",
    "**Note:** Use the code cell below to determine this value programmatically."
   ]
  },
  {
   "cell_type": "code",
   "execution_count": null,
   "id": "1ad32b85-db44-4cc7-9519-0a0f836a3634",
   "metadata": {},
   "outputs": [],
   "source": [
    "..."
   ]
  },
  {
   "cell_type": "markdown",
   "id": "bc210cd6-935d-41e4-a403-e2e3f347f2ba",
   "metadata": {},
   "source": [
    "**Question 8b.** Type your answer (the number of books) from **Question 8a.** in the Markdown cell below."
   ]
  },
  {
   "cell_type": "markdown",
   "id": "29d72841-bd82-42c5-b057-a189a792ef83",
   "metadata": {},
   "source": [
    "_Type your answer from Question 6 a. in this cell._"
   ]
  },
  {
   "cell_type": "markdown",
   "id": "f7821725-7f16-431c-9e43-b2a45e3196fc",
   "metadata": {},
   "source": [
    "## Data Wrangling\n",
    "\n",
    "### What is data Wrangling?\n",
    "\n",
    ">Data rarely comes in usable form. It's often contaminated with errors and omissions, rarely has the desired structure, and usually lacks context. Data wrangling is the process of discovering the data, cleaning the data, validating it, structuring it for usability, enriching the content (possibly by adding information from public data such as weather and economic conditions), and in some cases aggregating and transforming the data.\n",
    "\n",
    "**Source:** [Data Wrangling and Exploratory Data Analysis Explained](https://www.infoworld.com/article/3612888/data-wrangling-and-exploratory-data-analysis-explained.html)"
   ]
  },
  {
   "cell_type": "markdown",
   "id": "53c7c691-a83c-48d8-89ec-355e374befd3",
   "metadata": {},
   "source": [
    "**Question 9.** Create a dictionary named `auth_dict` that maps authors (`key`) to their books (`value`). There are some authors with multiple books, but dictionaries should only have one key for each author. \n",
    "\n",
    "**Note:** There are multiple ways to do this."
   ]
  },
  {
   "cell_type": "code",
   "execution_count": null,
   "id": "4cbc3f41-a885-4796-b90c-257670bfe492",
   "metadata": {},
   "outputs": [],
   "source": [
    "#auth_dict = ...\n",
    "drop_duplicates = classics.drop_duplicates(subset=['bibliography.title'],keep='last').reset_index()\n",
    "auth_dict = {}\n",
    "for i in range(len(drop_duplicates['metadata.id'])):\n",
    "    if drop_duplicates['bibliography.author.name'][i] not in auth_dict.keys():\n",
    "        auth_dict[drop_duplicates['bibliography.author.name'][i]] = [drop_duplicates['bibliography.title'][i]]\n",
    "    else:\n",
    "        h = auth_dict[drop_duplicates['bibliography.author.name'][i]]\n",
    "        h.append(drop_duplicates['bibliography.title'][i])\n",
    "        auth_dict[drop_duplicates['bibliography.author.name'][i]] = h\n",
    "\n",
    "x = 0\n",
    "for k, v in auth_dict.items():\n",
    "    print(f'{k}: {v}')\n",
    "    \n",
    "    x += 1\n",
    "    if x == 9:\n",
    "        break"
   ]
  },
  {
   "cell_type": "code",
   "execution_count": null,
   "id": "d7a4589b-c1ed-4c67-8884-e80eae3e08bc",
   "metadata": {},
   "outputs": [],
   "source": [
    "3"
   ]
  },
  {
   "cell_type": "markdown",
   "id": "5e34e8a3-c090-456d-ab53-1da125ae9aed",
   "metadata": {},
   "source": [
    "**Question 10.** The column `bibliography.subjects` contains the subjects for each story. Some of these are missing, some are separated by semi-colons, and some are separated by commas. Because of this, create two expressions to turn a comma-separated and semi-colon-separated string into lists, respectively. \n",
    "\n",
    "**Hint:** You may use the strings below. We will return to these!"
   ]
  },
  {
   "cell_type": "code",
   "execution_count": null,
   "id": "9be9d225-fc99-4952-bd46-ca2f86108f9e",
   "metadata": {},
   "outputs": [],
   "source": [
    "# Run this cell to see an example\n",
    "# of the comma-separated string\n",
    "classics['bibliography.subjects'][0]"
   ]
  },
  {
   "cell_type": "markdown",
   "id": "d7d1db57-6d54-4a9d-96b8-480c7452d3e9",
   "metadata": {},
   "source": [
    "**Question 10a.** Put your expression that turns a comma-separated string into a list in the code cell below."
   ]
  },
  {
   "cell_type": "code",
   "execution_count": null,
   "id": "f6c8204a-1ff6-4408-840b-1cdc3c237a64",
   "metadata": {},
   "outputs": [],
   "source": [
    "import re\n",
    "comma_to_list = r'\\s*,\\s*'\n",
    "re.split(comma_to_list, classics['bibliography.subjects'][0])"
   ]
  },
  {
   "cell_type": "code",
   "execution_count": null,
   "id": "8b396c55-aa85-4377-9293-4875923ccbc1",
   "metadata": {},
   "outputs": [],
   "source": [
    "import numpy as np\n",
    "\n",
    "title_subj = {}\n",
    "for i in range(len(classics)):\n",
    "    if pd.isna(classics[\"bibliography.subjects\"][i]):\n",
    "        continue\n",
    "    title_subj[classics[\"bibliography.title\"][i]] = classics[\"bibliography.subjects\"][i].split(\",\")\n",
    "    \n",
    "title_subj['Pride and Prejudice']"
   ]
  },
  {
   "cell_type": "code",
   "execution_count": null,
   "id": "2ced9a26-e078-491a-bd0b-31a93ee7c1e1",
   "metadata": {},
   "outputs": [],
   "source": [
    "# Run this cell to see an example\n",
    "# of the semi-colon-separated string\n",
    "classics['bibliography.subjects'][3]"
   ]
  },
  {
   "cell_type": "markdown",
   "id": "c350aa91-73f3-45dd-8d35-c270222b0c09",
   "metadata": {},
   "source": [
    "**Question 10b.** Put your expression that turns a semi-colon-separated string into a list in the code cell below."
   ]
  },
  {
   "cell_type": "code",
   "execution_count": null,
   "id": "8b82eaed-f5e6-4e8d-bbd7-cfa630941a07",
   "metadata": {},
   "outputs": [],
   "source": [
    "..."
   ]
  },
  {
   "cell_type": "markdown",
   "id": "843bbd54-a381-4068-8d76-1bc0e5a78783",
   "metadata": {},
   "source": [
    "**Question 11.** Using your answer to **Question 9.**, a `for` loop, and conditional statements, create a new dictionary that has the keys of book titles and values that are the list of the subjects. Save this do a dictionary object named `title_subj`.\n",
    "\n",
    "**Notes:**\n",
    "\n",
    "* Iterating through rows is not great, but we do it here in light of what we know to date. If you prefer to use another method, like writing a function, you are free to do so.\n",
    "\n",
    "* If the subject is null, replace with `[\"About nothing\"]`."
   ]
  },
  {
   "cell_type": "code",
   "execution_count": null,
   "id": "8b4343a1-e7aa-407d-8774-b628cc66ce43",
   "metadata": {},
   "outputs": [],
   "source": [
    "title_subj = ...\n",
    "\n",
    "..."
   ]
  },
  {
   "cell_type": "markdown",
   "id": "06e7effb-c812-43d2-aca9-59f326ce6acb",
   "metadata": {},
   "source": [
    "**Question 12.** Using the dictionary `title_subj`, find all unique subjects and save this a list, `subjects`. Prove that you have unique entries using sets."
   ]
  },
  {
   "cell_type": "code",
   "execution_count": null,
   "id": "296b3753-0080-43d4-b914-f3392373f74a",
   "metadata": {},
   "outputs": [],
   "source": [
    "subjects = set()\n",
    "\n",
    "for title in title_subj:\n",
    "    for subject in title_subj[title]:\n",
    "        subjects.add(subject)\n",
    "subjects = list(subjects)\n",
    "len(subjects)"
   ]
  },
  {
   "cell_type": "code",
   "execution_count": null,
   "id": "f7f92df9-41ba-44f5-b75d-4f99e4b6f7a8",
   "metadata": {},
   "outputs": [],
   "source": [
    "title_subj = {}\n",
    "for i in range(len(classics)):\n",
    "    if (str(classics['bibliography.subjects'][i]) == \"nan\"):\n",
    "        title_subj.update({classics['bibliography.title'][i]: [\"About nothing\"]})\n",
    "    else:\n",
    "        title_subj.update({classics['bibliography.title'][i]: classics['bibliography.subjects'][i]})"
   ]
  },
  {
   "cell_type": "code",
   "execution_count": null,
   "id": "d6e34aea-c510-4dfd-a4e5-2f309385e614",
   "metadata": {},
   "outputs": [],
   "source": [
    "subjects = []\n",
    "for i in title_subj.values():\n",
    "    subjects.extend(i)\n",
    "subjects = list(set(subjects))\n",
    "\n",
    "unique_subjects = set(subjects)\n",
    "if len(unique_subjects) == len(subjects):\n",
    "    print(\"The list contains only unique entries.\")\n",
    "else:\n",
    "    print(\"The list contains duplicate entries.\")"
   ]
  },
  {
   "cell_type": "code",
   "execution_count": null,
   "id": "ba2b78f8-0478-45aa-af69-e3cec9093b91",
   "metadata": {},
   "outputs": [],
   "source": [
    "subject = input(\"What subject do you like: \").lower()\n",
    "titles = []\n",
    "for i in range(len(list(title_subj.keys()))):\n",
    "    #print(list(title_subj.keys())[i])\n",
    "    for genres in list(title_subj.values())[i]:\n",
    "        #print(genres)\n",
    "        for genre in genres.split(','):\n",
    "            if subject in genre.lower():\n",
    "                titles.append(list(title_subj.keys())[i])\n",
    "np.unique(titles)"
   ]
  },
  {
   "cell_type": "code",
   "execution_count": null,
   "id": "e42d6b73-07fe-4fc3-bf6d-635ac25a444a",
   "metadata": {},
   "outputs": [],
   "source": [
    "list = []\n",
    "subject = \"Mentally ill women -- Fiction\"\n",
    "for i in title_subj:\n",
    "    if \"Mentally ill women -- Fiction\" in title_subj[i]:\n",
    "        list.append(i)\n",
    "list"
   ]
  },
  {
   "cell_type": "code",
   "execution_count": null,
   "id": "46e422a4-088a-44ff-bf50-10c450f64090",
   "metadata": {},
   "outputs": [],
   "source": [
    "all_subj=[]\n",
    "for subj in list(title_subj.values()):\n",
    "    all_subj += subj\n",
    "len(all_subj)\n",
    "#all_subj\n",
    "\n",
    "uniq_subj = []\n",
    "#new_list = sum(list(title_subj.values()), [])\n",
    "#new_list\n",
    "conv_to_arr = np.array(all_subj)\n",
    "uniq_subj = list(np.unique(conv_to_arr))\n",
    "len(uniq_subj)\n",
    "#type(uniq_subj)\n",
    "#uniq_subj"
   ]
  },
  {
   "cell_type": "markdown",
   "id": "1ceab8c0-0367-429f-9a69-cfa7b65ad931",
   "metadata": {},
   "source": [
    "**Question 13.** Using a combination of for loops and string methods, return a list of all titles from your dictionary that are about a subject you chose. \n",
    "\n",
    "**Note:** Alternatively, if you choose, you can use regex and list comprehension, but this is not a requirement. "
   ]
  },
  {
   "cell_type": "code",
   "execution_count": null,
   "id": "46e1b5c8-f10e-4f62-b44e-ac76dbef01bb",
   "metadata": {},
   "outputs": [],
   "source": [
    "..."
   ]
  },
  {
   "cell_type": "markdown",
   "id": "78399d9d-b039-4228-9218-7b0fd70df6d2",
   "metadata": {},
   "source": [
    "## Finding Books by Category\n",
    "\n",
    "In this section, you will help us to find books with an easier reading level. The data set contains a variety of variables on the difficulty of books. To see all the difficulty measures you can look at the column names.\n",
    "\n",
    "**Question 14.** Choose two difficulty measures. Find the mean, standard deviation, minimum, median, and maximum values."
   ]
  },
  {
   "cell_type": "code",
   "execution_count": null,
   "id": "1aa6a2c2-2487-4a59-b1f2-0b869fb9160d",
   "metadata": {},
   "outputs": [],
   "source": [
    "..."
   ]
  },
  {
   "cell_type": "code",
   "execution_count": null,
   "id": "c878c74c-4dbc-4d2a-8fb7-3f80ba772390",
   "metadata": {},
   "outputs": [],
   "source": [
    "..."
   ]
  },
  {
   "cell_type": "markdown",
   "id": "f272f32c-ea0f-44de-9c49-70b3f34bb04c",
   "metadata": {},
   "source": [
    "Feature scaling (also known as data normalization) is a method used to standardize the range of features of data. Since, the range of values of data may vary widely, it becomes a necessary step in data pre-processing. Often we normalize variables when performing some type of analysis in which we have multiple variables that are measured on different scales and we want each of the variables to have the same range. This prevents one variable from being overly influential, especially if it's measured in different units (i.e. if one variable is measured in miles and another is measured in feet).\n",
    "\n",
    "In scaling, you transform the data such that the features are within a specific range e.g. $[0, 1]$. To normalize the values in a data set to be between 0 and 1, you can use the formula $$z_i=\\frac{x_i-\\text{min}(x)}{\\text{max}(x)-\\text{min}(x)}$$ or $$\\text{Scaled Value}=\\frac{\\text{Value}-\\text{Minimum of all Values}}{\\text{Maximum of all Values}-\\text{Minimum of all Values}}$$ \n",
    "\n",
    "In other words, subtract the minimum value from each value, then divide by the difference between the maximum and minimum values."
   ]
  },
  {
   "cell_type": "markdown",
   "id": "de189b35-7af3-41a6-81d4-433fe20ccea2",
   "metadata": {},
   "source": [
    "**Question 15.** Apply the scaling method explained above to the difficulty measures selected in **Question 14**. Scale each measure to be between 0 and 1. Save your results to a dataframe with a column for book name, author, and each difficulty measure score (two columns)."
   ]
  },
  {
   "cell_type": "code",
   "execution_count": null,
   "id": "eda44f64-9fe7-455d-85c1-75ff543966b3",
   "metadata": {},
   "outputs": [],
   "source": [
    "..."
   ]
  },
  {
   "cell_type": "code",
   "execution_count": null,
   "id": "0be979a6-9676-48e1-9150-729de43375ca",
   "metadata": {},
   "outputs": [],
   "source": [
    "..."
   ]
  },
  {
   "cell_type": "markdown",
   "id": "24cd0e0e-a2ea-43ca-88e0-a9059eb90bd2",
   "metadata": {},
   "source": [
    "**Question 16.** Based on the sum of scaled difficulty measures you chose in **Question 15**, which book is the easiest to read? Do you agree with this? Why or why not?\n",
    "\n",
    "**Note:** Add the sum of the difficulty measures to the dataframe you created in **Question 15**. Then in he markdown cell below the code cell, type your response to the questions *\"Do you agree with this? Why or why not?\"*."
   ]
  },
  {
   "cell_type": "code",
   "execution_count": null,
   "id": "8a2670cb-3eba-409f-92c1-b13a81ef6699",
   "metadata": {},
   "outputs": [],
   "source": [
    "..."
   ]
  },
  {
   "cell_type": "markdown",
   "id": "0dc5feae-c5c1-4d08-b6ec-7e37abb512f4",
   "metadata": {},
   "source": [
    "_Type your response here._"
   ]
  },
  {
   "cell_type": "markdown",
   "id": "fe38fcb9-7a41-433c-bf0f-590a8f4fe5ff",
   "metadata": {},
   "source": [
    "## Submission\n",
    "\n",
    "Make sure you have run all cells in your notebook in order so that all images/graphs appear in the output. **Please save before exporting!**\n",
    "\n",
    "When done with running all the cells in the notebook and **saving**, download the notebook (`.ipynb`) by right-clicking on the file name and selecting **Download**. You'll submit this `.ipynb` file for the assignment in Canvas to Gradescope for grading."
   ]
  }
 ],
 "metadata": {
  "kernelspec": {
   "display_name": "Python 3 (ipykernel)",
   "language": "python",
   "name": "python3"
  },
  "language_info": {
   "codemirror_mode": {
    "name": "ipython",
    "version": 3
   },
   "file_extension": ".py",
   "mimetype": "text/x-python",
   "name": "python",
   "nbconvert_exporter": "python",
   "pygments_lexer": "ipython3",
   "version": "3.10.11"
  }
 },
 "nbformat": 4,
 "nbformat_minor": 5
}
