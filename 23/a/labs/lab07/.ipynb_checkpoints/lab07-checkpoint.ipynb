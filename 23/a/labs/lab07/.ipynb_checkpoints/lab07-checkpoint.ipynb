{
 "cells": [
  {
   "cell_type": "raw",
   "id": "17fb9fe5-8adb-45ba-907f-69687867272e",
   "metadata": {},
   "source": [
    "# ASSIGNMENT CONFIG"
   ]
  },
  {
   "cell_type": "markdown",
   "id": "a6582a4e-2e2c-4798-bc8b-45ddaf4d1995",
   "metadata": {},
   "source": [
    "## Lab 07: Modeling and Estimation with Loss Functions\n",
    "\n",
    "Welcome to Advanced Topics in Data Science for High School! Throughout the course you will complete assignments like this one. You can't learn technical subjects without hands-on practice, so these assignments are an important part of the course.\n",
    "\n",
    "**Collaboration Policy:**\n",
    "\n",
    "Collaborating on labs is more than okay -- it's encouraged! You should rarely remain stuck for more than a few minutes on questions in labs, so ask a neighbor or an instructor for help. Explaining things is beneficial, too -- the best way to solidify your knowledge of a subject is to explain it. You should **not** _just_ copy/paste someone else's code, but rather work together to gain understanding of the task you need to complete. \n",
    "\n",
    "**Due Date:**\n",
    "\n",
    "## Today's Assignment \n",
    "\n",
    "In today's assignment, you'll learn about:\n",
    "\n",
    "* mean loss functions\n",
    "\n",
    "* absolute loss functions\n",
    "\n",
    "First, set up the imports by running the cell below."
   ]
  },
  {
   "cell_type": "code",
   "execution_count": 2,
   "id": "867c6abd-1934-45a9-9cfb-9d9095b5ba09",
   "metadata": {
    "tags": []
   },
   "outputs": [],
   "source": [
    "import pandas as pd\n",
    "import numpy as np\n",
    "import seaborn as sns\n",
    "\n",
    "%matplotlib inline\n",
    "import matplotlib.pyplot as plt"
   ]
  },
  {
   "cell_type": "markdown",
   "id": "85e193f2-247f-40e2-85ae-7f608365ea0f",
   "metadata": {},
   "source": [
    "## 1. Loading the Tips Dataset\n",
    "\n",
    "To begin with, we load the `tips` dataset from the `seaborn` library.  The `tips` data contains records of tips, total bill, and information about the person who paid the bill."
   ]
  },
  {
   "cell_type": "code",
   "execution_count": 3,
   "id": "c5cfb35f-66de-4fbf-b275-003cede111f0",
   "metadata": {
    "tags": []
   },
   "outputs": [
    {
     "data": {
      "text/html": [
       "<div>\n",
       "<style scoped>\n",
       "    .dataframe tbody tr th:only-of-type {\n",
       "        vertical-align: middle;\n",
       "    }\n",
       "\n",
       "    .dataframe tbody tr th {\n",
       "        vertical-align: top;\n",
       "    }\n",
       "\n",
       "    .dataframe thead th {\n",
       "        text-align: right;\n",
       "    }\n",
       "</style>\n",
       "<table border=\"1\" class=\"dataframe\">\n",
       "  <thead>\n",
       "    <tr style=\"text-align: right;\">\n",
       "      <th></th>\n",
       "      <th>total_bill</th>\n",
       "      <th>tip</th>\n",
       "      <th>sex</th>\n",
       "      <th>smoker</th>\n",
       "      <th>day</th>\n",
       "      <th>time</th>\n",
       "      <th>size</th>\n",
       "    </tr>\n",
       "  </thead>\n",
       "  <tbody>\n",
       "    <tr>\n",
       "      <th>0</th>\n",
       "      <td>16.99</td>\n",
       "      <td>1.01</td>\n",
       "      <td>Female</td>\n",
       "      <td>No</td>\n",
       "      <td>Sun</td>\n",
       "      <td>Dinner</td>\n",
       "      <td>2</td>\n",
       "    </tr>\n",
       "    <tr>\n",
       "      <th>1</th>\n",
       "      <td>10.34</td>\n",
       "      <td>1.66</td>\n",
       "      <td>Male</td>\n",
       "      <td>No</td>\n",
       "      <td>Sun</td>\n",
       "      <td>Dinner</td>\n",
       "      <td>3</td>\n",
       "    </tr>\n",
       "    <tr>\n",
       "      <th>2</th>\n",
       "      <td>21.01</td>\n",
       "      <td>3.50</td>\n",
       "      <td>Male</td>\n",
       "      <td>No</td>\n",
       "      <td>Sun</td>\n",
       "      <td>Dinner</td>\n",
       "      <td>3</td>\n",
       "    </tr>\n",
       "    <tr>\n",
       "      <th>3</th>\n",
       "      <td>23.68</td>\n",
       "      <td>3.31</td>\n",
       "      <td>Male</td>\n",
       "      <td>No</td>\n",
       "      <td>Sun</td>\n",
       "      <td>Dinner</td>\n",
       "      <td>2</td>\n",
       "    </tr>\n",
       "    <tr>\n",
       "      <th>4</th>\n",
       "      <td>24.59</td>\n",
       "      <td>3.61</td>\n",
       "      <td>Female</td>\n",
       "      <td>No</td>\n",
       "      <td>Sun</td>\n",
       "      <td>Dinner</td>\n",
       "      <td>4</td>\n",
       "    </tr>\n",
       "  </tbody>\n",
       "</table>\n",
       "</div>"
      ],
      "text/plain": [
       "   total_bill   tip     sex smoker  day    time  size\n",
       "0       16.99  1.01  Female     No  Sun  Dinner     2\n",
       "1       10.34  1.66    Male     No  Sun  Dinner     3\n",
       "2       21.01  3.50    Male     No  Sun  Dinner     3\n",
       "3       23.68  3.31    Male     No  Sun  Dinner     2\n",
       "4       24.59  3.61  Female     No  Sun  Dinner     4"
      ]
     },
     "execution_count": 3,
     "metadata": {},
     "output_type": "execute_result"
    }
   ],
   "source": [
    "df = sns.load_dataset(\"tips\")\n",
    "df.head()"
   ]
  },
  {
   "cell_type": "markdown",
   "id": "f71afed7-bc43-4261-ad06-7e1145d3200a",
   "metadata": {},
   "source": [
    "## 2. The Constant Model and Loss Functions\n",
    "\n",
    "### Constant Model\n",
    "\n",
    "In the modeling context, $y$ represents our \"true observations\", which are typically what we are trying to model. $\\hat{y}$ (pronounced y \"hat\") represents our prediction for any model. In this lab, we will use the constant model, where our prediction for any input is a constant:\n",
    "\n",
    "$$\\hat{y} = \\theta$$\n",
    "\n",
    "$\\theta$ is what we call a **parameter**. Our goal is to find the value of our parameter that **best fits our data**. We represent the optimal parameter with $\\hat{\\theta}$.\n",
    "\n",
    "We call the constant model a **summary statistic**, as we are determining one number that best \"summarizes\" a set of values.\n",
    "\n",
    "### Loss Functions\n",
    "\n",
    "Loss functions are what we use to determine the optimal parameter for our model. A loss function is a measure of how well a model is able to predict the expected outcome. In other words, it measures the deviations of the predicted values from the observed values. In the formulations below $y$ represents the observed values and $\\theta$ stands for our prediction.\n",
    "\n",
    "- **Absolute Loss** (also known as the $L_1$ loss, pronounced \"ell-two\") is $L_1\\left(\\theta, y \\right) =  \\left| y -\\theta \\right|$\n",
    "\n",
    "- **Squared Loss** (also known as the $L_2$ loss, pronounced \"ell-two\") is $L_2(\\theta, y) = (y - \\theta)^2$"
   ]
  },
  {
   "cell_type": "raw",
   "id": "2a4fa526-9e8f-48b1-b933-11438dc09da0",
   "metadata": {},
   "source": [
    "# BEGIN QUESTION\n",
    "name: q1\n",
    "manual: true"
   ]
  },
  {
   "cell_type": "markdown",
   "id": "3fe36c6e-65d7-4164-9515-04706286b679",
   "metadata": {},
   "source": [
    "### Squared Loss Function\n",
    "\n",
    "$$L\\left(\\theta , y \\right)=\\left(y- \\theta \\right)^2$$\n"
   ]
  },
  {
   "cell_type": "markdown",
   "id": "4735c3e3-7539-4d72-9357-1aee98621bc5",
   "metadata": {},
   "source": [
    "**Question 1.** Based on the comments in the document string in the function below, implement the squared loss function on the constant model $\\hat{y}=\\theta$. \n",
    "\n",
    "**Note:** Your answer should not use any loops.\n"
   ]
  },
  {
   "cell_type": "raw",
   "id": "75be158d-2eae-4829-af93-5be6f68ffc6e",
   "metadata": {},
   "source": [
    "# BEGIN SOLUTION"
   ]
  },
  {
   "cell_type": "code",
   "execution_count": 5,
   "id": "4ab55abf-54d2-4c65-bcdb-10fda94df031",
   "metadata": {
    "tags": []
   },
   "outputs": [],
   "source": [
    "def squared_loss(y_i, theta):\n",
    "    \"\"\"\n",
    "    Purpose\n",
    "    -------\n",
    "    Calculate the squared loss of the observed data\n",
    "    \n",
    "    Parameters\n",
    "    ----------\n",
    "    y_i: An array of observed values\n",
    "    theta: A constant representing a summary statistic\n",
    "    \n",
    "    Returns\n",
    "    -------\n",
    "    The squared loss between the observation and the summary statistic\n",
    "    \"\"\"\n",
    "    return (y_i-theta)**2 # SOLUTION"
   ]
  },
  {
   "cell_type": "raw",
   "id": "949b59bb-a7b0-4644-8500-4330f9f0da79",
   "metadata": {},
   "source": [
    "# END SOLUTION"
   ]
  },
  {
   "cell_type": "raw",
   "id": "a09366ff-ee6b-4e49-8061-df90380598bd",
   "metadata": {},
   "source": [
    "# END QUESTION"
   ]
  },
  {
   "cell_type": "markdown",
   "id": "935dfe69-1c0b-445a-bb9d-c200e3002f33",
   "metadata": {},
   "source": [
    "Make sure that you verify that your function (`squared_loss`) is correct before moving on to the next question."
   ]
  },
  {
   "cell_type": "raw",
   "id": "ce3f08e2-71de-436d-82ce-4869f823137d",
   "metadata": {},
   "source": [
    "# BEGIN QUESTION\n",
    "name: q2\n",
    "manual: true"
   ]
  },
  {
   "cell_type": "markdown",
   "id": "05b0adc6-e65c-48f8-a4f8-bd5ed5349c2c",
   "metadata": {},
   "source": [
    "**Question 2.** Let us now consider the case where `theta` equals 10. For arbitrary values of `y_is`, plot the squared loss using the function you implemented in the previous question. Don't forget to label your graph."
   ]
  },
  {
   "cell_type": "raw",
   "id": "78214259-f1cc-4f43-9b68-b0f380587aa3",
   "metadata": {},
   "source": [
    "# BEGIN SOLUTION"
   ]
  },
  {
   "cell_type": "code",
   "execution_count": 9,
   "id": "df555491-064b-426f-95a8-959a07682070",
   "metadata": {
    "tags": []
   },
   "outputs": [
    {
     "data": {
      "image/png": "[encoded data removed]",
      "text/plain": [
       "<Figure size 640x480 with 1 Axes>"
      ]
     },
     "metadata": {},
     "output_type": "display_data"
    }
   ],
   "source": [
    "# BEGIN SOLUTION NO PROMPT\n",
    "# Our choice for theta\n",
    "theta = 10\n",
    "\n",
    "# Array of values for y_i\n",
    "y_is = np.linspace(0, 20, 100)\n",
    "\n",
    "# Plot\n",
    "plt.xlabel(r\"Choice for $\\theta$\")\n",
    "plt.ylabel(r\"Squared Loss\")\n",
    "plt.plot(y_is, squared_loss(y_is, theta));\n",
    "# END SOLUTION\n",
    "\"\"\" # BEGIN PROMPT\n",
    "# Our choice for theta\n",
    "theta = ...\n",
    "\n",
    "# Array of values for y_i\n",
    "y_is = np.linspace(0, 20, 100)\n",
    "\n",
    "# Plot\n",
    "plt.xlabel(...)\n",
    "plt.ylabel(...)\n",
    "plt.plot(..., ...);\n",
    "\"\"\"; # END PROMPT"
   ]
  },
  {
   "cell_type": "raw",
   "id": "222ff022-abe6-4502-b6c4-22b16f90a205",
   "metadata": {},
   "source": [
    "# END SOLUTION"
   ]
  },
  {
   "cell_type": "raw",
   "id": "160caa20-cc36-430c-b624-e1c11e162a91",
   "metadata": {},
   "source": [
    "# END QUESTION"
   ]
  },
  {
   "cell_type": "markdown",
   "id": "93d70208-371c-4b21-aed8-e377bc4a1e3e",
   "metadata": {},
   "source": [
    "You should notice that the value of $\\theta$ is the mean of the `y_is` array. It is the location of vertex of a parabola that is concave up. \n",
    "\n",
    "Run the cell below to verify. "
   ]
  },
  {
   "cell_type": "code",
   "execution_count": 10,
   "id": "59bd0334-e88f-46b7-9e49-d19c4fac5028",
   "metadata": {
    "tags": []
   },
   "outputs": [
    {
     "data": {
      "text/plain": [
       "10.0"
      ]
     },
     "execution_count": 10,
     "metadata": {},
     "output_type": "execute_result"
    }
   ],
   "source": [
    "np.mean(y_is)"
   ]
  },
  {
   "cell_type": "markdown",
   "id": "402914f7-4b35-46e5-94c6-6147dc2d286d",
   "metadata": {},
   "source": [
    "### Average Loss\n",
    "\n",
    "Our main concern is how \"good\" or how \"bad\" the model's predictions are for an entire data set, not just one observation. The average loss of a model \n",
    "\n",
    "$$\\frac{1}{n}\\sum\\limits_{i=1}^n L(\\theta, y_i)$$ \n",
    "\n",
    "is a measure of how well the model \"fits\" the data. \n",
    "\n",
    "If squared loss is the loss function, then the average squared loss is referred to as mean squared error (MSE), and is of the following form \n",
    "\n",
    "$$\\text{MSE}(\\theta, y)=\\frac{1}{n}\\sum\\limits_{i=1}^n (y_i-\\theta)^2$$\n",
    "\n",
    "If absolute loss is the loss function, then the average absolute loss is referred to as mean absolute error (MAE), and is of the following form \n",
    "\n",
    "$$\\text{MAE}(\\theta, y)=\\frac{1}{n}\\sum\\limits_{i=1}^n |y_i-\\theta|$$\n",
    "\n",
    "where \n",
    "\n",
    "- $n$:      Number of data values.\n",
    "\n",
    "- $i$:      $i$th value in a data set.\n",
    "\n",
    "- $y_i$:    Value for $i$th datum.\n",
    "\n",
    "- $\\theta$: A constant representing a summary statistic."
   ]
  },
  {
   "cell_type": "markdown",
   "id": "b9fa4646-6ea2-49aa-9141-eec7e5d9bbb7",
   "metadata": {},
   "source": [
    "Let's apply our knowledge to some real world data. In section **Loading the Tips Dataset** we loaded the `tips` dataset from the `seaborn` package.\n",
    "\n",
    "In this section, you will try to find the best summary statistic $\\hat \\theta$ to represent the tips given in the array. The simple procedure you will use in this lab includes constructing the mean squared error (MSE) for the tips data and finding the value that minimizes the MSE."
   ]
  },
  {
   "cell_type": "raw",
   "id": "e40945ae-7fd3-4b02-902f-cfeedd8653fd",
   "metadata": {},
   "source": [
    "# BEGIN QUESTION\n",
    "name: q3"
   ]
  },
  {
   "cell_type": "markdown",
   "id": "f3a888f6-6424-4d17-b761-f5d668857a6d",
   "metadata": {},
   "source": [
    "**Question 3.** Make a `NumPy` array named `tips` using the `tip` column from the `df` dataframe that was loaded in section entitled **Loading the Tips Dataset**. "
   ]
  },
  {
   "cell_type": "raw",
   "id": "6c38e95d-e19b-4d79-bed6-b7cbb40a4304",
   "metadata": {},
   "source": [
    "# BEGIN SOLUTION"
   ]
  },
  {
   "cell_type": "code",
   "execution_count": 15,
   "id": "6833dd74-1756-43ea-b7a0-e3e7565beb77",
   "metadata": {
    "tags": []
   },
   "outputs": [],
   "source": [
    "tips = df['tip'].to_numpy() # SOLUTION"
   ]
  },
  {
   "cell_type": "raw",
   "id": "31f19167-dcf9-4143-a707-6c3d904584e3",
   "metadata": {},
   "source": [
    "# END SOLUTION"
   ]
  },
  {
   "cell_type": "raw",
   "id": "168d574e-53fd-4267-b1a3-819a1565a8e1",
   "metadata": {},
   "source": [
    "# BEGIN TESTS"
   ]
  },
  {
   "cell_type": "code",
   "execution_count": 16,
   "id": "1cf6ae1f-f4a1-4524-9a50-c930789e2b49",
   "metadata": {
    "tags": []
   },
   "outputs": [
    {
     "data": {
      "text/plain": [
       "244"
      ]
     },
     "execution_count": 16,
     "metadata": {},
     "output_type": "execute_result"
    }
   ],
   "source": [
    "len(tips)"
   ]
  },
  {
   "cell_type": "code",
   "execution_count": 17,
   "id": "3cd912bb-fdb3-456a-9bb2-6f6971104a48",
   "metadata": {
    "tags": []
   },
   "outputs": [
    {
     "data": {
      "text/plain": [
       "733.0"
      ]
     },
     "execution_count": 17,
     "metadata": {},
     "output_type": "execute_result"
    }
   ],
   "source": [
    "np.sum(np.round(tips))"
   ]
  },
  {
   "cell_type": "code",
   "execution_count": 18,
   "id": "56913994-5403-4957-b926-406fca2038ba",
   "metadata": {
    "tags": []
   },
   "outputs": [
    {
     "data": {
      "text/plain": [
       "True"
      ]
     },
     "execution_count": 18,
     "metadata": {},
     "output_type": "execute_result"
    }
   ],
   "source": [
    "isinstance(tips, np.ndarray)"
   ]
  },
  {
   "cell_type": "raw",
   "id": "096c3f44-0da2-4b38-a27f-f8851290f169",
   "metadata": {},
   "source": [
    "# END TESTS"
   ]
  },
  {
   "cell_type": "raw",
   "id": "3c65d724-5112-452b-b786-b3c107980bdb",
   "metadata": {},
   "source": [
    "# END QUESTION"
   ]
  },
  {
   "cell_type": "markdown",
   "id": "20fca759-962e-4238-adfb-73a20c5f59e3",
   "metadata": {},
   "source": [
    "Now, we can extend the above loss functions to an entire dataset by taking the average. Let the dataset $D$ be the set of observations:\n",
    "\n",
    "$$D = \\{y_1, \\ldots, y_n\\}$$\n",
    "\n",
    "where $y_i$ is the $i^{\\text{th}}$ tip.\n",
    "\n",
    "We can define the average loss over the dataset as:\n",
    "\n",
    "$$L\\left(\\theta, y\\right)=\\frac{1}{n} \\sum_{i=1}^n l(\\theta, y_i)$$"
   ]
  },
  {
   "cell_type": "raw",
   "id": "57448daf-b5ee-4342-b57b-5d286ec8ee17",
   "metadata": {},
   "source": [
    "# BEGIN QUESTION\n",
    "name: q4\n",
    "manual: true"
   ]
  },
  {
   "cell_type": "markdown",
   "id": "f1f1bd2e-9a7d-40cf-af9f-ea7fa1696bc9",
   "metadata": {},
   "source": [
    "**Question 4.** Define the `mean_squared_error` function which computes the mean squared error given the data as an array and a value for `theta`. \n",
    "\n",
    "**Note:** Assume that `data` will be a `NumPy` array."
   ]
  },
  {
   "cell_type": "raw",
   "id": "d3dcddfb-b81d-4fbc-8111-a74ff648efe4",
   "metadata": {},
   "source": [
    "# BEGIN SOLUTION"
   ]
  },
  {
   "cell_type": "code",
   "execution_count": 20,
   "id": "ce0c8937-5b32-4e01-b099-1a7db60e24ca",
   "metadata": {
    "tags": []
   },
   "outputs": [],
   "source": [
    "def mean_squared_error(data, theta):\n",
    "    \"\"\"\n",
    "    Purpose\n",
    "    -------\n",
    "    Calculate the mean square error\n",
    "    \n",
    "    Parameters\n",
    "    ----------\n",
    "    data:  An array of data values\n",
    "    theta: A constant representing a summary statistic\n",
    "    \n",
    "    Returns\n",
    "    -------\n",
    "    The value of the mean square error\n",
    "    \"\"\"\n",
    "    return squared_loss(data, theta).mean() # SOLUTION"
   ]
  },
  {
   "cell_type": "raw",
   "id": "4115d3ec-d15f-4d67-8478-f4bff26e961c",
   "metadata": {},
   "source": [
    "# END SOLUTION"
   ]
  },
  {
   "cell_type": "raw",
   "id": "efcd808f-e77d-4378-bb69-0c22079d6087",
   "metadata": {},
   "source": [
    "# END QUESTION"
   ]
  },
  {
   "cell_type": "raw",
   "id": "c0f114fd-7019-4083-a4cb-e07dc13e99f0",
   "metadata": {},
   "source": [
    "# BEGIN QUESTION\n",
    "name: q5\n",
    "manual: true"
   ]
  },
  {
   "cell_type": "markdown",
   "id": "bbb9ce33-a163-4720-8b5d-3c8d119c6935",
   "metadata": {},
   "source": [
    "**Question 5.** Choose three values for $\\theta$. Then use the `mean_squared_error` function with the `tips` data to see which of your choices for $\\theta$ has the least loss."
   ]
  },
  {
   "cell_type": "raw",
   "id": "2bf80103-32e1-4116-9ee8-86834c4a5781",
   "metadata": {},
   "source": [
    "# BEGIN SOLUTION"
   ]
  },
  {
   "cell_type": "code",
   "execution_count": 21,
   "id": "b87cc5b3-ecb4-43fa-bf6c-d9cddb11e9cf",
   "metadata": {
    "tags": []
   },
   "outputs": [
    {
     "name": "stdout",
     "output_type": "stream",
     "text": [
      "The loss for theta_1 is 1.916955737704918\n",
      "The loss for theta_1 is 2.910054098360656\n",
      "The loss for theta_1 is 5.913496721311476\n"
     ]
    }
   ],
   "source": [
    "# BEGIN SOLUTION NO PROMPT\n",
    "theta_1 = 3.1\n",
    "theta_2 = 4\n",
    "theta_3 = 5\n",
    "# END SOLUTION\n",
    "\"\"\" # BEGIN PROMPT\n",
    "# Our choice for theta\n",
    "theta_1 = ...\n",
    "theta_2 = ...\n",
    "theta_3 = ...\n",
    "\"\"\"; # END PROMPT\n",
    "print(\"The loss for theta_1 is\", mean_squared_error(tips, theta_1))\n",
    "print(\"The loss for theta_1 is\", mean_squared_error(tips, theta_2))\n",
    "print(\"The loss for theta_1 is\", mean_squared_error(tips, theta_3))"
   ]
  },
  {
   "cell_type": "raw",
   "id": "25abc0e3-fb47-454d-8213-5a0e24fae571",
   "metadata": {},
   "source": [
    "# END SOLUTION"
   ]
  },
  {
   "cell_type": "raw",
   "id": "c2c300bd-9ef1-4d8b-9e04-eeab86921ee9",
   "metadata": {},
   "source": [
    "# END QUESTION"
   ]
  },
  {
   "cell_type": "raw",
   "id": "786bbcc8-82e7-4382-94b0-56b9593502a0",
   "metadata": {},
   "source": [
    "# BEGIN QUESTION\n",
    "name: q6\n",
    "manual: true"
   ]
  },
  {
   "cell_type": "markdown",
   "id": "e15e12e8-b1d6-40de-a698-712b92b9d355",
   "metadata": {},
   "source": [
    "**Question 6.** Which one of your values for $\\theta$ in the previous question had the least loss? Why do you think this was the case?"
   ]
  },
  {
   "cell_type": "raw",
   "id": "5516a0e2-6669-44dc-8e5c-64f857469940",
   "metadata": {},
   "source": [
    "# BEGIN SOLUTION"
   ]
  },
  {
   "cell_type": "markdown",
   "id": "74df1890-fbee-408c-95dd-e70443b79bec",
   "metadata": {},
   "source": [
    "**SOLUTION:** Answers will vary. The value that is the closest to the mean will has the least loss."
   ]
  },
  {
   "cell_type": "raw",
   "id": "116d325f-bad7-42fa-8f54-064b05f33e61",
   "metadata": {},
   "source": [
    "# END SOLUTION"
   ]
  },
  {
   "cell_type": "raw",
   "id": "d6cc7a3f-3e61-4bf7-967a-c6faa7381f5e",
   "metadata": {},
   "source": [
    "# END QUESTION"
   ]
  },
  {
   "cell_type": "markdown",
   "id": "c6a871ab-3d11-4db8-825a-8c532001f7b9",
   "metadata": {},
   "source": [
    "In the cell below we plot the mean square error for different $\\theta$ values on the `tips` dataset. You should save your mean squared error estimates in a list named `mse`.\n",
    "\n",
    "**Note:** The `theta_values` are given. Make sure to label the axes on your plot."
   ]
  },
  {
   "cell_type": "code",
   "execution_count": 26,
   "id": "b6926afd-2bb6-48ad-b487-22bdc21f6c19",
   "metadata": {
    "tags": []
   },
   "outputs": [
    {
     "data": {
      "image/png": "[encoded data removed]",
      "text/plain": [
       "<Figure size 640x480 with 1 Axes>"
      ]
     },
     "metadata": {},
     "output_type": "display_data"
    }
   ],
   "source": [
    "theta_values = np.linspace(1, 5, 100)\n",
    "mse = [mean_squared_error(tips, t) for t in theta_values] \n",
    "\n",
    "plt.xlabel(r\"Choice for $\\theta$\")\n",
    "plt.ylabel(r\"Mean Square Error\")\n",
    "plt.plot(theta_values, mse);"
   ]
  },
  {
   "cell_type": "markdown",
   "id": "b8c2a656-67f0-4124-96f4-c19d654e6dee",
   "metadata": {},
   "source": [
    "You should notice that the minimum value of MSE looks like it occurs somewhere around 3, the average of the `tips` dataset."
   ]
  },
  {
   "cell_type": "markdown",
   "id": "93c7f3d6-d9f5-427c-a683-6187e36ea1b1",
   "metadata": {},
   "source": [
    "### Find the Minimizing Value for Our Tips Dataset\n",
    "\n",
    "The cell below plots some arbitrary 4$^\\text{th}$ degree polynomial function. "
   ]
  },
  {
   "cell_type": "code",
   "execution_count": 28,
   "id": "fc376eca-ed3c-4f28-aab3-67d83969f020",
   "metadata": {
    "tags": []
   },
   "outputs": [
    {
     "data": {
      "image/png": "[encoded data removed]",
      "text/plain": [
       "<Figure size 640x480 with 1 Axes>"
      ]
     },
     "metadata": {},
     "output_type": "display_data"
    }
   ],
   "source": [
    "x_values = np.linspace(-4, 2.5, 100)\n",
    "\n",
    "def fx(x):\n",
    "    return 0.1 * x**4 + 0.2*x**3 + 0.2 * x **2 + 1 * x + 10\n",
    "\n",
    "plt.plot(x_values, fx(x_values));"
   ]
  },
  {
   "cell_type": "markdown",
   "id": "e8dc0a5a-cc5f-491e-bdfd-c42e7aff85db",
   "metadata": {},
   "source": [
    "By looking at the plot, we see that the $x$ which minimizes the function is slightly larger than $-2$. What if we want the exact value?\n",
    "\n",
    "[The function `minimize` from `scipy.optimize`](https://docs.scipy.org/doc/scipy/reference/generated/scipy.optimize.minimize.html) will attempt to minimize a function. Run the cell below to verify that minimize seems to get the answer correct.\n",
    "\n",
    "**Note:** For this lab, we'll just use the `minimize` function. We'll discuss how `minimize` works later in the course."
   ]
  },
  {
   "cell_type": "code",
   "execution_count": 29,
   "id": "9c4b32f4-7fba-43be-a6b0-9a0cf1d1eb90",
   "metadata": {
    "tags": []
   },
   "outputs": [
    {
     "data": {
      "text/plain": [
       "  message: Optimization terminated successfully.\n",
       "  success: True\n",
       "   status: 0\n",
       "      fun: 8.728505719866614\n",
       "        x: [-1.747e+00]\n",
       "      nit: 6\n",
       "      jac: [ 1.192e-07]\n",
       " hess_inv: [[ 5.088e-01]]\n",
       "     nfev: 16\n",
       "     njev: 8"
      ]
     },
     "execution_count": 29,
     "metadata": {},
     "output_type": "execute_result"
    }
   ],
   "source": [
    "from scipy.optimize import minimize\n",
    "minimize(fx, x0 = 1.1)"
   ]
  },
  {
   "cell_type": "markdown",
   "id": "5b88d91e-0e10-4761-9e23-7331aa1a3193",
   "metadata": {},
   "source": [
    "The `fun` value is the minimum value of the function. The `x` is the $x$ which minimizes the function. We can index into the object returned by `minimize` to get these values. We have to add the additional `[0]` at the end because the minimizing $x$ is returned as an array, but this is not necessarily the case for other attributes (i.e., `fun`). The reason for this is that `minimize` can also minimize multivariable functions.\n",
    "\n",
    "The parameter `x0` that we passed to the `minimize` function is where the `minimize` function starts looking as it tries to find the minimum. For example, above, `minimize` started its search at $x = 1.1$ because that's where we told it to start. For the function above, it doesn't really matter what $x$ we start at because the function has only a single global minimum. More technically, the function is [convex](https://en.wikipedia.org/wiki/Convex_function), a property of functions that we will discuss later in the course.\n",
    "\n",
    "Alas, `minimize` isn't perfect. For example, if we give it a function with many valleys (also known as local minima) it can get stuck. For example, consider the function below:"
   ]
  },
  {
   "cell_type": "code",
   "execution_count": 30,
   "id": "7e1f259c-d411-4738-b196-b5bc49bff11d",
   "metadata": {
    "tags": []
   },
   "outputs": [
    {
     "data": {
      "image/png": "[encoded data removed]",
      "text/plain": [
       "<Figure size 640x480 with 1 Axes>"
      ]
     },
     "metadata": {},
     "output_type": "display_data"
    }
   ],
   "source": [
    "w_values = np.linspace(-2, 10, 100)\n",
    "\n",
    "def fw(w):\n",
    "    return 0.1 * w**4 - 1.5*w**3 + 6 * w **2 - 1 * w + 10\n",
    "\n",
    "plt.plot(w_values, fw(w_values));"
   ]
  },
  {
   "cell_type": "markdown",
   "id": "6a4c97a5-1a29-4121-9513-f10d66236f45",
   "metadata": {},
   "source": [
    "If we start the minimization at $w = 6.5$, we'll get stuck in the local minimum at $w = 7.03$. \n",
    "\n",
    "**Note:** No matter what your actual variable is called in your function, the `minimize` routine still calls the starting point `x0`."
   ]
  },
  {
   "cell_type": "code",
   "execution_count": 31,
   "id": "cda2d0d4-ba19-4827-b249-23296d7a61ac",
   "metadata": {
    "tags": []
   },
   "outputs": [
    {
     "data": {
      "text/plain": [
       "7.037746237773732"
      ]
     },
     "execution_count": 31,
     "metadata": {},
     "output_type": "execute_result"
    }
   ],
   "source": [
    "minimize(fw, x0 = 6.5)['x'][0]"
   ]
  },
  {
   "cell_type": "markdown",
   "id": "351da95d-7a19-4fc8-84ae-1438f8a0063c",
   "metadata": {},
   "source": [
    "If we start the minimization at $w = 0.5$ or $w=-0.5$, we'll get stuck in the local minimum at $w = 0.08$. "
   ]
  },
  {
   "cell_type": "code",
   "execution_count": 34,
   "id": "27a694c3-0c5d-4863-9592-b44edee7a78b",
   "metadata": {
    "tags": []
   },
   "outputs": [
    {
     "data": {
      "text/plain": [
       "0.08609151633064765"
      ]
     },
     "execution_count": 34,
     "metadata": {},
     "output_type": "execute_result"
    }
   ],
   "source": [
    "minimize(fw, x0 = 0.5)['x'][0]"
   ]
  },
  {
   "cell_type": "code",
   "execution_count": 35,
   "id": "64b0c53e-1f82-4a95-8f43-6b151ce7467e",
   "metadata": {
    "tags": []
   },
   "outputs": [
    {
     "data": {
      "text/plain": [
       "0.08609146646280208"
      ]
     },
     "execution_count": 35,
     "metadata": {},
     "output_type": "execute_result"
    }
   ],
   "source": [
    "minimize(fw, x0 = -0.5)['x'][0]"
   ]
  },
  {
   "cell_type": "raw",
   "id": "a5a8442a-9706-480b-81d5-d2f4e93965b5",
   "metadata": {},
   "source": [
    "# BEGIN QUESTION\n",
    "name: q7\n",
    "manual: true"
   ]
  },
  {
   "cell_type": "markdown",
   "id": "c3499b46-a0e1-4922-8785-14c60489ba28",
   "metadata": {},
   "source": [
    "**Question 7.** Using the `minimize` function, find the value of `theta` that minimizes the mean squared error for our `tips` dataset. In other words, you want to find the exact minimum of the plot that you generated in **Question 5**.\n",
    "\n",
    "Assign `min_sq_scipy` to the value of $\\theta$ that minimizes the MSE according to the `minimize` function.\n",
    "\n",
    "You can't pass your `mean_squared_error` function to `minimize` because `mean_squared_error` has two variables: $\\theta$ and `data`. `minimize` will get confused because it thinks it needs to minimize by picking the best $\\theta$ and best `data` values. We only want it to use $\\theta$.\n",
    "\n",
    "Therefore, you need to pass a function of one variable, $\\theta$, to the `minimize` function. This means you'll need to create a new function of only **one** variable $\\theta$. In practice this is simple, but it can also be very tricky when you do this for the first time. Make sure to ask for help if you get stuck.\n"
   ]
  },
  {
   "cell_type": "raw",
   "id": "df44fc22-cc1f-4763-9f0f-da84b16f6377",
   "metadata": {},
   "source": [
    "# BEGIN SOLUTION"
   ]
  },
  {
   "cell_type": "code",
   "execution_count": 36,
   "id": "a017f687-0b00-498d-a290-48059dee7d65",
   "metadata": {
    "tags": []
   },
   "outputs": [
    {
     "data": {
      "text/plain": [
       "2.998278691289855"
      ]
     },
     "execution_count": 36,
     "metadata": {},
     "output_type": "execute_result"
    }
   ],
   "source": [
    "def mean_squared_error_with_one_variable(theta):\n",
    "    \"\"\"\n",
    "    Purpose\n",
    "    -------\n",
    "    Calculate the mean square error with one variable\n",
    "    \n",
    "    Parameters\n",
    "    ----------\n",
    "    theta: A constant representing a summary statistic \n",
    "    \n",
    "    Returns\n",
    "    -------\n",
    "    The value of the mean square error.\n",
    "    \"\"\"\n",
    "# BEGIN SOLUTION NO PROMPT\n",
    "    return mean_squared_error(tips, theta) # SOLUTION\n",
    "min_sq_scipy = minimize(mean_squared_error_with_one_variable, x0 = 2.5)['x'][0] \n",
    "# END SOLUTION\n",
    "\"\"\" # BEGIN PROMPT\n",
    "    ...\n",
    "min_sq_scipy = minimize(..., x0 = 2.5)[...][...] \n",
    "\"\"\"; # END PROMPT\n",
    "min_sq_scipy"
   ]
  },
  {
   "cell_type": "raw",
   "id": "b788a9f7-e41a-43fb-8a50-a4a536e57d41",
   "metadata": {},
   "source": [
    "# END SOLUTION"
   ]
  },
  {
   "cell_type": "raw",
   "id": "adf1158d-21a2-440b-b4a0-7a457d5652c8",
   "metadata": {},
   "source": [
    "# END QUESTION"
   ]
  },
  {
   "cell_type": "markdown",
   "id": "efe5d57e-48ea-4d78-82ab-7de086d79f10",
   "metadata": {},
   "source": [
    "Reflecting on the lab so far, we've now seen 3 ways to find the summary statistic $\\hat \\theta$ that minimizes the mean squared error:\n",
    "\n",
    "1. Create a plot of the MSE for the given data array vs. $\\theta$ and eyeball the minimizing $\\hat \\theta$.\n",
    "\n",
    "2. Create a function that returns the MSE for a specific data array as a function of $\\theta$ and use the scipy `minimize` function to find the exact $\\hat \\theta$ which minimizes this function.\n",
    "\n",
    "3. Simply compute the `mean` of the data array.\n",
    "\n",
    "At this point, you've hopefully convinced yourself that the `mean` of the data is the summary statistic that minimizes mean squared error."
   ]
  },
  {
   "cell_type": "markdown",
   "id": "1ef0d54d-baaa-4da6-8b56-3a42ff7c4610",
   "metadata": {},
   "source": [
    "### Absolute Loss Function \n",
    "\n",
    "$$L\\left(\\theta, y \\right) = \\left| y - \\theta \\right|$$\n",
    "\n",
    "In this section, you will follow the exact same steps as above but for the absolute loss function."
   ]
  },
  {
   "cell_type": "raw",
   "id": "b2140b6b-2b6d-40a2-ba54-54e5a6143746",
   "metadata": {},
   "source": [
    "# BEGIN QUESTION\n",
    "name: 8\n",
    "manual: true"
   ]
  },
  {
   "cell_type": "markdown",
   "id": "8aaf26f4-ba76-4805-baff-004262df7daf",
   "metadata": {},
   "source": [
    "**Question 8.** In the cell below define the function `abs_loss` which returns the absolute loss given a value of $\\theta$ and `y_i`. "
   ]
  },
  {
   "cell_type": "raw",
   "id": "02c25895-4969-41be-b513-b086fa108f32",
   "metadata": {},
   "source": [
    "# BEGIN SOLUTION"
   ]
  },
  {
   "cell_type": "code",
   "execution_count": 37,
   "id": "065f29d0-0067-451c-a113-309546eda519",
   "metadata": {
    "tags": []
   },
   "outputs": [],
   "source": [
    "def abs_loss(y_i, theta):\n",
    "    \"\"\"\n",
    "    Purpose\n",
    "    -------\n",
    "    Calculate the absolute loss of the observed data\n",
    "    \n",
    "    Parameters\n",
    "    ----------\n",
    "    y_i: an observed value\n",
    "    theta: A constant representing a summary statistic\n",
    "    \n",
    "    Returns\n",
    "    -------\n",
    "    The absolute loss between the observation and the summary statistic\n",
    "    \"\"\"\n",
    "    return np.abs(y_i - theta) # SOLUTION"
   ]
  },
  {
   "cell_type": "raw",
   "id": "6d0be3c4-18f8-4478-9f4b-fdf75f44e9ff",
   "metadata": {},
   "source": [
    "# END SOLUTION"
   ]
  },
  {
   "cell_type": "raw",
   "id": "e84c076a-4a92-4676-86a4-6db4f0829491",
   "metadata": {},
   "source": [
    "# END QUESTION"
   ]
  },
  {
   "cell_type": "raw",
   "id": "78309a24-5e44-4510-b8b3-564bd5fb578b",
   "metadata": {},
   "source": [
    "# BEGIN QUESTION\n",
    "name: 9\n",
    "manual: true"
   ]
  },
  {
   "cell_type": "markdown",
   "id": "5fa6916a-a451-451a-ac2e-1f890d02284c",
   "metadata": {},
   "source": [
    "**Question 9.** Let's now consider the case where `theta` equals 10. For arbitrary values of `y_is`, plot the absolute loss using the function you implemented in the previous question. Don't forget to label your graph."
   ]
  },
  {
   "cell_type": "raw",
   "id": "276b3ad1-8303-4ba2-8a5e-7e456eac2e1e",
   "metadata": {},
   "source": [
    "# BEGIN SOLUTION"
   ]
  },
  {
   "cell_type": "code",
   "execution_count": 38,
   "id": "99c25900-1a79-4cd8-ae28-733f189a68f6",
   "metadata": {
    "tags": []
   },
   "outputs": [
    {
     "data": {
      "image/png": "[encoded data removed]",
      "text/plain": [
       "<Figure size 640x480 with 1 Axes>"
      ]
     },
     "metadata": {},
     "output_type": "display_data"
    }
   ],
   "source": [
    "# BEGIN SOLUTION NO PROMPT\n",
    "# Our choice for theta\n",
    "theta = 10\n",
    "\n",
    "# Array of values for y_i\n",
    "y_is = np.linspace(0, 20, 100)\n",
    "\n",
    "# Plot\n",
    "plt.xlabel(r\"Choice for $c$\")\n",
    "plt.ylabel(r\"Absolute Loss\")\n",
    "plt.plot(y_is, abs_loss(y_is, theta));\n",
    "# END SOLUTION\n",
    "\"\"\" # BEGIN PROMPT\n",
    "# Our choice for theta\n",
    "theta = ...\n",
    "\n",
    "# Array of values for y_i\n",
    "y_is = np.linspace(0, 20, 100)\n",
    "\n",
    "# Plot\n",
    "plt.xlabel(...)\n",
    "plt.ylabel(...)\n",
    "plt.plot(..., ...);\n",
    "\"\"\"; # END PROMPT"
   ]
  },
  {
   "cell_type": "raw",
   "id": "ac6ea54c-d525-49ab-940d-38537b692e2e",
   "metadata": {},
   "source": [
    "# END SOLUTION"
   ]
  },
  {
   "cell_type": "raw",
   "id": "8a90d036-6604-465e-b551-775270be12e6",
   "metadata": {},
   "source": [
    "# END QUESTION"
   ]
  },
  {
   "cell_type": "raw",
   "id": "2ef12046-20b1-422f-9674-292e5c0d2a94",
   "metadata": {},
   "source": [
    "# BEGIN QUESTION\n",
    "name: q10\n",
    "manual: true"
   ]
  },
  {
   "cell_type": "markdown",
   "id": "1e8361c6-85e5-4467-ba6c-0c5677043597",
   "metadata": {},
   "source": [
    "**Question 10.** Define the `mean_absolute_error` function which computes the mean absolute error given the data as an array and a value for `theta`. \n",
    "\n",
    "**Note:** Assume that `data` will be a `NumPy` array."
   ]
  },
  {
   "cell_type": "raw",
   "id": "b068f870-bc7f-4145-aacb-474c955f7ac9",
   "metadata": {},
   "source": [
    "# BEGIN SOLUTION"
   ]
  },
  {
   "cell_type": "code",
   "execution_count": 39,
   "id": "51183dfb-709b-43d2-a24e-f9c0d360e863",
   "metadata": {
    "tags": []
   },
   "outputs": [],
   "source": [
    "def mean_absolute_error(data, theta):\n",
    "    \"\"\"\n",
    "    Purpose\n",
    "    -------\n",
    "    Calculate the mean absolute error\n",
    "    \n",
    "    Parameters\n",
    "    ----------\n",
    "    data:  An array of data values\n",
    "    theta: A constant representing a summary statistic\n",
    "    \n",
    "    Returns\n",
    "    -------\n",
    "    The value of the mean absolute error\n",
    "    \"\"\"\n",
    "    return abs_loss(data, theta).mean() # SOLUTION"
   ]
  },
  {
   "cell_type": "raw",
   "id": "65858724-a900-40d5-96be-bcf5ee0ec901",
   "metadata": {},
   "source": [
    "# END SOLUTION"
   ]
  },
  {
   "cell_type": "raw",
   "id": "106de82d-5d70-475e-9026-cc9a9301faac",
   "metadata": {},
   "source": [
    "# END QUESTION"
   ]
  },
  {
   "cell_type": "raw",
   "id": "7c5e6f35-7338-49f5-9502-e85acf04b53c",
   "metadata": {},
   "source": [
    "# BEGIN QUESTION\n",
    "name: q11\n",
    "manual: true"
   ]
  },
  {
   "cell_type": "markdown",
   "id": "980ac13f-c3d4-4f9b-a684-10d57bf4a6f0",
   "metadata": {},
   "source": [
    "**Question 11.** In the cell below plot the mean absolute error for different $\\theta$ values on the `tips` dataset. You should save your mean absolute error estimates in a list named `mae`.\n",
    "\n",
    "**Note:** The `theta_values` are given. Make sure to label the axes on your plot."
   ]
  },
  {
   "cell_type": "raw",
   "id": "c74740fb-dee8-4463-baa3-3b3d56f2266f",
   "metadata": {},
   "source": [
    "# BEGIN SOLUTION"
   ]
  },
  {
   "cell_type": "code",
   "execution_count": 40,
   "id": "cc326ab7-49e1-4c9f-8a40-c11787a9bffe",
   "metadata": {
    "tags": []
   },
   "outputs": [
    {
     "data": {
      "image/png": "[encoded data removed]",
      "text/plain": [
       "<Figure size 640x480 with 1 Axes>"
      ]
     },
     "metadata": {},
     "output_type": "display_data"
    }
   ],
   "source": [
    "# BEGIN SOLUTION NO PROMPT\n",
    "theta_values = np.linspace(2.7, 3.02, 100)\n",
    "mae = [mean_absolute_error(tips, t) for t in theta_values] \n",
    "\n",
    "plt.xlabel(r\"Choice for $c$\")\n",
    "plt.ylabel(r\"Mean Absolute Error\")\n",
    "plt.plot(theta_values, mae);\n",
    "# END SOLUTION\n",
    "\"\"\" # BEGIN PROMPT\n",
    "# Theta values\n",
    "theta_values = np.linspace(2.7, 3.02, 100\n",
    "\n",
    "# MAE values\n",
    "mae = ... \n",
    "\n",
    "plt.xlabel(r\"Choice for $\\theta$\")\n",
    "plt.ylabel(r\"...\")\n",
    "plt.plot(..., ...);;\n",
    "\"\"\"; # END PROMPT"
   ]
  },
  {
   "cell_type": "raw",
   "id": "67a5114b-d13f-4e41-8170-31c2194c8d31",
   "metadata": {},
   "source": [
    "# END SOLUTION"
   ]
  },
  {
   "cell_type": "raw",
   "id": "dd96ac5d-3fa4-4c65-a9f5-9a8e4d2403a7",
   "metadata": {},
   "source": [
    "# END QUESTION"
   ]
  },
  {
   "cell_type": "markdown",
   "id": "a04bac9f-24da-4844-abd1-ccc3683c2677",
   "metadata": {},
   "source": [
    "You should see that the plot looks somewhat similar the plot of the mean squared error. However, there are three key differences between the plots of the MSE and MAE.\n",
    "\n",
    "1. The minimizing $\\theta$ is different.\n",
    "\n",
    "2. The plot for MAE increases linearly instead of quadratically as we move far away from the minimizing $\\theta$.\n",
    "\n",
    "3. The plot for MAE is piecewise linear instead of smooth. Each change in slope happens at the same $\\theta$ value as a data point in our dataset."
   ]
  },
  {
   "cell_type": "markdown",
   "id": "7abd81dc-c2f1-4831-9753-b8f444cbcae4",
   "metadata": {},
   "source": [
    "### Find the Minimizing Value for the Tips Dataset "
   ]
  },
  {
   "cell_type": "raw",
   "id": "d654e440-de94-48ad-b340-d8cb1940148f",
   "metadata": {},
   "source": [
    "# BEGIN QUESTION\n",
    "name: 12\n",
    "manual: true"
   ]
  },
  {
   "cell_type": "raw",
   "id": "fa45aa7b-5f94-4e34-85d3-f862f0e349a6",
   "metadata": {},
   "source": [
    "# BEGIN SOLUTION"
   ]
  },
  {
   "cell_type": "markdown",
   "id": "8d76978b-c143-4ce0-863f-00d7fd396e60",
   "metadata": {},
   "source": [
    "**Question 12.** As before, we will use the `minimize` function to find a solution. Assign `min_abs_scipy` to the value of $\\theta$ that minimizes the MAE according to the `minimize` function for the `tips` data. \n",
    "\n",
    "**Note:** Depending on the `x0` value you specify, you will get different results."
   ]
  },
  {
   "cell_type": "code",
   "execution_count": 42,
   "id": "d295e221-bb02-4c1e-9219-a431167398f6",
   "metadata": {
    "tags": []
   },
   "outputs": [
    {
     "data": {
      "text/plain": [
       "2.896981371431836"
      ]
     },
     "execution_count": 42,
     "metadata": {},
     "output_type": "execute_result"
    }
   ],
   "source": [
    "def mean_absolute_error_with_one_variable(theta):\n",
    "    \"\"\"\n",
    "    Purpose\n",
    "    -------\n",
    "    Calculate the mean square absolute with one variable\n",
    "    \n",
    "    Parameters\n",
    "    ----------\n",
    "    theta: A constant representing a summary statistic \n",
    "    \n",
    "    Returns\n",
    "    -------\n",
    "    The value of the mean absolute error\n",
    "    \"\"\"\n",
    "# BEGIN SOLUTION NO PROMPT\n",
    "    return mean_absolute_error(tips, theta) # SOLUTION\n",
    "min_abs_scipy = minimize(mean_absolute_error_with_one_variable, x0 = 2.5)['x'][0] \n",
    "# END SOLUTION\n",
    "\"\"\" # BEGIN PROMPT\n",
    "    ...\n",
    "min_abs_scipy = minimize(..., x0 = 2.5)[...][...] \n",
    "\"\"\"; # END PROMPT\n",
    "min_abs_scipy"
   ]
  },
  {
   "cell_type": "raw",
   "id": "0664dd0d-bbf6-4968-a6c1-67154b2d1e3a",
   "metadata": {},
   "source": [
    "# END SOLUTION"
   ]
  },
  {
   "cell_type": "raw",
   "id": "e752f607-d351-40d2-ac7a-055d1aa8804f",
   "metadata": {},
   "source": [
    "# END QUESTION"
   ]
  },
  {
   "cell_type": "markdown",
   "id": "2c8768bc-f184-4c15-a14e-367fcddd70b1",
   "metadata": {},
   "source": [
    "Just like the MSE, there are three ways to compute the summary statistic $\\hat \\theta$ that minimizes the MAE:\n",
    "\n",
    "1. Create a plot of the MAE for the given data array vs. $\\theta$ and eyeball a minimizing $\\hat \\theta$.\n",
    "\n",
    "2. Create a function that returns the MAE for a specific data array as a function of $\\theta$ and use the scipy `minimize` function to find an exact $\\hat \\theta$ which minimizes this function.\n",
    "\n",
    "3. Simply compute the median of the data array."
   ]
  }
 ],
 "metadata": {
  "kernelspec": {
   "display_name": "Python 3 (ipykernel)",
   "language": "python",
   "name": "python3"
  },
  "language_info": {
   "codemirror_mode": {
    "name": "ipython",
    "version": 3
   },
   "file_extension": ".py",
   "mimetype": "text/x-python",
   "name": "python",
   "nbconvert_exporter": "python",
   "pygments_lexer": "ipython3",
   "version": "3.10.11"
  }
 },
 "nbformat": 4,
 "nbformat_minor": 5
}
