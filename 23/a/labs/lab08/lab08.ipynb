{
 "cells": [
  {
   "cell_type": "code",
   "execution_count": null,
   "id": "72074b3c",
   "metadata": {
    "deletable": false,
    "editable": false
   },
   "outputs": [],
   "source": [
    "# Initialize Otter\n",
    "import otter\n",
    "grader = otter.Notebook(\"lab08.ipynb\")"
   ]
  },
  {
   "cell_type": "markdown",
   "id": "ba428703",
   "metadata": {},
   "source": [
    "# Lab 08: Simple Linear Regression\n",
    "\n",
    "Welcome to Advanced Topics in Data Science for High School! Throughout the course you will complete assignments like this one. You can't learn technical subjects without hands-on practice, so these assignments are an important part of the course.\n",
    "\n",
    "**Collaboration Policy:**\n",
    "\n",
    "Collaborating on labs is more than okay -- it's encouraged! You should rarely remain stuck for more than a few minutes on questions in labs, so ask a neighbor or an instructor for help. Explaining things is beneficial, too -- the best way to solidify your knowledge of a subject is to explain it. You should **not** _just_ copy/paste someone else's code, but rather work together to gain understanding of the task you need to complete. \n",
    "\n",
    "**Due Date:**\n",
    "\n",
    "## Today's Assignment \n",
    "\n",
    "In today's assignment, you'll learn about different aspects of linear regression.\n",
    "\n",
    "First, set up the imports by running the cell below."
   ]
  },
  {
   "cell_type": "code",
   "execution_count": null,
   "id": "6937ec06",
   "metadata": {
    "tags": []
   },
   "outputs": [],
   "source": [
    "import pandas as pd\n",
    "import numpy as np\n",
    "\n",
    "%matplotlib inline\n",
    "import matplotlib.pyplot as plt\n",
    "plt.rcParams['figure.figsize'] = (12, 7)\n",
    "plt.rcParams['figure.dpi'] = 100"
   ]
  },
  {
   "cell_type": "markdown",
   "id": "537eedf2",
   "metadata": {},
   "source": [
    "## 1. Standard Units\n",
    "\n",
    "Standard units are a way of putting different kinds of observations on the same scale. The idea is to replace a datum by the number of standard deviations it is above the mean of the data. If a datum is above the mean, its value in standard units is positive; if it is below the mean, its value in standard units is negative. A datum that is above the mean by 2.5 times the standard deviation is 2.5 in standard units.\n",
    "\n",
    "$$\\text{datum in standard units } = \\text{ number of SDs the datum is above the mean } = \\frac{\\text{original datum } - \\text{ mean of original data}}{\\text{SD of original data}}$$\n",
    "\n",
    "When a list is transformed to standard units, the mean of the new list is zero, and the SD of the new list is one: that is what it means for a set of data to be in standard units. Standard units are dimensionless. If the original list has units, the original SD has the same units. To transform a measurement to standard units, we divide the measurement (minus the mean) by the SD, which cancels the original units.\n",
    "\n",
    "If we know the mean and SD of the original data, we can restore a datum that is in standard units to the original units of measurement, as follows:\n",
    "\n",
    "$$\\text{original value }= (\\text{value in standard units}) \\times \\text{ SD } + \\text{ mean}$$"
   ]
  },
  {
   "cell_type": "markdown",
   "id": "c4d36bfd",
   "metadata": {},
   "source": [
    "Let's write a function to standardized the values in a numerical column.\n",
    "\n",
    "Run the cell below."
   ]
  },
  {
   "cell_type": "code",
   "execution_count": null,
   "id": "569b6115",
   "metadata": {
    "tags": []
   },
   "outputs": [],
   "source": [
    "nfl = pd.read_csv(\"data/scores_full.csv\")\n",
    "nfl.head()"
   ]
  },
  {
   "cell_type": "markdown",
   "id": "6b19d97e",
   "metadata": {},
   "source": [
    "Let's examine all the column names."
   ]
  },
  {
   "cell_type": "code",
   "execution_count": null,
   "id": "32c75075",
   "metadata": {
    "tags": []
   },
   "outputs": [],
   "source": [
    "nfl.columns"
   ]
  },
  {
   "cell_type": "markdown",
   "id": "fdc2c7d0",
   "metadata": {},
   "source": [
    "What if we wanted to visualize the distribution of the away team first quarter scores `(AQ1)`. "
   ]
  },
  {
   "cell_type": "markdown",
   "id": "9b99c190",
   "metadata": {},
   "source": [
    "<!-- BEGIN QUESTION -->\n",
    "\n",
    "**Question 1.** Create a histogram for the `AQ1` column."
   ]
  },
  {
   "cell_type": "code",
   "execution_count": null,
   "id": "20ef59fe",
   "metadata": {
    "tags": []
   },
   "outputs": [],
   "source": [
    "..."
   ]
  },
  {
   "cell_type": "markdown",
   "id": "1aba58dd",
   "metadata": {},
   "source": [
    "<!-- END QUESTION -->\n",
    "\n",
    "How many scores are above average? Below average? Where is the average? It would be easier to determine this information from our histogram if we change to standard units. Standard units are a way of putting different kinds of observations on the same scale. The idea is to replace a datum by the number of standard deviations it is above the mean of the data."
   ]
  },
  {
   "cell_type": "markdown",
   "id": "0ec6eb31",
   "metadata": {},
   "source": [
    "**Question 2.** Write a function named `standard_units` that will take in a column from a dataframe and return the standardized values.\n",
    "\n",
    "**Note:** The formula to standardize the values in an 1-dimensional array (or `pandas` Series) is \n",
    "\n",
    "$$z_i = \\frac{x_i - \\text{mean of data}}{\\text{standard deviation of data}}.$$ \n",
    "\n",
    "A $z-$score measures the distance between a data point and the mean using standard deviations. $z-$scores can be positive or negative. The sign tells you whether the observation is above or below the mean."
   ]
  },
  {
   "cell_type": "code",
   "execution_count": null,
   "id": "ca561790",
   "metadata": {
    "tags": []
   },
   "outputs": [],
   "source": [
    "def standard_units(col):\n",
    "    \"\"\"\n",
    "    Purpose\n",
    "    -------\n",
    "    Standardize the values in column\n",
    "    \n",
    "    Parameters\n",
    "    ----------\n",
    "    col: A 1 dimensional numpy array or a column from a dataframe\n",
    "    \n",
    "    \"\"\"\n",
    "    ...\n",
    "\n",
    "standard_units(nfl.AQ1)"
   ]
  },
  {
   "cell_type": "raw",
   "id": "f9c05fd7",
   "metadata": {},
   "source": [
    "# END SOLUTIION"
   ]
  },
  {
   "cell_type": "code",
   "execution_count": null,
   "id": "32f73cfa",
   "metadata": {
    "deletable": false,
    "editable": false
   },
   "outputs": [],
   "source": [
    "grader.check(\"q2\")"
   ]
  },
  {
   "cell_type": "markdown",
   "id": "55763695",
   "metadata": {},
   "source": [
    "Now that we have a function we can call it on any column in the `nfl` dataframe. Choose 3 different numerical columns and standardize the values using the `standard_units` function."
   ]
  },
  {
   "cell_type": "code",
   "execution_count": null,
   "id": "8fea39c9",
   "metadata": {
    "tags": []
   },
   "outputs": [],
   "source": [
    "standard_units(...)"
   ]
  },
  {
   "cell_type": "code",
   "execution_count": null,
   "id": "a9005117",
   "metadata": {
    "tags": []
   },
   "outputs": [],
   "source": [
    "standard_units(...)"
   ]
  },
  {
   "cell_type": "code",
   "execution_count": null,
   "id": "27b2e13f",
   "metadata": {},
   "outputs": [],
   "source": [
    "standard_units(...)"
   ]
  },
  {
   "cell_type": "markdown",
   "id": "c856474c",
   "metadata": {},
   "source": [
    "<!-- BEGIN QUESTION -->\n",
    "\n",
    "**Question 3.** Make a histogram of the standardized values from **Question 2.** \n",
    "\n",
    "**Note:** Use the bins that are provided\n",
    "\n",
    "```\n",
    "bins = [-5, -4, -3, -2, -1, 0, 1, 2, 3, 4, 5]\n",
    "```"
   ]
  },
  {
   "cell_type": "code",
   "execution_count": null,
   "id": "98abf651",
   "metadata": {
    "tags": []
   },
   "outputs": [],
   "source": [
    "bins = [-5, -4, -3, -2, -1, 0, 1, 2, 3, 4, 5]\n",
    "..."
   ]
  },
  {
   "cell_type": "markdown",
   "id": "3ebcc01f",
   "metadata": {},
   "source": [
    "## 2. Correlation Coefficient\n",
    "\n",
    "Correlation coefficients are used to measure how strong a linear relationship is between two variables. There are several types of correlation coefficients, but the most popular is Pearson’s. Pearson’s correlation \n",
    "\n",
    "$$r=\\frac{\\sum\\limits_{i=1}^n(x_i-\\bar x)(y_i-\\bar y)}{\\sqrt{\\sum\\limits_{i=1}^n (x_i-\\bar x)^2(y_i-\\bar y)^2}}$$\n",
    "\n",
    "($r$) is a correlation coefficient commonly used in linear regression.  The formula returns a value between $-1$ and $1$, where:\n",
    "\n",
    "- $1$ indicates a strong positive relationship.\n",
    "\n",
    "- $-1$ indicates a strong negative relationship.\n",
    "\n",
    "- 0 indicates no relationship.\n",
    "\n",
    "Let's look at an example.\n",
    "\n",
    "Run the cell below."
   ]
  },
  {
   "cell_type": "code",
   "execution_count": null,
   "id": "6388770c",
   "metadata": {
    "tags": []
   },
   "outputs": [],
   "source": [
    "galton = pd.read_csv(\"data/galton.csv\")\n",
    "galton.head()"
   ]
  },
  {
   "cell_type": "markdown",
   "id": "96455df2",
   "metadata": {},
   "source": [
    "**Question 4.** Write a function named `corr_coef(x, y)` that accepts two 1d arrays (or columns from a dataframe) and calculates the value of $r$\n",
    "\n",
    "**Note:** Use Pearson's formula $$r=\\frac{\\sum\\limits_{i=1}^n(x_i-\\bar x)(y_i-\\bar y)}{\\sqrt{\\sum\\limits_{i=1}^n (x_i-\\bar x)^2(y_i-\\bar y)^2}}$$"
   ]
  },
  {
   "cell_type": "code",
   "execution_count": null,
   "id": "9b5af215",
   "metadata": {
    "tags": []
   },
   "outputs": [],
   "source": [
    "def corr_coef(x, y):\n",
    "    \"\"\"\n",
    "    Purpose\n",
    "    -------\n",
    "    Compute Pearson's Correlation Coefficient \n",
    "    \n",
    "    Parameters\n",
    "    ----------\n",
    "    x, y: A 1 dimensional numpy array or a column from a dataframe\n",
    "    \"\"\"\n",
    "    ...\n",
    "\n",
    "corr_coef(galton.midparentHeight, galton.childHeight)"
   ]
  },
  {
   "cell_type": "raw",
   "id": "691ea3e5",
   "metadata": {},
   "source": [
    "# END SOLUTIION"
   ]
  },
  {
   "cell_type": "code",
   "execution_count": null,
   "id": "c9888694",
   "metadata": {
    "deletable": false,
    "editable": false
   },
   "outputs": [],
   "source": [
    "grader.check(\"q4\")"
   ]
  },
  {
   "cell_type": "markdown",
   "id": "8962c17f",
   "metadata": {},
   "source": [
    "### Correlation Coefficient in Standard Units\n",
    "\n",
    "Another way to compute the correlation coefficient is to use standard units. To compute the correlation coefficient using standard units we can use the formula \n",
    "\n",
    "$$r=\\text{average of }(x_{i\\text{s}} \\text{ in standard units} \\times y_{i\\text{s}} \\text{ in standard units})$$"
   ]
  },
  {
   "cell_type": "markdown",
   "id": "f336c71b",
   "metadata": {},
   "source": [
    "**Question 5.** We can use a function within a function. Write function named `su_corr_coef(x,y)` that uses our `standard_units` function to compute the correlation coefficient. "
   ]
  },
  {
   "cell_type": "code",
   "execution_count": null,
   "id": "737ce272",
   "metadata": {
    "tags": []
   },
   "outputs": [],
   "source": [
    "def su_corr_coef(x, y):\n",
    "    \"\"\"\n",
    "    Purpose\n",
    "    -------\n",
    "    Compute Pearson's Correlation Coefficient \n",
    "    \n",
    "    Parameters\n",
    "    ----------\n",
    "    x, y: A 1 dimensional array or a column from a dataframe\n",
    "    \"\"\"\n",
    "    ...\n",
    "\n",
    "su_corr_coef(galton.midparentHeight, galton.childHeight)"
   ]
  },
  {
   "cell_type": "raw",
   "id": "2d51da91",
   "metadata": {},
   "source": [
    "# END SOLUTIION"
   ]
  },
  {
   "cell_type": "code",
   "execution_count": null,
   "id": "547effe0",
   "metadata": {
    "deletable": false,
    "editable": false
   },
   "outputs": [],
   "source": [
    "grader.check(\"q5\")"
   ]
  },
  {
   "cell_type": "markdown",
   "id": "7d7b0d01",
   "metadata": {},
   "source": [
    "The purpose for the previous exercises was to demonstrate writing user-defined functions. In reality we would use the `.corr()` method."
   ]
  },
  {
   "cell_type": "markdown",
   "id": "a579af2d",
   "metadata": {},
   "source": [
    "<!-- BEGIN QUESTION -->\n",
    "\n",
    "**Question 6.**  Use the `.corr()` method to find the correlation coefficient between `midparentHeight` and `childHeight`. Your output should resemble the table below.\n",
    "\n",
    "|                   |**midparentHeight**|**childHeight** |\n",
    "|-------------------|-------------------|----------------|\n",
    "|**midparentHeight**|1.00000|0.32095|\n",
    "|**childHeight**    |0.32095|1.00000|"
   ]
  },
  {
   "cell_type": "code",
   "execution_count": null,
   "id": "bcad267c",
   "metadata": {
    "tags": []
   },
   "outputs": [],
   "source": [
    "..."
   ]
  },
  {
   "cell_type": "markdown",
   "id": "fc913e31",
   "metadata": {},
   "source": [
    "Sometimes correlation coeffiecients can prodcue misleading results. Thus, its a good idea to visualize our data (\n",
    "if possible). To see an example let's take a look at Anscombe’s quartet. \n",
    "\n",
    "Anscombe's quartet comprises four data sets that have nearly identical simple descriptive statistics, yet have very different distributions and appear very different when graphed. Each dataset consists of eleven $(x,y)$ points. They were constructed in 1973 by the statistician Francis Anscombe to demonstrate both the importance of graphing data when analyzing it, and the effect of outliers and other influential observations on statistical properties [(Wikipedia)](https://en.wikipedia.org/wiki/Anscombe%27s_quartet)."
   ]
  },
  {
   "cell_type": "code",
   "execution_count": null,
   "id": "730c1753",
   "metadata": {
    "tags": []
   },
   "outputs": [],
   "source": [
    "import seaborn as sns"
   ]
  },
  {
   "cell_type": "code",
   "execution_count": null,
   "id": "97363a83",
   "metadata": {
    "tags": []
   },
   "outputs": [],
   "source": [
    "df = sns.load_dataset(\"anscombe\")"
   ]
  },
  {
   "cell_type": "code",
   "execution_count": null,
   "id": "f1bfe6b3",
   "metadata": {
    "tags": []
   },
   "outputs": [],
   "source": [
    "for i in ['I', 'II', 'III', 'IV']:\n",
    "    print(\"Data set \" + i)\n",
    "    print(df.groupby('dataset').get_group(i)[['x', 'y']].agg(['mean', 'median', 'std']), \"\\n\")"
   ]
  },
  {
   "cell_type": "code",
   "execution_count": null,
   "id": "4c10542d",
   "metadata": {
    "tags": []
   },
   "outputs": [],
   "source": [
    "for i in ['I', 'II', 'III', 'IV']:\n",
    "    print(\"Data set \" + i)\n",
    "    print(df.groupby('dataset').get_group(i)[['x', 'y']].corr(), \"\\n\")"
   ]
  },
  {
   "cell_type": "markdown",
   "id": "9aae6cec",
   "metadata": {},
   "source": [
    "Now plot each data set."
   ]
  },
  {
   "cell_type": "code",
   "execution_count": null,
   "id": "8b612e6f",
   "metadata": {
    "tags": []
   },
   "outputs": [],
   "source": [
    "ax = sns.lmplot(x = \"x\", y = \"y\", col  = \"dataset\", hue = \"dataset\", data = df,\n",
    "           col_wrap = 2, ci = None, palette = \"muted\", height = 4,\n",
    "           scatter_kws = {\"s\": 50, \"alpha\": 1})\n",
    "ax.set(xticks = np.arange(np.min(df.x) - 2, np.max(df.x) + 2,1))\n",
    "ax.set(xticklabels = [])\n",
    "sns.set_style('white'); "
   ]
  },
  {
   "cell_type": "markdown",
   "id": "4a1e0f08",
   "metadata": {},
   "source": [
    "**Question 7.** List the datasets for which the correlation coefficient may be misleading. Explain your choices."
   ]
  },
  {
   "cell_type": "markdown",
   "id": "cf86a525",
   "metadata": {
    "tags": []
   },
   "source": [
    "_Type your answer here, replacing this text._"
   ]
  },
  {
   "cell_type": "markdown",
   "id": "5e7c5ae6",
   "metadata": {},
   "source": [
    "## 3. Visualization"
   ]
  },
  {
   "cell_type": "markdown",
   "id": "f21841ed",
   "metadata": {},
   "source": [
    "**Question 8.** Use the `galton` data set to create a scatter plot for the `midparentHeight` and `childHeight`.Now let's visualize the `galton` data set. "
   ]
  },
  {
   "cell_type": "code",
   "execution_count": null,
   "id": "cf47d471",
   "metadata": {
    "tags": []
   },
   "outputs": [],
   "source": [
    "...\n",
    "plt.title(\"Galton Dataset\")\n",
    "plt.xlabel(\"\\n Mid-parent Height (in)\")\n",
    "plt.ylabel(\"Child Height (in)\");"
   ]
  },
  {
   "cell_type": "markdown",
   "id": "6f0e14d3",
   "metadata": {},
   "source": [
    "<!-- END QUESTION -->\n",
    "\n",
    "**Question 9.** Use `standard_units` functions to change the `midparentHeight` and `childHeight` columns to standard units."
   ]
  },
  {
   "cell_type": "code",
   "execution_count": null,
   "id": "58c1bdb9",
   "metadata": {
    "tags": []
   },
   "outputs": [],
   "source": [
    "su_midparentHeight = ...\n",
    "su_childHeight = ..."
   ]
  },
  {
   "cell_type": "code",
   "execution_count": null,
   "id": "745ee173",
   "metadata": {
    "deletable": false,
    "editable": false
   },
   "outputs": [],
   "source": [
    "grader.check(\"q9\")"
   ]
  },
  {
   "cell_type": "markdown",
   "id": "920b6d1e",
   "metadata": {},
   "source": [
    "<!-- BEGIN QUESTION -->\n",
    "\n",
    "**Question 10.** Create a scatter plot for the `su_midparentHeight` and `su_childHeight`."
   ]
  },
  {
   "cell_type": "code",
   "execution_count": null,
   "id": "b6fa2d08",
   "metadata": {
    "tags": []
   },
   "outputs": [],
   "source": [
    "...\n",
    "plt.title(\"Galton Dataset in Standard Units\")\n",
    "plt.xlabel(\"\\n Mid-parent Height (su)\")\n",
    "plt.ylabel(\"Child Height (su)\");"
   ]
  },
  {
   "cell_type": "markdown",
   "id": "416c76f8",
   "metadata": {},
   "source": [
    "A benefit of standard units is that it is easy to find the mean (0) for each axis. It is also easy to compare values by their distance from the mean (standard deviation)."
   ]
  },
  {
   "cell_type": "markdown",
   "id": "eeded8e2",
   "metadata": {},
   "source": [
    "Suppose we want to find a linear equation for the line of best fit through the points (this is known as \"simple linear regression\"). Simple linear regression is a statistical method that allows us to summarize and study relationships between two continuous (numerical) variables:\n",
    "\n",
    "- One variable, denoted $x$, is regarded as the predictor, explanatory, or independent variable.\n",
    "\n",
    "- The other variable, denoted $y$, is regarded as the response, outcome, or dependent variable.\n",
    "\n",
    "A line of best fit refers to a line through a scatter plot of data points that best expresses the relationship between those points. If our scatter plot is in standard units we can find the equation using functions we defined earlier. \n",
    "\n",
    "**Note:** The equation of the line of best fit (in standard units) is $$y_{su}=r \\cdot x_{su}$$"
   ]
  },
  {
   "cell_type": "markdown",
   "id": "e6cbd936",
   "metadata": {},
   "source": [
    "<!-- BEGIN QUESTION -->\n",
    "\n",
    "**Question 11.** Plot the line of best (standard units) on the scatter plot that is in standard units."
   ]
  },
  {
   "cell_type": "code",
   "execution_count": null,
   "id": "97cbdf65",
   "metadata": {
    "tags": []
   },
   "outputs": [],
   "source": [
    "...\n",
    "plt.scatter(x = ..., y = ...)\n",
    "plt.plot(..., ..., c = 'r')\n",
    "plt.title(\"Galton Dataset in Standard Units\")\n",
    "plt.xlabel(\"\\n Mid-parent Height (su)\")\n",
    "plt.ylabel(\"Child Height (su)\");"
   ]
  },
  {
   "cell_type": "markdown",
   "id": "117b3273",
   "metadata": {},
   "source": [
    "## 4. Linear Regression\n",
    "\n",
    "`scikit-learn` is a widely used open-source Python library for machine learning, built on top of `NumPy` and some other packages. It provides the means for preprocessing data, implementing regression, classification, etc.\n",
    "\n",
    "Let's go through the steps of implementing linear regression on our `galton` data set."
   ]
  },
  {
   "cell_type": "markdown",
   "id": "4f64d959",
   "metadata": {},
   "source": [
    "<!-- BEGIN QUESTION -->\n",
    "\n",
    "**Question 12.** Import the `LinearRegression` function from `scikit-learn`."
   ]
  },
  {
   "cell_type": "code",
   "execution_count": null,
   "id": "7a4ea9c1",
   "metadata": {
    "tags": []
   },
   "outputs": [],
   "source": [
    "from sklearn.linear_model import ..."
   ]
  },
  {
   "cell_type": "code",
   "execution_count": null,
   "id": "d99c1b0a",
   "metadata": {
    "deletable": false,
    "editable": false
   },
   "outputs": [],
   "source": [
    "grader.check(\"q12\")"
   ]
  },
  {
   "cell_type": "markdown",
   "id": "a226dedf",
   "metadata": {},
   "source": [
    "<!-- BEGIN QUESTION -->\n",
    "\n",
    "<!-- END QUESTION -->\n",
    "\n",
    "**Question 13.** Create a model object for our linear regression model. "
   ]
  },
  {
   "cell_type": "code",
   "execution_count": null,
   "id": "7e451ec8",
   "metadata": {
    "tags": []
   },
   "outputs": [],
   "source": [
    "mp_model = ..."
   ]
  },
  {
   "cell_type": "markdown",
   "id": "6d7f55eb",
   "metadata": {},
   "source": [
    "<!-- END QUESTION -->\n",
    "\n",
    "Now we can fit the model. "
   ]
  },
  {
   "cell_type": "markdown",
   "id": "9f7a483e",
   "metadata": {},
   "source": [
    "<!-- BEGIN QUESTION -->\n",
    "\n",
    "<!-- BEGIN QUESTION -->\n",
    "\n",
    "**Question 14.** Fit a linear model on the `midparentHeight` and `childHeight`.\n",
    "\n",
    "**Note:** The $x$ variable must be a dataframe."
   ]
  },
  {
   "cell_type": "code",
   "execution_count": null,
   "id": "7d1b57ea",
   "metadata": {
    "tags": []
   },
   "outputs": [],
   "source": [
    "mp_model.fit(..., ...)"
   ]
  },
  {
   "cell_type": "markdown",
   "id": "e81e5fda",
   "metadata": {},
   "source": [
    "<!-- END QUESTION -->\n",
    "\n",
    "<!-- BEGIN QUESTION -->\n",
    "\n",
    "**Question 15.** Get the slope and $y-$intercept.\n",
    "\n",
    "**Note:** These values are stored in the `model` object."
   ]
  },
  {
   "cell_type": "code",
   "execution_count": null,
   "id": "7816acfd",
   "metadata": {
    "tags": []
   },
   "outputs": [],
   "source": [
    "mp_yint = ...\n",
    "mp_slope = ...\n",
    "print(\"The y-intercept is\", mp_yint)\n",
    "print(\"The slope is\", mp_slope)"
   ]
  },
  {
   "cell_type": "code",
   "execution_count": null,
   "id": "43ca3167",
   "metadata": {
    "deletable": false,
    "editable": false
   },
   "outputs": [],
   "source": [
    "grader.check(\"q15\")"
   ]
  },
  {
   "cell_type": "markdown",
   "id": "146c1da7",
   "metadata": {},
   "source": [
    "Finally, we can overlay the scatter plot with the line of best fit."
   ]
  },
  {
   "cell_type": "markdown",
   "id": "6c099e9d",
   "metadata": {},
   "source": [
    "<!-- BEGIN QUESTION -->\n",
    "\n",
    "**Question 16.** Overlay the scatter plot with the line of best fit."
   ]
  },
  {
   "cell_type": "code",
   "execution_count": null,
   "id": "6edb510a",
   "metadata": {
    "tags": []
   },
   "outputs": [],
   "source": [
    "...\n",
    "plt.scatter(x = ..., y = ...)\n",
    "plt.plot(..., ...*... + ..., c = 'r');"
   ]
  },
  {
   "cell_type": "markdown",
   "id": "21176a5a",
   "metadata": {},
   "source": [
    "<!-- END QUESTION -->\n",
    "\n",
    "<!-- BEGIN QUESTION -->\n",
    "\n",
    "**Question 17.** Repeat the steps in **Question 13**, **Question 14** and **Question 15** using the height of the mother (`mother`) as the predictor and the height of the child (`childHeight`) as the response."
   ]
  },
  {
   "cell_type": "code",
   "execution_count": null,
   "id": "f3945121",
   "metadata": {
    "tags": []
   },
   "outputs": [],
   "source": [
    "mm_model = ...\n",
    "mm_model.fit(..., ...)\n",
    "mm_yint = ...\n",
    "mm_slope = ...\n",
    "print(\"The y-intercept is\" , mm_yint)\n",
    "print(\"The slope is \", mm_slope)"
   ]
  },
  {
   "cell_type": "code",
   "execution_count": null,
   "id": "04104010",
   "metadata": {
    "deletable": false,
    "editable": false
   },
   "outputs": [],
   "source": [
    "grader.check(\"q17\")"
   ]
  },
  {
   "cell_type": "markdown",
   "id": "39b0b215",
   "metadata": {},
   "source": [
    "<!-- END QUESTION -->\n",
    "\n",
    "<!-- BEGIN QUESTION -->\n",
    "\n",
    "**Question 18.** Create a scatter plot for the model in **Question 17**. Overlay the scatter plot with the line of best fit."
   ]
  },
  {
   "cell_type": "code",
   "execution_count": null,
   "id": "2b5c5a5e",
   "metadata": {
    "tags": []
   },
   "outputs": [],
   "source": [
    "..."
   ]
  },
  {
   "cell_type": "markdown",
   "id": "accff594",
   "metadata": {
    "deletable": false,
    "editable": false
   },
   "source": [
    "## Submission\n",
    "\n",
    "Make sure you have run all cells in your notebook in order before running the cell below, so that all images/graphs appear in the output. The cell below will generate a zip file for you to submit. **Please save before exporting!**"
   ]
  },
  {
   "cell_type": "code",
   "execution_count": null,
   "id": "293f46a7",
   "metadata": {
    "deletable": false,
    "editable": false
   },
   "outputs": [],
   "source": [
    "# Save your notebook first, then run this cell to export your submission.\n",
    "grader.export(run_tests=True)"
   ]
  },
  {
   "cell_type": "markdown",
   "id": "38a3ac8e",
   "metadata": {},
   "source": [
    " "
   ]
  }
 ],
 "metadata": {
  "kernelspec": {
   "display_name": "Python 3 (ipykernel)",
   "language": "python",
   "name": "python3"
  },
  "language_info": {
   "codemirror_mode": {
    "name": "ipython",
    "version": 3
   },
   "file_extension": ".py",
   "mimetype": "text/x-python",
   "name": "python",
   "nbconvert_exporter": "python",
   "pygments_lexer": "ipython3",
   "version": "3.10.11"
  },
  "otter": {
   "OK_FORMAT": true,
   "tests": {
    "q12": {
     "name": "q12",
     "points": null,
     "suites": [
      {
       "cases": [
        {
         "code": ">>> import sys\n>>> 'sklearn.linear_model' in sys.modules\nTrue",
         "hidden": false,
         "locked": false
        }
       ],
       "scored": true,
       "setup": "",
       "teardown": "",
       "type": "doctest"
      }
     ]
    },
    "q15": {
     "name": "q15",
     "points": null,
     "suites": [
      {
       "cases": [
        {
         "code": ">>> round(mp_yint, 1)\n22.6",
         "hidden": false,
         "locked": false
        },
        {
         "code": ">>> round(mp_slope, 2)\n0.64",
         "hidden": false,
         "locked": false
        }
       ],
       "scored": true,
       "setup": "",
       "teardown": "",
       "type": "doctest"
      }
     ]
    },
    "q17": {
     "name": "q17",
     "points": null,
     "suites": [
      {
       "cases": [
        {
         "code": ">>> mm_yint\n46.58710391937156",
         "hidden": false,
         "locked": false
        },
        {
         "code": ">>> mm_slope\n0.3145428276813158",
         "hidden": false,
         "locked": false
        }
       ],
       "scored": true,
       "setup": "",
       "teardown": "",
       "type": "doctest"
      }
     ]
    },
    "q2": {
     "name": "q2",
     "points": null,
     "suites": [
      {
       "cases": [
        {
         "code": ">>> np.sum(standard_units(nfl.AQ1))\n0.0",
         "hidden": false,
         "locked": false
        }
       ],
       "scored": true,
       "setup": "",
       "teardown": "",
       "type": "doctest"
      }
     ]
    },
    "q4": {
     "name": "q4",
     "points": null,
     "suites": [
      {
       "cases": [
        {
         "code": ">>> 0 < corr_coef(galton.midparentHeight, galton.childHeight) < 0.33\nTrue",
         "hidden": false,
         "locked": false
        }
       ],
       "scored": true,
       "setup": "",
       "teardown": "",
       "type": "doctest"
      }
     ]
    },
    "q5": {
     "name": "q5",
     "points": null,
     "suites": [
      {
       "cases": [
        {
         "code": ">>> 0 < su_corr_coef(galton.midparentHeight, galton.childHeight) < 0.33\nTrue",
         "hidden": false,
         "locked": false
        }
       ],
       "scored": true,
       "setup": "",
       "teardown": "",
       "type": "doctest"
      }
     ]
    },
    "q9": {
     "name": "q9",
     "points": null,
     "suites": [
      {
       "cases": [
        {
         "code": ">>> -0.0001 < np.sum(su_midparentHeight) < 0.0001\nTrue",
         "hidden": false,
         "locked": false
        },
        {
         "code": ">>> -0.0001 < np.sum(su_childHeight) < 0.0001\nTrue",
         "hidden": false,
         "locked": false
        }
       ],
       "scored": true,
       "setup": "",
       "teardown": "",
       "type": "doctest"
      }
     ]
    }
   }
  }
 },
 "nbformat": 4,
 "nbformat_minor": 5
}
