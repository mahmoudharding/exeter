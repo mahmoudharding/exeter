{
 "cells": [
  {
   "cell_type": "raw",
   "id": "99539d4f-2cef-4bd3-b501-42b098bb989e",
   "metadata": {},
   "source": [
    "# ASSIGNMENT CONFIG\n",
    "generate: true\n",
    "files:\n",
    "  - data/scores_full.csv\n",
    "  - data/galton.csv"
   ]
  },
  {
   "cell_type": "markdown",
   "id": "0e6645da-ab68-4c68-bd83-aa8f724ada5b",
   "metadata": {},
   "source": [
    "# Lab 08: Simple Linear Regression\n",
    "\n",
    "Welcome to Advanced Topics in Data Science for High School! Throughout the course you will complete assignments like this one. You can't learn technical subjects without hands-on practice, so these assignments are an important part of the course.\n",
    "\n",
    "**Collaboration Policy:**\n",
    "\n",
    "Collaborating on labs is more than okay -- it's encouraged! You should rarely remain stuck for more than a few minutes on questions in labs, so ask a neighbor or an instructor for help. Explaining things is beneficial, too -- the best way to solidify your knowledge of a subject is to explain it. You should **not** _just_ copy/paste someone else's code, but rather work together to gain understanding of the task you need to complete. \n",
    "\n",
    "**Due Date:**\n",
    "\n",
    "## Today's Assignment \n",
    "\n",
    "In today's assignment, you'll learn about different aspects of linear regression.\n",
    "\n",
    "First, set up the imports by running the cell below."
   ]
  },
  {
   "cell_type": "code",
   "execution_count": 1,
   "id": "a7b8f61e-fa9a-43ea-aa86-fb14a96ea918",
   "metadata": {
    "tags": []
   },
   "outputs": [],
   "source": [
    "import pandas as pd\n",
    "import numpy as np\n",
    "\n",
    "%matplotlib inline\n",
    "import matplotlib.pyplot as plt\n",
    "plt.rcParams['figure.figsize'] = (12, 7)\n",
    "plt.rcParams['figure.dpi'] = 100"
   ]
  },
  {
   "cell_type": "markdown",
   "id": "185ad389-8e66-4e0e-86e0-5810f0fb6fee",
   "metadata": {},
   "source": [
    "## 1. Standard Units\n",
    "\n",
    "Standard units are a way of putting different kinds of observations on the same scale. The idea is to replace a datum by the number of standard deviations it is above the mean of the data. If a datum is above the mean, its value in standard units is positive; if it is below the mean, its value in standard units is negative. A datum that is above the mean by 2.5 times the standard deviation is 2.5 in standard units.\n",
    "\n",
    "$$\\text{datum in standard units } = \\text{ number of SDs the datum is above the mean } = \\frac{\\text{original datum } - \\text{ mean of original data}}{\\text{SD of original data}}$$\n",
    "\n",
    "When a list is transformed to standard units, the mean of the new list is zero, and the SD of the new list is one: that is what it means for a set of data to be in standard units. Standard units are dimensionless. If the original list has units, the original SD has the same units. To transform a measurement to standard units, we divide the measurement (minus the mean) by the SD, which cancels the original units.\n",
    "\n",
    "If we know the mean and SD of the original data, we can restore a datum that is in standard units to the original units of measurement, as follows:\n",
    "\n",
    "$$\\text{original value }= (\\text{value in standard units}) \\times \\text{ SD } + \\text{ mean}$$"
   ]
  },
  {
   "cell_type": "markdown",
   "id": "02bf2abf-3869-465c-945b-7de986c957be",
   "metadata": {},
   "source": [
    "Let's write a function to standardized the values in a numerical column.\n",
    "\n",
    "Run the cell below."
   ]
  },
  {
   "cell_type": "code",
   "execution_count": 2,
   "id": "e554adfa-9dd6-4eb4-b583-ffe81444b7dd",
   "metadata": {
    "tags": []
   },
   "outputs": [
    {
     "data": {
      "text/html": [
       "<div>\n",
       "<style scoped>\n",
       "    .dataframe tbody tr th:only-of-type {\n",
       "        vertical-align: middle;\n",
       "    }\n",
       "\n",
       "    .dataframe tbody tr th {\n",
       "        vertical-align: top;\n",
       "    }\n",
       "\n",
       "    .dataframe thead th {\n",
       "        text-align: right;\n",
       "    }\n",
       "</style>\n",
       "<table border=\"1\" class=\"dataframe\">\n",
       "  <thead>\n",
       "    <tr style=\"text-align: right;\">\n",
       "      <th></th>\n",
       "      <th>week</th>\n",
       "      <th>date</th>\n",
       "      <th>day</th>\n",
       "      <th>season</th>\n",
       "      <th>awayTeam</th>\n",
       "      <th>AQ1</th>\n",
       "      <th>AQ2</th>\n",
       "      <th>AQ3</th>\n",
       "      <th>AQ4</th>\n",
       "      <th>AOT</th>\n",
       "      <th>...</th>\n",
       "      <th>homeFumLost</th>\n",
       "      <th>homeNumPen</th>\n",
       "      <th>homePenYds</th>\n",
       "      <th>home3rdConv</th>\n",
       "      <th>home3rdAtt</th>\n",
       "      <th>home4thConv</th>\n",
       "      <th>home4thAtt</th>\n",
       "      <th>homeTOP</th>\n",
       "      <th>HminusAScore</th>\n",
       "      <th>homeSpread</th>\n",
       "    </tr>\n",
       "  </thead>\n",
       "  <tbody>\n",
       "    <tr>\n",
       "      <th>0</th>\n",
       "      <td>1</td>\n",
       "      <td>5-Sep</td>\n",
       "      <td>Thu</td>\n",
       "      <td>2002</td>\n",
       "      <td>San Francisco 49ers</td>\n",
       "      <td>3</td>\n",
       "      <td>0</td>\n",
       "      <td>7</td>\n",
       "      <td>6</td>\n",
       "      <td>-1</td>\n",
       "      <td>...</td>\n",
       "      <td>0</td>\n",
       "      <td>10</td>\n",
       "      <td>80</td>\n",
       "      <td>4</td>\n",
       "      <td>8</td>\n",
       "      <td>0</td>\n",
       "      <td>1</td>\n",
       "      <td>32.47</td>\n",
       "      <td>-3</td>\n",
       "      <td>-4.0</td>\n",
       "    </tr>\n",
       "    <tr>\n",
       "      <th>1</th>\n",
       "      <td>1</td>\n",
       "      <td>8-Sep</td>\n",
       "      <td>Sun</td>\n",
       "      <td>2002</td>\n",
       "      <td>Minnesota Vikings</td>\n",
       "      <td>3</td>\n",
       "      <td>17</td>\n",
       "      <td>0</td>\n",
       "      <td>3</td>\n",
       "      <td>-1</td>\n",
       "      <td>...</td>\n",
       "      <td>1</td>\n",
       "      <td>4</td>\n",
       "      <td>33</td>\n",
       "      <td>2</td>\n",
       "      <td>6</td>\n",
       "      <td>0</td>\n",
       "      <td>0</td>\n",
       "      <td>28.48</td>\n",
       "      <td>4</td>\n",
       "      <td>4.5</td>\n",
       "    </tr>\n",
       "    <tr>\n",
       "      <th>2</th>\n",
       "      <td>1</td>\n",
       "      <td>8-Sep</td>\n",
       "      <td>Sun</td>\n",
       "      <td>2002</td>\n",
       "      <td>New Orleans Saints</td>\n",
       "      <td>6</td>\n",
       "      <td>7</td>\n",
       "      <td>7</td>\n",
       "      <td>0</td>\n",
       "      <td>6</td>\n",
       "      <td>...</td>\n",
       "      <td>0</td>\n",
       "      <td>8</td>\n",
       "      <td>85</td>\n",
       "      <td>1</td>\n",
       "      <td>6</td>\n",
       "      <td>0</td>\n",
       "      <td>1</td>\n",
       "      <td>31.48</td>\n",
       "      <td>-6</td>\n",
       "      <td>6.0</td>\n",
       "    </tr>\n",
       "    <tr>\n",
       "      <th>3</th>\n",
       "      <td>1</td>\n",
       "      <td>8-Sep</td>\n",
       "      <td>Sun</td>\n",
       "      <td>2002</td>\n",
       "      <td>New York Jets</td>\n",
       "      <td>0</td>\n",
       "      <td>17</td>\n",
       "      <td>3</td>\n",
       "      <td>11</td>\n",
       "      <td>6</td>\n",
       "      <td>...</td>\n",
       "      <td>1</td>\n",
       "      <td>10</td>\n",
       "      <td>82</td>\n",
       "      <td>4</td>\n",
       "      <td>8</td>\n",
       "      <td>2</td>\n",
       "      <td>2</td>\n",
       "      <td>39.13</td>\n",
       "      <td>-6</td>\n",
       "      <td>-3.0</td>\n",
       "    </tr>\n",
       "    <tr>\n",
       "      <th>4</th>\n",
       "      <td>1</td>\n",
       "      <td>8-Sep</td>\n",
       "      <td>Sun</td>\n",
       "      <td>2002</td>\n",
       "      <td>Arizona Cardinals</td>\n",
       "      <td>10</td>\n",
       "      <td>3</td>\n",
       "      <td>3</td>\n",
       "      <td>7</td>\n",
       "      <td>-1</td>\n",
       "      <td>...</td>\n",
       "      <td>0</td>\n",
       "      <td>7</td>\n",
       "      <td>56</td>\n",
       "      <td>6</td>\n",
       "      <td>10</td>\n",
       "      <td>1</td>\n",
       "      <td>2</td>\n",
       "      <td>34.40</td>\n",
       "      <td>8</td>\n",
       "      <td>6.0</td>\n",
       "    </tr>\n",
       "  </tbody>\n",
       "</table>\n",
       "<p>5 rows × 82 columns</p>\n",
       "</div>"
      ],
      "text/plain": [
       "  week   date  day  season             awayTeam  AQ1  AQ2  AQ3  AQ4  AOT  ...  \\\n",
       "0    1  5-Sep  Thu    2002  San Francisco 49ers    3    0    7    6   -1  ...   \n",
       "1    1  8-Sep  Sun    2002    Minnesota Vikings    3   17    0    3   -1  ...   \n",
       "2    1  8-Sep  Sun    2002   New Orleans Saints    6    7    7    0    6  ...   \n",
       "3    1  8-Sep  Sun    2002        New York Jets    0   17    3   11    6  ...   \n",
       "4    1  8-Sep  Sun    2002    Arizona Cardinals   10    3    3    7   -1  ...   \n",
       "\n",
       "   homeFumLost  homeNumPen homePenYds  home3rdConv  home3rdAtt  home4thConv  \\\n",
       "0            0          10         80            4           8            0   \n",
       "1            1           4         33            2           6            0   \n",
       "2            0           8         85            1           6            0   \n",
       "3            1          10         82            4           8            2   \n",
       "4            0           7         56            6          10            1   \n",
       "\n",
       "   home4thAtt  homeTOP  HminusAScore  homeSpread  \n",
       "0           1    32.47            -3        -4.0  \n",
       "1           0    28.48             4         4.5  \n",
       "2           1    31.48            -6         6.0  \n",
       "3           2    39.13            -6        -3.0  \n",
       "4           2    34.40             8         6.0  \n",
       "\n",
       "[5 rows x 82 columns]"
      ]
     },
     "execution_count": 2,
     "metadata": {},
     "output_type": "execute_result"
    }
   ],
   "source": [
    "nfl = pd.read_csv(\"data/scores_full.csv\")\n",
    "nfl.head()"
   ]
  },
  {
   "cell_type": "markdown",
   "id": "84b91f43-f98d-4c5d-9607-b36b6b3a8beb",
   "metadata": {},
   "source": [
    "Let's examine all the column names."
   ]
  },
  {
   "cell_type": "code",
   "execution_count": null,
   "id": "a0d4c500-0c60-4b0c-9e1b-332490d4a595",
   "metadata": {
    "tags": []
   },
   "outputs": [],
   "source": [
    "nfl.columns"
   ]
  },
  {
   "cell_type": "markdown",
   "id": "4a9f18db-605e-41d2-b149-5b2f9b2fe491",
   "metadata": {},
   "source": [
    "What if we wanted to visualize the distribution of the away team first quarter scores `(AQ1)`. "
   ]
  },
  {
   "cell_type": "markdown",
   "id": "63ed8657-e735-44b8-ad20-8c9ec2dbb59a",
   "metadata": {},
   "source": [
    "<!-- BEGIN QUESTION -->\n",
    "\n",
    "**Question 1.** Create a histogram for the `AQ1` column."
   ]
  },
  {
   "cell_type": "code",
   "execution_count": null,
   "id": "dae2c63f-92ab-4061-9562-a82d8e33bbc7",
   "metadata": {
    "tags": []
   },
   "outputs": [],
   "source": [
    "..."
   ]
  },
  {
   "cell_type": "markdown",
   "id": "4b28aab1-f72b-4cca-804b-2dc2865234c7",
   "metadata": {},
   "source": [
    "<!-- END QUESTION -->\n",
    "\n",
    "How many scores are above average? Below average? Where is the average? It would be easier to determine this information from our histogram if we change to standard units. Standard units are a way of putting different kinds of observations on the same scale. The idea is to replace a datum by the number of standard deviations it is above the mean of the data."
   ]
  },
  {
   "cell_type": "raw",
   "id": "47580306-7d97-44e5-9141-8e3427f85c0c",
   "metadata": {},
   "source": [
    "# BEGIN QUESTION\n",
    "name: q2"
   ]
  },
  {
   "cell_type": "markdown",
   "id": "6fc60f09-1d88-45f4-abc1-4d9c8b218dc2",
   "metadata": {},
   "source": [
    "**Question 2.** Write a function named `standard_units` that will take in a column from a dataframe and return the standardized values.\n",
    "\n",
    "**Note:** The formula to standardize the values in an 1-dimensional array (or `pandas` Series) is \n",
    "\n",
    "$$z_i = \\frac{x_i - \\text{mean of data}}{\\text{standard deviation of data}}.$$ \n",
    "\n",
    "A $z-$score measures the distance between a data point and the mean using standard deviations. $z-$scores can be positive or negative. The sign tells you whether the observation is above or below the mean."
   ]
  },
  {
   "cell_type": "raw",
   "id": "c906e763-93b8-4748-ad40-d8999223724e",
   "metadata": {},
   "source": [
    "# BEGIN SOLUTION"
   ]
  },
  {
   "cell_type": "code",
   "execution_count": 3,
   "id": "9a15f0d4-9f8a-476b-a011-fe6c1961b09c",
   "metadata": {
    "tags": []
   },
   "outputs": [
    {
     "data": {
      "text/plain": [
       "0      -0.205968\n",
       "1      -0.205968\n",
       "2       0.462176\n",
       "3      -0.874111\n",
       "4       1.353034\n",
       "          ...   \n",
       "3466   -0.874111\n",
       "3467    0.684890\n",
       "3468    2.021177\n",
       "3469   -0.874111\n",
       "3470   -0.874111\n",
       "Name: AQ1, Length: 3471, dtype: float64"
      ]
     },
     "execution_count": 3,
     "metadata": {},
     "output_type": "execute_result"
    }
   ],
   "source": [
    "def standard_units(col):\n",
    "    \"\"\"\n",
    "    Purpose\n",
    "    -------\n",
    "    Standardize the values in column\n",
    "    \n",
    "    Parameters\n",
    "    ----------\n",
    "    col: A 1 dimensional numpy array or a column from a dataframe\n",
    "    \n",
    "    \"\"\"\n",
    "    return (col - np.mean(col)) / np.std(col) # SOLUTION\n",
    "\n",
    "standard_units(nfl.AQ1)"
   ]
  },
  {
   "cell_type": "raw",
   "id": "abea0831-174a-4467-ac7a-9dc8745f597e",
   "metadata": {},
   "source": [
    "# END SOLUTION"
   ]
  },
  {
   "cell_type": "raw",
   "id": "8ff40ad1-902c-4cab-9c66-617165de7f07",
   "metadata": {},
   "source": [
    "# BEGIN TESTS"
   ]
  },
  {
   "cell_type": "code",
   "execution_count": 4,
   "id": "539c3c1e-861c-429d-bf4c-aa490ea209e8",
   "metadata": {
    "tags": []
   },
   "outputs": [
    {
     "data": {
      "text/plain": [
       "0.0"
      ]
     },
     "execution_count": 4,
     "metadata": {},
     "output_type": "execute_result"
    }
   ],
   "source": [
    "np.sum(standard_units(nfl.AQ1))"
   ]
  },
  {
   "cell_type": "raw",
   "id": "4d9eb0f1-aff7-40aa-bf22-926d17c01414",
   "metadata": {},
   "source": [
    "# END TESTS"
   ]
  },
  {
   "cell_type": "raw",
   "id": "d4f61a8f-653c-4cfc-8ffb-7bf036a1aaa2",
   "metadata": {},
   "source": [
    "# END SOLUTIION"
   ]
  },
  {
   "cell_type": "raw",
   "id": "0bc15eed-2a3e-430a-8bad-4ea2d25b45d5",
   "metadata": {},
   "source": [
    "# END QUESTION"
   ]
  },
  {
   "cell_type": "markdown",
   "id": "99fd4b83-795b-4915-9c8d-359c04614798",
   "metadata": {},
   "source": [
    "Now that we have a function we can call it on any column in the `nfl` dataframe. Choose 3 different numerical columns and standardize the values using the `standard_units` function."
   ]
  },
  {
   "cell_type": "code",
   "execution_count": null,
   "id": "e70a7b5d-bf68-4126-a5de-8c02d46768c2",
   "metadata": {
    "tags": []
   },
   "outputs": [],
   "source": [
    "standard_units(...)"
   ]
  },
  {
   "cell_type": "code",
   "execution_count": null,
   "id": "9328fd0f-1dd3-4120-b9c7-31b0d3529066",
   "metadata": {
    "tags": []
   },
   "outputs": [],
   "source": [
    "standard_units(...)"
   ]
  },
  {
   "cell_type": "code",
   "execution_count": null,
   "id": "47599e9b-fb68-4747-bfd9-c9bec8213cff",
   "metadata": {},
   "outputs": [],
   "source": [
    "standard_units(...)"
   ]
  },
  {
   "cell_type": "markdown",
   "id": "ffa42bc8-c26e-4f50-a3c8-bc3a15198e5d",
   "metadata": {},
   "source": [
    "<!-- BEGIN QUESTION -->\n",
    "\n",
    "**Question 3.** Make a histogram of the standardized values from **Question 2.** \n",
    "\n",
    "**Note:** Use the bins that are provided\n",
    "\n",
    "```\n",
    "bins = [-5, -4, -3, -2, -1, 0, 1, 2, 3, 4, 5]\n",
    "```"
   ]
  },
  {
   "cell_type": "code",
   "execution_count": null,
   "id": "86bedb23-aae9-466a-9ee5-28fb08955855",
   "metadata": {
    "tags": []
   },
   "outputs": [],
   "source": [
    "bins = [-5, -4, -3, -2, -1, 0, 1, 2, 3, 4, 5]\n",
    "..."
   ]
  },
  {
   "cell_type": "markdown",
   "id": "c381e18b-9006-450d-b011-93c677670909",
   "metadata": {},
   "source": [
    "## 2. Correlation Coefficient\n",
    "\n",
    "Correlation coefficients are used to measure how strong a linear relationship is between two variables. There are several types of correlation coefficients, but the most popular is Pearson’s. Pearson’s correlation \n",
    "\n",
    "$$r=\\frac{\\sum\\limits_{i=1}^n(x_i-\\bar x)(y_i-\\bar y)}{\\sqrt{\\sum\\limits_{i=1}^n (x_i-\\bar x)^2(y_i-\\bar y)^2}}$$\n",
    "\n",
    "($r$) is a correlation coefficient commonly used in linear regression.  The formula returns a value between $-1$ and $1$, where:\n",
    "\n",
    "- $1$ indicates a strong positive relationship.\n",
    "\n",
    "- $-1$ indicates a strong negative relationship.\n",
    "\n",
    "- 0 indicates no relationship.\n",
    "\n",
    "Let's look at an example.\n",
    "\n",
    "Run the cell below."
   ]
  },
  {
   "cell_type": "code",
   "execution_count": 6,
   "id": "785fca70-04aa-4af3-a6a6-795dcd7a9c6a",
   "metadata": {
    "tags": []
   },
   "outputs": [
    {
     "data": {
      "text/html": [
       "<div>\n",
       "<style scoped>\n",
       "    .dataframe tbody tr th:only-of-type {\n",
       "        vertical-align: middle;\n",
       "    }\n",
       "\n",
       "    .dataframe tbody tr th {\n",
       "        vertical-align: top;\n",
       "    }\n",
       "\n",
       "    .dataframe thead th {\n",
       "        text-align: right;\n",
       "    }\n",
       "</style>\n",
       "<table border=\"1\" class=\"dataframe\">\n",
       "  <thead>\n",
       "    <tr style=\"text-align: right;\">\n",
       "      <th></th>\n",
       "      <th>family</th>\n",
       "      <th>father</th>\n",
       "      <th>mother</th>\n",
       "      <th>midparentHeight</th>\n",
       "      <th>children</th>\n",
       "      <th>childNum</th>\n",
       "      <th>gender</th>\n",
       "      <th>childHeight</th>\n",
       "    </tr>\n",
       "  </thead>\n",
       "  <tbody>\n",
       "    <tr>\n",
       "      <th>0</th>\n",
       "      <td>1</td>\n",
       "      <td>78.5</td>\n",
       "      <td>67.0</td>\n",
       "      <td>75.43</td>\n",
       "      <td>4</td>\n",
       "      <td>1</td>\n",
       "      <td>male</td>\n",
       "      <td>73.2</td>\n",
       "    </tr>\n",
       "    <tr>\n",
       "      <th>1</th>\n",
       "      <td>1</td>\n",
       "      <td>78.5</td>\n",
       "      <td>67.0</td>\n",
       "      <td>75.43</td>\n",
       "      <td>4</td>\n",
       "      <td>2</td>\n",
       "      <td>female</td>\n",
       "      <td>69.2</td>\n",
       "    </tr>\n",
       "    <tr>\n",
       "      <th>2</th>\n",
       "      <td>1</td>\n",
       "      <td>78.5</td>\n",
       "      <td>67.0</td>\n",
       "      <td>75.43</td>\n",
       "      <td>4</td>\n",
       "      <td>3</td>\n",
       "      <td>female</td>\n",
       "      <td>69.0</td>\n",
       "    </tr>\n",
       "    <tr>\n",
       "      <th>3</th>\n",
       "      <td>1</td>\n",
       "      <td>78.5</td>\n",
       "      <td>67.0</td>\n",
       "      <td>75.43</td>\n",
       "      <td>4</td>\n",
       "      <td>4</td>\n",
       "      <td>female</td>\n",
       "      <td>69.0</td>\n",
       "    </tr>\n",
       "    <tr>\n",
       "      <th>4</th>\n",
       "      <td>2</td>\n",
       "      <td>75.5</td>\n",
       "      <td>66.5</td>\n",
       "      <td>73.66</td>\n",
       "      <td>4</td>\n",
       "      <td>1</td>\n",
       "      <td>male</td>\n",
       "      <td>73.5</td>\n",
       "    </tr>\n",
       "  </tbody>\n",
       "</table>\n",
       "</div>"
      ],
      "text/plain": [
       "  family  father  mother  midparentHeight  children  childNum  gender  \\\n",
       "0      1    78.5    67.0            75.43         4         1    male   \n",
       "1      1    78.5    67.0            75.43         4         2  female   \n",
       "2      1    78.5    67.0            75.43         4         3  female   \n",
       "3      1    78.5    67.0            75.43         4         4  female   \n",
       "4      2    75.5    66.5            73.66         4         1    male   \n",
       "\n",
       "   childHeight  \n",
       "0         73.2  \n",
       "1         69.2  \n",
       "2         69.0  \n",
       "3         69.0  \n",
       "4         73.5  "
      ]
     },
     "execution_count": 6,
     "metadata": {},
     "output_type": "execute_result"
    }
   ],
   "source": [
    "galton = pd.read_csv(\"data/galton.csv\")\n",
    "galton.head()"
   ]
  },
  {
   "cell_type": "raw",
   "id": "ea3f22a7-b9c9-40bf-a782-d29381a05747",
   "metadata": {},
   "source": [
    "# BEGIN QUESTION\n",
    "name: q4"
   ]
  },
  {
   "cell_type": "markdown",
   "id": "800e53fd-4f85-405a-ac4e-23adf44f4c3c",
   "metadata": {},
   "source": [
    "**Question 4.** Write a function named `corr_coef(x, y)` that accepts two 1d arrays (or columns from a dataframe) and calculates the value of $r$\n",
    "\n",
    "**Note:** Use Pearson's formula $$r=\\frac{\\sum\\limits_{i=1}^n(x_i-\\bar x)(y_i-\\bar y)}{\\sqrt{\\sum\\limits_{i=1}^n (x_i-\\bar x)^2(y_i-\\bar y)^2}}$$"
   ]
  },
  {
   "cell_type": "raw",
   "id": "1fde7e7d-0714-4a93-9234-85d96661f3c7",
   "metadata": {},
   "source": [
    "# BEGIN SOLUTION"
   ]
  },
  {
   "cell_type": "code",
   "execution_count": 7,
   "id": "89df8c34-f98a-4114-980d-83cbdfcd5593",
   "metadata": {
    "tags": []
   },
   "outputs": [
    {
     "data": {
      "text/plain": [
       "0.3209498960639593"
      ]
     },
     "execution_count": 7,
     "metadata": {},
     "output_type": "execute_result"
    }
   ],
   "source": [
    "def corr_coef(x, y):\n",
    "    \"\"\"\n",
    "    Purpose\n",
    "    -------\n",
    "    Compute Pearson's Correlation Coefficient \n",
    "    \n",
    "    Parameters\n",
    "    ----------\n",
    "    x, y: A 1 dimensional numpy array or a column from a dataframe\n",
    "    \"\"\"\n",
    "# BEGIN SOLUTION NO PROMPT\n",
    "    xbar = np.mean(x)\n",
    "    ybar = np.mean(y)\n",
    "    numerator_sum = np.sum(np.multiply(x - xbar, y - ybar))\n",
    "    denominator_sumx = np.sum((x - xbar)**2)\n",
    "    denominator_sumy = np.sum((y - ybar)**2)\n",
    "    return numerator_sum/np.sqrt(denominator_sumx*denominator_sumy)\n",
    "# END SOLUTION\n",
    "\"\"\" # BEGIN PROMPT\n",
    "    ...\n",
    "\"\"\"; # END PROMPT\n",
    "\n",
    "corr_coef(galton.midparentHeight, galton.childHeight)"
   ]
  },
  {
   "cell_type": "raw",
   "id": "cd6dfc5f-5028-44d8-9e0f-ded8578c38a3",
   "metadata": {},
   "source": [
    "# END SOLUTION"
   ]
  },
  {
   "cell_type": "raw",
   "id": "5b52749e-15c6-4f8b-8a0c-8f84a17e35ef",
   "metadata": {},
   "source": [
    "# BEGIN TESTS"
   ]
  },
  {
   "cell_type": "code",
   "execution_count": 8,
   "id": "046307a2-d702-4900-9fd1-fdda76905071",
   "metadata": {
    "tags": []
   },
   "outputs": [
    {
     "data": {
      "text/plain": [
       "True"
      ]
     },
     "execution_count": 8,
     "metadata": {},
     "output_type": "execute_result"
    }
   ],
   "source": [
    "0 < corr_coef(galton.midparentHeight, galton.childHeight) < 0.33"
   ]
  },
  {
   "cell_type": "raw",
   "id": "87b603a0-a99e-4ded-ac7a-7ae282ce471f",
   "metadata": {},
   "source": [
    "# END TESTS"
   ]
  },
  {
   "cell_type": "raw",
   "id": "5f1a3bf0-a548-4024-8a94-bbbcd962c682",
   "metadata": {},
   "source": [
    "# END SOLUTIION"
   ]
  },
  {
   "cell_type": "raw",
   "id": "5f3e7b72-65c2-4d93-8e0e-be7a72c322a2",
   "metadata": {},
   "source": [
    "# END QUESTION"
   ]
  },
  {
   "cell_type": "markdown",
   "id": "59a31803-c762-473a-a7f2-915764071bcc",
   "metadata": {},
   "source": [
    "### Correlation Coefficient in Standard Units\n",
    "\n",
    "Another way to compute the correlation coefficient is to use standard units. To compute the correlation coefficient using standard units we can use the formula \n",
    "\n",
    "$$r=\\text{average of }(x_{i\\text{s}} \\text{ in standard units} \\times y_{i\\text{s}} \\text{ in standard units})$$"
   ]
  },
  {
   "cell_type": "raw",
   "id": "06aa7096-d49e-483c-bc05-8ca34784168a",
   "metadata": {},
   "source": [
    "# BEGIN QUESTION\n",
    "name: q5"
   ]
  },
  {
   "cell_type": "markdown",
   "id": "0e29efa7-f143-499a-a4bf-6aa9ca69bb50",
   "metadata": {},
   "source": [
    "**Question 5.** We can use a function within a function. Write function named `su_corr_coef(x,y)` that uses our `standard_units` function to compute the correlation coefficient. "
   ]
  },
  {
   "cell_type": "raw",
   "id": "2cbe849d-e8ef-4f48-ae5c-8d35e89a5257",
   "metadata": {},
   "source": [
    "# BEGIN SOLUTION"
   ]
  },
  {
   "cell_type": "code",
   "execution_count": 9,
   "id": "b16e7158-ada2-4d79-a122-52f994374028",
   "metadata": {
    "tags": []
   },
   "outputs": [
    {
     "data": {
      "text/plain": [
       "0.32094989606395924"
      ]
     },
     "execution_count": 9,
     "metadata": {},
     "output_type": "execute_result"
    }
   ],
   "source": [
    "def su_corr_coef(x, y):\n",
    "    \"\"\"\n",
    "    Purpose\n",
    "    -------\n",
    "    Compute Pearson's Correlation Coefficient \n",
    "    \n",
    "    Parameters\n",
    "    ----------\n",
    "    x, y: A 1 dimensional array or a column from a dataframe\n",
    "    \"\"\"\n",
    "# BEGIN SOLUTION NO PROMPT\n",
    "    su_x = standard_units(x)\n",
    "    su_y = standard_units(y)\n",
    "    return np.mean(np.multiply(su_x, su_y))\n",
    "# END SOLUTION\n",
    "\"\"\" # BEGIN PROMPT\n",
    "    ...\n",
    "\"\"\"; # END PROMPT\n",
    "\n",
    "su_corr_coef(galton.midparentHeight, galton.childHeight)"
   ]
  },
  {
   "cell_type": "raw",
   "id": "d7401aea-dfa4-4d89-a178-a15129b6095f",
   "metadata": {},
   "source": [
    "# END SOLUTION"
   ]
  },
  {
   "cell_type": "raw",
   "id": "e41f667e-7215-4557-bdb5-ca23c94f97c0",
   "metadata": {},
   "source": [
    "# BEGIN TESTS"
   ]
  },
  {
   "cell_type": "code",
   "execution_count": 10,
   "id": "daee3ee7-b495-48dc-9503-5bd882046846",
   "metadata": {
    "tags": []
   },
   "outputs": [
    {
     "data": {
      "text/plain": [
       "True"
      ]
     },
     "execution_count": 10,
     "metadata": {},
     "output_type": "execute_result"
    }
   ],
   "source": [
    "0 < su_corr_coef(galton.midparentHeight, galton.childHeight) < 0.33"
   ]
  },
  {
   "cell_type": "raw",
   "id": "4ff8fa9d-b47d-4241-9506-6473fd55d7a2",
   "metadata": {},
   "source": [
    "# END TESTS"
   ]
  },
  {
   "cell_type": "raw",
   "id": "bb8dec36-1a11-485a-8029-5f0249509117",
   "metadata": {},
   "source": [
    "# END SOLUTIION"
   ]
  },
  {
   "cell_type": "raw",
   "id": "fae87d80-ba2f-40a7-b4cf-b8a3ced28d9a",
   "metadata": {},
   "source": [
    "# END QUESTION"
   ]
  },
  {
   "cell_type": "markdown",
   "id": "0319d5ca-6f7b-469f-84ab-7b4de8e8eebc",
   "metadata": {},
   "source": [
    "The purpose for the previous exercises was to demonstrate writing user-defined functions. In reality we would use the `.corr()` method."
   ]
  },
  {
   "cell_type": "markdown",
   "id": "61f18c70-e533-4875-86de-a15bb144650c",
   "metadata": {},
   "source": [
    "<!-- BEGIN QUESTION -->\n",
    "\n",
    "**Question 6.**  Use the `.corr()` method to find the correlation coefficient between `midparentHeight` and `childHeight`. Your output should resemble the table below.\n",
    "\n",
    "|                   |**midparentHeight**|**childHeight** |\n",
    "|-------------------|-------------------|----------------|\n",
    "|**midparentHeight**|1.00000|0.32095|\n",
    "|**childHeight**    |0.32095|1.00000|"
   ]
  },
  {
   "cell_type": "code",
   "execution_count": null,
   "id": "3ef13fea-3dbe-4bdb-b98a-c084789b85f6",
   "metadata": {
    "tags": []
   },
   "outputs": [],
   "source": [
    "..."
   ]
  },
  {
   "cell_type": "markdown",
   "id": "95a0e585-c914-4cab-b1a3-8ed19d76186e",
   "metadata": {},
   "source": [
    "Sometimes correlation coeffiecients can prodcue misleading results. Thus, its a good idea to visualize our data (\n",
    "if possible). To see an example let's take a look at Anscombe’s quartet. \n",
    "\n",
    "Anscombe's quartet comprises four data sets that have nearly identical simple descriptive statistics, yet have very different distributions and appear very different when graphed. Each dataset consists of eleven $(x,y)$ points. They were constructed in 1973 by the statistician Francis Anscombe to demonstrate both the importance of graphing data when analyzing it, and the effect of outliers and other influential observations on statistical properties [(Wikipedia)](https://en.wikipedia.org/wiki/Anscombe%27s_quartet)."
   ]
  },
  {
   "cell_type": "code",
   "execution_count": 11,
   "id": "6ad39bd4-e79f-4989-bbac-cec7b2f1a9e2",
   "metadata": {
    "tags": []
   },
   "outputs": [],
   "source": [
    "import seaborn as sns"
   ]
  },
  {
   "cell_type": "code",
   "execution_count": 12,
   "id": "9930a080-5dbd-4578-89d4-89da90739e87",
   "metadata": {
    "tags": []
   },
   "outputs": [],
   "source": [
    "df = sns.load_dataset(\"anscombe\")"
   ]
  },
  {
   "cell_type": "code",
   "execution_count": 13,
   "id": "c0b2ed33-bce9-4256-8d5f-25707071b609",
   "metadata": {
    "tags": []
   },
   "outputs": [
    {
     "name": "stdout",
     "output_type": "stream",
     "text": [
      "Data set I\n",
      "               x         y\n",
      "mean    9.000000  7.500909\n",
      "median  9.000000  7.580000\n",
      "std     3.316625  2.031568 \n",
      "\n",
      "Data set II\n",
      "               x         y\n",
      "mean    9.000000  7.500909\n",
      "median  9.000000  8.140000\n",
      "std     3.316625  2.031657 \n",
      "\n",
      "Data set III\n",
      "               x         y\n",
      "mean    9.000000  7.500000\n",
      "median  9.000000  7.110000\n",
      "std     3.316625  2.030424 \n",
      "\n",
      "Data set IV\n",
      "               x         y\n",
      "mean    9.000000  7.500909\n",
      "median  8.000000  7.040000\n",
      "std     3.316625  2.030579 \n",
      "\n"
     ]
    }
   ],
   "source": [
    "for i in ['I', 'II', 'III', 'IV']:\n",
    "    print(\"Data set \" + i)\n",
    "    print(df.groupby('dataset').get_group(i)[['x', 'y']].agg(['mean', 'median', 'std']), \"\\n\")"
   ]
  },
  {
   "cell_type": "code",
   "execution_count": 14,
   "id": "824fabfa-67b1-44da-8008-ebe5250f71dd",
   "metadata": {
    "tags": []
   },
   "outputs": [
    {
     "name": "stdout",
     "output_type": "stream",
     "text": [
      "Data set I\n",
      "          x         y\n",
      "x  1.000000  0.816421\n",
      "y  0.816421  1.000000 \n",
      "\n",
      "Data set II\n",
      "          x         y\n",
      "x  1.000000  0.816237\n",
      "y  0.816237  1.000000 \n",
      "\n",
      "Data set III\n",
      "          x         y\n",
      "x  1.000000  0.816287\n",
      "y  0.816287  1.000000 \n",
      "\n",
      "Data set IV\n",
      "          x         y\n",
      "x  1.000000  0.816521\n",
      "y  0.816521  1.000000 \n",
      "\n"
     ]
    }
   ],
   "source": [
    "for i in ['I', 'II', 'III', 'IV']:\n",
    "    print(\"Data set \" + i)\n",
    "    print(df.groupby('dataset').get_group(i)[['x', 'y']].corr(), \"\\n\")"
   ]
  },
  {
   "cell_type": "markdown",
   "id": "26717a12-d6a1-4f5c-8eab-d4c1bf3ad8a7",
   "metadata": {},
   "source": [
    "Now plot each data set."
   ]
  },
  {
   "cell_type": "code",
   "execution_count": 15,
   "id": "f458e293-0cda-4c6a-9c97-c943ba378e8f",
   "metadata": {
    "tags": []
   },
   "outputs": [
    {
     "data": {
      "image/png": "[encoded data removed]",
      "text/plain": [
       "<Figure size 800x800 with 4 Axes>"
      ]
     },
     "metadata": {},
     "output_type": "display_data"
    }
   ],
   "source": [
    "ax = sns.lmplot(x = \"x\", y = \"y\", col  = \"dataset\", hue = \"dataset\", data = df,\n",
    "           col_wrap = 2, ci = None, palette = \"muted\", height = 4,\n",
    "           scatter_kws = {\"s\": 50, \"alpha\": 1})\n",
    "ax.set(xticks = np.arange(np.min(df.x) - 2, np.max(df.x) + 2,1))\n",
    "ax.set(xticklabels = [])\n",
    "sns.set_style('white'); "
   ]
  },
  {
   "cell_type": "markdown",
   "id": "34bed2f0-ae4d-432a-9299-d5cd4721ac24",
   "metadata": {},
   "source": [
    "**Question 7.** List the datasets for which the correlation coefficient may be misleading. Explain your choices."
   ]
  },
  {
   "cell_type": "markdown",
   "id": "6ac387f1-bec0-4032-990e-e1ee2160cf3f",
   "metadata": {
    "tags": []
   },
   "source": [
    "_Type your answer here, replacing this text._"
   ]
  },
  {
   "cell_type": "markdown",
   "id": "5101fe5e-1903-4d4a-b0d7-db36adf5f618",
   "metadata": {},
   "source": [
    "## 3. Visualization"
   ]
  },
  {
   "cell_type": "markdown",
   "id": "e947266b-07bf-47ff-9645-07b74639c670",
   "metadata": {},
   "source": [
    "**Question 8.** Use the `galton` data set to create a scatter plot for the `midparentHeight` and `childHeight`.Now let's visualize the `galton` data set. "
   ]
  },
  {
   "cell_type": "code",
   "execution_count": 16,
   "id": "916652b1-c4b0-4418-8b5b-aa3d82f6142e",
   "metadata": {
    "tags": []
   },
   "outputs": [
    {
     "data": {
      "image/png": "[encoded data removed]",
      "text/plain": [
       "<Figure size 1200x700 with 1 Axes>"
      ]
     },
     "metadata": {},
     "output_type": "display_data"
    }
   ],
   "source": [
    "...\n",
    "plt.title(\"Galton Dataset\")\n",
    "plt.xlabel(\"\\n Mid-parent Height (in)\")\n",
    "plt.ylabel(\"Child Height (in)\");"
   ]
  },
  {
   "cell_type": "raw",
   "id": "3c84e5ac-604e-44bf-b7db-7688ddb6b912",
   "metadata": {},
   "source": [
    "# BEGIN QUESTION\n",
    "name: q9"
   ]
  },
  {
   "cell_type": "markdown",
   "id": "3aa98e3b-a4b8-4436-bcec-9a3b762ebd3d",
   "metadata": {},
   "source": [
    "<!-- END QUESTION -->\n",
    "\n",
    "**Question 9.** Use `standard_units` functions to change the `midparentHeight` and `childHeight` columns to standard units."
   ]
  },
  {
   "cell_type": "raw",
   "id": "60e016a7-47dc-40cb-a255-d8ce86af3310",
   "metadata": {},
   "source": [
    "# BEGIN SOLUTION"
   ]
  },
  {
   "cell_type": "code",
   "execution_count": 30,
   "id": "a9daa189-d421-41d4-ac2e-3ac5bb3c1614",
   "metadata": {
    "tags": []
   },
   "outputs": [],
   "source": [
    "su_midparentHeight = standard_units(galton['midparentHeight']) # SOLUTION\n",
    "su_childHeight = standard_units(galton['childHeight']) # SOLUTION"
   ]
  },
  {
   "cell_type": "raw",
   "id": "ec7d7760-0238-4785-a70b-bbd8ceccbd20",
   "metadata": {},
   "source": [
    "# END SOLUTION"
   ]
  },
  {
   "cell_type": "raw",
   "id": "4f7f3150-5cf4-4b8d-8007-abdb4466c4c2",
   "metadata": {},
   "source": [
    "# BEGIN TESTS"
   ]
  },
  {
   "cell_type": "code",
   "execution_count": 31,
   "id": "d5c8dff4-4eea-44fc-ba64-fee61cf7057b",
   "metadata": {
    "tags": []
   },
   "outputs": [
    {
     "data": {
      "text/plain": [
       "True"
      ]
     },
     "execution_count": 31,
     "metadata": {},
     "output_type": "execute_result"
    }
   ],
   "source": [
    "-0.0001 < np.sum(su_midparentHeight) < 0.0001"
   ]
  },
  {
   "cell_type": "code",
   "execution_count": 32,
   "id": "2ad90258-3306-46fd-8470-c95afe2e6374",
   "metadata": {
    "tags": []
   },
   "outputs": [
    {
     "data": {
      "text/plain": [
       "True"
      ]
     },
     "execution_count": 32,
     "metadata": {},
     "output_type": "execute_result"
    }
   ],
   "source": [
    "-0.0001 < np.sum(su_childHeight) < 0.0001"
   ]
  },
  {
   "cell_type": "raw",
   "id": "060ccfa6-6148-42b8-94c6-81fff58354bb",
   "metadata": {},
   "source": [
    "# END TESTS"
   ]
  },
  {
   "cell_type": "raw",
   "id": "f7c30f80-ae46-4142-91ae-970a399c5810",
   "metadata": {},
   "source": [
    "# END QUESTION"
   ]
  },
  {
   "cell_type": "markdown",
   "id": "e909a0d2-6a17-4a6b-8770-58b121c7d29d",
   "metadata": {},
   "source": [
    "<!-- BEGIN QUESTION -->\n",
    "\n",
    "**Question 10.** Create a scatter plot for the `su_midparentHeight` and `su_childHeight`."
   ]
  },
  {
   "cell_type": "code",
   "execution_count": null,
   "id": "d2724b7a-e686-4259-a349-11139493734c",
   "metadata": {
    "tags": []
   },
   "outputs": [],
   "source": [
    "...\n",
    "plt.title(\"Galton Dataset in Standard Units\")\n",
    "plt.xlabel(\"\\n Mid-parent Height (su)\")\n",
    "plt.ylabel(\"Child Height (su)\");"
   ]
  },
  {
   "cell_type": "markdown",
   "id": "86c2e46f-f6df-439e-946e-abd7051699d6",
   "metadata": {},
   "source": [
    "A benefit of standard units is that it is easy to find the mean (0) for each axis. It is also easy to compare values by their distance from the mean (standard deviation)."
   ]
  },
  {
   "cell_type": "markdown",
   "id": "bc22fe66-5feb-4b32-b619-a5592f2079b0",
   "metadata": {},
   "source": [
    "Suppose we want to find a linear equation for the line of best fit through the points (this is known as \"simple linear regression\"). Simple linear regression is a statistical method that allows us to summarize and study relationships between two continuous (numerical) variables:\n",
    "\n",
    "- One variable, denoted $x$, is regarded as the predictor, explanatory, or independent variable.\n",
    "\n",
    "- The other variable, denoted $y$, is regarded as the response, outcome, or dependent variable.\n",
    "\n",
    "A line of best fit refers to a line through a scatter plot of data points that best expresses the relationship between those points. If our scatter plot is in standard units we can find the equation using functions we defined earlier. \n",
    "\n",
    "**Note:** The equation of the line of best fit (in standard units) is $$y_{su}=r \\cdot x_{su}$$"
   ]
  },
  {
   "cell_type": "markdown",
   "id": "cc5cdeaf-2e54-4d01-82fe-2d8c54cc369e",
   "metadata": {},
   "source": [
    "<!-- BEGIN QUESTION -->\n",
    "\n",
    "**Question 11.** Plot the line of best (standard units) on the scatter plot that is in standard units."
   ]
  },
  {
   "cell_type": "code",
   "execution_count": null,
   "id": "0859b8b4-b935-4b6b-b48a-b4ee144ae3f4",
   "metadata": {
    "tags": []
   },
   "outputs": [],
   "source": [
    "...\n",
    "plt.scatter(x = ..., y = ...)\n",
    "plt.plot(..., ..., c = 'r')\n",
    "plt.title(\"Galton Dataset in Standard Units\")\n",
    "plt.xlabel(\"\\n Mid-parent Height (su)\")\n",
    "plt.ylabel(\"Child Height (su)\");"
   ]
  },
  {
   "cell_type": "markdown",
   "id": "df024d4f-094a-4217-9b0d-52e008ca2701",
   "metadata": {},
   "source": [
    "## 4. Linear Regression\n",
    "\n",
    "`scikit-learn` is a widely used open-source Python library for machine learning, built on top of `NumPy` and some other packages. It provides the means for preprocessing data, implementing regression, classification, etc.\n",
    "\n",
    "Let's go through the steps of implementing linear regression on our `galton` data set."
   ]
  },
  {
   "cell_type": "raw",
   "id": "da2ad3d7-55fc-4fcf-8d75-4449cd81d46d",
   "metadata": {},
   "source": [
    "# BEGIN QUESTION\n",
    "name: q12"
   ]
  },
  {
   "cell_type": "markdown",
   "id": "b94e5f75-b93e-4371-8082-6b247f03b34f",
   "metadata": {},
   "source": [
    "<!-- BEGIN QUESTION -->\n",
    "\n",
    "**Question 12.** Import the `LinearRegression` function from `scikit-learn`."
   ]
  },
  {
   "cell_type": "raw",
   "id": "95d2b798-cb01-4c13-b99b-b6f4642013cf",
   "metadata": {},
   "source": [
    "# BEGIN SOLUTION"
   ]
  },
  {
   "cell_type": "code",
   "execution_count": 17,
   "id": "8041864f-b2c8-4565-bf13-a266e0fc14de",
   "metadata": {
    "tags": []
   },
   "outputs": [],
   "source": [
    "# BEGIN SOLUTION NO PROMPT\n",
    "from sklearn.linear_model import LinearRegression\n",
    "# END SOLUTION\n",
    "\"\"\" # BEGIN PROMPT\n",
    "from sklearn.linear_model import ...\n",
    "\"\"\"; # END PROMPT"
   ]
  },
  {
   "cell_type": "raw",
   "id": "7ce63a25-a7b1-45c3-bf94-ac54ae9082e1",
   "metadata": {},
   "source": [
    "# END SOLUTION"
   ]
  },
  {
   "cell_type": "raw",
   "id": "563ad5e7-0ec6-4f4a-ada5-8a8658862131",
   "metadata": {},
   "source": [
    "# BEGIN TESTS"
   ]
  },
  {
   "cell_type": "code",
   "execution_count": 18,
   "id": "d5f3797e-2464-47ac-8b84-b096ea2d58bb",
   "metadata": {
    "tags": []
   },
   "outputs": [
    {
     "data": {
      "text/plain": [
       "True"
      ]
     },
     "execution_count": 18,
     "metadata": {},
     "output_type": "execute_result"
    }
   ],
   "source": [
    "import sys\n",
    "'sklearn.linear_model' in sys.modules"
   ]
  },
  {
   "cell_type": "raw",
   "id": "36a48191-cb83-42dd-a76e-329a86766317",
   "metadata": {},
   "source": [
    "# END TESTS"
   ]
  },
  {
   "cell_type": "raw",
   "id": "cba038dd-76b3-44f2-8c4f-c547741a74c5",
   "metadata": {},
   "source": [
    "# END QUESTION"
   ]
  },
  {
   "cell_type": "raw",
   "id": "a87c1c0d-217d-4cc0-ad23-d83a581f45f6",
   "metadata": {},
   "source": [
    "# BEGIN QUESTION\n",
    "name: q13\n",
    "manual: true"
   ]
  },
  {
   "cell_type": "markdown",
   "id": "5271ad14-1cf7-482a-bc98-b477dec45855",
   "metadata": {},
   "source": [
    "<!-- END QUESTION -->\n",
    "\n",
    "**Question 13.** Create a model object for our linear regression model. "
   ]
  },
  {
   "cell_type": "raw",
   "id": "5fd72850-11d4-480d-a964-7a5e8148c4e3",
   "metadata": {},
   "source": [
    "# BEGIN SOLUTION"
   ]
  },
  {
   "cell_type": "code",
   "execution_count": 19,
   "id": "9add30bc-29c5-46ed-a16a-06ae283a5c65",
   "metadata": {
    "tags": []
   },
   "outputs": [],
   "source": [
    "mp_model = LinearRegression() # SOLUTION"
   ]
  },
  {
   "cell_type": "raw",
   "id": "cc97b311-8797-492f-9b1d-6131c84160d6",
   "metadata": {},
   "source": [
    "# END SOLUTION"
   ]
  },
  {
   "cell_type": "raw",
   "id": "60ebe615-d9c5-455f-af03-760cb0337378",
   "metadata": {},
   "source": [
    "# END QUESTION"
   ]
  },
  {
   "cell_type": "markdown",
   "id": "a96e016b-8503-444e-b04f-09496560b122",
   "metadata": {},
   "source": [
    "Now we can fit the model. "
   ]
  },
  {
   "cell_type": "raw",
   "id": "e0ecd4e0-71a9-41ba-a51e-e1c2e04d5a90",
   "metadata": {},
   "source": [
    "# BEGIN QUESTION\n",
    "name: q14\n",
    "manual: true"
   ]
  },
  {
   "cell_type": "markdown",
   "id": "4a3c1440-61f6-446e-8cf0-815c3339d294",
   "metadata": {},
   "source": [
    "<!-- BEGIN QUESTION -->\n",
    "\n",
    "**Question 14.** Fit a linear model on the `midparentHeight` and `childHeight`.\n",
    "\n",
    "**Note:** The $x$ variable must be a dataframe."
   ]
  },
  {
   "cell_type": "raw",
   "id": "41175b1a-9d84-4ac6-8e9e-0115a7ccf80b",
   "metadata": {},
   "source": [
    "# BEGIN SOLUTION"
   ]
  },
  {
   "cell_type": "code",
   "execution_count": 20,
   "id": "98bbcfc0-2018-4393-a908-02f6b8e55586",
   "metadata": {
    "tags": []
   },
   "outputs": [],
   "source": [
    "# BEGIN SOLUTION NO PROMPT\n",
    "mp_model.fit(galton['midparentHeight'].to_frame(), galton['childHeight'])\n",
    "# END SOLUTION\n",
    "\"\"\" # BEGIN PROMPT\n",
    "mp_model.fit(..., ...)\n",
    "\"\"\"; # END PROMPT"
   ]
  },
  {
   "cell_type": "raw",
   "id": "e3abcc5d-38b8-4d31-8949-47b398693b7a",
   "metadata": {},
   "source": [
    "# END SOLUTION"
   ]
  },
  {
   "cell_type": "raw",
   "id": "d763628e-fb0d-4f8d-b8b4-3f3934dc0c6a",
   "metadata": {},
   "source": [
    "# END QUESTION"
   ]
  },
  {
   "cell_type": "raw",
   "id": "31c2abaa-3b3d-40d8-ae67-44598bf6a32d",
   "metadata": {},
   "source": [
    "# BEGIN QUESTION\n",
    "name: q15"
   ]
  },
  {
   "cell_type": "markdown",
   "id": "0d361b82-f24f-4e02-a672-6792a635e440",
   "metadata": {},
   "source": [
    "<!-- BEGIN QUESTION -->\n",
    "\n",
    "**Question 15.** Get the slope and $y-$intercept.\n",
    "\n",
    "**Note:** These values are stored in the `model` object."
   ]
  },
  {
   "cell_type": "raw",
   "id": "a25519f7-9b79-4e3b-b3cf-b170b2d60e7f",
   "metadata": {},
   "source": [
    "# BEGIN SOLUTION"
   ]
  },
  {
   "cell_type": "code",
   "execution_count": 21,
   "id": "bde938b2-1193-479f-aec5-a95ce42929df",
   "metadata": {
    "tags": []
   },
   "outputs": [
    {
     "name": "stdout",
     "output_type": "stream",
     "text": [
      "The y-intercept is 22.63624054958975\n",
      "The slope is 0.637360896969479\n"
     ]
    }
   ],
   "source": [
    "mp_yint = mp_model.intercept_  # SOLUTION\n",
    "mp_slope = mp_model.coef_[0]  # SOLUTION\n",
    "print(\"The y-intercept is\", mp_yint)\n",
    "print(\"The slope is\", mp_slope)"
   ]
  },
  {
   "cell_type": "raw",
   "id": "55f8e4ba-ac9f-40bb-bd2d-0f45be19881b",
   "metadata": {},
   "source": [
    "# END SOLUTION"
   ]
  },
  {
   "cell_type": "raw",
   "id": "202f8ed3-9d9a-4a59-a201-783dec45b5ff",
   "metadata": {},
   "source": [
    "# BEGIN TESTS"
   ]
  },
  {
   "cell_type": "code",
   "execution_count": 22,
   "id": "9a996aad-2332-4e07-91e3-1bfabfcfe4fa",
   "metadata": {
    "tags": []
   },
   "outputs": [
    {
     "data": {
      "text/plain": [
       "22.6"
      ]
     },
     "execution_count": 22,
     "metadata": {},
     "output_type": "execute_result"
    }
   ],
   "source": [
    "round(mp_yint, 1)"
   ]
  },
  {
   "cell_type": "code",
   "execution_count": 23,
   "id": "5bda6023-e222-4fe6-9972-e6bfe7bf136f",
   "metadata": {
    "tags": []
   },
   "outputs": [
    {
     "data": {
      "text/plain": [
       "0.64"
      ]
     },
     "execution_count": 23,
     "metadata": {},
     "output_type": "execute_result"
    }
   ],
   "source": [
    "round(mp_slope, 2)"
   ]
  },
  {
   "cell_type": "raw",
   "id": "a20c6ba5-9ad4-405e-854f-e37beaec5b7c",
   "metadata": {},
   "source": [
    "# END TESTS"
   ]
  },
  {
   "cell_type": "raw",
   "id": "0e0b3ae2-f74d-4a5e-9dc4-396f64a3fcae",
   "metadata": {},
   "source": [
    "# END QUESTION"
   ]
  },
  {
   "cell_type": "markdown",
   "id": "e3826044-9e48-4433-9ac3-8f310151d4f8",
   "metadata": {},
   "source": [
    "Finally, we can overlay the scatter plot with the line of best fit."
   ]
  },
  {
   "cell_type": "markdown",
   "id": "22ba19df-a8d7-4773-b4b7-6f654afcf4bc",
   "metadata": {},
   "source": [
    "<!-- BEGIN QUESTION -->\n",
    "\n",
    "**Question 16.** Overlay the scatter plot with the line of best fit."
   ]
  },
  {
   "cell_type": "code",
   "execution_count": 24,
   "id": "de15ce5a-4b27-4b51-903b-aeb6104efbe2",
   "metadata": {
    "tags": []
   },
   "outputs": [
    {
     "ename": "TypeError",
     "evalue": "float() argument must be a string or a real number, not 'ellipsis'",
     "output_type": "error",
     "traceback": [
      "\u001b[0;31m---------------------------------------------------------------------------\u001b[0m",
      "\u001b[0;31mTypeError\u001b[0m                                 Traceback (most recent call last)",
      "Cell \u001b[0;32mIn[24], line 2\u001b[0m\n\u001b[1;32m      1\u001b[0m \u001b[38;5;241m.\u001b[39m\u001b[38;5;241m.\u001b[39m\u001b[38;5;241m.\u001b[39m\n\u001b[0;32m----> 2\u001b[0m \u001b[43mplt\u001b[49m\u001b[38;5;241;43m.\u001b[39;49m\u001b[43mscatter\u001b[49m\u001b[43m(\u001b[49m\u001b[43mx\u001b[49m\u001b[43m \u001b[49m\u001b[38;5;241;43m=\u001b[39;49m\u001b[43m \u001b[49m\u001b[38;5;241;43m.\u001b[39;49m\u001b[38;5;241;43m.\u001b[39;49m\u001b[38;5;241;43m.\u001b[39;49m\u001b[43m,\u001b[49m\u001b[43m \u001b[49m\u001b[43my\u001b[49m\u001b[43m \u001b[49m\u001b[38;5;241;43m=\u001b[39;49m\u001b[43m \u001b[49m\u001b[38;5;241;43m.\u001b[39;49m\u001b[38;5;241;43m.\u001b[39;49m\u001b[38;5;241;43m.\u001b[39;49m\u001b[43m)\u001b[49m\n\u001b[1;32m      3\u001b[0m plt\u001b[38;5;241m.\u001b[39mplot(\u001b[38;5;241m.\u001b[39m\u001b[38;5;241m.\u001b[39m\u001b[38;5;241m.\u001b[39m, \u001b[38;5;241m.\u001b[39m\u001b[38;5;241m.\u001b[39m\u001b[38;5;241m.\u001b[39m\u001b[38;5;241m*\u001b[39m\u001b[38;5;241m.\u001b[39m\u001b[38;5;241m.\u001b[39m\u001b[38;5;241m.\u001b[39m \u001b[38;5;241m+\u001b[39m \u001b[38;5;241m.\u001b[39m\u001b[38;5;241m.\u001b[39m\u001b[38;5;241m.\u001b[39m, c \u001b[38;5;241m=\u001b[39m \u001b[38;5;124m'\u001b[39m\u001b[38;5;124mr\u001b[39m\u001b[38;5;124m'\u001b[39m)\n",
      "File \u001b[0;32m~/anaconda3/envs/datascience/lib/python3.10/site-packages/matplotlib/pyplot.py:2862\u001b[0m, in \u001b[0;36mscatter\u001b[0;34m(x, y, s, c, marker, cmap, norm, vmin, vmax, alpha, linewidths, edgecolors, plotnonfinite, data, **kwargs)\u001b[0m\n\u001b[1;32m   2857\u001b[0m \u001b[38;5;129m@_copy_docstring_and_deprecators\u001b[39m(Axes\u001b[38;5;241m.\u001b[39mscatter)\n\u001b[1;32m   2858\u001b[0m \u001b[38;5;28;01mdef\u001b[39;00m \u001b[38;5;21mscatter\u001b[39m(\n\u001b[1;32m   2859\u001b[0m         x, y, s\u001b[38;5;241m=\u001b[39m\u001b[38;5;28;01mNone\u001b[39;00m, c\u001b[38;5;241m=\u001b[39m\u001b[38;5;28;01mNone\u001b[39;00m, marker\u001b[38;5;241m=\u001b[39m\u001b[38;5;28;01mNone\u001b[39;00m, cmap\u001b[38;5;241m=\u001b[39m\u001b[38;5;28;01mNone\u001b[39;00m, norm\u001b[38;5;241m=\u001b[39m\u001b[38;5;28;01mNone\u001b[39;00m,\n\u001b[1;32m   2860\u001b[0m         vmin\u001b[38;5;241m=\u001b[39m\u001b[38;5;28;01mNone\u001b[39;00m, vmax\u001b[38;5;241m=\u001b[39m\u001b[38;5;28;01mNone\u001b[39;00m, alpha\u001b[38;5;241m=\u001b[39m\u001b[38;5;28;01mNone\u001b[39;00m, linewidths\u001b[38;5;241m=\u001b[39m\u001b[38;5;28;01mNone\u001b[39;00m, \u001b[38;5;241m*\u001b[39m,\n\u001b[1;32m   2861\u001b[0m         edgecolors\u001b[38;5;241m=\u001b[39m\u001b[38;5;28;01mNone\u001b[39;00m, plotnonfinite\u001b[38;5;241m=\u001b[39m\u001b[38;5;28;01mFalse\u001b[39;00m, data\u001b[38;5;241m=\u001b[39m\u001b[38;5;28;01mNone\u001b[39;00m, \u001b[38;5;241m*\u001b[39m\u001b[38;5;241m*\u001b[39mkwargs):\n\u001b[0;32m-> 2862\u001b[0m     __ret \u001b[38;5;241m=\u001b[39m \u001b[43mgca\u001b[49m\u001b[43m(\u001b[49m\u001b[43m)\u001b[49m\u001b[38;5;241;43m.\u001b[39;49m\u001b[43mscatter\u001b[49m\u001b[43m(\u001b[49m\n\u001b[1;32m   2863\u001b[0m \u001b[43m        \u001b[49m\u001b[43mx\u001b[49m\u001b[43m,\u001b[49m\u001b[43m \u001b[49m\u001b[43my\u001b[49m\u001b[43m,\u001b[49m\u001b[43m \u001b[49m\u001b[43ms\u001b[49m\u001b[38;5;241;43m=\u001b[39;49m\u001b[43ms\u001b[49m\u001b[43m,\u001b[49m\u001b[43m \u001b[49m\u001b[43mc\u001b[49m\u001b[38;5;241;43m=\u001b[39;49m\u001b[43mc\u001b[49m\u001b[43m,\u001b[49m\u001b[43m \u001b[49m\u001b[43mmarker\u001b[49m\u001b[38;5;241;43m=\u001b[39;49m\u001b[43mmarker\u001b[49m\u001b[43m,\u001b[49m\u001b[43m \u001b[49m\u001b[43mcmap\u001b[49m\u001b[38;5;241;43m=\u001b[39;49m\u001b[43mcmap\u001b[49m\u001b[43m,\u001b[49m\u001b[43m \u001b[49m\u001b[43mnorm\u001b[49m\u001b[38;5;241;43m=\u001b[39;49m\u001b[43mnorm\u001b[49m\u001b[43m,\u001b[49m\n\u001b[1;32m   2864\u001b[0m \u001b[43m        \u001b[49m\u001b[43mvmin\u001b[49m\u001b[38;5;241;43m=\u001b[39;49m\u001b[43mvmin\u001b[49m\u001b[43m,\u001b[49m\u001b[43m \u001b[49m\u001b[43mvmax\u001b[49m\u001b[38;5;241;43m=\u001b[39;49m\u001b[43mvmax\u001b[49m\u001b[43m,\u001b[49m\u001b[43m \u001b[49m\u001b[43malpha\u001b[49m\u001b[38;5;241;43m=\u001b[39;49m\u001b[43malpha\u001b[49m\u001b[43m,\u001b[49m\u001b[43m \u001b[49m\u001b[43mlinewidths\u001b[49m\u001b[38;5;241;43m=\u001b[39;49m\u001b[43mlinewidths\u001b[49m\u001b[43m,\u001b[49m\n\u001b[1;32m   2865\u001b[0m \u001b[43m        \u001b[49m\u001b[43medgecolors\u001b[49m\u001b[38;5;241;43m=\u001b[39;49m\u001b[43medgecolors\u001b[49m\u001b[43m,\u001b[49m\u001b[43m \u001b[49m\u001b[43mplotnonfinite\u001b[49m\u001b[38;5;241;43m=\u001b[39;49m\u001b[43mplotnonfinite\u001b[49m\u001b[43m,\u001b[49m\n\u001b[1;32m   2866\u001b[0m \u001b[43m        \u001b[49m\u001b[38;5;241;43m*\u001b[39;49m\u001b[38;5;241;43m*\u001b[39;49m\u001b[43m(\u001b[49m\u001b[43m{\u001b[49m\u001b[38;5;124;43m\"\u001b[39;49m\u001b[38;5;124;43mdata\u001b[39;49m\u001b[38;5;124;43m\"\u001b[39;49m\u001b[43m:\u001b[49m\u001b[43m \u001b[49m\u001b[43mdata\u001b[49m\u001b[43m}\u001b[49m\u001b[43m \u001b[49m\u001b[38;5;28;43;01mif\u001b[39;49;00m\u001b[43m \u001b[49m\u001b[43mdata\u001b[49m\u001b[43m \u001b[49m\u001b[38;5;129;43;01mis\u001b[39;49;00m\u001b[43m \u001b[49m\u001b[38;5;129;43;01mnot\u001b[39;49;00m\u001b[43m \u001b[49m\u001b[38;5;28;43;01mNone\u001b[39;49;00m\u001b[43m \u001b[49m\u001b[38;5;28;43;01melse\u001b[39;49;00m\u001b[43m \u001b[49m\u001b[43m{\u001b[49m\u001b[43m}\u001b[49m\u001b[43m)\u001b[49m\u001b[43m,\u001b[49m\u001b[43m \u001b[49m\u001b[38;5;241;43m*\u001b[39;49m\u001b[38;5;241;43m*\u001b[39;49m\u001b[43mkwargs\u001b[49m\u001b[43m)\u001b[49m\n\u001b[1;32m   2867\u001b[0m     sci(__ret)\n\u001b[1;32m   2868\u001b[0m     \u001b[38;5;28;01mreturn\u001b[39;00m __ret\n",
      "File \u001b[0;32m~/anaconda3/envs/datascience/lib/python3.10/site-packages/matplotlib/__init__.py:1442\u001b[0m, in \u001b[0;36m_preprocess_data.<locals>.inner\u001b[0;34m(ax, data, *args, **kwargs)\u001b[0m\n\u001b[1;32m   1439\u001b[0m \u001b[38;5;129m@functools\u001b[39m\u001b[38;5;241m.\u001b[39mwraps(func)\n\u001b[1;32m   1440\u001b[0m \u001b[38;5;28;01mdef\u001b[39;00m \u001b[38;5;21minner\u001b[39m(ax, \u001b[38;5;241m*\u001b[39margs, data\u001b[38;5;241m=\u001b[39m\u001b[38;5;28;01mNone\u001b[39;00m, \u001b[38;5;241m*\u001b[39m\u001b[38;5;241m*\u001b[39mkwargs):\n\u001b[1;32m   1441\u001b[0m     \u001b[38;5;28;01mif\u001b[39;00m data \u001b[38;5;129;01mis\u001b[39;00m \u001b[38;5;28;01mNone\u001b[39;00m:\n\u001b[0;32m-> 1442\u001b[0m         \u001b[38;5;28;01mreturn\u001b[39;00m \u001b[43mfunc\u001b[49m\u001b[43m(\u001b[49m\u001b[43max\u001b[49m\u001b[43m,\u001b[49m\u001b[43m \u001b[49m\u001b[38;5;241;43m*\u001b[39;49m\u001b[38;5;28;43mmap\u001b[39;49m\u001b[43m(\u001b[49m\u001b[43msanitize_sequence\u001b[49m\u001b[43m,\u001b[49m\u001b[43m \u001b[49m\u001b[43margs\u001b[49m\u001b[43m)\u001b[49m\u001b[43m,\u001b[49m\u001b[43m \u001b[49m\u001b[38;5;241;43m*\u001b[39;49m\u001b[38;5;241;43m*\u001b[39;49m\u001b[43mkwargs\u001b[49m\u001b[43m)\u001b[49m\n\u001b[1;32m   1444\u001b[0m     bound \u001b[38;5;241m=\u001b[39m new_sig\u001b[38;5;241m.\u001b[39mbind(ax, \u001b[38;5;241m*\u001b[39margs, \u001b[38;5;241m*\u001b[39m\u001b[38;5;241m*\u001b[39mkwargs)\n\u001b[1;32m   1445\u001b[0m     auto_label \u001b[38;5;241m=\u001b[39m (bound\u001b[38;5;241m.\u001b[39marguments\u001b[38;5;241m.\u001b[39mget(label_namer)\n\u001b[1;32m   1446\u001b[0m                   \u001b[38;5;129;01mor\u001b[39;00m bound\u001b[38;5;241m.\u001b[39mkwargs\u001b[38;5;241m.\u001b[39mget(label_namer))\n",
      "File \u001b[0;32m~/anaconda3/envs/datascience/lib/python3.10/site-packages/matplotlib/axes/_axes.py:4673\u001b[0m, in \u001b[0;36mAxes.scatter\u001b[0;34m(self, x, y, s, c, marker, cmap, norm, vmin, vmax, alpha, linewidths, edgecolors, plotnonfinite, **kwargs)\u001b[0m\n\u001b[1;32m   4667\u001b[0m         linewidths \u001b[38;5;241m=\u001b[39m [\n\u001b[1;32m   4668\u001b[0m             lw \u001b[38;5;28;01mif\u001b[39;00m lw \u001b[38;5;129;01mis\u001b[39;00m \u001b[38;5;129;01mnot\u001b[39;00m \u001b[38;5;28;01mNone\u001b[39;00m \u001b[38;5;28;01melse\u001b[39;00m mpl\u001b[38;5;241m.\u001b[39mrcParams[\u001b[38;5;124m'\u001b[39m\u001b[38;5;124mlines.linewidth\u001b[39m\u001b[38;5;124m'\u001b[39m]\n\u001b[1;32m   4669\u001b[0m             \u001b[38;5;28;01mfor\u001b[39;00m lw \u001b[38;5;129;01min\u001b[39;00m linewidths]\n\u001b[1;32m   4671\u001b[0m offsets \u001b[38;5;241m=\u001b[39m np\u001b[38;5;241m.\u001b[39mma\u001b[38;5;241m.\u001b[39mcolumn_stack([x, y])\n\u001b[0;32m-> 4673\u001b[0m collection \u001b[38;5;241m=\u001b[39m \u001b[43mmcoll\u001b[49m\u001b[38;5;241;43m.\u001b[39;49m\u001b[43mPathCollection\u001b[49m\u001b[43m(\u001b[49m\n\u001b[1;32m   4674\u001b[0m \u001b[43m    \u001b[49m\u001b[43m(\u001b[49m\u001b[43mpath\u001b[49m\u001b[43m,\u001b[49m\u001b[43m)\u001b[49m\u001b[43m,\u001b[49m\u001b[43m \u001b[49m\u001b[43mscales\u001b[49m\u001b[43m,\u001b[49m\n\u001b[1;32m   4675\u001b[0m \u001b[43m    \u001b[49m\u001b[43mfacecolors\u001b[49m\u001b[38;5;241;43m=\u001b[39;49m\u001b[43mcolors\u001b[49m\u001b[43m,\u001b[49m\n\u001b[1;32m   4676\u001b[0m \u001b[43m    \u001b[49m\u001b[43medgecolors\u001b[49m\u001b[38;5;241;43m=\u001b[39;49m\u001b[43medgecolors\u001b[49m\u001b[43m,\u001b[49m\n\u001b[1;32m   4677\u001b[0m \u001b[43m    \u001b[49m\u001b[43mlinewidths\u001b[49m\u001b[38;5;241;43m=\u001b[39;49m\u001b[43mlinewidths\u001b[49m\u001b[43m,\u001b[49m\n\u001b[1;32m   4678\u001b[0m \u001b[43m    \u001b[49m\u001b[43moffsets\u001b[49m\u001b[38;5;241;43m=\u001b[39;49m\u001b[43moffsets\u001b[49m\u001b[43m,\u001b[49m\n\u001b[1;32m   4679\u001b[0m \u001b[43m    \u001b[49m\u001b[43moffset_transform\u001b[49m\u001b[38;5;241;43m=\u001b[39;49m\u001b[43mkwargs\u001b[49m\u001b[38;5;241;43m.\u001b[39;49m\u001b[43mpop\u001b[49m\u001b[43m(\u001b[49m\u001b[38;5;124;43m'\u001b[39;49m\u001b[38;5;124;43mtransform\u001b[39;49m\u001b[38;5;124;43m'\u001b[39;49m\u001b[43m,\u001b[49m\u001b[43m \u001b[49m\u001b[38;5;28;43mself\u001b[39;49m\u001b[38;5;241;43m.\u001b[39;49m\u001b[43mtransData\u001b[49m\u001b[43m)\u001b[49m\u001b[43m,\u001b[49m\n\u001b[1;32m   4680\u001b[0m \u001b[43m    \u001b[49m\u001b[43malpha\u001b[49m\u001b[38;5;241;43m=\u001b[39;49m\u001b[43malpha\u001b[49m\u001b[43m,\u001b[49m\n\u001b[1;32m   4681\u001b[0m \u001b[43m\u001b[49m\u001b[43m)\u001b[49m\n\u001b[1;32m   4682\u001b[0m collection\u001b[38;5;241m.\u001b[39mset_transform(mtransforms\u001b[38;5;241m.\u001b[39mIdentityTransform())\n\u001b[1;32m   4683\u001b[0m \u001b[38;5;28;01mif\u001b[39;00m colors \u001b[38;5;129;01mis\u001b[39;00m \u001b[38;5;28;01mNone\u001b[39;00m:\n",
      "File \u001b[0;32m~/anaconda3/envs/datascience/lib/python3.10/site-packages/matplotlib/collections.py:994\u001b[0m, in \u001b[0;36mPathCollection.__init__\u001b[0;34m(self, paths, sizes, **kwargs)\u001b[0m\n\u001b[1;32m    980\u001b[0m \u001b[38;5;28;01mdef\u001b[39;00m \u001b[38;5;21m__init__\u001b[39m(\u001b[38;5;28mself\u001b[39m, paths, sizes\u001b[38;5;241m=\u001b[39m\u001b[38;5;28;01mNone\u001b[39;00m, \u001b[38;5;241m*\u001b[39m\u001b[38;5;241m*\u001b[39mkwargs):\n\u001b[1;32m    981\u001b[0m \u001b[38;5;250m    \u001b[39m\u001b[38;5;124;03m\"\"\"\u001b[39;00m\n\u001b[1;32m    982\u001b[0m \u001b[38;5;124;03m    Parameters\u001b[39;00m\n\u001b[1;32m    983\u001b[0m \u001b[38;5;124;03m    ----------\u001b[39;00m\n\u001b[0;32m   (...)\u001b[0m\n\u001b[1;32m    991\u001b[0m \u001b[38;5;124;03m        Forwarded to `.Collection`.\u001b[39;00m\n\u001b[1;32m    992\u001b[0m \u001b[38;5;124;03m    \"\"\"\u001b[39;00m\n\u001b[0;32m--> 994\u001b[0m     \u001b[38;5;28;43msuper\u001b[39;49m\u001b[43m(\u001b[49m\u001b[43m)\u001b[49m\u001b[38;5;241;43m.\u001b[39;49m\u001b[38;5;21;43m__init__\u001b[39;49m\u001b[43m(\u001b[49m\u001b[38;5;241;43m*\u001b[39;49m\u001b[38;5;241;43m*\u001b[39;49m\u001b[43mkwargs\u001b[49m\u001b[43m)\u001b[49m\n\u001b[1;32m    995\u001b[0m     \u001b[38;5;28mself\u001b[39m\u001b[38;5;241m.\u001b[39mset_paths(paths)\n\u001b[1;32m    996\u001b[0m     \u001b[38;5;28mself\u001b[39m\u001b[38;5;241m.\u001b[39mset_sizes(sizes)\n",
      "File \u001b[0;32m~/anaconda3/envs/datascience/lib/python3.10/site-packages/matplotlib/_api/deprecation.py:454\u001b[0m, in \u001b[0;36mmake_keyword_only.<locals>.wrapper\u001b[0;34m(*args, **kwargs)\u001b[0m\n\u001b[1;32m    448\u001b[0m \u001b[38;5;28;01mif\u001b[39;00m \u001b[38;5;28mlen\u001b[39m(args) \u001b[38;5;241m>\u001b[39m name_idx:\n\u001b[1;32m    449\u001b[0m     warn_deprecated(\n\u001b[1;32m    450\u001b[0m         since, message\u001b[38;5;241m=\u001b[39m\u001b[38;5;124m\"\u001b[39m\u001b[38;5;124mPassing the \u001b[39m\u001b[38;5;132;01m%(name)s\u001b[39;00m\u001b[38;5;124m \u001b[39m\u001b[38;5;132;01m%(obj_type)s\u001b[39;00m\u001b[38;5;124m \u001b[39m\u001b[38;5;124m\"\u001b[39m\n\u001b[1;32m    451\u001b[0m         \u001b[38;5;124m\"\u001b[39m\u001b[38;5;124mpositionally is deprecated since Matplotlib \u001b[39m\u001b[38;5;132;01m%(since)s\u001b[39;00m\u001b[38;5;124m; the \u001b[39m\u001b[38;5;124m\"\u001b[39m\n\u001b[1;32m    452\u001b[0m         \u001b[38;5;124m\"\u001b[39m\u001b[38;5;124mparameter will become keyword-only \u001b[39m\u001b[38;5;132;01m%(removal)s\u001b[39;00m\u001b[38;5;124m.\u001b[39m\u001b[38;5;124m\"\u001b[39m,\n\u001b[1;32m    453\u001b[0m         name\u001b[38;5;241m=\u001b[39mname, obj_type\u001b[38;5;241m=\u001b[39m\u001b[38;5;124mf\u001b[39m\u001b[38;5;124m\"\u001b[39m\u001b[38;5;124mparameter of \u001b[39m\u001b[38;5;132;01m{\u001b[39;00mfunc\u001b[38;5;241m.\u001b[39m\u001b[38;5;18m__name__\u001b[39m\u001b[38;5;132;01m}\u001b[39;00m\u001b[38;5;124m()\u001b[39m\u001b[38;5;124m\"\u001b[39m)\n\u001b[0;32m--> 454\u001b[0m \u001b[38;5;28;01mreturn\u001b[39;00m \u001b[43mfunc\u001b[49m\u001b[43m(\u001b[49m\u001b[38;5;241;43m*\u001b[39;49m\u001b[43margs\u001b[49m\u001b[43m,\u001b[49m\u001b[43m \u001b[49m\u001b[38;5;241;43m*\u001b[39;49m\u001b[38;5;241;43m*\u001b[39;49m\u001b[43mkwargs\u001b[49m\u001b[43m)\u001b[49m\n",
      "File \u001b[0;32m~/anaconda3/envs/datascience/lib/python3.10/site-packages/matplotlib/collections.py:192\u001b[0m, in \u001b[0;36mCollection.__init__\u001b[0;34m(self, edgecolors, facecolors, linewidths, linestyles, capstyle, joinstyle, antialiaseds, offsets, offset_transform, norm, cmap, pickradius, hatch, urls, zorder, **kwargs)\u001b[0m\n\u001b[1;32m    189\u001b[0m     \u001b[38;5;28mself\u001b[39m\u001b[38;5;241m.\u001b[39m_joinstyle \u001b[38;5;241m=\u001b[39m \u001b[38;5;28;01mNone\u001b[39;00m\n\u001b[1;32m    191\u001b[0m \u001b[38;5;28;01mif\u001b[39;00m offsets \u001b[38;5;129;01mis\u001b[39;00m \u001b[38;5;129;01mnot\u001b[39;00m \u001b[38;5;28;01mNone\u001b[39;00m:\n\u001b[0;32m--> 192\u001b[0m     offsets \u001b[38;5;241m=\u001b[39m \u001b[43mnp\u001b[49m\u001b[38;5;241;43m.\u001b[39;49m\u001b[43masanyarray\u001b[49m\u001b[43m(\u001b[49m\u001b[43moffsets\u001b[49m\u001b[43m,\u001b[49m\u001b[43m \u001b[49m\u001b[38;5;28;43mfloat\u001b[39;49m\u001b[43m)\u001b[49m\n\u001b[1;32m    193\u001b[0m     \u001b[38;5;66;03m# Broadcast (2,) -> (1, 2) but nothing else.\u001b[39;00m\n\u001b[1;32m    194\u001b[0m     \u001b[38;5;28;01mif\u001b[39;00m offsets\u001b[38;5;241m.\u001b[39mshape \u001b[38;5;241m==\u001b[39m (\u001b[38;5;241m2\u001b[39m,):\n",
      "\u001b[0;31mTypeError\u001b[0m: float() argument must be a string or a real number, not 'ellipsis'"
     ]
    },
    {
     "data": {
      "image/png": "[encoded data removed]",
      "text/plain": [
       "<Figure size 1200x700 with 1 Axes>"
      ]
     },
     "metadata": {},
     "output_type": "display_data"
    }
   ],
   "source": [
    "...\n",
    "plt.scatter(x = ..., y = ...)\n",
    "plt.plot(..., ...*... + ..., c = 'r');"
   ]
  },
  {
   "cell_type": "raw",
   "id": "b41f59ab-dbde-4f0c-8a37-d571098b6023",
   "metadata": {},
   "source": [
    "# BEGIN QUESTION\n",
    "name: q17"
   ]
  },
  {
   "cell_type": "markdown",
   "id": "f77005fd-5d7a-4341-89e6-1329fe254b10",
   "metadata": {},
   "source": [
    "<!-- END QUESTION -->\n",
    "\n",
    "<!-- BEGIN QUESTION -->\n",
    "\n",
    "**Question 17.** Repeat the steps in **Question 13**, **Question 14** and **Question 15** using the height of the mother (`mother`) as the predictor and the height of the child (`childHeight`) as the response."
   ]
  },
  {
   "cell_type": "raw",
   "id": "b5f82f4f-0518-4e2d-9048-4a69e66f86eb",
   "metadata": {},
   "source": [
    "# BEGIN SOLUTION"
   ]
  },
  {
   "cell_type": "code",
   "execution_count": 27,
   "id": "da8236f5-e59f-487d-9d1d-aa367ac14d1f",
   "metadata": {
    "tags": []
   },
   "outputs": [
    {
     "name": "stdout",
     "output_type": "stream",
     "text": [
      "The y-intercept is 46.58710391937156\n",
      "The slope is  0.3145428276813158\n"
     ]
    }
   ],
   "source": [
    "# BEGIN SOLUTION NO PROMPT\n",
    "mm_model = LinearRegression()\n",
    "mm_model.fit(galton['mother'].to_frame(), galton['childHeight'])\n",
    "mm_yint = mm_model.intercept_\n",
    "mm_slope = mm_model.coef_[0]\n",
    "# END SOLUTION\n",
    "\"\"\" # BEGIN PROMPT\n",
    "mm_model = ...\n",
    "mm_model.fit(..., ...)\n",
    "mm_yint = ...\n",
    "mm_slope = ...\n",
    "\"\"\"; # END PROMPT\n",
    "print(\"The y-intercept is\" , mm_yint)\n",
    "print(\"The slope is \", mm_slope)"
   ]
  },
  {
   "cell_type": "raw",
   "id": "0ec39d5c-1b34-4181-ba9c-0fb9fbb42569",
   "metadata": {},
   "source": [
    "# END SOLUTION"
   ]
  },
  {
   "cell_type": "raw",
   "id": "648315cb-184e-42cb-ba65-7e2f83611fdd",
   "metadata": {},
   "source": [
    "# BEGIN TESTS"
   ]
  },
  {
   "cell_type": "code",
   "execution_count": 28,
   "id": "cfef628b-6007-4dfb-bca6-00cbfa54d8f5",
   "metadata": {},
   "outputs": [
    {
     "data": {
      "text/plain": [
       "46.58710391937156"
      ]
     },
     "execution_count": 28,
     "metadata": {},
     "output_type": "execute_result"
    }
   ],
   "source": [
    "mm_yint"
   ]
  },
  {
   "cell_type": "code",
   "execution_count": 29,
   "id": "fdec1f11-b002-4ab9-b300-98a6425d5967",
   "metadata": {},
   "outputs": [
    {
     "data": {
      "text/plain": [
       "0.3145428276813158"
      ]
     },
     "execution_count": 29,
     "metadata": {},
     "output_type": "execute_result"
    }
   ],
   "source": [
    "mm_slope"
   ]
  },
  {
   "cell_type": "raw",
   "id": "43dce8d8-8178-4f85-b4fd-c05a163edbd6",
   "metadata": {},
   "source": [
    "# END TESTS"
   ]
  },
  {
   "cell_type": "raw",
   "id": "c98d4e5c-18af-4865-9635-2a0d64a67b1c",
   "metadata": {},
   "source": [
    "# END QUESTION"
   ]
  },
  {
   "cell_type": "markdown",
   "id": "70a04b8b-25f8-45f9-9f69-349525e68b2e",
   "metadata": {},
   "source": [
    "<!-- END QUESTION -->\n",
    "\n",
    "<!-- BEGIN QUESTION -->\n",
    "\n",
    "**Question 18.** Create a scatter plot for the model in **Question 17**. Overlay the scatter plot with the line of best fit."
   ]
  },
  {
   "cell_type": "code",
   "execution_count": null,
   "id": "1ca4d655-e679-4758-a02b-bb7175650b18",
   "metadata": {
    "tags": []
   },
   "outputs": [],
   "source": [
    "..."
   ]
  }
 ],
 "metadata": {
  "kernelspec": {
   "display_name": "Python 3 (ipykernel)",
   "language": "python",
   "name": "python3"
  },
  "language_info": {
   "codemirror_mode": {
    "name": "ipython",
    "version": 3
   },
   "file_extension": ".py",
   "mimetype": "text/x-python",
   "name": "python",
   "nbconvert_exporter": "python",
   "pygments_lexer": "ipython3",
   "version": "3.10.11"
  }
 },
 "nbformat": 4,
 "nbformat_minor": 5
}
