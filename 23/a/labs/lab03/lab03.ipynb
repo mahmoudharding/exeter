{
 "cells": [
  {
   "cell_type": "code",
   "execution_count": null,
   "id": "4c373cc8",
   "metadata": {
    "deletable": false,
    "editable": false
   },
   "outputs": [],
   "source": [
    "# Initialize Otter\n",
    "import otter\n",
    "grader = otter.Notebook(\"lab03.ipynb\")"
   ]
  },
  {
   "attachments": {},
   "cell_type": "markdown",
   "id": "e0808c93",
   "metadata": {},
   "source": [
    "# Run the cell below\n",
    "\n",
    "To run a code cell (i.e.; execute the python code inside a Jupyter notebook) you can click the play button on the ribbon underneath the name of the notebook. Before you begin click the \"Run cell\" button at the top that looks like ▶| or hold down `Shift` + `Return`."
   ]
  },
  {
   "attachments": {},
   "cell_type": "markdown",
   "id": "636714c1",
   "metadata": {},
   "source": [
    "## Lab 03: Probability Distributions\n",
    "\n",
    "Welcome to Advanced Topics in Data Science for High School! Throughout the course you will complete assignments like this one. You can't learn technical subjects without hands-on practice, so these assignments are an important part of the course.\n",
    "\n",
    "**Collaboration Policy:**\n",
    "\n",
    "Collaborating on labs is more than okay -- it's encouraged! You should rarely remain stuck for more than a few minutes on questions in labs, so ask a neighbor or an instructor for help. Explaining things is beneficial, too -- the best way to solidify your knowledge of a subject is to explain it. You should **not** _just_ copy/paste someone else's code, but rather work together to gain understanding of the task you need to complete. \n",
    "\n",
    "**Note:** For autograded probability questions, the provided tests will only check that your answer is within a reasonable range.\n",
    "\n",
    "**Due Date:**\n",
    "\n",
    "## Today's Assignment \n",
    "\n",
    "In today's assignment, you'll learn about:\n",
    "\n",
    "- the [`seaborn` library](https://seaborn.pydata.org/). \n",
    "\n",
    "  **Note:** The `seaborn` library is a Python data visualization library based on `matplotlib`. It provides a high-level interface for drawing attractive and informative statistical graphics.\n",
    "  \n",
    "First, set up the imports by running the cell below."
   ]
  },
  {
   "cell_type": "code",
   "execution_count": null,
   "id": "ea468035",
   "metadata": {
    "tags": []
   },
   "outputs": [],
   "source": [
    "import numpy as np\n",
    "import seaborn as sns\n",
    "sns.set()"
   ]
  },
  {
   "attachments": {},
   "cell_type": "markdown",
   "id": "ec06521f",
   "metadata": {},
   "source": [
    "## Distributions\n",
    "\n",
    "Visualizing distributions, both categorical and numerical, helps us understand variability. In Foundations of Data Science you visualized numerical distributions by drawing [histograms](https://www.inferentialthinking.com/chapters/07/2/Visualizing_Numerical_Distributions.html#A-Histogram), which look like bar charts but represent proportions by the *areas* of the bars instead of the heights or lengths. In this exercise you will use the [`histplot`](https://seaborn.pydata.org/generated/seaborn.histplot.html)  method in `seaborn` instead of the corresponding `Table` method (from Foundations of Data Science) to draw histograms.\n",
    "\n",
    "[`seaborn`](https://seaborn.pydata.org/index.html) is a Python data visualization library based on [`matplotlib`](https://matplotlib.org/). It provides a high-level interface for drawing statistical graphics. \n",
    "\n",
    "To start off, suppose we want to plot the probability distribution of the number of dots on a single roll of a die. That should be a flat histogram since the chance of each of the values 1 through 6 is $\\frac{1}{6}$. Here is a first attempt at drawing the histogram."
   ]
  },
  {
   "cell_type": "code",
   "execution_count": null,
   "id": "508c4c73",
   "metadata": {
    "tags": []
   },
   "outputs": [],
   "source": [
    "faces = range(1, 7)\n",
    "sns.histplot(faces);"
   ]
  },
  {
   "attachments": {},
   "cell_type": "markdown",
   "id": "70272709",
   "metadata": {},
   "source": [
    "This default plot is not helpful. We have to choose some arguments to get a visualization that we can interpret. \n",
    "\n",
    "Note that the second printed line shows the left ends of the default bins, as well as the right end of the last bin. The first line shows the counts in the bins. \n",
    "\n",
    "Let's redraw the histogram with bins of unit length centered at the possible values. By the end of the exercise you'll see a reason for centering."
   ]
  },
  {
   "cell_type": "code",
   "execution_count": null,
   "id": "d0f737d2",
   "metadata": {
    "tags": []
   },
   "outputs": [],
   "source": [
    "unit_bins = np.arange(0.5, 6.6)\n",
    "sns.histplot(faces, bins=unit_bins);"
   ]
  },
  {
   "attachments": {},
   "cell_type": "markdown",
   "id": "209dade3",
   "metadata": {},
   "source": [
    "That's much better, but look at the vertical axis. It is not drawn to the [density scale](https://inferentialthinking.com/chapters/07/2/Visualizing_Numerical_Distributions.html#the-vertical-axis-density-scale) defined in Foundations of Data Science. We want a histogram of a probability distribution, so the total area should be 1. \n",
    "\n",
    "To fix this we can use the parameter `stat='density'`."
   ]
  },
  {
   "cell_type": "code",
   "execution_count": null,
   "id": "d12e3943",
   "metadata": {
    "tags": []
   },
   "outputs": [],
   "source": [
    "sns.histplot(faces, bins=unit_bins, stat='density');"
   ]
  },
  {
   "attachments": {},
   "cell_type": "markdown",
   "id": "4667a30d",
   "metadata": {},
   "source": [
    "That's the probability histogram of the number of spots on one roll of a die. The proportion is $\\frac{1}{6}$ in each of the bins."
   ]
  },
  {
   "attachments": {},
   "cell_type": "markdown",
   "id": "77622fbd",
   "metadata": {},
   "source": [
    "<!-- BEGIN QUESTION -->\n",
    "\n",
    "**Question 1.** Define a function `integer_distribution` that takes an array of integers and draws the histogram of the distribution using unit bins centered at the integers and white edges for the bars. The histogram should be drawn to the density scale. The left-most bar should be centered at the smallest integer in the array, and the right-most bar at the largest.\n",
    "\n",
    "Your function does not have to check that the input is an array consisting only of integers. The display does not need to include the printed proportions and bins.\n",
    "\n",
    "**Hint:** If you have trouble defining the function, go back and carefully read all the lines of code that resulted in the probability histogram of the number of spots on one roll of a die. Pay special attention to the bins."
   ]
  },
  {
   "cell_type": "code",
   "execution_count": null,
   "id": "1611179b",
   "metadata": {
    "tags": []
   },
   "outputs": [],
   "source": [
    "def integer_distribution(x):\n",
    "    ...\n",
    "\n",
    "integer_distribution(np.arange(1,6))"
   ]
  },
  {
   "attachments": {},
   "cell_type": "markdown",
   "id": "3c3b5360",
   "metadata": {
    "tags": []
   },
   "source": [
    "<!-- END QUESTION -->\n",
    "\n",
    "## `SciPy` and `special`\n",
    "\n",
    "Factorials and the binomial coefficients \n",
    "\n",
    "$$\\binom{n}{k} = \\frac{n!}{k!(n-k)!}$$\n",
    "\n",
    "get large very quickly as $n$ gets large. One way to compute them is to use the `SciPy` module `special`. `SciPy` is a collection of Python-based software for math, probability, statistics, science, and engineering."
   ]
  },
  {
   "cell_type": "code",
   "execution_count": null,
   "id": "ab9bacff",
   "metadata": {
    "tags": []
   },
   "outputs": [],
   "source": [
    "from scipy import special"
   ]
  },
  {
   "attachments": {},
   "cell_type": "markdown",
   "id": "f9515c2c",
   "metadata": {},
   "source": [
    "Below are two examples of `special.factorial`."
   ]
  },
  {
   "cell_type": "code",
   "execution_count": null,
   "id": "9b087c93",
   "metadata": {
    "tags": []
   },
   "outputs": [],
   "source": [
    "special.factorial(5)"
   ]
  },
  {
   "attachments": {},
   "cell_type": "markdown",
   "id": "125d5c96",
   "metadata": {},
   "source": [
    "If `exact=True`, the output will be calculated exactly using long integer arithmetic."
   ]
  },
  {
   "cell_type": "code",
   "execution_count": null,
   "id": "ae2c45de",
   "metadata": {
    "tags": []
   },
   "outputs": [],
   "source": [
    "special.factorial(range(1, 10), exact=True)"
   ]
  },
  {
   "attachments": {},
   "cell_type": "markdown",
   "id": "909583ee",
   "metadata": {},
   "source": [
    "Traditionally, subsets of $k$ items out of a population of $n$ items are called **combinations**, and so `special.comb(n, k)` evaluates to $\\binom{n}{k}$. \n",
    "\n",
    "**Note:** We will always use the term **subsets** to mean un-ordered sets. We will use **permutations** in situations where we need to keep track of the order in which the elements appear.\n",
    "\n",
    "Look at the code and output from running the next 5 code cells carefully (including types) before starting **Question 2.**."
   ]
  },
  {
   "cell_type": "code",
   "execution_count": null,
   "id": "e9375ad9",
   "metadata": {
    "tags": []
   },
   "outputs": [],
   "source": [
    "special.comb(5, 3)"
   ]
  },
  {
   "cell_type": "code",
   "execution_count": null,
   "id": "f5321f6c",
   "metadata": {
    "tags": []
   },
   "outputs": [],
   "source": [
    "special.factorial(5)/(special.factorial(3)*special.factorial(2))"
   ]
  },
  {
   "cell_type": "code",
   "execution_count": null,
   "id": "be4b5e66",
   "metadata": {
    "tags": []
   },
   "outputs": [],
   "source": [
    "special.comb(5, range(6))"
   ]
  },
  {
   "cell_type": "code",
   "execution_count": null,
   "id": "be064925",
   "metadata": {
    "tags": []
   },
   "outputs": [],
   "source": [
    "special.comb(100, 50)"
   ]
  },
  {
   "cell_type": "code",
   "execution_count": null,
   "id": "40599f77",
   "metadata": {
    "tags": []
   },
   "outputs": [],
   "source": [
    "special.comb(100, 50, exact=True)"
   ]
  },
  {
   "attachments": {},
   "cell_type": "markdown",
   "id": "c9a65ad4",
   "metadata": {},
   "source": [
    "Consider a population in which a proportion $p$ of individuals are called *\"successes\"* (or 1, if you prefer) and the remaining proportion are rudely called *\"failures\"* (or 0). \n",
    "\n",
    "Let $n$ be a positive integer. If you draw a sample of size $n$ at random with replacement from the population then the chance that you get $k$ successes and $n-k$ failures in your sample is \n",
    "\n",
    "$$\\binom{n}{k}p^k(1-p)^{n-k}$$ for $0 \\le k \\le n$. \n",
    "\n",
    "You saw examples of binomial probabilities in the Permutations and Combinations assignment."
   ]
  },
  {
   "attachments": {},
   "cell_type": "markdown",
   "id": "b57d9cfc",
   "metadata": {},
   "source": [
    "**Question 2.** In the Permutations and Combinations assignment **Question 5.** asks \n",
    "\n",
    "*\"What is the probability that, if challenged, Eddy could make at least 3 out of 5 free throws?\"*\n",
    "\n",
    "Given the fact that Eddy shoots 60% from the free-throw line, complete the cell with a Python expression that evaluates to a `NumPy` array whose elements are the chances of $k$ successes for $k = 0, 1, 2, 3, 4, 5$. Assign your array to `all_probs`. Your array should sum to 1."
   ]
  },
  {
   "cell_type": "code",
   "execution_count": null,
   "id": "69823a4f",
   "metadata": {
    "tags": []
   },
   "outputs": [],
   "source": [
    "all_probs = ...\n",
    "all_probs"
   ]
  },
  {
   "cell_type": "code",
   "execution_count": null,
   "id": "fd0c9adf",
   "metadata": {
    "deletable": false,
    "editable": false
   },
   "outputs": [],
   "source": [
    "grader.check(\"q2\")"
   ]
  },
  {
   "attachments": {},
   "cell_type": "markdown",
   "id": "cc284997",
   "metadata": {},
   "source": [
    "**Question 3.** Suppose you sample 100 times at random with replacement from a population in which 26% of the individuals are called \"successes\" (that's traditional terminology in probability). Write a Python expression that evaluates to the chance that the sample has 20 successes. \n",
    "\n",
    "**Computational Note:** Don't import any other libraries; just use the ones already imported and plug into the formula above **Question 2**. It's far from the best way numerically, but it is fine for the numbers involved in this lab. For this course, we are focusing on issues of numerical accuracy.\n"
   ]
  },
  {
   "cell_type": "code",
   "execution_count": null,
   "id": "a3f5575e",
   "metadata": {
    "tags": []
   },
   "outputs": [],
   "source": [
    "prob_q3 = ...\n",
    "prob_q3"
   ]
  },
  {
   "cell_type": "code",
   "execution_count": null,
   "id": "5e0af510",
   "metadata": {
    "deletable": false,
    "editable": false
   },
   "outputs": [],
   "source": [
    "grader.check(\"q3\")"
   ]
  },
  {
   "attachments": {},
   "cell_type": "markdown",
   "id": "0716045e",
   "metadata": {},
   "source": [
    "**Question 4.** Suppose we want to know the theoretical probability that the number of successes in a sample of 100 is in the interval 20 to 30 (inclusive on both sides), where the probability of a success is 0.26. Calculate this probability and assign it to the variable `prob_q4`.\n",
    "\n",
    "\n",
    "**Hints:** You can use the `special.comb` function to compute binomial probability."
   ]
  },
  {
   "cell_type": "code",
   "execution_count": null,
   "id": "9d640c36",
   "metadata": {
    "tags": []
   },
   "outputs": [],
   "source": [
    "prob_q4 = ...\n",
    "prob_q4"
   ]
  },
  {
   "cell_type": "code",
   "execution_count": null,
   "id": "0da4166a",
   "metadata": {
    "deletable": false,
    "editable": false
   },
   "outputs": [],
   "source": [
    "grader.check(\"q4\")"
   ]
  },
  {
   "attachments": {},
   "cell_type": "markdown",
   "id": "549f344b",
   "metadata": {},
   "source": [
    "Let $n$ and $s$ be an positive integers such that $0 \\le s \\le n$. Consider a sample of size $n$ drawn at random with replacement from a population in which a proportion $p$ of the individuals are called successes. The mathematical expression for the probability that the number of successes in the sample is at most $s$ can be written as \n",
    "\n",
    "$$\\sum_{k=0}^s \\binom{n}{k}p^k(1-p)^{n-k}$$\n",
    "\n",
    "In statisitcs classes this probability will typically be denoted $P(S \\le s)$ where $S$ denotes the random number of successes in the sample. Formal definitions of the pieces of this notation aren't particularly helpful for our purposes. Just read it as *\"the probability that the number of successes is at most $s$.\"*"
   ]
  },
  {
   "attachments": {},
   "cell_type": "markdown",
   "id": "acda6df8",
   "metadata": {},
   "source": [
    "<!-- BEGIN QUESTION -->\n",
    "\n",
    "**Question 5.** Fill in the function `prob_at_most` which takes $n$, $p$, and $s$ and returns $P(S \\le s)$ as defined in summation above.\n",
    "\n",
    "**Note:** Make sure that the inputs are valid. For example, if $p > 1$ or $s > n$ then return 0. \n",
    "\n",
    "**Warning:** Check your function to make sure you are returning the correct probability before continuing with the lab."
   ]
  },
  {
   "cell_type": "code",
   "execution_count": null,
   "id": "028167cc",
   "metadata": {
    "tags": []
   },
   "outputs": [],
   "source": [
    "def prob_at_most(n, p, s):\n",
    "    \"\"\"Returns the probability of S <= s\n",
    "       n: sample size\n",
    "       p : proportion of successes\n",
    "       s: number of successes at most\"\"\"\n",
    "    ..."
   ]
  },
  {
   "attachments": {},
   "cell_type": "markdown",
   "id": "cbdefb7b",
   "metadata": {},
   "source": [
    "<!-- END QUESTION -->\n",
    "\n",
    "## Polling"
   ]
  },
  {
   "attachments": {},
   "cell_type": "markdown",
   "id": "55c9ae3f",
   "metadata": {},
   "source": [
    "**Question 6.**  In an election, supporters of Candidate C are in a minority. Only 45% of the voters in the population favor the candidate. Suppose a survey organization takes a sample of 200 voters from this population. Use `prob_at_most` to write an expression that evaluates to the chance that a majority (more than half) of the sampled voters favor Candidate C."
   ]
  },
  {
   "cell_type": "code",
   "execution_count": null,
   "id": "6bd66d44",
   "metadata": {
    "tags": []
   },
   "outputs": [],
   "source": [
    "p_majority = ...\n",
    "p_majority"
   ]
  },
  {
   "cell_type": "code",
   "execution_count": null,
   "id": "60ccf8fb",
   "metadata": {
    "deletable": false,
    "editable": false
   },
   "outputs": [],
   "source": [
    "grader.check(\"q6\")"
   ]
  },
  {
   "attachments": {},
   "cell_type": "markdown",
   "id": "29ff7497",
   "metadata": {},
   "source": [
    "Suppose five different survey organizations takes a sample of voters at random with replacement from the population of voters in **Question 6**, independently of the samples drawn by the other organizations. \n",
    "\n",
    "- Three of the organizations use a sample size of 200\n",
    "- One organization uses a sample size of 300\n",
    "- One organization uses a sample size of 400\n",
    "\n",
    "**Question 7.**  Write an expression that evaluates to the chance that in at least one of the five samples the majority of voters favor Candidate C. You can use any quantity or function defined earlier in this lab.\n",
    "\n",
    "**Hints:** \n",
    "\n",
    "- When two or more events are independent, the probability that both will happen is the product of their individual probabilities.\n",
    "\n",
    "- The probability of an event occurring at least once, will be the complement of the event never occurring. This means that the probability of the event never occurring and the probability of the event occurring at least once will equal 1."
   ]
  },
  {
   "cell_type": "code",
   "execution_count": null,
   "id": "02e2bd92",
   "metadata": {
    "tags": []
   },
   "outputs": [],
   "source": [
    "prob_candidate_c = ...\n",
    "prob_candidate_c"
   ]
  },
  {
   "cell_type": "code",
   "execution_count": null,
   "id": "16c675e2",
   "metadata": {
    "deletable": false,
    "editable": false
   },
   "outputs": [],
   "source": [
    "grader.check(\"q7\")"
   ]
  },
  {
   "attachments": {},
   "cell_type": "markdown",
   "id": "dbaea830",
   "metadata": {
    "tags": []
   },
   "source": [
    "# Simulating Risk Probability\n",
    "\n",
    "Studies indicate that about 90% of the booked passengers actually arrive for their flights. Suppose that a small plane has 75 seats and, for the purpose of this exercise, assume that passengers arrive independently of each other. \n",
    "\n",
    "**Note:** This assumption is not realistic (i.e. many people do not travel alone).\n",
    "\n",
    "Most of the time airlines overbook flights (i.e. the airline sells more tickets than there are seats on the plane). This is due to the fact that sometimes passengers fail to show up, and the plane must be flown with empty seats. However, if they overbook, they run the risk of having more passengers than seats. This will undoubtedly upset passengers. \n",
    "\n",
    "To entice overbooked passengers to give up their seats, the airline will give vouchers for free flights or offer money to passengers to take a later flight.\n",
    "\n",
    "With these risks in mind the airline decides to sell 80 tickets. You and your friends see this as an opportunity to design an application that will help the airlines determine if this is a good strategy."
   ]
  },
  {
   "attachments": {},
   "cell_type": "markdown",
   "id": "4530bfd1",
   "metadata": {},
   "source": [
    "<!-- BEGIN QUESTION -->\n",
    "\n",
    "**Question 8.** Read the article [5 things to know about Southwest's disastrous meltdown](https://www.npr.org/2022/12/30/1146377342/5-things-to-know-about-southwests-disastrous-meltdown). \n",
    "\n",
    "- What did the article claim to be the major reason behind this debacle? Do you agree? \n",
    "- Do you think the company can avoid this from happening again in the future? Why, or why not? \n",
    "\n",
    "Write a paragraph that addresses each of the previously mentioned questions."
   ]
  },
  {
   "cell_type": "markdown",
   "id": "abb4a815",
   "metadata": {},
   "source": [
    "_Type your answer here, replacing this text._"
   ]
  },
  {
   "attachments": {},
   "cell_type": "markdown",
   "id": "4309c4a4",
   "metadata": {},
   "source": [
    "<!-- END QUESTION -->\n",
    "\n",
    "**Question 9.** Write a function named `number_of_tickets` that will simulate 80 tickets being sold for flight on an airplane with 75 available seats. Simulate the probability that the number of passengers who arrive for the flight is more than the number of seats available. Store this proportion in `prop_tickets`. \n",
    "\n",
    "**Note:** Make sure that the inputs are valid. For example, if $p > 1$ or $s > n$ then return 0."
   ]
  },
  {
   "cell_type": "code",
   "execution_count": null,
   "id": "416965d0",
   "metadata": {
    "tags": []
   },
   "outputs": [],
   "source": [
    "def number_of_tickets(n, p, s):\n",
    "    \"\"\"Returns the probability of S >= s\n",
    "       n: number of tickets sold \n",
    "       p: proportion of passengers expected to arrive \n",
    "       s: number of available seats\"\"\"\n",
    "    ...\n",
    "prop_tickets = number_of_tickets(80, 0.9, 75)\n",
    "prop_tickets"
   ]
  },
  {
   "cell_type": "code",
   "execution_count": null,
   "id": "89c7bbe7",
   "metadata": {
    "deletable": false,
    "editable": false
   },
   "outputs": [],
   "source": [
    "grader.check(\"q9\")"
   ]
  },
  {
   "attachments": {},
   "cell_type": "markdown",
   "id": "dd9e47ad",
   "metadata": {},
   "source": [
    "**Question 10.** If the airline wants to keep the probability of having more than 75 passengers show up to get on the flight to around 1%, what is the maximum number of tickets they should sell? Assign this value to `tickets_to_sell`."
   ]
  },
  {
   "cell_type": "code",
   "execution_count": null,
   "id": "0c05f04c",
   "metadata": {
    "tags": []
   },
   "outputs": [],
   "source": [
    "...\n",
    "tickets_to_sell"
   ]
  },
  {
   "cell_type": "code",
   "execution_count": null,
   "id": "99e4df72",
   "metadata": {
    "deletable": false,
    "editable": false
   },
   "outputs": [],
   "source": [
    "grader.check(\"q10\")"
   ]
  },
  {
   "attachments": {},
   "cell_type": "markdown",
   "id": "ee1391df",
   "metadata": {},
   "source": [
    "<!-- BEGIN QUESTION -->\n",
    "\n",
    "**Question 11.** In 2-3 sentences, explain how you determined your answer for **Question 10**."
   ]
  },
  {
   "cell_type": "markdown",
   "id": "8f111b50",
   "metadata": {},
   "source": [
    "_Type your answer here, replacing this text._"
   ]
  },
  {
   "cell_type": "markdown",
   "id": "afd4b0da",
   "metadata": {},
   "source": [
    "<!-- END QUESTION -->\n",
    "\n"
   ]
  },
  {
   "cell_type": "markdown",
   "id": "10b95b8e",
   "metadata": {
    "deletable": false,
    "editable": false
   },
   "source": [
    "## Submission\n",
    "\n",
    "Make sure you have run all cells in your notebook in order before running the cell below, so that all images/graphs appear in the output. The cell below will generate a zip file for you to submit. **Please save before exporting!**"
   ]
  },
  {
   "cell_type": "code",
   "execution_count": null,
   "id": "85fbac88",
   "metadata": {
    "deletable": false,
    "editable": false
   },
   "outputs": [],
   "source": [
    "# Save your notebook first, then run this cell to export your submission.\n",
    "grader.export(run_tests=True)"
   ]
  },
  {
   "cell_type": "markdown",
   "id": "1b7b6e9f",
   "metadata": {},
   "source": [
    " "
   ]
  }
 ],
 "metadata": {
  "kernelspec": {
   "display_name": "Python 3 (ipykernel)",
   "language": "python",
   "name": "python3"
  },
  "language_info": {
   "codemirror_mode": {
    "name": "ipython",
    "version": 3
   },
   "file_extension": ".py",
   "mimetype": "text/x-python",
   "name": "python",
   "nbconvert_exporter": "python",
   "pygments_lexer": "ipython3",
   "version": "3.10.11"
  },
  "otter": {
   "OK_FORMAT": true,
   "tests": {
    "q10": {
     "name": "q10",
     "points": null,
     "suites": [
      {
       "cases": [
        {
         "code": ">>> 0 < tickets_to_sell < 80\nTrue",
         "hidden": false,
         "locked": false
        }
       ],
       "scored": true,
       "setup": "",
       "teardown": "",
       "type": "doctest"
      }
     ]
    },
    "q2": {
     "name": "q2",
     "points": null,
     "suites": [
      {
       "cases": [
        {
         "code": ">>> np.sum(all_probs)\n1.0",
         "hidden": false,
         "locked": false
        },
        {
         "code": ">>> len(all_probs)\n6",
         "hidden": false,
         "locked": false
        }
       ],
       "scored": true,
       "setup": "",
       "teardown": "",
       "type": "doctest"
      }
     ]
    },
    "q3": {
     "name": "q3",
     "points": null,
     "suites": [
      {
       "cases": [
        {
         "code": ">>> 0 < prob_q3 < 0.037\nTrue",
         "hidden": false,
         "locked": false
        }
       ],
       "scored": true,
       "setup": "",
       "teardown": "",
       "type": "doctest"
      }
     ]
    },
    "q4": {
     "name": "q4",
     "points": null,
     "suites": [
      {
       "cases": [
        {
         "code": ">>> 0 < prob_q4 < 0.79\nTrue",
         "hidden": false,
         "locked": false
        }
       ],
       "scored": true,
       "setup": "",
       "teardown": "",
       "type": "doctest"
      }
     ]
    },
    "q6": {
     "name": "q6",
     "points": null,
     "suites": [
      {
       "cases": [
        {
         "code": ">>> 0 < p_majority < 0.07\nTrue",
         "hidden": false,
         "locked": false
        }
       ],
       "scored": true,
       "setup": "",
       "teardown": "",
       "type": "doctest"
      }
     ]
    },
    "q7": {
     "name": "q7",
     "points": null,
     "suites": [
      {
       "cases": [
        {
         "code": ">>> 0 < prob_candidate_c < 0.3\nTrue",
         "hidden": false,
         "locked": false
        }
       ],
       "scored": true,
       "setup": "",
       "teardown": "",
       "type": "doctest"
      }
     ]
    },
    "q9": {
     "name": "q9",
     "points": null,
     "suites": [
      {
       "cases": [
        {
         "code": ">>> 0 < prop_tickets < 0.18\nTrue",
         "hidden": false,
         "locked": false
        }
       ],
       "scored": true,
       "setup": "",
       "teardown": "",
       "type": "doctest"
      }
     ]
    }
   }
  }
 },
 "nbformat": 4,
 "nbformat_minor": 5
}
