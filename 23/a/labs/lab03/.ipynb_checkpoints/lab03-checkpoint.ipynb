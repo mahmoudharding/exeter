{
 "cells": [
  {
   "cell_type": "raw",
   "id": "44a44fbd-735f-4b87-93de-ec54bc07d013",
   "metadata": {},
   "source": [
    "# ASSIGNMENT CONFIG\n",
    "export_cell:\n",
    "  instructions: \"When done exporting, download the .zip file by `SHIFT`-clicking on the file name and selecting **Save Link As**. Or, find the .zip file in the left side of the screen and right-click and select **Download**. You'll submit this .zip file for the assignment in Canvas to Gradescope for grading.\"\n",
    "  pdf: false\n",
    "generate:\n",
    "  points_possible: 14\n",
    "  show_stdout: true\n",
    "  show_hidden: true\n",
    "files:\n",
    "  - images/integer_dist.png"
   ]
  },
  {
   "cell_type": "markdown",
   "id": "a287d10f-5028-4661-b913-1545cd8b7d21",
   "metadata": {},
   "source": [
    "# Lab 03: Probability Distributions\n",
    "\n",
    "Welcome to Lab 03! In this lab you will investigate probability and probability distributions.\n",
    "\n",
    "**Due Date:** Friday, February 24, 2022 at 11:59 pm\n",
    "\n",
    "**Collaboration Policy:** Data science is a collaborative activity. While you may talk with others about the labs, we ask that you **write your solutions individually**. If you do discuss the assignments with others **please include their names below** (it's a good way to learn your classmates' names).\n",
    "\n",
    "**Collaborators:** \n",
    "\n",
    "List collaborators here.\n",
    "\n",
    "**Note:** For autograded probability questions, the provided tests will only check that your answer is within a reasonable range.\n",
    "\n",
    "In this lab we'll explore the [`seaborn` library](https://seaborn.pydata.org/). The `seaborn` library is a Python data visualization library based on `matplotlib`. It provides a high-level interface for drawing attractive and informative statistical graphics."
   ]
  },
  {
   "cell_type": "code",
   "execution_count": 2,
   "id": "85dd6415-d4f1-47f0-91dd-af4bb4abdab4",
   "metadata": {},
   "outputs": [],
   "source": [
    "import numpy as np\n",
    "import seaborn as sns\n",
    "sns.set()"
   ]
  },
  {
   "cell_type": "markdown",
   "id": "504a8f32-83b2-4144-8fa5-6cf83c18d602",
   "metadata": {},
   "source": [
    "## Distributions\n",
    "\n",
    "Visualizing distributions, both categorical and numerical, helps us understand variability. In Foundations of Data Science you visualized numerical distributions by drawing [histograms](https://www.inferentialthinking.com/chapters/07/2/Visualizing_Numerical_Distributions.html#A-Histogram), which look like bar charts but represent proportions by the *areas* of the bars instead of the heights or lengths. In this exercise you will use the [`histplot`](https://seaborn.pydata.org/generated/seaborn.histplot.html)  method in `seaborn` instead of the corresponding `Table` method (from Foundations of Data Science) to draw histograms.\n",
    "\n",
    "[`seaborn`](https://seaborn.pydata.org/index.html) is a Python data visualization library based on [`matplotlib`](https://matplotlib.org/). It provides a high-level interface for drawing statistical graphics. \n",
    "\n",
    "To start off, suppose we want to plot the probability distribution of the number of spots on a single roll of a die. That should be a flat histogram since the chance of each of the values 1 through 6 is $\\frac{1}{6}$. Here is a first attempt at drawing the histogram."
   ]
  },
  {
   "cell_type": "code",
   "execution_count": 3,
   "id": "dfae1a18-9672-4ac9-84b5-a049f1742d54",
   "metadata": {},
   "outputs": [
    {
     "data": {
      "image/png": "[encoded data removed]",
      "text/plain": [
       "<Figure size 432x288 with 1 Axes>"
      ]
     },
     "metadata": {
      "needs_background": "light"
     },
     "output_type": "display_data"
    }
   ],
   "source": [
    "faces = range(1, 7)\n",
    "sns.histplot(faces);"
   ]
  },
  {
   "cell_type": "markdown",
   "id": "f5fe9efb-567a-4594-84bb-f870a5d719e2",
   "metadata": {},
   "source": [
    "This default plot is not helpful. We have to choose some arguments to get a visualization that we can interpret. \n",
    "\n",
    "Note that the second printed line shows the left ends of the default bins, as well as the right end of the last bin. The first line shows the counts in the bins. \n",
    "\n",
    "Let's redraw the histogram with bins of unit length centered at the possible values. By the end of the exercise you'll see a reason for centering. Notice that the argument for specifying bins is the same as the one for the `Table` method `hist`."
   ]
  },
  {
   "cell_type": "code",
   "execution_count": 4,
   "id": "c4566cfe-4707-459a-b786-2e78344ddcbc",
   "metadata": {},
   "outputs": [
    {
     "data": {
      "image/png": "[encoded data removed]",
      "text/plain": [
       "<Figure size 432x288 with 1 Axes>"
      ]
     },
     "metadata": {
      "needs_background": "light"
     },
     "output_type": "display_data"
    }
   ],
   "source": [
    "unit_bins = np.arange(0.5, 6.6)\n",
    "sns.histplot(faces, bins=unit_bins);"
   ]
  },
  {
   "cell_type": "markdown",
   "id": "847d327c-5be2-4f30-8488-8592000c3732",
   "metadata": {},
   "source": [
    "That's much better, but look at the vertical axis. It is not drawn to the [density scale](https://www.inferentialthinking.com/chapters/07/2/Visualizing_Numerical_Distributions.html#The-Histogram:-General-Principles-and-Calculation) defined in Foundations of Data Science. We want a histogram of a probability distribution, so the total area should be 1. \n",
    "\n",
    "To fix this we can use the parameter `stat='density'`."
   ]
  },
  {
   "cell_type": "code",
   "execution_count": 5,
   "id": "e68069d9-7eda-4e04-a120-8a8ad6d83456",
   "metadata": {},
   "outputs": [
    {
     "data": {
      "image/png": "[encoded data removed]",
      "text/plain": [
       "<Figure size 432x288 with 1 Axes>"
      ]
     },
     "metadata": {
      "needs_background": "light"
     },
     "output_type": "display_data"
    }
   ],
   "source": [
    "sns.histplot(faces, bins=unit_bins, stat='density');"
   ]
  },
  {
   "cell_type": "markdown",
   "id": "b9092ccc-680b-4128-9e36-a4291f2ef3b0",
   "metadata": {},
   "source": [
    "That's the probability histogram of the number of spots on one roll of a die. The proportion is $\\frac{1}{6}$ in each of the bins."
   ]
  },
  {
   "cell_type": "raw",
   "id": "663d115f-3a2e-4cc4-9363-f740afbeb83b",
   "metadata": {},
   "source": [
    "# BEGIN QUESTION\n",
    "name: q1\n",
    "manual: true"
   ]
  },
  {
   "cell_type": "markdown",
   "id": "a96f99c2-1690-43aa-8a52-c02415473d52",
   "metadata": {},
   "source": [
    "**Question 1.** Define a function `integer_distribution` that takes an array of integers and draws the histogram of the distribution using unit bins centered at the integers and white edges for the bars. The histogram should be drawn to the density scale. The left-most bar should be centered at the smallest integer in the array, and the right-most bar at the largest.\n",
    "\n",
    "Your function does not have to check that the input is an array consisting only of integers. The display does not need to include the printed proportions and bins.\n",
    "\n",
    "**Hint:** If you have trouble defining the function, go back and carefully read all the lines of code that resulted in the probability histogram of the number of spots on one roll of a die. Pay special attention to the bins."
   ]
  },
  {
   "cell_type": "raw",
   "id": "54853754-0b1a-440b-b7ea-dee74b1b7c90",
   "metadata": {},
   "source": [
    "# BEGIN SOLUTION"
   ]
  },
  {
   "cell_type": "code",
   "execution_count": 6,
   "id": "1c195c7d-b9e6-4f91-ac16-e240890248d1",
   "metadata": {},
   "outputs": [
    {
     "data": {
      "image/png": "[encoded data removed]",
      "text/plain": [
       "<Figure size 432x288 with 1 Axes>"
      ]
     },
     "metadata": {
      "needs_background": "light"
     },
     "output_type": "display_data"
    }
   ],
   "source": [
    "def integer_distribution(x):\n",
    "    sns.histplot(x, bins=np.arange(min(x)-0.5,max(x)+0.6), stat='density') # SOLUTION\n",
    "\n",
    "integer_distribution(np.arange(1,5.6))"
   ]
  },
  {
   "cell_type": "raw",
   "id": "8a85370f-8882-41ec-abac-c222ccc5f583",
   "metadata": {},
   "source": [
    "# END SOLUTION"
   ]
  },
  {
   "cell_type": "raw",
   "id": "c340622c-683b-44f2-8066-5899f0595dbe",
   "metadata": {},
   "source": [
    "# END QUESTION"
   ]
  },
  {
   "cell_type": "markdown",
   "id": "83398d80-4c55-49ee-9215-5b50f1f676e9",
   "metadata": {
    "tags": []
   },
   "source": [
    "## `SciPy` and `special`\n",
    "\n",
    "Factorials and the binomial coefficients \n",
    "\n",
    "$$\\binom{n}{k} = \\frac{n!}{k!(n-k)!}$$\n",
    "\n",
    "get large very quickly as $n$ gets large. One way to compute them is to use the `SciPy` module `special`. `SciPy` is a collection of Python-based software for math, probability, statistics, science, and engineering."
   ]
  },
  {
   "cell_type": "code",
   "execution_count": 7,
   "id": "c06fa325-820c-44ca-98fb-e1e945b7898a",
   "metadata": {},
   "outputs": [],
   "source": [
    "from scipy import special"
   ]
  },
  {
   "cell_type": "markdown",
   "id": "2cad033c-41bb-49d8-a597-1cbecd27b564",
   "metadata": {},
   "source": [
    "Below are two examples of `special.factorial`."
   ]
  },
  {
   "cell_type": "code",
   "execution_count": 8,
   "id": "35880db5-f99f-4793-9cbf-7850762828db",
   "metadata": {},
   "outputs": [
    {
     "data": {
      "text/plain": [
       "120.0"
      ]
     },
     "execution_count": 8,
     "metadata": {},
     "output_type": "execute_result"
    }
   ],
   "source": [
    "special.factorial(5)"
   ]
  },
  {
   "cell_type": "markdown",
   "id": "e0e41621-4ad7-44ad-b8c6-c3295ca50cca",
   "metadata": {},
   "source": [
    "If `exact=True`, the output will be calculated exactly using long integer arithmetic."
   ]
  },
  {
   "cell_type": "code",
   "execution_count": 9,
   "id": "72a784c1-468d-4fdb-98b7-16862cdb9ea4",
   "metadata": {},
   "outputs": [
    {
     "data": {
      "text/plain": [
       "array([     1,      2,      6,     24,    120,    720,   5040,  40320,\n",
       "       362880])"
      ]
     },
     "execution_count": 9,
     "metadata": {},
     "output_type": "execute_result"
    }
   ],
   "source": [
    "special.factorial(range(1, 10), exact=True)"
   ]
  },
  {
   "cell_type": "markdown",
   "id": "994fa363-62bb-4398-9ca5-5117f144b49f",
   "metadata": {},
   "source": [
    "Traditionally, subsets of $k$ items out of a population of $n$ items are called **combinations**, and so `special.comb(n, k)` evaluates to $\\binom{n}{k}$. \n",
    "\n",
    "**Note:** We will always use the term **subsets** to mean un-ordered sets. We will use **permutations** in situations where we need to keep track of the order in which the elements appear.\n",
    "\n",
    "Look at the code and output from running the next 5 code cells carefully (including types) before starting **Question 2.**."
   ]
  },
  {
   "cell_type": "code",
   "execution_count": 10,
   "id": "61fa759d-2d59-4720-82c5-5de4587cb7aa",
   "metadata": {},
   "outputs": [
    {
     "data": {
      "text/plain": [
       "10.0"
      ]
     },
     "execution_count": 10,
     "metadata": {},
     "output_type": "execute_result"
    }
   ],
   "source": [
    "special.comb(5, 3)"
   ]
  },
  {
   "cell_type": "code",
   "execution_count": 11,
   "id": "553d4a2d-3fa0-4ee6-bf9c-3c480ceac314",
   "metadata": {},
   "outputs": [
    {
     "data": {
      "text/plain": [
       "10.0"
      ]
     },
     "execution_count": 11,
     "metadata": {},
     "output_type": "execute_result"
    }
   ],
   "source": [
    "special.factorial(5)/(special.factorial(3)*special.factorial(2))"
   ]
  },
  {
   "cell_type": "code",
   "execution_count": 12,
   "id": "cdf346db-d6c7-40aa-b1e6-0a283426baf9",
   "metadata": {},
   "outputs": [
    {
     "data": {
      "text/plain": [
       "array([ 1.,  5., 10., 10.,  5.,  1.])"
      ]
     },
     "execution_count": 12,
     "metadata": {},
     "output_type": "execute_result"
    }
   ],
   "source": [
    "special.comb(5, range(6))"
   ]
  },
  {
   "cell_type": "code",
   "execution_count": 13,
   "id": "252ecb66-6b72-48af-b2bf-f52cd27f5d0a",
   "metadata": {},
   "outputs": [
    {
     "data": {
      "text/plain": [
       "1.0089134454556415e+29"
      ]
     },
     "execution_count": 13,
     "metadata": {},
     "output_type": "execute_result"
    }
   ],
   "source": [
    "special.comb(100, 50)"
   ]
  },
  {
   "cell_type": "code",
   "execution_count": 14,
   "id": "7737a589-97bc-4099-8623-6a44fc80fa9c",
   "metadata": {},
   "outputs": [
    {
     "data": {
      "text/plain": [
       "100891344545564193334812497256"
      ]
     },
     "execution_count": 14,
     "metadata": {},
     "output_type": "execute_result"
    }
   ],
   "source": [
    "special.comb(100, 50, exact=True)"
   ]
  },
  {
   "cell_type": "markdown",
   "id": "65548242-075d-44e4-b175-45656da3d090",
   "metadata": {},
   "source": [
    "Consider a population in which a proportion $p$ of individuals are called *\"successes\"* (or 1, if you prefer) and the remaining proportion are rudely called *\"failures\"* (or 0). \n",
    "\n",
    "Let $n$ be a positive integer. If you draw a sample of size $n$ at random with replacement from the population then the chance that you get $k$ successes and $n-k$ failures in your sample is \n",
    "\n",
    "$$\\binom{n}{k}p^k(1-p)^{n-k}$$ for $0 \\le k \\le n$. \n",
    "\n",
    "You saw examples of binomial probabilities in the Permutations and Combinations assignment."
   ]
  },
  {
   "cell_type": "raw",
   "id": "77a1a86a-d558-4e18-95da-b010c6ca516e",
   "metadata": {},
   "source": [
    "# BEGIN QUESTION\n",
    "name: q2"
   ]
  },
  {
   "cell_type": "markdown",
   "id": "206ac1d5-8a08-4e0d-8ad1-574c1f2167c8",
   "metadata": {},
   "source": [
    "**Question 2.** In Permutations and Combinations assignment **Question 5.** asks \n",
    "\n",
    "*\"What is the probability that, if challenged, Eddy could make at least 3 out of 5 free throws?\"*\n",
    "\n",
    "Given the fact that Eddy shoots 60% from the free-throw line, complete the cell with a Python expression that evaluates to a `NumPy` array whose elements are the chances of $k$ successes for $k = 0, 1, 2, 3, 4, 5$. Assign your array to `all_probs`. Your array should sum to 1."
   ]
  },
  {
   "cell_type": "raw",
   "id": "d607a791-2340-4525-8880-602d0c9f3281",
   "metadata": {},
   "source": [
    "# BEGIN SOLUTION"
   ]
  },
  {
   "cell_type": "code",
   "execution_count": 15,
   "id": "8e467e6d-ae93-4517-aac1-952405e92e78",
   "metadata": {},
   "outputs": [
    {
     "data": {
      "text/plain": [
       "array([0.01024, 0.0768 , 0.2304 , 0.3456 , 0.2592 , 0.07776])"
      ]
     },
     "execution_count": 15,
     "metadata": {},
     "output_type": "execute_result"
    }
   ],
   "source": [
    "all_probs = np.array(list(special.comb(5, k)*0.6**k*0.4**(5-k) for k in range(6))) # SOLUTION\n",
    "all_probs"
   ]
  },
  {
   "cell_type": "raw",
   "id": "c49b9271-2586-4215-a036-f3fe7ceb1ccc",
   "metadata": {},
   "source": [
    "# END SOLUTION"
   ]
  },
  {
   "cell_type": "raw",
   "id": "421fb031-37a3-436e-937d-5d0219842f04",
   "metadata": {},
   "source": [
    "# BEGIN TESTS"
   ]
  },
  {
   "cell_type": "code",
   "execution_count": 16,
   "id": "ec02a52d-3561-44d7-9b60-455d9f5f65d0",
   "metadata": {},
   "outputs": [
    {
     "data": {
      "text/plain": [
       "1.0"
      ]
     },
     "execution_count": 16,
     "metadata": {},
     "output_type": "execute_result"
    }
   ],
   "source": [
    "np.sum(all_probs)"
   ]
  },
  {
   "cell_type": "code",
   "execution_count": 17,
   "id": "a9ce6d04-ec1b-488a-8c22-87734878c500",
   "metadata": {},
   "outputs": [
    {
     "data": {
      "text/plain": [
       "6"
      ]
     },
     "execution_count": 17,
     "metadata": {},
     "output_type": "execute_result"
    }
   ],
   "source": [
    "len(all_probs)"
   ]
  },
  {
   "cell_type": "code",
   "execution_count": 18,
   "id": "c65edf84-fd34-4a2f-bb60-73eab47cddfa",
   "metadata": {},
   "outputs": [
    {
     "data": {
      "text/plain": [
       "0.01024"
      ]
     },
     "execution_count": 18,
     "metadata": {},
     "output_type": "execute_result"
    }
   ],
   "source": [
    "# HIDDEN\n",
    "round(all_probs[0], 5)"
   ]
  },
  {
   "cell_type": "code",
   "execution_count": 19,
   "id": "a64df0cb-c35c-4964-a17e-48f9e419ccc9",
   "metadata": {},
   "outputs": [
    {
     "data": {
      "text/plain": [
       "0.0768"
      ]
     },
     "execution_count": 19,
     "metadata": {},
     "output_type": "execute_result"
    }
   ],
   "source": [
    "# HIDDEN\n",
    "round(all_probs[1], 5)"
   ]
  },
  {
   "cell_type": "code",
   "execution_count": 20,
   "id": "21fe60a0-15cc-49c3-bbfb-7ce258e771cc",
   "metadata": {},
   "outputs": [
    {
     "data": {
      "text/plain": [
       "0.2304"
      ]
     },
     "execution_count": 20,
     "metadata": {},
     "output_type": "execute_result"
    }
   ],
   "source": [
    "# HIDDEN\n",
    "round(all_probs[2], 5)"
   ]
  },
  {
   "cell_type": "code",
   "execution_count": 21,
   "id": "7c045f02-af2b-48df-a653-bbebd9113712",
   "metadata": {},
   "outputs": [
    {
     "data": {
      "text/plain": [
       "0.3456"
      ]
     },
     "execution_count": 21,
     "metadata": {},
     "output_type": "execute_result"
    }
   ],
   "source": [
    "# HIDDEN\n",
    "round(all_probs[3], 5)"
   ]
  },
  {
   "cell_type": "code",
   "execution_count": 22,
   "id": "27acd682-4699-4390-a447-94093a49cdf4",
   "metadata": {},
   "outputs": [
    {
     "data": {
      "text/plain": [
       "0.2592"
      ]
     },
     "execution_count": 22,
     "metadata": {},
     "output_type": "execute_result"
    }
   ],
   "source": [
    "# HIDDEN\n",
    "round(all_probs[4], 5)"
   ]
  },
  {
   "cell_type": "code",
   "execution_count": 23,
   "id": "2e1fa6d3-2fbb-4bfb-b56c-496f260b2f19",
   "metadata": {},
   "outputs": [
    {
     "data": {
      "text/plain": [
       "0.07776"
      ]
     },
     "execution_count": 23,
     "metadata": {},
     "output_type": "execute_result"
    }
   ],
   "source": [
    "# HIDDEN\n",
    "round(all_probs[5], 5)"
   ]
  },
  {
   "cell_type": "raw",
   "id": "a0a72128-a8b9-485f-af2f-c2b5ec5c152e",
   "metadata": {},
   "source": [
    "# END TESTS"
   ]
  },
  {
   "cell_type": "raw",
   "id": "c8484ac3-5edc-4518-a4d0-3b0c3fa64ae7",
   "metadata": {},
   "source": [
    "# END QUESTION"
   ]
  },
  {
   "cell_type": "raw",
   "id": "c4dad4d8-a55a-4098-b196-a617231c969a",
   "metadata": {},
   "source": [
    "# BEGIN QUESTION\n",
    "name: q3"
   ]
  },
  {
   "cell_type": "markdown",
   "id": "8486adc3-6d70-48ef-a6b8-702ce1dcf89d",
   "metadata": {},
   "source": [
    "**Question 3.** Suppose you sample 100 times at random with replacement from a population in which 26% of the individuals are called \"successes\" (that's traditional terminology in probability). Write a Python expression that evaluates to the chance that the sample has 20 successes. \n",
    "\n",
    "**Computational Note:** Don't import any other libraries; just use the ones already imported and plug into the formula above **Question 2**. It's far from the best way numerically, but it is fine for the numbers involved in this lab. For this course, we are focusing on issues of numerical accuracy.\n"
   ]
  },
  {
   "cell_type": "raw",
   "id": "d5d8d371-9ed8-4df6-b076-295569709c8c",
   "metadata": {},
   "source": [
    "# BEGIN SOLUTION"
   ]
  },
  {
   "cell_type": "code",
   "execution_count": 24,
   "id": "283a8be8-6917-4b8f-a666-c11757e764bf",
   "metadata": {},
   "outputs": [
    {
     "data": {
      "text/plain": [
       "0.036911003560024636"
      ]
     },
     "execution_count": 24,
     "metadata": {},
     "output_type": "execute_result"
    }
   ],
   "source": [
    "prob_q3 = special.comb(100, 20)*0.26**20*0.74**80 # SOLUTION\n",
    "prob_q3"
   ]
  },
  {
   "cell_type": "raw",
   "id": "71ef09e9-3639-4e78-9369-7263b7f994c1",
   "metadata": {},
   "source": [
    "# END SOLUTION"
   ]
  },
  {
   "cell_type": "raw",
   "id": "68ccbc52-e26e-4345-881e-9fbb65e7bb81",
   "metadata": {},
   "source": [
    "# BEGIN TESTS"
   ]
  },
  {
   "cell_type": "code",
   "execution_count": 25,
   "id": "5bb74a76-d328-43e6-8d82-a89ff0227ee7",
   "metadata": {},
   "outputs": [
    {
     "data": {
      "text/plain": [
       "True"
      ]
     },
     "execution_count": 25,
     "metadata": {},
     "output_type": "execute_result"
    }
   ],
   "source": [
    "0 < prob_q3 < 0.04"
   ]
  },
  {
   "cell_type": "code",
   "execution_count": 26,
   "id": "334baf11-605c-46d3-9f10-dff60d1f7ecf",
   "metadata": {},
   "outputs": [
    {
     "data": {
      "text/plain": [
       "0.036911"
      ]
     },
     "execution_count": 26,
     "metadata": {},
     "output_type": "execute_result"
    }
   ],
   "source": [
    "# HIDDEN\n",
    "round(prob_q3, 6)"
   ]
  },
  {
   "cell_type": "raw",
   "id": "cbcdefc1-8caa-4eba-85ff-0d6b89ef532d",
   "metadata": {},
   "source": [
    "# END TESTS"
   ]
  },
  {
   "cell_type": "raw",
   "id": "35d038fd-5813-424e-8066-8cecb7d6222f",
   "metadata": {},
   "source": [
    "# END QUESTION"
   ]
  },
  {
   "cell_type": "raw",
   "id": "cb9d580c-c21a-4216-98e0-4ffbcb71306c",
   "metadata": {},
   "source": [
    "# BEGIN QUESTION\n",
    "name: q4"
   ]
  },
  {
   "cell_type": "markdown",
   "id": "cb65a098-28c8-4078-8db9-73778f22213f",
   "metadata": {},
   "source": [
    "**Question 4.** Suppose we want to know the theoretical probability that the number of successes in a sample of 100 is in the interval 20 to 30 (inclusive on both sides), where the probability of a success is 0.26. Calculate this probability and assign it to the variable `prob_q4`.\n",
    "\n",
    "\n",
    "**Hints:** You can use the `special.comb` function to compute binomial probability."
   ]
  },
  {
   "cell_type": "raw",
   "id": "d5ea00aa-d2be-4f9a-8035-845c10d850e4",
   "metadata": {},
   "source": [
    "# BEGIN SOLUTION"
   ]
  },
  {
   "cell_type": "code",
   "execution_count": 27,
   "id": "2749232e-78be-41d0-aa3f-255773d38c17",
   "metadata": {},
   "outputs": [
    {
     "data": {
      "text/plain": [
       "0.7816556552503283"
      ]
     },
     "execution_count": 27,
     "metadata": {},
     "output_type": "execute_result"
    }
   ],
   "source": [
    "prob_q4 = sum(special.comb(100, k)*0.26**k*0.74**(100-k) for k in range(20,31)) # SOLUTION\n",
    "prob_q4"
   ]
  },
  {
   "cell_type": "raw",
   "id": "9b0bd768-9a94-4583-bb56-53325362c8df",
   "metadata": {},
   "source": [
    "# END SOLUTION"
   ]
  },
  {
   "cell_type": "raw",
   "id": "1db6c1e7-ffe3-4c45-8485-f781b43a9dd3",
   "metadata": {},
   "source": [
    "# BEGIN TESTS"
   ]
  },
  {
   "cell_type": "code",
   "execution_count": 28,
   "id": "4a9b3ca7-9450-4e90-83f8-c7bc6058f829",
   "metadata": {},
   "outputs": [
    {
     "data": {
      "text/plain": [
       "True"
      ]
     },
     "execution_count": 28,
     "metadata": {},
     "output_type": "execute_result"
    }
   ],
   "source": [
    "0 < prob_q4 < 0.79"
   ]
  },
  {
   "cell_type": "code",
   "execution_count": 29,
   "id": "50b82dd0-3239-4899-9a4a-32997daccd28",
   "metadata": {},
   "outputs": [
    {
     "data": {
      "text/plain": [
       "0.78165565525"
      ]
     },
     "execution_count": 29,
     "metadata": {},
     "output_type": "execute_result"
    }
   ],
   "source": [
    "# HIDDEN\n",
    "round(prob_q4, 11)"
   ]
  },
  {
   "cell_type": "raw",
   "id": "85f50891-92ee-4034-88d7-4911e9999577",
   "metadata": {},
   "source": [
    "# END TESTS"
   ]
  },
  {
   "cell_type": "raw",
   "id": "4ad01ee9-87f2-4407-8ebe-0c98464e5ed1",
   "metadata": {},
   "source": [
    "# END QUESTION"
   ]
  },
  {
   "cell_type": "markdown",
   "id": "63a4aedc-2919-48e2-9bc2-570e9821800a",
   "metadata": {},
   "source": [
    "Let $n$ and $s$ be an positive integers such that $0 \\le s \\le n$. Consider a sample of size $n$ drawn at random with replacement from a population in which a proportion $p$ of the individuals are called successes. The math expression for the probability that the number of successes in the sample is at most $s$ can be written as \n",
    "\n",
    "$$\\sum_{k=0}^s \\binom{n}{k}p^k(1-p)^{n-k}$$\n",
    "\n",
    "In probability classes this probability will typically be denoted $P(S \\le s)$ where $S$ denotes the random number of successes in the sample. Formal definitions of the pieces of this notation aren't particularly helpful for our purposes. Just read it as *\"the probability that the number of successes is at most $s$.\"*"
   ]
  },
  {
   "cell_type": "raw",
   "id": "5285925b-c0fa-4780-a876-9f3aacf5d566",
   "metadata": {},
   "source": [
    "# BEGIN QUESTION\n",
    "name: q5\n",
    "manual: true"
   ]
  },
  {
   "cell_type": "markdown",
   "id": "970577c1-a6d8-4e6e-b6d8-97c089ed2de8",
   "metadata": {},
   "source": [
    "**Question 5.** Fill in the function `prob_at_most` which takes $n$, $p$, and $s$ and returns $P(S \\le s)$ as defined in summation above.\n",
    "\n",
    "**Note:** Make sure that the inputs are valid. For example, if $p > 1$ or $s > n$ then return 0. \n",
    "\n",
    "**Warning:** Check your function to make sure you are returning the correct probability before continuing with the lab."
   ]
  },
  {
   "cell_type": "raw",
   "id": "46fb3ea4-f43b-4e8a-b620-87b8e8e36935",
   "metadata": {},
   "source": [
    "# BEGIN SOLUTION"
   ]
  },
  {
   "cell_type": "code",
   "execution_count": 30,
   "id": "cd0e5ee8-721d-49c9-9d3a-fc6647fbe48f",
   "metadata": {},
   "outputs": [],
   "source": [
    "def prob_at_most(n, p, s):\n",
    "    \"\"\"Returns the probability of S <= s\n",
    "       n: sample size\n",
    "       p : proportion\n",
    "       s: number of successes at most\n",
    "    \"\"\"\n",
    "# BEGIN SOLUTION NO PROMPT\n",
    "    if p > 1 or s > n: \n",
    "        return 0\n",
    "    return sum(special.comb(n, k)*p**k*(1-p)**(n-k) for k in range(s+1))\n",
    "# END SOLUTION\n",
    "\"\"\" # BEGIN PROMPT\n",
    "    ...\n",
    "\"\"\"; # END PROMPT"
   ]
  },
  {
   "cell_type": "raw",
   "id": "162eaba3-9ca5-4181-a3c0-1a4be90977a3",
   "metadata": {},
   "source": [
    "# END SOLUTION"
   ]
  },
  {
   "cell_type": "raw",
   "id": "17bbe037-ad54-4001-86cb-918d26ca696d",
   "metadata": {},
   "source": [
    "# END QUESTION"
   ]
  },
  {
   "cell_type": "markdown",
   "id": "89485b71-4bd5-4296-8085-9cafab8e10c5",
   "metadata": {},
   "source": [
    "## Polling"
   ]
  },
  {
   "cell_type": "raw",
   "id": "71cbdd3a-e9a3-4494-9aec-7e38b311ea86",
   "metadata": {},
   "source": [
    "# BEGIN QUESTION\n",
    "name: q6"
   ]
  },
  {
   "cell_type": "markdown",
   "id": "31e21866-4750-45ab-b94e-35a8a6dfdf64",
   "metadata": {},
   "source": [
    "**Question 6.**  In an election, supporters of Candidate C are in a minority. Only 45% of the voters in the population favor the candidate. Suppose a survey organization takes a sample of 200 voters from this population. Use `prob_at_most` to write an expression that evaluates to the chance that a majority (more than half) of the sampled voters favor Candidate C."
   ]
  },
  {
   "cell_type": "raw",
   "id": "a5abe737-5545-44f1-89d5-4ef33b73ae01",
   "metadata": {},
   "source": [
    "# BEGIN SOLUTION"
   ]
  },
  {
   "cell_type": "code",
   "execution_count": 31,
   "id": "c5bf00f7-3e52-4773-854a-f410245475de",
   "metadata": {},
   "outputs": [
    {
     "data": {
      "text/plain": [
       "0.06807524986263847"
      ]
     },
     "execution_count": 31,
     "metadata": {},
     "output_type": "execute_result"
    }
   ],
   "source": [
    "p_majority = 1 - prob_at_most(200, 0.45, 100) # SOLUTION\n",
    "p_majority"
   ]
  },
  {
   "cell_type": "raw",
   "id": "f04bbe7b-521a-451c-98c0-19b78274829a",
   "metadata": {},
   "source": [
    "# END SOLUTION"
   ]
  },
  {
   "cell_type": "raw",
   "id": "3c8408c5-70bd-4dba-981b-935c8efb1501",
   "metadata": {},
   "source": [
    "# BEGIN TESTS"
   ]
  },
  {
   "cell_type": "code",
   "execution_count": 32,
   "id": "f2432f1b-9a3a-424b-92fc-932dc6aa6abb",
   "metadata": {},
   "outputs": [
    {
     "data": {
      "text/plain": [
       "True"
      ]
     },
     "execution_count": 32,
     "metadata": {},
     "output_type": "execute_result"
    }
   ],
   "source": [
    "0 < p_majority < 0.07"
   ]
  },
  {
   "cell_type": "code",
   "execution_count": 33,
   "id": "715c499b-8009-450a-9397-57e81cebacd7",
   "metadata": {},
   "outputs": [
    {
     "data": {
      "text/plain": [
       "0.068"
      ]
     },
     "execution_count": 33,
     "metadata": {},
     "output_type": "execute_result"
    }
   ],
   "source": [
    "# HIDDEN\n",
    "round(p_majority, 3)"
   ]
  },
  {
   "cell_type": "raw",
   "id": "2dbe4178-0dd8-4c0e-b2a5-75b25df99ca0",
   "metadata": {},
   "source": [
    "# END TESTS"
   ]
  },
  {
   "cell_type": "raw",
   "id": "fdf05369-0ced-453c-9759-48ba78847edd",
   "metadata": {},
   "source": [
    "# END QUESTION"
   ]
  },
  {
   "cell_type": "raw",
   "id": "70d3edd5-6b07-4fc0-9e45-48351bf19da8",
   "metadata": {},
   "source": [
    "# BEGIN QUESTION\n",
    "name: q7"
   ]
  },
  {
   "cell_type": "markdown",
   "id": "6430a75f-7f0a-4b6b-a9d4-49f2927e5df1",
   "metadata": {},
   "source": [
    "Suppose each of five survey organizations takes a sample of voters at random with replacement from the population of voters in **Question 6.**, independently of the samples drawn by the other organizations. \n",
    "\n",
    "- Three of the organizations use a sample size of 200\n",
    "- One organization uses a sample size of 300\n",
    "- One organization uses a sample size of 400\n",
    "\n",
    "**Question 7.**  Write an expression that evaluates to the chance that in at least one of the five samples the majority of voters favor Candidate C. You can use any quantity or function defined earlier in this lab.\n",
    "\n",
    "**Hints:** \n",
    "\n",
    "- When two or more events are independent, the probability that both will happen is the product of their individual probabilities.\n",
    "\n",
    "- The probability of an event occurring at least once, will be the complement of the event never occurring. This means that the probability of the event never occurring and the probability of the event occurring at least once will equal 1."
   ]
  },
  {
   "cell_type": "raw",
   "id": "b1b206dd-2447-43a2-bb2b-50be36ece7a6",
   "metadata": {},
   "source": [
    "# BEGIN SOLUTION"
   ]
  },
  {
   "cell_type": "code",
   "execution_count": 34,
   "id": "b4f0e17a-4c56-4c77-9267-9f855a9f03d8",
   "metadata": {},
   "outputs": [
    {
     "data": {
      "text/plain": [
       "0.23550361568442357"
      ]
     },
     "execution_count": 34,
     "metadata": {},
     "output_type": "execute_result"
    }
   ],
   "source": [
    "prob_candidate_c = 1 - ((prob_at_most(200, 0.45, 100))**3*(prob_at_most(300, 0.45, 150))*(prob_at_most(400, 0.45, 200))) # SOLUTION\n",
    "prob_candidate_c"
   ]
  },
  {
   "cell_type": "raw",
   "id": "a6aa308f-c86a-4d1a-9ab1-8332a93948eb",
   "metadata": {},
   "source": [
    "# END SOLUTION"
   ]
  },
  {
   "cell_type": "raw",
   "id": "8335ee31-360e-4cf2-adf7-828dd66317e7",
   "metadata": {},
   "source": [
    "# BEGIN TESTS"
   ]
  },
  {
   "cell_type": "code",
   "execution_count": 35,
   "id": "4a55a08e-8683-4260-88c0-916bed12325b",
   "metadata": {},
   "outputs": [
    {
     "data": {
      "text/plain": [
       "True"
      ]
     },
     "execution_count": 35,
     "metadata": {},
     "output_type": "execute_result"
    }
   ],
   "source": [
    "0 < prob_candidate_c < 0.3"
   ]
  },
  {
   "cell_type": "code",
   "execution_count": 36,
   "id": "94b4fd5c-675b-4e24-b269-72715d59d024",
   "metadata": {},
   "outputs": [
    {
     "data": {
      "text/plain": [
       "0.2355"
      ]
     },
     "execution_count": 36,
     "metadata": {},
     "output_type": "execute_result"
    }
   ],
   "source": [
    "# HIDDEN TEST\n",
    "round(prob_candidate_c, 4)"
   ]
  },
  {
   "cell_type": "raw",
   "id": "5e9fbe6c-f0e8-4825-a0ed-17764c42db49",
   "metadata": {},
   "source": [
    "# END TESTS"
   ]
  },
  {
   "cell_type": "raw",
   "id": "42e82197-e0f5-45a1-aac3-0b23fa10a909",
   "metadata": {},
   "source": [
    "# END QUESTION"
   ]
  },
  {
   "cell_type": "markdown",
   "id": "81886d40-9a14-4866-9cc3-b41b534629ab",
   "metadata": {
    "tags": []
   },
   "source": [
    "# Simulating Risk Probability\n",
    "\n",
    "Studies indicate that about 90% of the booked passengers actually arrive for their flights. Suppose that a small plane has 75 seats and, for the purpose of this exercise, assume that passengers arrive independently of each other. \n",
    "\n",
    "**Note:** This assumption is not realistic (i.e. many people do not travel alone).\n",
    "\n",
    "Most of the time airlines overbook flights (i.e. the airline sells more tickets than there are seats on the plane). This is due to the fact that sometimes passengers fail to show up, and the plane must be flown with empty seats. However, if they overbook, they run the risk of having more passengers than seats. This will undoubtedly upset passengers. \n",
    "\n",
    "To entice overbooked passengers to give up their seats, the airline will give vouchers for free flights or offer money to passengers to take a later flight.\n",
    "\n",
    "With these risks in mind the airline decides to sell 80 tickets. You and your friends see this as an opportunity to design an application that will help the airlines determine if this is a good strategy."
   ]
  },
  {
   "cell_type": "raw",
   "id": "1dae1f7c-710d-46a4-b2a8-cceaa6330aeb",
   "metadata": {},
   "source": [
    "# BEGIN QUESTION\n",
    "name: q8\n",
    "manual: true"
   ]
  },
  {
   "cell_type": "markdown",
   "id": "a0bc5988-676e-43b4-82b2-397070b627c6",
   "metadata": {},
   "source": [
    "**Question 8.** Read the article [5 things to know about Southwest's disastrous meltdown](https://www.npr.org/2022/12/30/1146377342/5-things-to-know-about-southwests-disastrous-meltdown). \n",
    "\n",
    "- What did the article claim to be the major reason behind this debacle? Do you agree? \n",
    "- Do you think the company can avoid this from happening again in the future? Why, or why not? \n",
    "\n",
    "Write a paragraph that addresses each of the previously mentioned questions."
   ]
  },
  {
   "cell_type": "raw",
   "id": "40a46de1-629e-45ed-98ac-628edbd91c5c",
   "metadata": {},
   "source": [
    "# BEGIN SOLUTION"
   ]
  },
  {
   "cell_type": "markdown",
   "id": "b98c908d-1677-441c-b02f-1a09e4d89e21",
   "metadata": {},
   "source": [
    "**SOLUTION:** Answers may vary"
   ]
  },
  {
   "cell_type": "raw",
   "id": "6dc5919a-3427-41d0-bb48-e3aca7f82999",
   "metadata": {},
   "source": [
    "# END SOLUTION"
   ]
  },
  {
   "cell_type": "raw",
   "id": "805d0f0a-c1cd-4c79-a0e5-dd086dc70f72",
   "metadata": {},
   "source": [
    "# END QUESTION"
   ]
  },
  {
   "cell_type": "raw",
   "id": "6c30b5d7-cfb4-4d3d-9754-dc774b375eb5",
   "metadata": {},
   "source": [
    "# BEGIN QUESTION\n",
    "name: q9"
   ]
  },
  {
   "cell_type": "markdown",
   "id": "75156d57-42c6-47e3-b606-08eed888f42f",
   "metadata": {},
   "source": [
    "**Question 9.** Write a function named `number_of_tickets` that will simulate 80 tickets being sold for flight on an airplane with 75 available seats. Simulate the probability that the number of passengers who arrive for the flight is more than the number of seats available. Store this proportion in `prop_tickets`. \n",
    "\n",
    "**Note:** Make sure that the inputs are valid. For example, if $p > 1$ or $s > n$ then return 0."
   ]
  },
  {
   "cell_type": "raw",
   "id": "99a43809-d3e7-4e1e-a621-e36f485559dc",
   "metadata": {},
   "source": [
    "# BEGIN SOLUTION"
   ]
  },
  {
   "cell_type": "code",
   "execution_count": 37,
   "id": "0cda8eeb-164c-46b2-9c79-7606c3fec147",
   "metadata": {},
   "outputs": [
    {
     "data": {
      "text/plain": [
       "0.17691652441630698"
      ]
     },
     "execution_count": 37,
     "metadata": {},
     "output_type": "execute_result"
    }
   ],
   "source": [
    "def number_of_tickets(n, p, s):\n",
    "    \"\"\"Returns the probability of S >= s\n",
    "       n: number of tickets sold; \n",
    "       p: proportion of passengers expected to arrive; \n",
    "       s: number of available seats\n",
    "    \"\"\"\n",
    "# BEGIN SOLUTION NO PROMPT\n",
    "    if p > 1 or s > n: \n",
    "        return 0    \n",
    "    return sum(special.comb(n, k)*p**k*(1-p)**(n-k) for k in range(s, n+1))\n",
    "# END SOLUTION\n",
    "\"\"\" # BEGIN PROMPT\n",
    "    ...\n",
    "\"\"\"; # END PROMPT\n",
    "prop_tickets = number_of_tickets(80, 0.9, 75)\n",
    "prop_tickets"
   ]
  },
  {
   "cell_type": "raw",
   "id": "166d302c-b46c-426e-8005-45c890c5501d",
   "metadata": {},
   "source": [
    "# END SOLUTION"
   ]
  },
  {
   "cell_type": "raw",
   "id": "ee8e6921-41a0-43fc-8309-9558995e3b03",
   "metadata": {},
   "source": [
    "# BEGIN TESTS"
   ]
  },
  {
   "cell_type": "code",
   "execution_count": 38,
   "id": "2f0f0527-90ed-4df2-9f75-0a4c69cf5826",
   "metadata": {},
   "outputs": [
    {
     "data": {
      "text/plain": [
       "True"
      ]
     },
     "execution_count": 38,
     "metadata": {},
     "output_type": "execute_result"
    }
   ],
   "source": [
    "0 < prop_tickets < 0.2"
   ]
  },
  {
   "cell_type": "code",
   "execution_count": 39,
   "id": "16f0c8cd-392c-4008-9061-79dac1d8d528",
   "metadata": {},
   "outputs": [
    {
     "data": {
      "text/plain": [
       "0.1769165244163"
      ]
     },
     "execution_count": 39,
     "metadata": {},
     "output_type": "execute_result"
    }
   ],
   "source": [
    "# HIDDEN TEST\n",
    "round(prop_tickets, 13)"
   ]
  },
  {
   "cell_type": "raw",
   "id": "21d72810-9610-41b8-8ff6-2e3d2b09420f",
   "metadata": {},
   "source": [
    "# END TESTS"
   ]
  },
  {
   "cell_type": "raw",
   "id": "e661fe61-8a5c-492a-aa5e-207680011a06",
   "metadata": {},
   "source": [
    "# END QUESTION"
   ]
  },
  {
   "cell_type": "raw",
   "id": "729e5cd2-67de-4896-a24f-dc41628f8e22",
   "metadata": {},
   "source": [
    "# BEGIN QUESTION\n",
    "name: q10"
   ]
  },
  {
   "cell_type": "markdown",
   "id": "a08457ab-35e7-4b97-9702-440c159917a9",
   "metadata": {},
   "source": [
    "**Question 10.** If the airline wants to keep the probability of having more than 75 passengers show up to get on the flight to around 1%, what is the maximum number of tickets they should sell? Assign this value to `tickets_to_sell`."
   ]
  },
  {
   "cell_type": "raw",
   "id": "2350456d-e988-4686-8352-44bb189331d6",
   "metadata": {},
   "source": [
    "# BEGIN SOLUTION"
   ]
  },
  {
   "cell_type": "code",
   "execution_count": 40,
   "id": "391aec75-3a6c-4c57-9307-3f923da4159e",
   "metadata": {},
   "outputs": [
    {
     "data": {
      "text/plain": [
       "76"
      ]
     },
     "execution_count": 40,
     "metadata": {},
     "output_type": "execute_result"
    }
   ],
   "source": [
    "# BEGIN SOLUTION NO PROMPT\n",
    "tickets_to_sell = 75\n",
    "while number_of_tickets(tickets_to_sell+1, 0.9, 75) <= 0.01:\n",
    "    tickets_to_sell += 1\n",
    "# END SOLUTION\n",
    "\"\"\" # BEGIN PROMPT\n",
    "...\n",
    "\"\"\"; # END PROMPT\n",
    "tickets_to_sell"
   ]
  },
  {
   "cell_type": "raw",
   "id": "d4d3b1fd-5762-4dbb-ae59-b735e27cdcaf",
   "metadata": {},
   "source": [
    "# END SOLUTION"
   ]
  },
  {
   "cell_type": "raw",
   "id": "70ede2a5-7fd8-4eca-918e-494ebab06374",
   "metadata": {},
   "source": [
    "# BEGIN TESTS"
   ]
  },
  {
   "cell_type": "code",
   "execution_count": 41,
   "id": "d2c0cb97-10cd-417e-b55d-12767fc572d6",
   "metadata": {},
   "outputs": [
    {
     "data": {
      "text/plain": [
       "True"
      ]
     },
     "execution_count": 41,
     "metadata": {},
     "output_type": "execute_result"
    }
   ],
   "source": [
    "0 < tickets_to_sell < 80"
   ]
  },
  {
   "cell_type": "code",
   "execution_count": 42,
   "id": "4928d97b-4c04-4657-ae6c-91d77a23310f",
   "metadata": {},
   "outputs": [
    {
     "data": {
      "text/plain": [
       "True"
      ]
     },
     "execution_count": 42,
     "metadata": {},
     "output_type": "execute_result"
    }
   ],
   "source": [
    "# HIDDEN TEST\n",
    "tickets_to_sell == 76 or tickets_to_sell == 77 or tickets_to_sell == 78"
   ]
  },
  {
   "cell_type": "raw",
   "id": "2c74d050-0977-4450-b97f-ddf9f696e644",
   "metadata": {},
   "source": [
    "# END TESTS"
   ]
  },
  {
   "cell_type": "raw",
   "id": "aa2c53ac-ca04-4163-b9e7-667d4e767567",
   "metadata": {},
   "source": [
    "# END QUESTION"
   ]
  },
  {
   "cell_type": "raw",
   "id": "ba6c05a6-1dee-400d-bfe2-da1350830461",
   "metadata": {},
   "source": [
    "# BEGIN QUESTION\n",
    "name: q11\n",
    "manual: true"
   ]
  },
  {
   "cell_type": "markdown",
   "id": "a1bf8142-037d-4541-b1c2-0c46686ffaec",
   "metadata": {},
   "source": [
    "**Question 11.** In 2-3 sentences, explain how you determined your answer for **Question 10**."
   ]
  },
  {
   "cell_type": "raw",
   "id": "fb8078cb-0d50-4d2e-a6b8-04827c252018",
   "metadata": {},
   "source": [
    "# BEGIN SOLUTION"
   ]
  },
  {
   "cell_type": "markdown",
   "id": "a53c15b2-4cbd-4069-b76d-bda3ede20410",
   "metadata": {},
   "source": [
    "**SOLUTION:** Answers may vary"
   ]
  },
  {
   "cell_type": "raw",
   "id": "564fe879-3d2f-45af-8f0c-a26ebc5d3ff6",
   "metadata": {},
   "source": [
    "# END SOLUTION"
   ]
  },
  {
   "cell_type": "raw",
   "id": "36154ff7-c72d-4844-81f7-02e5261cc939",
   "metadata": {},
   "source": [
    "# END QUESTION"
   ]
  }
 ],
 "metadata": {
  "kernelspec": {
   "display_name": "Python 3 (ipykernel)",
   "language": "python",
   "name": "python3"
  },
  "language_info": {
   "codemirror_mode": {
    "name": "ipython",
    "version": 3
   },
   "file_extension": ".py",
   "mimetype": "text/x-python",
   "name": "python",
   "nbconvert_exporter": "python",
   "pygments_lexer": "ipython3",
   "version": "3.10.5"
  }
 },
 "nbformat": 4,
 "nbformat_minor": 5
}
