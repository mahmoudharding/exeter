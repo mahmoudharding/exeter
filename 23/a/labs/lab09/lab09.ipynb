{
 "cells": [
  {
   "cell_type": "code",
   "execution_count": null,
   "id": "30e2f95e",
   "metadata": {
    "deletable": false,
    "editable": false
   },
   "outputs": [],
   "source": [
    "# Initialize Otter\n",
    "import otter\n",
    "grader = otter.Notebook(\"lab09.ipynb\")"
   ]
  },
  {
   "cell_type": "markdown",
   "id": "423ec6e4",
   "metadata": {},
   "source": [
    "# Lab 09: Re-expression and Evaluating Models\n",
    "\n",
    "Welcome to Lab 09! In this lab we will use re-expression to straighten a scatter plot to fit a simple linear regression model. Also, we will investigate methods to evaluate the \"goodness of fit\" for linear models.\n",
    "\n",
    "To receive credit for a lab, answer all questions correctly and submit before the deadline.\n",
    "\n",
    "**Due Date:** Friday, May 12, 2022 at 11:59 p.m.\n",
    "\n",
    "**Collaboration Policy:** Data science is a collaborative activity. While you may talk with others about the labs, we ask that you **write your solutions individually**. If you do discuss the assignments with others **please include their names below** (it's a good way to learn your classmates' names).\n",
    "\n",
    "**Collaborators:** \n",
    "\n",
    "List collaborators here.\n",
    "\n",
    "**Note:** In this notebook a custom figure size has been configured. Click [here](https://matplotlib.org/users/customizing.html) to read the documentation about customizing aspects of matplotlib.\n",
    "\n",
    "Run the cell below."
   ]
  },
  {
   "cell_type": "code",
   "execution_count": null,
   "id": "8df68dc2",
   "metadata": {},
   "outputs": [],
   "source": [
    "import pandas as pd\n",
    "import numpy as np\n",
    "import seaborn as sns\n",
    "import math\n",
    "import matplotlib.pyplot as plt\n",
    "%matplotlib inline\n",
    "plt.rcParams['figure.figsize'] = (8, 4)\n",
    "plt.rcParams['figure.dpi'] = 100\n",
    "from sklearn.linear_model import LinearRegression"
   ]
  },
  {
   "cell_type": "markdown",
   "id": "d92884ac",
   "metadata": {},
   "source": [
    "# Simple Linear Regression\n",
    "\n",
    "By now you've most certainly noticed that we have been using the terms **predictors**, **features**, **independent variables**, and **explanatory variables** interchangeably. Usually \"features\" are used in the context of machine learning when you are trying to make predictions. \"Independent variables\" and \"explanatory variables\" are mainly found in statistics, econometrics, and other related fields which focus on understanding the relationship between a set of variables.  \n",
    "\n",
    "For example, consider the plot below which shows fuel efficiency vs. engine power for several models of automobile.\n",
    "\n",
    "**Note:** First, we load the full data set, drop any rows that have missing data and the data set by `horsepower` (in ascending order)."
   ]
  },
  {
   "cell_type": "code",
   "execution_count": null,
   "id": "e6246393",
   "metadata": {},
   "outputs": [],
   "source": [
    "mpg = sns.load_dataset('mpg').dropna()\n",
    "mpg = mpg.sort_values('horsepower', ascending = True)\n",
    "mpg.head()"
   ]
  },
  {
   "cell_type": "markdown",
   "id": "94bee251",
   "metadata": {},
   "source": [
    "# Correlation Coefficient \n",
    "\n",
    "In Foundations of Data Science we learned about the correlation coefficient in section 15.1 of the textbook, *Computational and Inferential Thinking*. To refresh your memory about the concept click [here](https://inferentialthinking.com/chapters/15/1/Correlation.html). \n",
    "\n",
    "Next, let's take a look at the correlation between `mpg` and the other numeric variables."
   ]
  },
  {
   "cell_type": "code",
   "execution_count": null,
   "id": "10f70a52",
   "metadata": {},
   "outputs": [],
   "source": [
    "..."
   ]
  },
  {
   "cell_type": "markdown",
   "id": "baea9066",
   "metadata": {},
   "source": [
    "<!-- BEGIN QUESTION -->\n",
    "\n",
    "**Question 1.** Are there any independent variables that are highly correlated? If so, which ones? Does it seem reasonable that they would be? Write 2-3 sentences to respond to the aforementioned questions.\n"
   ]
  },
  {
   "cell_type": "markdown",
   "id": "af820896",
   "metadata": {},
   "source": [
    "_Type your answer here, replacing this text._"
   ]
  },
  {
   "cell_type": "markdown",
   "id": "4ad0f92d",
   "metadata": {},
   "source": [
    "<!-- END QUESTION -->\n",
    "\n",
    "Recall when we looked at [Anscombe's](https://en.wikipedia.org/wiki/Anscombe%27s_quartet) quartet. Anscombe's quartet comprises four data sets that have nearly identical simple descriptive statistics, yet have very different distributions and appear very different when graphed. After that experience we decided that its a good idea to make a scatter plot to visualize the data and not rely solely on the correlation coefficient.\n",
    "\n",
    "Run the cell below to see a scatter plot of the `horsepower` vs. `mpg`."
   ]
  },
  {
   "cell_type": "code",
   "execution_count": null,
   "id": "84fdf2a2",
   "metadata": {},
   "outputs": [],
   "source": [
    "...\n",
    "plt.xlabel(\"Horsepower\")\n",
    "plt.ylabel(\"mpg\");"
   ]
  },
  {
   "cell_type": "markdown",
   "id": "fb9c66e6",
   "metadata": {},
   "source": [
    "A scatter plot of the data reveals that there is some relationship between `horsepower` and `mpg`."
   ]
  },
  {
   "cell_type": "markdown",
   "id": "c6c9b04c",
   "metadata": {},
   "source": [
    "<!-- BEGIN QUESTION -->\n",
    "\n",
    "**Question 2.** In 1-2 sentences describe the association between `horsepower` and `mpg` that appears in the scatter plot.\n"
   ]
  },
  {
   "cell_type": "markdown",
   "id": "9c902023",
   "metadata": {},
   "source": [
    "_Type your answer here, replacing this text._"
   ]
  },
  {
   "cell_type": "markdown",
   "id": "1b88d035",
   "metadata": {},
   "source": [
    "<!-- END QUESTION -->\n",
    "\n",
    "If we only use `horsepower` alone to predict `mpg`, it appears as if we do not get good results.\n",
    "\n",
    "Run the cell below to plot the line of best fit for the scatter plot."
   ]
  },
  {
   "cell_type": "code",
   "execution_count": null,
   "id": "a596b5ac",
   "metadata": {},
   "outputs": [],
   "source": [
    "...\n",
    "plt.xlabel(\"Horsepower\")\n",
    "plt.ylabel(\"mpg\");"
   ]
  },
  {
   "cell_type": "markdown",
   "id": "6a871bf7",
   "metadata": {},
   "source": [
    "<!-- BEGIN QUESTION -->\n",
    "\n",
    "**Question 3.** In 1-2 sentences describe how the points are clustered around the line of best fit.**Question 2.** In 1-2 sentences describe the association between `horsepower` and `mpg` that appears in the scatter plot.\n"
   ]
  },
  {
   "cell_type": "markdown",
   "id": "b13798fb",
   "metadata": {},
   "source": [
    "_Type your answer here, replacing this text._"
   ]
  },
  {
   "cell_type": "markdown",
   "id": "189b4681",
   "metadata": {},
   "source": [
    "<!-- END QUESTION -->\n",
    "\n",
    "# Residuals\n",
    "\n",
    "One one way to measure the \"goodness of fit\", is to plot the residuals. Residuals (also known as errors) in a statistical or machine learning model are the differences between observed and predicted values of data. \n",
    "\n",
    "Denoted as \n",
    "\n",
    "$$e_i=y_i-\\hat{y}_i,$$\n",
    "\n",
    "residuals are an important diagnostic measure that can be used to assess the quality of a model.\n",
    "\n",
    "Residual plots can be examined in terms of their magnitude, whether or not they form a pattern, or both. Where the residuals are all 0, the model prediction and the observed value from the data set are the same. The further residuals are from 0, the less accurate the model. Where the average residual is not 0, it implies that the model is over- or under-predicting. Where residuals contain patterns, it implies that the model is qualitatively wrong, as it is failing to explain some property of the data.\n",
    "\n",
    "A good residual plot has no pattern. This means that our model represents the relationship in the data well. If you see a curve, it is a sign that transformations of the **response or additional variables** in the model could help. A good residual plot also has a similar vertical spread throughout the entire plot. If this is not the case, the accuracy of the predictions is not reliable.\n",
    "\n",
    "Suppose we wanted to plot the residuals of a simple linear regression model using the `galton` data set."
   ]
  },
  {
   "cell_type": "code",
   "execution_count": null,
   "id": "8ff44583",
   "metadata": {},
   "outputs": [],
   "source": [
    "galton = pd.read_csv(\"data/galton.csv\")\n",
    "galton.head()"
   ]
  },
  {
   "cell_type": "code",
   "execution_count": null,
   "id": "4a4a1555",
   "metadata": {
    "tags": []
   },
   "outputs": [],
   "source": [
    "sns.residplot(...)\n",
    "plt.axhline(y = 0, color = 'r')\n",
    "plt.xlabel(\"Midparent Height\")\n",
    "plt.ylabel(\"Residuals\");"
   ]
  },
  {
   "cell_type": "markdown",
   "id": "6216cba0",
   "metadata": {},
   "source": [
    "<!-- BEGIN QUESTION -->\n",
    "\n",
    "**Question 4.** What do you notice about this plot? \n"
   ]
  },
  {
   "cell_type": "markdown",
   "id": "9fa3701f",
   "metadata": {},
   "source": [
    "_Type your answer here, replacing this text._"
   ]
  },
  {
   "cell_type": "markdown",
   "id": "ecba910b",
   "metadata": {},
   "source": [
    "<!-- END QUESTION -->\n",
    "\n"
   ]
  },
  {
   "cell_type": "code",
   "execution_count": null,
   "id": "c2df450c",
   "metadata": {},
   "outputs": [],
   "source": [
    "tips = sns.load_dataset(\"tips\")\n",
    "tips.head()"
   ]
  },
  {
   "cell_type": "code",
   "execution_count": null,
   "id": "985c9199",
   "metadata": {},
   "outputs": [],
   "source": [
    "sns.residplot(...)\n",
    "plt.axhline(y=0, color='r')\n",
    "plt.xlabel(\"Total Bill\")\n",
    "plt.ylabel(\"Residuals\");"
   ]
  },
  {
   "cell_type": "markdown",
   "id": "16c61d54",
   "metadata": {},
   "source": [
    "<!-- BEGIN QUESTION -->\n",
    "\n",
    "**Question 5.** What do you notice about this plot? \n"
   ]
  },
  {
   "cell_type": "markdown",
   "id": "797735e6",
   "metadata": {},
   "source": [
    "_Type your answer here, replacing this text._"
   ]
  },
  {
   "cell_type": "markdown",
   "id": "743bca04",
   "metadata": {},
   "source": [
    "<!-- END QUESTION -->\n",
    "\n",
    "Below, we make a residual plot of the residuals for a simple linear regression model using `horsepower` to predict `mpg`."
   ]
  },
  {
   "cell_type": "code",
   "execution_count": null,
   "id": "a357d276",
   "metadata": {},
   "outputs": [],
   "source": [
    "sns.residplot(...)\n",
    "plt.axhline(y=0, color='r')\n",
    "plt.xlabel(\"Horsepower\")\n",
    "plt.ylabel(\"Residuals\");"
   ]
  },
  {
   "cell_type": "markdown",
   "id": "2ad3a47a",
   "metadata": {},
   "source": [
    "Alternatively, we could have created an instance of a `LinearRegression` object, fit a model on the object, and made a scatter plot of the `horsepower` vs. the residuals."
   ]
  },
  {
   "cell_type": "code",
   "execution_count": null,
   "id": "981aa15c",
   "metadata": {},
   "outputs": [],
   "source": [
    "mpg_model = LinearRegression()\n",
    "mpg_model.fit(mpg[['horsepower']], mpg['mpg'])\n",
    "mpg_model_fitted = mpg_model.predict(mpg[['horsepower']])\n",
    "plt.scatter(mpg[['horsepower']], mpg['mpg'] - mpg_model_fitted)\n",
    "plt.axhline(y=0, color='r')\n",
    "plt.xlabel('Horsepower')\n",
    "plt.ylabel('Residuals');"
   ]
  },
  {
   "cell_type": "markdown",
   "id": "8be5ee09",
   "metadata": {},
   "source": [
    "<!-- BEGIN QUESTION -->\n",
    "\n",
    "**Question 5.** What do you notice about this plot? \n"
   ]
  },
  {
   "cell_type": "markdown",
   "id": "3298cfd7",
   "metadata": {},
   "source": [
    "_Type your answer here, replacing this text._"
   ]
  },
  {
   "cell_type": "markdown",
   "id": "31b92738",
   "metadata": {},
   "source": [
    "<!-- END QUESTION -->\n",
    "\n",
    "# Re-expression\n",
    "\n",
    "We should consider either using a transformation to the **response** to \"straighten\" the data, or think about adding a quadratic feature to the data set. For example, the code below transforms (i.e. re-expresses) the response, `mpg`, by taking the square root."
   ]
  },
  {
   "cell_type": "code",
   "execution_count": null,
   "id": "0c8220a5",
   "metadata": {},
   "outputs": [],
   "source": [
    "mpg['sqrt_mpg'] = np.sqrt(mpg['mpg'])\n",
    "mpg.head()"
   ]
  },
  {
   "cell_type": "markdown",
   "id": "e1bc5bd5",
   "metadata": {},
   "source": [
    "Now let's make a scatter plot using `horsepower` and `sqrt_mpg`."
   ]
  },
  {
   "cell_type": "code",
   "execution_count": null,
   "id": "a10b6028",
   "metadata": {},
   "outputs": [],
   "source": [
    "sns.lmplot(...)\n",
    "plt.ylabel('$\\sqrt{mpg}$');"
   ]
  },
  {
   "cell_type": "markdown",
   "id": "d17f325f",
   "metadata": {},
   "source": [
    "This looks a like a better fit. Now let's look at the residual plot."
   ]
  },
  {
   "cell_type": "code",
   "execution_count": null,
   "id": "dbc6b3cf",
   "metadata": {},
   "outputs": [],
   "source": [
    "sns.residplot(...)\n",
    "plt.axhline(y=0, color='r')\n",
    "plt.xlabel(\"Horsepower\")\n",
    "plt.ylabel(\"Residuals\");"
   ]
  },
  {
   "cell_type": "markdown",
   "id": "0fa26c65",
   "metadata": {},
   "source": [
    "Now we can make a simple linear regression model using our re-expressed response `sqrt_mpg`."
   ]
  },
  {
   "cell_type": "code",
   "execution_count": null,
   "id": "e7e88006",
   "metadata": {},
   "outputs": [],
   "source": [
    "sqrt_mpg_model = LinearRegression()\n",
    "sqrt_mpg_model.fit(mpg[['horsepower']], mpg['sqrt_mpg'])"
   ]
  },
  {
   "cell_type": "markdown",
   "id": "910e2972",
   "metadata": {},
   "source": [
    "**Question 7.** What are the coefficients for the model `sqrt_mpg_model`? In other words, given the equation for the new model is \n",
    "\n",
    "$$\\sqrt{\\text{mpg}}=\\hat{a}x+\\hat{b}, \\hspace{1cm}\\text{(1)}$$\n",
    "\n",
    "what are the values of $\\hat{a}$ and $\\hat{b}$?\n"
   ]
  },
  {
   "cell_type": "code",
   "execution_count": null,
   "id": "c6c3448e",
   "metadata": {
    "tags": []
   },
   "outputs": [],
   "source": [
    "a_hat = ...\n",
    "b_hat = ...\n",
    "a_hat, b_hat"
   ]
  },
  {
   "cell_type": "code",
   "execution_count": null,
   "id": "f8aa4db2",
   "metadata": {
    "deletable": false,
    "editable": false
   },
   "outputs": [],
   "source": [
    "grader.check(\"q7\")"
   ]
  },
  {
   "cell_type": "markdown",
   "id": "3bd890a2",
   "metadata": {},
   "source": [
    "In equation **(1)** from **Question 7.** we re-expressed `mpg` as `sqrt_mpg` to straighten the data points in our scatter plot. We did this because there was a parabolic shape in our residual plot. We could leave the result in the units $\\left(\\sqrt{\\text{mpg}}\\right)$. Sometimes the new units may be as meaningful as the original, but here we want to transform the predicted value back into mpg (miles per gallon)."
   ]
  },
  {
   "cell_type": "markdown",
   "id": "31ece8df",
   "metadata": {},
   "source": [
    "<!-- BEGIN QUESTION -->\n",
    "\n",
    "**Question 8.** Using the values for `a_hat` and `b_hat` (rounded to 4 decimal places), in Latex ($\\LaTeX$), write out the function that the model is using to predict `mpg` from `horsepower`.\n",
    "\n",
    "**Hint:** Click [here](http://tug.ctan.org/info/undergradmath/undergradmath.pdf) to view a brief two page guide on typesetting math equations in Latex. If you still need help, as a neighbor or your instructor.\n"
   ]
  },
  {
   "cell_type": "markdown",
   "id": "9e9f81a0",
   "metadata": {},
   "source": [
    "_Type your answer here, replacing this text._"
   ]
  },
  {
   "cell_type": "markdown",
   "id": "c5a0d9e8",
   "metadata": {},
   "source": [
    "<!-- END QUESTION -->\n",
    "\n",
    "**Question 9.** Use your equation from **Question 8.** to predict the value of `mpg` using `horsepower` for all observations in the data set. Store your result in `mpg_hat`."
   ]
  },
  {
   "cell_type": "code",
   "execution_count": null,
   "id": "f5af352e",
   "metadata": {
    "tags": []
   },
   "outputs": [],
   "source": [
    "mpg_hat = ...\n",
    "mpg_hat"
   ]
  },
  {
   "cell_type": "code",
   "execution_count": null,
   "id": "7d65882b",
   "metadata": {
    "deletable": false,
    "editable": false
   },
   "outputs": [],
   "source": [
    "grader.check(\"q9\")"
   ]
  },
  {
   "cell_type": "markdown",
   "id": "a346ac88",
   "metadata": {},
   "source": [
    "<!-- BEGIN QUESTION -->\n",
    "\n",
    "**Question 10.** Make a residual plot using the predicted values in `mpg_hat`."
   ]
  },
  {
   "cell_type": "code",
   "execution_count": null,
   "id": "f774ea4d",
   "metadata": {
    "tags": []
   },
   "outputs": [],
   "source": [
    "...\n",
    "plt.axhline(y=0, color='r')\n",
    "plt.xlabel('Horsepower')\n",
    "plt.ylabel('Residuals');"
   ]
  },
  {
   "cell_type": "markdown",
   "id": "9da17e2b",
   "metadata": {},
   "source": [
    "<!-- END QUESTION -->\n",
    "\n",
    "The dip in this residual plot is not as obvious as in our first model. "
   ]
  },
  {
   "cell_type": "markdown",
   "id": "ae361780",
   "metadata": {
    "tags": []
   },
   "source": [
    "# Mean Squared Error \n",
    "\n",
    "The purpose of the regression line is to predict or estimate values of $y$, given values of $x$. Estimates typically aren't perfect. Each one is off the true value by an error. A reasonable criterion for a line to be the \"best\" is for it to have the smallest possible overall error among all possible straight lines through the data points. The mean squared error (MSE) of estimation is a measure the size squared errors. Thus minimizing mean squared error gives us the regression line. This is why the regression line is sometimes called the \"least squares line\".\n",
    "\n",
    "The mean squared error is the average of the sum of the squared residuals. MSE is used to check how close model predictions are to actual values. The lower the MSE, the closer the fit is to the actual data. MSE is used as a model evaluation measure for regression models. When judging between models, generally speaking, the lowest MSE value indicates the best fit.\n",
    "\n",
    "**Hint:** MSE is denoted \n",
    "\n",
    "$$\\text{MSE}=\\frac{1}{n}\\sum\\limits_{n=1}^n (y_i-\\hat{y}_i)^2$$\n",
    "\n",
    "# 4. Root Mean Square Error\n",
    "\n",
    "Taking the square root of the mean square error yields the root mean square error (RMSE). For purposes of communicating your results to others, it is usually best to report the root mean squared error (RMSE) rather than mean squared error (MSE), because the RMSE is measured in the same units as the data, and, is representative of the size of a \"typical\" error. One drawback of the root mean squared error is that its sensitive to the large error. That is, the squaring process gives disproportionate weight to very large errors. \n",
    "\n",
    "**Hint:** RMSE is denoted \n",
    "\n",
    "$$\\text{RMSE}=\\sqrt{\\frac{1}{n}\\sum\\limits_{n=1}^n (y_i-\\hat{y}_i)^2}$$"
   ]
  },
  {
   "cell_type": "markdown",
   "id": "e2d46c71",
   "metadata": {},
   "source": [
    "**Question 11.** Calculate the root mean squared error for each of the fitted models, the linear model and the quadratic model."
   ]
  },
  {
   "cell_type": "code",
   "execution_count": null,
   "id": "7773764f",
   "metadata": {
    "tags": []
   },
   "outputs": [],
   "source": [
    "rmse_linear = ...\n",
    "rmse_quad = ...\n",
    "rmse_linear, rmse_quad"
   ]
  },
  {
   "cell_type": "code",
   "execution_count": null,
   "id": "86649957",
   "metadata": {
    "deletable": false,
    "editable": false
   },
   "outputs": [],
   "source": [
    "grader.check(\"q11\")"
   ]
  },
  {
   "cell_type": "markdown",
   "id": "ee2dae7b",
   "metadata": {},
   "source": [
    "**Question 13.**  Assign the value of the of the model with the lowest RMSE to `lowest_rmse`.\n",
    "\n",
    "1. Linear Model\n",
    "2. Quadratic Model\n"
   ]
  },
  {
   "cell_type": "code",
   "execution_count": null,
   "id": "cd4ff1ad",
   "metadata": {
    "tags": []
   },
   "outputs": [],
   "source": [
    "lowest_rmse = ...\n"
   ]
  },
  {
   "cell_type": "code",
   "execution_count": null,
   "id": "39f91625",
   "metadata": {
    "deletable": false,
    "editable": false
   },
   "outputs": [],
   "source": [
    "grader.check(\"q13\")"
   ]
  },
  {
   "cell_type": "markdown",
   "id": "fdce38bf",
   "metadata": {
    "deletable": false,
    "editable": false
   },
   "source": [
    "## Submission\n",
    "\n",
    "Make sure you have run all cells in your notebook in order before running the cell below, so that all images/graphs appear in the output. The cell below will generate a zip file for you to submit. **Please save before exporting!**"
   ]
  },
  {
   "cell_type": "code",
   "execution_count": null,
   "id": "979b326a",
   "metadata": {
    "deletable": false,
    "editable": false
   },
   "outputs": [],
   "source": [
    "# Save your notebook first, then run this cell to export your submission.\n",
    "grader.export(run_tests=True)"
   ]
  },
  {
   "cell_type": "markdown",
   "id": "3a44b219",
   "metadata": {},
   "source": [
    " "
   ]
  }
 ],
 "metadata": {
  "kernelspec": {
   "display_name": "Python 3 (ipykernel)",
   "language": "python",
   "name": "python3"
  },
  "language_info": {
   "codemirror_mode": {
    "name": "ipython",
    "version": 3
   },
   "file_extension": ".py",
   "mimetype": "text/x-python",
   "name": "python",
   "nbconvert_exporter": "python",
   "pygments_lexer": "ipython3",
   "version": "3.10.11"
  },
  "otter": {
   "OK_FORMAT": true,
   "tests": {
    "q11": {
     "name": "q11",
     "points": null,
     "suites": [
      {
       "cases": [
        {
         "code": ">>> rmse_linear\n4.893226230065713",
         "hidden": false,
         "locked": false
        },
        {
         "code": ">>> rmse_quad\n4.699689422493848",
         "hidden": false,
         "locked": false
        }
       ],
       "scored": true,
       "setup": "",
       "teardown": "",
       "type": "doctest"
      }
     ]
    },
    "q13": {
     "name": "q13",
     "points": null,
     "suites": [
      {
       "cases": [
        {
         "code": ">>> lowest_rmse in [1,2]\nTrue",
         "hidden": false,
         "locked": false
        }
       ],
       "scored": true,
       "setup": "",
       "teardown": "",
       "type": "doctest"
      }
     ]
    },
    "q7": {
     "name": "q7",
     "points": null,
     "suites": [
      {
       "cases": [
        {
         "code": ">>> a_hat\n-0.016839206207727914",
         "hidden": false,
         "locked": false
        },
        {
         "code": ">>> b_hat\n6.534393655137772",
         "hidden": false,
         "locked": false
        }
       ],
       "scored": true,
       "setup": "",
       "teardown": "",
       "type": "doctest"
      }
     ]
    },
    "q9": {
     "name": "q9",
     "points": null,
     "suites": [
      {
       "cases": [
        {
         "code": ">>> len(mpg_hat)\n392",
         "hidden": false,
         "locked": false
        },
        {
         "code": ">>> sum(mpg_hat)\n9102.902851882958",
         "hidden": false,
         "locked": false
        }
       ],
       "scored": true,
       "setup": "",
       "teardown": "",
       "type": "doctest"
      }
     ]
    }
   }
  }
 },
 "nbformat": 4,
 "nbformat_minor": 5
}
