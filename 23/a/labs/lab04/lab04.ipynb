{
 "cells": [
  {
   "cell_type": "code",
   "execution_count": null,
   "id": "14dd15b1",
   "metadata": {
    "deletable": false,
    "editable": false
   },
   "outputs": [],
   "source": [
    "# Initialize Otter\n",
    "import otter\n",
    "grader = otter.Notebook(\"lab04.ipynb\")"
   ]
  },
  {
   "attachments": {},
   "cell_type": "markdown",
   "id": "29613ef8",
   "metadata": {},
   "source": [
    "# Lab 04: Pandas\n",
    "\n",
    "Welcome to Advanced Topics in Data Science for High School! Throughout the course you will complete assignments like this one. You can't learn technical subjects without hands-on practice, so these assignments are an important part of the course.\n",
    "\n",
    "**Collaboration Policy:**\n",
    "\n",
    "Collaborating on labs is more than okay -- it's encouraged! You should rarely remain stuck for more than a few minutes on questions in labs, so ask a neighbor or an instructor for help. Explaining things is beneficial, too -- the best way to solidify your knowledge of a subject is to explain it. You should **not** _just_ copy/paste someone else's code, but rather work together to gain understanding of the task you need to complete. \n",
    "\n",
    "**Due Date:**\n",
    "\n",
    "## Today's Assignment \n",
    "\n",
    "[Pandas](https://pandas.pydata.org/) is one of the most widely used Python libraries in data science. In this lab, you will learn commonly used data wrangling operations/tools in Pandas. \n",
    "\n",
    "In today's assignment, you'll learn about:\n",
    "\n",
    "* Creating dataframes\n",
    "\n",
    "* Slicing data frames (i.e. selecting rows and columns)\n",
    "\n",
    "* Filtering data (using boolean arrays)\n",
    "\n",
    "**Note:** If you are familiar with the `datascience` library used in Foundations of Data Science, the `activity09.ipynb` notebook, Mapping from `datascience` to Pandas, may serve as a useful guide. It can be found in the activities folder.\n"
   ]
  },
  {
   "attachments": {},
   "cell_type": "markdown",
   "id": "11acbe5b",
   "metadata": {
    "tags": []
   },
   "source": [
    "In this lab you are going to use several pandas methods, such as `drop` and `loc`. You may need to read the documentation for the methods to see all the parameters. The pandas interface is notoriously confusing, and the documentation is not consistently great. Throughout the semester, you will have to search through Pandas documentation and experiment, but remember it is part of the learning experience and will help shape you as a data scientist.\n",
    "\n",
    "First, set up the imports by running the cell below."
   ]
  },
  {
   "cell_type": "code",
   "execution_count": null,
   "id": "1739eac2",
   "metadata": {
    "tags": []
   },
   "outputs": [],
   "source": [
    "import pandas as pd\n",
    "import numpy as np\n",
    "\n",
    "%matplotlib inline\n",
    "import matplotlib.pyplot as plt"
   ]
  },
  {
   "attachments": {},
   "cell_type": "markdown",
   "id": "a51a15da",
   "metadata": {},
   "source": [
    "## 1. Creating DataFrames & Basic Manipulations\n",
    "\n",
    "A [dataframe](http://pandas.pydata.org/pandas-docs/stable/dsintro.html#dataframe) is a table in which each column has a type; there is an index over the columns (typically string labels) and an index over the rows (typically ordinal numbers).\n",
    "\n",
    "The [documentation](https://pandas.pydata.org/pandas-docs/stable/generated/pandas.DataFrame.html) for the pandas `DataFrame` class  provide at least two syntaxes to create a data frame.\n",
    "\n",
    "**Syntax 1:** You can create a data frame by specifying the columns and values using a dictionary as shown below. \n",
    "\n",
    "The keys of the dictionary are the column names, and the values of the dictionary are lists containing the row entries."
   ]
  },
  {
   "cell_type": "code",
   "execution_count": null,
   "id": "a8fcbb8b",
   "metadata": {
    "tags": []
   },
   "outputs": [],
   "source": [
    "fruit_info = pd.DataFrame(\n",
    "    data = {'fruit': ['apple', 'orange', 'banana', 'raspberry'],\n",
    "            'color': ['red', 'orange', 'yellow', 'pink']})\n",
    "fruit_info"
   ]
  },
  {
   "attachments": {},
   "cell_type": "markdown",
   "id": "b0797f4f",
   "metadata": {},
   "source": [
    "**Syntax 2:** You can also define a dataframe by specifying the rows like below. \n",
    "\n",
    "Each row corresponds to a distinct tuple, and the columns are specified separately."
   ]
  },
  {
   "cell_type": "code",
   "execution_count": null,
   "id": "2f457362",
   "metadata": {
    "tags": []
   },
   "outputs": [],
   "source": [
    "fruit_info2 = pd.DataFrame(\n",
    "    [(\"red\", \"apple\"), (\"orange\", \"orange\"), (\"yellow\", \"banana\"),\n",
    "     (\"pink\", \"raspberry\")], \n",
    "    columns = [\"color\", \"fruit\"])\n",
    "fruit_info2"
   ]
  },
  {
   "attachments": {},
   "cell_type": "markdown",
   "id": "2f24dc3c",
   "metadata": {},
   "source": [
    "You can obtain the dimensions of a dataframe by using the shape attribute `dataframe.shape`."
   ]
  },
  {
   "cell_type": "code",
   "execution_count": null,
   "id": "f28e0632",
   "metadata": {
    "tags": []
   },
   "outputs": [],
   "source": [
    "fruit_info.shape"
   ]
  },
  {
   "attachments": {},
   "cell_type": "markdown",
   "id": "608dac71",
   "metadata": {},
   "source": [
    "You can also convert the entire dataframe into a two-dimensional numpy array."
   ]
  },
  {
   "cell_type": "code",
   "execution_count": null,
   "id": "9265c3ab",
   "metadata": {
    "tags": []
   },
   "outputs": [],
   "source": [
    "fruit_info.values"
   ]
  },
  {
   "attachments": {},
   "cell_type": "markdown",
   "id": "969d239f",
   "metadata": {},
   "source": [
    "**Question 1.** For a `DataFrame` called `df`, you can add a column with \n",
    "\n",
    "`df['new column name'] = ...` \n",
    "\n",
    "and assign a list or array of values to the column. Use the `.Series` method to add a column of integers containing 1, 2, 3, and 4 called `rank1` to the `fruit_info` table which expresses your personal preference about the taste ordering for each fruit (1 is tastiest; 4 is least tasty).\n",
    "\n",
    "**Note:** To earn all the points for this question you **must** use the `.Series` method. "
   ]
  },
  {
   "cell_type": "code",
   "execution_count": null,
   "id": "a9dedcd2",
   "metadata": {
    "tags": []
   },
   "outputs": [],
   "source": [
    "fruit_info['rank1'] = ...\n",
    "fruit_info"
   ]
  },
  {
   "cell_type": "code",
   "execution_count": null,
   "id": "fb82a5bb",
   "metadata": {
    "deletable": false,
    "editable": false
   },
   "outputs": [],
   "source": [
    "grader.check(\"q1\")"
   ]
  },
  {
   "attachments": {},
   "cell_type": "markdown",
   "id": "932fb634",
   "metadata": {},
   "source": [
    "**Question 2.** You can also add a column to `df` with \n",
    "\n",
    "`df.loc[:, 'new column name'] = ...`. \n",
    "\n",
    "As discussed in class, the first parameter is for the rows and second is for columns. The `:` means change all rows and the `new column name` indicates the column you are modifying (or in this case, adding). \n",
    "\n",
    "Make a copy of the `fruit_info` dataframe named `fruit_info_copy` using the `.copy` method. Then add a column called `rank2` to the `fruit_info_copy` table which contains the same values in the same order as the `rank1` column.\n",
    "\n",
    "**Note:** To earn all the points for this question you **must** use the `.copy` method and `.loc`."
   ]
  },
  {
   "cell_type": "code",
   "execution_count": null,
   "id": "8beac5ce",
   "metadata": {
    "tags": []
   },
   "outputs": [],
   "source": [
    "fruit_info_copy = ...\n",
    "fruit_info_copy.loc[:, 'rank2'] = ...\n",
    "fruit_info_copy"
   ]
  },
  {
   "cell_type": "code",
   "execution_count": null,
   "id": "e9988973",
   "metadata": {
    "deletable": false,
    "editable": false
   },
   "outputs": [],
   "source": [
    "grader.check(\"q2\")"
   ]
  },
  {
   "attachments": {},
   "cell_type": "markdown",
   "id": "14d1a272",
   "metadata": {},
   "source": [
    "**Question 3.** Use the `.drop` method to [drop](https://pandas.pydata.org/pandas-docs/stable/generated/pandas.DataFrame.drop.html) both the `rank1` and `rank2` columns you created in `fruit_info_copy` (make sure to use the `axis` parameter correctly). Save the output to an object named `fruit_info_original`.\n",
    "\n",
    "**Note:** `.drop` does not change a table, but instead returns a new table with fewer columns or rows unless you set the optional `inplace` parameter.\n",
    "\n",
    "**Hint:** Look through the [documentation](https://pandas.pydata.org/docs/reference/api/pandas.DataFrame.drop.html) to see how you can drop multiple columns of a Pandas dataframe at once using a list of column names."
   ]
  },
  {
   "cell_type": "code",
   "execution_count": null,
   "id": "7d04d035",
   "metadata": {
    "tags": []
   },
   "outputs": [],
   "source": [
    "fruit_info_original = ...\n",
    "fruit_info_original"
   ]
  },
  {
   "cell_type": "code",
   "execution_count": null,
   "id": "f69d4bcf",
   "metadata": {
    "deletable": false,
    "editable": false
   },
   "outputs": [],
   "source": [
    "grader.check(\"q3\")"
   ]
  },
  {
   "attachments": {},
   "cell_type": "markdown",
   "id": "dce2549c",
   "metadata": {},
   "source": [
    "**Question 4.** Use the `.rename()` method to [rename](https://pandas.pydata.org/pandas-docs/stable/generated/pandas.DataFrame.rename.html) the columns of `fruit_info_copy` so they begin with capital letters. Set this new dataframe to `fruit_info_caps`."
   ]
  },
  {
   "cell_type": "code",
   "execution_count": null,
   "id": "0e602b73",
   "metadata": {
    "tags": []
   },
   "outputs": [],
   "source": [
    "fruit_info_caps = ...\n",
    "fruit_info_caps"
   ]
  },
  {
   "cell_type": "code",
   "execution_count": null,
   "id": "9c8de646",
   "metadata": {
    "deletable": false,
    "editable": false
   },
   "outputs": [],
   "source": [
    "grader.check(\"q4\")"
   ]
  },
  {
   "attachments": {},
   "cell_type": "markdown",
   "id": "2d1446ea",
   "metadata": {},
   "source": [
    "## Babynames\n",
    "\n",
    "Now that we have learned the basics, let's move on to the `babynames` dataset. The `babynames` dataset contains a record of the given names of babies born in the United States each year.\n",
    "\n",
    "First let's run the following cell to load the dataframe `babynames`."
   ]
  },
  {
   "cell_type": "code",
   "execution_count": null,
   "id": "5bd2e16c",
   "metadata": {
    "tags": []
   },
   "outputs": [],
   "source": [
    "babynames = pd.read_csv('data/baby_names.csv', index_col = 0)\n",
    "babynames"
   ]
  },
  {
   "attachments": {},
   "cell_type": "markdown",
   "id": "a8bab8b9",
   "metadata": {},
   "source": [
    "<!-- BEGIN QUESTION -->\n",
    "\n",
    "**Question 5.** Use 3 different `DataFrame` methods to explore the `babynames` dataframe."
   ]
  },
  {
   "cell_type": "code",
   "execution_count": null,
   "id": "bf355993",
   "metadata": {
    "tags": []
   },
   "outputs": [],
   "source": [
    "..."
   ]
  },
  {
   "cell_type": "code",
   "execution_count": null,
   "id": "e3bae2a2",
   "metadata": {
    "tags": []
   },
   "outputs": [],
   "source": [
    "..."
   ]
  },
  {
   "cell_type": "code",
   "execution_count": null,
   "id": "a51c3c48",
   "metadata": {
    "tags": []
   },
   "outputs": [],
   "source": [
    "..."
   ]
  },
  {
   "attachments": {},
   "cell_type": "markdown",
   "id": "6d8030af",
   "metadata": {},
   "source": [
    "<!-- END QUESTION -->\n",
    "\n",
    "<!-- BEGIN QUESTION -->\n",
    "\n",
    "**Question 6.** In the markdown cell below, explain the output from each of the commands you ran in the previous question."
   ]
  },
  {
   "cell_type": "markdown",
   "id": "3efbbdc5",
   "metadata": {},
   "source": [
    "_Type your answer here, replacing this text._"
   ]
  },
  {
   "attachments": {},
   "cell_type": "markdown",
   "id": "7e350a34",
   "metadata": {},
   "source": [
    "<!-- END QUESTION -->\n",
    "\n",
    "## Selecting Rows and Columns (Slicing)\n",
    "\n",
    "### Selection Using Label/Index (using `.loc`)\n",
    "\n",
    "#### Column Selection \n",
    "\n",
    "To select a column of a `DataFrame` by column label, one way is to use the `.loc` [method](https://pandas.pydata.org/pandas-docs/stable/generated/pandas.DataFrame.loc.html). General usage of `.loc` looks like `df.loc[rowname, colname]` (**reminder** the colon `:` means \"everything.\").  For example, if we want the `color` column of the `friut_info` data frame, we would use: `fruit_info.loc[:, 'color']`\n",
    "\n",
    "- You can also slice across columns. For example, `babynames.loc[:, 'Name':]` would select the column `Name` and all columns after `Name`.\n",
    "\n",
    "- **Alternative:** While `.loc` is invaluable when writing production code, it may be a little too verbose for interactive use. One recommended alternative is the `[ ]` method, which takes on the form `df['colname']`.\n",
    "\n",
    "#### Row Selection\n",
    "\n",
    "Similarly, if we want to select a row by its label, we can use the same `.loc` method. In this case, the \"label\" of each row refers to the index (i.e. primary key) of the dataframe.\n",
    "\n",
    "**Example 1.**"
   ]
  },
  {
   "cell_type": "code",
   "execution_count": null,
   "id": "cb0b12c0",
   "metadata": {
    "tags": []
   },
   "outputs": [],
   "source": [
    "babynames.loc[2:5, 'Name']"
   ]
  },
  {
   "attachments": {},
   "cell_type": "markdown",
   "id": "5eea92aa",
   "metadata": {},
   "source": [
    "**Example 2.**  Notice the difference between this method and the method in **Example: 1**.\n",
    "\n",
    "Just passing in `'Name'` returns a Series while `['Name']` returns a `Dataframe`."
   ]
  },
  {
   "cell_type": "code",
   "execution_count": null,
   "id": "d9cef81b",
   "metadata": {
    "tags": []
   },
   "outputs": [],
   "source": [
    "babynames.loc[2:5, ['Name']]"
   ]
  },
  {
   "attachments": {},
   "cell_type": "markdown",
   "id": "6729c638",
   "metadata": {},
   "source": [
    "<!-- BEGIN QUESTION -->\n",
    "\n",
    "**Question 7.** Explain what is different between the output from running the commands in **Example 1** and **Example 2**."
   ]
  },
  {
   "cell_type": "markdown",
   "id": "5dd0cff1",
   "metadata": {},
   "source": [
    "_Type your answer here, replacing this text._"
   ]
  },
  {
   "attachments": {},
   "cell_type": "markdown",
   "id": "19566096",
   "metadata": {},
   "source": [
    "<!-- END QUESTION -->\n",
    "\n",
    "**Note:** `.loc` actually uses the Pandas row index rather than row id/position of rows in the dataframe to perform the selection. Also, notice that if you write `2:5` with `.loc[ ]`, contrary to normal Python slicing functionality, the end index is included, so you get the row with index 5.\n",
    "\n",
    "### Selection using Integer location (using `.iloc`)\n",
    "\n",
    "Another pandas feature is `.iloc[ ]` which lets you slice the dataframe by row position and column position instead of by row index and column label (which is the case for `.loc[ ]`). This is really the main difference between the two functions and it is **important** that you remember the difference and why you might want to use one over the other. In addition, with `.iloc[ ]`, the end index is **not** included, like with normal Python slicing.\n",
    "\n",
    "**Note:** As a mnemonic, remember that the *i* in `.iloc` means \"integer\". \n",
    "\n",
    "Below, we have sorted the `babynames` dataframe. Notice how the **position** of a row is not necessarily equal to the **index** of a row. For example, the first row is not necessarily the row associated with index 1. This distinction is important in understanding the different between `.loc[ ]` and `.iloc[ ]`."
   ]
  },
  {
   "cell_type": "code",
   "execution_count": null,
   "id": "04e33cb6",
   "metadata": {
    "tags": []
   },
   "outputs": [],
   "source": [
    "sorted_babynames = babynames.sort_values(by = ['Name'])\n",
    "sorted_babynames.head()"
   ]
  },
  {
   "attachments": {},
   "cell_type": "markdown",
   "id": "b118c907",
   "metadata": {},
   "source": [
    "**Example 3.** Here is an example of how we would get the 2nd, 3rd, and 4th rows with only the `Name` column of the `baby_names` dataframe using both `.iloc[ ]` and `.loc[ ]`. Observe the difference, especially after sorting `babynames` by name."
   ]
  },
  {
   "cell_type": "code",
   "execution_count": null,
   "id": "9246c719",
   "metadata": {
    "tags": []
   },
   "outputs": [],
   "source": [
    "sorted_babynames.iloc[1:4, 3]"
   ]
  },
  {
   "attachments": {},
   "cell_type": "markdown",
   "id": "e155a788",
   "metadata": {},
   "source": [
    "**Example 4.** Notice that using `.loc[ ]` with 1:4 gives different results, since it selects using the **index**."
   ]
  },
  {
   "cell_type": "code",
   "execution_count": null,
   "id": "1557a79b",
   "metadata": {
    "tags": []
   },
   "outputs": [],
   "source": [
    "sorted_babynames.loc[1:4, 'Name']"
   ]
  },
  {
   "attachments": {},
   "cell_type": "markdown",
   "id": "f76682f9",
   "metadata": {},
   "source": [
    "<!-- BEGIN QUESTION -->\n",
    "\n",
    "**Question 8.** Explain what the difference is between the output from running the commands in **Example 3** and **Example 4**."
   ]
  },
  {
   "cell_type": "markdown",
   "id": "692c1570",
   "metadata": {},
   "source": [
    "_Type your answer here, replacing this text._"
   ]
  },
  {
   "attachments": {},
   "cell_type": "markdown",
   "id": "22626699",
   "metadata": {},
   "source": [
    "<!-- END QUESTION -->\n",
    "\n",
    "**Example 5.** Lastly, we can change the index of a dataframe using the `set_index` method. We change the index from $0,1,2,\\ldots$ to the `Name` column."
   ]
  },
  {
   "cell_type": "code",
   "execution_count": null,
   "id": "b009c66d",
   "metadata": {
    "tags": []
   },
   "outputs": [],
   "source": [
    "idx_babynames = babynames[:5].set_index(\"Name\") \n",
    "idx_babynames"
   ]
  },
  {
   "attachments": {},
   "cell_type": "markdown",
   "id": "29988596",
   "metadata": {},
   "source": [
    "**Example 6.** However, if we still want to access rows by location we will need to use the integer location (`.iloc`) accessor.\n",
    "\n",
    "**Note:** We can't do this `idx_babynames.loc[1:4, 'Year']`, but we can use the integer position."
   ]
  },
  {
   "cell_type": "code",
   "execution_count": null,
   "id": "2e688dc0",
   "metadata": {},
   "outputs": [],
   "source": [
    "idx_babynames.iloc[1:4, 2:3]"
   ]
  },
  {
   "attachments": {},
   "cell_type": "markdown",
   "id": "0a85e19c",
   "metadata": {},
   "source": [
    "<!-- BEGIN QUESTION -->\n",
    "\n",
    "**Question 9.** List the different names of the states that are in the `babynames` data set. Do this using a pandas `DataFrame` method.\n",
    "\n",
    "**Note:** To earn all the points for the question you must do it programmatically ."
   ]
  },
  {
   "cell_type": "code",
   "execution_count": null,
   "id": "62839450",
   "metadata": {
    "tags": []
   },
   "outputs": [],
   "source": [
    "..."
   ]
  },
  {
   "attachments": {},
   "cell_type": "markdown",
   "id": "bd0643e4",
   "metadata": {},
   "source": [
    "<!-- END QUESTION -->\n",
    "\n",
    "**Question 10.** Selecting multiple columns is easy.  You just need to supply a list of column names.  Use `.loc` to select the `Name` and `Year` **in that order** from the `babynames` table.\n",
    "\n",
    "**Note:** To earn all the points for this question you **must** use the `.loc` method. "
   ]
  },
  {
   "cell_type": "code",
   "execution_count": null,
   "id": "6d4838a4",
   "metadata": {
    "tags": []
   },
   "outputs": [],
   "source": [
    "name_and_year = ...\n",
    "name_and_year[:5]"
   ]
  },
  {
   "cell_type": "code",
   "execution_count": null,
   "id": "cadda78c",
   "metadata": {
    "deletable": false,
    "editable": false
   },
   "outputs": [],
   "source": [
    "grader.check(\"q10\")"
   ]
  },
  {
   "attachments": {},
   "cell_type": "markdown",
   "id": "c1abad94",
   "metadata": {},
   "source": [
    "## Filtering Data\n",
    "\n",
    "### Filtering with boolean arrays\n",
    "\n",
    "Filtering is the process of removing unwanted material.  In your quest for cleaner data, you will undoubtedly filter your data at some point: whether it be for clearing up cases with missing values, for culling out fishy outliers, or for analyzing subgroups of your data set.  Note that compound expressions have to be grouped with parentheses. \n",
    "\n",
    "Example usage looks like `df[df['column name'] < 5]]`.\n",
    "\n",
    "For your reference, some commonly used comparison operators are given below.\n",
    "\n",
    "Symbol   | Usage      | Meaning \n",
    "------   | ---------- | -------------------------------------\n",
    "$==$     | a == b     | Does a equal b?\n",
    "$\\lt =$  | a <= b     | Is a less than or equal to b?\n",
    "$\\gt =$  | a >= b     | Is a greater than or equal to b?\n",
    "$\\lt$    | a < b      | Is a less than \n",
    "$\\gt$    | a > b      | Is a greater than b?\n",
    "~        | ~p         | Returns negation of p\n",
    "&#124;   | p &#124; q | p OR q\n",
    "&        | p & q      | p AND q\n",
    "^        | p ^ q      | p XOR q (exclusive or)\n",
    "\n",
    "In the following we construct the DataFrame containing only names registered in North Carolina."
   ]
  },
  {
   "attachments": {},
   "cell_type": "markdown",
   "id": "bb5cc600",
   "metadata": {},
   "source": [
    "**Question 11.** Make a `DataFrame` containing only names registered in North Carolina."
   ]
  },
  {
   "cell_type": "code",
   "execution_count": null,
   "id": "09bc5f65",
   "metadata": {
    "tags": []
   },
   "outputs": [],
   "source": [
    "nc = ...\n",
    "nc.head()"
   ]
  },
  {
   "cell_type": "code",
   "execution_count": null,
   "id": "dbbd06ac",
   "metadata": {
    "deletable": false,
    "editable": false
   },
   "outputs": [],
   "source": [
    "grader.check(\"q11\")"
   ]
  },
  {
   "attachments": {},
   "cell_type": "markdown",
   "id": "f5586b32",
   "metadata": {},
   "source": [
    "**Question 12.** Using a boolean array, select the names in Year 2019 from the `nc` dataframe that have at least 500 counts. Keep all columns from the original `nc` dataframe.\n",
    "\n",
    "**Hint:** Any time you use `p & q` to filter the dataframe, make sure to use \n",
    "\n",
    "`df[(df[p]) & (df[q])]` or `df.loc[(df[p]) & (df[q])]`. \n",
    "\n",
    "\n",
    "That is, make sure to wrap conditions with parentheses.\n",
    "\n",
    "**Note:** Both slicing and `.loc` will achieve the same result, it is just that `.loc` is typically faster in production. You are free to use whichever one you would like."
   ]
  },
  {
   "cell_type": "code",
   "execution_count": null,
   "id": "b9786c00",
   "metadata": {
    "tags": []
   },
   "outputs": [],
   "source": [
    "names_2019 = ...\n",
    "names_2019.head()"
   ]
  },
  {
   "cell_type": "code",
   "execution_count": null,
   "id": "892804aa",
   "metadata": {
    "deletable": false,
    "editable": false
   },
   "outputs": [],
   "source": [
    "grader.check(\"q12\")"
   ]
  },
  {
   "attachments": {},
   "cell_type": "markdown",
   "id": "447c0b10",
   "metadata": {},
   "source": [
    "### Counting Labels\n",
    "\n"
   ]
  },
  {
   "attachments": {},
   "cell_type": "markdown",
   "id": "8186bbbf",
   "metadata": {},
   "source": [
    "**Question 13.** Use the `.value_counts()` `Series` method to count the number of male and female babies in North Carolina.\n",
    "\n",
    "**Hint:** Use the `nc` dataframe."
   ]
  },
  {
   "cell_type": "code",
   "execution_count": null,
   "id": "5d8a0311",
   "metadata": {
    "tags": []
   },
   "outputs": [],
   "source": [
    "num_of_names_m_f = ...\n",
    "num_of_names_m_f"
   ]
  },
  {
   "cell_type": "code",
   "execution_count": null,
   "id": "f4d3adac",
   "metadata": {
    "deletable": false,
    "editable": false
   },
   "outputs": [],
   "source": [
    "grader.check(\"q13\")"
   ]
  },
  {
   "attachments": {},
   "cell_type": "markdown",
   "id": "0da4d4c0",
   "metadata": {},
   "source": [
    "### Using `.groupby`\n",
    "\n",
    "The `.groupby()` method is used to split the data into groups based on the different labels in a column. Pandas objects can be split on any of their axes. The abstract definition of grouping is to provide a mapping of labels to group.\n",
    "\n",
    "For example, we can group the `nc` dataframe on `Name`, count the number of occurrences of the name for each year and display the results in descending order.\n",
    "\n",
    "Run the cell below."
   ]
  },
  {
   "cell_type": "code",
   "execution_count": null,
   "id": "12b41755",
   "metadata": {
    "tags": []
   },
   "outputs": [],
   "source": [
    "nc.groupby('Name')['Count'].agg(sum).sort_values(ascending=False)"
   ]
  },
  {
   "attachments": {},
   "cell_type": "markdown",
   "id": "ea5306b4",
   "metadata": {},
   "source": [
    "If we wanted the dataframe that only contained observations for the name James we could use the `.get_group()` method on the `groupby` object.\n",
    "\n",
    "Run the cell below."
   ]
  },
  {
   "cell_type": "code",
   "execution_count": null,
   "id": "194eba18",
   "metadata": {},
   "outputs": [],
   "source": [
    "grps = nc.groupby('Name')\n",
    "grps.get_group('James')"
   ]
  },
  {
   "attachments": {},
   "cell_type": "markdown",
   "id": "1acccede",
   "metadata": {},
   "source": [
    "If we wanted to see all the different group labels we can use the `.group.keys()` method on the `groupby` object `grps`. Since the object is a dictionary (and its long) we will cast it into a list and only show the first 10 items.\n",
    "\n",
    "Run the cell below."
   ]
  },
  {
   "cell_type": "code",
   "execution_count": null,
   "id": "184cd15a",
   "metadata": {},
   "outputs": [],
   "source": [
    "list(grps.groups.keys())[:10]"
   ]
  },
  {
   "attachments": {},
   "cell_type": "markdown",
   "id": "d9566255",
   "metadata": {},
   "source": [
    "<!-- BEGIN QUESTION -->\n",
    "\n",
    "**Question 14.** Use `groupby` to count the number of instances of each unique  name for each Year in North Carolina. \n",
    "\n",
    "**Note:** We are **not** computing the number of babies but instead the number of unique names for each year. Your output should look like the following:\n",
    "\n",
    "   \n",
    "```\n",
    "Year Count\n",
    "---- -----\n",
    "1910 563\n",
    "1911 572\n",
    "1912 739\n",
    "1913 774\n",
    "1914 913\n",
    "1915 1056\n",
    "1916 1062\n",
    "1917 1071\n",
    "1918 1141\n",
    "1919 1166\n",
    "1920 1199\n",
    "1921 1210\n",
    "1922 1215\n",
    "1923 1161\n",
    "1924 1225\n",
    "1925 1183\n",
    "1926 1129\n",
    "1927 1172\n",
    "1928 1130\n",
    "1929 1135\n",
    "1930 1096\n",
    "1931 1078\n",
    "1932 1095\n",
    "1933 1064\n",
    "1934 1098\n",
    "1935 1086\n",
    "1936 1056\n",
    "1937 1063\n",
    "1938 1101\n",
    "1939 1077\n",
    "1940 1066\n",
    "1941 1079\n",
    "1942 1140\n",
    "1943 1139\n",
    "1944 1127\n",
    "1945 1095\n",
    "1946 1174\n",
    "1947 1254\n",
    "1948 1229\n",
    "1949 1203\n",
    "1950 1194\n",
    "1951 1240\n",
    "1952 1230\n",
    "1953 1279\n",
    "1954 1244\n",
    "1955 1295\n",
    "1956 1316\n",
    "1957 1302\n",
    "1958 1287\n",
    "1959 1284\n",
    "1960 1291\n",
    "1961 1324\n",
    "1962 1314\n",
    "1963 1315\n",
    "1964 1341\n",
    "1965 1257\n",
    "1966 1233\n",
    "1967 1242\n",
    "1968 1270\n",
    "1969 1262\n",
    "1970 1322\n",
    "1971 1347\n",
    "1972 1317\n",
    "1973 1310\n",
    "1974 1320\n",
    "1975 1300\n",
    "1976 1304\n",
    "1977 1368\n",
    "1978 1375\n",
    "1979 1363\n",
    "1980 1399\n",
    "1981 1358\n",
    "1982 1381\n",
    "1983 1355\n",
    "1984 1355\n",
    "1985 1420\n",
    "1986 1464\n",
    "1987 1480\n",
    "1988 1544\n",
    "1989 1646\n",
    "1990 1710\n",
    "1991 1740\n",
    "1992 1796\n",
    "1993 1759\n",
    "1994 1766\n",
    "1995 1828\n",
    "1996 1884\n",
    "1997 1985\n",
    "1998 2091\n",
    "1999 2140\n",
    "2000 2251\n",
    "2001 2318\n",
    "2002 2327\n",
    "2003 2345\n",
    "2004 2407\n",
    "2005 2517\n",
    "2006 2616\n",
    "2007 2764\n",
    "2008 2783\n",
    "2009 2821\n",
    "2010 2763\n",
    "2011 2728\n",
    "2012 2704\n",
    "2013 2712\n",
    "2014 2737\n",
    "2015 2745\n",
    "2016 2755\n",
    "2017 2783\n",
    "2018 2803\n",
    "2019 2849\n",
    "```"
   ]
  },
  {
   "cell_type": "code",
   "execution_count": null,
   "id": "830f8dad",
   "metadata": {
    "tags": []
   },
   "outputs": [],
   "source": [
    "..."
   ]
  },
  {
   "cell_type": "markdown",
   "id": "c984cabc",
   "metadata": {},
   "source": [
    "<!-- END QUESTION -->\n",
    "\n"
   ]
  },
  {
   "cell_type": "markdown",
   "id": "e30fd7a3",
   "metadata": {
    "deletable": false,
    "editable": false
   },
   "source": [
    "## Submission\n",
    "\n",
    "Make sure you have run all cells in your notebook in order before running the cell below, so that all images/graphs appear in the output. The cell below will generate a zip file for you to submit. **Please save before exporting!**"
   ]
  },
  {
   "cell_type": "code",
   "execution_count": null,
   "id": "f4a0f788",
   "metadata": {
    "deletable": false,
    "editable": false
   },
   "outputs": [],
   "source": [
    "# Save your notebook first, then run this cell to export your submission.\n",
    "grader.export(run_tests=True)"
   ]
  },
  {
   "cell_type": "markdown",
   "id": "84d41973",
   "metadata": {},
   "source": [
    " "
   ]
  }
 ],
 "metadata": {
  "kernelspec": {
   "display_name": "Python 3 (ipykernel)",
   "language": "python",
   "name": "python3"
  },
  "language_info": {
   "codemirror_mode": {
    "name": "ipython",
    "version": 3
   },
   "file_extension": ".py",
   "mimetype": "text/x-python",
   "name": "python",
   "nbconvert_exporter": "python",
   "pygments_lexer": "ipython3",
   "version": "3.10.11"
  },
  "otter": {
   "OK_FORMAT": true,
   "tests": {
    "q1": {
     "name": "q1",
     "points": null,
     "suites": [
      {
       "cases": [
        {
         "code": ">>> fruit_info.shape\n(4, 3)",
         "hidden": false,
         "locked": false
        },
        {
         "code": ">>> 'rank1' in fruit_info.columns\nTrue",
         "hidden": false,
         "locked": false
        },
        {
         "code": ">>> 1 in fruit_info['rank1']\nTrue",
         "hidden": false,
         "locked": false
        },
        {
         "code": ">>> 2 in fruit_info['rank1']\nTrue",
         "hidden": false,
         "locked": false
        },
        {
         "code": ">>> 3 in fruit_info['rank1']\nTrue",
         "hidden": false,
         "locked": false
        },
        {
         "code": ">>> np.sum(fruit_info['rank1'])\n10",
         "hidden": false,
         "locked": false
        }
       ],
       "scored": true,
       "setup": "",
       "teardown": "",
       "type": "doctest"
      }
     ]
    },
    "q10": {
     "name": "q10",
     "points": null,
     "suites": [
      {
       "cases": [
        {
         "code": ">>> isinstance(name_and_year, pd.core.frame.DataFrame)\nTrue",
         "hidden": false,
         "locked": false
        },
        {
         "code": ">>> name_and_year.shape[1]\n2",
         "hidden": false,
         "locked": false
        },
        {
         "code": ">>> name_and_year.columns\nIndex(['Name', 'Year'], dtype='object')",
         "hidden": false,
         "locked": false
        }
       ],
       "scored": true,
       "setup": "",
       "teardown": "",
       "type": "doctest"
      }
     ]
    },
    "q11": {
     "name": "q11",
     "points": null,
     "suites": [
      {
       "cases": [
        {
         "code": ">>> isinstance(nc, pd.core.frame.DataFrame)\nTrue",
         "hidden": false,
         "locked": false
        },
        {
         "code": ">>> nc.shape\n(175577, 5)",
         "hidden": false,
         "locked": false
        },
        {
         "code": ">>> nc.State.unique()[0]\n'NC'",
         "hidden": false,
         "locked": false
        }
       ],
       "scored": true,
       "setup": "",
       "teardown": "",
       "type": "doctest"
      }
     ]
    },
    "q12": {
     "name": "q12",
     "points": null,
     "suites": [
      {
       "cases": [
        {
         "code": ">>> isinstance(names_2019, pd.core.frame.DataFrame)\nTrue",
         "hidden": false,
         "locked": false
        },
        {
         "code": ">>> names_2019.shape\n(7, 5)",
         "hidden": false,
         "locked": false
        },
        {
         "code": ">>> np.sort(names_2019['Name'].unique())\narray(['Ava', 'Emma', 'James', 'Liam', 'Noah', 'Olivia', 'William'],\n      dtype=object)",
         "hidden": false,
         "locked": false
        },
        {
         "code": ">>> np.sum(names_2019.loc[:,'Count'])\n4050",
         "hidden": false,
         "locked": false
        }
       ],
       "scored": true,
       "setup": "",
       "teardown": "",
       "type": "doctest"
      }
     ]
    },
    "q13": {
     "name": "q13",
     "points": null,
     "suites": [
      {
       "cases": [
        {
         "code": ">>> isinstance(num_of_names_m_f, pd.core.frame.Series)\nTrue",
         "hidden": false,
         "locked": false
        },
        {
         "code": ">>> num_of_names_m_f.shape\n(2,)",
         "hidden": false,
         "locked": false
        },
        {
         "code": ">>> num_of_names_m_f[0]\n95653",
         "hidden": false,
         "locked": false
        },
        {
         "code": ">>> num_of_names_m_f[1]\n79924",
         "hidden": false,
         "locked": false
        }
       ],
       "scored": true,
       "setup": "",
       "teardown": "",
       "type": "doctest"
      }
     ]
    },
    "q2": {
     "name": "q2",
     "points": null,
     "suites": [
      {
       "cases": [
        {
         "code": ">>> isinstance(fruit_info_copy, pd.core.frame.DataFrame)\nTrue",
         "hidden": false,
         "locked": false
        },
        {
         "code": ">>> fruit_info_copy.shape\n(4, 4)",
         "hidden": false,
         "locked": false
        },
        {
         "code": ">>> 'rank2' in fruit_info_copy.columns\nTrue",
         "hidden": false,
         "locked": false
        },
        {
         "code": ">>> 1 in fruit_info_copy['rank2']\nTrue",
         "hidden": false,
         "locked": false
        },
        {
         "code": ">>> 2 in fruit_info_copy['rank2']\nTrue",
         "hidden": false,
         "locked": false
        },
        {
         "code": ">>> 3 in fruit_info_copy['rank2']\nTrue",
         "hidden": false,
         "locked": false
        },
        {
         "code": ">>> np.sum(fruit_info_copy['rank2'])\n10",
         "hidden": false,
         "locked": false
        }
       ],
       "scored": true,
       "setup": "",
       "teardown": "",
       "type": "doctest"
      }
     ]
    },
    "q3": {
     "name": "q3",
     "points": null,
     "suites": [
      {
       "cases": [
        {
         "code": ">>> isinstance(fruit_info_original, pd.core.frame.DataFrame)\nTrue",
         "hidden": false,
         "locked": false
        },
        {
         "code": ">>> fruit_info_original.shape\n(4, 2)",
         "hidden": false,
         "locked": false
        },
        {
         "code": ">>> 'rank1' not in fruit_info_original.columns\nTrue",
         "hidden": false,
         "locked": false
        },
        {
         "code": ">>> 'rank2' not in fruit_info_original.columns\nTrue",
         "hidden": false,
         "locked": false
        }
       ],
       "scored": true,
       "setup": "",
       "teardown": "",
       "type": "doctest"
      }
     ]
    },
    "q4": {
     "name": "q4",
     "points": null,
     "suites": [
      {
       "cases": [
        {
         "code": ">>> isinstance(fruit_info_caps, pd.core.frame.DataFrame)\nTrue",
         "hidden": false,
         "locked": false
        },
        {
         "code": ">>> fruit_info_caps.shape\n(4, 4)",
         "hidden": false,
         "locked": false
        },
        {
         "code": ">>> 'Rank1' in fruit_info_caps.columns\nTrue",
         "hidden": false,
         "locked": false
        },
        {
         "code": ">>> 'Rank2' in fruit_info_caps.columns\nTrue",
         "hidden": false,
         "locked": false
        }
       ],
       "scored": true,
       "setup": "",
       "teardown": "",
       "type": "doctest"
      }
     ]
    }
   }
  }
 },
 "nbformat": 4,
 "nbformat_minor": 5
}
