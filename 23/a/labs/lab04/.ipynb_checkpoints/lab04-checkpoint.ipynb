{
 "cells": [
  {
   "cell_type": "raw",
   "id": "6459c6fe-9511-435b-b391-774fd3bf34db",
   "metadata": {},
   "source": [
    "# ASSIGNMENT CONFIG\n",
    "files:\n",
    "  - data/baby_names.csv"
   ]
  },
  {
   "cell_type": "markdown",
   "id": "f96e23d5-276c-43e7-ab5c-f53dc01489cc",
   "metadata": {},
   "source": [
    "# Lab 04: Pandas\n",
    "\n",
    "Welcome to Advanced Topics in Data Science for High School! Throughout the course you will complete assignments like this one. You can't learn technical subjects without hands-on practice, so these assignments are an important part of the course.\n",
    "\n",
    "**Collaboration Policy:**\n",
    "\n",
    "Collaborating on labs is more than okay -- it's encouraged! You should rarely remain stuck for more than a few minutes on questions in labs, so ask a neighbor or an instructor for help. Explaining things is beneficial, too -- the best way to solidify your knowledge of a subject is to explain it. You should **not** _just_ copy/paste someone else's code, but rather work together to gain understanding of the task you need to complete. \n",
    "\n",
    "**Due Date:**\n",
    "\n",
    "## Today's Assignment \n",
    "\n",
    "[Pandas](https://pandas.pydata.org/) is one of the most widely used Python libraries in data science. In this lab, you will learn commonly used data wrangling operations/tools in Pandas. \n",
    "\n",
    "In today's assignment, you'll learn about:\n",
    "\n",
    "* Creating dataframes\n",
    "\n",
    "* Slicing data frames (i.e. selecting rows and columns)\n",
    "\n",
    "* Filtering data (using boolean arrays)\n",
    "\n",
    "**Note:** If you are familiar with the `datascience` library used in Foundations of Data Science, the `activity09.ipynb` notebook, Mapping from `datascience` to Pandas, may serve as a useful guide. It can be found in the activities folder.\n"
   ]
  },
  {
   "cell_type": "markdown",
   "id": "5e9a2e01-ca2d-487a-9ec2-3dc57f397b92",
   "metadata": {
    "tags": []
   },
   "source": [
    "In this lab you are going to use several pandas methods, such as `drop` and `loc`. You may need to read the documentation for the methods to see all the parameters. The pandas interface is notoriously confusing, and the documentation is not consistently great. Throughout the semester, you will have to search through Pandas documentation and experiment, but remember it is part of the learning experience and will help shape you as a data scientist.\n",
    "\n",
    "First, set up the imports by running the cell below."
   ]
  },
  {
   "cell_type": "code",
   "execution_count": 3,
   "id": "89eb9d7f-f620-475a-a8e9-afc41aaaa8e1",
   "metadata": {
    "tags": []
   },
   "outputs": [],
   "source": [
    "import pandas as pd\n",
    "import numpy as np\n",
    "\n",
    "%matplotlib inline\n",
    "import matplotlib.pyplot as plt"
   ]
  },
  {
   "cell_type": "markdown",
   "id": "1db2a600-4393-46e7-9fce-9491c9b19fcf",
   "metadata": {},
   "source": [
    "## 1. Creating DataFrames & Basic Manipulations\n",
    "\n",
    "A [dataframe](http://pandas.pydata.org/pandas-docs/stable/dsintro.html#dataframe) is a table in which each column has a type; there is an index over the columns (typically string labels) and an index over the rows (typically ordinal numbers).\n",
    "\n",
    "The [documentation](https://pandas.pydata.org/pandas-docs/stable/generated/pandas.DataFrame.html) for the pandas `DataFrame` class  provide at least two syntaxes to create a data frame.\n",
    "\n",
    "**Syntax 1:** You can create a data frame by specifying the columns and values using a dictionary as shown below. \n",
    "\n",
    "The keys of the dictionary are the column names, and the values of the dictionary are lists containing the row entries."
   ]
  },
  {
   "cell_type": "code",
   "execution_count": 4,
   "id": "d4bca047-bec8-44a3-9291-fb9828869bac",
   "metadata": {
    "tags": []
   },
   "outputs": [
    {
     "data": {
      "text/html": [
       "<div>\n",
       "<style scoped>\n",
       "    .dataframe tbody tr th:only-of-type {\n",
       "        vertical-align: middle;\n",
       "    }\n",
       "\n",
       "    .dataframe tbody tr th {\n",
       "        vertical-align: top;\n",
       "    }\n",
       "\n",
       "    .dataframe thead th {\n",
       "        text-align: right;\n",
       "    }\n",
       "</style>\n",
       "<table border=\"1\" class=\"dataframe\">\n",
       "  <thead>\n",
       "    <tr style=\"text-align: right;\">\n",
       "      <th></th>\n",
       "      <th>fruit</th>\n",
       "      <th>color</th>\n",
       "    </tr>\n",
       "  </thead>\n",
       "  <tbody>\n",
       "    <tr>\n",
       "      <th>0</th>\n",
       "      <td>apple</td>\n",
       "      <td>red</td>\n",
       "    </tr>\n",
       "    <tr>\n",
       "      <th>1</th>\n",
       "      <td>orange</td>\n",
       "      <td>orange</td>\n",
       "    </tr>\n",
       "    <tr>\n",
       "      <th>2</th>\n",
       "      <td>banana</td>\n",
       "      <td>yellow</td>\n",
       "    </tr>\n",
       "    <tr>\n",
       "      <th>3</th>\n",
       "      <td>raspberry</td>\n",
       "      <td>pink</td>\n",
       "    </tr>\n",
       "  </tbody>\n",
       "</table>\n",
       "</div>"
      ],
      "text/plain": [
       "       fruit   color\n",
       "0      apple     red\n",
       "1     orange  orange\n",
       "2     banana  yellow\n",
       "3  raspberry    pink"
      ]
     },
     "execution_count": 4,
     "metadata": {},
     "output_type": "execute_result"
    }
   ],
   "source": [
    "fruit_info = pd.DataFrame(\n",
    "    data = {'fruit': ['apple', 'orange', 'banana', 'raspberry'],\n",
    "            'color': ['red', 'orange', 'yellow', 'pink']})\n",
    "fruit_info"
   ]
  },
  {
   "cell_type": "markdown",
   "id": "b873e17f-11d9-4490-9de5-09b882283fc7",
   "metadata": {},
   "source": [
    "**Syntax 2:** You can also define a dataframe by specifying the rows like below. \n",
    "\n",
    "Each row corresponds to a distinct tuple, and the columns are specified separately."
   ]
  },
  {
   "cell_type": "code",
   "execution_count": 5,
   "id": "348df2a0-c189-420f-a0a0-74f94ebadf9d",
   "metadata": {
    "tags": []
   },
   "outputs": [
    {
     "data": {
      "text/html": [
       "<div>\n",
       "<style scoped>\n",
       "    .dataframe tbody tr th:only-of-type {\n",
       "        vertical-align: middle;\n",
       "    }\n",
       "\n",
       "    .dataframe tbody tr th {\n",
       "        vertical-align: top;\n",
       "    }\n",
       "\n",
       "    .dataframe thead th {\n",
       "        text-align: right;\n",
       "    }\n",
       "</style>\n",
       "<table border=\"1\" class=\"dataframe\">\n",
       "  <thead>\n",
       "    <tr style=\"text-align: right;\">\n",
       "      <th></th>\n",
       "      <th>color</th>\n",
       "      <th>fruit</th>\n",
       "    </tr>\n",
       "  </thead>\n",
       "  <tbody>\n",
       "    <tr>\n",
       "      <th>0</th>\n",
       "      <td>red</td>\n",
       "      <td>apple</td>\n",
       "    </tr>\n",
       "    <tr>\n",
       "      <th>1</th>\n",
       "      <td>orange</td>\n",
       "      <td>orange</td>\n",
       "    </tr>\n",
       "    <tr>\n",
       "      <th>2</th>\n",
       "      <td>yellow</td>\n",
       "      <td>banana</td>\n",
       "    </tr>\n",
       "    <tr>\n",
       "      <th>3</th>\n",
       "      <td>pink</td>\n",
       "      <td>raspberry</td>\n",
       "    </tr>\n",
       "  </tbody>\n",
       "</table>\n",
       "</div>"
      ],
      "text/plain": [
       "    color      fruit\n",
       "0     red      apple\n",
       "1  orange     orange\n",
       "2  yellow     banana\n",
       "3    pink  raspberry"
      ]
     },
     "execution_count": 5,
     "metadata": {},
     "output_type": "execute_result"
    }
   ],
   "source": [
    "fruit_info2 = pd.DataFrame(\n",
    "    [(\"red\", \"apple\"), (\"orange\", \"orange\"), (\"yellow\", \"banana\"),\n",
    "     (\"pink\", \"raspberry\")], \n",
    "    columns = [\"color\", \"fruit\"])\n",
    "fruit_info2"
   ]
  },
  {
   "cell_type": "markdown",
   "id": "1dfc0eba-4539-4fc1-aef5-b330f45bd6dd",
   "metadata": {},
   "source": [
    "You can obtain the dimensions of a dataframe by using the shape attribute `dataframe.shape`."
   ]
  },
  {
   "cell_type": "code",
   "execution_count": 6,
   "id": "8e020f27-d523-4e30-bb84-1754908e28fb",
   "metadata": {
    "tags": []
   },
   "outputs": [
    {
     "data": {
      "text/plain": [
       "(4, 2)"
      ]
     },
     "execution_count": 6,
     "metadata": {},
     "output_type": "execute_result"
    }
   ],
   "source": [
    "fruit_info.shape"
   ]
  },
  {
   "cell_type": "markdown",
   "id": "f85f8bcd-e1c3-4786-8bae-334c7a673188",
   "metadata": {},
   "source": [
    "You can also convert the entire dataframe into a two-dimensional numpy array."
   ]
  },
  {
   "cell_type": "code",
   "execution_count": 7,
   "id": "5fc7f8da-99af-4dfe-87a6-ec2f29e03a8b",
   "metadata": {
    "tags": []
   },
   "outputs": [
    {
     "data": {
      "text/plain": [
       "array([['apple', 'red'],\n",
       "       ['orange', 'orange'],\n",
       "       ['banana', 'yellow'],\n",
       "       ['raspberry', 'pink']], dtype=object)"
      ]
     },
     "execution_count": 7,
     "metadata": {},
     "output_type": "execute_result"
    }
   ],
   "source": [
    "fruit_info.values"
   ]
  },
  {
   "cell_type": "raw",
   "id": "3d7f75ce-0eec-4b88-afe8-e6101a020994",
   "metadata": {},
   "source": [
    "# BEGIN QUESTION\n",
    "name: q1"
   ]
  },
  {
   "cell_type": "markdown",
   "id": "9a3ad103-b408-49e8-9772-3da9ab154a5a",
   "metadata": {},
   "source": [
    "**Question 1.** For a `DataFrame` called `df`, you can add a column with \n",
    "\n",
    "`df['new column name'] = ...` \n",
    "\n",
    "and assign a list or array of values to the column. Use the `.Series` method to add a column of integers containing 1, 2, 3, and 4 called `rank1` to the `fruit_info` table which expresses your personal preference about the taste ordering for each fruit (1 is tastiest; 4 is least tasty).\n",
    "\n",
    "**Note:** To earn all the points for this question you **must** use the `.Series` method. "
   ]
  },
  {
   "cell_type": "raw",
   "id": "d3498ed5-f95b-4d18-80d0-77ba0a92ac2e",
   "metadata": {},
   "source": [
    "# BEGIN SOLUTION"
   ]
  },
  {
   "cell_type": "code",
   "execution_count": 8,
   "id": "c6e853c1-7f7e-4f71-8bb7-a8203b7f2552",
   "metadata": {
    "tags": []
   },
   "outputs": [
    {
     "data": {
      "text/html": [
       "<div>\n",
       "<style scoped>\n",
       "    .dataframe tbody tr th:only-of-type {\n",
       "        vertical-align: middle;\n",
       "    }\n",
       "\n",
       "    .dataframe tbody tr th {\n",
       "        vertical-align: top;\n",
       "    }\n",
       "\n",
       "    .dataframe thead th {\n",
       "        text-align: right;\n",
       "    }\n",
       "</style>\n",
       "<table border=\"1\" class=\"dataframe\">\n",
       "  <thead>\n",
       "    <tr style=\"text-align: right;\">\n",
       "      <th></th>\n",
       "      <th>fruit</th>\n",
       "      <th>color</th>\n",
       "      <th>rank1</th>\n",
       "    </tr>\n",
       "  </thead>\n",
       "  <tbody>\n",
       "    <tr>\n",
       "      <th>0</th>\n",
       "      <td>apple</td>\n",
       "      <td>red</td>\n",
       "      <td>2</td>\n",
       "    </tr>\n",
       "    <tr>\n",
       "      <th>1</th>\n",
       "      <td>orange</td>\n",
       "      <td>orange</td>\n",
       "      <td>3</td>\n",
       "    </tr>\n",
       "    <tr>\n",
       "      <th>2</th>\n",
       "      <td>banana</td>\n",
       "      <td>yellow</td>\n",
       "      <td>4</td>\n",
       "    </tr>\n",
       "    <tr>\n",
       "      <th>3</th>\n",
       "      <td>raspberry</td>\n",
       "      <td>pink</td>\n",
       "      <td>1</td>\n",
       "    </tr>\n",
       "  </tbody>\n",
       "</table>\n",
       "</div>"
      ],
      "text/plain": [
       "       fruit   color  rank1\n",
       "0      apple     red      2\n",
       "1     orange  orange      3\n",
       "2     banana  yellow      4\n",
       "3  raspberry    pink      1"
      ]
     },
     "execution_count": 8,
     "metadata": {},
     "output_type": "execute_result"
    }
   ],
   "source": [
    "fruit_info['rank1'] = pd.Series([2, 3, 4, 1]) # SOLUTION\n",
    "fruit_info"
   ]
  },
  {
   "cell_type": "raw",
   "id": "0af41eaf-29dc-449b-af82-e218a82e6164",
   "metadata": {},
   "source": [
    "# END SOLUTION"
   ]
  },
  {
   "cell_type": "raw",
   "id": "6e11880b-747d-4686-9a2f-175bb7bee6aa",
   "metadata": {},
   "source": [
    "# BEGIN TESTS"
   ]
  },
  {
   "cell_type": "code",
   "execution_count": 9,
   "id": "9b0f557e-77b2-4d40-9094-18e11d5a8173",
   "metadata": {
    "tags": []
   },
   "outputs": [
    {
     "data": {
      "text/plain": [
       "(4, 3)"
      ]
     },
     "execution_count": 9,
     "metadata": {},
     "output_type": "execute_result"
    }
   ],
   "source": [
    "fruit_info.shape"
   ]
  },
  {
   "cell_type": "code",
   "execution_count": 10,
   "id": "7ae6c26f-c5f1-47b6-a17e-cd7e72caac60",
   "metadata": {
    "tags": []
   },
   "outputs": [
    {
     "data": {
      "text/plain": [
       "True"
      ]
     },
     "execution_count": 10,
     "metadata": {},
     "output_type": "execute_result"
    }
   ],
   "source": [
    "'rank1' in fruit_info.columns"
   ]
  },
  {
   "cell_type": "code",
   "execution_count": 11,
   "id": "76d1d558-e92f-4ffc-aa9b-ac2125b24fb8",
   "metadata": {
    "tags": []
   },
   "outputs": [
    {
     "data": {
      "text/plain": [
       "True"
      ]
     },
     "execution_count": 11,
     "metadata": {},
     "output_type": "execute_result"
    }
   ],
   "source": [
    "1 in fruit_info['rank1']"
   ]
  },
  {
   "cell_type": "code",
   "execution_count": 12,
   "id": "f16ed3d6-702d-4c49-b864-43fde105ed73",
   "metadata": {
    "tags": []
   },
   "outputs": [
    {
     "data": {
      "text/plain": [
       "True"
      ]
     },
     "execution_count": 12,
     "metadata": {},
     "output_type": "execute_result"
    }
   ],
   "source": [
    "2 in fruit_info['rank1']"
   ]
  },
  {
   "cell_type": "code",
   "execution_count": 13,
   "id": "0187943e-2e5d-4c06-8c05-0647391208e7",
   "metadata": {
    "tags": []
   },
   "outputs": [
    {
     "data": {
      "text/plain": [
       "True"
      ]
     },
     "execution_count": 13,
     "metadata": {},
     "output_type": "execute_result"
    }
   ],
   "source": [
    "3 in fruit_info['rank1']"
   ]
  },
  {
   "cell_type": "code",
   "execution_count": 14,
   "id": "fb45a167-6757-4940-8c95-bbdfc8b5ae13",
   "metadata": {
    "tags": []
   },
   "outputs": [
    {
     "data": {
      "text/plain": [
       "10"
      ]
     },
     "execution_count": 14,
     "metadata": {},
     "output_type": "execute_result"
    }
   ],
   "source": [
    "np.sum(fruit_info['rank1'])"
   ]
  },
  {
   "cell_type": "raw",
   "id": "d72ea101-1720-4fb7-b400-5cf51c5b62de",
   "metadata": {},
   "source": [
    "# END TESTS"
   ]
  },
  {
   "cell_type": "raw",
   "id": "ce3884e9-709d-4c02-b596-e3ed41487fdb",
   "metadata": {},
   "source": [
    "# END QUESTION"
   ]
  },
  {
   "cell_type": "raw",
   "id": "ccb427a7-e53b-4afd-b26e-39ae34ec0fdf",
   "metadata": {},
   "source": [
    "# BEGIN QUESTION\n",
    "name: q2"
   ]
  },
  {
   "cell_type": "markdown",
   "id": "ac6084ff-0ad8-4b8a-8ee2-1c36c84fe40b",
   "metadata": {},
   "source": [
    "**Question 2.** You can also add a column to `df` with \n",
    "\n",
    "`df.loc[:, 'new column name'] = ...`. \n",
    "\n",
    "As discussed in class, the first parameter is for the rows and second is for columns. The `:` means change all rows and the `new column name` indicates the column you are modifying (or in this case, adding). \n",
    "\n",
    "Make a copy of the `fruit_info` dataframe named `fruit_info_copy` using the `.copy` method. Then add a column called `rank2` to the `fruit_info_copy` table which contains the same values in the same order as the `rank1` column.\n",
    "\n",
    "**Note:** To earn all the points for this question you **must** use the `.copy` method and `.loc`."
   ]
  },
  {
   "cell_type": "raw",
   "id": "84049fc0-8f73-4b99-be0c-9220b7c4218d",
   "metadata": {},
   "source": [
    "# BEGIN SOLUTION"
   ]
  },
  {
   "cell_type": "code",
   "execution_count": 15,
   "id": "c0a1b299-fb58-4ac5-bd23-f24740ab369e",
   "metadata": {
    "tags": []
   },
   "outputs": [
    {
     "data": {
      "text/html": [
       "<div>\n",
       "<style scoped>\n",
       "    .dataframe tbody tr th:only-of-type {\n",
       "        vertical-align: middle;\n",
       "    }\n",
       "\n",
       "    .dataframe tbody tr th {\n",
       "        vertical-align: top;\n",
       "    }\n",
       "\n",
       "    .dataframe thead th {\n",
       "        text-align: right;\n",
       "    }\n",
       "</style>\n",
       "<table border=\"1\" class=\"dataframe\">\n",
       "  <thead>\n",
       "    <tr style=\"text-align: right;\">\n",
       "      <th></th>\n",
       "      <th>fruit</th>\n",
       "      <th>color</th>\n",
       "      <th>rank1</th>\n",
       "      <th>rank2</th>\n",
       "    </tr>\n",
       "  </thead>\n",
       "  <tbody>\n",
       "    <tr>\n",
       "      <th>0</th>\n",
       "      <td>apple</td>\n",
       "      <td>red</td>\n",
       "      <td>2</td>\n",
       "      <td>2</td>\n",
       "    </tr>\n",
       "    <tr>\n",
       "      <th>1</th>\n",
       "      <td>orange</td>\n",
       "      <td>orange</td>\n",
       "      <td>3</td>\n",
       "      <td>3</td>\n",
       "    </tr>\n",
       "    <tr>\n",
       "      <th>2</th>\n",
       "      <td>banana</td>\n",
       "      <td>yellow</td>\n",
       "      <td>4</td>\n",
       "      <td>4</td>\n",
       "    </tr>\n",
       "    <tr>\n",
       "      <th>3</th>\n",
       "      <td>raspberry</td>\n",
       "      <td>pink</td>\n",
       "      <td>1</td>\n",
       "      <td>1</td>\n",
       "    </tr>\n",
       "  </tbody>\n",
       "</table>\n",
       "</div>"
      ],
      "text/plain": [
       "       fruit   color  rank1  rank2\n",
       "0      apple     red      2      2\n",
       "1     orange  orange      3      3\n",
       "2     banana  yellow      4      4\n",
       "3  raspberry    pink      1      1"
      ]
     },
     "execution_count": 15,
     "metadata": {},
     "output_type": "execute_result"
    }
   ],
   "source": [
    "fruit_info_copy = fruit_info.copy() # SOLUTION\n",
    "fruit_info_copy.loc[:, 'rank2'] = pd.Series([2, 3, 4, 1])  # SOLUTION\n",
    "fruit_info_copy"
   ]
  },
  {
   "cell_type": "raw",
   "id": "74a4206d-bf21-4b95-a00e-880a2646b11c",
   "metadata": {},
   "source": [
    "# END SOLUTION"
   ]
  },
  {
   "cell_type": "raw",
   "id": "43097328-7314-45d1-9c64-83bf77807024",
   "metadata": {},
   "source": [
    "# BEGIN TESTS"
   ]
  },
  {
   "cell_type": "code",
   "execution_count": 16,
   "id": "05151332-4435-40d6-a4f4-90e75ea47478",
   "metadata": {
    "tags": []
   },
   "outputs": [
    {
     "data": {
      "text/plain": [
       "True"
      ]
     },
     "execution_count": 16,
     "metadata": {},
     "output_type": "execute_result"
    }
   ],
   "source": [
    "isinstance(fruit_info_copy, pd.core.frame.DataFrame)"
   ]
  },
  {
   "cell_type": "code",
   "execution_count": 17,
   "id": "43590f0a-1f8a-4f62-8aa7-95eae7f76e2b",
   "metadata": {
    "tags": []
   },
   "outputs": [
    {
     "data": {
      "text/plain": [
       "(4, 4)"
      ]
     },
     "execution_count": 17,
     "metadata": {},
     "output_type": "execute_result"
    }
   ],
   "source": [
    "fruit_info_copy.shape"
   ]
  },
  {
   "cell_type": "code",
   "execution_count": 18,
   "id": "8ea31248-03ae-461d-bb8d-3d542ddc4003",
   "metadata": {
    "tags": []
   },
   "outputs": [
    {
     "data": {
      "text/plain": [
       "True"
      ]
     },
     "execution_count": 18,
     "metadata": {},
     "output_type": "execute_result"
    }
   ],
   "source": [
    "'rank2' in fruit_info_copy.columns"
   ]
  },
  {
   "cell_type": "code",
   "execution_count": 19,
   "id": "0f6ec201-3485-42ef-ad47-81dc70ccf4d9",
   "metadata": {
    "tags": []
   },
   "outputs": [
    {
     "data": {
      "text/plain": [
       "True"
      ]
     },
     "execution_count": 19,
     "metadata": {},
     "output_type": "execute_result"
    }
   ],
   "source": [
    "1 in fruit_info_copy['rank2']"
   ]
  },
  {
   "cell_type": "code",
   "execution_count": 20,
   "id": "05e96b69-b993-49a1-9121-842707fc6add",
   "metadata": {
    "tags": []
   },
   "outputs": [
    {
     "data": {
      "text/plain": [
       "True"
      ]
     },
     "execution_count": 20,
     "metadata": {},
     "output_type": "execute_result"
    }
   ],
   "source": [
    "2 in fruit_info_copy['rank2']"
   ]
  },
  {
   "cell_type": "code",
   "execution_count": 21,
   "id": "abd6e48d-bac6-4047-a996-35a11b54e6ba",
   "metadata": {
    "tags": []
   },
   "outputs": [
    {
     "data": {
      "text/plain": [
       "True"
      ]
     },
     "execution_count": 21,
     "metadata": {},
     "output_type": "execute_result"
    }
   ],
   "source": [
    "3 in fruit_info_copy['rank2']"
   ]
  },
  {
   "cell_type": "code",
   "execution_count": 22,
   "id": "764b7580-b6e1-4e43-b1c9-d238a67de933",
   "metadata": {
    "tags": []
   },
   "outputs": [
    {
     "data": {
      "text/plain": [
       "10"
      ]
     },
     "execution_count": 22,
     "metadata": {},
     "output_type": "execute_result"
    }
   ],
   "source": [
    "np.sum(fruit_info_copy['rank2'])"
   ]
  },
  {
   "cell_type": "raw",
   "id": "68a60e2f-4808-4707-8f79-d29200895cc7",
   "metadata": {},
   "source": [
    "# END TESTS"
   ]
  },
  {
   "cell_type": "raw",
   "id": "e1edb9a5-c40a-401b-a02c-db0a3f464333",
   "metadata": {},
   "source": [
    "# END QUESTION"
   ]
  },
  {
   "cell_type": "raw",
   "id": "82fe4a81-199a-43f1-b9c3-b8377fb5e321",
   "metadata": {},
   "source": [
    "# BEGIN QUESTION\n",
    "name: q3"
   ]
  },
  {
   "cell_type": "markdown",
   "id": "713aeb44-3431-4735-aaac-2c17f90be7f5",
   "metadata": {},
   "source": [
    "**Question 3.** Use the `.drop` method to [drop](https://pandas.pydata.org/pandas-docs/stable/generated/pandas.DataFrame.drop.html) both the `rank1` and `rank2` columns you created in `fruit_info_copy` (make sure to use the `axis` parameter correctly). Save the output to an object named `fruit_info_original`.\n",
    "\n",
    "**Note:** `.drop` does not change a table, but instead returns a new table with fewer columns or rows unless you set the optional `inplace` parameter.\n",
    "\n",
    "**Hint:** Look through the [documentation](https://pandas.pydata.org/docs/reference/api/pandas.DataFrame.drop.html) to see how you can drop multiple columns of a Pandas dataframe at once using a list of column names."
   ]
  },
  {
   "cell_type": "raw",
   "id": "6b8e8248-36de-4714-95cc-d7f558d176a2",
   "metadata": {},
   "source": [
    "# BEGIN SOLUTION"
   ]
  },
  {
   "cell_type": "code",
   "execution_count": 23,
   "id": "c39ff0a1-af2c-4637-8b7b-b0e852076229",
   "metadata": {
    "tags": []
   },
   "outputs": [
    {
     "data": {
      "text/html": [
       "<div>\n",
       "<style scoped>\n",
       "    .dataframe tbody tr th:only-of-type {\n",
       "        vertical-align: middle;\n",
       "    }\n",
       "\n",
       "    .dataframe tbody tr th {\n",
       "        vertical-align: top;\n",
       "    }\n",
       "\n",
       "    .dataframe thead th {\n",
       "        text-align: right;\n",
       "    }\n",
       "</style>\n",
       "<table border=\"1\" class=\"dataframe\">\n",
       "  <thead>\n",
       "    <tr style=\"text-align: right;\">\n",
       "      <th></th>\n",
       "      <th>fruit</th>\n",
       "      <th>color</th>\n",
       "    </tr>\n",
       "  </thead>\n",
       "  <tbody>\n",
       "    <tr>\n",
       "      <th>0</th>\n",
       "      <td>apple</td>\n",
       "      <td>red</td>\n",
       "    </tr>\n",
       "    <tr>\n",
       "      <th>1</th>\n",
       "      <td>orange</td>\n",
       "      <td>orange</td>\n",
       "    </tr>\n",
       "    <tr>\n",
       "      <th>2</th>\n",
       "      <td>banana</td>\n",
       "      <td>yellow</td>\n",
       "    </tr>\n",
       "    <tr>\n",
       "      <th>3</th>\n",
       "      <td>raspberry</td>\n",
       "      <td>pink</td>\n",
       "    </tr>\n",
       "  </tbody>\n",
       "</table>\n",
       "</div>"
      ],
      "text/plain": [
       "       fruit   color\n",
       "0      apple     red\n",
       "1     orange  orange\n",
       "2     banana  yellow\n",
       "3  raspberry    pink"
      ]
     },
     "execution_count": 23,
     "metadata": {},
     "output_type": "execute_result"
    }
   ],
   "source": [
    "fruit_info_original = fruit_info_copy.drop('rank1', axis=1).drop('rank2', axis=1) # SOLUTION\n",
    "fruit_info_original"
   ]
  },
  {
   "cell_type": "raw",
   "id": "587cc8a9-1716-4c4f-9ae2-128ea3ae580e",
   "metadata": {},
   "source": [
    "# END SOLUTION"
   ]
  },
  {
   "cell_type": "raw",
   "id": "c795fd7f-9672-4333-8d3d-b6556c7ad736",
   "metadata": {},
   "source": [
    "# BEGIN TESTS"
   ]
  },
  {
   "cell_type": "code",
   "execution_count": 24,
   "id": "cbe41656-ebbb-4286-aeaa-5510917cf4b2",
   "metadata": {
    "tags": []
   },
   "outputs": [
    {
     "data": {
      "text/plain": [
       "True"
      ]
     },
     "execution_count": 24,
     "metadata": {},
     "output_type": "execute_result"
    }
   ],
   "source": [
    "isinstance(fruit_info_original, pd.core.frame.DataFrame)"
   ]
  },
  {
   "cell_type": "code",
   "execution_count": 25,
   "id": "8e38be1e-4b25-477b-a38d-144d96df4368",
   "metadata": {
    "tags": []
   },
   "outputs": [
    {
     "data": {
      "text/plain": [
       "(4, 2)"
      ]
     },
     "execution_count": 25,
     "metadata": {},
     "output_type": "execute_result"
    }
   ],
   "source": [
    "fruit_info_original.shape"
   ]
  },
  {
   "cell_type": "code",
   "execution_count": 26,
   "id": "e46da785-4d0a-494f-94ba-4bdffae080b0",
   "metadata": {
    "tags": []
   },
   "outputs": [
    {
     "data": {
      "text/plain": [
       "True"
      ]
     },
     "execution_count": 26,
     "metadata": {},
     "output_type": "execute_result"
    }
   ],
   "source": [
    "'rank1' not in fruit_info_original.columns"
   ]
  },
  {
   "cell_type": "code",
   "execution_count": 27,
   "id": "235262df-40d8-4f2c-93c5-d68dcba5c1e0",
   "metadata": {
    "tags": []
   },
   "outputs": [
    {
     "data": {
      "text/plain": [
       "True"
      ]
     },
     "execution_count": 27,
     "metadata": {},
     "output_type": "execute_result"
    }
   ],
   "source": [
    "'rank2' not in fruit_info_original.columns"
   ]
  },
  {
   "cell_type": "raw",
   "id": "bc6b15f2-7a41-4fcc-842f-24da28ea6c0a",
   "metadata": {},
   "source": [
    "# END TESTS"
   ]
  },
  {
   "cell_type": "raw",
   "id": "760f7638-682b-46f0-9f75-4163f1910be7",
   "metadata": {},
   "source": [
    "# END QUESTION"
   ]
  },
  {
   "cell_type": "raw",
   "id": "664c047b-b9c3-4c22-b20b-1b6a8678f392",
   "metadata": {},
   "source": [
    "# BEGIN QUESTION\n",
    "name: q4"
   ]
  },
  {
   "cell_type": "markdown",
   "id": "f01b5537-4cd7-4000-9a87-105043cee1a1",
   "metadata": {},
   "source": [
    "**Question 4.** Use the `.rename()` method to [rename](https://pandas.pydata.org/pandas-docs/stable/generated/pandas.DataFrame.rename.html) the columns of `fruit_info_copy` so they begin with capital letters. Set this new dataframe to `fruit_info_caps`."
   ]
  },
  {
   "cell_type": "raw",
   "id": "1a9f04ac-0d58-4a3b-9894-26089a929452",
   "metadata": {},
   "source": [
    "# BEGIN SOLUTION"
   ]
  },
  {
   "cell_type": "code",
   "execution_count": 28,
   "id": "abf47df4-f4f7-4cda-b47d-e4ff1c049056",
   "metadata": {
    "tags": []
   },
   "outputs": [
    {
     "data": {
      "text/html": [
       "<div>\n",
       "<style scoped>\n",
       "    .dataframe tbody tr th:only-of-type {\n",
       "        vertical-align: middle;\n",
       "    }\n",
       "\n",
       "    .dataframe tbody tr th {\n",
       "        vertical-align: top;\n",
       "    }\n",
       "\n",
       "    .dataframe thead th {\n",
       "        text-align: right;\n",
       "    }\n",
       "</style>\n",
       "<table border=\"1\" class=\"dataframe\">\n",
       "  <thead>\n",
       "    <tr style=\"text-align: right;\">\n",
       "      <th></th>\n",
       "      <th>Fruit</th>\n",
       "      <th>Color</th>\n",
       "      <th>Rank1</th>\n",
       "      <th>Rank2</th>\n",
       "    </tr>\n",
       "  </thead>\n",
       "  <tbody>\n",
       "    <tr>\n",
       "      <th>0</th>\n",
       "      <td>apple</td>\n",
       "      <td>red</td>\n",
       "      <td>2</td>\n",
       "      <td>2</td>\n",
       "    </tr>\n",
       "    <tr>\n",
       "      <th>1</th>\n",
       "      <td>orange</td>\n",
       "      <td>orange</td>\n",
       "      <td>3</td>\n",
       "      <td>3</td>\n",
       "    </tr>\n",
       "    <tr>\n",
       "      <th>2</th>\n",
       "      <td>banana</td>\n",
       "      <td>yellow</td>\n",
       "      <td>4</td>\n",
       "      <td>4</td>\n",
       "    </tr>\n",
       "    <tr>\n",
       "      <th>3</th>\n",
       "      <td>raspberry</td>\n",
       "      <td>pink</td>\n",
       "      <td>1</td>\n",
       "      <td>1</td>\n",
       "    </tr>\n",
       "  </tbody>\n",
       "</table>\n",
       "</div>"
      ],
      "text/plain": [
       "       Fruit   Color  Rank1  Rank2\n",
       "0      apple     red      2      2\n",
       "1     orange  orange      3      3\n",
       "2     banana  yellow      4      4\n",
       "3  raspberry    pink      1      1"
      ]
     },
     "execution_count": 28,
     "metadata": {},
     "output_type": "execute_result"
    }
   ],
   "source": [
    "fruit_info_caps = fruit_info_copy.rename(columns={'fruit': 'Fruit', 'color': 'Color', 'rank1': 'Rank1', 'rank2': 'Rank2'}) # SOLUTION\n",
    "fruit_info_caps"
   ]
  },
  {
   "cell_type": "raw",
   "id": "b830607b-527d-4af6-9886-f522de680015",
   "metadata": {},
   "source": [
    "# END SOLUTION"
   ]
  },
  {
   "cell_type": "raw",
   "id": "af2dab9c-1df1-4a0e-97ed-1a87d31141c9",
   "metadata": {},
   "source": [
    "# BEGIN TESTS"
   ]
  },
  {
   "cell_type": "code",
   "execution_count": 29,
   "id": "7831af04-351e-4a65-8f29-6ea91961fc39",
   "metadata": {
    "tags": []
   },
   "outputs": [
    {
     "data": {
      "text/plain": [
       "True"
      ]
     },
     "execution_count": 29,
     "metadata": {},
     "output_type": "execute_result"
    }
   ],
   "source": [
    "isinstance(fruit_info_caps, pd.core.frame.DataFrame)"
   ]
  },
  {
   "cell_type": "code",
   "execution_count": 30,
   "id": "0b433b2c-4883-4d4f-a043-a0d53b13ca56",
   "metadata": {
    "tags": []
   },
   "outputs": [
    {
     "data": {
      "text/plain": [
       "(4, 4)"
      ]
     },
     "execution_count": 30,
     "metadata": {},
     "output_type": "execute_result"
    }
   ],
   "source": [
    "fruit_info_caps.shape"
   ]
  },
  {
   "cell_type": "code",
   "execution_count": 31,
   "id": "5394b221-beb2-4883-87e2-96fd9542ab20",
   "metadata": {
    "tags": []
   },
   "outputs": [
    {
     "data": {
      "text/plain": [
       "True"
      ]
     },
     "execution_count": 31,
     "metadata": {},
     "output_type": "execute_result"
    }
   ],
   "source": [
    "'Rank1' in fruit_info_caps.columns"
   ]
  },
  {
   "cell_type": "code",
   "execution_count": 32,
   "id": "2ef4b872-4897-4db9-8e05-8d4da0a8be4b",
   "metadata": {
    "tags": []
   },
   "outputs": [
    {
     "data": {
      "text/plain": [
       "True"
      ]
     },
     "execution_count": 32,
     "metadata": {},
     "output_type": "execute_result"
    }
   ],
   "source": [
    "'Rank2' in fruit_info_caps.columns"
   ]
  },
  {
   "cell_type": "raw",
   "id": "46dd6298-dafa-453e-a481-8985520f372b",
   "metadata": {},
   "source": [
    "# END TESTS"
   ]
  },
  {
   "cell_type": "raw",
   "id": "b752b273-385f-442c-92c8-558d408ac362",
   "metadata": {},
   "source": [
    "# END QUESTION"
   ]
  },
  {
   "cell_type": "markdown",
   "id": "4c67665c-b03b-45b6-b930-ecc033937302",
   "metadata": {},
   "source": [
    "## Babynames\n",
    "\n",
    "Now that we have learned the basics, let's move on to the `babynames` dataset. The `babynames` dataset contains a record of the given names of babies born in the United States each year.\n",
    "\n",
    "First let's run the following cell to load the dataframe `babynames`."
   ]
  },
  {
   "cell_type": "code",
   "execution_count": 33,
   "id": "9480fe90-ddde-4423-a254-82eb9d27bf86",
   "metadata": {
    "tags": []
   },
   "outputs": [
    {
     "data": {
      "text/html": [
       "<div>\n",
       "<style scoped>\n",
       "    .dataframe tbody tr th:only-of-type {\n",
       "        vertical-align: middle;\n",
       "    }\n",
       "\n",
       "    .dataframe tbody tr th {\n",
       "        vertical-align: top;\n",
       "    }\n",
       "\n",
       "    .dataframe thead th {\n",
       "        text-align: right;\n",
       "    }\n",
       "</style>\n",
       "<table border=\"1\" class=\"dataframe\">\n",
       "  <thead>\n",
       "    <tr style=\"text-align: right;\">\n",
       "      <th></th>\n",
       "      <th>State</th>\n",
       "      <th>Sex</th>\n",
       "      <th>Year</th>\n",
       "      <th>Name</th>\n",
       "      <th>Count</th>\n",
       "    </tr>\n",
       "  </thead>\n",
       "  <tbody>\n",
       "    <tr>\n",
       "      <th>0</th>\n",
       "      <td>GA</td>\n",
       "      <td>F</td>\n",
       "      <td>1910</td>\n",
       "      <td>Mary</td>\n",
       "      <td>841</td>\n",
       "    </tr>\n",
       "    <tr>\n",
       "      <th>1</th>\n",
       "      <td>GA</td>\n",
       "      <td>F</td>\n",
       "      <td>1910</td>\n",
       "      <td>Annie</td>\n",
       "      <td>553</td>\n",
       "    </tr>\n",
       "    <tr>\n",
       "      <th>2</th>\n",
       "      <td>GA</td>\n",
       "      <td>F</td>\n",
       "      <td>1910</td>\n",
       "      <td>Mattie</td>\n",
       "      <td>320</td>\n",
       "    </tr>\n",
       "    <tr>\n",
       "      <th>3</th>\n",
       "      <td>GA</td>\n",
       "      <td>F</td>\n",
       "      <td>1910</td>\n",
       "      <td>Ruby</td>\n",
       "      <td>279</td>\n",
       "    </tr>\n",
       "    <tr>\n",
       "      <th>4</th>\n",
       "      <td>GA</td>\n",
       "      <td>F</td>\n",
       "      <td>1910</td>\n",
       "      <td>Willie</td>\n",
       "      <td>275</td>\n",
       "    </tr>\n",
       "    <tr>\n",
       "      <th>...</th>\n",
       "      <td>...</td>\n",
       "      <td>...</td>\n",
       "      <td>...</td>\n",
       "      <td>...</td>\n",
       "      <td>...</td>\n",
       "    </tr>\n",
       "    <tr>\n",
       "      <th>890622</th>\n",
       "      <td>VA</td>\n",
       "      <td>M</td>\n",
       "      <td>2019</td>\n",
       "      <td>Yerik</td>\n",
       "      <td>5</td>\n",
       "    </tr>\n",
       "    <tr>\n",
       "      <th>890623</th>\n",
       "      <td>VA</td>\n",
       "      <td>M</td>\n",
       "      <td>2019</td>\n",
       "      <td>Yosef</td>\n",
       "      <td>5</td>\n",
       "    </tr>\n",
       "    <tr>\n",
       "      <th>890624</th>\n",
       "      <td>VA</td>\n",
       "      <td>M</td>\n",
       "      <td>2019</td>\n",
       "      <td>Zakari</td>\n",
       "      <td>5</td>\n",
       "    </tr>\n",
       "    <tr>\n",
       "      <th>890625</th>\n",
       "      <td>VA</td>\n",
       "      <td>M</td>\n",
       "      <td>2019</td>\n",
       "      <td>Zakariya</td>\n",
       "      <td>5</td>\n",
       "    </tr>\n",
       "    <tr>\n",
       "      <th>890626</th>\n",
       "      <td>VA</td>\n",
       "      <td>M</td>\n",
       "      <td>2019</td>\n",
       "      <td>Zuri</td>\n",
       "      <td>5</td>\n",
       "    </tr>\n",
       "  </tbody>\n",
       "</table>\n",
       "<p>890627 rows × 5 columns</p>\n",
       "</div>"
      ],
      "text/plain": [
       "       State Sex  Year      Name  Count\n",
       "0         GA   F  1910      Mary    841\n",
       "1         GA   F  1910     Annie    553\n",
       "2         GA   F  1910    Mattie    320\n",
       "3         GA   F  1910      Ruby    279\n",
       "4         GA   F  1910    Willie    275\n",
       "...      ...  ..   ...       ...    ...\n",
       "890622    VA   M  2019     Yerik      5\n",
       "890623    VA   M  2019     Yosef      5\n",
       "890624    VA   M  2019    Zakari      5\n",
       "890625    VA   M  2019  Zakariya      5\n",
       "890626    VA   M  2019      Zuri      5\n",
       "\n",
       "[890627 rows x 5 columns]"
      ]
     },
     "execution_count": 33,
     "metadata": {},
     "output_type": "execute_result"
    }
   ],
   "source": [
    "babynames = pd.read_csv('data/baby_names.csv', index_col = 0)\n",
    "babynames"
   ]
  },
  {
   "cell_type": "raw",
   "id": "eaad0b30-d4e2-435e-ab7d-732141905798",
   "metadata": {},
   "source": [
    "# BEGIN QUESTION\n",
    "name: q5\n",
    "manual: true"
   ]
  },
  {
   "cell_type": "markdown",
   "id": "1fcd85b9-9b25-44cb-8ad6-be10bf49bd94",
   "metadata": {},
   "source": [
    "**Question 5.** Use 3 different `DataFrame` methods to explore the `babynames` dataframe."
   ]
  },
  {
   "cell_type": "raw",
   "id": "c372f652-b16c-42a4-acde-0e8641c75c50",
   "metadata": {},
   "source": [
    "# BEGIN SOLUTION"
   ]
  },
  {
   "cell_type": "code",
   "execution_count": 32,
   "id": "b69a09bd-c82d-40ae-9619-b370d70825b4",
   "metadata": {},
   "outputs": [
    {
     "data": {
      "text/plain": [
       "(890627, 5)"
      ]
     },
     "execution_count": 32,
     "metadata": {},
     "output_type": "execute_result"
    }
   ],
   "source": [
    "babynames.shape # SOLUTION"
   ]
  },
  {
   "cell_type": "code",
   "execution_count": 33,
   "id": "99b91bf1-91d1-46fd-b510-a182a9e2bca0",
   "metadata": {},
   "outputs": [
    {
     "name": "stdout",
     "output_type": "stream",
     "text": [
      "<class 'pandas.core.frame.DataFrame'>\n",
      "Int64Index: 890627 entries, 0 to 890626\n",
      "Data columns (total 5 columns):\n",
      " #   Column  Non-Null Count   Dtype \n",
      "---  ------  --------------   ----- \n",
      " 0   State   890627 non-null  object\n",
      " 1   Sex     890627 non-null  object\n",
      " 2   Year    890627 non-null  int64 \n",
      " 3   Name    890627 non-null  object\n",
      " 4   Count   890627 non-null  int64 \n",
      "dtypes: int64(2), object(3)\n",
      "memory usage: 40.8+ MB\n"
     ]
    }
   ],
   "source": [
    "babynames.info() # SOLUTION"
   ]
  },
  {
   "cell_type": "code",
   "execution_count": 34,
   "id": "e5952d35-82ae-4fb0-a65c-52bb79466e34",
   "metadata": {},
   "outputs": [
    {
     "data": {
      "text/plain": [
       "array(['GA', 'KY', 'NC', 'SC', 'TN', 'VA'], dtype='<U2')"
      ]
     },
     "execution_count": 34,
     "metadata": {},
     "output_type": "execute_result"
    }
   ],
   "source": [
    "np.unique(babynames.State.to_list()) # SOLUTION"
   ]
  },
  {
   "cell_type": "raw",
   "id": "18aaa462-7679-420d-9713-5f52ad500c75",
   "metadata": {},
   "source": [
    "# END SOLUTION"
   ]
  },
  {
   "cell_type": "raw",
   "id": "1a02fdf3-166a-41f2-88f4-c2af445e892f",
   "metadata": {},
   "source": [
    "# END QUESTION"
   ]
  },
  {
   "cell_type": "raw",
   "id": "6546e537-a691-4460-9477-17bf427b0933",
   "metadata": {},
   "source": [
    "# BEGIN QUESTION\n",
    "name: q6\n",
    "manual: true"
   ]
  },
  {
   "cell_type": "markdown",
   "id": "1d51b075-ebe7-4dcd-8005-4a69c0af6c67",
   "metadata": {},
   "source": [
    "**Question 6.** In the markdown cell below, explain the output from each of the commands you ran in the previous question."
   ]
  },
  {
   "cell_type": "raw",
   "id": "c4fd610f-dc88-475c-bd6b-d2b0a58cb99e",
   "metadata": {},
   "source": [
    "# BEGIN SOLUTION"
   ]
  },
  {
   "cell_type": "markdown",
   "id": "07d93017-04c1-42ab-a17b-00978d126677",
   "metadata": {},
   "source": [
    "**SOLUTION:** Answers may vary"
   ]
  },
  {
   "cell_type": "raw",
   "id": "00d59e65-bc55-4b73-b9f1-72a6e7836393",
   "metadata": {},
   "source": [
    "# END SOLUTION"
   ]
  },
  {
   "cell_type": "raw",
   "id": "7aefca24-272b-4458-804b-9eddb52f005c",
   "metadata": {},
   "source": [
    "# END QUESTION"
   ]
  },
  {
   "cell_type": "markdown",
   "id": "995b2c09-b232-4c01-9727-2665faffe6fe",
   "metadata": {},
   "source": [
    "## Selecting Rows and Columns (Slicing)\n",
    "\n",
    "### Selection Using Label/Index (using `.loc`)\n",
    "\n",
    "#### Column Selection \n",
    "\n",
    "To select a column of a `DataFrame` by column label, one way is to use the `.loc` [method](https://pandas.pydata.org/pandas-docs/stable/generated/pandas.DataFrame.loc.html). General usage of `.loc` looks like `df.loc[rowname, colname]` (**reminder** the colon `:` means \"everything.\").  For example, if we want the `color` column of the `friut_info` data frame, we would use: `fruit_info.loc[:, 'color']`\n",
    "\n",
    "- You can also slice across columns. For example, `babynames.loc[:, 'Name':]` would select the column `Name` and all columns after `Name`.\n",
    "\n",
    "- **Alternative:** While `.loc` is invaluable when writing production code, it may be a little too verbose for interactive use. One recommended alternative is the `[ ]` method, which takes on the form `df['colname']`.\n",
    "\n",
    "#### Row Selection\n",
    "\n",
    "Similarly, if we want to select a row by its label, we can use the same `.loc` method. In this case, the \"label\" of each row refers to the index (i.e. primary key) of the dataframe.\n",
    "\n",
    "**Example 1.**"
   ]
  },
  {
   "cell_type": "code",
   "execution_count": 40,
   "id": "615dd352-77c5-40df-b026-6f9b04e67522",
   "metadata": {
    "tags": []
   },
   "outputs": [
    {
     "data": {
      "text/plain": [
       "2    Mattie\n",
       "3      Ruby\n",
       "4    Willie\n",
       "5    Louise\n",
       "Name: Name, dtype: object"
      ]
     },
     "execution_count": 40,
     "metadata": {},
     "output_type": "execute_result"
    }
   ],
   "source": [
    "babynames.loc[2:5, 'Name']"
   ]
  },
  {
   "cell_type": "markdown",
   "id": "480b3d6e-2bc0-46f6-8441-572b2ad0c97f",
   "metadata": {},
   "source": [
    "**Example 2.**  Notice the difference between this method and the method in **Example: 1**.\n",
    "\n",
    "Just passing in `'Name'` returns a Series while `['Name']` returns a `Dataframe`."
   ]
  },
  {
   "cell_type": "code",
   "execution_count": 41,
   "id": "809dd0af-342a-4a72-b80e-3a64da56d53b",
   "metadata": {
    "tags": []
   },
   "outputs": [
    {
     "data": {
      "text/html": [
       "<div>\n",
       "<style scoped>\n",
       "    .dataframe tbody tr th:only-of-type {\n",
       "        vertical-align: middle;\n",
       "    }\n",
       "\n",
       "    .dataframe tbody tr th {\n",
       "        vertical-align: top;\n",
       "    }\n",
       "\n",
       "    .dataframe thead th {\n",
       "        text-align: right;\n",
       "    }\n",
       "</style>\n",
       "<table border=\"1\" class=\"dataframe\">\n",
       "  <thead>\n",
       "    <tr style=\"text-align: right;\">\n",
       "      <th></th>\n",
       "      <th>Name</th>\n",
       "    </tr>\n",
       "  </thead>\n",
       "  <tbody>\n",
       "    <tr>\n",
       "      <th>2</th>\n",
       "      <td>Mattie</td>\n",
       "    </tr>\n",
       "    <tr>\n",
       "      <th>3</th>\n",
       "      <td>Ruby</td>\n",
       "    </tr>\n",
       "    <tr>\n",
       "      <th>4</th>\n",
       "      <td>Willie</td>\n",
       "    </tr>\n",
       "    <tr>\n",
       "      <th>5</th>\n",
       "      <td>Louise</td>\n",
       "    </tr>\n",
       "  </tbody>\n",
       "</table>\n",
       "</div>"
      ],
      "text/plain": [
       "     Name\n",
       "2  Mattie\n",
       "3    Ruby\n",
       "4  Willie\n",
       "5  Louise"
      ]
     },
     "execution_count": 41,
     "metadata": {},
     "output_type": "execute_result"
    }
   ],
   "source": [
    "babynames.loc[2:5, ['Name']]"
   ]
  },
  {
   "cell_type": "raw",
   "id": "1e7a7376-f841-4904-9e92-43096a8899e2",
   "metadata": {},
   "source": [
    "# BEGIN QUESTION\n",
    "name: q7\n",
    "manual: true"
   ]
  },
  {
   "cell_type": "markdown",
   "id": "1c0d0b8f-9c9c-40dc-809c-84fc95859ba1",
   "metadata": {},
   "source": [
    "**Question 7.** Explain what is different between the output from running the commands in **Example 1** and **Example 2**."
   ]
  },
  {
   "cell_type": "raw",
   "id": "b27a5b42-1016-4109-a189-d10938024684",
   "metadata": {},
   "source": [
    "# BEGIN SOLUTION"
   ]
  },
  {
   "cell_type": "markdown",
   "id": "4bf3e08c-b0e5-4cc1-91de-056cd9a22e47",
   "metadata": {},
   "source": [
    "**SOLUTION:** Answers may vary"
   ]
  },
  {
   "cell_type": "raw",
   "id": "af56e493-487b-481c-9079-2ec9de7f3c84",
   "metadata": {},
   "source": [
    "# END SOLUTION"
   ]
  },
  {
   "cell_type": "raw",
   "id": "29cc0547-ac27-4c28-a6fb-fe6b3af630ab",
   "metadata": {},
   "source": [
    "# END QUESTION"
   ]
  },
  {
   "cell_type": "markdown",
   "id": "0cd2cedc-6c9e-47a3-8ed1-1e27d1f823c7",
   "metadata": {},
   "source": [
    "**Note:** `.loc` actually uses the Pandas row index rather than row id/position of rows in the dataframe to perform the selection. Also, notice that if you write `2:5` with `.loc[ ]`, contrary to normal Python slicing functionality, the end index is included, so you get the row with index 5.\n",
    "\n",
    "### Selection using Integer location (using `.iloc`)\n",
    "\n",
    "Another pandas feature is `.iloc[ ]` which lets you slice the dataframe by row position and column position instead of by row index and column label (which is the case for `.loc[ ]`). This is really the main difference between the two functions and it is **important** that you remember the difference and why you might want to use one over the other. In addition, with `.iloc[ ]`, the end index is **not** included, like with normal Python slicing.\n",
    "\n",
    "**Note:** As a mnemonic, remember that the *i* in `.iloc` means \"integer\". \n",
    "\n",
    "Below, we have sorted the `babynames` dataframe. Notice how the **position** of a row is not necessarily equal to the **index** of a row. For example, the first row is not necessarily the row associated with index 1. This distinction is important in understanding the different between `.loc[ ]` and `.iloc[ ]`."
   ]
  },
  {
   "cell_type": "code",
   "execution_count": 42,
   "id": "8d41a2b4-8353-47fc-b5cc-d68ff04a8861",
   "metadata": {
    "tags": []
   },
   "outputs": [
    {
     "data": {
      "text/html": [
       "<div>\n",
       "<style scoped>\n",
       "    .dataframe tbody tr th:only-of-type {\n",
       "        vertical-align: middle;\n",
       "    }\n",
       "\n",
       "    .dataframe tbody tr th {\n",
       "        vertical-align: top;\n",
       "    }\n",
       "\n",
       "    .dataframe thead th {\n",
       "        text-align: right;\n",
       "    }\n",
       "</style>\n",
       "<table border=\"1\" class=\"dataframe\">\n",
       "  <thead>\n",
       "    <tr style=\"text-align: right;\">\n",
       "      <th></th>\n",
       "      <th>State</th>\n",
       "      <th>Sex</th>\n",
       "      <th>Year</th>\n",
       "      <th>Name</th>\n",
       "      <th>Count</th>\n",
       "    </tr>\n",
       "  </thead>\n",
       "  <tbody>\n",
       "    <tr>\n",
       "      <th>594983</th>\n",
       "      <td>SC</td>\n",
       "      <td>M</td>\n",
       "      <td>2014</td>\n",
       "      <td>Aaden</td>\n",
       "      <td>6</td>\n",
       "    </tr>\n",
       "    <tr>\n",
       "      <th>296217</th>\n",
       "      <td>KY</td>\n",
       "      <td>M</td>\n",
       "      <td>2008</td>\n",
       "      <td>Aaden</td>\n",
       "      <td>24</td>\n",
       "    </tr>\n",
       "    <tr>\n",
       "      <th>590207</th>\n",
       "      <td>SC</td>\n",
       "      <td>M</td>\n",
       "      <td>2008</td>\n",
       "      <td>Aaden</td>\n",
       "      <td>15</td>\n",
       "    </tr>\n",
       "    <tr>\n",
       "      <th>297787</th>\n",
       "      <td>KY</td>\n",
       "      <td>M</td>\n",
       "      <td>2010</td>\n",
       "      <td>Aaden</td>\n",
       "      <td>8</td>\n",
       "    </tr>\n",
       "    <tr>\n",
       "      <th>470397</th>\n",
       "      <td>NC</td>\n",
       "      <td>M</td>\n",
       "      <td>2012</td>\n",
       "      <td>Aaden</td>\n",
       "      <td>7</td>\n",
       "    </tr>\n",
       "  </tbody>\n",
       "</table>\n",
       "</div>"
      ],
      "text/plain": [
       "       State Sex  Year   Name  Count\n",
       "594983    SC   M  2014  Aaden      6\n",
       "296217    KY   M  2008  Aaden     24\n",
       "590207    SC   M  2008  Aaden     15\n",
       "297787    KY   M  2010  Aaden      8\n",
       "470397    NC   M  2012  Aaden      7"
      ]
     },
     "execution_count": 42,
     "metadata": {},
     "output_type": "execute_result"
    }
   ],
   "source": [
    "sorted_babynames = babynames.sort_values(by = ['Name'])\n",
    "sorted_babynames.head()"
   ]
  },
  {
   "cell_type": "markdown",
   "id": "e5964287-3057-4388-9f6a-60c00e51fbbd",
   "metadata": {},
   "source": [
    "**Example 3.** Here is an example of how we would get the 2nd, 3rd, and 4th rows with only the `Name` column of the `baby_names` dataframe using both `.iloc[ ]` and `.loc[ ]`. Observe the difference, especially after sorting `babynames` by name."
   ]
  },
  {
   "cell_type": "code",
   "execution_count": 43,
   "id": "0caa959d-ae7c-4d23-b67d-43a700177603",
   "metadata": {
    "tags": []
   },
   "outputs": [
    {
     "data": {
      "text/plain": [
       "296217    Aaden\n",
       "590207    Aaden\n",
       "297787    Aaden\n",
       "Name: Name, dtype: object"
      ]
     },
     "execution_count": 43,
     "metadata": {},
     "output_type": "execute_result"
    }
   ],
   "source": [
    "sorted_babynames.iloc[1:4, 3]"
   ]
  },
  {
   "cell_type": "markdown",
   "id": "9a3816a9-9a29-4a83-af99-baa11abed685",
   "metadata": {},
   "source": [
    "**Example 4.** Notice that using `.loc[ ]` with 1:4 gives different results, since it selects using the **index**."
   ]
  },
  {
   "cell_type": "code",
   "execution_count": 44,
   "id": "4af09a0a-a75d-4209-afdf-8d5290466ef7",
   "metadata": {
    "tags": []
   },
   "outputs": [
    {
     "data": {
      "text/plain": [
       "1          Annie\n",
       "793024     Annie\n",
       "514923     Annie\n",
       "613780     Annie\n",
       "815197     Annie\n",
       "           ...  \n",
       "272670    Willie\n",
       "734369    Willie\n",
       "749611    Willie\n",
       "764536    Willie\n",
       "4         Willie\n",
       "Name: Name, Length: 820497, dtype: object"
      ]
     },
     "execution_count": 44,
     "metadata": {},
     "output_type": "execute_result"
    }
   ],
   "source": [
    "sorted_babynames.loc[1:4, 'Name']"
   ]
  },
  {
   "cell_type": "raw",
   "id": "6c1d75cf-01cc-4b12-8f0e-6f09a7b86f70",
   "metadata": {},
   "source": [
    "# BEGIN QUESTION\n",
    "name: q8\n",
    "manual: true"
   ]
  },
  {
   "cell_type": "markdown",
   "id": "ff3a450b-31c7-4a44-a47c-deb04170c6ab",
   "metadata": {},
   "source": [
    "**Question 8.** Explain what the difference is between the output from running the commands in **Example 3** and **Example 4**."
   ]
  },
  {
   "cell_type": "raw",
   "id": "a737b29a-f274-454c-aa74-037791a8ee61",
   "metadata": {},
   "source": [
    "# BEGIN SOLUTION"
   ]
  },
  {
   "cell_type": "markdown",
   "id": "529d5544-08ca-438d-a75c-4e163e76b5d6",
   "metadata": {},
   "source": [
    "**SOLUTION:** Answers may vary"
   ]
  },
  {
   "cell_type": "raw",
   "id": "073e3ac7-cfdb-496b-be0f-08e02902ec58",
   "metadata": {},
   "source": [
    "# END SOLUTION"
   ]
  },
  {
   "cell_type": "raw",
   "id": "a8b01d1a-ed85-413c-bf58-8e3c2229898a",
   "metadata": {},
   "source": [
    "# END QUESTION"
   ]
  },
  {
   "cell_type": "markdown",
   "id": "eb85d458-d7ec-49fe-b986-fdd053d55998",
   "metadata": {},
   "source": [
    "**Example 5.** Lastly, we can change the index of a dataframe using the `set_index` method. We change the index from $0,1,2,\\ldots$ to the `Name` column."
   ]
  },
  {
   "cell_type": "code",
   "execution_count": 45,
   "id": "50f24d4f-27f8-4a7d-9f2d-529fbcbc56a3",
   "metadata": {
    "tags": []
   },
   "outputs": [
    {
     "data": {
      "text/html": [
       "<div>\n",
       "<style scoped>\n",
       "    .dataframe tbody tr th:only-of-type {\n",
       "        vertical-align: middle;\n",
       "    }\n",
       "\n",
       "    .dataframe tbody tr th {\n",
       "        vertical-align: top;\n",
       "    }\n",
       "\n",
       "    .dataframe thead th {\n",
       "        text-align: right;\n",
       "    }\n",
       "</style>\n",
       "<table border=\"1\" class=\"dataframe\">\n",
       "  <thead>\n",
       "    <tr style=\"text-align: right;\">\n",
       "      <th></th>\n",
       "      <th>State</th>\n",
       "      <th>Sex</th>\n",
       "      <th>Year</th>\n",
       "      <th>Count</th>\n",
       "    </tr>\n",
       "    <tr>\n",
       "      <th>Name</th>\n",
       "      <th></th>\n",
       "      <th></th>\n",
       "      <th></th>\n",
       "      <th></th>\n",
       "    </tr>\n",
       "  </thead>\n",
       "  <tbody>\n",
       "    <tr>\n",
       "      <th>Mary</th>\n",
       "      <td>GA</td>\n",
       "      <td>F</td>\n",
       "      <td>1910</td>\n",
       "      <td>841</td>\n",
       "    </tr>\n",
       "    <tr>\n",
       "      <th>Annie</th>\n",
       "      <td>GA</td>\n",
       "      <td>F</td>\n",
       "      <td>1910</td>\n",
       "      <td>553</td>\n",
       "    </tr>\n",
       "    <tr>\n",
       "      <th>Mattie</th>\n",
       "      <td>GA</td>\n",
       "      <td>F</td>\n",
       "      <td>1910</td>\n",
       "      <td>320</td>\n",
       "    </tr>\n",
       "    <tr>\n",
       "      <th>Ruby</th>\n",
       "      <td>GA</td>\n",
       "      <td>F</td>\n",
       "      <td>1910</td>\n",
       "      <td>279</td>\n",
       "    </tr>\n",
       "    <tr>\n",
       "      <th>Willie</th>\n",
       "      <td>GA</td>\n",
       "      <td>F</td>\n",
       "      <td>1910</td>\n",
       "      <td>275</td>\n",
       "    </tr>\n",
       "  </tbody>\n",
       "</table>\n",
       "</div>"
      ],
      "text/plain": [
       "       State Sex  Year  Count\n",
       "Name                         \n",
       "Mary      GA   F  1910    841\n",
       "Annie     GA   F  1910    553\n",
       "Mattie    GA   F  1910    320\n",
       "Ruby      GA   F  1910    279\n",
       "Willie    GA   F  1910    275"
      ]
     },
     "execution_count": 45,
     "metadata": {},
     "output_type": "execute_result"
    }
   ],
   "source": [
    "idx_babynames = babynames[:5].set_index(\"Name\") \n",
    "idx_babynames"
   ]
  },
  {
   "cell_type": "markdown",
   "id": "2ebfbb1e-1ccb-4519-a380-c6d905770400",
   "metadata": {},
   "source": [
    "**Example 6.** However, if we still want to access rows by location we will need to use the integer location (`.iloc`) accessor.\n",
    "\n",
    "**Note:** We can't do this `idx_babynames.loc[1:4, 'Year']`, but we can use the integer position."
   ]
  },
  {
   "cell_type": "code",
   "execution_count": 41,
   "id": "088edc89-af58-4ca2-98ea-a9e057fe71eb",
   "metadata": {},
   "outputs": [
    {
     "data": {
      "text/html": [
       "<div>\n",
       "<style scoped>\n",
       "    .dataframe tbody tr th:only-of-type {\n",
       "        vertical-align: middle;\n",
       "    }\n",
       "\n",
       "    .dataframe tbody tr th {\n",
       "        vertical-align: top;\n",
       "    }\n",
       "\n",
       "    .dataframe thead th {\n",
       "        text-align: right;\n",
       "    }\n",
       "</style>\n",
       "<table border=\"1\" class=\"dataframe\">\n",
       "  <thead>\n",
       "    <tr style=\"text-align: right;\">\n",
       "      <th></th>\n",
       "      <th>Year</th>\n",
       "    </tr>\n",
       "    <tr>\n",
       "      <th>Name</th>\n",
       "      <th></th>\n",
       "    </tr>\n",
       "  </thead>\n",
       "  <tbody>\n",
       "    <tr>\n",
       "      <th>Annie</th>\n",
       "      <td>1910</td>\n",
       "    </tr>\n",
       "    <tr>\n",
       "      <th>Mattie</th>\n",
       "      <td>1910</td>\n",
       "    </tr>\n",
       "    <tr>\n",
       "      <th>Ruby</th>\n",
       "      <td>1910</td>\n",
       "    </tr>\n",
       "  </tbody>\n",
       "</table>\n",
       "</div>"
      ],
      "text/plain": [
       "        Year\n",
       "Name        \n",
       "Annie   1910\n",
       "Mattie  1910\n",
       "Ruby    1910"
      ]
     },
     "execution_count": 41,
     "metadata": {},
     "output_type": "execute_result"
    }
   ],
   "source": [
    "idx_babynames.iloc[1:4, 2:3]"
   ]
  },
  {
   "cell_type": "raw",
   "id": "bd69c7ea-dea1-4bde-b1aa-6aa0dcbda459",
   "metadata": {},
   "source": [
    "# BEGIN QUESTION\n",
    "name: q9\n",
    "manual: true"
   ]
  },
  {
   "cell_type": "markdown",
   "id": "7409c51c-d9ac-41f2-8101-6c2ed1fc76a9",
   "metadata": {},
   "source": [
    "**Question 9.** List the different names of the states that are in the `babynames` data set. Do this using a pandas `DataFrame` method.\n",
    "\n",
    "**Note:** To earn all the points for the question you must do it programmatically ."
   ]
  },
  {
   "cell_type": "raw",
   "id": "7dfb3a91-4d6a-4829-9d80-663aa08d5ad6",
   "metadata": {},
   "source": [
    "# BEGIN SOLUTION"
   ]
  },
  {
   "cell_type": "code",
   "execution_count": 50,
   "id": "591eb517-74a1-4966-9fd7-007a867cd8d0",
   "metadata": {
    "tags": []
   },
   "outputs": [
    {
     "data": {
      "text/plain": [
       "array(['GA', 'KY', 'NC', 'SC', 'TN', 'VA'], dtype=object)"
      ]
     },
     "execution_count": 50,
     "metadata": {},
     "output_type": "execute_result"
    }
   ],
   "source": [
    "babynames.State.unique() # SOLUTION"
   ]
  },
  {
   "cell_type": "raw",
   "id": "6772bd7c-4e2e-49e5-a4ad-f2a4c96a17d0",
   "metadata": {},
   "source": [
    "# END SOLUTION"
   ]
  },
  {
   "cell_type": "raw",
   "id": "bde4ffbe-f2c2-4e62-ae8f-4f454814ccd6",
   "metadata": {},
   "source": [
    "# END QUESTION"
   ]
  },
  {
   "cell_type": "raw",
   "id": "ad41f6c8-b77e-4a4d-be76-ef11b4d35993",
   "metadata": {},
   "source": [
    "# BEGIN QUESTION\n",
    "name: q10"
   ]
  },
  {
   "cell_type": "markdown",
   "id": "4c747591-d221-4793-a2b8-4c62f884437b",
   "metadata": {},
   "source": [
    "**Question 10.** Selecting multiple columns is easy.  You just need to supply a list of column names.  Use `.loc` to select the `Name` and `Year` **in that order** from the `babynames` table.\n",
    "\n",
    "**Note:** To earn all the points for this question you **must** use the `.loc` method. "
   ]
  },
  {
   "cell_type": "raw",
   "id": "40f203f1-ebc1-4748-a8d7-3e5a71d73cb8",
   "metadata": {},
   "source": [
    "# BEGIN SOLUTION"
   ]
  },
  {
   "cell_type": "code",
   "execution_count": 51,
   "id": "42eeff00-9618-4d86-bd72-93ece62cf692",
   "metadata": {
    "tags": []
   },
   "outputs": [
    {
     "data": {
      "text/html": [
       "<div>\n",
       "<style scoped>\n",
       "    .dataframe tbody tr th:only-of-type {\n",
       "        vertical-align: middle;\n",
       "    }\n",
       "\n",
       "    .dataframe tbody tr th {\n",
       "        vertical-align: top;\n",
       "    }\n",
       "\n",
       "    .dataframe thead th {\n",
       "        text-align: right;\n",
       "    }\n",
       "</style>\n",
       "<table border=\"1\" class=\"dataframe\">\n",
       "  <thead>\n",
       "    <tr style=\"text-align: right;\">\n",
       "      <th></th>\n",
       "      <th>Name</th>\n",
       "      <th>Year</th>\n",
       "    </tr>\n",
       "  </thead>\n",
       "  <tbody>\n",
       "    <tr>\n",
       "      <th>0</th>\n",
       "      <td>Mary</td>\n",
       "      <td>1910</td>\n",
       "    </tr>\n",
       "    <tr>\n",
       "      <th>1</th>\n",
       "      <td>Annie</td>\n",
       "      <td>1910</td>\n",
       "    </tr>\n",
       "    <tr>\n",
       "      <th>2</th>\n",
       "      <td>Mattie</td>\n",
       "      <td>1910</td>\n",
       "    </tr>\n",
       "    <tr>\n",
       "      <th>3</th>\n",
       "      <td>Ruby</td>\n",
       "      <td>1910</td>\n",
       "    </tr>\n",
       "    <tr>\n",
       "      <th>4</th>\n",
       "      <td>Willie</td>\n",
       "      <td>1910</td>\n",
       "    </tr>\n",
       "  </tbody>\n",
       "</table>\n",
       "</div>"
      ],
      "text/plain": [
       "     Name  Year\n",
       "0    Mary  1910\n",
       "1   Annie  1910\n",
       "2  Mattie  1910\n",
       "3    Ruby  1910\n",
       "4  Willie  1910"
      ]
     },
     "execution_count": 51,
     "metadata": {},
     "output_type": "execute_result"
    }
   ],
   "source": [
    "name_and_year = babynames.loc[:, ['Name', 'Year']] # SOLUTION\n",
    "name_and_year[:5]"
   ]
  },
  {
   "cell_type": "raw",
   "id": "791d4744-b2af-4491-af41-b39965ed5e63",
   "metadata": {},
   "source": [
    "# END SOLUTION"
   ]
  },
  {
   "cell_type": "raw",
   "id": "5f2ca1e3-3489-4ff6-af6f-f5c61fe5fde1",
   "metadata": {},
   "source": [
    "# BEGIN TESTS"
   ]
  },
  {
   "cell_type": "code",
   "execution_count": 52,
   "id": "4f08de48-5b80-49a4-96ce-bed6f10e5fb7",
   "metadata": {
    "tags": []
   },
   "outputs": [
    {
     "data": {
      "text/plain": [
       "True"
      ]
     },
     "execution_count": 52,
     "metadata": {},
     "output_type": "execute_result"
    }
   ],
   "source": [
    "isinstance(name_and_year, pd.core.frame.DataFrame)"
   ]
  },
  {
   "cell_type": "code",
   "execution_count": 53,
   "id": "08f95253-4e14-4a41-88f6-e7919d508c8d",
   "metadata": {
    "tags": []
   },
   "outputs": [
    {
     "data": {
      "text/plain": [
       "2"
      ]
     },
     "execution_count": 53,
     "metadata": {},
     "output_type": "execute_result"
    }
   ],
   "source": [
    "name_and_year.shape[1]"
   ]
  },
  {
   "cell_type": "code",
   "execution_count": 54,
   "id": "4186e501-e440-4b6d-a94c-0deb93d387a4",
   "metadata": {
    "tags": []
   },
   "outputs": [
    {
     "data": {
      "text/plain": [
       "Index(['Name', 'Year'], dtype='object')"
      ]
     },
     "execution_count": 54,
     "metadata": {},
     "output_type": "execute_result"
    }
   ],
   "source": [
    "name_and_year.columns"
   ]
  },
  {
   "cell_type": "raw",
   "id": "ad26989e-0b8a-45a7-9294-dafc3f136d00",
   "metadata": {},
   "source": [
    "# END TESTS"
   ]
  },
  {
   "cell_type": "raw",
   "id": "c24acd86-c9c9-4dcf-b0aa-3ba30d3fcd73",
   "metadata": {},
   "source": [
    "# END QUESTION"
   ]
  },
  {
   "cell_type": "markdown",
   "id": "bb96147b-9972-4bc4-bc8c-ea8155c3cb7e",
   "metadata": {},
   "source": [
    "## Filtering Data\n",
    "\n",
    "### Filtering with boolean arrays\n",
    "\n",
    "Filtering is the process of removing unwanted material.  In your quest for cleaner data, you will undoubtedly filter your data at some point: whether it be for clearing up cases with missing values, for culling out fishy outliers, or for analyzing subgroups of your data set.  Note that compound expressions have to be grouped with parentheses. \n",
    "\n",
    "Example usage looks like `df[df['column name'] < 5]]`.\n",
    "\n",
    "For your reference, some commonly used comparison operators are given below.\n",
    "\n",
    "Symbol   | Usage      | Meaning \n",
    "------   | ---------- | -------------------------------------\n",
    "$==$     | a == b     | Does a equal b?\n",
    "$\\lt =$  | a <= b     | Is a less than or equal to b?\n",
    "$\\gt =$  | a >= b     | Is a greater than or equal to b?\n",
    "$\\lt$    | a < b      | Is a less than \n",
    "$\\gt$    | a > b      | Is a greater than b?\n",
    "~        | ~p         | Returns negation of p\n",
    "&#124;   | p &#124; q | p OR q\n",
    "&        | p & q      | p AND q\n",
    "^        | p ^ q      | p XOR q (exclusive or)\n",
    "\n",
    "In the following we construct the DataFrame containing only names registered in North Carolina."
   ]
  },
  {
   "cell_type": "raw",
   "id": "d3c64154-5661-436c-9ab4-51b9ecbcbe63",
   "metadata": {},
   "source": [
    "# BEGIN QUESTION\n",
    "name: q11"
   ]
  },
  {
   "cell_type": "markdown",
   "id": "73603d03-5e7e-4631-96d4-2c5299cb7ad5",
   "metadata": {},
   "source": [
    "**Question 11.** Make a `DataFrame` containing only names registered in North Carolina."
   ]
  },
  {
   "cell_type": "raw",
   "id": "36ec6943-4223-49b9-8507-d324b420e172",
   "metadata": {},
   "source": [
    "# BEGIN SOLUTION"
   ]
  },
  {
   "cell_type": "code",
   "execution_count": 55,
   "id": "4cb8f26f-2e1e-405f-853e-41d401f87f06",
   "metadata": {
    "tags": []
   },
   "outputs": [
    {
     "data": {
      "text/html": [
       "<div>\n",
       "<style scoped>\n",
       "    .dataframe tbody tr th:only-of-type {\n",
       "        vertical-align: middle;\n",
       "    }\n",
       "\n",
       "    .dataframe tbody tr th {\n",
       "        vertical-align: top;\n",
       "    }\n",
       "\n",
       "    .dataframe thead th {\n",
       "        text-align: right;\n",
       "    }\n",
       "</style>\n",
       "<table border=\"1\" class=\"dataframe\">\n",
       "  <thead>\n",
       "    <tr style=\"text-align: right;\">\n",
       "      <th></th>\n",
       "      <th>State</th>\n",
       "      <th>Sex</th>\n",
       "      <th>Year</th>\n",
       "      <th>Name</th>\n",
       "      <th>Count</th>\n",
       "    </tr>\n",
       "  </thead>\n",
       "  <tbody>\n",
       "    <tr>\n",
       "      <th>304336</th>\n",
       "      <td>NC</td>\n",
       "      <td>F</td>\n",
       "      <td>1910</td>\n",
       "      <td>Mary</td>\n",
       "      <td>837</td>\n",
       "    </tr>\n",
       "    <tr>\n",
       "      <th>304337</th>\n",
       "      <td>NC</td>\n",
       "      <td>F</td>\n",
       "      <td>1910</td>\n",
       "      <td>Annie</td>\n",
       "      <td>401</td>\n",
       "    </tr>\n",
       "    <tr>\n",
       "      <th>304338</th>\n",
       "      <td>NC</td>\n",
       "      <td>F</td>\n",
       "      <td>1910</td>\n",
       "      <td>Ruth</td>\n",
       "      <td>235</td>\n",
       "    </tr>\n",
       "    <tr>\n",
       "      <th>304339</th>\n",
       "      <td>NC</td>\n",
       "      <td>F</td>\n",
       "      <td>1910</td>\n",
       "      <td>Ethel</td>\n",
       "      <td>199</td>\n",
       "    </tr>\n",
       "    <tr>\n",
       "      <th>304340</th>\n",
       "      <td>NC</td>\n",
       "      <td>F</td>\n",
       "      <td>1910</td>\n",
       "      <td>Elizabeth</td>\n",
       "      <td>191</td>\n",
       "    </tr>\n",
       "  </tbody>\n",
       "</table>\n",
       "</div>"
      ],
      "text/plain": [
       "       State Sex  Year       Name  Count\n",
       "304336    NC   F  1910       Mary    837\n",
       "304337    NC   F  1910      Annie    401\n",
       "304338    NC   F  1910       Ruth    235\n",
       "304339    NC   F  1910      Ethel    199\n",
       "304340    NC   F  1910  Elizabeth    191"
      ]
     },
     "execution_count": 55,
     "metadata": {},
     "output_type": "execute_result"
    }
   ],
   "source": [
    "nc = babynames[babynames['State'] == 'NC'] # SOLUTION\n",
    "nc.head()"
   ]
  },
  {
   "cell_type": "raw",
   "id": "4a1a5f9a-27a1-4609-83c5-fde26b2fddd8",
   "metadata": {},
   "source": [
    "# END SOLUTION"
   ]
  },
  {
   "cell_type": "raw",
   "id": "4ecfd95e-0626-4030-985a-b8c68e9c243c",
   "metadata": {},
   "source": [
    "# BEGIN TESTS"
   ]
  },
  {
   "cell_type": "code",
   "execution_count": 56,
   "id": "433aafa2-5a6a-40c1-9721-424978f7b2bd",
   "metadata": {
    "tags": []
   },
   "outputs": [
    {
     "data": {
      "text/plain": [
       "True"
      ]
     },
     "execution_count": 56,
     "metadata": {},
     "output_type": "execute_result"
    }
   ],
   "source": [
    "isinstance(nc, pd.core.frame.DataFrame)"
   ]
  },
  {
   "cell_type": "code",
   "execution_count": 57,
   "id": "6d42f515-74e4-42d8-8e29-dd598c5c3244",
   "metadata": {
    "tags": []
   },
   "outputs": [
    {
     "data": {
      "text/plain": [
       "(175577, 5)"
      ]
     },
     "execution_count": 57,
     "metadata": {},
     "output_type": "execute_result"
    }
   ],
   "source": [
    "nc.shape"
   ]
  },
  {
   "cell_type": "code",
   "execution_count": 58,
   "id": "5b14b51c-c7ef-40ad-9867-a19a6344e8ae",
   "metadata": {
    "tags": []
   },
   "outputs": [
    {
     "data": {
      "text/plain": [
       "'NC'"
      ]
     },
     "execution_count": 58,
     "metadata": {},
     "output_type": "execute_result"
    }
   ],
   "source": [
    "nc.State.unique()[0]"
   ]
  },
  {
   "cell_type": "raw",
   "id": "63d759aa-b264-4084-b0b2-7fd795be42bc",
   "metadata": {},
   "source": [
    "# END TESTS"
   ]
  },
  {
   "cell_type": "raw",
   "id": "e3bacc57-6d8c-4475-a930-792a881cedd2",
   "metadata": {},
   "source": [
    "# END QUESTION"
   ]
  },
  {
   "cell_type": "raw",
   "id": "99f92e2c-3473-45b4-bd9d-f0afa8b59252",
   "metadata": {},
   "source": [
    "# BEGIN QUESTION\n",
    "name: q12"
   ]
  },
  {
   "cell_type": "markdown",
   "id": "930dd4f2-b4d9-482d-807e-ae1a2896487b",
   "metadata": {},
   "source": [
    "**Question 12.** Using a boolean array, select the names in Year 2019 from the `nc` dataframe that have at least 500 counts. Keep all columns from the original `nc` dataframe.\n",
    "\n",
    "**Hint:** Any time you use `p & q` to filter the dataframe, make sure to use \n",
    "\n",
    "`df[(df[p]) & (df[q])]` or `df.loc[(df[p]) & (df[q])]`. \n",
    "\n",
    "\n",
    "That is, make sure to wrap conditions with parentheses.\n",
    "\n",
    "**Note:** Both slicing and `.loc` will achieve the same result, it is just that `.loc` is typically faster in production. You are free to use whichever one you would like."
   ]
  },
  {
   "cell_type": "raw",
   "id": "47efb415-9377-4b4a-b429-25fbd271c4b0",
   "metadata": {},
   "source": [
    "# BEGIN SOLUTION"
   ]
  },
  {
   "cell_type": "code",
   "execution_count": 59,
   "id": "c5f0afd0-ed57-41df-b79c-58a966ec66dc",
   "metadata": {
    "tags": []
   },
   "outputs": [
    {
     "data": {
      "text/html": [
       "<div>\n",
       "<style scoped>\n",
       "    .dataframe tbody tr th:only-of-type {\n",
       "        vertical-align: middle;\n",
       "    }\n",
       "\n",
       "    .dataframe tbody tr th {\n",
       "        vertical-align: top;\n",
       "    }\n",
       "\n",
       "    .dataframe thead th {\n",
       "        text-align: right;\n",
       "    }\n",
       "</style>\n",
       "<table border=\"1\" class=\"dataframe\">\n",
       "  <thead>\n",
       "    <tr style=\"text-align: right;\">\n",
       "      <th></th>\n",
       "      <th>State</th>\n",
       "      <th>Sex</th>\n",
       "      <th>Year</th>\n",
       "      <th>Name</th>\n",
       "      <th>Count</th>\n",
       "    </tr>\n",
       "  </thead>\n",
       "  <tbody>\n",
       "    <tr>\n",
       "      <th>398340</th>\n",
       "      <td>NC</td>\n",
       "      <td>F</td>\n",
       "      <td>2019</td>\n",
       "      <td>Ava</td>\n",
       "      <td>595</td>\n",
       "    </tr>\n",
       "    <tr>\n",
       "      <th>398341</th>\n",
       "      <td>NC</td>\n",
       "      <td>F</td>\n",
       "      <td>2019</td>\n",
       "      <td>Olivia</td>\n",
       "      <td>535</td>\n",
       "    </tr>\n",
       "    <tr>\n",
       "      <th>398342</th>\n",
       "      <td>NC</td>\n",
       "      <td>F</td>\n",
       "      <td>2019</td>\n",
       "      <td>Emma</td>\n",
       "      <td>531</td>\n",
       "    </tr>\n",
       "    <tr>\n",
       "      <th>478548</th>\n",
       "      <td>NC</td>\n",
       "      <td>M</td>\n",
       "      <td>2019</td>\n",
       "      <td>Liam</td>\n",
       "      <td>685</td>\n",
       "    </tr>\n",
       "    <tr>\n",
       "      <th>478549</th>\n",
       "      <td>NC</td>\n",
       "      <td>M</td>\n",
       "      <td>2019</td>\n",
       "      <td>Noah</td>\n",
       "      <td>605</td>\n",
       "    </tr>\n",
       "  </tbody>\n",
       "</table>\n",
       "</div>"
      ],
      "text/plain": [
       "       State Sex  Year    Name  Count\n",
       "398340    NC   F  2019     Ava    595\n",
       "398341    NC   F  2019  Olivia    535\n",
       "398342    NC   F  2019    Emma    531\n",
       "478548    NC   M  2019    Liam    685\n",
       "478549    NC   M  2019    Noah    605"
      ]
     },
     "execution_count": 59,
     "metadata": {},
     "output_type": "execute_result"
    }
   ],
   "source": [
    "names_2019 = nc[(nc['Year'] == 2019) & (nc['Count'] >= 500)] # SOLUTION\n",
    "names_2019.head()"
   ]
  },
  {
   "cell_type": "raw",
   "id": "d0fd560b-594c-45e9-a21c-669560aa83b6",
   "metadata": {},
   "source": [
    "# END SOLUTION"
   ]
  },
  {
   "cell_type": "raw",
   "id": "ff56c511-ff9f-4b75-922b-069596fd1b51",
   "metadata": {},
   "source": [
    "# BEGIN TESTS"
   ]
  },
  {
   "cell_type": "code",
   "execution_count": 60,
   "id": "7f2c868d-d3ce-4fdd-8f35-15fa4f37d170",
   "metadata": {
    "tags": []
   },
   "outputs": [
    {
     "data": {
      "text/plain": [
       "True"
      ]
     },
     "execution_count": 60,
     "metadata": {},
     "output_type": "execute_result"
    }
   ],
   "source": [
    "isinstance(names_2019, pd.core.frame.DataFrame)"
   ]
  },
  {
   "cell_type": "code",
   "execution_count": 61,
   "id": "87799333-a013-4d79-abde-d640638a8de6",
   "metadata": {
    "tags": []
   },
   "outputs": [
    {
     "data": {
      "text/plain": [
       "(7, 5)"
      ]
     },
     "execution_count": 61,
     "metadata": {},
     "output_type": "execute_result"
    }
   ],
   "source": [
    "names_2019.shape"
   ]
  },
  {
   "cell_type": "code",
   "execution_count": 62,
   "id": "c383e020-af6b-4144-bcec-ba59277f79e6",
   "metadata": {
    "tags": []
   },
   "outputs": [
    {
     "data": {
      "text/plain": [
       "array(['Ava', 'Emma', 'James', 'Liam', 'Noah', 'Olivia', 'William'],\n",
       "      dtype=object)"
      ]
     },
     "execution_count": 62,
     "metadata": {},
     "output_type": "execute_result"
    }
   ],
   "source": [
    "np.sort(names_2019['Name'].unique())"
   ]
  },
  {
   "cell_type": "code",
   "execution_count": 63,
   "id": "f4d1e377-88d1-47d7-90fa-c40ac1f57eb3",
   "metadata": {
    "tags": []
   },
   "outputs": [
    {
     "data": {
      "text/plain": [
       "4050"
      ]
     },
     "execution_count": 63,
     "metadata": {},
     "output_type": "execute_result"
    }
   ],
   "source": [
    "np.sum(names_2019.loc[:,'Count'])"
   ]
  },
  {
   "cell_type": "raw",
   "id": "8657bee2-cd7d-4139-a861-6ba08f94e7b0",
   "metadata": {},
   "source": [
    "# END TESTS"
   ]
  },
  {
   "cell_type": "raw",
   "id": "aa4fa9a3-78ce-4eda-abf2-887f61146bb0",
   "metadata": {},
   "source": [
    "# END QUESTION"
   ]
  },
  {
   "cell_type": "markdown",
   "id": "2cefa52f-476e-49c3-ad4f-4d8f9e85fa0b",
   "metadata": {},
   "source": [
    "### Counting Labels\n",
    "\n"
   ]
  },
  {
   "cell_type": "raw",
   "id": "26b60abc-a9bb-4a8f-94c7-bef33126d3dd",
   "metadata": {},
   "source": [
    "# BEGIN QUESTION\n",
    "name: q13"
   ]
  },
  {
   "cell_type": "markdown",
   "id": "d84bc7b6-b63f-4951-b1d6-fa4b851a91b0",
   "metadata": {},
   "source": [
    "**Question 13.** Use the `.value_counts()` `Series` method to count the number of male and female babies in North Carolina.\n",
    "\n",
    "**Hint:** Use the `nc` dataframe."
   ]
  },
  {
   "cell_type": "raw",
   "id": "18cf5dd6-5079-4961-bf91-3a8c4111a89f",
   "metadata": {},
   "source": [
    "# BEGIN SOLUTION"
   ]
  },
  {
   "cell_type": "code",
   "execution_count": 64,
   "id": "b21ab6ab-8d07-43d4-ae4b-224453b60323",
   "metadata": {
    "tags": []
   },
   "outputs": [
    {
     "data": {
      "text/plain": [
       "F    95653\n",
       "M    79924\n",
       "Name: Sex, dtype: int64"
      ]
     },
     "execution_count": 64,
     "metadata": {},
     "output_type": "execute_result"
    }
   ],
   "source": [
    "num_of_names_m_f = nc['Sex'].value_counts() # SOLUTION\n",
    "num_of_names_m_f"
   ]
  },
  {
   "cell_type": "raw",
   "id": "4d09782f-7fc8-4fd8-a606-a2b268934b42",
   "metadata": {},
   "source": [
    "# END SOLUTION"
   ]
  },
  {
   "cell_type": "raw",
   "id": "50f2af78-9168-45a3-8f70-fe811d7858cd",
   "metadata": {},
   "source": [
    "# BEGIN TESTS"
   ]
  },
  {
   "cell_type": "code",
   "execution_count": 65,
   "id": "1073e120-77a5-457c-ab65-0a435dae1e00",
   "metadata": {
    "tags": []
   },
   "outputs": [
    {
     "data": {
      "text/plain": [
       "True"
      ]
     },
     "execution_count": 65,
     "metadata": {},
     "output_type": "execute_result"
    }
   ],
   "source": [
    "isinstance(num_of_names_m_f, pd.core.frame.Series)"
   ]
  },
  {
   "cell_type": "code",
   "execution_count": 66,
   "id": "8580eed7-f1b3-4076-b546-d3a44e39aab4",
   "metadata": {
    "tags": []
   },
   "outputs": [
    {
     "data": {
      "text/plain": [
       "(2,)"
      ]
     },
     "execution_count": 66,
     "metadata": {},
     "output_type": "execute_result"
    }
   ],
   "source": [
    "num_of_names_m_f.shape"
   ]
  },
  {
   "cell_type": "code",
   "execution_count": 67,
   "id": "780f41d9-9922-44db-a01e-95e9b4523e2d",
   "metadata": {
    "tags": []
   },
   "outputs": [
    {
     "data": {
      "text/plain": [
       "95653"
      ]
     },
     "execution_count": 67,
     "metadata": {},
     "output_type": "execute_result"
    }
   ],
   "source": [
    "num_of_names_m_f[0]"
   ]
  },
  {
   "cell_type": "code",
   "execution_count": 68,
   "id": "d9c34ac7-5395-49a8-bddb-3f85b36b21e3",
   "metadata": {
    "tags": []
   },
   "outputs": [
    {
     "data": {
      "text/plain": [
       "79924"
      ]
     },
     "execution_count": 68,
     "metadata": {},
     "output_type": "execute_result"
    }
   ],
   "source": [
    "num_of_names_m_f[1]"
   ]
  },
  {
   "cell_type": "raw",
   "id": "8a11cf13-e00f-4c26-a407-823d184811c3",
   "metadata": {},
   "source": [
    "# END TESTS"
   ]
  },
  {
   "cell_type": "raw",
   "id": "f26abc57-5028-49de-85ec-66eb5d03cf43",
   "metadata": {},
   "source": [
    "# END QUESTION"
   ]
  },
  {
   "cell_type": "markdown",
   "id": "07e3c250-e91b-4fb1-be13-824308d1b6bf",
   "metadata": {},
   "source": [
    "### Using `.groupby`\n",
    "\n",
    "The `.groupby()` method is used to split the data into groups based on the different labels in a column. Pandas objects can be split on any of their axes. The abstract definition of grouping is to provide a mapping of labels to group.\n",
    "\n",
    "For example, we can group the `nc` dataframe on `Name`, count the number of occurrences of the name for each year and display the results in descending order.\n",
    "\n",
    "Run the cell below."
   ]
  },
  {
   "cell_type": "code",
   "execution_count": 69,
   "id": "5fd16921-00b3-4806-a97a-0c0492dfb02a",
   "metadata": {
    "tags": []
   },
   "outputs": [
    {
     "data": {
      "text/plain": [
       "Name\n",
       "James      210596\n",
       "William    159417\n",
       "Mary       134170\n",
       "John       124723\n",
       "Robert     116095\n",
       "            ...  \n",
       "Avan            5\n",
       "Avarie          5\n",
       "Avary           5\n",
       "Jonthan         5\n",
       "Autum           5\n",
       "Name: Count, Length: 9128, dtype: int64"
      ]
     },
     "execution_count": 69,
     "metadata": {},
     "output_type": "execute_result"
    }
   ],
   "source": [
    "nc.groupby('Name')['Count'].agg(sum).sort_values(ascending=False)"
   ]
  },
  {
   "cell_type": "markdown",
   "id": "82061256-5fa4-402a-ab5f-69b203d4908f",
   "metadata": {},
   "source": [
    "If we wanted the dataframe that only contained observations for the name James we could use the `.get_group()` method on the `groupby` object.\n",
    "\n",
    "Run the cell below."
   ]
  },
  {
   "cell_type": "code",
   "execution_count": 62,
   "id": "bfb94c73-548c-484f-984a-d724de831aef",
   "metadata": {},
   "outputs": [
    {
     "data": {
      "text/html": [
       "<div>\n",
       "<style scoped>\n",
       "    .dataframe tbody tr th:only-of-type {\n",
       "        vertical-align: middle;\n",
       "    }\n",
       "\n",
       "    .dataframe tbody tr th {\n",
       "        vertical-align: top;\n",
       "    }\n",
       "\n",
       "    .dataframe thead th {\n",
       "        text-align: right;\n",
       "    }\n",
       "</style>\n",
       "<table border=\"1\" class=\"dataframe\">\n",
       "  <thead>\n",
       "    <tr style=\"text-align: right;\">\n",
       "      <th></th>\n",
       "      <th>State</th>\n",
       "      <th>Sex</th>\n",
       "      <th>Year</th>\n",
       "      <th>Name</th>\n",
       "      <th>Count</th>\n",
       "    </tr>\n",
       "  </thead>\n",
       "  <tbody>\n",
       "    <tr>\n",
       "      <th>304965</th>\n",
       "      <td>NC</td>\n",
       "      <td>F</td>\n",
       "      <td>1911</td>\n",
       "      <td>James</td>\n",
       "      <td>6</td>\n",
       "    </tr>\n",
       "    <tr>\n",
       "      <th>305302</th>\n",
       "      <td>NC</td>\n",
       "      <td>F</td>\n",
       "      <td>1912</td>\n",
       "      <td>James</td>\n",
       "      <td>8</td>\n",
       "    </tr>\n",
       "    <tr>\n",
       "      <th>305794</th>\n",
       "      <td>NC</td>\n",
       "      <td>F</td>\n",
       "      <td>1913</td>\n",
       "      <td>James</td>\n",
       "      <td>6</td>\n",
       "    </tr>\n",
       "    <tr>\n",
       "      <th>306160</th>\n",
       "      <td>NC</td>\n",
       "      <td>F</td>\n",
       "      <td>1914</td>\n",
       "      <td>James</td>\n",
       "      <td>10</td>\n",
       "    </tr>\n",
       "    <tr>\n",
       "      <th>306665</th>\n",
       "      <td>NC</td>\n",
       "      <td>F</td>\n",
       "      <td>1915</td>\n",
       "      <td>James</td>\n",
       "      <td>11</td>\n",
       "    </tr>\n",
       "    <tr>\n",
       "      <th>...</th>\n",
       "      <td>...</td>\n",
       "      <td>...</td>\n",
       "      <td>...</td>\n",
       "      <td>...</td>\n",
       "      <td>...</td>\n",
       "    </tr>\n",
       "    <tr>\n",
       "      <th>473311</th>\n",
       "      <td>NC</td>\n",
       "      <td>M</td>\n",
       "      <td>2015</td>\n",
       "      <td>James</td>\n",
       "      <td>537</td>\n",
       "    </tr>\n",
       "    <tr>\n",
       "      <th>474616</th>\n",
       "      <td>NC</td>\n",
       "      <td>M</td>\n",
       "      <td>2016</td>\n",
       "      <td>James</td>\n",
       "      <td>479</td>\n",
       "    </tr>\n",
       "    <tr>\n",
       "      <th>475913</th>\n",
       "      <td>NC</td>\n",
       "      <td>M</td>\n",
       "      <td>2017</td>\n",
       "      <td>James</td>\n",
       "      <td>541</td>\n",
       "    </tr>\n",
       "    <tr>\n",
       "      <th>477226</th>\n",
       "      <td>NC</td>\n",
       "      <td>M</td>\n",
       "      <td>2018</td>\n",
       "      <td>James</td>\n",
       "      <td>524</td>\n",
       "    </tr>\n",
       "    <tr>\n",
       "      <th>478551</th>\n",
       "      <td>NC</td>\n",
       "      <td>M</td>\n",
       "      <td>2019</td>\n",
       "      <td>James</td>\n",
       "      <td>514</td>\n",
       "    </tr>\n",
       "  </tbody>\n",
       "</table>\n",
       "<p>188 rows × 5 columns</p>\n",
       "</div>"
      ],
      "text/plain": [
       "       State Sex  Year   Name  Count\n",
       "304965    NC   F  1911  James      6\n",
       "305302    NC   F  1912  James      8\n",
       "305794    NC   F  1913  James      6\n",
       "306160    NC   F  1914  James     10\n",
       "306665    NC   F  1915  James     11\n",
       "...      ...  ..   ...    ...    ...\n",
       "473311    NC   M  2015  James    537\n",
       "474616    NC   M  2016  James    479\n",
       "475913    NC   M  2017  James    541\n",
       "477226    NC   M  2018  James    524\n",
       "478551    NC   M  2019  James    514\n",
       "\n",
       "[188 rows x 5 columns]"
      ]
     },
     "execution_count": 62,
     "metadata": {},
     "output_type": "execute_result"
    }
   ],
   "source": [
    "grps = nc.groupby('Name')\n",
    "grps.get_group('James')"
   ]
  },
  {
   "cell_type": "markdown",
   "id": "7e8c6d61-7fae-43d0-9f07-ddebcf457698",
   "metadata": {},
   "source": [
    "If we wanted to see all the different group labels we can use the `.group.keys()` method on the `groupby` object `grps`. Since the object is a dictionary (and its long) we will cast it into a list and only show the first 10 items.\n",
    "\n",
    "Run the cell below."
   ]
  },
  {
   "cell_type": "code",
   "execution_count": 63,
   "id": "37265024-1e97-4690-a22a-ffba8cbf9093",
   "metadata": {},
   "outputs": [
    {
     "data": {
      "text/plain": [
       "['Aaden',\n",
       " 'Aadhya',\n",
       " 'Aadya',\n",
       " 'Aahana',\n",
       " 'Aaiden',\n",
       " 'Aalayah',\n",
       " 'Aaleyah',\n",
       " 'Aaliyah',\n",
       " 'Aalyiah',\n",
       " 'Aamir']"
      ]
     },
     "execution_count": 63,
     "metadata": {},
     "output_type": "execute_result"
    }
   ],
   "source": [
    "list(grps.groups.keys())[:10]"
   ]
  },
  {
   "cell_type": "raw",
   "id": "38bf033e-2765-4186-b984-862aaba9f47b",
   "metadata": {},
   "source": [
    "# BEGIN QUESTION\n",
    "name: q14\n",
    "manual: true"
   ]
  },
  {
   "cell_type": "markdown",
   "id": "455f5a4d-2f76-41ee-a1c0-5de496c481ed",
   "metadata": {},
   "source": [
    "**Question 14.** Use `groupby` to count the number of instances of each unique  name for each Year in North Carolina. \n",
    "\n",
    "**Note:** We are **not** computing the number of babies but instead the number of unique names for each year. Your output should look like the following:\n",
    "\n",
    "   \n",
    "```\n",
    "Year Count\n",
    "---- -----\n",
    "1910 563\n",
    "1911 572\n",
    "1912 739\n",
    "1913 774\n",
    "1914 913\n",
    "1915 1056\n",
    "1916 1062\n",
    "1917 1071\n",
    "1918 1141\n",
    "1919 1166\n",
    "1920 1199\n",
    "1921 1210\n",
    "1922 1215\n",
    "1923 1161\n",
    "1924 1225\n",
    "1925 1183\n",
    "1926 1129\n",
    "1927 1172\n",
    "1928 1130\n",
    "1929 1135\n",
    "1930 1096\n",
    "1931 1078\n",
    "1932 1095\n",
    "1933 1064\n",
    "1934 1098\n",
    "1935 1086\n",
    "1936 1056\n",
    "1937 1063\n",
    "1938 1101\n",
    "1939 1077\n",
    "1940 1066\n",
    "1941 1079\n",
    "1942 1140\n",
    "1943 1139\n",
    "1944 1127\n",
    "1945 1095\n",
    "1946 1174\n",
    "1947 1254\n",
    "1948 1229\n",
    "1949 1203\n",
    "1950 1194\n",
    "1951 1240\n",
    "1952 1230\n",
    "1953 1279\n",
    "1954 1244\n",
    "1955 1295\n",
    "1956 1316\n",
    "1957 1302\n",
    "1958 1287\n",
    "1959 1284\n",
    "1960 1291\n",
    "1961 1324\n",
    "1962 1314\n",
    "1963 1315\n",
    "1964 1341\n",
    "1965 1257\n",
    "1966 1233\n",
    "1967 1242\n",
    "1968 1270\n",
    "1969 1262\n",
    "1970 1322\n",
    "1971 1347\n",
    "1972 1317\n",
    "1973 1310\n",
    "1974 1320\n",
    "1975 1300\n",
    "1976 1304\n",
    "1977 1368\n",
    "1978 1375\n",
    "1979 1363\n",
    "1980 1399\n",
    "1981 1358\n",
    "1982 1381\n",
    "1983 1355\n",
    "1984 1355\n",
    "1985 1420\n",
    "1986 1464\n",
    "1987 1480\n",
    "1988 1544\n",
    "1989 1646\n",
    "1990 1710\n",
    "1991 1740\n",
    "1992 1796\n",
    "1993 1759\n",
    "1994 1766\n",
    "1995 1828\n",
    "1996 1884\n",
    "1997 1985\n",
    "1998 2091\n",
    "1999 2140\n",
    "2000 2251\n",
    "2001 2318\n",
    "2002 2327\n",
    "2003 2345\n",
    "2004 2407\n",
    "2005 2517\n",
    "2006 2616\n",
    "2007 2764\n",
    "2008 2783\n",
    "2009 2821\n",
    "2010 2763\n",
    "2011 2728\n",
    "2012 2704\n",
    "2013 2712\n",
    "2014 2737\n",
    "2015 2745\n",
    "2016 2755\n",
    "2017 2783\n",
    "2018 2803\n",
    "2019 2849\n",
    "```"
   ]
  },
  {
   "cell_type": "raw",
   "id": "8b2bbafc-3df6-42d0-8c64-f274d0c10672",
   "metadata": {},
   "source": [
    "# BEGIN SOLUTION"
   ]
  },
  {
   "cell_type": "code",
   "execution_count": 64,
   "id": "1127153f-4e47-47ad-a83c-9124e0753554",
   "metadata": {},
   "outputs": [
    {
     "name": "stdout",
     "output_type": "stream",
     "text": [
      "1910 563\n",
      "1911 572\n",
      "1912 739\n",
      "1913 774\n",
      "1914 913\n",
      "1915 1056\n",
      "1916 1062\n",
      "1917 1071\n",
      "1918 1141\n",
      "1919 1166\n",
      "1920 1199\n",
      "1921 1210\n",
      "1922 1215\n",
      "1923 1161\n",
      "1924 1225\n",
      "1925 1183\n",
      "1926 1129\n",
      "1927 1172\n",
      "1928 1130\n",
      "1929 1135\n",
      "1930 1096\n",
      "1931 1078\n",
      "1932 1095\n",
      "1933 1064\n",
      "1934 1098\n",
      "1935 1086\n",
      "1936 1056\n",
      "1937 1063\n",
      "1938 1101\n",
      "1939 1077\n",
      "1940 1066\n",
      "1941 1079\n",
      "1942 1140\n",
      "1943 1139\n",
      "1944 1127\n",
      "1945 1095\n",
      "1946 1174\n",
      "1947 1254\n",
      "1948 1229\n",
      "1949 1203\n",
      "1950 1194\n",
      "1951 1240\n",
      "1952 1230\n",
      "1953 1279\n",
      "1954 1244\n",
      "1955 1295\n",
      "1956 1316\n",
      "1957 1302\n",
      "1958 1287\n",
      "1959 1284\n",
      "1960 1291\n",
      "1961 1324\n",
      "1962 1314\n",
      "1963 1315\n",
      "1964 1341\n",
      "1965 1257\n",
      "1966 1233\n",
      "1967 1242\n",
      "1968 1270\n",
      "1969 1262\n",
      "1970 1322\n",
      "1971 1347\n",
      "1972 1317\n",
      "1973 1310\n",
      "1974 1320\n",
      "1975 1300\n",
      "1976 1304\n",
      "1977 1368\n",
      "1978 1375\n",
      "1979 1363\n",
      "1980 1399\n",
      "1981 1358\n",
      "1982 1381\n",
      "1983 1355\n",
      "1984 1355\n",
      "1985 1420\n",
      "1986 1464\n",
      "1987 1480\n",
      "1988 1544\n",
      "1989 1646\n",
      "1990 1710\n",
      "1991 1740\n",
      "1992 1796\n",
      "1993 1759\n",
      "1994 1766\n",
      "1995 1828\n",
      "1996 1884\n",
      "1997 1985\n",
      "1998 2091\n",
      "1999 2140\n",
      "2000 2251\n",
      "2001 2318\n",
      "2002 2327\n",
      "2003 2345\n",
      "2004 2407\n",
      "2005 2517\n",
      "2006 2616\n",
      "2007 2764\n",
      "2008 2783\n",
      "2009 2821\n",
      "2010 2763\n",
      "2011 2728\n",
      "2012 2704\n",
      "2013 2712\n",
      "2014 2737\n",
      "2015 2745\n",
      "2016 2755\n",
      "2017 2783\n",
      "2018 2803\n",
      "2019 2849\n"
     ]
    }
   ],
   "source": [
    "# BEGIN SOLUTION NO PROMPT\n",
    "for i in nc.groupby('Year').groups.keys():\n",
    "    print(i, len(np.unique(nc.groupby('Year').get_group(i)['Name'].to_list())))\n",
    "# END SOLUTION\n",
    "\"\"\" # BEGIN PROMPT\n",
    "...\n",
    "\"\"\"; # END PROMPT"
   ]
  },
  {
   "cell_type": "raw",
   "id": "d6c2f3ae-ac84-4bca-9138-e4e97fb6ce89",
   "metadata": {},
   "source": [
    "# END SOLUTION"
   ]
  },
  {
   "cell_type": "raw",
   "id": "06b77253-5eb9-483f-944f-965baea12e45",
   "metadata": {},
   "source": [
    "# END QUESTION"
   ]
  }
 ],
 "metadata": {
  "kernelspec": {
   "display_name": "Python 3 (ipykernel)",
   "language": "python",
   "name": "python3"
  },
  "language_info": {
   "codemirror_mode": {
    "name": "ipython",
    "version": 3
   },
   "file_extension": ".py",
   "mimetype": "text/x-python",
   "name": "python",
   "nbconvert_exporter": "python",
   "pygments_lexer": "ipython3",
   "version": "3.10.11"
  }
 },
 "nbformat": 4,
 "nbformat_minor": 5
}
