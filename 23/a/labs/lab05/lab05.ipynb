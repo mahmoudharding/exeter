{
 "cells": [
  {
   "cell_type": "code",
   "execution_count": null,
   "id": "02b0844b",
   "metadata": {
    "deletable": false,
    "editable": false
   },
   "outputs": [],
   "source": [
    "# Initialize Otter\n",
    "import otter\n",
    "grader = otter.Notebook(\"lab05.ipynb\")"
   ]
  },
  {
   "cell_type": "markdown",
   "id": "ea2e548a",
   "metadata": {},
   "source": [
    "# Lab 05: Pandas Continued\n",
    "\n",
    "Welcome to Advanced Topics in Data Science for High School! Throughout the course you will complete assignments like this one. You can't learn technical subjects without hands-on practice, so these assignments are an important part of the course.\n",
    "\n",
    "**Collaboration Policy:**\n",
    "\n",
    "Collaborating on labs is more than okay -- it's encouraged! You should rarely remain stuck for more than a few minutes on questions in labs, so ask a neighbor or an instructor for help. Explaining things is beneficial, too -- the best way to solidify your knowledge of a subject is to explain it. You should **not** _just_ copy/paste someone else's code, but rather work together to gain understanding of the task you need to complete. \n",
    "\n",
    "**Due Date:**\n",
    "\n",
    "## Today's Assignment \n",
    "\n",
    "In this lab we will continue discussion of [Pandas](https://pandas.pydata.org/). In today's assignment, you'll learn about:\n",
    "\n",
    "* visualizing data \n",
    "\n",
    "* grouping dataframes\n",
    "\n",
    "* merging dataframes\n",
    "\n",
    "First, set up the imports by running the cell below."
   ]
  },
  {
   "cell_type": "code",
   "execution_count": null,
   "id": "655ce6d4",
   "metadata": {
    "tags": []
   },
   "outputs": [],
   "source": [
    "import pandas as pd\n",
    "import numpy as np\n",
    "\n",
    "%matplotlib inline\n",
    "import matplotlib.pyplot as plt"
   ]
  },
  {
   "cell_type": "markdown",
   "id": "23752b64",
   "metadata": {},
   "source": [
    "## Babynames\n",
    "\n",
    "In Lab 04 we learned how to filter and slice `pandas` dataframes. In today's lab we'll continue working with dataframes. Let's load `babynames` dataset."
   ]
  },
  {
   "cell_type": "code",
   "execution_count": null,
   "id": "b424662e",
   "metadata": {
    "tags": []
   },
   "outputs": [],
   "source": [
    "baby = pd.read_csv('data/baby_names.csv')\n",
    "baby.head()"
   ]
  },
  {
   "cell_type": "markdown",
   "id": "a6b9290a",
   "metadata": {},
   "source": [
    "**Question 1.** You should see a column named **Unnamed: 0**. Drop this column from the `baby` dataframe. \n",
    "\n",
    "**Hint:** The documentation for the `.drop` command is [here](https://pandas.pydata.org/docs/reference/api/pandas.DataFrame.drop.html)."
   ]
  },
  {
   "cell_type": "code",
   "execution_count": null,
   "id": "c2357a1c",
   "metadata": {
    "tags": []
   },
   "outputs": [],
   "source": [
    "baby = ...\n",
    "baby"
   ]
  },
  {
   "cell_type": "code",
   "execution_count": null,
   "id": "8cfdc7d2",
   "metadata": {
    "deletable": false,
    "editable": false
   },
   "outputs": [],
   "source": [
    "grader.check(\"q1\")"
   ]
  },
  {
   "cell_type": "markdown",
   "id": "bc57eebe",
   "metadata": {},
   "source": [
    "## Name Popularity\n",
    "\n",
    "Some names gain/lose popularity because of cultural phenomena such as a political figure coming to power or a successful athlete or entertainer in the during the prime years of his/her career. \n",
    "\n",
    "Let's look at an example."
   ]
  },
  {
   "cell_type": "markdown",
   "id": "453ebd03",
   "metadata": {},
   "source": [
    "**Question 2.** Subset the `baby` dataframe to include only the observations with the name is *Kanye*."
   ]
  },
  {
   "cell_type": "code",
   "execution_count": null,
   "id": "c0a3c910",
   "metadata": {
    "tags": []
   },
   "outputs": [],
   "source": [
    "kanye = ...\n",
    "kanye.head()"
   ]
  },
  {
   "cell_type": "code",
   "execution_count": null,
   "id": "60e3bc9c",
   "metadata": {
    "deletable": false,
    "editable": false
   },
   "outputs": [],
   "source": [
    "grader.check(\"q2\")"
   ]
  },
  {
   "cell_type": "markdown",
   "id": "3982df4a",
   "metadata": {},
   "source": [
    "We want to get an idea of how the popularity of this name has changed over time. To do this we need the number of babies born that were named *Kanye* for each year."
   ]
  },
  {
   "cell_type": "markdown",
   "id": "fd0b5ae7",
   "metadata": {},
   "source": [
    "**Question 3.** Create a dataframe with two columns, **Year** and **Count**. In the **Year** column we'll have the year and in the **Count** column we'll have the number of babies born in that year that were named *Kanye*.\n",
    "\n",
    "For example, your data frame should look like this\n",
    "\n",
    "|     | Year | Count |\n",
    "| --- | ---- | -----:|\n",
    "|**0**| 2003 | 5     |\n",
    "|**1**| 2004 | 124   |\n",
    "|**2**| 2005 | 42    |\n",
    "|**3**| 2006 | 18    |\n",
    "|**4**| 2014 | 5     |"
   ]
  },
  {
   "cell_type": "code",
   "execution_count": null,
   "id": "116c1c7a",
   "metadata": {
    "tags": []
   },
   "outputs": [],
   "source": [
    "kanye_count = ...\n",
    "kanye_count"
   ]
  },
  {
   "cell_type": "code",
   "execution_count": null,
   "id": "5a524425",
   "metadata": {
    "deletable": false,
    "editable": false
   },
   "outputs": [],
   "source": [
    "grader.check(\"q3\")"
   ]
  },
  {
   "cell_type": "markdown",
   "id": "6b4a5a06",
   "metadata": {},
   "source": [
    "<!-- BEGIN QUESTION -->\n",
    "\n",
    "**Question 4.** Create a line plot to visualize how the popularity of the name *Kayne* has changed over time. Be sure to give your plot a title and label your axes."
   ]
  },
  {
   "cell_type": "code",
   "execution_count": null,
   "id": "f2cf4d21",
   "metadata": {
    "tags": []
   },
   "outputs": [],
   "source": [
    "..."
   ]
  },
  {
   "cell_type": "markdown",
   "id": "a7cf5a4a",
   "metadata": {},
   "source": [
    "<!-- END QUESTION -->\n",
    "\n",
    "<!-- BEGIN QUESTION -->\n",
    "\n",
    "**Question 5.** What do you notice about this plot? What might be the cause of increases or decreases in the popularity of the name *Kanye*?\n",
    "\n",
    "**Note:** Be sure to mention any information you may have gotten from other sources (make sure you cite your sources)."
   ]
  },
  {
   "cell_type": "markdown",
   "id": "1870e6d6",
   "metadata": {},
   "source": [
    "_Type your answer here, replacing this text._"
   ]
  },
  {
   "cell_type": "markdown",
   "id": "1e22b513",
   "metadata": {},
   "source": [
    "<!-- END QUESTION -->\n",
    "\n",
    "Another cultural phenomena that happened was the \"Karen\" meme. Read the BBC article [What exactly is a \"Karen\" and where did the meme come from?](https://www.bbc.com/news/world-53588201). Then we'll use the `babynames` data set to investigate the change in popularity of the name *Karen*. "
   ]
  },
  {
   "cell_type": "markdown",
   "id": "d05b6f64",
   "metadata": {},
   "source": [
    "<!-- BEGIN QUESTION -->\n",
    "\n",
    "**Question 6.** Create a line plot to visualize how the popularity of the name *Karen* has changed over time. Be sure to give your plot a title and label your axes. "
   ]
  },
  {
   "cell_type": "code",
   "execution_count": null,
   "id": "6bd0404c",
   "metadata": {
    "tags": []
   },
   "outputs": [],
   "source": [
    "..."
   ]
  },
  {
   "cell_type": "markdown",
   "id": "1b280d4d",
   "metadata": {},
   "source": [
    "<!-- END QUESTION -->\n",
    "\n",
    "<!-- BEGIN QUESTION -->\n",
    "\n",
    "**Question 7.** What do you notice about this plot? What might be the cause of increases or decreases in the popularity of the name *Karen*? \n",
    "\n",
    "**Note:** Be sure to mention any information you may have gotten from other sources (make sure you cite your sources)."
   ]
  },
  {
   "cell_type": "markdown",
   "id": "c60fb772",
   "metadata": {},
   "source": [
    "_Type your answer here, replacing this text._"
   ]
  },
  {
   "cell_type": "markdown",
   "id": "417aeabc",
   "metadata": {},
   "source": [
    "<!-- END QUESTION -->\n",
    "\n",
    "## North Carolina Names"
   ]
  },
  {
   "cell_type": "markdown",
   "id": "a075aeda",
   "metadata": {},
   "source": [
    "**Question 8.** Create a dataframe named `nc` that only contains the names from North Carolina. "
   ]
  },
  {
   "cell_type": "code",
   "execution_count": null,
   "id": "56184440",
   "metadata": {
    "tags": []
   },
   "outputs": [],
   "source": [
    "nc = ...\n",
    "nc.head()"
   ]
  },
  {
   "cell_type": "code",
   "execution_count": null,
   "id": "0acb1790",
   "metadata": {
    "deletable": false,
    "editable": false
   },
   "outputs": [],
   "source": [
    "grader.check(\"q8\")"
   ]
  },
  {
   "cell_type": "markdown",
   "id": "4683049d",
   "metadata": {},
   "source": [
    "To count the number of instances of each unique value in a `Series`, we can use the `value_counts()` [method](https://pandas.pydata.org/pandas-docs/stable/generated/pandas.Series.value_counts.html) as `df[\"col_name\"].value_counts()`. \n",
    "\n",
    "**Note:** We are not computing the number of babies but instead the number of names (rows in the table) for each year.\n",
    "\n",
    "Run the cell below."
   ]
  },
  {
   "cell_type": "code",
   "execution_count": null,
   "id": "866be678",
   "metadata": {
    "tags": []
   },
   "outputs": [],
   "source": [
    "nc[\"Year\"].value_counts().sort_values()"
   ]
  },
  {
   "cell_type": "markdown",
   "id": "8359f5e8",
   "metadata": {},
   "source": [
    "<!-- BEGIN QUESTION -->\n",
    "\n",
    "**Question 9.** As the years go by, there seems to be an increase in the variety of names given to babies born in North Carolina. Why do you think this is happening?\n",
    "\n",
    "**Note:** Be sure to mention any information you may have gotten from other sources (make sure you cite your sources)."
   ]
  },
  {
   "cell_type": "markdown",
   "id": "712f3679",
   "metadata": {},
   "source": [
    "_Type your answer here, replacing this text._"
   ]
  },
  {
   "cell_type": "markdown",
   "id": "29497cac",
   "metadata": {},
   "source": [
    "<!-- END QUESTION -->\n",
    "\n",
    "I wonder is this trend the same for male and female baby names. Are we more likely to be creative with male names or female names? Let's find out."
   ]
  },
  {
   "cell_type": "markdown",
   "id": "b3d6db35",
   "metadata": {},
   "source": [
    "<!-- BEGIN QUESTION -->\n",
    "\n",
    "**Question 10.** Count the number of different names for each `Sex` in  the `nc` dataframe."
   ]
  },
  {
   "cell_type": "code",
   "execution_count": null,
   "id": "4fab3453",
   "metadata": {
    "tags": []
   },
   "outputs": [],
   "source": [
    "..."
   ]
  },
  {
   "cell_type": "markdown",
   "id": "a68ffb23",
   "metadata": {},
   "source": [
    "<!-- END QUESTION -->\n",
    "\n",
    "<!-- BEGIN QUESTION -->\n",
    "\n",
    "**Question 11.** Based on your results from **Question 10**, do you think we are more likely to be creative with male names or female names?. Why do you think this is the case?\n",
    "\n",
    "**Note:** Be sure to mention any information you may have gotten from other sources (make sure you cite your sources)."
   ]
  },
  {
   "cell_type": "markdown",
   "id": "69508898",
   "metadata": {},
   "source": [
    "_Type your answer here, replacing this text._"
   ]
  },
  {
   "cell_type": "markdown",
   "id": "88f1d09b",
   "metadata": {},
   "source": [
    "<!-- END QUESTION -->\n",
    "\n",
    "## Groupby\n",
    "\n",
    "Before we jump into using the [`groupby`](https://pandas.pydata.org/pandas-docs/stable/reference/api/pandas.DataFrame.groupby.html) function in Pandas, let's recap how grouping works in general for tabular data through a guided set of questions based on a small toy dataset of movies and genres. \n",
    "\n",
    "**Note:** If you want to see a visual of how grouping of data works, here is a link to an animation [Groupby Animation](http://www.ds100.org/sp18/assets/lectures/lec03/03-groupby_and_pivot.pdf)\n",
    "\n",
    "**Problem Setting:** In the summer of 2018, there were a lot of good and bad movies that came out. Below is a dataframe with 5 columns: name of the movie as a `string`, the genre of the movie as a `string`, the first name of the director of the movie as a `string`, the average rating out of 10 on Rotten Tomatoes as an `integer`, and the total gross revenue made by the movie as an `integer`. The point of the guided questions below is to understand how the grouping of data works in general, **not** how grouping works in code. \n",
    "\n",
    "Below is the `movies` dataframe we are using, imported from the `movies.csv` file.\n",
    "\n",
    "Run the cell below."
   ]
  },
  {
   "cell_type": "code",
   "execution_count": null,
   "id": "59370dab",
   "metadata": {
    "tags": []
   },
   "outputs": [],
   "source": [
    "movies = pd.read_csv('data/movies.csv')\n",
    "movies.head()"
   ]
  },
  {
   "cell_type": "markdown",
   "id": "a09d16fa",
   "metadata": {},
   "source": [
    "If we grouped the `movies` dataframe above by `genre`, how many groups would be in the output and what would be the groups? "
   ]
  },
  {
   "cell_type": "markdown",
   "id": "2be95c53",
   "metadata": {},
   "source": [
    "**Question 12.**  Assign `num_groups` to the number of groups created and fill in `genre_list` as a list containing the names of genres as strings that represent the groups. Make sure your list is sorted."
   ]
  },
  {
   "cell_type": "code",
   "execution_count": null,
   "id": "e208f53e",
   "metadata": {
    "tags": []
   },
   "outputs": [],
   "source": [
    "...\n",
    "num_groups = ...\n",
    "genre_list = ..."
   ]
  },
  {
   "cell_type": "code",
   "execution_count": null,
   "id": "60379fcd",
   "metadata": {
    "deletable": false,
    "editable": false
   },
   "outputs": [],
   "source": [
    "grader.check(\"q12\")"
   ]
  },
  {
   "cell_type": "markdown",
   "id": "991122d6",
   "metadata": {},
   "source": [
    "**Question 13.**  Whenever we group tabular data, it's usually the case that we need to aggregate values from the ungrouped column(s). If we were to group the `movies` dataframe above by `genre`, which column(s) in the `movies` dataframe would it make sense to aggregate if we were interested in finding how well each genre did in the eyes of people? Fill in `agg_cols` with the column name(s) as a list. Make sure your list is sorted alphabetically."
   ]
  },
  {
   "cell_type": "code",
   "execution_count": null,
   "id": "eec4b4cb",
   "metadata": {
    "tags": []
   },
   "outputs": [],
   "source": [
    "agg_cols = ...\n",
    "agg_cols"
   ]
  },
  {
   "cell_type": "code",
   "execution_count": null,
   "id": "60a9507e",
   "metadata": {
    "deletable": false,
    "editable": false
   },
   "outputs": [],
   "source": [
    "grader.check(\"q13\")"
   ]
  },
  {
   "cell_type": "markdown",
   "id": "0bbbbd32",
   "metadata": {},
   "source": [
    "Now, let's see `groupby` in action, instead of keeping everything abstract. To aggregate data in Pandas, we use the `.groupby()` [function](https://pandas.pydata.org/pandas-docs/stable/reference/api/pandas.DataFrame.groupby.html). \n",
    "\n",
    "The code below will group the `movies` dataframe by `genre` and find the average revenue and rating for each genre.\n",
    "\n",
    "Run the cell below."
   ]
  },
  {
   "cell_type": "code",
   "execution_count": null,
   "id": "b0b040e2",
   "metadata": {
    "tags": []
   },
   "outputs": [],
   "source": [
    "movies.loc[:, ['genre', 'rating', 'revenue']].groupby('genre').mean()"
   ]
  },
  {
   "cell_type": "markdown",
   "id": "5e9be455",
   "metadata": {},
   "source": [
    "Notice that the index of the dataframe is genre. If we wanted to change it back to integers (the default index), we can use the `.reset_index()` method."
   ]
  },
  {
   "cell_type": "code",
   "execution_count": null,
   "id": "72e7f1f0",
   "metadata": {
    "tags": []
   },
   "outputs": [],
   "source": [
    "movies.loc[:, ['genre', 'rating', 'revenue']].groupby('genre').mean().reset_index()"
   ]
  },
  {
   "cell_type": "markdown",
   "id": "c9981688",
   "metadata": {},
   "source": [
    "**Question 14.** Let's move back to baby names and specifically, the `nc` dataframe. Find the sum of `Count` for each `Name` in the `nc` table. Make sure the dataframe is sorted by the **Name** column.\n",
    "\n",
    "For example, the dataframe should look like this\n",
    "\n",
    "| | Name | Count |\n",
    "|-|------|-------:|\n",
    "|**0**|Aaden|132|\n",
    "|**1**|Aadhya|74|\n",
    "|**2**|Aadya|33|\n",
    "|**3**|Aahana|6|\n",
    "|**4**|Aaiden|5|\n",
    "\n",
    "**Note:** In this question we are now computing the number of registered babies with a given name."
   ]
  },
  {
   "cell_type": "code",
   "execution_count": null,
   "id": "c8fe6ff7",
   "metadata": {
    "tags": []
   },
   "outputs": [],
   "source": [
    "nc_name_count = ...\n",
    "nc_name_count.head()"
   ]
  },
  {
   "cell_type": "code",
   "execution_count": null,
   "id": "d9e1c219",
   "metadata": {
    "deletable": false,
    "editable": false
   },
   "outputs": [],
   "source": [
    "grader.check(\"q14\")"
   ]
  },
  {
   "cell_type": "markdown",
   "id": "31a4f799",
   "metadata": {},
   "source": [
    "## Grouping Multiple Columns\n",
    "\n",
    "Let's move back to the `movies` dataframe. \n",
    "\n",
    "Which of the following lines of code \n",
    "\n",
    "1. `movies.groupby('revenue')[['genre', 'rating']].mean()`\n",
    "\n",
    "2. `movies.groupby(['genre', 'rating'])['revenue'].mean()`\n",
    "\n",
    "3. `pd.pivot_table(index = 'rating', columns = 'genre', values = 'revenue', aggfunc = np.mean)`\n",
    "\n",
    "4. `pd.pivot_table(movies, index = 'genre', columns = 'rating', values = 'revenue', aggfunc = np.mean)`\n",
    "\n",
    "\n",
    "will output the following dataframe? \n",
    "\n",
    "<table border=\"1\" class=\"dataframe\">\n",
    "  <thead>\n",
    "    <tr style=\"text-align: right;\">\n",
    "      <th>rating</th>\n",
    "      <th>5</th>\n",
    "      <th>6</th>\n",
    "      <th>7</th>\n",
    "      <th>8</th>\n",
    "    </tr>\n",
    "    <tr>\n",
    "      <th>genre</th>\n",
    "      <th></th>\n",
    "      <th></th>\n",
    "      <th></th>\n",
    "      <th></th>\n",
    "    </tr>\n",
    "  </thead>\n",
    "  <tbody>\n",
    "    <tr>\n",
    "      <th>Action &amp; Adventure</th>\n",
    "      <td>208681866.0</td>\n",
    "      <td>129228350.0</td>\n",
    "      <td>318344544.0</td>\n",
    "      <td>6708147.0</td>\n",
    "    </tr>\n",
    "    <tr>\n",
    "      <th>Animation</th>\n",
    "      <td>374408165.0</td>\n",
    "      <td>NaN</td>\n",
    "      <td>NaN</td>\n",
    "      <td>NaN</td>\n",
    "    </tr>\n",
    "    <tr>\n",
    "      <th>Comedy</th>\n",
    "      <td>55383976.0</td>\n",
    "      <td>30561590.0</td>\n",
    "      <td>NaN</td>\n",
    "      <td>111705055.0</td>\n",
    "    </tr>\n",
    "    <tr>\n",
    "      <th>Drama</th>\n",
    "      <td>NaN</td>\n",
    "      <td>17146165.5</td>\n",
    "      <td>NaN</td>\n",
    "      <td>NaN</td>\n",
    "    </tr>\n",
    "    <tr>\n",
    "      <th>Horror</th>\n",
    "      <td>NaN</td>\n",
    "      <td>NaN</td>\n",
    "      <td>68765655.0</td>\n",
    "      <td>NaN</td>\n",
    "    </tr>\n",
    "    <tr>\n",
    "      <th>Science Fiction &amp; Fantasy</th>\n",
    "      <td>NaN</td>\n",
    "      <td>312674899.0</td>\n",
    "      <td>NaN</td>\n",
    "      <td>NaN</td>\n",
    "    </tr>\n",
    "  </tbody>\n",
    "</table>"
   ]
  },
  {
   "cell_type": "markdown",
   "id": "7e62d12b",
   "metadata": {},
   "source": [
    "**Question 15.** Assign your answer (hard-coded as a string) as either 1, 2, 3, or 4 to the variable `q15_ans`. \n",
    "\n",
    "**Note:** Recall that the arguments to `pd.pivot_table` are as follows: `data` is the input dataframe, `index` includes the values we use as rows, `columns` are the columns of the pivot table, `values` are the values in the pivot table, and `aggfunc` is the aggregation function that we use to aggregate `values`.\n",
    "\n",
    "\n",
    "**Hint:** Click [here](https://pandas.pydata.org/docs/reference/api/pandas.pivot_table.html) to look at the documentation for the `pivot_table` method."
   ]
  },
  {
   "cell_type": "code",
   "execution_count": null,
   "id": "faee3c75",
   "metadata": {
    "tags": []
   },
   "outputs": [],
   "source": [
    "q15_ans = ..."
   ]
  },
  {
   "cell_type": "code",
   "execution_count": null,
   "id": "4e588e36",
   "metadata": {
    "deletable": false,
    "editable": false
   },
   "outputs": [],
   "source": [
    "grader.check(\"q15\")"
   ]
  },
  {
   "cell_type": "markdown",
   "id": "8ec001a5",
   "metadata": {},
   "source": [
    "## Merging\n",
    "\n",
    "Time to put everything together."
   ]
  },
  {
   "cell_type": "markdown",
   "id": "0e6238a6",
   "metadata": {},
   "source": [
    "**Question 16.** Merge `movies` and `nc_name_count` to find the number of registered baby names for each director using [`pd.merge`](https://pandas.pydata.org/pandas-docs/stable/reference/api/pandas.merge.html?highlight=merge#pandas.merge). Only include names that appear in both `movies` and `nc_name_count`.\n",
    "\n",
    "Your first row should look something like this:\n",
    "\n",
    "<table border=\"1\" class=\"dataframe\">\n",
    "  <thead>\n",
    "    <tr style=\"text-align: right;\">\n",
    "      <th></th>\n",
    "      <th>director</th>\n",
    "      <th>genre</th>\n",
    "      <th>movie</th>\n",
    "      <th>rating</th>\n",
    "      <th>revenue</th>\n",
    "      <th>Count</th>\n",
    "    </tr>\n",
    "  </thead>\n",
    "  <tbody>\n",
    "    <tr>\n",
    "      <th>0</th>\n",
    "      <td>David</td>\n",
    "      <td>Action &amp; Adventure</td>\n",
    "      <td>Deadpool 2</td>\n",
    "      <td>7</td>\n",
    "      <td>318344544</td>\n",
    "      <td>91158</td>\n",
    "    </tr>\n",
    "  </tbody>\n",
    "</table>\n",
    "</table>\n"
   ]
  },
  {
   "cell_type": "code",
   "execution_count": null,
   "id": "c278b4e1",
   "metadata": {
    "tags": []
   },
   "outputs": [],
   "source": [
    "merged_movies = ...\n",
    "merged_movies"
   ]
  },
  {
   "cell_type": "code",
   "execution_count": null,
   "id": "21c8d302",
   "metadata": {
    "deletable": false,
    "editable": false
   },
   "outputs": [],
   "source": [
    "grader.check(\"q16\")"
   ]
  },
  {
   "cell_type": "markdown",
   "id": "6add4c84",
   "metadata": {},
   "source": [
    "**Question 17.** Where there any directors in the original `movies` table did not get included in the `merged_movies` dataframe? If so, how many and what are there their names. Save the names of these directors (if there are any) to a list named `missing_directors`. Make sure the list is sorted. If there are none leave the list empty."
   ]
  },
  {
   "cell_type": "code",
   "execution_count": null,
   "id": "b59d3824",
   "metadata": {
    "tags": []
   },
   "outputs": [],
   "source": [
    "...\n",
    "missing_directors = ...\n",
    "missing_directors"
   ]
  },
  {
   "cell_type": "code",
   "execution_count": null,
   "id": "9fe275a6",
   "metadata": {
    "deletable": false,
    "editable": false
   },
   "outputs": [],
   "source": [
    "grader.check(\"q17\")"
   ]
  },
  {
   "cell_type": "markdown",
   "id": "f2bf462f",
   "metadata": {
    "deletable": false,
    "editable": false
   },
   "source": [
    "## Submission\n",
    "\n",
    "Make sure you have run all cells in your notebook in order before running the cell below, so that all images/graphs appear in the output. The cell below will generate a zip file for you to submit. **Please save before exporting!**"
   ]
  },
  {
   "cell_type": "code",
   "execution_count": null,
   "id": "a557f0fd",
   "metadata": {
    "deletable": false,
    "editable": false
   },
   "outputs": [],
   "source": [
    "# Save your notebook first, then run this cell to export your submission.\n",
    "grader.export(run_tests=True)"
   ]
  },
  {
   "cell_type": "markdown",
   "id": "e811429e",
   "metadata": {},
   "source": [
    " "
   ]
  }
 ],
 "metadata": {
  "kernelspec": {
   "display_name": "Python 3 (ipykernel)",
   "language": "python",
   "name": "python3"
  },
  "language_info": {
   "codemirror_mode": {
    "name": "ipython",
    "version": 3
   },
   "file_extension": ".py",
   "mimetype": "text/x-python",
   "name": "python",
   "nbconvert_exporter": "python",
   "pygments_lexer": "ipython3",
   "version": "3.10.11"
  },
  "otter": {
   "OK_FORMAT": true,
   "tests": {
    "q1": {
     "name": "q1",
     "points": null,
     "suites": [
      {
       "cases": [
        {
         "code": ">>> baby.shape\n(890627, 5)",
         "hidden": false,
         "locked": false
        },
        {
         "code": ">>> 'Unnamed: 0' not in baby.columns\nTrue",
         "hidden": false,
         "locked": false
        }
       ],
       "scored": true,
       "setup": "",
       "teardown": "",
       "type": "doctest"
      }
     ]
    },
    "q12": {
     "name": "q12",
     "points": null,
     "suites": [
      {
       "cases": [
        {
         "code": ">>> num_groups == 6\nTrue",
         "hidden": false,
         "locked": false
        },
        {
         "code": ">>> isinstance(genre_list, list)\nTrue",
         "hidden": false,
         "locked": false
        },
        {
         "code": ">>> genre_list == ['Action & Adventure', 'Animation', 'Comedy', 'Drama', 'Horror', 'Science Fiction & Fantasy']\nTrue",
         "hidden": false,
         "locked": false
        }
       ],
       "scored": true,
       "setup": "",
       "teardown": "",
       "type": "doctest"
      }
     ]
    },
    "q13": {
     "name": "q13",
     "points": null,
     "suites": [
      {
       "cases": [
        {
         "code": ">>> len(agg_cols)\n2",
         "hidden": false,
         "locked": false
        },
        {
         "code": ">>> isinstance(agg_cols, list)\nTrue",
         "hidden": false,
         "locked": false
        },
        {
         "code": ">>> agg_cols == [\"rating\", \"revenue\"]\nTrue",
         "hidden": false,
         "locked": false
        }
       ],
       "scored": true,
       "setup": "",
       "teardown": "",
       "type": "doctest"
      }
     ]
    },
    "q14": {
     "name": "q14",
     "points": null,
     "suites": [
      {
       "cases": [
        {
         "code": ">>> nc_name_count.shape\n(9128, 2)",
         "hidden": false,
         "locked": false
        },
        {
         "code": ">>> isinstance(nc_name_count, pd.DataFrame)\nTrue",
         "hidden": false,
         "locked": false
        },
        {
         "code": ">>> np.sum(nc_name_count.Count)\n9019830",
         "hidden": false,
         "locked": false
        },
        {
         "code": ">>> nc_name_count.Name[nc_name_count.shape[0]-1]\n'Zyquan'",
         "hidden": false,
         "locked": false
        },
        {
         "code": ">>> nc_name_count.Name[nc_name_count.shape[0]/2]\n'Kamdyn'",
         "hidden": false,
         "locked": false
        }
       ],
       "scored": true,
       "setup": "",
       "teardown": "",
       "type": "doctest"
      }
     ]
    },
    "q15": {
     "name": "q15",
     "points": null,
     "suites": [
      {
       "cases": [
        {
         "code": ">>> q15_ans in ['1', '2', '3', '4']\nTrue",
         "hidden": false,
         "locked": false
        }
       ],
       "scored": true,
       "setup": "",
       "teardown": "",
       "type": "doctest"
      }
     ]
    },
    "q16": {
     "name": "q16",
     "points": null,
     "suites": [
      {
       "cases": [
        {
         "code": ">>> merged_movies.shape\n(13, 6)",
         "hidden": false,
         "locked": false
        }
       ],
       "scored": true,
       "setup": "",
       "teardown": "",
       "type": "doctest"
      }
     ]
    },
    "q17": {
     "name": "q17",
     "points": null,
     "suites": [
      {
       "cases": [
        {
         "code": ">>> len(missing_directors)\n5",
         "hidden": false,
         "locked": false
        },
        {
         "code": ">>> isinstance(missing_directors, list)\nTrue",
         "hidden": false,
         "locked": false
        },
        {
         "code": ">>> 'Baltasar' in missing_directors\nTrue",
         "hidden": false,
         "locked": false
        },
        {
         "code": ">>> 'Genndy' in missing_directors\nTrue",
         "hidden": false,
         "locked": false
        },
        {
         "code": ">>> 'J.A.' in missing_directors\nTrue",
         "hidden": false,
         "locked": false
        },
        {
         "code": ">>> 'Ol' in missing_directors\nTrue",
         "hidden": false,
         "locked": false
        },
        {
         "code": ">>> 'Rawson' in missing_directors\nTrue",
         "hidden": false,
         "locked": false
        }
       ],
       "scored": true,
       "setup": "",
       "teardown": "",
       "type": "doctest"
      }
     ]
    },
    "q2": {
     "name": "q2",
     "points": null,
     "suites": [
      {
       "cases": [
        {
         "code": ">>> kanye.shape\n(14, 5)",
         "hidden": false,
         "locked": false
        },
        {
         "code": ">>> np.sum(kanye.Count)\n194",
         "hidden": false,
         "locked": false
        }
       ],
       "scored": true,
       "setup": "",
       "teardown": "",
       "type": "doctest"
      }
     ]
    },
    "q3": {
     "name": "q3",
     "points": null,
     "suites": [
      {
       "cases": [
        {
         "code": ">>> kanye_count.shape\n(5, 2)",
         "hidden": false,
         "locked": false
        },
        {
         "code": ">>> np.sum(kanye_count.Count)\n194",
         "hidden": false,
         "locked": false
        },
        {
         "code": ">>> np.sort(kanye_count.Count)\narray([  5,   5,  18,  42, 124])",
         "hidden": false,
         "locked": false
        }
       ],
       "scored": true,
       "setup": "",
       "teardown": "",
       "type": "doctest"
      }
     ]
    },
    "q8": {
     "name": "q8",
     "points": null,
     "suites": [
      {
       "cases": [
        {
         "code": ">>> nc.shape\n(175577, 5)",
         "hidden": false,
         "locked": false
        },
        {
         "code": ">>> len(np.unique(nc.State))\n1",
         "hidden": false,
         "locked": false
        },
        {
         "code": ">>> np.unique(nc.State)[0]\n'NC'",
         "hidden": false,
         "locked": false
        }
       ],
       "scored": true,
       "setup": "",
       "teardown": "",
       "type": "doctest"
      }
     ]
    }
   }
  }
 },
 "nbformat": 4,
 "nbformat_minor": 5
}
