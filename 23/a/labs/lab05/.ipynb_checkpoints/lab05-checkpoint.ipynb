{
 "cells": [
  {
   "cell_type": "raw",
   "id": "ae0dd832-1354-4d02-9046-fba602c81b46",
   "metadata": {},
   "source": [
    "# ASSIGNMENT CONFIG\n",
    "generate: true\n",
    "files:\n",
    "  - data/baby_names.csv\n",
    "  - data/movies.csv"
   ]
  },
  {
   "cell_type": "markdown",
   "id": "9e2752de-22f4-4b36-8569-6b98d305472f",
   "metadata": {},
   "source": [
    "# Lab 05: Pandas Continued\n",
    "\n",
    "Welcome to Advanced Topics in Data Science for High School! Throughout the course you will complete assignments like this one. You can't learn technical subjects without hands-on practice, so these assignments are an important part of the course.\n",
    "\n",
    "**Collaboration Policy:**\n",
    "\n",
    "Collaborating on labs is more than okay -- it's encouraged! You should rarely remain stuck for more than a few minutes on questions in labs, so ask a neighbor or an instructor for help. Explaining things is beneficial, too -- the best way to solidify your knowledge of a subject is to explain it. You should **not** _just_ copy/paste someone else's code, but rather work together to gain understanding of the task you need to complete. \n",
    "\n",
    "**Due Date:**\n",
    "\n",
    "## Today's Assignment \n",
    "\n",
    "In this lab we will continue discussion of [Pandas](https://pandas.pydata.org/). In today's assignment, you'll learn about:\n",
    "\n",
    "* visualizing data \n",
    "\n",
    "* grouping dataframes\n",
    "\n",
    "* merging dataframes\n",
    "\n",
    "First, set up the imports by running the cell below."
   ]
  },
  {
   "cell_type": "code",
   "execution_count": 1,
   "id": "d3fa713e-767a-4710-9466-9a67b52d2fcc",
   "metadata": {
    "tags": []
   },
   "outputs": [],
   "source": [
    "import pandas as pd\n",
    "import numpy as np\n",
    "\n",
    "%matplotlib inline\n",
    "import matplotlib.pyplot as plt"
   ]
  },
  {
   "cell_type": "markdown",
   "id": "9fefb595-0c0c-4d57-bef6-1c976d15bdd3",
   "metadata": {},
   "source": [
    "## Babynames\n",
    "\n",
    "In Lab 04 we learned how to filter and slice `pandas` dataframes. In today's lab we'll continue working with dataframes. Let's load `babynames` dataset."
   ]
  },
  {
   "cell_type": "code",
   "execution_count": 2,
   "id": "3e768bba-fff1-4b73-b28b-1ee2488b65f1",
   "metadata": {
    "tags": []
   },
   "outputs": [
    {
     "data": {
      "text/html": [
       "<div>\n",
       "<style scoped>\n",
       "    .dataframe tbody tr th:only-of-type {\n",
       "        vertical-align: middle;\n",
       "    }\n",
       "\n",
       "    .dataframe tbody tr th {\n",
       "        vertical-align: top;\n",
       "    }\n",
       "\n",
       "    .dataframe thead th {\n",
       "        text-align: right;\n",
       "    }\n",
       "</style>\n",
       "<table border=\"1\" class=\"dataframe\">\n",
       "  <thead>\n",
       "    <tr style=\"text-align: right;\">\n",
       "      <th></th>\n",
       "      <th>Unnamed: 0</th>\n",
       "      <th>State</th>\n",
       "      <th>Sex</th>\n",
       "      <th>Year</th>\n",
       "      <th>Name</th>\n",
       "      <th>Count</th>\n",
       "    </tr>\n",
       "  </thead>\n",
       "  <tbody>\n",
       "    <tr>\n",
       "      <th>0</th>\n",
       "      <td>0</td>\n",
       "      <td>GA</td>\n",
       "      <td>F</td>\n",
       "      <td>1910</td>\n",
       "      <td>Mary</td>\n",
       "      <td>841</td>\n",
       "    </tr>\n",
       "    <tr>\n",
       "      <th>1</th>\n",
       "      <td>1</td>\n",
       "      <td>GA</td>\n",
       "      <td>F</td>\n",
       "      <td>1910</td>\n",
       "      <td>Annie</td>\n",
       "      <td>553</td>\n",
       "    </tr>\n",
       "    <tr>\n",
       "      <th>2</th>\n",
       "      <td>2</td>\n",
       "      <td>GA</td>\n",
       "      <td>F</td>\n",
       "      <td>1910</td>\n",
       "      <td>Mattie</td>\n",
       "      <td>320</td>\n",
       "    </tr>\n",
       "    <tr>\n",
       "      <th>3</th>\n",
       "      <td>3</td>\n",
       "      <td>GA</td>\n",
       "      <td>F</td>\n",
       "      <td>1910</td>\n",
       "      <td>Ruby</td>\n",
       "      <td>279</td>\n",
       "    </tr>\n",
       "    <tr>\n",
       "      <th>4</th>\n",
       "      <td>4</td>\n",
       "      <td>GA</td>\n",
       "      <td>F</td>\n",
       "      <td>1910</td>\n",
       "      <td>Willie</td>\n",
       "      <td>275</td>\n",
       "    </tr>\n",
       "  </tbody>\n",
       "</table>\n",
       "</div>"
      ],
      "text/plain": [
       "   Unnamed: 0 State Sex  Year    Name  Count\n",
       "0           0    GA   F  1910    Mary    841\n",
       "1           1    GA   F  1910   Annie    553\n",
       "2           2    GA   F  1910  Mattie    320\n",
       "3           3    GA   F  1910    Ruby    279\n",
       "4           4    GA   F  1910  Willie    275"
      ]
     },
     "execution_count": 2,
     "metadata": {},
     "output_type": "execute_result"
    }
   ],
   "source": [
    "baby = pd.read_csv('data/baby_names.csv')\n",
    "baby.head()"
   ]
  },
  {
   "cell_type": "raw",
   "id": "e5b97463-a36f-4390-9115-4d806ccb6e3b",
   "metadata": {},
   "source": [
    "# BEGIN QUESTION\n",
    "name: q1"
   ]
  },
  {
   "cell_type": "markdown",
   "id": "5554b381-0588-42df-a0ea-4f1632049632",
   "metadata": {},
   "source": [
    "**Question 1.** You should see a column named **Unnamed: 0**. Drop this column from the `baby` dataframe. \n",
    "\n",
    "**Hint:** The documentation for the `.drop` command is [here](https://pandas.pydata.org/docs/reference/api/pandas.DataFrame.drop.html)."
   ]
  },
  {
   "cell_type": "raw",
   "id": "45252186-334e-4589-82d3-8c3bfee3e4db",
   "metadata": {},
   "source": [
    "# BEGIN SOLUTION"
   ]
  },
  {
   "cell_type": "code",
   "execution_count": 3,
   "id": "2c522ea0-444c-46c6-ae70-9d71ef341853",
   "metadata": {
    "tags": []
   },
   "outputs": [
    {
     "data": {
      "text/html": [
       "<div>\n",
       "<style scoped>\n",
       "    .dataframe tbody tr th:only-of-type {\n",
       "        vertical-align: middle;\n",
       "    }\n",
       "\n",
       "    .dataframe tbody tr th {\n",
       "        vertical-align: top;\n",
       "    }\n",
       "\n",
       "    .dataframe thead th {\n",
       "        text-align: right;\n",
       "    }\n",
       "</style>\n",
       "<table border=\"1\" class=\"dataframe\">\n",
       "  <thead>\n",
       "    <tr style=\"text-align: right;\">\n",
       "      <th></th>\n",
       "      <th>State</th>\n",
       "      <th>Sex</th>\n",
       "      <th>Year</th>\n",
       "      <th>Name</th>\n",
       "      <th>Count</th>\n",
       "    </tr>\n",
       "  </thead>\n",
       "  <tbody>\n",
       "    <tr>\n",
       "      <th>0</th>\n",
       "      <td>GA</td>\n",
       "      <td>F</td>\n",
       "      <td>1910</td>\n",
       "      <td>Mary</td>\n",
       "      <td>841</td>\n",
       "    </tr>\n",
       "    <tr>\n",
       "      <th>1</th>\n",
       "      <td>GA</td>\n",
       "      <td>F</td>\n",
       "      <td>1910</td>\n",
       "      <td>Annie</td>\n",
       "      <td>553</td>\n",
       "    </tr>\n",
       "    <tr>\n",
       "      <th>2</th>\n",
       "      <td>GA</td>\n",
       "      <td>F</td>\n",
       "      <td>1910</td>\n",
       "      <td>Mattie</td>\n",
       "      <td>320</td>\n",
       "    </tr>\n",
       "    <tr>\n",
       "      <th>3</th>\n",
       "      <td>GA</td>\n",
       "      <td>F</td>\n",
       "      <td>1910</td>\n",
       "      <td>Ruby</td>\n",
       "      <td>279</td>\n",
       "    </tr>\n",
       "    <tr>\n",
       "      <th>4</th>\n",
       "      <td>GA</td>\n",
       "      <td>F</td>\n",
       "      <td>1910</td>\n",
       "      <td>Willie</td>\n",
       "      <td>275</td>\n",
       "    </tr>\n",
       "    <tr>\n",
       "      <th>...</th>\n",
       "      <td>...</td>\n",
       "      <td>...</td>\n",
       "      <td>...</td>\n",
       "      <td>...</td>\n",
       "      <td>...</td>\n",
       "    </tr>\n",
       "    <tr>\n",
       "      <th>890622</th>\n",
       "      <td>VA</td>\n",
       "      <td>M</td>\n",
       "      <td>2019</td>\n",
       "      <td>Yerik</td>\n",
       "      <td>5</td>\n",
       "    </tr>\n",
       "    <tr>\n",
       "      <th>890623</th>\n",
       "      <td>VA</td>\n",
       "      <td>M</td>\n",
       "      <td>2019</td>\n",
       "      <td>Yosef</td>\n",
       "      <td>5</td>\n",
       "    </tr>\n",
       "    <tr>\n",
       "      <th>890624</th>\n",
       "      <td>VA</td>\n",
       "      <td>M</td>\n",
       "      <td>2019</td>\n",
       "      <td>Zakari</td>\n",
       "      <td>5</td>\n",
       "    </tr>\n",
       "    <tr>\n",
       "      <th>890625</th>\n",
       "      <td>VA</td>\n",
       "      <td>M</td>\n",
       "      <td>2019</td>\n",
       "      <td>Zakariya</td>\n",
       "      <td>5</td>\n",
       "    </tr>\n",
       "    <tr>\n",
       "      <th>890626</th>\n",
       "      <td>VA</td>\n",
       "      <td>M</td>\n",
       "      <td>2019</td>\n",
       "      <td>Zuri</td>\n",
       "      <td>5</td>\n",
       "    </tr>\n",
       "  </tbody>\n",
       "</table>\n",
       "<p>890627 rows × 5 columns</p>\n",
       "</div>"
      ],
      "text/plain": [
       "       State Sex  Year      Name  Count\n",
       "0         GA   F  1910      Mary    841\n",
       "1         GA   F  1910     Annie    553\n",
       "2         GA   F  1910    Mattie    320\n",
       "3         GA   F  1910      Ruby    279\n",
       "4         GA   F  1910    Willie    275\n",
       "...      ...  ..   ...       ...    ...\n",
       "890622    VA   M  2019     Yerik      5\n",
       "890623    VA   M  2019     Yosef      5\n",
       "890624    VA   M  2019    Zakari      5\n",
       "890625    VA   M  2019  Zakariya      5\n",
       "890626    VA   M  2019      Zuri      5\n",
       "\n",
       "[890627 rows x 5 columns]"
      ]
     },
     "execution_count": 3,
     "metadata": {},
     "output_type": "execute_result"
    }
   ],
   "source": [
    "baby = baby.drop(columns=['Unnamed: 0']) # SOLUTION\n",
    "baby"
   ]
  },
  {
   "cell_type": "raw",
   "id": "8a85e48d-73e9-45e0-9c56-d8397639199a",
   "metadata": {},
   "source": [
    "# END SOLUTION"
   ]
  },
  {
   "cell_type": "raw",
   "id": "ad40cf0a-f729-413f-8149-b49e09736dd6",
   "metadata": {},
   "source": [
    "# BEGIN TESTS"
   ]
  },
  {
   "cell_type": "code",
   "execution_count": 4,
   "id": "6bbdc500-70ad-4999-aca6-f1930597e36a",
   "metadata": {
    "tags": []
   },
   "outputs": [
    {
     "data": {
      "text/plain": [
       "(890627, 5)"
      ]
     },
     "execution_count": 4,
     "metadata": {},
     "output_type": "execute_result"
    }
   ],
   "source": [
    "baby.shape"
   ]
  },
  {
   "cell_type": "code",
   "execution_count": 5,
   "id": "a8c48895-2ac2-4259-a3e8-ee2dbecdc8b2",
   "metadata": {
    "tags": []
   },
   "outputs": [
    {
     "data": {
      "text/plain": [
       "True"
      ]
     },
     "execution_count": 5,
     "metadata": {},
     "output_type": "execute_result"
    }
   ],
   "source": [
    "'Unnamed: 0' not in baby.columns"
   ]
  },
  {
   "cell_type": "raw",
   "id": "733d5cc2-196d-44a6-a942-d2fc2527ba34",
   "metadata": {},
   "source": [
    "# END TESTS"
   ]
  },
  {
   "cell_type": "raw",
   "id": "e6d73143-13d5-478d-860f-be18291051c7",
   "metadata": {},
   "source": [
    "# END QUESTION"
   ]
  },
  {
   "cell_type": "markdown",
   "id": "b71abcd5-e3db-4a06-8234-84309a91f379",
   "metadata": {},
   "source": [
    "## Name Popularity\n",
    "\n",
    "Some names gain/lose popularity because of cultural phenomena such as a political figure coming to power or a successful athlete or entertainer in the during the prime years of his/her career. \n",
    "\n",
    "Let's look at an example."
   ]
  },
  {
   "cell_type": "raw",
   "id": "b6fdc147-0d0d-4c9a-be5e-94ffb57da96a",
   "metadata": {},
   "source": [
    "# BEGIN QUESTION\n",
    "name: q2"
   ]
  },
  {
   "cell_type": "markdown",
   "id": "ec13a3fb-1481-4fc8-ba91-573e94349b80",
   "metadata": {},
   "source": [
    "**Question 2.** Subset the `baby` dataframe to include only the observations with the name is *Kanye*."
   ]
  },
  {
   "cell_type": "raw",
   "id": "e1a24fb9-13ee-4102-9e52-3feaeb89721a",
   "metadata": {},
   "source": [
    "# BEGIN SOLUTION"
   ]
  },
  {
   "cell_type": "code",
   "execution_count": 6,
   "id": "83e1f85c-e8b5-428e-abf0-35014a42c7d7",
   "metadata": {
    "tags": []
   },
   "outputs": [
    {
     "data": {
      "text/html": [
       "<div>\n",
       "<style scoped>\n",
       "    .dataframe tbody tr th:only-of-type {\n",
       "        vertical-align: middle;\n",
       "    }\n",
       "\n",
       "    .dataframe tbody tr th {\n",
       "        vertical-align: top;\n",
       "    }\n",
       "\n",
       "    .dataframe thead th {\n",
       "        text-align: right;\n",
       "    }\n",
       "</style>\n",
       "<table border=\"1\" class=\"dataframe\">\n",
       "  <thead>\n",
       "    <tr style=\"text-align: right;\">\n",
       "      <th></th>\n",
       "      <th>State</th>\n",
       "      <th>Sex</th>\n",
       "      <th>Year</th>\n",
       "      <th>Name</th>\n",
       "      <th>Count</th>\n",
       "    </tr>\n",
       "  </thead>\n",
       "  <tbody>\n",
       "    <tr>\n",
       "      <th>162614</th>\n",
       "      <td>GA</td>\n",
       "      <td>M</td>\n",
       "      <td>2004</td>\n",
       "      <td>Kanye</td>\n",
       "      <td>35</td>\n",
       "    </tr>\n",
       "    <tr>\n",
       "      <th>164289</th>\n",
       "      <td>GA</td>\n",
       "      <td>M</td>\n",
       "      <td>2005</td>\n",
       "      <td>Kanye</td>\n",
       "      <td>13</td>\n",
       "    </tr>\n",
       "    <tr>\n",
       "      <th>166167</th>\n",
       "      <td>GA</td>\n",
       "      <td>M</td>\n",
       "      <td>2006</td>\n",
       "      <td>Kanye</td>\n",
       "      <td>6</td>\n",
       "    </tr>\n",
       "    <tr>\n",
       "      <th>177694</th>\n",
       "      <td>GA</td>\n",
       "      <td>M</td>\n",
       "      <td>2014</td>\n",
       "      <td>Kanye</td>\n",
       "      <td>5</td>\n",
       "    </tr>\n",
       "    <tr>\n",
       "      <th>460018</th>\n",
       "      <td>NC</td>\n",
       "      <td>M</td>\n",
       "      <td>2004</td>\n",
       "      <td>Kanye</td>\n",
       "      <td>36</td>\n",
       "    </tr>\n",
       "  </tbody>\n",
       "</table>\n",
       "</div>"
      ],
      "text/plain": [
       "       State Sex  Year   Name  Count\n",
       "162614    GA   M  2004  Kanye     35\n",
       "164289    GA   M  2005  Kanye     13\n",
       "166167    GA   M  2006  Kanye      6\n",
       "177694    GA   M  2014  Kanye      5\n",
       "460018    NC   M  2004  Kanye     36"
      ]
     },
     "execution_count": 6,
     "metadata": {},
     "output_type": "execute_result"
    }
   ],
   "source": [
    "kanye = baby[(baby['Name'] == 'Kanye')] # SOLUTION\n",
    "kanye.head()"
   ]
  },
  {
   "cell_type": "raw",
   "id": "3ee2064b-131c-4d74-841a-23dbfafcb5b0",
   "metadata": {},
   "source": [
    "# END SOLUTION"
   ]
  },
  {
   "cell_type": "raw",
   "id": "f6a1d879-cc6f-4b75-8e73-531832714c8f",
   "metadata": {},
   "source": [
    "# BEGIN TESTS"
   ]
  },
  {
   "cell_type": "code",
   "execution_count": 7,
   "id": "9bf0912b-b094-4577-be3d-e86b06eea8bb",
   "metadata": {
    "tags": []
   },
   "outputs": [
    {
     "data": {
      "text/plain": [
       "(14, 5)"
      ]
     },
     "execution_count": 7,
     "metadata": {},
     "output_type": "execute_result"
    }
   ],
   "source": [
    "kanye.shape"
   ]
  },
  {
   "cell_type": "code",
   "execution_count": 8,
   "id": "f0dc02d7-39e3-4c4f-b897-84f5eb4e6126",
   "metadata": {
    "tags": []
   },
   "outputs": [
    {
     "data": {
      "text/plain": [
       "194"
      ]
     },
     "execution_count": 8,
     "metadata": {},
     "output_type": "execute_result"
    }
   ],
   "source": [
    "np.sum(kanye.Count)"
   ]
  },
  {
   "cell_type": "raw",
   "id": "ec5b9f59-3f79-4226-9600-b2869045e54e",
   "metadata": {},
   "source": [
    "# END TESTS"
   ]
  },
  {
   "cell_type": "raw",
   "id": "3ff72e18-c69e-4789-a670-ada89c0eb07f",
   "metadata": {},
   "source": [
    "# END QUESTION"
   ]
  },
  {
   "cell_type": "markdown",
   "id": "b5756054-915e-435a-a700-31c58c320550",
   "metadata": {},
   "source": [
    "We want to get an idea of how the popularity of this name has changed over time. To do this we need the number of babies born that were named *Kanye* for each year."
   ]
  },
  {
   "cell_type": "raw",
   "id": "87129fef-a38f-4f19-a6bf-d69be18d51be",
   "metadata": {},
   "source": [
    "# BEGIN QUESTION\n",
    "name: q3"
   ]
  },
  {
   "cell_type": "markdown",
   "id": "32e765de-e3e8-41b1-bc14-c5092502173d",
   "metadata": {},
   "source": [
    "**Question 3.** Create a dataframe with two columns, **Year** and **Count**. In the **Year** column we'll have the year and in the **Count** column we'll have the number of babies born in that year that were named *Kanye*.\n",
    "\n",
    "For example, your data frame should look like this\n",
    "\n",
    "|     | Year | Count |\n",
    "| --- | ---- | -----:|\n",
    "|**0**| 2003 | 5     |\n",
    "|**1**| 2004 | 124   |\n",
    "|**2**| 2005 | 42    |\n",
    "|**3**| 2006 | 18    |\n",
    "|**4**| 2014 | 5     |"
   ]
  },
  {
   "cell_type": "raw",
   "id": "5143a073-9284-421d-99b7-c3297e9ef981",
   "metadata": {},
   "source": [
    "# BEGIN SOLUTION"
   ]
  },
  {
   "cell_type": "code",
   "execution_count": 9,
   "id": "85463f62-d86b-42d3-871c-3af48844f6db",
   "metadata": {
    "tags": []
   },
   "outputs": [
    {
     "data": {
      "text/html": [
       "<div>\n",
       "<style scoped>\n",
       "    .dataframe tbody tr th:only-of-type {\n",
       "        vertical-align: middle;\n",
       "    }\n",
       "\n",
       "    .dataframe tbody tr th {\n",
       "        vertical-align: top;\n",
       "    }\n",
       "\n",
       "    .dataframe thead th {\n",
       "        text-align: right;\n",
       "    }\n",
       "</style>\n",
       "<table border=\"1\" class=\"dataframe\">\n",
       "  <thead>\n",
       "    <tr style=\"text-align: right;\">\n",
       "      <th></th>\n",
       "      <th>Year</th>\n",
       "      <th>Count</th>\n",
       "    </tr>\n",
       "  </thead>\n",
       "  <tbody>\n",
       "    <tr>\n",
       "      <th>0</th>\n",
       "      <td>2003</td>\n",
       "      <td>5</td>\n",
       "    </tr>\n",
       "    <tr>\n",
       "      <th>1</th>\n",
       "      <td>2004</td>\n",
       "      <td>124</td>\n",
       "    </tr>\n",
       "    <tr>\n",
       "      <th>2</th>\n",
       "      <td>2005</td>\n",
       "      <td>42</td>\n",
       "    </tr>\n",
       "    <tr>\n",
       "      <th>3</th>\n",
       "      <td>2006</td>\n",
       "      <td>18</td>\n",
       "    </tr>\n",
       "    <tr>\n",
       "      <th>4</th>\n",
       "      <td>2014</td>\n",
       "      <td>5</td>\n",
       "    </tr>\n",
       "  </tbody>\n",
       "</table>\n",
       "</div>"
      ],
      "text/plain": [
       "   Year  Count\n",
       "0  2003      5\n",
       "1  2004    124\n",
       "2  2005     42\n",
       "3  2006     18\n",
       "4  2014      5"
      ]
     },
     "execution_count": 9,
     "metadata": {},
     "output_type": "execute_result"
    }
   ],
   "source": [
    "kanye_count = baby[baby['Name'] == 'Kanye'][['Year', 'Count']].groupby('Year').sum().reset_index() # SOLUTION\n",
    "kanye_count"
   ]
  },
  {
   "cell_type": "raw",
   "id": "af79a300-0012-44ed-a11e-da67c616f421",
   "metadata": {},
   "source": [
    "# END SOLUTION"
   ]
  },
  {
   "cell_type": "raw",
   "id": "faaca17f-f33a-4145-803e-bdfad347ea83",
   "metadata": {},
   "source": [
    "# BEGIN TESTS"
   ]
  },
  {
   "cell_type": "code",
   "execution_count": 10,
   "id": "3419349f-6b3f-4bb2-b74d-0e16dcb7193a",
   "metadata": {
    "tags": []
   },
   "outputs": [
    {
     "data": {
      "text/plain": [
       "(5, 2)"
      ]
     },
     "execution_count": 10,
     "metadata": {},
     "output_type": "execute_result"
    }
   ],
   "source": [
    "kanye_count.shape"
   ]
  },
  {
   "cell_type": "code",
   "execution_count": 11,
   "id": "e00f660e-16b9-407b-988f-c270eea1e3cb",
   "metadata": {
    "tags": []
   },
   "outputs": [
    {
     "data": {
      "text/plain": [
       "194"
      ]
     },
     "execution_count": 11,
     "metadata": {},
     "output_type": "execute_result"
    }
   ],
   "source": [
    "np.sum(kanye_count.Count)"
   ]
  },
  {
   "cell_type": "code",
   "execution_count": 12,
   "id": "9f471de7-cd4f-4bde-8058-405e1d41c1ab",
   "metadata": {
    "tags": []
   },
   "outputs": [
    {
     "data": {
      "text/plain": [
       "array([  5,   5,  18,  42, 124])"
      ]
     },
     "execution_count": 12,
     "metadata": {},
     "output_type": "execute_result"
    }
   ],
   "source": [
    "np.sort(kanye_count.Count)"
   ]
  },
  {
   "cell_type": "raw",
   "id": "152727b9-be64-47be-8ce7-305dc20e6189",
   "metadata": {},
   "source": [
    "# END TESTS"
   ]
  },
  {
   "cell_type": "raw",
   "id": "29d8a0a0-ea2b-4ac7-b1f1-9d9f936844ce",
   "metadata": {},
   "source": [
    "# END QUESTION"
   ]
  },
  {
   "cell_type": "raw",
   "id": "02e54541-d32f-4376-b877-b3bdd7353c5d",
   "metadata": {},
   "source": [
    "# BEGIN QUESTION\n",
    "name: q4\n",
    "manual: true"
   ]
  },
  {
   "cell_type": "markdown",
   "id": "b7cef1e3-a2c5-4d36-a772-d16f928db499",
   "metadata": {},
   "source": [
    "**Question 4.** Create a line plot to visualize how the popularity of the name *Kayne* has changed over time. Be sure to give your plot a title and label your axes."
   ]
  },
  {
   "cell_type": "raw",
   "id": "f21e404e-bd74-4d88-855d-4d11ef1f10bd",
   "metadata": {},
   "source": [
    "# BEGIN SOLUTION"
   ]
  },
  {
   "cell_type": "code",
   "execution_count": 13,
   "id": "b0e74a2c-3be2-4545-90d6-c13ed17ef0f3",
   "metadata": {
    "tags": []
   },
   "outputs": [
    {
     "data": {
      "image/png": "[encoded data removed]",
      "text/plain": [
       "<Figure size 640x480 with 1 Axes>"
      ]
     },
     "metadata": {},
     "output_type": "display_data"
    }
   ],
   "source": [
    "# BEGIN SOLUTION NO PROMPT\n",
    "x = kanye_count.Year\n",
    "y = kanye_count.Count\n",
    "plt.plot(x,y);\n",
    "# END SOLUTION\n",
    "\"\"\" # BEGIN PROMPT\n",
    "...\n",
    "\"\"\"; # END PROMPT"
   ]
  },
  {
   "cell_type": "raw",
   "id": "e7ad558b-4213-42b8-8c37-81d81c889fd2",
   "metadata": {},
   "source": [
    "# END SOLUTION"
   ]
  },
  {
   "cell_type": "raw",
   "id": "0b4ea2b5-3b9c-41bb-a625-33553686be0c",
   "metadata": {},
   "source": [
    "# END QUESTION"
   ]
  },
  {
   "cell_type": "raw",
   "id": "05e489d8-adec-42ee-85fd-0abccf640f13",
   "metadata": {},
   "source": [
    "# BEGIN QUESTION\n",
    "name: q5\n",
    "manual: true"
   ]
  },
  {
   "cell_type": "markdown",
   "id": "22c2742c-0cf8-4120-9c09-22a4d066a35f",
   "metadata": {},
   "source": [
    "**Question 5.** What do you notice about this plot? What might be the cause of increases or decreases in the popularity of the name *Kanye*?\n",
    "\n",
    "**Note:** Be sure to mention any information you may have gotten from other sources (make sure you cite your sources)."
   ]
  },
  {
   "cell_type": "raw",
   "id": "fc209228-f620-4f31-8592-bce25a831ef7",
   "metadata": {},
   "source": [
    "# BEGIN SOLUTION"
   ]
  },
  {
   "cell_type": "markdown",
   "id": "f5c2b54c-7bcd-408b-a8a3-7987df6bdb5f",
   "metadata": {},
   "source": [
    "**SOLUTION:** Answers will vary"
   ]
  },
  {
   "cell_type": "raw",
   "id": "d1df43fa-e89a-4caf-b12f-684e011ac18b",
   "metadata": {},
   "source": [
    "# END SOLUTION"
   ]
  },
  {
   "cell_type": "raw",
   "id": "30efadd1-a70d-4b0d-924d-18499acee291",
   "metadata": {},
   "source": [
    "# END QUESTION"
   ]
  },
  {
   "cell_type": "markdown",
   "id": "27fa82e1-b9c5-4f6a-8d03-c15e9ddd1fce",
   "metadata": {},
   "source": [
    "Another cultural phenomena that happened was the \"Karen\" meme. Read the BBC article [What exactly is a \"Karen\" and where did the meme come from?](https://www.bbc.com/news/world-53588201). Then we'll use the `babynames` data set to investigate the change in popularity of the name *Karen*. "
   ]
  },
  {
   "cell_type": "raw",
   "id": "6b41a716-19a8-4b7b-a147-603edf859c7e",
   "metadata": {},
   "source": [
    "# BEGIN QUESTION\n",
    "name: q6\n",
    "manual: true"
   ]
  },
  {
   "cell_type": "markdown",
   "id": "82e9a569-10df-4bed-9e11-e25c732ee5b5",
   "metadata": {},
   "source": [
    "**Question 6.** Create a line plot to visualize how the popularity of the name *Karen* has changed over time. Be sure to give your plot a title and label your axes. "
   ]
  },
  {
   "cell_type": "raw",
   "id": "c1f49b3a-d60d-41b3-8d32-a90e3b1dc9d4",
   "metadata": {},
   "source": [
    "# BEGIN SOLUTION"
   ]
  },
  {
   "cell_type": "code",
   "execution_count": 14,
   "id": "40de9667-f967-43d4-84df-9e9d7d19f27c",
   "metadata": {
    "tags": []
   },
   "outputs": [
    {
     "data": {
      "image/png": "[encoded data removed]",
      "text/plain": [
       "<Figure size 640x480 with 1 Axes>"
      ]
     },
     "metadata": {},
     "output_type": "display_data"
    }
   ],
   "source": [
    "# BEGIN SOLUTION NO PROMPT\n",
    "karen = baby[(baby['Name'] == 'Karen')][['Year', 'Count']].groupby('Year').sum().reset_index()\n",
    "x = karen.Year\n",
    "y = karen.Count\n",
    "plt.plot(x,y);\n",
    "# END SOLUTION\n",
    "\"\"\" # BEGIN PROMPT\n",
    "...\n",
    "\"\"\"; # END PROMPT"
   ]
  },
  {
   "cell_type": "raw",
   "id": "5a94eec5-5bb6-41c8-93a8-f880c17af06c",
   "metadata": {},
   "source": [
    "# END SOLUTION"
   ]
  },
  {
   "cell_type": "raw",
   "id": "ca85e74e-34c6-42a9-892b-e51bc111b2dc",
   "metadata": {},
   "source": [
    "# END QUESTION"
   ]
  },
  {
   "cell_type": "raw",
   "id": "017e033b-a70e-4239-b716-a6eb8d9029e8",
   "metadata": {},
   "source": [
    "# BEGIN QUESTION\n",
    "name: q7\n",
    "manual: true"
   ]
  },
  {
   "cell_type": "markdown",
   "id": "9245b6e7-561b-4c1e-b8a8-ba72fa204f7b",
   "metadata": {},
   "source": [
    "**Question 7.** What do you notice about this plot? What might be the cause of increases or decreases in the popularity of the name *Karen*? \n",
    "\n",
    "**Note:** Be sure to mention any information you may have gotten from other sources (make sure you cite your sources)."
   ]
  },
  {
   "cell_type": "raw",
   "id": "1bed1788-bd7d-49fa-83c2-f1db9b09f175",
   "metadata": {},
   "source": [
    "# BEGIN SOLUTION"
   ]
  },
  {
   "cell_type": "markdown",
   "id": "50e04271-9d61-471a-a814-8b13f40806ab",
   "metadata": {},
   "source": [
    "**SOLUTION:** Answers will vary"
   ]
  },
  {
   "cell_type": "raw",
   "id": "22db1a5b-9934-4403-8dbc-edf8e5a80381",
   "metadata": {},
   "source": [
    "# END SOLUTION"
   ]
  },
  {
   "cell_type": "raw",
   "id": "0b15758a-a7d5-4922-8a60-df7161d79a7b",
   "metadata": {},
   "source": [
    "# END QUESTION"
   ]
  },
  {
   "cell_type": "markdown",
   "id": "43353bef-dc3b-443e-844b-e4f77e36d032",
   "metadata": {},
   "source": [
    "## North Carolina Names"
   ]
  },
  {
   "cell_type": "raw",
   "id": "6de6b104-1a38-4d1f-b08c-2b807a5102ed",
   "metadata": {},
   "source": [
    "# BEGIN QUESTION\n",
    "name: q8"
   ]
  },
  {
   "cell_type": "markdown",
   "id": "b3cd5e01-485d-4e20-b399-5b024ab645e7",
   "metadata": {},
   "source": [
    "**Question 8.** Create a dataframe named `nc` that only contains the names from North Carolina. "
   ]
  },
  {
   "cell_type": "raw",
   "id": "0db4ac18-8860-4894-bbb5-ec6b141741e8",
   "metadata": {},
   "source": [
    "# BEGIN SOLUTION"
   ]
  },
  {
   "cell_type": "code",
   "execution_count": 15,
   "id": "3b20da3b-89cb-4865-a5e8-0ef293e0f695",
   "metadata": {
    "tags": []
   },
   "outputs": [
    {
     "data": {
      "text/html": [
       "<div>\n",
       "<style scoped>\n",
       "    .dataframe tbody tr th:only-of-type {\n",
       "        vertical-align: middle;\n",
       "    }\n",
       "\n",
       "    .dataframe tbody tr th {\n",
       "        vertical-align: top;\n",
       "    }\n",
       "\n",
       "    .dataframe thead th {\n",
       "        text-align: right;\n",
       "    }\n",
       "</style>\n",
       "<table border=\"1\" class=\"dataframe\">\n",
       "  <thead>\n",
       "    <tr style=\"text-align: right;\">\n",
       "      <th></th>\n",
       "      <th>State</th>\n",
       "      <th>Sex</th>\n",
       "      <th>Year</th>\n",
       "      <th>Name</th>\n",
       "      <th>Count</th>\n",
       "    </tr>\n",
       "  </thead>\n",
       "  <tbody>\n",
       "    <tr>\n",
       "      <th>304336</th>\n",
       "      <td>NC</td>\n",
       "      <td>F</td>\n",
       "      <td>1910</td>\n",
       "      <td>Mary</td>\n",
       "      <td>837</td>\n",
       "    </tr>\n",
       "    <tr>\n",
       "      <th>304337</th>\n",
       "      <td>NC</td>\n",
       "      <td>F</td>\n",
       "      <td>1910</td>\n",
       "      <td>Annie</td>\n",
       "      <td>401</td>\n",
       "    </tr>\n",
       "    <tr>\n",
       "      <th>304338</th>\n",
       "      <td>NC</td>\n",
       "      <td>F</td>\n",
       "      <td>1910</td>\n",
       "      <td>Ruth</td>\n",
       "      <td>235</td>\n",
       "    </tr>\n",
       "    <tr>\n",
       "      <th>304339</th>\n",
       "      <td>NC</td>\n",
       "      <td>F</td>\n",
       "      <td>1910</td>\n",
       "      <td>Ethel</td>\n",
       "      <td>199</td>\n",
       "    </tr>\n",
       "    <tr>\n",
       "      <th>304340</th>\n",
       "      <td>NC</td>\n",
       "      <td>F</td>\n",
       "      <td>1910</td>\n",
       "      <td>Elizabeth</td>\n",
       "      <td>191</td>\n",
       "    </tr>\n",
       "  </tbody>\n",
       "</table>\n",
       "</div>"
      ],
      "text/plain": [
       "       State Sex  Year       Name  Count\n",
       "304336    NC   F  1910       Mary    837\n",
       "304337    NC   F  1910      Annie    401\n",
       "304338    NC   F  1910       Ruth    235\n",
       "304339    NC   F  1910      Ethel    199\n",
       "304340    NC   F  1910  Elizabeth    191"
      ]
     },
     "execution_count": 15,
     "metadata": {},
     "output_type": "execute_result"
    }
   ],
   "source": [
    "nc = baby[baby[\"State\"] == \"NC\"] # SOLUTION\n",
    "nc.head()"
   ]
  },
  {
   "cell_type": "raw",
   "id": "72bf8b33-a063-46d4-96c2-ef0190a5f852",
   "metadata": {},
   "source": [
    "# END SOLUTION"
   ]
  },
  {
   "cell_type": "raw",
   "id": "af2abbf3-606f-4a25-a77a-8dce6027ee5f",
   "metadata": {},
   "source": [
    "# BEGIN TESTS"
   ]
  },
  {
   "cell_type": "code",
   "execution_count": 16,
   "id": "a1a3740d-038b-453e-b9f2-85589354e036",
   "metadata": {
    "tags": []
   },
   "outputs": [
    {
     "data": {
      "text/plain": [
       "(175577, 5)"
      ]
     },
     "execution_count": 16,
     "metadata": {},
     "output_type": "execute_result"
    }
   ],
   "source": [
    "nc.shape"
   ]
  },
  {
   "cell_type": "code",
   "execution_count": 17,
   "id": "59318b3a-274b-4cb2-bcf5-b1944703898d",
   "metadata": {
    "tags": []
   },
   "outputs": [
    {
     "data": {
      "text/plain": [
       "1"
      ]
     },
     "execution_count": 17,
     "metadata": {},
     "output_type": "execute_result"
    }
   ],
   "source": [
    "len(np.unique(nc.State))"
   ]
  },
  {
   "cell_type": "code",
   "execution_count": 18,
   "id": "08c59782-7da4-42c2-a8c3-f6b91799e937",
   "metadata": {
    "tags": []
   },
   "outputs": [
    {
     "data": {
      "text/plain": [
       "'NC'"
      ]
     },
     "execution_count": 18,
     "metadata": {},
     "output_type": "execute_result"
    }
   ],
   "source": [
    "np.unique(nc.State)[0]"
   ]
  },
  {
   "cell_type": "raw",
   "id": "9091d6c5-6b0f-4969-89d6-45d07274c51c",
   "metadata": {},
   "source": [
    "# END TESTS"
   ]
  },
  {
   "cell_type": "raw",
   "id": "baeeb33f-40d4-4518-ae3f-9c059447c6f1",
   "metadata": {},
   "source": [
    "# END QUESTION"
   ]
  },
  {
   "cell_type": "markdown",
   "id": "904048b2-4290-4851-aea1-dd829c864fd9",
   "metadata": {},
   "source": [
    "To count the number of instances of each unique value in a `Series`, we can use the `value_counts()` [method](https://pandas.pydata.org/pandas-docs/stable/generated/pandas.Series.value_counts.html) as `df[\"col_name\"].value_counts()`. \n",
    "\n",
    "**Note:** We are not computing the number of babies but instead the number of names (rows in the table) for each year.\n",
    "\n",
    "Run the cell below."
   ]
  },
  {
   "cell_type": "code",
   "execution_count": 19,
   "id": "cd30c903-4ef7-4b18-8acc-b24e05174524",
   "metadata": {
    "tags": []
   },
   "outputs": [
    {
     "data": {
      "text/plain": [
       "1910     576\n",
       "1911     584\n",
       "1912     758\n",
       "1913     798\n",
       "1914     948\n",
       "        ... \n",
       "2008    2907\n",
       "2017    2937\n",
       "2009    2945\n",
       "2018    2951\n",
       "2019    3014\n",
       "Name: Year, Length: 110, dtype: int64"
      ]
     },
     "execution_count": 19,
     "metadata": {},
     "output_type": "execute_result"
    }
   ],
   "source": [
    "nc[\"Year\"].value_counts().sort_values()"
   ]
  },
  {
   "cell_type": "raw",
   "id": "bff42e87-0ac8-4f82-b108-d72aa4355df1",
   "metadata": {},
   "source": [
    "# BEGIN QUESTION\n",
    "name: q9\n",
    "manual: true"
   ]
  },
  {
   "cell_type": "markdown",
   "id": "0adfbc14-ae7d-47cf-95ae-30e5d14ef941",
   "metadata": {},
   "source": [
    "**Question 9.** As the years go by, there seems to be an increase in the variety of names given to babies born in North Carolina. Why do you think this is happening?\n",
    "\n",
    "**Note:** Be sure to mention any information you may have gotten from other sources (make sure you cite your sources)."
   ]
  },
  {
   "cell_type": "raw",
   "id": "00e86997-d2cd-45fd-86af-97bf525c0988",
   "metadata": {},
   "source": [
    "# BEGIN SOLUTION"
   ]
  },
  {
   "cell_type": "markdown",
   "id": "f4bc7019-9ad4-4a45-845a-962be18982ea",
   "metadata": {},
   "source": [
    "**SOLUTION:** Answers will vary"
   ]
  },
  {
   "cell_type": "raw",
   "id": "89965645-8a80-42a8-93a8-3f47d274e496",
   "metadata": {},
   "source": [
    "# END SOLUTION"
   ]
  },
  {
   "cell_type": "raw",
   "id": "df9e31ec-b8cc-44c2-9e7e-769327e20c39",
   "metadata": {},
   "source": [
    "# END QUESTION"
   ]
  },
  {
   "cell_type": "markdown",
   "id": "c50084d2-2621-42ff-a69b-9e7e3348b44d",
   "metadata": {},
   "source": [
    "I wonder is this trend the same for male and female baby names. Are we more likely to be creative with male names or female names? Let's find out."
   ]
  },
  {
   "cell_type": "raw",
   "id": "190cfec3-7f6e-4a65-bc35-cc3dbfd96a71",
   "metadata": {},
   "source": [
    "# BEGIN QUESTION\n",
    "name: q10\n",
    "manual: true"
   ]
  },
  {
   "cell_type": "markdown",
   "id": "4447f78b-d42c-41f5-a7f3-c81c0de130fa",
   "metadata": {},
   "source": [
    "**Question 10.** Count the number of different names for each `Sex` in  the `nc` dataframe."
   ]
  },
  {
   "cell_type": "raw",
   "id": "f5b58fcf-89f8-4f0b-bc41-b13db7a5545e",
   "metadata": {},
   "source": [
    "# BEGIN SOLUTION"
   ]
  },
  {
   "cell_type": "code",
   "execution_count": 20,
   "id": "c09afb52-c305-4f4b-b9d0-3854ad19114b",
   "metadata": {
    "tags": []
   },
   "outputs": [
    {
     "data": {
      "text/plain": [
       "F    95653\n",
       "M    79924\n",
       "Name: Sex, dtype: int64"
      ]
     },
     "execution_count": 20,
     "metadata": {},
     "output_type": "execute_result"
    }
   ],
   "source": [
    "nc[\"Sex\"].value_counts() # SOLUTION"
   ]
  },
  {
   "cell_type": "raw",
   "id": "957d6972-864e-4cc6-a9b2-0350002e9c0c",
   "metadata": {},
   "source": [
    "# END SOLUTION"
   ]
  },
  {
   "cell_type": "raw",
   "id": "ac6b4cb6-7d54-4647-b937-87adf2dc9db8",
   "metadata": {},
   "source": [
    "# END QUESTION"
   ]
  },
  {
   "cell_type": "raw",
   "id": "3176eddf-1ff4-44c3-8598-43909e661878",
   "metadata": {
    "tags": []
   },
   "source": [
    "# BEGIN QUESTION\n",
    "name: q11\n",
    "manual: true"
   ]
  },
  {
   "cell_type": "markdown",
   "id": "98af7bea-2c62-49c8-8438-6651e3bc2bd8",
   "metadata": {},
   "source": [
    "**Question 11.** Based on your results from **Question 10**, do you think we are more likely to be creative with male names or female names?. Why do you think this is the case?\n",
    "\n",
    "**Note:** Be sure to mention any information you may have gotten from other sources (make sure you cite your sources)."
   ]
  },
  {
   "cell_type": "raw",
   "id": "5a5ec473-34ec-41a0-9c82-6ed22d80ba22",
   "metadata": {},
   "source": [
    "# BEGIN SOLUTION"
   ]
  },
  {
   "cell_type": "markdown",
   "id": "0c6512dd-7662-4580-bdc7-d49d8f2d1ea3",
   "metadata": {},
   "source": [
    "**SOLUTION:** Answers will vary"
   ]
  },
  {
   "cell_type": "raw",
   "id": "ce4d9eb2-85c9-49e3-b31a-6208e31e53c5",
   "metadata": {},
   "source": [
    "# END SOLUTION"
   ]
  },
  {
   "cell_type": "raw",
   "id": "b64cf872-e010-4b64-afc0-a40ed81484dd",
   "metadata": {},
   "source": [
    "# END QUESTION"
   ]
  },
  {
   "cell_type": "markdown",
   "id": "4474c9a6-7774-4190-98f6-0e3d54b0bb68",
   "metadata": {},
   "source": [
    "## Groupby\n",
    "\n",
    "Before we jump into using the [`groupby`](https://pandas.pydata.org/pandas-docs/stable/reference/api/pandas.DataFrame.groupby.html) function in Pandas, let's recap how grouping works in general for tabular data through a guided set of questions based on a small toy dataset of movies and genres. \n",
    "\n",
    "**Note:** If you want to see a visual of how grouping of data works, here is a link to an animation [Groupby Animation](http://www.ds100.org/sp18/assets/lectures/lec03/03-groupby_and_pivot.pdf)\n",
    "\n",
    "**Problem Setting:** In the summer of 2018, there were a lot of good and bad movies that came out. Below is a dataframe with 5 columns: name of the movie as a `string`, the genre of the movie as a `string`, the first name of the director of the movie as a `string`, the average rating out of 10 on Rotten Tomatoes as an `integer`, and the total gross revenue made by the movie as an `integer`. The point of the guided questions below is to understand how the grouping of data works in general, **not** how grouping works in code. \n",
    "\n",
    "Below is the `movies` dataframe we are using, imported from the `movies.csv` file.\n",
    "\n",
    "Run the cell below."
   ]
  },
  {
   "cell_type": "code",
   "execution_count": 21,
   "id": "7bea0acb-ef72-4ac9-86c9-6ff235017a98",
   "metadata": {
    "tags": []
   },
   "outputs": [
    {
     "data": {
      "text/html": [
       "<div>\n",
       "<style scoped>\n",
       "    .dataframe tbody tr th:only-of-type {\n",
       "        vertical-align: middle;\n",
       "    }\n",
       "\n",
       "    .dataframe tbody tr th {\n",
       "        vertical-align: top;\n",
       "    }\n",
       "\n",
       "    .dataframe thead th {\n",
       "        text-align: right;\n",
       "    }\n",
       "</style>\n",
       "<table border=\"1\" class=\"dataframe\">\n",
       "  <thead>\n",
       "    <tr style=\"text-align: right;\">\n",
       "      <th></th>\n",
       "      <th>director</th>\n",
       "      <th>genre</th>\n",
       "      <th>movie</th>\n",
       "      <th>rating</th>\n",
       "      <th>revenue</th>\n",
       "    </tr>\n",
       "  </thead>\n",
       "  <tbody>\n",
       "    <tr>\n",
       "      <th>0</th>\n",
       "      <td>David</td>\n",
       "      <td>Action &amp; Adventure</td>\n",
       "      <td>Deadpool 2</td>\n",
       "      <td>7</td>\n",
       "      <td>318344544</td>\n",
       "    </tr>\n",
       "    <tr>\n",
       "      <th>1</th>\n",
       "      <td>Bill</td>\n",
       "      <td>Comedy</td>\n",
       "      <td>Book Club</td>\n",
       "      <td>5</td>\n",
       "      <td>68566296</td>\n",
       "    </tr>\n",
       "    <tr>\n",
       "      <th>2</th>\n",
       "      <td>Ron</td>\n",
       "      <td>Science Fiction &amp; Fantasy</td>\n",
       "      <td>Solo: A Star Wars Story</td>\n",
       "      <td>6</td>\n",
       "      <td>213476293</td>\n",
       "    </tr>\n",
       "    <tr>\n",
       "      <th>3</th>\n",
       "      <td>Baltasar</td>\n",
       "      <td>Drama</td>\n",
       "      <td>Adrift</td>\n",
       "      <td>6</td>\n",
       "      <td>31445012</td>\n",
       "    </tr>\n",
       "    <tr>\n",
       "      <th>4</th>\n",
       "      <td>Bart</td>\n",
       "      <td>Drama</td>\n",
       "      <td>American Animals</td>\n",
       "      <td>6</td>\n",
       "      <td>2847319</td>\n",
       "    </tr>\n",
       "  </tbody>\n",
       "</table>\n",
       "</div>"
      ],
      "text/plain": [
       "   director                      genre                    movie  rating  \\\n",
       "0     David         Action & Adventure               Deadpool 2       7   \n",
       "1      Bill                     Comedy                Book Club       5   \n",
       "2       Ron  Science Fiction & Fantasy  Solo: A Star Wars Story       6   \n",
       "3  Baltasar                      Drama                   Adrift       6   \n",
       "4      Bart                      Drama         American Animals       6   \n",
       "\n",
       "     revenue  \n",
       "0  318344544  \n",
       "1   68566296  \n",
       "2  213476293  \n",
       "3   31445012  \n",
       "4    2847319  "
      ]
     },
     "execution_count": 21,
     "metadata": {},
     "output_type": "execute_result"
    }
   ],
   "source": [
    "movies = pd.read_csv('data/movies.csv')\n",
    "movies.head()"
   ]
  },
  {
   "cell_type": "markdown",
   "id": "ffd16606-150f-4561-a909-91e616925805",
   "metadata": {},
   "source": [
    "If we grouped the `movies` dataframe above by `genre`, how many groups would be in the output and what would be the groups? "
   ]
  },
  {
   "cell_type": "raw",
   "id": "9484c05d-e89b-4883-92f0-36ff263d18d9",
   "metadata": {
    "tags": []
   },
   "source": [
    "# BEGIN QUESTION\n",
    "name: q12"
   ]
  },
  {
   "cell_type": "markdown",
   "id": "5a25466b-5f34-4839-a643-d2e4a5ecd59a",
   "metadata": {},
   "source": [
    "**Question 12.**  Assign `num_groups` to the number of groups created and fill in `genre_list` as a list containing the names of genres as strings that represent the groups. Make sure your list is sorted."
   ]
  },
  {
   "cell_type": "raw",
   "id": "bd4213c4-e42e-4efe-8816-37a4ad2810ea",
   "metadata": {},
   "source": [
    "# BEGIN SOLUTION"
   ]
  },
  {
   "cell_type": "code",
   "execution_count": 22,
   "id": "2450bced-bc11-4168-b30f-957a77c4d557",
   "metadata": {
    "tags": []
   },
   "outputs": [],
   "source": [
    "# BEGIN SOLUTION NO PROMPT\n",
    "grouped_movies = movies.groupby(\"genre\").count()\n",
    "num_groups = len(grouped_movies)\n",
    "genre_list = list(grouped_movies.index)\n",
    "# END SOLUTION\n",
    "\"\"\" # BEGIN PROMPT\n",
    "...\n",
    "num_groups = ...\n",
    "genre_list = ...\n",
    "\"\"\"; # END PROMPT"
   ]
  },
  {
   "cell_type": "raw",
   "id": "3f7fa7e8-0211-4112-8901-0fab7132b67d",
   "metadata": {},
   "source": [
    "# END SOLUTION"
   ]
  },
  {
   "cell_type": "raw",
   "id": "8aa76268-f908-4dec-9abb-55fd187ea6d6",
   "metadata": {},
   "source": [
    "# BEGIN TESTS"
   ]
  },
  {
   "cell_type": "code",
   "execution_count": 23,
   "id": "c6acf129-8ef1-4573-9426-a9818d04b461",
   "metadata": {
    "tags": []
   },
   "outputs": [
    {
     "data": {
      "text/plain": [
       "True"
      ]
     },
     "execution_count": 23,
     "metadata": {},
     "output_type": "execute_result"
    }
   ],
   "source": [
    "num_groups == 6"
   ]
  },
  {
   "cell_type": "code",
   "execution_count": 24,
   "id": "8c8c013e-cba0-49a0-9917-3c580d6cecb4",
   "metadata": {
    "tags": []
   },
   "outputs": [
    {
     "data": {
      "text/plain": [
       "True"
      ]
     },
     "execution_count": 24,
     "metadata": {},
     "output_type": "execute_result"
    }
   ],
   "source": [
    "isinstance(genre_list, list)"
   ]
  },
  {
   "cell_type": "code",
   "execution_count": 25,
   "id": "85f0fe84-050f-40af-9e73-cfb83add0972",
   "metadata": {
    "tags": []
   },
   "outputs": [
    {
     "data": {
      "text/plain": [
       "True"
      ]
     },
     "execution_count": 25,
     "metadata": {},
     "output_type": "execute_result"
    }
   ],
   "source": [
    "genre_list == ['Action & Adventure', 'Animation', 'Comedy', 'Drama', 'Horror', 'Science Fiction & Fantasy']"
   ]
  },
  {
   "cell_type": "raw",
   "id": "87b2d8d2-d1ca-446b-a084-60871a482f19",
   "metadata": {},
   "source": [
    "# END TESTS"
   ]
  },
  {
   "cell_type": "raw",
   "id": "b3d6203d-c5aa-454d-a82e-8da2ef5f5214",
   "metadata": {},
   "source": [
    "# END QUESTION"
   ]
  },
  {
   "cell_type": "raw",
   "id": "6fdd4112-ec67-4475-b79a-3ee70467379b",
   "metadata": {
    "tags": []
   },
   "source": [
    "# BEGIN QUESTION\n",
    "name: q13"
   ]
  },
  {
   "cell_type": "markdown",
   "id": "a195a1b6-52ba-4878-823f-2213283f02c1",
   "metadata": {},
   "source": [
    "**Question 13.**  Whenever we group tabular data, it's usually the case that we need to aggregate values from the ungrouped column(s). If we were to group the `movies` dataframe above by `genre`, which column(s) in the `movies` dataframe would it make sense to aggregate if we were interested in finding how well each genre did in the eyes of people? Fill in `agg_cols` with the column name(s) as a list. Make sure your list is sorted alphabetically."
   ]
  },
  {
   "cell_type": "raw",
   "id": "2e8c0ffc-52b4-4fc9-aa82-8253d949f67f",
   "metadata": {},
   "source": [
    "# BEGIN SOLUTION"
   ]
  },
  {
   "cell_type": "code",
   "execution_count": 26,
   "id": "f9f1aa15-7ab3-4a9c-8a57-f8fe42488e30",
   "metadata": {
    "tags": []
   },
   "outputs": [
    {
     "data": {
      "text/plain": [
       "['rating', 'revenue']"
      ]
     },
     "execution_count": 26,
     "metadata": {},
     "output_type": "execute_result"
    }
   ],
   "source": [
    "agg_cols = [\"rating\", \"revenue\"] # SOLUTION\n",
    "agg_cols"
   ]
  },
  {
   "cell_type": "raw",
   "id": "b041fc05-5efb-49de-8781-6678402a45e5",
   "metadata": {},
   "source": [
    "# END SOLUTION"
   ]
  },
  {
   "cell_type": "raw",
   "id": "afb13f27-8076-4b2e-a2ea-cf16dd011532",
   "metadata": {},
   "source": [
    "# BEGIN TESTS"
   ]
  },
  {
   "cell_type": "code",
   "execution_count": 27,
   "id": "5f9a04d7-1520-49a3-83da-bed2c08decd2",
   "metadata": {
    "tags": []
   },
   "outputs": [
    {
     "data": {
      "text/plain": [
       "2"
      ]
     },
     "execution_count": 27,
     "metadata": {},
     "output_type": "execute_result"
    }
   ],
   "source": [
    "len(agg_cols)"
   ]
  },
  {
   "cell_type": "code",
   "execution_count": 28,
   "id": "400b437c-ec0a-4883-9d93-01bc2ecf1b8d",
   "metadata": {
    "tags": []
   },
   "outputs": [
    {
     "data": {
      "text/plain": [
       "True"
      ]
     },
     "execution_count": 28,
     "metadata": {},
     "output_type": "execute_result"
    }
   ],
   "source": [
    "isinstance(agg_cols, list)"
   ]
  },
  {
   "cell_type": "code",
   "execution_count": 29,
   "id": "33287de9-3fb3-43bb-b764-e856f320adc3",
   "metadata": {
    "tags": []
   },
   "outputs": [
    {
     "data": {
      "text/plain": [
       "True"
      ]
     },
     "execution_count": 29,
     "metadata": {},
     "output_type": "execute_result"
    }
   ],
   "source": [
    "agg_cols == [\"rating\", \"revenue\"]"
   ]
  },
  {
   "cell_type": "raw",
   "id": "8c8cd484-b208-408f-85f5-160de063e082",
   "metadata": {},
   "source": [
    "# END TESTS"
   ]
  },
  {
   "cell_type": "raw",
   "id": "50426c0b-bc60-45c8-ba28-c170a0c87351",
   "metadata": {},
   "source": [
    "# END QUESTION"
   ]
  },
  {
   "cell_type": "markdown",
   "id": "5de5e332-97e1-4ad8-956c-4a3abcfee0c3",
   "metadata": {},
   "source": [
    "Now, let's see `groupby` in action, instead of keeping everything abstract. To aggregate data in Pandas, we use the `.groupby()` [function](https://pandas.pydata.org/pandas-docs/stable/reference/api/pandas.DataFrame.groupby.html). \n",
    "\n",
    "The code below will group the `movies` dataframe by `genre` and find the average revenue and rating for each genre.\n",
    "\n",
    "Run the cell below."
   ]
  },
  {
   "cell_type": "code",
   "execution_count": 30,
   "id": "7d683403-9482-4cf9-b87a-ba07a008df37",
   "metadata": {
    "tags": []
   },
   "outputs": [
    {
     "data": {
      "text/html": [
       "<div>\n",
       "<style scoped>\n",
       "    .dataframe tbody tr th:only-of-type {\n",
       "        vertical-align: middle;\n",
       "    }\n",
       "\n",
       "    .dataframe tbody tr th {\n",
       "        vertical-align: top;\n",
       "    }\n",
       "\n",
       "    .dataframe thead th {\n",
       "        text-align: right;\n",
       "    }\n",
       "</style>\n",
       "<table border=\"1\" class=\"dataframe\">\n",
       "  <thead>\n",
       "    <tr style=\"text-align: right;\">\n",
       "      <th></th>\n",
       "      <th>rating</th>\n",
       "      <th>revenue</th>\n",
       "    </tr>\n",
       "    <tr>\n",
       "      <th>genre</th>\n",
       "      <th></th>\n",
       "      <th></th>\n",
       "    </tr>\n",
       "  </thead>\n",
       "  <tbody>\n",
       "    <tr>\n",
       "      <th>Action &amp; Adventure</th>\n",
       "      <td>6.333333</td>\n",
       "      <td>153569934.5</td>\n",
       "    </tr>\n",
       "    <tr>\n",
       "      <th>Animation</th>\n",
       "      <td>5.000000</td>\n",
       "      <td>374408165.0</td>\n",
       "    </tr>\n",
       "    <tr>\n",
       "      <th>Comedy</th>\n",
       "      <td>6.000000</td>\n",
       "      <td>56719237.4</td>\n",
       "    </tr>\n",
       "    <tr>\n",
       "      <th>Drama</th>\n",
       "      <td>6.000000</td>\n",
       "      <td>17146165.5</td>\n",
       "    </tr>\n",
       "    <tr>\n",
       "      <th>Horror</th>\n",
       "      <td>7.000000</td>\n",
       "      <td>68765655.0</td>\n",
       "    </tr>\n",
       "    <tr>\n",
       "      <th>Science Fiction &amp; Fantasy</th>\n",
       "      <td>6.000000</td>\n",
       "      <td>312674899.0</td>\n",
       "    </tr>\n",
       "  </tbody>\n",
       "</table>\n",
       "</div>"
      ],
      "text/plain": [
       "                             rating      revenue\n",
       "genre                                           \n",
       "Action & Adventure         6.333333  153569934.5\n",
       "Animation                  5.000000  374408165.0\n",
       "Comedy                     6.000000   56719237.4\n",
       "Drama                      6.000000   17146165.5\n",
       "Horror                     7.000000   68765655.0\n",
       "Science Fiction & Fantasy  6.000000  312674899.0"
      ]
     },
     "execution_count": 30,
     "metadata": {},
     "output_type": "execute_result"
    }
   ],
   "source": [
    "movies.loc[:, ['genre', 'rating', 'revenue']].groupby('genre').mean()"
   ]
  },
  {
   "cell_type": "markdown",
   "id": "bfc5baad-dec2-4e57-8300-cc7833ae7850",
   "metadata": {},
   "source": [
    "Notice that the index of the dataframe is genre. If we wanted to change it back to integers (the default index), we can use the `.reset_index()` method."
   ]
  },
  {
   "cell_type": "code",
   "execution_count": 31,
   "id": "332f6848-7ba0-45c1-a393-4e30f3449fbb",
   "metadata": {
    "tags": []
   },
   "outputs": [
    {
     "data": {
      "text/html": [
       "<div>\n",
       "<style scoped>\n",
       "    .dataframe tbody tr th:only-of-type {\n",
       "        vertical-align: middle;\n",
       "    }\n",
       "\n",
       "    .dataframe tbody tr th {\n",
       "        vertical-align: top;\n",
       "    }\n",
       "\n",
       "    .dataframe thead th {\n",
       "        text-align: right;\n",
       "    }\n",
       "</style>\n",
       "<table border=\"1\" class=\"dataframe\">\n",
       "  <thead>\n",
       "    <tr style=\"text-align: right;\">\n",
       "      <th></th>\n",
       "      <th>genre</th>\n",
       "      <th>rating</th>\n",
       "      <th>revenue</th>\n",
       "    </tr>\n",
       "  </thead>\n",
       "  <tbody>\n",
       "    <tr>\n",
       "      <th>0</th>\n",
       "      <td>Action &amp; Adventure</td>\n",
       "      <td>6.333333</td>\n",
       "      <td>153569934.5</td>\n",
       "    </tr>\n",
       "    <tr>\n",
       "      <th>1</th>\n",
       "      <td>Animation</td>\n",
       "      <td>5.000000</td>\n",
       "      <td>374408165.0</td>\n",
       "    </tr>\n",
       "    <tr>\n",
       "      <th>2</th>\n",
       "      <td>Comedy</td>\n",
       "      <td>6.000000</td>\n",
       "      <td>56719237.4</td>\n",
       "    </tr>\n",
       "    <tr>\n",
       "      <th>3</th>\n",
       "      <td>Drama</td>\n",
       "      <td>6.000000</td>\n",
       "      <td>17146165.5</td>\n",
       "    </tr>\n",
       "    <tr>\n",
       "      <th>4</th>\n",
       "      <td>Horror</td>\n",
       "      <td>7.000000</td>\n",
       "      <td>68765655.0</td>\n",
       "    </tr>\n",
       "    <tr>\n",
       "      <th>5</th>\n",
       "      <td>Science Fiction &amp; Fantasy</td>\n",
       "      <td>6.000000</td>\n",
       "      <td>312674899.0</td>\n",
       "    </tr>\n",
       "  </tbody>\n",
       "</table>\n",
       "</div>"
      ],
      "text/plain": [
       "                       genre    rating      revenue\n",
       "0         Action & Adventure  6.333333  153569934.5\n",
       "1                  Animation  5.000000  374408165.0\n",
       "2                     Comedy  6.000000   56719237.4\n",
       "3                      Drama  6.000000   17146165.5\n",
       "4                     Horror  7.000000   68765655.0\n",
       "5  Science Fiction & Fantasy  6.000000  312674899.0"
      ]
     },
     "execution_count": 31,
     "metadata": {},
     "output_type": "execute_result"
    }
   ],
   "source": [
    "movies.loc[:, ['genre', 'rating', 'revenue']].groupby('genre').mean().reset_index()"
   ]
  },
  {
   "cell_type": "raw",
   "id": "9ea75cf4-f1ff-4c5b-90fc-b15eb42a11b3",
   "metadata": {
    "tags": []
   },
   "source": [
    "# BEGIN QUESTION\n",
    "name: q14"
   ]
  },
  {
   "cell_type": "markdown",
   "id": "f27b6cad-ba74-4979-be9c-0696f6ccfc04",
   "metadata": {},
   "source": [
    "**Question 14.** Let's move back to baby names and specifically, the `nc` dataframe. Find the sum of `Count` for each `Name` in the `nc` table. Make sure the dataframe is sorted by the **Name** column.\n",
    "\n",
    "For example, the dataframe should look like this\n",
    "\n",
    "| | Name | Count |\n",
    "|-|------|-------:|\n",
    "|**0**|Aaden|132|\n",
    "|**1**|Aadhya|74|\n",
    "|**2**|Aadya|33|\n",
    "|**3**|Aahana|6|\n",
    "|**4**|Aaiden|5|\n",
    "\n",
    "**Note:** In this question we are now computing the number of registered babies with a given name."
   ]
  },
  {
   "cell_type": "raw",
   "id": "096571b4-d3e0-42b9-9bef-fc6f4e4f5dd1",
   "metadata": {},
   "source": [
    "# BEGIN SOLUTION"
   ]
  },
  {
   "cell_type": "code",
   "execution_count": 32,
   "id": "3a502ace-2549-4f9b-ad97-d0bb07e8a29f",
   "metadata": {
    "tags": []
   },
   "outputs": [
    {
     "data": {
      "text/html": [
       "<div>\n",
       "<style scoped>\n",
       "    .dataframe tbody tr th:only-of-type {\n",
       "        vertical-align: middle;\n",
       "    }\n",
       "\n",
       "    .dataframe tbody tr th {\n",
       "        vertical-align: top;\n",
       "    }\n",
       "\n",
       "    .dataframe thead th {\n",
       "        text-align: right;\n",
       "    }\n",
       "</style>\n",
       "<table border=\"1\" class=\"dataframe\">\n",
       "  <thead>\n",
       "    <tr style=\"text-align: right;\">\n",
       "      <th></th>\n",
       "      <th>Name</th>\n",
       "      <th>Count</th>\n",
       "    </tr>\n",
       "  </thead>\n",
       "  <tbody>\n",
       "    <tr>\n",
       "      <th>0</th>\n",
       "      <td>Aaden</td>\n",
       "      <td>132</td>\n",
       "    </tr>\n",
       "    <tr>\n",
       "      <th>1</th>\n",
       "      <td>Aadhya</td>\n",
       "      <td>74</td>\n",
       "    </tr>\n",
       "    <tr>\n",
       "      <th>2</th>\n",
       "      <td>Aadya</td>\n",
       "      <td>33</td>\n",
       "    </tr>\n",
       "    <tr>\n",
       "      <th>3</th>\n",
       "      <td>Aahana</td>\n",
       "      <td>6</td>\n",
       "    </tr>\n",
       "    <tr>\n",
       "      <th>4</th>\n",
       "      <td>Aaiden</td>\n",
       "      <td>5</td>\n",
       "    </tr>\n",
       "  </tbody>\n",
       "</table>\n",
       "</div>"
      ],
      "text/plain": [
       "     Name  Count\n",
       "0   Aaden    132\n",
       "1  Aadhya     74\n",
       "2   Aadya     33\n",
       "3  Aahana      6\n",
       "4  Aaiden      5"
      ]
     },
     "execution_count": 32,
     "metadata": {},
     "output_type": "execute_result"
    }
   ],
   "source": [
    "nc_name_count = nc.groupby(\"Name\")[\"Count\"].sum().reset_index() # SOLUTION\n",
    "nc_name_count.head()"
   ]
  },
  {
   "cell_type": "raw",
   "id": "5f1c60b5-b14d-4421-97dc-e2cd676cb0e0",
   "metadata": {},
   "source": [
    "# END SOLUTION"
   ]
  },
  {
   "cell_type": "raw",
   "id": "457c3c20-58fb-457d-9ff4-aa73d4c0a6b5",
   "metadata": {},
   "source": [
    "# BEGIN TESTS"
   ]
  },
  {
   "cell_type": "code",
   "execution_count": 33,
   "id": "04b396c7-a2c9-4cd6-8a7a-c2a8cc796a5b",
   "metadata": {
    "tags": []
   },
   "outputs": [
    {
     "data": {
      "text/plain": [
       "(9128, 2)"
      ]
     },
     "execution_count": 33,
     "metadata": {},
     "output_type": "execute_result"
    }
   ],
   "source": [
    "nc_name_count.shape"
   ]
  },
  {
   "cell_type": "code",
   "execution_count": 34,
   "id": "c53f5134-9066-420b-a2a6-f5f4838daf69",
   "metadata": {
    "tags": []
   },
   "outputs": [
    {
     "data": {
      "text/plain": [
       "True"
      ]
     },
     "execution_count": 34,
     "metadata": {},
     "output_type": "execute_result"
    }
   ],
   "source": [
    "isinstance(nc_name_count, pd.DataFrame)"
   ]
  },
  {
   "cell_type": "code",
   "execution_count": 35,
   "id": "cb622d5f-bbd7-4121-b411-48368b146632",
   "metadata": {
    "tags": []
   },
   "outputs": [
    {
     "data": {
      "text/plain": [
       "9019830"
      ]
     },
     "execution_count": 35,
     "metadata": {},
     "output_type": "execute_result"
    }
   ],
   "source": [
    "np.sum(nc_name_count.Count)"
   ]
  },
  {
   "cell_type": "code",
   "execution_count": 36,
   "id": "16ef7631-37dd-4336-85de-afc1b4aac24d",
   "metadata": {
    "tags": []
   },
   "outputs": [
    {
     "data": {
      "text/plain": [
       "'Zyquan'"
      ]
     },
     "execution_count": 36,
     "metadata": {},
     "output_type": "execute_result"
    }
   ],
   "source": [
    "nc_name_count.Name[nc_name_count.shape[0]-1]"
   ]
  },
  {
   "cell_type": "code",
   "execution_count": 37,
   "id": "4a30c54c-b5c1-4042-a9a9-ac5471afe0fc",
   "metadata": {
    "tags": []
   },
   "outputs": [
    {
     "data": {
      "text/plain": [
       "'Kamdyn'"
      ]
     },
     "execution_count": 37,
     "metadata": {},
     "output_type": "execute_result"
    }
   ],
   "source": [
    "nc_name_count.Name[nc_name_count.shape[0]/2]"
   ]
  },
  {
   "cell_type": "raw",
   "id": "0f2dbdeb-2709-43a6-86df-09a3486ef27d",
   "metadata": {},
   "source": [
    "# END TESTS"
   ]
  },
  {
   "cell_type": "raw",
   "id": "1506cf63-81b0-4f57-979b-837786685df7",
   "metadata": {},
   "source": [
    "# END QUESTION"
   ]
  },
  {
   "cell_type": "markdown",
   "id": "97de798c-9f1c-4166-aba3-a7d9a1b8a878",
   "metadata": {},
   "source": [
    "## Grouping Multiple Columns\n",
    "\n",
    "Let's move back to the `movies` dataframe. \n",
    "\n",
    "Which of the following lines of code \n",
    "\n",
    "1. `movies.groupby('revenue')[['genre', 'rating']].mean()`\n",
    "\n",
    "2. `movies.groupby(['genre', 'rating'])['revenue'].mean()`\n",
    "\n",
    "3. `pd.pivot_table(index = 'rating', columns = 'genre', values = 'revenue', aggfunc = np.mean)`\n",
    "\n",
    "4. `pd.pivot_table(movies, index = 'genre', columns = 'rating', values = 'revenue', aggfunc = np.mean)`\n",
    "\n",
    "\n",
    "will output the following dataframe? \n",
    "\n",
    "<table border=\"1\" class=\"dataframe\">\n",
    "  <thead>\n",
    "    <tr style=\"text-align: right;\">\n",
    "      <th>rating</th>\n",
    "      <th>5</th>\n",
    "      <th>6</th>\n",
    "      <th>7</th>\n",
    "      <th>8</th>\n",
    "    </tr>\n",
    "    <tr>\n",
    "      <th>genre</th>\n",
    "      <th></th>\n",
    "      <th></th>\n",
    "      <th></th>\n",
    "      <th></th>\n",
    "    </tr>\n",
    "  </thead>\n",
    "  <tbody>\n",
    "    <tr>\n",
    "      <th>Action &amp; Adventure</th>\n",
    "      <td>208681866.0</td>\n",
    "      <td>129228350.0</td>\n",
    "      <td>318344544.0</td>\n",
    "      <td>6708147.0</td>\n",
    "    </tr>\n",
    "    <tr>\n",
    "      <th>Animation</th>\n",
    "      <td>374408165.0</td>\n",
    "      <td>NaN</td>\n",
    "      <td>NaN</td>\n",
    "      <td>NaN</td>\n",
    "    </tr>\n",
    "    <tr>\n",
    "      <th>Comedy</th>\n",
    "      <td>55383976.0</td>\n",
    "      <td>30561590.0</td>\n",
    "      <td>NaN</td>\n",
    "      <td>111705055.0</td>\n",
    "    </tr>\n",
    "    <tr>\n",
    "      <th>Drama</th>\n",
    "      <td>NaN</td>\n",
    "      <td>17146165.5</td>\n",
    "      <td>NaN</td>\n",
    "      <td>NaN</td>\n",
    "    </tr>\n",
    "    <tr>\n",
    "      <th>Horror</th>\n",
    "      <td>NaN</td>\n",
    "      <td>NaN</td>\n",
    "      <td>68765655.0</td>\n",
    "      <td>NaN</td>\n",
    "    </tr>\n",
    "    <tr>\n",
    "      <th>Science Fiction &amp; Fantasy</th>\n",
    "      <td>NaN</td>\n",
    "      <td>312674899.0</td>\n",
    "      <td>NaN</td>\n",
    "      <td>NaN</td>\n",
    "    </tr>\n",
    "  </tbody>\n",
    "</table>"
   ]
  },
  {
   "cell_type": "raw",
   "id": "19020a1b-67e9-4e91-9b0e-7a1d6784a076",
   "metadata": {
    "tags": []
   },
   "source": [
    "# BEGIN QUESTION\n",
    "name: q15"
   ]
  },
  {
   "cell_type": "markdown",
   "id": "960b2125-726a-49fb-a0c3-0d815b526462",
   "metadata": {},
   "source": [
    "**Question 15.** Assign your answer (hard-coded as a string) as either 1, 2, 3, or 4 to the variable `q15_ans`. \n",
    "\n",
    "**Note:** Recall that the arguments to `pd.pivot_table` are as follows: `data` is the input dataframe, `index` includes the values we use as rows, `columns` are the columns of the pivot table, `values` are the values in the pivot table, and `aggfunc` is the aggregation function that we use to aggregate `values`.\n",
    "\n",
    "\n",
    "**Hint:** Click [here](https://pandas.pydata.org/docs/reference/api/pandas.pivot_table.html) to look at the documentation for the `pivot_table` method."
   ]
  },
  {
   "cell_type": "raw",
   "id": "d243dd8f-13a2-4f88-8c4f-4d2151e0dfd3",
   "metadata": {},
   "source": [
    "# BEGIN SOLUTION"
   ]
  },
  {
   "cell_type": "code",
   "execution_count": 38,
   "id": "173a7cdd-775d-4b32-a99b-ce3b35b722be",
   "metadata": {},
   "outputs": [],
   "source": [
    "q15_ans = '4' # SOLUTION"
   ]
  },
  {
   "cell_type": "raw",
   "id": "5076bf48-1dd3-4122-aa0e-b19f31a85e3f",
   "metadata": {},
   "source": [
    "# END SOLUTION"
   ]
  },
  {
   "cell_type": "raw",
   "id": "1787caf6-e9e6-409a-a835-4a51b1e94fec",
   "metadata": {},
   "source": [
    "# BEGIN TESTS"
   ]
  },
  {
   "cell_type": "code",
   "execution_count": 39,
   "id": "72fbeb86-8a86-42a2-96ad-951c64f89192",
   "metadata": {},
   "outputs": [
    {
     "data": {
      "text/plain": [
       "True"
      ]
     },
     "execution_count": 39,
     "metadata": {},
     "output_type": "execute_result"
    }
   ],
   "source": [
    "q15_ans in ['1', '2', '3', '4']"
   ]
  },
  {
   "cell_type": "code",
   "execution_count": 40,
   "id": "b9cc349a-7388-4d68-ab6c-21ec842e53ac",
   "metadata": {},
   "outputs": [
    {
     "data": {
      "text/plain": [
       "True"
      ]
     },
     "execution_count": 40,
     "metadata": {},
     "output_type": "execute_result"
    }
   ],
   "source": [
    "# HIDDEN\n",
    "q15_ans == '4'"
   ]
  },
  {
   "cell_type": "raw",
   "id": "6045ad3a-38b4-44df-af95-19763c1ac366",
   "metadata": {},
   "source": [
    "# END TESTS"
   ]
  },
  {
   "cell_type": "raw",
   "id": "274a7193-def8-44f4-aba2-93e986895123",
   "metadata": {},
   "source": [
    "# END QUESTION"
   ]
  },
  {
   "cell_type": "markdown",
   "id": "b28a52fc-f5dd-44e0-b3ca-6e5c11ff750d",
   "metadata": {},
   "source": [
    "## Merging\n",
    "\n",
    "Time to put everything together."
   ]
  },
  {
   "cell_type": "raw",
   "id": "054d5cca-ee94-4675-9a89-e86396bfb69a",
   "metadata": {
    "tags": []
   },
   "source": [
    "# BEGIN QUESTION\n",
    "name: q16"
   ]
  },
  {
   "cell_type": "markdown",
   "id": "e34f9a3e-2580-4f33-938e-069f823452f9",
   "metadata": {},
   "source": [
    "**Question 16.** Merge `movies` and `nc_name_count` to find the number of registered baby names for each director using [`pd.merge`](https://pandas.pydata.org/pandas-docs/stable/reference/api/pandas.merge.html?highlight=merge#pandas.merge). Only include names that appear in both `movies` and `nc_name_count`.\n",
    "\n",
    "Your first row should look something like this:\n",
    "\n",
    "<table border=\"1\" class=\"dataframe\">\n",
    "  <thead>\n",
    "    <tr style=\"text-align: right;\">\n",
    "      <th></th>\n",
    "      <th>director</th>\n",
    "      <th>genre</th>\n",
    "      <th>movie</th>\n",
    "      <th>rating</th>\n",
    "      <th>revenue</th>\n",
    "      <th>Count</th>\n",
    "    </tr>\n",
    "  </thead>\n",
    "  <tbody>\n",
    "    <tr>\n",
    "      <th>0</th>\n",
    "      <td>David</td>\n",
    "      <td>Action &amp; Adventure</td>\n",
    "      <td>Deadpool 2</td>\n",
    "      <td>7</td>\n",
    "      <td>318344544</td>\n",
    "      <td>91158</td>\n",
    "    </tr>\n",
    "  </tbody>\n",
    "</table>\n",
    "</table>\n"
   ]
  },
  {
   "cell_type": "raw",
   "id": "ea8cecac-a13b-4a1d-b1af-d4b9de0992dd",
   "metadata": {},
   "source": [
    "# BEGIN SOLUTION"
   ]
  },
  {
   "cell_type": "code",
   "execution_count": 41,
   "id": "a8cfc51e-d212-473d-9d5a-71a643a349da",
   "metadata": {
    "tags": []
   },
   "outputs": [
    {
     "data": {
      "text/html": [
       "<div>\n",
       "<style scoped>\n",
       "    .dataframe tbody tr th:only-of-type {\n",
       "        vertical-align: middle;\n",
       "    }\n",
       "\n",
       "    .dataframe tbody tr th {\n",
       "        vertical-align: top;\n",
       "    }\n",
       "\n",
       "    .dataframe thead th {\n",
       "        text-align: right;\n",
       "    }\n",
       "</style>\n",
       "<table border=\"1\" class=\"dataframe\">\n",
       "  <thead>\n",
       "    <tr style=\"text-align: right;\">\n",
       "      <th></th>\n",
       "      <th>director</th>\n",
       "      <th>genre</th>\n",
       "      <th>movie</th>\n",
       "      <th>rating</th>\n",
       "      <th>revenue</th>\n",
       "      <th>Count</th>\n",
       "    </tr>\n",
       "  </thead>\n",
       "  <tbody>\n",
       "    <tr>\n",
       "      <th>0</th>\n",
       "      <td>David</td>\n",
       "      <td>Action &amp; Adventure</td>\n",
       "      <td>Deadpool 2</td>\n",
       "      <td>7</td>\n",
       "      <td>318344544</td>\n",
       "      <td>91158</td>\n",
       "    </tr>\n",
       "    <tr>\n",
       "      <th>1</th>\n",
       "      <td>Bill</td>\n",
       "      <td>Comedy</td>\n",
       "      <td>Book Club</td>\n",
       "      <td>5</td>\n",
       "      <td>68566296</td>\n",
       "      <td>3408</td>\n",
       "    </tr>\n",
       "    <tr>\n",
       "      <th>2</th>\n",
       "      <td>Ron</td>\n",
       "      <td>Science Fiction &amp; Fantasy</td>\n",
       "      <td>Solo: A Star Wars Story</td>\n",
       "      <td>6</td>\n",
       "      <td>213476293</td>\n",
       "      <td>445</td>\n",
       "    </tr>\n",
       "    <tr>\n",
       "      <th>3</th>\n",
       "      <td>Bart</td>\n",
       "      <td>Drama</td>\n",
       "      <td>American Animals</td>\n",
       "      <td>6</td>\n",
       "      <td>2847319</td>\n",
       "      <td>131</td>\n",
       "    </tr>\n",
       "    <tr>\n",
       "      <th>4</th>\n",
       "      <td>Gary</td>\n",
       "      <td>Action &amp; Adventure</td>\n",
       "      <td>Oceans 8</td>\n",
       "      <td>6</td>\n",
       "      <td>138803463</td>\n",
       "      <td>20486</td>\n",
       "    </tr>\n",
       "    <tr>\n",
       "      <th>5</th>\n",
       "      <td>Drew</td>\n",
       "      <td>Action &amp; Adventure</td>\n",
       "      <td>Hotel Artemis</td>\n",
       "      <td>8</td>\n",
       "      <td>6708147</td>\n",
       "      <td>1292</td>\n",
       "    </tr>\n",
       "    <tr>\n",
       "      <th>6</th>\n",
       "      <td>Brad</td>\n",
       "      <td>Animation</td>\n",
       "      <td>Incredibles 2</td>\n",
       "      <td>5</td>\n",
       "      <td>594398019</td>\n",
       "      <td>1277</td>\n",
       "    </tr>\n",
       "    <tr>\n",
       "      <th>7</th>\n",
       "      <td>Jeff</td>\n",
       "      <td>Comedy</td>\n",
       "      <td>Tag</td>\n",
       "      <td>6</td>\n",
       "      <td>54336863</td>\n",
       "      <td>2455</td>\n",
       "    </tr>\n",
       "    <tr>\n",
       "      <th>8</th>\n",
       "      <td>Charles</td>\n",
       "      <td>Comedy</td>\n",
       "      <td>Uncle Drew</td>\n",
       "      <td>5</td>\n",
       "      <td>42201656</td>\n",
       "      <td>81639</td>\n",
       "    </tr>\n",
       "    <tr>\n",
       "      <th>9</th>\n",
       "      <td>Gerard</td>\n",
       "      <td>Horror</td>\n",
       "      <td>The First Purge</td>\n",
       "      <td>7</td>\n",
       "      <td>68765655</td>\n",
       "      <td>188</td>\n",
       "    </tr>\n",
       "    <tr>\n",
       "      <th>10</th>\n",
       "      <td>Peyton</td>\n",
       "      <td>Action &amp; Adventure</td>\n",
       "      <td>Ant-Man and the Wasp</td>\n",
       "      <td>5</td>\n",
       "      <td>208681866</td>\n",
       "      <td>4991</td>\n",
       "    </tr>\n",
       "    <tr>\n",
       "      <th>11</th>\n",
       "      <td>Christopher</td>\n",
       "      <td>Action &amp; Adventure</td>\n",
       "      <td>Mission: Impossible-Fallout</td>\n",
       "      <td>6</td>\n",
       "      <td>182080372</td>\n",
       "      <td>62610</td>\n",
       "    </tr>\n",
       "    <tr>\n",
       "      <th>12</th>\n",
       "      <td>Marc</td>\n",
       "      <td>Comedy</td>\n",
       "      <td>Christopher Robbin</td>\n",
       "      <td>6</td>\n",
       "      <td>6786317</td>\n",
       "      <td>1260</td>\n",
       "    </tr>\n",
       "  </tbody>\n",
       "</table>\n",
       "</div>"
      ],
      "text/plain": [
       "       director                      genre                        movie  \\\n",
       "0         David         Action & Adventure                   Deadpool 2   \n",
       "1          Bill                     Comedy                    Book Club   \n",
       "2           Ron  Science Fiction & Fantasy      Solo: A Star Wars Story   \n",
       "3          Bart                      Drama             American Animals   \n",
       "4          Gary         Action & Adventure                     Oceans 8   \n",
       "5          Drew         Action & Adventure                Hotel Artemis   \n",
       "6          Brad                  Animation                Incredibles 2   \n",
       "7          Jeff                     Comedy                          Tag   \n",
       "8       Charles                     Comedy                   Uncle Drew   \n",
       "9        Gerard                     Horror              The First Purge   \n",
       "10       Peyton         Action & Adventure         Ant-Man and the Wasp   \n",
       "11  Christopher         Action & Adventure  Mission: Impossible-Fallout   \n",
       "12         Marc                     Comedy           Christopher Robbin   \n",
       "\n",
       "    rating    revenue  Count  \n",
       "0        7  318344544  91158  \n",
       "1        5   68566296   3408  \n",
       "2        6  213476293    445  \n",
       "3        6    2847319    131  \n",
       "4        6  138803463  20486  \n",
       "5        8    6708147   1292  \n",
       "6        5  594398019   1277  \n",
       "7        6   54336863   2455  \n",
       "8        5   42201656  81639  \n",
       "9        7   68765655    188  \n",
       "10       5  208681866   4991  \n",
       "11       6  182080372  62610  \n",
       "12       6    6786317   1260  "
      ]
     },
     "execution_count": 41,
     "metadata": {},
     "output_type": "execute_result"
    }
   ],
   "source": [
    "merged_movies = movies.merge(nc_name_count, left_on = \"director\", right_on = \"Name\").drop('Name', axis = 1) # SOLUTION\n",
    "merged_movies"
   ]
  },
  {
   "cell_type": "raw",
   "id": "fa329391-cd59-4061-9b32-c7611c48ff5f",
   "metadata": {},
   "source": [
    "# END SOLUTION"
   ]
  },
  {
   "cell_type": "raw",
   "id": "6ccef0f5-6e5f-4c97-95a0-15f973973b50",
   "metadata": {},
   "source": [
    "# BEGIN TESTS"
   ]
  },
  {
   "cell_type": "code",
   "execution_count": 42,
   "id": "fa3637e8-80c4-4dd5-924d-b9db7c917dc2",
   "metadata": {},
   "outputs": [
    {
     "data": {
      "text/plain": [
       "(13, 6)"
      ]
     },
     "execution_count": 42,
     "metadata": {},
     "output_type": "execute_result"
    }
   ],
   "source": [
    "merged_movies.shape"
   ]
  },
  {
   "cell_type": "raw",
   "id": "6d2b8b6e-5787-4d1d-afb4-f87a9c780b69",
   "metadata": {},
   "source": [
    "# END TESTS"
   ]
  },
  {
   "cell_type": "raw",
   "id": "aec35c28-6202-4253-bb5e-03913deafc89",
   "metadata": {},
   "source": [
    "# END QUESTION"
   ]
  },
  {
   "cell_type": "raw",
   "id": "3922b078-7b8c-4aed-b701-503a4d78d30a",
   "metadata": {
    "tags": []
   },
   "source": [
    "# BEGIN QUESTION\n",
    "name: q17"
   ]
  },
  {
   "cell_type": "markdown",
   "id": "0e57f7f6-b277-41a6-9c3a-3ed2dcb42deb",
   "metadata": {},
   "source": [
    "**Question 17.** Where there any directors in the original `movies` table did not get included in the `merged_movies` dataframe? If so, how many and what are there their names. Save the names of these directors (if there are any) to a list named `missing_directors`. Make sure the list is sorted. If there are none leave the list empty."
   ]
  },
  {
   "cell_type": "raw",
   "id": "03a53095-a597-4f03-9f7c-1c0b36d40b70",
   "metadata": {},
   "source": [
    "# BEGIN SOLUTION"
   ]
  },
  {
   "cell_type": "code",
   "execution_count": 43,
   "id": "47ea9f44-1826-46c8-afce-e05aed810521",
   "metadata": {
    "tags": []
   },
   "outputs": [
    {
     "data": {
      "text/plain": [
       "['Baltasar', 'Genndy', 'J.A.', 'Ol', 'Rawson']"
      ]
     },
     "execution_count": 43,
     "metadata": {},
     "output_type": "execute_result"
    }
   ],
   "source": [
    "# BEGIN SOLUTION NO PROMPT\n",
    "np.sort(merged_movies.director)\n",
    "np.sort(movies.director)\n",
    "missing_directors = ['Baltasar', 'Genndy', 'J.A.', 'Ol', 'Rawson']\n",
    "# END SOLUTION\n",
    "\"\"\" # BEGIN PROMPT\n",
    "...\n",
    "missing_directors = ...\n",
    "\"\"\"; # END PROMPT\n",
    "missing_directors"
   ]
  },
  {
   "cell_type": "raw",
   "id": "d068f522-a339-4313-91ce-95188489fe9f",
   "metadata": {},
   "source": [
    "# END SOLUTION"
   ]
  },
  {
   "cell_type": "raw",
   "id": "43e805ad-ebf5-43a5-91cd-87106c749d17",
   "metadata": {},
   "source": [
    "# BEGIN TESTS"
   ]
  },
  {
   "cell_type": "code",
   "execution_count": 44,
   "id": "40493b89-6346-49fa-a6af-2c9112044309",
   "metadata": {},
   "outputs": [
    {
     "data": {
      "text/plain": [
       "5"
      ]
     },
     "execution_count": 44,
     "metadata": {},
     "output_type": "execute_result"
    }
   ],
   "source": [
    "len(missing_directors)"
   ]
  },
  {
   "cell_type": "code",
   "execution_count": 45,
   "id": "8966aca2-61a8-4820-b193-e5ad2675be59",
   "metadata": {},
   "outputs": [
    {
     "data": {
      "text/plain": [
       "True"
      ]
     },
     "execution_count": 45,
     "metadata": {},
     "output_type": "execute_result"
    }
   ],
   "source": [
    "isinstance(missing_directors, list)"
   ]
  },
  {
   "cell_type": "code",
   "execution_count": 46,
   "id": "630f7465-1742-4a9a-9d09-d00cfca88edd",
   "metadata": {},
   "outputs": [
    {
     "data": {
      "text/plain": [
       "True"
      ]
     },
     "execution_count": 46,
     "metadata": {},
     "output_type": "execute_result"
    }
   ],
   "source": [
    "'Baltasar' in missing_directors"
   ]
  },
  {
   "cell_type": "code",
   "execution_count": 47,
   "id": "29f2d668-ce83-4fab-b8ac-6c5da821396c",
   "metadata": {},
   "outputs": [
    {
     "data": {
      "text/plain": [
       "True"
      ]
     },
     "execution_count": 47,
     "metadata": {},
     "output_type": "execute_result"
    }
   ],
   "source": [
    "'Genndy' in missing_directors"
   ]
  },
  {
   "cell_type": "code",
   "execution_count": 48,
   "id": "678ffc6e-b42f-48df-bab4-73c8a0dc9f76",
   "metadata": {},
   "outputs": [
    {
     "data": {
      "text/plain": [
       "True"
      ]
     },
     "execution_count": 48,
     "metadata": {},
     "output_type": "execute_result"
    }
   ],
   "source": [
    "'J.A.' in missing_directors"
   ]
  },
  {
   "cell_type": "code",
   "execution_count": 49,
   "id": "813ca851-9c1e-480b-8a18-37877aa53a69",
   "metadata": {},
   "outputs": [
    {
     "data": {
      "text/plain": [
       "True"
      ]
     },
     "execution_count": 49,
     "metadata": {},
     "output_type": "execute_result"
    }
   ],
   "source": [
    "'Ol' in missing_directors"
   ]
  },
  {
   "cell_type": "code",
   "execution_count": 50,
   "id": "f244b7f6-e77c-4563-a36c-26e34a16d4fe",
   "metadata": {},
   "outputs": [
    {
     "data": {
      "text/plain": [
       "True"
      ]
     },
     "execution_count": 50,
     "metadata": {},
     "output_type": "execute_result"
    }
   ],
   "source": [
    "'Rawson' in missing_directors"
   ]
  },
  {
   "cell_type": "raw",
   "id": "b4d9205b-bccb-48d3-9a9b-3be83bef9290",
   "metadata": {},
   "source": [
    "# END TESTS"
   ]
  },
  {
   "cell_type": "raw",
   "id": "477bedf3-25e7-4c29-bd9a-df067ea81b29",
   "metadata": {},
   "source": [
    "# END QUESTION"
   ]
  }
 ],
 "metadata": {
  "kernelspec": {
   "display_name": "Python 3 (ipykernel)",
   "language": "python",
   "name": "python3"
  },
  "language_info": {
   "codemirror_mode": {
    "name": "ipython",
    "version": 3
   },
   "file_extension": ".py",
   "mimetype": "text/x-python",
   "name": "python",
   "nbconvert_exporter": "python",
   "pygments_lexer": "ipython3",
   "version": "3.10.11"
  }
 },
 "nbformat": 4,
 "nbformat_minor": 5
}
