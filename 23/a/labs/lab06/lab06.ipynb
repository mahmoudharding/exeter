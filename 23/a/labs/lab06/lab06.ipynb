{
 "cells": [
  {
   "cell_type": "code",
   "execution_count": null,
   "id": "6c74e961",
   "metadata": {
    "deletable": false,
    "editable": false
   },
   "outputs": [],
   "source": [
    "# Initialize Otter\n",
    "import otter\n",
    "grader = otter.Notebook(\"lab06.ipynb\")"
   ]
  },
  {
   "attachments": {},
   "cell_type": "markdown",
   "id": "84d64e40",
   "metadata": {},
   "source": [
    "# Lab 06: A Brief Introduction to SQL\n",
    "\n",
    "Welcome to Advanced Topics in Data Science for High School! Throughout the course you will complete assignments like this one. You can't learn technical subjects without hands-on practice, so these assignments are an important part of the course.\n",
    "\n",
    "**Collaboration Policy:**\n",
    "\n",
    "Collaborating on labs is more than okay -- it's encouraged! You should rarely remain stuck for more than a few minutes on questions in labs, so ask a neighbor or an instructor for help. Explaining things is beneficial, too -- the best way to solidify your knowledge of a subject is to explain it. You should **not** _just_ copy/paste someone else's code, but rather work together to gain understanding of the task you need to complete. \n",
    "\n",
    "**Due Date:**\n",
    "\n",
    "## Today's Assignment\n",
    "\n",
    "In this lab we will work with [SQLite](https://www.sqlite.org/about.html). SQLite is an in-process library that implements a self-contained, serverless, zero-configuration, transactional SQL database engine. The code for SQLite is in the public domain and is thus free for use for any purpose, commercial or private.\n",
    "\n",
    "We will practice using the skills you learned from completing the SQLite for Python Tutorial.In today's assignment, you'll learn about:\n",
    "\n",
    "- performing a simple query using [SELECT](https://www.sqlitetutorial.net/sqlite-select/)\n",
    "\n",
    "- filtering data using DISTINCT and [WHERE](https://www.sqlitetutorial.net/sqlite-where/) \n",
    "\n",
    "- joining tables using [JOIN](https://www.sqlitetutorial.net/sqlite-join/)\n",
    "\n",
    "First, set up the imports by running the cell below."
   ]
  },
  {
   "cell_type": "code",
   "execution_count": null,
   "id": "eb5c7e07",
   "metadata": {
    "tags": []
   },
   "outputs": [],
   "source": [
    "import pandas as pd\n",
    "import numpy as np"
   ]
  },
  {
   "attachments": {},
   "cell_type": "markdown",
   "id": "fe8231ae",
   "metadata": {},
   "source": [
    "## 1. Accessing an SQLite Database in Python\n",
    "\n",
    "- There is a built in module for accessing an SQLite database, mainly need the path to the database file\n",
    "\n",
    "- We'll look at the commonly used `chinook` database\n",
    "\n",
    "![chinook.PNG](images/chinook-er-diagram.png)\n",
    "\n",
    "Run the cell below to create the engine instance for the `chinook.db`\n",
    "\n",
    "**Note:** To interact with the SQLite databases in this lab we will use SQLAlchemy, an SQL toolkit that provides access for relational databases."
   ]
  },
  {
   "cell_type": "code",
   "execution_count": null,
   "id": "9b0fee17",
   "metadata": {
    "tags": []
   },
   "outputs": [],
   "source": [
    "import sqlalchemy\n",
    "db = sqlalchemy.create_engine('sqlite:///data/Chinook_Sqlite.sqlite')"
   ]
  },
  {
   "attachments": {},
   "cell_type": "markdown",
   "id": "25c90b33",
   "metadata": {},
   "source": [
    "Run the cell below to create an inspection object (meta data about the database) to view the tables in the `chinook.db`."
   ]
  },
  {
   "cell_type": "code",
   "execution_count": null,
   "id": "96f31fd8",
   "metadata": {
    "tags": []
   },
   "outputs": [],
   "source": [
    "insp = sqlalchemy.inspect(db)\n",
    "insp.get_table_names()"
   ]
  },
  {
   "attachments": {},
   "cell_type": "markdown",
   "id": "91774879",
   "metadata": {},
   "source": [
    "Another way to see all the tables is by querying the schema. A database schema defines how data is organized within a relational database. Every SQLite database contains a **schema table** with information about that database. This describes the\n",
    "\n",
    "- tables \n",
    "\n",
    "- indices (special lookup tables to improve efficiency of queries)\n",
    "\n",
    "- triggers (named database object that is executed automatically when an `INSERT`, `UPDATE` or `DELETE` statement is issued against the associated table)\n",
    "\n",
    "- views (read-only tables, combinations of tables, etc.)\n",
    "\n",
    "A schema file contains one row for each table, index, view, and trigger in the schema\n",
    "\n",
    "We can get all of the **tables** by issuing an SQL command.  A common SQL command for querying a database's tables is:\n",
    "\n",
    "```\n",
    "SELECT name, type \n",
    "FROM sqlite_master \n",
    "WHERE type='table';\n",
    "```"
   ]
  },
  {
   "attachments": {},
   "cell_type": "markdown",
   "id": "0564a5d6",
   "metadata": {},
   "source": [
    "<!-- BEGIN QUESTION -->\n",
    "\n",
    "**Question 1.** Use aforementioned query to return the table names from the `chinook` database."
   ]
  },
  {
   "cell_type": "code",
   "execution_count": null,
   "id": "eab02229",
   "metadata": {
    "tags": []
   },
   "outputs": [],
   "source": [
    "query = '''\n",
    "...\n",
    "'''\n",
    "\n",
    "pd.read_sql(sql=sqlalchemy.text(query), con=db.connect())"
   ]
  },
  {
   "attachments": {},
   "cell_type": "markdown",
   "id": "8850b90d",
   "metadata": {},
   "source": [
    "<!-- END QUESTION -->\n",
    "\n",
    "### About the Chinook database\n",
    "\n",
    "The Chinook data model represents a digital media store, including tables for artists, albums, media tracks, invoices, and customers.\n",
    "\n",
    "- Media-related data was created using real data from an Apple iTunes library. \n",
    "\n",
    "- Customer and employee information was created using fictitious names and addresses that can be located on Google maps, and other well formatted data (phone, fax, email, etc.)\n",
    "\n",
    "- Sales information was auto generated using random data for a four year period.\n",
    "\n",
    "The Chinook sample database includes:\n",
    "\n",
    "- 11 tables\n",
    "\n",
    "- A variety of indexes, primary and foreign key constraints\n",
    "\n",
    "- Over 15,000 rows of data"
   ]
  },
  {
   "attachments": {},
   "cell_type": "markdown",
   "id": "a9e454e9",
   "metadata": {},
   "source": [
    "## 2. Common SQL commands\n",
    "\n",
    "- `CREATE TABLE`: Creates a new table\n",
    "\n",
    "- `INSERT INTO`: Adds records to a table\n",
    "\n",
    "- `UPDATE`: Modifies an existing record\n",
    "\n",
    "- `DELETE FROM`: Deletes data \n",
    "\n",
    "- `DROP TABLE`: Removes a table\n",
    "\n",
    "- `SELECT`: Reads data\n",
    "\n",
    "## 3. Querying Tables\n",
    "\n",
    "As a data scientist, you'd probably spend most of your time pulling data of that  interests you and then summarizing it, running models, etc.  `SELECT` is the command for that task."
   ]
  },
  {
   "attachments": {},
   "cell_type": "markdown",
   "id": "f1cc1c65",
   "metadata": {},
   "source": [
    "### `SELECT`\n",
    "\n",
    "With `SELECT` we pass the column(s) we want `FROM` the table of interest, and specify the records (rows) of interest with a `WHERE`.\n",
    "\n",
    "First, let's see a way to look at all columns in a table."
   ]
  },
  {
   "attachments": {},
   "cell_type": "markdown",
   "id": "2d31dbde",
   "metadata": {},
   "source": [
    "<!-- BEGIN QUESTION -->\n",
    "\n",
    "**Question 2.** Print out all the columns in the `Albums` table. Limit the number of results that get returned to 5."
   ]
  },
  {
   "cell_type": "code",
   "execution_count": null,
   "id": "3da7323b",
   "metadata": {
    "tags": []
   },
   "outputs": [],
   "source": [
    "query = '''\n",
    "...\n",
    "'''\n",
    "\n",
    "pd.read_sql(sql=sqlalchemy.text(query), con=db.connect())"
   ]
  },
  {
   "attachments": {},
   "cell_type": "markdown",
   "id": "5493aed5",
   "metadata": {},
   "source": [
    "<!-- END QUESTION -->\n",
    "\n",
    "<!-- BEGIN QUESTION -->\n",
    "\n",
    "**Question 3.** Return all the albums from the `Albums` table. Only show the artist id and the title of the album."
   ]
  },
  {
   "cell_type": "code",
   "execution_count": null,
   "id": "3fca06a9",
   "metadata": {
    "tags": []
   },
   "outputs": [],
   "source": [
    "query = '''\n",
    "...\n",
    "'''\n",
    "\n",
    "pd.read_sql(sql=sqlalchemy.text(query), con=db.connect())"
   ]
  },
  {
   "attachments": {},
   "cell_type": "markdown",
   "id": "e52ea85b",
   "metadata": {},
   "source": [
    "<!-- END QUESTION -->\n",
    "\n",
    "1 is the value for the `ArtisitID`, For the album entitled *For Those About to Rock We Salute You*, but what is the actual name of this particular artist. We can query the`Artist` table to find out."
   ]
  },
  {
   "attachments": {},
   "cell_type": "markdown",
   "id": "488e2dc6",
   "metadata": {},
   "source": [
    "<!-- BEGIN QUESTION -->\n",
    "\n",
    "**Question 4.** Return artist name that belongs to `ArtistID` number 1. "
   ]
  },
  {
   "cell_type": "code",
   "execution_count": null,
   "id": "baf938c0",
   "metadata": {
    "tags": []
   },
   "outputs": [],
   "source": [
    "query = '''\n",
    "...\n",
    "'''\n",
    "\n",
    "pd.read_sql(sql=sqlalchemy.text(query), con=db.connect())"
   ]
  },
  {
   "attachments": {},
   "cell_type": "markdown",
   "id": "542b68ed",
   "metadata": {},
   "source": [
    "<!-- END QUESTION -->\n",
    "\n",
    "**Question 5.** Save all the artist names to a list named `artists`. There are many ways you can complete this task. You can query the table, save the results to a variable, and then select the column from the dataframe that gets returned. Alternatively, you can skip the intermediate step and grab the column directly from the dataframe that gets returned.  "
   ]
  },
  {
   "cell_type": "code",
   "execution_count": null,
   "id": "708f666c",
   "metadata": {
    "tags": []
   },
   "outputs": [],
   "source": [
    "query = '''\n",
    "...\n",
    "'''\n",
    "\n",
    "artists = ...\n",
    "\n",
    "artists[:10]"
   ]
  },
  {
   "cell_type": "code",
   "execution_count": null,
   "id": "1df9bc41",
   "metadata": {
    "deletable": false,
    "editable": false
   },
   "outputs": [],
   "source": [
    "grader.check(\"q5\")"
   ]
  },
  {
   "attachments": {},
   "cell_type": "markdown",
   "id": "e1b4d0be",
   "metadata": {},
   "source": [
    "<!-- BEGIN QUESTION -->\n",
    "\n",
    "**Question 6.** Choose an artist from your list. Then join the `Artist` and `Album` tables to show the artist name and the title(s) for each album the artist made. This can be using a single SQL Query or, if you prefer, you can manipulate the data frame that gets returned after your join. For example, I chose Miles Davis and this was my output.\n",
    "\n",
    "| |**Artist**|**Album**|\n",
    "|-|--------|--------:|\n",
    "|**0**|Miles Davis|The Essential Miles Davis [Disc 1]|\n",
    "|**1**|Miles Davis|The Essential Miles Davis [Disc 2]|\n",
    "|**2**|Miles Davis|Miles Ahead|\n",
    "\n",
    "**Note:** Make sure you choose an artist other than *Miles Davis* and that the column names are **Artist** and **Album**."
   ]
  },
  {
   "cell_type": "code",
   "execution_count": null,
   "id": "4ec5cbaa",
   "metadata": {
    "tags": []
   },
   "outputs": [],
   "source": [
    "query = '''\n",
    "...\n",
    "'''\n",
    "\n",
    "pd.read_sql(sql=sqlalchemy.text(query), con=db.connect())"
   ]
  },
  {
   "attachments": {},
   "cell_type": "markdown",
   "id": "0b098dce",
   "metadata": {},
   "source": [
    "<!-- END QUESTION -->\n",
    "\n",
    "**Question 7.** Save all the genre names to a list named `genres`. There are many ways you can complete this task. You can query the table, save the results to a variable, and then select the column from the dataframe that gets returned. Alternatively, you can skip the intermediate step and grab the column directly from the dataframe that gets returned. "
   ]
  },
  {
   "cell_type": "code",
   "execution_count": null,
   "id": "a9e3ef30",
   "metadata": {
    "tags": []
   },
   "outputs": [],
   "source": [
    "query = '''\n",
    "...\n",
    "'''\n",
    "\n",
    "genres = ...\n",
    "genres"
   ]
  },
  {
   "cell_type": "code",
   "execution_count": null,
   "id": "bbd2e5d8",
   "metadata": {
    "deletable": false,
    "editable": false
   },
   "outputs": [],
   "source": [
    "grader.check(\"q7\")"
   ]
  },
  {
   "attachments": {},
   "cell_type": "markdown",
   "id": "7f2c8f73",
   "metadata": {},
   "source": [
    "<!-- BEGIN QUESTION -->\n",
    "\n",
    "**Question 8.** Choose two different genres from your list and find the `GenreId` for each. \n",
    "\n",
    "**Note:** To earn all the points for this question you must show the SQL query that you used."
   ]
  },
  {
   "cell_type": "code",
   "execution_count": null,
   "id": "555c3de3",
   "metadata": {
    "tags": []
   },
   "outputs": [],
   "source": [
    "query = '''\n",
    "...\n",
    "'''\n",
    "\n",
    "pd.read_sql(sql=sqlalchemy.text(query), con=db.connect())"
   ]
  },
  {
   "attachments": {},
   "cell_type": "markdown",
   "id": "00471b04",
   "metadata": {},
   "source": [
    "<!-- END QUESTION -->\n",
    "\n",
    "<!-- BEGIN QUESTION -->\n",
    "\n",
    "**Question 9.** Find all the tracks that are listed for each genre you chose in the previous question. This can be using a single SQL Query or, if you prefer, you can manipulate the data frame that gets returned after your join. For example, I chose R&B Soul and Reggae, and this was my output.\n",
    "\n",
    "| |**Track**|**Genre**|\n",
    "|-|--------|--------:|\n",
    "|**0**|Girassol|Reggae|\n",
    "|**1**|A Sombra Da Maldade|Reggae|\n",
    "|**2**|Johnny B. Goode|Reggae|\n",
    "|**...**|||\n",
    "|**117**|You Know I'm No Good (feat. Ghostface Killah)|R&B/Soul|\n",
    "|**118**|Rehab (Hot Chip Remix)|R&B/Soul|\n",
    "\n",
    "\n",
    "**Note:** Make sure you choose a combination other than R&B Soul/Reggae and that the column names are **Track** and **Genre**."
   ]
  },
  {
   "cell_type": "code",
   "execution_count": null,
   "id": "a4d94ecc",
   "metadata": {
    "tags": []
   },
   "outputs": [],
   "source": [
    "query = '''\n",
    "...\n",
    "'''\n",
    "\n",
    "pd.read_sql(sql=sqlalchemy.text(query), con=db.connect())"
   ]
  },
  {
   "attachments": {},
   "cell_type": "markdown",
   "id": "a720b35f",
   "metadata": {},
   "source": [
    "<!-- END QUESTION -->\n",
    "\n",
    "<!-- BEGIN QUESTION -->\n",
    "\n",
    "**Question 10.** Choose one track from each genre that you used to complete the two previous questions. This can be using a single SQL Query or, if you prefer, you can manipulate the data frame that gets returned after your join. Find the albums that these tracks appear on. For example, for the tracks I chose I got this.\n",
    "\n",
    "| |**Track**|**AlbumId**|\n",
    "|-|--------|--------:|\n",
    "|**0**|Girassol|26|\n",
    "|**1**|You Know I'm No Good (feat. Ghostface Killah)|321|\n",
    "\n",
    "\n",
    "**Note:** Make sure that the column names are **Track** and **AlbumId**."
   ]
  },
  {
   "cell_type": "code",
   "execution_count": null,
   "id": "9d17f818",
   "metadata": {
    "tags": []
   },
   "outputs": [],
   "source": [
    "query = '''\n",
    "...\n",
    "'''\n",
    "\n",
    "pd.read_sql(sql=sqlalchemy.text(query), con=db.connect())"
   ]
  },
  {
   "attachments": {},
   "cell_type": "markdown",
   "id": "8a0c2689",
   "metadata": {},
   "source": [
    "<!-- END QUESTION -->\n",
    "\n",
    "<!-- BEGIN QUESTION -->\n",
    "\n",
    "**Question 11.** List all the tracks on the albums that contain the songs you chose from the previous question. This can be using a single SQL Query or, if you prefer, you can manipulate the data frame that gets returned after your join. For example, my output looks like this:\n",
    " \n",
    "| |**Track**|**Album**|\n",
    "|-|--------|--------:|\n",
    "|**0**|Girassol|Acústico MTV [Live]|\n",
    "|**1**|A Sombra Da Maldade|Acústico MTV [Live]|\n",
    "|**...**|||\n",
    "|**27**|You Know I'm No Good (feat. Ghostface Killah)|Back to Black|\n",
    "|**28**|Rehab (Hot Chip Remix)|Back to Black|\n",
    "\n",
    "\n",
    "\n",
    "**Note:** Make sure that the column names are **Track** and **Album**."
   ]
  },
  {
   "cell_type": "code",
   "execution_count": null,
   "id": "94579923",
   "metadata": {
    "tags": []
   },
   "outputs": [],
   "source": [
    "query = '''\n",
    "...\n",
    "'''\n",
    "\n",
    "pd.read_sql(sql=sqlalchemy.text(query), con=db.connect())"
   ]
  },
  {
   "attachments": {},
   "cell_type": "markdown",
   "id": "015686bb",
   "metadata": {},
   "source": [
    "<!-- END QUESTION -->\n",
    "\n",
    "You're probably thinking what if I need to join data from more than tow tables. Well, the good news is you can do it. "
   ]
  },
  {
   "attachments": {},
   "cell_type": "markdown",
   "id": "80dc36e3",
   "metadata": {},
   "source": [
    "<!-- BEGIN QUESTION -->\n",
    "\n",
    "**Question 12.** Add the artist name to the list of the all the tracks from the previous question. This can be using a single SQL Query or, if you prefer, you can manipulate the data frame that gets returned after your join. For example, my output looks like this:\n",
    "\n",
    "| |**Track**|**Album**|**Artist**|\n",
    "|-|--------|-----------:|---------:|\n",
    "|**0**|Girassol|Acústico MTV [Live]|Cidade Negra|\n",
    "|**1**|A Sombra Da Maldade|Acústico MTV [Live]|Cidade Negra|\n",
    "|**...**|||\n",
    "|**27**|You Know I'm No Good (feat. Ghostface Killah)|Back to Black|Amy Winehouse|\n",
    "|**28**|Rehab (Hot Chip Remix)|Back to Black|Amy Winehouse|\n",
    "\n",
    "\n",
    "\n",
    "**Note:** Make sure that the column names are **Track**, **Album** and **Artist**.\n",
    "\n",
    "**Hint:** You can add another `JOIN` clause to your query from the previous question. For example,\n",
    "\n",
    "```\n",
    "SELECT ...\n",
    "FROM <table 1> JOIN <table 2>\n",
    "    ON ... = ... JOIN <table 3>\n",
    "    ON ... = ...\n",
    "WHERE ... = ... OR ... = ...;\n",
    "```"
   ]
  },
  {
   "cell_type": "code",
   "execution_count": null,
   "id": "3c32af33",
   "metadata": {
    "tags": []
   },
   "outputs": [],
   "source": [
    "query = '''\n",
    "...\n",
    "'''\n",
    "\n",
    "pd.read_sql(sql=sqlalchemy.text(query), con=db.connect())"
   ]
  },
  {
   "cell_type": "markdown",
   "id": "0758af86",
   "metadata": {},
   "source": [
    "<!-- END QUESTION -->\n",
    "\n"
   ]
  },
  {
   "cell_type": "markdown",
   "id": "269ff07b",
   "metadata": {
    "deletable": false,
    "editable": false
   },
   "source": [
    "## Submission\n",
    "\n",
    "Make sure you have run all cells in your notebook in order before running the cell below, so that all images/graphs appear in the output. The cell below will generate a zip file for you to submit. **Please save before exporting!**"
   ]
  },
  {
   "cell_type": "code",
   "execution_count": null,
   "id": "8ee567dd",
   "metadata": {
    "deletable": false,
    "editable": false
   },
   "outputs": [],
   "source": [
    "# Save your notebook first, then run this cell to export your submission.\n",
    "grader.export(run_tests=True)"
   ]
  },
  {
   "cell_type": "markdown",
   "id": "45cbb811",
   "metadata": {},
   "source": [
    " "
   ]
  }
 ],
 "metadata": {
  "kernelspec": {
   "display_name": "Python 3 (ipykernel)",
   "language": "python",
   "name": "python3"
  },
  "language_info": {
   "codemirror_mode": {
    "name": "ipython",
    "version": 3
   },
   "file_extension": ".py",
   "mimetype": "text/x-python",
   "name": "python",
   "nbconvert_exporter": "python",
   "pygments_lexer": "ipython3",
   "version": "3.10.11"
  },
  "otter": {
   "OK_FORMAT": true,
   "tests": {
    "q5": {
     "name": "q5",
     "points": null,
     "suites": [
      {
       "cases": [
        {
         "code": ">>> isinstance(artists, list)\nTrue",
         "hidden": false,
         "locked": false
        },
        {
         "code": ">>> len(artists)\n275",
         "hidden": false,
         "locked": false
        }
       ],
       "scored": true,
       "setup": "",
       "teardown": "",
       "type": "doctest"
      }
     ]
    },
    "q7": {
     "name": "q7",
     "points": null,
     "suites": [
      {
       "cases": [
        {
         "code": ">>> isinstance(genres, list)\nTrue",
         "hidden": false,
         "locked": false
        },
        {
         "code": ">>> len(genres)\n25",
         "hidden": false,
         "locked": false
        }
       ],
       "scored": true,
       "setup": "",
       "teardown": "",
       "type": "doctest"
      }
     ]
    }
   }
  }
 },
 "nbformat": 4,
 "nbformat_minor": 5
}
