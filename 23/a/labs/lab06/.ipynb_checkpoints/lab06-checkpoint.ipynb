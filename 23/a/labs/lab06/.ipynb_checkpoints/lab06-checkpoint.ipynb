{
 "cells": [
  {
   "cell_type": "raw",
   "id": "34786a27-e055-49ca-b833-88b4864d841b",
   "metadata": {},
   "source": [
    "# ASSIGNMENT CONFIG\n",
    "files:\n",
    "  - data/Chinook_Sqlite.sqlite\n",
    "  - images/chinook-er-diagram.png"
   ]
  },
  {
   "cell_type": "markdown",
   "id": "8ba46f3d-35cd-4f57-8041-9b6782942f8a",
   "metadata": {},
   "source": [
    "# Lab 06: A Brief Introduction to SQL\n",
    "\n",
    "Welcome to Advanced Topics in Data Science for High School! Throughout the course you will complete assignments like this one. You can't learn technical subjects without hands-on practice, so these assignments are an important part of the course.\n",
    "\n",
    "**Collaboration Policy:**\n",
    "\n",
    "Collaborating on labs is more than okay -- it's encouraged! You should rarely remain stuck for more than a few minutes on questions in labs, so ask a neighbor or an instructor for help. Explaining things is beneficial, too -- the best way to solidify your knowledge of a subject is to explain it. You should **not** _just_ copy/paste someone else's code, but rather work together to gain understanding of the task you need to complete. \n",
    "\n",
    "**Due Date:**\n",
    "\n",
    "## Today's Assignment\n",
    "\n",
    "In this lab we will work with [SQLite](https://www.sqlite.org/about.html). SQLite is an in-process library that implements a self-contained, serverless, zero-configuration, transactional SQL database engine. The code for SQLite is in the public domain and is thus free for use for any purpose, commercial or private.\n",
    "\n",
    "We will practice using the skills you learned from completing the SQLite for Python Tutorial.In today's assignment, you'll learn about:\n",
    "\n",
    "- performing a simple query using [SELECT](https://www.sqlitetutorial.net/sqlite-select/)\n",
    "\n",
    "- filtering data using DISTINCT and [WHERE](https://www.sqlitetutorial.net/sqlite-where/) \n",
    "\n",
    "- joining tables using [JOIN](https://www.sqlitetutorial.net/sqlite-join/)\n",
    "\n",
    "First, set up the imports by running the cell below."
   ]
  },
  {
   "cell_type": "code",
   "execution_count": 2,
   "id": "6b5e67d0-9df2-4b90-8ccb-e493ca99abef",
   "metadata": {
    "tags": []
   },
   "outputs": [],
   "source": [
    "import pandas as pd\n",
    "import numpy as np"
   ]
  },
  {
   "cell_type": "markdown",
   "id": "f0527ba0-1c2d-4680-ae43-17d8c56f85f7",
   "metadata": {},
   "source": [
    "# Accessing an SQLite Database in Python\n",
    "\n",
    "- There is a built in module for accessing an SQLite database, mainly need the path to the database file\n",
    "\n",
    "- We'll look at the commonly used `chinook` database\n",
    "\n",
    "![chinook.PNG](images/chinook-er-diagram.png)\n",
    "\n",
    "Run the cell below to create the engine instance for the `chinook.db`\n",
    "\n",
    "**Note:** To interact with the SQLite databases in this lab we will use SQLAlchemy, an SQL toolkit that provides access for relational databases."
   ]
  },
  {
   "cell_type": "code",
   "execution_count": 1,
   "id": "bbf9e99e-6468-4251-b49c-5af983746dd7",
   "metadata": {
    "tags": []
   },
   "outputs": [],
   "source": [
    "import sqlalchemy\n",
    "db = sqlalchemy.create_engine('sqlite:///data/Chinook_Sqlite.sqlite')"
   ]
  },
  {
   "cell_type": "markdown",
   "id": "f8516eef-e609-42b1-b984-1d5b7efa2787",
   "metadata": {},
   "source": [
    "Run the cell below to create an inspection object (meta data about the database) to view the tables in the `chinook.db`."
   ]
  },
  {
   "cell_type": "code",
   "execution_count": 3,
   "id": "0d4fb14a-96a1-4ea3-9e28-678da6a412ab",
   "metadata": {
    "tags": []
   },
   "outputs": [
    {
     "data": {
      "text/plain": [
       "['Album',\n",
       " 'Artist',\n",
       " 'Customer',\n",
       " 'Employee',\n",
       " 'Genre',\n",
       " 'Invoice',\n",
       " 'InvoiceLine',\n",
       " 'MediaType',\n",
       " 'Playlist',\n",
       " 'PlaylistTrack',\n",
       " 'Track']"
      ]
     },
     "execution_count": 3,
     "metadata": {},
     "output_type": "execute_result"
    }
   ],
   "source": [
    "insp = sqlalchemy.inspect(db)\n",
    "insp.get_table_names()"
   ]
  },
  {
   "cell_type": "markdown",
   "id": "f4c07ec8-01e5-4118-9ff5-c1256465592d",
   "metadata": {},
   "source": [
    "Another way to see all the tables is by querying the schema. A database schema defines how data is organized within a relational database. Every SQLite database contains a **schema table** with information about that database. This describes the\n",
    "\n",
    "- tables \n",
    "\n",
    "- indices (special lookup tables to improve efficiency of queries)\n",
    "\n",
    "- triggers (named database object that is executed automatically when an `INSERT`, `UPDATE` or `DELETE` statement is issued against the associated table)\n",
    "\n",
    "- views (read-only tables, combinations of tables, etc.)\n",
    "\n",
    "A schema file contains one row for each table, index, view, and trigger in the schema\n",
    "\n",
    "We can get all of the **tables** by issuing an SQL command.  A common SQL command for querying a database's tables is:\n",
    "\n",
    "```\n",
    "SELECT name, type \n",
    "FROM sqlite_master \n",
    "WHERE type='table';\n",
    "```"
   ]
  },
  {
   "cell_type": "raw",
   "id": "57115153-103d-4f65-8e37-6c12cbd0c2a7",
   "metadata": {},
   "source": [
    "# BEGIN QUESTION\n",
    "name: q1\n",
    "manual: true"
   ]
  },
  {
   "cell_type": "markdown",
   "id": "38621767-cf08-435a-b96d-fabd0f2ea04c",
   "metadata": {},
   "source": [
    "**Question 1.** Use aforementioned query to return the table names from the `chinook` database."
   ]
  },
  {
   "cell_type": "raw",
   "id": "54249ff3-3c64-4bbd-8d5b-f74dc2f0afa0",
   "metadata": {},
   "source": [
    "# BEGIN SOLUTION"
   ]
  },
  {
   "cell_type": "code",
   "execution_count": 7,
   "id": "beccfa53-784b-44ef-9602-d4a7fa0135a5",
   "metadata": {
    "tags": []
   },
   "outputs": [
    {
     "data": {
      "text/html": [
       "<div>\n",
       "<style scoped>\n",
       "    .dataframe tbody tr th:only-of-type {\n",
       "        vertical-align: middle;\n",
       "    }\n",
       "\n",
       "    .dataframe tbody tr th {\n",
       "        vertical-align: top;\n",
       "    }\n",
       "\n",
       "    .dataframe thead th {\n",
       "        text-align: right;\n",
       "    }\n",
       "</style>\n",
       "<table border=\"1\" class=\"dataframe\">\n",
       "  <thead>\n",
       "    <tr style=\"text-align: right;\">\n",
       "      <th></th>\n",
       "      <th>AlbumId</th>\n",
       "      <th>Title</th>\n",
       "      <th>ArtistId</th>\n",
       "    </tr>\n",
       "  </thead>\n",
       "  <tbody>\n",
       "    <tr>\n",
       "      <th>0</th>\n",
       "      <td>1</td>\n",
       "      <td>For Those About To Rock We Salute You</td>\n",
       "      <td>1</td>\n",
       "    </tr>\n",
       "    <tr>\n",
       "      <th>1</th>\n",
       "      <td>2</td>\n",
       "      <td>Balls to the Wall</td>\n",
       "      <td>2</td>\n",
       "    </tr>\n",
       "    <tr>\n",
       "      <th>2</th>\n",
       "      <td>3</td>\n",
       "      <td>Restless and Wild</td>\n",
       "      <td>2</td>\n",
       "    </tr>\n",
       "    <tr>\n",
       "      <th>3</th>\n",
       "      <td>4</td>\n",
       "      <td>Let There Be Rock</td>\n",
       "      <td>1</td>\n",
       "    </tr>\n",
       "    <tr>\n",
       "      <th>4</th>\n",
       "      <td>5</td>\n",
       "      <td>Big Ones</td>\n",
       "      <td>3</td>\n",
       "    </tr>\n",
       "  </tbody>\n",
       "</table>\n",
       "</div>"
      ],
      "text/plain": [
       "   AlbumId                                  Title  ArtistId\n",
       "0        1  For Those About To Rock We Salute You         1\n",
       "1        2                      Balls to the Wall         2\n",
       "2        3                      Restless and Wild         2\n",
       "3        4                      Let There Be Rock         1\n",
       "4        5                               Big Ones         3"
      ]
     },
     "execution_count": 7,
     "metadata": {},
     "output_type": "execute_result"
    }
   ],
   "source": [
    "# BEGIN SOLUTION NO PROMPT\n",
    "query = ''' \n",
    "SELECT *\n",
    "FROM Album\n",
    "LIMIT 5;\n",
    "'''\n",
    "\n",
    "# END SOLUTION\n",
    "\"\"\" # BEGIN PROMPT\n",
    "query = '''\n",
    "...\n",
    "'''\n",
    "\n",
    "\"\"\"; # END PROMPT\n",
    "pd.read_sql(sql=sqlalchemy.text(query), con=db.connect())"
   ]
  },
  {
   "cell_type": "raw",
   "id": "e202aa44-4b8f-4e3b-8463-28c1c8ba430f",
   "metadata": {},
   "source": [
    "# END SOLUTION"
   ]
  },
  {
   "cell_type": "raw",
   "id": "6c59ee7f-70e9-40a1-9a57-7f8e124f42a6",
   "metadata": {},
   "source": [
    "# END QUESTION"
   ]
  },
  {
   "cell_type": "markdown",
   "id": "8d398804-4a40-4a22-922a-021001ed6244",
   "metadata": {},
   "source": [
    "## About the Chinook database\n",
    "\n",
    "The Chinook data model represents a digital media store, including tables for artists, albums, media tracks, invoices, and customers.\n",
    "\n",
    "- Media-related data was created using real data from an Apple iTunes library. \n",
    "\n",
    "- Customer and employee information was created using fictitious names and addresses that can be located on Google maps, and other well formatted data (phone, fax, email, etc.)\n",
    "\n",
    "- Sales information was auto generated using random data for a four year period.\n",
    "\n",
    "The Chinook sample database includes:\n",
    "\n",
    "- 11 tables\n",
    "\n",
    "- A variety of indexes, primary and foreign key constraints\n",
    "\n",
    "- Over 15,000 rows of data"
   ]
  },
  {
   "cell_type": "markdown",
   "id": "5de9b4d7-ee39-43aa-92d4-d2af8664c214",
   "metadata": {},
   "source": [
    "## Common SQL commands\n",
    "\n",
    "- `CREATE TABLE`: Creates a new table\n",
    "\n",
    "- `INSERT INTO`: Adds records to a table\n",
    "\n",
    "- `UPDATE`: Modifies an existing record\n",
    "\n",
    "- `DELETE FROM`: Deletes data \n",
    "\n",
    "- `DROP TABLE`: Removes a table\n",
    "\n",
    "- `SELECT`: Reads data\n",
    "\n",
    "# Querying Tables\n",
    "\n",
    "As a data scientist, you'd probably spend most of your time pulling data of that  interests you and then summarizing it, running models, etc.  `SELECT` is the command for that task."
   ]
  },
  {
   "cell_type": "markdown",
   "id": "90115d02-dcd6-4ffd-a892-60c188ddc4a6",
   "metadata": {},
   "source": [
    "## SELECT\n",
    "\n",
    "With `SELECT` we pass the column(s) we want `FROM` the table of interest, and specify the records (rows) of interest with a `WHERE`.\n",
    "\n",
    "First, let's see a way to look at all columns in a table."
   ]
  },
  {
   "cell_type": "raw",
   "id": "b440a4ad-8a57-4032-82a6-b95249e8ff3e",
   "metadata": {},
   "source": [
    "# BEGIN QUESTION\n",
    "name: q2\n",
    "manual: true"
   ]
  },
  {
   "cell_type": "markdown",
   "id": "905fdb8e-f7fd-470e-81dc-ec6af9106ae1",
   "metadata": {},
   "source": [
    "**Question 2.** Print out all the columns in the `Albums` table. Limit the number of results that get returned to 5."
   ]
  },
  {
   "cell_type": "raw",
   "id": "d552a7fb-02d0-4e82-b6a4-c2501a0ff7c2",
   "metadata": {},
   "source": [
    "# BEGIN SOLUTION"
   ]
  },
  {
   "cell_type": "code",
   "execution_count": 8,
   "id": "63d71792-aabe-48c2-aabd-5ac4f88fd943",
   "metadata": {
    "tags": []
   },
   "outputs": [
    {
     "data": {
      "text/html": [
       "<div>\n",
       "<style scoped>\n",
       "    .dataframe tbody tr th:only-of-type {\n",
       "        vertical-align: middle;\n",
       "    }\n",
       "\n",
       "    .dataframe tbody tr th {\n",
       "        vertical-align: top;\n",
       "    }\n",
       "\n",
       "    .dataframe thead th {\n",
       "        text-align: right;\n",
       "    }\n",
       "</style>\n",
       "<table border=\"1\" class=\"dataframe\">\n",
       "  <thead>\n",
       "    <tr style=\"text-align: right;\">\n",
       "      <th></th>\n",
       "      <th>AlbumId</th>\n",
       "      <th>Title</th>\n",
       "      <th>ArtistId</th>\n",
       "    </tr>\n",
       "  </thead>\n",
       "  <tbody>\n",
       "    <tr>\n",
       "      <th>0</th>\n",
       "      <td>1</td>\n",
       "      <td>For Those About To Rock We Salute You</td>\n",
       "      <td>1</td>\n",
       "    </tr>\n",
       "    <tr>\n",
       "      <th>1</th>\n",
       "      <td>2</td>\n",
       "      <td>Balls to the Wall</td>\n",
       "      <td>2</td>\n",
       "    </tr>\n",
       "    <tr>\n",
       "      <th>2</th>\n",
       "      <td>3</td>\n",
       "      <td>Restless and Wild</td>\n",
       "      <td>2</td>\n",
       "    </tr>\n",
       "    <tr>\n",
       "      <th>3</th>\n",
       "      <td>4</td>\n",
       "      <td>Let There Be Rock</td>\n",
       "      <td>1</td>\n",
       "    </tr>\n",
       "    <tr>\n",
       "      <th>4</th>\n",
       "      <td>5</td>\n",
       "      <td>Big Ones</td>\n",
       "      <td>3</td>\n",
       "    </tr>\n",
       "  </tbody>\n",
       "</table>\n",
       "</div>"
      ],
      "text/plain": [
       "   AlbumId                                  Title  ArtistId\n",
       "0        1  For Those About To Rock We Salute You         1\n",
       "1        2                      Balls to the Wall         2\n",
       "2        3                      Restless and Wild         2\n",
       "3        4                      Let There Be Rock         1\n",
       "4        5                               Big Ones         3"
      ]
     },
     "execution_count": 8,
     "metadata": {},
     "output_type": "execute_result"
    }
   ],
   "source": [
    "# BEGIN SOLUTION NO PROMPT\n",
    "query = ''' \n",
    "SELECT *\n",
    "FROM Album\n",
    "LIMIT 5;\n",
    "'''\n",
    "# END SOLUTION\n",
    "\"\"\" # BEGIN PROMPT\n",
    "query = '''\n",
    "...\n",
    "'''\n",
    "\n",
    "\"\"\"; # END PROMPT\n",
    "pd.read_sql(sql=sqlalchemy.text(query), con=db.connect())"
   ]
  },
  {
   "cell_type": "raw",
   "id": "41518415-f1d3-4a3c-b609-f08f6deb0f4f",
   "metadata": {},
   "source": [
    "# END SOLUTION"
   ]
  },
  {
   "cell_type": "raw",
   "id": "eda96cfc-9672-4262-8cfd-e5b6edfdfe36",
   "metadata": {},
   "source": [
    "# END QUESTION"
   ]
  },
  {
   "cell_type": "raw",
   "id": "5d2778e0-2a19-43e1-ac36-bc8f96078125",
   "metadata": {},
   "source": [
    "# BEGIN QUESTION\n",
    "name: q3\n",
    "manual: true"
   ]
  },
  {
   "cell_type": "markdown",
   "id": "069e374f-9efa-4445-8f5b-20a7bb8adb9e",
   "metadata": {},
   "source": [
    "**Question 3.** Return all the albums from the `Albums` table. Only show the artist id and the title of the album."
   ]
  },
  {
   "cell_type": "raw",
   "id": "a59a0a35-910a-4e5f-b591-1bf1f58f6081",
   "metadata": {},
   "source": [
    "# BEGIN SOLUTION"
   ]
  },
  {
   "cell_type": "code",
   "execution_count": 10,
   "id": "2c522ea0-444c-46c6-ae70-9d71ef341853",
   "metadata": {
    "tags": []
   },
   "outputs": [
    {
     "data": {
      "text/html": [
       "<div>\n",
       "<style scoped>\n",
       "    .dataframe tbody tr th:only-of-type {\n",
       "        vertical-align: middle;\n",
       "    }\n",
       "\n",
       "    .dataframe tbody tr th {\n",
       "        vertical-align: top;\n",
       "    }\n",
       "\n",
       "    .dataframe thead th {\n",
       "        text-align: right;\n",
       "    }\n",
       "</style>\n",
       "<table border=\"1\" class=\"dataframe\">\n",
       "  <thead>\n",
       "    <tr style=\"text-align: right;\">\n",
       "      <th></th>\n",
       "      <th>ArtistId</th>\n",
       "      <th>Title</th>\n",
       "    </tr>\n",
       "  </thead>\n",
       "  <tbody>\n",
       "    <tr>\n",
       "      <th>0</th>\n",
       "      <td>1</td>\n",
       "      <td>For Those About To Rock We Salute You</td>\n",
       "    </tr>\n",
       "    <tr>\n",
       "      <th>1</th>\n",
       "      <td>2</td>\n",
       "      <td>Balls to the Wall</td>\n",
       "    </tr>\n",
       "    <tr>\n",
       "      <th>2</th>\n",
       "      <td>2</td>\n",
       "      <td>Restless and Wild</td>\n",
       "    </tr>\n",
       "    <tr>\n",
       "      <th>3</th>\n",
       "      <td>1</td>\n",
       "      <td>Let There Be Rock</td>\n",
       "    </tr>\n",
       "    <tr>\n",
       "      <th>4</th>\n",
       "      <td>3</td>\n",
       "      <td>Big Ones</td>\n",
       "    </tr>\n",
       "    <tr>\n",
       "      <th>...</th>\n",
       "      <td>...</td>\n",
       "      <td>...</td>\n",
       "    </tr>\n",
       "    <tr>\n",
       "      <th>342</th>\n",
       "      <td>226</td>\n",
       "      <td>Respighi:Pines of Rome</td>\n",
       "    </tr>\n",
       "    <tr>\n",
       "      <th>343</th>\n",
       "      <td>272</td>\n",
       "      <td>Schubert: The Late String Quartets &amp; String Qu...</td>\n",
       "    </tr>\n",
       "    <tr>\n",
       "      <th>344</th>\n",
       "      <td>273</td>\n",
       "      <td>Monteverdi: L'Orfeo</td>\n",
       "    </tr>\n",
       "    <tr>\n",
       "      <th>345</th>\n",
       "      <td>274</td>\n",
       "      <td>Mozart: Chamber Music</td>\n",
       "    </tr>\n",
       "    <tr>\n",
       "      <th>346</th>\n",
       "      <td>275</td>\n",
       "      <td>Koyaanisqatsi (Soundtrack from the Motion Pict...</td>\n",
       "    </tr>\n",
       "  </tbody>\n",
       "</table>\n",
       "<p>347 rows × 2 columns</p>\n",
       "</div>"
      ],
      "text/plain": [
       "     ArtistId                                              Title\n",
       "0           1              For Those About To Rock We Salute You\n",
       "1           2                                  Balls to the Wall\n",
       "2           2                                  Restless and Wild\n",
       "3           1                                  Let There Be Rock\n",
       "4           3                                           Big Ones\n",
       "..        ...                                                ...\n",
       "342       226                             Respighi:Pines of Rome\n",
       "343       272  Schubert: The Late String Quartets & String Qu...\n",
       "344       273                                Monteverdi: L'Orfeo\n",
       "345       274                              Mozart: Chamber Music\n",
       "346       275  Koyaanisqatsi (Soundtrack from the Motion Pict...\n",
       "\n",
       "[347 rows x 2 columns]"
      ]
     },
     "execution_count": 10,
     "metadata": {},
     "output_type": "execute_result"
    }
   ],
   "source": [
    "# BEGIN SOLUTION NO PROMPT\n",
    "query = ''' \n",
    "SELECT ArtistId, Title\n",
    "FROM Album;\n",
    "'''\n",
    "# END SOLUTION\n",
    "\"\"\" # BEGIN PROMPT\n",
    "query = '''\n",
    "...\n",
    "'''\n",
    "\n",
    "\"\"\"; # END PROMPT\n",
    "pd.read_sql(sql=sqlalchemy.text(query), con=db.connect())"
   ]
  },
  {
   "cell_type": "raw",
   "id": "ec99a592-8e6a-45f9-9759-b312790f496f",
   "metadata": {},
   "source": [
    "# END SOLUTION"
   ]
  },
  {
   "cell_type": "raw",
   "id": "4728b549-b5cf-49fb-98a1-f84bfdffba72",
   "metadata": {},
   "source": [
    "# END QUESTION"
   ]
  },
  {
   "cell_type": "markdown",
   "id": "d755595c-a7b5-4c9b-a1d9-d87bc404e9d8",
   "metadata": {},
   "source": [
    "1 is the value for the `ArtisitID`, For the album entitled *For Those About to Rock We Salute You*, but what is the actual name of this particular artist. We can query the`Artist` table to find out."
   ]
  },
  {
   "cell_type": "raw",
   "id": "dfefb8ca-b20e-4479-b131-44bd3d73baf4",
   "metadata": {},
   "source": [
    "# BEGIN QUESTION\n",
    "name: q4\n",
    "manual: true"
   ]
  },
  {
   "cell_type": "markdown",
   "id": "4c6b9185-f154-42b0-9a38-c8867709de21",
   "metadata": {},
   "source": [
    "**Question 4.** Return artist name that belongs to `ArtistID` number 1. "
   ]
  },
  {
   "cell_type": "raw",
   "id": "a922465a-e0b4-4218-a25b-1d64ee31fd36",
   "metadata": {},
   "source": [
    "# BEGIN SOLUTION"
   ]
  },
  {
   "cell_type": "code",
   "execution_count": null,
   "id": "bd48274a-b144-4ac8-9b5e-abdd23d5d962",
   "metadata": {},
   "outputs": [],
   "source": [
    "# BEGIN SOLUTION NO PROMPT\n",
    "query = ''' \n",
    "SELECT *\n",
    "FROM Artist\n",
    "WHERE ArtistID = 1;\n",
    "'''\n",
    "# END SOLUTION\n",
    "\"\"\" # BEGIN PROMPT\n",
    "query = '''\n",
    "...\n",
    "'''\n",
    "\n",
    "\"\"\"; # END PROMPT\n",
    "pd.read_sql(sql=sqlalchemy.text(query), con=db.connect())"
   ]
  },
  {
   "cell_type": "raw",
   "id": "8de023ff-828f-46e4-a0fe-07332377d5b1",
   "metadata": {},
   "source": [
    "# END SOLUTION"
   ]
  },
  {
   "cell_type": "raw",
   "id": "a957426a-d40a-486a-a57f-66fe54b43514",
   "metadata": {},
   "source": [
    "# END QUESTION"
   ]
  },
  {
   "cell_type": "raw",
   "id": "c3ccdeaa-08f2-418e-b396-0263ad7ea4c2",
   "metadata": {},
   "source": [
    "# BEGIN QUESTION\n",
    "name: q5"
   ]
  },
  {
   "cell_type": "markdown",
   "id": "07ceeff4-75dc-4d85-8b15-ee17a7f54e1b",
   "metadata": {},
   "source": [
    "**Question 5.** Save all the artist names to a list named `artists`. There are many ways you can complete this task. You can query the table, save the results to a variable, and then select the column from the dataframe that gets returned. Alternatively, you can skip the intermediate step and grab the column directly from the dataframe that gets returned.  "
   ]
  },
  {
   "cell_type": "raw",
   "id": "54a91180-2386-47de-9f31-30e6f5d0f698",
   "metadata": {},
   "source": [
    "# BEGIN SOLUTION"
   ]
  },
  {
   "cell_type": "code",
   "execution_count": 14,
   "id": "21951b48-7fbe-49d1-951d-8d05107e86ee",
   "metadata": {
    "tags": []
   },
   "outputs": [
    {
     "data": {
      "text/plain": [
       "['AC/DC',\n",
       " 'Accept',\n",
       " 'Aerosmith',\n",
       " 'Alanis Morissette',\n",
       " 'Alice In Chains',\n",
       " 'Antônio Carlos Jobim',\n",
       " 'Apocalyptica',\n",
       " 'Audioslave',\n",
       " 'BackBeat',\n",
       " 'Billy Cobham']"
      ]
     },
     "execution_count": 14,
     "metadata": {},
     "output_type": "execute_result"
    }
   ],
   "source": [
    "# BEGIN SOLUTION NO PROMPT\n",
    "query = ''' \n",
    "SELECT *\n",
    "FROM Artist;\n",
    "'''\n",
    "\n",
    "artists = pd.read_sql(sql=sqlalchemy.text(query), con=db.connect())['Name'].to_list()\n",
    "# END SOLUTION\n",
    "\"\"\" # BEGIN PROMPT\n",
    "query = '''\n",
    "...\n",
    "'''\n",
    "\n",
    "artists = ...\n",
    "\"\"\"; # END PROMPT\n",
    "\n",
    "artists[:10]"
   ]
  },
  {
   "cell_type": "raw",
   "id": "76beab43-ece0-4b82-bb41-c0419d1b2cc6",
   "metadata": {},
   "source": [
    "# END SOLUTION"
   ]
  },
  {
   "cell_type": "raw",
   "id": "39ae1cfc-8886-4cf3-a279-a55bef28c3df",
   "metadata": {},
   "source": [
    "# BEGIN TESTS"
   ]
  },
  {
   "cell_type": "code",
   "execution_count": 15,
   "id": "2d2381c0-9d4e-4fd4-acf9-9a6854b7839b",
   "metadata": {
    "tags": []
   },
   "outputs": [
    {
     "data": {
      "text/plain": [
       "True"
      ]
     },
     "execution_count": 15,
     "metadata": {},
     "output_type": "execute_result"
    }
   ],
   "source": [
    "isinstance(artists, list)"
   ]
  },
  {
   "cell_type": "code",
   "execution_count": 16,
   "id": "8fa3c44c-872b-4796-b151-5b271b37082c",
   "metadata": {
    "tags": []
   },
   "outputs": [
    {
     "data": {
      "text/plain": [
       "275"
      ]
     },
     "execution_count": 16,
     "metadata": {},
     "output_type": "execute_result"
    }
   ],
   "source": [
    "len(artists)"
   ]
  },
  {
   "cell_type": "raw",
   "id": "a24447d0-e10e-41e1-8728-fd06e7da6be9",
   "metadata": {},
   "source": [
    "# END TESTS"
   ]
  },
  {
   "cell_type": "raw",
   "id": "06e1ef31-db25-4638-a6bf-a27fb5fc72e6",
   "metadata": {},
   "source": [
    "# END QUESTION"
   ]
  },
  {
   "cell_type": "raw",
   "id": "e70ad956-a8da-412f-88b4-2e5ef6f7cf96",
   "metadata": {},
   "source": [
    "# BEGIN QUESTION\n",
    "name: q6\n",
    "manual: true"
   ]
  },
  {
   "cell_type": "markdown",
   "id": "af5aa458-8b62-4513-be78-766ca29d02f8",
   "metadata": {},
   "source": [
    "**Question 6.** Choose an artist from your list. Then join the `Artist` and `Album` tables to show the artist name and the title(s) for each album the artist made. This can be using a single SQL Query or, if you prefer, you can manipulate the data frame that gets returned after your join. For example, I chose Miles Davis and this was my output.\n",
    "\n",
    "| |**Artist**|**Album**|\n",
    "|-|--------|--------:|\n",
    "|**0**|Miles Davis|The Essential Miles Davis [Disc 1]|\n",
    "|**1**|Miles Davis|The Essential Miles Davis [Disc 2]|\n",
    "|**2**|Miles Davis|Miles Ahead|\n",
    "\n",
    "**Note:** Make sure you choose an artist other than *Miles Davis* and that the column names are **Artist** and **Album**."
   ]
  },
  {
   "cell_type": "raw",
   "id": "c5c3e1c5-bc4b-4f1e-bbf4-476acfda7f7a",
   "metadata": {},
   "source": [
    "# BEGIN SOLUTION"
   ]
  },
  {
   "cell_type": "code",
   "execution_count": 17,
   "id": "1cced6f3-99a0-4a59-a6af-3e6df8d971d4",
   "metadata": {
    "tags": []
   },
   "outputs": [
    {
     "data": {
      "text/html": [
       "<div>\n",
       "<style scoped>\n",
       "    .dataframe tbody tr th:only-of-type {\n",
       "        vertical-align: middle;\n",
       "    }\n",
       "\n",
       "    .dataframe tbody tr th {\n",
       "        vertical-align: top;\n",
       "    }\n",
       "\n",
       "    .dataframe thead th {\n",
       "        text-align: right;\n",
       "    }\n",
       "</style>\n",
       "<table border=\"1\" class=\"dataframe\">\n",
       "  <thead>\n",
       "    <tr style=\"text-align: right;\">\n",
       "      <th></th>\n",
       "      <th>Artist</th>\n",
       "      <th>Album</th>\n",
       "    </tr>\n",
       "  </thead>\n",
       "  <tbody>\n",
       "    <tr>\n",
       "      <th>0</th>\n",
       "      <td>Miles Davis</td>\n",
       "      <td>The Essential Miles Davis [Disc 1]</td>\n",
       "    </tr>\n",
       "    <tr>\n",
       "      <th>1</th>\n",
       "      <td>Miles Davis</td>\n",
       "      <td>The Essential Miles Davis [Disc 2]</td>\n",
       "    </tr>\n",
       "    <tr>\n",
       "      <th>2</th>\n",
       "      <td>Miles Davis</td>\n",
       "      <td>Miles Ahead</td>\n",
       "    </tr>\n",
       "  </tbody>\n",
       "</table>\n",
       "</div>"
      ],
      "text/plain": [
       "        Artist                               Album\n",
       "0  Miles Davis  The Essential Miles Davis [Disc 1]\n",
       "1  Miles Davis  The Essential Miles Davis [Disc 2]\n",
       "2  Miles Davis                         Miles Ahead"
      ]
     },
     "execution_count": 17,
     "metadata": {},
     "output_type": "execute_result"
    }
   ],
   "source": [
    "# BEGIN SOLUTION NO PROMPT\n",
    "query = ''' \n",
    "SELECT Artist.Name as Artist, Album.Title as Album\n",
    "FROM Artist JOIN Album \n",
    "   ON Artist.ArtistId = Album.ArtistId\n",
    "WHERE Artist.Name = 'Miles Davis';\n",
    "'''\n",
    "# END SOLUTION\n",
    "\"\"\" # BEGIN PROMPT\n",
    "query = '''\n",
    "...\n",
    "'''\n",
    "\n",
    "\"\"\"; # END PROMPT\n",
    "pd.read_sql(sql=sqlalchemy.text(query), con=db.connect())"
   ]
  },
  {
   "cell_type": "raw",
   "id": "02b39cec-2bd4-4ad2-9966-d5b72386f882",
   "metadata": {},
   "source": [
    "# END SOLUTION"
   ]
  },
  {
   "cell_type": "raw",
   "id": "87cbc66b-0669-424c-83d9-343a4e9a22a6",
   "metadata": {},
   "source": [
    "# END QUESTION"
   ]
  },
  {
   "cell_type": "raw",
   "id": "2e229d90-ef6d-47ae-9cfd-03df38f8eebb",
   "metadata": {},
   "source": [
    "# BEGIN QUESTION\n",
    "name: q7"
   ]
  },
  {
   "cell_type": "markdown",
   "id": "15421fa4-4d6f-4f61-99db-66d24d1dc5e9",
   "metadata": {},
   "source": [
    "**Question 7.** Save all the genre names to a list named `genres`. There are many ways you can complete this task. You can query the table, save the results to a variable, and then select the column from the dataframe that gets returned. Alternatively, you can skip the intermediate step and grab the column directly from the dataframe that gets returned. "
   ]
  },
  {
   "cell_type": "raw",
   "id": "119cd501-e47b-470c-8641-aa491717ae09",
   "metadata": {},
   "source": [
    "# BEGIN SOLUTION"
   ]
  },
  {
   "cell_type": "code",
   "execution_count": 18,
   "id": "8e04e93a-d26b-49ea-a557-98903d89a8c5",
   "metadata": {
    "tags": []
   },
   "outputs": [
    {
     "data": {
      "text/plain": [
       "['Rock',\n",
       " 'Jazz',\n",
       " 'Metal',\n",
       " 'Alternative & Punk',\n",
       " 'Rock And Roll',\n",
       " 'Blues',\n",
       " 'Latin',\n",
       " 'Reggae',\n",
       " 'Pop',\n",
       " 'Soundtrack',\n",
       " 'Bossa Nova',\n",
       " 'Easy Listening',\n",
       " 'Heavy Metal',\n",
       " 'R&B/Soul',\n",
       " 'Electronica/Dance',\n",
       " 'World',\n",
       " 'Hip Hop/Rap',\n",
       " 'Science Fiction',\n",
       " 'TV Shows',\n",
       " 'Sci Fi & Fantasy',\n",
       " 'Drama',\n",
       " 'Comedy',\n",
       " 'Alternative',\n",
       " 'Classical',\n",
       " 'Opera']"
      ]
     },
     "execution_count": 18,
     "metadata": {},
     "output_type": "execute_result"
    }
   ],
   "source": [
    "# BEGIN SOLUTION NO PROMPT\n",
    "query = ''' \n",
    "SELECT *\n",
    "FROM Genre;\n",
    "'''\n",
    "\n",
    "genres = pd.read_sql(sql=sqlalchemy.text(query), con=db.connect())['Name'].to_list()\n",
    "# END SOLUTION\n",
    "\"\"\" # BEGIN PROMPT\n",
    "query = '''\n",
    "...\n",
    "'''\n",
    "\n",
    "genres = ...\n",
    "\"\"\"; # END PROMPT\n",
    "genres"
   ]
  },
  {
   "cell_type": "raw",
   "id": "abba3333-b0d9-437a-88b6-9557432481ae",
   "metadata": {},
   "source": [
    "# END SOLUTION"
   ]
  },
  {
   "cell_type": "raw",
   "id": "2431f2ac-cc85-45d3-a3fb-2ecb9cdeba6d",
   "metadata": {},
   "source": [
    "# BEGIN TESTS"
   ]
  },
  {
   "cell_type": "code",
   "execution_count": 19,
   "id": "8265ba28-cf5a-4385-8ee6-ff066fddd7cd",
   "metadata": {
    "tags": []
   },
   "outputs": [
    {
     "data": {
      "text/plain": [
       "True"
      ]
     },
     "execution_count": 19,
     "metadata": {},
     "output_type": "execute_result"
    }
   ],
   "source": [
    "isinstance(genres, list)"
   ]
  },
  {
   "cell_type": "code",
   "execution_count": 20,
   "id": "05eec03c-f1fc-4e61-943b-b0d8f0bea87e",
   "metadata": {
    "tags": []
   },
   "outputs": [
    {
     "data": {
      "text/plain": [
       "25"
      ]
     },
     "execution_count": 20,
     "metadata": {},
     "output_type": "execute_result"
    }
   ],
   "source": [
    "len(genres)"
   ]
  },
  {
   "cell_type": "raw",
   "id": "9fb37f92-1d22-481a-adc3-e198cb177921",
   "metadata": {},
   "source": [
    "# END TESTS"
   ]
  },
  {
   "cell_type": "raw",
   "id": "3da7f12f-2fcc-456f-ac7a-d6182a78eaef",
   "metadata": {},
   "source": [
    "# END QUESTION"
   ]
  },
  {
   "cell_type": "raw",
   "id": "198dd0c6-4789-4c9c-b1e8-6a6f53a1fbcd",
   "metadata": {},
   "source": [
    "# BEGIN QUESTION\n",
    "name: q8\n",
    "manual: true"
   ]
  },
  {
   "cell_type": "markdown",
   "id": "9c12908e-e23b-442a-b7ff-93d75f555e43",
   "metadata": {},
   "source": [
    "**Question 8.** Choose two different genres from your list and find the `GenreId` for each. \n",
    "\n",
    "**Note:** To earn all the points for this question you must show the SQL query that you used."
   ]
  },
  {
   "cell_type": "raw",
   "id": "d487f386-7265-4501-b3ff-8a7117535589",
   "metadata": {},
   "source": [
    "# BEGIN SOLUTION"
   ]
  },
  {
   "cell_type": "code",
   "execution_count": 21,
   "id": "fcab5b7b-69cc-43a1-9070-8d8d5266fc8b",
   "metadata": {
    "tags": []
   },
   "outputs": [
    {
     "data": {
      "text/html": [
       "<div>\n",
       "<style scoped>\n",
       "    .dataframe tbody tr th:only-of-type {\n",
       "        vertical-align: middle;\n",
       "    }\n",
       "\n",
       "    .dataframe tbody tr th {\n",
       "        vertical-align: top;\n",
       "    }\n",
       "\n",
       "    .dataframe thead th {\n",
       "        text-align: right;\n",
       "    }\n",
       "</style>\n",
       "<table border=\"1\" class=\"dataframe\">\n",
       "  <thead>\n",
       "    <tr style=\"text-align: right;\">\n",
       "      <th></th>\n",
       "      <th>GenreId</th>\n",
       "      <th>Name</th>\n",
       "    </tr>\n",
       "  </thead>\n",
       "  <tbody>\n",
       "    <tr>\n",
       "      <th>0</th>\n",
       "      <td>8</td>\n",
       "      <td>Reggae</td>\n",
       "    </tr>\n",
       "    <tr>\n",
       "      <th>1</th>\n",
       "      <td>14</td>\n",
       "      <td>R&amp;B/Soul</td>\n",
       "    </tr>\n",
       "  </tbody>\n",
       "</table>\n",
       "</div>"
      ],
      "text/plain": [
       "   GenreId      Name\n",
       "0        8    Reggae\n",
       "1       14  R&B/Soul"
      ]
     },
     "execution_count": 21,
     "metadata": {},
     "output_type": "execute_result"
    }
   ],
   "source": [
    "# BEGIN SOLUTION NO PROMPT\n",
    "query = ''' \n",
    "SELECT *\n",
    "FROM Genre\n",
    "WHERE Name = 'R&B/Soul' OR Name = 'Reggae';\n",
    "'''\n",
    "\n",
    "# END SOLUTION\n",
    "\"\"\" # BEGIN PROMPT\n",
    "query = '''\n",
    "...\n",
    "'''\n",
    "\n",
    "\"\"\"; # END PROMPT\n",
    "pd.read_sql(sql=sqlalchemy.text(query), con=db.connect())"
   ]
  },
  {
   "cell_type": "raw",
   "id": "3b194dc1-fbe9-4411-bab8-1126099485b3",
   "metadata": {},
   "source": [
    "# END SOLUTION"
   ]
  },
  {
   "cell_type": "raw",
   "id": "af851372-2712-401a-97b8-aa389c3fb3c6",
   "metadata": {},
   "source": [
    "# END QUESTION"
   ]
  },
  {
   "cell_type": "raw",
   "id": "8fad381a-ad37-4a27-92c5-38929aa06f8d",
   "metadata": {},
   "source": [
    "# BEGIN QUESTION\n",
    "name: q9\n",
    "manual: true"
   ]
  },
  {
   "cell_type": "markdown",
   "id": "0d170a88-57ce-43bd-a0f7-aa23421b0737",
   "metadata": {},
   "source": [
    "**Question 9.** Find all the tracks that are listed for each genre you chose in the previous question. This can be using a single SQL Query or, if you prefer, you can manipulate the data frame that gets returned after your join. For example, I chose R&B Soul and Reggae, and this was my output.\n",
    "\n",
    "| |**Track**|**Genre**|\n",
    "|-|--------|--------:|\n",
    "|**0**|Girassol|Reggae|\n",
    "|**1**|A Sombra Da Maldade|Reggae|\n",
    "|**2**|Johnny B. Goode|Reggae|\n",
    "|**...**|||\n",
    "|**117**|You Know I'm No Good (feat. Ghostface Killah)|R&B/Soul|\n",
    "|**118**|Rehab (Hot Chip Remix)|R&B/Soul|\n",
    "\n",
    "\n",
    "**Note:** Make sure you choose a combination other than R&B Soul/Reggae and that the column names are **Track** and **Genre**."
   ]
  },
  {
   "cell_type": "raw",
   "id": "eb7112e2-fc17-43b8-be44-f65432ea9c13",
   "metadata": {},
   "source": [
    "# BEGIN SOLUTION"
   ]
  },
  {
   "cell_type": "code",
   "execution_count": 22,
   "id": "6719c9a3-1df2-4319-9cf7-1baf9452407c",
   "metadata": {
    "tags": []
   },
   "outputs": [
    {
     "data": {
      "text/html": [
       "<div>\n",
       "<style scoped>\n",
       "    .dataframe tbody tr th:only-of-type {\n",
       "        vertical-align: middle;\n",
       "    }\n",
       "\n",
       "    .dataframe tbody tr th {\n",
       "        vertical-align: top;\n",
       "    }\n",
       "\n",
       "    .dataframe thead th {\n",
       "        text-align: right;\n",
       "    }\n",
       "</style>\n",
       "<table border=\"1\" class=\"dataframe\">\n",
       "  <thead>\n",
       "    <tr style=\"text-align: right;\">\n",
       "      <th></th>\n",
       "      <th>Track</th>\n",
       "      <th>Genre</th>\n",
       "    </tr>\n",
       "  </thead>\n",
       "  <tbody>\n",
       "    <tr>\n",
       "      <th>0</th>\n",
       "      <td>Girassol</td>\n",
       "      <td>Reggae</td>\n",
       "    </tr>\n",
       "    <tr>\n",
       "      <th>1</th>\n",
       "      <td>A Sombra Da Maldade</td>\n",
       "      <td>Reggae</td>\n",
       "    </tr>\n",
       "    <tr>\n",
       "      <th>2</th>\n",
       "      <td>Johnny B. Goode</td>\n",
       "      <td>Reggae</td>\n",
       "    </tr>\n",
       "    <tr>\n",
       "      <th>3</th>\n",
       "      <td>Soldado Da Paz</td>\n",
       "      <td>Reggae</td>\n",
       "    </tr>\n",
       "    <tr>\n",
       "      <th>4</th>\n",
       "      <td>Firmamento</td>\n",
       "      <td>Reggae</td>\n",
       "    </tr>\n",
       "    <tr>\n",
       "      <th>...</th>\n",
       "      <td>...</td>\n",
       "      <td>...</td>\n",
       "    </tr>\n",
       "    <tr>\n",
       "      <th>114</th>\n",
       "      <td>Wake Up Alone</td>\n",
       "      <td>R&amp;B/Soul</td>\n",
       "    </tr>\n",
       "    <tr>\n",
       "      <th>115</th>\n",
       "      <td>Some Unholy War</td>\n",
       "      <td>R&amp;B/Soul</td>\n",
       "    </tr>\n",
       "    <tr>\n",
       "      <th>116</th>\n",
       "      <td>He Can Only Hold Her</td>\n",
       "      <td>R&amp;B/Soul</td>\n",
       "    </tr>\n",
       "    <tr>\n",
       "      <th>117</th>\n",
       "      <td>You Know I'm No Good (feat. Ghostface Killah)</td>\n",
       "      <td>R&amp;B/Soul</td>\n",
       "    </tr>\n",
       "    <tr>\n",
       "      <th>118</th>\n",
       "      <td>Rehab (Hot Chip Remix)</td>\n",
       "      <td>R&amp;B/Soul</td>\n",
       "    </tr>\n",
       "  </tbody>\n",
       "</table>\n",
       "<p>119 rows × 2 columns</p>\n",
       "</div>"
      ],
      "text/plain": [
       "                                             Track     Genre\n",
       "0                                         Girassol    Reggae\n",
       "1                              A Sombra Da Maldade    Reggae\n",
       "2                                  Johnny B. Goode    Reggae\n",
       "3                                   Soldado Da Paz    Reggae\n",
       "4                                       Firmamento    Reggae\n",
       "..                                             ...       ...\n",
       "114                                  Wake Up Alone  R&B/Soul\n",
       "115                                Some Unholy War  R&B/Soul\n",
       "116                           He Can Only Hold Her  R&B/Soul\n",
       "117  You Know I'm No Good (feat. Ghostface Killah)  R&B/Soul\n",
       "118                         Rehab (Hot Chip Remix)  R&B/Soul\n",
       "\n",
       "[119 rows x 2 columns]"
      ]
     },
     "execution_count": 22,
     "metadata": {},
     "output_type": "execute_result"
    }
   ],
   "source": [
    "# BEGIN SOLUTION NO PROMPT\n",
    "query = ''' \n",
    "SELECT Track.Name as Track, Genre.Name as Genre\n",
    "FROM Track JOIN Genre \n",
    "    ON Track.GenreId = Genre.GenreId\n",
    "WHERE Track.GenreId = 8 OR Track.GenreId = 14;\n",
    "'''\n",
    "# END SOLUTION\n",
    "\"\"\" # BEGIN PROMPT\n",
    "query = '''\n",
    "...\n",
    "'''\n",
    "\n",
    "\"\"\"; # END PROMPT\n",
    "pd.read_sql(sql=sqlalchemy.text(query), con=db.connect())"
   ]
  },
  {
   "cell_type": "raw",
   "id": "55d8ad05-8fad-4e03-911e-7b1ea179fe3c",
   "metadata": {},
   "source": [
    "# END SOLUTION"
   ]
  },
  {
   "cell_type": "raw",
   "id": "9cc198e1-a3e9-4586-89d6-3ed2b935ec9c",
   "metadata": {},
   "source": [
    "# END QUESTION"
   ]
  },
  {
   "cell_type": "raw",
   "id": "d742afc7-d72d-4280-a3af-62faca15f96e",
   "metadata": {},
   "source": [
    "# BEGIN QUESTION\n",
    "name: q10\n",
    "manual: true"
   ]
  },
  {
   "cell_type": "markdown",
   "id": "b4a6428a-11be-4a9f-9fd4-f86757e7503c",
   "metadata": {},
   "source": [
    "**Question 10.** Choose one track from each genre that you used to complete the two previous questions. This can be using a single SQL Query or, if you prefer, you can manipulate the data frame that gets returned after your join. Find the albums that these tracks appear on. For example, for the tracks I chose I got this.\n",
    "\n",
    "| |**Track**|**AlbumId**|\n",
    "|-|--------|--------:|\n",
    "|**0**|Girassol|26|\n",
    "|**1**|You Know I'm No Good (feat. Ghostface Killah)|321|\n",
    "\n",
    "\n",
    "**Note:** Make sure that the column names are **Track** and **AlbumId**."
   ]
  },
  {
   "cell_type": "raw",
   "id": "029a5659-7659-4844-b9ba-3c5f003dece3",
   "metadata": {},
   "source": [
    "# BEGIN SOLUTION"
   ]
  },
  {
   "cell_type": "code",
   "execution_count": 23,
   "id": "be4ea512-9c96-40da-a023-71128ab15317",
   "metadata": {
    "tags": []
   },
   "outputs": [
    {
     "data": {
      "text/html": [
       "<div>\n",
       "<style scoped>\n",
       "    .dataframe tbody tr th:only-of-type {\n",
       "        vertical-align: middle;\n",
       "    }\n",
       "\n",
       "    .dataframe tbody tr th {\n",
       "        vertical-align: top;\n",
       "    }\n",
       "\n",
       "    .dataframe thead th {\n",
       "        text-align: right;\n",
       "    }\n",
       "</style>\n",
       "<table border=\"1\" class=\"dataframe\">\n",
       "  <thead>\n",
       "    <tr style=\"text-align: right;\">\n",
       "      <th></th>\n",
       "      <th>Track</th>\n",
       "      <th>AlbumId</th>\n",
       "    </tr>\n",
       "  </thead>\n",
       "  <tbody>\n",
       "    <tr>\n",
       "      <th>0</th>\n",
       "      <td>Girassol</td>\n",
       "      <td>26</td>\n",
       "    </tr>\n",
       "    <tr>\n",
       "      <th>1</th>\n",
       "      <td>You Know I'm No Good (feat. Ghostface Killah)</td>\n",
       "      <td>321</td>\n",
       "    </tr>\n",
       "  </tbody>\n",
       "</table>\n",
       "</div>"
      ],
      "text/plain": [
       "                                           Track  AlbumId\n",
       "0                                       Girassol       26\n",
       "1  You Know I'm No Good (feat. Ghostface Killah)      321"
      ]
     },
     "execution_count": 23,
     "metadata": {},
     "output_type": "execute_result"
    }
   ],
   "source": [
    "# BEGIN SOLUTION NO PROMPT\n",
    "query = ''' \n",
    "SELECT Name as Track, AlbumId\n",
    "FROM Track \n",
    "WHERE Name = 'Girassol' OR Name = \"You Know I'm No Good (feat. Ghostface Killah)\";\n",
    "'''\n",
    "# END SOLUTION\n",
    "\"\"\" # BEGIN PROMPT\n",
    "query = '''\n",
    "...\n",
    "'''\n",
    "\n",
    "\"\"\"; # END PROMPT\n",
    "pd.read_sql(sql=sqlalchemy.text(query), con=db.connect())"
   ]
  },
  {
   "cell_type": "raw",
   "id": "827ea7c4-5adb-4c1b-a8e2-66d470b23d74",
   "metadata": {},
   "source": [
    "# END SOLUTION"
   ]
  },
  {
   "cell_type": "raw",
   "id": "b85c7805-3d98-4a8b-9eca-d14f9612d590",
   "metadata": {},
   "source": [
    "# END QUESTION"
   ]
  },
  {
   "cell_type": "raw",
   "id": "243bf6eb-21e0-4498-afc5-f898bc33051f",
   "metadata": {},
   "source": [
    "# BEGIN QUESTION\n",
    "name: q11\n",
    "manual: true"
   ]
  },
  {
   "cell_type": "markdown",
   "id": "9d53087e-920b-4bf1-95f2-d6dd85a2ab9d",
   "metadata": {},
   "source": [
    "**Question 11.** List all the tracks on the albums that contain the songs you chose from the previous question. This can be using a single SQL Query or, if you prefer, you can manipulate the data frame that gets returned after your join. For example, my output looks like this:\n",
    " \n",
    "| |**Track**|**Album**|\n",
    "|-|--------|--------:|\n",
    "|**0**|Girassol|Acústico MTV [Live]|\n",
    "|**1**|A Sombra Da Maldade|Acústico MTV [Live]|\n",
    "|**...**|||\n",
    "|**27**|You Know I'm No Good (feat. Ghostface Killah)|Back to Black|\n",
    "|**28**|Rehab (Hot Chip Remix)|Back to Black|\n",
    "\n",
    "\n",
    "\n",
    "**Note:** Make sure that the column names are **Track** and **Album**."
   ]
  },
  {
   "cell_type": "raw",
   "id": "b3696496-e412-4750-8e90-b444b812d66c",
   "metadata": {},
   "source": [
    "# BEGIN SOLUTION"
   ]
  },
  {
   "cell_type": "code",
   "execution_count": 24,
   "id": "f8920e05-1676-4464-a88f-d0a6e5edb362",
   "metadata": {
    "tags": []
   },
   "outputs": [
    {
     "data": {
      "text/html": [
       "<div>\n",
       "<style scoped>\n",
       "    .dataframe tbody tr th:only-of-type {\n",
       "        vertical-align: middle;\n",
       "    }\n",
       "\n",
       "    .dataframe tbody tr th {\n",
       "        vertical-align: top;\n",
       "    }\n",
       "\n",
       "    .dataframe thead th {\n",
       "        text-align: right;\n",
       "    }\n",
       "</style>\n",
       "<table border=\"1\" class=\"dataframe\">\n",
       "  <thead>\n",
       "    <tr style=\"text-align: right;\">\n",
       "      <th></th>\n",
       "      <th>Track</th>\n",
       "      <th>Album</th>\n",
       "    </tr>\n",
       "  </thead>\n",
       "  <tbody>\n",
       "    <tr>\n",
       "      <th>0</th>\n",
       "      <td>Girassol</td>\n",
       "      <td>Acústico MTV [Live]</td>\n",
       "    </tr>\n",
       "    <tr>\n",
       "      <th>1</th>\n",
       "      <td>A Sombra Da Maldade</td>\n",
       "      <td>Acústico MTV [Live]</td>\n",
       "    </tr>\n",
       "    <tr>\n",
       "      <th>2</th>\n",
       "      <td>Johnny B. Goode</td>\n",
       "      <td>Acústico MTV [Live]</td>\n",
       "    </tr>\n",
       "    <tr>\n",
       "      <th>3</th>\n",
       "      <td>Soldado Da Paz</td>\n",
       "      <td>Acústico MTV [Live]</td>\n",
       "    </tr>\n",
       "    <tr>\n",
       "      <th>4</th>\n",
       "      <td>Firmamento</td>\n",
       "      <td>Acústico MTV [Live]</td>\n",
       "    </tr>\n",
       "    <tr>\n",
       "      <th>5</th>\n",
       "      <td>Extra</td>\n",
       "      <td>Acústico MTV [Live]</td>\n",
       "    </tr>\n",
       "    <tr>\n",
       "      <th>6</th>\n",
       "      <td>O Erê</td>\n",
       "      <td>Acústico MTV [Live]</td>\n",
       "    </tr>\n",
       "    <tr>\n",
       "      <th>7</th>\n",
       "      <td>Podes Crer</td>\n",
       "      <td>Acústico MTV [Live]</td>\n",
       "    </tr>\n",
       "    <tr>\n",
       "      <th>8</th>\n",
       "      <td>A Estrada</td>\n",
       "      <td>Acústico MTV [Live]</td>\n",
       "    </tr>\n",
       "    <tr>\n",
       "      <th>9</th>\n",
       "      <td>Berlim</td>\n",
       "      <td>Acústico MTV [Live]</td>\n",
       "    </tr>\n",
       "    <tr>\n",
       "      <th>10</th>\n",
       "      <td>Já Foi</td>\n",
       "      <td>Acústico MTV [Live]</td>\n",
       "    </tr>\n",
       "    <tr>\n",
       "      <th>11</th>\n",
       "      <td>Onde Você Mora?</td>\n",
       "      <td>Acústico MTV [Live]</td>\n",
       "    </tr>\n",
       "    <tr>\n",
       "      <th>12</th>\n",
       "      <td>Pensamento</td>\n",
       "      <td>Acústico MTV [Live]</td>\n",
       "    </tr>\n",
       "    <tr>\n",
       "      <th>13</th>\n",
       "      <td>Conciliação</td>\n",
       "      <td>Acústico MTV [Live]</td>\n",
       "    </tr>\n",
       "    <tr>\n",
       "      <th>14</th>\n",
       "      <td>Realidade Virtual</td>\n",
       "      <td>Acústico MTV [Live]</td>\n",
       "    </tr>\n",
       "    <tr>\n",
       "      <th>15</th>\n",
       "      <td>Mensagem</td>\n",
       "      <td>Acústico MTV [Live]</td>\n",
       "    </tr>\n",
       "    <tr>\n",
       "      <th>16</th>\n",
       "      <td>A Cor Do Sol</td>\n",
       "      <td>Acústico MTV [Live]</td>\n",
       "    </tr>\n",
       "    <tr>\n",
       "      <th>17</th>\n",
       "      <td>Rehab</td>\n",
       "      <td>Back to Black</td>\n",
       "    </tr>\n",
       "    <tr>\n",
       "      <th>18</th>\n",
       "      <td>You Know I'm No Good</td>\n",
       "      <td>Back to Black</td>\n",
       "    </tr>\n",
       "    <tr>\n",
       "      <th>19</th>\n",
       "      <td>Me &amp; Mr. Jones</td>\n",
       "      <td>Back to Black</td>\n",
       "    </tr>\n",
       "    <tr>\n",
       "      <th>20</th>\n",
       "      <td>Just Friends</td>\n",
       "      <td>Back to Black</td>\n",
       "    </tr>\n",
       "    <tr>\n",
       "      <th>21</th>\n",
       "      <td>Back to Black</td>\n",
       "      <td>Back to Black</td>\n",
       "    </tr>\n",
       "    <tr>\n",
       "      <th>22</th>\n",
       "      <td>Love Is a Losing Game</td>\n",
       "      <td>Back to Black</td>\n",
       "    </tr>\n",
       "    <tr>\n",
       "      <th>23</th>\n",
       "      <td>Tears Dry On Their Own</td>\n",
       "      <td>Back to Black</td>\n",
       "    </tr>\n",
       "    <tr>\n",
       "      <th>24</th>\n",
       "      <td>Wake Up Alone</td>\n",
       "      <td>Back to Black</td>\n",
       "    </tr>\n",
       "    <tr>\n",
       "      <th>25</th>\n",
       "      <td>Some Unholy War</td>\n",
       "      <td>Back to Black</td>\n",
       "    </tr>\n",
       "    <tr>\n",
       "      <th>26</th>\n",
       "      <td>He Can Only Hold Her</td>\n",
       "      <td>Back to Black</td>\n",
       "    </tr>\n",
       "    <tr>\n",
       "      <th>27</th>\n",
       "      <td>You Know I'm No Good (feat. Ghostface Killah)</td>\n",
       "      <td>Back to Black</td>\n",
       "    </tr>\n",
       "    <tr>\n",
       "      <th>28</th>\n",
       "      <td>Rehab (Hot Chip Remix)</td>\n",
       "      <td>Back to Black</td>\n",
       "    </tr>\n",
       "  </tbody>\n",
       "</table>\n",
       "</div>"
      ],
      "text/plain": [
       "                                            Track                Album\n",
       "0                                        Girassol  Acústico MTV [Live]\n",
       "1                             A Sombra Da Maldade  Acústico MTV [Live]\n",
       "2                                 Johnny B. Goode  Acústico MTV [Live]\n",
       "3                                  Soldado Da Paz  Acústico MTV [Live]\n",
       "4                                      Firmamento  Acústico MTV [Live]\n",
       "5                                           Extra  Acústico MTV [Live]\n",
       "6                                           O Erê  Acústico MTV [Live]\n",
       "7                                      Podes Crer  Acústico MTV [Live]\n",
       "8                                       A Estrada  Acústico MTV [Live]\n",
       "9                                          Berlim  Acústico MTV [Live]\n",
       "10                                         Já Foi  Acústico MTV [Live]\n",
       "11                                Onde Você Mora?  Acústico MTV [Live]\n",
       "12                                     Pensamento  Acústico MTV [Live]\n",
       "13                                    Conciliação  Acústico MTV [Live]\n",
       "14                              Realidade Virtual  Acústico MTV [Live]\n",
       "15                                       Mensagem  Acústico MTV [Live]\n",
       "16                                   A Cor Do Sol  Acústico MTV [Live]\n",
       "17                                          Rehab        Back to Black\n",
       "18                           You Know I'm No Good        Back to Black\n",
       "19                                 Me & Mr. Jones        Back to Black\n",
       "20                                   Just Friends        Back to Black\n",
       "21                                  Back to Black        Back to Black\n",
       "22                          Love Is a Losing Game        Back to Black\n",
       "23                         Tears Dry On Their Own        Back to Black\n",
       "24                                  Wake Up Alone        Back to Black\n",
       "25                                Some Unholy War        Back to Black\n",
       "26                           He Can Only Hold Her        Back to Black\n",
       "27  You Know I'm No Good (feat. Ghostface Killah)        Back to Black\n",
       "28                         Rehab (Hot Chip Remix)        Back to Black"
      ]
     },
     "execution_count": 24,
     "metadata": {},
     "output_type": "execute_result"
    }
   ],
   "source": [
    "# BEGIN SOLUTION NO PROMPT\n",
    "query = ''' \n",
    "SELECT Track.Name as Track, Album.Title as Album\n",
    "FROM Track JOIN Album\n",
    "    ON Track.AlbumId = Album.AlbumId\n",
    "WHERE Track.AlbumId = 26 OR Album.AlbumId = 321;\n",
    "'''\n",
    "# END SOLUTION\n",
    "\"\"\" # BEGIN PROMPT\n",
    "query = '''\n",
    "...\n",
    "'''\n",
    "\n",
    "\"\"\"; # END PROMPT\n",
    "pd.read_sql(sql=sqlalchemy.text(query), con=db.connect())"
   ]
  },
  {
   "cell_type": "raw",
   "id": "44156072-4318-4bad-9027-39a34eb4d3fe",
   "metadata": {},
   "source": [
    "# END SOLUTION"
   ]
  },
  {
   "cell_type": "raw",
   "id": "e38ae9bb-0c33-4cc1-bfce-01a87e016c0a",
   "metadata": {},
   "source": [
    "# END QUESTION"
   ]
  },
  {
   "cell_type": "markdown",
   "id": "c1acf36f-0231-4e30-bfcf-0c253bdf8b0e",
   "metadata": {},
   "source": [
    "You're probably thinking what if I need to join data from more than tow tables. Well, the good news is you can do it. "
   ]
  },
  {
   "cell_type": "raw",
   "id": "11d2b9ae-66d3-4cfb-ab1e-3a0f56015d3f",
   "metadata": {},
   "source": [
    "# BEGIN QUESTION\n",
    "name: q12\n",
    "manual: true"
   ]
  },
  {
   "cell_type": "markdown",
   "id": "3a8954ed-73b8-4b6f-8076-fd26a95e9dde",
   "metadata": {},
   "source": [
    "**Question 12.** Add the artist name to the list of the all the tracks from the previous question. This can be using a single SQL Query or, if you prefer, you can manipulate the data frame that gets returned after your join. For example, my output looks like this:\n",
    "\n",
    "| |**Track**|**Album**|**Artist**|\n",
    "|-|--------|-----------:|---------:|\n",
    "|**0**|Girassol|Acústico MTV [Live]|Cidade Negra|\n",
    "|**1**|A Sombra Da Maldade|Acústico MTV [Live]|Cidade Negra|\n",
    "|**...**|||\n",
    "|**27**|You Know I'm No Good (feat. Ghostface Killah)|Back to Black|Amy Winehouse|\n",
    "|**28**|Rehab (Hot Chip Remix)|Back to Black|Amy Winehouse|\n",
    "\n",
    "\n",
    "\n",
    "**Note:** Make sure that the column names are **Track**, **Album** and **Artist**.\n",
    "\n",
    "**Hint:** You can add another `JOIN` clause to your query from the previous question. For example,\n",
    "\n",
    "```\n",
    "SELECT ...\n",
    "FROM <table 1> JOIN <table 2>\n",
    "    ON ... = ... JOIN <table 3>\n",
    "    ON ... = ...\n",
    "WHERE ... = ... OR ... = ...;\n",
    "```"
   ]
  },
  {
   "cell_type": "raw",
   "id": "d2d9fdc3-6800-4698-aeff-14899039945b",
   "metadata": {},
   "source": [
    "# BEGIN SOLUTION"
   ]
  },
  {
   "cell_type": "code",
   "execution_count": 25,
   "id": "1af5ffa4-b250-4113-bb80-782c15f04f0c",
   "metadata": {
    "tags": []
   },
   "outputs": [
    {
     "data": {
      "text/html": [
       "<div>\n",
       "<style scoped>\n",
       "    .dataframe tbody tr th:only-of-type {\n",
       "        vertical-align: middle;\n",
       "    }\n",
       "\n",
       "    .dataframe tbody tr th {\n",
       "        vertical-align: top;\n",
       "    }\n",
       "\n",
       "    .dataframe thead th {\n",
       "        text-align: right;\n",
       "    }\n",
       "</style>\n",
       "<table border=\"1\" class=\"dataframe\">\n",
       "  <thead>\n",
       "    <tr style=\"text-align: right;\">\n",
       "      <th></th>\n",
       "      <th>Track</th>\n",
       "      <th>Album</th>\n",
       "      <th>Artist</th>\n",
       "    </tr>\n",
       "  </thead>\n",
       "  <tbody>\n",
       "    <tr>\n",
       "      <th>0</th>\n",
       "      <td>Girassol</td>\n",
       "      <td>Acústico MTV [Live]</td>\n",
       "      <td>Cidade Negra</td>\n",
       "    </tr>\n",
       "    <tr>\n",
       "      <th>1</th>\n",
       "      <td>A Sombra Da Maldade</td>\n",
       "      <td>Acústico MTV [Live]</td>\n",
       "      <td>Cidade Negra</td>\n",
       "    </tr>\n",
       "    <tr>\n",
       "      <th>2</th>\n",
       "      <td>Johnny B. Goode</td>\n",
       "      <td>Acústico MTV [Live]</td>\n",
       "      <td>Cidade Negra</td>\n",
       "    </tr>\n",
       "    <tr>\n",
       "      <th>3</th>\n",
       "      <td>Soldado Da Paz</td>\n",
       "      <td>Acústico MTV [Live]</td>\n",
       "      <td>Cidade Negra</td>\n",
       "    </tr>\n",
       "    <tr>\n",
       "      <th>4</th>\n",
       "      <td>Firmamento</td>\n",
       "      <td>Acústico MTV [Live]</td>\n",
       "      <td>Cidade Negra</td>\n",
       "    </tr>\n",
       "    <tr>\n",
       "      <th>5</th>\n",
       "      <td>Extra</td>\n",
       "      <td>Acústico MTV [Live]</td>\n",
       "      <td>Cidade Negra</td>\n",
       "    </tr>\n",
       "    <tr>\n",
       "      <th>6</th>\n",
       "      <td>O Erê</td>\n",
       "      <td>Acústico MTV [Live]</td>\n",
       "      <td>Cidade Negra</td>\n",
       "    </tr>\n",
       "    <tr>\n",
       "      <th>7</th>\n",
       "      <td>Podes Crer</td>\n",
       "      <td>Acústico MTV [Live]</td>\n",
       "      <td>Cidade Negra</td>\n",
       "    </tr>\n",
       "    <tr>\n",
       "      <th>8</th>\n",
       "      <td>A Estrada</td>\n",
       "      <td>Acústico MTV [Live]</td>\n",
       "      <td>Cidade Negra</td>\n",
       "    </tr>\n",
       "    <tr>\n",
       "      <th>9</th>\n",
       "      <td>Berlim</td>\n",
       "      <td>Acústico MTV [Live]</td>\n",
       "      <td>Cidade Negra</td>\n",
       "    </tr>\n",
       "    <tr>\n",
       "      <th>10</th>\n",
       "      <td>Já Foi</td>\n",
       "      <td>Acústico MTV [Live]</td>\n",
       "      <td>Cidade Negra</td>\n",
       "    </tr>\n",
       "    <tr>\n",
       "      <th>11</th>\n",
       "      <td>Onde Você Mora?</td>\n",
       "      <td>Acústico MTV [Live]</td>\n",
       "      <td>Cidade Negra</td>\n",
       "    </tr>\n",
       "    <tr>\n",
       "      <th>12</th>\n",
       "      <td>Pensamento</td>\n",
       "      <td>Acústico MTV [Live]</td>\n",
       "      <td>Cidade Negra</td>\n",
       "    </tr>\n",
       "    <tr>\n",
       "      <th>13</th>\n",
       "      <td>Conciliação</td>\n",
       "      <td>Acústico MTV [Live]</td>\n",
       "      <td>Cidade Negra</td>\n",
       "    </tr>\n",
       "    <tr>\n",
       "      <th>14</th>\n",
       "      <td>Realidade Virtual</td>\n",
       "      <td>Acústico MTV [Live]</td>\n",
       "      <td>Cidade Negra</td>\n",
       "    </tr>\n",
       "    <tr>\n",
       "      <th>15</th>\n",
       "      <td>Mensagem</td>\n",
       "      <td>Acústico MTV [Live]</td>\n",
       "      <td>Cidade Negra</td>\n",
       "    </tr>\n",
       "    <tr>\n",
       "      <th>16</th>\n",
       "      <td>A Cor Do Sol</td>\n",
       "      <td>Acústico MTV [Live]</td>\n",
       "      <td>Cidade Negra</td>\n",
       "    </tr>\n",
       "    <tr>\n",
       "      <th>17</th>\n",
       "      <td>Rehab</td>\n",
       "      <td>Back to Black</td>\n",
       "      <td>Amy Winehouse</td>\n",
       "    </tr>\n",
       "    <tr>\n",
       "      <th>18</th>\n",
       "      <td>You Know I'm No Good</td>\n",
       "      <td>Back to Black</td>\n",
       "      <td>Amy Winehouse</td>\n",
       "    </tr>\n",
       "    <tr>\n",
       "      <th>19</th>\n",
       "      <td>Me &amp; Mr. Jones</td>\n",
       "      <td>Back to Black</td>\n",
       "      <td>Amy Winehouse</td>\n",
       "    </tr>\n",
       "    <tr>\n",
       "      <th>20</th>\n",
       "      <td>Just Friends</td>\n",
       "      <td>Back to Black</td>\n",
       "      <td>Amy Winehouse</td>\n",
       "    </tr>\n",
       "    <tr>\n",
       "      <th>21</th>\n",
       "      <td>Back to Black</td>\n",
       "      <td>Back to Black</td>\n",
       "      <td>Amy Winehouse</td>\n",
       "    </tr>\n",
       "    <tr>\n",
       "      <th>22</th>\n",
       "      <td>Love Is a Losing Game</td>\n",
       "      <td>Back to Black</td>\n",
       "      <td>Amy Winehouse</td>\n",
       "    </tr>\n",
       "    <tr>\n",
       "      <th>23</th>\n",
       "      <td>Tears Dry On Their Own</td>\n",
       "      <td>Back to Black</td>\n",
       "      <td>Amy Winehouse</td>\n",
       "    </tr>\n",
       "    <tr>\n",
       "      <th>24</th>\n",
       "      <td>Wake Up Alone</td>\n",
       "      <td>Back to Black</td>\n",
       "      <td>Amy Winehouse</td>\n",
       "    </tr>\n",
       "    <tr>\n",
       "      <th>25</th>\n",
       "      <td>Some Unholy War</td>\n",
       "      <td>Back to Black</td>\n",
       "      <td>Amy Winehouse</td>\n",
       "    </tr>\n",
       "    <tr>\n",
       "      <th>26</th>\n",
       "      <td>He Can Only Hold Her</td>\n",
       "      <td>Back to Black</td>\n",
       "      <td>Amy Winehouse</td>\n",
       "    </tr>\n",
       "    <tr>\n",
       "      <th>27</th>\n",
       "      <td>You Know I'm No Good (feat. Ghostface Killah)</td>\n",
       "      <td>Back to Black</td>\n",
       "      <td>Amy Winehouse</td>\n",
       "    </tr>\n",
       "    <tr>\n",
       "      <th>28</th>\n",
       "      <td>Rehab (Hot Chip Remix)</td>\n",
       "      <td>Back to Black</td>\n",
       "      <td>Amy Winehouse</td>\n",
       "    </tr>\n",
       "  </tbody>\n",
       "</table>\n",
       "</div>"
      ],
      "text/plain": [
       "                                            Track                Album  \\\n",
       "0                                        Girassol  Acústico MTV [Live]   \n",
       "1                             A Sombra Da Maldade  Acústico MTV [Live]   \n",
       "2                                 Johnny B. Goode  Acústico MTV [Live]   \n",
       "3                                  Soldado Da Paz  Acústico MTV [Live]   \n",
       "4                                      Firmamento  Acústico MTV [Live]   \n",
       "5                                           Extra  Acústico MTV [Live]   \n",
       "6                                           O Erê  Acústico MTV [Live]   \n",
       "7                                      Podes Crer  Acústico MTV [Live]   \n",
       "8                                       A Estrada  Acústico MTV [Live]   \n",
       "9                                          Berlim  Acústico MTV [Live]   \n",
       "10                                         Já Foi  Acústico MTV [Live]   \n",
       "11                                Onde Você Mora?  Acústico MTV [Live]   \n",
       "12                                     Pensamento  Acústico MTV [Live]   \n",
       "13                                    Conciliação  Acústico MTV [Live]   \n",
       "14                              Realidade Virtual  Acústico MTV [Live]   \n",
       "15                                       Mensagem  Acústico MTV [Live]   \n",
       "16                                   A Cor Do Sol  Acústico MTV [Live]   \n",
       "17                                          Rehab        Back to Black   \n",
       "18                           You Know I'm No Good        Back to Black   \n",
       "19                                 Me & Mr. Jones        Back to Black   \n",
       "20                                   Just Friends        Back to Black   \n",
       "21                                  Back to Black        Back to Black   \n",
       "22                          Love Is a Losing Game        Back to Black   \n",
       "23                         Tears Dry On Their Own        Back to Black   \n",
       "24                                  Wake Up Alone        Back to Black   \n",
       "25                                Some Unholy War        Back to Black   \n",
       "26                           He Can Only Hold Her        Back to Black   \n",
       "27  You Know I'm No Good (feat. Ghostface Killah)        Back to Black   \n",
       "28                         Rehab (Hot Chip Remix)        Back to Black   \n",
       "\n",
       "           Artist  \n",
       "0    Cidade Negra  \n",
       "1    Cidade Negra  \n",
       "2    Cidade Negra  \n",
       "3    Cidade Negra  \n",
       "4    Cidade Negra  \n",
       "5    Cidade Negra  \n",
       "6    Cidade Negra  \n",
       "7    Cidade Negra  \n",
       "8    Cidade Negra  \n",
       "9    Cidade Negra  \n",
       "10   Cidade Negra  \n",
       "11   Cidade Negra  \n",
       "12   Cidade Negra  \n",
       "13   Cidade Negra  \n",
       "14   Cidade Negra  \n",
       "15   Cidade Negra  \n",
       "16   Cidade Negra  \n",
       "17  Amy Winehouse  \n",
       "18  Amy Winehouse  \n",
       "19  Amy Winehouse  \n",
       "20  Amy Winehouse  \n",
       "21  Amy Winehouse  \n",
       "22  Amy Winehouse  \n",
       "23  Amy Winehouse  \n",
       "24  Amy Winehouse  \n",
       "25  Amy Winehouse  \n",
       "26  Amy Winehouse  \n",
       "27  Amy Winehouse  \n",
       "28  Amy Winehouse  "
      ]
     },
     "execution_count": 25,
     "metadata": {},
     "output_type": "execute_result"
    }
   ],
   "source": [
    "# BEGIN SOLUTION NO PROMPT\n",
    "query = ''' \n",
    "SELECT Track.Name as Track, Album.Title as Album, Artist.Name as Artist\n",
    "FROM Track JOIN Album\n",
    "    ON Track.AlbumId = Album.AlbumId JOIN Artist\n",
    "    ON Album.ArtistID = Artist.ArtistID\n",
    "WHERE Track.AlbumId = 26 OR Album.AlbumId = 321;\n",
    "'''\n",
    "# END SOLUTION\n",
    "\"\"\" # BEGIN PROMPT\n",
    "query = '''\n",
    "...\n",
    "'''\n",
    "\n",
    "\"\"\"; # END PROMPT\n",
    "pd.read_sql(sql=sqlalchemy.text(query), con=db.connect())"
   ]
  },
  {
   "cell_type": "raw",
   "id": "ea6b0673-8f32-4360-9f01-e5905f7377d2",
   "metadata": {},
   "source": [
    "# END SOLUTION"
   ]
  },
  {
   "cell_type": "raw",
   "id": "dad3c6ce-c00f-43c0-8b05-d3f210f27e29",
   "metadata": {},
   "source": [
    "# END QUESTION"
   ]
  }
 ],
 "metadata": {
  "kernelspec": {
   "display_name": "Python 3 (ipykernel)",
   "language": "python",
   "name": "python3"
  },
  "language_info": {
   "codemirror_mode": {
    "name": "ipython",
    "version": 3
   },
   "file_extension": ".py",
   "mimetype": "text/x-python",
   "name": "python",
   "nbconvert_exporter": "python",
   "pygments_lexer": "ipython3",
   "version": "3.10.11"
  }
 },
 "nbformat": 4,
 "nbformat_minor": 5
}
