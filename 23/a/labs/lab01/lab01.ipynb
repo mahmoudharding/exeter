{
 "cells": [
  {
   "cell_type": "code",
   "execution_count": null,
   "id": "eca588cd",
   "metadata": {
    "deletable": false,
    "editable": false
   },
   "outputs": [],
   "source": [
    "# Initialize Otter\n",
    "import otter\n",
    "grader = otter.Notebook(\"lab01.ipynb\")"
   ]
  },
  {
   "cell_type": "markdown",
   "id": "4eee7d7f",
   "metadata": {},
   "source": [
    "# Run the cell below\n",
    "\n",
    "To run a code cell (i.e.; execute the python code inside a Jupyter notebook) you can click the play button on the ribbon underneath the name of the notebook. Before you begin click the \"Run cell\" button at the top that looks like ▶| or hold down `Shift` + `Return`."
   ]
  },
  {
   "cell_type": "markdown",
   "id": "dff9de67",
   "metadata": {
    "tags": []
   },
   "source": [
    "## Lab 01: Python Basics\n",
    "\n",
    "Welcome to the first lab of Advanced Topics in Data Science! Throughout the course you will complete assignments like this one. You can't learn technical subjects without hands-on practice, so these assignments are an important part of the course.\n",
    "\n",
    "**Collaboration Policy:**\n",
    "\n",
    "Collaborating on labs is more than okay -- it's encouraged! You should rarely remain stuck for more than a few minutes on questions in labs, so ask a neighbor or an instructor for help. Explaining things is beneficial, too -- the best way to solidify your knowledge of a subject is to explain it. You should **not** _just_ copy/paste someone else's code, but rather work together to gain understanding of the task you need to complete. \n",
    "\n",
    "**Due Date:** \n",
    "\n",
    "## Today's Assignment \n",
    "\n",
    "In today's assignment, you'll review:\n",
    "\n",
    "- the basics of Python\n",
    "\n",
    "- `NumPy`\n",
    "\n",
    "- creating collection arrays\n",
    "\n",
    "- writing `if` statements and `for` loops.\n",
    "\n",
    "First, set up the imports by running the cell below."
   ]
  },
  {
   "cell_type": "code",
   "execution_count": null,
   "id": "ebb32b48",
   "metadata": {},
   "outputs": [],
   "source": [
    "import numpy as np\n",
    "\n",
    "%matplotlib inline\n",
    "import matplotlib.pyplot as plt\n",
    "plt.style.use(\"fivethirtyeight\")"
   ]
  },
  {
   "cell_type": "markdown",
   "id": "197c9946",
   "metadata": {},
   "source": [
    "## 1. Magic Commands\n",
    "\n",
    "`%matplotlib inline` is a Jupyter magic command that configures the notebook so that Matplotlib displays any plots that you draw directly in the notebook rather than to a file, allowing you to view the plots upon executing your code.\n",
    "\n",
    "Another useful magic command is `%%time`, which times the execution of that cell. You can use this by writing it as the first line of a cell.\n",
    "\n",
    "**Note:** `%%` is used for cell magic commands that apply to the entire cell, whereas `%` is used for line magic commands that only apply to a single line.\n",
    "\n",
    "Run the cell below."
   ]
  },
  {
   "cell_type": "code",
   "execution_count": null,
   "id": "4c682b54",
   "metadata": {},
   "outputs": [],
   "source": [
    "%%time\n",
    "\n",
    "# Create an empty list\n",
    "my_list = []\n",
    "\n",
    "# for loop to iterate through the values 0 to 99\n",
    "for i in range(100):\n",
    "    my_list.append(i) # The .append method will add an item to the end of a list"
   ]
  },
  {
   "cell_type": "markdown",
   "id": "b42458ab",
   "metadata": {},
   "source": [
    "The time for executing the previous cell is given in $\\mu$s (i.e. micro seconds)."
   ]
  },
  {
   "cell_type": "markdown",
   "id": "619e59da",
   "metadata": {},
   "source": [
    "**Question 1.** How many seconds are in 1 micro-second? Assign your answer to `micro_second`."
   ]
  },
  {
   "cell_type": "code",
   "execution_count": null,
   "id": "09ea90a9",
   "metadata": {
    "tags": []
   },
   "outputs": [],
   "source": [
    "micro_second = ...\n",
    "micro_second"
   ]
  },
  {
   "cell_type": "code",
   "execution_count": null,
   "id": "009b3532",
   "metadata": {
    "deletable": false,
    "editable": false
   },
   "outputs": [],
   "source": [
    "grader.check(\"q1\")"
   ]
  },
  {
   "cell_type": "markdown",
   "id": "2475471a",
   "metadata": {},
   "source": [
    "## 2. Keyboard Shortcuts\n",
    "\n",
    "Even if you are familiar with Jupyter, we strongly encourage you to become proficient with keyboard shortcuts (this will save you time in the future). To learn about keyboard shortcuts, go to **Help $\\to$ Keyboard Shortcuts** in the menu above.\n",
    "\n",
    "Here are a few that we like:\n",
    "\n",
    "1. Ctrl + Return: Evaluate the current cell\n",
    "\n",
    "1. Shift + Return: Evaluate the current cell and move to the next\n",
    "\n",
    "1. ESC: command mode (may need to press before using any of the commands below)\n",
    " -  a: create a cell above\n",
    " -  b: create a cell below\n",
    " - dd: delete a cell\n",
    " -  z: undo the last cell operation\n",
    " -  m: convert a cell to markdown\n",
    " -  y: convert a cell to code"
   ]
  },
  {
   "cell_type": "markdown",
   "id": "b880ecbe",
   "metadata": {},
   "source": [
    "## 3. Prerequisites\n",
    "\n",
    "It's time to answer some review questions. Each question has a response cell directly below it. Most response cells are followed by a test cell that runs automated tests to check your work. Please don't delete questions, response cells, or test cells. You won't get credit for your work if you do.\n",
    "\n",
    "If you have extra content in a response cell, such as an example call to a function you're implementing, that's fine.\n",
    "\n",
    "### Python\n",
    "\n",
    "Python is the main programming language we'll use in the course. We expect that you've taken Foundations of Data Science or an equivalent class, so we will not be covering general Python syntax. If any of the below exercises are challenging (or if you would like to refresh your Python knowledge), please review one or more of the following materials.\n",
    "\n",
    "- [Python Tutorial: An Introduction to Python from the Creators of Python.](https://docs.python.org/3/tutorial/index.html)\n",
    "\n",
    "- [Advanced Crash Course in `NumPy`](http://cs231n.github.io/python-numpy-tutorial/)"
   ]
  },
  {
   "cell_type": "markdown",
   "id": "c7412039",
   "metadata": {},
   "source": [
    "**Question 1.** Write a function named `summation` that evaluates the following summation \n",
    "\n",
    "$$\\sum_{i=1}^n i^3+3i^2$$\n",
    "\n",
    "for $n \\geq 1$. Put a check in function to make sure that $n$ is an integer and the value of $n$ is greater than or equal to 1. If the value of $n$ is not greater than or equal to 1 print the message\n",
    "\n",
    "```\n",
    "n must be an integer and greater than or equal to 1.\n",
    "```\n",
    "\n",
    "and not return a value. \n",
    "\n",
    "**Note:** You should test your function with multiple values."
   ]
  },
  {
   "cell_type": "code",
   "execution_count": null,
   "id": "ef31e8fc",
   "metadata": {
    "tags": []
   },
   "outputs": [],
   "source": [
    "def summation(n):\n",
    "    \"\"\"Compute the summation i^3 + 3 * i^2 for 1 <= i <= n.\"\"\"\n",
    "    ..."
   ]
  },
  {
   "cell_type": "code",
   "execution_count": null,
   "id": "f78d7e1e",
   "metadata": {
    "deletable": false,
    "editable": false
   },
   "outputs": [],
   "source": [
    "grader.check(\"q1\")"
   ]
  },
  {
   "cell_type": "markdown",
   "id": "e46e5052",
   "metadata": {},
   "source": [
    "### Lists \n",
    "\n",
    "* Lists are used to store multiple items in a single variable. \n",
    "\n",
    "* Lists are a built-in data type in Python used to store collections of data.\n",
    ".\n",
    "* Lists may contain different types\n",
    "\n",
    "* List items are ordered, changeable, and allow duplicate values. \n",
    "\n",
    "* List items are indexed, the first item has index `[0]`, the second item has index `[1]` etc\n",
    "\n",
    "* Lists are created using square brackets. For example, `my_list = [2, 3, 5, 7, 11]`, is a list of the first 5 prime numbers. "
   ]
  },
  {
   "cell_type": "markdown",
   "id": "3b2303b7",
   "metadata": {},
   "source": [
    "**Question 2.** Write a function named `list_sum` that computes the square of each value in `list_1`, the cube of each value in `list_2`, then returns a list containing the element-wise sum of these results. \n",
    "\n",
    "**Note:** Assume that `list_1` and `list_2` have the same number of elements."
   ]
  },
  {
   "cell_type": "code",
   "execution_count": null,
   "id": "203fde5e",
   "metadata": {
    "tags": []
   },
   "outputs": [],
   "source": [
    "def list_sum(list_1, list_2):\n",
    "    \"\"\"Assume list_1 and list_2 have the same length.\n",
    "       Compute x^2 + y^3 for each x in list_1, and each y in list_2. \n",
    "       Return a list containing the element-wise sum of the results.\"\"\"\n",
    "    ...\n",
    "\n",
    "l1 = [1, 2, 3]\n",
    "l2 = [4, 5, 6]\n",
    "list_sum(l1, l2)"
   ]
  },
  {
   "cell_type": "code",
   "execution_count": null,
   "id": "4c2dd1b3",
   "metadata": {
    "deletable": false,
    "editable": false
   },
   "outputs": [],
   "source": [
    "grader.check(\"q2\")"
   ]
  },
  {
   "cell_type": "markdown",
   "id": "ee240cf0",
   "metadata": {},
   "source": [
    "**Question 3.** Write a function named `average_of_all` that takes a number and returns the average of the sum of natural numbers less than or equal to $n$, `average_of_all(3)` would return 2 because \n",
    "\n",
    "$$1 + 2 + 3 = 6$$\n",
    "\n",
    "and \n",
    "\n",
    "$$\\frac{6}{3} = 2$$\n",
    "\n",
    "**Hint:** You will need a check to make sure the value passed to the function is greater than 0. If the value passed to the function is not greater than 0 return 0.0. Otherwise assume that all values passed to the function are positive integers."
   ]
  },
  {
   "cell_type": "code",
   "execution_count": null,
   "id": "14492a4c",
   "metadata": {
    "tags": []
   },
   "outputs": [],
   "source": [
    "def average_of_all(n):\n",
    "    \"\"\"Return the average of the sum all natural numbers less than or equal to n.\n",
    "       >>> average(1)\n",
    "       1.0\n",
    "       >>> average(3)\n",
    "       2.0\n",
    "       >>> average(8)\n",
    "       4.5\n",
    "       >>> average(0)\n",
    "       0.0\n",
    "       >>> average(-2)\n",
    "       0.0\"\"\"\n",
    "    ...\n",
    "\n",
    "average_of_all(3)"
   ]
  },
  {
   "cell_type": "code",
   "execution_count": null,
   "id": "6d369c85",
   "metadata": {
    "deletable": false,
    "editable": false
   },
   "outputs": [],
   "source": [
    "grader.check(\"q3\")"
   ]
  },
  {
   "cell_type": "markdown",
   "id": "203d26c3",
   "metadata": {},
   "source": [
    "### NumPy\n",
    "\n",
    "`NumPy` is the numerical computing module introduced in Foundations of Data Science, which is a prerequisite for this course. Here's a quick recap of `NumPy`.\n",
    "\n",
    "The core of `NumPy` is the array. Like Python lists, arrays store data; however, they store data in a more efficient manner. In many cases, this allows for faster computation and data manipulation.\n",
    "\n",
    "In Foundations of Data Science, we used `make_array` from the `datascience` library, but that's not the most typical way. Instead, [use `np.array` to create an array](https://numpy.org/doc/stable/reference/generated/numpy.array.html). It takes a sequence, such as a list or range."
   ]
  },
  {
   "cell_type": "markdown",
   "id": "b5868650",
   "metadata": {},
   "source": [
    "**Question 4.** Below, import the `NumPy` module using the appropriate aliasing. create an array named `arr_5` containing the values 5, 4, 3, 2, 1 (in that order)."
   ]
  },
  {
   "cell_type": "code",
   "execution_count": null,
   "id": "a57a4cf9",
   "metadata": {
    "tags": []
   },
   "outputs": [],
   "source": [
    "...\n",
    "arr_5"
   ]
  },
  {
   "cell_type": "code",
   "execution_count": null,
   "id": "68f31ee1",
   "metadata": {
    "deletable": false,
    "editable": false
   },
   "outputs": [],
   "source": [
    "grader.check(\"q4\")"
   ]
  },
  {
   "cell_type": "markdown",
   "id": "bd6b4bef",
   "metadata": {},
   "source": [
    "**Question 5.** Create an array named `arr_500` containing the values 500, 499, 498, 497, ..., 1 (in that order)."
   ]
  },
  {
   "cell_type": "code",
   "execution_count": null,
   "id": "c1892b93",
   "metadata": {
    "tags": []
   },
   "outputs": [],
   "source": [
    "arr_500 = ..."
   ]
  },
  {
   "cell_type": "code",
   "execution_count": null,
   "id": "1539f468",
   "metadata": {
    "deletable": false,
    "editable": false
   },
   "outputs": [],
   "source": [
    "grader.check(\"q5\")"
   ]
  },
  {
   "cell_type": "markdown",
   "id": "16d9e1e4",
   "metadata": {},
   "source": [
    "We can access attributes of an array such as shape and data type. A full list of attributes can be found [here](https://docs.scipy.org/doc/numpy-1.15.0/reference/arrays.ndarray.html#array-attributes)."
   ]
  },
  {
   "cell_type": "code",
   "execution_count": null,
   "id": "bce2536e",
   "metadata": {
    "tags": []
   },
   "outputs": [],
   "source": [
    "# The fourth item in the arr_5 array\n",
    "arr_5[3]"
   ]
  },
  {
   "cell_type": "code",
   "execution_count": null,
   "id": "c5e23aba",
   "metadata": {},
   "outputs": [],
   "source": [
    "# Items 2 through 3 in the arr_5 array not including the fourth\n",
    "arr_5[2:4]"
   ]
  },
  {
   "cell_type": "code",
   "execution_count": null,
   "id": "b1efac4a",
   "metadata": {},
   "outputs": [],
   "source": [
    "# The dimensions (i.e. rows and columns)\n",
    "# arr_5 is one-dimensional array with 5 elements\n",
    "arr_5.shape\n",
    "\n",
    "# This method returns the dimensions as a tuple"
   ]
  },
  {
   "cell_type": "code",
   "execution_count": null,
   "id": "01b7defb",
   "metadata": {},
   "outputs": [],
   "source": [
    "# The data type for all the elements is numerical (integer)\n",
    "arr_5.dtype"
   ]
  },
  {
   "cell_type": "markdown",
   "id": "103590c4",
   "metadata": {},
   "source": [
    "Arrays, unlike Python lists, can not store items of different data types."
   ]
  },
  {
   "cell_type": "code",
   "execution_count": null,
   "id": "dbfbbb28",
   "metadata": {},
   "outputs": [],
   "source": [
    "# A regular Python list can store items of different data types\n",
    "[1, '3']"
   ]
  },
  {
   "cell_type": "code",
   "execution_count": null,
   "id": "31b2ae15",
   "metadata": {},
   "outputs": [],
   "source": [
    "# Arrays will convert everything to the same data type\n",
    "np.array([1, '3'])"
   ]
  },
  {
   "cell_type": "markdown",
   "id": "67ac8137",
   "metadata": {},
   "source": [
    "Notice that the 1 was changed to a character an put in between quotation marks."
   ]
  },
  {
   "cell_type": "code",
   "execution_count": null,
   "id": "2cf93a53",
   "metadata": {},
   "outputs": [],
   "source": [
    "# Another example of array type conversion\n",
    "np.array([5, 8.3])"
   ]
  },
  {
   "cell_type": "markdown",
   "id": "a1c238c6",
   "metadata": {},
   "source": [
    "Notice that the 5 was changed from an integer to a decimal (float)."
   ]
  },
  {
   "cell_type": "markdown",
   "id": "fe309305",
   "metadata": {},
   "source": [
    "Arrays are also useful in performing **vectorized** operations. Given two or more arrays of equal length, arithmetic will perform element-wise computations across the arrays.\n",
    "\n",
    "For example, observe the following:"
   ]
  },
  {
   "cell_type": "code",
   "execution_count": null,
   "id": "a4f254b2",
   "metadata": {},
   "outputs": [],
   "source": [
    "# Python list addition will concatenate the two lists\n",
    "[1, 2, 3] + [4, 5, 6]"
   ]
  },
  {
   "cell_type": "code",
   "execution_count": null,
   "id": "c1a4d8c1",
   "metadata": {},
   "outputs": [],
   "source": [
    "# NumPy array addition will add them element-wise\n",
    "np.array([1, 2, 3]) + np.array([4, 5, 6])"
   ]
  },
  {
   "cell_type": "markdown",
   "id": "ddfbcfc4",
   "metadata": {},
   "source": [
    "**Question 6.** Given the array `random_arr`, assign `valid_values` to an array containing all values $x$ such that \n",
    "\n",
    "$$2x^4>1$$."
   ]
  },
  {
   "cell_type": "code",
   "execution_count": null,
   "id": "01de1430",
   "metadata": {
    "tags": []
   },
   "outputs": [],
   "source": [
    "# np.random.seed() sets a seed so that \n",
    "# the results are the same each time.\n",
    "# Do not delete this line. \n",
    "np.random.seed(42)\n",
    "\n",
    "# The line below creates an array \n",
    "# of 60 random values from the uniform\n",
    "# distribution.\n",
    "random_arr = np.random.rand(60)\n",
    "\n",
    "valid_values = ...\n",
    "valid_values"
   ]
  },
  {
   "cell_type": "code",
   "execution_count": null,
   "id": "01ad5879",
   "metadata": {
    "deletable": false,
    "editable": false
   },
   "outputs": [],
   "source": [
    "grader.check(\"q6\")"
   ]
  },
  {
   "cell_type": "markdown",
   "id": "e1bdd43c",
   "metadata": {},
   "source": [
    "**Question 7.** Use `NumPy` to recreate your answer to **Question 2.** The input parameters will both be lists, so you will need to convert the lists into arrays before performing your operations. Additionally, you will need to make sure that both lists have the same number of items. Assume that both lists are numeric data types.\n",
    "\n",
    "**Hint:** You can use the `np.array` function to create a `NumPy` array."
   ]
  },
  {
   "cell_type": "code",
   "execution_count": null,
   "id": "2c662846",
   "metadata": {
    "tags": []
   },
   "outputs": [],
   "source": [
    "def array_sum(list_1, list_2):\n",
    "    \"\"\"Assume list_1 and list_2 have the same length.\n",
    "       Compute x^2 + y^3 for each x in list_1, and each y in list_2. \n",
    "       Return a list containing the element-wise sum of the results.\"\"\"\n",
    "    ...\n",
    "\n",
    "l1 = [1, 2, 3]\n",
    "l2 = [4, 5, 6]\n",
    "array_sum(l1, l2)"
   ]
  },
  {
   "cell_type": "code",
   "execution_count": null,
   "id": "cca6fee5",
   "metadata": {
    "deletable": false,
    "editable": false
   },
   "outputs": [],
   "source": [
    "grader.check(\"q7\")"
   ]
  },
  {
   "cell_type": "markdown",
   "id": "ad2ebd97",
   "metadata": {},
   "source": [
    "You might have been told that Python is slow, but array arithmetic is carried out very fast, even for large arrays. For ten numbers, `list_sum` and `array_sum` both take a similar amount of time.\n",
    "\n",
    "**Note:** Line 1 in the code cell below uses list comprehension to create a list of 10 elements starting at 0 and ending at 9. For more information on list comprehension and when to use it, click [here](https://realpython.com/list-comprehension-python/)."
   ]
  },
  {
   "cell_type": "code",
   "execution_count": null,
   "id": "daf93e0e",
   "metadata": {},
   "outputs": [],
   "source": [
    "# Here we use list comprehension to create a list\n",
    "# of 10 elements starting at 0 and ending at 9.\n",
    "sample_list_1 = [x for x in range(10)] \n",
    "\n",
    "# Here we use a NumPy function, np.arange(10)\n",
    "# to create an array of 10 elements starting \n",
    "# at 0 and ending at 9.\n",
    "sample_array_1 = np.arange(10)"
   ]
  },
  {
   "cell_type": "code",
   "execution_count": null,
   "id": "50afa310",
   "metadata": {},
   "outputs": [],
   "source": [
    "%%time\n",
    "list_sum(sample_list_1, sample_list_1)"
   ]
  },
  {
   "cell_type": "code",
   "execution_count": null,
   "id": "0e962a9c",
   "metadata": {},
   "outputs": [],
   "source": [
    "%%time\n",
    "array_sum(sample_array_1, sample_array_1)"
   ]
  },
  {
   "cell_type": "markdown",
   "id": "b1aca848",
   "metadata": {},
   "source": [
    "The time difference seems negligible for a list/array of size 10; depending on your setup, you may even observe that `list_sum` executes faster than `array_sum`. However, we will commonly be working with much larger datasets:"
   ]
  },
  {
   "cell_type": "code",
   "execution_count": null,
   "id": "d5a9d604",
   "metadata": {},
   "outputs": [],
   "source": [
    "# Here we use list comprehension to create a list\n",
    "# of 100000 elements starting at 0 and ending at 99999.\n",
    "sample_list_2 = [x for x in range(100000)]\n",
    "\n",
    "# Here we use a NumPy function, np.arange(100000)\n",
    "# to create an array of 100000 elements starting \n",
    "# at 0 and ending at 99999.\n",
    "sample_array_2 = np.arange(100000)"
   ]
  },
  {
   "cell_type": "code",
   "execution_count": null,
   "id": "70ec1a78",
   "metadata": {},
   "outputs": [],
   "source": [
    "%%time\n",
    "list_sum(sample_list_2, sample_list_2)\n",
    "\n",
    "# The semicolon hides the output\n",
    ";"
   ]
  },
  {
   "cell_type": "code",
   "execution_count": null,
   "id": "3c2492f2",
   "metadata": {},
   "outputs": [],
   "source": [
    "%%time\n",
    "array_sum(sample_array_2, sample_array_2)\n",
    "\n",
    "# The semicolon hides the output\n",
    ";"
   ]
  },
  {
   "cell_type": "markdown",
   "id": "c00bade0",
   "metadata": {},
   "source": [
    "With the larger dataset, we see that using `NumPy` results in code that executes over 50 times faster. Throughout this course (and in the real world), you will find that writing efficient code will be important; arrays and vectorized operations are the most common way of making Python programs run quickly."
   ]
  },
  {
   "cell_type": "markdown",
   "id": "1633097a",
   "metadata": {},
   "source": [
    "**Question 9.** Create a list of the first 100 even natural numbers using a `for` loop and the `.append()` method. Save the list to `even_list`.\n",
    "\n",
    "**Hint:** You must use a for loop to earn all the points for this question."
   ]
  },
  {
   "cell_type": "code",
   "execution_count": null,
   "id": "132acda5",
   "metadata": {
    "tags": []
   },
   "outputs": [],
   "source": [
    "# Initialize an empty list\n",
    "even_list = ...\n",
    "\n",
    "...\n",
    "even_list[0:10]"
   ]
  },
  {
   "cell_type": "code",
   "execution_count": null,
   "id": "f6433dbd",
   "metadata": {
    "deletable": false,
    "editable": false
   },
   "outputs": [],
   "source": [
    "grader.check(\"q8\")"
   ]
  },
  {
   "cell_type": "markdown",
   "id": "6ddfc462",
   "metadata": {},
   "source": [
    "**Question 9.** Create a list of the first 100 odd natural numbers using a list comprehension. Save the list to `odd_list`.\n",
    "\n",
    "**Hint:** You must use list comprehension to earn all the points for this question."
   ]
  },
  {
   "cell_type": "code",
   "execution_count": null,
   "id": "e1c2b66c",
   "metadata": {
    "tags": []
   },
   "outputs": [],
   "source": [
    "odd_list = ...\n",
    "odd_list[0:10]"
   ]
  },
  {
   "cell_type": "code",
   "execution_count": null,
   "id": "2c090c58",
   "metadata": {
    "deletable": false,
    "editable": false
   },
   "outputs": [],
   "source": [
    "grader.check(\"q9\")"
   ]
  },
  {
   "cell_type": "markdown",
   "id": "8bc02ae4",
   "metadata": {},
   "source": [
    "### Dictionary\n",
    "\n",
    "A Python dictionary is a mutable object, and it contains the data in the form of key-value pairs. Each key is separated from its value by a colon (:). For example, a dictionary can be created like this \n",
    "\n",
    "`my_dict = {'key1': value, 'key2': value, 'key3': value}`\n",
    "\n",
    "\n",
    "Dictionaries are a widely used data structure, and a good understanding of its methods and operations is necessary for doing data science. "
   ]
  },
  {
   "cell_type": "markdown",
   "id": "a10a82a3",
   "metadata": {},
   "source": [
    "**Question 10.** Below are two lists. Using a `for` loop and the `update()` method of a dictionary convert them into a dictionary in a way that item from `keys_1` is the key and item from `values_1` is the value. Save it to `d`.\n",
    "\n",
    "`keys_1 = ['Ten', 'Twenty', 'Thirty']`\n",
    "\n",
    "`values_1 = [10, 20, 30]`\n",
    "\n",
    "**Note:** Click [here](https://www.w3schools.com/python/ref_dictionary_update.asp) to read about how to use the `update` method."
   ]
  },
  {
   "cell_type": "code",
   "execution_count": null,
   "id": "08ee9d6d",
   "metadata": {
    "tags": []
   },
   "outputs": [],
   "source": [
    "keys_1 = ['Ten', 'Twenty', 'Thirty']\n",
    "values_1 = [10, 20, 30]\n",
    "\n",
    "# Intialize an empty dictionary\n",
    "d = ...\n",
    "\n",
    "...\n",
    "d"
   ]
  },
  {
   "cell_type": "code",
   "execution_count": null,
   "id": "4038cfab",
   "metadata": {
    "deletable": false,
    "editable": false
   },
   "outputs": [],
   "source": [
    "grader.check(\"q10\")"
   ]
  },
  {
   "cell_type": "markdown",
   "id": "99307f08",
   "metadata": {},
   "source": [
    "**Question 11.** Create a python dictionary whose keys are the positive integers from 1 to 26, and whose values are tuples containing the lowercase and uppercase letters of the English alphabet. For example,\n",
    "\n",
    "```\n",
    "{1:('A', 'a'), 2:('B', 'b'), ..., 26: ('Z', 'z')}\n",
    "```\n",
    "\n",
    "Name the dictionary `alphabets`.\n",
    "\n",
    "**Hint:** The [`string` module](https://docs.python.org/3/library/string.html) provides several English-centric values. Remember to use the functions, methods, etc. from a module you need to import the module into your notebook environment.\n"
   ]
  },
  {
   "cell_type": "code",
   "execution_count": null,
   "id": "20762c6f",
   "metadata": {
    "tags": []
   },
   "outputs": [],
   "source": [
    "...\n",
    "print(alphabet)"
   ]
  },
  {
   "cell_type": "code",
   "execution_count": null,
   "id": "443019a9",
   "metadata": {
    "deletable": false,
    "editable": false
   },
   "outputs": [],
   "source": [
    "grader.check(\"q11\")"
   ]
  },
  {
   "cell_type": "markdown",
   "id": "653ddb31",
   "metadata": {
    "deletable": false,
    "editable": false
   },
   "source": [
    "## Submission\n",
    "\n",
    "Make sure you have run all cells in your notebook in order before running the cell below, so that all images/graphs appear in the output. The cell below will generate a zip file for you to submit. **Please save before exporting!**"
   ]
  },
  {
   "cell_type": "code",
   "execution_count": null,
   "id": "5bf0819e",
   "metadata": {
    "deletable": false,
    "editable": false
   },
   "outputs": [],
   "source": [
    "# Save your notebook first, then run this cell to export your submission.\n",
    "grader.export(run_tests=True)"
   ]
  },
  {
   "cell_type": "markdown",
   "id": "d8cacf5f",
   "metadata": {},
   "source": [
    " "
   ]
  }
 ],
 "metadata": {
  "kernelspec": {
   "display_name": "Python 3 (ipykernel)",
   "language": "python",
   "name": "python3"
  },
  "language_info": {
   "codemirror_mode": {
    "name": "ipython",
    "version": 3
   },
   "file_extension": ".py",
   "mimetype": "text/x-python",
   "name": "python",
   "nbconvert_exporter": "python",
   "pygments_lexer": "ipython3",
   "version": "3.10.11"
  },
  "otter": {
   "OK_FORMAT": true,
   "tests": {
    "q1": {
     "name": "q1",
     "points": null,
     "suites": [
      {
       "cases": [
        {
         "code": ">>> micro_second\n1e-06",
         "hidden": false,
         "locked": false
        },
        {
         "code": ">>> summation(1) + summation(2) + summation(3)\n106",
         "hidden": false,
         "locked": false
        },
        {
         "code": ">>> summation(0)\nn must be an integer and greater than or equal to 1.\n",
         "hidden": false,
         "locked": false
        }
       ],
       "scored": true,
       "setup": "",
       "teardown": "",
       "type": "doctest"
      }
     ]
    },
    "q10": {
     "name": "q10",
     "points": null,
     "suites": [
      {
       "cases": [
        {
         "code": ">>> d.keys()\ndict_keys(['Ten', 'Twenty', 'Thirty'])",
         "hidden": false,
         "locked": false
        },
        {
         "code": ">>> d.values()\ndict_values([10, 20, 30])",
         "hidden": false,
         "locked": false
        },
        {
         "code": ">>> d['Ten'] + d['Twenty'] + d['Thirty']\n60",
         "hidden": false,
         "locked": false
        }
       ],
       "scored": true,
       "setup": "",
       "teardown": "",
       "type": "doctest"
      }
     ]
    },
    "q11": {
     "name": "q11",
     "points": null,
     "suites": [
      {
       "cases": [
        {
         "code": ">>> all(isinstance(x, tuple) for x in list(alphabet.values()))\nTrue",
         "hidden": false,
         "locked": false
        },
        {
         "code": ">>> all(isinstance(x, int) for x in list(alphabet.keys()))\nTrue",
         "hidden": false,
         "locked": false
        },
        {
         "code": ">>> [list(alphabet.values())[0], list(alphabet.values())[17], list(alphabet.values())[25]] == [('A', 'a'), ('R', 'r'), ('Z', 'z')]\nTrue",
         "hidden": false,
         "locked": false
        }
       ],
       "scored": true,
       "setup": "",
       "teardown": "",
       "type": "doctest"
      }
     ]
    },
    "q2": {
     "name": "q2",
     "points": null,
     "suites": [
      {
       "cases": [
        {
         "code": ">>> l1 = [1, 2, 3]\n>>> l2 = [4, 5, 6]\n>>> list_sum(l1, l2)\n[65, 129, 225]",
         "hidden": false,
         "locked": false
        }
       ],
       "scored": true,
       "setup": "",
       "teardown": "",
       "type": "doctest"
      }
     ]
    },
    "q3": {
     "name": "q3",
     "points": null,
     "suites": [
      {
       "cases": [
        {
         "code": ">>> average_of_all(0)\n0.0",
         "hidden": false,
         "locked": false
        },
        {
         "code": ">>> average_of_all(-1)\n0.0",
         "hidden": false,
         "locked": false
        },
        {
         "code": ">>> average_of_all(8)\n4.5",
         "hidden": false,
         "locked": false
        }
       ],
       "scored": true,
       "setup": "",
       "teardown": "",
       "type": "doctest"
      }
     ]
    },
    "q4": {
     "name": "q4",
     "points": null,
     "suites": [
      {
       "cases": [
        {
         "code": ">>> isinstance(arr_5, np.ndarray)\nTrue",
         "hidden": false,
         "locked": false
        },
        {
         "code": ">>> len(arr_5)\n5",
         "hidden": false,
         "locked": false
        },
        {
         "code": ">>> sum(arr_5)\n15",
         "hidden": false,
         "locked": false
        },
        {
         "code": ">>> all([5, 4, 3, 2, 1] == arr_5)\nTrue",
         "hidden": false,
         "locked": false
        }
       ],
       "scored": true,
       "setup": "",
       "teardown": "",
       "type": "doctest"
      }
     ]
    },
    "q5": {
     "name": "q5",
     "points": null,
     "suites": [
      {
       "cases": [
        {
         "code": ">>> sum(arr_500)\n125250",
         "hidden": false,
         "locked": false
        },
        {
         "code": ">>> len(arr_500)\n500",
         "hidden": false,
         "locked": false
        },
        {
         "code": ">>> np.all(np.diff(arr_500) == -1)\nTrue",
         "hidden": false,
         "locked": false
        }
       ],
       "scored": true,
       "setup": "",
       "teardown": "",
       "type": "doctest"
      }
     ]
    },
    "q6": {
     "name": "q6",
     "points": null,
     "suites": [
      {
       "cases": [
        {
         "code": ">>> round(sum(valid_values))\n9",
         "hidden": false,
         "locked": false
        },
        {
         "code": ">>> len(valid_values)\n10",
         "hidden": false,
         "locked": false
        },
        {
         "code": ">>> np.all(valid_values < 0.97)\nTrue",
         "hidden": false,
         "locked": false
        }
       ],
       "scored": true,
       "setup": "",
       "teardown": "",
       "type": "doctest"
      }
     ]
    },
    "q7": {
     "name": "q7",
     "points": null,
     "suites": [
      {
       "cases": [
        {
         "code": ">>> l1 = [1, 2, 3]\n>>> l2 = [4, 5, 6]\n>>> array_sum(l1, l2)\narray([ 65, 129, 225])",
         "hidden": false,
         "locked": false
        }
       ],
       "scored": true,
       "setup": "",
       "teardown": "",
       "type": "doctest"
      }
     ]
    },
    "q8": {
     "name": "q8",
     "points": null,
     "suites": [
      {
       "cases": [
        {
         "code": ">>> even_list[len(even_list)-1]\n200",
         "hidden": false,
         "locked": false
        },
        {
         "code": ">>> isinstance(even_list, list)\nTrue",
         "hidden": false,
         "locked": false
        },
        {
         "code": ">>> np.sum(np.array(even_list) % 2)\n0",
         "hidden": false,
         "locked": false
        },
        {
         "code": ">>> 0 not in even_list\nTrue",
         "hidden": false,
         "locked": false
        }
       ],
       "scored": true,
       "setup": "",
       "teardown": "",
       "type": "doctest"
      }
     ]
    },
    "q9": {
     "name": "q9",
     "points": null,
     "suites": [
      {
       "cases": [
        {
         "code": ">>> odd_list[len(odd_list)-1]\n199",
         "hidden": false,
         "locked": false
        },
        {
         "code": ">>> isinstance(odd_list, list)\nTrue",
         "hidden": false,
         "locked": false
        },
        {
         "code": ">>> all(np.array(odd_list) % 2 == 1)\nTrue",
         "hidden": false,
         "locked": false
        }
       ],
       "scored": true,
       "setup": "",
       "teardown": "",
       "type": "doctest"
      }
     ]
    }
   }
  }
 },
 "nbformat": 4,
 "nbformat_minor": 5
}
