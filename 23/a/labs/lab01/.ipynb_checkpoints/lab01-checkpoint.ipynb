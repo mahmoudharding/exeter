{
 "cells": [
  {
   "cell_type": "raw",
   "id": "3b16df2a-ca44-40fa-b477-22b016868b5f",
   "metadata": {},
   "source": [
    "# ASSIGNMENT CONFIG\n",
    "generate: true"
   ]
  },
  {
   "cell_type": "markdown",
   "id": "efb58bd9-ff73-4c41-98b5-caa58c538e56",
   "metadata": {},
   "source": [
    "# Run the cell below\n",
    "\n",
    "To run a code cell (i.e.; execute the python code inside a Jupyter notebook) you can click the play button on the ribbon underneath the name of the notebook. Before you begin click the \"Run cell\" button at the top that looks like ▶| or hold down `Shift` + `Return`."
   ]
  },
  {
   "cell_type": "markdown",
   "id": "cb62dff9-a23d-4409-a08d-2aa64fe84db1",
   "metadata": {
    "tags": []
   },
   "source": [
    "## Lab 01: Python Basics\n",
    "\n",
    "Welcome to the first lab of Advanced Topics in Data Science! Throughout the course you will complete assignments like this one. You can't learn technical subjects without hands-on practice, so these assignments are an important part of the course.\n",
    "\n",
    "**Collaboration Policy:**\n",
    "\n",
    "Collaborating on labs is more than okay -- it's encouraged! You should rarely remain stuck for more than a few minutes on questions in labs, so ask a neighbor or an instructor for help. Explaining things is beneficial, too -- the best way to solidify your knowledge of a subject is to explain it. You should **not** _just_ copy/paste someone else's code, but rather work together to gain understanding of the task you need to complete. \n",
    "\n",
    "**Due Date:** \n",
    "\n",
    "## Today's Assignment \n",
    "\n",
    "In today's assignment, you'll review:\n",
    "\n",
    "- the basics of Python\n",
    "\n",
    "- `NumPy`\n",
    "\n",
    "- creating collection arrays\n",
    "\n",
    "- writing `if` statements and `for` loops.\n",
    "\n",
    "First, set up the imports by running the cell below."
   ]
  },
  {
   "cell_type": "code",
   "execution_count": 2,
   "id": "598c7f45-900b-4d7a-aa75-4012d741ff6d",
   "metadata": {},
   "outputs": [],
   "source": [
    "import numpy as np\n",
    "\n",
    "%matplotlib inline\n",
    "import matplotlib.pyplot as plt\n",
    "plt.style.use(\"fivethirtyeight\")"
   ]
  },
  {
   "cell_type": "markdown",
   "id": "236bc4b8-ee5e-4171-a7e2-2249724bcb8f",
   "metadata": {},
   "source": [
    "## 1. Magic Commands\n",
    "\n",
    "`%matplotlib inline` is a Jupyter magic command that configures the notebook so that Matplotlib displays any plots that you draw directly in the notebook rather than to a file, allowing you to view the plots upon executing your code.\n",
    "\n",
    "Another useful magic command is `%%time`, which times the execution of that cell. You can use this by writing it as the first line of a cell.\n",
    "\n",
    "**Note:** `%%` is used for cell magic commands that apply to the entire cell, whereas `%` is used for line magic commands that only apply to a single line.\n",
    "\n",
    "Run the cell below."
   ]
  },
  {
   "cell_type": "code",
   "execution_count": 3,
   "id": "bb0d0981-914b-4392-a134-5e14c1946a2f",
   "metadata": {},
   "outputs": [
    {
     "name": "stdout",
     "output_type": "stream",
     "text": [
      "CPU times: user 6 µs, sys: 0 ns, total: 6 µs\n",
      "Wall time: 7.87 µs\n"
     ]
    }
   ],
   "source": [
    "%%time\n",
    "\n",
    "# Create an empty list\n",
    "my_list = []\n",
    "\n",
    "# for loop to iterate through the values 0 to 99\n",
    "for i in range(100):\n",
    "    my_list.append(i) # The .append method will add an item to the end of a list"
   ]
  },
  {
   "cell_type": "markdown",
   "id": "5c546737-ee20-49ff-af5e-5dfef89f9113",
   "metadata": {},
   "source": [
    "The time for executing the previous cell is given in $\\mu$s (i.e. micro seconds)."
   ]
  },
  {
   "cell_type": "raw",
   "id": "7a12c430-4cc6-4de2-9071-f89819c42e77",
   "metadata": {},
   "source": [
    "# BEGIN QUESTION\n",
    "name: q1"
   ]
  },
  {
   "cell_type": "markdown",
   "id": "d1980043-ca32-4c0f-97b7-cdf1ade47af0",
   "metadata": {},
   "source": [
    "**Question 1.** How many seconds are in 1 micro-second? Assign your answer to `micro_second`."
   ]
  },
  {
   "cell_type": "raw",
   "id": "799fa66d-8ff3-42de-968a-2a4df443a88a",
   "metadata": {},
   "source": [
    "# BEGIN SOLUTION"
   ]
  },
  {
   "cell_type": "code",
   "execution_count": 4,
   "id": "f1d4329a-5d46-4dec-a439-3fc8931d92b9",
   "metadata": {},
   "outputs": [
    {
     "data": {
      "text/plain": [
       "1e-06"
      ]
     },
     "execution_count": 4,
     "metadata": {},
     "output_type": "execute_result"
    }
   ],
   "source": [
    "micro_second = 0.000001 # SOLUTION\n",
    "micro_second"
   ]
  },
  {
   "cell_type": "raw",
   "id": "c37bb86f-f04b-469c-8d41-2bb33ada7e05",
   "metadata": {},
   "source": [
    "# END SOLUTION"
   ]
  },
  {
   "cell_type": "raw",
   "id": "5e7279a1-75a1-41ea-aace-b5aa60bba8e1",
   "metadata": {},
   "source": [
    "# BEGIN TESTS"
   ]
  },
  {
   "cell_type": "code",
   "execution_count": 5,
   "id": "d212825a-eab2-42b9-aa72-b47a1737e586",
   "metadata": {},
   "outputs": [
    {
     "data": {
      "text/plain": [
       "1e-06"
      ]
     },
     "execution_count": 5,
     "metadata": {},
     "output_type": "execute_result"
    }
   ],
   "source": [
    "micro_second"
   ]
  },
  {
   "cell_type": "raw",
   "id": "ccf5d6d6-956b-4f11-9b6a-a458e8b1ed4c",
   "metadata": {},
   "source": [
    "# END TESTS"
   ]
  },
  {
   "cell_type": "raw",
   "id": "9df4dcc3-b1ff-4354-862f-de9b658ba8d6",
   "metadata": {},
   "source": [
    "# END QUESTION"
   ]
  },
  {
   "cell_type": "markdown",
   "id": "d2ea89fa-467a-41b9-9334-0f7b08fe5945",
   "metadata": {},
   "source": [
    "## 2. Keyboard Shortcuts\n",
    "\n",
    "Even if you are familiar with Jupyter, we strongly encourage you to become proficient with keyboard shortcuts (this will save you time in the future). To learn about keyboard shortcuts, go to **Help $\\to$ Keyboard Shortcuts** in the menu above.\n",
    "\n",
    "Here are a few that we like:\n",
    "\n",
    "1. Ctrl + Return: Evaluate the current cell\n",
    "\n",
    "1. Shift + Return: Evaluate the current cell and move to the next\n",
    "\n",
    "1. ESC: command mode (may need to press before using any of the commands below)\n",
    " -  a: create a cell above\n",
    " -  b: create a cell below\n",
    " - dd: delete a cell\n",
    " -  z: undo the last cell operation\n",
    " -  m: convert a cell to markdown\n",
    " -  y: convert a cell to code"
   ]
  },
  {
   "cell_type": "markdown",
   "id": "aebed730-7eaa-4cb7-ab6a-4f8434881cb5",
   "metadata": {},
   "source": [
    "## 3. Prerequisites\n",
    "\n",
    "It's time to answer some review questions. Each question has a response cell directly below it. Most response cells are followed by a test cell that runs automated tests to check your work. Please don't delete questions, response cells, or test cells. You won't get credit for your work if you do.\n",
    "\n",
    "If you have extra content in a response cell, such as an example call to a function you're implementing, that's fine.\n",
    "\n",
    "### Python\n",
    "\n",
    "Python is the main programming language we'll use in the course. We expect that you've taken Foundations of Data Science or an equivalent class, so we will not be covering general Python syntax. If any of the below exercises are challenging (or if you would like to refresh your Python knowledge), please review one or more of the following materials.\n",
    "\n",
    "- [Python Tutorial: An Introduction to Python from the Creators of Python.](https://docs.python.org/3/tutorial/index.html)\n",
    "\n",
    "- [Advanced Crash Course in `NumPy`](http://cs231n.github.io/python-numpy-tutorial/)"
   ]
  },
  {
   "cell_type": "raw",
   "id": "afb67bb6-f862-4fd0-ad95-ca8515f7b129",
   "metadata": {},
   "source": [
    "# BEGIN QUESTION\n",
    "name: q1"
   ]
  },
  {
   "cell_type": "markdown",
   "id": "3da4a23d-a204-4c1c-bba4-4ff9c5a11e3f",
   "metadata": {},
   "source": [
    "**Question 1.** Write a function named `summation` that evaluates the following summation \n",
    "\n",
    "$$\\sum_{i=1}^n i^3+3i^2$$\n",
    "\n",
    "for $n \\geq 1$. Put a check in function to make sure that $n$ is an integer and the value of $n$ is greater than or equal to 1. If the value of $n$ is not greater than or equal to 1 print the message\n",
    "\n",
    "```\n",
    "n must be an integer and greater than or equal to 1.\n",
    "```\n",
    "\n",
    "and not return a value. \n",
    "\n",
    "**Note:** You should test your function with multiple values."
   ]
  },
  {
   "cell_type": "raw",
   "id": "5290364e-fdd9-4378-bfc9-13a4315f3cd2",
   "metadata": {},
   "source": [
    "# BEGIN SOLUTION"
   ]
  },
  {
   "cell_type": "code",
   "execution_count": 6,
   "id": "50cc52bc-9a88-412b-a57e-543b13fd7f72",
   "metadata": {
    "tags": []
   },
   "outputs": [],
   "source": [
    "def summation(n):\n",
    "    \"\"\"Compute the summation i^3 + 3 * i^2 for 1 <= i <= n.\"\"\"\n",
    "    # BEGIN SOLUTION\n",
    "    if n >= 1 and isinstance(n, int):\n",
    "        total = [n**3+3*n**2 for n in range(1,n+1)] \n",
    "        return sum(total) \n",
    "    else:\n",
    "        print(\"n must be an integer and greater than or equal to 1.\")\n",
    "    # END SOLUTION"
   ]
  },
  {
   "cell_type": "raw",
   "id": "35fd5722-0775-4263-845b-0730913b8991",
   "metadata": {},
   "source": [
    "# END SOLUTION"
   ]
  },
  {
   "cell_type": "raw",
   "id": "9cda7bae-dc76-4a32-8345-5260c9d00df9",
   "metadata": {},
   "source": [
    "# BEGIN TESTS"
   ]
  },
  {
   "cell_type": "code",
   "execution_count": 7,
   "id": "625754d9-4798-452c-8662-1e7e4460ca32",
   "metadata": {
    "tags": []
   },
   "outputs": [
    {
     "data": {
      "text/plain": [
       "106"
      ]
     },
     "execution_count": 7,
     "metadata": {},
     "output_type": "execute_result"
    }
   ],
   "source": [
    "summation(1) + summation(2) + summation(3)"
   ]
  },
  {
   "cell_type": "code",
   "execution_count": 8,
   "id": "f889ad3a-de1f-4839-a132-af1e5900ea31",
   "metadata": {
    "tags": []
   },
   "outputs": [
    {
     "name": "stdout",
     "output_type": "stream",
     "text": [
      "n must be an integer and greater than or equal to 1.\n"
     ]
    }
   ],
   "source": [
    "summation(0)"
   ]
  },
  {
   "cell_type": "raw",
   "id": "073d0667-2d25-465c-a0ad-691d2b08347a",
   "metadata": {},
   "source": [
    "# END TESTS"
   ]
  },
  {
   "cell_type": "raw",
   "id": "4653609c-787f-4aaf-9a6d-f326e2374ffd",
   "metadata": {},
   "source": [
    "# END QUESTION"
   ]
  },
  {
   "cell_type": "markdown",
   "id": "dff9d434-1455-4a1a-bfdd-1461aadf905d",
   "metadata": {},
   "source": [
    "### Lists \n",
    "\n",
    "* Lists are used to store multiple items in a single variable. \n",
    "\n",
    "* Lists are a built-in data type in Python used to store collections of data.\n",
    ".\n",
    "* Lists may contain different types\n",
    "\n",
    "* List items are ordered, changeable, and allow duplicate values. \n",
    "\n",
    "* List items are indexed, the first item has index `[0]`, the second item has index `[1]` etc\n",
    "\n",
    "* Lists are created using square brackets. For example, `my_list = [2, 3, 5, 7, 11]`, is a list of the first 5 prime numbers. "
   ]
  },
  {
   "cell_type": "raw",
   "id": "5b43fffb-c0ae-47e2-893b-b62c6d36c5a8",
   "metadata": {},
   "source": [
    "# BEGIN QUESTION\n",
    "name: q2"
   ]
  },
  {
   "cell_type": "markdown",
   "id": "710b972f-a010-40a5-a9d8-7b8c98d24499",
   "metadata": {},
   "source": [
    "**Question 2.** Write a function named `list_sum` that computes the square of each value in `list_1`, the cube of each value in `list_2`, then returns a list containing the element-wise sum of these results. \n",
    "\n",
    "**Note:** Assume that `list_1` and `list_2` have the same number of elements."
   ]
  },
  {
   "cell_type": "raw",
   "id": "9f4ffb4f-f9e7-4af4-bfe0-7b1df1ba5cfa",
   "metadata": {},
   "source": [
    "# BEGIN SOLUTION"
   ]
  },
  {
   "cell_type": "code",
   "execution_count": 9,
   "id": "fb570b3c-6c12-45cc-8333-c8d99b2a66ac",
   "metadata": {
    "tags": []
   },
   "outputs": [
    {
     "data": {
      "text/plain": [
       "[65, 129, 225]"
      ]
     },
     "execution_count": 9,
     "metadata": {},
     "output_type": "execute_result"
    }
   ],
   "source": [
    "def list_sum(list_1, list_2):\n",
    "    \"\"\"Assume list_1 and list_2 have the same length.\n",
    "       Compute x^2 + y^3 for each x in list_1, and each y in list_2. \n",
    "       Return a list containing the element-wise sum of the results.\"\"\"\n",
    "    # BEGIN SOLUTION\n",
    "    return list([x**2+y**3 for x, y in zip(list_1, list_2)])\n",
    "    # END SOLUTION\n",
    "\n",
    "l1 = [1, 2, 3]\n",
    "l2 = [4, 5, 6]\n",
    "list_sum(l1, l2)"
   ]
  },
  {
   "cell_type": "raw",
   "id": "a7ef71f7-bd31-4381-b2a5-9719d6309bf0",
   "metadata": {},
   "source": [
    "# END SOLUTION"
   ]
  },
  {
   "cell_type": "raw",
   "id": "45cdf1fc-140b-497e-ab69-5714f6e98d93",
   "metadata": {},
   "source": [
    "# BEGIN TESTS"
   ]
  },
  {
   "cell_type": "code",
   "execution_count": 10,
   "id": "1643d278-6db7-44d4-a284-12f3c90ba56b",
   "metadata": {},
   "outputs": [
    {
     "data": {
      "text/plain": [
       "[65, 129, 225]"
      ]
     },
     "execution_count": 10,
     "metadata": {},
     "output_type": "execute_result"
    }
   ],
   "source": [
    "l1 = [1, 2, 3]\n",
    "l2 = [4, 5, 6]\n",
    "list_sum(l1, l2)"
   ]
  },
  {
   "cell_type": "raw",
   "id": "832882cd-851b-4737-acb0-529596fa8922",
   "metadata": {},
   "source": [
    "# END TESTS"
   ]
  },
  {
   "cell_type": "raw",
   "id": "85c06ac2-1f3a-440a-8d0a-6c3f1c645f60",
   "metadata": {},
   "source": [
    "# END QUESTION"
   ]
  },
  {
   "cell_type": "raw",
   "id": "ae66a254-17c6-4fbd-8421-fa1f12d337ee",
   "metadata": {},
   "source": [
    "# BEGIN QUESTION\n",
    "name: q3"
   ]
  },
  {
   "cell_type": "markdown",
   "id": "9fe42c44-41c6-4932-81d0-df0107b924b9",
   "metadata": {},
   "source": [
    "**Question 3.** Write a function named `average_of_all` that takes a number and returns the average of the sum of natural numbers less than or equal to $n$, `average_of_all(3)` would return 2 because \n",
    "\n",
    "$$1 + 2 + 3 = 6$$\n",
    "\n",
    "and \n",
    "\n",
    "$$\\frac{6}{3} = 2$$\n",
    "\n",
    "**Hint:** You will need a check to make sure the value passed to the function is greater than 0. If the value passed to the function is not greater than 0 return 0.0. Otherwise assume that all values passed to the function are positive integers."
   ]
  },
  {
   "cell_type": "raw",
   "id": "d979ec31-bdae-44ee-99b7-acdc638b3db2",
   "metadata": {},
   "source": [
    "# BEGIN SOLUTION"
   ]
  },
  {
   "cell_type": "code",
   "execution_count": 11,
   "id": "7f158f51-9be4-44cc-9d50-8dfc2ce32de9",
   "metadata": {
    "tags": []
   },
   "outputs": [
    {
     "data": {
      "text/plain": [
       "2.0"
      ]
     },
     "execution_count": 11,
     "metadata": {},
     "output_type": "execute_result"
    }
   ],
   "source": [
    "def average_of_all(n):\n",
    "    \"\"\"Return the average of the sum all natural numbers less than or equal to n.\n",
    "       >>> average(1)\n",
    "       1.0\n",
    "       >>> average(3)\n",
    "       2.0\n",
    "       >>> average(8)\n",
    "       4.5\n",
    "       >>> average(0)\n",
    "       0.0\n",
    "       >>> average(-2)\n",
    "       0.0\"\"\"\n",
    "    # BEGIN SOLUTION\n",
    "    if n <= 0:\n",
    "        return 0.0\n",
    "    else:\n",
    "        return (n+1)/2\n",
    "    # END SOLUTION\n",
    "\n",
    "average_of_all(3)"
   ]
  },
  {
   "cell_type": "raw",
   "id": "e35cad4c-44c7-4580-945c-a79845f3ccb6",
   "metadata": {},
   "source": [
    "# END SOLUTION"
   ]
  },
  {
   "cell_type": "raw",
   "id": "c8290b85-b46c-45ba-b11f-c0c5e1a94757",
   "metadata": {},
   "source": [
    "# BEGIN TESTS"
   ]
  },
  {
   "cell_type": "code",
   "execution_count": 12,
   "id": "11f43f52-093e-4dd6-abb5-92817973685c",
   "metadata": {},
   "outputs": [
    {
     "data": {
      "text/plain": [
       "0.0"
      ]
     },
     "execution_count": 12,
     "metadata": {},
     "output_type": "execute_result"
    }
   ],
   "source": [
    "average_of_all(0)"
   ]
  },
  {
   "cell_type": "code",
   "execution_count": 13,
   "id": "39bbcf57-296e-4e23-bb7a-9d316e84f17b",
   "metadata": {},
   "outputs": [
    {
     "data": {
      "text/plain": [
       "0.0"
      ]
     },
     "execution_count": 13,
     "metadata": {},
     "output_type": "execute_result"
    }
   ],
   "source": [
    "average_of_all(-1)"
   ]
  },
  {
   "cell_type": "code",
   "execution_count": 14,
   "id": "24c675f2-d1db-4788-9425-97e15147e167",
   "metadata": {},
   "outputs": [
    {
     "data": {
      "text/plain": [
       "4.5"
      ]
     },
     "execution_count": 14,
     "metadata": {},
     "output_type": "execute_result"
    }
   ],
   "source": [
    "average_of_all(8)"
   ]
  },
  {
   "cell_type": "raw",
   "id": "f32123c3-fe6a-479f-ab06-bd1485f2bbea",
   "metadata": {},
   "source": [
    "# END TESTS"
   ]
  },
  {
   "cell_type": "raw",
   "id": "b8d768b1-232f-471b-82e5-6424391c9fd6",
   "metadata": {},
   "source": [
    "# END QUESTION"
   ]
  },
  {
   "cell_type": "markdown",
   "id": "b28f2fe4-3b2f-45cc-bcbd-8f45b5696708",
   "metadata": {},
   "source": [
    "### NumPy\n",
    "\n",
    "`NumPy` is the numerical computing module introduced in Foundations of Data Science, which is a prerequisite for this course. Here's a quick recap of `NumPy`.\n",
    "\n",
    "The core of `NumPy` is the array. Like Python lists, arrays store data; however, they store data in a more efficient manner. In many cases, this allows for faster computation and data manipulation.\n",
    "\n",
    "In Foundations of Data Science, we used `make_array` from the `datascience` library, but that's not the most typical way. Instead, [use `np.array` to create an array](https://numpy.org/doc/stable/reference/generated/numpy.array.html). It takes a sequence, such as a list or range."
   ]
  },
  {
   "cell_type": "raw",
   "id": "ec50bec7-7eb6-4451-bb24-695f7002c2d9",
   "metadata": {},
   "source": [
    "# BEGIN QUESTION\n",
    "name: q4"
   ]
  },
  {
   "cell_type": "markdown",
   "id": "a623b469-cbb4-4612-afd9-270dfcc38c97",
   "metadata": {},
   "source": [
    "**Question 4.** Below, import the `NumPy` module using the appropriate aliasing. create an array named `arr_5` containing the values 5, 4, 3, 2, 1 (in that order)."
   ]
  },
  {
   "cell_type": "raw",
   "id": "f1c9d531-5451-42a5-8327-2c85dd4d91e0",
   "metadata": {},
   "source": [
    "# BEGIN SOLUTION"
   ]
  },
  {
   "cell_type": "code",
   "execution_count": 15,
   "id": "2324cb8b-c385-49a6-b2fa-01e882640342",
   "metadata": {
    "tags": []
   },
   "outputs": [
    {
     "data": {
      "text/plain": [
       "array([5, 4, 3, 2, 1])"
      ]
     },
     "execution_count": 15,
     "metadata": {},
     "output_type": "execute_result"
    }
   ],
   "source": [
    "# BEGIN SOLUTION\n",
    "import numpy as np \n",
    "arr_5 = np.array([5, 4, 3, 2, 1])\n",
    "# END SOLUTION\n",
    "arr_5"
   ]
  },
  {
   "cell_type": "raw",
   "id": "103ae902-5bca-4977-a77b-62206c707026",
   "metadata": {},
   "source": [
    "# END SOLUTION"
   ]
  },
  {
   "cell_type": "raw",
   "id": "f63b555b-8559-40b0-96a7-b096d1b52e2a",
   "metadata": {},
   "source": [
    "# BEGIN TESTS"
   ]
  },
  {
   "cell_type": "code",
   "execution_count": 16,
   "id": "077787b8-810b-4b5b-8ae5-6d0c63d2ea31",
   "metadata": {},
   "outputs": [
    {
     "data": {
      "text/plain": [
       "True"
      ]
     },
     "execution_count": 16,
     "metadata": {},
     "output_type": "execute_result"
    }
   ],
   "source": [
    "isinstance(arr_5, np.ndarray)"
   ]
  },
  {
   "cell_type": "code",
   "execution_count": 17,
   "id": "4b13a009-741d-45ae-b99d-595a5b6ae58c",
   "metadata": {},
   "outputs": [
    {
     "data": {
      "text/plain": [
       "5"
      ]
     },
     "execution_count": 17,
     "metadata": {},
     "output_type": "execute_result"
    }
   ],
   "source": [
    "len(arr_5)"
   ]
  },
  {
   "cell_type": "code",
   "execution_count": 18,
   "id": "1d2979d6-b4b8-46e8-843f-2e132fc280ae",
   "metadata": {},
   "outputs": [
    {
     "data": {
      "text/plain": [
       "15"
      ]
     },
     "execution_count": 18,
     "metadata": {},
     "output_type": "execute_result"
    }
   ],
   "source": [
    "sum(arr_5)"
   ]
  },
  {
   "cell_type": "code",
   "execution_count": 19,
   "id": "573ac540-22f5-480d-acff-4d0b09f8478e",
   "metadata": {
    "tags": []
   },
   "outputs": [
    {
     "data": {
      "text/plain": [
       "True"
      ]
     },
     "execution_count": 19,
     "metadata": {},
     "output_type": "execute_result"
    }
   ],
   "source": [
    "all([5, 4, 3, 2, 1] == arr_5)"
   ]
  },
  {
   "cell_type": "raw",
   "id": "c473ac32-4604-47d1-8483-12c2fcbf1042",
   "metadata": {},
   "source": [
    "# END TESTS"
   ]
  },
  {
   "cell_type": "raw",
   "id": "5e28e22b-614c-4a63-9a2c-40510d085744",
   "metadata": {},
   "source": [
    "# END QUESTION"
   ]
  },
  {
   "cell_type": "raw",
   "id": "c77a8bd6-3949-45a7-905d-d11cebeda079",
   "metadata": {},
   "source": [
    "# BEGIN QUESTION\n",
    "name: q5"
   ]
  },
  {
   "cell_type": "markdown",
   "id": "6a82deaf-4e60-4154-af9c-cf29d1e28f97",
   "metadata": {},
   "source": [
    "**Question 5.** Create an array named `arr_500` containing the values 500, 499, 498, 497, ..., 1 (in that order)."
   ]
  },
  {
   "cell_type": "raw",
   "id": "dfdb9ab4-8e27-4930-b4b3-6f715f1b3cd7",
   "metadata": {},
   "source": [
    "# BEGIN SOLUTION"
   ]
  },
  {
   "cell_type": "code",
   "execution_count": 20,
   "id": "2cb1db3e-54c3-40c3-86f1-0f8586fa3875",
   "metadata": {
    "tags": []
   },
   "outputs": [],
   "source": [
    "arr_500 = np.arange(500, 0, -1) # SOLUTION"
   ]
  },
  {
   "cell_type": "raw",
   "id": "024db2dd-8b9c-42d7-a1c7-9c1e345eddf1",
   "metadata": {},
   "source": [
    "# END SOLUTION"
   ]
  },
  {
   "cell_type": "raw",
   "id": "94e3711b-c809-40cf-a81a-84437c897f08",
   "metadata": {},
   "source": [
    "# BEGIN TESTS"
   ]
  },
  {
   "cell_type": "code",
   "execution_count": 21,
   "id": "54dad02a-0470-42d0-9d00-e3c417940417",
   "metadata": {
    "tags": []
   },
   "outputs": [
    {
     "data": {
      "text/plain": [
       "125250"
      ]
     },
     "execution_count": 21,
     "metadata": {},
     "output_type": "execute_result"
    }
   ],
   "source": [
    "sum(arr_500)"
   ]
  },
  {
   "cell_type": "code",
   "execution_count": 22,
   "id": "3eef0a50-adac-4acb-b622-6d2932052c73",
   "metadata": {
    "tags": []
   },
   "outputs": [
    {
     "data": {
      "text/plain": [
       "500"
      ]
     },
     "execution_count": 22,
     "metadata": {},
     "output_type": "execute_result"
    }
   ],
   "source": [
    "len(arr_500)"
   ]
  },
  {
   "cell_type": "code",
   "execution_count": 23,
   "id": "ede0a059-2303-4f82-9d6e-ce7da561823b",
   "metadata": {
    "tags": []
   },
   "outputs": [
    {
     "data": {
      "text/plain": [
       "True"
      ]
     },
     "execution_count": 23,
     "metadata": {},
     "output_type": "execute_result"
    }
   ],
   "source": [
    "np.all(np.diff(arr_500) == -1)"
   ]
  },
  {
   "cell_type": "raw",
   "id": "0e0ab06f-30e1-43ac-9667-a82a049544c6",
   "metadata": {},
   "source": [
    "# END TESTS"
   ]
  },
  {
   "cell_type": "raw",
   "id": "34272ab6-970d-44d2-82d1-754522e5c50b",
   "metadata": {},
   "source": [
    "# END QUESTION"
   ]
  },
  {
   "cell_type": "markdown",
   "id": "914991df-4864-453d-b502-1fabb6928243",
   "metadata": {},
   "source": [
    "We can access attributes of an array such as shape and data type. A full list of attributes can be found [here](https://docs.scipy.org/doc/numpy-1.15.0/reference/arrays.ndarray.html#array-attributes)."
   ]
  },
  {
   "cell_type": "code",
   "execution_count": 24,
   "id": "3f90cddb-550e-434b-bcb2-3be52148b1a3",
   "metadata": {
    "tags": []
   },
   "outputs": [
    {
     "data": {
      "text/plain": [
       "2"
      ]
     },
     "execution_count": 24,
     "metadata": {},
     "output_type": "execute_result"
    }
   ],
   "source": [
    "# The fourth item in the arr_5 array\n",
    "arr_5[3]"
   ]
  },
  {
   "cell_type": "code",
   "execution_count": 25,
   "id": "b23c64d2-ae5d-443f-9dca-f1c21ea517a7",
   "metadata": {},
   "outputs": [
    {
     "data": {
      "text/plain": [
       "array([3, 2])"
      ]
     },
     "execution_count": 25,
     "metadata": {},
     "output_type": "execute_result"
    }
   ],
   "source": [
    "# Items 2 through 3 in the arr_5 array not including the fourth\n",
    "arr_5[2:4]"
   ]
  },
  {
   "cell_type": "code",
   "execution_count": 26,
   "id": "230b1655-18a2-461b-a0c5-81a7f7fefd19",
   "metadata": {},
   "outputs": [
    {
     "data": {
      "text/plain": [
       "(5,)"
      ]
     },
     "execution_count": 26,
     "metadata": {},
     "output_type": "execute_result"
    }
   ],
   "source": [
    "# The dimensions (i.e. rows and columns)\n",
    "# arr_5 is one-dimensional array with 5 elements\n",
    "arr_5.shape\n",
    "\n",
    "# This method returns the dimensions as a tuple"
   ]
  },
  {
   "cell_type": "code",
   "execution_count": 27,
   "id": "57beaa9e-dcfe-4ba4-9433-b625976c09e4",
   "metadata": {},
   "outputs": [
    {
     "data": {
      "text/plain": [
       "dtype('int64')"
      ]
     },
     "execution_count": 27,
     "metadata": {},
     "output_type": "execute_result"
    }
   ],
   "source": [
    "# The data type for all the elements is numerical (integer)\n",
    "arr_5.dtype"
   ]
  },
  {
   "cell_type": "markdown",
   "id": "5d2f7ddc-0dd3-41cd-84fc-3e59cfc78290",
   "metadata": {},
   "source": [
    "Arrays, unlike Python lists, can not store items of different data types."
   ]
  },
  {
   "cell_type": "code",
   "execution_count": 28,
   "id": "3bc31e33-94e9-425d-9f80-dd5fdc7e0ffd",
   "metadata": {},
   "outputs": [
    {
     "data": {
      "text/plain": [
       "[1, '3']"
      ]
     },
     "execution_count": 28,
     "metadata": {},
     "output_type": "execute_result"
    }
   ],
   "source": [
    "# A regular Python list can store items of different data types\n",
    "[1, '3']"
   ]
  },
  {
   "cell_type": "code",
   "execution_count": 29,
   "id": "e14b2a8b-02d0-4a4d-b7ab-8d94ac52a0aa",
   "metadata": {},
   "outputs": [
    {
     "data": {
      "text/plain": [
       "array(['1', '3'], dtype='<U21')"
      ]
     },
     "execution_count": 29,
     "metadata": {},
     "output_type": "execute_result"
    }
   ],
   "source": [
    "# Arrays will convert everything to the same data type\n",
    "np.array([1, '3'])"
   ]
  },
  {
   "cell_type": "markdown",
   "id": "a93bd8db-c42b-4c75-aa72-e961e6ce0b82",
   "metadata": {},
   "source": [
    "Notice that the 1 was changed to a character an put in between quotation marks."
   ]
  },
  {
   "cell_type": "code",
   "execution_count": 30,
   "id": "c4b4e7d2-4748-4a8f-9de4-e753291c08e8",
   "metadata": {},
   "outputs": [
    {
     "data": {
      "text/plain": [
       "array([5. , 8.3])"
      ]
     },
     "execution_count": 30,
     "metadata": {},
     "output_type": "execute_result"
    }
   ],
   "source": [
    "# Another example of array type conversion\n",
    "np.array([5, 8.3])"
   ]
  },
  {
   "cell_type": "markdown",
   "id": "b0992a69-c906-4513-b4aa-4155fd37e829",
   "metadata": {},
   "source": [
    "Notice that the 5 was changed from an integer to a decimal (float)."
   ]
  },
  {
   "cell_type": "markdown",
   "id": "0a6dda95-b829-442e-934d-d5d34ff03554",
   "metadata": {},
   "source": [
    "Arrays are also useful in performing **vectorized** operations. Given two or more arrays of equal length, arithmetic will perform element-wise computations across the arrays.\n",
    "\n",
    "For example, observe the following:"
   ]
  },
  {
   "cell_type": "code",
   "execution_count": 31,
   "id": "91bc004e-757c-4e98-b99f-e1eeaa9a051c",
   "metadata": {},
   "outputs": [
    {
     "data": {
      "text/plain": [
       "[1, 2, 3, 4, 5, 6]"
      ]
     },
     "execution_count": 31,
     "metadata": {},
     "output_type": "execute_result"
    }
   ],
   "source": [
    "# Python list addition will concatenate the two lists\n",
    "[1, 2, 3] + [4, 5, 6]"
   ]
  },
  {
   "cell_type": "code",
   "execution_count": 32,
   "id": "3f6d5580-7c69-4f2d-b5c8-b8a21cd04781",
   "metadata": {},
   "outputs": [
    {
     "data": {
      "text/plain": [
       "array([5, 7, 9])"
      ]
     },
     "execution_count": 32,
     "metadata": {},
     "output_type": "execute_result"
    }
   ],
   "source": [
    "# NumPy array addition will add them element-wise\n",
    "np.array([1, 2, 3]) + np.array([4, 5, 6])"
   ]
  },
  {
   "cell_type": "raw",
   "id": "7621f9f5-3f3f-43d7-8ebf-4129778611df",
   "metadata": {},
   "source": [
    "# BEGIN QUESTION\n",
    "name: q6"
   ]
  },
  {
   "cell_type": "markdown",
   "id": "e2d2e3b0-678d-4366-81bf-d3e3ce88ce7b",
   "metadata": {},
   "source": [
    "**Question 6.** Given the array `random_arr`, assign `valid_values` to an array containing all values $x$ such that \n",
    "\n",
    "$$2x^4>1$$."
   ]
  },
  {
   "cell_type": "raw",
   "id": "4154b7b6-6c25-4deb-b810-3b5229a23835",
   "metadata": {},
   "source": [
    "# BEGIN SOLUTION"
   ]
  },
  {
   "cell_type": "code",
   "execution_count": 33,
   "id": "98dac1fd-e453-4536-95c7-a1d0a4a1b40f",
   "metadata": {
    "tags": []
   },
   "outputs": [
    {
     "data": {
      "text/plain": [
       "array([0.95071431, 0.86617615, 0.96990985, 0.94888554, 0.96563203,\n",
       "       0.9093204 , 0.96958463, 0.93949894, 0.89482735, 0.92187424])"
      ]
     },
     "execution_count": 33,
     "metadata": {},
     "output_type": "execute_result"
    }
   ],
   "source": [
    "# np.random.seed() sets a seed so that \n",
    "# the results are the same each time.\n",
    "# Do not delete this line. \n",
    "np.random.seed(42)\n",
    "\n",
    "# The line below creates an array \n",
    "# of 60 random values from the uniform\n",
    "# distribution.\n",
    "random_arr = np.random.rand(60)\n",
    "\n",
    "valid_values = random_arr[2*random_arr**4 > 1] # SOLUTION\n",
    "valid_values"
   ]
  },
  {
   "cell_type": "raw",
   "id": "4cdd42c0-9ab3-43f0-89db-37f694cf32df",
   "metadata": {},
   "source": [
    "# END SOLUTION"
   ]
  },
  {
   "cell_type": "raw",
   "id": "83579d7c-d1b0-4a9f-842b-1432343393f5",
   "metadata": {},
   "source": [
    "# BEGIN TESTS"
   ]
  },
  {
   "cell_type": "code",
   "execution_count": 34,
   "id": "2c1b8dcc-4c73-4c0a-9c2b-5ad48f4b02d8",
   "metadata": {
    "tags": []
   },
   "outputs": [
    {
     "data": {
      "text/plain": [
       "9"
      ]
     },
     "execution_count": 34,
     "metadata": {},
     "output_type": "execute_result"
    }
   ],
   "source": [
    "round(sum(valid_values))"
   ]
  },
  {
   "cell_type": "code",
   "execution_count": 35,
   "id": "7003802a-1d8f-4005-9624-89d1c3998422",
   "metadata": {
    "tags": []
   },
   "outputs": [
    {
     "data": {
      "text/plain": [
       "10"
      ]
     },
     "execution_count": 35,
     "metadata": {},
     "output_type": "execute_result"
    }
   ],
   "source": [
    "len(valid_values)"
   ]
  },
  {
   "cell_type": "code",
   "execution_count": 36,
   "id": "867c7212-6f86-436d-853e-7d5f07e5f0d7",
   "metadata": {
    "tags": []
   },
   "outputs": [
    {
     "data": {
      "text/plain": [
       "True"
      ]
     },
     "execution_count": 36,
     "metadata": {},
     "output_type": "execute_result"
    }
   ],
   "source": [
    "np.all(valid_values < 0.97)"
   ]
  },
  {
   "cell_type": "raw",
   "id": "6693eb5f-4db6-4211-8518-755660b3a31d",
   "metadata": {},
   "source": [
    "# END TESTS"
   ]
  },
  {
   "cell_type": "raw",
   "id": "655bf9d6-b96c-4fe7-b304-56c7808aff8d",
   "metadata": {},
   "source": [
    "# END QUESTION"
   ]
  },
  {
   "cell_type": "raw",
   "id": "6d641435-1e76-4d26-ab81-73bef9179cd3",
   "metadata": {},
   "source": [
    "# BEGIN QUESTION\n",
    "name: q7"
   ]
  },
  {
   "cell_type": "markdown",
   "id": "537d7b8a-bd33-4c12-8b9c-36d2f60bda60",
   "metadata": {},
   "source": [
    "**Question 7.** Use `NumPy` to recreate your answer to **Question 2.** The input parameters will both be lists, so you will need to convert the lists into arrays before performing your operations. Additionally, you will need to make sure that both lists have the same number of items. Assume that both lists are numeric data types.\n",
    "\n",
    "**Hint:** You can use the `np.array` function to create a `NumPy` array."
   ]
  },
  {
   "cell_type": "raw",
   "id": "01cacab8-fd7c-43e6-98e6-7bcfefd92368",
   "metadata": {},
   "source": [
    "# BEGIN SOLUTION"
   ]
  },
  {
   "cell_type": "code",
   "execution_count": 37,
   "id": "2c130360-32a8-4550-a7c5-091d51dccb37",
   "metadata": {
    "tags": []
   },
   "outputs": [
    {
     "data": {
      "text/plain": [
       "array([ 65, 129, 225])"
      ]
     },
     "execution_count": 37,
     "metadata": {},
     "output_type": "execute_result"
    }
   ],
   "source": [
    "def array_sum(list_1, list_2):\n",
    "    \"\"\"Assume list_1 and list_2 have the same length.\n",
    "       Compute x^2 + y^3 for each x in list_1, and each y in list_2. \n",
    "       Return a list containing the element-wise sum of the results.\"\"\"\n",
    "    # BEGIN SOLUTION\n",
    "    list_1, list_2 = np.array(list_1), np.array(list_2)\n",
    "    return list_1**2 + list_2**3\n",
    "    # END SOLUTION\n",
    "\n",
    "l1 = [1, 2, 3]\n",
    "l2 = [4, 5, 6]\n",
    "array_sum(l1, l2)"
   ]
  },
  {
   "cell_type": "raw",
   "id": "6dd550d7-6145-4518-b1a0-7cee1f1a5082",
   "metadata": {},
   "source": [
    "# END SOLUTION"
   ]
  },
  {
   "cell_type": "raw",
   "id": "ef3d334c-c773-4ed2-b27e-ba74c36630ee",
   "metadata": {},
   "source": [
    "# BEGIN TESTS"
   ]
  },
  {
   "cell_type": "code",
   "execution_count": 38,
   "id": "2dfdd6ee-20f6-4758-bb07-20827dd0ca9a",
   "metadata": {
    "tags": []
   },
   "outputs": [
    {
     "data": {
      "text/plain": [
       "array([ 65, 129, 225])"
      ]
     },
     "execution_count": 38,
     "metadata": {},
     "output_type": "execute_result"
    }
   ],
   "source": [
    "l1 = [1, 2, 3]\n",
    "l2 = [4, 5, 6]\n",
    "array_sum(l1, l2)"
   ]
  },
  {
   "cell_type": "raw",
   "id": "a39214c7-0425-4ae4-a131-855e7f49a288",
   "metadata": {},
   "source": [
    "# END TESTS"
   ]
  },
  {
   "cell_type": "raw",
   "id": "2b6386d5-80b6-4a41-9345-b27791c6ed2e",
   "metadata": {},
   "source": [
    "# END QUESTION"
   ]
  },
  {
   "cell_type": "markdown",
   "id": "0d114959-a75b-4d20-936a-f7d0fea35b5a",
   "metadata": {},
   "source": [
    "You might have been told that Python is slow, but array arithmetic is carried out very fast, even for large arrays. For ten numbers, `list_sum` and `array_sum` both take a similar amount of time.\n",
    "\n",
    "**Note:** Line 1 in the code cell below uses list comprehension to create a list of 10 elements starting at 0 and ending at 9. For more information on list comprehension and when to use it, click [here](https://realpython.com/list-comprehension-python/)."
   ]
  },
  {
   "cell_type": "code",
   "execution_count": 39,
   "id": "6e041a0e-e7d6-47e2-b321-8f1b5a7f210e",
   "metadata": {},
   "outputs": [],
   "source": [
    "# Here we use list comprehension to create a list\n",
    "# of 10 elements starting at 0 and ending at 9.\n",
    "sample_list_1 = [x for x in range(10)] \n",
    "\n",
    "# Here we use a NumPy function, np.arange(10)\n",
    "# to create an array of 10 elements starting \n",
    "# at 0 and ending at 9.\n",
    "sample_array_1 = np.arange(10)"
   ]
  },
  {
   "cell_type": "code",
   "execution_count": 40,
   "id": "333d2d50-15d1-4e5f-873f-f2c57689aaaf",
   "metadata": {},
   "outputs": [
    {
     "name": "stdout",
     "output_type": "stream",
     "text": [
      "CPU times: user 8 µs, sys: 1e+03 ns, total: 9 µs\n",
      "Wall time: 8.82 µs\n"
     ]
    },
    {
     "data": {
      "text/plain": [
       "[0, 2, 12, 36, 80, 150, 252, 392, 576, 810]"
      ]
     },
     "execution_count": 40,
     "metadata": {},
     "output_type": "execute_result"
    }
   ],
   "source": [
    "%%time\n",
    "list_sum(sample_list_1, sample_list_1)"
   ]
  },
  {
   "cell_type": "code",
   "execution_count": 41,
   "id": "64ffd202-4d6f-4bfc-be3b-b3d5d526d0bf",
   "metadata": {},
   "outputs": [
    {
     "name": "stdout",
     "output_type": "stream",
     "text": [
      "CPU times: user 24 µs, sys: 9 µs, total: 33 µs\n",
      "Wall time: 29.8 µs\n"
     ]
    },
    {
     "data": {
      "text/plain": [
       "array([  0,   2,  12,  36,  80, 150, 252, 392, 576, 810])"
      ]
     },
     "execution_count": 41,
     "metadata": {},
     "output_type": "execute_result"
    }
   ],
   "source": [
    "%%time\n",
    "array_sum(sample_array_1, sample_array_1)"
   ]
  },
  {
   "cell_type": "markdown",
   "id": "f2412893-7082-4897-9aaa-5fb186578b67",
   "metadata": {},
   "source": [
    "The time difference seems negligible for a list/array of size 10; depending on your setup, you may even observe that `list_sum` executes faster than `array_sum`. However, we will commonly be working with much larger datasets:"
   ]
  },
  {
   "cell_type": "code",
   "execution_count": 42,
   "id": "79a07184-1e09-4185-859b-8f13a7a845ba",
   "metadata": {},
   "outputs": [],
   "source": [
    "# Here we use list comprehension to create a list\n",
    "# of 100000 elements starting at 0 and ending at 99999.\n",
    "sample_list_2 = [x for x in range(100000)]\n",
    "\n",
    "# Here we use a NumPy function, np.arange(100000)\n",
    "# to create an array of 100000 elements starting \n",
    "# at 0 and ending at 99999.\n",
    "sample_array_2 = np.arange(100000)"
   ]
  },
  {
   "cell_type": "code",
   "execution_count": 43,
   "id": "45eda343-af47-4ed3-9b29-79e1b8c968e8",
   "metadata": {},
   "outputs": [
    {
     "name": "stdout",
     "output_type": "stream",
     "text": [
      "CPU times: user 34.8 ms, sys: 1.44 ms, total: 36.2 ms\n",
      "Wall time: 35.7 ms\n"
     ]
    }
   ],
   "source": [
    "%%time\n",
    "list_sum(sample_list_2, sample_list_2)\n",
    "\n",
    "# The semicolon hides the output\n",
    ";"
   ]
  },
  {
   "cell_type": "code",
   "execution_count": 44,
   "id": "34bec91e-a178-43ff-bfff-ab4b9dd04924",
   "metadata": {},
   "outputs": [
    {
     "name": "stdout",
     "output_type": "stream",
     "text": [
      "CPU times: user 786 µs, sys: 999 µs, total: 1.78 ms\n",
      "Wall time: 836 µs\n"
     ]
    }
   ],
   "source": [
    "%%time\n",
    "array_sum(sample_array_2, sample_array_2)\n",
    "\n",
    "# The semicolon hides the output\n",
    ";"
   ]
  },
  {
   "cell_type": "markdown",
   "id": "0cc26e50-c9e3-4b2c-bae7-cecb122af610",
   "metadata": {},
   "source": [
    "With the larger dataset, we see that using `NumPy` results in code that executes over 50 times faster. Throughout this course (and in the real world), you will find that writing efficient code will be important; arrays and vectorized operations are the most common way of making Python programs run quickly."
   ]
  },
  {
   "cell_type": "raw",
   "id": "d23f0a55-8743-405f-b3db-08e5f957b491",
   "metadata": {},
   "source": [
    "# BEGIN QUESTION\n",
    "name: q8"
   ]
  },
  {
   "cell_type": "markdown",
   "id": "081f6525-10ac-4425-b848-1f09b47cd075",
   "metadata": {},
   "source": [
    "**Question 9.** Create a list of the first 100 even natural numbers using a `for` loop and the `.append()` method. Save the list to `even_list`.\n",
    "\n",
    "**Hint:** You must use a for loop to earn all the points for this question."
   ]
  },
  {
   "cell_type": "raw",
   "id": "85d07521-acaa-487b-a96d-4c8da251c54c",
   "metadata": {},
   "source": [
    "# BEGIN SOLUTION"
   ]
  },
  {
   "cell_type": "code",
   "execution_count": 45,
   "id": "97c1fdfa-6015-439c-be41-b0f1ce555fe7",
   "metadata": {
    "tags": []
   },
   "outputs": [
    {
     "data": {
      "text/plain": [
       "[2, 4, 6, 8, 10, 12, 14, 16, 18, 20]"
      ]
     },
     "execution_count": 45,
     "metadata": {},
     "output_type": "execute_result"
    }
   ],
   "source": [
    "# Initialize an empty list\n",
    "even_list = [] # SOLUTION\n",
    "\n",
    "# BEGIN SOLUTION\n",
    "for i in range(2, 202, 2):\n",
    "    even_list.append(i)\n",
    "# END SOLUTION\n",
    "even_list[0:10]"
   ]
  },
  {
   "cell_type": "raw",
   "id": "04562edf-bb10-456b-9b82-85fd77d9ea27",
   "metadata": {},
   "source": [
    "# END SOLUTION"
   ]
  },
  {
   "cell_type": "raw",
   "id": "aff21d07-6bbb-4539-bc3b-3b113ffe5b62",
   "metadata": {},
   "source": [
    "# BEGIN TESTS"
   ]
  },
  {
   "cell_type": "code",
   "execution_count": 46,
   "id": "f71cb565-6f97-4e6e-baf9-a14401238edc",
   "metadata": {
    "tags": []
   },
   "outputs": [
    {
     "data": {
      "text/plain": [
       "200"
      ]
     },
     "execution_count": 46,
     "metadata": {},
     "output_type": "execute_result"
    }
   ],
   "source": [
    "even_list[len(even_list)-1]"
   ]
  },
  {
   "cell_type": "code",
   "execution_count": 47,
   "id": "48a33218-4d51-4d5f-97ce-8e052f2029fe",
   "metadata": {
    "tags": []
   },
   "outputs": [
    {
     "data": {
      "text/plain": [
       "True"
      ]
     },
     "execution_count": 47,
     "metadata": {},
     "output_type": "execute_result"
    }
   ],
   "source": [
    "isinstance(even_list, list)"
   ]
  },
  {
   "cell_type": "code",
   "execution_count": 48,
   "id": "8e39b950-0f22-4237-9a38-ef9642016a64",
   "metadata": {
    "tags": []
   },
   "outputs": [
    {
     "data": {
      "text/plain": [
       "0"
      ]
     },
     "execution_count": 48,
     "metadata": {},
     "output_type": "execute_result"
    }
   ],
   "source": [
    "np.sum(np.array(even_list) % 2)"
   ]
  },
  {
   "cell_type": "code",
   "execution_count": 49,
   "id": "a77fb390-5b09-45b9-9e9a-71e15dae5c5d",
   "metadata": {
    "tags": []
   },
   "outputs": [
    {
     "data": {
      "text/plain": [
       "True"
      ]
     },
     "execution_count": 49,
     "metadata": {},
     "output_type": "execute_result"
    }
   ],
   "source": [
    "0 not in even_list"
   ]
  },
  {
   "cell_type": "raw",
   "id": "6668006c-779a-4522-adc5-3dc5f462493f",
   "metadata": {},
   "source": [
    "# END TESTS"
   ]
  },
  {
   "cell_type": "raw",
   "id": "6a7554ed-2b4c-4649-9bd0-e05d18102c75",
   "metadata": {},
   "source": [
    "# END QUESTION"
   ]
  },
  {
   "cell_type": "raw",
   "id": "e4d6ed9f-cacd-49a6-94eb-a82593ce310b",
   "metadata": {},
   "source": [
    "# BEGIN QUESTION\n",
    "name: q9"
   ]
  },
  {
   "cell_type": "markdown",
   "id": "2a31fc11-3c88-4133-8425-a39d31cd3e5a",
   "metadata": {},
   "source": [
    "**Question 9.** Create a list of the first 100 odd natural numbers using a list comprehension. Save the list to `odd_list`.\n",
    "\n",
    "**Hint:** You must use list comprehension to earn all the points for this question."
   ]
  },
  {
   "cell_type": "raw",
   "id": "4f9ef3ce-fb8f-4330-9353-eb09adb3cc4f",
   "metadata": {},
   "source": [
    "# BEGIN SOLUTION"
   ]
  },
  {
   "cell_type": "code",
   "execution_count": 50,
   "id": "183d6734-d9bb-4f1b-aee8-b596d70414bc",
   "metadata": {
    "tags": []
   },
   "outputs": [
    {
     "data": {
      "text/plain": [
       "[1, 3, 5, 7, 9, 11, 13, 15, 17, 19]"
      ]
     },
     "execution_count": 50,
     "metadata": {},
     "output_type": "execute_result"
    }
   ],
   "source": [
    "odd_list = [i for i in range(1, 201, 2)] # SOLUTION\n",
    "odd_list[0:10]"
   ]
  },
  {
   "cell_type": "raw",
   "id": "56792219-9797-498a-9c48-54cbee351baf",
   "metadata": {},
   "source": [
    "# END SOLUTION"
   ]
  },
  {
   "cell_type": "raw",
   "id": "127ad0c0-0a5a-4b94-8707-757372fa4ac6",
   "metadata": {},
   "source": [
    "# BEGIN TESTS"
   ]
  },
  {
   "cell_type": "code",
   "execution_count": 51,
   "id": "d2169643-3583-4ddf-ae99-ae07a7d10c21",
   "metadata": {
    "tags": []
   },
   "outputs": [
    {
     "data": {
      "text/plain": [
       "199"
      ]
     },
     "execution_count": 51,
     "metadata": {},
     "output_type": "execute_result"
    }
   ],
   "source": [
    "odd_list[len(odd_list)-1]"
   ]
  },
  {
   "cell_type": "code",
   "execution_count": 52,
   "id": "32abd650-7438-4756-b4d3-d71de9465c5e",
   "metadata": {
    "tags": []
   },
   "outputs": [
    {
     "data": {
      "text/plain": [
       "True"
      ]
     },
     "execution_count": 52,
     "metadata": {},
     "output_type": "execute_result"
    }
   ],
   "source": [
    "isinstance(odd_list, list)"
   ]
  },
  {
   "cell_type": "code",
   "execution_count": 53,
   "id": "d2618e46-cd99-4478-bdd4-8e250fc6e599",
   "metadata": {
    "tags": []
   },
   "outputs": [
    {
     "data": {
      "text/plain": [
       "True"
      ]
     },
     "execution_count": 53,
     "metadata": {},
     "output_type": "execute_result"
    }
   ],
   "source": [
    "all(np.array(odd_list) % 2 == 1)"
   ]
  },
  {
   "cell_type": "raw",
   "id": "1d9b21bf-0adc-4301-89c6-0fbdbdeda362",
   "metadata": {},
   "source": [
    "# END TESTS"
   ]
  },
  {
   "cell_type": "raw",
   "id": "97fa42d8-90e3-4e39-9cd8-a7d67c1275da",
   "metadata": {},
   "source": [
    "# END QUESTION"
   ]
  },
  {
   "cell_type": "markdown",
   "id": "0afce374-dca1-4521-83ef-19a88f755fc1",
   "metadata": {},
   "source": [
    "### Dictionary\n",
    "\n",
    "A Python dictionary is a mutable object, and it contains the data in the form of key-value pairs. Each key is separated from its value by a colon (:). For example, a dictionary can be created like this \n",
    "\n",
    "`my_dict = {'key1': value, 'key2': value, 'key3': value}`\n",
    "\n",
    "\n",
    "Dictionaries are a widely used data structure, and a good understanding of its methods and operations is necessary for doing data science. "
   ]
  },
  {
   "cell_type": "raw",
   "id": "04d2e3a1-f717-49b2-917d-866d8cde0c1f",
   "metadata": {},
   "source": [
    "# BEGIN QUESTION\n",
    "name: q10"
   ]
  },
  {
   "cell_type": "markdown",
   "id": "84966fcc-2de6-4bb8-88b5-e7521021f666",
   "metadata": {},
   "source": [
    "**Question 10.** Below are two lists. Using a `for` loop and the `update()` method of a dictionary convert them into a dictionary in a way that item from `keys_1` is the key and item from `values_1` is the value. Save it to `d`.\n",
    "\n",
    "`keys_1 = ['Ten', 'Twenty', 'Thirty']`\n",
    "\n",
    "`values_1 = [10, 20, 30]`\n",
    "\n",
    "**Note:** Click [here](https://www.w3schools.com/python/ref_dictionary_update.asp) to read about how to use the `update` method."
   ]
  },
  {
   "cell_type": "raw",
   "id": "b98dd25c-2eec-4084-a167-497d518d41ac",
   "metadata": {},
   "source": [
    "# BEGIN SOLUTION"
   ]
  },
  {
   "cell_type": "code",
   "execution_count": 54,
   "id": "8c612580-46af-4eae-9832-b5f85a35c5e5",
   "metadata": {
    "tags": []
   },
   "outputs": [
    {
     "data": {
      "text/plain": [
       "{'Ten': 10, 'Twenty': 20, 'Thirty': 30}"
      ]
     },
     "execution_count": 54,
     "metadata": {},
     "output_type": "execute_result"
    }
   ],
   "source": [
    "keys_1 = ['Ten', 'Twenty', 'Thirty']\n",
    "values_1 = [10, 20, 30]\n",
    "\n",
    "# Intialize an empty dictionary\n",
    "d = {} # SOLUTION\n",
    "\n",
    "# BEGIN SOLUTION\n",
    "for k, v in zip(keys_1, values_1):\n",
    "    d.update({k:v})\n",
    "# END SOLUTION\n",
    "d"
   ]
  },
  {
   "cell_type": "raw",
   "id": "d1c31d16-2e28-4e20-96ac-2d15f252c3d4",
   "metadata": {},
   "source": [
    "# END SOLUTION"
   ]
  },
  {
   "cell_type": "raw",
   "id": "fb51069e-bc0a-4725-9681-5182dbd780fa",
   "metadata": {},
   "source": [
    "# BEGIN TESTS"
   ]
  },
  {
   "cell_type": "code",
   "execution_count": 55,
   "id": "06b06271-0fd2-4959-bf36-887fb5f2a350",
   "metadata": {
    "tags": []
   },
   "outputs": [
    {
     "data": {
      "text/plain": [
       "dict_keys(['Ten', 'Twenty', 'Thirty'])"
      ]
     },
     "execution_count": 55,
     "metadata": {},
     "output_type": "execute_result"
    }
   ],
   "source": [
    "d.keys()"
   ]
  },
  {
   "cell_type": "code",
   "execution_count": 56,
   "id": "54e5fe92-49bc-4a53-8df3-7069a36f42ca",
   "metadata": {
    "tags": []
   },
   "outputs": [
    {
     "data": {
      "text/plain": [
       "dict_values([10, 20, 30])"
      ]
     },
     "execution_count": 56,
     "metadata": {},
     "output_type": "execute_result"
    }
   ],
   "source": [
    "d.values()"
   ]
  },
  {
   "cell_type": "code",
   "execution_count": 57,
   "id": "3876b162-0d9c-4ba3-9bcd-f7dc8cde0c82",
   "metadata": {
    "tags": []
   },
   "outputs": [
    {
     "data": {
      "text/plain": [
       "60"
      ]
     },
     "execution_count": 57,
     "metadata": {},
     "output_type": "execute_result"
    }
   ],
   "source": [
    "d['Ten'] + d['Twenty'] + d['Thirty']"
   ]
  },
  {
   "cell_type": "raw",
   "id": "d3813914-7fbb-46dd-aa65-4bcfa19d5d51",
   "metadata": {},
   "source": [
    "# END TESTS"
   ]
  },
  {
   "cell_type": "raw",
   "id": "7b4d92fb-967c-4299-8a97-cda0c190a7da",
   "metadata": {},
   "source": [
    "# END QUESTION"
   ]
  },
  {
   "cell_type": "raw",
   "id": "843faec1-f4f8-49ae-bd80-ac62dcea06ba",
   "metadata": {},
   "source": [
    "# BEGIN QUESTION\n",
    "name: q11"
   ]
  },
  {
   "cell_type": "markdown",
   "id": "5c00503c-b894-423a-918e-3cfd1e219ff0",
   "metadata": {},
   "source": [
    "**Question 11.** Create a python dictionary whose keys are the positive integers from 1 to 26, and whose values are tuples containing the lowercase and uppercase letters of the English alphabet. For example,\n",
    "\n",
    "```\n",
    "{1:('A', 'a'), 2:('B', 'b'), ..., 26: ('Z', 'z')}\n",
    "```\n",
    "\n",
    "Name the dictionary `alphabets`.\n",
    "\n",
    "**Hint:** The [`string` module](https://docs.python.org/3/library/string.html) provides several English-centric values. Remember to use the functions, methods, etc. from a module you need to import the module into your notebook environment.\n"
   ]
  },
  {
   "cell_type": "raw",
   "id": "01a7c7c6-6e36-4754-8f1a-896b66167c27",
   "metadata": {},
   "source": [
    "# BEGIN SOLUTION"
   ]
  },
  {
   "cell_type": "code",
   "execution_count": 58,
   "id": "8337a0c9-2ca1-4d54-a1fe-a4aad4fdcbd4",
   "metadata": {
    "tags": []
   },
   "outputs": [
    {
     "name": "stdout",
     "output_type": "stream",
     "text": [
      "{1: ('A', 'a'), 2: ('B', 'b'), 3: ('C', 'c'), 4: ('D', 'd'), 5: ('E', 'e'), 6: ('F', 'f'), 7: ('G', 'g'), 8: ('H', 'h'), 9: ('I', 'i'), 10: ('J', 'j'), 11: ('K', 'k'), 12: ('L', 'l'), 13: ('M', 'm'), 14: ('N', 'n'), 15: ('O', 'o'), 16: ('P', 'p'), 17: ('Q', 'q'), 18: ('R', 'r'), 19: ('S', 's'), 20: ('T', 't'), 21: ('U', 'u'), 22: ('V', 'v'), 23: ('W', 'w'), 24: ('X', 'x'), 25: ('Y', 'y'), 26: ('Z', 'z')}\n"
     ]
    }
   ],
   "source": [
    "# BEGIN SOLUTION\n",
    "import string\n",
    "alphabet = {}\n",
    "numbers = [num for num in range(1, 27)]\n",
    "letters = list(zip(string.ascii_uppercase, string.ascii_lowercase))\n",
    "\n",
    "for numbers, letters in zip(numbers, letters):\n",
    "    alphabet.update({numbers:letters})\n",
    "# END SOLUTION\n",
    "print(alphabet)"
   ]
  },
  {
   "cell_type": "raw",
   "id": "bed531cf-684c-46ef-9a14-fe90378a3ccc",
   "metadata": {},
   "source": [
    "# END SOLUTION"
   ]
  },
  {
   "cell_type": "raw",
   "id": "f80f670d-1d82-43bb-8cda-25d1faee3f83",
   "metadata": {},
   "source": [
    "# BEGIN TESTS"
   ]
  },
  {
   "cell_type": "code",
   "execution_count": 59,
   "id": "15d935d4-c574-4666-a1f8-d2edf467f765",
   "metadata": {
    "tags": []
   },
   "outputs": [
    {
     "data": {
      "text/plain": [
       "True"
      ]
     },
     "execution_count": 59,
     "metadata": {},
     "output_type": "execute_result"
    }
   ],
   "source": [
    "all(isinstance(x, tuple) for x in list(alphabet.values()))"
   ]
  },
  {
   "cell_type": "code",
   "execution_count": 60,
   "id": "ee5c6759-a61c-429e-adc6-d7c29549815f",
   "metadata": {
    "tags": []
   },
   "outputs": [
    {
     "data": {
      "text/plain": [
       "True"
      ]
     },
     "execution_count": 60,
     "metadata": {},
     "output_type": "execute_result"
    }
   ],
   "source": [
    "all(isinstance(x, int) for x in list(alphabet.keys()))"
   ]
  },
  {
   "cell_type": "code",
   "execution_count": 61,
   "id": "77785192-98b5-4de9-ad56-017a8f15090d",
   "metadata": {
    "tags": []
   },
   "outputs": [
    {
     "data": {
      "text/plain": [
       "True"
      ]
     },
     "execution_count": 61,
     "metadata": {},
     "output_type": "execute_result"
    }
   ],
   "source": [
    "[list(alphabet.values())[0], list(alphabet.values())[17], list(alphabet.values())[25]] == [('A', 'a'), ('R', 'r'), ('Z', 'z')]"
   ]
  },
  {
   "cell_type": "raw",
   "id": "2c7a2981-aa6d-47d4-a749-7b821ef4bf8c",
   "metadata": {},
   "source": [
    "# END TESTS"
   ]
  },
  {
   "cell_type": "raw",
   "id": "2ab45833-7e77-4bc5-ab9e-4a8e0e28a45b",
   "metadata": {},
   "source": [
    "# END QUESTION"
   ]
  }
 ],
 "metadata": {
  "kernelspec": {
   "display_name": "Python 3 (ipykernel)",
   "language": "python",
   "name": "python3"
  },
  "language_info": {
   "codemirror_mode": {
    "name": "ipython",
    "version": 3
   },
   "file_extension": ".py",
   "mimetype": "text/x-python",
   "name": "python",
   "nbconvert_exporter": "python",
   "pygments_lexer": "ipython3",
   "version": "3.10.11"
  }
 },
 "nbformat": 4,
 "nbformat_minor": 5
}
