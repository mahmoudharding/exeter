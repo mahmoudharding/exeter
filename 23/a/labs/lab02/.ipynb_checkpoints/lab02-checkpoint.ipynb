{
 "cells": [
  {
   "cell_type": "raw",
   "id": "c77edfb9-253e-4c2c-83c9-61138a704781",
   "metadata": {},
   "source": [
    "# ASSIGNMENT CONFIG\n",
    "generate: true\n",
    "files:\n",
    "  - data/charles-dickens-oliver-twist.txt\n",
    "  - data/jane-austen-pride-prejudice.txt"
   ]
  },
  {
   "cell_type": "markdown",
   "id": "a604dd28-71dd-43e9-a280-d04105a2c29d",
   "metadata": {},
   "source": [
    "# Run the cell below\n",
    "\n",
    "To run a code cell (i.e.; execute the python code inside a Jupyter notebook) you can click the play button on the ribbon underneath the name of the notebook. Before you begin click the \"Run cell\" button at the top that looks like ▶| or hold down `Shift` + `Return`."
   ]
  },
  {
   "cell_type": "markdown",
   "id": "c8441804-dc32-4abd-b8bf-ad849b69b11e",
   "metadata": {},
   "source": [
    "## Lab 02: Fun with Text\n",
    "\n",
    "Welcome to Advanced Topics in Data Science for High School! Throughout the course you will complete assignments like this one. You can't learn technical subjects without hands-on practice, so these assignments are an important part of the course.\n",
    "\n",
    "**Collaboration Policy:**\n",
    "\n",
    "Collaborating on labs is more than okay -- it's encouraged! You should rarely remain stuck for more than a few minutes on questions in labs, so ask a neighbor or an instructor for help. Explaining things is beneficial, too -- the best way to solidify your knowledge of a subject is to explain it. You should **not** _just_ copy/paste someone else's code, but rather work together to gain understanding of the task you need to complete. \n",
    "\n",
    "**Due Date:** \n",
    "\n",
    "## Today's Assignment \n",
    "\n",
    "In today's assignment, you'll review:\n",
    "\n",
    "- `if/elif/else`\n",
    "\n",
    "- `for` loops\n",
    "\n",
    "- string methods"
   ]
  },
  {
   "cell_type": "markdown",
   "id": "5ba80c03-4134-4b04-9239-208ddcc509f5",
   "metadata": {},
   "source": [
    "The code below will read in the novel *Pride and Prejudice* by Jane Austen from a local text file.  Our file was originally downloaded from [this repository](https://github.com/laumann/ds/tree/master/hashing/books) and the text itself comes from [Project Gutenberg](https://www.gutenberg.org/). The first 1000 characters are printed out below to check that it was read in correctly.\n",
    "\n",
    "Run the cell below."
   ]
  },
  {
   "cell_type": "code",
   "execution_count": 1,
   "id": "122b1153-f419-49fc-9a9c-f7388a9f3557",
   "metadata": {
    "tags": []
   },
   "outputs": [
    {
     "name": "stdout",
     "output_type": "stream",
     "text": [
      "﻿The Project Gutenberg eBook, Pride and Prejudice, by Jane Austen, Edited\n",
      "by R. W. (Robert William) Chapman\n",
      "\n",
      "\n",
      "This eBook is for the use of anyone anywhere at no cost and with\n",
      "almost no restrictions whatsoever.  You may copy it, give it away or\n",
      "re-use it under the terms of the Project Gutenberg License included\n",
      "with this eBook or online at www.gutenberg.org\n",
      "\n",
      "\n",
      "\n",
      "\n",
      "\n",
      "Title: Pride and Prejudice\n",
      "\n",
      "\n",
      "Author: Jane Austen\n",
      "\n",
      "Editor: R. W. (Robert William) Chapman\n",
      "\n",
      "Release Date: May 9, 2013  [eBook #42671]\n",
      "\n",
      "Language: English\n",
      "\n",
      "\n",
      "***START OF THE PROJECT GUTENBERG EBOOK PRIDE AND PREJUDICE***\n",
      "\n",
      "\n",
      "E-text prepared by Greg Weeks, Jon Hurst, Mary Meehan, and the Online\n",
      "Distributed Proofreading Team (http://www.pgdp.net) from page images\n",
      "generously made available by Internet Archive (https://archive.org)\n",
      "\n",
      "\n",
      "\n",
      "Note: Project Gutenberg also has an HTML version of this\n",
      "      file which includes the original illustrations.\n",
      "      See 42671-h.htm or 42671-h.zip:\n",
      "      (http://www.gutenberg.org/files/42671/42671-h/42671-h\n"
     ]
    }
   ],
   "source": [
    "with open('data/jane-austen-pride-prejudice.txt', 'r') as f:\n",
    "    pap_lines = f.read()\n",
    "print(pap_lines[:1000])"
   ]
  },
  {
   "cell_type": "markdown",
   "id": "d047cdb9-c0ae-4f6b-a83f-d2b2468b21d1",
   "metadata": {},
   "source": [
    "To open the file, we used the built-in `open()` function. The `open()` function returns a file object, which has a `read()` method for reading the content of the file. To simplify the code we used a `with` statement. In Python the `with` statement simplifies our read process to just two lines."
   ]
  },
  {
   "cell_type": "markdown",
   "id": "fe6bcdb6-a760-4072-9d54-e874a727ac4e",
   "metadata": {
    "tags": []
   },
   "source": [
    "## 1. Basic Text Processing\n",
    "\n",
    "Now we'll remove the first part and last part of the book that has the information from Project Gutenberg.\n",
    "\n",
    " We'll start with our text at the string \"CHAPTER I\" and end it just prior to where the \"Transcriber's\" note appears at the end."
   ]
  },
  {
   "cell_type": "raw",
   "id": "703e04da-2e1d-45ac-9546-97e534e87970",
   "metadata": {},
   "source": [
    "# BEGIN QUESTION\n",
    "name: q1"
   ]
  },
  {
   "cell_type": "markdown",
   "id": "41269b8c-9e4b-49f4-bbfd-19b1f055d6bc",
   "metadata": {},
   "source": [
    "**Question 1.** Use the `.find` string method to locate the starting position of the words 'CHAPTER I' in the `pap_lines` string."
   ]
  },
  {
   "cell_type": "raw",
   "id": "cadbbf9b-caa5-48d3-81a7-4a3359db2d14",
   "metadata": {},
   "source": [
    "# BEGIN SOLUTION"
   ]
  },
  {
   "cell_type": "code",
   "execution_count": 2,
   "id": "d4f19d90-9522-4cb6-854d-567be23db8b7",
   "metadata": {
    "tags": []
   },
   "outputs": [
    {
     "data": {
      "text/plain": [
       "1844"
      ]
     },
     "execution_count": 2,
     "metadata": {},
     "output_type": "execute_result"
    }
   ],
   "source": [
    "start_here = pap_lines.find('CHAPTER I') # SOLUTION\n",
    "start_here"
   ]
  },
  {
   "cell_type": "raw",
   "id": "669daabc-d08f-40b3-924a-3ab5a038911b",
   "metadata": {},
   "source": [
    "# END SOLUTION"
   ]
  },
  {
   "cell_type": "raw",
   "id": "e75b9380-6bb8-47cc-a143-468083d56eb9",
   "metadata": {},
   "source": [
    "# BEGIN TESTS"
   ]
  },
  {
   "cell_type": "code",
   "execution_count": 3,
   "id": "3479809a-3e2b-4f64-8747-0a1959061c6c",
   "metadata": {
    "tags": []
   },
   "outputs": [
    {
     "data": {
      "text/plain": [
       "True"
      ]
     },
     "execution_count": 3,
     "metadata": {},
     "output_type": "execute_result"
    }
   ],
   "source": [
    "start_here == 1844"
   ]
  },
  {
   "cell_type": "raw",
   "id": "401d2a7c-4146-4981-92eb-c045a601c1aa",
   "metadata": {},
   "source": [
    "# END TESTS"
   ]
  },
  {
   "cell_type": "raw",
   "id": "2bfbe2cf-b7ee-4c01-993a-87a1dd7feb64",
   "metadata": {},
   "source": [
    "# END QUESTION"
   ]
  },
  {
   "cell_type": "raw",
   "id": "fc6ae81a-61a0-4b60-b947-2b93cca21cee",
   "metadata": {},
   "source": [
    "# BEGIN QUESTION\n",
    "name: q2\n",
    "manual: true"
   ]
  },
  {
   "cell_type": "markdown",
   "id": "1fc0dee9-b4a6-4bb1-bf83-dfa5d4f79fc7",
   "metadata": {},
   "source": [
    "**Question 2.** Print the first sentence of Chapter I not including the title of the chapter or any extra white space."
   ]
  },
  {
   "cell_type": "raw",
   "id": "e37008a9-791b-4f15-b5e6-b767e81fcb33",
   "metadata": {},
   "source": [
    "# BEGIN SOLUTION"
   ]
  },
  {
   "cell_type": "code",
   "execution_count": 4,
   "id": "ccb8e4de-33b8-49be-b158-4ef667980475",
   "metadata": {
    "tags": []
   },
   "outputs": [
    {
     "name": "stdout",
     "output_type": "stream",
     "text": [
      "First sentence of Chapter I: \n",
      "\n",
      "It is a truth universally acknowledged, that a single man in possession\n",
      "of a good fortune, must be in want of a wife.\n"
     ]
    }
   ],
   "source": [
    "print(\"First sentence of Chapter I: \\n\")\n",
    "# BEGIN SOLUTION NO PROMPT\n",
    "start_here_wo_title = start_here+len('CHAPTER I.')\n",
    "end_here_chap_1 = pap_lines[start_here_wo_title:].find('.')\n",
    "print(pap_lines[start_here_wo_title:start_here_wo_title+end_here_chap_1+1].strip())\n",
    "# END SOLUTION\n",
    "\"\"\" # BEGIN PROMPT\n",
    "...\n",
    "print(...)\n",
    "\"\"\"; # END PROMPT"
   ]
  },
  {
   "cell_type": "raw",
   "id": "eb9c92f3-129f-4d9a-970b-aa5b5739e083",
   "metadata": {},
   "source": [
    "# END SOLUTION"
   ]
  },
  {
   "cell_type": "raw",
   "id": "19fe7f8a-c5cc-4fb4-8a3c-735add7e425a",
   "metadata": {},
   "source": [
    "# END QUESTION"
   ]
  },
  {
   "cell_type": "markdown",
   "id": "db77691c-8010-4744-b28d-adb08dcb3eb4",
   "metadata": {},
   "source": [
    "Now we want to remove all the Transcriber's notes."
   ]
  },
  {
   "cell_type": "raw",
   "id": "ff19f801-d193-413c-9cc1-ade7a5efe96d",
   "metadata": {},
   "source": [
    "# BEGIN QUESTION\n",
    "name: q3"
   ]
  },
  {
   "cell_type": "markdown",
   "id": "4f9bcbd4-9f0c-4757-88a8-9adbb21caee9",
   "metadata": {},
   "source": [
    "**Question 3.** Locate the starting position of the second chapter."
   ]
  },
  {
   "cell_type": "raw",
   "id": "e193b35f-5169-4f23-9e76-da67bc4e9b10",
   "metadata": {},
   "source": [
    "# BEGIN SOLUTION"
   ]
  },
  {
   "cell_type": "code",
   "execution_count": 5,
   "id": "0755618e-d78e-4513-b5ba-862a890dd2d3",
   "metadata": {
    "tags": []
   },
   "outputs": [
    {
     "data": {
      "text/plain": [
       "6345"
      ]
     },
     "execution_count": 5,
     "metadata": {},
     "output_type": "execute_result"
    }
   ],
   "source": [
    "end_here = pap_lines.find('CHAPTER II') # SOLUTION\n",
    "end_here"
   ]
  },
  {
   "cell_type": "raw",
   "id": "971bebca-3065-4dc3-ac89-7a9ae196713d",
   "metadata": {},
   "source": [
    "# END SOLUTION"
   ]
  },
  {
   "cell_type": "raw",
   "id": "e1535c02-53b2-4123-a3b6-9a72f657b0b1",
   "metadata": {},
   "source": [
    "# BEGIN TESTS"
   ]
  },
  {
   "cell_type": "code",
   "execution_count": 6,
   "id": "fdfba67c-0f15-4f59-ae3b-d5a92c87aa35",
   "metadata": {
    "tags": []
   },
   "outputs": [
    {
     "data": {
      "text/plain": [
       "6345"
      ]
     },
     "execution_count": 6,
     "metadata": {},
     "output_type": "execute_result"
    }
   ],
   "source": [
    "end_here"
   ]
  },
  {
   "cell_type": "raw",
   "id": "e3cb9b87-5461-4555-bca5-73a6663dc62e",
   "metadata": {},
   "source": [
    "# END TESTS"
   ]
  },
  {
   "cell_type": "raw",
   "id": "36d81c29-43fe-4be4-8be5-646219fa70c0",
   "metadata": {},
   "source": [
    "# END QUESTION"
   ]
  },
  {
   "cell_type": "raw",
   "id": "ea55b819-939d-4af1-a88e-96f0765af567",
   "metadata": {},
   "source": [
    "# BEGIN QUESTION\n",
    "name: q4"
   ]
  },
  {
   "cell_type": "markdown",
   "id": "26df7a84-8690-443a-ad21-e398d3f2baec",
   "metadata": {},
   "source": [
    "**Question 4.** Save only the text for Chapter I (not including the title CHAPTER I, or the `\\n` characters at the beginning or the end) in the variable named `chapter_1`.\n",
    "\n",
    "**Note:** The `\\n` is an escape character for strings that should be replaced with a blank space. "
   ]
  },
  {
   "cell_type": "raw",
   "id": "81cb8493-b3ef-416b-9a5e-b434fc6d8d82",
   "metadata": {},
   "source": [
    "# BEGIN SOLUTION"
   ]
  },
  {
   "cell_type": "code",
   "execution_count": 7,
   "id": "ec1e18d9-aca8-4e00-8f39-5c292efd29b8",
   "metadata": {
    "tags": []
   },
   "outputs": [
    {
     "data": {
      "text/plain": [
       "'It is a truth universally acknowledged, that a single man in possession of a good fortune, must be in want of a wife.  However little known the feelings or views of such a man may be on his first entering a neighbourhood, this truth is so well fixed in the minds of the surrounding families, that he is considered as the rightful property of some one or other of their daughters.  \"My dear Mr. Bennet,\" said his lady to him one day, \"have you heard that Netherfield Park is let at last?\"  Mr. Bennet replied that he had not.  \"But it is,\" returned she; \"for Mrs. Long has just been here, and she told me all about it.\"  Mr. Bennet made no answer.  \"Do not you want to know who has taken it?\" cried his wife impatiently.  \"_You_ want to tell me, and I have no objection to hearing it.\"  This was invitation enough.  \"Why, my dear, you must know, Mrs. Long says that Netherfield is taken by a young man of large fortune from the north of England; that he came down on Monday in a chaise and four to see the place, and was so much delighted with it that he agreed with Mr. Morris immediately; that he is to take possession before Michaelmas, and some of his servants are to be in the house by the end of next week.\"  \"What is his name?\"  \"Bingley.\"  \"Is he married or single?\"  \"Oh! single, my dear, to be sure! A single man of large fortune; four or five thousand a year. What a fine thing for our girls!\"  \"How so? how can it affect them?\"  \"My dear Mr. Bennet,\" replied his wife, \"how can you be so tiresome! You must know that I am thinking of his marrying one of them.\"  \"Is that his design in settling here?\"  \"Design! nonsense, how can you talk so! But it is very likely that he _may_ fall in love with one of them, and therefore you must visit him as soon as he comes.\"  \"I see no occasion for that. You and the girls may go, or you may send them by themselves, which perhaps will be still better, for as you are as handsome as any of them, Mr. Bingley might like you the best of the party.\"  \"My dear, you flatter me. I certainly _have_ had my share of beauty, but I do not pretend to be any thing extraordinary now. When a woman has five grown up daughters, she ought to give over thinking of her own beauty.\"  \"In such cases, a woman has not often much beauty to think of.\"  \"But, my dear, you must indeed go and see Mr. Bingley when he comes into the neighbourhood.\"  \"It is more than I engage for, I assure you.\"  \"But consider your daughters. Only think what an establishment it would be for one of them. Sir William and Lady Lucas are determined to go, merely on that account, for in general you know they visit no new comers. Indeed you must go, for it will be impossible for _us_ to visit him, if you do not.\"  \"You are over scrupulous surely. I dare say Mr. Bingley will be very glad to see you; and I will send a few lines by you to assure him of my hearty consent to his marrying which ever he chuses of the girls; though I must throw in a good word for my little Lizzy.\"  \"I desire you will do no such thing. Lizzy is not a bit better than the others; and I am sure she is not half so handsome as Jane, nor half so good humoured as Lydia. But you are always giving _her_ the preference.\"  \"They have none of them much to recommend them,\" replied he; \"they are all silly and ignorant like other girls; but Lizzy has something more of quickness than her sisters.\"  \"Mr. Bennet, how can you abuse your own children in such a way? You take delight in vexing me. You have no compassion on my poor nerves.\"  \"You mistake me, my dear. I have a high respect for your nerves. They are my old friends. I have heard you mention them with consideration these twenty years at least.\"  \"Ah! you do not know what I suffer.\"  \"But I hope you will get over it, and live to see many young men of four thousand a year come into the neighbourhood.\"  \"It will be no use to us, if twenty such should come since you will not visit them.\"  \"Depend upon it, my dear, that when there are twenty, I will visit them all.\"  Mr. Bennet was so odd a mixture of quick parts, sarcastic humour, reserve, and caprice, that the experience of three and twenty years had been insufficient to make his wife understand his character. _Her_ mind was less difficult to develope. She was a woman of mean understanding, little information, and uncertain temper. When she was discontented she fancied herself nervous. The business of her life was to get her daughters married; its solace was visiting and news.'"
      ]
     },
     "execution_count": 7,
     "metadata": {},
     "output_type": "execute_result"
    }
   ],
   "source": [
    "chapter_1 = pap_lines[start_here+10:end_here].strip().replace('\\n', ' ') # SOLUTION\n",
    "chapter_1"
   ]
  },
  {
   "cell_type": "raw",
   "id": "7bea9c52-9e21-45b4-b493-012338009ce0",
   "metadata": {},
   "source": [
    "# END SOLUTION"
   ]
  },
  {
   "cell_type": "raw",
   "id": "d6a2066e-7832-4f09-97a0-c1f72c16c467",
   "metadata": {},
   "source": [
    "# BEGIN TESTS"
   ]
  },
  {
   "cell_type": "code",
   "execution_count": 8,
   "id": "e0f39bb8-788d-45c9-98d2-eee7c8b4e85c",
   "metadata": {
    "tags": []
   },
   "outputs": [
    {
     "data": {
      "text/plain": [
       "4483"
      ]
     },
     "execution_count": 8,
     "metadata": {},
     "output_type": "execute_result"
    }
   ],
   "source": [
    "len(chapter_1)"
   ]
  },
  {
   "cell_type": "code",
   "execution_count": 9,
   "id": "8a53c33e-6d09-49b1-ae74-4bb2031efb4d",
   "metadata": {
    "tags": []
   },
   "outputs": [
    {
     "data": {
      "text/plain": [
       "'.'"
      ]
     },
     "execution_count": 9,
     "metadata": {},
     "output_type": "execute_result"
    }
   ],
   "source": [
    "chapter_1[-1:]"
   ]
  },
  {
   "cell_type": "code",
   "execution_count": 10,
   "id": "afa4c4a8-be41-4685-acb0-654e2c86f87d",
   "metadata": {
    "tags": []
   },
   "outputs": [
    {
     "data": {
      "text/plain": [
       "'I'"
      ]
     },
     "execution_count": 10,
     "metadata": {},
     "output_type": "execute_result"
    }
   ],
   "source": [
    "chapter_1[0:1]"
   ]
  },
  {
   "cell_type": "code",
   "execution_count": 11,
   "id": "6e22b1f8-7031-44ed-903d-b9e2c1177b6e",
   "metadata": {
    "tags": []
   },
   "outputs": [
    {
     "data": {
      "text/plain": [
       "-1"
      ]
     },
     "execution_count": 11,
     "metadata": {},
     "output_type": "execute_result"
    }
   ],
   "source": [
    "chapter_1.find(\"\\n\")"
   ]
  },
  {
   "cell_type": "code",
   "execution_count": 12,
   "id": "c8631abb-024b-46ae-8cff-f1136ee62eae",
   "metadata": {
    "tags": []
   },
   "outputs": [
    {
     "data": {
      "text/plain": [
       "0"
      ]
     },
     "execution_count": 12,
     "metadata": {},
     "output_type": "execute_result"
    }
   ],
   "source": [
    "len([i for i in range(len(chapter_1)) if chapter_1.startswith(\"\\n\", i)])"
   ]
  },
  {
   "cell_type": "raw",
   "id": "8335dab0-7242-412d-b49f-f1ebd65059cf",
   "metadata": {},
   "source": [
    "# END TESTS"
   ]
  },
  {
   "cell_type": "raw",
   "id": "b2030659-3234-4ffe-b026-636706114ccf",
   "metadata": {},
   "source": [
    "# END QUESTION"
   ]
  },
  {
   "cell_type": "markdown",
   "id": "c7ba3ff9-3234-4684-b1ad-58fbfe3a877a",
   "metadata": {},
   "source": [
    "## 2. Advacned Text Processing\n",
    "\n",
    "### Counting the Number of Vowels, Consonants, and Other Characters\n",
    "\n",
    "Next, we turn to using a loop and `if/then/else` logic to count the number of characters we have of different types.  We'll ignore any `'_'` characters as they just represent italic text and aren't really characters of the text."
   ]
  },
  {
   "cell_type": "raw",
   "id": "cdecf2f3-0703-4459-86b6-859f19dfd6ed",
   "metadata": {},
   "source": [
    "# BEGIN QUESTION\n",
    "name: q5"
   ]
  },
  {
   "cell_type": "markdown",
   "id": "4aa13f2a-0a58-44ab-b034-4e60f9aaba8a",
   "metadata": {},
   "source": [
    "**Question 5.** Change all the letters in the `chapter_1` string to lowercase."
   ]
  },
  {
   "cell_type": "raw",
   "id": "c9a766c4-bdb5-40a5-bc68-652163f1ce18",
   "metadata": {},
   "source": [
    "# BEGIN SOLUTION"
   ]
  },
  {
   "cell_type": "code",
   "execution_count": 13,
   "id": "480f0ed3-f46a-49f4-85bd-b5d5690e1152",
   "metadata": {
    "tags": []
   },
   "outputs": [
    {
     "data": {
      "text/plain": [
       "'it is a truth universally'"
      ]
     },
     "execution_count": 13,
     "metadata": {},
     "output_type": "execute_result"
    }
   ],
   "source": [
    "chapter_1_lowercase = chapter_1.lower() # SOLUTION\n",
    "chapter_1_lowercase[0:25]"
   ]
  },
  {
   "cell_type": "raw",
   "id": "354f8f7c-5d15-4d13-a3ce-d31fa0cfff57",
   "metadata": {},
   "source": [
    "# END SOLUTION"
   ]
  },
  {
   "cell_type": "raw",
   "id": "72679c35-4e40-4c96-a4c6-f3a6a1de86a2",
   "metadata": {},
   "source": [
    "# BEGIN TESTS"
   ]
  },
  {
   "cell_type": "code",
   "execution_count": 14,
   "id": "f8bcb476-f7ac-4392-9f04-1d73a477e655",
   "metadata": {
    "tags": []
   },
   "outputs": [
    {
     "data": {
      "text/plain": [
       "True"
      ]
     },
     "execution_count": 14,
     "metadata": {},
     "output_type": "execute_result"
    }
   ],
   "source": [
    "chapter_1_lowercase.islower()"
   ]
  },
  {
   "cell_type": "raw",
   "id": "cd4f9527-c2e7-48ad-9def-1d7a3e44ded7",
   "metadata": {},
   "source": [
    "# END TESTS"
   ]
  },
  {
   "cell_type": "raw",
   "id": "43dcb08f-ffd4-4620-bd8b-0bc626eab90d",
   "metadata": {},
   "source": [
    "# END QUESTION"
   ]
  },
  {
   "cell_type": "raw",
   "id": "3ca715f3-9d64-47cd-98dd-8891966a9aa9",
   "metadata": {},
   "source": [
    "# BEGIN QUESTION\n",
    "name: q6"
   ]
  },
  {
   "cell_type": "markdown",
   "id": "13e7c59b-9334-4b7b-8ddf-7105a1156398",
   "metadata": {},
   "source": [
    "**Question 6.** Now loop through and count the number of vowels, consonants and other characters.\n",
    "\n",
    "**Note:** To earn all the points for this question you **must** use a loop."
   ]
  },
  {
   "cell_type": "raw",
   "id": "5b8a397e-7f08-4301-a694-5d081b966b61",
   "metadata": {},
   "source": [
    "# BEGIN SOLUTION"
   ]
  },
  {
   "cell_type": "code",
   "execution_count": 15,
   "id": "cae39ff3-8794-4f69-8d17-2b2d9b6f3641",
   "metadata": {
    "tags": []
   },
   "outputs": [
    {
     "name": "stdout",
     "output_type": "stream",
     "text": [
      "The number of vowels is: 1301\n",
      "The number of consonants is: 2086\n",
      "The number of other characters is: 1096\n"
     ]
    }
   ],
   "source": [
    "# BEGIN SOLUTION NO PROMPT\n",
    "vow = 0\n",
    "con = 0\n",
    "other = 0\n",
    "\n",
    "for char in chapter_1_lowercase:\n",
    "    if char in ['a', 'e', 'i', 'o', 'u']:\n",
    "        vow += 1\n",
    "    elif char in ['b', 'c', 'd', 'f', 'g', 'h', 'j', 'k', 'l', 'm', 'n', 'p', 'q', 'r', 's', 't', 'v', 'w', 'x', 'y', 'z']:\n",
    "        con += 1\n",
    "    else:\n",
    "        other += 1\n",
    "# END SOLUTION\n",
    "\"\"\" # BEGIN PROMPT\n",
    "vowels = ..\n",
    "consonants = ...\n",
    "spaces = ...\n",
    "other = ...\n",
    "    ...\n",
    "\"\"\"; # END PROMPT\n",
    "print(\"The number of vowels is:\", vow)\n",
    "print(\"The number of consonants is:\", con)\n",
    "print(\"The number of other characters is:\", other)"
   ]
  },
  {
   "cell_type": "raw",
   "id": "36ed24cd-ac6f-47fe-aca2-b25e7ea8b801",
   "metadata": {},
   "source": [
    "# END SOLUTION"
   ]
  },
  {
   "cell_type": "raw",
   "id": "91453e9e-80a4-4ca8-997a-b8a52314e938",
   "metadata": {},
   "source": [
    "# BEGIN TESTS"
   ]
  },
  {
   "cell_type": "code",
   "execution_count": 16,
   "id": "21381cf7-e19a-43ad-82d7-704b4e3f857f",
   "metadata": {
    "tags": []
   },
   "outputs": [
    {
     "data": {
      "text/plain": [
       "1301"
      ]
     },
     "execution_count": 16,
     "metadata": {},
     "output_type": "execute_result"
    }
   ],
   "source": [
    "vow"
   ]
  },
  {
   "cell_type": "code",
   "execution_count": 17,
   "id": "eec64aec-8d89-4bc8-ad64-d742b8707e03",
   "metadata": {
    "tags": []
   },
   "outputs": [
    {
     "data": {
      "text/plain": [
       "2086"
      ]
     },
     "execution_count": 17,
     "metadata": {},
     "output_type": "execute_result"
    }
   ],
   "source": [
    "con"
   ]
  },
  {
   "cell_type": "code",
   "execution_count": 18,
   "id": "31930f59-c039-406a-99de-8e18b0181fa9",
   "metadata": {
    "tags": []
   },
   "outputs": [
    {
     "data": {
      "text/plain": [
       "1096"
      ]
     },
     "execution_count": 18,
     "metadata": {},
     "output_type": "execute_result"
    }
   ],
   "source": [
    "other"
   ]
  },
  {
   "cell_type": "code",
   "execution_count": 19,
   "id": "cb3d8246-7d35-4619-8e97-12f139ff4fce",
   "metadata": {
    "tags": []
   },
   "outputs": [
    {
     "data": {
      "text/plain": [
       "0"
      ]
     },
     "execution_count": 19,
     "metadata": {},
     "output_type": "execute_result"
    }
   ],
   "source": [
    "len(chapter_1_lowercase) - (vow + con + other)"
   ]
  },
  {
   "cell_type": "raw",
   "id": "845e042c-809b-4cbb-bde3-0b60001dbc60",
   "metadata": {},
   "source": [
    "# END TESTS"
   ]
  },
  {
   "cell_type": "raw",
   "id": "41b2119f-fe78-4733-9a2a-2443510b632c",
   "metadata": {},
   "source": [
    "# END QUESTION"
   ]
  },
  {
   "cell_type": "raw",
   "id": "301b2d9b-7525-46b7-b476-3ab9447ed4e4",
   "metadata": {},
   "source": [
    "# BEGIN QUESTION\n",
    "name: q7"
   ]
  },
  {
   "cell_type": "markdown",
   "id": "4b3f26a6-e344-4806-8d5e-e546d27731f6",
   "metadata": {},
   "source": [
    "**Question 7.** Compute the proportion of vowels, consonants, and other characters to all the non-space characters. \n",
    "\n",
    "**Note:** Do not round the proportions. "
   ]
  },
  {
   "cell_type": "raw",
   "id": "1ee8e9ad-ccea-4c78-ada1-ae5b6b7df792",
   "metadata": {},
   "source": [
    "# BEGIN SOLUTION"
   ]
  },
  {
   "cell_type": "code",
   "execution_count": 20,
   "id": "7d8dd84f-0078-4d30-928b-4cf2779fbff1",
   "metadata": {
    "tags": []
   },
   "outputs": [
    {
     "name": "stdout",
     "output_type": "stream",
     "text": [
      "The proportion of vowels is: 0.3617908787541713\n",
      "The proportion of consonants is: 0.5800889877641824\n",
      "The proportion of other characters is: 0.3047830923248053\n"
     ]
    }
   ],
   "source": [
    "# BEGIN SOLUTION NO PROMPT\n",
    "spaces = 0\n",
    "\n",
    "for char in chapter_1_lowercase:\n",
    "    if char == ' ':\n",
    "        spaces += 1\n",
    "\n",
    "prop_vow = vow/(len(chapter_1_lowercase)-spaces)\n",
    "prop_con = con/(len(chapter_1_lowercase)-spaces)\n",
    "prop_other = other/(len(chapter_1_lowercase)-spaces)\n",
    "\n",
    "# END SOLUTION\n",
    "\"\"\" # BEGIN PROMPT\n",
    "prop_vowels = ...\n",
    "prop_consonants = ...\n",
    "prop_other = ...\n",
    "\"\"\"; # END PROMPT\n",
    "print('The proportion of vowels is:', prop_vow)\n",
    "print('The proportion of consonants is:', prop_con)\n",
    "print('The proportion of other characters is:', prop_other)"
   ]
  },
  {
   "cell_type": "raw",
   "id": "bcf5a3cc-546a-4b8a-b3e5-f7c8abb7d5bb",
   "metadata": {},
   "source": [
    "# END SOLUTION"
   ]
  },
  {
   "cell_type": "raw",
   "id": "afc05ef8-3156-4932-8934-b5feefb16766",
   "metadata": {},
   "source": [
    "# BEGIN TESTS"
   ]
  },
  {
   "cell_type": "code",
   "execution_count": 21,
   "id": "4d4c58b2-a83b-44af-b2d6-2d6ce2b184a8",
   "metadata": {
    "tags": []
   },
   "outputs": [
    {
     "data": {
      "text/plain": [
       "0.3617908787541713"
      ]
     },
     "execution_count": 21,
     "metadata": {},
     "output_type": "execute_result"
    }
   ],
   "source": [
    "prop_vow"
   ]
  },
  {
   "cell_type": "code",
   "execution_count": 22,
   "id": "0f6e0b60-a1c2-4e24-bde5-be80115dee32",
   "metadata": {
    "tags": []
   },
   "outputs": [
    {
     "data": {
      "text/plain": [
       "0.5800889877641824"
      ]
     },
     "execution_count": 22,
     "metadata": {},
     "output_type": "execute_result"
    }
   ],
   "source": [
    "prop_con"
   ]
  },
  {
   "cell_type": "code",
   "execution_count": 23,
   "id": "8aaeaf2b-018d-4b4a-ac40-584bae184623",
   "metadata": {
    "tags": []
   },
   "outputs": [
    {
     "data": {
      "text/plain": [
       "0.3047830923248053"
      ]
     },
     "execution_count": 23,
     "metadata": {},
     "output_type": "execute_result"
    }
   ],
   "source": [
    "prop_other"
   ]
  },
  {
   "cell_type": "raw",
   "id": "c5685db7-d570-4486-9b2e-4cd63a959fba",
   "metadata": {},
   "source": [
    "# END TESTS"
   ]
  },
  {
   "cell_type": "raw",
   "id": "24716444-7801-42e9-a126-2e3174f38615",
   "metadata": {},
   "source": [
    "# END QUESTION"
   ]
  },
  {
   "cell_type": "markdown",
   "id": "ef1f2fe2-60eb-4309-98e2-7854883431cd",
   "metadata": {},
   "source": [
    "## 3. Dictionary Practice\n",
    "\n",
    "In this part, we'll count the number of words in a book using a for loop and a dictionary.  Use the code below to read in the book as a string."
   ]
  },
  {
   "cell_type": "code",
   "execution_count": 24,
   "id": "072c5fb5-c2d7-48da-af2f-3d58e9aa086d",
   "metadata": {
    "tags": []
   },
   "outputs": [
    {
     "name": "stdout",
     "output_type": "stream",
     "text": [
      "CHAPTER I\n",
      "\n",
      "TREATS OF THE PLACE WHERE OLIVER TWIST WAS BORN AND OF THE\n",
      "CIRCUMSTANCES ATTENDING HIS BIRTH\n",
      "\n",
      "Among other public buildings in a certain town, which for many reasons\n",
      "it will be prudent to refrain from mentioning, and to which I will\n",
      "assign no fictitious name, there is one anciently common to most towns,\n",
      "great or small: to wit, a workhouse; and in this workhouse was born; on\n",
      "a day and date which I need not trouble myself to repeat, inasm\n"
     ]
    }
   ],
   "source": [
    "with open('data/charles-dickens-oliver-twist.txt', 'r', encoding='utf-8-sig') as f:\n",
    "    cd_lines = f.read()\n",
    "print(cd_lines[:450])"
   ]
  },
  {
   "cell_type": "markdown",
   "id": "430c23ba-d35f-4aee-86e8-b0756e8504a7",
   "metadata": {},
   "source": [
    "### Frequency of Words\n",
    "\n",
    "Our goal in this part of the lab is to iterate through the words in the book and count the number of times each word occurs. We can use a dictionary to store this type of data. \n",
    "\n",
    "For instance, you'll end up with a key of \"the\" with a corresponding value being the number of times \"the\" occurred."
   ]
  },
  {
   "cell_type": "raw",
   "id": "88f105b0-6a02-4070-82f9-8973a6f33f89",
   "metadata": {},
   "source": [
    "# BEGIN QUESTION\n",
    "name: q8"
   ]
  },
  {
   "cell_type": "markdown",
   "id": "6c16e389-1c81-4d7d-b735-4235c0504d69",
   "metadata": {},
   "source": [
    "**Question 8.** Replace all the `\\n` values with spaces and convert each word to lowercase."
   ]
  },
  {
   "cell_type": "raw",
   "id": "5960eed9-959c-4715-8809-4b2553a8c753",
   "metadata": {},
   "source": [
    "# BEGIN SOLUTION"
   ]
  },
  {
   "cell_type": "code",
   "execution_count": 25,
   "id": "f3b825cd-73a4-4f26-b1ff-2781be3d1ec3",
   "metadata": {
    "tags": []
   },
   "outputs": [
    {
     "data": {
      "text/plain": [
       "'chapter i '"
      ]
     },
     "execution_count": 25,
     "metadata": {},
     "output_type": "execute_result"
    }
   ],
   "source": [
    "cd_lines_spaces = cd_lines.replace('\\n', ' ').lower() # SOLUTION\n",
    "cd_lines_spaces[:10]"
   ]
  },
  {
   "cell_type": "raw",
   "id": "79f7ef92-8d74-42d1-a57d-231b78bef6a0",
   "metadata": {},
   "source": [
    "# END SOLUTION"
   ]
  },
  {
   "cell_type": "raw",
   "id": "f75c5433-0988-4545-ab10-6db93fc09caa",
   "metadata": {},
   "source": [
    "# BEGIN TESTS"
   ]
  },
  {
   "cell_type": "code",
   "execution_count": 26,
   "id": "a6538f30-7ee7-4ac5-ac75-fb5911992d9c",
   "metadata": {
    "tags": []
   },
   "outputs": [
    {
     "data": {
      "text/plain": [
       "True"
      ]
     },
     "execution_count": 26,
     "metadata": {},
     "output_type": "execute_result"
    }
   ],
   "source": [
    "'\\n' not in cd_lines_spaces"
   ]
  },
  {
   "cell_type": "code",
   "execution_count": 27,
   "id": "8b2930ab-64dc-416a-9a35-9202ee8f2fa6",
   "metadata": {
    "tags": []
   },
   "outputs": [
    {
     "data": {
      "text/plain": [
       "164983"
      ]
     },
     "execution_count": 27,
     "metadata": {},
     "output_type": "execute_result"
    }
   ],
   "source": [
    "len([i for i in range(len(cd_lines_spaces)) if cd_lines_spaces.startswith(\" \", i)])"
   ]
  },
  {
   "cell_type": "code",
   "execution_count": 28,
   "id": "3ae935ef-abec-4c2a-a6ed-619839e01532",
   "metadata": {
    "tags": []
   },
   "outputs": [
    {
     "data": {
      "text/plain": [
       "892126"
      ]
     },
     "execution_count": 28,
     "metadata": {},
     "output_type": "execute_result"
    }
   ],
   "source": [
    "len(cd_lines_spaces)"
   ]
  },
  {
   "cell_type": "raw",
   "id": "f7d535d0-9000-406d-a107-d07218628ba6",
   "metadata": {},
   "source": [
    "# END TESTS"
   ]
  },
  {
   "cell_type": "raw",
   "id": "a16101ee-ff66-4ea7-b50a-2a435672713f",
   "metadata": {},
   "source": [
    "# END QUESTION"
   ]
  },
  {
   "cell_type": "markdown",
   "id": "641b1153-e398-4050-abab-64840d863e7c",
   "metadata": {},
   "source": [
    "We'll need to remove any punctuation (for instance, \"end.\" would need the '.' removed). The object `string.punctuation` from the `string` module  has a list of punctuation marks.\n",
    "\n",
    "Run the cell below to see."
   ]
  },
  {
   "cell_type": "code",
   "execution_count": 29,
   "id": "7b7fefed-03a9-45bc-8fc8-fdced93d0272",
   "metadata": {
    "tags": []
   },
   "outputs": [
    {
     "name": "stdout",
     "output_type": "stream",
     "text": [
      "!\"#$%&'()*+,-./:;<=>?@[\\]^_`{|}~\n"
     ]
    }
   ],
   "source": [
    "import string\n",
    "print(string.punctuation)"
   ]
  },
  {
   "cell_type": "markdown",
   "id": "aec2705a-b3f5-4f69-b2b6-f6f3b651cea3",
   "metadata": {},
   "source": [
    "To accomplish this task you can write a nested for loop that iterates over the values in `string.punctuation`. If the punctuation value exists in the `'word'` then you can use the `.replace()` method to replace it with an empty string `\"\"`. \n",
    "\n",
    "**Note:** This will make words like didn't into didnt, that's fine - ignore that as it will still count appropriately for the most part."
   ]
  },
  {
   "cell_type": "raw",
   "id": "5051cce3-ba38-41a2-89e9-c35c731a0169",
   "metadata": {},
   "source": [
    "# BEGIN QUESTION\n",
    "name: q9"
   ]
  },
  {
   "cell_type": "markdown",
   "id": "f9b977e0-8435-42f5-bde6-1003bcb8e528",
   "metadata": {},
   "source": [
    "**Question 9.** Split the text up via the spaces to get a list of 'words' you can iterate over."
   ]
  },
  {
   "cell_type": "raw",
   "id": "561d5433-0e43-4b90-aabb-096fa852c7ae",
   "metadata": {},
   "source": [
    "# BEGIN SOLUTION"
   ]
  },
  {
   "cell_type": "code",
   "execution_count": 30,
   "id": "b517177d-91fe-4349-b142-081be8e8f282",
   "metadata": {
    "tags": []
   },
   "outputs": [
    {
     "name": "stdout",
     "output_type": "stream",
     "text": [
      "['chapter', 'i', '', 'treats', 'of', 'the', 'place', 'where', 'oliver', 'twist']\n"
     ]
    }
   ],
   "source": [
    "words_in_cd = cd_lines_spaces.split(' ')\n",
    "print(words_in_cd[:10])"
   ]
  },
  {
   "cell_type": "raw",
   "id": "de7be5f4-173b-4cd6-bf47-d16dc5512c8d",
   "metadata": {},
   "source": [
    "# END SOLUTION"
   ]
  },
  {
   "cell_type": "raw",
   "id": "865a6592-f41d-4561-abb4-0e830fd20e79",
   "metadata": {},
   "source": [
    "# BEGIN TESTS"
   ]
  },
  {
   "cell_type": "code",
   "execution_count": 31,
   "id": "0ce66891-b3ee-4d67-8ab5-9eb34b51d700",
   "metadata": {
    "tags": []
   },
   "outputs": [
    {
     "data": {
      "text/plain": [
       "164984"
      ]
     },
     "execution_count": 31,
     "metadata": {},
     "output_type": "execute_result"
    }
   ],
   "source": [
    "len(words_in_cd)"
   ]
  },
  {
   "cell_type": "raw",
   "id": "c294f955-67d6-4d64-a7ae-5ead77c3c70f",
   "metadata": {},
   "source": [
    "# END TESTS"
   ]
  },
  {
   "cell_type": "raw",
   "id": "a7bc7737-a88d-4367-8676-fac659fe5f3f",
   "metadata": {},
   "source": [
    "# END QUESTION"
   ]
  },
  {
   "cell_type": "markdown",
   "id": "2819515c-2dec-46fb-bdd8-a7102ba152b8",
   "metadata": {},
   "source": [
    "Now let's remove the punctuation."
   ]
  },
  {
   "cell_type": "raw",
   "id": "5548999d-4568-45d7-8455-98d892a53c55",
   "metadata": {},
   "source": [
    "# BEGIN QUESTION\n",
    "name: q10"
   ]
  },
  {
   "cell_type": "markdown",
   "id": "4f164d1c-5677-4a41-828b-193cb9ca32fe",
   "metadata": {},
   "source": [
    "**Question 10.** Remove all the punctuation from the words `words_in_cd` list. Store the words without punctuation in a new list named `words_wo_punctuation`.\n",
    "\n",
    "**Note:** Do not include empty characters `''` in the `words_wo_punctuation` list."
   ]
  },
  {
   "cell_type": "raw",
   "id": "38adf11a-65c8-420c-a17b-f3bf39b7e85b",
   "metadata": {},
   "source": [
    "# BEGIN SOLUTION"
   ]
  },
  {
   "cell_type": "code",
   "execution_count": 32,
   "id": "8f801bac-4d3d-4830-a295-2272d7bda3ec",
   "metadata": {
    "tags": []
   },
   "outputs": [
    {
     "name": "stdout",
     "output_type": "stream",
     "text": [
      "['chapter', 'i', 'treats', 'of', 'the', 'place', 'where', 'oliver', 'twist', 'was', 'born', 'and', 'of', 'the', 'circumstances', 'attending', 'his', 'birth', 'among', 'other', 'public', 'buildings', 'in', 'a', 'certain', 'town', 'which', 'for', 'many', 'reasons', 'it', 'will', 'be', 'prudent', 'to', 'refrain', 'from', 'mentioning', 'and', 'to', 'which', 'i', 'will', 'assign', 'no', 'fictitious', 'name', 'there', 'is', 'one']\n"
     ]
    }
   ],
   "source": [
    "# BEGIN SOLUTION NO PROMPT\n",
    "words_wo_punctuation = []\n",
    "\n",
    "for word in words_in_cd:\n",
    "    if word == '':\n",
    "        continue\n",
    "    for punct in string.punctuation:\n",
    "        word = word.replace(punct, '')\n",
    "    words_wo_punctuation.append(word)\n",
    "\n",
    "# END SOLUTION\n",
    "\"\"\" # BEGIN PROMPT\n",
    "words_wo_punctuation = ...\n",
    "...\n",
    "\"\"\"; # END PROMPT\n",
    "print(words_wo_punctuation[:50])"
   ]
  },
  {
   "cell_type": "raw",
   "id": "4b1a911b-5db4-4600-8181-eb31ae9f0298",
   "metadata": {},
   "source": [
    "# END SOLUTION"
   ]
  },
  {
   "cell_type": "raw",
   "id": "ab51145d-4f26-40e6-bd26-1f5fca3d416c",
   "metadata": {},
   "source": [
    "# BEGIN TESTS"
   ]
  },
  {
   "cell_type": "code",
   "execution_count": 33,
   "id": "f81bb474-aaac-4927-b7c1-82feca45fe28",
   "metadata": {
    "tags": []
   },
   "outputs": [
    {
     "data": {
      "text/plain": [
       "157187"
      ]
     },
     "execution_count": 33,
     "metadata": {},
     "output_type": "execute_result"
    }
   ],
   "source": [
    "len(words_wo_punctuation)"
   ]
  },
  {
   "cell_type": "code",
   "execution_count": 34,
   "id": "e26a221d-9e16-493d-b27f-81465b93d7d2",
   "metadata": {
    "tags": []
   },
   "outputs": [
    {
     "data": {
      "text/plain": [
       "True"
      ]
     },
     "execution_count": 34,
     "metadata": {},
     "output_type": "execute_result"
    }
   ],
   "source": [
    "0 == len([s for s in string.punctuation if s in words_wo_punctuation])"
   ]
  },
  {
   "cell_type": "raw",
   "id": "47a28f1d-5110-491c-9fbd-9245bf076cf0",
   "metadata": {},
   "source": [
    "# END TESTS"
   ]
  },
  {
   "cell_type": "raw",
   "id": "9bc2b696-9c98-4f39-aa62-2ef0978becbe",
   "metadata": {},
   "source": [
    "# END QUESTION"
   ]
  },
  {
   "cell_type": "markdown",
   "id": "b2c5d494-16cb-4dba-8262-a64cf934ab17",
   "metadata": {},
   "source": [
    "Now the words are processed in a list and we are ready to count."
   ]
  },
  {
   "cell_type": "raw",
   "id": "239b0776-bb96-483b-a535-a8732b4fb666",
   "metadata": {},
   "source": [
    "# BEGIN QUESTION\n",
    "name: q11"
   ]
  },
  {
   "cell_type": "markdown",
   "id": "49932991-0b91-4db4-b49c-851d37adfa65",
   "metadata": {},
   "source": [
    "**Question 11.** Use `if/else` logic to check if the the word already exists in the dictionary. If it does, add one to the associated value. If not, add that key to the dictionary with a value of 1."
   ]
  },
  {
   "cell_type": "raw",
   "id": "3e07e3e5-1cd9-4754-b7af-2fe979120d92",
   "metadata": {},
   "source": [
    "# BEGIN SOLUTION"
   ]
  },
  {
   "cell_type": "code",
   "execution_count": 35,
   "id": "ffc45eab-f69b-4c21-8f6f-5dcf70996098",
   "metadata": {
    "tags": []
   },
   "outputs": [
    {
     "name": "stdout",
     "output_type": "stream",
     "text": [
      "chapter: 61\n",
      "the: 9558\n",
      "of: 3829\n"
     ]
    }
   ],
   "source": [
    "# BEGIN SOLUTION NO PROMPT\n",
    "word_count_dictionary = {}\n",
    "\n",
    "for word in words_wo_punctuation:\n",
    "    if word in word_count_dictionary:\n",
    "        word_count_dictionary[word] += 1\n",
    "    else:\n",
    "        word_count_dictionary[word] = 1\n",
    "# END SOLUTION\n",
    "\"\"\" # BEGIN PROMPT\n",
    "word_count_dictionary = ...\n",
    "...\n",
    "\"\"\"; # END PROMPT\n",
    "print(\"chapter:\", word_count_dictionary['chapter'])\n",
    "print(\"the:\", word_count_dictionary['the'])\n",
    "print(\"of:\", word_count_dictionary['of'])"
   ]
  },
  {
   "cell_type": "raw",
   "id": "b1de0279-9b9a-466e-b629-6b5a4aaa14f2",
   "metadata": {},
   "source": [
    "# END SOLUTION"
   ]
  },
  {
   "cell_type": "raw",
   "id": "cee81b39-7b07-41c7-a8b9-c698140327a5",
   "metadata": {},
   "source": [
    "# BEGIN TESTS"
   ]
  },
  {
   "cell_type": "code",
   "execution_count": 36,
   "id": "f176c0ee-5757-42e3-8552-44df40c23f6b",
   "metadata": {
    "tags": []
   },
   "outputs": [
    {
     "data": {
      "text/plain": [
       "61"
      ]
     },
     "execution_count": 36,
     "metadata": {},
     "output_type": "execute_result"
    }
   ],
   "source": [
    "word_count_dictionary['chapter']"
   ]
  },
  {
   "cell_type": "code",
   "execution_count": 37,
   "id": "da41a07e-ed0f-4ce1-9e05-2c5ba6ef5d45",
   "metadata": {
    "tags": []
   },
   "outputs": [
    {
     "data": {
      "text/plain": [
       "9558"
      ]
     },
     "execution_count": 37,
     "metadata": {},
     "output_type": "execute_result"
    }
   ],
   "source": [
    "word_count_dictionary['the']"
   ]
  },
  {
   "cell_type": "code",
   "execution_count": 38,
   "id": "a0af6094-9917-4d74-80db-400aa6bc360e",
   "metadata": {
    "tags": []
   },
   "outputs": [
    {
     "data": {
      "text/plain": [
       "1625"
      ]
     },
     "execution_count": 38,
     "metadata": {},
     "output_type": "execute_result"
    }
   ],
   "source": [
    "word_count_dictionary['i']"
   ]
  },
  {
   "cell_type": "code",
   "execution_count": 39,
   "id": "6bd2c10b-2e1b-4ebc-b2cd-321c0cd3df84",
   "metadata": {
    "tags": []
   },
   "outputs": [
    {
     "data": {
      "text/plain": [
       "3829"
      ]
     },
     "execution_count": 39,
     "metadata": {},
     "output_type": "execute_result"
    }
   ],
   "source": [
    "word_count_dictionary['of']"
   ]
  },
  {
   "cell_type": "raw",
   "id": "5ecdbd57-9484-474b-abab-e6e88ebacaf9",
   "metadata": {},
   "source": [
    "# END TESTS"
   ]
  },
  {
   "cell_type": "raw",
   "id": "9780ff4e-799d-4381-b2b7-0630a8b10bf2",
   "metadata": {},
   "source": [
    "# END QUESTION"
   ]
  },
  {
   "cell_type": "markdown",
   "id": "a25ec886-dd89-44c4-b13a-8a00ea21b73c",
   "metadata": {},
   "source": [
    "Let's print out a few items from your word count dictionary."
   ]
  },
  {
   "cell_type": "raw",
   "id": "4da62826-8665-4496-8d22-3aade1345ca0",
   "metadata": {},
   "source": [
    "# BEGIN QUESTION\n",
    "name: q12\n",
    "manual: true"
   ]
  },
  {
   "cell_type": "markdown",
   "id": "47757ff9-0d2f-49bf-be60-bc8f1ecd2f7a",
   "metadata": {},
   "source": [
    "**Question 12.** Write a `for` loop to print out the first 20 key/value pairs in your dictionary."
   ]
  },
  {
   "cell_type": "raw",
   "id": "152ca295-a4ba-4149-bf6f-3f40fdb275fb",
   "metadata": {},
   "source": [
    "# BEGIN SOLUTION"
   ]
  },
  {
   "cell_type": "code",
   "execution_count": 40,
   "id": "5eab705e-e374-4227-a720-f71f2bedc704",
   "metadata": {},
   "outputs": [
    {
     "name": "stdout",
     "output_type": "stream",
     "text": [
      "('chapter', 61)\n",
      "('i', 1625)\n",
      "('treats', 4)\n",
      "('of', 3829)\n",
      "('the', 9558)\n",
      "('place', 115)\n",
      "('where', 189)\n",
      "('oliver', 746)\n",
      "('twist', 54)\n",
      "('was', 1783)\n",
      "('born', 21)\n",
      "('and', 5322)\n",
      "('circumstances', 22)\n",
      "('attending', 2)\n",
      "('his', 2343)\n",
      "('birth', 17)\n",
      "('among', 56)\n",
      "('other', 227)\n",
      "('public', 22)\n",
      "('buildings', 4)\n"
     ]
    }
   ],
   "source": [
    "# BEGIN SOLUTION NO PROMPT\n",
    "for i in range(20):\n",
    "    print(list(word_count_dictionary.items())[i])\n",
    "# END SOLUTION\n",
    "\"\"\" # BEGIN PROMPT\n",
    "...\n",
    "\"\"\"; # END PROMPT"
   ]
  },
  {
   "cell_type": "raw",
   "id": "43410578-61b9-4a30-b46d-1d19c4bfc987",
   "metadata": {},
   "source": [
    "# END SOLUTION"
   ]
  },
  {
   "cell_type": "raw",
   "id": "ca459b0c-ad7b-4694-845c-a6291de2fee7",
   "metadata": {},
   "source": [
    "# END QUESTION"
   ]
  },
  {
   "cell_type": "raw",
   "id": "980b2fda-d949-45ad-9e21-4b27ee50352b",
   "metadata": {},
   "source": [
    "# BEGIN QUESTION\n",
    "name: q13\n",
    "manual: true"
   ]
  },
  {
   "cell_type": "markdown",
   "id": "f2d1581e-f398-4fb6-b909-20229709122b",
   "metadata": {},
   "source": [
    "**Question 13.** Find the top ten words in Chapter I."
   ]
  },
  {
   "cell_type": "raw",
   "id": "e3df3b57-1927-4e3e-a6c0-d307b353e804",
   "metadata": {},
   "source": [
    "# BEGIN SOLUTION"
   ]
  },
  {
   "cell_type": "code",
   "execution_count": 41,
   "id": "9dccdbbb-54f0-4d8b-8995-2dded5b01c4b",
   "metadata": {
    "tags": []
   },
   "outputs": [
    {
     "name": "stdout",
     "output_type": "stream",
     "text": [
      "('the', 9558)\n",
      "('and', 5322)\n",
      "('to', 3850)\n",
      "('of', 3829)\n",
      "('a', 3696)\n",
      "('he', 2389)\n",
      "('in', 2362)\n",
      "('his', 2343)\n",
      "('that', 1827)\n",
      "('was', 1783)\n",
      "('it', 1705)\n",
      "('i', 1625)\n",
      "('you', 1602)\n",
      "('with', 1562)\n",
      "('as', 1313)\n",
      "('said', 1230)\n",
      "('had', 1223)\n",
      "('for', 1140)\n",
      "('mr', 1070)\n",
      "('him', 1057)\n"
     ]
    }
   ],
   "source": [
    "# BEGIN SOLUTION NO PROMPT\n",
    "sorted_dictionary = dict(sorted(word_count_dictionary.items(), key=lambda item: item[1], reverse=True))\n",
    "\n",
    "for i in range(20):\n",
    "    print(list(sorted_dictionary.items())[i])\n",
    "# END SOLUTION\n",
    "\"\"\" # BEGIN PROMPT\n",
    "...\n",
    "\"\"\"; # END PROMPT"
   ]
  },
  {
   "cell_type": "raw",
   "id": "3cbabcaa-4af1-4d2c-b2a3-fc1ea2ffacd0",
   "metadata": {},
   "source": [
    "# END SOLUTION"
   ]
  },
  {
   "cell_type": "raw",
   "id": "861f644d-f8a4-433a-8540-5525842efb4a",
   "metadata": {},
   "source": [
    "# END QUESTION"
   ]
  }
 ],
 "metadata": {
  "kernelspec": {
   "display_name": "Python 3 (ipykernel)",
   "language": "python",
   "name": "python3"
  },
  "language_info": {
   "codemirror_mode": {
    "name": "ipython",
    "version": 3
   },
   "file_extension": ".py",
   "mimetype": "text/x-python",
   "name": "python",
   "nbconvert_exporter": "python",
   "pygments_lexer": "ipython3",
   "version": "3.10.11"
  }
 },
 "nbformat": 4,
 "nbformat_minor": 5
}
