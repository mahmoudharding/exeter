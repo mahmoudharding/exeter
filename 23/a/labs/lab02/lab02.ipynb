{
 "cells": [
  {
   "cell_type": "code",
   "execution_count": null,
   "id": "17aa97e6",
   "metadata": {
    "deletable": false,
    "editable": false
   },
   "outputs": [],
   "source": [
    "# Initialize Otter\n",
    "import otter\n",
    "grader = otter.Notebook(\"lab02.ipynb\")"
   ]
  },
  {
   "cell_type": "markdown",
   "id": "6380c5f0",
   "metadata": {},
   "source": [
    "# Run the cell below\n",
    "\n",
    "To run a code cell (i.e.; execute the python code inside a Jupyter notebook) you can click the play button on the ribbon underneath the name of the notebook. Before you begin click the \"Run cell\" button at the top that looks like ▶| or hold down `Shift` + `Return`."
   ]
  },
  {
   "cell_type": "markdown",
   "id": "e504ce27",
   "metadata": {},
   "source": [
    "## Lab 02: Fun with Text\n",
    "\n",
    "Welcome to Advanced Topics in Data Science for High School! Throughout the course you will complete assignments like this one. You can't learn technical subjects without hands-on practice, so these assignments are an important part of the course.\n",
    "\n",
    "**Collaboration Policy:**\n",
    "\n",
    "Collaborating on labs is more than okay -- it's encouraged! You should rarely remain stuck for more than a few minutes on questions in labs, so ask a neighbor or an instructor for help. Explaining things is beneficial, too -- the best way to solidify your knowledge of a subject is to explain it. You should **not** _just_ copy/paste someone else's code, but rather work together to gain understanding of the task you need to complete. \n",
    "\n",
    "**Due Date:** \n",
    "\n",
    "## Today's Assignment \n",
    "\n",
    "In today's assignment, you'll review:\n",
    "\n",
    "- `if/elif/else`\n",
    "\n",
    "- `for` loops\n",
    "\n",
    "- string methods"
   ]
  },
  {
   "cell_type": "markdown",
   "id": "5819cf15",
   "metadata": {},
   "source": [
    "The code below will read in the novel *Pride and Prejudice* by Jane Austen from a local text file.  Our file was originally downloaded from [this repository](https://github.com/laumann/ds/tree/master/hashing/books) and the text itself comes from [Project Gutenberg](https://www.gutenberg.org/). The first 1000 characters are printed out below to check that it was read in correctly.\n",
    "\n",
    "Run the cell below."
   ]
  },
  {
   "cell_type": "code",
   "execution_count": null,
   "id": "5b0d9c17",
   "metadata": {
    "tags": []
   },
   "outputs": [],
   "source": [
    "with open('data/jane-austen-pride-prejudice.txt', 'r') as f:\n",
    "    pap_lines = f.read()\n",
    "print(pap_lines[:1000])"
   ]
  },
  {
   "cell_type": "markdown",
   "id": "cf010170",
   "metadata": {},
   "source": [
    "To open the file, we used the built-in `open()` function. The `open()` function returns a file object, which has a `read()` method for reading the content of the file. To simplify the code we used a `with` statement. In Python the `with` statement simplifies our read process to just two lines."
   ]
  },
  {
   "cell_type": "markdown",
   "id": "d1cdb734",
   "metadata": {
    "tags": []
   },
   "source": [
    "## 1. Basic Text Processing\n",
    "\n",
    "Now we'll remove the first part and last part of the book that has the information from Project Gutenberg.\n",
    "\n",
    " We'll start with our text at the string \"CHAPTER I\" and end it just prior to where the \"Transcriber's\" note appears at the end."
   ]
  },
  {
   "cell_type": "markdown",
   "id": "a18e8767",
   "metadata": {},
   "source": [
    "**Question 1.** Use the `.find` string method to locate the starting position of the words 'CHAPTER I' in the `pap_lines` string."
   ]
  },
  {
   "cell_type": "code",
   "execution_count": null,
   "id": "caae1f96",
   "metadata": {
    "tags": []
   },
   "outputs": [],
   "source": [
    "start_here = ...\n",
    "start_here"
   ]
  },
  {
   "cell_type": "code",
   "execution_count": null,
   "id": "bb22f757",
   "metadata": {
    "deletable": false,
    "editable": false
   },
   "outputs": [],
   "source": [
    "grader.check(\"q1\")"
   ]
  },
  {
   "cell_type": "markdown",
   "id": "3ad28380",
   "metadata": {},
   "source": [
    "<!-- BEGIN QUESTION -->\n",
    "\n",
    "**Question 2.** Print the first sentence of Chapter I not including the title of the chapter or any extra white space."
   ]
  },
  {
   "cell_type": "code",
   "execution_count": null,
   "id": "34cb5c8e",
   "metadata": {
    "tags": []
   },
   "outputs": [],
   "source": [
    "print(\"First sentence of Chapter I: \\n\")\n",
    "...\n",
    "print(...)"
   ]
  },
  {
   "cell_type": "markdown",
   "id": "93a94a29",
   "metadata": {},
   "source": [
    "<!-- END QUESTION -->\n",
    "\n",
    "Now we want to remove all the Transcriber's notes."
   ]
  },
  {
   "cell_type": "markdown",
   "id": "9db61147",
   "metadata": {},
   "source": [
    "**Question 3.** Locate the starting position of the second chapter."
   ]
  },
  {
   "cell_type": "code",
   "execution_count": null,
   "id": "6269b699",
   "metadata": {
    "tags": []
   },
   "outputs": [],
   "source": [
    "end_here = ...\n",
    "end_here"
   ]
  },
  {
   "cell_type": "code",
   "execution_count": null,
   "id": "b59e3441",
   "metadata": {
    "deletable": false,
    "editable": false
   },
   "outputs": [],
   "source": [
    "grader.check(\"q3\")"
   ]
  },
  {
   "cell_type": "markdown",
   "id": "18244472",
   "metadata": {},
   "source": [
    "**Question 4.** Save only the text for Chapter I (not including the title CHAPTER I, or the `\\n` characters at the beginning or the end) in the variable named `chapter_1`.\n",
    "\n",
    "**Note:** The `\\n` is an escape character for strings that should be replaced with a blank space. "
   ]
  },
  {
   "cell_type": "code",
   "execution_count": null,
   "id": "71a68aa3",
   "metadata": {
    "tags": []
   },
   "outputs": [],
   "source": [
    "chapter_1 = ...\n",
    "chapter_1"
   ]
  },
  {
   "cell_type": "code",
   "execution_count": null,
   "id": "6e32bde0",
   "metadata": {
    "deletable": false,
    "editable": false
   },
   "outputs": [],
   "source": [
    "grader.check(\"q4\")"
   ]
  },
  {
   "cell_type": "markdown",
   "id": "939fdd44",
   "metadata": {},
   "source": [
    "## 2. Advacned Text Processing\n",
    "\n",
    "### Counting the Number of Vowels, Consonants, and Other Characters\n",
    "\n",
    "Next, we turn to using a loop and `if/then/else` logic to count the number of characters we have of different types.  We'll ignore any `'_'` characters as they just represent italic text and aren't really characters of the text."
   ]
  },
  {
   "cell_type": "markdown",
   "id": "0ff8a82c",
   "metadata": {},
   "source": [
    "**Question 5.** Change all the letters in the `chapter_1` string to lowercase."
   ]
  },
  {
   "cell_type": "code",
   "execution_count": null,
   "id": "500703ff",
   "metadata": {
    "tags": []
   },
   "outputs": [],
   "source": [
    "chapter_1_lowercase = ...\n",
    "chapter_1_lowercase[0:25]"
   ]
  },
  {
   "cell_type": "code",
   "execution_count": null,
   "id": "d1bec80e",
   "metadata": {
    "deletable": false,
    "editable": false
   },
   "outputs": [],
   "source": [
    "grader.check(\"q5\")"
   ]
  },
  {
   "cell_type": "markdown",
   "id": "873f3331",
   "metadata": {},
   "source": [
    "**Question 6.** Now loop through and count the number of vowels, consonants and other characters.\n",
    "\n",
    "**Note:** To earn all the points for this question you **must** use a loop."
   ]
  },
  {
   "cell_type": "code",
   "execution_count": null,
   "id": "60851e21",
   "metadata": {
    "tags": []
   },
   "outputs": [],
   "source": [
    "vowels = ..\n",
    "consonants = ...\n",
    "spaces = ...\n",
    "other = ...\n",
    "    ...\n",
    "print(\"The number of vowels is:\", vow)\n",
    "print(\"The number of consonants is:\", con)\n",
    "print(\"The number of other characters is:\", other)"
   ]
  },
  {
   "cell_type": "code",
   "execution_count": null,
   "id": "570dcd1e",
   "metadata": {
    "deletable": false,
    "editable": false
   },
   "outputs": [],
   "source": [
    "grader.check(\"q6\")"
   ]
  },
  {
   "cell_type": "markdown",
   "id": "e6e9a7ff",
   "metadata": {},
   "source": [
    "**Question 7.** Compute the proportion of vowels, consonants, and other characters to all the non-space characters. \n",
    "\n",
    "**Note:** Do not round the proportions. "
   ]
  },
  {
   "cell_type": "code",
   "execution_count": null,
   "id": "d4afc983",
   "metadata": {
    "tags": []
   },
   "outputs": [],
   "source": [
    "prop_vowels = ...\n",
    "prop_consonants = ...\n",
    "prop_other = ...\n",
    "print('The proportion of vowels is:', prop_vow)\n",
    "print('The proportion of consonants is:', prop_con)\n",
    "print('The proportion of other characters is:', prop_other)"
   ]
  },
  {
   "cell_type": "code",
   "execution_count": null,
   "id": "c042d5a6",
   "metadata": {
    "deletable": false,
    "editable": false
   },
   "outputs": [],
   "source": [
    "grader.check(\"q7\")"
   ]
  },
  {
   "cell_type": "markdown",
   "id": "bd2aa65f",
   "metadata": {},
   "source": [
    "## 3. Dictionary Practice\n",
    "\n",
    "In this part, we'll count the number of words in a book using a for loop and a dictionary.  Use the code below to read in the book as a string."
   ]
  },
  {
   "cell_type": "code",
   "execution_count": null,
   "id": "20ba5454",
   "metadata": {
    "tags": []
   },
   "outputs": [],
   "source": [
    "with open('data/charles-dickens-oliver-twist.txt', 'r', encoding='utf-8-sig') as f:\n",
    "    cd_lines = f.read()\n",
    "print(cd_lines[:450])"
   ]
  },
  {
   "cell_type": "markdown",
   "id": "681fe9d0",
   "metadata": {},
   "source": [
    "### Frequency of Words\n",
    "\n",
    "Our goal in this part of the lab is to iterate through the words in the book and count the number of times each word occurs. We can use a dictionary to store this type of data. \n",
    "\n",
    "For instance, you'll end up with a key of \"the\" with a corresponding value being the number of times \"the\" occurred."
   ]
  },
  {
   "cell_type": "markdown",
   "id": "30542dfd",
   "metadata": {},
   "source": [
    "**Question 8.** Replace all the `\\n` values with spaces and convert each word to lowercase."
   ]
  },
  {
   "cell_type": "code",
   "execution_count": null,
   "id": "70f868a8",
   "metadata": {
    "tags": []
   },
   "outputs": [],
   "source": [
    "cd_lines_spaces = ...\n",
    "cd_lines_spaces[:10]"
   ]
  },
  {
   "cell_type": "code",
   "execution_count": null,
   "id": "19cb4ea6",
   "metadata": {
    "deletable": false,
    "editable": false
   },
   "outputs": [],
   "source": [
    "grader.check(\"q8\")"
   ]
  },
  {
   "cell_type": "markdown",
   "id": "0da6ffa6",
   "metadata": {},
   "source": [
    "We'll need to remove any punctuation (for instance, \"end.\" would need the '.' removed). The object `string.punctuation` from the `string` module  has a list of punctuation marks.\n",
    "\n",
    "Run the cell below to see."
   ]
  },
  {
   "cell_type": "code",
   "execution_count": null,
   "id": "b18d6102",
   "metadata": {
    "tags": []
   },
   "outputs": [],
   "source": [
    "import string\n",
    "print(string.punctuation)"
   ]
  },
  {
   "cell_type": "markdown",
   "id": "ae768c04",
   "metadata": {},
   "source": [
    "To accomplish this task you can write a nested for loop that iterates over the values in `string.punctuation`. If the punctuation value exists in the `'word'` then you can use the `.replace()` method to replace it with an empty string `\"\"`. \n",
    "\n",
    "**Note:** This will make words like didn't into didnt, that's fine - ignore that as it will still count appropriately for the most part."
   ]
  },
  {
   "cell_type": "markdown",
   "id": "c7d4fa15",
   "metadata": {},
   "source": [
    "**Question 9.** Split the text up via the spaces to get a list of 'words' you can iterate over."
   ]
  },
  {
   "cell_type": "code",
   "execution_count": null,
   "id": "bd4ec135",
   "metadata": {
    "tags": []
   },
   "outputs": [],
   "source": [
    "words_in_cd = cd_lines_spaces.split(' ')\n",
    "print(words_in_cd[:10])"
   ]
  },
  {
   "cell_type": "code",
   "execution_count": null,
   "id": "cfd14546",
   "metadata": {
    "deletable": false,
    "editable": false
   },
   "outputs": [],
   "source": [
    "grader.check(\"q9\")"
   ]
  },
  {
   "cell_type": "markdown",
   "id": "3746772c",
   "metadata": {},
   "source": [
    "Now let's remove the punctuation."
   ]
  },
  {
   "cell_type": "markdown",
   "id": "185c0b6e",
   "metadata": {},
   "source": [
    "**Question 10.** Remove all the punctuation from the words `words_in_cd` list. Store the words without punctuation in a new list named `words_wo_punctuation`.\n",
    "\n",
    "**Note:** Do not include empty characters `''` in the `words_wo_punctuation` list."
   ]
  },
  {
   "cell_type": "code",
   "execution_count": null,
   "id": "832008f0",
   "metadata": {
    "tags": []
   },
   "outputs": [],
   "source": [
    "words_wo_punctuation = ...\n",
    "...\n",
    "print(words_wo_punctuation[:50])"
   ]
  },
  {
   "cell_type": "code",
   "execution_count": null,
   "id": "951144a1",
   "metadata": {
    "deletable": false,
    "editable": false
   },
   "outputs": [],
   "source": [
    "grader.check(\"q10\")"
   ]
  },
  {
   "cell_type": "markdown",
   "id": "3410178b",
   "metadata": {},
   "source": [
    "Now the words are processed in a list and we are ready to count."
   ]
  },
  {
   "cell_type": "markdown",
   "id": "7839bef4",
   "metadata": {},
   "source": [
    "**Question 11.** Use `if/else` logic to check if the the word already exists in the dictionary. If it does, add one to the associated value. If not, add that key to the dictionary with a value of 1."
   ]
  },
  {
   "cell_type": "code",
   "execution_count": null,
   "id": "c1bafef2",
   "metadata": {
    "tags": []
   },
   "outputs": [],
   "source": [
    "word_count_dictionary = ...\n",
    "...\n",
    "print(\"chapter:\", word_count_dictionary['chapter'])\n",
    "print(\"the:\", word_count_dictionary['the'])\n",
    "print(\"of:\", word_count_dictionary['of'])"
   ]
  },
  {
   "cell_type": "code",
   "execution_count": null,
   "id": "f33f83b1",
   "metadata": {
    "deletable": false,
    "editable": false
   },
   "outputs": [],
   "source": [
    "grader.check(\"q11\")"
   ]
  },
  {
   "cell_type": "markdown",
   "id": "20daab17",
   "metadata": {},
   "source": [
    "Let's print out a few items from your word count dictionary."
   ]
  },
  {
   "cell_type": "markdown",
   "id": "01dfb505",
   "metadata": {},
   "source": [
    "<!-- BEGIN QUESTION -->\n",
    "\n",
    "**Question 12.** Write a `for` loop to print out the first 20 key/value pairs in your dictionary."
   ]
  },
  {
   "cell_type": "code",
   "execution_count": null,
   "id": "d2f1a7d0",
   "metadata": {
    "tags": []
   },
   "outputs": [],
   "source": [
    "..."
   ]
  },
  {
   "cell_type": "markdown",
   "id": "944b1e30",
   "metadata": {},
   "source": [
    "<!-- END QUESTION -->\n",
    "\n",
    "<!-- BEGIN QUESTION -->\n",
    "\n",
    "**Question 13.** Find the top ten words in Chapter I."
   ]
  },
  {
   "cell_type": "code",
   "execution_count": null,
   "id": "89c7e2eb",
   "metadata": {
    "tags": []
   },
   "outputs": [],
   "source": [
    "..."
   ]
  },
  {
   "cell_type": "markdown",
   "id": "55f61c5c",
   "metadata": {},
   "source": [
    "<!-- END QUESTION -->\n",
    "\n"
   ]
  },
  {
   "cell_type": "markdown",
   "id": "8da3ab5b",
   "metadata": {
    "deletable": false,
    "editable": false
   },
   "source": [
    "## Submission\n",
    "\n",
    "Make sure you have run all cells in your notebook in order before running the cell below, so that all images/graphs appear in the output. The cell below will generate a zip file for you to submit. **Please save before exporting!**"
   ]
  },
  {
   "cell_type": "code",
   "execution_count": null,
   "id": "1e0fe30a",
   "metadata": {
    "deletable": false,
    "editable": false
   },
   "outputs": [],
   "source": [
    "# Save your notebook first, then run this cell to export your submission.\n",
    "grader.export(run_tests=True)"
   ]
  },
  {
   "cell_type": "markdown",
   "id": "05d2aa57",
   "metadata": {},
   "source": [
    " "
   ]
  }
 ],
 "metadata": {
  "kernelspec": {
   "display_name": "Python 3 (ipykernel)",
   "language": "python",
   "name": "python3"
  },
  "language_info": {
   "codemirror_mode": {
    "name": "ipython",
    "version": 3
   },
   "file_extension": ".py",
   "mimetype": "text/x-python",
   "name": "python",
   "nbconvert_exporter": "python",
   "pygments_lexer": "ipython3",
   "version": "3.10.11"
  },
  "otter": {
   "OK_FORMAT": true,
   "tests": {
    "q1": {
     "name": "q1",
     "points": null,
     "suites": [
      {
       "cases": [
        {
         "code": ">>> start_here == 1844\nTrue",
         "hidden": false,
         "locked": false
        }
       ],
       "scored": true,
       "setup": "",
       "teardown": "",
       "type": "doctest"
      }
     ]
    },
    "q10": {
     "name": "q10",
     "points": null,
     "suites": [
      {
       "cases": [
        {
         "code": ">>> len(words_wo_punctuation)\n157187",
         "hidden": false,
         "locked": false
        },
        {
         "code": ">>> 0 == len([s for s in string.punctuation if s in words_wo_punctuation])\nTrue",
         "hidden": false,
         "locked": false
        }
       ],
       "scored": true,
       "setup": "",
       "teardown": "",
       "type": "doctest"
      }
     ]
    },
    "q11": {
     "name": "q11",
     "points": null,
     "suites": [
      {
       "cases": [
        {
         "code": ">>> word_count_dictionary['chapter']\n61",
         "hidden": false,
         "locked": false
        },
        {
         "code": ">>> word_count_dictionary['the']\n9558",
         "hidden": false,
         "locked": false
        },
        {
         "code": ">>> word_count_dictionary['i']\n1625",
         "hidden": false,
         "locked": false
        },
        {
         "code": ">>> word_count_dictionary['of']\n3829",
         "hidden": false,
         "locked": false
        }
       ],
       "scored": true,
       "setup": "",
       "teardown": "",
       "type": "doctest"
      }
     ]
    },
    "q3": {
     "name": "q3",
     "points": null,
     "suites": [
      {
       "cases": [
        {
         "code": ">>> end_here\n6345",
         "hidden": false,
         "locked": false
        }
       ],
       "scored": true,
       "setup": "",
       "teardown": "",
       "type": "doctest"
      }
     ]
    },
    "q4": {
     "name": "q4",
     "points": null,
     "suites": [
      {
       "cases": [
        {
         "code": ">>> len(chapter_1)\n4483",
         "hidden": false,
         "locked": false
        },
        {
         "code": ">>> chapter_1[-1:]\n'.'",
         "hidden": false,
         "locked": false
        },
        {
         "code": ">>> chapter_1[0:1]\n'I'",
         "hidden": false,
         "locked": false
        },
        {
         "code": ">>> chapter_1.find(\"\\n\")\n-1",
         "hidden": false,
         "locked": false
        },
        {
         "code": ">>> len([i for i in range(len(chapter_1)) if chapter_1.startswith(\"\\n\", i)])\n0",
         "hidden": false,
         "locked": false
        }
       ],
       "scored": true,
       "setup": "",
       "teardown": "",
       "type": "doctest"
      }
     ]
    },
    "q5": {
     "name": "q5",
     "points": null,
     "suites": [
      {
       "cases": [
        {
         "code": ">>> chapter_1_lowercase.islower()\nTrue",
         "hidden": false,
         "locked": false
        }
       ],
       "scored": true,
       "setup": "",
       "teardown": "",
       "type": "doctest"
      }
     ]
    },
    "q6": {
     "name": "q6",
     "points": null,
     "suites": [
      {
       "cases": [
        {
         "code": ">>> vow\n1301",
         "hidden": false,
         "locked": false
        },
        {
         "code": ">>> con\n2086",
         "hidden": false,
         "locked": false
        },
        {
         "code": ">>> other\n1096",
         "hidden": false,
         "locked": false
        },
        {
         "code": ">>> len(chapter_1_lowercase) - (vow + con + other)\n0",
         "hidden": false,
         "locked": false
        }
       ],
       "scored": true,
       "setup": "",
       "teardown": "",
       "type": "doctest"
      }
     ]
    },
    "q7": {
     "name": "q7",
     "points": null,
     "suites": [
      {
       "cases": [
        {
         "code": ">>> prop_vow\n0.3617908787541713",
         "hidden": false,
         "locked": false
        },
        {
         "code": ">>> prop_con\n0.5800889877641824",
         "hidden": false,
         "locked": false
        },
        {
         "code": ">>> prop_other\n0.3047830923248053",
         "hidden": false,
         "locked": false
        }
       ],
       "scored": true,
       "setup": "",
       "teardown": "",
       "type": "doctest"
      }
     ]
    },
    "q8": {
     "name": "q8",
     "points": null,
     "suites": [
      {
       "cases": [
        {
         "code": ">>> '\\n' not in cd_lines_spaces\nTrue",
         "hidden": false,
         "locked": false
        },
        {
         "code": ">>> len([i for i in range(len(cd_lines_spaces)) if cd_lines_spaces.startswith(\" \", i)])\n164983",
         "hidden": false,
         "locked": false
        },
        {
         "code": ">>> len(cd_lines_spaces)\n892126",
         "hidden": false,
         "locked": false
        }
       ],
       "scored": true,
       "setup": "",
       "teardown": "",
       "type": "doctest"
      }
     ]
    },
    "q9": {
     "name": "q9",
     "points": null,
     "suites": [
      {
       "cases": [
        {
         "code": ">>> len(words_in_cd)\n164984",
         "hidden": false,
         "locked": false
        }
       ],
       "scored": true,
       "setup": "",
       "teardown": "",
       "type": "doctest"
      }
     ]
    }
   }
  }
 },
 "nbformat": 4,
 "nbformat_minor": 5
}
