{
 "cells": [
  {
   "cell_type": "code",
   "execution_count": 1,
   "id": "42150420-6fcf-4df3-96ac-403e3ff8035f",
   "metadata": {
    "tags": []
   },
   "outputs": [],
   "source": [
    "from datascience import *\n",
    "import numpy as np\n",
    "\n",
    "%matplotlib inline\n",
    "import matplotlib.pyplot as plt\n",
    "plt.style.use('fivethirtyeight')"
   ]
  },
  {
   "cell_type": "markdown",
   "id": "e4ffff93-061e-41ef-82b5-ed6e20b3da02",
   "metadata": {},
   "source": [
    "# Activity 14: Basic Probability\n",
    "\n",
    "### Coin Toss\n",
    "\n",
    "1. We need a way to store \"Heads\" and \"Tails\"."
   ]
  },
  {
   "cell_type": "code",
   "execution_count": 2,
   "id": "162eead6-0ba7-49d3-adbc-7a2a0a99cf3c",
   "metadata": {
    "tags": []
   },
   "outputs": [
    {
     "data": {
      "text/plain": [
       "array(['H', 'T'],\n",
       "      dtype='<U1')"
      ]
     },
     "execution_count": 2,
     "metadata": {},
     "output_type": "execute_result"
    }
   ],
   "source": [
    "# Create an array with heads and tails\n",
    "# make_array(1, 0)\n",
    "# make_array(\"heads\", \"tails\")\n",
    "make_array(\"H\", \"T\")\n",
    "# make_array(\"h\", \"t\")"
   ]
  },
  {
   "cell_type": "code",
   "execution_count": 3,
   "id": "383ba1d1-8997-48c8-a968-cccbb1f93b46",
   "metadata": {
    "tags": []
   },
   "outputs": [],
   "source": [
    "# Create an array named coins\n",
    "# H: For a coin toss that lands on heads\n",
    "# T: For a coin toss that lands on tails\n",
    "\n",
    "coins = make_array(\"H\", \"T\")"
   ]
  },
  {
   "cell_type": "code",
   "execution_count": 4,
   "id": "79d3bcb8-49d8-4abf-b317-a844e4850a21",
   "metadata": {
    "tags": []
   },
   "outputs": [
    {
     "data": {
      "text/plain": [
       "3"
      ]
     },
     "execution_count": 4,
     "metadata": {},
     "output_type": "execute_result"
    }
   ],
   "source": [
    "# See how np.random.choice works\n",
    "np.random.choice(10)"
   ]
  },
  {
   "cell_type": "code",
   "execution_count": 5,
   "id": "bac13892-43e5-4de7-942c-a9aedac266e7",
   "metadata": {
    "tags": []
   },
   "outputs": [
    {
     "data": {
      "text/plain": [
       "3"
      ]
     },
     "execution_count": 5,
     "metadata": {},
     "output_type": "execute_result"
    }
   ],
   "source": [
    "sum(np.random.choice(coins, 10) == 'H')"
   ]
  },
  {
   "cell_type": "code",
   "execution_count": 6,
   "id": "9a893a00-31f2-4124-aac8-501620642d55",
   "metadata": {},
   "outputs": [],
   "source": [
    "# Initialize and empty array\n",
    "outcomes = make_array()\n",
    "reps = 100\n",
    "\n",
    "# Iteration\n",
    "for _ in range(reps):\n",
    "    outcomes = np.append(outcomes, sum(np.random.choice(coins, 10) == 'H'))"
   ]
  },
  {
   "cell_type": "code",
   "execution_count": 7,
   "id": "b28f3a8d-c272-48cf-9080-a9c4373e01bc",
   "metadata": {},
   "outputs": [
    {
     "data": {
      "image/png": "[encoded data removed]",
      "text/plain": [
       "<Figure size 432x288 with 1 Axes>"
      ]
     },
     "metadata": {},
     "output_type": "display_data"
    }
   ],
   "source": [
    "# Make a visualization\n",
    "Table().with_column('outcomes', outcomes).hist(0, bins=np.arange(1, 12))"
   ]
  },
  {
   "cell_type": "code",
   "execution_count": 8,
   "id": "ffa1fa7e-3c92-442c-b485-6dc7f9694b3f",
   "metadata": {},
   "outputs": [
    {
     "data": {
      "text/plain": [
       "array([ 5.,  4.,  7.,  4.,  6.,  3.,  6.,  2.,  8.,  4.,  5.,  3.,  4.,\n",
       "        7.,  2.,  4.,  6.,  4.,  7.,  3.,  6.,  5.,  4.,  4.,  7.,  5.,\n",
       "        7.,  5.,  5.,  5.,  5.,  6.,  5.,  5.,  4.,  5.,  5.,  4.,  4.,\n",
       "        4.,  7.,  6.,  6.,  7.,  4.,  1.,  4.,  4.,  4.,  2.,  5.,  6.,\n",
       "        7.,  6.,  7.,  7.,  5.,  5.,  4.,  6.,  7.,  6.,  5.,  2.,  8.,\n",
       "        4.,  6.,  6.,  7.,  5.,  6.,  3.,  6.,  6.,  7.,  3.,  4.,  7.,\n",
       "        5.,  6.,  6.,  5.,  5.,  8.,  4.,  5.,  6.,  8.,  6.,  7.,  4.,\n",
       "        5.,  5.,  7.,  4.,  3.,  4.,  5.,  6.,  3.])"
      ]
     },
     "execution_count": 8,
     "metadata": {},
     "output_type": "execute_result"
    }
   ],
   "source": [
    "outcomes"
   ]
  },
  {
   "cell_type": "code",
   "execution_count": 9,
   "id": "ede3032b-0f0f-4ad8-a8c4-cc25cdc89df5",
   "metadata": {},
   "outputs": [
    {
     "data": {
      "text/plain": [
       "0"
      ]
     },
     "execution_count": 9,
     "metadata": {},
     "output_type": "execute_result"
    }
   ],
   "source": [
    "sum(outcomes == 10)"
   ]
  },
  {
   "cell_type": "code",
   "execution_count": 10,
   "id": "09195315-67db-4aae-99cf-65b6503938f0",
   "metadata": {},
   "outputs": [
    {
     "data": {
      "text/plain": [
       "array([False,  True, False, False, False, False, False, False, False, False], dtype=bool)"
      ]
     },
     "execution_count": 10,
     "metadata": {},
     "output_type": "execute_result"
    }
   ],
   "source": [
    "np.random.choice(5, 10) == 1"
   ]
  },
  {
   "cell_type": "code",
   "execution_count": 11,
   "id": "48b97cb1-e430-478d-8c62-f09b75966952",
   "metadata": {},
   "outputs": [
    {
     "data": {
      "text/plain": [
       "2"
      ]
     },
     "execution_count": 11,
     "metadata": {},
     "output_type": "execute_result"
    }
   ],
   "source": [
    "True + True "
   ]
  },
  {
   "cell_type": "code",
   "execution_count": 12,
   "id": "b0bfa274-983f-440c-98ad-12b10d87c1c1",
   "metadata": {},
   "outputs": [
    {
     "data": {
      "text/plain": [
       "1"
      ]
     },
     "execution_count": 12,
     "metadata": {},
     "output_type": "execute_result"
    }
   ],
   "source": [
    "False + 1"
   ]
  },
  {
   "cell_type": "markdown",
   "id": "13b67bf2-9ac3-46ff-9199-f35f5ee61ef1",
   "metadata": {},
   "source": [
    "# Die Roll"
   ]
  },
  {
   "cell_type": "code",
   "execution_count": 18,
   "id": "d176a3a9-7330-4575-9e6c-fee5e94600ef",
   "metadata": {},
   "outputs": [
    {
     "data": {
      "text/plain": [
       "1"
      ]
     },
     "execution_count": 18,
     "metadata": {},
     "output_type": "execute_result"
    }
   ],
   "source": [
    "# Function call \n",
    "roll_die()"
   ]
  },
  {
   "cell_type": "code",
   "execution_count": 17,
   "id": "13efdfe2-e6db-4058-ae53-19c441cbcc73",
   "metadata": {},
   "outputs": [],
   "source": [
    "def roll_die():\n",
    "    return np.random.choice(np.arange(1,7))"
   ]
  },
  {
   "cell_type": "code",
   "execution_count": 20,
   "id": "70cb76d3-c2b3-4aa1-bbd5-2b6b30604117",
   "metadata": {},
   "outputs": [],
   "source": [
    "def is_even(number):\n",
    "    if number%2 == 0:\n",
    "        print(\"The number\", number, \"is even.\")\n",
    "    else:\n",
    "        print(\"The number\", number, \"is odd.\")"
   ]
  },
  {
   "cell_type": "code",
   "execution_count": 24,
   "id": "760d744e-8434-4322-8d3a-68304431b89b",
   "metadata": {},
   "outputs": [
    {
     "name": "stdout",
     "output_type": "stream",
     "text": [
      "0 is equal to 0\n"
     ]
    }
   ],
   "source": [
    "x = 0\n",
    "if x > 0:\n",
    "    print(x, \"is areater than 0\")\n",
    "elif x < 0:\n",
    "    print(x, \"is less than 0\")\n",
    "else:\n",
    "    print(x, \"is equal to 0\")"
   ]
  },
  {
   "cell_type": "code",
   "execution_count": 21,
   "id": "b943854e-e588-4f99-a89e-c6cd9c57b486",
   "metadata": {},
   "outputs": [
    {
     "name": "stdout",
     "output_type": "stream",
     "text": [
      "The number 4 is even.\n"
     ]
    }
   ],
   "source": [
    "is_even(roll_die())"
   ]
  },
  {
   "cell_type": "code",
   "execution_count": null,
   "id": "ef74eb16-4a94-4dd0-913c-198a860dc2e4",
   "metadata": {},
   "outputs": [],
   "source": [
    "def count_roll(  ):\n",
    "    "
   ]
  }
 ],
 "metadata": {
  "kernelspec": {
   "display_name": "Python 3 (ipykernel)",
   "language": "python",
   "name": "python3"
  },
  "language_info": {
   "codemirror_mode": {
    "name": "ipython",
    "version": 3
   },
   "file_extension": ".py",
   "mimetype": "text/x-python",
   "name": "python",
   "nbconvert_exporter": "python",
   "pygments_lexer": "ipython3",
   "version": "3.10.11"
  }
 },
 "nbformat": 4,
 "nbformat_minor": 5
}
