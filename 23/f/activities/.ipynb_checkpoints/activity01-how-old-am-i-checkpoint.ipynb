{
 "cells": [
  {
   "cell_type": "markdown",
   "id": "looking-swedish",
   "metadata": {},
   "source": [
    "# Activity 01: How Old Am I\n",
    "\n",
    "There is a website [(How Old am I)](https://calculating-it.com/misc-calculators/how-long-have-i-been-alive/) that can be used to determine how many milliseconds, seconds, minutes, hours, days, weeks, and months you've been alive in real time.\n",
    "\n",
    "We want to use python to determine how many seconds we have been alive. We won't worry about calculating the value in real-time. What we calculate from our date of birth (we will assume that we lived the entire day) up to the end of the first day of class August 16, 2022. You can use this [link](https://miniwebtool.com/leap-years-list/?start_year=1970&end_year=2022) to find the number of leap years you have lived.\n",
    "\n",
    "Make sure that you use the following variable names."
   ]
  },
  {
   "cell_type": "code",
   "execution_count": null,
   "id": "2462324b-7413-40a0-8578-b74077aeece7",
   "metadata": {},
   "outputs": [],
   "source": [
    "nonleap_years = \n",
    "leap_years = \n",
    "nonleap_year_days = \n",
    "leap_year_days =\n",
    "hrs_per_day = \n",
    "min_per_hr = \n",
    "sec_per_min = "
   ]
  },
  {
   "cell_type": "markdown",
   "id": "a02594b5-65d7-4cf2-9df5-b9275197b83c",
   "metadata": {},
   "source": [
    "Now we need the number of days in the year from January 1 to August 16."
   ]
  },
  {
   "cell_type": "code",
   "execution_count": null,
   "id": "765be5cc-4c5f-48de-ab2e-c8f4a81ccfbb",
   "metadata": {},
   "outputs": [],
   "source": [
    "current_day_number = "
   ]
  },
  {
   "cell_type": "markdown",
   "id": "50c0171a-773a-4e19-a610-79e16e3ca3cc",
   "metadata": {},
   "source": [
    "Now use the variables to calculate your age in seconds."
   ]
  },
  {
   "cell_type": "code",
   "execution_count": null,
   "id": "0dbea000-1104-4f75-a59e-399e7da80388",
   "metadata": {},
   "outputs": [],
   "source": [
    "secconds_alive = "
   ]
  }
 ],
 "metadata": {
  "kernelspec": {
   "display_name": "Python 3 (ipykernel)",
   "language": "python",
   "name": "python3"
  },
  "language_info": {
   "codemirror_mode": {
    "name": "ipython",
    "version": 3
   },
   "file_extension": ".py",
   "mimetype": "text/x-python",
   "name": "python",
   "nbconvert_exporter": "python",
   "pygments_lexer": "ipython3",
   "version": "3.10.5"
  }
 },
 "nbformat": 4,
 "nbformat_minor": 5
}
