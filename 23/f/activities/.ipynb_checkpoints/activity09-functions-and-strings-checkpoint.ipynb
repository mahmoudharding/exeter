{
 "cells": [
  {
   "cell_type": "code",
   "execution_count": 2,
   "id": "f91c6ca2-5c14-49ce-a301-7a3ca2c0c710",
   "metadata": {},
   "outputs": [],
   "source": [
    "from datascience import *\n",
    "import numpy as np\n",
    "\n",
    "%matplotlib inline\n",
    "import matplotlib.pyplot as plots\n",
    "plots.style.use('fivethirtyeight')"
   ]
  },
  {
   "cell_type": "markdown",
   "id": "9e6cedb4-f184-4826-bc4e-66be45a9fd53",
   "metadata": {},
   "source": [
    "# Activity 09: Functions and Strings\n",
    "\n",
    "In this activity you will need to complete two tasks\n",
    "\n",
    "1. Plot the distribution of average heights of male and females from a group of countries.\n",
    "\n",
    "2. Find the average human height - based on male and female heights from a group of countries."
   ]
  },
  {
   "cell_type": "markdown",
   "id": "64a0b339-2765-49bb-b3e5-2f94d564d199",
   "metadata": {},
   "source": [
    "## Step 1: Load the Data"
   ]
  },
  {
   "cell_type": "code",
   "execution_count": null,
   "id": "49a6c817-e64f-43b0-8cff-d607942279b2",
   "metadata": {},
   "outputs": [],
   "source": [
    "heights = Table().read_table('data/human_heights.csv')\n",
    "heights"
   ]
  },
  {
   "cell_type": "markdown",
   "id": "0e1920af-2d32-4326-8f3f-81ed39310d19",
   "metadata": {},
   "source": [
    "## Step 2: Change the Heights"
   ]
  },
  {
   "cell_type": "code",
   "execution_count": null,
   "id": "1ec569e3-c930-4567-b2f1-f0d880ebad2f",
   "metadata": {},
   "outputs": [],
   "source": []
  },
  {
   "cell_type": "code",
   "execution_count": null,
   "id": "08dac17e-6182-4480-aa60-a91aad5266c1",
   "metadata": {},
   "outputs": [],
   "source": []
  },
  {
   "cell_type": "code",
   "execution_count": null,
   "id": "4ec81332-49a1-4774-a7b2-e06e9fb0836d",
   "metadata": {},
   "outputs": [],
   "source": []
  },
  {
   "cell_type": "markdown",
   "id": "5ad9babd-931c-4d4c-994a-6a9988e2021e",
   "metadata": {},
   "source": [
    "## Step 3: Create the Visualization"
   ]
  },
  {
   "cell_type": "code",
   "execution_count": null,
   "id": "02ef8abb-aef9-4e0f-972f-c67bbf21cd2d",
   "metadata": {},
   "outputs": [],
   "source": []
  },
  {
   "cell_type": "code",
   "execution_count": null,
   "id": "f0dcb9e7-7831-48c3-971b-c47d29dadbd1",
   "metadata": {},
   "outputs": [],
   "source": []
  },
  {
   "cell_type": "code",
   "execution_count": null,
   "id": "7f8b4294-bbb5-4402-a98c-aab0f2f0ce1a",
   "metadata": {},
   "outputs": [],
   "source": []
  },
  {
   "cell_type": "markdown",
   "id": "bc4742d6-8d5c-4bcd-a34b-b224d51456b3",
   "metadata": {},
   "source": [
    "## Step 4: Compute the Average \"Human Height\""
   ]
  },
  {
   "cell_type": "code",
   "execution_count": null,
   "id": "aacbd9bc-c697-4483-b462-961b2c7a593d",
   "metadata": {},
   "outputs": [],
   "source": []
  },
  {
   "cell_type": "code",
   "execution_count": null,
   "id": "7149af23-6dae-4e33-9c59-468c6a093f9d",
   "metadata": {},
   "outputs": [],
   "source": []
  },
  {
   "cell_type": "code",
   "execution_count": null,
   "id": "1743d61c-12fb-4e52-8566-d37b31881008",
   "metadata": {},
   "outputs": [],
   "source": []
  }
 ],
 "metadata": {
  "kernelspec": {
   "display_name": "Python 3 (ipykernel)",
   "language": "python",
   "name": "python3"
  },
  "language_info": {
   "codemirror_mode": {
    "name": "ipython",
    "version": 3
   },
   "file_extension": ".py",
   "mimetype": "text/x-python",
   "name": "python",
   "nbconvert_exporter": "python",
   "pygments_lexer": "ipython3",
   "version": "3.10.5"
  }
 },
 "nbformat": 4,
 "nbformat_minor": 5
}
