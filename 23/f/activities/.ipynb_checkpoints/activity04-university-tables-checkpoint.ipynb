{
 "cells": [
  {
   "cell_type": "markdown",
   "id": "looking-swedish",
   "metadata": {},
   "source": [
    "# Activity 04: University Tables\n",
    "\n",
    "Most of the data tables we'll be working with in the course will be created from `.csv` files. In this activity we'll have a chance to build our own table using two methods:\n",
    "\n",
    "1. loading data from a `.csv` file \n",
    "\n",
    "2. using the [`.with_columns` table method](http://data8.org/datascience/tables.html)."
   ]
  },
  {
   "cell_type": "markdown",
   "id": "particular-tokyo",
   "metadata": {},
   "source": [
    "## Making a Comma Separated Values File\n",
    "\n",
    "Use the data you and your group collected about the universities you were given to make a `.csv` file. Your data set should comply to all the requirements of a \"tidy\" dataset (Refer to the class notes or your own writing from the [What is \"tidy\" data?](https://ncssm.instructure.com/courses/7121/assignments/154749) assignment). \n",
    "\n",
    "After you have compiled your tidy data set upload it to the data folder and read it into a table. Remember you need to load the appropriate package to create a `Table` object.\n",
    "\n",
    "**Hint:** The name of the package and the code to *import* it should be in other notebooks we've done throughout the course.\n",
    "\n",
    "\n",
    "Read in your dataset in the empty code cell below. "
   ]
  },
  {
   "cell_type": "code",
   "execution_count": null,
   "id": "1069cb27-86a1-447f-9b2d-72d7fb26579d",
   "metadata": {},
   "outputs": [],
   "source": []
  },
  {
   "cell_type": "markdown",
   "id": "f635f54a-ec2a-419a-898b-d7e39a621132",
   "metadata": {},
   "source": [
    "Use the blank code cells below and apply some table methods. The table methods can be found in the [data8.org/documentation](http://data8.org/datascience/tables.html) page."
   ]
  },
  {
   "cell_type": "code",
   "execution_count": null,
   "id": "7cbc8574-65cd-4c4f-b48c-52f40695a6ad",
   "metadata": {},
   "outputs": [],
   "source": []
  },
  {
   "cell_type": "code",
   "execution_count": null,
   "id": "093173e2-c5b0-4cee-8244-2e819262d91b",
   "metadata": {},
   "outputs": [],
   "source": []
  },
  {
   "cell_type": "code",
   "execution_count": null,
   "id": "24fc1472-e37d-4899-85d2-2950a6ae79a8",
   "metadata": {},
   "outputs": [],
   "source": []
  },
  {
   "cell_type": "markdown",
   "id": "939f7303-d4e1-44eb-a87c-dfedde44945f",
   "metadata": {},
   "source": [
    "## Making a `Table` from Scratch\n",
    "\n",
    "The `datascience` package has a method that will let us build tables using arrays. Use the `.with_columns` method to build a table from the data you collected about the universities that your group was given.\n",
    "\n",
    "Create the table in the empty code cell below."
   ]
  },
  {
   "cell_type": "code",
   "execution_count": null,
   "id": "300177a5-7736-441e-af92-f64c680afd97",
   "metadata": {},
   "outputs": [],
   "source": []
  },
  {
   "cell_type": "markdown",
   "id": "5c8b51e9-15a1-424a-bd93-e12c053e004f",
   "metadata": {},
   "source": [
    "Use the blank code cells below and apply some table methods. The table methods can be found in the [data8.org/documentation](http://data8.org/datascience/tables.html) page."
   ]
  },
  {
   "cell_type": "code",
   "execution_count": null,
   "id": "72a45bb2-acd3-47f0-a961-d5b9f5ebfcde",
   "metadata": {},
   "outputs": [],
   "source": []
  },
  {
   "cell_type": "code",
   "execution_count": null,
   "id": "831ecfaf-192b-412a-b76c-253221c389fd",
   "metadata": {},
   "outputs": [],
   "source": []
  },
  {
   "cell_type": "code",
   "execution_count": null,
   "id": "712b2dd8-a651-4f8d-b10d-e1be7f4a869a",
   "metadata": {},
   "outputs": [],
   "source": []
  },
  {
   "cell_type": "markdown",
   "id": "eebfe9cd-44ab-45e8-aeee-cc4aabe72068",
   "metadata": {},
   "source": [
    "## Combining Tables\n",
    "\n"
   ]
  }
 ],
 "metadata": {
  "kernelspec": {
   "display_name": "Python 3 (ipykernel)",
   "language": "python",
   "name": "python3"
  },
  "language_info": {
   "codemirror_mode": {
    "name": "ipython",
    "version": 3
   },
   "file_extension": ".py",
   "mimetype": "text/x-python",
   "name": "python",
   "nbconvert_exporter": "python",
   "pygments_lexer": "ipython3",
   "version": "3.10.5"
  }
 },
 "nbformat": 4,
 "nbformat_minor": 5
}
