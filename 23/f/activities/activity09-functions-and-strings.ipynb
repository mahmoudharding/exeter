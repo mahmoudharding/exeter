{
 "cells": [
  {
   "cell_type": "code",
   "execution_count": 1,
   "id": "f91c6ca2-5c14-49ce-a301-7a3ca2c0c710",
   "metadata": {
    "tags": []
   },
   "outputs": [],
   "source": [
    "from datascience import *\n",
    "import numpy as np\n",
    "\n",
    "%matplotlib inline\n",
    "import matplotlib.pyplot as plt\n",
    "plt.style.use('fivethirtyeight')"
   ]
  },
  {
   "cell_type": "markdown",
   "id": "9e6cedb4-f184-4826-bc4e-66be45a9fd53",
   "metadata": {},
   "source": [
    "# Activity 09: Functions and Strings\n",
    "\n",
    "In this activity you will need to complete two tasks\n",
    "\n",
    "1. Plot the distribution of average heights of male and females from a group of countries.\n",
    "\n",
    "2. Find the average human height - based on male and female heights from a group of countries."
   ]
  },
  {
   "cell_type": "markdown",
   "id": "64a0b339-2765-49bb-b3e5-2f94d564d199",
   "metadata": {},
   "source": [
    "## Step 1: Load the Data"
   ]
  },
  {
   "cell_type": "code",
   "execution_count": 2,
   "id": "49a6c817-e64f-43b0-8cff-d607942279b2",
   "metadata": {
    "tags": []
   },
   "outputs": [
    {
     "data": {
      "text/html": [
       "<table border=\"1\" class=\"dataframe\">\n",
       "    <thead>\n",
       "        <tr>\n",
       "            <th>Country</th> <th>Average male height</th> <th>Average female height</th>\n",
       "        </tr>\n",
       "    </thead>\n",
       "    <tbody>\n",
       "        <tr>\n",
       "            <td>Argentina  </td> <td>174.46 cm (5 ft 8.6 in)</td> <td>161.03 cm (5 ft 3.4 in)</td>\n",
       "        </tr>\n",
       "        <tr>\n",
       "            <td>Australia  </td> <td>178.4 cm (5' 10.2\")    </td> <td>163.9 cm (5' 4.5\")     </td>\n",
       "        </tr>\n",
       "        <tr>\n",
       "            <td>Bahrain    </td> <td>165.1 cm (5' 5\")       </td> <td>154.7 cm (5' 1\")       </td>\n",
       "        </tr>\n",
       "        <tr>\n",
       "            <td>Belgium    </td> <td>176.6 cm (5' 9.5\")     </td> <td>163.3 cm (5' 4.3\")     </td>\n",
       "        </tr>\n",
       "        <tr>\n",
       "            <td>Brazil     </td> <td>169.0 cm (5' 6.5\")     </td> <td>158.0 cm (5' 2.2\")     </td>\n",
       "        </tr>\n",
       "        <tr>\n",
       "            <td>Cameroon   </td> <td>170.6 cm (5' 7.2\")     </td> <td>161.3 cm (5' 3.5\")     </td>\n",
       "        </tr>\n",
       "        <tr>\n",
       "            <td>Canada     </td> <td>174 cm (5' 8.5\")       </td> <td>161.0 cm (5' 3.4\")     </td>\n",
       "        </tr>\n",
       "        <tr>\n",
       "            <td>China (PRC)</td> <td>164.8 cm (5' 4.9\")     </td> <td>154.5 cm (5' 0.8\")     </td>\n",
       "        </tr>\n",
       "        <tr>\n",
       "            <td>China      </td> <td>169.4 cm (5' 6.7\")     </td> <td>158.6 cm (5' 2.5\")     </td>\n",
       "        </tr>\n",
       "        <tr>\n",
       "            <td>Colombia   </td> <td>170.64 cm (5' 7.2\")    </td> <td>158.65 cm (5' 2.4\")    </td>\n",
       "        </tr>\n",
       "    </tbody>\n",
       "</table>\n",
       "<p>... (44 rows omitted)</p>"
      ],
      "text/plain": [
       "Country     | Average male height     | Average female height\n",
       "Argentina   | 174.46 cm (5 ft 8.6 in) | 161.03 cm (5 ft 3.4 in)\n",
       "Australia   | 178.4 cm (5' 10.2\")     | 163.9 cm (5' 4.5\")\n",
       "Bahrain     | 165.1 cm (5' 5\")        | 154.7 cm (5' 1\")\n",
       "Belgium     | 176.6 cm (5' 9.5\")      | 163.3 cm (5' 4.3\")\n",
       "Brazil      | 169.0 cm (5' 6.5\")      | 158.0 cm (5' 2.2\")\n",
       "Cameroon    | 170.6 cm (5' 7.2\")      | 161.3 cm (5' 3.5\")\n",
       "Canada      | 174 cm (5' 8.5\")        | 161.0 cm (5' 3.4\")\n",
       "China (PRC) | 164.8 cm (5' 4.9\")      | 154.5 cm (5' 0.8\")\n",
       "China       | 169.4 cm (5' 6.7\")      | 158.6 cm (5' 2.5\")\n",
       "Colombia    | 170.64 cm (5' 7.2\")     | 158.65 cm (5' 2.4\")\n",
       "... (44 rows omitted)"
      ]
     },
     "execution_count": 2,
     "metadata": {},
     "output_type": "execute_result"
    }
   ],
   "source": [
    "heights = Table().read_table('data/human_heights.csv')\n",
    "heights"
   ]
  },
  {
   "cell_type": "markdown",
   "id": "0e1920af-2d32-4326-8f3f-81ed39310d19",
   "metadata": {},
   "source": [
    "## Step 2: Change the Heights"
   ]
  },
  {
   "cell_type": "code",
   "execution_count": null,
   "id": "1ec569e3-c930-4567-b2f1-f0d880ebad2f",
   "metadata": {},
   "outputs": [],
   "source": []
  },
  {
   "cell_type": "code",
   "execution_count": null,
   "id": "08dac17e-6182-4480-aa60-a91aad5266c1",
   "metadata": {},
   "outputs": [],
   "source": []
  },
  {
   "cell_type": "code",
   "execution_count": null,
   "id": "4ec81332-49a1-4774-a7b2-e06e9fb0836d",
   "metadata": {},
   "outputs": [],
   "source": []
  },
  {
   "cell_type": "markdown",
   "id": "5ad9babd-931c-4d4c-994a-6a9988e2021e",
   "metadata": {},
   "source": [
    "## Step 3: Create the Visualization"
   ]
  },
  {
   "cell_type": "code",
   "execution_count": null,
   "id": "02ef8abb-aef9-4e0f-972f-c67bbf21cd2d",
   "metadata": {},
   "outputs": [],
   "source": []
  },
  {
   "cell_type": "code",
   "execution_count": null,
   "id": "f0dcb9e7-7831-48c3-971b-c47d29dadbd1",
   "metadata": {},
   "outputs": [],
   "source": []
  },
  {
   "cell_type": "code",
   "execution_count": null,
   "id": "7f8b4294-bbb5-4402-a98c-aab0f2f0ce1a",
   "metadata": {},
   "outputs": [],
   "source": []
  },
  {
   "cell_type": "markdown",
   "id": "bc4742d6-8d5c-4bcd-a34b-b224d51456b3",
   "metadata": {},
   "source": [
    "## Step 4: Compute the Average \"Human Height\""
   ]
  },
  {
   "cell_type": "code",
   "execution_count": null,
   "id": "aacbd9bc-c697-4483-b462-961b2c7a593d",
   "metadata": {},
   "outputs": [],
   "source": []
  },
  {
   "cell_type": "code",
   "execution_count": null,
   "id": "7149af23-6dae-4e33-9c59-468c6a093f9d",
   "metadata": {},
   "outputs": [],
   "source": []
  },
  {
   "cell_type": "code",
   "execution_count": null,
   "id": "1743d61c-12fb-4e52-8566-d37b31881008",
   "metadata": {},
   "outputs": [],
   "source": []
  },
  {
   "cell_type": "code",
   "execution_count": 4,
   "id": "fc56c463-31b8-4d7d-b1aa-fadd21643ee9",
   "metadata": {},
   "outputs": [],
   "source": [
    "import pandas as pd"
   ]
  },
  {
   "cell_type": "code",
   "execution_count": 6,
   "id": "6ae88ad6-68aa-486e-b9c3-9387430f9aed",
   "metadata": {},
   "outputs": [
    {
     "data": {
      "text/html": [
       "<div>\n",
       "<style scoped>\n",
       "    .dataframe tbody tr th:only-of-type {\n",
       "        vertical-align: middle;\n",
       "    }\n",
       "\n",
       "    .dataframe tbody tr th {\n",
       "        vertical-align: top;\n",
       "    }\n",
       "\n",
       "    .dataframe thead th {\n",
       "        text-align: right;\n",
       "    }\n",
       "</style>\n",
       "<table border=\"1\" class=\"dataframe\">\n",
       "  <thead>\n",
       "    <tr style=\"text-align: right;\">\n",
       "      <th></th>\n",
       "      <th>Country</th>\n",
       "      <th>Average male height</th>\n",
       "      <th>Average female height</th>\n",
       "    </tr>\n",
       "  </thead>\n",
       "  <tbody>\n",
       "    <tr>\n",
       "      <th>0</th>\n",
       "      <td>Argentina</td>\n",
       "      <td>174.46 cm (5 ft 8.6 in)</td>\n",
       "      <td>161.03 cm (5 ft 3.4 in)</td>\n",
       "    </tr>\n",
       "    <tr>\n",
       "      <th>1</th>\n",
       "      <td>Australia</td>\n",
       "      <td>178.4 cm (5' 10.2\")</td>\n",
       "      <td>163.9 cm (5' 4.5\")</td>\n",
       "    </tr>\n",
       "    <tr>\n",
       "      <th>2</th>\n",
       "      <td>Bahrain</td>\n",
       "      <td>165.1 cm (5' 5\")</td>\n",
       "      <td>154.7 cm (5' 1\")</td>\n",
       "    </tr>\n",
       "    <tr>\n",
       "      <th>3</th>\n",
       "      <td>Belgium</td>\n",
       "      <td>176.6 cm (5' 9.5\")</td>\n",
       "      <td>163.3 cm (5' 4.3\")</td>\n",
       "    </tr>\n",
       "    <tr>\n",
       "      <th>4</th>\n",
       "      <td>Brazil</td>\n",
       "      <td>169.0 cm (5' 6.5\")</td>\n",
       "      <td>158.0 cm (5' 2.2\")</td>\n",
       "    </tr>\n",
       "    <tr>\n",
       "      <th>5</th>\n",
       "      <td>Cameroon</td>\n",
       "      <td>170.6 cm (5' 7.2\")</td>\n",
       "      <td>161.3 cm (5' 3.5\")</td>\n",
       "    </tr>\n",
       "    <tr>\n",
       "      <th>6</th>\n",
       "      <td>Canada</td>\n",
       "      <td>174 cm (5' 8.5\")</td>\n",
       "      <td>161.0 cm (5' 3.4\")</td>\n",
       "    </tr>\n",
       "    <tr>\n",
       "      <th>7</th>\n",
       "      <td>China (PRC)</td>\n",
       "      <td>164.8 cm (5' 4.9\")</td>\n",
       "      <td>154.5 cm (5' 0.8\")</td>\n",
       "    </tr>\n",
       "    <tr>\n",
       "      <th>8</th>\n",
       "      <td>China</td>\n",
       "      <td>169.4 cm (5' 6.7\")</td>\n",
       "      <td>158.6 cm (5' 2.5\")</td>\n",
       "    </tr>\n",
       "    <tr>\n",
       "      <th>9</th>\n",
       "      <td>Colombia</td>\n",
       "      <td>170.64 cm (5' 7.2\")</td>\n",
       "      <td>158.65 cm (5' 2.4\")</td>\n",
       "    </tr>\n",
       "  </tbody>\n",
       "</table>\n",
       "</div>"
      ],
      "text/plain": [
       "       Country      Average male height    Average female height\n",
       "0    Argentina  174.46 cm (5 ft 8.6 in)  161.03 cm (5 ft 3.4 in)\n",
       "1    Australia      178.4 cm (5' 10.2\")       163.9 cm (5' 4.5\")\n",
       "2      Bahrain         165.1 cm (5' 5\")         154.7 cm (5' 1\")\n",
       "3      Belgium       176.6 cm (5' 9.5\")       163.3 cm (5' 4.3\")\n",
       "4       Brazil       169.0 cm (5' 6.5\")       158.0 cm (5' 2.2\")\n",
       "5     Cameroon       170.6 cm (5' 7.2\")       161.3 cm (5' 3.5\")\n",
       "6       Canada         174 cm (5' 8.5\")       161.0 cm (5' 3.4\")\n",
       "7  China (PRC)       164.8 cm (5' 4.9\")       154.5 cm (5' 0.8\")\n",
       "8        China       169.4 cm (5' 6.7\")       158.6 cm (5' 2.5\")\n",
       "9     Colombia      170.64 cm (5' 7.2\")      158.65 cm (5' 2.4\")"
      ]
     },
     "execution_count": 6,
     "metadata": {},
     "output_type": "execute_result"
    }
   ],
   "source": [
    "h = pd.read_csv('data/human_heights.csv')\n",
    "h.head(10)"
   ]
  },
  {
   "cell_type": "code",
   "execution_count": 11,
   "id": "11fa9f59-e1d1-4336-a5b4-4a8405ec6ce5",
   "metadata": {},
   "outputs": [
    {
     "data": {
      "text/plain": [
       "174.46"
      ]
     },
     "execution_count": 11,
     "metadata": {},
     "output_type": "execute_result"
    }
   ],
   "source": [
    "float(h['Average male height'][0].split()[0])"
   ]
  },
  {
   "cell_type": "code",
   "execution_count": 48,
   "id": "90e7ccda-4e99-4e61-ac19-0f0100055940",
   "metadata": {},
   "outputs": [],
   "source": [
    "all_heights = np.array([])\n",
    "\n",
    "for i in range(h.shape[0]):\n",
    "    all_heights = np.append(all_heights, float(h['Average female height'][i].split()[0]))\n",
    "    all_heights = np.append(all_heights, float(h['Average male height'][i].split()[0]))"
   ]
  },
  {
   "cell_type": "code",
   "execution_count": 50,
   "id": "b2e3606e-78cb-49cf-b6d7-26942a09a02f",
   "metadata": {},
   "outputs": [
    {
     "data": {
      "text/plain": [
       "166.15444444444441"
      ]
     },
     "execution_count": 50,
     "metadata": {},
     "output_type": "execute_result"
    }
   ],
   "source": [
    "np.average(all_heights)"
   ]
  },
  {
   "cell_type": "code",
   "execution_count": 38,
   "id": "35acd116-91ca-46f3-a3c9-4e740d0ab767",
   "metadata": {},
   "outputs": [
    {
     "data": {
      "text/plain": [
       "array([ 21.])"
      ]
     },
     "execution_count": 38,
     "metadata": {},
     "output_type": "execute_result"
    }
   ],
   "source": [
    "x=np.array([])\n",
    "np.append(x, 21)"
   ]
  },
  {
   "cell_type": "code",
   "execution_count": null,
   "id": "d531dcc0-bf10-497f-83b6-d4bad097059f",
   "metadata": {},
   "outputs": [],
   "source": []
  }
 ],
 "metadata": {
  "kernelspec": {
   "display_name": "Python 3 (ipykernel)",
   "language": "python",
   "name": "python3"
  },
  "language_info": {
   "codemirror_mode": {
    "name": "ipython",
    "version": 3
   },
   "file_extension": ".py",
   "mimetype": "text/x-python",
   "name": "python",
   "nbconvert_exporter": "python",
   "pygments_lexer": "ipython3",
   "version": "3.10.11"
  }
 },
 "nbformat": 4,
 "nbformat_minor": 5
}
