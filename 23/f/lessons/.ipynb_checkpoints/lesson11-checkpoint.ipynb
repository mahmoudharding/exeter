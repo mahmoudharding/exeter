{
 "cells": [
  {
   "cell_type": "code",
   "execution_count": 1,
   "metadata": {
    "tags": []
   },
   "outputs": [],
   "source": [
    "from datascience import *\n",
    "import numpy as np\n",
    "\n",
    "%matplotlib inline\n",
    "import matplotlib.pyplot as plt\n",
    "plt.style.use('fivethirtyeight')"
   ]
  },
  {
   "cell_type": "markdown",
   "metadata": {},
   "source": [
    "# Lesson 11: Pivots and Joins #"
   ]
  },
  {
   "cell_type": "markdown",
   "metadata": {},
   "source": [
    "## Cross-classification: grouping by two columns"
   ]
  },
  {
   "cell_type": "code",
   "execution_count": 2,
   "metadata": {},
   "outputs": [
    {
     "data": {
      "text/html": [
       "<table border=\"1\" class=\"dataframe\">\n",
       "    <thead>\n",
       "        <tr>\n",
       "            <th>name</th> <th>material</th> <th>city</th> <th>height</th> <th>age</th>\n",
       "        </tr>\n",
       "    </thead>\n",
       "    <tbody>\n",
       "        <tr>\n",
       "            <td>One World Trade Center</td> <td>mixed/composite</td> <td>New York City</td> <td>541.3 </td> <td>7   </td>\n",
       "        </tr>\n",
       "        <tr>\n",
       "            <td>Willis Tower          </td> <td>steel          </td> <td>Chicago      </td> <td>442.14</td> <td>47  </td>\n",
       "        </tr>\n",
       "        <tr>\n",
       "            <td>432 Park Avenue       </td> <td>concrete       </td> <td>New York City</td> <td>425.5 </td> <td>6   </td>\n",
       "        </tr>\n",
       "    </tbody>\n",
       "</table>\n",
       "<p>... (1778 rows omitted)</p>"
      ],
      "text/plain": [
       "<IPython.core.display.HTML object>"
      ]
     },
     "metadata": {},
     "output_type": "display_data"
    }
   ],
   "source": [
    "sky = Table.read_table('data/skyscrapers_v2.csv')\n",
    "sky = (sky.with_column('age', 2021 - sky.column('completed'))\n",
    "          .drop('completed'))\n",
    "sky.show(3)"
   ]
  },
  {
   "cell_type": "code",
   "execution_count": 3,
   "metadata": {},
   "outputs": [
    {
     "data": {
      "text/html": [
       "<table border=\"1\" class=\"dataframe\">\n",
       "    <thead>\n",
       "        <tr>\n",
       "            <th>material</th> <th>city</th> <th>count</th>\n",
       "        </tr>\n",
       "    </thead>\n",
       "    <tbody>\n",
       "        <tr>\n",
       "            <td>steel          </td> <td>New York City</td> <td>263  </td>\n",
       "        </tr>\n",
       "        <tr>\n",
       "            <td>concrete       </td> <td>New York City</td> <td>249  </td>\n",
       "        </tr>\n",
       "        <tr>\n",
       "            <td>concrete       </td> <td>Chicago      </td> <td>244  </td>\n",
       "        </tr>\n",
       "        <tr>\n",
       "            <td>steel          </td> <td>Chicago      </td> <td>79   </td>\n",
       "        </tr>\n",
       "        <tr>\n",
       "            <td>concrete       </td> <td>Miami        </td> <td>78   </td>\n",
       "        </tr>\n",
       "        <tr>\n",
       "            <td>steel          </td> <td>San Francisco</td> <td>48   </td>\n",
       "        </tr>\n",
       "        <tr>\n",
       "            <td>concrete       </td> <td>Honolulu     </td> <td>47   </td>\n",
       "        </tr>\n",
       "        <tr>\n",
       "            <td>steel          </td> <td>Los Angeles  </td> <td>37   </td>\n",
       "        </tr>\n",
       "        <tr>\n",
       "            <td>mixed/composite</td> <td>Chicago      </td> <td>35   </td>\n",
       "        </tr>\n",
       "        <tr>\n",
       "            <td>concrete       </td> <td>Las Vegas    </td> <td>33   </td>\n",
       "        </tr>\n",
       "    </tbody>\n",
       "</table>\n",
       "<p>... (81 rows omitted)</p>"
      ],
      "text/plain": [
       "<IPython.core.display.HTML object>"
      ]
     },
     "metadata": {},
     "output_type": "display_data"
    }
   ],
   "source": [
    "sky.group(['material','city']).sort('count', descending=True).show(10)"
   ]
  },
  {
   "cell_type": "code",
   "execution_count": 4,
   "metadata": {},
   "outputs": [
    {
     "data": {
      "text/html": [
       "<table border=\"1\" class=\"dataframe\">\n",
       "    <thead>\n",
       "        <tr>\n",
       "            <th>material</th> <th>city</th> <th>name average</th> <th>height average</th> <th>age average</th>\n",
       "        </tr>\n",
       "    </thead>\n",
       "    <tbody>\n",
       "        <tr>\n",
       "            <td>concrete</td> <td>Atlanta   </td> <td>            </td> <td>148.775       </td> <td>18.963     </td>\n",
       "        </tr>\n",
       "        <tr>\n",
       "            <td>concrete</td> <td>Austin    </td> <td>            </td> <td>127.714       </td> <td>14.5       </td>\n",
       "        </tr>\n",
       "        <tr>\n",
       "            <td>concrete</td> <td>Baltimore </td> <td>            </td> <td>112.833       </td> <td>29.375     </td>\n",
       "        </tr>\n",
       "        <tr>\n",
       "            <td>concrete</td> <td>Boston    </td> <td>            </td> <td>105.765       </td> <td>38.75      </td>\n",
       "        </tr>\n",
       "        <tr>\n",
       "            <td>concrete</td> <td>Charlotte </td> <td>            </td> <td>161.348       </td> <td>17.8       </td>\n",
       "        </tr>\n",
       "        <tr>\n",
       "            <td>concrete</td> <td>Chicago   </td> <td>            </td> <td>128.285       </td> <td>31.082     </td>\n",
       "        </tr>\n",
       "        <tr>\n",
       "            <td>concrete</td> <td>Cincinnati</td> <td>            </td> <td>102.808       </td> <td>39.6       </td>\n",
       "        </tr>\n",
       "        <tr>\n",
       "            <td>concrete</td> <td>Cleveland </td> <td>            </td> <td>116.755       </td> <td>39.5       </td>\n",
       "        </tr>\n",
       "        <tr>\n",
       "            <td>concrete</td> <td>Columbus  </td> <td>            </td> <td>77.825        </td> <td>50.75      </td>\n",
       "        </tr>\n",
       "        <tr>\n",
       "            <td>concrete</td> <td>Dallas    </td> <td>            </td> <td>125.19        </td> <td>18.8571    </td>\n",
       "        </tr>\n",
       "    </tbody>\n",
       "</table>\n",
       "<p>... (81 rows omitted)</p>"
      ],
      "text/plain": [
       "<IPython.core.display.HTML object>"
      ]
     },
     "metadata": {},
     "output_type": "display_data"
    }
   ],
   "source": [
    "sky.group(['material','city'], np.average).show(10)"
   ]
  },
  {
   "cell_type": "code",
   "execution_count": 5,
   "metadata": {},
   "outputs": [
    {
     "data": {
      "text/html": [
       "<table border=\"1\" class=\"dataframe\">\n",
       "    <thead>\n",
       "        <tr>\n",
       "            <th>city</th> <th>material</th> <th>name average</th> <th>height average</th> <th>age average</th>\n",
       "        </tr>\n",
       "    </thead>\n",
       "    <tbody>\n",
       "        <tr>\n",
       "            <td>Atlanta  </td> <td>concrete       </td> <td>            </td> <td>148.775       </td> <td>18.963     </td>\n",
       "        </tr>\n",
       "        <tr>\n",
       "            <td>Atlanta  </td> <td>mixed/composite</td> <td>            </td> <td>229.24        </td> <td>26         </td>\n",
       "        </tr>\n",
       "        <tr>\n",
       "            <td>Atlanta  </td> <td>steel          </td> <td>            </td> <td>112.414       </td> <td>62.4286    </td>\n",
       "        </tr>\n",
       "        <tr>\n",
       "            <td>Austin   </td> <td>concrete       </td> <td>            </td> <td>127.714       </td> <td>14.5       </td>\n",
       "        </tr>\n",
       "        <tr>\n",
       "            <td>Austin   </td> <td>steel          </td> <td>            </td> <td>93.6          </td> <td>84         </td>\n",
       "        </tr>\n",
       "        <tr>\n",
       "            <td>Baltimore</td> <td>concrete       </td> <td>            </td> <td>112.833       </td> <td>29.375     </td>\n",
       "        </tr>\n",
       "        <tr>\n",
       "            <td>Baltimore</td> <td>steel          </td> <td>            </td> <td>110.853       </td> <td>62.5       </td>\n",
       "        </tr>\n",
       "        <tr>\n",
       "            <td>Boston   </td> <td>concrete       </td> <td>            </td> <td>105.765       </td> <td>38.75      </td>\n",
       "        </tr>\n",
       "        <tr>\n",
       "            <td>Boston   </td> <td>mixed/composite</td> <td>            </td> <td>121.6         </td> <td>19.5       </td>\n",
       "        </tr>\n",
       "        <tr>\n",
       "            <td>Boston   </td> <td>steel          </td> <td>            </td> <td>143.405       </td> <td>43.0769    </td>\n",
       "        </tr>\n",
       "    </tbody>\n",
       "</table>\n",
       "<p>... (81 rows omitted)</p>"
      ],
      "text/plain": [
       "<IPython.core.display.HTML object>"
      ]
     },
     "metadata": {},
     "output_type": "display_data"
    }
   ],
   "source": [
    "sky.group(['city','material'], np.average).show(10)"
   ]
  },
  {
   "cell_type": "code",
   "execution_count": 6,
   "metadata": {},
   "outputs": [
    {
     "data": {
      "text/plain": [
       "array(['mixed/composite', 'steel', 'concrete', ..., 'concrete', 'concrete',\n",
       "       'steel'],\n",
       "      dtype='<U15')"
      ]
     },
     "execution_count": 6,
     "metadata": {},
     "output_type": "execute_result"
    }
   ],
   "source": [
    "sky.column(1)"
   ]
  },
  {
   "cell_type": "code",
   "execution_count": 7,
   "metadata": {},
   "outputs": [
    {
     "data": {
      "text/plain": [
       "array(['concrete', 'mixed/composite', 'steel'],\n",
       "      dtype='<U15')"
      ]
     },
     "execution_count": 7,
     "metadata": {},
     "output_type": "execute_result"
    }
   ],
   "source": [
    "np.unique(sky.column(1))"
   ]
  },
  {
   "cell_type": "code",
   "execution_count": 8,
   "metadata": {},
   "outputs": [
    {
     "data": {
      "text/html": [
       "<table border=\"1\" class=\"dataframe\">\n",
       "    <thead>\n",
       "        <tr>\n",
       "            <th>city</th> <th>concrete</th> <th>mixed/composite</th> <th>steel</th>\n",
       "        </tr>\n",
       "    </thead>\n",
       "    <tbody>\n",
       "        <tr>\n",
       "            <td>Atlanta   </td> <td>27      </td> <td>4              </td> <td>7    </td>\n",
       "        </tr>\n",
       "        <tr>\n",
       "            <td>Austin    </td> <td>16      </td> <td>0              </td> <td>1    </td>\n",
       "        </tr>\n",
       "        <tr>\n",
       "            <td>Baltimore </td> <td>8       </td> <td>0              </td> <td>6    </td>\n",
       "        </tr>\n",
       "        <tr>\n",
       "            <td>Boston    </td> <td>4       </td> <td>2              </td> <td>26   </td>\n",
       "        </tr>\n",
       "        <tr>\n",
       "            <td>Charlotte </td> <td>5       </td> <td>3              </td> <td>4    </td>\n",
       "        </tr>\n",
       "        <tr>\n",
       "            <td>Chicago   </td> <td>244     </td> <td>35             </td> <td>79   </td>\n",
       "        </tr>\n",
       "        <tr>\n",
       "            <td>Cincinnati</td> <td>5       </td> <td>1              </td> <td>7    </td>\n",
       "        </tr>\n",
       "        <tr>\n",
       "            <td>Cleveland </td> <td>2       </td> <td>3              </td> <td>11   </td>\n",
       "        </tr>\n",
       "        <tr>\n",
       "            <td>Columbus  </td> <td>4       </td> <td>0              </td> <td>9    </td>\n",
       "        </tr>\n",
       "        <tr>\n",
       "            <td>Dallas    </td> <td>7       </td> <td>2              </td> <td>11   </td>\n",
       "        </tr>\n",
       "    </tbody>\n",
       "</table>\n",
       "<p>... (25 rows omitted)</p>"
      ],
      "text/plain": [
       "<IPython.core.display.HTML object>"
      ]
     },
     "metadata": {},
     "output_type": "display_data"
    }
   ],
   "source": [
    "sky.pivot('material','city').show(10)"
   ]
  },
  {
   "cell_type": "code",
   "execution_count": 9,
   "metadata": {},
   "outputs": [
    {
     "data": {
      "text/html": [
       "<table border=\"1\" class=\"dataframe\">\n",
       "    <thead>\n",
       "        <tr>\n",
       "            <th>material</th> <th>Atlanta</th> <th>Austin</th> <th>Baltimore</th> <th>Boston</th> <th>Charlotte</th> <th>Chicago</th> <th>Cincinnati</th> <th>Cleveland</th> <th>Columbus</th> <th>Dallas</th> <th>Denver</th> <th>Detroit</th> <th>Honolulu</th> <th>Houston</th> <th>Indianapolis</th> <th>Jersey City</th> <th>Kansas City</th> <th>Las Vegas</th> <th>Los Angeles</th> <th>Miami</th> <th>Miami Beach</th> <th>Milwaukee</th> <th>Minneapolis</th> <th>New York City</th> <th>Philadelphia</th> <th>Phoenix</th> <th>Pittsburgh</th> <th>Portland</th> <th>Sacramento</th> <th>Salt Lake City</th> <th>San Diego</th> <th>San Francisco</th> <th>Seattle</th> <th>St. Louis</th> <th>Sunny Isles Beach</th>\n",
       "        </tr>\n",
       "    </thead>\n",
       "    <tbody>\n",
       "        <tr>\n",
       "            <td>concrete       </td> <td>27     </td> <td>16    </td> <td>8        </td> <td>4     </td> <td>5        </td> <td>244    </td> <td>5         </td> <td>2        </td> <td>4       </td> <td>7     </td> <td>5     </td> <td>6      </td> <td>47      </td> <td>27     </td> <td>9           </td> <td>14         </td> <td>3          </td> <td>33       </td> <td>9          </td> <td>78   </td> <td>19         </td> <td>9        </td> <td>18         </td> <td>249          </td> <td>14          </td> <td>7      </td> <td>2         </td> <td>4       </td> <td>3         </td> <td>6             </td> <td>11       </td> <td>10           </td> <td>14     </td> <td>6        </td> <td>22               </td>\n",
       "        </tr>\n",
       "        <tr>\n",
       "            <td>mixed/composite</td> <td>4      </td> <td>0     </td> <td>0        </td> <td>2     </td> <td>3        </td> <td>35     </td> <td>1         </td> <td>3        </td> <td>0       </td> <td>2     </td> <td>2     </td> <td>0      </td> <td>0       </td> <td>7      </td> <td>0           </td> <td>0          </td> <td>0          </td> <td>6        </td> <td>3          </td> <td>4    </td> <td>0          </td> <td>0        </td> <td>9          </td> <td>19           </td> <td>2           </td> <td>4      </td> <td>2         </td> <td>1       </td> <td>1         </td> <td>0             </td> <td>1        </td> <td>3            </td> <td>9      </td> <td>1        </td> <td>0                </td>\n",
       "        </tr>\n",
       "        <tr>\n",
       "            <td>steel          </td> <td>7      </td> <td>1     </td> <td>6        </td> <td>26    </td> <td>4        </td> <td>79     </td> <td>7         </td> <td>11       </td> <td>9       </td> <td>11    </td> <td>4     </td> <td>14     </td> <td>3       </td> <td>20     </td> <td>7           </td> <td>2          </td> <td>7          </td> <td>5        </td> <td>37         </td> <td>4    </td> <td>0          </td> <td>5        </td> <td>12         </td> <td>263          </td> <td>15          </td> <td>4      </td> <td>32        </td> <td>5       </td> <td>7         </td> <td>7             </td> <td>9        </td> <td>48           </td> <td>31     </td> <td>8        </td> <td>0                </td>\n",
       "        </tr>\n",
       "    </tbody>\n",
       "</table>"
      ],
      "text/plain": [
       "<IPython.core.display.HTML object>"
      ]
     },
     "metadata": {},
     "output_type": "display_data"
    }
   ],
   "source": [
    "sky.pivot('city','material').show(10)"
   ]
  },
  {
   "cell_type": "code",
   "execution_count": 10,
   "metadata": {},
   "outputs": [
    {
     "data": {
      "text/html": [
       "<table border=\"1\" class=\"dataframe\">\n",
       "    <thead>\n",
       "        <tr>\n",
       "            <th>city</th> <th>concrete</th> <th>mixed/composite</th> <th>steel</th>\n",
       "        </tr>\n",
       "    </thead>\n",
       "    <tbody>\n",
       "        <tr>\n",
       "            <td>Atlanta   </td> <td>148.775 </td> <td>229.24         </td> <td>112.414</td>\n",
       "        </tr>\n",
       "        <tr>\n",
       "            <td>Austin    </td> <td>127.714 </td> <td>0              </td> <td>93.6   </td>\n",
       "        </tr>\n",
       "        <tr>\n",
       "            <td>Baltimore </td> <td>112.833 </td> <td>0              </td> <td>110.853</td>\n",
       "        </tr>\n",
       "        <tr>\n",
       "            <td>Boston    </td> <td>105.765 </td> <td>121.6          </td> <td>143.405</td>\n",
       "        </tr>\n",
       "        <tr>\n",
       "            <td>Charlotte </td> <td>161.348 </td> <td>196.01         </td> <td>127.013</td>\n",
       "        </tr>\n",
       "        <tr>\n",
       "            <td>Chicago   </td> <td>128.285 </td> <td>160.217        </td> <td>130.985</td>\n",
       "        </tr>\n",
       "        <tr>\n",
       "            <td>Cincinnati</td> <td>102.808 </td> <td>202.69         </td> <td>120.991</td>\n",
       "        </tr>\n",
       "        <tr>\n",
       "            <td>Cleveland </td> <td>116.755 </td> <td>166.363        </td> <td>136.856</td>\n",
       "        </tr>\n",
       "        <tr>\n",
       "            <td>Columbus  </td> <td>77.825  </td> <td>0              </td> <td>120.902</td>\n",
       "        </tr>\n",
       "        <tr>\n",
       "            <td>Dallas    </td> <td>125.19  </td> <td>260.3          </td> <td>178.783</td>\n",
       "        </tr>\n",
       "    </tbody>\n",
       "</table>\n",
       "<p>... (25 rows omitted)</p>"
      ],
      "text/plain": [
       "<IPython.core.display.HTML object>"
      ]
     },
     "metadata": {},
     "output_type": "display_data"
    }
   ],
   "source": [
    "sky.pivot('material','city', values='height', collect=np.average).show(10)"
   ]
  },
  {
   "cell_type": "code",
   "execution_count": 11,
   "metadata": {},
   "outputs": [
    {
     "data": {
      "text/html": [
       "<table border=\"1\" class=\"dataframe\">\n",
       "    <thead>\n",
       "        <tr>\n",
       "            <th>city</th> <th>concrete</th> <th>mixed/composite</th> <th>steel</th>\n",
       "        </tr>\n",
       "    </thead>\n",
       "    <tbody>\n",
       "        <tr>\n",
       "            <td>Atlanta   </td> <td>264.25  </td> <td>311.8          </td> <td>169.47</td>\n",
       "        </tr>\n",
       "        <tr>\n",
       "            <td>Austin    </td> <td>208.15  </td> <td>0              </td> <td>93.6  </td>\n",
       "        </tr>\n",
       "        <tr>\n",
       "            <td>Baltimore </td> <td>161.24  </td> <td>0              </td> <td>155.15</td>\n",
       "        </tr>\n",
       "        <tr>\n",
       "            <td>Boston    </td> <td>121.92  </td> <td>139            </td> <td>240.79</td>\n",
       "        </tr>\n",
       "        <tr>\n",
       "            <td>Charlotte </td> <td>265.48  </td> <td>239.7          </td> <td>179.23</td>\n",
       "        </tr>\n",
       "        <tr>\n",
       "            <td>Chicago   </td> <td>423.22  </td> <td>306.94         </td> <td>442.14</td>\n",
       "        </tr>\n",
       "        <tr>\n",
       "            <td>Cincinnati</td> <td>125     </td> <td>202.69         </td> <td>175   </td>\n",
       "        </tr>\n",
       "        <tr>\n",
       "            <td>Cleveland </td> <td>125     </td> <td>288.65         </td> <td>215.8 </td>\n",
       "        </tr>\n",
       "        <tr>\n",
       "            <td>Columbus  </td> <td>79.25   </td> <td>0              </td> <td>169.3 </td>\n",
       "        </tr>\n",
       "        <tr>\n",
       "            <td>Dallas    </td> <td>176.48  </td> <td>280.72         </td> <td>270.06</td>\n",
       "        </tr>\n",
       "    </tbody>\n",
       "</table>\n",
       "<p>... (25 rows omitted)</p>"
      ],
      "text/plain": [
       "<IPython.core.display.HTML object>"
      ]
     },
     "metadata": {},
     "output_type": "display_data"
    }
   ],
   "source": [
    "sky_p = sky.pivot('material', 'city', values='height', collect=max)\n",
    "sky_p.show(10)"
   ]
  },
  {
   "cell_type": "code",
   "execution_count": 12,
   "metadata": {},
   "outputs": [
    {
     "data": {
      "text/html": [
       "<table border=\"1\" class=\"dataframe\">\n",
       "    <thead>\n",
       "        <tr>\n",
       "            <th>city</th> <th>concrete</th> <th>mixed/composite</th> <th>steel</th> <th>difference</th>\n",
       "        </tr>\n",
       "    </thead>\n",
       "    <tbody>\n",
       "        <tr>\n",
       "            <td>Atlanta   </td> <td>264.25  </td> <td>311.8          </td> <td>169.47</td> <td>94.78     </td>\n",
       "        </tr>\n",
       "        <tr>\n",
       "            <td>Austin    </td> <td>208.15  </td> <td>0              </td> <td>93.6  </td> <td>114.55    </td>\n",
       "        </tr>\n",
       "        <tr>\n",
       "            <td>Baltimore </td> <td>161.24  </td> <td>0              </td> <td>155.15</td> <td>6.09001   </td>\n",
       "        </tr>\n",
       "        <tr>\n",
       "            <td>Boston    </td> <td>121.92  </td> <td>139            </td> <td>240.79</td> <td>118.87    </td>\n",
       "        </tr>\n",
       "        <tr>\n",
       "            <td>Charlotte </td> <td>265.48  </td> <td>239.7          </td> <td>179.23</td> <td>86.25     </td>\n",
       "        </tr>\n",
       "        <tr>\n",
       "            <td>Chicago   </td> <td>423.22  </td> <td>306.94         </td> <td>442.14</td> <td>18.92     </td>\n",
       "        </tr>\n",
       "        <tr>\n",
       "            <td>Cincinnati</td> <td>125     </td> <td>202.69         </td> <td>175   </td> <td>50        </td>\n",
       "        </tr>\n",
       "        <tr>\n",
       "            <td>Cleveland </td> <td>125     </td> <td>288.65         </td> <td>215.8 </td> <td>90.8      </td>\n",
       "        </tr>\n",
       "        <tr>\n",
       "            <td>Columbus  </td> <td>79.25   </td> <td>0              </td> <td>169.3 </td> <td>90.05     </td>\n",
       "        </tr>\n",
       "        <tr>\n",
       "            <td>Dallas    </td> <td>176.48  </td> <td>280.72         </td> <td>270.06</td> <td>93.58     </td>\n",
       "        </tr>\n",
       "    </tbody>\n",
       "</table>\n",
       "<p>... (25 rows omitted)</p>"
      ],
      "text/plain": [
       "city       | concrete | mixed/composite | steel  | difference\n",
       "Atlanta    | 264.25   | 311.8           | 169.47 | 94.78\n",
       "Austin     | 208.15   | 0               | 93.6   | 114.55\n",
       "Baltimore  | 161.24   | 0               | 155.15 | 6.09001\n",
       "Boston     | 121.92   | 139             | 240.79 | 118.87\n",
       "Charlotte  | 265.48   | 239.7           | 179.23 | 86.25\n",
       "Chicago    | 423.22   | 306.94          | 442.14 | 18.92\n",
       "Cincinnati | 125      | 202.69          | 175    | 50\n",
       "Cleveland  | 125      | 288.65          | 215.8  | 90.8\n",
       "Columbus   | 79.25    | 0               | 169.3  | 90.05\n",
       "Dallas     | 176.48   | 280.72          | 270.06 | 93.58\n",
       "... (25 rows omitted)"
      ]
     },
     "execution_count": 12,
     "metadata": {},
     "output_type": "execute_result"
    }
   ],
   "source": [
    "sky_p = sky_p.with_column(\n",
    "    'difference', \n",
    "    abs(sky_p.column('steel') - sky_p.column('concrete'))\n",
    ")\n",
    "sky_p"
   ]
  },
  {
   "cell_type": "code",
   "execution_count": 13,
   "metadata": {},
   "outputs": [
    {
     "data": {
      "text/html": [
       "<table border=\"1\" class=\"dataframe\">\n",
       "    <thead>\n",
       "        <tr>\n",
       "            <th>city</th> <th>concrete</th> <th>mixed/composite</th> <th>steel</th> <th>difference</th>\n",
       "        </tr>\n",
       "    </thead>\n",
       "    <tbody>\n",
       "        <tr>\n",
       "            <td>Sunny Isles Beach</td> <td>196     </td> <td>0              </td> <td>0     </td> <td>196       </td>\n",
       "        </tr>\n",
       "        <tr>\n",
       "            <td>Las Vegas        </td> <td>350.22  </td> <td>195.68         </td> <td>164.6 </td> <td>185.62    </td>\n",
       "        </tr>\n",
       "        <tr>\n",
       "            <td>Miami Beach      </td> <td>170.39  </td> <td>0              </td> <td>0     </td> <td>170.39    </td>\n",
       "        </tr>\n",
       "        <tr>\n",
       "            <td>Pittsburgh       </td> <td>89.3    </td> <td>172            </td> <td>256.34</td> <td>167.04    </td>\n",
       "        </tr>\n",
       "        <tr>\n",
       "            <td>Los Angeles      </td> <td>145.7   </td> <td>118.26         </td> <td>310.29</td> <td>164.59    </td>\n",
       "        </tr>\n",
       "        <tr>\n",
       "            <td>Philadelphia     </td> <td>157.89  </td> <td>296.73         </td> <td>288.04</td> <td>130.15    </td>\n",
       "        </tr>\n",
       "        <tr>\n",
       "            <td>Boston           </td> <td>121.92  </td> <td>139            </td> <td>240.79</td> <td>118.87    </td>\n",
       "        </tr>\n",
       "        <tr>\n",
       "            <td>Austin           </td> <td>208.15  </td> <td>0              </td> <td>93.6  </td> <td>114.55    </td>\n",
       "        </tr>\n",
       "        <tr>\n",
       "            <td>Seattle          </td> <td>138.69  </td> <td>284.38         </td> <td>235.31</td> <td>96.62     </td>\n",
       "        </tr>\n",
       "        <tr>\n",
       "            <td>Atlanta          </td> <td>264.25  </td> <td>311.8          </td> <td>169.47</td> <td>94.78     </td>\n",
       "        </tr>\n",
       "    </tbody>\n",
       "</table>\n",
       "<p>... (25 rows omitted)</p>"
      ],
      "text/plain": [
       "city              | concrete | mixed/composite | steel  | difference\n",
       "Sunny Isles Beach | 196      | 0               | 0      | 196\n",
       "Las Vegas         | 350.22   | 195.68          | 164.6  | 185.62\n",
       "Miami Beach       | 170.39   | 0               | 0      | 170.39\n",
       "Pittsburgh        | 89.3     | 172             | 256.34 | 167.04\n",
       "Los Angeles       | 145.7    | 118.26          | 310.29 | 164.59\n",
       "Philadelphia      | 157.89   | 296.73          | 288.04 | 130.15\n",
       "Boston            | 121.92   | 139             | 240.79 | 118.87\n",
       "Austin            | 208.15   | 0               | 93.6   | 114.55\n",
       "Seattle           | 138.69   | 284.38          | 235.31 | 96.62\n",
       "Atlanta           | 264.25   | 311.8           | 169.47 | 94.78\n",
       "... (25 rows omitted)"
      ]
     },
     "execution_count": 13,
     "metadata": {},
     "output_type": "execute_result"
    }
   ],
   "source": [
    "sky_p.sort('difference', True)"
   ]
  },
  {
   "cell_type": "markdown",
   "metadata": {},
   "source": [
    "## Joins ##"
   ]
  },
  {
   "cell_type": "code",
   "execution_count": 14,
   "metadata": {},
   "outputs": [
    {
     "data": {
      "text/html": [
       "<table border=\"1\" class=\"dataframe\">\n",
       "    <thead>\n",
       "        <tr>\n",
       "            <th>Drinks</th> <th>Cafe</th> <th>Price</th>\n",
       "        </tr>\n",
       "    </thead>\n",
       "    <tbody>\n",
       "        <tr>\n",
       "            <td>Chai Tea</td> <td>Joe van Gogh</td> <td>4    </td>\n",
       "        </tr>\n",
       "        <tr>\n",
       "            <td>Espresso</td> <td>Monuts      </td> <td>2    </td>\n",
       "        </tr>\n",
       "        <tr>\n",
       "            <td>Latte   </td> <td>Monuts      </td> <td>3    </td>\n",
       "        </tr>\n",
       "        <tr>\n",
       "            <td>Espresso</td> <td>Cloche      </td> <td>2    </td>\n",
       "        </tr>\n",
       "    </tbody>\n",
       "</table>"
      ],
      "text/plain": [
       "Drinks   | Cafe         | Price\n",
       "Chai Tea | Joe van Gogh | 4\n",
       "Espresso | Monuts       | 2\n",
       "Latte    | Monuts       | 3\n",
       "Espresso | Cloche       | 2"
      ]
     },
     "execution_count": 14,
     "metadata": {},
     "output_type": "execute_result"
    }
   ],
   "source": [
    "drinks = Table().with_columns('Drinks', make_array(), 'Cafe', make_array(), 'Price', make_array())\n",
    "drinks = drinks.with_rows([\n",
    "    ['Chai Tea', 'Joe van Gogh', 4],\n",
    "    ['Espresso', 'Monuts',  2],\n",
    "    ['Latte',    'Monuts',  3],\n",
    "    ['Espresso', \"Cloche\",   2]\n",
    "])\n",
    "drinks"
   ]
  },
  {
   "cell_type": "code",
   "execution_count": 15,
   "metadata": {},
   "outputs": [
    {
     "data": {
      "text/html": [
       "<table border=\"1\" class=\"dataframe\">\n",
       "    <thead>\n",
       "        <tr>\n",
       "            <th>Coupon</th> <th>Location</th>\n",
       "        </tr>\n",
       "    </thead>\n",
       "    <tbody>\n",
       "        <tr>\n",
       "            <td>10    </td> <td>Joe van Gogh</td>\n",
       "        </tr>\n",
       "        <tr>\n",
       "            <td>20    </td> <td>Monuts      </td>\n",
       "        </tr>\n",
       "        <tr>\n",
       "            <td>5     </td> <td>Joe van Gogh</td>\n",
       "        </tr>\n",
       "    </tbody>\n",
       "</table>"
      ],
      "text/plain": [
       "Coupon | Location\n",
       "10     | Joe van Gogh\n",
       "20     | Monuts\n",
       "5      | Joe van Gogh"
      ]
     },
     "execution_count": 15,
     "metadata": {},
     "output_type": "execute_result"
    }
   ],
   "source": [
    "discounts = Table().with_columns(\n",
    "    'Coupon', make_array(10, 20, 5),\n",
    "    'Location', make_array('Joe van Gogh', 'Monuts', 'Joe van Gogh')\n",
    ")\n",
    "discounts"
   ]
  },
  {
   "cell_type": "code",
   "execution_count": 19,
   "metadata": {},
   "outputs": [
    {
     "data": {
      "text/html": [
       "<table border=\"1\" class=\"dataframe\">\n",
       "    <thead>\n",
       "        <tr>\n",
       "            <th>Cafe</th> <th>Drinks</th> <th>Price</th> <th>Coupon</th>\n",
       "        </tr>\n",
       "    </thead>\n",
       "    <tbody>\n",
       "        <tr>\n",
       "            <td>Joe van Gogh</td> <td>Chai Tea</td> <td>4    </td> <td>10    </td>\n",
       "        </tr>\n",
       "        <tr>\n",
       "            <td>Joe van Gogh</td> <td>Chai Tea</td> <td>4    </td> <td>5     </td>\n",
       "        </tr>\n",
       "        <tr>\n",
       "            <td>Monuts      </td> <td>Espresso</td> <td>2    </td> <td>20    </td>\n",
       "        </tr>\n",
       "        <tr>\n",
       "            <td>Monuts      </td> <td>Latte   </td> <td>3    </td> <td>20    </td>\n",
       "        </tr>\n",
       "    </tbody>\n",
       "</table>"
      ],
      "text/plain": [
       "Cafe         | Drinks   | Price | Coupon\n",
       "Joe van Gogh | Chai Tea | 4     | 10\n",
       "Joe van Gogh | Chai Tea | 4     | 5\n",
       "Monuts       | Espresso | 2     | 20\n",
       "Monuts       | Latte    | 3     | 20"
      ]
     },
     "execution_count": 19,
     "metadata": {},
     "output_type": "execute_result"
    }
   ],
   "source": [
    "combined = drinks.join('Cafe', discounts, 'Location')\n",
    "combined"
   ]
  },
  {
   "cell_type": "code",
   "execution_count": 20,
   "metadata": {},
   "outputs": [
    {
     "data": {
      "text/html": [
       "<table border=\"1\" class=\"dataframe\">\n",
       "    <thead>\n",
       "        <tr>\n",
       "            <th>Cafe</th> <th>Drinks</th> <th>Price</th> <th>Coupon</th> <th>Discounted Price</th>\n",
       "        </tr>\n",
       "    </thead>\n",
       "    <tbody>\n",
       "        <tr>\n",
       "            <td>Joe van Gogh</td> <td>Chai Tea</td> <td>4    </td> <td>10    </td> <td>3.6             </td>\n",
       "        </tr>\n",
       "        <tr>\n",
       "            <td>Joe van Gogh</td> <td>Chai Tea</td> <td>4    </td> <td>5     </td> <td>3.8             </td>\n",
       "        </tr>\n",
       "        <tr>\n",
       "            <td>Monuts      </td> <td>Espresso</td> <td>2    </td> <td>20    </td> <td>1.6             </td>\n",
       "        </tr>\n",
       "        <tr>\n",
       "            <td>Monuts      </td> <td>Latte   </td> <td>3    </td> <td>20    </td> <td>2.4             </td>\n",
       "        </tr>\n",
       "    </tbody>\n",
       "</table>"
      ],
      "text/plain": [
       "Cafe         | Drinks   | Price | Coupon | Discounted Price\n",
       "Joe van Gogh | Chai Tea | 4     | 10     | 3.6\n",
       "Joe van Gogh | Chai Tea | 4     | 5      | 3.8\n",
       "Monuts       | Espresso | 2     | 20     | 1.6\n",
       "Monuts       | Latte    | 3     | 20     | 2.4"
      ]
     },
     "execution_count": 20,
     "metadata": {},
     "output_type": "execute_result"
    }
   ],
   "source": [
    "discounted_frac = 1 - combined.column('Coupon') / 100\n",
    "\n",
    "combined.with_column(\n",
    "    'Discounted Price', \n",
    "    combined.column('Price') * discounted_frac\n",
    ")"
   ]
  },
  {
   "cell_type": "code",
   "execution_count": 21,
   "metadata": {},
   "outputs": [
    {
     "data": {
      "text/html": [
       "<table border=\"1\" class=\"dataframe\">\n",
       "    <thead>\n",
       "        <tr>\n",
       "            <th>Cafe</th> <th>Drinks</th> <th>Price</th> <th>Drinks_2</th> <th>Price_2</th>\n",
       "        </tr>\n",
       "    </thead>\n",
       "    <tbody>\n",
       "        <tr>\n",
       "            <td>Cloche      </td> <td>Espresso</td> <td>2    </td> <td>Espresso</td> <td>2      </td>\n",
       "        </tr>\n",
       "        <tr>\n",
       "            <td>Joe van Gogh</td> <td>Chai Tea</td> <td>4    </td> <td>Chai Tea</td> <td>4      </td>\n",
       "        </tr>\n",
       "        <tr>\n",
       "            <td>Monuts      </td> <td>Espresso</td> <td>2    </td> <td>Espresso</td> <td>2      </td>\n",
       "        </tr>\n",
       "        <tr>\n",
       "            <td>Monuts      </td> <td>Espresso</td> <td>2    </td> <td>Latte   </td> <td>3      </td>\n",
       "        </tr>\n",
       "        <tr>\n",
       "            <td>Monuts      </td> <td>Latte   </td> <td>3    </td> <td>Espresso</td> <td>2      </td>\n",
       "        </tr>\n",
       "        <tr>\n",
       "            <td>Monuts      </td> <td>Latte   </td> <td>3    </td> <td>Latte   </td> <td>3      </td>\n",
       "        </tr>\n",
       "    </tbody>\n",
       "</table>"
      ],
      "text/plain": [
       "Cafe         | Drinks   | Price | Drinks_2 | Price_2\n",
       "Cloche       | Espresso | 2     | Espresso | 2\n",
       "Joe van Gogh | Chai Tea | 4     | Chai Tea | 4\n",
       "Monuts       | Espresso | 2     | Espresso | 2\n",
       "Monuts       | Espresso | 2     | Latte    | 3\n",
       "Monuts       | Latte    | 3     | Espresso | 2\n",
       "Monuts       | Latte    | 3     | Latte    | 3"
      ]
     },
     "execution_count": 21,
     "metadata": {},
     "output_type": "execute_result"
    }
   ],
   "source": [
    "drinks.join('Cafe', drinks, 'Cafe')"
   ]
  },
  {
   "cell_type": "code",
   "execution_count": null,
   "metadata": {},
   "outputs": [],
   "source": []
  }
 ],
 "metadata": {
  "kernelspec": {
   "display_name": "Python 3 (ipykernel)",
   "language": "python",
   "name": "python3"
  },
  "language_info": {
   "codemirror_mode": {
    "name": "ipython",
    "version": 3
   },
   "file_extension": ".py",
   "mimetype": "text/x-python",
   "name": "python",
   "nbconvert_exporter": "python",
   "pygments_lexer": "ipython3",
   "version": "3.10.11"
  }
 },
 "nbformat": 4,
 "nbformat_minor": 4
}
