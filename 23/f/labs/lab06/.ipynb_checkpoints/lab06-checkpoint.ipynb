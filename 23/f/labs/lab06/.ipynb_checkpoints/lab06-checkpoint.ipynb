{
 "cells": [
  {
   "cell_type": "raw",
   "metadata": {},
   "source": [
    "# ASSIGNMENT CONFIG\n",
    "files:\n",
    "  - data/helicopters.csv"
   ]
  },
  {
   "cell_type": "markdown",
   "metadata": {},
   "source": [
    "# Run the cell below\n",
    "\n",
    "To run a code cell (i.e.; execute the python code inside a Jupyter notebook) you can click the play button on the ribbon underneath the name of the notebook. Before you begin click the \"Run cell\" button at the top that looks like ▶| or hold down `Shift` + `Return`."
   ]
  },
  {
   "cell_type": "markdown",
   "metadata": {
    "id": "YiZsTP5PjiLQ"
   },
   "source": [
    "## Lab 06: Helicopter Drop\n",
    "\n",
    "Welcome to Foundations of Data Science for High School! Throughout the course you will complete assignments like this one. You can't learn technical subjects without hands-on practice, so these assignments are an important part of the course.\n",
    "\n",
    "**Collaboration Policy:**\n",
    "\n",
    "Collaborating on labs is more than okay -- it's encouraged! You should rarely remain stuck for more than a few minutes on questions in labs, so ask a neighbor or an instructor for help. Explaining things is beneficial, too -- the best way to solidify your knowledge of a subject is to explain it. You should **not** _just_ copy/paste someone else's code, but rather work together to gain understanding of the task you need to complete. \n",
    "\n",
    "**Due Date:** \n",
    "\n",
    "## Today's Assignment\n",
    "\n",
    "In this lab we will explore a scenario that is suitable for A/B testing. A/B testing is a form of hypothesis testing that allows you to make comparisons between two distributions.\n",
    "\n",
    "For all problems that you must write our explanations and sentences for, you **must** provide your answer in the designated space. Also, throughout this lab please be sure to not re-assign variables throughout the notebook. For example, if you use `expected_proportion_correct` in your answer to one question, do not reassign it later on. Moreover, be mindful that functions that you write in earlier cells will need to be referenced to answer questions in later questions.\n",
    "\n",
    "Recommended reading:\n",
    "\n",
    "- [Assesing a Model](https://inferentialthinking.com/chapters/11/1/Assessing_a_Model.html#)\n",
    "\n",
    "- [Decisions and Uncertainty](https://inferentialthinking.com/chapters/11/3/Decisions_and_Uncertainty.html)\n",
    "\n",
    "- [Error Probabilities](https://inferentialthinking.com/chapters/11/4/Error_Probabilities.html#)\n",
    "\n",
    "- [A/B Testing](https://inferentialthinking.com/chapters/12/1/AB_Testing.html)\n",
    "\n",
    "First, set up the tests and imports by running the cell below."
   ]
  },
  {
   "cell_type": "code",
   "execution_count": 2,
   "metadata": {
    "id": "nttVFn1wjiLQ"
   },
   "outputs": [],
   "source": [
    "import numpy as np\n",
    "from datascience import *\n",
    "\n",
    "import matplotlib.pyplot as plt\n",
    "%matplotlib inline\n",
    "plt.style.use('fivethirtyeight')"
   ]
  },
  {
   "cell_type": "markdown",
   "metadata": {
    "id": "4AzlG2mvjiLR"
   },
   "source": [
    "## 1. A/B Testing\n",
    "\n",
    "You'll almost never be explicitly asked to perform an A/B test. Make sure you can identify situations where the test is appropriate and know how to correctly implement each step."
   ]
  },
  {
   "cell_type": "raw",
   "metadata": {},
   "source": [
    "# BEGIN QUESTION\n",
    "name: q1"
   ]
  },
  {
   "cell_type": "markdown",
   "metadata": {},
   "source": [
    "**Question 1.** The following statements are the unordered steps of an A/B hypothesis test:\n",
    "\n",
    "1. Choose a test statistic (typically the difference in means between two categories)\n",
    "\n",
    "2. Shuffle the labels of the original sample, find your simulated test statistic, and repeat many times\n",
    "\n",
    "3. Find the value of the observed test statistic\n",
    "\n",
    "4. Calculate the p-value based off your observed and simulated test statistics\n",
    "\n",
    "5. Define a null and alternate model\n",
    "\n",
    "6. Use the p-value and p-value cutoff to draw a conclusion about the null hypothesis\n",
    "\n",
    "Make an array called `ab_test_order` that contains the correct order of an A/B test, where the first item of the array is the first step of an A/B test and the last item of the array is the last step of an A/B test\n"
   ]
  },
  {
   "cell_type": "raw",
   "metadata": {},
   "source": [
    "# BEGIN SOLUTION"
   ]
  },
  {
   "cell_type": "code",
   "execution_count": 3,
   "metadata": {
    "id": "-Xx3p8tejiLS"
   },
   "outputs": [],
   "source": [
    "ab_test_order = make_array(5, 1, 3, 2, 4, 6) # SOLUTION"
   ]
  },
  {
   "cell_type": "raw",
   "metadata": {},
   "source": [
    "# END SOLUTION"
   ]
  },
  {
   "cell_type": "raw",
   "metadata": {},
   "source": [
    "# BEGIN TESTS"
   ]
  },
  {
   "cell_type": "code",
   "execution_count": 4,
   "metadata": {
    "id": "4SMjwDBJjiLS",
    "outputId": "613e02f4-6591-4b4c-b472-d718fbf6107e"
   },
   "outputs": [
    {
     "data": {
      "text/plain": [
       "6"
      ]
     },
     "execution_count": 4,
     "metadata": {},
     "output_type": "execute_result"
    }
   ],
   "source": [
    "len(ab_test_order)"
   ]
  },
  {
   "cell_type": "code",
   "execution_count": 5,
   "metadata": {},
   "outputs": [
    {
     "data": {
      "text/plain": [
       "True"
      ]
     },
     "execution_count": 5,
     "metadata": {},
     "output_type": "execute_result"
    }
   ],
   "source": [
    "isinstance(ab_test_order, np.ndarray)"
   ]
  },
  {
   "cell_type": "code",
   "execution_count": 6,
   "metadata": {
    "id": "ZmhD81rAjiLT",
    "outputId": "5271fbe0-2c0a-402b-eb47-b02f234e7112"
   },
   "outputs": [
    {
     "data": {
      "text/plain": [
       "True"
      ]
     },
     "execution_count": 6,
     "metadata": {},
     "output_type": "execute_result"
    }
   ],
   "source": [
    "correct_order = make_array(5, 1, 3, 2, 4, 6)\n",
    "all(correct_order == ab_test_order)"
   ]
  },
  {
   "cell_type": "raw",
   "metadata": {},
   "source": [
    "# END TESTS"
   ]
  },
  {
   "cell_type": "raw",
   "metadata": {},
   "source": [
    "# END QUESTION"
   ]
  },
  {
   "cell_type": "raw",
   "metadata": {},
   "source": [
    "# BEGIN QUESTION\n",
    "name: q2\n",
    "manual: true"
   ]
  },
  {
   "cell_type": "markdown",
   "metadata": {},
   "source": [
    "**Question 2.** If the null hypothesis of an A/B test is correct, should the order of labels affect the differences in means between each group?\n"
   ]
  },
  {
   "cell_type": "raw",
   "metadata": {},
   "source": [
    "# BEGIN SOLUTION"
   ]
  },
  {
   "cell_type": "markdown",
   "metadata": {
    "id": "PH0XzfPljiLT"
   },
   "source": [
    "**SOLUTION:** Under the null model, there should be no statistically significant difference between the grouped means."
   ]
  },
  {
   "cell_type": "raw",
   "metadata": {},
   "source": [
    "# END SOLUTION"
   ]
  },
  {
   "cell_type": "raw",
   "metadata": {},
   "source": [
    "# END QUESTION"
   ]
  },
  {
   "cell_type": "raw",
   "metadata": {},
   "source": [
    "# BEGIN QUESTION\n",
    "name: q3\n",
    "manual: true"
   ]
  },
  {
   "cell_type": "markdown",
   "metadata": {},
   "source": [
    "**Question 3.** Why do we shuffle labels in an A/B test? \n"
   ]
  },
  {
   "cell_type": "raw",
   "metadata": {},
   "source": [
    "# BEGIN SOLUTION"
   ]
  },
  {
   "cell_type": "markdown",
   "metadata": {
    "id": "IwaW-s8gjiLU"
   },
   "source": [
    "**SOLUTION:** We shuffle labels as a way to resample the original data, and understand the baseline differences between groups in the data."
   ]
  },
  {
   "cell_type": "raw",
   "metadata": {},
   "source": [
    "# END SOLUTION"
   ]
  },
  {
   "cell_type": "raw",
   "metadata": {},
   "source": [
    "# END QUESTION"
   ]
  },
  {
   "cell_type": "markdown",
   "metadata": {
    "id": "R412SzTDjiLU"
   },
   "source": [
    "## 2. Paper Helicopters\n",
    "\n",
    "The Paper Helicopter Experiment (https://www.paperhelicopterexperiment.com/) provides different templates for constructing paper helicopters that can be dropped. The designs can be modified to create helicopters with different dimensions for the wings, body, weighting, and more. In this lab you'll investigate whether the length of the rotor and the amount of weight attached to helicopter results in a different in the time it takes to fall from a 3rd floor stairwell. Do conduct your analysis, you'll use an A/B test.\n",
    "\n",
    "### The Data\n",
    "\n",
    "The data was collected by a group of NCSSM Online students during online weekend held October 2nd, 2021. Five groups of students dropped 143 paper helicopters in total. There were 4 unique configurations that were assigned to the groups, one per group.\n",
    "\n",
    "1. **The Default:** Full length (long) rotors, unweighted body\n",
    "\n",
    "2. **The Short:** Short rotors, unweighted body\n",
    "\n",
    "3. **The Heavy:** Long rotors, weighted body\n",
    "\n",
    "4. **The Short Heavy:** Short rotors, weighted body\n",
    "\n",
    "The following features were recorded for each helicopter dropped:\n",
    "* `Rotor`: Long or Short (string). Indicates if the helicopter had full length or shortened rotors.\n",
    "* `Weight`: Weighted or Unweighted (string). Indicates if the helicopter had a weighted (3 paperclips) or unweighted body.\n",
    "* `Team`: 1, 2, 3, 4, or 5 (int). Indicates which team\n",
    "* `Location`: Side A or Side B (string). Indicates which side of the building the helicopters were dropped from.\n",
    "* `Obstruction`: True or False (Boolean). Indicates if the helicopter hit the stairwell or other object on the way down.\n",
    "* `Time`: (Float). Time, measured in seconds, it took for the helicopter to hit the ground after being released.\n",
    "\n",
    "Run the following cell to load the data in as the table named `copters`."
   ]
  },
  {
   "cell_type": "code",
   "execution_count": 7,
   "metadata": {
    "id": "8FqH40pyjiLV",
    "outputId": "b0d5e91c-ec07-491c-e8cc-4198eac5d6dd"
   },
   "outputs": [
    {
     "data": {
      "text/html": [
       "<table border=\"1\" class=\"dataframe\">\n",
       "    <thead>\n",
       "        <tr>\n",
       "            <th>Rotor</th> <th>Weight</th> <th>Team</th> <th>Location</th> <th>Obstruction</th> <th>Time</th>\n",
       "        </tr>\n",
       "    </thead>\n",
       "    <tbody>\n",
       "        <tr>\n",
       "            <td>Long </td> <td>Unweighted</td> <td>1   </td> <td>Side A  </td> <td>False      </td> <td>4.93</td>\n",
       "        </tr>\n",
       "        <tr>\n",
       "            <td>Long </td> <td>Unweighted</td> <td>1   </td> <td>Side A  </td> <td>False      </td> <td>4.07</td>\n",
       "        </tr>\n",
       "        <tr>\n",
       "            <td>Long </td> <td>Unweighted</td> <td>1   </td> <td>Side A  </td> <td>True       </td> <td>1.17</td>\n",
       "        </tr>\n",
       "        <tr>\n",
       "            <td>Long </td> <td>Unweighted</td> <td>1   </td> <td>Side A  </td> <td>True       </td> <td>4.91</td>\n",
       "        </tr>\n",
       "        <tr>\n",
       "            <td>Long </td> <td>Unweighted</td> <td>1   </td> <td>Side A  </td> <td>True       </td> <td>4.4 </td>\n",
       "        </tr>\n",
       "        <tr>\n",
       "            <td>Long </td> <td>Unweighted</td> <td>1   </td> <td>Side A  </td> <td>False      </td> <td>5.41</td>\n",
       "        </tr>\n",
       "        <tr>\n",
       "            <td>Long </td> <td>Unweighted</td> <td>1   </td> <td>Side A  </td> <td>False      </td> <td>4.99</td>\n",
       "        </tr>\n",
       "        <tr>\n",
       "            <td>Long </td> <td>Unweighted</td> <td>1   </td> <td>Side A  </td> <td>False      </td> <td>5.8 </td>\n",
       "        </tr>\n",
       "        <tr>\n",
       "            <td>Long </td> <td>Unweighted</td> <td>1   </td> <td>Side A  </td> <td>False      </td> <td>5.94</td>\n",
       "        </tr>\n",
       "        <tr>\n",
       "            <td>Long </td> <td>Unweighted</td> <td>1   </td> <td>Side A  </td> <td>False      </td> <td>5.14</td>\n",
       "        </tr>\n",
       "    </tbody>\n",
       "</table>\n",
       "<p>... (133 rows omitted)</p>"
      ],
      "text/plain": [
       "Rotor | Weight     | Team | Location | Obstruction | Time\n",
       "Long  | Unweighted | 1    | Side A   | False       | 4.93\n",
       "Long  | Unweighted | 1    | Side A   | False       | 4.07\n",
       "Long  | Unweighted | 1    | Side A   | True        | 1.17\n",
       "Long  | Unweighted | 1    | Side A   | True        | 4.91\n",
       "Long  | Unweighted | 1    | Side A   | True        | 4.4\n",
       "Long  | Unweighted | 1    | Side A   | False       | 5.41\n",
       "Long  | Unweighted | 1    | Side A   | False       | 4.99\n",
       "Long  | Unweighted | 1    | Side A   | False       | 5.8\n",
       "Long  | Unweighted | 1    | Side A   | False       | 5.94\n",
       "Long  | Unweighted | 1    | Side A   | False       | 5.14\n",
       "... (133 rows omitted)"
      ]
     },
     "execution_count": 7,
     "metadata": {},
     "output_type": "execute_result"
    }
   ],
   "source": [
    "copters = Table.read_table('data/helicopters.csv')\n",
    "copters"
   ]
  },
  {
   "cell_type": "markdown",
   "metadata": {
    "id": "2GXPzuq8jiLV"
   },
   "source": [
    "Due to variation in the construction, weather, and randomness of the universe not every drop for each configuration was identical. Let's explore the data a bit to see how the drop times varied."
   ]
  },
  {
   "cell_type": "raw",
   "metadata": {},
   "source": [
    "# BEGIN QUESTION\n",
    "name: q4"
   ]
  },
  {
   "cell_type": "markdown",
   "metadata": {},
   "source": [
    "**Question 4.** Let's start by cleaning the data a little. This dataset has several measurements taken where the helicopter hit the stairwell, a nearby building, or some other obstruction that impacted the fall time. These results should be discarded since they wouldn't be an accurate reflection of what we're trying to measure.\n",
    "\n",
    "Create a new table called `helicopters` that only contains the rows of `copters` that correspond to a helicopter that did not hit an obstruction during the fall.\n"
   ]
  },
  {
   "cell_type": "raw",
   "metadata": {},
   "source": [
    "# BEGIN SOLUTION"
   ]
  },
  {
   "cell_type": "code",
   "execution_count": 8,
   "metadata": {
    "id": "Ql8YsfvXjiLW",
    "outputId": "aa265d87-ca7d-4002-cf65-9db0874c3011"
   },
   "outputs": [
    {
     "data": {
      "text/html": [
       "<table border=\"1\" class=\"dataframe\">\n",
       "    <thead>\n",
       "        <tr>\n",
       "            <th>Rotor</th> <th>Weight</th> <th>Team</th> <th>Location</th> <th>Obstruction</th> <th>Time</th>\n",
       "        </tr>\n",
       "    </thead>\n",
       "    <tbody>\n",
       "        <tr>\n",
       "            <td>Long </td> <td>Unweighted</td> <td>1   </td> <td>Side A  </td> <td>False      </td> <td>4.93</td>\n",
       "        </tr>\n",
       "        <tr>\n",
       "            <td>Long </td> <td>Unweighted</td> <td>1   </td> <td>Side A  </td> <td>False      </td> <td>4.07</td>\n",
       "        </tr>\n",
       "        <tr>\n",
       "            <td>Long </td> <td>Unweighted</td> <td>1   </td> <td>Side A  </td> <td>False      </td> <td>5.41</td>\n",
       "        </tr>\n",
       "        <tr>\n",
       "            <td>Long </td> <td>Unweighted</td> <td>1   </td> <td>Side A  </td> <td>False      </td> <td>4.99</td>\n",
       "        </tr>\n",
       "        <tr>\n",
       "            <td>Long </td> <td>Unweighted</td> <td>1   </td> <td>Side A  </td> <td>False      </td> <td>5.8 </td>\n",
       "        </tr>\n",
       "        <tr>\n",
       "            <td>Long </td> <td>Unweighted</td> <td>1   </td> <td>Side A  </td> <td>False      </td> <td>5.94</td>\n",
       "        </tr>\n",
       "        <tr>\n",
       "            <td>Long </td> <td>Unweighted</td> <td>1   </td> <td>Side A  </td> <td>False      </td> <td>5.14</td>\n",
       "        </tr>\n",
       "        <tr>\n",
       "            <td>Long </td> <td>Unweighted</td> <td>1   </td> <td>Side A  </td> <td>False      </td> <td>5.53</td>\n",
       "        </tr>\n",
       "        <tr>\n",
       "            <td>Long </td> <td>Unweighted</td> <td>1   </td> <td>Side A  </td> <td>False      </td> <td>6.3 </td>\n",
       "        </tr>\n",
       "        <tr>\n",
       "            <td>Short</td> <td>Weighted  </td> <td>2   </td> <td>Side A  </td> <td>False      </td> <td>3.41</td>\n",
       "        </tr>\n",
       "    </tbody>\n",
       "</table>\n",
       "<p>... (120 rows omitted)</p>"
      ],
      "text/plain": [
       "Rotor | Weight     | Team | Location | Obstruction | Time\n",
       "Long  | Unweighted | 1    | Side A   | False       | 4.93\n",
       "Long  | Unweighted | 1    | Side A   | False       | 4.07\n",
       "Long  | Unweighted | 1    | Side A   | False       | 5.41\n",
       "Long  | Unweighted | 1    | Side A   | False       | 4.99\n",
       "Long  | Unweighted | 1    | Side A   | False       | 5.8\n",
       "Long  | Unweighted | 1    | Side A   | False       | 5.94\n",
       "Long  | Unweighted | 1    | Side A   | False       | 5.14\n",
       "Long  | Unweighted | 1    | Side A   | False       | 5.53\n",
       "Long  | Unweighted | 1    | Side A   | False       | 6.3\n",
       "Short | Weighted   | 2    | Side A   | False       | 3.41\n",
       "... (120 rows omitted)"
      ]
     },
     "execution_count": 8,
     "metadata": {},
     "output_type": "execute_result"
    }
   ],
   "source": [
    "helicopters = copters.where('Obstruction', False) # SOLUTION\n",
    "helicopters"
   ]
  },
  {
   "cell_type": "raw",
   "metadata": {},
   "source": [
    "# END SOLUTION"
   ]
  },
  {
   "cell_type": "raw",
   "metadata": {},
   "source": [
    "# BEGIN TESTS"
   ]
  },
  {
   "cell_type": "code",
   "execution_count": 9,
   "metadata": {
    "id": "7u2UG2PDjiLW",
    "outputId": "02a07d59-3a56-4d4a-9936-dae4e1cfe4c6"
   },
   "outputs": [
    {
     "data": {
      "text/plain": [
       "130"
      ]
     },
     "execution_count": 9,
     "metadata": {},
     "output_type": "execute_result"
    }
   ],
   "source": [
    "helicopters.num_rows"
   ]
  },
  {
   "cell_type": "code",
   "execution_count": 10,
   "metadata": {
    "id": "9xwO3SYojiLX",
    "outputId": "73ffb44c-3e5b-4da4-db7c-b0aecde76b38"
   },
   "outputs": [
    {
     "data": {
      "text/plain": [
       "True"
      ]
     },
     "execution_count": 10,
     "metadata": {},
     "output_type": "execute_result"
    }
   ],
   "source": [
    "all(helicopters.column('Obstruction') == False)"
   ]
  },
  {
   "cell_type": "raw",
   "metadata": {},
   "source": [
    "# END TESTS"
   ]
  },
  {
   "cell_type": "raw",
   "metadata": {},
   "source": [
    "# END QUESTION"
   ]
  },
  {
   "cell_type": "raw",
   "metadata": {},
   "source": [
    "# BEGIN QUESTION\n",
    "name: q5\n",
    "manual: true"
   ]
  },
  {
   "cell_type": "markdown",
   "metadata": {},
   "source": [
    "**Question 5.** Suppose you're interested in determining how the rotor length might impact fall time. Start by creating a histogram that displays the distribution of times for helicopters with long rotors. Use the provided bins stored to `my_bins`.\n"
   ]
  },
  {
   "cell_type": "raw",
   "metadata": {},
   "source": [
    "# BEGIN SOLUTION"
   ]
  },
  {
   "cell_type": "code",
   "execution_count": 11,
   "metadata": {
    "id": "_H35GsSZjiLY",
    "outputId": "d52df0f9-d9cd-4501-a200-5894e80bc327"
   },
   "outputs": [
    {
     "data": {
      "image/png": "[encoded data removed]",
      "text/plain": [
       "<Figure size 600x400 with 1 Axes>"
      ]
     },
     "metadata": {},
     "output_type": "display_data"
    }
   ],
   "source": [
    "my_bins = np.arange(2, 9.5, 0.5)\n",
    "helicopters.where('Rotor', 'Long').hist('Time', bins=my_bins ) # SOLUTION"
   ]
  },
  {
   "cell_type": "raw",
   "metadata": {},
   "source": [
    "# END SOLUTION"
   ]
  },
  {
   "cell_type": "raw",
   "metadata": {},
   "source": [
    "# END QUESTION"
   ]
  },
  {
   "cell_type": "raw",
   "metadata": {},
   "source": [
    "# BEGIN QUESTION\n",
    "name: q6\n",
    "manual: true"
   ]
  },
  {
   "cell_type": "markdown",
   "metadata": {},
   "source": [
    "**Question 6.** Now, construct a histogram that shows the distribution of times for only helicopters with short rotors. Again, use the provided bins.\n"
   ]
  },
  {
   "cell_type": "raw",
   "metadata": {},
   "source": [
    "# BEGIN SOLUTION"
   ]
  },
  {
   "cell_type": "code",
   "execution_count": 12,
   "metadata": {
    "id": "twqbnUcSjiLY",
    "outputId": "a4eb7b63-c48b-444c-c8fc-c5bade6cc4dd"
   },
   "outputs": [
    {
     "data": {
      "image/png": "[encoded data removed]",
      "text/plain": [
       "<Figure size 600x400 with 1 Axes>"
      ]
     },
     "metadata": {},
     "output_type": "display_data"
    }
   ],
   "source": [
    "my_bins = np.arange(2, 9.5, 0.5)\n",
    "helicopters.where('Rotor', 'Short').hist('Time', bins=my_bins ) # SOLUTION"
   ]
  },
  {
   "cell_type": "raw",
   "metadata": {},
   "source": [
    "# END SOLUTION"
   ]
  },
  {
   "cell_type": "raw",
   "metadata": {},
   "source": [
    "# END QUESTION"
   ]
  },
  {
   "cell_type": "markdown",
   "metadata": {
    "id": "OFzrnxttjiLY"
   },
   "source": [
    "It can be difficult sometimes to compare two histograms when they are on separate graphs. However, by providing the argument `group` to the `.hist()` method with the label (string) for a column you wish to group by, and it will produce a histogram for each unique group.\n",
    "\n",
    "For example, `table.hist('col_label', bins=your_bins, group='feature')` would produce a histogram for each unique group found in the `feature` column of `table`, using the numerical data in the column labeled `col` label.\n",
    "\n",
    "Running the cell below will create two histograms, one for each group as determined by the values in the `Rotor` column."
   ]
  },
  {
   "cell_type": "code",
   "execution_count": 13,
   "metadata": {
    "id": "1hK-M0I8jiLY",
    "outputId": "0019db80-d8f4-475d-dae2-18bbb9e53655"
   },
   "outputs": [
    {
     "data": {
      "image/png": "[encoded data removed]",
      "text/plain": [
       "<Figure size 600x400 with 1 Axes>"
      ]
     },
     "metadata": {},
     "output_type": "display_data"
    }
   ],
   "source": [
    "my_bins = np.arange(2, 9.5, 0.5)\n",
    "helicopters.hist('Time', bins = my_bins, group = \"Rotor\" )"
   ]
  },
  {
   "cell_type": "markdown",
   "metadata": {
    "id": "3oNJjzVZjiLZ"
   },
   "source": [
    "You can see it's much easier to compare these two distributions now that they're on the same scale and set of axes."
   ]
  },
  {
   "cell_type": "markdown",
   "metadata": {
    "id": "9ppNQMx4jiLZ"
   },
   "source": [
    "## 3. The Rotor Question\n",
    "\n",
    "You might now be wondering if there is a difference between the fall times of helicopters with long (full length) vs. short rotors. It certainly appears that the distributions might be different than each other. We'll use our data to attempt to draw a conclusion."
   ]
  },
  {
   "cell_type": "raw",
   "metadata": {},
   "source": [
    "# BEGIN QUESTION\n",
    "name: q7\n",
    "manual: true"
   ]
  },
  {
   "cell_type": "markdown",
   "metadata": {},
   "source": [
    "**Question 7.** We want to know whether shortening the rotor length **causes** a change in the fall time.  \n",
    "\n",
    "Why is it not sufficient to compare fall times of the helicopters with short rotors and those with long rotors?\n"
   ]
  },
  {
   "cell_type": "raw",
   "metadata": {},
   "source": [
    "# BEGIN SOLUTION"
   ]
  },
  {
   "cell_type": "markdown",
   "metadata": {
    "id": "iN0pfe3UjiLZ"
   },
   "source": [
    "**SOLUTION:** We didn't run a randomized controlled experiment, so we may be misled by confounding factors or reverse causation."
   ]
  },
  {
   "cell_type": "raw",
   "metadata": {},
   "source": [
    "# END SOLUTION"
   ]
  },
  {
   "cell_type": "raw",
   "metadata": {},
   "source": [
    "# END QUESTION"
   ]
  },
  {
   "cell_type": "raw",
   "metadata": {},
   "source": [
    "# BEGIN QUESTION\n",
    "name: q8\n",
    "manual: true"
   ]
  },
  {
   "cell_type": "markdown",
   "metadata": {},
   "source": [
    "**Question 8.** Why is an A/B test appropriate for this situation? What would you use as the \"A\" group (the control group) and which group is the \"B\" group (the treatment group)?\n"
   ]
  },
  {
   "cell_type": "raw",
   "metadata": {},
   "source": [
    "# BEGIN SOLUTION"
   ]
  },
  {
   "cell_type": "markdown",
   "metadata": {
    "id": "DoOjzwTrjiLa"
   },
   "source": [
    "**SOLUTION:** An A/B test is appropriate because we are comparing 2 distributions of numerical data. The \"A\" group is full length rotors. The \"B\" group is the short rotors. "
   ]
  },
  {
   "cell_type": "raw",
   "metadata": {},
   "source": [
    "# END SOLUTION"
   ]
  },
  {
   "cell_type": "raw",
   "metadata": {},
   "source": [
    "# END QUESTION"
   ]
  },
  {
   "cell_type": "raw",
   "metadata": {},
   "source": [
    "# BEGIN QUESTION\n",
    "name: q9"
   ]
  },
  {
   "cell_type": "markdown",
   "metadata": {},
   "source": [
    "**Question 9.**  Create a table `time_means` that contains the average fall time for the full length rotor helicopters and the shortened rotor helicopters. It should have two columns: one indicating the rotor length, and one that contains the average fall time for each group.\n",
    "\n",
    "**Hint:** Use a combination of `.select()` and `.group()` to make short work of this.\n"
   ]
  },
  {
   "cell_type": "raw",
   "metadata": {},
   "source": [
    "# BEGIN SOLUTION"
   ]
  },
  {
   "cell_type": "code",
   "execution_count": 14,
   "metadata": {
    "id": "lH4WnQ-SjiLa",
    "outputId": "4dadc236-3cc1-4028-fa76-5bcd7612528d"
   },
   "outputs": [
    {
     "data": {
      "text/html": [
       "<table border=\"1\" class=\"dataframe\">\n",
       "    <thead>\n",
       "        <tr>\n",
       "            <th>Rotor</th> <th>Time average</th>\n",
       "        </tr>\n",
       "    </thead>\n",
       "    <tbody>\n",
       "        <tr>\n",
       "            <td>Long </td> <td>5.61067     </td>\n",
       "        </tr>\n",
       "        <tr>\n",
       "            <td>Short</td> <td>3.96364     </td>\n",
       "        </tr>\n",
       "    </tbody>\n",
       "</table>"
      ],
      "text/plain": [
       "Rotor | Time average\n",
       "Long  | 5.61067\n",
       "Short | 3.96364"
      ]
     },
     "execution_count": 14,
     "metadata": {},
     "output_type": "execute_result"
    }
   ],
   "source": [
    "time_means = helicopters.select(\"Rotor\", \"Time\").group('Rotor', np.average) # SOLUTION\n",
    "time_means"
   ]
  },
  {
   "cell_type": "raw",
   "metadata": {},
   "source": [
    "# END SOLUTION"
   ]
  },
  {
   "cell_type": "raw",
   "metadata": {},
   "source": [
    "# BEGIN TESTS"
   ]
  },
  {
   "cell_type": "code",
   "execution_count": 15,
   "metadata": {
    "id": "A9HwbF-JjiLa",
    "outputId": "095c9225-cd38-4936-96e9-9557523b737a"
   },
   "outputs": [
    {
     "data": {
      "text/plain": [
       "2"
      ]
     },
     "execution_count": 15,
     "metadata": {},
     "output_type": "execute_result"
    }
   ],
   "source": [
    "time_means.num_rows"
   ]
  },
  {
   "cell_type": "code",
   "execution_count": 16,
   "metadata": {
    "id": "Mhv5wXgXjiLa",
    "outputId": "9b414b71-b5d4-4a83-9fc4-9b4605355773"
   },
   "outputs": [
    {
     "data": {
      "text/plain": [
       "5.610666666666667"
      ]
     },
     "execution_count": 16,
     "metadata": {},
     "output_type": "execute_result"
    }
   ],
   "source": [
    "time_means.where(\"Rotor\", \"Long\").column(1).item(0)"
   ]
  },
  {
   "cell_type": "code",
   "execution_count": 17,
   "metadata": {
    "id": "4OznldOgjiLb",
    "outputId": "1797941e-559f-4adc-95f5-333a4298df5c"
   },
   "outputs": [
    {
     "data": {
      "text/plain": [
       "3.963636363636364"
      ]
     },
     "execution_count": 17,
     "metadata": {},
     "output_type": "execute_result"
    }
   ],
   "source": [
    "time_means.where(\"Rotor\", \"Short\").column(1).item(0)"
   ]
  },
  {
   "cell_type": "raw",
   "metadata": {},
   "source": [
    "# END TESTS"
   ]
  },
  {
   "cell_type": "raw",
   "metadata": {},
   "source": [
    "# END QUESTION"
   ]
  },
  {
   "cell_type": "raw",
   "metadata": {},
   "source": [
    "# BEGIN QUESTION\n",
    "name: q10\n",
    "manual: true"
   ]
  },
  {
   "cell_type": "markdown",
   "metadata": {},
   "source": [
    "**Question 10.** We want to figure out if there is a difference between the distribution of fall times for full length and shortened rotor helicopters. Specifically, we want to test if fall times were longer for longer rotor helicopters than they were for shorter rotor helicopters. \n",
    "\n",
    "What should the test statistic be? How does it help us differentiate whether the data supports the null and alternative? \n",
    "\n",
    "Confirm your answer with your instructor (or a classmate who already has) before moving on.\n",
    "\n",
    "**Note:** General statements like \"the test statistic will help us determine if there is a difference\" or \" This will help us differentiate where the data supports the null and alternative\", will be considered incomplete responses.\n"
   ]
  },
  {
   "cell_type": "raw",
   "metadata": {},
   "source": [
    "# BEGIN SOLUTION"
   ]
  },
  {
   "cell_type": "markdown",
   "metadata": {
    "id": "XdlhfpZYjiLb"
   },
   "source": [
    "**SOLUTION:** We want to find the difference between the mean fall times. Low values of this difference support the null. High values of this difference support the alternative."
   ]
  },
  {
   "cell_type": "raw",
   "metadata": {},
   "source": [
    "# END SOLUTION"
   ]
  },
  {
   "cell_type": "raw",
   "metadata": {},
   "source": [
    "# END QUESTION"
   ]
  },
  {
   "cell_type": "raw",
   "metadata": {},
   "source": [
    "# BEGIN QUESTION\n",
    "name: q11"
   ]
  },
  {
   "cell_type": "markdown",
   "metadata": {},
   "source": [
    "**Question 11.** Calculate the test statistic for our observed data using the `time_means` table. Set `observed_difference` to the value you compute. \n"
   ]
  },
  {
   "cell_type": "raw",
   "metadata": {},
   "source": [
    "# BEGIN SOLUTION"
   ]
  },
  {
   "cell_type": "code",
   "execution_count": 18,
   "metadata": {
    "id": "OrVLvc6VjiLb",
    "outputId": "5ea1a20b-a6aa-41b8-d54e-5796200766d3"
   },
   "outputs": [
    {
     "data": {
      "text/plain": [
       "1.647030303030303"
      ]
     },
     "execution_count": 18,
     "metadata": {},
     "output_type": "execute_result"
    }
   ],
   "source": [
    "# BEGIN SOLUTION NO PROMPT\n",
    "means = time_means.column(1)\n",
    "# END SOLUTION\n",
    "observed_difference = means.item(0) - means.item(1) # SOLUTION\n",
    "observed_difference"
   ]
  },
  {
   "cell_type": "raw",
   "metadata": {},
   "source": [
    "# END SOLUTION"
   ]
  },
  {
   "cell_type": "raw",
   "metadata": {},
   "source": [
    "# BEGIN TESTS"
   ]
  },
  {
   "cell_type": "code",
   "execution_count": 19,
   "metadata": {
    "id": "Zn7UdAPfjiLb",
    "outputId": "6ad2e024-f3b5-43be-dd1c-040567e5ac8f"
   },
   "outputs": [
    {
     "data": {
      "text/plain": [
       "True"
      ]
     },
     "execution_count": 19,
     "metadata": {},
     "output_type": "execute_result"
    }
   ],
   "source": [
    "isinstance(observed_difference, float)"
   ]
  },
  {
   "cell_type": "code",
   "execution_count": 20,
   "metadata": {
    "id": "Vbl0YQ4ejiLc",
    "outputId": "60e6543a-1bc9-4fb0-8a6c-89d84d0c026a"
   },
   "outputs": [
    {
     "data": {
      "text/plain": [
       "1.647"
      ]
     },
     "execution_count": 20,
     "metadata": {},
     "output_type": "execute_result"
    }
   ],
   "source": [
    "round(observed_difference, 3)"
   ]
  },
  {
   "cell_type": "raw",
   "metadata": {},
   "source": [
    "# END TESTS"
   ]
  },
  {
   "cell_type": "raw",
   "metadata": {},
   "source": [
    "# END QUESTION"
   ]
  },
  {
   "cell_type": "raw",
   "metadata": {},
   "source": [
    "# BEGIN QUESTION\n",
    "name: q12"
   ]
  },
  {
   "cell_type": "markdown",
   "metadata": {},
   "source": [
    "**Question 12.** To perform an A/B test, we'll need to compute similar statistics for our many simulations we'll run. Writing a function which returns the statistic will be a great way to save time. Write a function named `find_test_stat` which takes in the arguments `table`, `labels_col`, and `values_col` that calculates the test statistic for this problem. The `table` passed into this function will be a permutation of our original table and structured the same way. `labels_col` will be passed as a string that specifies which column in the table contains the label you'll be grouping by. `values_col` specifies which column contains the values that you'll be using to compute the test statistic.\n",
    "\n",
    "When you've written this function, you can pass it any table and the two specified labels and it will compute a test statistic for an A/B test, not just for this problem, but any problem! A very handy function to keep around. \n",
    "\n",
    "Running `find_test_stat(helicopters, \"Rotor\", \"Time\")` should return the exact same value your code from the previous question computed: the difference between of average values in the \"Time column between the groups determined by \"Rotor\" column in the `helicopters` table. However, you should also be able to run `find_test_stat(helicopters, \"Weight\", \"Time\")` to compute the difference between of average values in the **\"Weight\"** column between the groups determined by \"Rotor\" column in the `helicopters` table just as easily. \n"
   ]
  },
  {
   "cell_type": "raw",
   "metadata": {},
   "source": [
    "# BEGIN SOLUTION"
   ]
  },
  {
   "cell_type": "code",
   "execution_count": 21,
   "metadata": {
    "id": "pX58mO0VjiLc",
    "outputId": "24cbcc47-0199-4a7a-e3f9-4f147a50e6d6"
   },
   "outputs": [
    {
     "data": {
      "text/plain": [
       "1.647030303030303"
      ]
     },
     "execution_count": 21,
     "metadata": {},
     "output_type": "execute_result"
    }
   ],
   "source": [
    "def find_test_stat(table, labels_col, values_col):\n",
    "    '''Takes in a table, a column of labels, and the column of values \n",
    "       and calculates the test statistic.'''\n",
    "    # BEGIN SOLUTION\n",
    "    reduced = table.select(labels_col, values_col)\n",
    "    means_table = reduced.group(labels_col, np.average)\n",
    "    means = means_table.column(1)\n",
    "    return means.item(0) - means.item(1)\n",
    "# END SOLUTION\n",
    "find_test_stat(helicopters, \"Rotor\", \"Time\")"
   ]
  },
  {
   "cell_type": "raw",
   "metadata": {},
   "source": [
    "# END SOLUTION"
   ]
  },
  {
   "cell_type": "raw",
   "metadata": {},
   "source": [
    "# BEGIN TESTS"
   ]
  },
  {
   "cell_type": "code",
   "execution_count": 22,
   "metadata": {
    "id": "F7L2uW-2jiLc",
    "outputId": "7b9567f0-242a-4155-8b2f-b4e04ef7e792"
   },
   "outputs": [
    {
     "data": {
      "text/plain": [
       "1.647"
      ]
     },
     "execution_count": 22,
     "metadata": {},
     "output_type": "execute_result"
    }
   ],
   "source": [
    "round(find_test_stat(helicopters, \"Rotor\", \"Time\"),3)"
   ]
  },
  {
   "cell_type": "code",
   "execution_count": 23,
   "metadata": {
    "id": "828A9W8FjiLc",
    "outputId": "715f991f-6f7e-4f51-f368-0097f462e5e4"
   },
   "outputs": [
    {
     "data": {
      "text/plain": [
       "1.0"
      ]
     },
     "execution_count": 23,
     "metadata": {},
     "output_type": "execute_result"
    }
   ],
   "source": [
    "round(find_test_stat(helicopters, \"Weight\", \"Time\"),3)"
   ]
  },
  {
   "cell_type": "raw",
   "metadata": {},
   "source": [
    "# END TESTS"
   ]
  },
  {
   "cell_type": "raw",
   "metadata": {},
   "source": [
    "# END QUESTION"
   ]
  },
  {
   "cell_type": "markdown",
   "metadata": {
    "id": "F2G3LV9MjiLd"
   },
   "source": [
    "When we run a simulation for A/B testing, we resample the data by shuffling the labels of the original sample. If the null hypothesis is true and the time distributions **are** the same, we expect that the difference in mean time will be not change when \"Rotor\" labels are changed."
   ]
  },
  {
   "cell_type": "raw",
   "metadata": {},
   "source": [
    "# BEGIN QUESTION\n",
    "name: q13"
   ]
  },
  {
   "cell_type": "markdown",
   "metadata": {},
   "source": [
    "**Question 13.** Write a function `simulate_and_test_statistic` to compute one trial of our A/B test. Your function should run a simulation and return a test statistic.\n",
    "\n",
    "**Hint:** You can \"shuffle\" the labels by using `.sample(with_replacement=False)` on the table, and then just select the column (as an array using `.column`) that contains the newly shuffled labels. After that, you can either overwrite the existing labels, or, extend the table with a new column labeled something like \"shuffled labels\". Just make sure you pass the correct label on to `find_test_stat`.\n",
    "\n",
    "**Note:** The autograder test here is fairly lenient, if you have an issue with the following questions, make sure to take a look at your answer to the previous question. Specifically, make sure that you are taking the directionality of our alternative hypothesis into account, meaning, check the order in which you are subtracting the average times.\n"
   ]
  },
  {
   "cell_type": "raw",
   "metadata": {},
   "source": [
    "# BEGIN SOLUTION"
   ]
  },
  {
   "cell_type": "code",
   "execution_count": 24,
   "metadata": {
    "id": "ONqbs6igjiLd",
    "outputId": "2002b688-7263-4e54-b8bd-53a7d303b122"
   },
   "outputs": [
    {
     "data": {
      "text/plain": [
       "0.0019393939393959059"
      ]
     },
     "execution_count": 24,
     "metadata": {},
     "output_type": "execute_result"
    }
   ],
   "source": [
    "def simulate_and_test_statistic(table, labels_col, values_col):\n",
    "    '''Compute one trial of the A/B test.'''\n",
    "    # BEGIN SOLUTION\n",
    "    shuffled_labels = table.sample(with_replacement = False).column(labels_col)\n",
    "    original_and_shuffled = table.with_column(\"shuffled labels\", shuffled_labels)\n",
    "    return find_test_stat(original_and_shuffled, \"shuffled labels\", values_col)\n",
    "    # END SOLUTION\n",
    "    \n",
    "simulate_and_test_statistic(helicopters, \"Rotor\", \"Time\")"
   ]
  },
  {
   "cell_type": "raw",
   "metadata": {},
   "source": [
    "# END SOLUTION"
   ]
  },
  {
   "cell_type": "raw",
   "metadata": {},
   "source": [
    "# BEGIN TESTS"
   ]
  },
  {
   "cell_type": "code",
   "execution_count": 25,
   "metadata": {
    "id": "xZJL-Zl0jiLd",
    "outputId": "3ee766ec-f8fc-465a-f8ac-f0bce3d62b8a"
   },
   "outputs": [
    {
     "data": {
      "text/plain": [
       "True"
      ]
     },
     "execution_count": 25,
     "metadata": {},
     "output_type": "execute_result"
    }
   ],
   "source": [
    "np.random.seed(123)\n",
    "0 < round(simulate_and_test_statistic(helicopters, \"Rotor\", \"Time\"), 3) < 1"
   ]
  },
  {
   "cell_type": "raw",
   "metadata": {},
   "source": [
    "# END TESTS"
   ]
  },
  {
   "cell_type": "raw",
   "metadata": {},
   "source": [
    "# END QUESTION"
   ]
  },
  {
   "cell_type": "raw",
   "metadata": {},
   "source": [
    "# BEGIN QUESTION\n",
    "name: q14"
   ]
  },
  {
   "cell_type": "markdown",
   "metadata": {},
   "source": [
    "**Question 14.** Now that we can quickly shuffle the labels and compute a test statistic, simulate 5000 trials of our A/B test and store the test statistics in an array called `differences`.\n"
   ]
  },
  {
   "cell_type": "raw",
   "metadata": {},
   "source": [
    "# BEGIN SOLUTION"
   ]
  },
  {
   "cell_type": "code",
   "execution_count": 26,
   "metadata": {
    "id": "3hMhpW33jiLe",
    "outputId": "d73a4900-b4e8-4e30-efc1-b40181a8bdd9"
   },
   "outputs": [
    {
     "data": {
      "text/plain": [
       "array([-0.02989091, -0.028     , -0.14397576, ..., -0.11151515,\n",
       "        0.18220606,  0.21844848])"
      ]
     },
     "execution_count": 26,
     "metadata": {},
     "output_type": "execute_result"
    }
   ],
   "source": [
    "# This cell might take a couple seconds to run\n",
    "differences = make_array()\n",
    "# BEGIN SOLUTION\n",
    "repetitions = 5000\n",
    "for i in np.arange(repetitions):\n",
    "    new_difference = simulate_and_test_statistic(helicopters, \"Rotor\", \"Time\")\n",
    "    differences = np.append(differences, new_difference)\n",
    "# END SOLUTION\n",
    "differences"
   ]
  },
  {
   "cell_type": "raw",
   "metadata": {},
   "source": [
    "# END SOLUTION"
   ]
  },
  {
   "cell_type": "raw",
   "metadata": {},
   "source": [
    "# BEGIN TESTS"
   ]
  },
  {
   "cell_type": "code",
   "execution_count": 27,
   "metadata": {
    "id": "5KtW8SNpjiLe",
    "outputId": "5bcb4131-dae3-4805-d0e3-ae8541eba017"
   },
   "outputs": [
    {
     "data": {
      "text/plain": [
       "5000"
      ]
     },
     "execution_count": 27,
     "metadata": {},
     "output_type": "execute_result"
    }
   ],
   "source": [
    "len(differences)"
   ]
  },
  {
   "cell_type": "code",
   "execution_count": 28,
   "metadata": {
    "id": "K6aR1xgXjiLe",
    "outputId": "779a994a-ca55-4b6e-8f72-1e3450d4d3b3"
   },
   "outputs": [
    {
     "data": {
      "text/plain": [
       "True"
      ]
     },
     "execution_count": 28,
     "metadata": {},
     "output_type": "execute_result"
    }
   ],
   "source": [
    "# On average, your test statistic should be close to 0\n",
    "abs(np.average(differences)) < 1"
   ]
  },
  {
   "cell_type": "code",
   "execution_count": 29,
   "metadata": {
    "id": "tSykZIB2jiLe",
    "outputId": "f3640893-816a-42a4-e478-c2f182ba90d4"
   },
   "outputs": [
    {
     "data": {
      "text/plain": [
       "True"
      ]
     },
     "execution_count": 29,
     "metadata": {},
     "output_type": "execute_result"
    }
   ],
   "source": [
    "# Make sure all test statistics are different\n",
    "all(differences == differences.item(0)) == False"
   ]
  },
  {
   "cell_type": "raw",
   "metadata": {},
   "source": [
    "# END TESTS"
   ]
  },
  {
   "cell_type": "raw",
   "metadata": {},
   "source": [
    "# END QUESTION"
   ]
  },
  {
   "cell_type": "markdown",
   "metadata": {
    "id": "G1sI6sJ7jiLe"
   },
   "source": [
    "Run the cell below to view a histogram of your simulated test statistics plotted with your observed test statistic."
   ]
  },
  {
   "cell_type": "code",
   "execution_count": 30,
   "metadata": {
    "id": "a21Al8EqjiLf",
    "outputId": "969f25cc-8056-4640-ae47-f0727c0d59e8",
    "tags": []
   },
   "outputs": [
    {
     "data": {
      "image/png": "[encoded data removed]",
      "text/plain": [
       "<Figure size 600x400 with 1 Axes>"
      ]
     },
     "metadata": {},
     "output_type": "display_data"
    }
   ],
   "source": [
    "Table().with_column('Difference Between Group Means', differences).hist()\n",
    "plt.scatter(observed_difference, -0.01, color='red', s=60, zorder=2);"
   ]
  },
  {
   "cell_type": "raw",
   "metadata": {},
   "source": [
    "# BEGIN QUESTION\n",
    "name: q15"
   ]
  },
  {
   "cell_type": "markdown",
   "metadata": {},
   "source": [
    "**Question 15.** Find the p-value for your test and assign it to `empirical_P`.\n"
   ]
  },
  {
   "cell_type": "raw",
   "metadata": {},
   "source": [
    "# BEGIN SOLUTION"
   ]
  },
  {
   "cell_type": "code",
   "execution_count": 31,
   "metadata": {
    "id": "KAAsJRNMjiLf",
    "outputId": "5a2f83a2-f07d-4957-8fd3-4274a8a7139d"
   },
   "outputs": [
    {
     "data": {
      "text/plain": [
       "0.0"
      ]
     },
     "execution_count": 31,
     "metadata": {},
     "output_type": "execute_result"
    }
   ],
   "source": [
    "empirical_P = np.count_nonzero(differences >= observed_difference) / repetitions # SOLUTION\n",
    "empirical_P"
   ]
  },
  {
   "cell_type": "raw",
   "metadata": {},
   "source": [
    "# END SOLUTION"
   ]
  },
  {
   "cell_type": "raw",
   "metadata": {},
   "source": [
    "# BEGIN TESTS"
   ]
  },
  {
   "cell_type": "code",
   "execution_count": 32,
   "metadata": {
    "id": "rF1av7DGjiLf",
    "outputId": "218d8a99-738e-4b96-acbd-93bbb66acebe"
   },
   "outputs": [
    {
     "data": {
      "text/plain": [
       "True"
      ]
     },
     "execution_count": 32,
     "metadata": {},
     "output_type": "execute_result"
    }
   ],
   "source": [
    "empirical_P < 0.05"
   ]
  },
  {
   "cell_type": "raw",
   "metadata": {},
   "source": [
    "# END TESTS"
   ]
  },
  {
   "cell_type": "raw",
   "metadata": {},
   "source": [
    "# END QUESTION"
   ]
  },
  {
   "cell_type": "raw",
   "metadata": {},
   "source": [
    "# BEGIN QUESTION\n",
    "name: q16\n",
    "manual: true"
   ]
  },
  {
   "cell_type": "markdown",
   "metadata": {},
   "source": [
    "**Question 16.** Using a 5% P-value cutoff, draw a conclusion about the null and alternative hypotheses. Describe your findings using simple, non-technical language. What does your analysis tell you about fall times of helicopters with full length vs shortened rotors? What can you claim about causation from your statistical analysis?\n"
   ]
  },
  {
   "cell_type": "raw",
   "metadata": {},
   "source": [
    "# BEGIN SOLUTION"
   ]
  },
  {
   "cell_type": "markdown",
   "metadata": {
    "id": "ELByCIpdjiLf"
   },
   "source": [
    "**SOLUTION:** Our p-value of 0 is less than than the cutoff of 0.05. Our data supports the alternative hypothesis and we can conclude that rotor length causes a difference in drop time for these paper helicopters."
   ]
  },
  {
   "cell_type": "raw",
   "metadata": {},
   "source": [
    "# END SOLUTION"
   ]
  },
  {
   "cell_type": "raw",
   "metadata": {},
   "source": [
    "# END QUESTION"
   ]
  }
 ],
 "metadata": {
  "colab": {
   "name": "lab07.ipynb",
   "provenance": []
  },
  "kernelspec": {
   "display_name": "Python 3 (ipykernel)",
   "language": "python",
   "name": "python3"
  },
  "language_info": {
   "codemirror_mode": {
    "name": "ipython",
    "version": 3
   },
   "file_extension": ".py",
   "mimetype": "text/x-python",
   "name": "python",
   "nbconvert_exporter": "python",
   "pygments_lexer": "ipython3",
   "version": "3.10.11"
  }
 },
 "nbformat": 4,
 "nbformat_minor": 4
}
