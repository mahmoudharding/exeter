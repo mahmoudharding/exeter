{
 "cells": [
  {
   "cell_type": "code",
   "execution_count": null,
   "id": "f728a052",
   "metadata": {
    "deletable": false,
    "editable": false
   },
   "outputs": [],
   "source": [
    "# Initialize Otter\n",
    "import otter\n",
    "grader = otter.Notebook(\"lab01.ipynb\")"
   ]
  },
  {
   "cell_type": "markdown",
   "id": "67f07ed1",
   "metadata": {
    "jp-MarkdownHeadingCollapsed": true,
    "tags": []
   },
   "source": [
    "# Run the cell below\n",
    "\n",
    "To run a code cell (i.e.; execute the python code inside a Jupyter notebook) you can click the play button on the ribbon underneath the name of the notebook. Before you begin click the \"Run cell\" button at the top that looks like ▶| or hold down `Shift` + `Return`."
   ]
  },
  {
   "cell_type": "markdown",
   "id": "57e13c74",
   "metadata": {
    "id": "emotional-testament"
   },
   "source": [
    "# Lab 01: Expressions\n",
    "\n",
    "Welcome to Foundations of Data Science for High School! Throughout the course you will complete assignments like this one. You can't learn technical subjects without hands-on practice, so these assignments are an important part of the course.\n",
    "\n",
    "**Collaboration Policy:**\n",
    "\n",
    "Collaborating on labs is more than okay -- it's encouraged! You should rarely remain stuck for more than a few minutes on questions in labs, so ask a neighbor or an instructor for help. Explaining things is beneficial, too -- the best way to solidify your knowledge of a subject is to explain it. You should **not** _just_ copy/paste someone else's code, but rather work together to gain understanding of the task you need to complete. \n",
    "\n",
    "**Due Date:** \n",
    "\n",
    "## Today's Assignment\n",
    "\n",
    "In today's assignment, you'll learn how to:\n",
    "\n",
    "- navigate Jupyter notebooks (like this one);\n",
    "\n",
    "- write and evaluate some basic *expressions* in Python, the computer language of the course;\n",
    "\n",
    "- call *functions* to use code other people have written; and\n",
    "\n",
    "- break down Python code into smaller parts to understand it.\n",
    "\n",
    "Recommended reading:\n",
    "\n",
    "- [Expressions](https://inferentialthinking.com/chapters/03/1/Expressions.html)\n",
    "\n",
    "- [Names](https://inferentialthinking.com/chapters/03/2/Names.html)\n",
    "\n",
    "- [Call Expressions](https://inferentialthinking.com/chapters/03/3/Calls.html)"
   ]
  },
  {
   "cell_type": "markdown",
   "id": "3555ccb9",
   "metadata": {
    "id": "entertaining-eligibility"
   },
   "source": [
    "## 1. Errors\n",
    "Python is a language, and like natural human languages, it has rules.  It differs from natural language in two important ways:\n",
    "\n",
    "1. The rules are *simple*.  You can learn most of them in a few weeks and gain reasonable proficiency with the language in a semester.\n",
    "\n",
    "2. The rules are *rigid*.  If you're proficient in a natural language, you can understand a non-proficient speaker, glossing over small mistakes. A computer running Python code is not smart enough to do that.\n",
    "\n",
    "Whenever you write code, you'll make mistakes.  When you run a code cell that has errors, Python will sometimes produce error messages to tell you what you did wrong.\n",
    "\n",
    "Errors are okay; even experienced programmers make many errors.  When you make an error, you just have to find the source of the problem, fix it, and move on.\n",
    "\n",
    "We have made an error in the next cell.  Run it and see what happens."
   ]
  },
  {
   "cell_type": "code",
   "execution_count": null,
   "id": "88ea3c84",
   "metadata": {
    "id": "israeli-infection",
    "outputId": "42154329-0b28-41af-ab80-a3f9e37966c4",
    "tags": []
   },
   "outputs": [],
   "source": [
    "print(\"This line is missing something.\""
   ]
  },
  {
   "cell_type": "markdown",
   "id": "c9b57771",
   "metadata": {
    "id": "desperate-onion"
   },
   "source": [
    "**Note:** In the toolbar, there is the option to click `Run > Run All Cells`, which will run all the code cells in this notebook in order. However, the notebook stops running code cells if it hits an error, like the one in the cell above."
   ]
  },
  {
   "cell_type": "markdown",
   "id": "d02e18b0",
   "metadata": {
    "id": "purple-express"
   },
   "source": [
    "You should see something like this (minus our annotations):\n",
    "\n",
    "<img src=\"images/error.jpg\" />\n",
    "\n",
    "The last line of the error output attempts to tell you what went wrong.  The *syntax* of a language is its structure, and this `SyntaxError` tells you that you have created an illegal structure.  \"`EOF`\" means \"end of file,\" so the message is saying Python expected you to write something more (in this case, a right parenthesis) before finishing the cell.\n",
    "\n",
    "There's a lot of terminology in programming languages, but you don't need to know it all in order to program effectively. If you see a cryptic message like this, you can often get by without deciphering it. Of course, if you're frustrated, ask a neighbor or a staff member for help."
   ]
  },
  {
   "cell_type": "markdown",
   "id": "00c5f6b7",
   "metadata": {},
   "source": [
    "**Question 1.** Try to fix the code below so that you can run the cell and see the intended message instead of an error."
   ]
  },
  {
   "cell_type": "code",
   "execution_count": null,
   "id": "ed267e93",
   "metadata": {},
   "outputs": [],
   "source": [
    "print(\"This line is missing something.\""
   ]
  },
  {
   "cell_type": "markdown",
   "id": "d7d1e156",
   "metadata": {
    "id": "retired-demonstration"
   },
   "source": [
    "## 2. The Kernel\n",
    "\n",
    "The kernel is a program that executes the code inside your notebook and outputs the results. In the top right of your window, you can see a circle that indicates the status of your kernel. If the circle is empty (⚪), the kernel is idle and ready to execute code. If the circle is filled in (⚫), the kernel is busy running some code. \n",
    "\n",
    "Next to every code cell, you'll see some square brackets that look like: `[ ]`. Before you run the cell, you'll see `[ ]`. When the cell is running, you'll see `[*]`. If you see an asterisk (\\*) next to a cell that doesn't go away, it's likely that the code inside the cell is taking too long to run, and it might be a good time to interrupt the kernel (discussed below). When a cell is finished running, you'll see a number inside the brackets, like so: `[1]`. The number corresponds to the order in which you run the cells; so, the first cell you run will show a 1 when it's finished running, the second will show a 2, and so on. \n",
    "\n",
    "You may run into problems where your kernel is stuck for an excessive amount of time, your notebook is very slow and unresponsive, or your kernel loses its connection. If this happens, try the following steps:\n",
    "\n",
    "1. At the top of your screen, click **Kernel**, then **Interrupt**. Trying running your code again.\n",
    "\n",
    "2. If that doesn't help, click **Kernel**, then **Restart**. If you do this, you will have to run your code cells from the start of your notebook up until where you paused your work."
   ]
  },
  {
   "cell_type": "markdown",
   "id": "1bc1dfdd",
   "metadata": {
    "id": "royal-negative"
   },
   "source": [
    "## 3. Names\n",
    "In natural language, we have terminology that lets us quickly reference very complicated concepts.  We don't say, \"That's a large mammal with brown fur and sharp teeth!\"  Instead, we just say, \"Bear!\"\n",
    "\n",
    "In Python, we do this with *assignment statements*. An assignment statement has a name on the left side of an `=` sign and an expression to be evaluated on the right."
   ]
  },
  {
   "cell_type": "code",
   "execution_count": null,
   "id": "6d44de94",
   "metadata": {
    "id": "olive-tutorial"
   },
   "outputs": [],
   "source": [
    "ten = 3 * 2 + 4"
   ]
  },
  {
   "cell_type": "markdown",
   "id": "ad3b5160",
   "metadata": {
    "id": "female-rough"
   },
   "source": [
    "When you run that cell, Python first computes the value of the expression on the right-hand side, `3 * 2 + 4`, which is the number 10.  Then it assigns that value to the name `ten`.  At that point, the code in the cell is done running.\n",
    "\n",
    "After you run that cell, the value 10 is bound to the name `ten`:"
   ]
  },
  {
   "cell_type": "code",
   "execution_count": null,
   "id": "69c3b368",
   "metadata": {
    "id": "weekly-guitar",
    "outputId": "7a859ad9-8338-4a3e-88bc-bd46bba173eb"
   },
   "outputs": [],
   "source": [
    "ten"
   ]
  },
  {
   "cell_type": "markdown",
   "id": "404d0dc7",
   "metadata": {
    "id": "sporting-allah"
   },
   "source": [
    "The statement `ten = 3 * 2 + 4` is not asserting that `ten` is already equal to `3 * 2 + 4`, as we might expect by analogy with math notation.  Rather, that line of code changes what `ten` means; it now refers to the value 10, whereas before it meant nothing at all.\n",
    "\n",
    "If the designers of Python had been ruthlessly pedantic, they might have made us write\n",
    "\n",
    "    define the name ten to hereafter have the value of 3 * 2 + 4 \n",
    "\n",
    "instead.  You will probably appreciate the brevity of \"`=`\"!  But keep in mind that this is the real meaning."
   ]
  },
  {
   "cell_type": "markdown",
   "id": "f94b05d9",
   "metadata": {
    "id": "increasing-difficulty"
   },
   "source": [
    "**Question 2.** Try writing code that uses a name (like `eleven`) that hasn't been assigned to anything.  You'll see an error!"
   ]
  },
  {
   "cell_type": "code",
   "execution_count": null,
   "id": "e8a14884",
   "metadata": {
    "id": "running-tackle",
    "outputId": "e72fdc85-48fd-4233-abf9-d009c86ee247"
   },
   "outputs": [],
   "source": [
    "# Replace the ellipsis below with code that uses\n",
    "# a name that hasn't been assigned to a value.\n",
    "# Note the error message you get.\n",
    "..."
   ]
  },
  {
   "cell_type": "markdown",
   "id": "439856c3",
   "metadata": {
    "id": "continent-benefit"
   },
   "source": [
    "A common pattern in Jupyter notebooks is to assign a value to a name and then immediately evaluate the name in the last line in the cell so that the value is displayed as output. "
   ]
  },
  {
   "cell_type": "code",
   "execution_count": null,
   "id": "633a43f2",
   "metadata": {
    "id": "gorgeous-covering",
    "outputId": "a4aa63bb-1a15-46b5-8b13-a2e749929292"
   },
   "outputs": [],
   "source": [
    "close_to_pi = 355/113\n",
    "close_to_pi"
   ]
  },
  {
   "cell_type": "markdown",
   "id": "d52c2613",
   "metadata": {
    "id": "enclosed-shelf"
   },
   "source": [
    "Another common pattern is that a series of lines in a single cell will build up a complex computation in stages, naming the intermediate results."
   ]
  },
  {
   "cell_type": "code",
   "execution_count": null,
   "id": "f7f6e381",
   "metadata": {
    "id": "cultural-auction",
    "outputId": "5703436d-fbd6-47d9-d5fc-46df1e6d2437"
   },
   "outputs": [],
   "source": [
    "semimonthly_salary = 841.25\n",
    "monthly_salary = 2 * semimonthly_salary\n",
    "number_of_months_in_a_year = 12\n",
    "yearly_salary = number_of_months_in_a_year * monthly_salary\n",
    "yearly_salary"
   ]
  },
  {
   "cell_type": "markdown",
   "id": "c1af117f",
   "metadata": {
    "id": "imposed-receiver"
   },
   "source": [
    "Names in Python can have letters (upper- and lower-case letters are both okay and count as different letters), underscores, and numbers.  The first character can't be a number (otherwise a name might look like a number).  And names can't contain spaces, since spaces are used to separate pieces of code from each other.\n",
    "\n",
    "Other than those rules, what you name something doesn't matter *to Python*.  For example, this cell does the same thing as the above cell, except everything has a different name:"
   ]
  },
  {
   "cell_type": "code",
   "execution_count": null,
   "id": "575e4af0",
   "metadata": {
    "id": "animated-fossil",
    "outputId": "30d61905-90a0-4247-8fa4-7d6399c7f3e7"
   },
   "outputs": [],
   "source": [
    "a = 841.25\n",
    "b = 2 * a\n",
    "c = 12\n",
    "d = c * b\n",
    "d"
   ]
  },
  {
   "cell_type": "markdown",
   "id": "5eb4b059",
   "metadata": {
    "id": "engaged-favor"
   },
   "source": [
    "**However**, names are very important for making your code *readable* to yourself and others.  The cell above is shorter, but it's totally useless without an explanation of what it does."
   ]
  },
  {
   "cell_type": "markdown",
   "id": "67619f2e",
   "metadata": {
    "id": "accomplished-arrangement"
   },
   "source": [
    "## 4. Checking your Code\n",
    "Now that you know how to name things, you can start using the built-in *tests* to check whether your work is correct. Sometimes, there are multiple tests for a single question, and passing all of them is required to receive credit for the question. A test cell will always look like:\n",
    "\n",
    "```\n",
    "grader.check(\"q3\")\n",
    "```\n",
    "\n",
    "Go ahead and attempt **Question 3.** Running the test cell directly after it will test whether you have assigned `seconds_in_a_decade` correctly in **Question 3.** If you haven't, this particular test will tell you the correct answer. Resist the urge to just copy it, and instead try to adjust your expression. Additionally, if you make a common error sometimes the tests will give hints about what went wrong."
   ]
  },
  {
   "cell_type": "markdown",
   "id": "60ae73e2",
   "metadata": {},
   "source": [
    "**Question 3.** Assign the name `seconds_in_a_decade` to the number of seconds between midnight January 1, 2010 and midnight January 1, 2020. Note that there are two leap years in this span of a decade. A non-leap year has 365 days and a leap year has 366 days.\n",
    "\n",
    "**Hint:** If you're stuck, the next section shows you how to get hints."
   ]
  },
  {
   "cell_type": "code",
   "execution_count": null,
   "id": "66b6a195",
   "metadata": {
    "id": "former-diary",
    "outputId": "2e1bb015-cb2b-4990-aa71-3f83c4058fac",
    "tags": []
   },
   "outputs": [],
   "source": [
    "# Change the next line so that it \n",
    "# computes the number of seconds in a decade \n",
    "# and assigns that number the name, seconds_in_a_decade.\n",
    "\n",
    "seconds_in_a_decade = ...\n",
    "\n",
    "# We've put this line in this cell \n",
    "# so that it will print the value you've given to seconds_in_a_decade when you run it.  \n",
    "# You don't need to change this.\n",
    "seconds_in_a_decade"
   ]
  },
  {
   "cell_type": "code",
   "execution_count": null,
   "id": "88717455",
   "metadata": {
    "deletable": false,
    "editable": false
   },
   "outputs": [],
   "source": [
    "grader.check(\"q3\")"
   ]
  },
  {
   "cell_type": "markdown",
   "id": "275972db",
   "metadata": {
    "id": "collaborative-handling"
   },
   "source": [
    "## 5. Comments\n",
    "You may have noticed these lines in the cell in which you answered Question 3.2:\n",
    "\n",
    "    # Change the next line \n",
    "    # so that it computes the number of seconds in a decade \n",
    "    # and assigns that number the name, seconds_in_a_decade.\n",
    "    \n",
    "This is called a *comment*. It doesn't make anything happen in Python; Python ignores anything on a line after a `#`.  Instead, it's there to communicate something about the code to you, the human reader. Comments are extremely useful. \n",
    "\n",
    "\n",
    "<img src=\"http://imgs.xkcd.com/comics/future_self.png\">\n",
    "Source: http://imgs.xkcd.com/comics/future_self.png"
   ]
  },
  {
   "cell_type": "markdown",
   "id": "315fd927",
   "metadata": {
    "id": "possible-qualification"
   },
   "source": [
    "## 6. Calling Functions\n",
    "\n",
    "The most common way to combine or manipulate values in Python is by calling functions. Python comes with many built-in functions that perform common operations.\n",
    "\n",
    "For example, the `abs` function takes a single number as its argument and returns the absolute value of that number. Run the next two cells and see if you understand the output."
   ]
  },
  {
   "cell_type": "code",
   "execution_count": null,
   "id": "b1612a3e",
   "metadata": {
    "id": "endless-interface",
    "outputId": "bd8e5738-0d47-4990-dced-3d8be4140f53"
   },
   "outputs": [],
   "source": [
    "abs(5)"
   ]
  },
  {
   "cell_type": "code",
   "execution_count": null,
   "id": "3365875f",
   "metadata": {
    "id": "harmful-corner",
    "outputId": "ef0dce4b-7db6-4bc5-b16b-779fb7217a56"
   },
   "outputs": [],
   "source": [
    "abs(-5)"
   ]
  },
  {
   "cell_type": "markdown",
   "id": "39c5b88f",
   "metadata": {
    "id": "hundred-congo"
   },
   "source": [
    "### Application: Computing Walking Distances\n",
    "\n",
    "Chunhua is on the corner of 7th Avenue and 42nd Street in Midtown Manhattan, and she wants to know far she'd have to walk to get to Gramercy School on the corner of 10th Avenue and 34th Street.\n",
    "\n",
    "She can't cut across blocks diagonally, since there are buildings in the way.  She has to walk along the sidewalks.  Using the map below, she sees she'd have to walk 3 avenues (long blocks) and 8 streets (short blocks).  In terms of the given numbers, she computed 3 as the difference between 7 and 10, *in absolute value*, and 8 similarly.  \n",
    "\n",
    "Chunhua also knows that blocks in Manhattan are all about 80m by 274m (avenues are farther apart than streets).  So in total, she'd have to walk $(80 \\times |42 - 34| + 274 \\times |7 - 10|)$ meters to get to the park.\n",
    "\n",
    "<img src=\"images/map.jpg\"/>"
   ]
  },
  {
   "cell_type": "markdown",
   "id": "eefccb60",
   "metadata": {},
   "source": [
    "**Question 4.** Fill in the line `num_avenues_away = ...` in the next cell so that the cell calculates the distance Chunhua must walk and gives it the name `manhattan_distance`. Everything else has been filled in for you.  **Use the `abs` function.** Also, be sure to run the test cell afterward to test your code."
   ]
  },
  {
   "cell_type": "code",
   "execution_count": null,
   "id": "4954677d",
   "metadata": {
    "id": "supreme-service",
    "outputId": "205da5d1-6659-414c-c4d3-c6fb8db21748",
    "tags": []
   },
   "outputs": [],
   "source": [
    "# Here's the number of streets away:\n",
    "num_streets_away = abs(42-34)\n",
    "\n",
    "# Compute the number of avenues away in a similar way:\n",
    "num_avenues_away = ...\n",
    "\n",
    "street_length_m = 80\n",
    "avenue_length_m = 274\n",
    "\n",
    "# Now we compute the total distance Chunhua must walk.\n",
    "manhattan_distance = street_length_m*num_streets_away + avenue_length_m*num_avenues_away\n",
    "\n",
    "# We've included this line so that you see the distance you've computed \n",
    "# when you run this cell.  \n",
    "# You don't need to change it, but you can if you want.\n",
    "manhattan_distance"
   ]
  },
  {
   "cell_type": "code",
   "execution_count": null,
   "id": "9f71ab2a",
   "metadata": {
    "deletable": false,
    "editable": false
   },
   "outputs": [],
   "source": [
    "grader.check(\"q4\")"
   ]
  },
  {
   "cell_type": "markdown",
   "id": "907dac8c",
   "metadata": {
    "id": "sudden-bermuda"
   },
   "source": [
    "**Multiple arguments**\n",
    "\n",
    "Some functions take multiple arguments, separated by commas. For example, the built-in `max` function returns the maximum argument passed to it."
   ]
  },
  {
   "cell_type": "code",
   "execution_count": null,
   "id": "e2892c40",
   "metadata": {
    "id": "hidden-communications",
    "outputId": "c3903f19-5033-4ef4-e492-851b3762ce0a"
   },
   "outputs": [],
   "source": [
    "max(2, -3, 4, -5)"
   ]
  },
  {
   "cell_type": "markdown",
   "id": "aed7a814",
   "metadata": {
    "id": "promotional-apparatus"
   },
   "source": [
    "### Understanding Nested Expressions\n",
    "\n",
    "Function calls and arithmetic expressions can themselves contain expressions.  You saw an example in the last question:\n",
    "\n",
    "    abs(42-34)\n",
    "\n",
    "has 2 number expressions in a subtraction expression in a function call expression.  And you probably wrote something like `abs(7-10)` to compute `num_avenues_away`.\n",
    "\n",
    "Nested expressions can turn into complicated-looking code. However, the way in which complicated expressions break down is very regular.\n",
    "\n",
    "Suppose we are interested in heights that are very unusual.  We'll say that a height is unusual to the extent that it's far away on the number line from the average human height.  [An estimate](https://en.wikipedia.org/wiki/Average_human_height_by_country) of the average adult human height (averaging, we hope, over all humans on Earth today) is 1.688 meters.\n",
    "\n",
    "So if Kayla is 1.21 meters tall, then her height is $|1.21 - 1.688|$, or $.478$, meters away from the average.  Here's a picture of that:\n",
    "\n",
    "<img src=\"images/numberline_0.png\">\n",
    "\n",
    "And here's how we'd write that in one line of Python code:"
   ]
  },
  {
   "cell_type": "code",
   "execution_count": null,
   "id": "219d1f0d",
   "metadata": {
    "id": "sorted-workshop",
    "outputId": "2f9dffe4-e8fe-4548-f7e4-77c27a6310f6"
   },
   "outputs": [],
   "source": [
    "abs(1.21 - 1.688)"
   ]
  },
  {
   "cell_type": "markdown",
   "id": "367b5301",
   "metadata": {
    "id": "perfect-hindu"
   },
   "source": [
    "What's going on here?  `abs` takes just one argument, so the stuff inside the parentheses is all part of that *single argument*.  Specifically, the argument is the value of the expression `1.21 - 1.688`.  The value of that expression is `-.478`.  That value is the argument to `abs`.  The absolute value of that is `.478`, so `.478` is the value of the full expression `abs(1.21 - 1.688)`.\n",
    "\n",
    "Picture simplifying the expression in several steps:\n",
    "\n",
    "1. `abs(1.21 - 1.688)`\n",
    "2. `abs(-.478)`\n",
    "3. `.478`\n",
    "\n",
    "In fact, that's basically what Python does to compute the value of the expression."
   ]
  },
  {
   "cell_type": "markdown",
   "id": "69595f0a",
   "metadata": {},
   "source": [
    "**Question 5.** Say that Paola's height is 1.76 meters.  In the next cell, use `abs` to compute the absolute value of the difference between Paola's height and the average human height.  Give that value the name `paola_distance_from_average_m`.\n",
    "\n",
    "<img src=\"images/numberline_1.png\">"
   ]
  },
  {
   "cell_type": "code",
   "execution_count": null,
   "id": "77d53b51",
   "metadata": {
    "id": "usual-disease",
    "outputId": "90aaf26c-35c4-4b0b-f8ef-b87523e6e764",
    "tags": []
   },
   "outputs": [],
   "source": [
    "# Replace the ... with an expression \n",
    "# to compute the absolute value \n",
    "# of the difference between Paola's height (1.76m) and the average human height.\n",
    "paola_distance_from_average_m = ...\n",
    "\n",
    "# Again, we've written this here \n",
    "# so that the distance you compute will get printed \n",
    "# when you run this cell.\n",
    "paola_distance_from_average_m"
   ]
  },
  {
   "cell_type": "code",
   "execution_count": null,
   "id": "b9c5f542",
   "metadata": {
    "deletable": false,
    "editable": false
   },
   "outputs": [],
   "source": [
    "grader.check(\"q5\")"
   ]
  },
  {
   "cell_type": "markdown",
   "id": "ad23aade",
   "metadata": {},
   "source": [
    "**Question 6.** Given the heights of players from the Charlotte Hornets, write an expression that computes the smallest difference between any of the three heights. Your expression shouldn't have any numbers in it, only function calls and the names `lamelo`, `terry` and `mason`. Give the value of your expression the name `min_height_difference`."
   ]
  },
  {
   "cell_type": "code",
   "execution_count": null,
   "id": "0e433dbb",
   "metadata": {
    "id": "atmospheric-great",
    "tags": []
   },
   "outputs": [],
   "source": [
    "# The three players' heights, in meters:\n",
    "lamelo =  2.01 # LaMelo Ball is 6'7\"\n",
    "terry = 1.91 # Terry Rozier is 6'3\"\n",
    "mason = 2.11 # Mason Plumlee is 6'11\"\n",
    "             \n",
    "# We'd like to look at all 3 pairs of heights, \n",
    "# compute the absolute difference between each pair, \n",
    "# and then find the smallest of those 3 absolute differences.  \n",
    "# This is left to you!  \n",
    "# If you're stuck, try computing the value for each step of the process \n",
    "# (like the difference between LaMelo's heigh and Terry's height) \n",
    "# on a separate line and giving it a name (like lamelo_terry_height_diff)\n",
    "min_height_difference = ..."
   ]
  },
  {
   "cell_type": "code",
   "execution_count": null,
   "id": "5d7e83be",
   "metadata": {
    "deletable": false,
    "editable": false
   },
   "outputs": [],
   "source": [
    "grader.check(\"q6\")"
   ]
  },
  {
   "cell_type": "markdown",
   "id": "8adcf98a",
   "metadata": {
    "deletable": false,
    "editable": false
   },
   "source": [
    "## Submission\n",
    "\n",
    "Make sure you have run all cells in your notebook in order before running the cell below, so that all images/graphs appear in the output. The cell below will generate a zip file for you to submit. **Please save before exporting!**"
   ]
  },
  {
   "cell_type": "code",
   "execution_count": null,
   "id": "e02dbf36",
   "metadata": {
    "deletable": false,
    "editable": false
   },
   "outputs": [],
   "source": [
    "# Save your notebook first, then run this cell to export your submission.\n",
    "grader.export(run_tests=True)"
   ]
  },
  {
   "cell_type": "markdown",
   "id": "0b01bc26",
   "metadata": {},
   "source": [
    " "
   ]
  }
 ],
 "metadata": {
  "colab": {
   "name": "lab01.ipynb",
   "provenance": []
  },
  "kernelspec": {
   "display_name": "Python 3 (ipykernel)",
   "language": "python",
   "name": "python3"
  },
  "language_info": {
   "codemirror_mode": {
    "name": "ipython",
    "version": 3
   },
   "file_extension": ".py",
   "mimetype": "text/x-python",
   "name": "python",
   "nbconvert_exporter": "python",
   "pygments_lexer": "ipython3",
   "version": "3.10.11"
  },
  "otter": {
   "OK_FORMAT": true,
   "tests": {
    "q3": {
     "name": "q3",
     "points": null,
     "suites": [
      {
       "cases": [
        {
         "code": ">>> 'seconds_in_a_decade' in vars()\nTrue",
         "hidden": false,
         "locked": false
        },
        {
         "code": ">>> seconds_in_a_decade != ...\nTrue",
         "hidden": false,
         "locked": false
        },
        {
         "code": ">>> seconds_in_a_decade != 315360000\nTrue",
         "hidden": false,
         "locked": false
        },
        {
         "code": ">>> seconds_in_a_decade == 315532800\nTrue",
         "hidden": false,
         "locked": false
        }
       ],
       "scored": true,
       "setup": "",
       "teardown": "",
       "type": "doctest"
      }
     ]
    },
    "q4": {
     "name": "q4",
     "points": null,
     "suites": [
      {
       "cases": [
        {
         "code": ">>> num_avenues_away != ...\nTrue",
         "hidden": false,
         "locked": false
        },
        {
         "code": ">>> num_avenues_away != -3\nTrue",
         "hidden": false,
         "locked": false
        },
        {
         "code": ">>> num_avenues_away\n3",
         "hidden": false,
         "locked": false
        },
        {
         "code": ">>> manhattan_distance\n1462",
         "hidden": false,
         "locked": false
        }
       ],
       "scored": true,
       "setup": "",
       "teardown": "",
       "type": "doctest"
      }
     ]
    },
    "q5": {
     "name": "q5",
     "points": null,
     "suites": [
      {
       "cases": [
        {
         "code": ">>> round(paola_distance_from_average_m, 5)\n0.072",
         "hidden": false,
         "locked": false
        }
       ],
       "scored": true,
       "setup": "",
       "teardown": "",
       "type": "doctest"
      }
     ]
    },
    "q6": {
     "name": "q6",
     "points": null,
     "suites": [
      {
       "cases": [
        {
         "code": ">>> round(min_height_difference, 5)\n0.1",
         "hidden": false,
         "locked": false
        }
       ],
       "scored": true,
       "setup": "",
       "teardown": "",
       "type": "doctest"
      }
     ]
    }
   }
  }
 },
 "nbformat": 4,
 "nbformat_minor": 5
}
