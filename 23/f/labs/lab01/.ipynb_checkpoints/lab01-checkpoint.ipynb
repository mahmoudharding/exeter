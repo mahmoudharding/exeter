{
 "cells": [
  {
   "cell_type": "raw",
   "id": "cfa0f8f4",
   "metadata": {},
   "source": [
    "# ASSIGNMENT CONFIG\n",
    "files: \n",
    "    - images/error.jpg\n",
    "    - images/numberline_0.png\n",
    "    - images/numberline_1.png\n",
    "    - images/map.jpg"
   ]
  },
  {
   "cell_type": "markdown",
   "id": "367b9eee-4c5d-4ff3-aa49-a1186262b4b0",
   "metadata": {
    "jp-MarkdownHeadingCollapsed": true,
    "tags": []
   },
   "source": [
    "# Run the cell below\n",
    "\n",
    "To run a code cell (i.e.; execute the python code inside a Jupyter notebook) you can click the play button on the ribbon underneath the name of the notebook. Before you begin click the \"Run cell\" button at the top that looks like ▶| or hold down `Shift` + `Return`."
   ]
  },
  {
   "cell_type": "markdown",
   "id": "185c1263",
   "metadata": {
    "id": "emotional-testament"
   },
   "source": [
    "# Lab 01: Expressions\n",
    "\n",
    "Welcome to Foundations of Data Science for High School! Throughout the course you will complete assignments like this one. You can't learn technical subjects without hands-on practice, so these assignments are an important part of the course.\n",
    "\n",
    "**Collaboration Policy:**\n",
    "\n",
    "Collaborating on labs is more than okay -- it's encouraged! You should rarely remain stuck for more than a few minutes on questions in labs, so ask a neighbor or an instructor for help. Explaining things is beneficial, too -- the best way to solidify your knowledge of a subject is to explain it. You should **not** _just_ copy/paste someone else's code, but rather work together to gain understanding of the task you need to complete. \n",
    "\n",
    "**Due Date:** \n",
    "\n",
    "## Today's Assignment\n",
    "\n",
    "In today's assignment, you'll learn how to:\n",
    "\n",
    "- navigate Jupyter notebooks (like this one);\n",
    "\n",
    "- write and evaluate some basic *expressions* in Python, the computer language of the course;\n",
    "\n",
    "- call *functions* to use code other people have written; and\n",
    "\n",
    "- break down Python code into smaller parts to understand it.\n",
    "\n",
    "This lab covers parts of [Chapter 3](http://www.inferentialthinking.com/chapters/03/programming-in-python.html) of the online textbook."
   ]
  },
  {
   "cell_type": "markdown",
   "id": "ce4f61a2",
   "metadata": {
    "id": "entertaining-eligibility"
   },
   "source": [
    "## 1. Errors\n",
    "Python is a language, and like natural human languages, it has rules.  It differs from natural language in two important ways:\n",
    "\n",
    "1. The rules are *simple*.  You can learn most of them in a few weeks and gain reasonable proficiency with the language in a semester.\n",
    "\n",
    "2. The rules are *rigid*.  If you're proficient in a natural language, you can understand a non-proficient speaker, glossing over small mistakes. A computer running Python code is not smart enough to do that.\n",
    "\n",
    "Whenever you write code, you'll make mistakes.  When you run a code cell that has errors, Python will sometimes produce error messages to tell you what you did wrong.\n",
    "\n",
    "Errors are okay; even experienced programmers make many errors.  When you make an error, you just have to find the source of the problem, fix it, and move on.\n",
    "\n",
    "We have made an error in the next cell.  Run it and see what happens."
   ]
  },
  {
   "cell_type": "code",
   "execution_count": 1,
   "id": "a89e9486",
   "metadata": {
    "id": "israeli-infection",
    "outputId": "42154329-0b28-41af-ab80-a3f9e37966c4",
    "tags": []
   },
   "outputs": [
    {
     "ename": "SyntaxError",
     "evalue": "incomplete input (1867411798.py, line 1)",
     "output_type": "error",
     "traceback": [
      "\u001b[0;36m  Cell \u001b[0;32mIn[1], line 1\u001b[0;36m\u001b[0m\n\u001b[0;31m    print(\"This line is missing something.\"\u001b[0m\n\u001b[0m                                           ^\u001b[0m\n\u001b[0;31mSyntaxError\u001b[0m\u001b[0;31m:\u001b[0m incomplete input\n"
     ]
    }
   ],
   "source": [
    "print(\"This line is missing something.\""
   ]
  },
  {
   "cell_type": "markdown",
   "id": "36f3b0c3",
   "metadata": {
    "id": "desperate-onion"
   },
   "source": [
    "**Note:** In the toolbar, there is the option to click `Run > Run All Cells`, which will run all the code cells in this notebook in order. However, the notebook stops running code cells if it hits an error, like the one in the cell above."
   ]
  },
  {
   "cell_type": "markdown",
   "id": "44ba58fb",
   "metadata": {
    "id": "purple-express"
   },
   "source": [
    "You should see something like this (minus our annotations):\n",
    "\n",
    "<img src=\"images/error.jpg\" />\n",
    "\n",
    "The last line of the error output attempts to tell you what went wrong.  The *syntax* of a language is its structure, and this `SyntaxError` tells you that you have created an illegal structure.  \"`EOF`\" means \"end of file,\" so the message is saying Python expected you to write something more (in this case, a right parenthesis) before finishing the cell.\n",
    "\n",
    "There's a lot of terminology in programming languages, but you don't need to know it all in order to program effectively. If you see a cryptic message like this, you can often get by without deciphering it. Of course, if you're frustrated, ask a neighbor or a staff member for help."
   ]
  },
  {
   "cell_type": "markdown",
   "id": "73754b25-598e-4e37-b0de-e63aeacb6242",
   "metadata": {},
   "source": [
    "**Question 1.** Try to fix the code below so that you can run the cell and see the intended message instead of an error."
   ]
  },
  {
   "cell_type": "code",
   "execution_count": null,
   "id": "40b919b8-4444-4727-81d7-2d318899b174",
   "metadata": {},
   "outputs": [],
   "source": [
    "print(\"This line is missing something.\""
   ]
  },
  {
   "cell_type": "markdown",
   "id": "b735296e",
   "metadata": {
    "id": "retired-demonstration"
   },
   "source": [
    "## 2. The Kernel\n",
    "\n",
    "The kernel is a program that executes the code inside your notebook and outputs the results. In the top right of your window, you can see a circle that indicates the status of your kernel. If the circle is empty (⚪), the kernel is idle and ready to execute code. If the circle is filled in (⚫), the kernel is busy running some code. \n",
    "\n",
    "Next to every code cell, you'll see some square brackets that look like: `[ ]`. Before you run the cell, you'll see `[ ]`. When the cell is running, you'll see `[*]`. If you see an asterisk (\\*) next to a cell that doesn't go away, it's likely that the code inside the cell is taking too long to run, and it might be a good time to interrupt the kernel (discussed below). When a cell is finished running, you'll see a number inside the brackets, like so: `[1]`. The number corresponds to the order in which you run the cells; so, the first cell you run will show a 1 when it's finished running, the second will show a 2, and so on. \n",
    "\n",
    "You may run into problems where your kernel is stuck for an excessive amount of time, your notebook is very slow and unresponsive, or your kernel loses its connection. If this happens, try the following steps:\n",
    "\n",
    "1. At the top of your screen, click **Kernel**, then **Interrupt**. Trying running your code again.\n",
    "\n",
    "2. If that doesn't help, click **Kernel**, then **Restart**. If you do this, you will have to run your code cells from the start of your notebook up until where you paused your work."
   ]
  },
  {
   "cell_type": "markdown",
   "id": "0679111b",
   "metadata": {
    "id": "royal-negative"
   },
   "source": [
    "## 3. Names\n",
    "In natural language, we have terminology that lets us quickly reference very complicated concepts.  We don't say, \"That's a large mammal with brown fur and sharp teeth!\"  Instead, we just say, \"Bear!\"\n",
    "\n",
    "In Python, we do this with *assignment statements*. An assignment statement has a name on the left side of an `=` sign and an expression to be evaluated on the right."
   ]
  },
  {
   "cell_type": "code",
   "execution_count": 43,
   "id": "0c466046",
   "metadata": {
    "id": "olive-tutorial"
   },
   "outputs": [],
   "source": [
    "ten = 3 * 2 + 4"
   ]
  },
  {
   "cell_type": "markdown",
   "id": "c0a22405",
   "metadata": {
    "id": "female-rough"
   },
   "source": [
    "When you run that cell, Python first computes the value of the expression on the right-hand side, `3 * 2 + 4`, which is the number 10.  Then it assigns that value to the name `ten`.  At that point, the code in the cell is done running.\n",
    "\n",
    "After you run that cell, the value 10 is bound to the name `ten`:"
   ]
  },
  {
   "cell_type": "code",
   "execution_count": 44,
   "id": "430e19ad",
   "metadata": {
    "id": "weekly-guitar",
    "outputId": "7a859ad9-8338-4a3e-88bc-bd46bba173eb"
   },
   "outputs": [
    {
     "data": {
      "text/plain": [
       "10"
      ]
     },
     "execution_count": 44,
     "metadata": {},
     "output_type": "execute_result"
    }
   ],
   "source": [
    "ten"
   ]
  },
  {
   "cell_type": "markdown",
   "id": "4181b378",
   "metadata": {
    "id": "sporting-allah"
   },
   "source": [
    "The statement `ten = 3 * 2 + 4` is not asserting that `ten` is already equal to `3 * 2 + 4`, as we might expect by analogy with math notation.  Rather, that line of code changes what `ten` means; it now refers to the value 10, whereas before it meant nothing at all.\n",
    "\n",
    "If the designers of Python had been ruthlessly pedantic, they might have made us write\n",
    "\n",
    "    define the name ten to hereafter have the value of 3 * 2 + 4 \n",
    "\n",
    "instead.  You will probably appreciate the brevity of \"`=`\"!  But keep in mind that this is the real meaning."
   ]
  },
  {
   "cell_type": "markdown",
   "id": "1cf56b18",
   "metadata": {
    "id": "increasing-difficulty"
   },
   "source": [
    "**Question 2.** Try writing code that uses a name (like `eleven`) that hasn't been assigned to anything.  You'll see an error!"
   ]
  },
  {
   "cell_type": "code",
   "execution_count": 45,
   "id": "4db080aa",
   "metadata": {
    "id": "running-tackle",
    "outputId": "e72fdc85-48fd-4233-abf9-d009c86ee247"
   },
   "outputs": [
    {
     "data": {
      "text/plain": [
       "Ellipsis"
      ]
     },
     "execution_count": 45,
     "metadata": {},
     "output_type": "execute_result"
    }
   ],
   "source": [
    "# Replace the ellipsis below with code that uses\n",
    "# a name that hasn't been assigned to a value.\n",
    "# Note the error message you get.\n",
    "..."
   ]
  },
  {
   "cell_type": "markdown",
   "id": "e0f063a9",
   "metadata": {
    "id": "continent-benefit"
   },
   "source": [
    "A common pattern in Jupyter notebooks is to assign a value to a name and then immediately evaluate the name in the last line in the cell so that the value is displayed as output. "
   ]
  },
  {
   "cell_type": "code",
   "execution_count": 46,
   "id": "03ceb348",
   "metadata": {
    "id": "gorgeous-covering",
    "outputId": "a4aa63bb-1a15-46b5-8b13-a2e749929292"
   },
   "outputs": [
    {
     "data": {
      "text/plain": [
       "3.1415929203539825"
      ]
     },
     "execution_count": 46,
     "metadata": {},
     "output_type": "execute_result"
    }
   ],
   "source": [
    "close_to_pi = 355/113\n",
    "close_to_pi"
   ]
  },
  {
   "cell_type": "markdown",
   "id": "d0c9edf6",
   "metadata": {
    "id": "enclosed-shelf"
   },
   "source": [
    "Another common pattern is that a series of lines in a single cell will build up a complex computation in stages, naming the intermediate results."
   ]
  },
  {
   "cell_type": "code",
   "execution_count": 47,
   "id": "d9b37822",
   "metadata": {
    "id": "cultural-auction",
    "outputId": "5703436d-fbd6-47d9-d5fc-46df1e6d2437"
   },
   "outputs": [
    {
     "data": {
      "text/plain": [
       "20190.0"
      ]
     },
     "execution_count": 47,
     "metadata": {},
     "output_type": "execute_result"
    }
   ],
   "source": [
    "semimonthly_salary = 841.25\n",
    "monthly_salary = 2 * semimonthly_salary\n",
    "number_of_months_in_a_year = 12\n",
    "yearly_salary = number_of_months_in_a_year * monthly_salary\n",
    "yearly_salary"
   ]
  },
  {
   "cell_type": "markdown",
   "id": "b093a642",
   "metadata": {
    "id": "imposed-receiver"
   },
   "source": [
    "Names in Python can have letters (upper- and lower-case letters are both okay and count as different letters), underscores, and numbers.  The first character can't be a number (otherwise a name might look like a number).  And names can't contain spaces, since spaces are used to separate pieces of code from each other.\n",
    "\n",
    "Other than those rules, what you name something doesn't matter *to Python*.  For example, this cell does the same thing as the above cell, except everything has a different name:"
   ]
  },
  {
   "cell_type": "code",
   "execution_count": 48,
   "id": "ca658d6b",
   "metadata": {
    "id": "animated-fossil",
    "outputId": "30d61905-90a0-4247-8fa4-7d6399c7f3e7"
   },
   "outputs": [
    {
     "data": {
      "text/plain": [
       "20190.0"
      ]
     },
     "execution_count": 48,
     "metadata": {},
     "output_type": "execute_result"
    }
   ],
   "source": [
    "a = 841.25\n",
    "b = 2 * a\n",
    "c = 12\n",
    "d = c * b\n",
    "d"
   ]
  },
  {
   "cell_type": "markdown",
   "id": "88e49b4d",
   "metadata": {
    "id": "engaged-favor"
   },
   "source": [
    "**However**, names are very important for making your code *readable* to yourself and others.  The cell above is shorter, but it's totally useless without an explanation of what it does."
   ]
  },
  {
   "cell_type": "markdown",
   "id": "049d5104",
   "metadata": {
    "id": "accomplished-arrangement"
   },
   "source": [
    "## 4. Checking your Code\n",
    "Now that you know how to name things, you can start using the built-in *tests* to check whether your work is correct. Sometimes, there are multiple tests for a single question, and passing all of them is required to receive credit for the question. A test cell will always look like:\n",
    "\n",
    "```\n",
    "grader.check(\"q3\")\n",
    "```\n",
    "\n",
    "Go ahead and attempt **Question 3.** Running the test cell directly after it will test whether you have assigned `seconds_in_a_decade` correctly in **Question 3.** If you haven't, this particular test will tell you the correct answer. Resist the urge to just copy it, and instead try to adjust your expression. Additionally, if you make a common error sometimes the tests will give hints about what went wrong."
   ]
  },
  {
   "cell_type": "raw",
   "id": "6a1883f3",
   "metadata": {},
   "source": [
    "# BEGIN QUESTION\n",
    "name: q3"
   ]
  },
  {
   "cell_type": "markdown",
   "id": "ecdf3ae1",
   "metadata": {},
   "source": [
    "**Question 3.** Assign the name `seconds_in_a_decade` to the number of seconds between midnight January 1, 2010 and midnight January 1, 2020. Note that there are two leap years in this span of a decade. A non-leap year has 365 days and a leap year has 366 days.\n",
    "\n",
    "**Hint:** If you're stuck, the next section shows you how to get hints."
   ]
  },
  {
   "cell_type": "raw",
   "id": "fc2fea30",
   "metadata": {},
   "source": [
    "# BEGIN SOLUTION"
   ]
  },
  {
   "cell_type": "code",
   "execution_count": 5,
   "id": "c3d756ae",
   "metadata": {
    "id": "former-diary",
    "outputId": "2e1bb015-cb2b-4990-aa71-3f83c4058fac",
    "tags": []
   },
   "outputs": [
    {
     "data": {
      "text/plain": [
       "315532800"
      ]
     },
     "execution_count": 5,
     "metadata": {},
     "output_type": "execute_result"
    }
   ],
   "source": [
    "# Change the next line so that it \n",
    "# computes the number of seconds in a decade \n",
    "# and assigns that number the name, seconds_in_a_decade.\n",
    "\n",
    "seconds_in_a_decade = (365 * 8 + 366*2) * 24 * 60 * 60 #SOLUTION\n",
    "\n",
    "# We've put this line in this cell \n",
    "# so that it will print the value you've given to seconds_in_a_decade when you run it.  \n",
    "# You don't need to change this.\n",
    "seconds_in_a_decade"
   ]
  },
  {
   "cell_type": "raw",
   "id": "8fa48836",
   "metadata": {},
   "source": [
    "# END SOLUTION"
   ]
  },
  {
   "cell_type": "raw",
   "id": "1a9e8e07",
   "metadata": {},
   "source": [
    "# BEGIN TESTS"
   ]
  },
  {
   "cell_type": "code",
   "execution_count": 50,
   "id": "e67d88d4",
   "metadata": {
    "id": "female-gambling",
    "outputId": "8df039b4-eec6-40ed-bd74-1dc1203898c0"
   },
   "outputs": [
    {
     "data": {
      "text/plain": [
       "True"
      ]
     },
     "execution_count": 50,
     "metadata": {},
     "output_type": "execute_result"
    }
   ],
   "source": [
    "'seconds_in_a_decade' in vars()"
   ]
  },
  {
   "cell_type": "code",
   "execution_count": 51,
   "id": "ab2ecc3d",
   "metadata": {
    "id": "sound-motor",
    "outputId": "4275ab85-1037-4022-a96b-87533351ef87"
   },
   "outputs": [
    {
     "data": {
      "text/plain": [
       "True"
      ]
     },
     "execution_count": 51,
     "metadata": {},
     "output_type": "execute_result"
    }
   ],
   "source": [
    "seconds_in_a_decade != ..."
   ]
  },
  {
   "cell_type": "code",
   "execution_count": 52,
   "id": "214d8cae",
   "metadata": {
    "id": "basic-franklin",
    "outputId": "dab6f0ae-9460-4df4-dbf7-f80bcbbbe6c4"
   },
   "outputs": [
    {
     "data": {
      "text/plain": [
       "True"
      ]
     },
     "execution_count": 52,
     "metadata": {},
     "output_type": "execute_result"
    }
   ],
   "source": [
    "seconds_in_a_decade != 315360000"
   ]
  },
  {
   "cell_type": "code",
   "execution_count": 53,
   "id": "8d247a2a",
   "metadata": {
    "id": "painful-nomination",
    "outputId": "09b6cdaf-1524-4e7e-b6b9-c65cd6645c0b"
   },
   "outputs": [
    {
     "data": {
      "text/plain": [
       "True"
      ]
     },
     "execution_count": 53,
     "metadata": {},
     "output_type": "execute_result"
    }
   ],
   "source": [
    "seconds_in_a_decade == 315532800"
   ]
  },
  {
   "cell_type": "raw",
   "id": "01274e1a",
   "metadata": {},
   "source": [
    "# END TESTS"
   ]
  },
  {
   "cell_type": "raw",
   "id": "0891bfce",
   "metadata": {},
   "source": [
    "# END QUESTION"
   ]
  },
  {
   "cell_type": "markdown",
   "id": "f99919b8",
   "metadata": {
    "id": "collaborative-handling"
   },
   "source": [
    "## 5. Comments\n",
    "You may have noticed these lines in the cell in which you answered Question 3.2:\n",
    "\n",
    "    # Change the next line \n",
    "    # so that it computes the number of seconds in a decade \n",
    "    # and assigns that number the name, seconds_in_a_decade.\n",
    "    \n",
    "This is called a *comment*. It doesn't make anything happen in Python; Python ignores anything on a line after a `#`.  Instead, it's there to communicate something about the code to you, the human reader. Comments are extremely useful. \n",
    "\n",
    "\n",
    "<img src=\"http://imgs.xkcd.com/comics/future_self.png\">\n",
    "Source: http://imgs.xkcd.com/comics/future_self.png"
   ]
  },
  {
   "cell_type": "markdown",
   "id": "25839c45",
   "metadata": {
    "id": "distant-sixth"
   },
   "source": [
    "## 6. Application: A Physics Experiment\n",
    "\n",
    "On the Apollo 15 mission to the Moon, astronaut David Scott famously replicated Galileo's physics experiment in which he showed that gravity accelerates objects of different mass at the same rate. Because there is no air resistance for a falling object on the surface of the Moon, even two objects with very different masses and densities should fall at the same rate. David Scott compared a feather and a hammer.\n",
    "\n",
    "You can run the following cell to watch a video of the experiment."
   ]
  },
  {
   "cell_type": "code",
   "execution_count": 54,
   "id": "d102ef0e",
   "metadata": {
    "id": "exterior-touch",
    "outputId": "4f5cb5ef-9023-4ec7-eb39-dbf648771b70"
   },
   "outputs": [
    {
     "data": {
      "image/jpeg": "[encoded data removed]",
      "text/html": [
       "\n",
       "        <iframe\n",
       "            width=\"400\"\n",
       "            height=\"300\"\n",
       "            src=\"https://www.youtube.com/embed/U7db6ZeLR5s\"\n",
       "            frameborder=\"0\"\n",
       "            allowfullscreen\n",
       "            \n",
       "        ></iframe>\n",
       "        "
      ],
      "text/plain": [
       "<IPython.lib.display.YouTubeVideo at 0x7f243ecbdea0>"
      ]
     },
     "execution_count": 54,
     "metadata": {},
     "output_type": "execute_result"
    }
   ],
   "source": [
    "from IPython.display import YouTubeVideo\n",
    "# The original URL is: \n",
    "# https://www.youtube.com/watch?v=U7db6ZeLR5s\n",
    "\n",
    "YouTubeVideo(\"U7db6ZeLR5s\")"
   ]
  },
  {
   "cell_type": "markdown",
   "id": "4279f148",
   "metadata": {
    "id": "caring-confidence"
   },
   "source": [
    "Here's the transcript of the video:\n",
    "\n",
    "**167:22:06 Scott**: Well, in my left hand, I have a feather; in my right hand, a hammer. And I guess one of the reasons we got here today was because of a gentleman named Galileo, a long time ago, who made a rather significant discovery about falling objects in gravity fields. And we thought where would be a better place to confirm his findings than on the Moon. And so we thought we'd try it here for you. The feather happens to be, appropriately, a falcon feather for our Falcon. And I'll drop the two of them here and, hopefully, they'll hit the ground at the same time. \n",
    "\n",
    "**167:22:43 Scott**: How about that!\n",
    "\n",
    "**167:22:45 Allen**: How about that! (Applause in Houston)\n",
    "\n",
    "**167:22:46 Scott**: Which proves that Mr. Galileo was correct in his findings."
   ]
  },
  {
   "cell_type": "markdown",
   "id": "7aebca6a",
   "metadata": {
    "id": "civilian-knight"
   },
   "source": [
    "**Newton's Law.** Using this footage, we can also attempt to confirm another famous bit of physics: Newton's law of universal gravitation. Newton's laws predict that any object dropped near the surface of the Moon should fall\n",
    "\n",
    "$$\\frac{1}{2} G \\frac{M}{R^2} t^2 \\text{ meters}$$\n",
    "\n",
    "after $t$ seconds, where $G$ is a universal constant, $M$ is the moon's mass in kilograms, and $R$ is the moon's radius in meters.  So if we know $G$, $M$, and $R$, then Newton's laws let us predict how far an object will fall over any amount of time.\n",
    "\n",
    "To verify the accuracy of this law, we will calculate the difference between the predicted distance the hammer drops and the actual distance.  (If they are different, it might be because Newton's laws are wrong, or because our measurements are imprecise, or because there are other factors affecting the hammer for which we haven't accounted.)\n",
    "\n",
    "Someone studied the video and estimated that the hammer was dropped 113 cm from the surface. Counting frames in the video, the hammer falls for 1.2 seconds (36 frames)."
   ]
  },
  {
   "cell_type": "raw",
   "id": "8a88da0e",
   "metadata": {},
   "source": [
    "# BEGIN QUESTION\n",
    "name: q4"
   ]
  },
  {
   "cell_type": "markdown",
   "id": "f2d6fce4",
   "metadata": {},
   "source": [
    "**Question 4.** Complete the code in the next cell to fill in the data from the experiment.\n",
    "\n",
    "**Hint:** No computation required; just fill in data from the paragraph above."
   ]
  },
  {
   "cell_type": "raw",
   "id": "071f2461",
   "metadata": {},
   "source": [
    "# BEGIN SOLUTION"
   ]
  },
  {
   "cell_type": "code",
   "execution_count": 55,
   "id": "8697c13e",
   "metadata": {
    "id": "electrical-layout"
   },
   "outputs": [],
   "source": [
    "# t, the duration of the fall in the experiment, in seconds.\n",
    "# Fill this in.\n",
    "time = 1.2 # SOLUTION\n",
    "\n",
    "# The estimated distance the hammer actually fell, in meters.\n",
    "# Fill this in.\n",
    "estimated_distance_m = 1.13 # SOLUTION"
   ]
  },
  {
   "cell_type": "raw",
   "id": "2f9dd975",
   "metadata": {},
   "source": [
    "# END SOLUTION"
   ]
  },
  {
   "cell_type": "raw",
   "id": "e8714c6c",
   "metadata": {},
   "source": [
    "# BEGIN TESTS"
   ]
  },
  {
   "cell_type": "code",
   "execution_count": 56,
   "id": "f6aa676f",
   "metadata": {
    "id": "pursuant-collapse",
    "outputId": "8717d7b9-05c4-4d88-9e93-d0fa5f6b3b41"
   },
   "outputs": [
    {
     "data": {
      "text/plain": [
       "True"
      ]
     },
     "execution_count": 56,
     "metadata": {},
     "output_type": "execute_result"
    }
   ],
   "source": [
    "time != ..."
   ]
  },
  {
   "cell_type": "code",
   "execution_count": 57,
   "id": "178b653e",
   "metadata": {
    "id": "incorrect-cancer",
    "outputId": "cbf38a0c-3510-4c10-d823-79c78e544981"
   },
   "outputs": [
    {
     "data": {
      "text/plain": [
       "1.2"
      ]
     },
     "execution_count": 57,
     "metadata": {},
     "output_type": "execute_result"
    }
   ],
   "source": [
    "round(time, 5)"
   ]
  },
  {
   "cell_type": "code",
   "execution_count": 58,
   "id": "d8f3faf5",
   "metadata": {
    "id": "median-married",
    "outputId": "7242d88b-95c0-4762-e5b0-e1b57ec0d950"
   },
   "outputs": [
    {
     "data": {
      "text/plain": [
       "True"
      ]
     },
     "execution_count": 58,
     "metadata": {},
     "output_type": "execute_result"
    }
   ],
   "source": [
    "estimated_distance_m != ..."
   ]
  },
  {
   "cell_type": "code",
   "execution_count": 59,
   "id": "8e226957",
   "metadata": {
    "id": "color-harbor",
    "outputId": "9effb77c-21e1-40a3-a7a6-43b1f7295364"
   },
   "outputs": [
    {
     "data": {
      "text/plain": [
       "True"
      ]
     },
     "execution_count": 59,
     "metadata": {},
     "output_type": "execute_result"
    }
   ],
   "source": [
    "estimated_distance_m != 113"
   ]
  },
  {
   "cell_type": "code",
   "execution_count": 60,
   "id": "51473f68",
   "metadata": {
    "id": "incredible-plasma",
    "outputId": "12921799-b422-4255-9d85-9d7c406d4c4c"
   },
   "outputs": [
    {
     "data": {
      "text/plain": [
       "1.13"
      ]
     },
     "execution_count": 60,
     "metadata": {},
     "output_type": "execute_result"
    }
   ],
   "source": [
    "round(estimated_distance_m, 5)"
   ]
  },
  {
   "cell_type": "raw",
   "id": "796c69af",
   "metadata": {},
   "source": [
    "# END TESTS"
   ]
  },
  {
   "cell_type": "raw",
   "id": "45fb8f29",
   "metadata": {},
   "source": [
    "# END QUESTION"
   ]
  },
  {
   "cell_type": "raw",
   "id": "671220d9",
   "metadata": {},
   "source": [
    "# BEGIN QUESTION\n",
    "name: q5"
   ]
  },
  {
   "cell_type": "markdown",
   "id": "7a978cfb",
   "metadata": {},
   "source": [
    "**Question 5.**  Now, complete the code in the next cell to compute the difference between the predicted and estimated distances (in meters) that the hammer fell in this experiment.\n",
    "\n",
    "This just means translating the formula above ($\\frac{1}{2}G\\frac{M}{R^2}t^2$) into Python code.  You'll have to replace each variable in the math formula with the name we gave that number in Python code.\n",
    "\n",
    "**Hint:** Try to use variables you've already defined in **Question 4.**"
   ]
  },
  {
   "cell_type": "raw",
   "id": "d18e549d",
   "metadata": {},
   "source": [
    "# BEGIN SOLUTION"
   ]
  },
  {
   "cell_type": "code",
   "execution_count": 61,
   "id": "643d7c75",
   "metadata": {
    "id": "herbal-latino",
    "outputId": "259a68a3-0fc9-443f-d66d-c0109481b0d2"
   },
   "outputs": [
    {
     "data": {
      "text/plain": [
       "0.040223694659304865"
      ]
     },
     "execution_count": 61,
     "metadata": {},
     "output_type": "execute_result"
    }
   ],
   "source": [
    "# First, we've written down the values of the 3 universal constants \n",
    "# that show up in Newton's formula.\n",
    "\n",
    "# G, the universal constant measuring the strength of gravity.\n",
    "gravity_constant = 6.674 * 10**-11\n",
    "\n",
    "# M, the moon's mass, in kilograms.\n",
    "moon_mass_kg = 7.34767309 * 10**22\n",
    "\n",
    "# R, the radius of the moon, in meters.\n",
    "moon_radius_m = 1.737 * 10**6\n",
    "\n",
    "# The distance the hammer should have fallen \n",
    "# over the duration of the fall, in meters, \n",
    "# according to Newton's law of gravity.  \n",
    "# The text above describes the formula\n",
    "# for this distance given by Newton's law.\n",
    "#\n",
    "# You fill in this part.\n",
    "predicted_distance_m = (1/2) * gravity_constant * (moon_mass_kg / moon_radius_m**2) * time**2 # SOLUTION\n",
    "\n",
    "# Here we've computed the difference between the predicted  \n",
    "# fall distance and the distance we actually measured.\n",
    "# If you've filled in the above code, this should just work.\n",
    "difference = predicted_distance_m - estimated_distance_m\n",
    "difference"
   ]
  },
  {
   "cell_type": "raw",
   "id": "9b71e062",
   "metadata": {},
   "source": [
    "# END SOLUTION"
   ]
  },
  {
   "cell_type": "raw",
   "id": "e27999d6",
   "metadata": {},
   "source": [
    "# BEGIN TESTS"
   ]
  },
  {
   "cell_type": "code",
   "execution_count": 62,
   "id": "e83675d7",
   "metadata": {
    "id": "amber-pattern",
    "outputId": "a332b6b5-1968-4d31-b5b6-7990f3728193"
   },
   "outputs": [
    {
     "data": {
      "text/plain": [
       "True"
      ]
     },
     "execution_count": 62,
     "metadata": {},
     "output_type": "execute_result"
    }
   ],
   "source": [
    "predicted_distance_m != ..."
   ]
  },
  {
   "cell_type": "code",
   "execution_count": 63,
   "id": "ad1fc614",
   "metadata": {
    "id": "productive-recognition",
    "outputId": "ba64a610-7d3c-486e-cd46-7eee8dea4d01"
   },
   "outputs": [
    {
     "data": {
      "text/plain": [
       "1.17022"
      ]
     },
     "execution_count": 63,
     "metadata": {},
     "output_type": "execute_result"
    }
   ],
   "source": [
    "round(predicted_distance_m, 5)"
   ]
  },
  {
   "cell_type": "code",
   "execution_count": 64,
   "id": "0eb0a0ae",
   "metadata": {
    "id": "first-hobby",
    "outputId": "9e684d1f-e78b-4f39-b9fc-961d179f80d4"
   },
   "outputs": [
    {
     "data": {
      "text/plain": [
       "0.04022"
      ]
     },
     "execution_count": 64,
     "metadata": {},
     "output_type": "execute_result"
    }
   ],
   "source": [
    "round(difference, 5)"
   ]
  },
  {
   "cell_type": "raw",
   "id": "70dbeb16",
   "metadata": {},
   "source": [
    "# END TESTS"
   ]
  },
  {
   "cell_type": "raw",
   "id": "0988e962",
   "metadata": {},
   "source": [
    "# END QUESTION"
   ]
  },
  {
   "cell_type": "markdown",
   "id": "ffe95968",
   "metadata": {
    "id": "possible-qualification"
   },
   "source": [
    "## 4. Calling Functions\n",
    "\n",
    "The most common way to combine or manipulate values in Python is by calling functions. Python comes with many built-in functions that perform common operations.\n",
    "\n",
    "For example, the `abs` function takes a single number as its argument and returns the absolute value of that number. Run the next two cells and see if you understand the output."
   ]
  },
  {
   "cell_type": "code",
   "execution_count": 65,
   "id": "f53f1226",
   "metadata": {
    "id": "endless-interface",
    "outputId": "bd8e5738-0d47-4990-dced-3d8be4140f53"
   },
   "outputs": [
    {
     "data": {
      "text/plain": [
       "5"
      ]
     },
     "execution_count": 65,
     "metadata": {},
     "output_type": "execute_result"
    }
   ],
   "source": [
    "abs(5)"
   ]
  },
  {
   "cell_type": "code",
   "execution_count": 66,
   "id": "b5d32aa3",
   "metadata": {
    "id": "harmful-corner",
    "outputId": "ef0dce4b-7db6-4bc5-b16b-779fb7217a56"
   },
   "outputs": [
    {
     "data": {
      "text/plain": [
       "5"
      ]
     },
     "execution_count": 66,
     "metadata": {},
     "output_type": "execute_result"
    }
   ],
   "source": [
    "abs(-5)"
   ]
  },
  {
   "cell_type": "markdown",
   "id": "de6c0bf7",
   "metadata": {
    "id": "hundred-congo"
   },
   "source": [
    "## 7. Application: Computing Walking Distances\n",
    "\n",
    "Chunhua is on the corner of 7th Avenue and 42nd Street in Midtown Manhattan, and she wants to know far she'd have to walk to get to Gramercy School on the corner of 10th Avenue and 34th Street.\n",
    "\n",
    "She can't cut across blocks diagonally, since there are buildings in the way.  She has to walk along the sidewalks.  Using the map below, she sees she'd have to walk 3 avenues (long blocks) and 8 streets (short blocks).  In terms of the given numbers, she computed 3 as the difference between 7 and 10, *in absolute value*, and 8 similarly.  \n",
    "\n",
    "Chunhua also knows that blocks in Manhattan are all about 80m by 274m (avenues are farther apart than streets).  So in total, she'd have to walk $(80 \\times |42 - 34| + 274 \\times |7 - 10|)$ meters to get to the park.\n",
    "\n",
    "<img src=\"images/map.jpg\"/>"
   ]
  },
  {
   "cell_type": "raw",
   "id": "aab7c6bf",
   "metadata": {},
   "source": [
    "# BEGIN QUESTION\n",
    "name: q6"
   ]
  },
  {
   "cell_type": "markdown",
   "id": "b49cc298",
   "metadata": {},
   "source": [
    "**Question 6.** Fill in the line `num_avenues_away = ...` in the next cell so that the cell calculates the distance Chunhua must walk and gives it the name `manhattan_distance`. Everything else has been filled in for you.  **Use the `abs` function.** Also, be sure to run the test cell afterward to test your code."
   ]
  },
  {
   "cell_type": "raw",
   "id": "dc659821",
   "metadata": {},
   "source": [
    "# BEGIN SOLUTION"
   ]
  },
  {
   "cell_type": "code",
   "execution_count": 67,
   "id": "645eb0b4",
   "metadata": {
    "id": "supreme-service",
    "outputId": "205da5d1-6659-414c-c4d3-c6fb8db21748"
   },
   "outputs": [
    {
     "data": {
      "text/plain": [
       "1462"
      ]
     },
     "execution_count": 67,
     "metadata": {},
     "output_type": "execute_result"
    }
   ],
   "source": [
    "# Here's the number of streets away:\n",
    "num_streets_away = abs(42-34)\n",
    "\n",
    "# Compute the number of avenues away in a similar way:\n",
    "num_avenues_away = abs(7-10) # SOLUTION\n",
    "\n",
    "street_length_m = 80\n",
    "avenue_length_m = 274\n",
    "\n",
    "# Now we compute the total distance Chunhua must walk.\n",
    "manhattan_distance = street_length_m*num_streets_away + avenue_length_m*num_avenues_away\n",
    "\n",
    "# We've included this line so that you see the distance you've computed \n",
    "# when you run this cell.  \n",
    "# You don't need to change it, but you can if you want.\n",
    "manhattan_distance"
   ]
  },
  {
   "cell_type": "raw",
   "id": "2dc2e6c0",
   "metadata": {},
   "source": [
    "# END SOLUTION"
   ]
  },
  {
   "cell_type": "raw",
   "id": "2b623f3a",
   "metadata": {},
   "source": [
    "# BEGIN TESTS"
   ]
  },
  {
   "cell_type": "code",
   "execution_count": 68,
   "id": "2c4bb749",
   "metadata": {
    "id": "controlling-queens",
    "outputId": "629cc580-c0dc-46bc-a988-3bbc6d495e05"
   },
   "outputs": [
    {
     "data": {
      "text/plain": [
       "True"
      ]
     },
     "execution_count": 68,
     "metadata": {},
     "output_type": "execute_result"
    }
   ],
   "source": [
    "num_avenues_away != ..."
   ]
  },
  {
   "cell_type": "code",
   "execution_count": 69,
   "id": "b4e6dc22",
   "metadata": {
    "id": "vital-legend",
    "outputId": "a4cf4d4e-6954-4f18-b9cc-a9c7d25a3bf4"
   },
   "outputs": [
    {
     "data": {
      "text/plain": [
       "True"
      ]
     },
     "execution_count": 69,
     "metadata": {},
     "output_type": "execute_result"
    }
   ],
   "source": [
    "num_avenues_away != -3"
   ]
  },
  {
   "cell_type": "code",
   "execution_count": 70,
   "id": "849fb3d0",
   "metadata": {
    "id": "characteristic-muscle",
    "outputId": "8f8e6b0f-ac6e-4dfb-9ddf-8e2f5076010a"
   },
   "outputs": [
    {
     "data": {
      "text/plain": [
       "3"
      ]
     },
     "execution_count": 70,
     "metadata": {},
     "output_type": "execute_result"
    }
   ],
   "source": [
    "num_avenues_away"
   ]
  },
  {
   "cell_type": "code",
   "execution_count": 71,
   "id": "bc6a5708",
   "metadata": {
    "id": "royal-cleaner",
    "outputId": "bf0fafbe-0f98-4dfa-bcd8-d07e11b079aa"
   },
   "outputs": [
    {
     "data": {
      "text/plain": [
       "1462"
      ]
     },
     "execution_count": 71,
     "metadata": {},
     "output_type": "execute_result"
    }
   ],
   "source": [
    "manhattan_distance"
   ]
  },
  {
   "cell_type": "raw",
   "id": "d0d1022c",
   "metadata": {},
   "source": [
    "# END TESTS"
   ]
  },
  {
   "cell_type": "raw",
   "id": "c4b3a680",
   "metadata": {},
   "source": [
    "# END QUESTION"
   ]
  },
  {
   "cell_type": "markdown",
   "id": "0d36044e",
   "metadata": {
    "id": "sudden-bermuda"
   },
   "source": [
    "**Multiple arguments**\n",
    "\n",
    "Some functions take multiple arguments, separated by commas. For example, the built-in `max` function returns the maximum argument passed to it."
   ]
  },
  {
   "cell_type": "code",
   "execution_count": 72,
   "id": "0659ff11",
   "metadata": {
    "id": "hidden-communications",
    "outputId": "c3903f19-5033-4ef4-e492-851b3762ce0a"
   },
   "outputs": [
    {
     "data": {
      "text/plain": [
       "4"
      ]
     },
     "execution_count": 72,
     "metadata": {},
     "output_type": "execute_result"
    }
   ],
   "source": [
    "max(2, -3, 4, -5)"
   ]
  },
  {
   "cell_type": "markdown",
   "id": "462ce34a",
   "metadata": {
    "id": "promotional-apparatus"
   },
   "source": [
    "## 8. Understanding Nested Expressions\n",
    "\n",
    "Function calls and arithmetic expressions can themselves contain expressions.  You saw an example in the last question:\n",
    "\n",
    "    abs(42-34)\n",
    "\n",
    "has 2 number expressions in a subtraction expression in a function call expression.  And you probably wrote something like `abs(7-10)` to compute `num_avenues_away`.\n",
    "\n",
    "Nested expressions can turn into complicated-looking code. However, the way in which complicated expressions break down is very regular.\n",
    "\n",
    "Suppose we are interested in heights that are very unusual.  We'll say that a height is unusual to the extent that it's far away on the number line from the average human height.  [An estimate](https://en.wikipedia.org/wiki/Average_human_height_by_country) of the average adult human height (averaging, we hope, over all humans on Earth today) is 1.688 meters.\n",
    "\n",
    "So if Kayla is 1.21 meters tall, then her height is $|1.21 - 1.688|$, or $.478$, meters away from the average.  Here's a picture of that:\n",
    "\n",
    "<img src=\"images/numberline_0.png\">\n",
    "\n",
    "And here's how we'd write that in one line of Python code:"
   ]
  },
  {
   "cell_type": "code",
   "execution_count": 73,
   "id": "3d217628",
   "metadata": {
    "id": "sorted-workshop",
    "outputId": "2f9dffe4-e8fe-4548-f7e4-77c27a6310f6"
   },
   "outputs": [
    {
     "data": {
      "text/plain": [
       "0.478"
      ]
     },
     "execution_count": 73,
     "metadata": {},
     "output_type": "execute_result"
    }
   ],
   "source": [
    "abs(1.21 - 1.688)"
   ]
  },
  {
   "cell_type": "markdown",
   "id": "ccb51552",
   "metadata": {
    "id": "perfect-hindu"
   },
   "source": [
    "What's going on here?  `abs` takes just one argument, so the stuff inside the parentheses is all part of that *single argument*.  Specifically, the argument is the value of the expression `1.21 - 1.688`.  The value of that expression is `-.478`.  That value is the argument to `abs`.  The absolute value of that is `.478`, so `.478` is the value of the full expression `abs(1.21 - 1.688)`.\n",
    "\n",
    "Picture simplifying the expression in several steps:\n",
    "\n",
    "1. `abs(1.21 - 1.688)`\n",
    "2. `abs(-.478)`\n",
    "3. `.478`\n",
    "\n",
    "In fact, that's basically what Python does to compute the value of the expression."
   ]
  },
  {
   "cell_type": "raw",
   "id": "02360dd1",
   "metadata": {},
   "source": [
    "# BEGIN QUESTION\n",
    "name: q7"
   ]
  },
  {
   "cell_type": "markdown",
   "id": "7c5a6721",
   "metadata": {},
   "source": [
    "**Question 7.** Say that Paola's height is 1.76 meters.  In the next cell, use `abs` to compute the absolute value of the difference between Paola's height and the average human height.  Give that value the name `paola_distance_from_average_m`.\n",
    "\n",
    "<img src=\"images/numberline_1.png\">"
   ]
  },
  {
   "cell_type": "raw",
   "id": "5f4c285f",
   "metadata": {},
   "source": [
    "# BEGIN SOLUTION"
   ]
  },
  {
   "cell_type": "code",
   "execution_count": 74,
   "id": "bbdef1ff",
   "metadata": {
    "id": "usual-disease",
    "outputId": "90aaf26c-35c4-4b0b-f8ef-b87523e6e764"
   },
   "outputs": [
    {
     "data": {
      "text/plain": [
       "0.07200000000000006"
      ]
     },
     "execution_count": 74,
     "metadata": {},
     "output_type": "execute_result"
    }
   ],
   "source": [
    "# Replace the ... with an expression \n",
    "# to compute the absolute value \n",
    "# of the difference between Paola's height (1.76m) and the average human height.\n",
    "paola_distance_from_average_m = abs(1.76 - 1.688) # SOLUTION\n",
    "\n",
    "# Again, we've written this here \n",
    "# so that the distance you compute will get printed \n",
    "# when you run this cell.\n",
    "paola_distance_from_average_m"
   ]
  },
  {
   "cell_type": "raw",
   "id": "4b9c0982",
   "metadata": {},
   "source": [
    "# END SOLUTION"
   ]
  },
  {
   "cell_type": "raw",
   "id": "545d824b",
   "metadata": {},
   "source": [
    "# BEGIN TESTS"
   ]
  },
  {
   "cell_type": "code",
   "execution_count": 75,
   "id": "4fcf2a7d",
   "metadata": {
    "id": "hungarian-jewelry",
    "outputId": "7eef930c-2d52-443b-8c7c-d8330e93983f"
   },
   "outputs": [
    {
     "data": {
      "text/plain": [
       "0.072"
      ]
     },
     "execution_count": 75,
     "metadata": {},
     "output_type": "execute_result"
    }
   ],
   "source": [
    "round(paola_distance_from_average_m, 5)"
   ]
  },
  {
   "cell_type": "raw",
   "id": "ba010a6b",
   "metadata": {},
   "source": [
    "# END TESTS"
   ]
  },
  {
   "cell_type": "raw",
   "id": "c8b30c2d",
   "metadata": {},
   "source": [
    "# END QUESTION"
   ]
  },
  {
   "cell_type": "raw",
   "id": "03fed37f",
   "metadata": {},
   "source": [
    "# BEGIN QUESTION\n",
    "name: q8"
   ]
  },
  {
   "cell_type": "markdown",
   "id": "753ea740",
   "metadata": {},
   "source": [
    "**Question 8.** Given the heights of players from the Charlotte Hornets, write an expression that computes the smallest difference between any of the three heights. Your expression shouldn't have any numbers in it, only function calls and the names `lamelo`, `terry` and `mason`. Give the value of your expression the name `min_height_difference`."
   ]
  },
  {
   "cell_type": "raw",
   "id": "cf8a3575",
   "metadata": {},
   "source": [
    "# BEGIN SOLUTION"
   ]
  },
  {
   "cell_type": "code",
   "execution_count": 78,
   "id": "e1f727c0",
   "metadata": {
    "id": "atmospheric-great"
   },
   "outputs": [],
   "source": [
    "# The three players' heights, in meters:\n",
    "lamelo =  2.01 # LaMelo Ball is 6'7\"\n",
    "terry = 1.91 # Terry Rozier is 6'3\"\n",
    "mason = 2.11 # Mason Plumlee is 6'11\"\n",
    "             \n",
    "# We'd like to look at all 3 pairs of heights, \n",
    "# compute the absolute difference between each pair, \n",
    "# and then find the smallest of those 3 absolute differences.  \n",
    "# This is left to you!  \n",
    "# If you're stuck, try computing the value for each step of the process \n",
    "# (like the difference between LaMelo's heigh and Terry's height) \n",
    "# on a separate line and giving it a name (like lamelo_terry_height_diff)\n",
    "min_height_difference = min(abs(lamelo-terry), abs(lamelo-mason), abs(mason-terry)) # SOLUTION"
   ]
  },
  {
   "cell_type": "raw",
   "id": "412b0ee8",
   "metadata": {},
   "source": [
    "# END SOLUTION"
   ]
  },
  {
   "cell_type": "raw",
   "id": "832d4273",
   "metadata": {},
   "source": [
    "# BEGIN TESTS"
   ]
  },
  {
   "cell_type": "code",
   "execution_count": 79,
   "id": "f73cf0ef",
   "metadata": {
    "id": "dirty-mouth",
    "outputId": "20041b56-fec6-4a2f-ad0b-7ea6ce0124b4"
   },
   "outputs": [
    {
     "data": {
      "text/plain": [
       "0.1"
      ]
     },
     "execution_count": 79,
     "metadata": {},
     "output_type": "execute_result"
    }
   ],
   "source": [
    "round(min_height_difference, 5)"
   ]
  },
  {
   "cell_type": "raw",
   "id": "2b63ad6a",
   "metadata": {},
   "source": [
    "# END TESTS"
   ]
  },
  {
   "cell_type": "raw",
   "id": "10c1881b",
   "metadata": {},
   "source": [
    "# END QUESTION"
   ]
  }
 ],
 "metadata": {
  "colab": {
   "name": "lab01.ipynb",
   "provenance": []
  },
  "kernelspec": {
   "display_name": "Python 3 (ipykernel)",
   "language": "python",
   "name": "python3"
  },
  "language_info": {
   "codemirror_mode": {
    "name": "ipython",
    "version": 3
   },
   "file_extension": ".py",
   "mimetype": "text/x-python",
   "name": "python",
   "nbconvert_exporter": "python",
   "pygments_lexer": "ipython3",
   "version": "3.10.11"
  }
 },
 "nbformat": 4,
 "nbformat_minor": 5
}
