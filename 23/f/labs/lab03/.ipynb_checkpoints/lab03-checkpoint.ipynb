{
 "cells": [
  {
   "cell_type": "raw",
   "metadata": {},
   "source": [
    "# ASSIGNMENT CONFIG\n",
    "files: \n",
    "    - images/array_logarithm.jpg\n",
    "    - images/array_multiplication.jpg\n",
    "    - images/chaining_method_calls.png\n",
    "    - data/imdb.csv\n",
    "    - data/more_restaurant_bills.csv\n",
    "    - data/world_population.csv"
   ]
  },
  {
   "cell_type": "markdown",
   "metadata": {},
   "source": [
    "# Run the cell below\n",
    "\n",
    "To run a code cell (i.e.; execute the python code inside a Jupyter notebook) you can click the play button on the ribbon underneath the name of the notebook. Before you begin click the \"Run cell\" button at the top that looks like ▶| or hold down `Shift` + `Return`."
   ]
  },
  {
   "cell_type": "markdown",
   "metadata": {},
   "source": [
    "# Lab 03: Data Types and Arrays\n",
    "\n",
    "Welcome to Foundations of Data Science for High School! Throughout the course you will complete assignments like this one. You can't learn technical subjects without hands-on practice, so these assignments are an important part of the course.\n",
    "\n",
    "**Collaboration Policy:**\n",
    "\n",
    "Collaborating on labs is more than okay -- it's encouraged! You should rarely remain stuck for more than a few minutes on questions in labs, so ask a neighbor or an instructor for help. Explaining things is beneficial, too -- the best way to solidify your knowledge of a subject is to explain it. You should **not** _just_ copy/paste someone else's code, but rather work together to gain understanding of the task you need to complete. \n",
    "\n",
    "**Due Date:** \n",
    "\n",
    "# Today's Assignment \n",
    "\n",
    "So far, we've used Python to manipulate numbers and work with tables.  But we need to discuss data types to deepen our understanding of how to work with data in Python.\n",
    "\n",
    "In this lab, you'll first see how to represent and manipulate another fundamental type of data: text.  A piece of text is called a *string* in Python. You'll also see how to work with *arrays* of data, such as all the numbers between 0 and 100 or all the words in the chapter of a book. Lastly, you'll create tables and practice analyzing them with your knowledge of table operations.\n",
    "\n",
    "This week, we'll learn how to work with text and arrays.\n",
    "\n",
    "Recommended reading\n",
    " * [Strings](https://inferentialthinking.com/chapters/04/2/Strings.html)\n",
    " \n",
    " * [Sequences](https://inferentialthinking.com/chapters/05/Sequences.html)\n",
    "\n",
    "First, set up the imports by running the cell below."
   ]
  },
  {
   "cell_type": "code",
   "execution_count": 1,
   "metadata": {
    "tags": []
   },
   "outputs": [],
   "source": [
    "from datascience import *\n",
    "import numpy as np\n",
    "import math"
   ]
  },
  {
   "cell_type": "markdown",
   "metadata": {},
   "source": [
    "## 1. Text\n",
    "Programming doesn't just concern numbers. Text is one of the most common data types used in programs. \n",
    "\n",
    "Text is represented by a **string value** in Python. The word \"string\" is a programming term for a sequence of characters. A string might contain a single character, a word, a sentence, or a whole book.\n",
    "\n",
    "To distinguish text data from actual code, we demarcate strings by putting quotation marks around them. Single quotes (`'`) and double quotes (`\"`) are both valid, but the types of opening and closing quotation marks must match. The contents can be any sequence of characters, including numbers and symbols. \n",
    "\n",
    "We've seen strings before in `print` statements.  Below, two different strings are passed as arguments to the `print` function."
   ]
  },
  {
   "cell_type": "code",
   "execution_count": 2,
   "metadata": {
    "tags": []
   },
   "outputs": [
    {
     "name": "stdout",
     "output_type": "stream",
     "text": [
      "I <3 Data Science\n"
     ]
    }
   ],
   "source": [
    "print(\"I <3\", 'Data Science')"
   ]
  },
  {
   "cell_type": "markdown",
   "metadata": {},
   "source": [
    "Just as names can be given to numbers, names can be given to string values.  The names and strings aren't required to be similar in any way. Any name can be assigned to any string."
   ]
  },
  {
   "cell_type": "code",
   "execution_count": 3,
   "metadata": {
    "tags": []
   },
   "outputs": [
    {
     "name": "stdout",
     "output_type": "stream",
     "text": [
      "two * two\n"
     ]
    }
   ],
   "source": [
    "one = 'two'\n",
    "plus = '*'\n",
    "print(one, plus, one)"
   ]
  },
  {
   "cell_type": "raw",
   "metadata": {},
   "source": [
    "# BEGIN QUESTION\n",
    "name: q1"
   ]
  },
  {
   "cell_type": "markdown",
   "metadata": {},
   "source": [
    "**Question 1.** Yuri Gagarin was the first person to travel through outer space.  When he emerged from his capsule upon landing on Earth, he [reportedly](https://en.wikiquote.org/wiki/Yuri_Gagarin) had the following conversation with a woman and girl who saw the landing:\n",
    "\n",
    "    The woman asked: \"Can it be that you have come from outer space?\"\n",
    "    Gagarin replied: \"As a matter of fact, I have!\"\n",
    "\n",
    "The cell below contains unfinished code.  Fill in the `...`s so that it prints out this conversation *exactly* as it appears above.\n"
   ]
  },
  {
   "cell_type": "raw",
   "metadata": {},
   "source": [
    "# BEGIN SOLUTION"
   ]
  },
  {
   "cell_type": "code",
   "execution_count": 13,
   "metadata": {
    "tags": []
   },
   "outputs": [
    {
     "name": "stdout",
     "output_type": "stream",
     "text": [
      "The woman asked: \"Can it be that you have come from outer space?\"\n",
      "Gagarin replied: \"As a matter of fact, I have!\"\n"
     ]
    }
   ],
   "source": [
    "woman_asking = 'The woman asked:' # SOLUTION\n",
    "woman_quote = '\"Can it be that you have come from outer space?\"'\n",
    "gagarin_reply = 'Gagarin replied:'\n",
    "gagarin_quote = '\"As a matter of fact, I have!\"' # SOLUTION\n",
    "\n",
    "print(woman_asking, woman_quote)\n",
    "print(gagarin_reply, gagarin_quote)"
   ]
  },
  {
   "cell_type": "raw",
   "metadata": {},
   "source": [
    "# END SOLUTION"
   ]
  },
  {
   "cell_type": "raw",
   "metadata": {},
   "source": [
    "# BEGIN TESTS"
   ]
  },
  {
   "cell_type": "code",
   "execution_count": 14,
   "metadata": {
    "tags": []
   },
   "outputs": [
    {
     "data": {
      "text/plain": [
       "True"
      ]
     },
     "execution_count": 14,
     "metadata": {},
     "output_type": "execute_result"
    }
   ],
   "source": [
    "woman_asking == 'The woman asked:'"
   ]
  },
  {
   "cell_type": "code",
   "execution_count": 15,
   "metadata": {
    "tags": []
   },
   "outputs": [
    {
     "data": {
      "text/plain": [
       "True"
      ]
     },
     "execution_count": 15,
     "metadata": {},
     "output_type": "execute_result"
    }
   ],
   "source": [
    "woman_quote == '\"Can it be that you have come from outer space?\"'"
   ]
  },
  {
   "cell_type": "code",
   "execution_count": 16,
   "metadata": {
    "tags": []
   },
   "outputs": [
    {
     "data": {
      "text/plain": [
       "True"
      ]
     },
     "execution_count": 16,
     "metadata": {},
     "output_type": "execute_result"
    }
   ],
   "source": [
    "gagarin_quote == '\"As a matter of fact, I have!\"'"
   ]
  },
  {
   "cell_type": "code",
   "execution_count": 17,
   "metadata": {
    "tags": []
   },
   "outputs": [
    {
     "data": {
      "text/plain": [
       "True"
      ]
     },
     "execution_count": 17,
     "metadata": {},
     "output_type": "execute_result"
    }
   ],
   "source": [
    "gagarin_reply == 'Gagarin replied:'"
   ]
  },
  {
   "cell_type": "raw",
   "metadata": {},
   "source": [
    "# END TESTS"
   ]
  },
  {
   "cell_type": "raw",
   "metadata": {},
   "source": [
    "# END QUESTION"
   ]
  },
  {
   "cell_type": "markdown",
   "metadata": {},
   "source": [
    "### String Methods\n",
    "\n",
    "Strings can be transformed using **methods**. Recall that methods and functions are not technically the same thing, but we'll be using them interchangeably for the purposes of this course.\n",
    "\n",
    "Here's a sketch of how to call methods on a string:\n",
    "\n",
    "    <expression that evaluates to a string>.<method name>(<argument>, <argument>, ...)\n",
    "    \n",
    "One example of a string method is `replace`, which replaces all instances of some part of the original string (or a *substring*) with a new string. \n",
    "\n",
    "    <original string>.replace(<old substring>, <new substring>)\n",
    "    \n",
    "`replace` returns (evaluates to) a new string, leaving the original string unchanged.\n",
    "    \n",
    "Try to predict the output of this example, then run the cell."
   ]
  },
  {
   "cell_type": "code",
   "execution_count": 7,
   "metadata": {},
   "outputs": [
    {
     "data": {
      "text/plain": [
       "'Math'"
      ]
     },
     "execution_count": 7,
     "metadata": {},
     "output_type": "execute_result"
    }
   ],
   "source": [
    "# Replace one letter\n",
    "'Month'.replace('on', 'a')"
   ]
  },
  {
   "cell_type": "markdown",
   "metadata": {},
   "source": [
    "You can call functions on the results of other functions.  For example, `max(abs(-5), abs(3))` evaluates to 5.  Similarly, you can call methods on the results of other method or function calls.\n",
    "\n",
    "You may have already noticed one difference between functions and methods - a function like `max` does not require a `.` before it's called, but a string method like `replace` does."
   ]
  },
  {
   "cell_type": "code",
   "execution_count": 8,
   "metadata": {},
   "outputs": [
    {
     "data": {
      "text/plain": [
       "'degrade'"
      ]
     },
     "execution_count": 8,
     "metadata": {},
     "output_type": "execute_result"
    }
   ],
   "source": [
    "# Calling replace on the output of another call to replace\n",
    "'train'.replace('t', 'ing').replace('in', 'de')"
   ]
  },
  {
   "cell_type": "markdown",
   "metadata": {},
   "source": [
    "Here's a picture of how Python evaluates a \"chained\" method call like that:\n",
    "\n",
    "<img src=\"images/chaining_method_calls.png\"/>"
   ]
  },
  {
   "cell_type": "raw",
   "metadata": {},
   "source": [
    "# BEGIN QUESTION\n",
    "name: q2"
   ]
  },
  {
   "cell_type": "markdown",
   "metadata": {},
   "source": [
    "**Question 2.** Use `replace` to transform the string `'hitchhiker'` into `'matchmaker'`. Assign your result to `new_word`.\n"
   ]
  },
  {
   "cell_type": "raw",
   "metadata": {},
   "source": [
    "# BEGIN SOLUTION"
   ]
  },
  {
   "cell_type": "code",
   "execution_count": 18,
   "metadata": {
    "tags": []
   },
   "outputs": [
    {
     "data": {
      "text/plain": [
       "'matchmaker'"
      ]
     },
     "execution_count": 18,
     "metadata": {},
     "output_type": "execute_result"
    }
   ],
   "source": [
    "new_word = 'hitchhiker'.replace('i','a').replace('h','m').replace('mm','hm') # SOLUTION\n",
    "new_word"
   ]
  },
  {
   "cell_type": "raw",
   "metadata": {},
   "source": [
    "# END SOLUTION"
   ]
  },
  {
   "cell_type": "raw",
   "metadata": {},
   "source": [
    "# BEGIN TESTS"
   ]
  },
  {
   "cell_type": "code",
   "execution_count": 19,
   "metadata": {
    "tags": []
   },
   "outputs": [
    {
     "data": {
      "text/plain": [
       "'matchmaker'"
      ]
     },
     "execution_count": 19,
     "metadata": {},
     "output_type": "execute_result"
    }
   ],
   "source": [
    "new_word"
   ]
  },
  {
   "cell_type": "raw",
   "metadata": {},
   "source": [
    "# END TESTS"
   ]
  },
  {
   "cell_type": "raw",
   "metadata": {},
   "source": [
    "# END QUESTION"
   ]
  },
  {
   "cell_type": "markdown",
   "metadata": {},
   "source": [
    "There are many more string methods in Python, but most programmers don't memorize their names or how to use them.  In the \"real world,\" people usually just search the internet for documentation and examples. A complete [list of string methods](https://docs.python.org/3/library/stdtypes.html#string-methods) appears in the Python language documentation. [Stack Overflow](http://stackoverflow.com) has a huge database of answered questions that often demonstrate how to use these methods to achieve various ends."
   ]
  },
  {
   "cell_type": "markdown",
   "metadata": {},
   "source": [
    "### Converting to and from Strings\n",
    "\n",
    "Strings and numbers are different *types* of values, even when a string contains the digits of a number. For example, evaluating the following cell causes an error because an integer cannot be added to a string."
   ]
  },
  {
   "cell_type": "code",
   "execution_count": 11,
   "metadata": {},
   "outputs": [
    {
     "ename": "TypeError",
     "evalue": "unsupported operand type(s) for +: 'int' and 'str'",
     "output_type": "error",
     "traceback": [
      "\u001b[0;31m---------------------------------------------------------------------------\u001b[0m",
      "\u001b[0;31mTypeError\u001b[0m                                 Traceback (most recent call last)",
      "Input \u001b[0;32mIn [11]\u001b[0m, in \u001b[0;36m<cell line: 1>\u001b[0;34m()\u001b[0m\n\u001b[0;32m----> 1\u001b[0m \u001b[38;5;241;43m8\u001b[39;49m\u001b[43m \u001b[49m\u001b[38;5;241;43m+\u001b[39;49m\u001b[43m \u001b[49m\u001b[38;5;124;43m\"\u001b[39;49m\u001b[38;5;124;43m8\u001b[39;49m\u001b[38;5;124;43m\"\u001b[39;49m\n",
      "\u001b[0;31mTypeError\u001b[0m: unsupported operand type(s) for +: 'int' and 'str'"
     ]
    }
   ],
   "source": [
    "8 + \"8\""
   ]
  },
  {
   "cell_type": "markdown",
   "metadata": {},
   "source": [
    "However, there are built-in functions to convert numbers to strings and strings to numbers. Some of these built-in functions have restrictions on the type of argument they take:\n",
    "\n",
    "|Function |Description|\n",
    "|-|-|\n",
    "|`int`|Converts a string of digits or a float to an integer (\"int\") value|\n",
    "|`float`|Converts a string of digits (perhaps with a decimal point) or an int to a decimal (\"float\") value|\n",
    "|`str`|Converts any value to a string|\n",
    "\n",
    "Try to predict what data type and value `example` evaluates to, then run the cell."
   ]
  },
  {
   "cell_type": "code",
   "execution_count": 20,
   "metadata": {
    "tags": []
   },
   "outputs": [
    {
     "name": "stdout",
     "output_type": "stream",
     "text": [
      "26.0\n",
      "This example returned a <class 'float'>!\n"
     ]
    }
   ],
   "source": [
    "example = 8 + int(\"10\") + float(\"8\")\n",
    "\n",
    "print(example)\n",
    "print(\"This example returned a \" + str(type(example)) + \"!\")"
   ]
  },
  {
   "cell_type": "raw",
   "metadata": {},
   "source": [
    "# BEGIN QUESTION\n",
    "name: q3"
   ]
  },
  {
   "cell_type": "markdown",
   "metadata": {},
   "source": [
    "Suppose you're writing a program that looks for dates in a text, and you want your program to find the amount of time that elapsed between two years it has identified.  It doesn't make sense to subtract two texts, but you can first convert the text containing the years into numbers.\n",
    "\n",
    "**Question 3.** Finish the code below to compute the number of years that elapsed between `one_year` and `another_year`.  Don't just write the numbers `1618` and `1648` (or `30`); use a conversion function to turn the given text data into numbers.\n"
   ]
  },
  {
   "cell_type": "raw",
   "metadata": {},
   "source": [
    "# BEGIN SOLUTION"
   ]
  },
  {
   "cell_type": "code",
   "execution_count": 23,
   "metadata": {
    "tags": []
   },
   "outputs": [
    {
     "data": {
      "text/plain": [
       "30"
      ]
     },
     "execution_count": 23,
     "metadata": {},
     "output_type": "execute_result"
    }
   ],
   "source": [
    "# Some text data:\n",
    "one_year = \"1618\"\n",
    "another_year = \"1648\"\n",
    "\n",
    "# Complete the next line.  Note that we can't just write:\n",
    "# another_year - one_year\n",
    "# If you don't see why, try seeing what happens when you\n",
    "# write that here.\n",
    "difference = int(another_year) - int(one_year) # SOLUTION\n",
    "difference"
   ]
  },
  {
   "cell_type": "raw",
   "metadata": {},
   "source": [
    "# END SOLUTION"
   ]
  },
  {
   "cell_type": "raw",
   "metadata": {},
   "source": [
    "# BEGIN TESTS"
   ]
  },
  {
   "cell_type": "code",
   "execution_count": 24,
   "metadata": {
    "tags": []
   },
   "outputs": [
    {
     "data": {
      "text/plain": [
       "30"
      ]
     },
     "execution_count": 24,
     "metadata": {},
     "output_type": "execute_result"
    }
   ],
   "source": [
    "difference"
   ]
  },
  {
   "cell_type": "raw",
   "metadata": {},
   "source": [
    "# END TESTS"
   ]
  },
  {
   "cell_type": "raw",
   "metadata": {},
   "source": [
    "# END QUESTION"
   ]
  },
  {
   "cell_type": "raw",
   "metadata": {},
   "source": [
    "# BEGIN QUESTION\n",
    "name: q4"
   ]
  },
  {
   "cell_type": "markdown",
   "metadata": {},
   "source": [
    "### Passing Strings to Functions\n",
    "\n",
    "String values, like numbers, can be arguments to functions and can be returned by functions. \n",
    "\n",
    "The function `len` (derived from the word \"length\") takes a single string as its argument and returns the number of characters (including spaces) in the string.\n",
    "\n",
    "Note that it doesn't count *words*. `len(\"one small step for man\")` evaluates to 22, not 5.\n",
    "\n",
    "**Question 4.**  Use `len` to find the number of characters in the long string in the next cell.  Characters include things like spaces and punctuation. Assign `sentence_length` to that number.\n",
    "\n",
    "**Note:** The string is the first sentence of the English translation of the French [Declaration of the Rights of Man](http://avalon.law.yale.edu/18th_century/rightsof.asp). "
   ]
  },
  {
   "cell_type": "raw",
   "metadata": {},
   "source": [
    "# BEGIN SOLUTION"
   ]
  },
  {
   "cell_type": "code",
   "execution_count": 25,
   "metadata": {
    "tags": []
   },
   "outputs": [
    {
     "data": {
      "text/plain": [
       "896"
      ]
     },
     "execution_count": 25,
     "metadata": {},
     "output_type": "execute_result"
    }
   ],
   "source": [
    "a_very_long_sentence = \"The representatives of the French people, organized as a National Assembly, believing that the ignorance, neglect, or contempt of the rights of man are the sole cause of public calamities and of the corruption of governments, have determined to set forth in a solemn declaration the natural, unalienable, and sacred rights of man, in order that this declaration, being constantly before all the members of the Social body, shall remind them continually of their rights and duties; in order that the acts of the legislative power, as well as those of the executive power, may be compared at any moment with the objects and purposes of all political institutions and may thus be more respected, and, lastly, in order that the grievances of the citizens, based hereafter upon simple and incontestable principles, shall tend to the maintenance of the constitution and redound to the happiness of all.\"\n",
    "sentence_length = len(a_very_long_sentence) # SOLUTION\n",
    "sentence_length"
   ]
  },
  {
   "cell_type": "raw",
   "metadata": {},
   "source": [
    "# END SOLUTION"
   ]
  },
  {
   "cell_type": "raw",
   "metadata": {},
   "source": [
    "# BEGIN TESTS"
   ]
  },
  {
   "cell_type": "code",
   "execution_count": 26,
   "metadata": {
    "tags": []
   },
   "outputs": [
    {
     "data": {
      "text/plain": [
       "896"
      ]
     },
     "execution_count": 26,
     "metadata": {},
     "output_type": "execute_result"
    }
   ],
   "source": [
    "sentence_length"
   ]
  },
  {
   "cell_type": "raw",
   "metadata": {},
   "source": [
    "# END TESTS"
   ]
  },
  {
   "cell_type": "raw",
   "metadata": {},
   "source": [
    "# END QUESTION"
   ]
  },
  {
   "cell_type": "markdown",
   "metadata": {},
   "source": [
    "## 2. Arrays\n",
    "\n",
    "Computers are most useful when you can use a small amount of code to *do the same action* to *many different things*.\n",
    "\n",
    "For example, in the time it takes you to calculate the 18% tip on a restaurant bill, a laptop can calculate 18% tips for every restaurant bill paid by every human on Earth that day. That's if you're pretty fast at doing arithmetic in your head.\n",
    "\n",
    "**Arrays** are how we put many values in one place so that we can operate on them as a group. For example, if `billions_of_numbers` is an array of numbers, the expression\n",
    "\n",
    "    .18 * billions_of_numbers\n",
    "\n",
    "gives a new array of numbers that contains the result of multiplying each number in `billions_of_numbers` by .18.  Arrays are not limited to numbers; we can also put all the words in a book into an array of strings.\n",
    "\n",
    "Concretely, an array is a **collection of values of the same data type**. "
   ]
  },
  {
   "cell_type": "markdown",
   "metadata": {},
   "source": [
    "### Making arrays\n",
    "\n",
    "First, let's learn how to manually input values into an array. This typically isn't how programs work. Normally, we create arrays by loading them from an external source, like a data file.\n",
    "\n",
    "To create an array by hand, call the function `make_array`.  Each argument you pass to `make_array` will be in the array it returns.  Run this cell to see an example:"
   ]
  },
  {
   "cell_type": "code",
   "execution_count": 27,
   "metadata": {
    "tags": []
   },
   "outputs": [
    {
     "data": {
      "text/plain": [
       "array([ 0.125,  4.75 , -1.3  ])"
      ]
     },
     "execution_count": 27,
     "metadata": {},
     "output_type": "execute_result"
    }
   ],
   "source": [
    "make_array(0.125, 4.75, -1.3)"
   ]
  },
  {
   "cell_type": "markdown",
   "metadata": {},
   "source": [
    "Each value in an array (in the above case, the numbers 0.125, 4.75, and -1.3) is called an *element* of that array.\n",
    "\n",
    "Arrays themselves are also values, just like numbers and strings.  That means you can assign them to names or use them as arguments to functions. For example, `len(<some_array>)` returns the number of elements in `some_array`."
   ]
  },
  {
   "cell_type": "raw",
   "metadata": {},
   "source": [
    "# BEGIN QUESTION\n",
    "name: q5"
   ]
  },
  {
   "cell_type": "markdown",
   "metadata": {},
   "source": [
    "**Question 5.** Make an array containing the numbers 0, 1, -1, $\\pi$, and $e$, in that order.  Name it `interesting_numbers`.  \n",
    "\n",
    "**Hint:** How did you get the values $\\pi$ and $e$ in **Lab 02**?  You can refer to them in exactly the same way here.\n"
   ]
  },
  {
   "cell_type": "raw",
   "metadata": {},
   "source": [
    "# BEGIN SOLUTION"
   ]
  },
  {
   "cell_type": "code",
   "execution_count": 28,
   "metadata": {
    "tags": []
   },
   "outputs": [
    {
     "data": {
      "text/plain": [
       "array([ 0.        ,  1.        , -1.        ,  3.14159265,  2.71828183])"
      ]
     },
     "execution_count": 28,
     "metadata": {},
     "output_type": "execute_result"
    }
   ],
   "source": [
    "interesting_numbers = make_array(0, 1, -1, math.pi, math.e) # SOLUTION\n",
    "interesting_numbers"
   ]
  },
  {
   "cell_type": "raw",
   "metadata": {},
   "source": [
    "# END SOLUTION"
   ]
  },
  {
   "cell_type": "raw",
   "metadata": {},
   "source": [
    "# BEGIN TESTS"
   ]
  },
  {
   "cell_type": "code",
   "execution_count": 29,
   "metadata": {
    "tags": []
   },
   "outputs": [
    {
     "data": {
      "text/plain": [
       "True"
      ]
     },
     "execution_count": 29,
     "metadata": {},
     "output_type": "execute_result"
    }
   ],
   "source": [
    "isinstance(interesting_numbers, np.ndarray)"
   ]
  },
  {
   "cell_type": "code",
   "execution_count": 30,
   "metadata": {
    "tags": []
   },
   "outputs": [
    {
     "data": {
      "text/plain": [
       "5"
      ]
     },
     "execution_count": 30,
     "metadata": {},
     "output_type": "execute_result"
    }
   ],
   "source": [
    "len(interesting_numbers)"
   ]
  },
  {
   "cell_type": "code",
   "execution_count": 31,
   "metadata": {
    "tags": []
   },
   "outputs": [
    {
     "data": {
      "text/plain": [
       "True"
      ]
     },
     "execution_count": 31,
     "metadata": {},
     "output_type": "execute_result"
    }
   ],
   "source": [
    "all(interesting_numbers == np.array([0, 1, -1, math.pi, math.e]))"
   ]
  },
  {
   "cell_type": "raw",
   "metadata": {},
   "source": [
    "# END TESTS"
   ]
  },
  {
   "cell_type": "raw",
   "metadata": {},
   "source": [
    "# END QUESTION"
   ]
  },
  {
   "cell_type": "raw",
   "metadata": {},
   "source": [
    "# BEGIN QUESTION\n",
    "name: q6"
   ]
  },
  {
   "cell_type": "markdown",
   "metadata": {},
   "source": [
    "**Question 6.** Make an array containing the five strings \"Hello\", \",\", \" \", \"world\", and \"!\". **Note:** The third element is a single space inside quotes.) Name it `hello_world_components`.\n",
    "\n",
    "**Note:** If you evaluate `hello_world_components`, you'll notice some extra information in addition to its contents: `dtype='<U5'`. That's just NumPy's extremely cryptic way of saying that the data types in the array are strings.\n"
   ]
  },
  {
   "cell_type": "raw",
   "metadata": {},
   "source": [
    "# BEGIN SOLUTION"
   ]
  },
  {
   "cell_type": "code",
   "execution_count": 34,
   "metadata": {
    "tags": []
   },
   "outputs": [
    {
     "data": {
      "text/plain": [
       "array(['Hello', ',', ' ', 'world', '!'],\n",
       "      dtype='<U5')"
      ]
     },
     "execution_count": 34,
     "metadata": {},
     "output_type": "execute_result"
    }
   ],
   "source": [
    "hello_world_components = make_array(\"Hello\", \",\", \" \", \"world\", \"!\") # SOLUTION\n",
    "hello_world_components"
   ]
  },
  {
   "cell_type": "raw",
   "metadata": {},
   "source": [
    "# END SOLUTION"
   ]
  },
  {
   "cell_type": "raw",
   "metadata": {},
   "source": [
    "# BEGIN TESTS"
   ]
  },
  {
   "cell_type": "code",
   "execution_count": 35,
   "metadata": {
    "tags": []
   },
   "outputs": [
    {
     "data": {
      "text/plain": [
       "True"
      ]
     },
     "execution_count": 35,
     "metadata": {},
     "output_type": "execute_result"
    }
   ],
   "source": [
    "isinstance(hello_world_components, np.ndarray)"
   ]
  },
  {
   "cell_type": "code",
   "execution_count": 36,
   "metadata": {
    "tags": []
   },
   "outputs": [
    {
     "data": {
      "text/plain": [
       "5"
      ]
     },
     "execution_count": 36,
     "metadata": {},
     "output_type": "execute_result"
    }
   ],
   "source": [
    "len(hello_world_components)"
   ]
  },
  {
   "cell_type": "code",
   "execution_count": 37,
   "metadata": {
    "tags": []
   },
   "outputs": [
    {
     "data": {
      "text/plain": [
       "True"
      ]
     },
     "execution_count": 37,
     "metadata": {},
     "output_type": "execute_result"
    }
   ],
   "source": [
    "all(hello_world_components == np.array([\"Hello\", \",\", \" \", \"world\", \"!\"]))"
   ]
  },
  {
   "cell_type": "raw",
   "metadata": {},
   "source": [
    "# END TESTS"
   ]
  },
  {
   "cell_type": "raw",
   "metadata": {},
   "source": [
    "# END QUESTION"
   ]
  },
  {
   "cell_type": "markdown",
   "metadata": {},
   "source": [
    "### `np.arange`\n",
    "\n",
    "Arrays are provided by a package called [NumPy](https://www.numpy.org) (pronounced \"NUM-pie\"). The package is called numpy, but it's standard to rename it np for brevity. You can do that with:\n",
    "\n",
    "`import numpy as np`\n",
    "\n",
    "Very often in data science, we want to work with many numbers that are evenly spaced within some range. NumPy provides a special function for this called arange. The line of code `np.arange(start, stop, step)` evaluates to an array with all the numbers starting at start and counting up by step, stopping before stop is reached.\n",
    "\n",
    "Run the following cells to see some examples."
   ]
  },
  {
   "cell_type": "code",
   "execution_count": 38,
   "metadata": {
    "tags": []
   },
   "outputs": [
    {
     "data": {
      "text/plain": [
       "array([1, 3, 5])"
      ]
     },
     "execution_count": 38,
     "metadata": {},
     "output_type": "execute_result"
    }
   ],
   "source": [
    "# This array starts at 1 and counts \n",
    "# up by 2 and then stops before 6.\n",
    "np.arange(1, 6, 2)"
   ]
  },
  {
   "cell_type": "code",
   "execution_count": 40,
   "metadata": {
    "tags": []
   },
   "outputs": [
    {
     "data": {
      "text/plain": [
       "array([4, 5, 6, 7, 8])"
      ]
     },
     "execution_count": 40,
     "metadata": {},
     "output_type": "execute_result"
    }
   ],
   "source": [
    "# This array doesn't contain 9 because np.arange \n",
    "# stops before the stop value is reached\n",
    "np.arange(4, 9, 1)"
   ]
  },
  {
   "cell_type": "raw",
   "metadata": {},
   "source": [
    "# BEGIN QUESTION\n",
    "name: q7"
   ]
  },
  {
   "cell_type": "markdown",
   "metadata": {},
   "source": [
    "**Question 7.** Use `np.arange` to create an array with the multiples of 99 from 0 up to (**and including**) 9999. So its elements are 0, 99, 198, 297, etc.\n"
   ]
  },
  {
   "cell_type": "raw",
   "metadata": {},
   "source": [
    "# BEGIN SOLUTION"
   ]
  },
  {
   "cell_type": "code",
   "execution_count": 41,
   "metadata": {
    "tags": []
   },
   "outputs": [
    {
     "data": {
      "text/plain": [
       "array([   0,   99,  198,  297,  396,  495,  594,  693,  792,  891,  990,\n",
       "       1089, 1188, 1287, 1386, 1485, 1584, 1683, 1782, 1881, 1980, 2079,\n",
       "       2178, 2277, 2376, 2475, 2574, 2673, 2772, 2871, 2970, 3069, 3168,\n",
       "       3267, 3366, 3465, 3564, 3663, 3762, 3861, 3960, 4059, 4158, 4257,\n",
       "       4356, 4455, 4554, 4653, 4752, 4851, 4950, 5049, 5148, 5247, 5346,\n",
       "       5445, 5544, 5643, 5742, 5841, 5940, 6039, 6138, 6237, 6336, 6435,\n",
       "       6534, 6633, 6732, 6831, 6930, 7029, 7128, 7227, 7326, 7425, 7524,\n",
       "       7623, 7722, 7821, 7920, 8019, 8118, 8217, 8316, 8415, 8514, 8613,\n",
       "       8712, 8811, 8910, 9009, 9108, 9207, 9306, 9405, 9504, 9603, 9702,\n",
       "       9801, 9900, 9999])"
      ]
     },
     "execution_count": 41,
     "metadata": {},
     "output_type": "execute_result"
    }
   ],
   "source": [
    "multiples_of_99 = np.arange(0,10000,99) # SOLUTION\n",
    "multiples_of_99"
   ]
  },
  {
   "cell_type": "raw",
   "metadata": {},
   "source": [
    "# END SOLUTION"
   ]
  },
  {
   "cell_type": "raw",
   "metadata": {},
   "source": [
    "# BEGIN TESTS"
   ]
  },
  {
   "cell_type": "code",
   "execution_count": 42,
   "metadata": {
    "tags": []
   },
   "outputs": [
    {
     "data": {
      "text/plain": [
       "True"
      ]
     },
     "execution_count": 42,
     "metadata": {},
     "output_type": "execute_result"
    }
   ],
   "source": [
    "isinstance(hello_world_components, np.ndarray)"
   ]
  },
  {
   "cell_type": "code",
   "execution_count": 43,
   "metadata": {
    "tags": []
   },
   "outputs": [
    {
     "data": {
      "text/plain": [
       "102"
      ]
     },
     "execution_count": 43,
     "metadata": {},
     "output_type": "execute_result"
    }
   ],
   "source": [
    "len(multiples_of_99)"
   ]
  },
  {
   "cell_type": "code",
   "execution_count": 44,
   "metadata": {
    "tags": []
   },
   "outputs": [
    {
     "data": {
      "text/plain": [
       "True"
      ]
     },
     "execution_count": 44,
     "metadata": {},
     "output_type": "execute_result"
    }
   ],
   "source": [
    "[multiples_of_99[0], multiples_of_99[101]] == [0, 9999]"
   ]
  },
  {
   "cell_type": "raw",
   "metadata": {},
   "source": [
    "# END TESTS"
   ]
  },
  {
   "cell_type": "raw",
   "metadata": {},
   "source": [
    "# END QUESTION"
   ]
  },
  {
   "cell_type": "raw",
   "metadata": {},
   "source": [
    "# BEGIN QUESTION\n",
    "name: q8"
   ]
  },
  {
   "cell_type": "markdown",
   "metadata": {},
   "source": [
    "### Temperature Readings\n",
    "\n",
    "NOAA (the US National Oceanic and Atmospheric Administration) operates weather stations that measure surface temperatures at different sites around the United States. The hourly readings are [publicly](http://www.ncdc.noaa.gov/qclcd/QCLCD?prior=N) available.\n",
    "\n",
    "Suppose we download all the hourly data from the Durham, North Carolina site for the month of December 2015. To analyze the data, we want to know when each reading was taken, but we find that the data don't include the timestamps of the readings (the time at which each one was taken).\n",
    "\n",
    "However, we know the first reading was taken at the first instant of December 2015 (midnight on December 1st) and each subsequent reading was taken exactly 1 hour after the last.\n",
    "\n",
    "**Question 8.** Create an array of the time, in seconds, since the start of the month at which each hourly reading was taken. Name it `collection_times`.\n",
    "\n",
    "**Hints:** \n",
    "\n",
    " - There were 31 days in December, which is equivalent to ($31 \\times 24$) hours or ($31 \\times 24 \\times 60 \\times 60$) seconds. So your array should have $31 \\times 24$ elements in it.\n",
    "\n",
    "- The `len` function works on arrays, too. If your `collection_times` isn't passing the tests, check its length and make sure it has $31 \\times 24$ elements.\n"
   ]
  },
  {
   "cell_type": "raw",
   "metadata": {},
   "source": [
    "# BEGIN SOLUTION"
   ]
  },
  {
   "cell_type": "code",
   "execution_count": 45,
   "metadata": {
    "tags": []
   },
   "outputs": [
    {
     "data": {
      "text/plain": [
       "array([      0,    3600,    7200,   10800,   14400,   18000,   21600,\n",
       "         25200,   28800,   32400,   36000,   39600,   43200,   46800,\n",
       "         50400,   54000,   57600,   61200,   64800,   68400,   72000,\n",
       "         75600,   79200,   82800,   86400,   90000,   93600,   97200,\n",
       "        100800,  104400,  108000,  111600,  115200,  118800,  122400,\n",
       "        126000,  129600,  133200,  136800,  140400,  144000,  147600,\n",
       "        151200,  154800,  158400,  162000,  165600,  169200,  172800,\n",
       "        176400,  180000,  183600,  187200,  190800,  194400,  198000,\n",
       "        201600,  205200,  208800,  212400,  216000,  219600,  223200,\n",
       "        226800,  230400,  234000,  237600,  241200,  244800,  248400,\n",
       "        252000,  255600,  259200,  262800,  266400,  270000,  273600,\n",
       "        277200,  280800,  284400,  288000,  291600,  295200,  298800,\n",
       "        302400,  306000,  309600,  313200,  316800,  320400,  324000,\n",
       "        327600,  331200,  334800,  338400,  342000,  345600,  349200,\n",
       "        352800,  356400,  360000,  363600,  367200,  370800,  374400,\n",
       "        378000,  381600,  385200,  388800,  392400,  396000,  399600,\n",
       "        403200,  406800,  410400,  414000,  417600,  421200,  424800,\n",
       "        428400,  432000,  435600,  439200,  442800,  446400,  450000,\n",
       "        453600,  457200,  460800,  464400,  468000,  471600,  475200,\n",
       "        478800,  482400,  486000,  489600,  493200,  496800,  500400,\n",
       "        504000,  507600,  511200,  514800,  518400,  522000,  525600,\n",
       "        529200,  532800,  536400,  540000,  543600,  547200,  550800,\n",
       "        554400,  558000,  561600,  565200,  568800,  572400,  576000,\n",
       "        579600,  583200,  586800,  590400,  594000,  597600,  601200,\n",
       "        604800,  608400,  612000,  615600,  619200,  622800,  626400,\n",
       "        630000,  633600,  637200,  640800,  644400,  648000,  651600,\n",
       "        655200,  658800,  662400,  666000,  669600,  673200,  676800,\n",
       "        680400,  684000,  687600,  691200,  694800,  698400,  702000,\n",
       "        705600,  709200,  712800,  716400,  720000,  723600,  727200,\n",
       "        730800,  734400,  738000,  741600,  745200,  748800,  752400,\n",
       "        756000,  759600,  763200,  766800,  770400,  774000,  777600,\n",
       "        781200,  784800,  788400,  792000,  795600,  799200,  802800,\n",
       "        806400,  810000,  813600,  817200,  820800,  824400,  828000,\n",
       "        831600,  835200,  838800,  842400,  846000,  849600,  853200,\n",
       "        856800,  860400,  864000,  867600,  871200,  874800,  878400,\n",
       "        882000,  885600,  889200,  892800,  896400,  900000,  903600,\n",
       "        907200,  910800,  914400,  918000,  921600,  925200,  928800,\n",
       "        932400,  936000,  939600,  943200,  946800,  950400,  954000,\n",
       "        957600,  961200,  964800,  968400,  972000,  975600,  979200,\n",
       "        982800,  986400,  990000,  993600,  997200, 1000800, 1004400,\n",
       "       1008000, 1011600, 1015200, 1018800, 1022400, 1026000, 1029600,\n",
       "       1033200, 1036800, 1040400, 1044000, 1047600, 1051200, 1054800,\n",
       "       1058400, 1062000, 1065600, 1069200, 1072800, 1076400, 1080000,\n",
       "       1083600, 1087200, 1090800, 1094400, 1098000, 1101600, 1105200,\n",
       "       1108800, 1112400, 1116000, 1119600, 1123200, 1126800, 1130400,\n",
       "       1134000, 1137600, 1141200, 1144800, 1148400, 1152000, 1155600,\n",
       "       1159200, 1162800, 1166400, 1170000, 1173600, 1177200, 1180800,\n",
       "       1184400, 1188000, 1191600, 1195200, 1198800, 1202400, 1206000,\n",
       "       1209600, 1213200, 1216800, 1220400, 1224000, 1227600, 1231200,\n",
       "       1234800, 1238400, 1242000, 1245600, 1249200, 1252800, 1256400,\n",
       "       1260000, 1263600, 1267200, 1270800, 1274400, 1278000, 1281600,\n",
       "       1285200, 1288800, 1292400, 1296000, 1299600, 1303200, 1306800,\n",
       "       1310400, 1314000, 1317600, 1321200, 1324800, 1328400, 1332000,\n",
       "       1335600, 1339200, 1342800, 1346400, 1350000, 1353600, 1357200,\n",
       "       1360800, 1364400, 1368000, 1371600, 1375200, 1378800, 1382400,\n",
       "       1386000, 1389600, 1393200, 1396800, 1400400, 1404000, 1407600,\n",
       "       1411200, 1414800, 1418400, 1422000, 1425600, 1429200, 1432800,\n",
       "       1436400, 1440000, 1443600, 1447200, 1450800, 1454400, 1458000,\n",
       "       1461600, 1465200, 1468800, 1472400, 1476000, 1479600, 1483200,\n",
       "       1486800, 1490400, 1494000, 1497600, 1501200, 1504800, 1508400,\n",
       "       1512000, 1515600, 1519200, 1522800, 1526400, 1530000, 1533600,\n",
       "       1537200, 1540800, 1544400, 1548000, 1551600, 1555200, 1558800,\n",
       "       1562400, 1566000, 1569600, 1573200, 1576800, 1580400, 1584000,\n",
       "       1587600, 1591200, 1594800, 1598400, 1602000, 1605600, 1609200,\n",
       "       1612800, 1616400, 1620000, 1623600, 1627200, 1630800, 1634400,\n",
       "       1638000, 1641600, 1645200, 1648800, 1652400, 1656000, 1659600,\n",
       "       1663200, 1666800, 1670400, 1674000, 1677600, 1681200, 1684800,\n",
       "       1688400, 1692000, 1695600, 1699200, 1702800, 1706400, 1710000,\n",
       "       1713600, 1717200, 1720800, 1724400, 1728000, 1731600, 1735200,\n",
       "       1738800, 1742400, 1746000, 1749600, 1753200, 1756800, 1760400,\n",
       "       1764000, 1767600, 1771200, 1774800, 1778400, 1782000, 1785600,\n",
       "       1789200, 1792800, 1796400, 1800000, 1803600, 1807200, 1810800,\n",
       "       1814400, 1818000, 1821600, 1825200, 1828800, 1832400, 1836000,\n",
       "       1839600, 1843200, 1846800, 1850400, 1854000, 1857600, 1861200,\n",
       "       1864800, 1868400, 1872000, 1875600, 1879200, 1882800, 1886400,\n",
       "       1890000, 1893600, 1897200, 1900800, 1904400, 1908000, 1911600,\n",
       "       1915200, 1918800, 1922400, 1926000, 1929600, 1933200, 1936800,\n",
       "       1940400, 1944000, 1947600, 1951200, 1954800, 1958400, 1962000,\n",
       "       1965600, 1969200, 1972800, 1976400, 1980000, 1983600, 1987200,\n",
       "       1990800, 1994400, 1998000, 2001600, 2005200, 2008800, 2012400,\n",
       "       2016000, 2019600, 2023200, 2026800, 2030400, 2034000, 2037600,\n",
       "       2041200, 2044800, 2048400, 2052000, 2055600, 2059200, 2062800,\n",
       "       2066400, 2070000, 2073600, 2077200, 2080800, 2084400, 2088000,\n",
       "       2091600, 2095200, 2098800, 2102400, 2106000, 2109600, 2113200,\n",
       "       2116800, 2120400, 2124000, 2127600, 2131200, 2134800, 2138400,\n",
       "       2142000, 2145600, 2149200, 2152800, 2156400, 2160000, 2163600,\n",
       "       2167200, 2170800, 2174400, 2178000, 2181600, 2185200, 2188800,\n",
       "       2192400, 2196000, 2199600, 2203200, 2206800, 2210400, 2214000,\n",
       "       2217600, 2221200, 2224800, 2228400, 2232000, 2235600, 2239200,\n",
       "       2242800, 2246400, 2250000, 2253600, 2257200, 2260800, 2264400,\n",
       "       2268000, 2271600, 2275200, 2278800, 2282400, 2286000, 2289600,\n",
       "       2293200, 2296800, 2300400, 2304000, 2307600, 2311200, 2314800,\n",
       "       2318400, 2322000, 2325600, 2329200, 2332800, 2336400, 2340000,\n",
       "       2343600, 2347200, 2350800, 2354400, 2358000, 2361600, 2365200,\n",
       "       2368800, 2372400, 2376000, 2379600, 2383200, 2386800, 2390400,\n",
       "       2394000, 2397600, 2401200, 2404800, 2408400, 2412000, 2415600,\n",
       "       2419200, 2422800, 2426400, 2430000, 2433600, 2437200, 2440800,\n",
       "       2444400, 2448000, 2451600, 2455200, 2458800, 2462400, 2466000,\n",
       "       2469600, 2473200, 2476800, 2480400, 2484000, 2487600, 2491200,\n",
       "       2494800, 2498400, 2502000, 2505600, 2509200, 2512800, 2516400,\n",
       "       2520000, 2523600, 2527200, 2530800, 2534400, 2538000, 2541600,\n",
       "       2545200, 2548800, 2552400, 2556000, 2559600, 2563200, 2566800,\n",
       "       2570400, 2574000, 2577600, 2581200, 2584800, 2588400, 2592000,\n",
       "       2595600, 2599200, 2602800, 2606400, 2610000, 2613600, 2617200,\n",
       "       2620800, 2624400, 2628000, 2631600, 2635200, 2638800, 2642400,\n",
       "       2646000, 2649600, 2653200, 2656800, 2660400, 2664000, 2667600,\n",
       "       2671200, 2674800])"
      ]
     },
     "execution_count": 45,
     "metadata": {},
     "output_type": "execute_result"
    }
   ],
   "source": [
    "collection_times = np.arange(0, 31*24*60*60, 60*60) # SOLUTION\n",
    "collection_times"
   ]
  },
  {
   "cell_type": "raw",
   "metadata": {},
   "source": [
    "# END SOLUTION"
   ]
  },
  {
   "cell_type": "raw",
   "metadata": {},
   "source": [
    "# BEGIN TESTS"
   ]
  },
  {
   "cell_type": "code",
   "execution_count": 46,
   "metadata": {
    "tags": []
   },
   "outputs": [
    {
     "data": {
      "text/plain": [
       "True"
      ]
     },
     "execution_count": 46,
     "metadata": {},
     "output_type": "execute_result"
    }
   ],
   "source": [
    "isinstance(collection_times, np.ndarray)"
   ]
  },
  {
   "cell_type": "code",
   "execution_count": 47,
   "metadata": {
    "tags": []
   },
   "outputs": [
    {
     "data": {
      "text/plain": [
       "744"
      ]
     },
     "execution_count": 47,
     "metadata": {},
     "output_type": "execute_result"
    }
   ],
   "source": [
    "len(collection_times)"
   ]
  },
  {
   "cell_type": "code",
   "execution_count": 48,
   "metadata": {
    "tags": []
   },
   "outputs": [
    {
     "data": {
      "text/plain": [
       "True"
      ]
     },
     "execution_count": 48,
     "metadata": {},
     "output_type": "execute_result"
    }
   ],
   "source": [
    "all(collection_times == np.arange(0, 31*24*60*60, 60*60))"
   ]
  },
  {
   "cell_type": "raw",
   "metadata": {},
   "source": [
    "# END TESTS"
   ]
  },
  {
   "cell_type": "raw",
   "metadata": {},
   "source": [
    "# END QUESTION"
   ]
  },
  {
   "cell_type": "markdown",
   "metadata": {},
   "source": [
    "### Working with Single Elements of Arrays (\"Indexing\")\n",
    "Let's work with a more interesting dataset. The next cell creates an array called `population_amounts` that includes estimated world populations in every year from 1960 to roughly the present. The estimates come from the US Census Bureau website.\n",
    "\n",
    "Rather than type in the data manually, we've loaded them from a file on your computer called `world_population.csv`. You'll learn how to do that later in this lab."
   ]
  },
  {
   "cell_type": "code",
   "execution_count": 49,
   "metadata": {
    "tags": []
   },
   "outputs": [
    {
     "data": {
      "text/plain": [
       "array([3032156070, 3071596055, 3124561005, 3189655687, 3255145692,\n",
       "       3322046795, 3392097729, 3461619724, 3532782993, 3606553753,\n",
       "       3681975908, 3760516757, 3836900801, 3912984371, 3988487336,\n",
       "       4062507027, 4135432265, 4207786422, 4281339378, 4356778367,\n",
       "       4432963653, 4511164132, 4592387213, 4674330282, 4755996689,\n",
       "       4839176734, 4924747934, 5012556248, 5101287675, 5189977062,\n",
       "       5280046096, 5368139468, 5452576447, 5537885552, 5622085788,\n",
       "       5706753900, 5789655609, 5872286683, 5954005906, 6034491620,\n",
       "       6114332517, 6193671694, 6272753009, 6351882385, 6431551721,\n",
       "       6511748273, 6592734559, 6674203697, 6757020825, 6839574233,\n",
       "       6921877071, 7002880914, 7085790438, 7169675197, 7254292848,\n",
       "       7339076654, 7424484741, 7509410228, 7592475615, 7673345391,\n",
       "       7752840547])"
      ]
     },
     "execution_count": 49,
     "metadata": {},
     "output_type": "execute_result"
    }
   ],
   "source": [
    "population_amounts = Table.read_table(\"data/world_population.csv\").column(\"Population\")\n",
    "population_amounts"
   ]
  },
  {
   "cell_type": "markdown",
   "metadata": {},
   "source": [
    "Here's how we get the first element of population_amounts, which is the world population in the first year in the dataset, 1960."
   ]
  },
  {
   "cell_type": "code",
   "execution_count": 37,
   "metadata": {},
   "outputs": [
    {
     "data": {
      "text/plain": [
       "3032156070"
      ]
     },
     "execution_count": 37,
     "metadata": {},
     "output_type": "execute_result"
    }
   ],
   "source": [
    "population_amounts.item(0)"
   ]
  },
  {
   "cell_type": "markdown",
   "metadata": {},
   "source": [
    "The value of that expression is the number 2557628654 (around 2.5 billion), because that's the first thing in the array `population_amounts`.\n",
    "\n",
    "Notice that we wrote `.item(0)`, not `.item(1)`, to get the first element. This is a weird convention in computer science. 0 is called the index of the first item. It's the number of elements that appear before that item. So 3 is the index of the 4th item.\n",
    "\n",
    "Here are some more examples. In the examples, we've given names to the things we get out of `population_amounts`. Read and run each cell."
   ]
  },
  {
   "cell_type": "code",
   "execution_count": 50,
   "metadata": {
    "tags": []
   },
   "outputs": [
    {
     "data": {
      "text/plain": [
       "3836900801"
      ]
     },
     "execution_count": 50,
     "metadata": {},
     "output_type": "execute_result"
    }
   ],
   "source": [
    "# The 13th element in the array is the \n",
    "# population in 1972 (which is 1960 + 12).\n",
    "population_1972 = population_amounts.item(12)\n",
    "population_1972"
   ]
  },
  {
   "cell_type": "code",
   "execution_count": 51,
   "metadata": {
    "tags": []
   },
   "outputs": [
    {
     "data": {
      "text/plain": [
       "7339076654"
      ]
     },
     "execution_count": 51,
     "metadata": {},
     "output_type": "execute_result"
    }
   ],
   "source": [
    "# The 55th element is the population in 2015.\n",
    "population_2015 = population_amounts.item(55)\n",
    "population_2015"
   ]
  },
  {
   "cell_type": "code",
   "execution_count": 52,
   "metadata": {
    "tags": []
   },
   "outputs": [
    {
     "ename": "IndexError",
     "evalue": "index 61 is out of bounds for axis 0 with size 61",
     "output_type": "error",
     "traceback": [
      "\u001b[0;31m---------------------------------------------------------------------------\u001b[0m",
      "\u001b[0;31mIndexError\u001b[0m                                Traceback (most recent call last)",
      "Cell \u001b[0;32mIn[52], line 3\u001b[0m\n\u001b[1;32m      1\u001b[0m \u001b[38;5;66;03m# The array has only 61 elements, so this doesn't work.\u001b[39;00m\n\u001b[1;32m      2\u001b[0m \u001b[38;5;66;03m# (There's no element with 61 other elements before it.)\u001b[39;00m\n\u001b[0;32m----> 3\u001b[0m \u001b[43mpopulation_amounts\u001b[49m\u001b[38;5;241;43m.\u001b[39;49m\u001b[43mitem\u001b[49m\u001b[43m(\u001b[49m\u001b[38;5;241;43m61\u001b[39;49m\u001b[43m)\u001b[49m\n",
      "\u001b[0;31mIndexError\u001b[0m: index 61 is out of bounds for axis 0 with size 61"
     ]
    }
   ],
   "source": [
    "# The array has only 61 elements, so this doesn't work.\n",
    "# (There's no element with 61 other elements before it.)\n",
    "population_amounts.item(61)"
   ]
  },
  {
   "cell_type": "markdown",
   "metadata": {},
   "source": [
    "Since `make_array` returns an array, we can call `.item(3)` on its output to get its 4th element, just like we \"chained\" together calls to the method replace earlier."
   ]
  },
  {
   "cell_type": "code",
   "execution_count": 53,
   "metadata": {
    "tags": []
   },
   "outputs": [
    {
     "data": {
      "text/plain": [
       "-2"
      ]
     },
     "execution_count": 53,
     "metadata": {},
     "output_type": "execute_result"
    }
   ],
   "source": [
    "make_array(-1, -3, 4, -2).item(3)"
   ]
  },
  {
   "cell_type": "raw",
   "metadata": {},
   "source": [
    "# BEGIN QUESTION\n",
    "name: q9"
   ]
  },
  {
   "cell_type": "markdown",
   "metadata": {},
   "source": [
    "**Question 9.** Set `population_1988` to the world population in 1988, by getting the appropriate element from `population_amounts` using `item`.\n"
   ]
  },
  {
   "cell_type": "raw",
   "metadata": {},
   "source": [
    "# BEGIN SOLUTION"
   ]
  },
  {
   "cell_type": "code",
   "execution_count": 56,
   "metadata": {
    "tags": []
   },
   "outputs": [
    {
     "data": {
      "text/plain": [
       "5101287675"
      ]
     },
     "execution_count": 56,
     "metadata": {},
     "output_type": "execute_result"
    }
   ],
   "source": [
    "population_1988 = population_amounts.item(28) # SOLUTION\n",
    "population_1988"
   ]
  },
  {
   "cell_type": "raw",
   "metadata": {},
   "source": [
    "# END SOLUTION"
   ]
  },
  {
   "cell_type": "raw",
   "metadata": {},
   "source": [
    "# BEGIN TESTS"
   ]
  },
  {
   "cell_type": "code",
   "execution_count": 57,
   "metadata": {
    "tags": []
   },
   "outputs": [
    {
     "data": {
      "text/plain": [
       "5101287675"
      ]
     },
     "execution_count": 57,
     "metadata": {},
     "output_type": "execute_result"
    }
   ],
   "source": [
    "population_1988"
   ]
  },
  {
   "cell_type": "raw",
   "metadata": {},
   "source": [
    "# END TESTS"
   ]
  },
  {
   "cell_type": "raw",
   "metadata": {},
   "source": [
    "# END QUESTION"
   ]
  },
  {
   "cell_type": "markdown",
   "metadata": {},
   "source": [
    "### Doing Something to Every Element of an Array\n",
    "\n",
    "Arrays are primarily useful for doing the same operation many times, so we don't often have to use .item and work with single elements.\n",
    "\n",
    "**Logarithms**\n",
    "\n",
    "Here is one simple question we might ask about world population:\n",
    "\n",
    "How big was the population in *orders* of magnitude in each year?\n",
    "\n",
    "Orders of magnitude quantify how big a number is by representing it as the power of another number (for example, representing 104 as $10^{2.017033}$). One way to do this is by using the logarithm function. The logarithm (base 10) of a number increases by 1 every time we multiply the number by 10. It's like a measure of how many decimal digits the number has, or how big it is in orders of magnitude.\n",
    "\n",
    "We could try to answer our question like this, using the log10 function from the math module and the `item` method you just saw:"
   ]
  },
  {
   "cell_type": "code",
   "execution_count": 44,
   "metadata": {},
   "outputs": [],
   "source": [
    "population_1960_magnitude = math.log10(population_amounts.item(0))\n",
    "population_1961_magnitude = math.log10(population_amounts.item(1))\n",
    "population_1962_magnitude = math.log10(population_amounts.item(2))\n",
    "population_1963_magnitude = math.log10(population_amounts.item(3))"
   ]
  },
  {
   "cell_type": "raw",
   "metadata": {},
   "source": [
    "# BEGIN QUESTION\n",
    "name: q10"
   ]
  },
  {
   "cell_type": "markdown",
   "metadata": {},
   "source": [
    "But this is tedious and doesn't really take advantage of the fact that we are using a computer.\n",
    "\n",
    "Instead, `NumPy` provides its own version of `log10` that takes the logarithm of each element of an array. It takes a single array of numbers as its argument. It returns an array of the same length, where the first element of the result is the logarithm of the first element of the argument, and so on.\n",
    "\n",
    "**Question 10.** Use `np.log10` to compute the logarithms of the world population in every year. Give the result (an array of 61 numbers) the name `population_magnitudes`. Your code should be very short.\n"
   ]
  },
  {
   "cell_type": "raw",
   "metadata": {},
   "source": [
    "# BEGIN SOLUTION"
   ]
  },
  {
   "cell_type": "code",
   "execution_count": 58,
   "metadata": {
    "tags": []
   },
   "outputs": [
    {
     "data": {
      "text/plain": [
       "array([ 9.48175155,  9.4873641 ,  9.49478901,  9.5037438 ,  9.51257043,\n",
       "        9.52140575,  9.53046836,  9.53927936,  9.54811696,  9.55709241,\n",
       "        9.56608094,  9.57524753,  9.58398057,  9.59250811,  9.60080822,\n",
       "        9.60879413,  9.61652091,  9.62405369,  9.63157966,  9.63916547,\n",
       "        9.64669417,  9.65428863,  9.6620385 ,  9.6697194 ,  9.67724154,\n",
       "        9.68477148,  9.69238401,  9.70005926,  9.70767982,  9.71516544,\n",
       "        9.72263771,  9.72982379,  9.73660176,  9.74334398,  9.74989747,\n",
       "        9.75638914,  9.76265273,  9.76880725,  9.77480926,  9.78064069,\n",
       "        9.78634905,  9.79194818,  9.79745819,  9.80290245,  9.80831577,\n",
       "        9.8136976 ,  9.81906559,  9.82439946,  9.82975526,  9.83502907,\n",
       "        9.84022388,  9.84527674,  9.8503883 ,  9.85549948,  9.86059508,\n",
       "        9.86564142,  9.87066632,  9.87560583,  9.88038341,  9.88498475,\n",
       "        9.88946085])"
      ]
     },
     "execution_count": 58,
     "metadata": {},
     "output_type": "execute_result"
    }
   ],
   "source": [
    "population_magnitudes = np.log10(population_amounts) # SOLUTION\n",
    "population_magnitudes"
   ]
  },
  {
   "cell_type": "raw",
   "metadata": {},
   "source": [
    "# END SOLUTION"
   ]
  },
  {
   "cell_type": "raw",
   "metadata": {},
   "source": [
    "# BEGIN TESTS"
   ]
  },
  {
   "cell_type": "code",
   "execution_count": 59,
   "metadata": {
    "tags": []
   },
   "outputs": [
    {
     "data": {
      "text/plain": [
       "True"
      ]
     },
     "execution_count": 59,
     "metadata": {},
     "output_type": "execute_result"
    }
   ],
   "source": [
    "isinstance(population_magnitudes, np.ndarray)"
   ]
  },
  {
   "cell_type": "code",
   "execution_count": 60,
   "metadata": {
    "tags": []
   },
   "outputs": [
    {
     "data": {
      "text/plain": [
       "True"
      ]
     },
     "execution_count": 60,
     "metadata": {},
     "output_type": "execute_result"
    }
   ],
   "source": [
    "sum(abs(population_magnitudes-np.log10(population_amounts))) < 1e-6"
   ]
  },
  {
   "cell_type": "raw",
   "metadata": {},
   "source": [
    "# END TESTS"
   ]
  },
  {
   "cell_type": "raw",
   "metadata": {},
   "source": [
    "# END QUESTION"
   ]
  },
  {
   "cell_type": "markdown",
   "metadata": {},
   "source": [
    "What you just did is called elementwise application of `np.log10`, since `np.log10` operates separately on each element of the array that it's called on. Here's a picture of what's going on:\n",
    "\n",
    "<img src=\"images/array_logarithm.jpg\"/>\n",
    "\n",
    "The textbook's [section](https://www.inferentialthinking.com/chapters/05/1/Arrays) on arrays has a useful list of `NumPy` functions that are designed to work elementwise, like `np.log10`.\n",
    "\n",
    "**Arithmetic**\n",
    "\n",
    "Arithmetic also works elementwise on arrays, meaning that if you perform an arithmetic operation (like subtraction, division, etc) on an array, Python will do the operation to every element of the array individually and return an array of all of the results. For example, you can divide all the population numbers by 1 billion to get numbers in billions.\n",
    "\n",
    "**Note:** Rather than type all those zeros we can use scientific notation `1e9=1000000000`."
   ]
  },
  {
   "cell_type": "code",
   "execution_count": 61,
   "metadata": {
    "tags": []
   },
   "outputs": [
    {
     "data": {
      "text/plain": [
       "array([ 3.03215607,  3.07159606,  3.124561  ,  3.18965569,  3.25514569,\n",
       "        3.32204679,  3.39209773,  3.46161972,  3.53278299,  3.60655375,\n",
       "        3.68197591,  3.76051676,  3.8369008 ,  3.91298437,  3.98848734,\n",
       "        4.06250703,  4.13543227,  4.20778642,  4.28133938,  4.35677837,\n",
       "        4.43296365,  4.51116413,  4.59238721,  4.67433028,  4.75599669,\n",
       "        4.83917673,  4.92474793,  5.01255625,  5.10128768,  5.18997706,\n",
       "        5.2800461 ,  5.36813947,  5.45257645,  5.53788555,  5.62208579,\n",
       "        5.7067539 ,  5.78965561,  5.87228668,  5.95400591,  6.03449162,\n",
       "        6.11433252,  6.19367169,  6.27275301,  6.35188238,  6.43155172,\n",
       "        6.51174827,  6.59273456,  6.6742037 ,  6.75702082,  6.83957423,\n",
       "        6.92187707,  7.00288091,  7.08579044,  7.1696752 ,  7.25429285,\n",
       "        7.33907665,  7.42448474,  7.50941023,  7.59247561,  7.67334539,\n",
       "        7.75284055])"
      ]
     },
     "execution_count": 61,
     "metadata": {},
     "output_type": "execute_result"
    }
   ],
   "source": [
    "population_in_billions = population_amounts/1e9\n",
    "population_in_billions"
   ]
  },
  {
   "cell_type": "markdown",
   "metadata": {},
   "source": [
    "You can do the same with addition, subtraction, multiplication, and exponentiation (\\**). For example, you can calculate a tip on several restaurant bills at once (in this case just 3)."
   ]
  },
  {
   "cell_type": "code",
   "execution_count": 62,
   "metadata": {
    "tags": []
   },
   "outputs": [
    {
     "name": "stdout",
     "output_type": "stream",
     "text": [
      "Restaurant bills:\t [ 20.12  39.9   31.01]\n",
      "Tips:\t\t\t [ 4.024  7.98   6.202]\n"
     ]
    }
   ],
   "source": [
    "restaurant_bills = make_array(20.12, 39.90, 31.01)\n",
    "print(\"Restaurant bills:\\t\", restaurant_bills) # The \\t is for the tab character\n",
    "\n",
    "# Array multiplication\n",
    "tips = .2 * restaurant_bills\n",
    "print(\"Tips:\\t\\t\\t\", tips)"
   ]
  },
  {
   "cell_type": "raw",
   "metadata": {},
   "source": [
    "# BEGIN QUESTION\n",
    "name: q11"
   ]
  },
  {
   "cell_type": "markdown",
   "metadata": {},
   "source": [
    "<img src=\"images/array_multiplication.jpg\"/>\n",
    "\n",
    "**Question 11.** Suppose the total charge at a restaurant is the original bill plus the tip. If the tip is 20%, that means we can multiply the original bill by 1.2 to get the total charge. Compute the total charge for each bill in `restaurant_bills`, and assign the resulting array to `total_charges`.\n"
   ]
  },
  {
   "cell_type": "raw",
   "metadata": {},
   "source": [
    "# BEGIN SOLUTION"
   ]
  },
  {
   "cell_type": "code",
   "execution_count": 63,
   "metadata": {
    "tags": []
   },
   "outputs": [
    {
     "data": {
      "text/plain": [
       "array([ 24.144,  47.88 ,  37.212])"
      ]
     },
     "execution_count": 63,
     "metadata": {},
     "output_type": "execute_result"
    }
   ],
   "source": [
    "total_charges = restaurant_bills + tips # SOLUTION\n",
    "total_charges"
   ]
  },
  {
   "cell_type": "raw",
   "metadata": {},
   "source": [
    "# END SOLUTION"
   ]
  },
  {
   "cell_type": "raw",
   "metadata": {},
   "source": [
    "# BEGIN TESTS"
   ]
  },
  {
   "cell_type": "code",
   "execution_count": 64,
   "metadata": {
    "tags": []
   },
   "outputs": [
    {
     "data": {
      "text/plain": [
       "True"
      ]
     },
     "execution_count": 64,
     "metadata": {},
     "output_type": "execute_result"
    }
   ],
   "source": [
    "isinstance(total_charges, np.ndarray)"
   ]
  },
  {
   "cell_type": "code",
   "execution_count": 65,
   "metadata": {
    "tags": []
   },
   "outputs": [
    {
     "data": {
      "text/plain": [
       "True"
      ]
     },
     "execution_count": 65,
     "metadata": {},
     "output_type": "execute_result"
    }
   ],
   "source": [
    "sum(abs(total_charges - np.array([24.144, 47.88, 37.212]))) < 1e-6"
   ]
  },
  {
   "cell_type": "raw",
   "metadata": {},
   "source": [
    "# END TESTS"
   ]
  },
  {
   "cell_type": "raw",
   "metadata": {},
   "source": [
    "# END QUESTION"
   ]
  },
  {
   "cell_type": "raw",
   "metadata": {},
   "source": [
    "# BEGIN QUESTION\n",
    "name: q12"
   ]
  },
  {
   "cell_type": "markdown",
   "metadata": {},
   "source": [
    "**Question 12.** The array `more_restaurant_bills` contains 100,000 bills. Compute the total charge for each one. How is your code different?\n"
   ]
  },
  {
   "cell_type": "raw",
   "metadata": {},
   "source": [
    "# BEGIN SOLUTION"
   ]
  },
  {
   "cell_type": "code",
   "execution_count": 66,
   "metadata": {
    "tags": []
   },
   "outputs": [
    {
     "data": {
      "text/plain": [
       "array([ 20.244,  20.892,  12.216, ...,  19.308,  18.336,  35.664])"
      ]
     },
     "execution_count": 66,
     "metadata": {},
     "output_type": "execute_result"
    }
   ],
   "source": [
    "more_restaurant_bills = Table.read_table(\"data/more_restaurant_bills.csv\")\n",
    "more_total_charges = 1.2 * more_restaurant_bills.column(0) # SOLUTION\n",
    "more_total_charges"
   ]
  },
  {
   "cell_type": "raw",
   "metadata": {},
   "source": [
    "# END SOLUTION"
   ]
  },
  {
   "cell_type": "raw",
   "metadata": {},
   "source": [
    "# BEGIN TESTS"
   ]
  },
  {
   "cell_type": "code",
   "execution_count": 67,
   "metadata": {
    "tags": []
   },
   "outputs": [
    {
     "data": {
      "text/plain": [
       "True"
      ]
     },
     "execution_count": 67,
     "metadata": {},
     "output_type": "execute_result"
    }
   ],
   "source": [
    "isinstance(more_total_charges, np.ndarray)"
   ]
  },
  {
   "cell_type": "code",
   "execution_count": 68,
   "metadata": {
    "tags": []
   },
   "outputs": [
    {
     "data": {
      "text/plain": [
       "True"
      ]
     },
     "execution_count": 68,
     "metadata": {},
     "output_type": "execute_result"
    }
   ],
   "source": [
    "sum(abs(more_total_charges - 1.2*more_restaurant_bills.column(0))) < 1e-6"
   ]
  },
  {
   "cell_type": "raw",
   "metadata": {},
   "source": [
    "# END TESTS"
   ]
  },
  {
   "cell_type": "raw",
   "metadata": {},
   "source": [
    "# END QUESTION"
   ]
  },
  {
   "cell_type": "raw",
   "metadata": {},
   "source": [
    "# BEGIN QUESTION\n",
    "name: q13"
   ]
  },
  {
   "cell_type": "markdown",
   "metadata": {},
   "source": [
    "The function sum takes a single array of numbers as its argument. It returns the sum of all the numbers in that array (so it returns a single number, not an array).\n",
    "\n",
    "**Question 13.** What was the sum of all the bills in `more_restaurant_bills`, including tips?\n"
   ]
  },
  {
   "cell_type": "raw",
   "metadata": {},
   "source": [
    "# BEGIN SOLUTION"
   ]
  },
  {
   "cell_type": "code",
   "execution_count": 69,
   "metadata": {
    "tags": []
   },
   "outputs": [
    {
     "data": {
      "text/plain": [
       "1795730.0640000193"
      ]
     },
     "execution_count": 69,
     "metadata": {},
     "output_type": "execute_result"
    }
   ],
   "source": [
    "sum_of_bills = sum(more_total_charges) # SOLUTION\n",
    "sum_of_bills"
   ]
  },
  {
   "cell_type": "raw",
   "metadata": {},
   "source": [
    "# END SOLUTION"
   ]
  },
  {
   "cell_type": "raw",
   "metadata": {},
   "source": [
    "# BEGIN TESTS"
   ]
  },
  {
   "cell_type": "code",
   "execution_count": 70,
   "metadata": {
    "tags": []
   },
   "outputs": [
    {
     "data": {
      "text/plain": [
       "1795730.0640000193"
      ]
     },
     "execution_count": 70,
     "metadata": {},
     "output_type": "execute_result"
    }
   ],
   "source": [
    "sum_of_bills"
   ]
  },
  {
   "cell_type": "raw",
   "metadata": {},
   "source": [
    "# END TESTS"
   ]
  },
  {
   "cell_type": "raw",
   "metadata": {},
   "source": [
    "# END QUESTION"
   ]
  },
  {
   "cell_type": "markdown",
   "metadata": {},
   "source": [
    "# 3. Creating Tables\n",
    "\n",
    "An array is useful for describing a single attribute of each element in a collection. For example, let's say our collection is all US States. Then an array could describe the land area of each state.\n",
    "\n",
    "Tables extend this idea by containing multiple arrays, each one describing a different attribute for every element of a collection. In this way, tables allow us to not only store data about many entities but to also contain several kinds of data about each entity.\n",
    "\n",
    "For example, in the cell below we have two arrays. The first one, `population_amounts`, was defined above in section 2.2 and contains the world population in each year (estimated by the US Census Bureau). The second array, years, contains the years themselves. These elements are in order, so the year and the world population for that year have the same index in their corresponding arrays.\n",
    "\n",
    "Run the cell below."
   ]
  },
  {
   "cell_type": "code",
   "execution_count": 71,
   "metadata": {
    "tags": []
   },
   "outputs": [
    {
     "name": "stdout",
     "output_type": "stream",
     "text": [
      "Population column: [3032156070 3071596055 3124561005 3189655687 3255145692 3322046795\n",
      " 3392097729 3461619724 3532782993 3606553753 3681975908 3760516757\n",
      " 3836900801 3912984371 3988487336 4062507027 4135432265 4207786422\n",
      " 4281339378 4356778367 4432963653 4511164132 4592387213 4674330282\n",
      " 4755996689 4839176734 4924747934 5012556248 5101287675 5189977062\n",
      " 5280046096 5368139468 5452576447 5537885552 5622085788 5706753900\n",
      " 5789655609 5872286683 5954005906 6034491620 6114332517 6193671694\n",
      " 6272753009 6351882385 6431551721 6511748273 6592734559 6674203697\n",
      " 6757020825 6839574233 6921877071 7002880914 7085790438 7169675197\n",
      " 7254292848 7339076654 7424484741 7509410228 7592475615 7673345391\n",
      " 7752840547]\n",
      "Years column: [1960 1961 1962 1963 1964 1965 1966 1967 1968 1969 1970 1971 1972 1973 1974\n",
      " 1975 1976 1977 1978 1979 1980 1981 1982 1983 1984 1985 1986 1987 1988 1989\n",
      " 1990 1991 1992 1993 1994 1995 1996 1997 1998 1999 2000 2001 2002 2003 2004\n",
      " 2005 2006 2007 2008 2009 2010 2011 2012 2013 2014 2015 2016 2017 2018 2019\n",
      " 2020]\n"
     ]
    }
   ],
   "source": [
    "years = np.arange(1960, 2020 + 1)\n",
    "print(\"Population column:\", population_amounts)\n",
    "print(\"Years column:\", years)"
   ]
  },
  {
   "cell_type": "markdown",
   "metadata": {},
   "source": [
    "Suppose we want to answer this question:\n",
    "\n",
    "In which year did the world's population cross 6 billion?\n",
    "\n",
    "You could technically answer this question just from staring at the arrays, but it's a bit convoluted, since you would have to count the position where the population first crossed 6 billion, then find the corresponding element in the years array. In cases like these, it might be easier to put the data into a `Table`, a 2-dimensional type of dataset.\n",
    "\n",
    "The expression below:\n",
    "\n",
    "* creates an empty table using the expression `Table()`,\n",
    "\n",
    "* adds two columns by calling `with_columns` with four arguments,\n",
    "\n",
    "* assigns the result to the name population, and finally\n",
    "\n",
    "* evaluates population so that we can see the table.\n",
    "\n",
    "The strings \"Year\" and \"Population\" are column labels that we have chosen. The names population_amounts and years were assigned above to two arrays of the **same length**. The function `with_columns` (you can find the documentation [here](http://www.data8.org/datascience/_autosummary/datascience.tables.Table.with_columns.html#datascience.tables.Table.with_columns)) takes in alternating strings (to represent column labels) and arrays (representing the data in those columns). The strings and arrays are separated by commas."
   ]
  },
  {
   "cell_type": "code",
   "execution_count": 79,
   "metadata": {
    "tags": []
   },
   "outputs": [
    {
     "data": {
      "text/html": [
       "<table border=\"1\" class=\"dataframe\">\n",
       "    <thead>\n",
       "        <tr>\n",
       "            <th>Population</th> <th>Year</th>\n",
       "        </tr>\n",
       "    </thead>\n",
       "    <tbody>\n",
       "        <tr>\n",
       "            <td>3032156070</td> <td>1960</td>\n",
       "        </tr>\n",
       "        <tr>\n",
       "            <td>3071596055</td> <td>1961</td>\n",
       "        </tr>\n",
       "        <tr>\n",
       "            <td>3124561005</td> <td>1962</td>\n",
       "        </tr>\n",
       "        <tr>\n",
       "            <td>3189655687</td> <td>1963</td>\n",
       "        </tr>\n",
       "        <tr>\n",
       "            <td>3255145692</td> <td>1964</td>\n",
       "        </tr>\n",
       "        <tr>\n",
       "            <td>3322046795</td> <td>1965</td>\n",
       "        </tr>\n",
       "        <tr>\n",
       "            <td>3392097729</td> <td>1966</td>\n",
       "        </tr>\n",
       "        <tr>\n",
       "            <td>3461619724</td> <td>1967</td>\n",
       "        </tr>\n",
       "        <tr>\n",
       "            <td>3532782993</td> <td>1968</td>\n",
       "        </tr>\n",
       "        <tr>\n",
       "            <td>3606553753</td> <td>1969</td>\n",
       "        </tr>\n",
       "        <tr>\n",
       "            <td>3681975908</td> <td>1970</td>\n",
       "        </tr>\n",
       "        <tr>\n",
       "            <td>3760516757</td> <td>1971</td>\n",
       "        </tr>\n",
       "        <tr>\n",
       "            <td>3836900801</td> <td>1972</td>\n",
       "        </tr>\n",
       "        <tr>\n",
       "            <td>3912984371</td> <td>1973</td>\n",
       "        </tr>\n",
       "        <tr>\n",
       "            <td>3988487336</td> <td>1974</td>\n",
       "        </tr>\n",
       "        <tr>\n",
       "            <td>4062507027</td> <td>1975</td>\n",
       "        </tr>\n",
       "        <tr>\n",
       "            <td>4135432265</td> <td>1976</td>\n",
       "        </tr>\n",
       "        <tr>\n",
       "            <td>4207786422</td> <td>1977</td>\n",
       "        </tr>\n",
       "        <tr>\n",
       "            <td>4281339378</td> <td>1978</td>\n",
       "        </tr>\n",
       "        <tr>\n",
       "            <td>4356778367</td> <td>1979</td>\n",
       "        </tr>\n",
       "        <tr>\n",
       "            <td>4432963653</td> <td>1980</td>\n",
       "        </tr>\n",
       "        <tr>\n",
       "            <td>4511164132</td> <td>1981</td>\n",
       "        </tr>\n",
       "        <tr>\n",
       "            <td>4592387213</td> <td>1982</td>\n",
       "        </tr>\n",
       "        <tr>\n",
       "            <td>4674330282</td> <td>1983</td>\n",
       "        </tr>\n",
       "        <tr>\n",
       "            <td>4755996689</td> <td>1984</td>\n",
       "        </tr>\n",
       "        <tr>\n",
       "            <td>4839176734</td> <td>1985</td>\n",
       "        </tr>\n",
       "        <tr>\n",
       "            <td>4924747934</td> <td>1986</td>\n",
       "        </tr>\n",
       "        <tr>\n",
       "            <td>5012556248</td> <td>1987</td>\n",
       "        </tr>\n",
       "        <tr>\n",
       "            <td>5101287675</td> <td>1988</td>\n",
       "        </tr>\n",
       "        <tr>\n",
       "            <td>5189977062</td> <td>1989</td>\n",
       "        </tr>\n",
       "        <tr>\n",
       "            <td>5280046096</td> <td>1990</td>\n",
       "        </tr>\n",
       "        <tr>\n",
       "            <td>5368139468</td> <td>1991</td>\n",
       "        </tr>\n",
       "        <tr>\n",
       "            <td>5452576447</td> <td>1992</td>\n",
       "        </tr>\n",
       "        <tr>\n",
       "            <td>5537885552</td> <td>1993</td>\n",
       "        </tr>\n",
       "        <tr>\n",
       "            <td>5622085788</td> <td>1994</td>\n",
       "        </tr>\n",
       "        <tr>\n",
       "            <td>5706753900</td> <td>1995</td>\n",
       "        </tr>\n",
       "        <tr>\n",
       "            <td>5789655609</td> <td>1996</td>\n",
       "        </tr>\n",
       "        <tr>\n",
       "            <td>5872286683</td> <td>1997</td>\n",
       "        </tr>\n",
       "        <tr>\n",
       "            <td>5954005906</td> <td>1998</td>\n",
       "        </tr>\n",
       "        <tr>\n",
       "            <td>6034491620</td> <td>1999</td>\n",
       "        </tr>\n",
       "    </tbody>\n",
       "</table>\n",
       "<p>... (21 rows omitted)</p>"
      ],
      "text/plain": [
       "<IPython.core.display.HTML object>"
      ]
     },
     "metadata": {},
     "output_type": "display_data"
    }
   ],
   "source": [
    "population = Table().with_columns(\n",
    "    \"Population\", population_amounts,\n",
    "    \"Year\", years\n",
    ")\n",
    "population.show(40)"
   ]
  },
  {
   "cell_type": "raw",
   "metadata": {},
   "source": [
    "# BEGIN QUESTION\n",
    "name: q14\n",
    "manual: true"
   ]
  },
  {
   "cell_type": "markdown",
   "metadata": {},
   "source": [
    "Now the data is combined into a single table. It's much easier to parse this data. If you need to know what the population was in 1959, for example, you can tell from a single glance.\n",
    "\n",
    "**Question 14.** In the cell below, we've created 2 arrays. Using the steps above, assign `top_10_movies` to a table that has two columns called \"Rating\" and \"Name\", which hold `top_10_movie_ratings` and `top_10_movie_names` respectively.\n",
    "\n",
    "**Note:** Check with a classmate or your instructor to see if your answer is correct."
   ]
  },
  {
   "cell_type": "raw",
   "metadata": {},
   "source": [
    "# BEGIN SOLUTION"
   ]
  },
  {
   "cell_type": "code",
   "execution_count": 73,
   "metadata": {
    "tags": []
   },
   "outputs": [
    {
     "data": {
      "text/html": [
       "<table border=\"1\" class=\"dataframe\">\n",
       "    <thead>\n",
       "        <tr>\n",
       "            <th>Rating</th> <th>Name</th>\n",
       "        </tr>\n",
       "    </thead>\n",
       "    <tbody>\n",
       "        <tr>\n",
       "            <td>9.2   </td> <td>The Shawshank Redemption (1994)                         </td>\n",
       "        </tr>\n",
       "        <tr>\n",
       "            <td>9.2   </td> <td>The Godfather (1972)                                    </td>\n",
       "        </tr>\n",
       "        <tr>\n",
       "            <td>9     </td> <td>The Godfather: Part II (1974)                           </td>\n",
       "        </tr>\n",
       "        <tr>\n",
       "            <td>8.9   </td> <td>Pulp Fiction (1994)                                     </td>\n",
       "        </tr>\n",
       "        <tr>\n",
       "            <td>8.9   </td> <td>Schindler's List (1993)                                 </td>\n",
       "        </tr>\n",
       "        <tr>\n",
       "            <td>8.9   </td> <td>The Lord of the Rings: The Return of the King (2003)    </td>\n",
       "        </tr>\n",
       "        <tr>\n",
       "            <td>8.9   </td> <td>12 Angry Men (1957)                                     </td>\n",
       "        </tr>\n",
       "        <tr>\n",
       "            <td>8.9   </td> <td>The Dark Knight (2008)                                  </td>\n",
       "        </tr>\n",
       "        <tr>\n",
       "            <td>8.9   </td> <td>Il buono, il brutto, il cattivo (1966)                  </td>\n",
       "        </tr>\n",
       "        <tr>\n",
       "            <td>8.8   </td> <td>The Lord of the Rings: The Fellowship of the Ring (2001)</td>\n",
       "        </tr>\n",
       "    </tbody>\n",
       "</table>"
      ],
      "text/plain": [
       "Rating | Name\n",
       "9.2    | The Shawshank Redemption (1994)\n",
       "9.2    | The Godfather (1972)\n",
       "9      | The Godfather: Part II (1974)\n",
       "8.9    | Pulp Fiction (1994)\n",
       "8.9    | Schindler's List (1993)\n",
       "8.9    | The Lord of the Rings: The Return of the King (2003)\n",
       "8.9    | 12 Angry Men (1957)\n",
       "8.9    | The Dark Knight (2008)\n",
       "8.9    | Il buono, il brutto, il cattivo (1966)\n",
       "8.8    | The Lord of the Rings: The Fellowship of the Ring (2001)"
      ]
     },
     "execution_count": 73,
     "metadata": {},
     "output_type": "execute_result"
    }
   ],
   "source": [
    "top_10_movie_ratings = make_array(9.2, 9.2, 9., 8.9, 8.9, 8.9, 8.9, 8.9, 8.9, 8.8)\n",
    "top_10_movie_names = make_array(\n",
    "        'The Shawshank Redemption (1994)',\n",
    "        'The Godfather (1972)',\n",
    "        'The Godfather: Part II (1974)',\n",
    "        'Pulp Fiction (1994)',\n",
    "        \"Schindler's List (1993)\",\n",
    "        'The Lord of the Rings: The Return of the King (2003)',\n",
    "        '12 Angry Men (1957)',\n",
    "        'The Dark Knight (2008)',\n",
    "        'Il buono, il brutto, il cattivo (1966)',\n",
    "        'The Lord of the Rings: The Fellowship of the Ring (2001)')\n",
    "\n",
    "top_10_movies = Table().with_columns('Rating', top_10_movie_ratings, 'Name', top_10_movie_names) # SOLUTION\n",
    "\n",
    "# We've put this next line here \n",
    "# so your table will get printed \n",
    "# out when you run this cell.\n",
    "top_10_movies"
   ]
  },
  {
   "cell_type": "raw",
   "metadata": {},
   "source": [
    "# END SOLUTION"
   ]
  },
  {
   "cell_type": "raw",
   "metadata": {},
   "source": [
    "# END QUESTION"
   ]
  },
  {
   "cell_type": "raw",
   "metadata": {},
   "source": [
    "# BEGIN QUESTION\n",
    "name: q15"
   ]
  },
  {
   "cell_type": "markdown",
   "metadata": {},
   "source": [
    "### Loading a Table from a File\n",
    "\n",
    "In most cases, we aren't going to go through the trouble of typing in all the data manually. Instead, we load them in from an external source, like a data file. There are many formats for data files, but CSV (\"comma-separated values\") is the most common.\n",
    "\n",
    "`Table.read_table(...)` takes one argument (a path to a data file in string format) and returns a table.\n",
    "\n",
    "**Question 15.** `imdb.csv` contains a table of information about the 250 highest-rated movies on IMDb. Load it as a table called `imdb`.\n",
    "\n",
    "You may remember working with this table in **Lab 02**.\n"
   ]
  },
  {
   "cell_type": "raw",
   "metadata": {},
   "source": [
    "# BEGIN SOLUTION"
   ]
  },
  {
   "cell_type": "code",
   "execution_count": 74,
   "metadata": {
    "tags": []
   },
   "outputs": [
    {
     "data": {
      "text/html": [
       "<table border=\"1\" class=\"dataframe\">\n",
       "    <thead>\n",
       "        <tr>\n",
       "            <th>Title</th> <th>Year</th> <th>Rating</th> <th>Votes</th> <th>Decade</th>\n",
       "        </tr>\n",
       "    </thead>\n",
       "    <tbody>\n",
       "        <tr>\n",
       "            <td>Avengers: Endgame                        </td> <td>2019</td> <td>8.7   </td> <td>394632</td> <td>2010  </td>\n",
       "        </tr>\n",
       "        <tr>\n",
       "            <td>Spider-Man: Into the Spider-Verse        </td> <td>2018</td> <td>8.4   </td> <td>199435</td> <td>2010  </td>\n",
       "        </tr>\n",
       "        <tr>\n",
       "            <td>Avengers: Infinity War                   </td> <td>2018</td> <td>8.4   </td> <td>657004</td> <td>2010  </td>\n",
       "        </tr>\n",
       "        <tr>\n",
       "            <td>Green Book                               </td> <td>2018</td> <td>8.2   </td> <td>193829</td> <td>2010  </td>\n",
       "        </tr>\n",
       "        <tr>\n",
       "            <td>Andhadhun                                </td> <td>2018</td> <td>8.1   </td> <td>41901 </td> <td>2010  </td>\n",
       "        </tr>\n",
       "        <tr>\n",
       "            <td>Coco                                     </td> <td>2017</td> <td>8.3   </td> <td>272499</td> <td>2010  </td>\n",
       "        </tr>\n",
       "        <tr>\n",
       "            <td>Three Billboards Outside Ebbing, Missouri</td> <td>2017</td> <td>8.1   </td> <td>339946</td> <td>2010  </td>\n",
       "        </tr>\n",
       "        <tr>\n",
       "            <td>Logan                                    </td> <td>2017</td> <td>8.1   </td> <td>553983</td> <td>2010  </td>\n",
       "        </tr>\n",
       "        <tr>\n",
       "            <td>Your Name.                               </td> <td>2016</td> <td>8.3   </td> <td>131814</td> <td>2010  </td>\n",
       "        </tr>\n",
       "        <tr>\n",
       "            <td>Dangal                                   </td> <td>2016</td> <td>8.3   </td> <td>121027</td> <td>2010  </td>\n",
       "        </tr>\n",
       "    </tbody>\n",
       "</table>\n",
       "<p>... (240 rows omitted)</p>"
      ],
      "text/plain": [
       "Title                                     | Year | Rating | Votes  | Decade\n",
       "Avengers: Endgame                         | 2019 | 8.7    | 394632 | 2010\n",
       "Spider-Man: Into the Spider-Verse         | 2018 | 8.4    | 199435 | 2010\n",
       "Avengers: Infinity War                    | 2018 | 8.4    | 657004 | 2010\n",
       "Green Book                                | 2018 | 8.2    | 193829 | 2010\n",
       "Andhadhun                                 | 2018 | 8.1    | 41901  | 2010\n",
       "Coco                                      | 2017 | 8.3    | 272499 | 2010\n",
       "Three Billboards Outside Ebbing, Missouri | 2017 | 8.1    | 339946 | 2010\n",
       "Logan                                     | 2017 | 8.1    | 553983 | 2010\n",
       "Your Name.                                | 2016 | 8.3    | 131814 | 2010\n",
       "Dangal                                    | 2016 | 8.3    | 121027 | 2010\n",
       "... (240 rows omitted)"
      ]
     },
     "execution_count": 74,
     "metadata": {},
     "output_type": "execute_result"
    }
   ],
   "source": [
    "imdb = Table.read_table(\"data/imdb.csv\") # SOLUTION\n",
    "imdb"
   ]
  },
  {
   "cell_type": "raw",
   "metadata": {},
   "source": [
    "# END SOLUTION"
   ]
  },
  {
   "cell_type": "raw",
   "metadata": {},
   "source": [
    "# BEGIN TESTS"
   ]
  },
  {
   "cell_type": "code",
   "execution_count": 75,
   "metadata": {
    "tags": []
   },
   "outputs": [
    {
     "data": {
      "text/plain": [
       "True"
      ]
     },
     "execution_count": 75,
     "metadata": {},
     "output_type": "execute_result"
    }
   ],
   "source": [
    "isinstance(imdb, tables.Table)"
   ]
  },
  {
   "cell_type": "code",
   "execution_count": 76,
   "metadata": {
    "tags": []
   },
   "outputs": [
    {
     "data": {
      "text/plain": [
       "250"
      ]
     },
     "execution_count": 76,
     "metadata": {},
     "output_type": "execute_result"
    }
   ],
   "source": [
    "imdb.num_rows"
   ]
  },
  {
   "cell_type": "raw",
   "metadata": {},
   "source": [
    "# END TESTS"
   ]
  },
  {
   "cell_type": "raw",
   "metadata": {},
   "source": [
    "# END QUESTION"
   ]
  },
  {
   "cell_type": "markdown",
   "metadata": {},
   "source": [
    "## 4. More Table Operations\n",
    "\n",
    "Now that you've worked with arrays, let's add a few more methods to the list of table operations that you saw in **Lab 02**.\n",
    "\n",
    "### `.column`\n",
    "\n",
    "column takes the column name of a table (in string format) as its argument and returns the values in that column as an **array**."
   ]
  },
  {
   "cell_type": "code",
   "execution_count": 77,
   "metadata": {
    "tags": []
   },
   "outputs": [
    {
     "data": {
      "text/plain": [
       "array(['The Shawshank Redemption (1994)', 'The Godfather (1972)',\n",
       "       'The Godfather: Part II (1974)', 'Pulp Fiction (1994)',\n",
       "       \"Schindler's List (1993)\",\n",
       "       'The Lord of the Rings: The Return of the King (2003)',\n",
       "       '12 Angry Men (1957)', 'The Dark Knight (2008)',\n",
       "       'Il buono, il brutto, il cattivo (1966)',\n",
       "       'The Lord of the Rings: The Fellowship of the Ring (2001)'],\n",
       "      dtype='<U56')"
      ]
     },
     "execution_count": 77,
     "metadata": {},
     "output_type": "execute_result"
    }
   ],
   "source": [
    "# Returns an array of movie names\n",
    "top_10_movies.column('Name')"
   ]
  },
  {
   "cell_type": "markdown",
   "metadata": {},
   "source": [
    "\n",
    "### `.take`\n",
    "\n",
    "The table method take takes as its argument an array of numbers. Each number should be the index of a row in the table. It returns a **new table** with only those rows.\n",
    "\n",
    "You'll usually want to use take in conjunction with np.arange to take the first few rows of a table."
   ]
  },
  {
   "cell_type": "code",
   "execution_count": 65,
   "metadata": {},
   "outputs": [
    {
     "data": {
      "text/html": [
       "<table border=\"1\" class=\"dataframe\">\n",
       "    <thead>\n",
       "        <tr>\n",
       "            <th>Rating</th> <th>Name</th>\n",
       "        </tr>\n",
       "    </thead>\n",
       "    <tbody>\n",
       "        <tr>\n",
       "            <td>9.2   </td> <td>The Shawshank Redemption (1994)</td>\n",
       "        </tr>\n",
       "        <tr>\n",
       "            <td>9.2   </td> <td>The Godfather (1972)           </td>\n",
       "        </tr>\n",
       "        <tr>\n",
       "            <td>9     </td> <td>The Godfather: Part II (1974)  </td>\n",
       "        </tr>\n",
       "        <tr>\n",
       "            <td>8.9   </td> <td>Pulp Fiction (1994)            </td>\n",
       "        </tr>\n",
       "        <tr>\n",
       "            <td>8.9   </td> <td>Schindler's List (1993)        </td>\n",
       "        </tr>\n",
       "    </tbody>\n",
       "</table>"
      ],
      "text/plain": [
       "Rating | Name\n",
       "9.2    | The Shawshank Redemption (1994)\n",
       "9.2    | The Godfather (1972)\n",
       "9      | The Godfather: Part II (1974)\n",
       "8.9    | Pulp Fiction (1994)\n",
       "8.9    | Schindler's List (1993)"
      ]
     },
     "execution_count": 65,
     "metadata": {},
     "output_type": "execute_result"
    }
   ],
   "source": [
    "# Take first 5 movies of top_10_movies\n",
    "top_10_movies.take(np.arange(0, 5, 1))"
   ]
  },
  {
   "cell_type": "markdown",
   "metadata": {},
   "source": [
    "The next three questions will give you practice with combining the operations you've learned in this lab and the previous one to answer questions about the population and imdb tables. First, check out the population table from **Section 3**."
   ]
  },
  {
   "cell_type": "code",
   "execution_count": 80,
   "metadata": {
    "tags": []
   },
   "outputs": [
    {
     "data": {
      "text/html": [
       "<table border=\"1\" class=\"dataframe\">\n",
       "    <thead>\n",
       "        <tr>\n",
       "            <th>Population</th> <th>Year</th>\n",
       "        </tr>\n",
       "    </thead>\n",
       "    <tbody>\n",
       "        <tr>\n",
       "            <td>3032156070</td> <td>1960</td>\n",
       "        </tr>\n",
       "        <tr>\n",
       "            <td>3071596055</td> <td>1961</td>\n",
       "        </tr>\n",
       "        <tr>\n",
       "            <td>3124561005</td> <td>1962</td>\n",
       "        </tr>\n",
       "        <tr>\n",
       "            <td>3189655687</td> <td>1963</td>\n",
       "        </tr>\n",
       "        <tr>\n",
       "            <td>3255145692</td> <td>1964</td>\n",
       "        </tr>\n",
       "        <tr>\n",
       "            <td>3322046795</td> <td>1965</td>\n",
       "        </tr>\n",
       "        <tr>\n",
       "            <td>3392097729</td> <td>1966</td>\n",
       "        </tr>\n",
       "        <tr>\n",
       "            <td>3461619724</td> <td>1967</td>\n",
       "        </tr>\n",
       "        <tr>\n",
       "            <td>3532782993</td> <td>1968</td>\n",
       "        </tr>\n",
       "        <tr>\n",
       "            <td>3606553753</td> <td>1969</td>\n",
       "        </tr>\n",
       "    </tbody>\n",
       "</table>\n",
       "<p>... (51 rows omitted)</p>"
      ],
      "text/plain": [
       "Population | Year\n",
       "3032156070 | 1960\n",
       "3071596055 | 1961\n",
       "3124561005 | 1962\n",
       "3189655687 | 1963\n",
       "3255145692 | 1964\n",
       "3322046795 | 1965\n",
       "3392097729 | 1966\n",
       "3461619724 | 1967\n",
       "3532782993 | 1968\n",
       "3606553753 | 1969\n",
       "... (51 rows omitted)"
      ]
     },
     "execution_count": 80,
     "metadata": {},
     "output_type": "execute_result"
    }
   ],
   "source": [
    "# Run this cell to display the population table\n",
    "population"
   ]
  },
  {
   "cell_type": "raw",
   "metadata": {},
   "source": [
    "# BEGIN QUESTION\n",
    "name: q16"
   ]
  },
  {
   "cell_type": "markdown",
   "metadata": {},
   "source": [
    "**Question 16.** Check out the population table from **Section 3** of this lab. Compute the year when the world population first went above 6 billion. Assign the year to `year_population_crossed_6_billion`.\n",
    "\n",
    "**Hint:** To earn all the points for this question you must determine the value programmatically. Programmatically is used to refer to tasks that can be done in an automated way (using coding/programming), especially as opposed to tasks that have to be done manually (by assigning a value)."
   ]
  },
  {
   "cell_type": "raw",
   "metadata": {},
   "source": [
    "# BEGIN SOLUTION"
   ]
  },
  {
   "cell_type": "code",
   "execution_count": 82,
   "metadata": {
    "tags": []
   },
   "outputs": [
    {
     "data": {
      "text/plain": [
       "1999"
      ]
     },
     "execution_count": 82,
     "metadata": {},
     "output_type": "execute_result"
    }
   ],
   "source": [
    "year_population_crossed_6_billion = population.where('Population', are.above(6000000000)).first('Year') # SOLUTION\n",
    "year_population_crossed_6_billion"
   ]
  },
  {
   "cell_type": "raw",
   "metadata": {},
   "source": [
    "# END SOLUTION"
   ]
  },
  {
   "cell_type": "raw",
   "metadata": {},
   "source": [
    "# BEGIN TESTS"
   ]
  },
  {
   "cell_type": "code",
   "execution_count": 83,
   "metadata": {
    "tags": []
   },
   "outputs": [
    {
     "data": {
      "text/plain": [
       "1999"
      ]
     },
     "execution_count": 83,
     "metadata": {},
     "output_type": "execute_result"
    }
   ],
   "source": [
    "year_population_crossed_6_billion"
   ]
  },
  {
   "cell_type": "raw",
   "metadata": {},
   "source": [
    "# END TESTS"
   ]
  },
  {
   "cell_type": "raw",
   "metadata": {},
   "source": [
    "# END QUESTION"
   ]
  },
  {
   "cell_type": "raw",
   "metadata": {},
   "source": [
    "# BEGIN QUESTION\n",
    "name: q17"
   ]
  },
  {
   "cell_type": "markdown",
   "metadata": {},
   "source": [
    "**Question 17.** Find the average rating for movies released before the year 2000 and the average rating for movies released in the year 2000 or after for the movies in imdb.\n",
    "\n",
    "**Hint:** Think of the steps you need to do (take the average, find the ratings, find movies released in 20th/21st centuries), and try to put them in an order that makes sense."
   ]
  },
  {
   "cell_type": "raw",
   "metadata": {},
   "source": [
    "# BEGIN SOLUTION"
   ]
  },
  {
   "cell_type": "code",
   "execution_count": 84,
   "metadata": {
    "tags": []
   },
   "outputs": [
    {
     "name": "stdout",
     "output_type": "stream",
     "text": [
      "Average before 2000 rating: 8.2725\n",
      "Average after or in 2000 rating: 8.23888888889\n"
     ]
    }
   ],
   "source": [
    "before_2000 = sum(imdb.where('Year', are.below(2000)).column('Rating'))/len(imdb.where('Year', are.below(2000)).column('Rating')) # SOLUTION\n",
    "after_or_in_2000 = sum(imdb.where('Year', are.above_or_equal_to(2000)).column('Rating'))/len(imdb.where('Year', are.above_or_equal_to(2000)).column('Rating')) # SOLUTION\n",
    "print(\"Average before 2000 rating:\", before_2000)\n",
    "print(\"Average after or in 2000 rating:\", after_or_in_2000)"
   ]
  },
  {
   "cell_type": "raw",
   "metadata": {},
   "source": [
    "# END SOLUTION"
   ]
  },
  {
   "cell_type": "raw",
   "metadata": {},
   "source": [
    "# BEGIN TESTS"
   ]
  },
  {
   "cell_type": "code",
   "execution_count": 85,
   "metadata": {
    "tags": []
   },
   "outputs": [
    {
     "data": {
      "text/plain": [
       "True"
      ]
     },
     "execution_count": 85,
     "metadata": {},
     "output_type": "execute_result"
    }
   ],
   "source": [
    "round(before_2000)-8 < 1e-5"
   ]
  },
  {
   "cell_type": "code",
   "execution_count": 86,
   "metadata": {
    "tags": []
   },
   "outputs": [
    {
     "data": {
      "text/plain": [
       "True"
      ]
     },
     "execution_count": 86,
     "metadata": {},
     "output_type": "execute_result"
    }
   ],
   "source": [
    "round(after_or_in_2000)-8 < 1e-5"
   ]
  },
  {
   "cell_type": "code",
   "execution_count": 87,
   "metadata": {
    "tags": []
   },
   "outputs": [
    {
     "data": {
      "text/plain": [
       "8.2724999999999955"
      ]
     },
     "execution_count": 87,
     "metadata": {},
     "output_type": "execute_result"
    }
   ],
   "source": [
    "# HIDDEN\n",
    "before_2000"
   ]
  },
  {
   "cell_type": "code",
   "execution_count": 88,
   "metadata": {
    "tags": []
   },
   "outputs": [
    {
     "data": {
      "text/plain": [
       "8.2388888888888907"
      ]
     },
     "execution_count": 88,
     "metadata": {},
     "output_type": "execute_result"
    }
   ],
   "source": [
    "# HIDDEN\n",
    "after_or_in_2000"
   ]
  },
  {
   "cell_type": "raw",
   "metadata": {},
   "source": [
    "# END TESTS"
   ]
  },
  {
   "cell_type": "raw",
   "metadata": {},
   "source": [
    "# END QUESTION"
   ]
  }
 ],
 "metadata": {
  "kernelspec": {
   "display_name": "Python 3 (ipykernel)",
   "language": "python",
   "name": "python3"
  },
  "language_info": {
   "codemirror_mode": {
    "name": "ipython",
    "version": 3
   },
   "file_extension": ".py",
   "mimetype": "text/x-python",
   "name": "python",
   "nbconvert_exporter": "python",
   "pygments_lexer": "ipython3",
   "version": "3.10.11"
  }
 },
 "nbformat": 4,
 "nbformat_minor": 4
}
