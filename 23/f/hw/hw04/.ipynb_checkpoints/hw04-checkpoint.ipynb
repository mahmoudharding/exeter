{
 "cells": [
  {
   "cell_type": "raw",
   "id": "cdc6764a",
   "metadata": {},
   "source": [
    "# ASSIGNMENT CONFIG\n",
    "generate: true\n",
    "files:\n",
    "  - data/burritos_types.csv\n",
    "  - data/ratings.csv\n",
    "  - data/unc_faculty.csv"
   ]
  },
  {
   "cell_type": "markdown",
   "id": "a79b3b25-6384-469b-be30-b091eb57abab",
   "metadata": {},
   "source": [
    "# Run the cell below\n",
    "\n",
    "To run a code cell (i.e.; execute the python code inside a Jupyter notebook) you can click the play button on the ribbon underneath the name of the notebook. Before you begin click the \"Run cell\" button at the top that looks like ▶| or hold down `Shift` + `Return`."
   ]
  },
  {
   "cell_type": "markdown",
   "id": "acdb100c",
   "metadata": {
    "id": "proper-complex"
   },
   "source": [
    "# Homework 04: Functions, Histograms and Groups\n",
    "\n",
    "Please complete this notebook by filling in the cells provided. Before you begin, execute the following cell to load the provided tests. Each time you start your server, you will need to execute this cell again to load the tests.\n",
    "\n",
    "This assignment is due by the deadline listed in Canvas/Gradescope. Start early so that you can come to office hours if you're stuck. Check the course website for the office hours schedule. Late work will not be accepted as per the course expectations.\n",
    "\n",
    "Directly sharing answers is not okay, but discussing problems with the course staff or with other students is encouraged. Refer to the course expectations document to learn more about how to learn cooperatively.\n",
    "\n",
    "For all problems that you must write our explanations and sentences for, you **must** provide your answer in the designated space. Moreover, throughout this homework and all future ones, please be sure to not re-assign variables throughout the notebook! For example, if you use `max_temperature` in your answer to one question, do not reassign it later on.\n",
    "\n",
    "**Recommended Reading:** \n",
    "\n",
    "* [Visualizing Numerical Distributions](https://inferentialthinking.com/chapters/07/2/Visualizing_Numerical_Distributions.html) \n",
    "\n",
    "* [Functions and Tables](https://inferentialthinking.com/chapters/08/Functions_and_Tables.html)\n",
    "\n",
    "Run the cell below."
   ]
  },
  {
   "cell_type": "code",
   "execution_count": null,
   "id": "63152b1b-8f22-497b-9c42-98d989944a6d",
   "metadata": {},
   "outputs": [],
   "source": [
    "from datascience import *\n",
    "import numpy as np\n",
    "\n",
    "%matplotlib inline\n",
    "import matplotlib.pyplot as plt\n",
    "plt.style.use('fivethirtyeight')"
   ]
  },
  {
   "cell_type": "markdown",
   "id": "d96d6875",
   "metadata": {
    "id": "sized-smell"
   },
   "source": [
    "## 1. Burrito-ful San Diego"
   ]
  },
  {
   "cell_type": "markdown",
   "id": "b26c38e9",
   "metadata": {
    "id": "worthy-amber"
   },
   "source": [
    "Tam, Margaret and Winifred are trying to use Data Science to find the best burritos in San Diego! Their friends Irene and Maya provided them with two comprehensive datasets on many burrito establishments in the San Diego area taken from (and cleaned from): https://www.kaggle.com/srcole/burritos-in-san-diego/data.\n",
    "\n",
    "The following cell reads in a table called `ratings` which contains names of burrito restaurants, their Yelp rating, Google rating, as well as their Overall rating. It also reads in a table called `burritos_types` which contains names of burrito restaurants, their menu items, and the cost of the respective menu item at the restaurant."
   ]
  },
  {
   "cell_type": "code",
   "execution_count": 2,
   "id": "50f5bb97",
   "metadata": {
    "id": "political-bridges",
    "outputId": "795c847b-4e8f-4e6a-9c67-350670a6fe5d"
   },
   "outputs": [
    {
     "data": {
      "text/html": [
       "<table border=\"1\" class=\"dataframe\">\n",
       "    <thead>\n",
       "        <tr>\n",
       "            <th>Name</th> <th>Yelp</th> <th>Google</th> <th>Overall</th>\n",
       "        </tr>\n",
       "    </thead>\n",
       "    <tbody>\n",
       "        <tr>\n",
       "            <td>Albertacos                </td> <td>3.5 </td> <td>3.9   </td> <td>3.45   </td>\n",
       "        </tr>\n",
       "        <tr>\n",
       "            <td>Burrito Factory           </td> <td>4.5 </td> <td>4.8   </td> <td>3.5    </td>\n",
       "        </tr>\n",
       "        <tr>\n",
       "            <td>Burros and Fries          </td> <td>3.5 </td> <td>4.1   </td> <td>3.575  </td>\n",
       "        </tr>\n",
       "        <tr>\n",
       "            <td>Caliente Mexican Food     </td> <td>3.5 </td> <td>4.4   </td> <td>3.25   </td>\n",
       "        </tr>\n",
       "        <tr>\n",
       "            <td>California Burrito Company</td> <td>3.5 </td> <td>4.4   </td> <td>3.2    </td>\n",
       "        </tr>\n",
       "    </tbody>\n",
       "</table>\n",
       "<p>... (77 rows omitted)</p>"
      ],
      "text/plain": [
       "<IPython.core.display.HTML object>"
      ]
     },
     "metadata": {},
     "output_type": "display_data"
    },
    {
     "data": {
      "text/html": [
       "<table border=\"1\" class=\"dataframe\">\n",
       "    <thead>\n",
       "        <tr>\n",
       "            <th>Name</th> <th>Menu_Item</th> <th>Cost</th>\n",
       "        </tr>\n",
       "    </thead>\n",
       "    <tbody>\n",
       "        <tr>\n",
       "            <td>Albertacos                                         </td> <td>California          </td> <td>5.7 </td>\n",
       "        </tr>\n",
       "        <tr>\n",
       "            <td>Albertacos                                         </td> <td>Carne asada         </td> <td>5.25</td>\n",
       "        </tr>\n",
       "        <tr>\n",
       "            <td>Alberto's 623 N Escondido Blvd, Escondido, CA 92025</td> <td>Carne Asada         </td> <td>4.59</td>\n",
       "        </tr>\n",
       "        <tr>\n",
       "            <td>Burrito Box                                        </td> <td>Steak with guacamole</td> <td>11.5</td>\n",
       "        </tr>\n",
       "        <tr>\n",
       "            <td>Burrito Factory                                    </td> <td>Steak everything    </td> <td>7.35</td>\n",
       "        </tr>\n",
       "    </tbody>\n",
       "</table>\n",
       "<p>... (244 rows omitted)</p>"
      ],
      "text/plain": [
       "<IPython.core.display.HTML object>"
      ]
     },
     "metadata": {},
     "output_type": "display_data"
    }
   ],
   "source": [
    "# Just run this cell\n",
    "ratings = Table.read_table(\"data/ratings.csv\")\n",
    "ratings.show(5)\n",
    "burritos_types = Table.read_table(\"data/burritos_types.csv\")\n",
    "burritos_types.show(5)"
   ]
  },
  {
   "cell_type": "raw",
   "id": "296b4a05",
   "metadata": {},
   "source": [
    "# BEGIN QUESTION\n",
    "name: q1"
   ]
  },
  {
   "cell_type": "markdown",
   "id": "20f86d09",
   "metadata": {},
   "source": [
    "**Question 1.** It would be easier if we could combine the information in both tables. Assign `burritos` to the result of joining the two tables together.\n",
    "\n",
    "**Note:** it doesn't matter which table you put in as the argument to the table method, either order will work for the autograder tests.\n",
    "\n",
    "**Hint:** If you need refreshers on table methods, look at the [python reference](http://data8.org/sp20/python-reference.html)."
   ]
  },
  {
   "cell_type": "raw",
   "id": "43f2adec",
   "metadata": {},
   "source": [
    "# BEGIN SOLUTION"
   ]
  },
  {
   "cell_type": "code",
   "execution_count": 3,
   "id": "a6d1367d",
   "metadata": {
    "id": "every-cream",
    "outputId": "e2913398-c3aa-48bf-f08d-ace95f00e913"
   },
   "outputs": [
    {
     "data": {
      "text/html": [
       "<table border=\"1\" class=\"dataframe\">\n",
       "    <thead>\n",
       "        <tr>\n",
       "            <th>Name</th> <th>Menu_Item</th> <th>Cost</th> <th>Yelp</th> <th>Google</th> <th>Overall</th>\n",
       "        </tr>\n",
       "    </thead>\n",
       "    <tbody>\n",
       "        <tr>\n",
       "            <td>Albertacos      </td> <td>California       </td> <td>5.7 </td> <td>3.5 </td> <td>3.9   </td> <td>3.45   </td>\n",
       "        </tr>\n",
       "        <tr>\n",
       "            <td>Albertacos      </td> <td>Carne asada      </td> <td>5.25</td> <td>3.5 </td> <td>3.9   </td> <td>3.45   </td>\n",
       "        </tr>\n",
       "        <tr>\n",
       "            <td>Burrito Factory </td> <td>Steak everything </td> <td>7.35</td> <td>4.5 </td> <td>4.8   </td> <td>3.5    </td>\n",
       "        </tr>\n",
       "        <tr>\n",
       "            <td>Burros and Fries</td> <td>California       </td> <td>7.19</td> <td>3.5 </td> <td>4.1   </td> <td>3.575  </td>\n",
       "        </tr>\n",
       "        <tr>\n",
       "            <td>Burros and Fries</td> <td>Carne asada      </td> <td>6.89</td> <td>3.5 </td> <td>4.1   </td> <td>3.575  </td>\n",
       "        </tr>\n",
       "    </tbody>\n",
       "</table>\n",
       "<p>... (207 rows omitted)</p>"
      ],
      "text/plain": [
       "<IPython.core.display.HTML object>"
      ]
     },
     "metadata": {},
     "output_type": "display_data"
    }
   ],
   "source": [
    "burritos = burritos_types.join('Name', ratings) # SOLUTION\n",
    "burritos.show(5)"
   ]
  },
  {
   "cell_type": "raw",
   "id": "66982982",
   "metadata": {},
   "source": [
    "# END SOLUTION"
   ]
  },
  {
   "cell_type": "raw",
   "id": "38a75b29",
   "metadata": {},
   "source": [
    "# BEGIN TESTS"
   ]
  },
  {
   "cell_type": "code",
   "execution_count": 4,
   "id": "6b6be835",
   "metadata": {
    "id": "coordinated-alberta",
    "outputId": "64518f70-cc3d-4a6b-ff3f-e5c638bac12e"
   },
   "outputs": [
    {
     "data": {
      "text/plain": [
       "True"
      ]
     },
     "execution_count": 4,
     "metadata": {},
     "output_type": "execute_result"
    }
   ],
   "source": [
    "set(['Name', 'Menu_Item', 'Yelp', 'Google', 'Overall', 'Cost']) == set(burritos.labels)"
   ]
  },
  {
   "cell_type": "code",
   "execution_count": 5,
   "id": "5673f0ba",
   "metadata": {
    "id": "decreased-norman",
    "outputId": "4af1848b-d5b9-4891-8c2c-c19a4ce51f40"
   },
   "outputs": [
    {
     "data": {
      "text/plain": [
       "212"
      ]
     },
     "execution_count": 5,
     "metadata": {},
     "output_type": "execute_result"
    }
   ],
   "source": [
    "burritos.num_rows"
   ]
  },
  {
   "cell_type": "code",
   "execution_count": 6,
   "id": "62ec708b",
   "metadata": {
    "id": "casual-arrangement",
    "outputId": "23dd6feb-0377-407d-fa5a-1a65e8e546db"
   },
   "outputs": [
    {
     "data": {
      "text/plain": [
       "10"
      ]
     },
     "execution_count": 6,
     "metadata": {},
     "output_type": "execute_result"
    }
   ],
   "source": [
    "# HIDDEN\n",
    "len(np.unique(burritos.group('Name').column(1)))"
   ]
  },
  {
   "cell_type": "raw",
   "id": "35744210",
   "metadata": {},
   "source": [
    "# END TESTS"
   ]
  },
  {
   "cell_type": "raw",
   "id": "45ecfa0a",
   "metadata": {},
   "source": [
    "# END QUESTION"
   ]
  },
  {
   "cell_type": "raw",
   "id": "f275bfc9",
   "metadata": {},
   "source": [
    "# BEGIN QUESTION\n",
    "name: q2\n",
    "manual: true"
   ]
  },
  {
   "cell_type": "markdown",
   "id": "f90330ba",
   "metadata": {},
   "source": [
    "**Question 2.** Let's look at how the Yelp scores compare to the Google scores in the `burritos` table. First, assign `yelp_and_google` to a table only containing the columns `Yelp` and `Google`. Then, make a scatter plot with Yelp scores on the x-axis and the Google scores on the $y-$axis. \n"
   ]
  },
  {
   "cell_type": "raw",
   "id": "ad95bbca",
   "metadata": {},
   "source": [
    "# BEGIN SOLUTION"
   ]
  },
  {
   "cell_type": "code",
   "execution_count": 7,
   "id": "a4076d1e",
   "metadata": {
    "id": "threatened-trading",
    "outputId": "a8ad7689-d9dc-439d-87d8-5b700fce8bb2"
   },
   "outputs": [
    {
     "data": {
      "image/png": "[encoded data removed]",
      "text/plain": [
       "<Figure size 360x360 with 1 Axes>"
      ]
     },
     "metadata": {},
     "output_type": "display_data"
    }
   ],
   "source": [
    "yelp_and_google = burritos.select('Yelp', 'Google') # SOLUTION\n",
    "yelp_and_google.scatter('Yelp', 'Google') # SOLUTION\n",
    "# Don't change/edit/remove the following line.\n",
    "# To help you make conclusions, we have plotted a straight line on the graph (y=x)\n",
    "plt.plot(np.arange(2.5,5,.5), np.arange(2.5,5,.5));"
   ]
  },
  {
   "cell_type": "raw",
   "id": "030e5027",
   "metadata": {},
   "source": [
    "# END SOLUTION"
   ]
  },
  {
   "cell_type": "raw",
   "id": "5467e983",
   "metadata": {},
   "source": [
    "# END QUESTION"
   ]
  },
  {
   "cell_type": "raw",
   "id": "3cca314f",
   "metadata": {},
   "source": [
    "# BEGIN QUESTION\n",
    "name: q3\n",
    "manual: true"
   ]
  },
  {
   "cell_type": "markdown",
   "id": "db3e21cd",
   "metadata": {},
   "source": [
    "**Question 3.** Looking at the scatter plot you just made in **Question 2.**, do you notice any pattern(s) (i.e. is one of the two types of scores consistently higher than the other one)? If so, describe them **briefly** in the cell below.\n"
   ]
  },
  {
   "cell_type": "raw",
   "id": "35f301f5",
   "metadata": {},
   "source": [
    "# BEGIN SOLUTION"
   ]
  },
  {
   "cell_type": "markdown",
   "id": "bee03de1",
   "metadata": {
    "id": "blond-guide"
   },
   "source": [
    "**SOLUTION:** The Google ratings are consistently higher than the Yelp ratings, and we can see a positive association between the two variables"
   ]
  },
  {
   "cell_type": "raw",
   "id": "57683539",
   "metadata": {},
   "source": [
    "# END SOLUTION"
   ]
  },
  {
   "cell_type": "raw",
   "id": "fe5d49e2",
   "metadata": {},
   "source": [
    "# END QUESTION"
   ]
  },
  {
   "cell_type": "markdown",
   "id": "995013cd",
   "metadata": {
    "id": "alternative-leadership"
   },
   "source": [
    "Here's a refresher on how `.group` works! You can read how `.group` works in the [textbook](https://www.inferentialthinking.com/chapters/08/2/Classifying_by_One_Variable.html), or you can view the video below. "
   ]
  },
  {
   "cell_type": "code",
   "execution_count": 8,
   "id": "bc8de5ec",
   "metadata": {
    "id": "offensive-charles",
    "outputId": "9eb6bce3-4fb1-495b-c612-56edf8095745"
   },
   "outputs": [
    {
     "data": {
      "image/jpeg": "[encoded data removed]",
      "text/html": [
       "\n",
       "        <iframe\n",
       "            width=\"400\"\n",
       "            height=\"300\"\n",
       "            src=\"https://www.youtube.com/embed/HLoYTCUP0fc\"\n",
       "            frameborder=\"0\"\n",
       "            allowfullscreen\n",
       "            \n",
       "        ></iframe>\n",
       "        "
      ],
      "text/plain": [
       "<IPython.lib.display.YouTubeVideo at 0x7f388a49aad0>"
      ]
     },
     "execution_count": 8,
     "metadata": {},
     "output_type": "execute_result"
    }
   ],
   "source": [
    "from IPython.display import YouTubeVideo\n",
    "YouTubeVideo(\"HLoYTCUP0fc\")"
   ]
  },
  {
   "cell_type": "raw",
   "id": "23bab59b",
   "metadata": {},
   "source": [
    "# BEGIN QUESTION\n",
    "name: q4"
   ]
  },
  {
   "cell_type": "markdown",
   "id": "6e13365a",
   "metadata": {},
   "source": [
    "**Question 4.** From the `burritos` table, some of the restaurant locations have multiple reviews. Winifred thinks California burritos are the best type of burritos, and wants to see the average overall rating for California burritos at each location. Create a table that has two columns: the name of the restaurant and the average overall rating of California burritos at each location.\n",
    "\n",
    "**Tip:** Revisit the burritos table to see how California burritos are represented.\n",
    "\n",
    "**Note:** You can break up the solution into multiple lines, as long as you assign the final output table to `california_burritos`! For reference however, the staff solution only used one line.\n"
   ]
  },
  {
   "cell_type": "raw",
   "id": "3f55f6cb",
   "metadata": {},
   "source": [
    "# BEGIN SOLUTION"
   ]
  },
  {
   "cell_type": "code",
   "execution_count": 10,
   "id": "8fe5702d",
   "metadata": {
    "id": "micro-rogers",
    "outputId": "05d53ead-95dc-4186-8e6b-c4b674619cd2"
   },
   "outputs": [
    {
     "data": {
      "text/html": [
       "<table border=\"1\" class=\"dataframe\">\n",
       "    <thead>\n",
       "        <tr>\n",
       "            <th>Name</th> <th>Overall average</th>\n",
       "        </tr>\n",
       "    </thead>\n",
       "    <tbody>\n",
       "        <tr>\n",
       "            <td>Burros and Fries          </td> <td>3.575          </td>\n",
       "        </tr>\n",
       "        <tr>\n",
       "            <td>Caliente Mexican Food     </td> <td>3.25           </td>\n",
       "        </tr>\n",
       "        <tr>\n",
       "            <td>California Burrito Company</td> <td>3.2            </td>\n",
       "        </tr>\n",
       "        <tr>\n",
       "            <td>Cancun Mexican & Seafood  </td> <td>4.1            </td>\n",
       "        </tr>\n",
       "        <tr>\n",
       "            <td>Cotixan                   </td> <td>3.6            </td>\n",
       "        </tr>\n",
       "        <tr>\n",
       "            <td>Don Carlos Taco Shop      </td> <td>3.3            </td>\n",
       "        </tr>\n",
       "        <tr>\n",
       "            <td>El Dorado Mexican Food    </td> <td>4.025          </td>\n",
       "        </tr>\n",
       "        <tr>\n",
       "            <td>El Indio                  </td> <td>4              </td>\n",
       "        </tr>\n",
       "        <tr>\n",
       "            <td>El Pueblo Mexican Food    </td> <td>4.3            </td>\n",
       "        </tr>\n",
       "        <tr>\n",
       "            <td>El Zarape                 </td> <td>3.54815        </td>\n",
       "        </tr>\n",
       "    </tbody>\n",
       "</table>\n",
       "<p>... (36 rows omitted)</p>"
      ],
      "text/plain": [
       "Name                       | Overall average\n",
       "Burros and Fries           | 3.575\n",
       "Caliente Mexican Food      | 3.25\n",
       "California Burrito Company | 3.2\n",
       "Cancun Mexican & Seafood   | 4.1\n",
       "Cotixan                    | 3.6\n",
       "Don Carlos Taco Shop       | 3.3\n",
       "El Dorado Mexican Food     | 4.025\n",
       "El Indio                   | 4\n",
       "El Pueblo Mexican Food     | 4.3\n",
       "El Zarape                  | 3.54815\n",
       "... (36 rows omitted)"
      ]
     },
     "execution_count": 10,
     "metadata": {},
     "output_type": "execute_result"
    }
   ],
   "source": [
    "california_burritos = burritos.where('Menu_Item', 'California').drop('Menu_Item', 'Yelp', 'Google', 'Cost').group('Name', np.average) # SOLUTION\n",
    "california_burritos"
   ]
  },
  {
   "cell_type": "raw",
   "id": "b5fe1c24",
   "metadata": {},
   "source": [
    "# END SOLUTION"
   ]
  },
  {
   "cell_type": "raw",
   "id": "a8b2f8f1",
   "metadata": {},
   "source": [
    "# BEGIN TESTS"
   ]
  },
  {
   "cell_type": "code",
   "execution_count": 11,
   "id": "bf1fbb94",
   "metadata": {
    "id": "awful-rhythm",
    "outputId": "c086d2cd-f2af-40a7-e8d2-b48cd1ecea4d"
   },
   "outputs": [
    {
     "data": {
      "text/plain": [
       "2"
      ]
     },
     "execution_count": 11,
     "metadata": {},
     "output_type": "execute_result"
    }
   ],
   "source": [
    "california_burritos.num_columns"
   ]
  },
  {
   "cell_type": "code",
   "execution_count": 12,
   "id": "b2632c74",
   "metadata": {
    "id": "worth-advancement",
    "outputId": "d5755bfa-4988-4975-8a7c-d7eb8f4eced4"
   },
   "outputs": [
    {
     "data": {
      "text/plain": [
       "46"
      ]
     },
     "execution_count": 12,
     "metadata": {},
     "output_type": "execute_result"
    }
   ],
   "source": [
    "california_burritos.num_rows"
   ]
  },
  {
   "cell_type": "code",
   "execution_count": 13,
   "id": "bd2d3602",
   "metadata": {
    "id": "cardiovascular-reaction",
    "outputId": "62988165-3668-4622-dd01-cfcf3354d17f"
   },
   "outputs": [
    {
     "data": {
      "text/plain": [
       "'Taco Stand Encinitas'"
      ]
     },
     "execution_count": 13,
     "metadata": {},
     "output_type": "execute_result"
    }
   ],
   "source": [
    "# HIDDEN\n",
    "california_burritos.take(40).column(0).item(0)"
   ]
  },
  {
   "cell_type": "raw",
   "id": "75614ad6",
   "metadata": {},
   "source": [
    "# END TESTS"
   ]
  },
  {
   "cell_type": "raw",
   "id": "8119e241",
   "metadata": {},
   "source": [
    "# END QUESTION"
   ]
  },
  {
   "cell_type": "raw",
   "id": "fe9640f5",
   "metadata": {},
   "source": [
    "# BEGIN QUESTION\n",
    "name: q5"
   ]
  },
  {
   "cell_type": "markdown",
   "id": "91d3c554",
   "metadata": {},
   "source": [
    "**Question 5.** Given this new table `california_burritos`, Winifred can figure out the name of the restaurant with the highest overall average rating! Assign `best_restaurant` to a line of code that evaluates to a string that corresponds to the name of the restaurant with the highest overall average rating. \n"
   ]
  },
  {
   "cell_type": "raw",
   "id": "9c82ace4",
   "metadata": {},
   "source": [
    "# BEGIN SOLUTION"
   ]
  },
  {
   "cell_type": "code",
   "execution_count": 14,
   "id": "855079c3",
   "metadata": {
    "id": "valid-stylus",
    "outputId": "9f69cb7f-572c-4cad-ad37-32b1f8e53cca"
   },
   "outputs": [
    {
     "data": {
      "text/plain": [
       "'Mikes Taco Club'"
      ]
     },
     "execution_count": 14,
     "metadata": {},
     "output_type": "execute_result"
    }
   ],
   "source": [
    "best_restaurant = california_burritos.sort('Overall average', descending=True).column('Name').item(0) # SOLUTION\n",
    "best_restaurant"
   ]
  },
  {
   "cell_type": "raw",
   "id": "39918eaf",
   "metadata": {},
   "source": [
    "# END SOLUTION"
   ]
  },
  {
   "cell_type": "raw",
   "id": "18438fed",
   "metadata": {},
   "source": [
    "# BEGIN TESTS"
   ]
  },
  {
   "cell_type": "code",
   "execution_count": 17,
   "id": "92430133",
   "metadata": {
    "id": "attractive-stuart",
    "outputId": "28232638-4958-4019-a0c2-c40252e8f4b0"
   },
   "outputs": [
    {
     "data": {
      "text/plain": [
       "True"
      ]
     },
     "execution_count": 17,
     "metadata": {},
     "output_type": "execute_result"
    }
   ],
   "source": [
    "isinstance(best_restaurant, str)"
   ]
  },
  {
   "cell_type": "code",
   "execution_count": 18,
   "id": "c49128b0",
   "metadata": {
    "id": "northern-equipment",
    "outputId": "fb46b1eb-005e-42ea-ef21-99654372946c"
   },
   "outputs": [
    {
     "data": {
      "text/plain": [
       "'Mikes Taco Club'"
      ]
     },
     "execution_count": 18,
     "metadata": {},
     "output_type": "execute_result"
    }
   ],
   "source": [
    "# HIDDEN\n",
    "best_restaurant"
   ]
  },
  {
   "cell_type": "raw",
   "id": "80190035",
   "metadata": {},
   "source": [
    "# END TESTS"
   ]
  },
  {
   "cell_type": "raw",
   "id": "4425b97d",
   "metadata": {},
   "source": [
    "# END QUESTION"
   ]
  },
  {
   "cell_type": "raw",
   "id": "1cafb1f3",
   "metadata": {},
   "source": [
    "# BEGIN QUESTION\n",
    "name: q6\n",
    "manual: true"
   ]
  },
  {
   "cell_type": "markdown",
   "id": "b022bc35",
   "metadata": {},
   "source": [
    "**Question 6.** Tam thinks that burritos in San Diego are cheaper (and taste better) than the burritos in Berkeley. Plot a histogram that visualizes that distribution of the costs of the burritos from San Diego in the `burritos` table. Also use the provided `bins` variable when making your histogram, so that visually the histogram is more informative.\n"
   ]
  },
  {
   "cell_type": "raw",
   "id": "e50f33e0",
   "metadata": {},
   "source": [
    "# BEGIN SOLUTION"
   ]
  },
  {
   "cell_type": "code",
   "execution_count": 19,
   "id": "6cccfd8c",
   "metadata": {
    "id": "directed-termination",
    "outputId": "e97781ef-2db5-4a68-c8f4-e4431f997b38"
   },
   "outputs": [
    {
     "data": {
      "image/png": "[encoded data removed]",
      "text/plain": [
       "<Figure size 432x288 with 1 Axes>"
      ]
     },
     "metadata": {},
     "output_type": "display_data"
    }
   ],
   "source": [
    "my_bins = np.arange(0, 15, 1)\n",
    "# Please also use the provided bins\n",
    "burritos.hist('Cost', bins = my_bins) # SOLUTION"
   ]
  },
  {
   "cell_type": "raw",
   "id": "ca5b4a4a",
   "metadata": {},
   "source": [
    "# END SOLUTION"
   ]
  },
  {
   "cell_type": "raw",
   "id": "c2a44904",
   "metadata": {},
   "source": [
    "# END QUESTION"
   ]
  },
  {
   "cell_type": "markdown",
   "id": "1557bb0a",
   "metadata": {
    "id": "provincial-tennessee"
   },
   "source": [
    "## 2. Faculty Salaries"
   ]
  },
  {
   "cell_type": "markdown",
   "id": "ed692116",
   "metadata": {
    "id": "arabic-detective"
   },
   "source": [
    "This exercise is designed to give you practice using the Table methods `pivot` and `group`. [Here](http://data8.org/sp21/python-reference.html) is a link to the Python reference page in case you need a quick refresher.\n",
    "\n",
    "Run the cell below to view a demo on how you can use pivot on a table."
   ]
  },
  {
   "cell_type": "code",
   "execution_count": 20,
   "id": "f03b6895",
   "metadata": {
    "id": "small-upper",
    "outputId": "ffe012d0-26c6-4aca-da80-c97105037e28"
   },
   "outputs": [
    {
     "data": {
      "image/jpeg": "[encoded data removed]",
      "text/html": [
       "\n",
       "        <iframe\n",
       "            width=\"400\"\n",
       "            height=\"300\"\n",
       "            src=\"https://www.youtube.com/embed/4WzXo8eKLAg\"\n",
       "            frameborder=\"0\"\n",
       "            allowfullscreen\n",
       "            \n",
       "        ></iframe>\n",
       "        "
      ],
      "text/plain": [
       "<IPython.lib.display.YouTubeVideo at 0x7f38823ce200>"
      ]
     },
     "execution_count": 20,
     "metadata": {},
     "output_type": "execute_result"
    }
   ],
   "source": [
    "from IPython.display import YouTubeVideo\n",
    "YouTubeVideo(\"4WzXo8eKLAg\")"
   ]
  },
  {
   "cell_type": "markdown",
   "id": "e41b8a53",
   "metadata": {
    "id": "running-peter"
   },
   "source": [
    "In the next cell, we load a dataset maintained by the University of North Carolina System Office which contains information on UNC System faculty including their institution, age, job category, and base salary as of December 2020."
   ]
  },
  {
   "cell_type": "code",
   "execution_count": 22,
   "id": "216d969f",
   "metadata": {
    "id": "north-factory",
    "outputId": "ec8e5f4d-cd91-4e5a-d5e1-e2eca37e5684"
   },
   "outputs": [
    {
     "data": {
      "text/html": [
       "<table border=\"1\" class=\"dataframe\">\n",
       "    <thead>\n",
       "        <tr>\n",
       "            <th>School Name</th> <th>Age</th> <th>Title</th> <th>Salary</th>\n",
       "        </tr>\n",
       "    </thead>\n",
       "    <tbody>\n",
       "        <tr>\n",
       "            <td>ASU        </td> <td>37  </td> <td>Assistant Professor</td> <td>68945 </td>\n",
       "        </tr>\n",
       "        <tr>\n",
       "            <td>ASU        </td> <td>64  </td> <td>Professor          </td> <td>106148</td>\n",
       "        </tr>\n",
       "        <tr>\n",
       "            <td>ASU        </td> <td>54  </td> <td>Assistant Professor</td> <td>61500 </td>\n",
       "        </tr>\n",
       "        <tr>\n",
       "            <td>ASU        </td> <td>34  </td> <td>Assistant Professor</td> <td>62000 </td>\n",
       "        </tr>\n",
       "        <tr>\n",
       "            <td>ASU        </td> <td>43  </td> <td>Assistant Professor</td> <td>55500 </td>\n",
       "        </tr>\n",
       "        <tr>\n",
       "            <td>ASU        </td> <td>51  </td> <td>Associate Professor</td> <td>77814 </td>\n",
       "        </tr>\n",
       "        <tr>\n",
       "            <td>ASU        </td> <td>45  </td> <td>Professor          </td> <td>127344</td>\n",
       "        </tr>\n",
       "        <tr>\n",
       "            <td>ASU        </td> <td>54  </td> <td>Associate Professor</td> <td>71000 </td>\n",
       "        </tr>\n",
       "        <tr>\n",
       "            <td>ASU        </td> <td>63  </td> <td>Professor          </td> <td>76123 </td>\n",
       "        </tr>\n",
       "        <tr>\n",
       "            <td>ASU        </td> <td>77  </td> <td>Professor          </td> <td>83698 </td>\n",
       "        </tr>\n",
       "    </tbody>\n",
       "</table>\n",
       "<p>... (12106 rows omitted)</p>"
      ],
      "text/plain": [
       "School Name | Age  | Title               | Salary\n",
       "ASU         | 37   | Assistant Professor | 68945\n",
       "ASU         | 64   | Professor           | 106148\n",
       "ASU         | 54   | Assistant Professor | 61500\n",
       "ASU         | 34   | Assistant Professor | 62000\n",
       "ASU         | 43   | Assistant Professor | 55500\n",
       "ASU         | 51   | Associate Professor | 77814\n",
       "ASU         | 45   | Professor           | 127344\n",
       "ASU         | 54   | Associate Professor | 71000\n",
       "ASU         | 63   | Professor           | 76123\n",
       "ASU         | 77   | Professor           | 83698\n",
       "... (12106 rows omitted)"
      ]
     },
     "execution_count": 22,
     "metadata": {},
     "output_type": "execute_result"
    }
   ],
   "source": [
    "# Just run this cell\n",
    "unc = Table.read_table(\"data/unc_faculty.csv\").drop('INITIAL HIRE DATE', 'EMPLOYEE HOME DEPARTMENT', 'PRIMARY WORKING TITLE').relabeled('INSTITUTION NAME', 'School Name').relabeled('AGE', 'Age').relabeled('JOB CATEGORY', 'Title').relabeled('EMPLOYEE ANNUAL BASE SALARY', 'Salary')\n",
    "unc"
   ]
  },
  {
   "cell_type": "raw",
   "id": "46c2f16a",
   "metadata": {},
   "source": [
    "# BEGIN QUESTION\n",
    "name: q7"
   ]
  },
  {
   "cell_type": "markdown",
   "id": "bd7911ef",
   "metadata": {},
   "source": [
    "**Question 7.** Set `average_unc_stats` to a table with 4 columns that shows the average age and salary for each combination of `School Name` and `Title` found in the `unc` table. For example, you should be able to determine the average age and salary for an Assistant Professor at ASU by looking up the corresponding row in the table you create.\n",
    "\n",
    "**Hint:** Use the `.group` method to create this table. You may get a warning about creating an array from \"ragged nested sequences\". It is safe to ignore.\n"
   ]
  },
  {
   "cell_type": "raw",
   "id": "ebee67e2",
   "metadata": {},
   "source": [
    "# BEGIN SOLUTION"
   ]
  },
  {
   "cell_type": "code",
   "execution_count": 23,
   "id": "4cab05ae",
   "metadata": {
    "id": "suffering-information",
    "outputId": "71bf861a-3e51-4553-ba50-f01a3afd388c"
   },
   "outputs": [
    {
     "data": {
      "text/html": [
       "<table border=\"1\" class=\"dataframe\">\n",
       "    <thead>\n",
       "        <tr>\n",
       "            <th>School Name</th> <th>Title</th> <th>Age average</th> <th>Salary average</th>\n",
       "        </tr>\n",
       "    </thead>\n",
       "    <tbody>\n",
       "        <tr>\n",
       "            <td>ASU        </td> <td>Assistant Professor                                    </td> <td>40.2533    </td> <td>69941.3       </td>\n",
       "        </tr>\n",
       "        <tr>\n",
       "            <td>ASU        </td> <td>Associate Professor                                    </td> <td>50.0437    </td> <td>76699.1       </td>\n",
       "        </tr>\n",
       "        <tr>\n",
       "            <td>ASU        </td> <td>Associate Professor (Primary) and Department Chair/Head</td> <td>55         </td> <td>96694.5       </td>\n",
       "        </tr>\n",
       "        <tr>\n",
       "            <td>ASU        </td> <td>Professor                                              </td> <td>57.5497    </td> <td>91965.1       </td>\n",
       "        </tr>\n",
       "        <tr>\n",
       "            <td>ASU        </td> <td>Professor (Primary) and Department Chair/Head          </td> <td>55.7105    </td> <td>122508        </td>\n",
       "        </tr>\n",
       "        <tr>\n",
       "            <td>ECSU       </td> <td>Assistant Professor                                    </td> <td>47         </td> <td>64545.6       </td>\n",
       "        </tr>\n",
       "        <tr>\n",
       "            <td>ECSU       </td> <td>Associate Professor                                    </td> <td>53.5714    </td> <td>70481.6       </td>\n",
       "        </tr>\n",
       "        <tr>\n",
       "            <td>ECSU       </td> <td>Professor                                              </td> <td>60.2       </td> <td>80224.1       </td>\n",
       "        </tr>\n",
       "        <tr>\n",
       "            <td>ECU        </td> <td>Assistant Professor                                    </td> <td>42.9541    </td> <td>125228        </td>\n",
       "        </tr>\n",
       "        <tr>\n",
       "            <td>ECU        </td> <td>Associate Professor                                    </td> <td>52.5847    </td> <td>110321        </td>\n",
       "        </tr>\n",
       "    </tbody>\n",
       "</table>\n",
       "<p>... (64 rows omitted)</p>"
      ],
      "text/plain": [
       "School Name | Title                                                   | Age average | Salary average\n",
       "ASU         | Assistant Professor                                     | 40.2533     | 69941.3\n",
       "ASU         | Associate Professor                                     | 50.0437     | 76699.1\n",
       "ASU         | Associate Professor (Primary) and Department Chair/Head | 55          | 96694.5\n",
       "ASU         | Professor                                               | 57.5497     | 91965.1\n",
       "ASU         | Professor (Primary) and Department Chair/Head           | 55.7105     | 122508\n",
       "ECSU        | Assistant Professor                                     | 47          | 64545.6\n",
       "ECSU        | Associate Professor                                     | 53.5714     | 70481.6\n",
       "ECSU        | Professor                                               | 60.2        | 80224.1\n",
       "ECU         | Assistant Professor                                     | 42.9541     | 125228\n",
       "ECU         | Associate Professor                                     | 52.5847     | 110321\n",
       "... (64 rows omitted)"
      ]
     },
     "execution_count": 23,
     "metadata": {},
     "output_type": "execute_result"
    }
   ],
   "source": [
    "average_unc_stats = unc.group(['School Name', 'Title'], np.average) # SOLUTION\n",
    "average_unc_stats"
   ]
  },
  {
   "cell_type": "raw",
   "id": "aba19b6f",
   "metadata": {},
   "source": [
    "# END SOLUTION"
   ]
  },
  {
   "cell_type": "raw",
   "id": "4586ae52",
   "metadata": {},
   "source": [
    "# BEGIN TESTS"
   ]
  },
  {
   "cell_type": "code",
   "execution_count": 24,
   "id": "5e5b72ea",
   "metadata": {
    "id": "familiar-republican",
    "outputId": "0a3c9fda-602a-4d94-816f-e6375b22334e"
   },
   "outputs": [
    {
     "data": {
      "text/plain": [
       "4"
      ]
     },
     "execution_count": 24,
     "metadata": {},
     "output_type": "execute_result"
    }
   ],
   "source": [
    "average_unc_stats.num_columns"
   ]
  },
  {
   "cell_type": "code",
   "execution_count": 25,
   "id": "869b7cac",
   "metadata": {
    "id": "personal-habitat",
    "outputId": "dc85a932-9be6-4e9c-96dd-dfb74e03752e"
   },
   "outputs": [
    {
     "data": {
      "text/plain": [
       "74"
      ]
     },
     "execution_count": 25,
     "metadata": {},
     "output_type": "execute_result"
    }
   ],
   "source": [
    "average_unc_stats.num_rows"
   ]
  },
  {
   "cell_type": "code",
   "execution_count": 26,
   "id": "65b123d2",
   "metadata": {
    "id": "isolated-mercury",
    "outputId": "a9bff436-d295-4427-a5bc-33651d16a7a4"
   },
   "outputs": [
    {
     "data": {
      "text/plain": [
       "True"
      ]
     },
     "execution_count": 26,
     "metadata": {},
     "output_type": "execute_result"
    }
   ],
   "source": [
    "set(average_unc_stats.labels) == set(('School Name', 'Title', 'Age average', 'Salary average'))"
   ]
  },
  {
   "cell_type": "code",
   "execution_count": 27,
   "id": "c0b77d2d",
   "metadata": {
    "id": "lonely-vulnerability",
    "outputId": "f675d8c9-e4ed-4d7e-eb0b-c1ee785ccbbd"
   },
   "outputs": [
    {
     "data": {
      "text/plain": [
       "True"
      ]
     },
     "execution_count": 27,
     "metadata": {},
     "output_type": "execute_result"
    }
   ],
   "source": [
    "np.isclose( sum(average_unc_stats.column('Age average')), 3919.262733622144)"
   ]
  },
  {
   "cell_type": "code",
   "execution_count": 28,
   "id": "8e17819c",
   "metadata": {
    "id": "operational-farming",
    "outputId": "a430c274-eb26-4a4e-ed58-c001351fdce6"
   },
   "outputs": [
    {
     "data": {
      "text/plain": [
       "True"
      ]
     },
     "execution_count": 28,
     "metadata": {},
     "output_type": "execute_result"
    }
   ],
   "source": [
    "np.isclose( sum(average_unc_stats.column('Salary average')), 7382472.347677045)"
   ]
  },
  {
   "cell_type": "raw",
   "id": "2f113347",
   "metadata": {},
   "source": [
    "# END TESTS"
   ]
  },
  {
   "cell_type": "raw",
   "id": "0da6a378",
   "metadata": {},
   "source": [
    "# END QUESTION"
   ]
  },
  {
   "cell_type": "raw",
   "id": "c0468558",
   "metadata": {},
   "source": [
    "# BEGIN QUESTION\n",
    "name: q8"
   ]
  },
  {
   "cell_type": "markdown",
   "id": "e2dd9b32",
   "metadata": {},
   "source": [
    "**Question 8.** Now create a pivot table assigned to `unc_pivot` that has each `School Name` for the column labels and a row that corresponds to each unique `Title`. The values in each column should be the average age for each `Title` at that school.\n"
   ]
  },
  {
   "cell_type": "raw",
   "id": "39cc31c7",
   "metadata": {},
   "source": [
    "# BEGIN SOLUTION"
   ]
  },
  {
   "cell_type": "code",
   "execution_count": 29,
   "id": "2102f9bc",
   "metadata": {
    "id": "complimentary-engineering",
    "outputId": "f8a1cf42-effd-4d09-c62a-6e372d53b9a7"
   },
   "outputs": [
    {
     "data": {
      "text/html": [
       "<table border=\"1\" class=\"dataframe\">\n",
       "    <thead>\n",
       "        <tr>\n",
       "            <th>Title</th> <th>ASU</th> <th>ECSU</th> <th>ECU</th> <th>FSU</th> <th>NCA&T</th> <th>NCCU</th> <th>NCSU</th> <th>UNC-CH</th> <th>UNCA</th> <th>UNCC</th> <th>UNCG</th> <th>UNCP</th> <th>UNCSA</th> <th>UNCW</th> <th>WCU</th> <th>WSSU</th>\n",
       "        </tr>\n",
       "    </thead>\n",
       "    <tbody>\n",
       "        <tr>\n",
       "            <td>Assistant Professor                                    </td> <td>40.2533</td> <td>47     </td> <td>42.9541</td> <td>44.8929</td> <td>43.4919</td> <td>45.4848</td> <td>40.1312</td> <td>40.617 </td> <td>38.7273</td> <td>39.7378</td> <td>39.7937</td> <td>42.9474</td> <td>48.2778</td> <td>40.3608</td> <td>44.5381</td> <td>47.5738</td>\n",
       "        </tr>\n",
       "        <tr>\n",
       "            <td>Assistant Professor (Primary) and Department Chair/Head</td> <td>0      </td> <td>0      </td> <td>0      </td> <td>0      </td> <td>62     </td> <td>56.875 </td> <td>0      </td> <td>0      </td> <td>0      </td> <td>0      </td> <td>0      </td> <td>49.5   </td> <td>0      </td> <td>0      </td> <td>0      </td> <td>0      </td>\n",
       "        </tr>\n",
       "        <tr>\n",
       "            <td>Associate Professor                                    </td> <td>50.0437</td> <td>53.5714</td> <td>52.5847</td> <td>54.75  </td> <td>51.6506</td> <td>55.4037</td> <td>49.2648</td> <td>49.3532</td> <td>47.5652</td> <td>50.2408</td> <td>51.5991</td> <td>52.2373</td> <td>53.898 </td> <td>50.522 </td> <td>49.2164</td> <td>53.8105</td>\n",
       "        </tr>\n",
       "        <tr>\n",
       "            <td>Associate Professor (Primary) and Department Chair/Head</td> <td>55     </td> <td>0      </td> <td>55.44  </td> <td>50     </td> <td>60     </td> <td>57     </td> <td>0      </td> <td>0      </td> <td>46.5455</td> <td>0      </td> <td>65     </td> <td>52.5   </td> <td>63.75  </td> <td>49.9091</td> <td>59.25  </td> <td>51.9   </td>\n",
       "        </tr>\n",
       "        <tr>\n",
       "            <td>Professor                                              </td> <td>57.5497</td> <td>60.2   </td> <td>60.6172</td> <td>58.519 </td> <td>61.0909</td> <td>61.1169</td> <td>58.0766</td> <td>59.3822</td> <td>57.0769</td> <td>58.1101</td> <td>59.8038</td> <td>57.0938</td> <td>59.1892</td> <td>58.4056</td> <td>58.1364</td> <td>62.4146</td>\n",
       "        </tr>\n",
       "        <tr>\n",
       "            <td>Professor (Primary) and Department Chair/Head          </td> <td>55.7105</td> <td>0      </td> <td>58.3333</td> <td>54.6   </td> <td>55.5882</td> <td>57.7   </td> <td>0      </td> <td>0      </td> <td>55.1875</td> <td>0      </td> <td>56.7857</td> <td>61.1111</td> <td>0      </td> <td>57.1579</td> <td>54     </td> <td>59.1429</td>\n",
       "        </tr>\n",
       "    </tbody>\n",
       "</table>"
      ],
      "text/plain": [
       "Title                                                   | ASU     | ECSU    | ECU     | FSU     | NCA&T   | NCCU    | NCSU    | UNC-CH  | UNCA    | UNCC    | UNCG    | UNCP    | UNCSA   | UNCW    | WCU     | WSSU\n",
       "Assistant Professor                                     | 40.2533 | 47      | 42.9541 | 44.8929 | 43.4919 | 45.4848 | 40.1312 | 40.617  | 38.7273 | 39.7378 | 39.7937 | 42.9474 | 48.2778 | 40.3608 | 44.5381 | 47.5738\n",
       "Assistant Professor (Primary) and Department Chair/Head | 0       | 0       | 0       | 0       | 62      | 56.875  | 0       | 0       | 0       | 0       | 0       | 49.5    | 0       | 0       | 0       | 0\n",
       "Associate Professor                                     | 50.0437 | 53.5714 | 52.5847 | 54.75   | 51.6506 | 55.4037 | 49.2648 | 49.3532 | 47.5652 | 50.2408 | 51.5991 | 52.2373 | 53.898  | 50.522  | 49.2164 | 53.8105\n",
       "Associate Professor (Primary) and Department Chair/Head | 55      | 0       | 55.44   | 50      | 60      | 57      | 0       | 0       | 46.5455 | 0       | 65      | 52.5    | 63.75   | 49.9091 | 59.25   | 51.9\n",
       "Professor                                               | 57.5497 | 60.2    | 60.6172 | 58.519  | 61.0909 | 61.1169 | 58.0766 | 59.3822 | 57.0769 | 58.1101 | 59.8038 | 57.0938 | 59.1892 | 58.4056 | 58.1364 | 62.4146\n",
       "Professor (Primary) and Department Chair/Head           | 55.7105 | 0       | 58.3333 | 54.6    | 55.5882 | 57.7    | 0       | 0       | 55.1875 | 0       | 56.7857 | 61.1111 | 0       | 57.1579 | 54      | 59.1429"
      ]
     },
     "execution_count": 29,
     "metadata": {},
     "output_type": "execute_result"
    }
   ],
   "source": [
    "unc_pivot = unc.pivot('School Name', 'Title', values='Age', collect=np.average) # SOLUTION\n",
    "unc_pivot"
   ]
  },
  {
   "cell_type": "raw",
   "id": "3af826b1",
   "metadata": {},
   "source": [
    "# END SOLUTION"
   ]
  },
  {
   "cell_type": "raw",
   "id": "f2cd9064",
   "metadata": {},
   "source": [
    "# BEGIN TESTS"
   ]
  },
  {
   "cell_type": "code",
   "execution_count": 30,
   "id": "a0356524",
   "metadata": {
    "id": "little-salmon",
    "outputId": "351c77c5-f7bd-4d52-9615-c73ce3520ed5"
   },
   "outputs": [
    {
     "data": {
      "text/plain": [
       "17"
      ]
     },
     "execution_count": 30,
     "metadata": {},
     "output_type": "execute_result"
    }
   ],
   "source": [
    "unc_pivot.num_columns"
   ]
  },
  {
   "cell_type": "code",
   "execution_count": 31,
   "id": "86850cc3",
   "metadata": {
    "id": "powered-berkeley",
    "outputId": "5356caf7-7ff1-4488-957e-b62af20b24f4"
   },
   "outputs": [
    {
     "data": {
      "text/plain": [
       "6"
      ]
     },
     "execution_count": 31,
     "metadata": {},
     "output_type": "execute_result"
    }
   ],
   "source": [
    "unc_pivot.num_rows"
   ]
  },
  {
   "cell_type": "code",
   "execution_count": 32,
   "id": "d582c867",
   "metadata": {
    "id": "opposed-excuse",
    "outputId": "78a4e5e7-176e-41e6-d3ba-fcc68f521735"
   },
   "outputs": [
    {
     "data": {
      "text/plain": [
       "47.57"
      ]
     },
     "execution_count": 32,
     "metadata": {},
     "output_type": "execute_result"
    }
   ],
   "source": [
    "round( unc_pivot.column('WSSU').take(0), 2)"
   ]
  },
  {
   "cell_type": "code",
   "execution_count": 33,
   "id": "adad9aeb",
   "metadata": {
    "id": "injured-colony",
    "outputId": "0114b1c1-a388-4dd3-ceda-c35ef1cae6f3"
   },
   "outputs": [
    {
     "data": {
      "text/plain": [
       "54.75"
      ]
     },
     "execution_count": 33,
     "metadata": {},
     "output_type": "execute_result"
    }
   ],
   "source": [
    "# HIDDEN\n",
    "unc_pivot.column('FSU').take(2)"
   ]
  },
  {
   "cell_type": "code",
   "execution_count": 34,
   "id": "66d72168",
   "metadata": {
    "id": "broad-essex",
    "outputId": "838dba30-fd46-406e-e737-e82f8d72d8d5"
   },
   "outputs": [
    {
     "data": {
      "text/plain": [
       "0.0"
      ]
     },
     "execution_count": 34,
     "metadata": {},
     "output_type": "execute_result"
    }
   ],
   "source": [
    "# HIDDEN\n",
    "unc_pivot.column('UNC-CH').take(1)"
   ]
  },
  {
   "cell_type": "raw",
   "id": "a2c4ddec",
   "metadata": {},
   "source": [
    "# END TESTS"
   ]
  },
  {
   "cell_type": "raw",
   "id": "5095f885",
   "metadata": {},
   "source": [
    "# END QUESTION"
   ]
  },
  {
   "cell_type": "raw",
   "id": "5d03f585",
   "metadata": {},
   "source": [
    "# BEGIN QUESTION\n",
    "name: q9"
   ]
  },
  {
   "cell_type": "markdown",
   "id": "346ec76f",
   "metadata": {},
   "source": [
    "**Question 9.** Write your own function named `salary_range` that can take in an array of salaries and returns the range (the smallest salary subtracted from the the largest salary) in that array.\n"
   ]
  },
  {
   "cell_type": "raw",
   "id": "b8345199",
   "metadata": {},
   "source": [
    "# BEGIN SOLUTION"
   ]
  },
  {
   "cell_type": "code",
   "execution_count": 45,
   "id": "71766f40-8cb3-4570-ae55-6464b2471126",
   "metadata": {},
   "outputs": [],
   "source": [
    "# BEGIN SOLUTION NO PROMPT\n",
    "def salary_range(salaries):\n",
    "    return max(salaries)-min(salaries)\n",
    "# END SOLUTION\n",
    "\"\"\" # BEGIN PROMPT\n",
    "def salary_range(...):\n",
    "    ...\n",
    "\"\"\"; # END PROMPT"
   ]
  },
  {
   "cell_type": "raw",
   "id": "4061bbc5",
   "metadata": {},
   "source": [
    "# END SOLUTION"
   ]
  },
  {
   "cell_type": "raw",
   "id": "83abb30d",
   "metadata": {},
   "source": [
    "# BEGIN TESTS"
   ]
  },
  {
   "cell_type": "code",
   "execution_count": 46,
   "id": "545fb20a",
   "metadata": {
    "id": "rolled-anchor",
    "outputId": "c3b3bd8a-abe2-40d3-f91e-b70ef5d8ce6e"
   },
   "outputs": [
    {
     "data": {
      "text/plain": [
       "999"
      ]
     },
     "execution_count": 46,
     "metadata": {},
     "output_type": "execute_result"
    }
   ],
   "source": [
    "salary_range(make_array(5, 1, 20, 1000))"
   ]
  },
  {
   "cell_type": "raw",
   "id": "49a5aa69",
   "metadata": {},
   "source": [
    "# END TESTS"
   ]
  },
  {
   "cell_type": "raw",
   "id": "d951a957",
   "metadata": {},
   "source": [
    "# END QUESTION"
   ]
  },
  {
   "cell_type": "raw",
   "id": "a6c526a2",
   "metadata": {},
   "source": [
    "# BEGIN QUESTION\n",
    "name: q10"
   ]
  },
  {
   "cell_type": "markdown",
   "id": "accaf5a3",
   "metadata": {},
   "source": [
    "**Question 10.** Set `job_ranges` to a table containing Titles as the rows, and the School as the columns. The values in the rows should correspond to the salary range for the job, where the range is calculated using the `salary_range` function you wrote in **Question 9.**\n"
   ]
  },
  {
   "cell_type": "raw",
   "id": "bc677a93",
   "metadata": {},
   "source": [
    "# BEGIN SOLUTION"
   ]
  },
  {
   "cell_type": "code",
   "execution_count": 47,
   "id": "9c797761",
   "metadata": {
    "id": "innocent-heater",
    "outputId": "34252fd3-5e79-4c3b-8738-c1f56c216e5b"
   },
   "outputs": [
    {
     "data": {
      "text/html": [
       "<table border=\"1\" class=\"dataframe\">\n",
       "    <thead>\n",
       "        <tr>\n",
       "            <th>Title</th> <th>ASU</th> <th>ECSU</th> <th>ECU</th> <th>FSU</th> <th>NCA&T</th> <th>NCCU</th> <th>NCSU</th> <th>UNC-CH</th> <th>UNCA</th> <th>UNCC</th> <th>UNCG</th> <th>UNCP</th> <th>UNCSA</th> <th>UNCW</th> <th>WCU</th> <th>WSSU</th>\n",
       "        </tr>\n",
       "    </thead>\n",
       "    <tbody>\n",
       "        <tr>\n",
       "            <td>Assistant Professor                                    </td> <td>104000</td> <td>28000</td> <td>444965</td> <td>55458 </td> <td>93410 </td> <td>89209 </td> <td>164000</td> <td>792274</td> <td>63000</td> <td>157544</td> <td>169905</td> <td>74000 </td> <td>32000</td> <td>89064 </td> <td>106000</td> <td>85736 </td>\n",
       "        </tr>\n",
       "        <tr>\n",
       "            <td>Assistant Professor (Primary) and Department Chair/Head</td> <td>0     </td> <td>0    </td> <td>0     </td> <td>0     </td> <td>0     </td> <td>34786 </td> <td>0     </td> <td>0     </td> <td>0    </td> <td>0     </td> <td>0     </td> <td>3620  </td> <td>0    </td> <td>0     </td> <td>0     </td> <td>0     </td>\n",
       "        </tr>\n",
       "        <tr>\n",
       "            <td>Associate Professor                                    </td> <td>115369</td> <td>46794</td> <td>619273</td> <td>162568</td> <td>94271 </td> <td>115387</td> <td>181370</td> <td>767846</td> <td>61882</td> <td>163356</td> <td>126381</td> <td>71977 </td> <td>57842</td> <td>111182</td> <td>98457 </td> <td>138965</td>\n",
       "        </tr>\n",
       "        <tr>\n",
       "            <td>Associate Professor (Primary) and Department Chair/Head</td> <td>19300 </td> <td>0    </td> <td>149925</td> <td>0     </td> <td>106853</td> <td>65614 </td> <td>0     </td> <td>0     </td> <td>34701</td> <td>0     </td> <td>0     </td> <td>37616 </td> <td>19729</td> <td>79857 </td> <td>49849 </td> <td>74254 </td>\n",
       "        </tr>\n",
       "        <tr>\n",
       "            <td>Professor                                              </td> <td>163017</td> <td>72235</td> <td>774200</td> <td>125189</td> <td>139565</td> <td>188773</td> <td>288468</td> <td>890825</td> <td>88016</td> <td>280000</td> <td>218182</td> <td>112791</td> <td>35008</td> <td>138352</td> <td>152422</td> <td>161328</td>\n",
       "        </tr>\n",
       "        <tr>\n",
       "            <td>Professor (Primary) and Department Chair/Head          </td> <td>83939 </td> <td>0    </td> <td>816357</td> <td>66125 </td> <td>112339</td> <td>78368 </td> <td>0     </td> <td>0     </td> <td>43734</td> <td>0     </td> <td>140544</td> <td>65864 </td> <td>0    </td> <td>87613 </td> <td>97488 </td> <td>162132</td>\n",
       "        </tr>\n",
       "    </tbody>\n",
       "</table>"
      ],
      "text/plain": [
       "Title                                                   | ASU    | ECSU  | ECU    | FSU    | NCA&T  | NCCU   | NCSU   | UNC-CH | UNCA  | UNCC   | UNCG   | UNCP   | UNCSA | UNCW   | WCU    | WSSU\n",
       "Assistant Professor                                     | 104000 | 28000 | 444965 | 55458  | 93410  | 89209  | 164000 | 792274 | 63000 | 157544 | 169905 | 74000  | 32000 | 89064  | 106000 | 85736\n",
       "Assistant Professor (Primary) and Department Chair/Head | 0      | 0     | 0      | 0      | 0      | 34786  | 0      | 0      | 0     | 0      | 0      | 3620   | 0     | 0      | 0      | 0\n",
       "Associate Professor                                     | 115369 | 46794 | 619273 | 162568 | 94271  | 115387 | 181370 | 767846 | 61882 | 163356 | 126381 | 71977  | 57842 | 111182 | 98457  | 138965\n",
       "Associate Professor (Primary) and Department Chair/Head | 19300  | 0     | 149925 | 0      | 106853 | 65614  | 0      | 0      | 34701 | 0      | 0      | 37616  | 19729 | 79857  | 49849  | 74254\n",
       "Professor                                               | 163017 | 72235 | 774200 | 125189 | 139565 | 188773 | 288468 | 890825 | 88016 | 280000 | 218182 | 112791 | 35008 | 138352 | 152422 | 161328\n",
       "Professor (Primary) and Department Chair/Head           | 83939  | 0     | 816357 | 66125  | 112339 | 78368  | 0      | 0      | 43734 | 0      | 140544 | 65864  | 0     | 87613  | 97488  | 162132"
      ]
     },
     "execution_count": 47,
     "metadata": {},
     "output_type": "execute_result"
    }
   ],
   "source": [
    "job_ranges = unc.pivot('School Name', 'Title', values='Salary', collect=salary_range) # SOLUTION\n",
    "job_ranges"
   ]
  },
  {
   "cell_type": "raw",
   "id": "8e071284",
   "metadata": {},
   "source": [
    "# END SOLUTION"
   ]
  },
  {
   "cell_type": "raw",
   "id": "3d43f068",
   "metadata": {},
   "source": [
    "# BEGIN TESTS"
   ]
  },
  {
   "cell_type": "code",
   "execution_count": 48,
   "id": "76aed46a",
   "metadata": {
    "id": "postal-cancer",
    "outputId": "7ee262b3-3338-45a2-f361-fe346b8db2e6"
   },
   "outputs": [
    {
     "data": {
      "text/plain": [
       "17"
      ]
     },
     "execution_count": 48,
     "metadata": {},
     "output_type": "execute_result"
    }
   ],
   "source": [
    "job_ranges.num_columns"
   ]
  },
  {
   "cell_type": "code",
   "execution_count": 49,
   "id": "ada6358b",
   "metadata": {
    "id": "quality-islam",
    "outputId": "5ea8fa3a-b35f-43e5-899d-d95143680101"
   },
   "outputs": [
    {
     "data": {
      "text/plain": [
       "6"
      ]
     },
     "execution_count": 49,
     "metadata": {},
     "output_type": "execute_result"
    }
   ],
   "source": [
    "job_ranges.num_rows"
   ]
  },
  {
   "cell_type": "code",
   "execution_count": 50,
   "id": "2792f4d9",
   "metadata": {
    "id": "roman-withdrawal",
    "outputId": "170c6452-16b2-4cd3-f0d2-ce4535fc8a5a"
   },
   "outputs": [
    {
     "data": {
      "text/plain": [
       "array([ 104000. ,       0. ,  115368.8,   19300. ,  163017. ,   83939. ])"
      ]
     },
     "execution_count": 50,
     "metadata": {},
     "output_type": "execute_result"
    }
   ],
   "source": [
    "# HIDDEN\n",
    "job_ranges.column('ASU')"
   ]
  },
  {
   "cell_type": "code",
   "execution_count": 51,
   "id": "621fd4bd",
   "metadata": {
    "id": "stupid-helmet",
    "outputId": "33606f21-da03-4902-e58c-c8a6f1db51d2"
   },
   "outputs": [
    {
     "data": {
      "text/plain": [
       "array([ 164000. ,       0. ,  181370.2,       0. ,  288468. ,       0. ])"
      ]
     },
     "execution_count": 51,
     "metadata": {},
     "output_type": "execute_result"
    }
   ],
   "source": [
    "# HIDDEN\n",
    "job_ranges.column('NCSU')"
   ]
  },
  {
   "cell_type": "raw",
   "id": "c4bf9d64",
   "metadata": {},
   "source": [
    "# END TESTS"
   ]
  },
  {
   "cell_type": "raw",
   "id": "ee36afa6",
   "metadata": {},
   "source": [
    "# END QUESTION"
   ]
  }
 ],
 "metadata": {
  "colab": {
   "name": "hw04.ipynb",
   "provenance": []
  },
  "kernelspec": {
   "display_name": "Python 3 (ipykernel)",
   "language": "python",
   "name": "python3"
  },
  "language_info": {
   "codemirror_mode": {
    "name": "ipython",
    "version": 3
   },
   "file_extension": ".py",
   "mimetype": "text/x-python",
   "name": "python",
   "nbconvert_exporter": "python",
   "pygments_lexer": "ipython3",
   "version": "3.10.11"
  }
 },
 "nbformat": 4,
 "nbformat_minor": 5
}
