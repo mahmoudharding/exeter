{
 "cells": [
  {
   "cell_type": "code",
   "execution_count": null,
   "id": "b891dbc2",
   "metadata": {
    "deletable": false,
    "editable": false
   },
   "outputs": [],
   "source": [
    "# Initialize Otter\n",
    "import otter\n",
    "grader = otter.Notebook(\"hw04.ipynb\")"
   ]
  },
  {
   "cell_type": "markdown",
   "id": "28ca6c88",
   "metadata": {},
   "source": [
    "# Run the cell below\n",
    "\n",
    "To run a code cell (i.e.; execute the python code inside a Jupyter notebook) you can click the play button on the ribbon underneath the name of the notebook. Before you begin click the \"Run cell\" button at the top that looks like ▶| or hold down `Shift` + `Return`."
   ]
  },
  {
   "cell_type": "markdown",
   "id": "84a5dfd1",
   "metadata": {
    "id": "proper-complex"
   },
   "source": [
    "# Homework 04: Functions, Histograms and Groups\n",
    "\n",
    "Please complete this notebook by filling in the cells provided. Before you begin, execute the following cell to load the provided tests. Each time you start your server, you will need to execute this cell again to load the tests.\n",
    "\n",
    "This assignment is due by the deadline listed in Canvas/Gradescope. Start early so that you can come to office hours if you're stuck. Check the course website for the office hours schedule. Late work will not be accepted as per the course expectations.\n",
    "\n",
    "Directly sharing answers is not okay, but discussing problems with the course staff or with other students is encouraged. Refer to the course expectations document to learn more about how to learn cooperatively.\n",
    "\n",
    "For all problems that you must write our explanations and sentences for, you **must** provide your answer in the designated space. Moreover, throughout this homework and all future ones, please be sure to not re-assign variables throughout the notebook! For example, if you use `max_temperature` in your answer to one question, do not reassign it later on.\n",
    "\n",
    "**Recommended Reading:** \n",
    "\n",
    "* [Visualizing Numerical Distributions](https://inferentialthinking.com/chapters/07/2/Visualizing_Numerical_Distributions.html) \n",
    "\n",
    "* [Functions and Tables](https://inferentialthinking.com/chapters/08/Functions_and_Tables.html)\n",
    "\n",
    "Run the cell below."
   ]
  },
  {
   "cell_type": "code",
   "execution_count": null,
   "id": "cd491b47",
   "metadata": {},
   "outputs": [],
   "source": [
    "from datascience import *\n",
    "import numpy as np\n",
    "\n",
    "%matplotlib inline\n",
    "import matplotlib.pyplot as plt\n",
    "plt.style.use('fivethirtyeight')"
   ]
  },
  {
   "cell_type": "markdown",
   "id": "3df5b09b",
   "metadata": {
    "id": "sized-smell"
   },
   "source": [
    "## 1. Burrito-ful San Diego"
   ]
  },
  {
   "cell_type": "markdown",
   "id": "1af26971",
   "metadata": {
    "id": "worthy-amber"
   },
   "source": [
    "Tam, Margaret and Winifred are trying to use Data Science to find the best burritos in San Diego! Their friends Irene and Maya provided them with two comprehensive datasets on many burrito establishments in the San Diego area taken from (and cleaned from): https://www.kaggle.com/srcole/burritos-in-san-diego/data.\n",
    "\n",
    "The following cell reads in a table called `ratings` which contains names of burrito restaurants, their Yelp rating, Google rating, as well as their Overall rating. It also reads in a table called `burritos_types` which contains names of burrito restaurants, their menu items, and the cost of the respective menu item at the restaurant."
   ]
  },
  {
   "cell_type": "code",
   "execution_count": null,
   "id": "1703c9b2",
   "metadata": {
    "id": "political-bridges",
    "outputId": "795c847b-4e8f-4e6a-9c67-350670a6fe5d"
   },
   "outputs": [],
   "source": [
    "# Just run this cell\n",
    "ratings = Table.read_table(\"data/ratings.csv\")\n",
    "ratings.show(5)\n",
    "burritos_types = Table.read_table(\"data/burritos_types.csv\")\n",
    "burritos_types.show(5)"
   ]
  },
  {
   "cell_type": "markdown",
   "id": "195aa3a2",
   "metadata": {},
   "source": [
    "**Question 1.** It would be easier if we could combine the information in both tables. Assign `burritos` to the result of joining the two tables together.\n",
    "\n",
    "**Note:** it doesn't matter which table you put in as the argument to the table method, either order will work for the autograder tests.\n",
    "\n",
    "**Hint:** If you need refreshers on table methods, look at the [python reference](http://data8.org/sp20/python-reference.html)."
   ]
  },
  {
   "cell_type": "code",
   "execution_count": null,
   "id": "7a9d0cff",
   "metadata": {
    "id": "every-cream",
    "outputId": "e2913398-c3aa-48bf-f08d-ace95f00e913",
    "tags": []
   },
   "outputs": [],
   "source": [
    "burritos = ...\n",
    "burritos.show(5)"
   ]
  },
  {
   "cell_type": "code",
   "execution_count": null,
   "id": "6f5288f7",
   "metadata": {
    "deletable": false,
    "editable": false
   },
   "outputs": [],
   "source": [
    "grader.check(\"q1\")"
   ]
  },
  {
   "cell_type": "markdown",
   "id": "e64afa1c",
   "metadata": {},
   "source": [
    "<!-- BEGIN QUESTION -->\n",
    "\n",
    "**Question 2.** Let's look at how the Yelp scores compare to the Google scores in the `burritos` table. First, assign `yelp_and_google` to a table only containing the columns `Yelp` and `Google`. Then, make a scatter plot with Yelp scores on the x-axis and the Google scores on the $y-$axis. \n"
   ]
  },
  {
   "cell_type": "code",
   "execution_count": null,
   "id": "b7c13493",
   "metadata": {
    "id": "threatened-trading",
    "outputId": "a8ad7689-d9dc-439d-87d8-5b700fce8bb2",
    "tags": []
   },
   "outputs": [],
   "source": [
    "yelp_and_google = ...\n",
    "...\n",
    "# Don't change/edit/remove the following line.\n",
    "# To help you make conclusions, we have plotted a straight line on the graph (y=x)\n",
    "plt.plot(np.arange(2.5,5,.5), np.arange(2.5,5,.5));"
   ]
  },
  {
   "cell_type": "markdown",
   "id": "41526f0e",
   "metadata": {},
   "source": [
    "<!-- END QUESTION -->\n",
    "\n",
    "<!-- BEGIN QUESTION -->\n",
    "\n",
    "**Question 3.** Looking at the scatter plot you just made in **Question 2.**, do you notice any pattern(s) (i.e. is one of the two types of scores consistently higher than the other one)? If so, describe them **briefly** in the cell below.\n"
   ]
  },
  {
   "cell_type": "markdown",
   "id": "a184d6b9",
   "metadata": {},
   "source": [
    "_Type your answer here, replacing this text._"
   ]
  },
  {
   "cell_type": "markdown",
   "id": "7c5a62e4",
   "metadata": {
    "id": "alternative-leadership"
   },
   "source": [
    "<!-- END QUESTION -->\n",
    "\n",
    "Here's a refresher on how `.group` works! You can read how `.group` works in the [textbook](https://www.inferentialthinking.com/chapters/08/2/Classifying_by_One_Variable.html), or you can view the video below. "
   ]
  },
  {
   "cell_type": "code",
   "execution_count": null,
   "id": "0033f26c",
   "metadata": {
    "id": "offensive-charles",
    "outputId": "9eb6bce3-4fb1-495b-c612-56edf8095745"
   },
   "outputs": [],
   "source": [
    "from IPython.display import YouTubeVideo\n",
    "YouTubeVideo(\"HLoYTCUP0fc\")"
   ]
  },
  {
   "cell_type": "markdown",
   "id": "fb2c0bbb",
   "metadata": {},
   "source": [
    "**Question 4.** From the `burritos` table, some of the restaurant locations have multiple reviews. Winifred thinks California burritos are the best type of burritos, and wants to see the average overall rating for California burritos at each location. Create a table that has two columns: the name of the restaurant and the average overall rating of California burritos at each location.\n",
    "\n",
    "**Tip:** Revisit the burritos table to see how California burritos are represented.\n",
    "\n",
    "**Note:** You can break up the solution into multiple lines, as long as you assign the final output table to `california_burritos`! For reference however, the staff solution only used one line.\n"
   ]
  },
  {
   "cell_type": "code",
   "execution_count": null,
   "id": "382ec13e",
   "metadata": {
    "id": "micro-rogers",
    "outputId": "05d53ead-95dc-4186-8e6b-c4b674619cd2",
    "tags": []
   },
   "outputs": [],
   "source": [
    "california_burritos = ...\n",
    "california_burritos"
   ]
  },
  {
   "cell_type": "code",
   "execution_count": null,
   "id": "fb6c9851",
   "metadata": {
    "deletable": false,
    "editable": false
   },
   "outputs": [],
   "source": [
    "grader.check(\"q4\")"
   ]
  },
  {
   "cell_type": "markdown",
   "id": "67460f03",
   "metadata": {},
   "source": [
    "**Question 5.** Given this new table `california_burritos`, Winifred can figure out the name of the restaurant with the highest overall average rating! Assign `best_restaurant` to a line of code that evaluates to a string that corresponds to the name of the restaurant with the highest overall average rating. \n"
   ]
  },
  {
   "cell_type": "code",
   "execution_count": null,
   "id": "54a424da",
   "metadata": {
    "id": "valid-stylus",
    "outputId": "9f69cb7f-572c-4cad-ad37-32b1f8e53cca",
    "tags": []
   },
   "outputs": [],
   "source": [
    "best_restaurant = ...\n",
    "best_restaurant"
   ]
  },
  {
   "cell_type": "code",
   "execution_count": null,
   "id": "eff8f34d",
   "metadata": {
    "deletable": false,
    "editable": false
   },
   "outputs": [],
   "source": [
    "grader.check(\"q5\")"
   ]
  },
  {
   "cell_type": "markdown",
   "id": "d764d2ed",
   "metadata": {},
   "source": [
    "<!-- BEGIN QUESTION -->\n",
    "\n",
    "**Question 6.** Tam thinks that burritos in San Diego are cheaper (and taste better) than the burritos in Berkeley. Plot a histogram that visualizes that distribution of the costs of the burritos from San Diego in the `burritos` table. Also use the provided `bins` variable when making your histogram, so that visually the histogram is more informative.\n"
   ]
  },
  {
   "cell_type": "code",
   "execution_count": null,
   "id": "1e59acc1",
   "metadata": {
    "id": "directed-termination",
    "outputId": "e97781ef-2db5-4a68-c8f4-e4431f997b38",
    "tags": []
   },
   "outputs": [],
   "source": [
    "my_bins = np.arange(0, 15, 1)\n",
    "# Please also use the provided bins\n",
    "..."
   ]
  },
  {
   "cell_type": "markdown",
   "id": "db137a25",
   "metadata": {
    "id": "provincial-tennessee"
   },
   "source": [
    "<!-- END QUESTION -->\n",
    "\n",
    "## 2. Faculty Salaries"
   ]
  },
  {
   "cell_type": "markdown",
   "id": "a5a7fe40",
   "metadata": {
    "id": "arabic-detective"
   },
   "source": [
    "This exercise is designed to give you practice using the Table methods `pivot` and `group`. [Here](http://data8.org/sp21/python-reference.html) is a link to the Python reference page in case you need a quick refresher.\n",
    "\n",
    "Run the cell below to view a demo on how you can use pivot on a table."
   ]
  },
  {
   "cell_type": "code",
   "execution_count": null,
   "id": "04808a23",
   "metadata": {
    "id": "small-upper",
    "outputId": "ffe012d0-26c6-4aca-da80-c97105037e28"
   },
   "outputs": [],
   "source": [
    "from IPython.display import YouTubeVideo\n",
    "YouTubeVideo(\"4WzXo8eKLAg\")"
   ]
  },
  {
   "cell_type": "markdown",
   "id": "31d9c419",
   "metadata": {
    "id": "running-peter"
   },
   "source": [
    "In the next cell, we load a dataset maintained by the University of North Carolina System Office which contains information on UNC System faculty including their institution, age, job category, and base salary as of December 2020."
   ]
  },
  {
   "cell_type": "code",
   "execution_count": null,
   "id": "3e847cd7",
   "metadata": {
    "id": "north-factory",
    "outputId": "ec8e5f4d-cd91-4e5a-d5e1-e2eca37e5684"
   },
   "outputs": [],
   "source": [
    "# Just run this cell\n",
    "unc = Table.read_table(\"data/unc_faculty.csv\").drop('INITIAL HIRE DATE', 'EMPLOYEE HOME DEPARTMENT', 'PRIMARY WORKING TITLE').relabeled('INSTITUTION NAME', 'School Name').relabeled('AGE', 'Age').relabeled('JOB CATEGORY', 'Title').relabeled('EMPLOYEE ANNUAL BASE SALARY', 'Salary')\n",
    "unc"
   ]
  },
  {
   "cell_type": "markdown",
   "id": "c7a8136c",
   "metadata": {},
   "source": [
    "**Question 7.** Set `average_unc_stats` to a table with 4 columns that shows the average age and salary for each combination of `School Name` and `Title` found in the `unc` table. For example, you should be able to determine the average age and salary for an Assistant Professor at ASU by looking up the corresponding row in the table you create.\n",
    "\n",
    "**Hint:** Use the `.group` method to create this table. You may get a warning about creating an array from \"ragged nested sequences\". It is safe to ignore.\n"
   ]
  },
  {
   "cell_type": "code",
   "execution_count": null,
   "id": "d412e3b8",
   "metadata": {
    "id": "suffering-information",
    "outputId": "71bf861a-3e51-4553-ba50-f01a3afd388c",
    "tags": []
   },
   "outputs": [],
   "source": [
    "average_unc_stats = ...\n",
    "average_unc_stats"
   ]
  },
  {
   "cell_type": "code",
   "execution_count": null,
   "id": "cf48ffa1",
   "metadata": {
    "deletable": false,
    "editable": false
   },
   "outputs": [],
   "source": [
    "grader.check(\"q7\")"
   ]
  },
  {
   "cell_type": "markdown",
   "id": "7221dbe7",
   "metadata": {},
   "source": [
    "**Question 8.** Now create a pivot table assigned to `unc_pivot` that has each `School Name` for the column labels and a row that corresponds to each unique `Title`. The values in each column should be the average age for each `Title` at that school.\n"
   ]
  },
  {
   "cell_type": "code",
   "execution_count": null,
   "id": "412421a9",
   "metadata": {
    "id": "complimentary-engineering",
    "outputId": "f8a1cf42-effd-4d09-c62a-6e372d53b9a7",
    "tags": []
   },
   "outputs": [],
   "source": [
    "unc_pivot = ...\n",
    "unc_pivot"
   ]
  },
  {
   "cell_type": "code",
   "execution_count": null,
   "id": "92e41a86",
   "metadata": {
    "deletable": false,
    "editable": false
   },
   "outputs": [],
   "source": [
    "grader.check(\"q8\")"
   ]
  },
  {
   "cell_type": "markdown",
   "id": "40c85798",
   "metadata": {},
   "source": [
    "**Question 9.** Write your own function named `salary_range` that can take in an array of salaries and returns the range (the smallest salary subtracted from the the largest salary) in that array.\n"
   ]
  },
  {
   "cell_type": "code",
   "execution_count": null,
   "id": "0ddc082e",
   "metadata": {
    "tags": []
   },
   "outputs": [],
   "source": [
    "def salary_range(...):\n",
    "    ..."
   ]
  },
  {
   "cell_type": "code",
   "execution_count": null,
   "id": "b0858fd6",
   "metadata": {
    "deletable": false,
    "editable": false
   },
   "outputs": [],
   "source": [
    "grader.check(\"q9\")"
   ]
  },
  {
   "cell_type": "markdown",
   "id": "decb9719",
   "metadata": {},
   "source": [
    "**Question 10.** Set `job_ranges` to a table containing Titles as the rows, and the School as the columns. The values in the rows should correspond to the salary range for the job, where the range is calculated using the `salary_range` function you wrote in **Question 9.**\n"
   ]
  },
  {
   "cell_type": "code",
   "execution_count": null,
   "id": "b847aa7f",
   "metadata": {
    "id": "innocent-heater",
    "outputId": "34252fd3-5e79-4c3b-8738-c1f56c216e5b",
    "tags": []
   },
   "outputs": [],
   "source": [
    "job_ranges = ...\n",
    "job_ranges"
   ]
  },
  {
   "cell_type": "code",
   "execution_count": null,
   "id": "568de0b9",
   "metadata": {
    "deletable": false,
    "editable": false
   },
   "outputs": [],
   "source": [
    "grader.check(\"q10\")"
   ]
  },
  {
   "cell_type": "markdown",
   "id": "fc0dc089",
   "metadata": {
    "deletable": false,
    "editable": false
   },
   "source": [
    "## Submission\n",
    "\n",
    "Make sure you have run all cells in your notebook in order before running the cell below, so that all images/graphs appear in the output. The cell below will generate a zip file for you to submit. **Please save before exporting!**"
   ]
  },
  {
   "cell_type": "code",
   "execution_count": null,
   "id": "0333336a",
   "metadata": {
    "deletable": false,
    "editable": false
   },
   "outputs": [],
   "source": [
    "# Save your notebook first, then run this cell to export your submission.\n",
    "grader.export(run_tests=True)"
   ]
  },
  {
   "cell_type": "markdown",
   "id": "8fbf17e0",
   "metadata": {},
   "source": [
    " "
   ]
  }
 ],
 "metadata": {
  "colab": {
   "name": "hw04.ipynb",
   "provenance": []
  },
  "kernelspec": {
   "display_name": "Python 3 (ipykernel)",
   "language": "python",
   "name": "python3"
  },
  "language_info": {
   "codemirror_mode": {
    "name": "ipython",
    "version": 3
   },
   "file_extension": ".py",
   "mimetype": "text/x-python",
   "name": "python",
   "nbconvert_exporter": "python",
   "pygments_lexer": "ipython3",
   "version": "3.10.11"
  },
  "otter": {
   "OK_FORMAT": true,
   "tests": {
    "q1": {
     "name": "q1",
     "points": null,
     "suites": [
      {
       "cases": [
        {
         "code": ">>> set(['Name', 'Menu_Item', 'Yelp', 'Google', 'Overall', 'Cost']) == set(burritos.labels)\nTrue",
         "hidden": false,
         "locked": false
        },
        {
         "code": ">>> burritos.num_rows\n212",
         "hidden": false,
         "locked": false
        }
       ],
       "scored": true,
       "setup": "",
       "teardown": "",
       "type": "doctest"
      }
     ]
    },
    "q10": {
     "name": "q10",
     "points": null,
     "suites": [
      {
       "cases": [
        {
         "code": ">>> job_ranges.num_columns\n17",
         "hidden": false,
         "locked": false
        },
        {
         "code": ">>> job_ranges.num_rows\n6",
         "hidden": false,
         "locked": false
        }
       ],
       "scored": true,
       "setup": "",
       "teardown": "",
       "type": "doctest"
      }
     ]
    },
    "q4": {
     "name": "q4",
     "points": null,
     "suites": [
      {
       "cases": [
        {
         "code": ">>> california_burritos.num_columns\n2",
         "hidden": false,
         "locked": false
        },
        {
         "code": ">>> california_burritos.num_rows\n46",
         "hidden": false,
         "locked": false
        }
       ],
       "scored": true,
       "setup": "",
       "teardown": "",
       "type": "doctest"
      }
     ]
    },
    "q5": {
     "name": "q5",
     "points": null,
     "suites": [
      {
       "cases": [
        {
         "code": ">>> isinstance(best_restaurant, str)\nTrue",
         "hidden": false,
         "locked": false
        }
       ],
       "scored": true,
       "setup": "",
       "teardown": "",
       "type": "doctest"
      }
     ]
    },
    "q7": {
     "name": "q7",
     "points": null,
     "suites": [
      {
       "cases": [
        {
         "code": ">>> average_unc_stats.num_columns\n4",
         "hidden": false,
         "locked": false
        },
        {
         "code": ">>> average_unc_stats.num_rows\n74",
         "hidden": false,
         "locked": false
        },
        {
         "code": ">>> set(average_unc_stats.labels) == set(('School Name', 'Title', 'Age average', 'Salary average'))\nTrue",
         "hidden": false,
         "locked": false
        },
        {
         "code": ">>> np.isclose( sum(average_unc_stats.column('Age average')), 3919.262733622144)\nTrue",
         "hidden": false,
         "locked": false
        },
        {
         "code": ">>> np.isclose( sum(average_unc_stats.column('Salary average')), 7382472.347677045)\nTrue",
         "hidden": false,
         "locked": false
        }
       ],
       "scored": true,
       "setup": "",
       "teardown": "",
       "type": "doctest"
      }
     ]
    },
    "q8": {
     "name": "q8",
     "points": null,
     "suites": [
      {
       "cases": [
        {
         "code": ">>> unc_pivot.num_columns\n17",
         "hidden": false,
         "locked": false
        },
        {
         "code": ">>> unc_pivot.num_rows\n6",
         "hidden": false,
         "locked": false
        },
        {
         "code": ">>> round( unc_pivot.column('WSSU').take(0), 2)\n47.57",
         "hidden": false,
         "locked": false
        }
       ],
       "scored": true,
       "setup": "",
       "teardown": "",
       "type": "doctest"
      }
     ]
    },
    "q9": {
     "name": "q9",
     "points": null,
     "suites": [
      {
       "cases": [
        {
         "code": ">>> salary_range(make_array(5, 1, 20, 1000))\n999",
         "hidden": false,
         "locked": false
        }
       ],
       "scored": true,
       "setup": "",
       "teardown": "",
       "type": "doctest"
      }
     ]
    }
   }
  }
 },
 "nbformat": 4,
 "nbformat_minor": 5
}
