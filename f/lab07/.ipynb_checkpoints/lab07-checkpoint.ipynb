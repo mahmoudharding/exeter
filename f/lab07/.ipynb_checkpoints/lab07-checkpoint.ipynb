{
 "cells": [
  {
   "cell_type": "raw",
   "metadata": {},
   "source": [
    "# ASSIGNMENT CONFIG\n",
    "export_cell:\n",
    "  instructions: \"When done exporting, download the .zip file by finding it in the file browswer on the left side of the screen, then right-click and select **Download**. You'll submit this .zip file for the assignment in Canvas to Gradescope for grading.\"\n",
    "  pdf: false\n",
    "generate:\n",
    "  points_possible: 17\n",
    "files:\n",
    "  - data/votes.csv"
   ]
  },
  {
   "cell_type": "markdown",
   "metadata": {},
   "source": [
    "# Lab 07: Confidence Intervals\n",
    "\n",
    "Welcome to Lab 07! This week, we'll learn about confidence intervals.\n",
    "\n",
    "To receive credit for a lab, answer all questions correctly and submit before the deadline.\n",
    "\n",
    "**Due Date:** \n",
    "\n",
    "**Collaboration Policy:** Data science is a collaborative activity. While you may talk with others about the labs, we ask that you **write your solutions individually**. If you do discuss the assignments with others **please include their names below** (it's a good way to learn your classmates' names).\n",
    "\n",
    "**Collaborators:** \n",
    "\n",
    "List collaborators here. \n",
    "\n",
    "**Helpful Resource:**\n",
    "- [Python Reference](http://data8.org/fa20/python-reference.html): Cheat sheet of helpful array and table methods used in Data 8!\n",
    "\n",
    "**Recommended Reading:**\n",
    "\n",
    "* [Confidence Intervals](https://inferentialthinking.com/chapters/13/3/Confidence_Intervals.html)\n",
    "* [Using Confidence Intervals](https://inferentialthinking.com/chapters/13/4/Using_Confidence_Intervals.html)\n",
    "\n",
    "**Notes:** \n",
    "\n",
    "- This lab has hidden tests on it. That means even though tests may say 100% passed, doesn't mean your final grade will be 100%. We will be running more tests for correctness once everyone turns in the homework.\n",
    "\n",
    "- Throughout this lab, please be sure to not re-assign variables throughout the notebook. For example, if you use `max_temperature` in your answer to one question, do not reassign it later on. Moreover, please be sure to only put your written answers in the provided cells.\n",
    "\n",
    "First, set up the notebook by running the cell below."
   ]
  },
  {
   "cell_type": "code",
   "execution_count": 1,
   "metadata": {},
   "outputs": [],
   "source": [
    "from datascience import *\n",
    "import numpy as np\n",
    "\n",
    "%matplotlib inline\n",
    "import matplotlib.pyplot as plt\n",
    "plt.style.use('fivethirtyeight')"
   ]
  },
  {
   "cell_type": "markdown",
   "metadata": {},
   "source": [
    "## 1. Thai Restaurants\n"
   ]
  },
  {
   "cell_type": "markdown",
   "metadata": {},
   "source": [
    "Ben and Frank are trying see what the best Thai restaurant in Charlotte is. They survey 1500 UNC Charlotte students selected uniformly at random, and ask each student what Thai restaurant is the best. \n",
    "\n",
    "**Note:** This data is fabricated for the purposes of this homework.\n",
    "\n",
    "The choices of Thai restaurant are Lucky House, Imm Thai, Thai Temple, and Thai Basil. After compiling the results, Ben and Frank release the following percentages from their sample:\n",
    "\n",
    "|Thai Restaurant  | Percentage|\n",
    "|:------------:|:------------:|\n",
    "|Lucky House | 8% |\n",
    "|Imm Thai | 52% |\n",
    "|Thai Temple | 25% |\n",
    "|Thai Basil | 15% |\n",
    "\n",
    "These percentages represent a uniform random sample of the population of UNC Charlotte students. We will attempt to estimate the corresponding **parameters**, or the percentage of the votes that each restaurant will receive from the entire population (the entire population is all UNC Charlotte students). We will use confidence intervals to compute a range of values that reflects the uncertainty of our estimates.\n",
    "\n",
    "The table `votes` contains the results of the survey. \n",
    "\n",
    "Run the cell below to load the data."
   ]
  },
  {
   "cell_type": "code",
   "execution_count": 2,
   "metadata": {},
   "outputs": [
    {
     "data": {
      "text/html": [
       "<table border=\"1\" class=\"dataframe\">\n",
       "    <thead>\n",
       "        <tr>\n",
       "            <th>Vote</th>\n",
       "        </tr>\n",
       "    </thead>\n",
       "    <tbody>\n",
       "        <tr>\n",
       "            <td>Lucky House</td>\n",
       "        </tr>\n",
       "        <tr>\n",
       "            <td>Lucky House</td>\n",
       "        </tr>\n",
       "        <tr>\n",
       "            <td>Lucky House</td>\n",
       "        </tr>\n",
       "        <tr>\n",
       "            <td>Lucky House</td>\n",
       "        </tr>\n",
       "        <tr>\n",
       "            <td>Lucky House</td>\n",
       "        </tr>\n",
       "        <tr>\n",
       "            <td>Lucky House</td>\n",
       "        </tr>\n",
       "        <tr>\n",
       "            <td>Lucky House</td>\n",
       "        </tr>\n",
       "        <tr>\n",
       "            <td>Lucky House</td>\n",
       "        </tr>\n",
       "        <tr>\n",
       "            <td>Lucky House</td>\n",
       "        </tr>\n",
       "        <tr>\n",
       "            <td>Lucky House</td>\n",
       "        </tr>\n",
       "    </tbody>\n",
       "</table>\n",
       "<p>... (1490 rows omitted)</p>"
      ],
      "text/plain": [
       "Vote\n",
       "Lucky House\n",
       "Lucky House\n",
       "Lucky House\n",
       "Lucky House\n",
       "Lucky House\n",
       "Lucky House\n",
       "Lucky House\n",
       "Lucky House\n",
       "Lucky House\n",
       "Lucky House\n",
       "... (1490 rows omitted)"
      ]
     },
     "execution_count": 2,
     "metadata": {},
     "output_type": "execute_result"
    }
   ],
   "source": [
    "votes = Table.read_table('data/votes.csv')\n",
    "votes"
   ]
  },
  {
   "cell_type": "raw",
   "metadata": {},
   "source": [
    "# BEGIN QUESTION\n",
    "name: q1"
   ]
  },
  {
   "cell_type": "markdown",
   "metadata": {},
   "source": [
    "**Question 1.** Complete the function `one_resampled_percentage` below. It should return Imm Thai's **percentage** of votes after simulating one bootstrap sample of `tbl`.\n",
    "\n",
    "**Note:** `tbl` will always be in the same format as `votes`.\n"
   ]
  },
  {
   "cell_type": "raw",
   "metadata": {},
   "source": [
    "# BEGIN SOLUTION"
   ]
  },
  {
   "cell_type": "code",
   "execution_count": 3,
   "metadata": {},
   "outputs": [
    {
     "data": {
      "text/plain": [
       "54.53333333333333"
      ]
     },
     "execution_count": 3,
     "metadata": {},
     "output_type": "execute_result"
    }
   ],
   "source": [
    "def one_resampled_percentage(tbl):\n",
    "    \"\"\"A function to simulate Imm Thai's percentage of votes\n",
    "       after simulating one bootstrap sample.\n",
    "    \"\"\"\n",
    "    # BEGIN SOLUTION NO PROMPT\n",
    "    bootstrap = tbl.sample()\n",
    "    single_percentage = (np.count_nonzero(bootstrap.column('Vote') == 'Imm Thai') / tbl.num_rows) * 100\n",
    "    return single_percentage\n",
    "    # END SOLUTION\n",
    "\"\"\" # BEGIN PROMPT\n",
    "    bootstrap = ...\n",
    "    single_percentage = ...\n",
    "    return ...\n",
    "\"\"\"; # END PROMPT\n",
    "\n",
    "one_resampled_percentage(votes)"
   ]
  },
  {
   "cell_type": "raw",
   "metadata": {},
   "source": [
    "# END SOLUTION"
   ]
  },
  {
   "cell_type": "raw",
   "metadata": {},
   "source": [
    "# BEGIN TESTS"
   ]
  },
  {
   "cell_type": "code",
   "execution_count": 4,
   "metadata": {},
   "outputs": [
    {
     "data": {
      "text/plain": [
       "True"
      ]
     },
     "execution_count": 4,
     "metadata": {},
     "output_type": "execute_result"
    }
   ],
   "source": [
    "type(one_resampled_percentage(votes)) in set([float, np.float64])"
   ]
  },
  {
   "cell_type": "code",
   "execution_count": 5,
   "metadata": {},
   "outputs": [
    {
     "data": {
      "text/plain": [
       "True"
      ]
     },
     "execution_count": 5,
     "metadata": {},
     "output_type": "execute_result"
    }
   ],
   "source": [
    "35 <= one_resampled_percentage(votes) <= 65"
   ]
  },
  {
   "cell_type": "code",
   "execution_count": 6,
   "metadata": {},
   "outputs": [
    {
     "data": {
      "text/plain": [
       "51.6"
      ]
     },
     "execution_count": 6,
     "metadata": {},
     "output_type": "execute_result"
    }
   ],
   "source": [
    "# HIDDEN\n",
    "np.random.seed(123)\n",
    "one_resampled_percentage(votes)"
   ]
  },
  {
   "cell_type": "raw",
   "metadata": {},
   "source": [
    "# END TESTS"
   ]
  },
  {
   "cell_type": "raw",
   "metadata": {},
   "source": [
    "# END QUESTION"
   ]
  },
  {
   "cell_type": "raw",
   "metadata": {},
   "source": [
    "# BEGIN QUESTION\n",
    "name: q2"
   ]
  },
  {
   "cell_type": "markdown",
   "metadata": {},
   "source": [
    "**Question 2.** Complete the `percentages_in_resamples` function such that it returns an array of 2500 bootstrapped estimates of the percentage of voters who will vote for Imm Thai. You should use the `one_resampled_percentage` function you wrote above.\n",
    "\n",
    "**Note:** There are no public tests for this question, the autograder cell below will return 0.0% passed. \n"
   ]
  },
  {
   "cell_type": "raw",
   "metadata": {},
   "source": [
    "# BEGIN SOLUTION"
   ]
  },
  {
   "cell_type": "code",
   "execution_count": 7,
   "metadata": {},
   "outputs": [
    {
     "data": {
      "text/plain": [
       "array([51.86666667, 52.86666667, 51.86666667, ..., 51.86666667,\n",
       "       53.8       , 52.33333333])"
      ]
     },
     "execution_count": 7,
     "metadata": {},
     "output_type": "execute_result"
    }
   ],
   "source": [
    "def percentages_in_resamples():\n",
    "    \"\"\"A function to calculate 2500 bootstrapped estimates\n",
    "       of the percentage of voters that will vote for Imm Thai.\n",
    "    \"\"\"\n",
    "    percentage_imm = make_array()\n",
    "    repetitions = 2500\n",
    "    # BEGIN SOLUTION NO PROMPT\n",
    "    for i in np.arange(repetitions):\n",
    "        single_percentage = one_resampled_percentage(votes)\n",
    "        percentage_imm = np.append(percentage_imm, single_percentage)\n",
    "    return percentage_imm\n",
    "    # END SOLUTION\n",
    "\"\"\" # BEGIN PROMPT\n",
    "    for ...\n",
    "        single_percentage = ...\n",
    "        percentage_imm = ...\n",
    "    return ...\n",
    "\"\"\"; # END PROMPT\n",
    "\n",
    "percentages_in_resamples()"
   ]
  },
  {
   "cell_type": "raw",
   "metadata": {},
   "source": [
    "# END SOLUTION"
   ]
  },
  {
   "cell_type": "raw",
   "metadata": {},
   "source": [
    "# BEGIN TESTS"
   ]
  },
  {
   "cell_type": "code",
   "execution_count": 8,
   "metadata": {},
   "outputs": [
    {
     "data": {
      "text/plain": [
       "2500"
      ]
     },
     "execution_count": 8,
     "metadata": {},
     "output_type": "execute_result"
    }
   ],
   "source": [
    "# HIDDEN\n",
    "len(percentages_in_resamples())"
   ]
  },
  {
   "cell_type": "code",
   "execution_count": 9,
   "metadata": {},
   "outputs": [
    {
     "data": {
      "text/plain": [
       "51.6"
      ]
     },
     "execution_count": 9,
     "metadata": {},
     "output_type": "execute_result"
    }
   ],
   "source": [
    "# HIDDEN\n",
    "np.random.seed(123)\n",
    "percentages_in_resamples().item(0)"
   ]
  },
  {
   "cell_type": "code",
   "execution_count": 10,
   "metadata": {},
   "outputs": [
    {
     "data": {
      "text/plain": [
       "50.0"
      ]
     },
     "execution_count": 10,
     "metadata": {},
     "output_type": "execute_result"
    }
   ],
   "source": [
    "# HIDDEN\n",
    "np.random.seed(123)\n",
    "percentages_in_resamples().item(10)"
   ]
  },
  {
   "cell_type": "raw",
   "metadata": {},
   "source": [
    "# END TESTS"
   ]
  },
  {
   "cell_type": "raw",
   "metadata": {},
   "source": [
    "# END QUESTION"
   ]
  },
  {
   "cell_type": "markdown",
   "metadata": {},
   "source": [
    "In the following cell, we run the function you just defined, `percentages_in_resamples`, and create a histogram of the calculated statistic for the 2,500 bootstrap estimates of the percentage of voters who voted for Imm Thai. Based on what the original Thai restaurant percentages were, does the graph seem reasonable? Talk to your teacher if you are unsure."
   ]
  },
  {
   "cell_type": "code",
   "execution_count": 11,
   "metadata": {},
   "outputs": [
    {
     "data": {
      "image/png": "[encoded data removed]",
      "text/plain": [
       "<Figure size 432x288 with 1 Axes>"
      ]
     },
     "metadata": {},
     "output_type": "display_data"
    }
   ],
   "source": [
    "resampled_percentages = percentages_in_resamples()\n",
    "Table().with_column('Estimated Percentage', resampled_percentages).hist(\"Estimated Percentage\")"
   ]
  },
  {
   "cell_type": "raw",
   "metadata": {},
   "source": [
    "# BEGIN QUESTION\n",
    "name: q3"
   ]
  },
  {
   "cell_type": "markdown",
   "metadata": {},
   "source": [
    "**Question 3.** Using the array `resampled_percentages`, find the values at the two edges of the middle 95% of the bootstrapped percentage estimates (i.e. compute the lower and upper ends of the interval, named `imm_lower_bound` and `imm_upper_bound`, respectively.)\n"
   ]
  },
  {
   "cell_type": "raw",
   "metadata": {},
   "source": [
    "# BEGIN SOLUTION"
   ]
  },
  {
   "cell_type": "code",
   "execution_count": 12,
   "metadata": {},
   "outputs": [
    {
     "name": "stdout",
     "output_type": "stream",
     "text": [
      "Bootstrapped 95% confidence interval for the percentage of Imm Thai voters in the population: [49.533333, 54.600000]\n"
     ]
    }
   ],
   "source": [
    "imm_lower_bound = percentile(2.5, resampled_percentages) # SOLUTION\n",
    "imm_upper_bound = percentile(97.5, resampled_percentages) # SOLUTION\n",
    "\n",
    "# The following line of code wil print the results of your calculations.\n",
    "# Don't change it, just run it.\n",
    "print(\"Bootstrapped 95% confidence interval for the percentage of Imm Thai voters in the population: [{:f}, {:f}]\".format(imm_lower_bound, imm_upper_bound))"
   ]
  },
  {
   "cell_type": "raw",
   "metadata": {},
   "source": [
    "# END SOLUTION"
   ]
  },
  {
   "cell_type": "raw",
   "metadata": {},
   "source": [
    "# BEGIN TESTS"
   ]
  },
  {
   "cell_type": "code",
   "execution_count": 13,
   "metadata": {},
   "outputs": [
    {
     "data": {
      "text/plain": [
       "True"
      ]
     },
     "execution_count": 13,
     "metadata": {},
     "output_type": "execute_result"
    }
   ],
   "source": [
    "40 <= imm_lower_bound <= imm_upper_bound <= 60"
   ]
  },
  {
   "cell_type": "code",
   "execution_count": 14,
   "metadata": {},
   "outputs": [
    {
     "data": {
      "text/plain": [
       "True"
      ]
     },
     "execution_count": 14,
     "metadata": {},
     "output_type": "execute_result"
    }
   ],
   "source": [
    "# HIDDEN\n",
    "all([imm_lower_bound == percentile(2.5, resampled_percentages), imm_upper_bound == percentile(97.5, resampled_percentages)])"
   ]
  },
  {
   "cell_type": "raw",
   "metadata": {},
   "source": [
    "# END TESTS"
   ]
  },
  {
   "cell_type": "raw",
   "metadata": {},
   "source": [
    "# END QUESTION"
   ]
  },
  {
   "cell_type": "raw",
   "metadata": {},
   "source": [
    "# BEGIN QUESTION\n",
    "name: q4"
   ]
  },
  {
   "cell_type": "markdown",
   "metadata": {},
   "source": [
    "**Question 4.** The survey results seem to indicate that Imm Thai is beating all the other Thai restaurants combined among voters. We would like to use confidence intervals to determine a range of likely values for Imm Thai's true lead over all the other restaurants combined. The calculation for Imm Thai's lead over Lucky House, Thai Temple, and Thai Basil combined is:\n",
    "\n",
    "$$\\text{Imm Thai's % of the vote} - \\text{(Lucky House's % of the vote + Thai Temple's % of the vote + Thai Basil's % of the vote)}$$\n",
    "\n",
    "Define the function `one_resampled_difference` that returns **exactly one value** of Imm Thai's percentage lead over Lucky House, Thai Temple, and Thai Basil combined from one bootstrap sample of `tbl`."
   ]
  },
  {
   "cell_type": "raw",
   "metadata": {},
   "source": [
    "# BEGIN SOLUTION"
   ]
  },
  {
   "cell_type": "code",
   "execution_count": 15,
   "metadata": {},
   "outputs": [
    {
     "data": {
      "text/plain": [
       "10.266666666666666"
      ]
     },
     "execution_count": 15,
     "metadata": {},
     "output_type": "execute_result"
    }
   ],
   "source": [
    "def one_resampled_difference(tbl):\n",
    "    \"\"\"A function to calculate one value of Imm Thai's percentage\n",
    "       lead over the other resteraunts from one bootstrap sample.\n",
    "    \"\"\"\n",
    "    # BEGIN SOLUTION NO PROMPT\n",
    "    bootstrap = tbl.sample() \n",
    "    imm_percentage = (np.count_nonzero(bootstrap.column('Vote') == 'Imm Thai') / tbl.num_rows) * 100 \n",
    "    lh_percentage = (np.count_nonzero(bootstrap.column('Vote') == 'Lucky House') / tbl.num_rows) * 100\n",
    "    tt_percentage = (np.count_nonzero(bootstrap.column('Vote') == 'Thai Temple') / tbl.num_rows) * 100\n",
    "    tb_percentage = (np.count_nonzero(bootstrap.column('Vote') == 'Thai Basil') / tbl.num_rows) * 100\n",
    "    return imm_percentage - (lh_percentage + tt_percentage + tb_percentage) \n",
    "    # END SOLUTION\n",
    "\"\"\" # BEGIN PROMPT\n",
    "    bootstrap = ...\n",
    "    imm_percentage = ... \n",
    "    lh_percentage = ...\n",
    "    tt_percentage = ...\n",
    "    tb_percentage = ...\n",
    "    return ... \n",
    "\"\"\"; # END PROMPT\n",
    "    \n",
    "one_resampled_difference(votes)"
   ]
  },
  {
   "cell_type": "raw",
   "metadata": {},
   "source": [
    "# END SOLUTION"
   ]
  },
  {
   "cell_type": "raw",
   "metadata": {},
   "source": [
    "# BEGIN TESTS"
   ]
  },
  {
   "cell_type": "code",
   "execution_count": 16,
   "metadata": {},
   "outputs": [
    {
     "data": {
      "text/plain": [
       "True"
      ]
     },
     "execution_count": 16,
     "metadata": {},
     "output_type": "execute_result"
    }
   ],
   "source": [
    "type(one_resampled_difference(votes)) in set([float, np.float64])"
   ]
  },
  {
   "cell_type": "code",
   "execution_count": 17,
   "metadata": {},
   "outputs": [
    {
     "data": {
      "text/plain": [
       "True"
      ]
     },
     "execution_count": 17,
     "metadata": {},
     "output_type": "execute_result"
    }
   ],
   "source": [
    "# HIDDEN\n",
    "-6 <= float(one_resampled_difference(votes)) <= 15"
   ]
  },
  {
   "cell_type": "code",
   "execution_count": 18,
   "metadata": {},
   "outputs": [
    {
     "data": {
      "text/plain": [
       "True"
      ]
     },
     "execution_count": 18,
     "metadata": {},
     "output_type": "execute_result"
    }
   ],
   "source": [
    "# HIDDEN\n",
    "np.random.seed(123)\n",
    "np.isclose( float(one_resampled_difference(votes)), 3.1999999999999957)"
   ]
  },
  {
   "cell_type": "raw",
   "metadata": {},
   "source": [
    "# END TESTS"
   ]
  },
  {
   "cell_type": "raw",
   "metadata": {},
   "source": [
    "# END QUESTION"
   ]
  },
  {
   "cell_type": "raw",
   "metadata": {},
   "source": [
    "# BEGIN QUESTION\n",
    "name: q5\n",
    "manual: true"
   ]
  },
  {
   "cell_type": "markdown",
   "metadata": {},
   "source": [
    "**Question 5.** Write a function called `leads_in_resamples` that finds 2,500 bootstrapped estimates (the result of calling `one_resampled_difference`) of Imm Thai's lead over Lucky House, Thai Temple, and Thai Basil combined. Plot a histogram of the resulting samples. \n",
    "\n",
    "**Note:** Imm Thai's lead can be negative.\n"
   ]
  },
  {
   "cell_type": "raw",
   "metadata": {},
   "source": [
    "# BEGIN SOLUTION"
   ]
  },
  {
   "cell_type": "code",
   "execution_count": 25,
   "metadata": {},
   "outputs": [
    {
     "data": {
      "image/png": "[encoded data removed]",
      "text/plain": [
       "<Figure size 432x288 with 1 Axes>"
      ]
     },
     "metadata": {},
     "output_type": "display_data"
    }
   ],
   "source": [
    "def leads_in_resamples():\n",
    "    \"\"\"A function to calculate 2500 bootstrapped estimates\n",
    "       of Imm Thai's percentage lead over the other resteraunts.\n",
    "    \"\"\"\n",
    "    repetitions = 2500\n",
    "    # BEGIN SOLUTION NO PROMPT\n",
    "    leads = make_array()\n",
    "    for i in np.arange(repetitions):\n",
    "        bootstrap_lead = one_resampled_difference(votes)\n",
    "        leads = np.append(leads, bootstrap_lead)\n",
    "    return leads\n",
    "    # END SOLUTION\n",
    "\"\"\" # BEGIN PROMPT\n",
    "    leads = ...\n",
    "    for ...\n",
    "        bootstrap_lead = ...\n",
    "        leads = ...\n",
    "    return ...\n",
    "\"\"\"; # END PROMPT\n",
    "\n",
    "sampled_leads = leads_in_resamples()\n",
    "Table().with_column('Estimated Lead', sampled_leads).hist(\"Estimated Lead\")"
   ]
  },
  {
   "cell_type": "raw",
   "metadata": {},
   "source": [
    "# END SOLUTION"
   ]
  },
  {
   "cell_type": "raw",
   "metadata": {},
   "source": [
    "# END QUESTION"
   ]
  },
  {
   "cell_type": "raw",
   "metadata": {},
   "source": [
    "# BEGIN QUESTION\n",
    "name: q6"
   ]
  },
  {
   "cell_type": "markdown",
   "metadata": {},
   "source": [
    "**Question 6.** Use the simulated data from **Question 5** to compute an approximate 95% confidence interval for Imm Thai's true lead over Lucky House, Thai Temple, and Thai Basil combined.\n"
   ]
  },
  {
   "cell_type": "raw",
   "metadata": {},
   "source": [
    "# BEGIN SOLUTION"
   ]
  },
  {
   "cell_type": "code",
   "execution_count": 26,
   "metadata": {},
   "outputs": [
    {
     "name": "stdout",
     "output_type": "stream",
     "text": [
      "Bootstrapped 95% confidence interval for Imm Thai's true lead over Lucky House, Thai Temple, and Thai Basil combined: [-0.800000, 9.333333]\n"
     ]
    }
   ],
   "source": [
    "diff_lower_bound = percentile(2.5, sampled_leads) # SOLUTION\n",
    "diff_upper_bound = percentile(97.5, sampled_leads) # SOLUTION\n",
    "\n",
    "# The following line of code wil print the results of your calculations.\n",
    "# Don't change it, just run it.\n",
    "print(\"Bootstrapped 95% confidence interval for Imm Thai's true lead over Lucky House, Thai Temple, and Thai Basil combined: [{:f}, {:f}]\".format(diff_lower_bound, diff_upper_bound))"
   ]
  },
  {
   "cell_type": "raw",
   "metadata": {},
   "source": [
    "# END SOLUTION"
   ]
  },
  {
   "cell_type": "raw",
   "metadata": {},
   "source": [
    "# BEGIN TESTS"
   ]
  },
  {
   "cell_type": "code",
   "execution_count": 27,
   "metadata": {},
   "outputs": [
    {
     "data": {
      "text/plain": [
       "True"
      ]
     },
     "execution_count": 27,
     "metadata": {},
     "output_type": "execute_result"
    }
   ],
   "source": [
    "-5 <= diff_lower_bound <= diff_upper_bound <= 12"
   ]
  },
  {
   "cell_type": "code",
   "execution_count": 28,
   "metadata": {},
   "outputs": [
    {
     "data": {
      "text/plain": [
       "True"
      ]
     },
     "execution_count": 28,
     "metadata": {},
     "output_type": "execute_result"
    }
   ],
   "source": [
    "# HIDDEN\n",
    "-1.25 <= diff_lower_bound <= 11"
   ]
  },
  {
   "cell_type": "code",
   "execution_count": 29,
   "metadata": {},
   "outputs": [
    {
     "data": {
      "text/plain": [
       "True"
      ]
     },
     "execution_count": 29,
     "metadata": {},
     "output_type": "execute_result"
    }
   ],
   "source": [
    "# HIDDEN\n",
    "all([diff_lower_bound == percentile(2.5, sampled_leads), diff_upper_bound == percentile(97.5, sampled_leads)])"
   ]
  },
  {
   "cell_type": "raw",
   "metadata": {},
   "source": [
    "# END TESTS"
   ]
  },
  {
   "cell_type": "raw",
   "metadata": {},
   "source": [
    "# END QUESTION"
   ]
  },
  {
   "cell_type": "markdown",
   "metadata": {},
   "source": [
    "## 2. Interpreting Confidence Intervals\n"
   ]
  },
  {
   "cell_type": "markdown",
   "metadata": {},
   "source": [
    "We computed the following 95% confidence interval for the percentage of Imm Thai voters: \n",
    "\n",
    "$$[49.40, 54.47]$$\n",
    "\n",
    "**Note:** Your answer may have been a bit different; that doesn't mean it was wrong."
   ]
  },
  {
   "cell_type": "raw",
   "metadata": {},
   "source": [
    "# BEGIN QUESTION\n",
    "name: q7\n",
    "manual: true"
   ]
  },
  {
   "cell_type": "markdown",
   "metadata": {},
   "source": [
    "**Question 7.** Can we say there is a 95% probability that the interval [49.40, 54.47] contains the true percentage of the population that votes for Imm Thai as the best Charlotte Thai restaurant? Answer \"yes\" or \"no\" and explain your reasoning. \n",
    "\n",
    "**Note:** Ambiguous answers using language like \"sometimes\" or \"maybe\" will not receive credit.\n"
   ]
  },
  {
   "cell_type": "raw",
   "metadata": {},
   "source": [
    "# BEGIN SOLUTION"
   ]
  },
  {
   "cell_type": "markdown",
   "metadata": {},
   "source": [
    "**SOLUTION:** No, the true proportion is some value $x$. Our observed interval, $[49.40, 54.47]$ has already been fixed, so $x$ is either in the interval or it is not."
   ]
  },
  {
   "cell_type": "raw",
   "metadata": {},
   "source": [
    "# END SOLUTION"
   ]
  },
  {
   "cell_type": "raw",
   "metadata": {},
   "source": [
    "# END QUESTION"
   ]
  },
  {
   "cell_type": "raw",
   "metadata": {},
   "source": [
    "# BEGIN QUESTION\n",
    "name: q8\n",
    "manual: true"
   ]
  },
  {
   "cell_type": "markdown",
   "metadata": {},
   "source": [
    "**Question 8.** The staff also created 70%, 90%, and 99% confidence intervals from the same sample, but we forgot to label which confidence interval represented which percentages! Match each confidence level (70%, 90%, 99%) with its corresponding interval in the cell below (e.g. __ % CI: [49.87, 54.0] $\\rightarrow$ replace the blank with one of the three confidence levels). **Then**, explain your thought process and how you came up with your answers.\n",
    "\n",
    "The intervals are below:\n",
    "\n",
    "* [49.87, 54.00]\n",
    "* [50.67, 53.27]\n",
    "* [48.80, 55.40]\n"
   ]
  },
  {
   "cell_type": "raw",
   "metadata": {},
   "source": [
    "# BEGIN SOLUTION"
   ]
  },
  {
   "cell_type": "markdown",
   "metadata": {},
   "source": [
    "**SOLUTION:**\n",
    "\n",
    "70% CI: [50.67, 53.27]\n",
    "\n",
    "90% CI: [49.87, 54.00]\n",
    "\n",
    "99% CI: [48.80, 55.40]\n",
    "\n",
    "We compute these intervalues by taking the middle X% of a bunch of bootstrap statistics. As the confidence level increases, we are including more and more of the statistics, so the interval widens. Intuitively, we might be very confident that the population parameter is within some giant interval, but only moderately confident that it's within some smaller interval."
   ]
  },
  {
   "cell_type": "raw",
   "metadata": {},
   "source": [
    "# END SOLUTION"
   ]
  },
  {
   "cell_type": "raw",
   "metadata": {},
   "source": [
    "# END QUESTION"
   ]
  },
  {
   "cell_type": "raw",
   "metadata": {},
   "source": [
    "# BEGIN QUESTION\n",
    "name: q9"
   ]
  },
  {
   "cell_type": "markdown",
   "metadata": {},
   "source": [
    "**Question 9.** Suppose we produced 5,000 new samples (each one a uniform random sample of 1,500 voters/students) from the population and created a 95% confidence interval from each one. Roughly how many of those 5,000 intervals do you expect will actually contain the true percentage of the population?\n",
    "\n",
    "Assign your answer to `true_percentage_intervals`.\n"
   ]
  },
  {
   "cell_type": "raw",
   "metadata": {},
   "source": [
    "# BEGIN SOLUTION"
   ]
  },
  {
   "cell_type": "code",
   "execution_count": 30,
   "metadata": {},
   "outputs": [],
   "source": [
    "true_percentage_intervals = 4750 # SOLUTION"
   ]
  },
  {
   "cell_type": "raw",
   "metadata": {},
   "source": [
    "# END SOLUTION"
   ]
  },
  {
   "cell_type": "raw",
   "metadata": {},
   "source": [
    "# END QUESTION"
   ]
  },
  {
   "cell_type": "raw",
   "metadata": {},
   "source": [
    "# BEGIN QUESTION\n",
    "name: q10"
   ]
  },
  {
   "cell_type": "markdown",
   "metadata": {},
   "source": [
    "Recall the second bootstrap confidence interval you created, which estimated Imm Thai's lead over Lucky House, Thai Temple, and Thai Basil combined. Among\n",
    "voters in the sample, Imm Thai's lead was 4%. The staff's 95% confidence interval for the true lead (in the population of all voters) was\n",
    "\n",
    "$$[-0.80, 8.80]$$\n",
    "\n",
    "Suppose we are interested in testing a simple yes-or-no question:\n",
    "\n",
    "> \"Is the percentage of votes for Imm Thai tied with the percentage of votes for Lucky House, Thai Temple, and Thai Basil combined?\"\n",
    "\n",
    "Our null hypothesis is that the percentages are equal, or equivalently, that Imm Thai's lead is exactly 0. Our alternative hypothesis is that Imm Thai's lead is not equal to 0.  In the questions below, don't compute any confidence interval yourself - use only the notebook's 95% confidence interval.\n",
    "\n",
    "\n",
    "**Question 10.** Say we use a 5% P-value cutoff.  Do we fail to reject the null, reject the null, or are we unable to tell using our staff confidence interval?\n",
    "\n",
    "Assign `restaurants_tied` to the number corresponding to the correct answer.\n",
    "\n",
    "1. Fail to reject the null / Data is consistent with the null hypothesis.\n",
    "\n",
    "2. Reject the null / Data is consistent with the alternative hypothesis.\n",
    "\n",
    "3. Unable to tell using our staff confidence interval.\n",
    "\n",
    "**Hint:** If you're confused, take a look at [this chapter](https://inferentialthinking.com/chapters/13/4/Using_Confidence_Intervals.html) of the textbook.\n"
   ]
  },
  {
   "cell_type": "raw",
   "metadata": {},
   "source": [
    "# BEGIN SOLUTION"
   ]
  },
  {
   "cell_type": "code",
   "execution_count": 31,
   "metadata": {},
   "outputs": [],
   "source": [
    "restaurants_tied = 1 # SOLUTION"
   ]
  },
  {
   "cell_type": "raw",
   "metadata": {},
   "source": [
    "# END SOLUTION"
   ]
  },
  {
   "cell_type": "raw",
   "metadata": {},
   "source": [
    "# BEGIN TESTS"
   ]
  },
  {
   "cell_type": "code",
   "execution_count": 32,
   "metadata": {},
   "outputs": [
    {
     "data": {
      "text/plain": [
       "True"
      ]
     },
     "execution_count": 32,
     "metadata": {},
     "output_type": "execute_result"
    }
   ],
   "source": [
    "restaurants_tied in [1,2,3]"
   ]
  },
  {
   "cell_type": "code",
   "execution_count": 33,
   "metadata": {},
   "outputs": [
    {
     "data": {
      "text/plain": [
       "1"
      ]
     },
     "execution_count": 33,
     "metadata": {},
     "output_type": "execute_result"
    }
   ],
   "source": [
    "# HIDDEN\n",
    "restaurants_tied"
   ]
  },
  {
   "cell_type": "raw",
   "metadata": {},
   "source": [
    "# END TESTS"
   ]
  },
  {
   "cell_type": "raw",
   "metadata": {},
   "source": [
    "# END QUESTION"
   ]
  },
  {
   "cell_type": "raw",
   "metadata": {},
   "source": [
    "# BEGIN QUESTION\n",
    "name: q11"
   ]
  },
  {
   "cell_type": "markdown",
   "metadata": {},
   "source": [
    "**Question 11.** What if, instead, we use a P-value cutoff of 1%? Do we fail to reject the null, reject the null, or are we unable to tell using our staff confidence interval?\n",
    "\n",
    "Assign `cutoff_one_percent` to the number corresponding to the correct answer.\n",
    "\n",
    "1. Fail to reject the null / Data is consistent with the null hypothesis.\n",
    "\n",
    "2. Reject the null / Data is consistent with the alternative hypothesis.\n",
    "\n",
    "3. Unable to tell using our staff confidence interval.\n"
   ]
  },
  {
   "cell_type": "raw",
   "metadata": {},
   "source": [
    "# BEGIN SOLUTION"
   ]
  },
  {
   "cell_type": "code",
   "execution_count": 34,
   "metadata": {},
   "outputs": [],
   "source": [
    "cutoff_one_percent = 1 # SOLUTION"
   ]
  },
  {
   "cell_type": "raw",
   "metadata": {},
   "source": [
    "# END SOLUTION"
   ]
  },
  {
   "cell_type": "raw",
   "metadata": {},
   "source": [
    "# BEGIN TESTS"
   ]
  },
  {
   "cell_type": "code",
   "execution_count": 35,
   "metadata": {},
   "outputs": [
    {
     "data": {
      "text/plain": [
       "True"
      ]
     },
     "execution_count": 35,
     "metadata": {},
     "output_type": "execute_result"
    }
   ],
   "source": [
    "cutoff_one_percent in [1,2,3]"
   ]
  },
  {
   "cell_type": "code",
   "execution_count": 36,
   "metadata": {},
   "outputs": [
    {
     "data": {
      "text/plain": [
       "1"
      ]
     },
     "execution_count": 36,
     "metadata": {},
     "output_type": "execute_result"
    }
   ],
   "source": [
    "# HIDDEN\n",
    "cutoff_one_percent"
   ]
  },
  {
   "cell_type": "raw",
   "metadata": {},
   "source": [
    "# END TESTS"
   ]
  },
  {
   "cell_type": "raw",
   "metadata": {},
   "source": [
    "# END QUESTION"
   ]
  },
  {
   "cell_type": "raw",
   "metadata": {},
   "source": [
    "# BEGIN QUESTION\n",
    "name: q12"
   ]
  },
  {
   "cell_type": "markdown",
   "metadata": {},
   "source": [
    "**Question 12.** What if we use a P-value cutoff of 10%? Do we reject, fail to reject, or are we unable to tell using our confidence interval?\n",
    "\n",
    "Assign `cutoff_ten_percent` to the number corresponding to the correct answer.\n",
    "\n",
    "1. Reject the null / Data is consistent with the alternative hypothesis\n",
    "2. Fail to reject the null / Data is consistent with the null hypothesis\n",
    "3. Unable to tell using our staff confidence interval\n"
   ]
  },
  {
   "cell_type": "raw",
   "metadata": {},
   "source": [
    "# BEGIN SOLUTION"
   ]
  },
  {
   "cell_type": "code",
   "execution_count": 37,
   "metadata": {},
   "outputs": [],
   "source": [
    "cutoff_ten_percent = 3 # SOLUTION"
   ]
  },
  {
   "cell_type": "raw",
   "metadata": {},
   "source": [
    "# END SOLUTION"
   ]
  },
  {
   "cell_type": "raw",
   "metadata": {},
   "source": [
    "# BEGIN TESTS"
   ]
  },
  {
   "cell_type": "code",
   "execution_count": 38,
   "metadata": {},
   "outputs": [
    {
     "data": {
      "text/plain": [
       "True"
      ]
     },
     "execution_count": 38,
     "metadata": {},
     "output_type": "execute_result"
    }
   ],
   "source": [
    "cutoff_ten_percent in [1,2,3]"
   ]
  },
  {
   "cell_type": "code",
   "execution_count": 39,
   "metadata": {},
   "outputs": [
    {
     "data": {
      "text/plain": [
       "3"
      ]
     },
     "execution_count": 39,
     "metadata": {},
     "output_type": "execute_result"
    }
   ],
   "source": [
    "# HIDDEN\n",
    "cutoff_ten_percent"
   ]
  },
  {
   "cell_type": "raw",
   "metadata": {},
   "source": [
    "# END TESTS"
   ]
  },
  {
   "cell_type": "raw",
   "metadata": {},
   "source": [
    "# END QUESTION"
   ]
  },
  {
   "cell_type": "markdown",
   "metadata": {},
   "source": [
    "# 3. Submitting your work\n",
    "\n",
    "You're done with Lab 07! All assignments in the course will be distributed as notebooks like this one, and you will submit your work by doing the following:\n",
    "\n",
    "* Save your notebook\n",
    "\n",
    "* Restart the kernel and run up to this cell.\n",
    "\n",
    "* Run all the tests by running the cell containing `grader.check_all()`. Make sure they pass the way you expect them to.\n",
    "\n",
    "* Run the cell below with the code `grader.export(\"lab07.ipynb\")`.\n",
    "\n",
    "* Download the file named `lab07.zip`, found in the explorer pane on the left side of the screen.\n",
    "\n",
    "* Upload `lab07.zip` to the Lab 07 assignment to Gradescope for Grading."
   ]
  },
  {
   "cell_type": "code",
   "execution_count": null,
   "metadata": {},
   "outputs": [],
   "source": []
  }
 ],
 "metadata": {
  "kernelspec": {
   "display_name": "Python 3 (ipykernel)",
   "language": "python",
   "name": "python3"
  },
  "language_info": {
   "codemirror_mode": {
    "name": "ipython",
    "version": 3
   },
   "file_extension": ".py",
   "mimetype": "text/x-python",
   "name": "python",
   "nbconvert_exporter": "python",
   "pygments_lexer": "ipython3",
   "version": "3.9.6"
  }
 },
 "nbformat": 4,
 "nbformat_minor": 4
}
