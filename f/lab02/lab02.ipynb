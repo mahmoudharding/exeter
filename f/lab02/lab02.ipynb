{
 "cells": [
  {
   "cell_type": "raw",
   "metadata": {},
   "source": [
    "# ASSIGNMENT CONFIG\n",
    "export_cell:\n",
    "  instructions: \"When done exporting, download the .zip file by `SHIFT` and right-clicking on the file name and selecting **Save Link As**. Or, find the .zip file in the left side of the screen and right-click and select **Download**. You'll submit this .zip file for the assignment in Canvas to Gradescope for grading.\"\n",
    "  pdf: false\n",
    "generate:\n",
    "  points_possible: 19\n",
    "files: \n",
    "  - images/statement.png\n",
    "  - data/farmers_markets.csv\n",
    "  - data/imdb.csv"
   ]
  },
  {
   "cell_type": "markdown",
   "metadata": {
    "id": "axdF34megXrn"
   },
   "source": [
    "# Lab 02: Assignment Statements and Table Operations\n",
    "\n",
    "Welcome to Lab 02! Each week you will complete a lab assignment like this one. You can't learn technical subjects without hands-on practice, so labs are an important part of the course.\n",
    "\n",
    "Collaborating on labs is more than okay -- it's encouraged! You should rarely remain stuck for more than a few minutes on questions in labs, so ask a neighbor or an instructor for help. Explaining things is beneficial, too -- the best way to solidify your knowledge of a subject is to explain it. You should not just copy/paste someone else's code, but rather work together to gain understanding of the task you need to complete.\n",
    "\n",
    "To receive credit for a lab, answer all questions correctly and submit before the deadline.\n",
    "\n",
    "**Due Date:** \n",
    "\n",
    "**Collaboration Policy:** Data science is a collaborative activity. While you may talk with others about the labs, we ask that you **write your solutions individually**. If you do discuss the assignments with others **please include their names below** (it's a good way to learn your classmates' names).\n",
    "\n",
    "**Collaborators:** \n",
    "\n",
    "List collaborators here.\n",
    "\n",
    "## Today's Lab \n",
    "\n",
    "This week, we'll learn how to import a module and practice table operations. Please complete this notebook by filling in the cells provided. Before you begin, be sure you've run the very first cell in this notebook to load `otter`, the auto-grading library that will provide feedback while completing this assignment. This cell should be run each time you load this notebook, as everything stored into memory is reset when you close the notebook for more than a few minutes.\n",
    "\n",
    "Recommended reading:\n",
    "\n",
    "* [Names](https://inferentialthinking.com/chapters/03/2/Names.html)\n",
    "\n",
    "* [Call expressions](https://inferentialthinking.com/chapters/03/3/Calls.html)\n",
    "\n",
    "* [Introduction to tables](https://www.inferentialthinking.com/chapters/03/4/Introduction_to_Tables)\n",
    "\n",
    "Run the cell below to set up the imports."
   ]
  },
  {
   "cell_type": "code",
   "execution_count": 43,
   "metadata": {
    "id": "k8UMWUG7gXrp"
   },
   "outputs": [],
   "source": [
    "from datascience import *"
   ]
  },
  {
   "cell_type": "markdown",
   "metadata": {
    "id": "gTkUSC8ggXrx"
   },
   "source": [
    "# 1. Assignment Statement\n",
    "\n",
    "The two building blocks of Python code are *expressions* and *statements*.  An **expression** is a piece of code that\n",
    "\n",
    "* is self-contained, meaning it would make sense to write it on a line by itself, and\n",
    "* usually evaluates to a value.\n",
    "\n",
    "\n",
    "Here are two expressions that both evaluate to 3\n",
    "\n",
    "* 3\n",
    "* 5 - 2\n",
    "    \n",
    "One important type of expression is the **call expression**. A call expression begins with the name of a function and is followed by the argument(s) of that function in parentheses. The function returns some value, based on its arguments. Some important mathematical functions are listed below.\n",
    "\n",
    "| Function | Description                                                   |\n",
    "|----------|---------------------------------------------------------------|\n",
    "| `abs`      | Returns the absolute value of its argument                    |\n",
    "| `max`      | Returns the maximum of all its arguments                      |\n",
    "| `min`      | Returns the minimum of all its arguments                      |\n",
    "| `pow`      | Raises its first argument to the power of its second argument |\n",
    "| `round`    | Rounds its argument to the nearest integer                     |\n",
    "\n",
    "Here are two call expressions that both evaluate to 3\n",
    "\n",
    "* `abs(2 - 5)`\n",
    "\n",
    "* `max(round(2.8), min(pow(2, 10), -1 * pow(2, 10)))`\n",
    "\n",
    "The expression `5 - 2` and the two call expressions given above are examples of **compound expressions**, meaning that they are actually combinations of several smaller expressions.  `5 - 2` combines the expressions `5` and `2` by subtraction.  In this case, `5` and `2` are called **subexpressions** because they're expressions that are part of a larger expression.\n",
    "\n",
    "A **statement** is a whole line of code.  Some statements are just expressions.  The expressions listed above are examples.\n",
    "\n",
    "Other statements *make something happen* rather than *having a value*. For example, an **assignment statement** assigns a value to a name. \n",
    "\n",
    "A good way to think about this is that we're **evaluating the right-hand side** of the equals sign and **assigning it to the left-hand side**. Here are some assignment statements:\n",
    "    \n",
    "* `height = 1.3`\n",
    "\n",
    "* `the_number_five = abs(-5)`\n",
    "\n",
    "* `absolute_height_difference = abs(height - 1.688)`\n",
    "\n",
    "An important idea in programming is that large, interesting things can be built by combining many simple, uninteresting things.  The key to understanding a complicated piece of code is breaking it down into its simple components.\n",
    "\n",
    "For example, a lot is going on in the last statement above, but it's really just a combination of a few things.  This picture describes what's going on.\n",
    "\n",
    "<img src=\"images/statement.png\"/>"
   ]
  },
  {
   "cell_type": "raw",
   "metadata": {},
   "source": [
    "# BEGIN QUESTION\n",
    "name: q1"
   ]
  },
  {
   "cell_type": "markdown",
   "metadata": {},
   "source": [
    "**Question 1.** In the next cell, assign the name `new_year` to the larger number among the following two numbers:\n",
    "\n",
    "1. the **absolute value** of $2^{5}-2^{11}-2^3 + 2$ , and\n",
    "\n",
    "2. $5 \\times 13 \\times 31+1$.\n",
    "\n",
    "Try to use just one statement (one line of code). Be sure to check your work by executing the test cell afterward.\n"
   ]
  },
  {
   "cell_type": "raw",
   "metadata": {},
   "source": [
    "# BEGIN SOLUTION"
   ]
  },
  {
   "cell_type": "code",
   "execution_count": 44,
   "metadata": {
    "id": "Wr-qkHGJgXrz",
    "outputId": "79aec3c4-8fb3-40c4-b583-e880a3e56673"
   },
   "outputs": [
    {
     "data": {
      "text/plain": [
       "2023"
      ]
     },
     "execution_count": 44,
     "metadata": {},
     "output_type": "execute_result"
    }
   ],
   "source": [
    "new_year = max(abs(2**5-2**11-2**3+1), 5*13*31+1) # SOLUTION\n",
    "new_year"
   ]
  },
  {
   "cell_type": "raw",
   "metadata": {},
   "source": [
    "# END SOLUTION"
   ]
  },
  {
   "cell_type": "raw",
   "metadata": {},
   "source": [
    "# BEGIN TESTS"
   ]
  },
  {
   "cell_type": "code",
   "execution_count": 45,
   "metadata": {
    "id": "Ym1NyAcEgXsC",
    "outputId": "3cb79917-dd3c-44c6-a4f7-169b94599403"
   },
   "outputs": [
    {
     "data": {
      "text/plain": [
       "2023"
      ]
     },
     "execution_count": 45,
     "metadata": {},
     "output_type": "execute_result"
    }
   ],
   "source": [
    "new_year"
   ]
  },
  {
   "cell_type": "raw",
   "metadata": {},
   "source": [
    "# END TESTS"
   ]
  },
  {
   "cell_type": "raw",
   "metadata": {},
   "source": [
    "# END QUESTION"
   ]
  },
  {
   "cell_type": "markdown",
   "metadata": {
    "id": "YMkylMSBgXsG"
   },
   "source": [
    "We've asked you to use one line of code in the question above because it only involves mathematical operations. However, more complicated programming questions will more require more steps. It isn’t always a good idea to jam these steps into a single line because it can make the code harder to read and harder to debug.\n",
    "\n",
    "Good programming practice involves splitting up your code into smaller steps and using appropriate names. You'll have plenty of opportunities to practice this throughout this course."
   ]
  },
  {
   "cell_type": "markdown",
   "metadata": {
    "id": "R6I1cmTmgXsI"
   },
   "source": [
    "# 2. Importing code\n",
    "\n",
    "> What has been will be again,  \n",
    "> what has been done will be done again;  \n",
    "> there is nothing new under the sun.\n",
    "\n",
    "Most programming involves work that is very similar to work that has been done before.  Since writing code is time-consuming, it's good to rely on others' published code when you can.  Rather than copy-pasting, Python allows us to **import modules**. A module is a file with Python code that has defined variables and functions. By importing a module, we are able to use its code in our own notebook.\n",
    "\n",
    "Python includes many useful modules that are just an import away.  We'll look at the `math` module as a first example. The `math` module is extremely useful in computing mathematical expressions in Python. \n",
    "\n",
    "Suppose we want to very accurately compute the area of a circle with a radius of 5 meters.  For that, we need the constant $\\pi$, which is roughly 3.14.  Conveniently, the `math` module has `pi` defined for us.\n",
    "\n",
    "Run the cell below."
   ]
  },
  {
   "cell_type": "code",
   "execution_count": 46,
   "metadata": {
    "id": "cTVwiUJXgXsJ",
    "outputId": "f3e2d49b-8ca7-4bfa-a4d0-fc1460f981fb"
   },
   "outputs": [
    {
     "data": {
      "text/plain": [
       "78.53981633974483"
      ]
     },
     "execution_count": 46,
     "metadata": {},
     "output_type": "execute_result"
    }
   ],
   "source": [
    "import math\n",
    "\n",
    "radius = 5\n",
    "area_of_circle = radius**2 * math.pi\n",
    "area_of_circle"
   ]
  },
  {
   "cell_type": "markdown",
   "metadata": {
    "id": "ZBVvjP0ugXsP"
   },
   "source": [
    "In the code above, the line `import math` imports the math module. This statement creates a module and then assigns the name `math` to that module. We are now able to access any variables or functions defined within `math` by typing the name of the module followed by a dot, then followed by the name of the variable or function we want."
   ]
  },
  {
   "cell_type": "raw",
   "metadata": {},
   "source": [
    "# BEGIN QUESTION\n",
    "name: q2"
   ]
  },
  {
   "cell_type": "markdown",
   "metadata": {},
   "source": [
    "**Question 2.** The module `math` also provides the name `e` for the base of the natural logarithm, which is roughly 2.71.  Compute $e^{\\pi}-\\pi$, giving it the name `near_twenty`.\n"
   ]
  },
  {
   "cell_type": "raw",
   "metadata": {},
   "source": [
    "# BEGIN SOLUTION"
   ]
  },
  {
   "cell_type": "code",
   "execution_count": 47,
   "metadata": {
    "id": "tAUKDfhegXsS",
    "outputId": "315f1e02-85dc-41f2-d6d6-e2b801242e8e"
   },
   "outputs": [
    {
     "data": {
      "text/plain": [
       "19.99909997918947"
      ]
     },
     "execution_count": 47,
     "metadata": {},
     "output_type": "execute_result"
    }
   ],
   "source": [
    "near_twenty = math.e**math.pi-math.pi # SOLUTION\n",
    "near_twenty"
   ]
  },
  {
   "cell_type": "raw",
   "metadata": {},
   "source": [
    "# END SOLUTION"
   ]
  },
  {
   "cell_type": "raw",
   "metadata": {},
   "source": [
    "# BEGIN TESTS"
   ]
  },
  {
   "cell_type": "code",
   "execution_count": 48,
   "metadata": {
    "id": "u21d-3eogXsX",
    "outputId": "16ebfe2f-dfa5-47e5-d2fe-79428041cff8"
   },
   "outputs": [
    {
     "data": {
      "text/plain": [
       "True"
      ]
     },
     "execution_count": 48,
     "metadata": {},
     "output_type": "execute_result"
    }
   ],
   "source": [
    "near_twenty != math.e**math.pi"
   ]
  },
  {
   "cell_type": "code",
   "execution_count": 49,
   "metadata": {
    "id": "L_nS3141gXsa",
    "outputId": "285aabb4-80a4-41cb-b141-65e60275f30b"
   },
   "outputs": [
    {
     "data": {
      "text/plain": [
       "19.99909997918947"
      ]
     },
     "execution_count": 49,
     "metadata": {},
     "output_type": "execute_result"
    }
   ],
   "source": [
    "near_twenty"
   ]
  },
  {
   "cell_type": "raw",
   "metadata": {},
   "source": [
    "# END TESTS"
   ]
  },
  {
   "cell_type": "raw",
   "metadata": {},
   "source": [
    "# END QUESTION"
   ]
  },
  {
   "cell_type": "raw",
   "metadata": {},
   "source": [
    "# BEGIN QUESTION\n",
    "name: q3"
   ]
  },
  {
   "cell_type": "markdown",
   "metadata": {},
   "source": [
    "## 3. Accessing Functions\n",
    "\n",
    "In the question above, you accessed variables within the `math` module. \n",
    "\n",
    "Modules also define functions.  For example, `math` provides the name `sin` for the sine function.  Having imported `math` already, we can write `math.sin(3)` to compute the sine of 3.\n",
    "\n",
    "**Note:** This sine function considers its argument to be in [radians](https://en.wikipedia.org/wiki/Radian), not degrees. 180 degrees are equivalent to $\\pi$ radians.\n",
    "\n",
    "**Question 3.** A $\\frac{\\pi}{4}$ radian (45-degree) angle forms a right triangle with equal base and height, pictured below.  If the hypotenuse (the radius of the circle in the picture) is 1, then the height is $\\sin\\left(\\frac{\\pi}{4}\\right)$.  Compute that value using `sin` and `pi` from the `math` module.  Give the result the name `sine_of_pi_over_four`.\n",
    "\n",
    "<img src=\"http://mathworld.wolfram.com/images/eps-gif/TrigonometryAnglesPi4_1000.gif\">\n",
    "\n",
    "**Source:** [Wolfram MathWorld](http://mathworld.wolfram.com/images/eps-gif/TrigonometryAnglesPi4_1000.gif)\n",
    "\n"
   ]
  },
  {
   "cell_type": "raw",
   "metadata": {},
   "source": [
    "# BEGIN SOLUTION"
   ]
  },
  {
   "cell_type": "code",
   "execution_count": 50,
   "metadata": {
    "id": "jLz3eHBbgXse",
    "outputId": "48dd3e2a-ff31-49ca-d2f9-29ac6089d9b3"
   },
   "outputs": [
    {
     "data": {
      "text/plain": [
       "0.7071067811865475"
      ]
     },
     "execution_count": 50,
     "metadata": {},
     "output_type": "execute_result"
    }
   ],
   "source": [
    "sine_of_pi_over_four = math.sin(math.pi/4) # SOLUTION\n",
    "sine_of_pi_over_four"
   ]
  },
  {
   "cell_type": "raw",
   "metadata": {},
   "source": [
    "# END SOLUTION"
   ]
  },
  {
   "cell_type": "raw",
   "metadata": {},
   "source": [
    "# BEGIN TESTS"
   ]
  },
  {
   "cell_type": "code",
   "execution_count": 51,
   "metadata": {
    "id": "4eoBW3B9gXsj",
    "outputId": "06085e75-063f-439d-bfef-6c666b4de406"
   },
   "outputs": [
    {
     "data": {
      "text/plain": [
       "0.7071067811865475"
      ]
     },
     "execution_count": 51,
     "metadata": {},
     "output_type": "execute_result"
    }
   ],
   "source": [
    "sine_of_pi_over_four"
   ]
  },
  {
   "cell_type": "raw",
   "metadata": {},
   "source": [
    "# END TESTS"
   ]
  },
  {
   "cell_type": "raw",
   "metadata": {},
   "source": [
    "# END QUESTION"
   ]
  },
  {
   "cell_type": "markdown",
   "metadata": {
    "id": "H8VoDsycgXss"
   },
   "source": [
    "For your reference, the cells below demonstrate some more examples of functions from the `math` module.\n",
    "\n",
    "Notice how different functions take in different numbers of arguments. Often, the [documentation](https://docs.python.org/3/library/math.html) of the module will provide information on how many arguments are required for each function.\n",
    "\n",
    "Run the cell below."
   ]
  },
  {
   "cell_type": "code",
   "execution_count": 52,
   "metadata": {
    "id": "j4014fPQgXst",
    "outputId": "b9784df5-e804-46f8-96b1-e8699f0f3282"
   },
   "outputs": [
    {
     "data": {
      "text/plain": [
       "3.0"
      ]
     },
     "execution_count": 52,
     "metadata": {},
     "output_type": "execute_result"
    }
   ],
   "source": [
    "# Calculating logarithms (the logarithm of 8 in base 2)\n",
    "# The result is 3 because 2 to the power of 3 is 8\n",
    "math.log(8, 2)"
   ]
  },
  {
   "cell_type": "markdown",
   "metadata": {
    "id": "YpLfOCiogXsz"
   },
   "source": [
    "Run the cell below."
   ]
  },
  {
   "cell_type": "code",
   "execution_count": 53,
   "metadata": {
    "id": "Nwn8DtQpgXs0",
    "outputId": "783ac633-3ec0-4d7e-90f6-5420561cf7e1"
   },
   "outputs": [
    {
     "data": {
      "text/plain": [
       "2.23606797749979"
      ]
     },
     "execution_count": 53,
     "metadata": {},
     "output_type": "execute_result"
    }
   ],
   "source": [
    "# Calculating square roots\n",
    "math.sqrt(5)"
   ]
  },
  {
   "cell_type": "markdown",
   "metadata": {
    "id": "iTBcquQpgXs4"
   },
   "source": [
    "There are various ways to import and access code from outside sources. The method we used above — `import <module_name>` — imports the entire module and requires that we use `<module_name>.<name>` to access its code. \n",
    "\n",
    "We can also import a specific constant or function instead of the entire module. Notice that you don't have to use the module name beforehand to reference that particular value. However, you do have to be careful about reassigning the names of the constants or functions to other values.\n",
    "\n",
    "Run the cell below."
   ]
  },
  {
   "cell_type": "code",
   "execution_count": 54,
   "metadata": {
    "id": "GKxZL2RygXs5",
    "outputId": "ffb394b1-947d-4108-b937-dd73450a077b"
   },
   "outputs": [
    {
     "name": "stdout",
     "output_type": "stream",
     "text": [
      "-1.0\n"
     ]
    },
    {
     "data": {
      "text/plain": [
       "1.1447298858494002"
      ]
     },
     "execution_count": 54,
     "metadata": {},
     "output_type": "execute_result"
    }
   ],
   "source": [
    "# Importing just cos and pi from math\n",
    "# We don't have to use `math.` in front of cos or pi\n",
    "\n",
    "from math import cos, pi\n",
    "print(cos(pi))\n",
    "\n",
    "# We do have to use it in front of other functions from math, though\n",
    "math.log(pi)"
   ]
  },
  {
   "cell_type": "markdown",
   "metadata": {
    "id": "aPhaMtM3gXs8"
   },
   "source": [
    "Or we can import every function and value from the entire module.\n",
    "\n",
    "Run the cell below."
   ]
  },
  {
   "cell_type": "code",
   "execution_count": 55,
   "metadata": {
    "id": "IYmmtADEgXs8",
    "outputId": "642cbbda-4a8f-40f3-9733-be7991b6f515"
   },
   "outputs": [
    {
     "data": {
      "text/plain": [
       "1.1447298858494002"
      ]
     },
     "execution_count": 55,
     "metadata": {},
     "output_type": "execute_result"
    }
   ],
   "source": [
    "# Lastly, we can import everything from math using the *\n",
    "# Once again, we don't have to use 'math.' beforehand \n",
    "\n",
    "from math import *\n",
    "log(pi)"
   ]
  },
  {
   "cell_type": "markdown",
   "metadata": {
    "id": "fq6QWeRqgXtA"
   },
   "source": [
    "Don't worry too much about which type of import to use. It's often a coding style choice left up to each programmer. In this course, you'll always import the necessary modules when you run the setup cell (like the first code cell in this lab)."
   ]
  },
  {
   "cell_type": "markdown",
   "metadata": {
    "id": "JaX1Lu5agXtB"
   },
   "source": [
    "# 4. Table Operations\n",
    "\n",
    "The table `farmers_markets.csv` contains data on farmers' markets in the United States  (data collected [by the USDA](https://apps.ams.usda.gov/FarmersMarketsExport/ExcelExport.aspx)).  Each row represents one such market.\n",
    "\n",
    "Run the cell below."
   ]
  },
  {
   "cell_type": "code",
   "execution_count": 56,
   "metadata": {
    "id": "HOQWOGuggXtC"
   },
   "outputs": [
    {
     "data": {
      "text/html": [
       "<table border=\"1\" class=\"dataframe\">\n",
       "    <thead>\n",
       "        <tr>\n",
       "            <th>FMID</th> <th>MarketName</th> <th>street</th> <th>city</th> <th>County</th> <th>State</th> <th>zip</th> <th>x</th> <th>y</th> <th>Website</th> <th>Facebook</th> <th>Twitter</th> <th>Youtube</th> <th>OtherMedia</th> <th>Organic</th> <th>Tofu</th> <th>Bakedgoods</th> <th>Cheese</th> <th>Crafts</th> <th>Flowers</th> <th>Eggs</th> <th>Seafood</th> <th>Herbs</th> <th>Vegetables</th> <th>Honey</th> <th>Jams</th> <th>Maple</th> <th>Meat</th> <th>Nursery</th> <th>Nuts</th> <th>Plants</th> <th>Poultry</th> <th>Prepared</th> <th>Soap</th> <th>Trees</th> <th>Wine</th> <th>Coffee</th> <th>Beans</th> <th>Fruits</th> <th>Grains</th> <th>Juices</th> <th>Mushrooms</th> <th>PetFood</th> <th>WildHarvested</th> <th>updateTime</th> <th>Location</th> <th>Credit</th> <th>WIC</th> <th>WICcash</th> <th>SFMNP</th> <th>SNAP</th> <th>Season1Date</th> <th>Season1Time</th> <th>Season2Date</th> <th>Season2Time</th> <th>Season3Date</th> <th>Season3Time</th> <th>Season4Date</th> <th>Season4Time</th>\n",
       "        </tr>\n",
       "    </thead>\n",
       "    <tbody>\n",
       "        <tr>\n",
       "            <td>1012063</td> <td> Caledonia Farmers Market Association - Danville</td> <td>nan                                                     </td> <td>Danville  </td> <td>Caledonia           </td> <td>Vermont             </td> <td>05828</td> <td>-72.1403</td> <td>44.411 </td> <td>https://sites.google.com/site/caledoniafarmersmarket/</td> <td>https://www.facebook.com/Danville.VT.Farmers.Market/        </td> <td>nan                                </td> <td>nan    </td> <td>nan                                                         </td> <td>Y      </td> <td>N   </td> <td>Y         </td> <td>Y     </td> <td>Y     </td> <td>Y      </td> <td>Y   </td> <td>N      </td> <td>Y    </td> <td>Y         </td> <td>Y    </td> <td>Y   </td> <td>Y    </td> <td>Y   </td> <td>N      </td> <td>N   </td> <td>Y     </td> <td>Y      </td> <td>Y       </td> <td>Y   </td> <td>Y    </td> <td>N   </td> <td>Y     </td> <td>Y    </td> <td>Y     </td> <td>N     </td> <td>Y     </td> <td>N        </td> <td>Y      </td> <td>N            </td> <td>6/28/2016 12:10:09 PM</td> <td>nan                                                       </td> <td>Y     </td> <td>Y   </td> <td>N      </td> <td>Y    </td> <td>N   </td> <td>06/08/2016 to 10/12/2016</td> <td>Wed: 9:00 AM-1:00 PM;                       </td> <td>nan        </td> <td>nan        </td> <td>nan        </td> <td>nan        </td> <td>nan        </td> <td>nan        </td>\n",
       "        </tr>\n",
       "        <tr>\n",
       "            <td>1011871</td> <td> Stearns Homestead Farmers' Market              </td> <td>6975 Ridge Road                                         </td> <td>Parma     </td> <td>Cuyahoga            </td> <td>Ohio                </td> <td>44130</td> <td>-81.7286</td> <td>41.3751</td> <td>http://Stearnshomestead.com                          </td> <td>nan                                                         </td> <td>nan                                </td> <td>nan    </td> <td>nan                                                         </td> <td>-      </td> <td>N   </td> <td>Y         </td> <td>N     </td> <td>N     </td> <td>Y      </td> <td>Y   </td> <td>N      </td> <td>Y    </td> <td>Y         </td> <td>Y    </td> <td>Y   </td> <td>Y    </td> <td>Y   </td> <td>N      </td> <td>N   </td> <td>Y     </td> <td>N      </td> <td>N       </td> <td>N   </td> <td>N    </td> <td>N   </td> <td>N     </td> <td>N    </td> <td>Y     </td> <td>N     </td> <td>N     </td> <td>N        </td> <td>Y      </td> <td>N            </td> <td>4/9/2016 8:05:17 PM  </td> <td>nan                                                       </td> <td>Y     </td> <td>Y   </td> <td>N      </td> <td>Y    </td> <td>Y   </td> <td>06/25/2016 to 10/01/2016</td> <td>Sat: 9:00 AM-1:00 PM;                       </td> <td>nan        </td> <td>nan        </td> <td>nan        </td> <td>nan        </td> <td>nan        </td> <td>nan        </td>\n",
       "        </tr>\n",
       "        <tr>\n",
       "            <td>1011878</td> <td>100 Mile Market                                 </td> <td>507 Harrison St                                         </td> <td>Kalamazoo </td> <td>Kalamazoo           </td> <td>Michigan            </td> <td>49007</td> <td>-85.5749</td> <td>42.296 </td> <td>http://www.pfcmarkets.com                            </td> <td>https://www.facebook.com/100MileMarket/?fref=ts             </td> <td>nan                                </td> <td>nan    </td> <td>https://www.instagram.com/100milemarket/                    </td> <td>N      </td> <td>N   </td> <td>Y         </td> <td>Y     </td> <td>N     </td> <td>Y      </td> <td>Y   </td> <td>N      </td> <td>Y    </td> <td>Y         </td> <td>Y    </td> <td>Y   </td> <td>Y    </td> <td>Y   </td> <td>N      </td> <td>N   </td> <td>N     </td> <td>Y      </td> <td>Y       </td> <td>Y   </td> <td>N    </td> <td>Y   </td> <td>N     </td> <td>N    </td> <td>Y     </td> <td>Y     </td> <td>N     </td> <td>N        </td> <td>N      </td> <td>N            </td> <td>4/16/2016 12:37:56 PM</td> <td>nan                                                       </td> <td>Y     </td> <td>Y   </td> <td>N      </td> <td>Y    </td> <td>Y   </td> <td>05/04/2016 to 10/12/2016</td> <td>Wed: 3:00 PM-7:00 PM;                       </td> <td>nan        </td> <td>nan        </td> <td>nan        </td> <td>nan        </td> <td>nan        </td> <td>nan        </td>\n",
       "        </tr>\n",
       "        <tr>\n",
       "            <td>1009364</td> <td>106 S. Main Street Farmers Market               </td> <td>106 S. Main Street                                      </td> <td>Six Mile  </td> <td>nan                 </td> <td>South Carolina      </td> <td>29682</td> <td>-82.8187</td> <td>34.8042</td> <td>http://thetownofsixmile.wordpress.com/               </td> <td>nan                                                         </td> <td>nan                                </td> <td>nan    </td> <td>nan                                                         </td> <td>-      </td> <td>N   </td> <td>N         </td> <td>N     </td> <td>N     </td> <td>N      </td> <td>N   </td> <td>N      </td> <td>N    </td> <td>N         </td> <td>N    </td> <td>N   </td> <td>N    </td> <td>N   </td> <td>N      </td> <td>N   </td> <td>N     </td> <td>N      </td> <td>N       </td> <td>N   </td> <td>N    </td> <td>N   </td> <td>N     </td> <td>N    </td> <td>N     </td> <td>N     </td> <td>N     </td> <td>N        </td> <td>N      </td> <td>N            </td> <td>2013                 </td> <td>nan                                                       </td> <td>Y     </td> <td>N   </td> <td>N      </td> <td>N    </td> <td>N   </td> <td>nan                     </td> <td>nan                                         </td> <td>nan        </td> <td>nan        </td> <td>nan        </td> <td>nan        </td> <td>nan        </td> <td>nan        </td>\n",
       "        </tr>\n",
       "        <tr>\n",
       "            <td>1010691</td> <td>10th Steet Community Farmers Market             </td> <td>10th Street and Poplar                                  </td> <td>Lamar     </td> <td>Barton              </td> <td>Missouri            </td> <td>64759</td> <td>-94.2746</td> <td>37.4956</td> <td>nan                                                  </td> <td>nan                                                         </td> <td>nan                                </td> <td>nan    </td> <td>http://agrimissouri.com/mo-grown/grodetail.php?type=mo-g ...</td> <td>-      </td> <td>N   </td> <td>Y         </td> <td>N     </td> <td>Y     </td> <td>N      </td> <td>Y   </td> <td>N      </td> <td>Y    </td> <td>Y         </td> <td>Y    </td> <td>Y   </td> <td>N    </td> <td>Y   </td> <td>N      </td> <td>N   </td> <td>Y     </td> <td>Y      </td> <td>Y       </td> <td>Y   </td> <td>N    </td> <td>N   </td> <td>N     </td> <td>N    </td> <td>Y     </td> <td>N     </td> <td>N     </td> <td>N        </td> <td>N      </td> <td>N            </td> <td>10/28/2014 9:49:46 AM</td> <td>nan                                                       </td> <td>Y     </td> <td>N   </td> <td>N      </td> <td>N    </td> <td>N   </td> <td>04/02/2014 to 11/30/2014</td> <td>Wed: 3:00 PM-6:00 PM;Sat: 8:00 AM-1:00 PM;  </td> <td>nan        </td> <td>nan        </td> <td>nan        </td> <td>nan        </td> <td>nan        </td> <td>nan        </td>\n",
       "        </tr>\n",
       "        <tr>\n",
       "            <td>1002454</td> <td>112st Madison Avenue                            </td> <td>112th Madison Avenue                                    </td> <td>New York  </td> <td>New York            </td> <td>New York            </td> <td>10029</td> <td>-73.9493</td> <td>40.7939</td> <td>nan                                                  </td> <td>nan                                                         </td> <td>nan                                </td> <td>nan    </td> <td>nan                                                         </td> <td>-      </td> <td>N   </td> <td>Y         </td> <td>N     </td> <td>Y     </td> <td>Y      </td> <td>N   </td> <td>N      </td> <td>Y    </td> <td>Y         </td> <td>Y    </td> <td>Y   </td> <td>N    </td> <td>N   </td> <td>N      </td> <td>Y   </td> <td>N     </td> <td>N      </td> <td>Y       </td> <td>Y   </td> <td>N    </td> <td>N   </td> <td>N     </td> <td>N    </td> <td>N     </td> <td>N     </td> <td>N     </td> <td>N        </td> <td>N      </td> <td>N            </td> <td>3/1/2012 10:38:22 AM </td> <td>Private business parking lot                              </td> <td>N     </td> <td>N   </td> <td>Y      </td> <td>Y    </td> <td>N   </td> <td>July to November        </td> <td>Tue:8:00 am - 5:00 pm;Sat:8:00 am - 8:00 pm;</td> <td>nan        </td> <td>nan        </td> <td>nan        </td> <td>nan        </td> <td>nan        </td> <td>nan        </td>\n",
       "        </tr>\n",
       "        <tr>\n",
       "            <td>1011100</td> <td>12 South Farmers Market                         </td> <td>3000 Granny White Pike                                  </td> <td>Nashville </td> <td>Davidson            </td> <td>Tennessee           </td> <td>37204</td> <td>-86.7907</td> <td>36.1184</td> <td>http://www.12southfarmersmarket.com                  </td> <td>12_South_Farmers_Market                                     </td> <td>@12southfrmsmkt                    </td> <td>nan    </td> <td>@12southfrmsmkt                                             </td> <td>Y      </td> <td>N   </td> <td>Y         </td> <td>Y     </td> <td>N     </td> <td>Y      </td> <td>Y   </td> <td>N      </td> <td>Y    </td> <td>Y         </td> <td>Y    </td> <td>Y   </td> <td>Y    </td> <td>Y   </td> <td>N      </td> <td>N   </td> <td>N     </td> <td>Y      </td> <td>Y       </td> <td>Y   </td> <td>N    </td> <td>N   </td> <td>Y     </td> <td>N    </td> <td>Y     </td> <td>N     </td> <td>Y     </td> <td>Y        </td> <td>Y      </td> <td>N            </td> <td>5/1/2015 10:40:56 AM </td> <td>nan                                                       </td> <td>Y     </td> <td>N   </td> <td>N      </td> <td>N    </td> <td>Y   </td> <td>05/05/2015 to 10/27/2015</td> <td>Tue: 3:30 PM-6:30 PM;                       </td> <td>nan        </td> <td>nan        </td> <td>nan        </td> <td>nan        </td> <td>nan        </td> <td>nan        </td>\n",
       "        </tr>\n",
       "        <tr>\n",
       "            <td>1009845</td> <td>125th Street Fresh Connect Farmers' Market      </td> <td>163 West 125th Street and Adam Clayton Powell, Jr. Blvd.</td> <td>New York  </td> <td>New York            </td> <td>New York            </td> <td>10027</td> <td>-73.9482</td> <td>40.809 </td> <td>http://www.125thStreetFarmersMarket.com              </td> <td>https://www.facebook.com/125thStreetFarmersMarket           </td> <td>https://twitter.com/FarmMarket125th</td> <td>nan    </td> <td>Instagram--> 125thStreetFarmersMarket                       </td> <td>Y      </td> <td>N   </td> <td>Y         </td> <td>Y     </td> <td>Y     </td> <td>Y      </td> <td>Y   </td> <td>N      </td> <td>Y    </td> <td>Y         </td> <td>Y    </td> <td>Y   </td> <td>Y    </td> <td>Y   </td> <td>N      </td> <td>Y   </td> <td>N     </td> <td>Y      </td> <td>Y       </td> <td>Y   </td> <td>N    </td> <td>Y   </td> <td>Y     </td> <td>N    </td> <td>Y     </td> <td>N     </td> <td>Y     </td> <td>N        </td> <td>N      </td> <td>N            </td> <td>4/7/2014 4:32:01 PM  </td> <td>Federal/State government building grounds                 </td> <td>Y     </td> <td>Y   </td> <td>N      </td> <td>Y    </td> <td>Y   </td> <td>06/10/2014 to 11/25/2014</td> <td>Tue: 10:00 AM-7:00 PM;                      </td> <td>nan        </td> <td>nan        </td> <td>nan        </td> <td>nan        </td> <td>nan        </td> <td>nan        </td>\n",
       "        </tr>\n",
       "        <tr>\n",
       "            <td>1005586</td> <td>12th & Brandywine Urban Farm Market             </td> <td>12th & Brandywine Streets                               </td> <td>Wilmington</td> <td>New Castle          </td> <td>Delaware            </td> <td>19801</td> <td>-75.5345</td> <td>39.7421</td> <td>nan                                                  </td> <td>https://www.facebook.com/pages/12th-Brandywine-Urban-Far ...</td> <td>nan                                </td> <td>nan    </td> <td>https://www.facebook.com/delawareurbanfarmcoalition         </td> <td>N      </td> <td>N   </td> <td>N         </td> <td>N     </td> <td>N     </td> <td>N      </td> <td>N   </td> <td>N      </td> <td>Y    </td> <td>Y         </td> <td>N    </td> <td>N   </td> <td>N    </td> <td>N   </td> <td>N      </td> <td>N   </td> <td>N     </td> <td>N      </td> <td>N       </td> <td>N   </td> <td>N    </td> <td>N   </td> <td>N     </td> <td>N    </td> <td>Y     </td> <td>N     </td> <td>N     </td> <td>N        </td> <td>N      </td> <td>N            </td> <td>4/3/2014 3:43:31 PM  </td> <td>On a farm from: a barn, a greenhouse, a tent, a stand, etc</td> <td>N     </td> <td>N   </td> <td>N      </td> <td>N    </td> <td>Y   </td> <td>05/16/2014 to 10/17/2014</td> <td>Fri: 8:00 AM-11:00 AM;                      </td> <td>nan        </td> <td>nan        </td> <td>nan        </td> <td>nan        </td> <td>nan        </td> <td>nan        </td>\n",
       "        </tr>\n",
       "        <tr>\n",
       "            <td>1008071</td> <td>14&U Farmers' Market                            </td> <td>1400 U Street NW                                        </td> <td>Washington</td> <td>District of Columbia</td> <td>District of Columbia</td> <td>20009</td> <td>-77.0321</td> <td>38.917 </td> <td>nan                                                  </td> <td>https://www.facebook.com/14UFarmersMarket                   </td> <td>https://twitter.com/14UFarmersMkt  </td> <td>nan    </td> <td>nan                                                         </td> <td>Y      </td> <td>N   </td> <td>Y         </td> <td>Y     </td> <td>N     </td> <td>Y      </td> <td>Y   </td> <td>N      </td> <td>Y    </td> <td>Y         </td> <td>Y    </td> <td>Y   </td> <td>N    </td> <td>Y   </td> <td>N      </td> <td>Y   </td> <td>Y     </td> <td>Y      </td> <td>N       </td> <td>N   </td> <td>N    </td> <td>N   </td> <td>N     </td> <td>Y    </td> <td>Y     </td> <td>Y     </td> <td>Y     </td> <td>N        </td> <td>N      </td> <td>N            </td> <td>4/5/2014 1:49:04 PM  </td> <td>Other                                                     </td> <td>Y     </td> <td>Y   </td> <td>Y      </td> <td>Y    </td> <td>Y   </td> <td>05/03/2014 to 11/22/2014</td> <td>Sat: 9:00 AM-1:00 PM;                       </td> <td>nan        </td> <td>nan        </td> <td>nan        </td> <td>nan        </td> <td>nan        </td> <td>nan        </td>\n",
       "        </tr>\n",
       "    </tbody>\n",
       "</table>\n",
       "<p>... (8536 rows omitted)</p>"
      ],
      "text/plain": [
       "FMID    | MarketName                                       | street                                                   | city       | County               | State                | zip   | x        | y       | Website                                               | Facebook                                                     | Twitter                             | Youtube | OtherMedia                                                   | Organic | Tofu | Bakedgoods | Cheese | Crafts | Flowers | Eggs | Seafood | Herbs | Vegetables | Honey | Jams | Maple | Meat | Nursery | Nuts | Plants | Poultry | Prepared | Soap | Trees | Wine | Coffee | Beans | Fruits | Grains | Juices | Mushrooms | PetFood | WildHarvested | updateTime            | Location                                                   | Credit | WIC  | WICcash | SFMNP | SNAP | Season1Date              | Season1Time                                  | Season2Date | Season2Time | Season3Date | Season3Time | Season4Date | Season4Time\n",
       "1012063 |  Caledonia Farmers Market Association - Danville | nan                                                      | Danville   | Caledonia            | Vermont              | 05828 | -72.1403 | 44.411  | https://sites.google.com/site/caledoniafarmersmarket/ | https://www.facebook.com/Danville.VT.Farmers.Market/         | nan                                 | nan     | nan                                                          | Y       | N    | Y          | Y      | Y      | Y       | Y    | N       | Y     | Y          | Y     | Y    | Y     | Y    | N       | N    | Y      | Y       | Y        | Y    | Y     | N    | Y      | Y     | Y      | N      | Y      | N         | Y       | N             | 6/28/2016 12:10:09 PM | nan                                                        | Y      | Y    | N       | Y     | N    | 06/08/2016 to 10/12/2016 | Wed: 9:00 AM-1:00 PM;                        | nan         | nan         | nan         | nan         | nan         | nan\n",
       "1011871 |  Stearns Homestead Farmers' Market               | 6975 Ridge Road                                          | Parma      | Cuyahoga             | Ohio                 | 44130 | -81.7286 | 41.3751 | http://Stearnshomestead.com                           | nan                                                          | nan                                 | nan     | nan                                                          | -       | N    | Y          | N      | N      | Y       | Y    | N       | Y     | Y          | Y     | Y    | Y     | Y    | N       | N    | Y      | N       | N        | N    | N     | N    | N      | N     | Y      | N      | N      | N         | Y       | N             | 4/9/2016 8:05:17 PM   | nan                                                        | Y      | Y    | N       | Y     | Y    | 06/25/2016 to 10/01/2016 | Sat: 9:00 AM-1:00 PM;                        | nan         | nan         | nan         | nan         | nan         | nan\n",
       "1011878 | 100 Mile Market                                  | 507 Harrison St                                          | Kalamazoo  | Kalamazoo            | Michigan             | 49007 | -85.5749 | 42.296  | http://www.pfcmarkets.com                             | https://www.facebook.com/100MileMarket/?fref=ts              | nan                                 | nan     | https://www.instagram.com/100milemarket/                     | N       | N    | Y          | Y      | N      | Y       | Y    | N       | Y     | Y          | Y     | Y    | Y     | Y    | N       | N    | N      | Y       | Y        | Y    | N     | Y    | N      | N     | Y      | Y      | N      | N         | N       | N             | 4/16/2016 12:37:56 PM | nan                                                        | Y      | Y    | N       | Y     | Y    | 05/04/2016 to 10/12/2016 | Wed: 3:00 PM-7:00 PM;                        | nan         | nan         | nan         | nan         | nan         | nan\n",
       "1009364 | 106 S. Main Street Farmers Market                | 106 S. Main Street                                       | Six Mile   | nan                  | South Carolina       | 29682 | -82.8187 | 34.8042 | http://thetownofsixmile.wordpress.com/                | nan                                                          | nan                                 | nan     | nan                                                          | -       | N    | N          | N      | N      | N       | N    | N       | N     | N          | N     | N    | N     | N    | N       | N    | N      | N       | N        | N    | N     | N    | N      | N     | N      | N      | N      | N         | N       | N             | 2013                  | nan                                                        | Y      | N    | N       | N     | N    | nan                      | nan                                          | nan         | nan         | nan         | nan         | nan         | nan\n",
       "1010691 | 10th Steet Community Farmers Market              | 10th Street and Poplar                                   | Lamar      | Barton               | Missouri             | 64759 | -94.2746 | 37.4956 | nan                                                   | nan                                                          | nan                                 | nan     | http://agrimissouri.com/mo-grown/grodetail.php?type=mo-g ... | -       | N    | Y          | N      | Y      | N       | Y    | N       | Y     | Y          | Y     | Y    | N     | Y    | N       | N    | Y      | Y       | Y        | Y    | N     | N    | N      | N     | Y      | N      | N      | N         | N       | N             | 10/28/2014 9:49:46 AM | nan                                                        | Y      | N    | N       | N     | N    | 04/02/2014 to 11/30/2014 | Wed: 3:00 PM-6:00 PM;Sat: 8:00 AM-1:00 PM;   | nan         | nan         | nan         | nan         | nan         | nan\n",
       "1002454 | 112st Madison Avenue                             | 112th Madison Avenue                                     | New York   | New York             | New York             | 10029 | -73.9493 | 40.7939 | nan                                                   | nan                                                          | nan                                 | nan     | nan                                                          | -       | N    | Y          | N      | Y      | Y       | N    | N       | Y     | Y          | Y     | Y    | N     | N    | N       | Y    | N      | N       | Y        | Y    | N     | N    | N      | N     | N      | N      | N      | N         | N       | N             | 3/1/2012 10:38:22 AM  | Private business parking lot                               | N      | N    | Y       | Y     | N    | July to November         | Tue:8:00 am - 5:00 pm;Sat:8:00 am - 8:00 pm; | nan         | nan         | nan         | nan         | nan         | nan\n",
       "1011100 | 12 South Farmers Market                          | 3000 Granny White Pike                                   | Nashville  | Davidson             | Tennessee            | 37204 | -86.7907 | 36.1184 | http://www.12southfarmersmarket.com                   | 12_South_Farmers_Market                                      | @12southfrmsmkt                     | nan     | @12southfrmsmkt                                              | Y       | N    | Y          | Y      | N      | Y       | Y    | N       | Y     | Y          | Y     | Y    | Y     | Y    | N       | N    | N      | Y       | Y        | Y    | N     | N    | Y      | N     | Y      | N      | Y      | Y         | Y       | N             | 5/1/2015 10:40:56 AM  | nan                                                        | Y      | N    | N       | N     | Y    | 05/05/2015 to 10/27/2015 | Tue: 3:30 PM-6:30 PM;                        | nan         | nan         | nan         | nan         | nan         | nan\n",
       "1009845 | 125th Street Fresh Connect Farmers' Market       | 163 West 125th Street and Adam Clayton Powell, Jr. Blvd. | New York   | New York             | New York             | 10027 | -73.9482 | 40.809  | http://www.125thStreetFarmersMarket.com               | https://www.facebook.com/125thStreetFarmersMarket            | https://twitter.com/FarmMarket125th | nan     | Instagram--> 125thStreetFarmersMarket                        | Y       | N    | Y          | Y      | Y      | Y       | Y    | N       | Y     | Y          | Y     | Y    | Y     | Y    | N       | Y    | N      | Y       | Y        | Y    | N     | Y    | Y      | N     | Y      | N      | Y      | N         | N       | N             | 4/7/2014 4:32:01 PM   | Federal/State government building grounds                  | Y      | Y    | N       | Y     | Y    | 06/10/2014 to 11/25/2014 | Tue: 10:00 AM-7:00 PM;                       | nan         | nan         | nan         | nan         | nan         | nan\n",
       "1005586 | 12th & Brandywine Urban Farm Market              | 12th & Brandywine Streets                                | Wilmington | New Castle           | Delaware             | 19801 | -75.5345 | 39.7421 | nan                                                   | https://www.facebook.com/pages/12th-Brandywine-Urban-Far ... | nan                                 | nan     | https://www.facebook.com/delawareurbanfarmcoalition          | N       | N    | N          | N      | N      | N       | N    | N       | Y     | Y          | N     | N    | N     | N    | N       | N    | N      | N       | N        | N    | N     | N    | N      | N     | Y      | N      | N      | N         | N       | N             | 4/3/2014 3:43:31 PM   | On a farm from: a barn, a greenhouse, a tent, a stand, etc | N      | N    | N       | N     | Y    | 05/16/2014 to 10/17/2014 | Fri: 8:00 AM-11:00 AM;                       | nan         | nan         | nan         | nan         | nan         | nan\n",
       "1008071 | 14&U Farmers' Market                             | 1400 U Street NW                                         | Washington | District of Columbia | District of Columbia | 20009 | -77.0321 | 38.917  | nan                                                   | https://www.facebook.com/14UFarmersMarket                    | https://twitter.com/14UFarmersMkt   | nan     | nan                                                          | Y       | N    | Y          | Y      | N      | Y       | Y    | N       | Y     | Y          | Y     | Y    | N     | Y    | N       | Y    | Y      | Y       | N        | N    | N     | N    | N      | Y     | Y      | Y      | Y      | N         | N       | N             | 4/5/2014 1:49:04 PM   | Other                                                      | Y      | Y    | Y       | Y     | Y    | 05/03/2014 to 11/22/2014 | Sat: 9:00 AM-1:00 PM;                        | nan         | nan         | nan         | nan         | nan         | nan\n",
       "... (8536 rows omitted)"
      ]
     },
     "execution_count": 56,
     "metadata": {},
     "output_type": "execute_result"
    }
   ],
   "source": [
    "farmers_markets = Table.read_table('data/farmers_markets.csv')\n",
    "farmers_markets"
   ]
  },
  {
   "cell_type": "raw",
   "metadata": {},
   "source": [
    "# BEGIN QUESTION\n",
    "name: q4\n",
    "manual: true"
   ]
  },
  {
   "cell_type": "markdown",
   "metadata": {},
   "source": [
    "Let's examine our table to see what data it contains.\n",
    "\n",
    "**Question 4.** Use the method `show` to display the first 5 rows of `farmers_markets`.\n",
    "\n",
    "**Note:** The terms \"method\" and \"function\" are technically not the same thing, but for the purposes of this course, we will use them interchangeably.\n",
    "\n",
    "**Warning:** Make sure not to call `.show()` without an argument, as this will **crash your kernel**.\n"
   ]
  },
  {
   "cell_type": "raw",
   "metadata": {},
   "source": [
    "# BEGIN SOLUTION"
   ]
  },
  {
   "cell_type": "code",
   "execution_count": 57,
   "metadata": {
    "id": "8j9vvzRogXtI",
    "outputId": "c74cb54a-c23b-4179-8fc7-f69d37fe48c5"
   },
   "outputs": [
    {
     "data": {
      "text/html": [
       "<table border=\"1\" class=\"dataframe\">\n",
       "    <thead>\n",
       "        <tr>\n",
       "            <th>FMID</th> <th>MarketName</th> <th>street</th> <th>city</th> <th>County</th> <th>State</th> <th>zip</th> <th>x</th> <th>y</th> <th>Website</th> <th>Facebook</th> <th>Twitter</th> <th>Youtube</th> <th>OtherMedia</th> <th>Organic</th> <th>Tofu</th> <th>Bakedgoods</th> <th>Cheese</th> <th>Crafts</th> <th>Flowers</th> <th>Eggs</th> <th>Seafood</th> <th>Herbs</th> <th>Vegetables</th> <th>Honey</th> <th>Jams</th> <th>Maple</th> <th>Meat</th> <th>Nursery</th> <th>Nuts</th> <th>Plants</th> <th>Poultry</th> <th>Prepared</th> <th>Soap</th> <th>Trees</th> <th>Wine</th> <th>Coffee</th> <th>Beans</th> <th>Fruits</th> <th>Grains</th> <th>Juices</th> <th>Mushrooms</th> <th>PetFood</th> <th>WildHarvested</th> <th>updateTime</th> <th>Location</th> <th>Credit</th> <th>WIC</th> <th>WICcash</th> <th>SFMNP</th> <th>SNAP</th> <th>Season1Date</th> <th>Season1Time</th> <th>Season2Date</th> <th>Season2Time</th> <th>Season3Date</th> <th>Season3Time</th> <th>Season4Date</th> <th>Season4Time</th>\n",
       "        </tr>\n",
       "    </thead>\n",
       "    <tbody>\n",
       "        <tr>\n",
       "            <td>1012063</td> <td> Caledonia Farmers Market Association - Danville</td> <td>nan                   </td> <td>Danville </td> <td>Caledonia</td> <td>Vermont       </td> <td>05828</td> <td>-72.1403</td> <td>44.411 </td> <td>https://sites.google.com/site/caledoniafarmersmarket/</td> <td>https://www.facebook.com/Danville.VT.Farmers.Market/</td> <td>nan    </td> <td>nan    </td> <td>nan                                                         </td> <td>Y      </td> <td>N   </td> <td>Y         </td> <td>Y     </td> <td>Y     </td> <td>Y      </td> <td>Y   </td> <td>N      </td> <td>Y    </td> <td>Y         </td> <td>Y    </td> <td>Y   </td> <td>Y    </td> <td>Y   </td> <td>N      </td> <td>N   </td> <td>Y     </td> <td>Y      </td> <td>Y       </td> <td>Y   </td> <td>Y    </td> <td>N   </td> <td>Y     </td> <td>Y    </td> <td>Y     </td> <td>N     </td> <td>Y     </td> <td>N        </td> <td>Y      </td> <td>N            </td> <td>6/28/2016 12:10:09 PM</td> <td>nan     </td> <td>Y     </td> <td>Y   </td> <td>N      </td> <td>Y    </td> <td>N   </td> <td>06/08/2016 to 10/12/2016</td> <td>Wed: 9:00 AM-1:00 PM;                     </td> <td>nan        </td> <td>nan        </td> <td>nan        </td> <td>nan        </td> <td>nan        </td> <td>nan        </td>\n",
       "        </tr>\n",
       "        <tr>\n",
       "            <td>1011871</td> <td> Stearns Homestead Farmers' Market              </td> <td>6975 Ridge Road       </td> <td>Parma    </td> <td>Cuyahoga </td> <td>Ohio          </td> <td>44130</td> <td>-81.7286</td> <td>41.3751</td> <td>http://Stearnshomestead.com                          </td> <td>nan                                                 </td> <td>nan    </td> <td>nan    </td> <td>nan                                                         </td> <td>-      </td> <td>N   </td> <td>Y         </td> <td>N     </td> <td>N     </td> <td>Y      </td> <td>Y   </td> <td>N      </td> <td>Y    </td> <td>Y         </td> <td>Y    </td> <td>Y   </td> <td>Y    </td> <td>Y   </td> <td>N      </td> <td>N   </td> <td>Y     </td> <td>N      </td> <td>N       </td> <td>N   </td> <td>N    </td> <td>N   </td> <td>N     </td> <td>N    </td> <td>Y     </td> <td>N     </td> <td>N     </td> <td>N        </td> <td>Y      </td> <td>N            </td> <td>4/9/2016 8:05:17 PM  </td> <td>nan     </td> <td>Y     </td> <td>Y   </td> <td>N      </td> <td>Y    </td> <td>Y   </td> <td>06/25/2016 to 10/01/2016</td> <td>Sat: 9:00 AM-1:00 PM;                     </td> <td>nan        </td> <td>nan        </td> <td>nan        </td> <td>nan        </td> <td>nan        </td> <td>nan        </td>\n",
       "        </tr>\n",
       "        <tr>\n",
       "            <td>1011878</td> <td>100 Mile Market                                 </td> <td>507 Harrison St       </td> <td>Kalamazoo</td> <td>Kalamazoo</td> <td>Michigan      </td> <td>49007</td> <td>-85.5749</td> <td>42.296 </td> <td>http://www.pfcmarkets.com                            </td> <td>https://www.facebook.com/100MileMarket/?fref=ts     </td> <td>nan    </td> <td>nan    </td> <td>https://www.instagram.com/100milemarket/                    </td> <td>N      </td> <td>N   </td> <td>Y         </td> <td>Y     </td> <td>N     </td> <td>Y      </td> <td>Y   </td> <td>N      </td> <td>Y    </td> <td>Y         </td> <td>Y    </td> <td>Y   </td> <td>Y    </td> <td>Y   </td> <td>N      </td> <td>N   </td> <td>N     </td> <td>Y      </td> <td>Y       </td> <td>Y   </td> <td>N    </td> <td>Y   </td> <td>N     </td> <td>N    </td> <td>Y     </td> <td>Y     </td> <td>N     </td> <td>N        </td> <td>N      </td> <td>N            </td> <td>4/16/2016 12:37:56 PM</td> <td>nan     </td> <td>Y     </td> <td>Y   </td> <td>N      </td> <td>Y    </td> <td>Y   </td> <td>05/04/2016 to 10/12/2016</td> <td>Wed: 3:00 PM-7:00 PM;                     </td> <td>nan        </td> <td>nan        </td> <td>nan        </td> <td>nan        </td> <td>nan        </td> <td>nan        </td>\n",
       "        </tr>\n",
       "        <tr>\n",
       "            <td>1009364</td> <td>106 S. Main Street Farmers Market               </td> <td>106 S. Main Street    </td> <td>Six Mile </td> <td>nan      </td> <td>South Carolina</td> <td>29682</td> <td>-82.8187</td> <td>34.8042</td> <td>http://thetownofsixmile.wordpress.com/               </td> <td>nan                                                 </td> <td>nan    </td> <td>nan    </td> <td>nan                                                         </td> <td>-      </td> <td>N   </td> <td>N         </td> <td>N     </td> <td>N     </td> <td>N      </td> <td>N   </td> <td>N      </td> <td>N    </td> <td>N         </td> <td>N    </td> <td>N   </td> <td>N    </td> <td>N   </td> <td>N      </td> <td>N   </td> <td>N     </td> <td>N      </td> <td>N       </td> <td>N   </td> <td>N    </td> <td>N   </td> <td>N     </td> <td>N    </td> <td>N     </td> <td>N     </td> <td>N     </td> <td>N        </td> <td>N      </td> <td>N            </td> <td>2013                 </td> <td>nan     </td> <td>Y     </td> <td>N   </td> <td>N      </td> <td>N    </td> <td>N   </td> <td>nan                     </td> <td>nan                                       </td> <td>nan        </td> <td>nan        </td> <td>nan        </td> <td>nan        </td> <td>nan        </td> <td>nan        </td>\n",
       "        </tr>\n",
       "        <tr>\n",
       "            <td>1010691</td> <td>10th Steet Community Farmers Market             </td> <td>10th Street and Poplar</td> <td>Lamar    </td> <td>Barton   </td> <td>Missouri      </td> <td>64759</td> <td>-94.2746</td> <td>37.4956</td> <td>nan                                                  </td> <td>nan                                                 </td> <td>nan    </td> <td>nan    </td> <td>http://agrimissouri.com/mo-grown/grodetail.php?type=mo-g ...</td> <td>-      </td> <td>N   </td> <td>Y         </td> <td>N     </td> <td>Y     </td> <td>N      </td> <td>Y   </td> <td>N      </td> <td>Y    </td> <td>Y         </td> <td>Y    </td> <td>Y   </td> <td>N    </td> <td>Y   </td> <td>N      </td> <td>N   </td> <td>Y     </td> <td>Y      </td> <td>Y       </td> <td>Y   </td> <td>N    </td> <td>N   </td> <td>N     </td> <td>N    </td> <td>Y     </td> <td>N     </td> <td>N     </td> <td>N        </td> <td>N      </td> <td>N            </td> <td>10/28/2014 9:49:46 AM</td> <td>nan     </td> <td>Y     </td> <td>N   </td> <td>N      </td> <td>N    </td> <td>N   </td> <td>04/02/2014 to 11/30/2014</td> <td>Wed: 3:00 PM-6:00 PM;Sat: 8:00 AM-1:00 PM;</td> <td>nan        </td> <td>nan        </td> <td>nan        </td> <td>nan        </td> <td>nan        </td> <td>nan        </td>\n",
       "        </tr>\n",
       "    </tbody>\n",
       "</table>\n",
       "<p>... (8541 rows omitted)</p>"
      ],
      "text/plain": [
       "<IPython.core.display.HTML object>"
      ]
     },
     "metadata": {},
     "output_type": "display_data"
    }
   ],
   "source": [
    "farmers_markets.show(5) # SOLUTION"
   ]
  },
  {
   "cell_type": "raw",
   "metadata": {},
   "source": [
    "# END SOLUTION"
   ]
  },
  {
   "cell_type": "raw",
   "metadata": {},
   "source": [
    "# END QUESTION"
   ]
  },
  {
   "cell_type": "raw",
   "metadata": {},
   "source": [
    "# BEGIN QUESTION\n",
    "name: q5"
   ]
  },
  {
   "cell_type": "markdown",
   "metadata": {},
   "source": [
    "Notice that some of the values in this table are missing, as denoted by \"`nan`.\" This means either that the value is not available (e.g. if we don’t know the market’s street address) or not applicable (e.g. if the market doesn’t have a street address). You'll also notice that the table has a large number of columns in it.\n",
    "\n",
    "The table property `num_columns` returns the number of columns in a table. A *\"property\"* is just a method that doesn't need to be called by adding parentheses.\n",
    "\n",
    "Example call: `<tbl>.num_columns`\n",
    "\n",
    "**Question 5.** Use `num_columns` to find the number of columns in our farmers' markets dataset.\n",
    "\n",
    "Assign the number of columns to `num_farmers_markets_columns`.\n"
   ]
  },
  {
   "cell_type": "raw",
   "metadata": {},
   "source": [
    "# BEGIN SOLUTION"
   ]
  },
  {
   "cell_type": "code",
   "execution_count": 58,
   "metadata": {
    "id": "HHs3M--rgXtM",
    "outputId": "4f542840-be34-4ad8-93f7-5e9e5cb928f0"
   },
   "outputs": [
    {
     "name": "stdout",
     "output_type": "stream",
     "text": [
      "The table has 59 columns in it.\n"
     ]
    }
   ],
   "source": [
    "num_farmers_markets_columns = farmers_markets.num_columns # SOLUTION\n",
    "print('The table has', num_farmers_markets_columns, 'columns in it.')"
   ]
  },
  {
   "cell_type": "raw",
   "metadata": {},
   "source": [
    "# END SOLUTION"
   ]
  },
  {
   "cell_type": "raw",
   "metadata": {},
   "source": [
    "# BEGIN TESTS"
   ]
  },
  {
   "cell_type": "code",
   "execution_count": 59,
   "metadata": {
    "id": "Tn_D9EL0gXtP",
    "outputId": "6b96dc36-ab03-44ee-c10b-c028586ca842"
   },
   "outputs": [
    {
     "data": {
      "text/plain": [
       "True"
      ]
     },
     "execution_count": 59,
     "metadata": {},
     "output_type": "execute_result"
    }
   ],
   "source": [
    "num_farmers_markets_columns == farmers_markets.num_columns"
   ]
  },
  {
   "cell_type": "raw",
   "metadata": {},
   "source": [
    "# END TESTS"
   ]
  },
  {
   "cell_type": "raw",
   "metadata": {},
   "source": [
    "# END QUESTION"
   ]
  },
  {
   "cell_type": "raw",
   "metadata": {},
   "source": [
    "# BEGIN QUESTION\n",
    "name: q6"
   ]
  },
  {
   "cell_type": "markdown",
   "metadata": {},
   "source": [
    "Similarly, the property `num_rows` tells you how many rows are in a table.\n",
    "\n",
    "**Question 6.** Assign the number of rows to `num_farmers_markets_rows`.\n"
   ]
  },
  {
   "cell_type": "raw",
   "metadata": {},
   "source": [
    "# BEGIN SOLUTION"
   ]
  },
  {
   "cell_type": "code",
   "execution_count": 60,
   "metadata": {
    "id": "13WB6RzJgXtT",
    "outputId": "428c148f-3451-44d3-86a4-0ff4b0bda7a9"
   },
   "outputs": [
    {
     "name": "stdout",
     "output_type": "stream",
     "text": [
      "The table has 8546 rows in it.\n"
     ]
    }
   ],
   "source": [
    "num_farmers_markets_rows = farmers_markets.num_rows # SOLUTION\n",
    "print(\"The table has\", num_farmers_markets_rows, \"rows in it.\")"
   ]
  },
  {
   "cell_type": "raw",
   "metadata": {},
   "source": [
    "# END SOLUTION"
   ]
  },
  {
   "cell_type": "raw",
   "metadata": {},
   "source": [
    "# BEGIN TESTS"
   ]
  },
  {
   "cell_type": "code",
   "execution_count": 61,
   "metadata": {
    "id": "ofzztGG6gXtZ",
    "outputId": "f30fe668-2f91-4a3f-9893-cef3d7c50d38"
   },
   "outputs": [
    {
     "data": {
      "text/plain": [
       "True"
      ]
     },
     "execution_count": 61,
     "metadata": {},
     "output_type": "execute_result"
    }
   ],
   "source": [
    "num_farmers_markets_rows == farmers_markets.num_rows"
   ]
  },
  {
   "cell_type": "raw",
   "metadata": {},
   "source": [
    "# END TESTS"
   ]
  },
  {
   "cell_type": "raw",
   "metadata": {},
   "source": [
    "# END QUESTION"
   ]
  },
  {
   "cell_type": "raw",
   "metadata": {},
   "source": [
    "# BEGIN QUESTION\n",
    "name: q7"
   ]
  },
  {
   "cell_type": "markdown",
   "metadata": {},
   "source": [
    "Most of the columns are about particular products -- whether the market sells tofu, pet food, etc.  If we're not interested in that information, it just makes the table difficult to read.  This comes up more than you might think, because people who collect and publish data may not know ahead of time what people will want to do with it.\n",
    "\n",
    "In such situations, we can use the table method `select` to choose only the columns that we want in a particular table. It takes any number of arguments. Each should be the name of a column in the table. It returns a new table with only those columns in it. The columns are in the order in which they were listed as arguments.\n",
    "\n",
    "For example, the value of `farmers_markets.select(\"MarketName\", \"State\")` is a table with only the name and the state of each farmers' market in `farmers_markets`.\n",
    "\n",
    "\n",
    "\n",
    "**Question 7.** Use `select` to create a table with only the name, city, state, latitude (`y`), and longitude (`x`) of each market.  Call that new table `farmers_markets_locations`.\n",
    "\n",
    "**Hint:** Make sure to be exact when using column names with `select`; double-check capitalization.\n"
   ]
  },
  {
   "cell_type": "raw",
   "metadata": {},
   "source": [
    "# BEGIN SOLUTION"
   ]
  },
  {
   "cell_type": "code",
   "execution_count": 62,
   "metadata": {
    "id": "cFK-doFSgXtf",
    "outputId": "5baf7d21-46ae-4e7f-9391-320f648a8312"
   },
   "outputs": [
    {
     "data": {
      "text/html": [
       "<table border=\"1\" class=\"dataframe\">\n",
       "    <thead>\n",
       "        <tr>\n",
       "            <th>MarketName</th> <th>city</th> <th>State</th> <th>x</th> <th>y</th>\n",
       "        </tr>\n",
       "    </thead>\n",
       "    <tbody>\n",
       "        <tr>\n",
       "            <td> Caledonia Farmers Market Association - Danville</td> <td>Danville  </td> <td>Vermont             </td> <td>-72.1403</td> <td>44.411 </td>\n",
       "        </tr>\n",
       "        <tr>\n",
       "            <td> Stearns Homestead Farmers' Market              </td> <td>Parma     </td> <td>Ohio                </td> <td>-81.7286</td> <td>41.3751</td>\n",
       "        </tr>\n",
       "        <tr>\n",
       "            <td>100 Mile Market                                 </td> <td>Kalamazoo </td> <td>Michigan            </td> <td>-85.5749</td> <td>42.296 </td>\n",
       "        </tr>\n",
       "        <tr>\n",
       "            <td>106 S. Main Street Farmers Market               </td> <td>Six Mile  </td> <td>South Carolina      </td> <td>-82.8187</td> <td>34.8042</td>\n",
       "        </tr>\n",
       "        <tr>\n",
       "            <td>10th Steet Community Farmers Market             </td> <td>Lamar     </td> <td>Missouri            </td> <td>-94.2746</td> <td>37.4956</td>\n",
       "        </tr>\n",
       "        <tr>\n",
       "            <td>112st Madison Avenue                            </td> <td>New York  </td> <td>New York            </td> <td>-73.9493</td> <td>40.7939</td>\n",
       "        </tr>\n",
       "        <tr>\n",
       "            <td>12 South Farmers Market                         </td> <td>Nashville </td> <td>Tennessee           </td> <td>-86.7907</td> <td>36.1184</td>\n",
       "        </tr>\n",
       "        <tr>\n",
       "            <td>125th Street Fresh Connect Farmers' Market      </td> <td>New York  </td> <td>New York            </td> <td>-73.9482</td> <td>40.809 </td>\n",
       "        </tr>\n",
       "        <tr>\n",
       "            <td>12th & Brandywine Urban Farm Market             </td> <td>Wilmington</td> <td>Delaware            </td> <td>-75.5345</td> <td>39.7421</td>\n",
       "        </tr>\n",
       "        <tr>\n",
       "            <td>14&U Farmers' Market                            </td> <td>Washington</td> <td>District of Columbia</td> <td>-77.0321</td> <td>38.917 </td>\n",
       "        </tr>\n",
       "    </tbody>\n",
       "</table>\n",
       "<p>... (8536 rows omitted)</p>"
      ],
      "text/plain": [
       "MarketName                                       | city       | State                | x        | y\n",
       " Caledonia Farmers Market Association - Danville | Danville   | Vermont              | -72.1403 | 44.411\n",
       " Stearns Homestead Farmers' Market               | Parma      | Ohio                 | -81.7286 | 41.3751\n",
       "100 Mile Market                                  | Kalamazoo  | Michigan             | -85.5749 | 42.296\n",
       "106 S. Main Street Farmers Market                | Six Mile   | South Carolina       | -82.8187 | 34.8042\n",
       "10th Steet Community Farmers Market              | Lamar      | Missouri             | -94.2746 | 37.4956\n",
       "112st Madison Avenue                             | New York   | New York             | -73.9493 | 40.7939\n",
       "12 South Farmers Market                          | Nashville  | Tennessee            | -86.7907 | 36.1184\n",
       "125th Street Fresh Connect Farmers' Market       | New York   | New York             | -73.9482 | 40.809\n",
       "12th & Brandywine Urban Farm Market              | Wilmington | Delaware             | -75.5345 | 39.7421\n",
       "14&U Farmers' Market                             | Washington | District of Columbia | -77.0321 | 38.917\n",
       "... (8536 rows omitted)"
      ]
     },
     "execution_count": 62,
     "metadata": {},
     "output_type": "execute_result"
    }
   ],
   "source": [
    "farmers_markets_locations = farmers_markets.select('MarketName', 'city', 'State', 'x', 'y') # SOLUTION\n",
    "farmers_markets_locations"
   ]
  },
  {
   "cell_type": "raw",
   "metadata": {},
   "source": [
    "# END SOLUTION"
   ]
  },
  {
   "cell_type": "raw",
   "metadata": {},
   "source": [
    "# BEGIN TESTS"
   ]
  },
  {
   "cell_type": "code",
   "execution_count": 63,
   "metadata": {
    "id": "qGk-itT7gXtt",
    "outputId": "38f54c39-548b-4340-b8e9-997f3cccb338"
   },
   "outputs": [
    {
     "data": {
      "text/plain": [
       "8546"
      ]
     },
     "execution_count": 63,
     "metadata": {},
     "output_type": "execute_result"
    }
   ],
   "source": [
    "farmers_markets_locations.num_rows"
   ]
  },
  {
   "cell_type": "code",
   "execution_count": 64,
   "metadata": {
    "id": "JfKYDqwVgXtj",
    "outputId": "d0391410-3e7a-4beb-8dd0-e481c14a21f7"
   },
   "outputs": [
    {
     "data": {
      "text/plain": [
       "5"
      ]
     },
     "execution_count": 64,
     "metadata": {},
     "output_type": "execute_result"
    }
   ],
   "source": [
    "farmers_markets_locations.num_columns"
   ]
  },
  {
   "cell_type": "code",
   "execution_count": 65,
   "metadata": {
    "id": "_78dz0FLgXtp",
    "outputId": "54ed5fdc-08e1-4ba1-ee37-e2503d0dc84b"
   },
   "outputs": [
    {
     "data": {
      "text/plain": [
       "True"
      ]
     },
     "execution_count": 65,
     "metadata": {},
     "output_type": "execute_result"
    }
   ],
   "source": [
    "sorted(farmers_markets_locations.labels) == ['MarketName', 'State', 'city', 'x', 'y']"
   ]
  },
  {
   "cell_type": "raw",
   "metadata": {},
   "source": [
    "# END TESTS"
   ]
  },
  {
   "cell_type": "raw",
   "metadata": {},
   "source": [
    "# END QUESTION"
   ]
  },
  {
   "cell_type": "raw",
   "metadata": {},
   "source": [
    "# BEGIN QUESTION\n",
    "name: q8"
   ]
  },
  {
   "cell_type": "markdown",
   "metadata": {},
   "source": [
    "`drop` serves the same purpose as `select`, but it takes away the columns that you provide rather than the ones that you don't provide. Like `select`, `drop` returns a new table.\n",
    "\n",
    "**Question 8.** Suppose you just didn't want the `FMID` or `updateTime` columns in `farmers_markets`.  Create a table that's a copy of `farmers_markets` but doesn't include those columns.  Call that table `farmers_markets_without_fmid`.\n"
   ]
  },
  {
   "cell_type": "raw",
   "metadata": {},
   "source": [
    "# BEGIN SOLUTION"
   ]
  },
  {
   "cell_type": "code",
   "execution_count": 66,
   "metadata": {
    "id": "BqEdCKikgXtz"
   },
   "outputs": [],
   "source": [
    "farmers_markets_without_fmid = farmers_markets.drop('FMID', 'updateTime') # SOLUTION"
   ]
  },
  {
   "cell_type": "raw",
   "metadata": {},
   "source": [
    "# END SOLUTION"
   ]
  },
  {
   "cell_type": "raw",
   "metadata": {},
   "source": [
    "# BEGIN TESTS"
   ]
  },
  {
   "cell_type": "code",
   "execution_count": 67,
   "metadata": {
    "id": "k0jdAo_zgXt3",
    "outputId": "906e0d7e-d850-4924-f349-82866074247a"
   },
   "outputs": [
    {
     "data": {
      "text/plain": [
       "57"
      ]
     },
     "execution_count": 67,
     "metadata": {},
     "output_type": "execute_result"
    }
   ],
   "source": [
    "farmers_markets_without_fmid.num_columns"
   ]
  },
  {
   "cell_type": "code",
   "execution_count": 68,
   "metadata": {
    "id": "tdNUTQU_gXt8",
    "outputId": "4c1a0376-a767-426b-acea-24e60103299c"
   },
   "outputs": [
    {
     "data": {
      "text/plain": [
       "True"
      ]
     },
     "execution_count": 68,
     "metadata": {},
     "output_type": "execute_result"
    }
   ],
   "source": [
    "sorted(farmers_markets_without_fmid.labels) == ['Bakedgoods', 'Beans', 'Cheese', 'Coffee', 'County', 'Crafts', 'Credit', 'Eggs', 'Facebook', 'Flowers', 'Fruits', 'Grains', 'Herbs', 'Honey', 'Jams', 'Juices', 'Location', 'Maple', 'MarketName', 'Meat', 'Mushrooms', 'Nursery', 'Nuts', 'Organic', 'OtherMedia', 'PetFood', 'Plants', 'Poultry', 'Prepared', 'SFMNP', 'SNAP', 'Seafood', 'Season1Date', 'Season1Time', 'Season2Date', 'Season2Time', 'Season3Date', 'Season3Time', 'Season4Date', 'Season4Time', 'Soap', 'State', 'Tofu', 'Trees', 'Twitter', 'Vegetables', 'WIC', 'WICcash', 'Website', 'WildHarvested', 'Wine', 'Youtube', 'city', 'street', 'x', 'y', 'zip']"
   ]
  },
  {
   "cell_type": "raw",
   "metadata": {},
   "source": [
    "# END TESTS"
   ]
  },
  {
   "cell_type": "raw",
   "metadata": {},
   "source": [
    "# END QUESTION"
   ]
  },
  {
   "cell_type": "markdown",
   "metadata": {
    "id": "VWmSKfwugXt_"
   },
   "source": [
    "Now, suppose we want to answer some questions about farmers' markets in the US. For example, which market(s) have the largest longitude (given by the `x` column)? \n",
    "\n",
    "To answer this, we'll sort `farmers_markets_locations` by longitude.\n",
    "\n",
    "Run the cell below."
   ]
  },
  {
   "cell_type": "code",
   "execution_count": 69,
   "metadata": {
    "id": "ObwbaKDUgXt_",
    "outputId": "11a670f0-a025-4886-b17f-4ad60782db08"
   },
   "outputs": [
    {
     "data": {
      "text/html": [
       "<table border=\"1\" class=\"dataframe\">\n",
       "    <thead>\n",
       "        <tr>\n",
       "            <th>MarketName</th> <th>city</th> <th>State</th> <th>x</th> <th>y</th>\n",
       "        </tr>\n",
       "    </thead>\n",
       "    <tbody>\n",
       "        <tr>\n",
       "            <td>Trapper Creek Farmers Market                  </td> <td>Trapper Creek</td> <td>Alaska</td> <td>-166.54 </td> <td>53.8748</td>\n",
       "        </tr>\n",
       "        <tr>\n",
       "            <td>Kekaha Neighborhood Center (Sunshine Markets) </td> <td>Kekaha       </td> <td>Hawaii</td> <td>-159.718</td> <td>21.9704</td>\n",
       "        </tr>\n",
       "        <tr>\n",
       "            <td>Hanapepe Park (Sunshine Markets)              </td> <td>Hanapepe     </td> <td>Hawaii</td> <td>-159.588</td> <td>21.9101</td>\n",
       "        </tr>\n",
       "        <tr>\n",
       "            <td>Kalaheo Neighborhood Center (Sunshine Markets)</td> <td>Kalaheo      </td> <td>Hawaii</td> <td>-159.527</td> <td>21.9251</td>\n",
       "        </tr>\n",
       "        <tr>\n",
       "            <td>Hawaiian Farmers of Hanalei                   </td> <td>Hanalei      </td> <td>Hawaii</td> <td>-159.514</td> <td>22.2033</td>\n",
       "        </tr>\n",
       "        <tr>\n",
       "            <td>Hanalei Saturday Farmers Market               </td> <td>Hanalei      </td> <td>Hawaii</td> <td>-159.492</td> <td>22.2042</td>\n",
       "        </tr>\n",
       "        <tr>\n",
       "            <td>Kauai Culinary Market                         </td> <td>Koloa        </td> <td>Hawaii</td> <td>-159.469</td> <td>21.9067</td>\n",
       "        </tr>\n",
       "        <tr>\n",
       "            <td>Koloa Ball Park (Knudsen) (Sunshine Markets)  </td> <td>Koloa        </td> <td>Hawaii</td> <td>-159.465</td> <td>21.9081</td>\n",
       "        </tr>\n",
       "        <tr>\n",
       "            <td>West Kauai Agricultural Association           </td> <td>Poipu        </td> <td>Hawaii</td> <td>-159.435</td> <td>21.8815</td>\n",
       "        </tr>\n",
       "        <tr>\n",
       "            <td>Kilauea Neighborhood Center (Sunshine Markets)</td> <td>Kilauea      </td> <td>Hawaii</td> <td>-159.406</td> <td>22.2112</td>\n",
       "        </tr>\n",
       "    </tbody>\n",
       "</table>\n",
       "<p>... (8536 rows omitted)</p>"
      ],
      "text/plain": [
       "MarketName                                     | city          | State  | x        | y\n",
       "Trapper Creek Farmers Market                   | Trapper Creek | Alaska | -166.54  | 53.8748\n",
       "Kekaha Neighborhood Center (Sunshine Markets)  | Kekaha        | Hawaii | -159.718 | 21.9704\n",
       "Hanapepe Park (Sunshine Markets)               | Hanapepe      | Hawaii | -159.588 | 21.9101\n",
       "Kalaheo Neighborhood Center (Sunshine Markets) | Kalaheo       | Hawaii | -159.527 | 21.9251\n",
       "Hawaiian Farmers of Hanalei                    | Hanalei       | Hawaii | -159.514 | 22.2033\n",
       "Hanalei Saturday Farmers Market                | Hanalei       | Hawaii | -159.492 | 22.2042\n",
       "Kauai Culinary Market                          | Koloa         | Hawaii | -159.469 | 21.9067\n",
       "Koloa Ball Park (Knudsen) (Sunshine Markets)   | Koloa         | Hawaii | -159.465 | 21.9081\n",
       "West Kauai Agricultural Association            | Poipu         | Hawaii | -159.435 | 21.8815\n",
       "Kilauea Neighborhood Center (Sunshine Markets) | Kilauea       | Hawaii | -159.406 | 22.2112\n",
       "... (8536 rows omitted)"
      ]
     },
     "execution_count": 69,
     "metadata": {},
     "output_type": "execute_result"
    }
   ],
   "source": [
    "farmers_markets_locations.sort('x')"
   ]
  },
  {
   "cell_type": "raw",
   "metadata": {},
   "source": [
    "# BEGIN QUESTION\n",
    "name: q9"
   ]
  },
  {
   "cell_type": "markdown",
   "metadata": {},
   "source": [
    "That didn't answer our question because we sorted from smallest to largest longitude. To look at the largest longitudes, we'll have to sort in reverse order.\n",
    "\n",
    "**Question 9.** Sort the `farmers_markets_locations` table from largest to smallest longitude. Call it `farmers_markets_locations_by_longitude`. Click [here](http://data8.org/datascience/_autosummary/datascience.tables.Table.sort.html?highlight=sort#datascience.tables.Table.sort) to read the documentation on how to use the `sort` method.\n"
   ]
  },
  {
   "cell_type": "raw",
   "metadata": {},
   "source": [
    "# BEGIN SOLUTION"
   ]
  },
  {
   "cell_type": "code",
   "execution_count": 70,
   "metadata": {
    "id": "whY4gJFsgXuD",
    "outputId": "a07cc5c2-5c1a-4c5c-d386-03075cc7d200"
   },
   "outputs": [
    {
     "data": {
      "text/html": [
       "<table border=\"1\" class=\"dataframe\">\n",
       "    <thead>\n",
       "        <tr>\n",
       "            <th>MarketName</th> <th>city</th> <th>State</th> <th>x</th> <th>y</th>\n",
       "        </tr>\n",
       "    </thead>\n",
       "    <tbody>\n",
       "        <tr>\n",
       "            <td>Christian \"Shan\" Hendricks Vegetable Market</td> <td>Saint Croix       </td> <td>Virgin Islands</td> <td>-64.7043</td> <td>17.7449</td>\n",
       "        </tr>\n",
       "        <tr>\n",
       "            <td>La Reine Farmers Market                    </td> <td>Saint Croix       </td> <td>Virgin Islands</td> <td>-64.7789</td> <td>17.7322</td>\n",
       "        </tr>\n",
       "        <tr>\n",
       "            <td>Anne Heyliger Vegetable Market             </td> <td>Saint Croix       </td> <td>Virgin Islands</td> <td>-64.8799</td> <td>17.7099</td>\n",
       "        </tr>\n",
       "        <tr>\n",
       "            <td>Rothschild Francis Vegetable Market        </td> <td>St. Thomas        </td> <td>Virgin Islands</td> <td>-64.9326</td> <td>18.3428</td>\n",
       "        </tr>\n",
       "        <tr>\n",
       "            <td>Feria Agrícola de Luquillo                 </td> <td>Luquillo          </td> <td>Puerto Rico   </td> <td>-65.7207</td> <td>18.3782</td>\n",
       "        </tr>\n",
       "        <tr>\n",
       "            <td>El Mercado Familiar                        </td> <td>San Lorenzo       </td> <td>Puerto Rico   </td> <td>-65.9674</td> <td>18.1871</td>\n",
       "        </tr>\n",
       "        <tr>\n",
       "            <td>El Mercado Familiar                        </td> <td>Gurabo            </td> <td>Puerto Rico   </td> <td>-65.9786</td> <td>18.2526</td>\n",
       "        </tr>\n",
       "        <tr>\n",
       "            <td>El Mercado Familiar                        </td> <td>Patillas          </td> <td>Puerto Rico   </td> <td>-66.0135</td> <td>18.0069</td>\n",
       "        </tr>\n",
       "        <tr>\n",
       "            <td>El Mercado Familiar                        </td> <td>Caguas zona urbana</td> <td>Puerto Rico   </td> <td>-66.039 </td> <td>18.2324</td>\n",
       "        </tr>\n",
       "        <tr>\n",
       "            <td>El Maercado Familiar                       </td> <td>Arroyo zona urbana</td> <td>Puerto Rico   </td> <td>-66.0617</td> <td>17.9686</td>\n",
       "        </tr>\n",
       "    </tbody>\n",
       "</table>\n",
       "<p>... (8536 rows omitted)</p>"
      ],
      "text/plain": [
       "MarketName                                  | city               | State          | x        | y\n",
       "Christian \"Shan\" Hendricks Vegetable Market | Saint Croix        | Virgin Islands | -64.7043 | 17.7449\n",
       "La Reine Farmers Market                     | Saint Croix        | Virgin Islands | -64.7789 | 17.7322\n",
       "Anne Heyliger Vegetable Market              | Saint Croix        | Virgin Islands | -64.8799 | 17.7099\n",
       "Rothschild Francis Vegetable Market         | St. Thomas         | Virgin Islands | -64.9326 | 18.3428\n",
       "Feria Agrícola de Luquillo                  | Luquillo           | Puerto Rico    | -65.7207 | 18.3782\n",
       "El Mercado Familiar                         | San Lorenzo        | Puerto Rico    | -65.9674 | 18.1871\n",
       "El Mercado Familiar                         | Gurabo             | Puerto Rico    | -65.9786 | 18.2526\n",
       "El Mercado Familiar                         | Patillas           | Puerto Rico    | -66.0135 | 18.0069\n",
       "El Mercado Familiar                         | Caguas zona urbana | Puerto Rico    | -66.039  | 18.2324\n",
       "El Maercado Familiar                        | Arroyo zona urbana | Puerto Rico    | -66.0617 | 17.9686\n",
       "... (8536 rows omitted)"
      ]
     },
     "execution_count": 70,
     "metadata": {},
     "output_type": "execute_result"
    }
   ],
   "source": [
    "farmers_markets_locations_by_longitude = farmers_markets_locations.sort('x', descending = True) # SOLUTION\n",
    "farmers_markets_locations_by_longitude"
   ]
  },
  {
   "cell_type": "raw",
   "metadata": {},
   "source": [
    "# END SOLUTION"
   ]
  },
  {
   "cell_type": "raw",
   "metadata": {},
   "source": [
    "# BEGIN TESTS"
   ]
  },
  {
   "cell_type": "code",
   "execution_count": 71,
   "metadata": {},
   "outputs": [
    {
     "data": {
      "text/plain": [
       "True"
      ]
     },
     "execution_count": 71,
     "metadata": {},
     "output_type": "execute_result"
    }
   ],
   "source": [
    "isinstance(farmers_markets_locations_by_longitude, tables.Table)"
   ]
  },
  {
   "cell_type": "code",
   "execution_count": 72,
   "metadata": {
    "id": "IFdnFmXUgXuM",
    "outputId": "d2f837e1-77c7-46d9-fc75-3276193f850c"
   },
   "outputs": [
    {
     "data": {
      "text/plain": [
       "True"
      ]
     },
     "execution_count": 72,
     "metadata": {},
     "output_type": "execute_result"
    }
   ],
   "source": [
    "list(farmers_markets_locations_by_longitude.column('x').take(range(3))) == [-64.7043, -64.7789, -64.8799]"
   ]
  },
  {
   "cell_type": "raw",
   "metadata": {},
   "source": [
    "# END TESTS"
   ]
  },
  {
   "cell_type": "raw",
   "metadata": {},
   "source": [
    "# END QUESTION"
   ]
  },
  {
   "cell_type": "raw",
   "metadata": {},
   "source": [
    "# BEGIN QUESTION\n",
    "name: q10"
   ]
  },
  {
   "cell_type": "markdown",
   "metadata": {},
   "source": [
    "Some details about sort\n",
    "\n",
    "1. The first argument to `sort` is the name of a column to sort by.\n",
    "\n",
    "2. If the column has text in it, `sort` will sort alphabetically; if the column has numbers, it will sort numerically.\n",
    "\n",
    "3. The value of `farmers_markets_locations.sort(\"x\")` is a *copy* of `farmers_markets_locations`; the `farmers_markets_locations` table doesn't get modified. For example, if we called `farmers_markets_locations.sort(\"x\")`, then running `farmers_markets_locations` by itself would still return the unsorted table.\n",
    "\n",
    "4. Rows always stick together when a table is sorted.  It wouldn't make sense to sort just one column and leave the other columns alone.  For example, in this case, if we sorted just the `x` column, the farmers' markets would all end up with the wrong longitudes.\n",
    "\n",
    "**Question 10.** Create a version of `farmers_markets_locations` that's sorted by **latitude (`y`)**, with the largest latitudes first.  Call it `farmers_markets_locations_by_latitude`.\n"
   ]
  },
  {
   "cell_type": "raw",
   "metadata": {},
   "source": [
    "# BEGIN SOLUTION"
   ]
  },
  {
   "cell_type": "code",
   "execution_count": 73,
   "metadata": {
    "id": "hpHZ7xwygXuR",
    "outputId": "12e707d5-d5dd-484b-9c8d-173ff0308cf4"
   },
   "outputs": [
    {
     "data": {
      "text/html": [
       "<table border=\"1\" class=\"dataframe\">\n",
       "    <thead>\n",
       "        <tr>\n",
       "            <th>MarketName</th> <th>city</th> <th>State</th> <th>x</th> <th>y</th>\n",
       "        </tr>\n",
       "    </thead>\n",
       "    <tbody>\n",
       "        <tr>\n",
       "            <td>Tanana Valley Farmers Market  </td> <td>Fairbanks     </td> <td>Alaska</td> <td>-147.781</td> <td>64.8628</td>\n",
       "        </tr>\n",
       "        <tr>\n",
       "            <td>Ester Community Market        </td> <td>Ester         </td> <td>Alaska</td> <td>-148.01 </td> <td>64.8459</td>\n",
       "        </tr>\n",
       "        <tr>\n",
       "            <td>Fairbanks Downtown Market     </td> <td>Fairbanks     </td> <td>Alaska</td> <td>-147.72 </td> <td>64.8444</td>\n",
       "        </tr>\n",
       "        <tr>\n",
       "            <td>Nenana Open Air Market        </td> <td>Nenana        </td> <td>Alaska</td> <td>-149.096</td> <td>64.5566</td>\n",
       "        </tr>\n",
       "        <tr>\n",
       "            <td>Highway's End Farmers' Market </td> <td>Delta Junction</td> <td>Alaska</td> <td>-145.733</td> <td>64.0385</td>\n",
       "        </tr>\n",
       "        <tr>\n",
       "            <td>MountainTraders               </td> <td>Talkeetna     </td> <td>Alaska</td> <td>-150.118</td> <td>62.3231</td>\n",
       "        </tr>\n",
       "        <tr>\n",
       "            <td>Talkeetna Farmers Market      </td> <td>Talkeetna     </td> <td>Alaska</td> <td>-150.118</td> <td>62.3228</td>\n",
       "        </tr>\n",
       "        <tr>\n",
       "            <td>Denali Farmers Market         </td> <td>Anchorage     </td> <td>Alaska</td> <td>-150.234</td> <td>62.3163</td>\n",
       "        </tr>\n",
       "        <tr>\n",
       "            <td>Kenny Lake Harvest II         </td> <td>Valdez        </td> <td>Alaska</td> <td>-145.476</td> <td>62.1079</td>\n",
       "        </tr>\n",
       "        <tr>\n",
       "            <td>Copper Valley Community Market</td> <td>Copper Valley </td> <td>Alaska</td> <td>-145.444</td> <td>62.0879</td>\n",
       "        </tr>\n",
       "    </tbody>\n",
       "</table>\n",
       "<p>... (8536 rows omitted)</p>"
      ],
      "text/plain": [
       "MarketName                     | city           | State  | x        | y\n",
       "Tanana Valley Farmers Market   | Fairbanks      | Alaska | -147.781 | 64.8628\n",
       "Ester Community Market         | Ester          | Alaska | -148.01  | 64.8459\n",
       "Fairbanks Downtown Market      | Fairbanks      | Alaska | -147.72  | 64.8444\n",
       "Nenana Open Air Market         | Nenana         | Alaska | -149.096 | 64.5566\n",
       "Highway's End Farmers' Market  | Delta Junction | Alaska | -145.733 | 64.0385\n",
       "MountainTraders                | Talkeetna      | Alaska | -150.118 | 62.3231\n",
       "Talkeetna Farmers Market       | Talkeetna      | Alaska | -150.118 | 62.3228\n",
       "Denali Farmers Market          | Anchorage      | Alaska | -150.234 | 62.3163\n",
       "Kenny Lake Harvest II          | Valdez         | Alaska | -145.476 | 62.1079\n",
       "Copper Valley Community Market | Copper Valley  | Alaska | -145.444 | 62.0879\n",
       "... (8536 rows omitted)"
      ]
     },
     "execution_count": 73,
     "metadata": {},
     "output_type": "execute_result"
    }
   ],
   "source": [
    "farmers_markets_locations_by_latitude = farmers_markets_locations.sort('y', descending = True) # SOLUTION\n",
    "farmers_markets_locations_by_latitude"
   ]
  },
  {
   "cell_type": "raw",
   "metadata": {},
   "source": [
    "# END SOLUTION"
   ]
  },
  {
   "cell_type": "raw",
   "metadata": {},
   "source": [
    "# BEGIN TESTS"
   ]
  },
  {
   "cell_type": "code",
   "execution_count": 74,
   "metadata": {
    "id": "Z5AdRspzgXuW",
    "outputId": "ce49e46e-251c-4805-cf37-edcc7940a5e0"
   },
   "outputs": [
    {
     "data": {
      "text/plain": [
       "True"
      ]
     },
     "execution_count": 74,
     "metadata": {},
     "output_type": "execute_result"
    }
   ],
   "source": [
    "farmers_markets_locations_by_latitude.first('y') == 64.86275"
   ]
  },
  {
   "cell_type": "raw",
   "metadata": {},
   "source": [
    "# END TESTS"
   ]
  },
  {
   "cell_type": "raw",
   "metadata": {},
   "source": [
    "# END QUESTION"
   ]
  },
  {
   "cell_type": "markdown",
   "metadata": {
    "id": "Lu4f90sMgXua"
   },
   "source": [
    "Now let's say we want a table of all farmers' markets in North Carolina. Sorting won't help us much here because North Carolina is closer to the middle of the dataset.\n",
    "\n",
    "Instead, we use the table method `where`. Look at the [documentation](http://data8.org/datascience/_autosummary/datascience.tables.Table.where.html?highlight=where) to see how to use `where`.\n",
    "\n",
    "Run the following cell:"
   ]
  },
  {
   "cell_type": "code",
   "execution_count": 75,
   "metadata": {
    "id": "9BqbbaAwgXub",
    "outputId": "39c2de4e-56c4-45c2-b0a8-1960a2b845a8"
   },
   "outputs": [
    {
     "data": {
      "text/html": [
       "<table border=\"1\" class=\"dataframe\">\n",
       "    <thead>\n",
       "        <tr>\n",
       "            <th>MarketName</th> <th>city</th> <th>State</th> <th>x</th> <th>y</th>\n",
       "        </tr>\n",
       "    </thead>\n",
       "    <tbody>\n",
       "        <tr>\n",
       "            <td>Afton Village Farmers Market   </td> <td>Concord       </td> <td>North Carolina</td> <td>-80.6702</td> <td>35.414 </td>\n",
       "        </tr>\n",
       "        <tr>\n",
       "            <td>Alamance County Farmers Market </td> <td>Burlington    </td> <td>North Carolina</td> <td>-79.4357</td> <td>36.0943</td>\n",
       "        </tr>\n",
       "        <tr>\n",
       "            <td>Alexander County Farmers Market</td> <td>Taylorsville  </td> <td>North Carolina</td> <td>-81.1781</td> <td>35.9197</td>\n",
       "        </tr>\n",
       "        <tr>\n",
       "            <td>Alleghany Farmers Market       </td> <td>Sparta        </td> <td>North Carolina</td> <td>-81.1226</td> <td>36.503 </td>\n",
       "        </tr>\n",
       "        <tr>\n",
       "            <td>Andrews Farmers Market         </td> <td>Andrews       </td> <td>North Carolina</td> <td>-83.8232</td> <td>35.2027</td>\n",
       "        </tr>\n",
       "        <tr>\n",
       "            <td>Anson County Farmers Market    </td> <td>Wadesboro     </td> <td>North Carolina</td> <td>-80.0526</td> <td>34.9408</td>\n",
       "        </tr>\n",
       "        <tr>\n",
       "            <td>Apex Farmers Market            </td> <td>Apex          </td> <td>North Carolina</td> <td>-78.8499</td> <td>35.732 </td>\n",
       "        </tr>\n",
       "        <tr>\n",
       "            <td>Ashboro Downtown Farmers Market</td> <td>Asheboro      </td> <td>North Carolina</td> <td>-79.8175</td> <td>35.7049</td>\n",
       "        </tr>\n",
       "        <tr>\n",
       "            <td>Ashe County Farmers Market     </td> <td>West Jefferson</td> <td>North Carolina</td> <td>-81.4935</td> <td>36.4025</td>\n",
       "        </tr>\n",
       "        <tr>\n",
       "            <td>Asheville City Market          </td> <td>Asheville     </td> <td>North Carolina</td> <td>-82.5489</td> <td>35.5935</td>\n",
       "        </tr>\n",
       "    </tbody>\n",
       "</table>\n",
       "<p>... (242 rows omitted)</p>"
      ],
      "text/plain": [
       "MarketName                      | city           | State          | x        | y\n",
       "Afton Village Farmers Market    | Concord        | North Carolina | -80.6702 | 35.414\n",
       "Alamance County Farmers Market  | Burlington     | North Carolina | -79.4357 | 36.0943\n",
       "Alexander County Farmers Market | Taylorsville   | North Carolina | -81.1781 | 35.9197\n",
       "Alleghany Farmers Market        | Sparta         | North Carolina | -81.1226 | 36.503\n",
       "Andrews Farmers Market          | Andrews        | North Carolina | -83.8232 | 35.2027\n",
       "Anson County Farmers Market     | Wadesboro      | North Carolina | -80.0526 | 34.9408\n",
       "Apex Farmers Market             | Apex           | North Carolina | -78.8499 | 35.732\n",
       "Ashboro Downtown Farmers Market | Asheboro       | North Carolina | -79.8175 | 35.7049\n",
       "Ashe County Farmers Market      | West Jefferson | North Carolina | -81.4935 | 36.4025\n",
       "Asheville City Market           | Asheville      | North Carolina | -82.5489 | 35.5935\n",
       "... (242 rows omitted)"
      ]
     },
     "execution_count": 75,
     "metadata": {},
     "output_type": "execute_result"
    }
   ],
   "source": [
    "nc_farmers_markets = farmers_markets_locations.where('State', are.equal_to('North Carolina'))\n",
    "nc_farmers_markets"
   ]
  },
  {
   "cell_type": "raw",
   "metadata": {},
   "source": [
    "# BEGIN QUESTION\n",
    "name: q11"
   ]
  },
  {
   "cell_type": "markdown",
   "metadata": {},
   "source": [
    "Ignore the syntax for the moment.  Instead, try to read that line like this:\n",
    "\n",
    "> Assign the name **`nc_farmers_markets`** to a table whose rows are the rows in the **`farmers_markets_locations`** table **`where`** the `'State'`s **`are` `equal` `to` `North Carolina`**.\n",
    "\n",
    "Now let's dive into the details a bit more.\n",
    "\n",
    "`where` takes 2 arguments.\n",
    "\n",
    "1. The name of a column.  `where` finds rows where that column's values meet some criterion.\n",
    "\n",
    "2. A predicate that describes the criterion that the column needs to meet.\n",
    "\n",
    "The predicate in the example above called the function `are.equal_to` with the value we wanted, 'North Carolina'.  We'll see other predicates soon.\n",
    "\n",
    "`where` returns a table that's a copy of the original table, but **with only the rows that meet the given predicate**.\n",
    "\n",
    "**Question 11.** Use `nc_farmers_markets` to create a table called `durham_farmers_markets` containing farmers' markets in Durham, North Caorlina.\n"
   ]
  },
  {
   "cell_type": "raw",
   "metadata": {},
   "source": [
    "# BEGIN SOLUTION"
   ]
  },
  {
   "cell_type": "code",
   "execution_count": 76,
   "metadata": {
    "id": "0P6XS8WlgXuh",
    "outputId": "6e43a23a-4631-4f47-f9ab-d4d9acc67858"
   },
   "outputs": [
    {
     "data": {
      "text/html": [
       "<table border=\"1\" class=\"dataframe\">\n",
       "    <thead>\n",
       "        <tr>\n",
       "            <th>MarketName</th> <th>city</th> <th>State</th> <th>x</th> <th>y</th>\n",
       "        </tr>\n",
       "    </thead>\n",
       "    <tbody>\n",
       "        <tr>\n",
       "            <td>Duke Farmers Market         </td> <td>Durham</td> <td>North Carolina</td> <td>-78.9392</td> <td>36.0054</td>\n",
       "        </tr>\n",
       "        <tr>\n",
       "            <td>Duke Mobile Farmers Market  </td> <td>Durham</td> <td>North Carolina</td> <td>-78.9321</td> <td>35.9947</td>\n",
       "        </tr>\n",
       "        <tr>\n",
       "            <td>Durham Farmers' Market      </td> <td>Durham</td> <td>North Carolina</td> <td>-78.9019</td> <td>36.0006</td>\n",
       "        </tr>\n",
       "        <tr>\n",
       "            <td>Durham Roots Farmers Market </td> <td>Durham</td> <td>North Carolina</td> <td>-78.9084</td> <td>36.0185</td>\n",
       "        </tr>\n",
       "        <tr>\n",
       "            <td>South Durham Farmers' Market</td> <td>Durham</td> <td>North Carolina</td> <td>-78.8966</td> <td>35.8893</td>\n",
       "        </tr>\n",
       "    </tbody>\n",
       "</table>"
      ],
      "text/plain": [
       "MarketName                   | city   | State          | x        | y\n",
       "Duke Farmers Market          | Durham | North Carolina | -78.9392 | 36.0054\n",
       "Duke Mobile Farmers Market   | Durham | North Carolina | -78.9321 | 35.9947\n",
       "Durham Farmers' Market       | Durham | North Carolina | -78.9019 | 36.0006\n",
       "Durham Roots Farmers Market  | Durham | North Carolina | -78.9084 | 36.0185\n",
       "South Durham Farmers' Market | Durham | North Carolina | -78.8966 | 35.8893"
      ]
     },
     "execution_count": 76,
     "metadata": {},
     "output_type": "execute_result"
    }
   ],
   "source": [
    "durham_farmers_markets = nc_farmers_markets.where('city', are.equal_to('Durham')) # SOLUTION\n",
    "durham_farmers_markets"
   ]
  },
  {
   "cell_type": "raw",
   "metadata": {},
   "source": [
    "# END SOLUTION"
   ]
  },
  {
   "cell_type": "raw",
   "metadata": {},
   "source": [
    "# BEGIN TESTS"
   ]
  },
  {
   "cell_type": "code",
   "execution_count": 77,
   "metadata": {
    "id": "k18cv8UygXul",
    "outputId": "1695e2af-8110-400b-890e-f328c58ea463"
   },
   "outputs": [
    {
     "data": {
      "text/plain": [
       "5"
      ]
     },
     "execution_count": 77,
     "metadata": {},
     "output_type": "execute_result"
    }
   ],
   "source": [
    "durham_farmers_markets.num_rows"
   ]
  },
  {
   "cell_type": "code",
   "execution_count": 78,
   "metadata": {},
   "outputs": [
    {
     "data": {
      "text/plain": [
       "True"
      ]
     },
     "execution_count": 78,
     "metadata": {},
     "output_type": "execute_result"
    }
   ],
   "source": [
    "all('Durham' == durham_farmers_markets['city'])"
   ]
  },
  {
   "cell_type": "raw",
   "metadata": {},
   "source": [
    "# END TESTS"
   ]
  },
  {
   "cell_type": "raw",
   "metadata": {},
   "source": [
    "# END QUESTION"
   ]
  },
  {
   "cell_type": "markdown",
   "metadata": {
    "id": "bvWaSbOogXuu"
   },
   "source": [
    "So far we've only been using `where` with the predicate that requires finding the values in a column to be *exactly* equal to a certain value. However, there are many other predicates. Here are a few:\n",
    "\n",
    "|Predicate|Example|Result|\n",
    "|-|-|-|\n",
    "|`are.equal_to`|`are.equal_to(50)`|Find rows with values equal to 50|\n",
    "|`are.not_equal_to`|`are.not_equal_to(50)`|Find rows with values not equal to 50|\n",
    "|`are.above`|`are.above(50)`|Find rows with values above (and not equal to) 50|\n",
    "|`are.above_or_equal_to`|`are.above_or_equal_to(50)`|Find rows with values above 50 or equal to 50|\n",
    "|`are.below`|`are.below(50)`|Find rows with values below 50|\n",
    "|`are.between`|`are.between(2, 10)`|Find rows with values above or equal to 2 and below 10|"
   ]
  },
  {
   "cell_type": "markdown",
   "metadata": {
    "id": "XwliZ8fvgXuv"
   },
   "source": [
    "# 5. Analyzing a dataset\n",
    "Now that you're familiar with table operations, let’s answer some interesting questions about a dataset. Run the cell below to load the `imdb` table. It contains information about the 250 highest-rated movies on IMDb."
   ]
  },
  {
   "cell_type": "code",
   "execution_count": 79,
   "metadata": {
    "id": "byF1fL58gXuy",
    "outputId": "698a4c4a-cc25-42c9-b96b-5e0682cdbbc7"
   },
   "outputs": [
    {
     "data": {
      "text/html": [
       "<table border=\"1\" class=\"dataframe\">\n",
       "    <thead>\n",
       "        <tr>\n",
       "            <th>Title</th> <th>Year</th> <th>Rating</th> <th>Votes</th> <th>Decade</th>\n",
       "        </tr>\n",
       "    </thead>\n",
       "    <tbody>\n",
       "        <tr>\n",
       "            <td>Avengers: Endgame                        </td> <td>2019</td> <td>8.7   </td> <td>394632</td> <td>2010  </td>\n",
       "        </tr>\n",
       "        <tr>\n",
       "            <td>Spider-Man: Into the Spider-Verse        </td> <td>2018</td> <td>8.4   </td> <td>199435</td> <td>2010  </td>\n",
       "        </tr>\n",
       "        <tr>\n",
       "            <td>Avengers: Infinity War                   </td> <td>2018</td> <td>8.4   </td> <td>657004</td> <td>2010  </td>\n",
       "        </tr>\n",
       "        <tr>\n",
       "            <td>Green Book                               </td> <td>2018</td> <td>8.2   </td> <td>193829</td> <td>2010  </td>\n",
       "        </tr>\n",
       "        <tr>\n",
       "            <td>Andhadhun                                </td> <td>2018</td> <td>8.1   </td> <td>41901 </td> <td>2010  </td>\n",
       "        </tr>\n",
       "        <tr>\n",
       "            <td>Coco                                     </td> <td>2017</td> <td>8.3   </td> <td>272499</td> <td>2010  </td>\n",
       "        </tr>\n",
       "        <tr>\n",
       "            <td>Three Billboards Outside Ebbing, Missouri</td> <td>2017</td> <td>8.1   </td> <td>339946</td> <td>2010  </td>\n",
       "        </tr>\n",
       "        <tr>\n",
       "            <td>Logan                                    </td> <td>2017</td> <td>8.1   </td> <td>553983</td> <td>2010  </td>\n",
       "        </tr>\n",
       "        <tr>\n",
       "            <td>Your Name.                               </td> <td>2016</td> <td>8.3   </td> <td>131814</td> <td>2010  </td>\n",
       "        </tr>\n",
       "        <tr>\n",
       "            <td>Dangal                                   </td> <td>2016</td> <td>8.3   </td> <td>121027</td> <td>2010  </td>\n",
       "        </tr>\n",
       "    </tbody>\n",
       "</table>\n",
       "<p>... (240 rows omitted)</p>"
      ],
      "text/plain": [
       "Title                                     | Year | Rating | Votes  | Decade\n",
       "Avengers: Endgame                         | 2019 | 8.7    | 394632 | 2010\n",
       "Spider-Man: Into the Spider-Verse         | 2018 | 8.4    | 199435 | 2010\n",
       "Avengers: Infinity War                    | 2018 | 8.4    | 657004 | 2010\n",
       "Green Book                                | 2018 | 8.2    | 193829 | 2010\n",
       "Andhadhun                                 | 2018 | 8.1    | 41901  | 2010\n",
       "Coco                                      | 2017 | 8.3    | 272499 | 2010\n",
       "Three Billboards Outside Ebbing, Missouri | 2017 | 8.1    | 339946 | 2010\n",
       "Logan                                     | 2017 | 8.1    | 553983 | 2010\n",
       "Your Name.                                | 2016 | 8.3    | 131814 | 2010\n",
       "Dangal                                    | 2016 | 8.3    | 121027 | 2010\n",
       "... (240 rows omitted)"
      ]
     },
     "execution_count": 79,
     "metadata": {},
     "output_type": "execute_result"
    }
   ],
   "source": [
    "imdb = Table.read_table('data/imdb.csv')\n",
    "imdb"
   ]
  },
  {
   "cell_type": "markdown",
   "metadata": {
    "id": "k6me7DL_gXu1"
   },
   "source": [
    "Often, we want to perform multiple operations - sorting, filtering, or others - in order to turn a table we have into something more useful. You can do these operations one by one, e.g.\n",
    "\n",
    "```\n",
    "first_step = original_tbl.where(“col1”, are.equal_to(12))\n",
    "second_step = first_step.sort(‘col2’, descending=True)\n",
    "```\n",
    "\n",
    "However, since the value of the expression `original_tbl.where(“col1”, are.equal_to(12))` is itself a table, you can just call a table method on it:\n",
    "\n",
    "```\n",
    "original_tbl.where(“col1”, are.equal_to(12)).sort(‘col2’, descending=True)\n",
    "```\n",
    "You should organize your work in the way that makes the most sense to you, using informative names for any intermediate tables you create."
   ]
  },
  {
   "cell_type": "raw",
   "metadata": {},
   "source": [
    "# BEGIN QUESTION\n",
    "name: q12"
   ]
  },
  {
   "cell_type": "markdown",
   "metadata": {},
   "source": [
    "**Question 12.** Create a table of movies released between 2010 and 2016 (inclusive) with ratings above 8. The table should only contain the columns `Title` and `Rating`, **in that order**\n",
    "\n",
    "Assign the table to the name `above_eight`.\n",
    "\n",
    "**Hint:** Think about the steps you need to take, and try to put them in an order that make sense. Feel free to create intermediate tables for each step, but please make sure you assign your final table the name `above_eight`.\n"
   ]
  },
  {
   "cell_type": "raw",
   "metadata": {},
   "source": [
    "# BEGIN SOLUTION"
   ]
  },
  {
   "cell_type": "code",
   "execution_count": 80,
   "metadata": {
    "id": "MCwYC2fdgXu3",
    "outputId": "1a75c86a-800a-45d8-950d-49881b12c184"
   },
   "outputs": [
    {
     "data": {
      "text/html": [
       "<table border=\"1\" class=\"dataframe\">\n",
       "    <thead>\n",
       "        <tr>\n",
       "            <th>Title</th> <th>Rating</th>\n",
       "        </tr>\n",
       "    </thead>\n",
       "    <tbody>\n",
       "        <tr>\n",
       "            <td>Your Name.        </td> <td>8.3   </td>\n",
       "        </tr>\n",
       "        <tr>\n",
       "            <td>Dangal            </td> <td>8.3   </td>\n",
       "        </tr>\n",
       "        <tr>\n",
       "            <td>Hacksaw Ridge     </td> <td>8.1   </td>\n",
       "        </tr>\n",
       "        <tr>\n",
       "            <td>Inside Out        </td> <td>8.1   </td>\n",
       "        </tr>\n",
       "        <tr>\n",
       "            <td>Room              </td> <td>8.1   </td>\n",
       "        </tr>\n",
       "        <tr>\n",
       "            <td>Mad Max: Fury Road</td> <td>8.1   </td>\n",
       "        </tr>\n",
       "        <tr>\n",
       "            <td>Spotlight         </td> <td>8.1   </td>\n",
       "        </tr>\n",
       "        <tr>\n",
       "            <td>Interstellar      </td> <td>8.5   </td>\n",
       "        </tr>\n",
       "        <tr>\n",
       "            <td>Whiplash          </td> <td>8.5   </td>\n",
       "        </tr>\n",
       "        <tr>\n",
       "            <td>Gone Girl         </td> <td>8.1   </td>\n",
       "        </tr>\n",
       "    </tbody>\n",
       "</table>\n",
       "<p>... (18 rows omitted)</p>"
      ],
      "text/plain": [
       "Title              | Rating\n",
       "Your Name.         | 8.3\n",
       "Dangal             | 8.3\n",
       "Hacksaw Ridge      | 8.1\n",
       "Inside Out         | 8.1\n",
       "Room               | 8.1\n",
       "Mad Max: Fury Road | 8.1\n",
       "Spotlight          | 8.1\n",
       "Interstellar       | 8.5\n",
       "Whiplash           | 8.5\n",
       "Gone Girl          | 8.1\n",
       "... (18 rows omitted)"
      ]
     },
     "execution_count": 80,
     "metadata": {},
     "output_type": "execute_result"
    }
   ],
   "source": [
    "above_eight = imdb.where('Year', are.between(2010, 2017)).where('Rating', are.above(8)).select('Title', 'Rating') # SOLUTION\n",
    "above_eight"
   ]
  },
  {
   "cell_type": "raw",
   "metadata": {},
   "source": [
    "# END SOLUTION"
   ]
  },
  {
   "cell_type": "raw",
   "metadata": {},
   "source": [
    "# BEGIN TESTS"
   ]
  },
  {
   "cell_type": "code",
   "execution_count": 81,
   "metadata": {
    "id": "AhwrLm8SgXu-",
    "outputId": "9ab389bf-ca0c-48a5-be52-1609741e35ce"
   },
   "outputs": [
    {
     "data": {
      "text/plain": [
       "28"
      ]
     },
     "execution_count": 81,
     "metadata": {},
     "output_type": "execute_result"
    }
   ],
   "source": [
    "above_eight.num_rows"
   ]
  },
  {
   "cell_type": "code",
   "execution_count": 82,
   "metadata": {
    "id": "L4ccss1rgXvB",
    "outputId": "5ff69aba-8c7e-478b-d2cb-a1a05b018dd4"
   },
   "outputs": [
    {
     "data": {
      "text/plain": [
       "True"
      ]
     },
     "execution_count": 82,
     "metadata": {},
     "output_type": "execute_result"
    }
   ],
   "source": [
    "# Make sure you're columns are in the correct order!\n",
    "above_eight.sort(0).take([17])[0][0] == 'Shutter Island'"
   ]
  },
  {
   "cell_type": "raw",
   "metadata": {},
   "source": [
    "# END TESTS"
   ]
  },
  {
   "cell_type": "raw",
   "metadata": {},
   "source": [
    "# END QUESTION"
   ]
  },
  {
   "cell_type": "raw",
   "metadata": {},
   "source": [
    "# BEGIN QUESTION\n",
    "name: q13"
   ]
  },
  {
   "cell_type": "markdown",
   "metadata": {},
   "source": [
    "**Question 13.** Use `num_rows` (and arithmetic) to find the *proportion* of movies in the dataset that were released 1900-1999, and the *proportion* of movies in the dataset that were released in the year 2000 or later.\n",
    "\n",
    "Assign `proportion_in_20th_century` to the proportion of movies in the dataset that were released 1900-1999, and `proportion_in_21st_century` to the proportion of movies in the dataset that were released in the year 2000 or later.\n",
    "\n",
    "**Hint:** The *proportion* of movies released in the 1900's is the *number* of movies released in the 1900's, divided by the *total number* of movies.\n"
   ]
  },
  {
   "cell_type": "raw",
   "metadata": {},
   "source": [
    "# BEGIN SOLUTION"
   ]
  },
  {
   "cell_type": "code",
   "execution_count": 83,
   "metadata": {
    "id": "1tbwsrUPgXvH",
    "outputId": "041eb5d9-09d7-48ee-f10c-85b9837497c7"
   },
   "outputs": [
    {
     "name": "stdout",
     "output_type": "stream",
     "text": [
      "20th Century:  0.64\n",
      "21st Century:  0.36\n"
     ]
    }
   ],
   "source": [
    "proportion_in_20th_century = imdb.where('Year', are.between(1900,2000)).num_rows/imdb.num_rows # SOLUTION\n",
    "proportion_in_21st_century = imdb.where('Year', are.above(1999)).num_rows/imdb.num_rows # SOLUTION\n",
    "print('20th Century: ', proportion_in_20th_century)\n",
    "print('21st Century: ', proportion_in_21st_century)"
   ]
  },
  {
   "cell_type": "raw",
   "metadata": {},
   "source": [
    "# END SOLUTION"
   ]
  },
  {
   "cell_type": "raw",
   "metadata": {},
   "source": [
    "# BEGIN TESTS"
   ]
  },
  {
   "cell_type": "code",
   "execution_count": 84,
   "metadata": {
    "id": "-n9kmmJYgXvL",
    "outputId": "b1f39186-9390-416a-8ece-4e5848cf05b8"
   },
   "outputs": [
    {
     "data": {
      "text/plain": [
       "0.64"
      ]
     },
     "execution_count": 84,
     "metadata": {},
     "output_type": "execute_result"
    }
   ],
   "source": [
    "proportion_in_20th_century"
   ]
  },
  {
   "cell_type": "code",
   "execution_count": 85,
   "metadata": {
    "id": "QHQ984BWgXvP",
    "outputId": "d0dd10ac-7e15-452d-da94-7873c2616f2e"
   },
   "outputs": [
    {
     "data": {
      "text/plain": [
       "0.36"
      ]
     },
     "execution_count": 85,
     "metadata": {},
     "output_type": "execute_result"
    }
   ],
   "source": [
    "proportion_in_21st_century"
   ]
  },
  {
   "cell_type": "raw",
   "metadata": {},
   "source": [
    "# END TESTS"
   ]
  },
  {
   "cell_type": "raw",
   "metadata": {},
   "source": [
    "# END QUESTION"
   ]
  },
  {
   "cell_type": "markdown",
   "metadata": {},
   "source": [
    "# 6. Submitting your work\n",
    "You're done with Lab 02! All assignments in the course will be distributed as notebooks like this one, and you will submit your work by doing the following:\n",
    "\n",
    "* Save your notebook\n",
    "\n",
    "* Restart the kernel and run up to this cell.\n",
    "\n",
    "* Run all the tests by running the cell containing `grader.check_all()`. Make sure they pass the way you expect them to.\n",
    "\n",
    "* Run the cell below with the code `grader.export(\"lab02.ipynb\")`.\n",
    "\n",
    "* Download the file named `lab02.zip`, found in the explorer pane on the left side of the screen.\n",
    "\n",
    "* Upload `lab02.zip` to the Lab 01 assignment to Gradescope for Grading."
   ]
  }
 ],
 "metadata": {
  "colab": {
   "name": "lab01.ipynb",
   "provenance": []
  },
  "kernelspec": {
   "display_name": "Python 3 (ipykernel)",
   "language": "python",
   "name": "python3"
  },
  "language_info": {
   "codemirror_mode": {
    "name": "ipython",
    "version": 3
   },
   "file_extension": ".py",
   "mimetype": "text/x-python",
   "name": "python",
   "nbconvert_exporter": "python",
   "pygments_lexer": "ipython3",
   "version": "3.9.6"
  }
 },
 "nbformat": 4,
 "nbformat_minor": 4
}
