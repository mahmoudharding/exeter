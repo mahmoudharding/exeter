{
 "cells": [
  {
   "cell_type": "raw",
   "metadata": {},
   "source": [
    "# ASSIGNMENT CONFIG\n",
    "export_cell:\n",
    "  instructions: \"When done exporting, download the .zip file by `SHIFT`-clicking on the file name and selecting **Save Link As**. Or, find the .zip file in the left side of the screen and right-click and select **Download**. You'll submit this .zip file for the assignment in Canvas to Gradescope for grading.\"\n",
    "  pdf: false\n",
    "generate: \n",
    "  points_possible: 16\n",
    "files: \n",
    "    - images/apply.png\n",
    "    - data/movies_by_year.csv\n",
    "    - data/nc-ceo-pay.csv"
   ]
  },
  {
   "cell_type": "markdown",
   "metadata": {},
   "source": [
    "# Lab 04: Functions and Visualizations\n",
    "\n",
    "Welcome to Lab 04! This week, we'll learn about functions, table methods such as `apply`, and how to generate visualizations.\n",
    "\n",
    "To receive credit for a lab, answer all questions correctly and submit before the deadline.\n",
    "\n",
    "**Due Date:** \n",
    "\n",
    "**Collaboration Policy:** Data science is a collaborative activity. While you may talk with others about the labs, we ask that you **write your solutions individually**. If you do discuss the assignments with others **please include their names below** (it's a good way to learn your classmates' names).\n",
    "\n",
    "**Collaborators:** \n",
    "\n",
    "List collaborators here. \n",
    "\n",
    "**Recommended Reading:**\n",
    "\n",
    "* [Applying a Function to a Column](https://inferentialthinking.com/chapters/08/1/Applying_a_Function_to_a_Column.html)\n",
    "* [Visualizations](https://inferentialthinking.com/chapters/07/Visualization.html)\n",
    "\n",
    "First, set up the notebook by running the cell below."
   ]
  },
  {
   "cell_type": "code",
   "execution_count": 78,
   "metadata": {},
   "outputs": [],
   "source": [
    "from datascience import *\n",
    "import numpy as np\n",
    "    \n",
    "%matplotlib inline\n",
    "import matplotlib.pyplot as plots\n",
    "plots.style.use('fivethirtyeight')\n",
    "\n",
    "from ipywidgets import interact, interactive, fixed, interact_manual\n",
    "import ipywidgets as widgets"
   ]
  },
  {
   "cell_type": "markdown",
   "metadata": {
    "tags": []
   },
   "source": [
    "# 1. Defining functions\n",
    "\n",
    "Let's write a very simple function that converts a proportion to a percentage by multiplying it by 100.  For example, the value of `to_percentage(.5)` should be the number 50 (no percent sign).\n",
    "\n",
    "A function definition has a few parts.\n",
    "\n",
    "## `def`\n",
    "It always starts with `def` (short for **def**ine):\n",
    "\n",
    "    def\n",
    "\n",
    "### Name\n",
    "Next comes the name of the function.  Like other names we've defined, it can't start with a number or contain spaces. Let's call our function `to_percentage`:\n",
    "    \n",
    "    def to_percentage\n",
    "\n",
    "### Signature\n",
    "Next comes something called the *signature* of the function.  This tells Python how many arguments your function should have, and what names you'll use to refer to those arguments in the function's code.  A function can have any number of arguments (including 0!). \n",
    "\n",
    "`to_percentage` should take one argument, and we'll call that argument `proportion` since it should be a proportion.\n",
    "\n",
    "    def to_percentage(proportion)\n",
    "    \n",
    "If we want our function to take more than one argument, we add a comma between each argument name. Note that if we had zero arguments, we'd still place the parentheses () after than name. \n",
    "\n",
    "We put a colon after the signature to tell Python it's over. If you're getting a syntax error after defining a function, check to make sure you remembered the colon!\n",
    "\n",
    "    def to_percentage(proportion):\n",
    "\n",
    "### Documentation\n",
    "Functions can do complicated things, so you should write an explanation of what your function does.  For small functions, this is less important, but it's a good habit to learn from the start.  Conventionally, Python functions are documented by writing an **indented** triple-quoted string:\n",
    "\n",
    "    def to_percentage(proportion):\n",
    "        \"\"\"Converts a proportion to a percentage.\"\"\"\n",
    "    \n",
    "    \n",
    "### Body\n",
    "Now we start writing code that runs when the function is called.  This is called the *body* of the function and every line **must be indented with a tab**.  Any lines that are *not* indented and left-aligned with the def statement is considered outside the function. \n",
    "\n",
    "Some notes about the body of the function:\n",
    "- We can write code that we would write anywhere else.  \n",
    "- We use the arguments defined in the function signature. We can do this because we assume that when we call the function, values are already assigned to those arguments.\n",
    "- We generally avoid referencing variables defined *outside* the function. If you would like to reference variables outside of the function, pass them through as arguments!\n",
    "\n",
    "\n",
    "Now, let's give a name to the number we multiply a proportion by to get a percentage:\n",
    "\n",
    "    def to_percentage(proportion):\n",
    "        \"\"\"Converts a proportion to a percentage.\"\"\"\n",
    "        factor = 100\n",
    "\n",
    "### `return`\n",
    "The special instruction `return` is part of the function's body and tells Python to make the value of the function call equal to whatever comes right after `return`.  We want the value of `to_percentage(.5)` to be the proportion .5 times the factor 100, so we write:\n",
    "\n",
    "    def to_percentage(proportion):\n",
    "        \"\"\"Converts a proportion to a percentage.\"\"\"\n",
    "        factor = 100\n",
    "        return proportion * factor\n",
    "        \n",
    "`return` only makes sense in the context of a function, and **can never be used outside of a function**. `return` is always the last line of the function because Python stops executing the body of a function once it hits a `return` statement.\n",
    "\n",
    "**Note:**  `return` inside a function tells Python what value the function evaluates to. However, there are other functions, like `print`, that have no `return` value. For example, `print` simply prints a certain value out to the console. \n",
    "\n",
    "`return` and `print` are **very** different. "
   ]
  },
  {
   "cell_type": "raw",
   "metadata": {},
   "source": [
    "# BEGIN QUESTION\n",
    "name: q1"
   ]
  },
  {
   "cell_type": "markdown",
   "metadata": {},
   "source": [
    "**Question 1.** Define `to_percentage` in the cell below.  Call your function to convert the proportion .2 to a percentage.  Name that percentage `twenty_percent`.\n"
   ]
  },
  {
   "cell_type": "raw",
   "metadata": {},
   "source": [
    "# BEGIN SOLUTION"
   ]
  },
  {
   "cell_type": "code",
   "execution_count": 7,
   "metadata": {
    "tags": []
   },
   "outputs": [
    {
     "data": {
      "text/plain": [
       "20.0"
      ]
     },
     "execution_count": 7,
     "metadata": {},
     "output_type": "execute_result"
    }
   ],
   "source": [
    "def to_percentage(proportion):\n",
    "    \"\"\"Change proportion to percentage.\n",
    "    \"\"\"\n",
    "# BEGIN SOLUTION NO PROMPT\n",
    "    factor = 100\n",
    "    return proportion*factor\n",
    "# END SOLUTION\n",
    "\"\"\" # BEGIN PROMPT\n",
    "    ... = ...\n",
    "    return ...\n",
    "\"\"\"; # END PROMPT\n",
    "twenty_percent = to_percentage(.2) # SOLUTION\n",
    "twenty_percent"
   ]
  },
  {
   "cell_type": "raw",
   "metadata": {},
   "source": [
    "# END SOLUTION"
   ]
  },
  {
   "cell_type": "raw",
   "metadata": {},
   "source": [
    "# BEGIN TESTS"
   ]
  },
  {
   "cell_type": "code",
   "execution_count": 8,
   "metadata": {},
   "outputs": [
    {
     "data": {
      "text/plain": [
       "True"
      ]
     },
     "execution_count": 8,
     "metadata": {},
     "output_type": "execute_result"
    }
   ],
   "source": [
    "to_percentage(.35) == 35.0"
   ]
  },
  {
   "cell_type": "raw",
   "metadata": {},
   "source": [
    "# END TESTS"
   ]
  },
  {
   "cell_type": "raw",
   "metadata": {},
   "source": [
    "# END QUESTION"
   ]
  },
  {
   "cell_type": "raw",
   "metadata": {},
   "source": [
    "# BEGIN QUESTION\n",
    "name: q2"
   ]
  },
  {
   "cell_type": "markdown",
   "metadata": {},
   "source": [
    "Like you’ve done with built-in functions in previous labs (`max`, `abs`, etc.), you can pass in named values as arguments to your function.\n",
    "\n",
    "**Question 2.** Use `to_percentage` again to convert the proportion named `a_proportion` (defined below) to a percentage called `a_percentage`.\n",
    "\n",
    "**Note:** You don't need to define `to_percentage` again. Like other named values, functions stick around after you define them.\n"
   ]
  },
  {
   "cell_type": "raw",
   "metadata": {},
   "source": [
    "# BEGIN SOLUTION"
   ]
  },
  {
   "cell_type": "code",
   "execution_count": 9,
   "metadata": {},
   "outputs": [
    {
     "data": {
      "text/plain": [
       "70.71067811865476"
      ]
     },
     "execution_count": 9,
     "metadata": {},
     "output_type": "execute_result"
    }
   ],
   "source": [
    "a_proportion = 2**(.5)/2\n",
    "a_percentage = to_percentage(a_proportion) # SOLUTION\n",
    "a_percentage"
   ]
  },
  {
   "cell_type": "raw",
   "metadata": {},
   "source": [
    "# END SOLUTION"
   ]
  },
  {
   "cell_type": "raw",
   "metadata": {},
   "source": [
    "# BEGIN TESTS"
   ]
  },
  {
   "cell_type": "code",
   "execution_count": 10,
   "metadata": {},
   "outputs": [
    {
     "data": {
      "text/plain": [
       "70.71067811865476"
      ]
     },
     "execution_count": 10,
     "metadata": {},
     "output_type": "execute_result"
    }
   ],
   "source": [
    "a_percentage"
   ]
  },
  {
   "cell_type": "raw",
   "metadata": {},
   "source": [
    "# END TESTS"
   ]
  },
  {
   "cell_type": "raw",
   "metadata": {},
   "source": [
    "# END QUESTION"
   ]
  },
  {
   "cell_type": "markdown",
   "metadata": {},
   "source": [
    "Here's something important about functions: the names assigned *within* a function body are only accessible within the function body. Once the function has returned, those names are gone.  So even if you created a variable called `factor` and defined `factor = 100` inside of the body of the `to_percentage` function and then called `to_percentage`, `factor` would not have a value assigned to it outside of the body of `to_percentage`:"
   ]
  },
  {
   "cell_type": "code",
   "execution_count": null,
   "metadata": {},
   "outputs": [],
   "source": [
    "# You should see an error when you run this. \n",
    "# If you don't, you might have defined factor somewhere above.\n",
    "factor"
   ]
  },
  {
   "cell_type": "raw",
   "metadata": {},
   "source": [
    "# BEGIN QUESTION\n",
    "name: q3"
   ]
  },
  {
   "cell_type": "markdown",
   "metadata": {},
   "source": [
    "As we've seen with built-in functions, functions can also take strings (or arrays, or tables) as arguments, and they can return those things, too.\n",
    "\n",
    "**Question 3.** Define a function called `disemvowel`.  It should take a single string as its argument.  (You can call that argument whatever you want.)  It should return a copy of that string, but with all the characters that are vowels removed.  (In English, the vowels are the characters \"a\", \"e\", \"i\", \"o\", and \"u\".) You can use as many lines inside of the function to do this as you’d like.\n",
    "\n",
    "**Hint:** To remove all the \"a\"s from a string, you can use `that_string.replace(\"a\", \"\")`.  The `.replace` method for strings returns a new string, so you can call `replace` multiple times, one after the other. \n"
   ]
  },
  {
   "cell_type": "raw",
   "metadata": {},
   "source": [
    "# BEGIN SOLUTION"
   ]
  },
  {
   "cell_type": "code",
   "execution_count": 12,
   "metadata": {},
   "outputs": [
    {
     "data": {
      "text/plain": [
       "'cn y rd ths wtht vwls?'"
      ]
     },
     "execution_count": 12,
     "metadata": {},
     "output_type": "execute_result"
    }
   ],
   "source": [
    "def disemvowel(a_string):\n",
    "    \"\"\"Removes all vowels from a string.\n",
    "    \"\"\"\n",
    "    return a_string.replace('a', '').replace('e', '').replace('i', '').replace('o', '').replace('u', '') # SOLUTION\n",
    "\n",
    "# An example call to your function.\n",
    "# It's helpful to run an example call from\n",
    "# time to time while you're writing a function,\n",
    "# to see how it currently works.\n",
    "disemvowel(\"can you read this without vowels?\")"
   ]
  },
  {
   "cell_type": "raw",
   "metadata": {},
   "source": [
    "# END SOLUTION"
   ]
  },
  {
   "cell_type": "raw",
   "metadata": {},
   "source": [
    "# BEGIN TESTS"
   ]
  },
  {
   "cell_type": "code",
   "execution_count": 13,
   "metadata": {},
   "outputs": [
    {
     "data": {
      "text/plain": [
       "True"
      ]
     },
     "execution_count": 13,
     "metadata": {},
     "output_type": "execute_result"
    }
   ],
   "source": [
    "disemvowel('datasceince') == 'dtscnc'"
   ]
  },
  {
   "cell_type": "raw",
   "metadata": {},
   "source": [
    "# END TESTS"
   ]
  },
  {
   "cell_type": "raw",
   "metadata": {},
   "source": [
    "# END QUESTION"
   ]
  },
  {
   "cell_type": "raw",
   "metadata": {},
   "source": [
    "# BEGIN QUESTION\n",
    "name: q4"
   ]
  },
  {
   "cell_type": "markdown",
   "metadata": {},
   "source": [
    "## Calls on calls on calls\n",
    "Just as you write a series of lines to build up a complex computation, it's useful to define a series of small functions that build on each other.  Since you can write any code inside a function's body, you can call other functions you've written.\n",
    "\n",
    "If a function is a like a recipe, defining a function in terms of other functions is like having a recipe for cake telling you to follow another recipe to make the frosting, and another to make the jam filling.  This makes the cake recipe shorter and clearer, and it avoids having a bunch of duplicated frosting recipes.  It's a foundation of productive programming.\n",
    "\n",
    "For example, suppose you want to count the number of characters *that aren't vowels* in a piece of text.  One way to do that is this to remove all the vowels and count the size of the remaining string.\n",
    "\n",
    "**Question 4.** Write a function called `num_non_vowels`.  It should take a string as its argument and return a number.  That number should be the number of characters in the argument string that aren't vowels. You should use the `disemvowel` function you wrote above inside of the `num_non_vowels` function.\n",
    "\n",
    "**Hint:** The function `len` takes a string as its argument and returns the number of characters in it.\n"
   ]
  },
  {
   "cell_type": "raw",
   "metadata": {},
   "source": [
    "# BEGIN SOLUTION"
   ]
  },
  {
   "cell_type": "code",
   "execution_count": 77,
   "metadata": {},
   "outputs": [
    {
     "data": {
      "text/plain": [
       "8"
      ]
     },
     "execution_count": 77,
     "metadata": {},
     "output_type": "execute_result"
    }
   ],
   "source": [
    "def num_non_vowels(a_string):\n",
    "    \"\"\"The number of characters in a string, minus the vowels.\n",
    "    \"\"\"\n",
    "    return len(disemvowel(a_string)) # SOLUTION\n",
    "\n",
    "# Try calling your function yourself to make sure the output is what you expect. \n",
    "num_non_vowels(\"krzyzewski\")"
   ]
  },
  {
   "cell_type": "raw",
   "metadata": {},
   "source": [
    "# END SOLUTION"
   ]
  },
  {
   "cell_type": "raw",
   "metadata": {},
   "source": [
    "# BEGIN TESTS"
   ]
  },
  {
   "cell_type": "code",
   "execution_count": 76,
   "metadata": {},
   "outputs": [
    {
     "data": {
      "text/plain": [
       "True"
      ]
     },
     "execution_count": 76,
     "metadata": {},
     "output_type": "execute_result"
    }
   ],
   "source": [
    "num_non_vowels('go unicorns') == 7"
   ]
  },
  {
   "cell_type": "raw",
   "metadata": {},
   "source": [
    "# END TESTS"
   ]
  },
  {
   "cell_type": "raw",
   "metadata": {},
   "source": [
    "# END QUESTION"
   ]
  },
  {
   "cell_type": "markdown",
   "metadata": {},
   "source": [
    "Functions can also encapsulate code that *displays output* instead of computing a value. For example, if you call `print` inside a function, and then call that function, something will get printed.\n",
    "\n",
    "The `movies_by_year` dataset in the textbook has information about movie sales in recent years.  Suppose you'd like to display the year with the 5th-highest total gross movie sales, printed in a human-readable way.  \n",
    "\n",
    "You might do this."
   ]
  },
  {
   "cell_type": "code",
   "execution_count": 14,
   "metadata": {},
   "outputs": [
    {
     "name": "stdout",
     "output_type": "stream",
     "text": [
      "Year number 5 for total gross movie sales was 2017\n"
     ]
    }
   ],
   "source": [
    "movies_by_year = Table.read_table('data/movies_by_year.csv')\n",
    "rank = 5\n",
    "fifth_from_top_movie_year = movies_by_year.sort('Gross', descending=True).column('Year').item(rank-1)\n",
    "print('Year number', rank, 'for total gross movie sales was', fifth_from_top_movie_year)"
   ]
  },
  {
   "cell_type": "raw",
   "metadata": {},
   "source": [
    "# BEGIN QUESTION\n",
    "name: q5"
   ]
  },
  {
   "cell_type": "markdown",
   "metadata": {},
   "source": [
    "After writing this, you realize you also wanted to print out the 2$^\\text{nd}$ and 3$^\\text{rd}$ highest years.  Instead of copying your code, you decide to put it in a function.  Since the rank varies, you make that an argument to your function.\n",
    "\n",
    "**Question 5.** Write a function called `print_kth_top_movie_year`.  It should take a single argument, the rank of the year (like 2, 3, or 5 in the above examples).  It should print out a message like the one above.  \n",
    "\n",
    "**Note:** Your function shouldn't have a `return` statement.\n"
   ]
  },
  {
   "cell_type": "raw",
   "metadata": {},
   "source": [
    "# BEGIN SOLUTION"
   ]
  },
  {
   "cell_type": "code",
   "execution_count": 17,
   "metadata": {},
   "outputs": [
    {
     "name": "stdout",
     "output_type": "stream",
     "text": [
      "Year number 2 for total gross movie sales was 2016\n",
      "Year number 3 for total gross movie sales was 2019\n"
     ]
    }
   ],
   "source": [
    "def print_kth_top_movie_year(k):\n",
    "    \"\"\"Print the year for the kth top grossing movie.\n",
    "    \"\"\"\n",
    "    # BEGIN SOLUTION\n",
    "    year = movies_by_year.sort('Gross', descending=True).column('Year').item(k-1)\n",
    "    print('Year number', k, 'for total gross movie sales was', year)\n",
    "    # END SOLUTION\n",
    "    \"\"\" # BEGIN PROMPT\n",
    "    ...\n",
    "    print(...)\n",
    "    \"\"\"; # END PROMPT\n",
    "    \n",
    "# Example calls to your function\n",
    "print_kth_top_movie_year(2)\n",
    "print_kth_top_movie_year(3)"
   ]
  },
  {
   "cell_type": "raw",
   "metadata": {},
   "source": [
    "# END SOLUTION"
   ]
  },
  {
   "cell_type": "raw",
   "metadata": {},
   "source": [
    "# BEGIN TESTS"
   ]
  },
  {
   "cell_type": "code",
   "execution_count": 18,
   "metadata": {},
   "outputs": [
    {
     "name": "stdout",
     "output_type": "stream",
     "text": [
      "Year number 3 for total gross movie sales was 2019\n"
     ]
    }
   ],
   "source": [
    "print_kth_top_movie_year(3)"
   ]
  },
  {
   "cell_type": "raw",
   "metadata": {},
   "source": [
    "# END TESTS"
   ]
  },
  {
   "cell_type": "raw",
   "metadata": {},
   "source": [
    "# END QUESTION"
   ]
  },
  {
   "cell_type": "markdown",
   "metadata": {},
   "source": [
    "The `interact` function also allows you to pass in an array for a function argument. It will then present a dropdown menu of options."
   ]
  },
  {
   "cell_type": "code",
   "execution_count": 19,
   "metadata": {},
   "outputs": [
    {
     "data": {
      "application/vnd.jupyter.widget-view+json": {
       "model_id": "429944ea5b944913aa5af05ff7b51d03",
       "version_major": 2,
       "version_minor": 0
      },
      "text/plain": [
       "interactive(children=(Dropdown(description='k', options=(1, 2, 3, 4, 5, 6, 7, 8, 9), value=1), Output()), _dom…"
      ]
     },
     "metadata": {},
     "output_type": "display_data"
    }
   ],
   "source": [
    "_ = interact(print_kth_top_movie_year, k = np.arange(1, 10))"
   ]
  },
  {
   "cell_type": "markdown",
   "metadata": {},
   "source": [
    "##### `print` is not the same as `return`\n",
    "The `print_kth_top_movie_year(k)` function prints the total gross movie sales for the year that was provided. However, since we did not return any value in this function, we can not use it after we call it. Let's look at an example of another function that prints a value but does not return it."
   ]
  },
  {
   "cell_type": "code",
   "execution_count": 20,
   "metadata": {},
   "outputs": [],
   "source": [
    "def print_number_five():\n",
    "    \"\"\"Print the the number 5.\n",
    "    \"\"\"\n",
    "    print(5)"
   ]
  },
  {
   "cell_type": "code",
   "execution_count": 21,
   "metadata": {},
   "outputs": [
    {
     "name": "stdout",
     "output_type": "stream",
     "text": [
      "5\n"
     ]
    }
   ],
   "source": [
    "print_number_five()"
   ]
  },
  {
   "cell_type": "code",
   "execution_count": null,
   "metadata": {},
   "outputs": [],
   "source": [
    "print_number_five_output = print_number_five()\n",
    "print_number_five_output + 2"
   ]
  },
  {
   "cell_type": "raw",
   "metadata": {},
   "source": [
    "# BEGIN QUESTION\n",
    "name: q6\n",
    "manual: true"
   ]
  },
  {
   "cell_type": "markdown",
   "metadata": {},
   "source": [
    "It may seem that `print_number_five()` is returning a value, 5. In reality, it just displays the number 5 to you without giving you the actual value! If your function prints out a value without returning it and you try to use that value, you will run into errors, so be careful!\n",
    "\n",
    "**Question 6.** Explain how you might add a line of code to the `print_number_five` function (after `print(5)`) so that the code `print_number_five_output + 5` would result in the value `10`, rather than an error.\n"
   ]
  },
  {
   "cell_type": "raw",
   "metadata": {},
   "source": [
    "# BEGIN SOLUTION"
   ]
  },
  {
   "cell_type": "markdown",
   "metadata": {},
   "source": [
    "**Solution:** Add the line `return 5`."
   ]
  },
  {
   "cell_type": "raw",
   "metadata": {},
   "source": [
    "# END SOLUTION"
   ]
  },
  {
   "cell_type": "raw",
   "metadata": {},
   "source": [
    "# END QUESTION"
   ]
  },
  {
   "cell_type": "markdown",
   "metadata": {},
   "source": [
    "## 2. Functions and CEO Incomes\n",
    "\n",
    "Let's take a look at the 2019 compensation of North Carolina CEOs. The following table contains information on the top 61 highest paid CEOs for companies headquartered in North Carolina. The data was compiled from the [AFL-CIO Executive Paywatch database](https://aflcio.org/paywatch/highest-paid-ceos), and ultimately came from [filings](https://www.sec.gov/answers/proxyhtf.htm) mandated by the SEC from all publicly-traded companies.\n",
    "\n",
    "We've copied the raw data from the AFL-CIO database into a file called `nc-ceo-pay.csv`."
   ]
  },
  {
   "cell_type": "code",
   "execution_count": 34,
   "metadata": {},
   "outputs": [
    {
     "data": {
      "text/html": [
       "<table border=\"1\" class=\"dataframe\">\n",
       "    <thead>\n",
       "        <tr>\n",
       "            <th>Company</th> <th>Ticker</th> <th>City</th> <th>Name</th> <th>Salary</th> <th>Bonus</th> <th>Stock</th> <th>Options</th> <th>Incentive</th> <th>Retirement</th> <th>Other</th> <th>Total Pay</th>\n",
       "        </tr>\n",
       "    </thead>\n",
       "    <tbody>\n",
       "        <tr>\n",
       "            <td>Bank of America Corporation    </td> <td>BAC   </td> <td>Charlotte  </td> <td>Brian Moynihan    </td> <td>$1,500,000 </td> <td>$0   </td> <td>$23,575,105 </td> <td>$0          </td> <td>$0         </td> <td>$632,250   </td> <td>$331,858   </td> <td>$26,039,213 </td>\n",
       "        </tr>\n",
       "        <tr>\n",
       "            <td>IQVIA Holdings, Inc.           </td> <td>IQV   </td> <td>Durham     </td> <td>Ari Bousbib       </td> <td>$1,684,470 </td> <td>$0   </td> <td>$6,599,377  </td> <td>$6,026,709  </td> <td>$6,600,000 </td> <td>$583,877   </td> <td>$645,343   </td> <td>$22,139,776 </td>\n",
       "        </tr>\n",
       "        <tr>\n",
       "            <td>Honeywell International Inc.   </td> <td>HON   </td> <td>Charlotte  </td> <td>Darius Adamczyk   </td> <td>$1,600,000 </td> <td>$0   </td> <td>$8,612,506  </td> <td>$4,635,409  </td> <td>$4,065,000 </td> <td>$748,107   </td> <td>$864,082   </td> <td>$20,525,104 </td>\n",
       "        </tr>\n",
       "        <tr>\n",
       "            <td>Nucor Corporation              </td> <td>NUE   </td> <td>Charlotte  </td> <td>John Ferriola     </td> <td>$1,450,000 </td> <td>$0   </td> <td>$8,499,968  </td> <td>$1,750,000  </td> <td>$3,907,750 </td> <td>$0         </td> <td>$3,491,864 </td> <td>$19,099,582 </td>\n",
       "        </tr>\n",
       "        <tr>\n",
       "            <td>Duke Energy Corporation        </td> <td>DUK   </td> <td>Charlotte  </td> <td>Lynn Good         </td> <td>$1,383,750 </td> <td>$0   </td> <td>$10,122,579 </td> <td>$0          </td> <td>$2,793,389 </td> <td>$355,908   </td> <td>$373,760   </td> <td>$15,029,386 </td>\n",
       "        </tr>\n",
       "        <tr>\n",
       "            <td>CommScope Holding Co., Inc.    </td> <td>COMM  </td> <td>Hickory    </td> <td>Marvin Edwards Jr.</td> <td>$1,100,000 </td> <td>$0   </td> <td>$0          </td> <td>$12,088,716 </td> <td>$517,110   </td> <td>$54,686    </td> <td>$231,526   </td> <td>$13,992,038 </td>\n",
       "        </tr>\n",
       "        <tr>\n",
       "            <td>Martin Marietta Materials, Inc.</td> <td>MLM   </td> <td>Raleigh    </td> <td>C. Nye            </td> <td>$1,141,667 </td> <td>$0   </td> <td>$6,294,708  </td> <td>$0          </td> <td>$1,450,000 </td> <td>$3,073,183 </td> <td>$238,800   </td> <td>$12,198,358 </td>\n",
       "        </tr>\n",
       "        <tr>\n",
       "            <td>Coca-Cola Consolidated, Inc.   </td> <td>COKE  </td> <td>Charlotte  </td> <td>J. Harrison       </td> <td>$1,151,114 </td> <td>$0   </td> <td>$0          </td> <td>$0          </td> <td>$8,708,743 </td> <td>$402,382   </td> <td>$1,445,385 </td> <td>$11,707,624 </td>\n",
       "        </tr>\n",
       "        <tr>\n",
       "            <td>Lowe's Companies, Inc.         </td> <td>LOW   </td> <td>Mooresville</td> <td>Marvin Ellison    </td> <td>$1,450,000 </td> <td>$0   </td> <td>$6,410,644  </td> <td>$2,074,702  </td> <td>$1,258,657 </td> <td>$0         </td> <td>$427,366   </td> <td>$11,621,369 </td>\n",
       "        </tr>\n",
       "        <tr>\n",
       "            <td>Truist Financial Corporation   </td> <td>TFC   </td> <td>Charlotte  </td> <td>Kelly King        </td> <td>$1,121,625 </td> <td>$0   </td> <td>$3,400,092  </td> <td>$0          </td> <td>$4,781,982 </td> <td>$1,810,412 </td> <td>$376,998   </td> <td>$11,491,109 </td>\n",
       "        </tr>\n",
       "    </tbody>\n",
       "</table>\n",
       "<p>... (51 rows omitted)</p>"
      ],
      "text/plain": [
       "Company                         | Ticker | City        | Name               | Salary      | Bonus | Stock        | Options      | Incentive   | Retirement  | Other       | Total Pay\n",
       "Bank of America Corporation     | BAC    | Charlotte   | Brian Moynihan     | $1,500,000  | $0    | $23,575,105  | $0           | $0          | $632,250    | $331,858    | $26,039,213\n",
       "IQVIA Holdings, Inc.            | IQV    | Durham      | Ari Bousbib        | $1,684,470  | $0    | $6,599,377   | $6,026,709   | $6,600,000  | $583,877    | $645,343    | $22,139,776\n",
       "Honeywell International Inc.    | HON    | Charlotte   | Darius Adamczyk    | $1,600,000  | $0    | $8,612,506   | $4,635,409   | $4,065,000  | $748,107    | $864,082    | $20,525,104\n",
       "Nucor Corporation               | NUE    | Charlotte   | John Ferriola      | $1,450,000  | $0    | $8,499,968   | $1,750,000   | $3,907,750  | $0          | $3,491,864  | $19,099,582\n",
       "Duke Energy Corporation         | DUK    | Charlotte   | Lynn Good          | $1,383,750  | $0    | $10,122,579  | $0           | $2,793,389  | $355,908    | $373,760    | $15,029,386\n",
       "CommScope Holding Co., Inc.     | COMM   | Hickory     | Marvin Edwards Jr. | $1,100,000  | $0    | $0           | $12,088,716  | $517,110    | $54,686     | $231,526    | $13,992,038\n",
       "Martin Marietta Materials, Inc. | MLM    | Raleigh     | C. Nye             | $1,141,667  | $0    | $6,294,708   | $0           | $1,450,000  | $3,073,183  | $238,800    | $12,198,358\n",
       "Coca-Cola Consolidated, Inc.    | COKE   | Charlotte   | J. Harrison        | $1,151,114  | $0    | $0           | $0           | $8,708,743  | $402,382    | $1,445,385  | $11,707,624\n",
       "Lowe's Companies, Inc.          | LOW    | Mooresville | Marvin Ellison     | $1,450,000  | $0    | $6,410,644   | $2,074,702   | $1,258,657  | $0          | $427,366    | $11,621,369\n",
       "Truist Financial Corporation    | TFC    | Charlotte   | Kelly King         | $1,121,625  | $0    | $3,400,092   | $0           | $4,781,982  | $1,810,412  | $376,998    | $11,491,109\n",
       "... (51 rows omitted)"
      ]
     },
     "execution_count": 34,
     "metadata": {},
     "output_type": "execute_result"
    }
   ],
   "source": [
    "raw_compensation = Table.read_table('data/nc-ceo-pay.csv')\n",
    "raw_compensation"
   ]
  },
  {
   "cell_type": "markdown",
   "metadata": {},
   "source": [
    "We want to compute the average of the CEOs' pay. Try running the cell below."
   ]
  },
  {
   "cell_type": "code",
   "execution_count": null,
   "metadata": {},
   "outputs": [],
   "source": [
    "np.average(raw_compensation.column('Total Pay'))"
   ]
  },
  {
   "cell_type": "raw",
   "metadata": {},
   "source": [
    "# BEGIN QUESTION\n",
    "name: q7"
   ]
  },
  {
   "cell_type": "markdown",
   "metadata": {},
   "source": [
    "You should see a `TypeError`. Let's examine why this error occurred by looking at the values in the `Total Pay` column. \n",
    "\n",
    "You should have found that the values in the `Total Pay` column are strings. It doesn't make sense to take the average of string values, so we need to convert them to numbers if we want to do this. \n",
    "\n",
    "**Question 7.** Extract the first value in the column `Total Pay`.  It's [Brian Moynihan's](https://en.wikipedia.org/wiki/Brian_Moynihan) pay in 2019, in dollars.  Call it `brian_moynihan_pay_string`.\n"
   ]
  },
  {
   "cell_type": "raw",
   "metadata": {},
   "source": [
    "# BEGIN SOLUTION"
   ]
  },
  {
   "cell_type": "code",
   "execution_count": 36,
   "metadata": {},
   "outputs": [
    {
     "data": {
      "text/plain": [
       "'$26,039,213 '"
      ]
     },
     "execution_count": 36,
     "metadata": {},
     "output_type": "execute_result"
    }
   ],
   "source": [
    "brian_moynihan_pay_string = raw_compensation.column('Total Pay').item(0) # SOLUTION\n",
    "brian_moynihan_pay_string"
   ]
  },
  {
   "cell_type": "raw",
   "metadata": {},
   "source": [
    "# END SOLUTION"
   ]
  },
  {
   "cell_type": "raw",
   "metadata": {},
   "source": [
    "# BEGIN TESTS"
   ]
  },
  {
   "cell_type": "code",
   "execution_count": 37,
   "metadata": {},
   "outputs": [
    {
     "data": {
      "text/plain": [
       "'$26,039,213 '"
      ]
     },
     "execution_count": 37,
     "metadata": {},
     "output_type": "execute_result"
    }
   ],
   "source": [
    "brian_moynihan_pay_string"
   ]
  },
  {
   "cell_type": "raw",
   "metadata": {},
   "source": [
    "# END TESTS"
   ]
  },
  {
   "cell_type": "raw",
   "metadata": {},
   "source": [
    "# END QUESTION"
   ]
  },
  {
   "cell_type": "raw",
   "metadata": {},
   "source": [
    "# BEGIN QUESTION\n",
    "name: q8"
   ]
  },
  {
   "cell_type": "markdown",
   "metadata": {},
   "source": [
    "**Question 8.** Convert `brian_moynihan_pay_string` to a number of *dollars*. \n",
    "\n",
    "**Some hints**, as this question requires multiple steps:\n",
    "\n",
    "- The string method `strip` will be useful for removing the dollar sign; it removes a specified character from the start or end of a string.  For example, the value of `\"100%\".strip(\"%\")` is the string `\"100\"`. \n",
    "\n",
    "- The string method `replace` from earlier in this lab will be useful for removing the commas; remember this method can remove any character by replacing it with an empty string `''`\n",
    "\n",
    "- You'll also need the function `float`, which converts a string that looks like a number to an actual number.  \n"
   ]
  },
  {
   "cell_type": "raw",
   "metadata": {},
   "source": [
    "# BEGIN SOLUTION"
   ]
  },
  {
   "cell_type": "code",
   "execution_count": 38,
   "metadata": {},
   "outputs": [
    {
     "data": {
      "text/plain": [
       "26039213.0"
      ]
     },
     "execution_count": 38,
     "metadata": {},
     "output_type": "execute_result"
    }
   ],
   "source": [
    "brian_moynihan_pay = float(brian_moynihan_pay_string.strip('$').replace(',', '')) # SOLUTION\n",
    "brian_moynihan_pay"
   ]
  },
  {
   "cell_type": "raw",
   "metadata": {},
   "source": [
    "# END SOLUTION"
   ]
  },
  {
   "cell_type": "raw",
   "metadata": {},
   "source": [
    "# BEGIN TESTS"
   ]
  },
  {
   "cell_type": "code",
   "execution_count": 39,
   "metadata": {},
   "outputs": [
    {
     "data": {
      "text/plain": [
       "26039213.0"
      ]
     },
     "execution_count": 39,
     "metadata": {},
     "output_type": "execute_result"
    }
   ],
   "source": [
    "brian_moynihan_pay"
   ]
  },
  {
   "cell_type": "raw",
   "metadata": {},
   "source": [
    "# END TESTS"
   ]
  },
  {
   "cell_type": "raw",
   "metadata": {},
   "source": [
    "# END QUESTION"
   ]
  },
  {
   "cell_type": "raw",
   "metadata": {},
   "source": [
    "# BEGIN QUESTION\n",
    "name: q9"
   ]
  },
  {
   "cell_type": "markdown",
   "metadata": {},
   "source": [
    "To compute the average pay, we need to do this for every CEO.  But that looks like it would involve copying this code 61 times.\n",
    "\n",
    "This is where functions come in.  First, we'll define a new function, giving a name to the expression that converts `Total Pay` strings to numeric values.  Later in this lab, we'll see the payoff: we can call that function on every pay string in the dataset at once.\n",
    "\n",
    "The next section of this lab explains how to define a function For now, just fill in the ellipses in the cell below.\n",
    "\n",
    "**Question 9.** Copy the expression you used to compute `brian_moynihan_pay`, and use it as the return expression of the function below. But make sure you replace the specific `brian_moynihan_pay_string` with the generic `pay_string` name specified in the first line in the `def` statement.\n",
    "\n",
    "**Hint:** When dealing with functions, you should generally not be referencing any variable outside of the function. Usually, you want to be working with the arguments that are passed into it, such as `pay_string` for this function. If you're using `brian_moynihan_pay_string` within your function, you're referencing an outside variable!\n"
   ]
  },
  {
   "cell_type": "raw",
   "metadata": {},
   "source": [
    "# BEGIN SOLUTION"
   ]
  },
  {
   "cell_type": "code",
   "execution_count": 40,
   "metadata": {},
   "outputs": [],
   "source": [
    "def convert_pay_string_to_number(pay_string):\n",
    "    \"\"\"Converts a pay string like '$100,000,000 to a number of dollars.\n",
    "    \"\"\"\n",
    "    return float(pay_string.strip('$').replace(',', '')) # SOLUTION"
   ]
  },
  {
   "cell_type": "raw",
   "metadata": {},
   "source": [
    "# END SOLUTION"
   ]
  },
  {
   "cell_type": "raw",
   "metadata": {},
   "source": [
    "# BEGIN TESTS"
   ]
  },
  {
   "cell_type": "code",
   "execution_count": 41,
   "metadata": {},
   "outputs": [
    {
     "data": {
      "text/plain": [
       "True"
      ]
     },
     "execution_count": 41,
     "metadata": {},
     "output_type": "execute_result"
    }
   ],
   "source": [
    "convert_pay_string_to_number('$100,000,000 ') == 100000000.0"
   ]
  },
  {
   "cell_type": "code",
   "execution_count": 42,
   "metadata": {},
   "outputs": [
    {
     "data": {
      "text/plain": [
       "True"
      ]
     },
     "execution_count": 42,
     "metadata": {},
     "output_type": "execute_result"
    }
   ],
   "source": [
    "convert_pay_string_to_number('$23,000,000 ') == 23000000.0"
   ]
  },
  {
   "cell_type": "raw",
   "metadata": {},
   "source": [
    "# END TESTS"
   ]
  },
  {
   "cell_type": "raw",
   "metadata": {},
   "source": [
    "# END QUESTION"
   ]
  },
  {
   "cell_type": "markdown",
   "metadata": {},
   "source": [
    "Running that cell doesn't convert any particular pay string. Instead, it creates a function called `convert_pay_string_to_number` that can convert *any* string with the right format to a number representing millions of dollars.\n",
    "\n",
    "We can call our function just like we call the built-in functions we've seen. It takes one argument -- a string -- and it returns a float.\n",
    "\n",
    "**Note:** We can also compute Safra Catz's pay in the same way."
   ]
  },
  {
   "cell_type": "code",
   "execution_count": 43,
   "metadata": {},
   "outputs": [
    {
     "data": {
      "text/plain": [
       "7680984.0"
      ]
     },
     "execution_count": 43,
     "metadata": {},
     "output_type": "execute_result"
    }
   ],
   "source": [
    "convert_pay_string_to_number(raw_compensation.where('Name', are.containing('Susan')).column(\"Total Pay\").item(0))"
   ]
  },
  {
   "cell_type": "markdown",
   "metadata": {
    "tags": []
   },
   "source": [
    "So, what have we gained by defining the `convert_pay_string_to_number` function?\n",
    "\n",
    "Well, without it, we'd have to copy the code \n",
    "\n",
    "`float(pay_string.strip('$').replace(',',''))` \n",
    "\n",
    "each time we wanted to convert a pay string.  Now we just call a function whose name says exactly what it's doing."
   ]
  },
  {
   "cell_type": "markdown",
   "metadata": {},
   "source": [
    "# 3. `apply`ing Functions\n",
    "\n",
    "Defining a function is a lot like giving a name to a value with `=`.  In fact, a function is a value just like the number 1 or the text \"data\".\n",
    "\n",
    "For example, if we want to we can make a new name for the built-in function `max`."
   ]
  },
  {
   "cell_type": "code",
   "execution_count": null,
   "metadata": {},
   "outputs": [],
   "source": [
    "our_name_for_max = max\n",
    "our_name_for_max(2, 6)"
   ]
  },
  {
   "cell_type": "markdown",
   "metadata": {},
   "source": [
    "The old name for `max` is still around."
   ]
  },
  {
   "cell_type": "code",
   "execution_count": null,
   "metadata": {},
   "outputs": [],
   "source": [
    "max(2, 6)"
   ]
  },
  {
   "cell_type": "markdown",
   "metadata": {},
   "source": [
    "Now try writing `?max` or `?our_name_for_max` (or the name of any other function) in a cell, and run that cell.  A information box should show up at the bottom of your screen a longer description of the function\n",
    "\n",
    "**Note:** You can also press Shift+Tab after clicking on a name to see similar information."
   ]
  },
  {
   "cell_type": "code",
   "execution_count": null,
   "metadata": {},
   "outputs": [],
   "source": []
  },
  {
   "cell_type": "markdown",
   "metadata": {},
   "source": [
    "Let's look at what happens when we set `max`to a non-function value. You'll notice that a `TypeError` will occur when you try calling `max`. Things like integers and strings are not callable. Look out for any functions that might have been renamed when you encounter this type of error."
   ]
  },
  {
   "cell_type": "code",
   "execution_count": null,
   "metadata": {},
   "outputs": [],
   "source": [
    "max = 6\n",
    "max(2, 6)"
   ]
  },
  {
   "cell_type": "markdown",
   "metadata": {},
   "source": [
    "## Careful\n",
    "\n",
    "Because Python treats functions like any other type of object, you can overwrite the value like you could any other piece of data.\n",
    "\n",
    "Let's look at what happens when we set `max`to a non-function value. You'll notice that a TypeError will occur when you try running `max(2, 6)` on line 2 in the cell below. That's because in line 1, you redefined `max` to no longer be the function that you know and love, but rather the `int` with value of `6`. Things like integers and strings are not callable as functions, which explains the error message you get when you run the cell below. \n",
    "\n",
    "If you ever try running a function and get this error message, look out for any functions that might have been renamed (likely by accident) somewhere else in your notebook.\n",
    "\n",
    "The cell below resets max to the built-in function. Just run the cell below, don't change its contents."
   ]
  },
  {
   "cell_type": "code",
   "execution_count": null,
   "metadata": {},
   "outputs": [],
   "source": [
    "import builtins\n",
    "max = builtins.max\n",
    "max(2, 6)"
   ]
  },
  {
   "cell_type": "markdown",
   "metadata": {},
   "source": [
    "Why is this useful? Since functions are just values, it's possible to pass them as arguments to other functions. Here's a simple but not-so-practical example: we can make an array of functions."
   ]
  },
  {
   "cell_type": "code",
   "execution_count": null,
   "metadata": {},
   "outputs": [],
   "source": [
    "make_array(max, np.average, are.equal_to)"
   ]
  },
  {
   "cell_type": "raw",
   "metadata": {},
   "source": [
    "# BEGIN QUESTION\n",
    "name: q10"
   ]
  },
  {
   "cell_type": "markdown",
   "metadata": {},
   "source": [
    "**Question 10.** Make an array containing any 3 other functions you've seen.  Call it `some_functions`.\n"
   ]
  },
  {
   "cell_type": "raw",
   "metadata": {},
   "source": [
    "# BEGIN SOLUTION"
   ]
  },
  {
   "cell_type": "code",
   "execution_count": 67,
   "metadata": {},
   "outputs": [
    {
     "data": {
      "text/plain": [
       "array([<built-in function min>, <built-in function arange>,\n",
       "       <built-in function print>], dtype=object)"
      ]
     },
     "execution_count": 67,
     "metadata": {},
     "output_type": "execute_result"
    }
   ],
   "source": [
    "some_functions = make_array(min, np.arange, print) # SOLUTION\n",
    "some_functions"
   ]
  },
  {
   "cell_type": "raw",
   "metadata": {},
   "source": [
    "# END SOLUTION"
   ]
  },
  {
   "cell_type": "raw",
   "metadata": {},
   "source": [
    "# BEGIN TESTS"
   ]
  },
  {
   "cell_type": "code",
   "execution_count": 68,
   "metadata": {},
   "outputs": [
    {
     "data": {
      "text/plain": [
       "3"
      ]
     },
     "execution_count": 68,
     "metadata": {},
     "output_type": "execute_result"
    }
   ],
   "source": [
    "len(some_functions)"
   ]
  },
  {
   "cell_type": "code",
   "execution_count": 69,
   "metadata": {},
   "outputs": [
    {
     "data": {
      "text/plain": [
       "True"
      ]
     },
     "execution_count": 69,
     "metadata": {},
     "output_type": "execute_result"
    }
   ],
   "source": [
    "callable(some_functions.item(0))"
   ]
  },
  {
   "cell_type": "code",
   "execution_count": 70,
   "metadata": {},
   "outputs": [
    {
     "data": {
      "text/plain": [
       "True"
      ]
     },
     "execution_count": 70,
     "metadata": {},
     "output_type": "execute_result"
    }
   ],
   "source": [
    "callable(some_functions.item(1))"
   ]
  },
  {
   "cell_type": "code",
   "execution_count": 71,
   "metadata": {},
   "outputs": [
    {
     "data": {
      "text/plain": [
       "True"
      ]
     },
     "execution_count": 71,
     "metadata": {},
     "output_type": "execute_result"
    }
   ],
   "source": [
    "callable(some_functions.item(2))"
   ]
  },
  {
   "cell_type": "raw",
   "metadata": {},
   "source": [
    "# END TESTS"
   ]
  },
  {
   "cell_type": "raw",
   "metadata": {},
   "source": [
    "# END QUESTION"
   ]
  },
  {
   "cell_type": "markdown",
   "metadata": {},
   "source": [
    "Working with functions as values can lead to some funny-looking code. For example, see if you can figure out why the following code works. Check your explanation with a classmate or your instructor."
   ]
  },
  {
   "cell_type": "code",
   "execution_count": null,
   "metadata": {},
   "outputs": [],
   "source": [
    "make_array(max, np.average, are.equal_to).item(0)(4, -2, 7)"
   ]
  },
  {
   "cell_type": "markdown",
   "metadata": {},
   "source": [
    "A more useful example of passing functions to other functions as arguments is the table method `apply`.\n",
    "\n",
    "`apply` calls a function many times, once on *each* element in a column of a table.  It produces an *array* of the results.  Here we use `apply` to convert every CEO's pay to a number, using the function you defined."
   ]
  },
  {
   "cell_type": "code",
   "execution_count": 44,
   "metadata": {},
   "outputs": [
    {
     "data": {
      "text/plain": [
       "array([26039213., 22139776., 20525104., 19099582., 15029386., 13992038.,\n",
       "       12198358., 11707624., 11621369., 11491109., 11366243., 10448871.,\n",
       "        9185015.,  9022988.,  8972537.,  8521584.,  8490118.,  7691513.,\n",
       "        7680984.,  7646359.,  7608668.,  7394904.,  7344950.,  7160216.,\n",
       "        6569699.,  6254034.,  5535511.,  5529666.,  5494222.,  5271448.,\n",
       "        4850813.,  4617739.,  4278671.,  4024342.,  3994839.,  3983445.,\n",
       "        3956325.,  3626092.,  2937522.,  2644631.,  2551886.,  2284297.,\n",
       "        2247490.,  2166460.,  2103705.,  1967104.,  1769460.,  1729088.,\n",
       "        1609072.,  1513891.,  1477136.,  1252779.,  1239539.,  1051960.,\n",
       "        1047385.,   944043.,   832803.,   716226.,   658709.,   621645.,\n",
       "         552257.])"
      ]
     },
     "execution_count": 44,
     "metadata": {},
     "output_type": "execute_result"
    }
   ],
   "source": [
    "raw_compensation.apply(convert_pay_string_to_number, 'Total Pay')"
   ]
  },
  {
   "cell_type": "raw",
   "metadata": {},
   "source": [
    "# BEGIN QUESTION\n",
    "name: q12"
   ]
  },
  {
   "cell_type": "markdown",
   "metadata": {},
   "source": [
    "Here's an illustration of what that did:\n",
    "\n",
    "<img src=\"images/apply.png\" width=\"1200\" height=\"600\">\n",
    "\n",
    "**Note:** We didn’t write `raw_compensation.apply(convert_pay_string_to_number(), 'Total Pay')` or `raw_compensation.apply(convert_pay_string_to_number('Total Pay'))`. \n",
    "\n",
    "We provided the name of the function, with no parentheses and the name of the column we’d like to use it on. The `.apply` method will call the function you specify, in this case `convert_pay_string_to_number`, using each value in the specified column, in this case`'Total Pay'`, for you! It will It's a very quick operation!\n",
    "\n",
    "**Question 12.** Using `apply`, make a table that's a copy of `raw_compensation` with one additional column called `Total Pay ($)`.  That column should contain the result of applying `convert_pay_string_to_number` to the `Total Pay` column (as we did above).  Call the new table `compensation`.\n"
   ]
  },
  {
   "cell_type": "raw",
   "metadata": {},
   "source": [
    "# BEGIN SOLUTION"
   ]
  },
  {
   "cell_type": "code",
   "execution_count": 45,
   "metadata": {},
   "outputs": [
    {
     "data": {
      "text/html": [
       "<table border=\"1\" class=\"dataframe\">\n",
       "    <thead>\n",
       "        <tr>\n",
       "            <th>Company</th> <th>Ticker</th> <th>City</th> <th>Name</th> <th>Salary</th> <th>Bonus</th> <th>Stock</th> <th>Options</th> <th>Incentive</th> <th>Retirement</th> <th>Other</th> <th>Total Pay</th> <th>Total Pay ($)</th>\n",
       "        </tr>\n",
       "    </thead>\n",
       "    <tbody>\n",
       "        <tr>\n",
       "            <td>Bank of America Corporation    </td> <td>BAC   </td> <td>Charlotte  </td> <td>Brian Moynihan    </td> <td>$1,500,000 </td> <td>$0   </td> <td>$23,575,105 </td> <td>$0          </td> <td>$0         </td> <td>$632,250   </td> <td>$331,858   </td> <td>$26,039,213 </td> <td>2.60392e+07  </td>\n",
       "        </tr>\n",
       "        <tr>\n",
       "            <td>IQVIA Holdings, Inc.           </td> <td>IQV   </td> <td>Durham     </td> <td>Ari Bousbib       </td> <td>$1,684,470 </td> <td>$0   </td> <td>$6,599,377  </td> <td>$6,026,709  </td> <td>$6,600,000 </td> <td>$583,877   </td> <td>$645,343   </td> <td>$22,139,776 </td> <td>2.21398e+07  </td>\n",
       "        </tr>\n",
       "        <tr>\n",
       "            <td>Honeywell International Inc.   </td> <td>HON   </td> <td>Charlotte  </td> <td>Darius Adamczyk   </td> <td>$1,600,000 </td> <td>$0   </td> <td>$8,612,506  </td> <td>$4,635,409  </td> <td>$4,065,000 </td> <td>$748,107   </td> <td>$864,082   </td> <td>$20,525,104 </td> <td>2.05251e+07  </td>\n",
       "        </tr>\n",
       "        <tr>\n",
       "            <td>Nucor Corporation              </td> <td>NUE   </td> <td>Charlotte  </td> <td>John Ferriola     </td> <td>$1,450,000 </td> <td>$0   </td> <td>$8,499,968  </td> <td>$1,750,000  </td> <td>$3,907,750 </td> <td>$0         </td> <td>$3,491,864 </td> <td>$19,099,582 </td> <td>1.90996e+07  </td>\n",
       "        </tr>\n",
       "        <tr>\n",
       "            <td>Duke Energy Corporation        </td> <td>DUK   </td> <td>Charlotte  </td> <td>Lynn Good         </td> <td>$1,383,750 </td> <td>$0   </td> <td>$10,122,579 </td> <td>$0          </td> <td>$2,793,389 </td> <td>$355,908   </td> <td>$373,760   </td> <td>$15,029,386 </td> <td>1.50294e+07  </td>\n",
       "        </tr>\n",
       "        <tr>\n",
       "            <td>CommScope Holding Co., Inc.    </td> <td>COMM  </td> <td>Hickory    </td> <td>Marvin Edwards Jr.</td> <td>$1,100,000 </td> <td>$0   </td> <td>$0          </td> <td>$12,088,716 </td> <td>$517,110   </td> <td>$54,686    </td> <td>$231,526   </td> <td>$13,992,038 </td> <td>1.3992e+07   </td>\n",
       "        </tr>\n",
       "        <tr>\n",
       "            <td>Martin Marietta Materials, Inc.</td> <td>MLM   </td> <td>Raleigh    </td> <td>C. Nye            </td> <td>$1,141,667 </td> <td>$0   </td> <td>$6,294,708  </td> <td>$0          </td> <td>$1,450,000 </td> <td>$3,073,183 </td> <td>$238,800   </td> <td>$12,198,358 </td> <td>1.21984e+07  </td>\n",
       "        </tr>\n",
       "        <tr>\n",
       "            <td>Coca-Cola Consolidated, Inc.   </td> <td>COKE  </td> <td>Charlotte  </td> <td>J. Harrison       </td> <td>$1,151,114 </td> <td>$0   </td> <td>$0          </td> <td>$0          </td> <td>$8,708,743 </td> <td>$402,382   </td> <td>$1,445,385 </td> <td>$11,707,624 </td> <td>1.17076e+07  </td>\n",
       "        </tr>\n",
       "        <tr>\n",
       "            <td>Lowe's Companies, Inc.         </td> <td>LOW   </td> <td>Mooresville</td> <td>Marvin Ellison    </td> <td>$1,450,000 </td> <td>$0   </td> <td>$6,410,644  </td> <td>$2,074,702  </td> <td>$1,258,657 </td> <td>$0         </td> <td>$427,366   </td> <td>$11,621,369 </td> <td>1.16214e+07  </td>\n",
       "        </tr>\n",
       "        <tr>\n",
       "            <td>Truist Financial Corporation   </td> <td>TFC   </td> <td>Charlotte  </td> <td>Kelly King        </td> <td>$1,121,625 </td> <td>$0   </td> <td>$3,400,092  </td> <td>$0          </td> <td>$4,781,982 </td> <td>$1,810,412 </td> <td>$376,998   </td> <td>$11,491,109 </td> <td>1.14911e+07  </td>\n",
       "        </tr>\n",
       "    </tbody>\n",
       "</table>\n",
       "<p>... (51 rows omitted)</p>"
      ],
      "text/plain": [
       "Company                         | Ticker | City        | Name               | Salary      | Bonus | Stock        | Options      | Incentive   | Retirement  | Other       | Total Pay    | Total Pay ($)\n",
       "Bank of America Corporation     | BAC    | Charlotte   | Brian Moynihan     | $1,500,000  | $0    | $23,575,105  | $0           | $0          | $632,250    | $331,858    | $26,039,213  | 2.60392e+07\n",
       "IQVIA Holdings, Inc.            | IQV    | Durham      | Ari Bousbib        | $1,684,470  | $0    | $6,599,377   | $6,026,709   | $6,600,000  | $583,877    | $645,343    | $22,139,776  | 2.21398e+07\n",
       "Honeywell International Inc.    | HON    | Charlotte   | Darius Adamczyk    | $1,600,000  | $0    | $8,612,506   | $4,635,409   | $4,065,000  | $748,107    | $864,082    | $20,525,104  | 2.05251e+07\n",
       "Nucor Corporation               | NUE    | Charlotte   | John Ferriola      | $1,450,000  | $0    | $8,499,968   | $1,750,000   | $3,907,750  | $0          | $3,491,864  | $19,099,582  | 1.90996e+07\n",
       "Duke Energy Corporation         | DUK    | Charlotte   | Lynn Good          | $1,383,750  | $0    | $10,122,579  | $0           | $2,793,389  | $355,908    | $373,760    | $15,029,386  | 1.50294e+07\n",
       "CommScope Holding Co., Inc.     | COMM   | Hickory     | Marvin Edwards Jr. | $1,100,000  | $0    | $0           | $12,088,716  | $517,110    | $54,686     | $231,526    | $13,992,038  | 1.3992e+07\n",
       "Martin Marietta Materials, Inc. | MLM    | Raleigh     | C. Nye             | $1,141,667  | $0    | $6,294,708   | $0           | $1,450,000  | $3,073,183  | $238,800    | $12,198,358  | 1.21984e+07\n",
       "Coca-Cola Consolidated, Inc.    | COKE   | Charlotte   | J. Harrison        | $1,151,114  | $0    | $0           | $0           | $8,708,743  | $402,382    | $1,445,385  | $11,707,624  | 1.17076e+07\n",
       "Lowe's Companies, Inc.          | LOW    | Mooresville | Marvin Ellison     | $1,450,000  | $0    | $6,410,644   | $2,074,702   | $1,258,657  | $0          | $427,366    | $11,621,369  | 1.16214e+07\n",
       "Truist Financial Corporation    | TFC    | Charlotte   | Kelly King         | $1,121,625  | $0    | $3,400,092   | $0           | $4,781,982  | $1,810,412  | $376,998    | $11,491,109  | 1.14911e+07\n",
       "... (51 rows omitted)"
      ]
     },
     "execution_count": 45,
     "metadata": {},
     "output_type": "execute_result"
    }
   ],
   "source": [
    "compensation = raw_compensation.with_column('Total Pay ($)', raw_compensation.apply(convert_pay_string_to_number, 'Total Pay')) # SOLUTION\n",
    "compensation"
   ]
  },
  {
   "cell_type": "raw",
   "metadata": {},
   "source": [
    "# END SOLUTION"
   ]
  },
  {
   "cell_type": "raw",
   "metadata": {},
   "source": [
    "# BEGIN TESTS"
   ]
  },
  {
   "cell_type": "code",
   "execution_count": 46,
   "metadata": {},
   "outputs": [
    {
     "data": {
      "text/plain": [
       "True"
      ]
     },
     "execution_count": 46,
     "metadata": {},
     "output_type": "execute_result"
    }
   ],
   "source": [
    "'Total Pay ($)' in compensation.labels"
   ]
  },
  {
   "cell_type": "code",
   "execution_count": 48,
   "metadata": {},
   "outputs": [
    {
     "data": {
      "text/plain": [
       "True"
      ]
     },
     "execution_count": 48,
     "metadata": {},
     "output_type": "execute_result"
    }
   ],
   "source": [
    "compensation.sort('Total Pay ($)', descending=True).column('Total Pay ($)').item(0) == 26039213.0"
   ]
  },
  {
   "cell_type": "raw",
   "metadata": {},
   "source": [
    "# END TESTS"
   ]
  },
  {
   "cell_type": "raw",
   "metadata": {},
   "source": [
    "# END QUESTION"
   ]
  },
  {
   "cell_type": "raw",
   "metadata": {},
   "source": [
    "# BEGIN QUESTION\n",
    "name: q13"
   ]
  },
  {
   "cell_type": "markdown",
   "metadata": {},
   "source": [
    "Now that we have all the pays as numbers, we can learn more about them through computation.\n",
    "\n",
    "**Question 13.** Compute the average total pay of the CEOs in the dataset.\n"
   ]
  },
  {
   "cell_type": "raw",
   "metadata": {},
   "source": [
    "# BEGIN SOLUTION"
   ]
  },
  {
   "cell_type": "code",
   "execution_count": 49,
   "metadata": {},
   "outputs": [
    {
     "name": "stdout",
     "output_type": "stream",
     "text": [
      "The average North Carolina CEO total pay is around $6,332,531.85 dollars per year.\n"
     ]
    }
   ],
   "source": [
    "average_total_pay = np.average(compensation.column('Total Pay ($)')) # SOLUTION\n",
    "print('The average North Carolina CEO total pay is around ${:,.2f}'.format(average_total_pay), 'dollars per year.')"
   ]
  },
  {
   "cell_type": "raw",
   "metadata": {},
   "source": [
    "# END SOLUTION"
   ]
  },
  {
   "cell_type": "raw",
   "metadata": {},
   "source": [
    "# BEGIN TESTS"
   ]
  },
  {
   "cell_type": "code",
   "execution_count": 50,
   "metadata": {},
   "outputs": [
    {
     "data": {
      "text/plain": [
       "True"
      ]
     },
     "execution_count": 50,
     "metadata": {},
     "output_type": "execute_result"
    }
   ],
   "source": [
    "np.isclose(average_total_pay, 6332531.852459016)"
   ]
  },
  {
   "cell_type": "raw",
   "metadata": {},
   "source": [
    "# END TESTS"
   ]
  },
  {
   "cell_type": "raw",
   "metadata": {},
   "source": [
    "# END QUESTION"
   ]
  },
  {
   "cell_type": "raw",
   "metadata": {},
   "source": [
    "# BEGIN QUESTION\n",
    "name: q14"
   ]
  },
  {
   "cell_type": "markdown",
   "metadata": {},
   "source": [
    "**Question 14.** Companies pay executives in a variety of ways: in cash, by granting stock, other equity in the company, or with ancillary benefits (like private jets). Compute the proportion of each CEO's pay that was cash. \n",
    "\n",
    "**Hint:** Your answer should be an array of numbers, one for each CEO in the dataset.\n"
   ]
  },
  {
   "cell_type": "raw",
   "metadata": {},
   "source": [
    "# BEGIN SOLUTION"
   ]
  },
  {
   "cell_type": "code",
   "execution_count": 52,
   "metadata": {},
   "outputs": [
    {
     "data": {
      "text/plain": [
       "array([0.05760543, 0.07608343, 0.07795332, 0.07591789, 0.09206963,\n",
       "       0.07861614, 0.09359186, 0.09832174, 0.12477015, 0.09760807,\n",
       "       0.08138133, 0.08088759, 0.10834952, 0.08312102, 0.13057199,\n",
       "       0.11734908, 0.10559783, 0.14301581, 0.13242743, 0.1309006 ,\n",
       "       0.11535252, 0.11510684, 0.09909475, 0.14227923, 0.12938188,\n",
       "       0.13199177, 0.14885491, 0.13970102, 0.15771824, 0.24626346,\n",
       "       0.18854345, 0.0451158 , 0.26027661, 0.2395609 , 0.00154049,\n",
       "       0.14803769, 0.2780358 , 0.21372872, 0.19829503, 0.16585906,\n",
       "       0.22607711, 0.2407743 , 0.1668528 , 0.2214442 , 0.24098103,\n",
       "       0.55919768, 0.35886655, 0.29393877, 0.4785367 , 0.27148586,\n",
       "       0.33083751, 0.34922361, 0.59884602, 0.38024259, 0.49788282,\n",
       "       0.4521669 , 0.54034387, 0.71290347, 0.44748136, 0.62956028,\n",
       "       0.61018692])"
      ]
     },
     "execution_count": 52,
     "metadata": {},
     "output_type": "execute_result"
    }
   ],
   "source": [
    "salary_proportion = compensation.apply(convert_pay_string_to_number, 'Salary')/compensation.column('Total Pay ($)') # SOLUTION\n",
    "salary_proportion"
   ]
  },
  {
   "cell_type": "raw",
   "metadata": {},
   "source": [
    "# END SOLUTION"
   ]
  },
  {
   "cell_type": "raw",
   "metadata": {},
   "source": [
    "# BEGIN TESTS"
   ]
  },
  {
   "cell_type": "code",
   "execution_count": 55,
   "metadata": {},
   "outputs": [
    {
     "data": {
      "text/plain": [
       "61"
      ]
     },
     "execution_count": 55,
     "metadata": {},
     "output_type": "execute_result"
    }
   ],
   "source": [
    "len(salary_proportion)"
   ]
  },
  {
   "cell_type": "code",
   "execution_count": 56,
   "metadata": {},
   "outputs": [
    {
     "data": {
      "text/plain": [
       "True"
      ]
     },
     "execution_count": 56,
     "metadata": {},
     "output_type": "execute_result"
    }
   ],
   "source": [
    "np.isclose(salary_proportion.item(0), 0.05760542762947559)"
   ]
  },
  {
   "cell_type": "raw",
   "metadata": {},
   "source": [
    "# END TESTS"
   ]
  },
  {
   "cell_type": "raw",
   "metadata": {},
   "source": [
    "# END QUESTION"
   ]
  },
  {
   "cell_type": "markdown",
   "metadata": {},
   "source": [
    "## Why is `apply` useful?\n",
    "\n",
    "For operations like arithmetic, or the functions in the `NumPy` library, you don't need to use `apply`, because they automatically work on each element of an array. These types of functions are called **vectorized** in data science language. However, there are many functions that aren't written in a way that they work on each element in an array automatically. The string manipulation we did in today's lab is one example.  Since you can write any code you want in a function, `apply` gives you the power to use it on every element in an array without knowing how to properly **vectorize** your functions."
   ]
  },
  {
   "cell_type": "raw",
   "metadata": {},
   "source": [
    "# BEGIN QUESTION\n",
    "name: q15"
   ]
  },
  {
   "cell_type": "markdown",
   "metadata": {},
   "source": [
    "**Question 15.** Extend the `compensation` table so it includes a new column labeled `'Salary (%)'` which contains the proportions contained in the array `salary_proportion`. Call this new table `ceo_salary_percent`.\n"
   ]
  },
  {
   "cell_type": "raw",
   "metadata": {},
   "source": [
    "# BEGIN SOLUTION"
   ]
  },
  {
   "cell_type": "code",
   "execution_count": 57,
   "metadata": {},
   "outputs": [
    {
     "data": {
      "text/html": [
       "<table border=\"1\" class=\"dataframe\">\n",
       "    <thead>\n",
       "        <tr>\n",
       "            <th>Company</th> <th>Ticker</th> <th>City</th> <th>Name</th> <th>Salary</th> <th>Bonus</th> <th>Stock</th> <th>Options</th> <th>Incentive</th> <th>Retirement</th> <th>Other</th> <th>Total Pay</th> <th>Total Pay ($)</th> <th>Salary (%)</th>\n",
       "        </tr>\n",
       "    </thead>\n",
       "    <tbody>\n",
       "        <tr>\n",
       "            <td>Bank of America Corporation    </td> <td>BAC   </td> <td>Charlotte  </td> <td>Brian Moynihan    </td> <td>$1,500,000 </td> <td>$0   </td> <td>$23,575,105 </td> <td>$0          </td> <td>$0         </td> <td>$632,250   </td> <td>$331,858   </td> <td>$26,039,213 </td> <td>2.60392e+07  </td> <td>0.0576054 </td>\n",
       "        </tr>\n",
       "        <tr>\n",
       "            <td>IQVIA Holdings, Inc.           </td> <td>IQV   </td> <td>Durham     </td> <td>Ari Bousbib       </td> <td>$1,684,470 </td> <td>$0   </td> <td>$6,599,377  </td> <td>$6,026,709  </td> <td>$6,600,000 </td> <td>$583,877   </td> <td>$645,343   </td> <td>$22,139,776 </td> <td>2.21398e+07  </td> <td>0.0760834 </td>\n",
       "        </tr>\n",
       "        <tr>\n",
       "            <td>Honeywell International Inc.   </td> <td>HON   </td> <td>Charlotte  </td> <td>Darius Adamczyk   </td> <td>$1,600,000 </td> <td>$0   </td> <td>$8,612,506  </td> <td>$4,635,409  </td> <td>$4,065,000 </td> <td>$748,107   </td> <td>$864,082   </td> <td>$20,525,104 </td> <td>2.05251e+07  </td> <td>0.0779533 </td>\n",
       "        </tr>\n",
       "        <tr>\n",
       "            <td>Nucor Corporation              </td> <td>NUE   </td> <td>Charlotte  </td> <td>John Ferriola     </td> <td>$1,450,000 </td> <td>$0   </td> <td>$8,499,968  </td> <td>$1,750,000  </td> <td>$3,907,750 </td> <td>$0         </td> <td>$3,491,864 </td> <td>$19,099,582 </td> <td>1.90996e+07  </td> <td>0.0759179 </td>\n",
       "        </tr>\n",
       "        <tr>\n",
       "            <td>Duke Energy Corporation        </td> <td>DUK   </td> <td>Charlotte  </td> <td>Lynn Good         </td> <td>$1,383,750 </td> <td>$0   </td> <td>$10,122,579 </td> <td>$0          </td> <td>$2,793,389 </td> <td>$355,908   </td> <td>$373,760   </td> <td>$15,029,386 </td> <td>1.50294e+07  </td> <td>0.0920696 </td>\n",
       "        </tr>\n",
       "        <tr>\n",
       "            <td>CommScope Holding Co., Inc.    </td> <td>COMM  </td> <td>Hickory    </td> <td>Marvin Edwards Jr.</td> <td>$1,100,000 </td> <td>$0   </td> <td>$0          </td> <td>$12,088,716 </td> <td>$517,110   </td> <td>$54,686    </td> <td>$231,526   </td> <td>$13,992,038 </td> <td>1.3992e+07   </td> <td>0.0786161 </td>\n",
       "        </tr>\n",
       "        <tr>\n",
       "            <td>Martin Marietta Materials, Inc.</td> <td>MLM   </td> <td>Raleigh    </td> <td>C. Nye            </td> <td>$1,141,667 </td> <td>$0   </td> <td>$6,294,708  </td> <td>$0          </td> <td>$1,450,000 </td> <td>$3,073,183 </td> <td>$238,800   </td> <td>$12,198,358 </td> <td>1.21984e+07  </td> <td>0.0935919 </td>\n",
       "        </tr>\n",
       "        <tr>\n",
       "            <td>Coca-Cola Consolidated, Inc.   </td> <td>COKE  </td> <td>Charlotte  </td> <td>J. Harrison       </td> <td>$1,151,114 </td> <td>$0   </td> <td>$0          </td> <td>$0          </td> <td>$8,708,743 </td> <td>$402,382   </td> <td>$1,445,385 </td> <td>$11,707,624 </td> <td>1.17076e+07  </td> <td>0.0983217 </td>\n",
       "        </tr>\n",
       "        <tr>\n",
       "            <td>Lowe's Companies, Inc.         </td> <td>LOW   </td> <td>Mooresville</td> <td>Marvin Ellison    </td> <td>$1,450,000 </td> <td>$0   </td> <td>$6,410,644  </td> <td>$2,074,702  </td> <td>$1,258,657 </td> <td>$0         </td> <td>$427,366   </td> <td>$11,621,369 </td> <td>1.16214e+07  </td> <td>0.12477   </td>\n",
       "        </tr>\n",
       "        <tr>\n",
       "            <td>Truist Financial Corporation   </td> <td>TFC   </td> <td>Charlotte  </td> <td>Kelly King        </td> <td>$1,121,625 </td> <td>$0   </td> <td>$3,400,092  </td> <td>$0          </td> <td>$4,781,982 </td> <td>$1,810,412 </td> <td>$376,998   </td> <td>$11,491,109 </td> <td>1.14911e+07  </td> <td>0.0976081 </td>\n",
       "        </tr>\n",
       "    </tbody>\n",
       "</table>\n",
       "<p>... (51 rows omitted)</p>"
      ],
      "text/plain": [
       "Company                         | Ticker | City        | Name               | Salary      | Bonus | Stock        | Options      | Incentive   | Retirement  | Other       | Total Pay    | Total Pay ($) | Salary (%)\n",
       "Bank of America Corporation     | BAC    | Charlotte   | Brian Moynihan     | $1,500,000  | $0    | $23,575,105  | $0           | $0          | $632,250    | $331,858    | $26,039,213  | 2.60392e+07   | 0.0576054\n",
       "IQVIA Holdings, Inc.            | IQV    | Durham      | Ari Bousbib        | $1,684,470  | $0    | $6,599,377   | $6,026,709   | $6,600,000  | $583,877    | $645,343    | $22,139,776  | 2.21398e+07   | 0.0760834\n",
       "Honeywell International Inc.    | HON    | Charlotte   | Darius Adamczyk    | $1,600,000  | $0    | $8,612,506   | $4,635,409   | $4,065,000  | $748,107    | $864,082    | $20,525,104  | 2.05251e+07   | 0.0779533\n",
       "Nucor Corporation               | NUE    | Charlotte   | John Ferriola      | $1,450,000  | $0    | $8,499,968   | $1,750,000   | $3,907,750  | $0          | $3,491,864  | $19,099,582  | 1.90996e+07   | 0.0759179\n",
       "Duke Energy Corporation         | DUK    | Charlotte   | Lynn Good          | $1,383,750  | $0    | $10,122,579  | $0           | $2,793,389  | $355,908    | $373,760    | $15,029,386  | 1.50294e+07   | 0.0920696\n",
       "CommScope Holding Co., Inc.     | COMM   | Hickory     | Marvin Edwards Jr. | $1,100,000  | $0    | $0           | $12,088,716  | $517,110    | $54,686     | $231,526    | $13,992,038  | 1.3992e+07    | 0.0786161\n",
       "Martin Marietta Materials, Inc. | MLM    | Raleigh     | C. Nye             | $1,141,667  | $0    | $6,294,708   | $0           | $1,450,000  | $3,073,183  | $238,800    | $12,198,358  | 1.21984e+07   | 0.0935919\n",
       "Coca-Cola Consolidated, Inc.    | COKE   | Charlotte   | J. Harrison        | $1,151,114  | $0    | $0           | $0           | $8,708,743  | $402,382    | $1,445,385  | $11,707,624  | 1.17076e+07   | 0.0983217\n",
       "Lowe's Companies, Inc.          | LOW    | Mooresville | Marvin Ellison     | $1,450,000  | $0    | $6,410,644   | $2,074,702   | $1,258,657  | $0          | $427,366    | $11,621,369  | 1.16214e+07   | 0.12477\n",
       "Truist Financial Corporation    | TFC    | Charlotte   | Kelly King         | $1,121,625  | $0    | $3,400,092   | $0           | $4,781,982  | $1,810,412  | $376,998    | $11,491,109  | 1.14911e+07   | 0.0976081\n",
       "... (51 rows omitted)"
      ]
     },
     "execution_count": 57,
     "metadata": {},
     "output_type": "execute_result"
    }
   ],
   "source": [
    "ceo_salary_percent = compensation.with_column('Salary (%)', salary_proportion) # SOLUTION\n",
    "ceo_salary_percent"
   ]
  },
  {
   "cell_type": "raw",
   "metadata": {},
   "source": [
    "# END SOLUTION"
   ]
  },
  {
   "cell_type": "raw",
   "metadata": {},
   "source": [
    "# BEGIN TESTS"
   ]
  },
  {
   "cell_type": "code",
   "execution_count": 59,
   "metadata": {},
   "outputs": [
    {
     "data": {
      "text/plain": [
       "14"
      ]
     },
     "execution_count": 59,
     "metadata": {},
     "output_type": "execute_result"
    }
   ],
   "source": [
    "ceo_salary_percent.num_columns"
   ]
  },
  {
   "cell_type": "code",
   "execution_count": 60,
   "metadata": {},
   "outputs": [
    {
     "data": {
      "text/plain": [
       "True"
      ]
     },
     "execution_count": 60,
     "metadata": {},
     "output_type": "execute_result"
    }
   ],
   "source": [
    "ceo_salary_percent.labels == ('Company',\n",
    "                              'Ticker',\n",
    "                              'City',\n",
    "                              'Name', \n",
    "                              'Salary', \n",
    "                              'Bonus',\n",
    "                              'Stock',\n",
    "                              'Options',\n",
    "                              'Incentive',\n",
    "                              'Retirement',\n",
    "                              'Other',\n",
    "                              'Total Pay',\n",
    "                              'Total Pay ($)',\n",
    "                              'Salary (%)'\n",
    "                             )"
   ]
  },
  {
   "cell_type": "raw",
   "metadata": {},
   "source": [
    "# END TESTS"
   ]
  },
  {
   "cell_type": "raw",
   "metadata": {},
   "source": [
    "# END QUESTION"
   ]
  },
  {
   "cell_type": "raw",
   "metadata": {},
   "source": [
    "# BEGIN QUESTION\n",
    "name: q16\n",
    "manual: true"
   ]
  },
  {
   "cell_type": "markdown",
   "metadata": {},
   "source": [
    "**Question 16.** Use the `set_format` Table method to format the `'Salary (%)'` column in `ceo_salary_percent` so the values display as percentages out of 100 instead of proportions out of 1. As a reminder, the syntax for `set_format` is:\n",
    "\n",
    "```\n",
    "Table.set_format(column_or_columns, formatter)\n",
    "```\n"
   ]
  },
  {
   "cell_type": "raw",
   "metadata": {},
   "source": [
    "# BEGIN SOLUTION"
   ]
  },
  {
   "cell_type": "code",
   "execution_count": 61,
   "metadata": {},
   "outputs": [
    {
     "data": {
      "text/html": [
       "<table border=\"1\" class=\"dataframe\">\n",
       "    <thead>\n",
       "        <tr>\n",
       "            <th>Company</th> <th>Ticker</th> <th>City</th> <th>Name</th> <th>Salary</th> <th>Bonus</th> <th>Stock</th> <th>Options</th> <th>Incentive</th> <th>Retirement</th> <th>Other</th> <th>Total Pay</th> <th>Total Pay ($)</th> <th>Salary (%)</th>\n",
       "        </tr>\n",
       "    </thead>\n",
       "    <tbody>\n",
       "        <tr>\n",
       "            <td>Bank of America Corporation    </td> <td>BAC   </td> <td>Charlotte  </td> <td>Brian Moynihan    </td> <td>$1,500,000 </td> <td>$0   </td> <td>$23,575,105 </td> <td>$0          </td> <td>$0         </td> <td>$632,250   </td> <td>$331,858   </td> <td>$26,039,213 </td> <td>2.60392e+07  </td> <td>5.76%     </td>\n",
       "        </tr>\n",
       "        <tr>\n",
       "            <td>IQVIA Holdings, Inc.           </td> <td>IQV   </td> <td>Durham     </td> <td>Ari Bousbib       </td> <td>$1,684,470 </td> <td>$0   </td> <td>$6,599,377  </td> <td>$6,026,709  </td> <td>$6,600,000 </td> <td>$583,877   </td> <td>$645,343   </td> <td>$22,139,776 </td> <td>2.21398e+07  </td> <td>7.61%     </td>\n",
       "        </tr>\n",
       "        <tr>\n",
       "            <td>Honeywell International Inc.   </td> <td>HON   </td> <td>Charlotte  </td> <td>Darius Adamczyk   </td> <td>$1,600,000 </td> <td>$0   </td> <td>$8,612,506  </td> <td>$4,635,409  </td> <td>$4,065,000 </td> <td>$748,107   </td> <td>$864,082   </td> <td>$20,525,104 </td> <td>2.05251e+07  </td> <td>7.80%     </td>\n",
       "        </tr>\n",
       "        <tr>\n",
       "            <td>Nucor Corporation              </td> <td>NUE   </td> <td>Charlotte  </td> <td>John Ferriola     </td> <td>$1,450,000 </td> <td>$0   </td> <td>$8,499,968  </td> <td>$1,750,000  </td> <td>$3,907,750 </td> <td>$0         </td> <td>$3,491,864 </td> <td>$19,099,582 </td> <td>1.90996e+07  </td> <td>7.59%     </td>\n",
       "        </tr>\n",
       "        <tr>\n",
       "            <td>Duke Energy Corporation        </td> <td>DUK   </td> <td>Charlotte  </td> <td>Lynn Good         </td> <td>$1,383,750 </td> <td>$0   </td> <td>$10,122,579 </td> <td>$0          </td> <td>$2,793,389 </td> <td>$355,908   </td> <td>$373,760   </td> <td>$15,029,386 </td> <td>1.50294e+07  </td> <td>9.21%     </td>\n",
       "        </tr>\n",
       "        <tr>\n",
       "            <td>CommScope Holding Co., Inc.    </td> <td>COMM  </td> <td>Hickory    </td> <td>Marvin Edwards Jr.</td> <td>$1,100,000 </td> <td>$0   </td> <td>$0          </td> <td>$12,088,716 </td> <td>$517,110   </td> <td>$54,686    </td> <td>$231,526   </td> <td>$13,992,038 </td> <td>1.3992e+07   </td> <td>7.86%     </td>\n",
       "        </tr>\n",
       "        <tr>\n",
       "            <td>Martin Marietta Materials, Inc.</td> <td>MLM   </td> <td>Raleigh    </td> <td>C. Nye            </td> <td>$1,141,667 </td> <td>$0   </td> <td>$6,294,708  </td> <td>$0          </td> <td>$1,450,000 </td> <td>$3,073,183 </td> <td>$238,800   </td> <td>$12,198,358 </td> <td>1.21984e+07  </td> <td>9.36%     </td>\n",
       "        </tr>\n",
       "        <tr>\n",
       "            <td>Coca-Cola Consolidated, Inc.   </td> <td>COKE  </td> <td>Charlotte  </td> <td>J. Harrison       </td> <td>$1,151,114 </td> <td>$0   </td> <td>$0          </td> <td>$0          </td> <td>$8,708,743 </td> <td>$402,382   </td> <td>$1,445,385 </td> <td>$11,707,624 </td> <td>1.17076e+07  </td> <td>9.83%     </td>\n",
       "        </tr>\n",
       "        <tr>\n",
       "            <td>Lowe's Companies, Inc.         </td> <td>LOW   </td> <td>Mooresville</td> <td>Marvin Ellison    </td> <td>$1,450,000 </td> <td>$0   </td> <td>$6,410,644  </td> <td>$2,074,702  </td> <td>$1,258,657 </td> <td>$0         </td> <td>$427,366   </td> <td>$11,621,369 </td> <td>1.16214e+07  </td> <td>12.48%    </td>\n",
       "        </tr>\n",
       "        <tr>\n",
       "            <td>Truist Financial Corporation   </td> <td>TFC   </td> <td>Charlotte  </td> <td>Kelly King        </td> <td>$1,121,625 </td> <td>$0   </td> <td>$3,400,092  </td> <td>$0          </td> <td>$4,781,982 </td> <td>$1,810,412 </td> <td>$376,998   </td> <td>$11,491,109 </td> <td>1.14911e+07  </td> <td>9.76%     </td>\n",
       "        </tr>\n",
       "    </tbody>\n",
       "</table>\n",
       "<p>... (51 rows omitted)</p>"
      ],
      "text/plain": [
       "Company                         | Ticker | City        | Name               | Salary      | Bonus | Stock        | Options      | Incentive   | Retirement  | Other       | Total Pay    | Total Pay ($) | Salary (%)\n",
       "Bank of America Corporation     | BAC    | Charlotte   | Brian Moynihan     | $1,500,000  | $0    | $23,575,105  | $0           | $0          | $632,250    | $331,858    | $26,039,213  | 2.60392e+07   | 5.76%\n",
       "IQVIA Holdings, Inc.            | IQV    | Durham      | Ari Bousbib        | $1,684,470  | $0    | $6,599,377   | $6,026,709   | $6,600,000  | $583,877    | $645,343    | $22,139,776  | 2.21398e+07   | 7.61%\n",
       "Honeywell International Inc.    | HON    | Charlotte   | Darius Adamczyk    | $1,600,000  | $0    | $8,612,506   | $4,635,409   | $4,065,000  | $748,107    | $864,082    | $20,525,104  | 2.05251e+07   | 7.80%\n",
       "Nucor Corporation               | NUE    | Charlotte   | John Ferriola      | $1,450,000  | $0    | $8,499,968   | $1,750,000   | $3,907,750  | $0          | $3,491,864  | $19,099,582  | 1.90996e+07   | 7.59%\n",
       "Duke Energy Corporation         | DUK    | Charlotte   | Lynn Good          | $1,383,750  | $0    | $10,122,579  | $0           | $2,793,389  | $355,908    | $373,760    | $15,029,386  | 1.50294e+07   | 9.21%\n",
       "CommScope Holding Co., Inc.     | COMM   | Hickory     | Marvin Edwards Jr. | $1,100,000  | $0    | $0           | $12,088,716  | $517,110    | $54,686     | $231,526    | $13,992,038  | 1.3992e+07    | 7.86%\n",
       "Martin Marietta Materials, Inc. | MLM    | Raleigh     | C. Nye             | $1,141,667  | $0    | $6,294,708   | $0           | $1,450,000  | $3,073,183  | $238,800    | $12,198,358  | 1.21984e+07   | 9.36%\n",
       "Coca-Cola Consolidated, Inc.    | COKE   | Charlotte   | J. Harrison        | $1,151,114  | $0    | $0           | $0           | $8,708,743  | $402,382    | $1,445,385  | $11,707,624  | 1.17076e+07   | 9.83%\n",
       "Lowe's Companies, Inc.          | LOW    | Mooresville | Marvin Ellison     | $1,450,000  | $0    | $6,410,644   | $2,074,702   | $1,258,657  | $0          | $427,366    | $11,621,369  | 1.16214e+07   | 12.48%\n",
       "Truist Financial Corporation    | TFC    | Charlotte   | Kelly King         | $1,121,625  | $0    | $3,400,092   | $0           | $4,781,982  | $1,810,412  | $376,998    | $11,491,109  | 1.14911e+07   | 9.76%\n",
       "... (51 rows omitted)"
      ]
     },
     "execution_count": 61,
     "metadata": {},
     "output_type": "execute_result"
    }
   ],
   "source": [
    "ceo_salary_percent.set_format('Salary (%)', PercentFormatter) # SOLUTION"
   ]
  },
  {
   "cell_type": "raw",
   "metadata": {},
   "source": [
    "# END SOLUTION"
   ]
  },
  {
   "cell_type": "raw",
   "metadata": {},
   "source": [
    "# END QUESTION"
   ]
  },
  {
   "cell_type": "markdown",
   "metadata": {},
   "source": [
    "<!-- END QUESTION -->\n",
    "\n",
    "\n",
    "\n",
    "## 4. Histograms\n",
    "\n",
    "Earlier, we computed the average pay among the CEOs in our 61-CEO dataset. The average doesn't tell us everything about the amounts CEOs are paid, though. Maybe just a few CEOs make the bulk of the money, even among these 61.\n",
    "\n",
    "We can use a histogram method to display the distribution of a set of numbers. The table method hist takes a single argument, the name of a column of numbers. It produces a histogram of the numbers in that column."
   ]
  },
  {
   "cell_type": "raw",
   "metadata": {},
   "source": [
    "# BEGIN QUESTION\n",
    "name: q17\n",
    "manual: true"
   ]
  },
  {
   "cell_type": "markdown",
   "metadata": {},
   "source": [
    "**Question 17.** Make a histogram of the total pay of the CEOs in `compensation`. Your bins should start a $ \\$ $0 and end at $ \\$ $25,000,000 and be $ \\$ $1,000,000 wide. Check with your group to make sure you have the right plot.\n",
    "\n",
    "**Hint:** Use `my_bins`  to set the intervals of the bins.\n",
    "\n",
    "**Note:** Because your units are dollars (not thousands or millions of dollars) each bar has a very large number for its width. That means that the bars will have very small numbers for their heights, since their areas are still going to be between 0 and 100 percent.\n"
   ]
  },
  {
   "cell_type": "raw",
   "metadata": {},
   "source": [
    "# BEGIN SOLUTION"
   ]
  },
  {
   "cell_type": "code",
   "execution_count": 63,
   "metadata": {},
   "outputs": [
    {
     "data": {
      "image/png": "[encoded data removed]",
      "text/plain": [
       "<Figure size 432x288 with 1 Axes>"
      ]
     },
     "metadata": {},
     "output_type": "display_data"
    }
   ],
   "source": [
    "my_bins = np.arange(0,25000000,1000000) # SOLUTION\n",
    "compensation.hist('Total Pay ($)', bins=my_bins, unit='millions of dollars') # SOLUTION"
   ]
  },
  {
   "cell_type": "raw",
   "metadata": {},
   "source": [
    "# END SOLUTION"
   ]
  },
  {
   "cell_type": "raw",
   "metadata": {},
   "source": [
    "# END QUESTION"
   ]
  },
  {
   "cell_type": "raw",
   "metadata": {},
   "source": [
    "# BEGIN QUESTION\n",
    "name: q18\n",
    "manual: true"
   ]
  },
  {
   "cell_type": "markdown",
   "metadata": {},
   "source": [
    "**Question 18.** Use the `.bin` method to make the table that shows the count in each bin. The documentation for this Table method can by found [here](http://data8.org/datascience/_autosummary/datascience.tables.Table.bin.html?highlight=bin).\n"
   ]
  },
  {
   "cell_type": "raw",
   "metadata": {},
   "source": [
    "# BEGIN SOLUTION"
   ]
  },
  {
   "cell_type": "code",
   "execution_count": 64,
   "metadata": {},
   "outputs": [
    {
     "data": {
      "text/html": [
       "<table border=\"1\" class=\"dataframe\">\n",
       "    <thead>\n",
       "        <tr>\n",
       "            <th>bin</th> <th>Total Pay ($) count</th>\n",
       "        </tr>\n",
       "    </thead>\n",
       "    <tbody>\n",
       "        <tr>\n",
       "            <td>0      </td> <td>6                  </td>\n",
       "        </tr>\n",
       "        <tr>\n",
       "            <td>1000000</td> <td>10                 </td>\n",
       "        </tr>\n",
       "        <tr>\n",
       "            <td>2000000</td> <td>7                  </td>\n",
       "        </tr>\n",
       "        <tr>\n",
       "            <td>3000000</td> <td>4                  </td>\n",
       "        </tr>\n",
       "        <tr>\n",
       "            <td>4000000</td> <td>4                  </td>\n",
       "        </tr>\n",
       "        <tr>\n",
       "            <td>5000000</td> <td>4                  </td>\n",
       "        </tr>\n",
       "        <tr>\n",
       "            <td>6000000</td> <td>2                  </td>\n",
       "        </tr>\n",
       "        <tr>\n",
       "            <td>7000000</td> <td>7                  </td>\n",
       "        </tr>\n",
       "        <tr>\n",
       "            <td>8000000</td> <td>3                  </td>\n",
       "        </tr>\n",
       "        <tr>\n",
       "            <td>9000000</td> <td>2                  </td>\n",
       "        </tr>\n",
       "    </tbody>\n",
       "</table>\n",
       "<p>... (15 rows omitted)</p>"
      ],
      "text/plain": [
       "bin     | Total Pay ($) count\n",
       "0       | 6\n",
       "1000000 | 10\n",
       "2000000 | 7\n",
       "3000000 | 4\n",
       "4000000 | 4\n",
       "5000000 | 4\n",
       "6000000 | 2\n",
       "7000000 | 7\n",
       "8000000 | 3\n",
       "9000000 | 2\n",
       "... (15 rows omitted)"
      ]
     },
     "execution_count": 64,
     "metadata": {},
     "output_type": "execute_result"
    }
   ],
   "source": [
    "compensation.bin('Total Pay ($)', bins=my_bins) # SOLUTION"
   ]
  },
  {
   "cell_type": "raw",
   "metadata": {},
   "source": [
    "# END SOLUTION"
   ]
  },
  {
   "cell_type": "raw",
   "metadata": {},
   "source": [
    "# END QUESTION"
   ]
  },
  {
   "cell_type": "raw",
   "metadata": {},
   "source": [
    "# BEGIN QUESTION\n",
    "name: q19"
   ]
  },
  {
   "cell_type": "markdown",
   "metadata": {},
   "source": [
    "**Question 19.** How many CEOs made more than $10 million in total pay? Compute the value using code (`where` and `num_rows` will be your friend!), then check that the value you found is consistent with what you see in the histogram.\n"
   ]
  },
  {
   "cell_type": "raw",
   "metadata": {},
   "source": [
    "# BEGIN SOLUTION"
   ]
  },
  {
   "cell_type": "code",
   "execution_count": 65,
   "metadata": {},
   "outputs": [
    {
     "data": {
      "text/plain": [
       "12"
      ]
     },
     "execution_count": 65,
     "metadata": {},
     "output_type": "execute_result"
    }
   ],
   "source": [
    "num_ceos_more_than_10_million = compensation.where('Total Pay ($)', are.above(10e6)).num_rows # SOLUTION\n",
    "num_ceos_more_than_10_million"
   ]
  },
  {
   "cell_type": "raw",
   "metadata": {},
   "source": [
    "# END SOLUTION"
   ]
  },
  {
   "cell_type": "raw",
   "metadata": {},
   "source": [
    "# BEGIN TESTS"
   ]
  },
  {
   "cell_type": "code",
   "execution_count": 66,
   "metadata": {},
   "outputs": [
    {
     "data": {
      "text/plain": [
       "12"
      ]
     },
     "execution_count": 66,
     "metadata": {},
     "output_type": "execute_result"
    }
   ],
   "source": [
    "num_ceos_more_than_10_million"
   ]
  },
  {
   "cell_type": "raw",
   "metadata": {},
   "source": [
    "# END TESTS"
   ]
  },
  {
   "cell_type": "raw",
   "metadata": {},
   "source": [
    "# END QUESTION"
   ]
  },
  {
   "cell_type": "markdown",
   "metadata": {},
   "source": [
    "# 5. Submitting your work\n",
    "You're done with Lab 04! All assignments in the course will be distributed as notebooks like this one, and you will submit your work by doing the following:\n",
    "\n",
    "* Save your notebook\n",
    "\n",
    "* Restart the kernel and run up to this cell.\n",
    "\n",
    "* Run all the tests by running the cell containing `grader.check_all()`. Make sure they pass the way you expect them to.\n",
    "\n",
    "* Run the cell below with the code `grader.export(\"lab04.ipynb\")`.\n",
    "\n",
    "* Download the file named `lab04.zip`, found in the explorer pane on the left side of the screen.\n",
    "\n",
    "* Upload `lab04.zip` to the Lab 04 assignment to Gradescope for Grading."
   ]
  }
 ],
 "metadata": {
  "kernelspec": {
   "display_name": "Python 3 (ipykernel)",
   "language": "python",
   "name": "python3"
  },
  "language_info": {
   "codemirror_mode": {
    "name": "ipython",
    "version": 3
   },
   "file_extension": ".py",
   "mimetype": "text/x-python",
   "name": "python",
   "nbconvert_exporter": "python",
   "pygments_lexer": "ipython3",
   "version": "3.9.6"
  }
 },
 "nbformat": 4,
 "nbformat_minor": 4
}
