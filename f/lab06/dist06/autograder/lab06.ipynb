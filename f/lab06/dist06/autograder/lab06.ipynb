{
 "cells": [
  {
   "cell_type": "code",
   "execution_count": null,
   "metadata": {
    "deletable": false,
    "editable": false
   },
   "outputs": [],
   "source": [
    "# Initialize Otter\n",
    "import otter\n",
    "grader = otter.Notebook(\"lab06.ipynb\")"
   ]
  },
  {
   "cell_type": "markdown",
   "metadata": {},
   "source": [
    "# Lab 06: Helicopter Drop\n",
    "\n",
    "Welcome to Lab 06! After such an extensive introduction to programming for data science, we are finally moving into the section of the course where we can apply our new skills to answer real questions.  \n",
    "\n",
    "In this lab, we'll use testing techniques that were introduced in lecture to test the idea of the therapeutic touch, the idea that some practitioner can feel and massage your human energy field.\n",
    "\n",
    "For all problems that you must write our explanations and sentences for, you **must** provide your answer in the designated space. Also, throughout this lab please be sure to not re-assign variables throughout the notebook. For example, if you use `expected_proportion_correct` in your answer to one question, do not reassign it later on. Moreover, be mindful that functions that you write in earlier cells will need to be referenced to answer questions in later questions.\n",
    "\n",
    "**Due Date:** \n",
    "\n",
    "**Collaboration Policy:** Data science is a collaborative activity. While you may talk with others about the labs, we ask that you **write your solutions individually**. If you do discuss the assignments with others **please include their names below** (it's a good way to learn your classmates' names).\n",
    "\n",
    "**Collaborators:** \n",
    "\n",
    "List collaborators here. \n",
    "\n",
    "First, set up the notebook by running the cell below."
   ]
  },
  {
   "cell_type": "code",
   "execution_count": 1,
   "metadata": {},
   "outputs": [],
   "source": [
    "from datascience import *\n",
    "import numpy as np\n",
    "\n",
    "%matplotlib inline\n",
    "import matplotlib.pyplot as plt\n",
    "plt.style.use('fivethirtyeight')"
   ]
  },
  {
   "cell_type": "markdown",
   "metadata": {},
   "source": [
    "# 1. A/B Testing\n",
    "\n",
    "A/B testing is a form of hypothesis testing that allows you to make comparisons between two distributions.\n",
    "\n",
    "You'll almost never be explicitly asked to perform an A/B test. Make sure you can identify situations where the test is appropriate and know how to correctly implement each step."
   ]
  },
  {
   "cell_type": "markdown",
   "metadata": {},
   "source": [
    "**Question 1.** The following statements are the unordered steps of an A/B hypothesis test:\n",
    "\n",
    "1. Choose a test statistic (typically the difference in means between two categories)\n",
    "\n",
    "2. Shuffle the labels of the original sample, find your simulated test statistic, and repeat many times\n",
    "\n",
    "3. Find the value of the observed test statistic\n",
    "\n",
    "4. Calculate the p-value based off your observed and simulated test statistics\n",
    "\n",
    "5. Define a null and alternate model\n",
    "\n",
    "6. Use the p-value and p-value cutoff to draw a conclusion about the null hypothesis\n",
    "\n",
    "Make an array called `ab_test_order` that contains the correct order of an A/B test, where the first item of the array is the first step of an A/B test and the last item of the array is the last step of an A/B test."
   ]
  },
  {
   "cell_type": "code",
   "execution_count": 2,
   "metadata": {
    "tags": [
     "otter_assign_solution_cell"
    ]
   },
   "outputs": [],
   "source": [
    "ab_test_order = make_array(5, 1, 3, 2, 4, 6) # SOLUTION"
   ]
  },
  {
   "cell_type": "code",
   "execution_count": null,
   "metadata": {
    "deletable": false,
    "editable": false
   },
   "outputs": [],
   "source": [
    "grader.check(\"q1\")"
   ]
  },
  {
   "cell_type": "markdown",
   "metadata": {},
   "source": [
    "<!-- BEGIN QUESTION -->\n",
    "\n",
    "**Question 2.** If the null hypothesis of an A/B test is correct, should the order of labels affect the differences in means between each group?"
   ]
  },
  {
   "cell_type": "markdown",
   "metadata": {},
   "source": [
    "_Type your answer here, replacing this text._"
   ]
  },
  {
   "cell_type": "markdown",
   "metadata": {
    "tags": [
     "otter_assign_solution_cell"
    ]
   },
   "source": [
    "**SOLUTION:** Under the null model, there should be no statistically significant difference between the grouped means."
   ]
  },
  {
   "cell_type": "markdown",
   "metadata": {},
   "source": [
    "<!-- END QUESTION -->\n",
    "\n",
    "<!-- BEGIN QUESTION -->\n",
    "\n",
    "**Question 3.** Why do we shuffle labels in an A/B test? "
   ]
  },
  {
   "cell_type": "markdown",
   "metadata": {},
   "source": [
    "_Type your answer here, replacing this text._"
   ]
  },
  {
   "cell_type": "markdown",
   "metadata": {
    "tags": [
     "otter_assign_solution_cell"
    ]
   },
   "source": [
    "**SOLUTION:** We shuffle labels as a way to resample the original data, and understand the baseline differences between groups in the data."
   ]
  },
  {
   "cell_type": "markdown",
   "metadata": {},
   "source": [
    "<!-- END QUESTION -->\n",
    "\n",
    "# 2. Paper Helicopters\n",
    "\n",
    "The [Paper Helicopter Experiment](https://www.paperhelicopterexperiment.com/) provides different templates for constructing paper helicopters that can be dropped. The designs can be modified to create helicopters with different dimensions for the wings, body, weighting, and more. In this lab you'll investigate whether the length of the rotor and the amount of weight attached to helicopter results in a different in the time it takes to fall from a 3rd floor stairwell. Do conduct your analysis, you'll use an A/B test.\n",
    "\n",
    "## The Data\n",
    "The data was collected by a group of NCSSM Online students during online weekend held October 2nd, 2021. Five groups of students dropped 143 paper helicopters in total. There were 4 unique configurations that were assigned to the groups, one per group.\n",
    "\n",
    "1. The Default: Full length (long) rotors, unweighted body\n",
    "2. The Short: Short rotors, unweighted body\n",
    "3. The Heavy: Long rotors, weighted body\n",
    "4. The Short Heavy: Short rotors, weighted body\n",
    "\n",
    "The following features were recorded for each helicopter dropped:\n",
    "* `Rotor`: Long or Short (string). Indicates if the helicopter had full length or shortened rotors.\n",
    "* `Weight`: Weighted or Unweighted (string). Indicates if the helicopter had a weighted (3 paperclips) or unweighted body.\n",
    "* `Team`: 1, 2, 3, 4, or 5 (int). Indicates which team\n",
    "* `Location`: Side A or Side B (string). Indicates which side of the building the helicopters were dropped from.\n",
    "* `Obstruction`: True or False (Boolean). Indicates if the helicopter hit the stairwell or other object on the way down.\n",
    "* `Time`: (Float). Time, measured in seconds, it took for the helicopter to hit the ground after being released.\n",
    "\n",
    "Run the following cell to load the data in as the table named `copters`."
   ]
  },
  {
   "cell_type": "code",
   "execution_count": 6,
   "metadata": {},
   "outputs": [
    {
     "data": {
      "text/html": [
       "<table border=\"1\" class=\"dataframe\">\n",
       "    <thead>\n",
       "        <tr>\n",
       "            <th>Rotor</th> <th>Weight</th> <th>Team</th> <th>Location</th> <th>Obstruction</th> <th>Time</th>\n",
       "        </tr>\n",
       "    </thead>\n",
       "    <tbody>\n",
       "        <tr>\n",
       "            <td>Long </td> <td>Unweighted</td> <td>1   </td> <td>Side A  </td> <td>False      </td> <td>4.93</td>\n",
       "        </tr>\n",
       "        <tr>\n",
       "            <td>Long </td> <td>Unweighted</td> <td>1   </td> <td>Side A  </td> <td>False      </td> <td>4.07</td>\n",
       "        </tr>\n",
       "        <tr>\n",
       "            <td>Long </td> <td>Unweighted</td> <td>1   </td> <td>Side A  </td> <td>True       </td> <td>1.17</td>\n",
       "        </tr>\n",
       "        <tr>\n",
       "            <td>Long </td> <td>Unweighted</td> <td>1   </td> <td>Side A  </td> <td>True       </td> <td>4.91</td>\n",
       "        </tr>\n",
       "        <tr>\n",
       "            <td>Long </td> <td>Unweighted</td> <td>1   </td> <td>Side A  </td> <td>True       </td> <td>4.4 </td>\n",
       "        </tr>\n",
       "        <tr>\n",
       "            <td>Long </td> <td>Unweighted</td> <td>1   </td> <td>Side A  </td> <td>False      </td> <td>5.41</td>\n",
       "        </tr>\n",
       "        <tr>\n",
       "            <td>Long </td> <td>Unweighted</td> <td>1   </td> <td>Side A  </td> <td>False      </td> <td>4.99</td>\n",
       "        </tr>\n",
       "        <tr>\n",
       "            <td>Long </td> <td>Unweighted</td> <td>1   </td> <td>Side A  </td> <td>False      </td> <td>5.8 </td>\n",
       "        </tr>\n",
       "        <tr>\n",
       "            <td>Long </td> <td>Unweighted</td> <td>1   </td> <td>Side A  </td> <td>False      </td> <td>5.94</td>\n",
       "        </tr>\n",
       "        <tr>\n",
       "            <td>Long </td> <td>Unweighted</td> <td>1   </td> <td>Side A  </td> <td>False      </td> <td>5.14</td>\n",
       "        </tr>\n",
       "    </tbody>\n",
       "</table>\n",
       "<p>... (133 rows omitted)</p>"
      ],
      "text/plain": [
       "Rotor | Weight     | Team | Location | Obstruction | Time\n",
       "Long  | Unweighted | 1    | Side A   | False       | 4.93\n",
       "Long  | Unweighted | 1    | Side A   | False       | 4.07\n",
       "Long  | Unweighted | 1    | Side A   | True        | 1.17\n",
       "Long  | Unweighted | 1    | Side A   | True        | 4.91\n",
       "Long  | Unweighted | 1    | Side A   | True        | 4.4\n",
       "Long  | Unweighted | 1    | Side A   | False       | 5.41\n",
       "Long  | Unweighted | 1    | Side A   | False       | 4.99\n",
       "Long  | Unweighted | 1    | Side A   | False       | 5.8\n",
       "Long  | Unweighted | 1    | Side A   | False       | 5.94\n",
       "Long  | Unweighted | 1    | Side A   | False       | 5.14\n",
       "... (133 rows omitted)"
      ]
     },
     "execution_count": 6,
     "metadata": {},
     "output_type": "execute_result"
    }
   ],
   "source": [
    "copters = Table.read_table('data/helicopters.csv')\n",
    "copters"
   ]
  },
  {
   "cell_type": "markdown",
   "metadata": {},
   "source": [
    "Due to variation in the construction, weather, and randomness of the universe not every drop for each configuration was identical. Let's explore the data a bit to see how the drop times varied."
   ]
  },
  {
   "cell_type": "markdown",
   "metadata": {},
   "source": [
    "**Question 4.** Let's start by cleaning the data a little. This dataset has several measurements taken where the helicopter hit the stairwell, a nearby building, or some other obstruction that impacted the fall time. These results should be discarded since they wouldn't be an accurate reflection of what we're trying to measure.\n",
    "\n",
    "Create a new table called `helicopters` that only contains the rows of `copters` that correspond to a helicopter that did not hit an obstruction during the fall."
   ]
  },
  {
   "cell_type": "code",
   "execution_count": 7,
   "metadata": {
    "tags": [
     "otter_assign_solution_cell"
    ]
   },
   "outputs": [
    {
     "data": {
      "text/html": [
       "<table border=\"1\" class=\"dataframe\">\n",
       "    <thead>\n",
       "        <tr>\n",
       "            <th>Rotor</th> <th>Weight</th> <th>Team</th> <th>Location</th> <th>Obstruction</th> <th>Time</th>\n",
       "        </tr>\n",
       "    </thead>\n",
       "    <tbody>\n",
       "        <tr>\n",
       "            <td>Long </td> <td>Unweighted</td> <td>1   </td> <td>Side A  </td> <td>False      </td> <td>4.93</td>\n",
       "        </tr>\n",
       "        <tr>\n",
       "            <td>Long </td> <td>Unweighted</td> <td>1   </td> <td>Side A  </td> <td>False      </td> <td>4.07</td>\n",
       "        </tr>\n",
       "        <tr>\n",
       "            <td>Long </td> <td>Unweighted</td> <td>1   </td> <td>Side A  </td> <td>False      </td> <td>5.41</td>\n",
       "        </tr>\n",
       "        <tr>\n",
       "            <td>Long </td> <td>Unweighted</td> <td>1   </td> <td>Side A  </td> <td>False      </td> <td>4.99</td>\n",
       "        </tr>\n",
       "        <tr>\n",
       "            <td>Long </td> <td>Unweighted</td> <td>1   </td> <td>Side A  </td> <td>False      </td> <td>5.8 </td>\n",
       "        </tr>\n",
       "        <tr>\n",
       "            <td>Long </td> <td>Unweighted</td> <td>1   </td> <td>Side A  </td> <td>False      </td> <td>5.94</td>\n",
       "        </tr>\n",
       "        <tr>\n",
       "            <td>Long </td> <td>Unweighted</td> <td>1   </td> <td>Side A  </td> <td>False      </td> <td>5.14</td>\n",
       "        </tr>\n",
       "        <tr>\n",
       "            <td>Long </td> <td>Unweighted</td> <td>1   </td> <td>Side A  </td> <td>False      </td> <td>5.53</td>\n",
       "        </tr>\n",
       "        <tr>\n",
       "            <td>Long </td> <td>Unweighted</td> <td>1   </td> <td>Side A  </td> <td>False      </td> <td>6.3 </td>\n",
       "        </tr>\n",
       "        <tr>\n",
       "            <td>Short</td> <td>Weighted  </td> <td>2   </td> <td>Side A  </td> <td>False      </td> <td>3.41</td>\n",
       "        </tr>\n",
       "    </tbody>\n",
       "</table>\n",
       "<p>... (120 rows omitted)</p>"
      ],
      "text/plain": [
       "Rotor | Weight     | Team | Location | Obstruction | Time\n",
       "Long  | Unweighted | 1    | Side A   | False       | 4.93\n",
       "Long  | Unweighted | 1    | Side A   | False       | 4.07\n",
       "Long  | Unweighted | 1    | Side A   | False       | 5.41\n",
       "Long  | Unweighted | 1    | Side A   | False       | 4.99\n",
       "Long  | Unweighted | 1    | Side A   | False       | 5.8\n",
       "Long  | Unweighted | 1    | Side A   | False       | 5.94\n",
       "Long  | Unweighted | 1    | Side A   | False       | 5.14\n",
       "Long  | Unweighted | 1    | Side A   | False       | 5.53\n",
       "Long  | Unweighted | 1    | Side A   | False       | 6.3\n",
       "Short | Weighted   | 2    | Side A   | False       | 3.41\n",
       "... (120 rows omitted)"
      ]
     },
     "execution_count": 7,
     "metadata": {},
     "output_type": "execute_result"
    }
   ],
   "source": [
    "helicopters = copters.where('Obstruction', False) # SOLUTION\n",
    "helicopters"
   ]
  },
  {
   "cell_type": "code",
   "execution_count": null,
   "metadata": {
    "deletable": false,
    "editable": false
   },
   "outputs": [],
   "source": [
    "grader.check(\"q4\")"
   ]
  },
  {
   "cell_type": "markdown",
   "metadata": {},
   "source": [
    "**Question 5.** Suppose you're interested in determining how the rotor length might impact fall time. Start by creating a histogram that displays the distribution of times for helicopters with long rotors. Use the provided bins stored to `my_bins`."
   ]
  },
  {
   "cell_type": "code",
   "execution_count": 10,
   "metadata": {
    "tags": [
     "otter_assign_solution_cell"
    ]
   },
   "outputs": [
    {
     "data": {
      "image/png": "[encoded data removed]",
      "text/plain": [
       "<Figure size 432x288 with 1 Axes>"
      ]
     },
     "metadata": {},
     "output_type": "display_data"
    }
   ],
   "source": [
    "my_bins = np.arange(2, 9.5, 0.5)\n",
    "helicopters.where('Rotor', 'Long').hist('Time', bins=my_bins ) # SOLUTION"
   ]
  },
  {
   "cell_type": "markdown",
   "metadata": {},
   "source": [
    "<!-- BEGIN QUESTION -->\n",
    "\n",
    "**Question 6.** Now, construct a histogram that shows the distribution of times for only helicopters with short rotors. Again, use the provided bins."
   ]
  },
  {
   "cell_type": "code",
   "execution_count": 11,
   "metadata": {
    "tags": [
     "otter_assign_solution_cell"
    ]
   },
   "outputs": [
    {
     "data": {
      "image/png": "[encoded data removed]",
      "text/plain": [
       "<Figure size 432x288 with 1 Axes>"
      ]
     },
     "metadata": {},
     "output_type": "display_data"
    }
   ],
   "source": [
    "my_bins = np.arange(2, 9.5, 0.5)\n",
    "helicopters.where('Rotor', 'Short').hist('Time', bins=my_bins ) # SOLUTION"
   ]
  },
  {
   "cell_type": "markdown",
   "metadata": {},
   "source": [
    "<!-- END QUESTION -->\n",
    "\n",
    "### Bonus Feature (Ungraded)\n",
    "\n",
    "It can be difficult sometimes to compare two histograms when they are on separate graphs. However, by providing the argument `group` to the `.hist()` method with the label (string) for a column you wish to group by, and it will produce a histogram for each unique group.\n",
    "\n",
    "For example, `table.hist('col_label', bins=your_bins, group='feature')` would produce a histogram for each unique group found in the `feature` column of `table`, using the numerical data in the column labeled `col` label.\n",
    "\n",
    "Running the cell below will create 2 histograms, one for each group as determined by the values in the `Rotor` column."
   ]
  },
  {
   "cell_type": "code",
   "execution_count": 14,
   "metadata": {},
   "outputs": [
    {
     "name": "stderr",
     "output_type": "stream",
     "text": [
      "/opt/conda/lib/python3.9/site-packages/datascience/tables.py:920: VisibleDeprecationWarning: Creating an ndarray from ragged nested sequences (which is a list-or-tuple of lists-or-tuples-or ndarrays with different lengths or shapes) is deprecated. If you meant to do this, you must specify 'dtype=object' when creating the ndarray.\n",
      "  values = np.array(tuple(values))\n"
     ]
    },
    {
     "data": {
      "image/png": "[encoded data removed]",
      "text/plain": [
       "<Figure size 432x288 with 1 Axes>"
      ]
     },
     "metadata": {},
     "output_type": "display_data"
    }
   ],
   "source": [
    "my_bins = np.arange(2, 9.5, 0.5)\n",
    "helicopters.hist('Time', bins=my_bins, group=\"Rotor\" )"
   ]
  },
  {
   "cell_type": "markdown",
   "metadata": {},
   "source": [
    "You can see it's much easier to compare these two distributions now that they're on the same scale and set of axes."
   ]
  },
  {
   "cell_type": "markdown",
   "metadata": {},
   "source": [
    "## 3. The Rotor Question\n",
    "\n",
    "You might now be wondering if there is a difference between the fall times of helicopters with long (full length) vs. short rotors. It certainly appears that the distributions might be different than each other. We'll use our data to attempt to draw a conclusion."
   ]
  },
  {
   "cell_type": "markdown",
   "metadata": {},
   "source": [
    "<!-- BEGIN QUESTION -->\n",
    "\n",
    "**Question 7.** We want to know whether the shortening the rotor length **causes** a change in the fall time.  \n",
    "\n",
    "Why is it not sufficient to compare fall times of the helicopters with short rotors and those with long rotors?"
   ]
  },
  {
   "cell_type": "markdown",
   "metadata": {},
   "source": [
    "_Type your answer here, replacing this text._"
   ]
  },
  {
   "cell_type": "markdown",
   "metadata": {
    "tags": [
     "otter_assign_solution_cell"
    ]
   },
   "source": [
    "**SOLUTION:** We didn't run a randomized controlled experiment, so we may be misled by confounding factors or reverse causation."
   ]
  },
  {
   "cell_type": "markdown",
   "metadata": {},
   "source": [
    "<!-- END QUESTION -->\n",
    "\n",
    "<!-- BEGIN QUESTION -->\n",
    "\n",
    "**Question 8.** Why is an A/B test appropriate for this situation? What would you use as the \"A\" group (the control group) and which group is the \"B\" group (the treatment group)?"
   ]
  },
  {
   "cell_type": "markdown",
   "metadata": {},
   "source": [
    "_Type your answer here, replacing this text._"
   ]
  },
  {
   "cell_type": "markdown",
   "metadata": {
    "tags": [
     "otter_assign_solution_cell"
    ]
   },
   "source": [
    "**SOLUTION:** An A/B test is appropriate because we are comparing 2 distributions of numerical data. The \"A\" group is full length rotors. The \"B\" group is the short rotors. "
   ]
  },
  {
   "cell_type": "markdown",
   "metadata": {},
   "source": [
    "<!-- END QUESTION -->\n",
    "\n",
    "**Question 9.** Create a table `time_means` that contains the average fall time for the full length rotor helicopters and the shortened rotor helicopters. It should have two columns: one indicating the rotor length, and one that contains the average fall time for each group.\n",
    "\n",
    "**Hint:** Use a combination of `.select()` and `.group()` to make short work of this."
   ]
  },
  {
   "cell_type": "code",
   "execution_count": 15,
   "metadata": {
    "tags": [
     "otter_assign_solution_cell"
    ]
   },
   "outputs": [
    {
     "data": {
      "text/html": [
       "<table border=\"1\" class=\"dataframe\">\n",
       "    <thead>\n",
       "        <tr>\n",
       "            <th>Rotor</th> <th>Time average</th>\n",
       "        </tr>\n",
       "    </thead>\n",
       "    <tbody>\n",
       "        <tr>\n",
       "            <td>Long </td> <td>5.61067     </td>\n",
       "        </tr>\n",
       "        <tr>\n",
       "            <td>Short</td> <td>3.96364     </td>\n",
       "        </tr>\n",
       "    </tbody>\n",
       "</table>"
      ],
      "text/plain": [
       "Rotor | Time average\n",
       "Long  | 5.61067\n",
       "Short | 3.96364"
      ]
     },
     "execution_count": 15,
     "metadata": {},
     "output_type": "execute_result"
    }
   ],
   "source": [
    "time_means = helicopters.select(\"Rotor\", \"Time\").group('Rotor', np.average) # SOLUTION\n",
    "time_means"
   ]
  },
  {
   "cell_type": "code",
   "execution_count": null,
   "metadata": {
    "deletable": false,
    "editable": false
   },
   "outputs": [],
   "source": [
    "grader.check(\"q9\")"
   ]
  },
  {
   "cell_type": "markdown",
   "metadata": {},
   "source": [
    "<!-- BEGIN QUESTION -->\n",
    "\n",
    "**Question 10.** We want to figure out if there is a difference between the distribution of fall times for full length and shortened rotor helicopters. Specifically, we want to test if fall times were longer for longer rotor helicopters than they were for shorter rotor helicopters. \n",
    "\n",
    "What should the test statistic be? How does it help us differentiate whether the data supports the null and alternative? \n",
    "\n",
    "Confirm your answer with your instructor (or a classmate who already has) before moving on."
   ]
  },
  {
   "cell_type": "markdown",
   "metadata": {},
   "source": [
    "_Type your answer here, replacing this text._"
   ]
  },
  {
   "cell_type": "markdown",
   "metadata": {
    "tags": [
     "otter_assign_solution_cell"
    ]
   },
   "source": [
    "**SOLUTION:** We want to find the difference between the mean fall times. Low values of this difference support the null. High values of this difference support the alternative."
   ]
  },
  {
   "cell_type": "markdown",
   "metadata": {},
   "source": [
    "<!-- END QUESTION -->\n",
    "\n",
    "**Question 11.** Calculate the test statistic for our observed data using the `time_means` table. Set `observed_difference` to the value you compute. "
   ]
  },
  {
   "cell_type": "code",
   "execution_count": 19,
   "metadata": {
    "tags": [
     "otter_assign_solution_cell"
    ]
   },
   "outputs": [
    {
     "data": {
      "text/plain": [
       "1.647030303030303"
      ]
     },
     "execution_count": 19,
     "metadata": {},
     "output_type": "execute_result"
    }
   ],
   "source": [
    "# BEGIN SOLUTION NO PROMPT\n",
    "means = time_means.column(1)\n",
    "# END SOLUTION\n",
    "observed_difference = means.item(0)-means.item(1) # SOLUTION\n",
    "observed_difference"
   ]
  },
  {
   "cell_type": "code",
   "execution_count": null,
   "metadata": {
    "deletable": false,
    "editable": false
   },
   "outputs": [],
   "source": [
    "grader.check(\"q11\")"
   ]
  },
  {
   "cell_type": "markdown",
   "metadata": {},
   "source": [
    "**Question 12.** To perform an A/B test, we'll need to compute similar statistics for our many simulations we'll run. Writing a function which returns the statistic will be a great way to save time. Write a function named `find_test_stat` which takes in the arguments `table`, `labels_col`, and `values_col` that calculates the test statistic for this problem. The `table` passed into this function will be a permutation of our original table and structured the same way. `labels_col` will be passed a string that specifies which column in the table contains the label you'll be grouping by. `values_col` specifies which column contains the values that you'll be using to compute the test statistic.\n",
    "\n",
    "When you've written this function, you can pass it any table and the two specified labels and it will compute a test statistic for an A/B test, not just for this problem, but any problem! A very handy function to keep around. \n",
    "\n",
    "Running `find_test_stat(helicopters, \"Rotor\", \"Time\")` should return the exact same value your code from the previous question computed: the difference between of average values in the \"Time column between the groups determined by \"Rotor\" column in the `helicopters` table. However, you should also be able to run `find_test_stat(helicopters, \"Weight\", \"Time\")` to computer the difference between of average values in the **\"Weight\"** column between the groups determined by \"Rotor\" column in the `helicopters` table just as easily. "
   ]
  },
  {
   "cell_type": "code",
   "execution_count": 22,
   "metadata": {
    "tags": [
     "otter_assign_solution_cell"
    ]
   },
   "outputs": [
    {
     "data": {
      "text/plain": [
       "1.647030303030303"
      ]
     },
     "execution_count": 22,
     "metadata": {},
     "output_type": "execute_result"
    }
   ],
   "source": [
    "def find_test_stat(table, labels_col, values_col):\n",
    "    \"\"\"Find test statistic between two categories given\n",
    "       the label column and the value column.\n",
    "    \"\"\"\n",
    "    # BEGIN SOLUTION\n",
    "    reduced = table.select(labels_col, values_col)\n",
    "    means_table = reduced.group(labels_col, np.average)\n",
    "    means = means_table.column(1)\n",
    "    return means.item(0) - means.item(1)\n",
    "# END SOLUTION\n",
    "find_test_stat(helicopters, \"Rotor\", \"Time\")"
   ]
  },
  {
   "cell_type": "code",
   "execution_count": null,
   "metadata": {
    "deletable": false,
    "editable": false
   },
   "outputs": [],
   "source": [
    "grader.check(\"q12\")"
   ]
  },
  {
   "cell_type": "markdown",
   "metadata": {},
   "source": [
    "When we run a simulation for A/B testing, we resample the data by shuffling the labels of the original sample. If the null hypothesis is true and the time distributions **are** the same, we expect that the difference in mean time will be not change when \"Rotor\" labels are changed."
   ]
  },
  {
   "cell_type": "markdown",
   "metadata": {},
   "source": [
    "**Question 13.** Write a function `simulate_and_test_statistic` to compute one trial of our A/B test. Your function should run a simulation and return a test statistic.\n",
    "\n",
    "**Hint:** You can \"shuffle\" the labels by using `.sample(with_replacement = False)` on the table, and then just selected the column (as an array using `.column`) that contains the newly shuffled labels. Then, you can either overwrite the existing labels, or, extend the table with a new column labeled something like \"shuffled labels\". Just make sure you pass the correct label on to `find_test_stat`!\n",
    "\n",
    "Note: The autograder test here is fairly lenient, if you have an issue with the following questions, make sure to take a look at your answer to the previous question. Specifically, make sure that you are taking the directionality of our alternative hypothesis into account, meaning, check the order in which you are subtracting the average times."
   ]
  },
  {
   "cell_type": "code",
   "execution_count": 25,
   "metadata": {
    "tags": [
     "otter_assign_solution_cell"
    ]
   },
   "outputs": [
    {
     "data": {
      "text/plain": [
       "-0.13861818181818286"
      ]
     },
     "execution_count": 25,
     "metadata": {},
     "output_type": "execute_result"
    }
   ],
   "source": [
    "def simulate_and_test_statistic(table, labels_col, values_col):\n",
    "    \"\"\"Function used to compute one trial of the A/B test.\n",
    "    \"\"\"\n",
    "    # BEGIN SOLUTION\n",
    "    shuffled_labels = table.sample(with_replacement = False).column(labels_col)\n",
    "    original_and_shuffled = table.with_column(\"shuffled labels\", shuffled_labels)\n",
    "    return find_test_stat(original_and_shuffled, \"shuffled labels\", values_col)\n",
    "    # END SOLUTION\n",
    "    \n",
    "simulate_and_test_statistic(helicopters, \"Rotor\", \"Time\")"
   ]
  },
  {
   "cell_type": "code",
   "execution_count": null,
   "metadata": {
    "deletable": false,
    "editable": false
   },
   "outputs": [],
   "source": [
    "grader.check(\"q13\")"
   ]
  },
  {
   "cell_type": "markdown",
   "metadata": {},
   "source": [
    "**Question 14.** Now that we can quickly shuffle the labels and compute a test statistic, simulate 5000 trials of our A/B test and store the test statistics in an array called `differences`"
   ]
  },
  {
   "cell_type": "code",
   "execution_count": 27,
   "metadata": {
    "tags": [
     "otter_assign_solution_cell"
    ]
   },
   "outputs": [
    {
     "data": {
      "text/plain": [
       "array([-0.02989091, -0.028     , -0.14397576, ..., -0.11151515,\n",
       "        0.18220606,  0.21844848])"
      ]
     },
     "execution_count": 27,
     "metadata": {},
     "output_type": "execute_result"
    }
   ],
   "source": [
    "# This cell might take a couple seconds to run\n",
    "differences = make_array()\n",
    "# BEGIN SOLUTION\n",
    "repetitions = 5000\n",
    "for i in np.arange(repetitions):\n",
    "    new_difference = simulate_and_test_statistic(helicopters, \"Rotor\", \"Time\")\n",
    "    differences = np.append(differences, new_difference)\n",
    "# END SOLUTION\n",
    "differences"
   ]
  },
  {
   "cell_type": "code",
   "execution_count": null,
   "metadata": {
    "deletable": false,
    "editable": false
   },
   "outputs": [],
   "source": [
    "grader.check(\"q14\")"
   ]
  },
  {
   "cell_type": "markdown",
   "metadata": {},
   "source": [
    "Run the cell below to view a histogram of your simulated test statistics plotted with your observed test statistic."
   ]
  },
  {
   "cell_type": "code",
   "execution_count": 29,
   "metadata": {},
   "outputs": [
    {
     "data": {
      "image/png": "[encoded data removed]",
      "text/plain": [
       "<Figure size 432x288 with 1 Axes>"
      ]
     },
     "metadata": {},
     "output_type": "display_data"
    }
   ],
   "source": [
    "Table().with_column('Difference Between Group Means', differences).hist()\n",
    "plt.scatter(observed_difference, -0.01, color='red', s=60, zorder=2);"
   ]
  },
  {
   "cell_type": "markdown",
   "metadata": {},
   "source": [
    "**Question 15.** Find the p-value for your test and assign it to `empirical_P`"
   ]
  },
  {
   "cell_type": "code",
   "execution_count": 30,
   "metadata": {
    "tags": [
     "otter_assign_solution_cell"
    ]
   },
   "outputs": [
    {
     "data": {
      "text/plain": [
       "0.0"
      ]
     },
     "execution_count": 30,
     "metadata": {},
     "output_type": "execute_result"
    }
   ],
   "source": [
    "empirical_P = np.count_nonzero(differences >= observed_difference)/repetitions # SOLUTION\n",
    "empirical_P"
   ]
  },
  {
   "cell_type": "code",
   "execution_count": null,
   "metadata": {
    "deletable": false,
    "editable": false
   },
   "outputs": [],
   "source": [
    "grader.check(\"q15\")"
   ]
  },
  {
   "cell_type": "markdown",
   "metadata": {},
   "source": [
    "<!-- BEGIN QUESTION -->\n",
    "\n",
    "**Question 16.** Using a 5% P-value cutoff, draw a conclusion about the null and alternative hypotheses. Describe your findings using simple, non-technical language. What does your analysis tell you about fall times of helicopters with full length vs shortened rotors? What can you claim about causation from your statistical analysis?"
   ]
  },
  {
   "cell_type": "markdown",
   "metadata": {},
   "source": [
    "_Type your answer here, replacing this text._"
   ]
  },
  {
   "cell_type": "markdown",
   "metadata": {
    "tags": [
     "otter_assign_solution_cell"
    ]
   },
   "source": [
    "**SOLUTION:** Our p-value of 0 is less than than the cutoff of 0.05. Our data supports the alternative hypothesis and we can conclude that rotor length causes a difference in drop time for these paper helicopters."
   ]
  },
  {
   "cell_type": "markdown",
   "metadata": {},
   "source": [
    "<!-- END QUESTION -->\n",
    "\n",
    "## 4. Bonus Investigation (Optional, Not graded)\n",
    "\n",
    "Suppose you're curious if the stairwell that similar helicopters were dropped from would cause a difference in drop times. Let's focus on one type of helicopter, the full size rotor and unweighted body, which was dropped from both stairwells. Run the code below to create a table called `stairwell` which will pare down the original data set to just this type of helicopter."
   ]
  },
  {
   "cell_type": "code",
   "execution_count": 31,
   "metadata": {},
   "outputs": [
    {
     "data": {
      "text/html": [
       "<table border=\"1\" class=\"dataframe\">\n",
       "    <thead>\n",
       "        <tr>\n",
       "            <th>Rotor</th> <th>Weight</th> <th>Team</th> <th>Location</th> <th>Obstruction</th> <th>Time</th>\n",
       "        </tr>\n",
       "    </thead>\n",
       "    <tbody>\n",
       "        <tr>\n",
       "            <td>Long </td> <td>Unweighted</td> <td>1   </td> <td>Side A  </td> <td>False      </td> <td>4.93</td>\n",
       "        </tr>\n",
       "        <tr>\n",
       "            <td>Long </td> <td>Unweighted</td> <td>1   </td> <td>Side A  </td> <td>False      </td> <td>4.07</td>\n",
       "        </tr>\n",
       "        <tr>\n",
       "            <td>Long </td> <td>Unweighted</td> <td>1   </td> <td>Side A  </td> <td>False      </td> <td>5.41</td>\n",
       "        </tr>\n",
       "        <tr>\n",
       "            <td>Long </td> <td>Unweighted</td> <td>1   </td> <td>Side A  </td> <td>False      </td> <td>4.99</td>\n",
       "        </tr>\n",
       "        <tr>\n",
       "            <td>Long </td> <td>Unweighted</td> <td>1   </td> <td>Side A  </td> <td>False      </td> <td>5.8 </td>\n",
       "        </tr>\n",
       "        <tr>\n",
       "            <td>Long </td> <td>Unweighted</td> <td>1   </td> <td>Side A  </td> <td>False      </td> <td>5.94</td>\n",
       "        </tr>\n",
       "        <tr>\n",
       "            <td>Long </td> <td>Unweighted</td> <td>1   </td> <td>Side A  </td> <td>False      </td> <td>5.14</td>\n",
       "        </tr>\n",
       "        <tr>\n",
       "            <td>Long </td> <td>Unweighted</td> <td>1   </td> <td>Side A  </td> <td>False      </td> <td>5.53</td>\n",
       "        </tr>\n",
       "        <tr>\n",
       "            <td>Long </td> <td>Unweighted</td> <td>1   </td> <td>Side A  </td> <td>False      </td> <td>6.3 </td>\n",
       "        </tr>\n",
       "        <tr>\n",
       "            <td>Long </td> <td>Unweighted</td> <td>4   </td> <td>Side B  </td> <td>False      </td> <td>5.65</td>\n",
       "        </tr>\n",
       "    </tbody>\n",
       "</table>\n",
       "<p>... (34 rows omitted)</p>"
      ],
      "text/plain": [
       "Rotor | Weight     | Team | Location | Obstruction | Time\n",
       "Long  | Unweighted | 1    | Side A   | False       | 4.93\n",
       "Long  | Unweighted | 1    | Side A   | False       | 4.07\n",
       "Long  | Unweighted | 1    | Side A   | False       | 5.41\n",
       "Long  | Unweighted | 1    | Side A   | False       | 4.99\n",
       "Long  | Unweighted | 1    | Side A   | False       | 5.8\n",
       "Long  | Unweighted | 1    | Side A   | False       | 5.94\n",
       "Long  | Unweighted | 1    | Side A   | False       | 5.14\n",
       "Long  | Unweighted | 1    | Side A   | False       | 5.53\n",
       "Long  | Unweighted | 1    | Side A   | False       | 6.3\n",
       "Long  | Unweighted | 4    | Side B   | False       | 5.65\n",
       "... (34 rows omitted)"
      ]
     },
     "execution_count": 31,
     "metadata": {},
     "output_type": "execute_result"
    }
   ],
   "source": [
    "stairwell = helicopters.where('Rotor', 'Long').where('Weight', 'Unweighted')\n",
    "stairwell"
   ]
  },
  {
   "cell_type": "markdown",
   "metadata": {},
   "source": [
    "Complete a similar analysis to:\n",
    "\n",
    "* compute the observed value of the test statistic\n",
    "* simulate 5000 A/B tests to create a distribution of the test statistic\n",
    "* compute the empirical p-value\n",
    "* determine if the stairwell caused a difference in the drop times\n"
   ]
  },
  {
   "cell_type": "markdown",
   "metadata": {},
   "source": [
    "# 5. Submitting your work\n",
    "You're done with Lab 06! All assignments in the course will be distributed as notebooks like this one, and you will submit your work by doing the following:\n",
    "\n",
    "* Save your notebook\n",
    "\n",
    "* Restart the kernel and run up to this cell.\n",
    "\n",
    "* Run all the tests by running the cell containing `grader.check_all()`. Make sure they pass the way you expect them to.\n",
    "\n",
    "* Run the cell below with the code `grader.export(\"lab06.ipynb\")`.\n",
    "\n",
    "* Download the file named `lab06.zip`, found in the explorer pane on the left side of the screen.\n",
    "\n",
    "* Upload `lab06.zip` to the Lab 06 assignment on Canvas."
   ]
  },
  {
   "cell_type": "markdown",
   "metadata": {
    "deletable": false,
    "editable": false
   },
   "source": [
    "---\n",
    "\n",
    "To double-check your work, the cell below will rerun all of the autograder tests."
   ]
  },
  {
   "cell_type": "code",
   "execution_count": null,
   "metadata": {
    "deletable": false,
    "editable": false
   },
   "outputs": [],
   "source": [
    "grader.check_all()"
   ]
  },
  {
   "cell_type": "markdown",
   "metadata": {
    "deletable": false,
    "editable": false
   },
   "source": [
    "## Submission\n",
    "\n",
    "Make sure you have run all cells in your notebook in order before running the cell below, so that all images/graphs appear in the output. The cell below will generate a zip file for you to submit. **Please save before exporting!**\n",
    "\n",
    "When done exporting, download the .zip file by finding it in the file browswer on the left side of the screen, then right-click and select **Download**. You'll submit this .zip file for the assignment in Canvas to Gradescope for grading."
   ]
  },
  {
   "cell_type": "code",
   "execution_count": null,
   "metadata": {
    "deletable": false,
    "editable": false
   },
   "outputs": [],
   "source": [
    "# Save your notebook first, then run this cell to export your submission.\n",
    "grader.export()"
   ]
  },
  {
   "cell_type": "markdown",
   "metadata": {},
   "source": [
    " "
   ]
  }
 ],
 "metadata": {
  "kernelspec": {
   "display_name": "Python 3 (ipykernel)",
   "language": "python",
   "name": "python3"
  },
  "language_info": {
   "codemirror_mode": {
    "name": "ipython",
    "version": 3
   },
   "file_extension": ".py",
   "mimetype": "text/x-python",
   "name": "python",
   "nbconvert_exporter": "python",
   "pygments_lexer": "ipython3",
   "version": "3.9.6"
  },
  "otter": {
   "tests": {
    "q1": {
     "name": "q1",
     "points": null,
     "suites": [
      {
       "cases": [
        {
         "code": ">>> len(ab_test_order)\n6",
         "hidden": false,
         "locked": false
        },
        {
         "code": ">>> correct_order = make_array(5, 1, 3, 2, 4, 6)\n>>> all(correct_order == ab_test_order)\nTrue",
         "hidden": false,
         "locked": false
        }
       ],
       "scored": true,
       "setup": "",
       "teardown": "",
       "type": "doctest"
      }
     ]
    },
    "q11": {
     "name": "q11",
     "points": null,
     "suites": [
      {
       "cases": [
        {
         "code": ">>> isinstance(observed_difference, float)\nTrue",
         "hidden": false,
         "locked": false
        },
        {
         "code": ">>> round(observed_difference, 3)\n1.647",
         "hidden": false,
         "locked": false
        }
       ],
       "scored": true,
       "setup": "",
       "teardown": "",
       "type": "doctest"
      }
     ]
    },
    "q12": {
     "name": "q12",
     "points": null,
     "suites": [
      {
       "cases": [
        {
         "code": ">>> round(find_test_stat(helicopters, \"Rotor\", \"Time\"),3)\n1.647",
         "hidden": false,
         "locked": false
        },
        {
         "code": ">>> round(find_test_stat(helicopters, \"Weight\", \"Time\"),3)\n1.0",
         "hidden": false,
         "locked": false
        }
       ],
       "scored": true,
       "setup": "",
       "teardown": "",
       "type": "doctest"
      }
     ]
    },
    "q13": {
     "name": "q13",
     "points": null,
     "suites": [
      {
       "cases": [
        {
         "code": ">>> np.random.seed(123)\n>>> round(simulate_and_test_statistic(helicopters, \"Rotor\", \"Time\"), 3)\n0.323",
         "hidden": false,
         "locked": false
        }
       ],
       "scored": true,
       "setup": "",
       "teardown": "",
       "type": "doctest"
      }
     ]
    },
    "q14": {
     "name": "q14",
     "points": null,
     "suites": [
      {
       "cases": [
        {
         "code": ">>> len(differences)\n5000",
         "hidden": false,
         "locked": false
        },
        {
         "code": ">>> # On average, your test statistic should be close to 0\n>>> abs(np.average(differences)) < 1\nTrue",
         "hidden": false,
         "locked": false
        },
        {
         "code": ">>> # Make sure all test statistics are different\n>>> all(differences == differences.item(0)) == False\nTrue",
         "hidden": false,
         "locked": false
        }
       ],
       "scored": true,
       "setup": "",
       "teardown": "",
       "type": "doctest"
      }
     ]
    },
    "q15": {
     "name": "q15",
     "points": null,
     "suites": [
      {
       "cases": [
        {
         "code": ">>> empirical_P < 0.05\nTrue",
         "hidden": false,
         "locked": false
        }
       ],
       "scored": true,
       "setup": "",
       "teardown": "",
       "type": "doctest"
      }
     ]
    },
    "q4": {
     "name": "q4",
     "points": null,
     "suites": [
      {
       "cases": [
        {
         "code": ">>> helicopters.num_rows\n130",
         "hidden": false,
         "locked": false
        },
        {
         "code": ">>> all(helicopters.column('Obstruction') == False)\nTrue",
         "hidden": false,
         "locked": false
        }
       ],
       "scored": true,
       "setup": "",
       "teardown": "",
       "type": "doctest"
      }
     ]
    },
    "q9": {
     "name": "q9",
     "points": null,
     "suites": [
      {
       "cases": [
        {
         "code": ">>> time_means.num_rows\n2",
         "hidden": false,
         "locked": false
        },
        {
         "code": ">>> time_means.where(\"Rotor\", \"Long\").column(1).item(0)\n5.610666666666667",
         "hidden": false,
         "locked": false
        },
        {
         "code": ">>> time_means.where(\"Rotor\", \"Short\").column(1).item(0)\n3.963636363636364",
         "hidden": false,
         "locked": false
        }
       ],
       "scored": true,
       "setup": "",
       "teardown": "",
       "type": "doctest"
      }
     ]
    }
   }
  }
 },
 "nbformat": 4,
 "nbformat_minor": 4
}
