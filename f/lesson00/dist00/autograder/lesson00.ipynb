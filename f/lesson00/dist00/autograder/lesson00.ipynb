{
 "cells": [
  {
   "cell_type": "code",
   "execution_count": null,
   "id": "db55d589",
   "metadata": {
    "deletable": false,
    "editable": false
   },
   "outputs": [],
   "source": [
    "# Initialize Otter\n",
    "import otter\n",
    "grader = otter.Notebook(\"lesson00.ipynb\")"
   ]
  },
  {
   "cell_type": "markdown",
   "id": "af6b9e88",
   "metadata": {},
   "source": [
    "# Lesson 00: Introduction to Jupyter Notebooks and Markdown\n",
    "\n",
    "Welcome to Foundations of Data Science!  Throughout the course you will complete assignments like this one. You can't learn technical subjects without hands-on practice, so these assignments are an important part of the course.\n",
    "\n",
    "Collaborating on labs is more than okay -- it's encouraged! You should rarely remain stuck for more than a few minutes on a question, so ask a post to the discussion board or ask your instructor for help. Explaining things is beneficial, too -- the best way to solidify your knowledge of a subject is to explain it. You should **not** just copy/paste someone else's code, but rather work together to gain understanding of the task you need to complete. \n",
    "\n",
    "To receive credit for this assignment, answer all questions correctly and submit before the deadline.\n",
    "\n",
    "**Due Date:** \n",
    "\n",
    "**Collaboration Policy:** Data science is a collaborative activity. While you may talk with others about the labs, we ask that you **write your solutions individually**. If you do discuss the assignments with others **please include their names below** (it's a good way to learn your classmates' names).\n",
    "\n",
    "**Collaborators:** \n",
    "\n",
    "List collaborators here.\n",
    "\n",
    "## Today's Lesson\n",
    "\n",
    "In today's lab, you'll learn how to:\n",
    "\n",
    "- navigate Jupyter notebooks (like this one);\n",
    "\n",
    "- format text in markdown cells;\n",
    "\n",
    "- write and evaluate some basic **expressions** in Python, the computer language of the course;\n",
    "\n",
    "- call **functions** to use code other people have written; and\n",
    "\n",
    "- break down Python code into smaller parts to understand it.\n",
    "\n",
    "Let's get started!"
   ]
  },
  {
   "cell_type": "markdown",
   "id": "4a23205a",
   "metadata": {
    "tags": []
   },
   "source": [
    "## Jupyter notebooks\n",
    "This webpage is called a Jupyter notebook. A notebook is a place to write programs and view their results, and also to write text.\n",
    "\n",
    "### Text cells\n",
    "In a notebook, each rectangle containing text or code is called a **cell**.\n",
    "\n",
    "Text cells (like this one) can be edited by double-clicking on them. They're written in a simple format called [Markdown](https://www.markdownguide.org/basic-syntax/) to add formatting and section headings.  You don't need to learn Markdown, but it will be beneficial for you to do so.\n",
    "\n",
    "After you edit a text cell, click the **\"run cell\"** button at the top that looks like ▶| or hold down `shift` + `return` to confirm any changes. \n",
    "\n",
    "**Note:** Try not to delete the instructions of the assignment.\n",
    "\n",
    "#### Italics and Bold\n",
    "\n",
    "We'll start by learning two basic elements in text formatting: italics and bold. In these lessons, you'll notice some formatted and highlighted `text`; this text is actually written in Markdown. Regular Markdown doesn't look any different than regular text, but we're providing some highlighting to make it easier to see.\n",
    "\n",
    "To make a phrase italic in Markdown, you can surround words with an underscore `(_ )`. For example, `_this_` word would become italic; _this_."
   ]
  },
  {
   "cell_type": "markdown",
   "id": "9483db30",
   "metadata": {},
   "source": [
    "**Question 1.** Make the word \"not\" in the next cell appear in italic."
   ]
  },
  {
   "cell_type": "markdown",
   "id": "e8aee02e",
   "metadata": {},
   "source": [
    "Writing markdown is not that hard!"
   ]
  },
  {
   "cell_type": "markdown",
   "id": "123973b7",
   "metadata": {},
   "source": [
    "Awesome! Great job.\n",
    "\n",
    "Similarly, to make phrases bold in Markdown, you can surround words with two asterisks `( ** )`. This will **really** get your point across."
   ]
  },
  {
   "cell_type": "markdown",
   "id": "ada163b0",
   "metadata": {},
   "source": [
    "**Question 2.** In the cell below, make the word \"will\" bold."
   ]
  },
  {
   "cell_type": "markdown",
   "id": "abf931e4",
   "metadata": {},
   "source": [
    "I will complete this lesson!"
   ]
  },
  {
   "cell_type": "markdown",
   "id": "5668a644",
   "metadata": {},
   "source": [
    "Of course, you can use `_both italics` and `bold_` in the same line. You can also span them **across multiple words**.\n",
    "\n",
    "**Question 3.** In the box below, make the words \"Of course\" italic, and the words \"a little moxie\" bold."
   ]
  },
  {
   "cell_type": "markdown",
   "id": "94c053bc",
   "metadata": {},
   "source": [
    "\"Of course,\" she whispered. Then, she shouted: \"All I need is a little moxie!\""
   ]
  },
  {
   "cell_type": "markdown",
   "id": "19415c89",
   "metadata": {},
   "source": [
    "For the final exercise in this section, we're going to make some words bold and italic.\n",
    "\n",
    "**Question 4.** In general, it doesn't matter which order you place the asterisks or underscores. In the cell below, make the words \"This is unbelievable\" both bold and italic. Place the asterisks `**_on the outside_**`, just to make it more legible."
   ]
  },
  {
   "cell_type": "markdown",
   "id": "485d3797",
   "metadata": {},
   "source": [
    "If you're thinking to yourself, This is unbelievable, you'd probably be right."
   ]
  },
  {
   "cell_type": "markdown",
   "id": "00bff7e7",
   "metadata": {},
   "source": [
    "#### Headers\n",
    "\n",
    "Let's take a look at another formatting convention: the header. Headers are frequently used on websites, magazine articles, and notices, to draw attention to a section. As their name implies, they act like titles or subtitles above sections.\n",
    "\n",
    "There are six types of headers, in decreasing sizes:\n",
    "\n",
    "# This is header one\n",
    "## This is header two\n",
    "### This is header three\n",
    "#### This is header four\n",
    "##### This is header five\n",
    "###### This is header six\n",
    "\n",
    "To make headers in Markdown, you preface the phrase with a hash mark `(#)`. You place the same number of hash marks as the size of the header you want. For example, for a header one, you'd use one hash mark `(# Header One)`, while for a header three, you'd use three `(### Header Three)`.\n",
    "\n",
    "**Question 5.** Make each header the right size."
   ]
  },
  {
   "cell_type": "markdown",
   "id": "5656a505",
   "metadata": {},
   "source": [
    "Header one\n",
    "\n",
    "Header two\n",
    "\n",
    "Header three\n",
    "\n",
    "Header four\n",
    "\n",
    "Header five\n",
    "\n",
    "Header six"
   ]
  },
  {
   "cell_type": "markdown",
   "id": "eff45252",
   "metadata": {},
   "source": [
    "All right!\n",
    "\n",
    "It's up to you to decide when it's appropriate to use which header. In general, headers one and six should be used sparingly. You can't really make a header bold, but you can italicize certain words. \n",
    "\n",
    "**Question 6.** In the cell below, make the first line a heading level four, and italicize the name of the author:"
   ]
  },
  {
   "cell_type": "markdown",
   "id": "e1a79055",
   "metadata": {},
   "source": [
    "An Interesting Book about Data Science and Ethics\n",
    "\n",
    "Weapons of Math Destruction by Cathy O'Neil"
   ]
  },
  {
   "cell_type": "markdown",
   "id": "7b3f25aa",
   "metadata": {},
   "source": [
    "#### Links\n",
    "\n",
    "What is meant by inline link? Inline links are a design pattern that uses hyperlinked words — conventionally blue, underlined words — to guide users to another page containing related information. Designers employ inline links so that the information linked from the highlighted words does not clutter the user's current webpage. To create an inline link, you wrap the link text in brackets `( [ ] )`, and then you wrap the link in parenthesis `( ( ) )`. For example, to create a hyperlink to www.ncssm.edu, with a link text that says, Visit NCSSM!, you'd write this in Markdown: `[Visit NCSSM!](www.ncssm.edu)`.\n",
    "\n",
    "**Question 7.** In the blank cell below, make a link to www.google.com, with link text that says \"Search for it.\""
   ]
  },
  {
   "cell_type": "markdown",
   "id": "d7a84553",
   "metadata": {},
   "source": []
  },
  {
   "cell_type": "markdown",
   "id": "5620587b",
   "metadata": {},
   "source": [
    "#### Lists\n",
    "\n",
    "There are two types of lists: unordered and ordered. That's a fancy way of saying that there are lists with bullet points, and lists with numbers.\n",
    "\n",
    "To create an unordered list, you'll want to preface each item in the list with an asterisk `( * )`. Each list item also gets its own line. For example, a grocery list in Markdown might look like this:\n",
    "\n",
    "```\n",
    "\n",
    "* Milk\n",
    "\n",
    "* Eggs\n",
    "\n",
    "* Salmon\n",
    "\n",
    "* Butter\n",
    "\n",
    "```\n",
    "\n",
    "This Markdown list would render into the following bullet points:\n",
    "\n",
    "- Milk\n",
    "\n",
    "- Eggs\n",
    "\n",
    "- Salmon\n",
    "\n",
    "- Butter\n",
    "\n",
    "**Question 8.** In the cell below, turn the words separated by a comma into a list."
   ]
  },
  {
   "cell_type": "markdown",
   "id": "a4addd7d",
   "metadata": {},
   "source": [
    "Mathematics, Science, Computer Programming"
   ]
  },
  {
   "cell_type": "markdown",
   "id": "743e5ead",
   "metadata": {},
   "source": [
    "All right! That's how you write an unordered list. Now, let's talk about ordered ones.\n",
    "\n",
    "An ordered list is prefaced with numbers, instead of asterisks. Take a look at this recipe:\n",
    "\n",
    "```\n",
    "1. Crack three eggs over a bowl\n",
    "\n",
    "2. Pour a gallon of milk into the bowl\n",
    "\n",
    "3. Rub the salmon vigorously with butter\n",
    "\n",
    "4. Drop the salmon into the egg-milk bowl\n",
    "```\n",
    "\n",
    "To write that in Markdown, you'd do this:\n",
    "\n",
    "1. Crack three eggs over a bowl\n",
    "2. Pour a gallon of milk into the bowl\n",
    "3. Rub the salmon vigorously with butter\n",
    "4. Drop the salmon into the egg-milk bowl\n",
    "\n",
    "Easy, right? It's just like you'd expect a list to look.\n",
    "\n",
    "**Question 9.** In the cell below, turn the rest of the recipe into an ordered list."
   ]
  },
  {
   "cell_type": "markdown",
   "id": "ca0c80c6",
   "metadata": {},
   "source": [
    "Cut the cheese, Slice the tomatoes, Rub the tomatoes in flour"
   ]
  },
  {
   "cell_type": "markdown",
   "id": "741a4ae9",
   "metadata": {
    "tags": []
   },
   "source": [
    "#### Paragraphs\n",
    "\n",
    "Markdown has several ways of formatting paragraphs.\n",
    "\n",
    "Let's take a few lines of poetry as an example. Suppose you want to write text that looks like this:\n",
    "\n",
    "```\n",
    "You may write me down in history\n",
    "With your bitter, twisted lies,\n",
    "You may tread me in the very dirt\n",
    "But still, like dust, I'll rise.\n",
    "```\n",
    "\n",
    "Now, you might think that simply typing each verse onto its own line would be enough to solve the problem:"
   ]
  },
  {
   "cell_type": "markdown",
   "id": "d90f5c06",
   "metadata": {},
   "source": [
    "You may write me down in history\n",
    "With your bitter, twisted lies,\n",
    "You may tread me in the very dirt\n",
    "But still, like dust, I'll rise."
   ]
  },
  {
   "cell_type": "markdown",
   "id": "35eb05bf",
   "metadata": {},
   "source": [
    "Unfortunately, you'd be wrong! This Markdown would render simply as a single straight line: \n",
    "\n",
    "You may write me down in history With your bitter, twisted lies, You may tread me in the very dirt But still, like dust, I'll rise.\n",
    "\n",
    "If you forcefully insert a new line, you end up breaking the togetherness:"
   ]
  },
  {
   "cell_type": "markdown",
   "id": "d432730e",
   "metadata": {},
   "source": [
    "You may write me down in history\n",
    "\n",
    "With your bitter, twisted lies,\n",
    "\n",
    "You may tread me in the very dirt\n",
    "\n",
    "But still, like dust, I'll rise."
   ]
  },
  {
   "cell_type": "markdown",
   "id": "64342a07",
   "metadata": {},
   "source": [
    "This is what's known as a hard break; what our poetry asks for is a soft break. You can accomplish this by inserting two spaces after each new line."
   ]
  },
  {
   "cell_type": "markdown",
   "id": "c10b46d4",
   "metadata": {},
   "source": [
    "### Code Cells\n",
    "\n",
    "Other cells contain code in the Python 3 language. Running a code cell will execute all of the code it contains.\n",
    "\n",
    "To run the code in a code cell, first click on that cell to activate it. It'll be highlighted with a little green or blue rectangle.  Next, either press ▶| or hold down `shift` + `return`.\n",
    "\n",
    "Try running the cell below:"
   ]
  },
  {
   "cell_type": "code",
   "execution_count": 5,
   "id": "c7973020",
   "metadata": {},
   "outputs": [
    {
     "name": "stdout",
     "output_type": "stream",
     "text": [
      "Hello, World!\n"
     ]
    }
   ],
   "source": [
    "print(\"Hello, World!\")"
   ]
  },
  {
   "cell_type": "code",
   "execution_count": 6,
   "id": "7554a8b3",
   "metadata": {},
   "outputs": [
    {
     "name": "stdout",
     "output_type": "stream",
     "text": [
      "👋, 🌏!\n"
     ]
    }
   ],
   "source": [
    "print(\"\\N{WAVING HAND SIGN}, \\N{EARTH GLOBE ASIA-AUSTRALIA}!\")"
   ]
  },
  {
   "cell_type": "markdown",
   "id": "99368a4b",
   "metadata": {},
   "source": [
    "The fundamental building block of Python code is an expression. Cells can contain multiple lines with multiple expressions. When you run a cell, the lines of code are executed in the order in which they appear. Every `print` expression prints a line. \n",
    "\n",
    "Run the next cell and notice the order of the output."
   ]
  },
  {
   "cell_type": "code",
   "execution_count": 7,
   "id": "6cfa1970",
   "metadata": {},
   "outputs": [
    {
     "name": "stdout",
     "output_type": "stream",
     "text": [
      "This is line one\n",
      "and this is line two.\n"
     ]
    }
   ],
   "source": [
    "print('This is line one')\n",
    "print('and this is line two.')"
   ]
  },
  {
   "cell_type": "markdown",
   "id": "039f2afc",
   "metadata": {},
   "source": [
    "#### Writing Jupyter Notebooks\n",
    "\n",
    "You can use Jupyter notebooks for your own projects or documents.  When you make your own notebook, you'll need to create your own cells for text and code.\n",
    "\n",
    "To add a cell, click the + button in the menu bar.  It'll start out as a text cell.  You can change it to a code cell by clicking inside it so it's highlighted, clicking the drop-down box next to the restart (⟳) button in the menu bar, and choosing \"Code\"."
   ]
  },
  {
   "cell_type": "markdown",
   "id": "1122dd78",
   "metadata": {},
   "source": [
    "**Question 10.** Add a code cell below this one.  Write code in it that prints out:\n",
    "   \n",
    "    ♪ A whole new cell! ♪\n",
    "\n",
    "**Hint:** That musical note symbol is like the Earth symbol.  Its long-form name is `\\N{EIGHTH NOTE}`.\n",
    "\n",
    "Run your cell to verify that it works."
   ]
  },
  {
   "cell_type": "markdown",
   "id": "4faeac2e",
   "metadata": {},
   "source": [
    "#### Numbers\n",
    "\n",
    "Quantitative information arises everywhere in data science. In addition to representing commands to print out lines, expressions can represent numbers and methods of combining numbers. The expression `3.2500` evaluates to the number 3.25. \n",
    "\n",
    "Run the cell and see."
   ]
  },
  {
   "cell_type": "code",
   "execution_count": 8,
   "id": "040afb05",
   "metadata": {},
   "outputs": [
    {
     "data": {
      "text/plain": [
       "3.25"
      ]
     },
     "execution_count": 8,
     "metadata": {},
     "output_type": "execute_result"
    }
   ],
   "source": [
    "3.2500"
   ]
  },
  {
   "cell_type": "markdown",
   "id": "9d4c04de",
   "metadata": {},
   "source": [
    "Notice that we didn't have to print. When you run a notebook cell, if the last line has a value, then Jupyter helpfully prints out that value for you. However, it won't print out prior lines automatically."
   ]
  },
  {
   "cell_type": "code",
   "execution_count": 9,
   "id": "6b5ceecf",
   "metadata": {},
   "outputs": [
    {
     "name": "stdout",
     "output_type": "stream",
     "text": [
      "2\n"
     ]
    },
    {
     "data": {
      "text/plain": [
       "4"
      ]
     },
     "execution_count": 9,
     "metadata": {},
     "output_type": "execute_result"
    }
   ],
   "source": [
    "print(2)\n",
    "3\n",
    "4"
   ]
  },
  {
   "cell_type": "markdown",
   "id": "6ef10a60",
   "metadata": {},
   "source": [
    "Above, you should see that 4 is the value of the last expression, 2 is printed, but 3 is lost forever because it was neither printed nor last.\n",
    "\n",
    "You don't want to print everything all the time anyway.  But if you feel sorry for 3, change the cell below to print it."
   ]
  },
  {
   "cell_type": "code",
   "execution_count": 10,
   "id": "51d8b8a7",
   "metadata": {},
   "outputs": [
    {
     "name": "stdout",
     "output_type": "stream",
     "text": [
      "2\n"
     ]
    },
    {
     "data": {
      "text/plain": [
       "4"
      ]
     },
     "execution_count": 10,
     "metadata": {},
     "output_type": "execute_result"
    }
   ],
   "source": [
    "print(2)\n",
    "3\n",
    "4"
   ]
  },
  {
   "cell_type": "markdown",
   "id": "b52397f4",
   "metadata": {},
   "source": [
    "#### Arithmetic\n",
    "\n",
    "The line in the next cell subtracts.  Its value is what you'd expect.  \n",
    "\n",
    "Run it."
   ]
  },
  {
   "cell_type": "code",
   "execution_count": 11,
   "id": "8bf24d0a",
   "metadata": {},
   "outputs": [
    {
     "data": {
      "text/plain": [
       "1.75"
      ]
     },
     "execution_count": 11,
     "metadata": {},
     "output_type": "execute_result"
    }
   ],
   "source": [
    "3.25 - 1.5"
   ]
  },
  {
   "cell_type": "markdown",
   "id": "caf98228",
   "metadata": {},
   "source": [
    "Many basic arithmetic operations are built into Python. The textbook section on Expressions describes all the arithmetic operators used in the course. The common operator that differs from typical math notation is `**`, which raises one number to the power of the other. So, `2**3` stands for  $2^3$  and evaluates to 8.\n",
    "\n",
    "The order of operations is the same as what you learned in middle school, and Python also has parentheses. For example, compare the outputs of the cells below. The second cell uses parentheses for a happy new year."
   ]
  },
  {
   "cell_type": "code",
   "execution_count": 5,
   "id": "da3b04cd",
   "metadata": {},
   "outputs": [
    {
     "data": {
      "text/plain": [
       "-720.0"
      ]
     },
     "execution_count": 5,
     "metadata": {},
     "output_type": "execute_result"
    }
   ],
   "source": [
    "6+6*5-6*3**2*2**3/4*7"
   ]
  },
  {
   "cell_type": "code",
   "execution_count": 6,
   "id": "9d42d257",
   "metadata": {},
   "outputs": [
    {
     "data": {
      "text/plain": [
       "2022.0"
      ]
     },
     "execution_count": 6,
     "metadata": {},
     "output_type": "execute_result"
    }
   ],
   "source": [
    "6+(6*5-(6*3))**2*((2**3)/4*7)"
   ]
  },
  {
   "cell_type": "markdown",
   "id": "ee085f03",
   "metadata": {},
   "source": [
    "In standard math notation, the first expression is\n",
    "\n",
    "$$6 + 6 \\times 5 - 6 \\times 3^2 \\times \\frac{2^3}{4} \\times 7,$$\n",
    "\n",
    "while the second expression is\n",
    "\n",
    "$$6 + (6 \\times 5 - \\left(6 \\times 3)\\right)^2 \\times \\left(\\frac{(2^3)}{4} \\times 7\\right).$$\n",
    "\n",
    "### Checking Your Code\n",
    "Now that you know how to navigate a Jupyter Notebook, you can start using the built-in tests to check whether your work is correct. Sometimes, there are multiple tests for a single question, and passing all of them is required to receive credit for the question. A test cell will always look like:\n",
    "\n",
    "```\n",
    "grader.check(\"q11\")\n",
    "```\n",
    "\n",
    "Go ahead and attempt **Question 11.** Running the test cell directly after it will test whether you have the correct value. If you haven't, this particular test will tell you the correct answer. Resist the urge to just copy it, and instead try to adjust your expression. Additionally, if you make a common error sometimes the tests will give hints about what went wrong."
   ]
  },
  {
   "cell_type": "markdown",
   "id": "6ec226e7",
   "metadata": {},
   "source": [
    "**Question 11.** In the cell below, write a Python expression in this next cell that's equal to \n",
    "\n",
    "$$5 \\times (3 \\frac{10}{11}) - 50 \\frac{1}{3} + 2^{.5 \\times 22} - \\frac{7}{33} + 5$$  \n",
    "\n",
    "That's five times three and ten elevenths, minus fifty and a third, plus two to the power of half twenty-two, minus seven thirty-thirds plus five.  By \"$3 \\frac{10}{11}$\" we mean $3+\\frac{10}{11}$, not $3 \\times \\frac{10}{11}$.\n",
    "\n",
    "Replace the ellipses in the blank cell below (`...`) with your expression.  Try to use parentheses only when necessary.\n",
    "\n",
    "**Hint:** The correct output should be a familiar number."
   ]
  },
  {
   "cell_type": "code",
   "execution_count": 1,
   "id": "0d87711e",
   "metadata": {
    "tags": [
     "otter_assign_solution_cell"
    ]
   },
   "outputs": [],
   "source": [
    "this_year = 5*(43/11)-151/3+2**(.5*22)-7/33+5 # SOLUTION"
   ]
  },
  {
   "cell_type": "code",
   "execution_count": null,
   "id": "d636c663",
   "metadata": {
    "deletable": false,
    "editable": false
   },
   "outputs": [],
   "source": [
    "grader.check(\"q11\")"
   ]
  },
  {
   "cell_type": "markdown",
   "id": "f65a67f2",
   "metadata": {
    "deletable": false,
    "editable": false
   },
   "source": [
    "---\n",
    "\n",
    "To double-check your work, the cell below will rerun all of the autograder tests."
   ]
  },
  {
   "cell_type": "code",
   "execution_count": null,
   "id": "489ed655",
   "metadata": {
    "deletable": false,
    "editable": false
   },
   "outputs": [],
   "source": [
    "grader.check_all()"
   ]
  },
  {
   "cell_type": "markdown",
   "id": "750d0b02",
   "metadata": {
    "deletable": false,
    "editable": false
   },
   "source": [
    "## Submission\n",
    "\n",
    "Make sure you have run all cells in your notebook in order before running the cell below, so that all images/graphs appear in the output. The cell below will generate a zip file for you to submit. **Please save before exporting!**\n",
    "\n",
    "When done exporting, download the .zip file by `SHIFT`-clicking on the file name and selecting **Save Link As**. Or, find the .zip file in the left side of the screen and right-click and select **Download**. You'll submit this .zip file for the assignment in Canvas to Gradescope for grading."
   ]
  },
  {
   "cell_type": "code",
   "execution_count": null,
   "id": "53e4c2fe",
   "metadata": {
    "deletable": false,
    "editable": false
   },
   "outputs": [],
   "source": [
    "# Save your notebook first, then run this cell to export your submission.\n",
    "grader.export(pdf=False)"
   ]
  },
  {
   "cell_type": "markdown",
   "id": "259a96ea",
   "metadata": {},
   "source": [
    " "
   ]
  }
 ],
 "metadata": {
  "kernelspec": {
   "display_name": "Python 3 (ipykernel)",
   "language": "python",
   "name": "python3"
  },
  "language_info": {
   "codemirror_mode": {
    "name": "ipython",
    "version": 3
   },
   "file_extension": ".py",
   "mimetype": "text/x-python",
   "name": "python",
   "nbconvert_exporter": "python",
   "pygments_lexer": "ipython3",
   "version": "3.10.1"
  },
  "otter": {
   "tests": {
    "q11": {
     "name": "q11",
     "points": null,
     "suites": [
      {
       "cases": [
        {
         "code": ">>> this_year\n2022.0",
         "hidden": false,
         "locked": false
        }
       ],
       "scored": true,
       "setup": "",
       "teardown": "",
       "type": "doctest"
      }
     ]
    }
   }
  }
 },
 "nbformat": 4,
 "nbformat_minor": 5
}
