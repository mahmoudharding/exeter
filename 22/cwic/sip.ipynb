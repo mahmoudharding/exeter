{
 "cells": [
  {
   "cell_type": "markdown",
   "id": "6fdf4461-076b-443a-9c46-811807c3788f",
   "metadata": {},
   "source": [
    "# Simulation in Python\n",
    "\n",
    "“This means that simulating random processes repeatedly is a way of approximating probability distributions without figuring out the probabilities mathematically or generating all possible random samples. Thus computer simulations become a powerful tool in data science. They can help data scientists understand the properties of random quantities that would be complicated to analyze in other ways.” [[1]](https://inferentialthinking.com/chapters/10/3/Empirical_Distribution_of_a_Statistic.html#the-power-of-simulation)\n",
    "\n",
    "**Libraries and Packages**\n",
    "\n",
    "- [`datascience`](http://data8.org/datascience/)\n",
    "\n",
    "- [`numpy`](https://numpy.org/doc/stable/user/absolute_beginners.html)\n",
    "\n",
    "- [`matplotlib`](https://matplotlib.org/stable/plot_types/index.html)\n",
    "\n",
    "Run the cell below to import the libraries and packages we'll use to perform the simulations in this notebook."
   ]
  },
  {
   "cell_type": "code",
   "execution_count": 2,
   "id": "926fcd18-027d-47a9-9f09-5e2cc0529ba0",
   "metadata": {},
   "outputs": [],
   "source": [
    "from datascience import *\n",
    "import numpy as np\n",
    "import matplotlib.pyplot as plt\n",
    "%matplotlib inline"
   ]
  },
  {
   "cell_type": "markdown",
   "id": "d66d1b21-510b-41ee-ad05-6b928fbb0973",
   "metadata": {},
   "source": [
    "## Sampling from a Table\n",
    "\n",
    "The `sample` function (from the `datascience` package) draws uniformly at random with replacement from a `Table` object."
   ]
  },
  {
   "cell_type": "code",
   "execution_count": 3,
   "id": "aec67270-bbf3-4f52-843e-7e2391ef5191",
   "metadata": {},
   "outputs": [
    {
     "data": {
      "text/plain": [
       "datascience.tables.Table"
      ]
     },
     "execution_count": 3,
     "metadata": {},
     "output_type": "execute_result"
    }
   ],
   "source": [
    "faces = np.arange(1, 7)\n",
    "die = Table().with_columns('Face', faces)\n",
    "type(die)"
   ]
  },
  {
   "cell_type": "code",
   "execution_count": 4,
   "id": "c7e9e05d-2426-43f3-9b15-ce68566d3758",
   "metadata": {},
   "outputs": [
    {
     "data": {
      "text/html": [
       "<table border=\"1\" class=\"dataframe\">\n",
       "    <thead>\n",
       "        <tr>\n",
       "            <th>Face</th>\n",
       "        </tr>\n",
       "    </thead>\n",
       "    <tbody>\n",
       "        <tr>\n",
       "            <td>1   </td>\n",
       "        </tr>\n",
       "        <tr>\n",
       "            <td>2   </td>\n",
       "        </tr>\n",
       "        <tr>\n",
       "            <td>3   </td>\n",
       "        </tr>\n",
       "        <tr>\n",
       "            <td>4   </td>\n",
       "        </tr>\n",
       "        <tr>\n",
       "            <td>5   </td>\n",
       "        </tr>\n",
       "        <tr>\n",
       "            <td>6   </td>\n",
       "        </tr>\n",
       "    </tbody>\n",
       "</table>"
      ],
      "text/plain": [
       "Face\n",
       "1\n",
       "2\n",
       "3\n",
       "4\n",
       "5\n",
       "6"
      ]
     },
     "execution_count": 4,
     "metadata": {},
     "output_type": "execute_result"
    }
   ],
   "source": [
    "die"
   ]
  },
  {
   "cell_type": "code",
   "execution_count": 6,
   "id": "6b61beb7-fde6-46c1-a889-9e79eb275558",
   "metadata": {
    "tags": []
   },
   "outputs": [
    {
     "data": {
      "text/html": [
       "<table border=\"1\" class=\"dataframe\">\n",
       "    <thead>\n",
       "        <tr>\n",
       "            <th>Face</th>\n",
       "        </tr>\n",
       "    </thead>\n",
       "    <tbody>\n",
       "        <tr>\n",
       "            <td>6   </td>\n",
       "        </tr>\n",
       "        <tr>\n",
       "            <td>3   </td>\n",
       "        </tr>\n",
       "        <tr>\n",
       "            <td>1   </td>\n",
       "        </tr>\n",
       "        <tr>\n",
       "            <td>1   </td>\n",
       "        </tr>\n",
       "        <tr>\n",
       "            <td>1   </td>\n",
       "        </tr>\n",
       "        <tr>\n",
       "            <td>4   </td>\n",
       "        </tr>\n",
       "        <tr>\n",
       "            <td>5   </td>\n",
       "        </tr>\n",
       "    </tbody>\n",
       "</table>"
      ],
      "text/plain": [
       "Face\n",
       "6\n",
       "3\n",
       "1\n",
       "1\n",
       "1\n",
       "4\n",
       "5"
      ]
     },
     "execution_count": 6,
     "metadata": {},
     "output_type": "execute_result"
    }
   ],
   "source": [
    "die.sample(7)"
   ]
  },
  {
   "cell_type": "markdown",
   "id": "351548bf-4b8f-4cf3-a72c-dc72f982b481",
   "metadata": {},
   "source": [
    "### Empirical Histograms\n",
    "\n",
    "\"Empirical distributions, on the other hand, are distributions of observed data. They can be visualized by empirical histograms.\" [[2]](https://inferentialthinking.com/chapters/10/1/Empirical_Distributions.html?highlight=simple%20random%20sample#id1)"
   ]
  },
  {
   "cell_type": "code",
   "execution_count": 7,
   "id": "98199541-3bc1-4b64-9aad-9fff21f376b0",
   "metadata": {},
   "outputs": [],
   "source": [
    "# Set the bin width to 1 centered on the integers 1 through 6\n",
    "die_bins = np.arange(0.5, 6.6, 1) \n",
    "\n",
    "def empirical_hist_die(n):\n",
    "    \"\"\"Sample n times time with replacement from the die Table \n",
    "       and make a histogram of the distribution.\n",
    "    \"\"\"\n",
    "    die.sample(n).hist(bins=die_bins)"
   ]
  },
  {
   "cell_type": "code",
   "execution_count": 12,
   "id": "d757d8c9-e513-4273-ab1b-97f455b4081d",
   "metadata": {},
   "outputs": [
    {
     "data": {
      "image/png": "[encoded data removed]",
      "text/plain": [
       "<Figure size 432x288 with 1 Axes>"
      ]
     },
     "metadata": {
      "needs_background": "light"
     },
     "output_type": "display_data"
    }
   ],
   "source": [
    "empirical_hist_die(100000)"
   ]
  },
  {
   "cell_type": "markdown",
   "id": "93a9c0ad-48d2-4aa9-a35d-8e1a6ecd1fcb",
   "metadata": {},
   "source": [
    "**Question 1.** What do you notice as the sample size increases?"
   ]
  },
  {
   "cell_type": "code",
   "execution_count": null,
   "id": "cf9d1e4a-abde-4920-9f5e-9c90f4687b68",
   "metadata": {},
   "outputs": [],
   "source": []
  },
  {
   "cell_type": "markdown",
   "id": "ee906f06-39b4-4e17-af9d-b6ed86755b85",
   "metadata": {},
   "source": [
    "A `Table` can be made from an `array` object. \n",
    "\n",
    "- The `make_array()` function (from the `datascience` package) will make an array.\n",
    "\n",
    "- The `.with_column()` function will make a table from an array."
   ]
  },
  {
   "cell_type": "code",
   "execution_count": 13,
   "id": "7ee42c14-31ea-4147-b743-f2d9786f7b16",
   "metadata": {},
   "outputs": [
    {
     "data": {
      "text/plain": [
       "datascience.tables.Table"
      ]
     },
     "execution_count": 13,
     "metadata": {},
     "output_type": "execute_result"
    }
   ],
   "source": [
    "coin = Table().with_column('coin', make_array('H','T'))\n",
    "type(coin)"
   ]
  },
  {
   "cell_type": "code",
   "execution_count": 14,
   "id": "9fc57fc0-aaae-4d3d-9155-b000ccbeaf50",
   "metadata": {},
   "outputs": [
    {
     "data": {
      "text/html": [
       "<table border=\"1\" class=\"dataframe\">\n",
       "    <thead>\n",
       "        <tr>\n",
       "            <th>coin</th>\n",
       "        </tr>\n",
       "    </thead>\n",
       "    <tbody>\n",
       "        <tr>\n",
       "            <td>H   </td>\n",
       "        </tr>\n",
       "        <tr>\n",
       "            <td>T   </td>\n",
       "        </tr>\n",
       "    </tbody>\n",
       "</table>"
      ],
      "text/plain": [
       "coin\n",
       "H\n",
       "T"
      ]
     },
     "execution_count": 14,
     "metadata": {},
     "output_type": "execute_result"
    }
   ],
   "source": [
    "coin"
   ]
  },
  {
   "cell_type": "code",
   "execution_count": 15,
   "id": "d3daecf2-8b51-4f8b-a11d-02197466f918",
   "metadata": {},
   "outputs": [
    {
     "data": {
      "text/html": [
       "<table border=\"1\" class=\"dataframe\">\n",
       "    <thead>\n",
       "        <tr>\n",
       "            <th>coin</th>\n",
       "        </tr>\n",
       "    </thead>\n",
       "    <tbody>\n",
       "        <tr>\n",
       "            <td>T   </td>\n",
       "        </tr>\n",
       "        <tr>\n",
       "            <td>H   </td>\n",
       "        </tr>\n",
       "        <tr>\n",
       "            <td>T   </td>\n",
       "        </tr>\n",
       "        <tr>\n",
       "            <td>H   </td>\n",
       "        </tr>\n",
       "        <tr>\n",
       "            <td>H   </td>\n",
       "        </tr>\n",
       "        <tr>\n",
       "            <td>T   </td>\n",
       "        </tr>\n",
       "        <tr>\n",
       "            <td>T   </td>\n",
       "        </tr>\n",
       "        <tr>\n",
       "            <td>T   </td>\n",
       "        </tr>\n",
       "        <tr>\n",
       "            <td>H   </td>\n",
       "        </tr>\n",
       "        <tr>\n",
       "            <td>T   </td>\n",
       "        </tr>\n",
       "    </tbody>\n",
       "</table>"
      ],
      "text/plain": [
       "coin\n",
       "T\n",
       "H\n",
       "T\n",
       "H\n",
       "H\n",
       "T\n",
       "T\n",
       "T\n",
       "H\n",
       "T"
      ]
     },
     "execution_count": 15,
     "metadata": {},
     "output_type": "execute_result"
    }
   ],
   "source": [
    "coin.sample(10)"
   ]
  },
  {
   "cell_type": "markdown",
   "id": "1155ce2a-fca0-4c09-8665-f709e247cb81",
   "metadata": {
    "tags": []
   },
   "source": [
    "### Coin Toss\n",
    "\n",
    "Let's simulate the number of heads in 100 coin tosses."
   ]
  },
  {
   "cell_type": "code",
   "execution_count": 18,
   "id": "dd059dcf-248e-4797-9bcc-899e1f550e1f",
   "metadata": {},
   "outputs": [
    {
     "data": {
      "text/plain": [
       "46"
      ]
     },
     "execution_count": 18,
     "metadata": {},
     "output_type": "execute_result"
    }
   ],
   "source": [
    "sum(coin.sample(100).column(0) == 'H')"
   ]
  },
  {
   "cell_type": "code",
   "execution_count": null,
   "id": "aa9f33c6-c1bc-4771-89a6-c49520140e34",
   "metadata": {},
   "outputs": [],
   "source": [
    "We can write a function to simulate this experiment one time."
   ]
  },
  {
   "cell_type": "code",
   "execution_count": 19,
   "id": "3090e32b-9b9a-4c1d-8014-92d425de007f",
   "metadata": {},
   "outputs": [],
   "source": [
    "def num_heads():\n",
    "    \"\"\"Simulate the number of heads in 100 coin tosses.\n",
    "    \"\"\"\n",
    "    return sum(coin.sample(100).column(0) == 'H')"
   ]
  },
  {
   "cell_type": "markdown",
   "id": "3b320057-296d-42b2-a3bd-f36c2f28879b",
   "metadata": {},
   "source": [
    "Now let's simulate this experiment 1000 times by using our `num_heads` function in a `for` loop."
   ]
  },
  {
   "cell_type": "code",
   "execution_count": 20,
   "id": "10ea7ede-2a9e-4c6e-a155-77391230d4b7",
   "metadata": {},
   "outputs": [],
   "source": [
    "# Set the number of times to repeat the experiment\n",
    "repetitions = 1000\n",
    "\n",
    "# Initialize an array to store the outcome from each experiment\n",
    "outcomes = make_array()\n",
    "\n",
    "# for loop to repeat the experiment and store the outcome to an array\n",
    "for i in np.arange(repetitions):\n",
    "    outcomes = np.append(outcomes, num_heads())"
   ]
  },
  {
   "cell_type": "markdown",
   "id": "17643604-105c-460f-9bd4-9b289de7d5ca",
   "metadata": {},
   "source": [
    "Finally we can visualize the distribution of the outcomes by making a histogram by creating a `Table` from the `outcomes` array and plotting a histogram using the `.hist()` function."
   ]
  },
  {
   "cell_type": "code",
   "execution_count": 21,
   "id": "dd9f23e9-0b06-4b61-adc5-ae5fab04947b",
   "metadata": {},
   "outputs": [
    {
     "data": {
      "image/png": "[encoded data removed]",
      "text/plain": [
       "<Figure size 432x288 with 1 Axes>"
      ]
     },
     "metadata": {
      "needs_background": "light"
     },
     "output_type": "display_data"
    }
   ],
   "source": [
    "Table().with_column('Heads', outcomes).hist()"
   ]
  },
  {
   "cell_type": "markdown",
   "id": "53553aa0-b784-44ea-a83d-915e095b9b38",
   "metadata": {},
   "source": [
    "**Question 2.** If someone made a claim that they flipped a coin 100 times and got 55 heads, would you think it happened by chance or due to their skill level with regards to being able to flip a coin? What if they got 65 heads?"
   ]
  },
  {
   "cell_type": "code",
   "execution_count": null,
   "id": "9059f6e7-2601-48cb-944c-461accdaf882",
   "metadata": {},
   "outputs": [],
   "source": []
  },
  {
   "cell_type": "markdown",
   "id": "ad67a341-038a-40eb-86b6-6639043e623e",
   "metadata": {},
   "source": [
    "### Sampling from a Population\n",
    "\n",
    "Let's pretend that our data set represents every single flight delay for United Airlines (i.e., we'll think of it as the population)."
   ]
  },
  {
   "cell_type": "code",
   "execution_count": 22,
   "id": "12611755-ae75-4c27-9065-d1e92c406baa",
   "metadata": {},
   "outputs": [
    {
     "data": {
      "text/html": [
       "<table border=\"1\" class=\"dataframe\">\n",
       "    <thead>\n",
       "        <tr>\n",
       "            <th>Date</th> <th>Flight Number</th> <th>Destination</th> <th>Delay</th>\n",
       "        </tr>\n",
       "    </thead>\n",
       "    <tbody>\n",
       "        <tr>\n",
       "            <td>6/1/15</td> <td>73           </td> <td>HNL        </td> <td>257  </td>\n",
       "        </tr>\n",
       "        <tr>\n",
       "            <td>6/1/15</td> <td>217          </td> <td>EWR        </td> <td>28   </td>\n",
       "        </tr>\n",
       "        <tr>\n",
       "            <td>6/1/15</td> <td>237          </td> <td>STL        </td> <td>-3   </td>\n",
       "        </tr>\n",
       "        <tr>\n",
       "            <td>6/1/15</td> <td>250          </td> <td>SAN        </td> <td>0    </td>\n",
       "        </tr>\n",
       "        <tr>\n",
       "            <td>6/1/15</td> <td>267          </td> <td>PHL        </td> <td>64   </td>\n",
       "        </tr>\n",
       "        <tr>\n",
       "            <td>6/1/15</td> <td>273          </td> <td>SEA        </td> <td>-6   </td>\n",
       "        </tr>\n",
       "        <tr>\n",
       "            <td>6/1/15</td> <td>278          </td> <td>SEA        </td> <td>-8   </td>\n",
       "        </tr>\n",
       "        <tr>\n",
       "            <td>6/1/15</td> <td>292          </td> <td>EWR        </td> <td>12   </td>\n",
       "        </tr>\n",
       "        <tr>\n",
       "            <td>6/1/15</td> <td>300          </td> <td>HNL        </td> <td>20   </td>\n",
       "        </tr>\n",
       "        <tr>\n",
       "            <td>6/1/15</td> <td>317          </td> <td>IND        </td> <td>-10  </td>\n",
       "        </tr>\n",
       "    </tbody>\n",
       "</table>\n",
       "<p>... (13815 rows omitted)</p>"
      ],
      "text/plain": [
       "Date   | Flight Number | Destination | Delay\n",
       "6/1/15 | 73            | HNL         | 257\n",
       "6/1/15 | 217           | EWR         | 28\n",
       "6/1/15 | 237           | STL         | -3\n",
       "6/1/15 | 250           | SAN         | 0\n",
       "6/1/15 | 267           | PHL         | 64\n",
       "6/1/15 | 273           | SEA         | -6\n",
       "6/1/15 | 278           | SEA         | -8\n",
       "6/1/15 | 292           | EWR         | 12\n",
       "6/1/15 | 300           | HNL         | 20\n",
       "6/1/15 | 317           | IND         | -10\n",
       "... (13815 rows omitted)"
      ]
     },
     "execution_count": 22,
     "metadata": {},
     "output_type": "execute_result"
    }
   ],
   "source": [
    "united = Table.read_table('data/united.csv')\n",
    "united"
   ]
  },
  {
   "cell_type": "markdown",
   "id": "1b0e8ce6-451b-4d94-8974-7c47d1fa53f7",
   "metadata": {},
   "source": [
    "**Question 3.** What do you notice about the delay times? Use the code cells below to explore the data."
   ]
  },
  {
   "cell_type": "code",
   "execution_count": 24,
   "id": "337ea90e-a0ce-4967-ae34-e2807acbc864",
   "metadata": {},
   "outputs": [
    {
     "data": {
      "text/plain": [
       "16.658155515370705"
      ]
     },
     "execution_count": 24,
     "metadata": {},
     "output_type": "execute_result"
    }
   ],
   "source": [
    "np.mean(united.column('Delay'))"
   ]
  },
  {
   "cell_type": "code",
   "execution_count": 25,
   "id": "f0282593-2462-42b3-902a-ce07d62461ea",
   "metadata": {},
   "outputs": [
    {
     "data": {
      "text/plain": [
       "580"
      ]
     },
     "execution_count": 25,
     "metadata": {},
     "output_type": "execute_result"
    }
   ],
   "source": [
    "np.max(united.column('Delay'))"
   ]
  },
  {
   "cell_type": "code",
   "execution_count": 26,
   "id": "cac5a1ce-8581-4bd2-a90d-f9dc64ccf67f",
   "metadata": {},
   "outputs": [
    {
     "data": {
      "image/png": "[encoded data removed]",
      "text/plain": [
       "<Figure size 432x288 with 1 Axes>"
      ]
     },
     "metadata": {
      "needs_background": "light"
     },
     "output_type": "display_data"
    }
   ],
   "source": [
    "delay_bins = np.arange(-20, 201, 10)\n",
    "united.hist('Delay', bins=delay_bins, unit='minute')"
   ]
  },
  {
   "cell_type": "markdown",
   "id": "23405bf0-e0ac-4c93-ba52-c399458cd937",
   "metadata": {},
   "source": [
    "Now let's sample from it with replacement and make a histogram. What do you think will happen as the sample size increases?"
   ]
  },
  {
   "cell_type": "code",
   "execution_count": 27,
   "id": "f19bbec8-aa2d-4a94-9724-1917e91d983f",
   "metadata": {},
   "outputs": [],
   "source": [
    "def empirical_hist_delay(n):\n",
    "    \"\"\"Sample n times time with replacement from the united \n",
    "       Table and make a histogram of the distribution.\n",
    "    \"\"\"\n",
    "    united.sample(n).hist('Delay', bins=delay_bins, unit='minute')"
   ]
  },
  {
   "cell_type": "code",
   "execution_count": 31,
   "id": "cfe1ed09-762c-47c3-8965-3183df3c27e9",
   "metadata": {},
   "outputs": [
    {
     "data": {
      "image/png": "[encoded data removed]",
      "text/plain": [
       "<Figure size 432x288 with 1 Axes>"
      ]
     },
     "metadata": {
      "needs_background": "light"
     },
     "output_type": "display_data"
    }
   ],
   "source": [
    "empirical_hist_delay(10000)"
   ]
  },
  {
   "cell_type": "markdown",
   "id": "4a020a38-dac8-4a82-906b-c6558795c3dc",
   "metadata": {},
   "source": [
    "**Question 4.** What do you notice as the sample size increases?"
   ]
  },
  {
   "cell_type": "code",
   "execution_count": null,
   "id": "6181d519-bbb8-4041-a643-445a086bcf93",
   "metadata": {},
   "outputs": [],
   "source": []
  },
  {
   "cell_type": "markdown",
   "id": "01ac206e-1d8c-4a00-b6b1-dc2b6f85ff5b",
   "metadata": {
    "tags": []
   },
   "source": [
    "## Swain vs. Alabama\n",
    "\n",
    "Swain, a black man, was indicted and convicted of rape in the Circuit Court of Talladega County, Alabama, and sentenced to death by an all white jury. The case was appealed to the Supreme Court, in part, on the ground that there were no black jurors. Of the eligible jurors in the county, 26% were black, but panels since 1953 averaged 10% to 15% black jurors and no black juror had actually served on a petit jury since 1950 ([Wikipedia](https://en.wikipedia.org/wiki/Swain_v._Alabama)).\n",
    "\n",
    "We can use the `sample_proportions` function (from the `datascience` package) to sample from a known proportion."
   ]
  },
  {
   "cell_type": "code",
   "execution_count": 32,
   "id": "72135ea7-0559-43ec-bdb5-3dad9d7154e6",
   "metadata": {},
   "outputs": [
    {
     "data": {
      "text/plain": [
       "array([0.26, 0.74])"
      ]
     },
     "execution_count": 32,
     "metadata": {},
     "output_type": "execute_result"
    }
   ],
   "source": [
    "# Make an array of the known proportions\n",
    "population_proportions = make_array(.26, .74)\n",
    "population_proportions"
   ]
  },
  {
   "cell_type": "code",
   "execution_count": 35,
   "id": "023d3a66-2a04-4e08-9e46-1cb948f6bf4b",
   "metadata": {},
   "outputs": [
    {
     "data": {
      "text/plain": [
       "array([0.32, 0.68])"
      ]
     },
     "execution_count": 35,
     "metadata": {},
     "output_type": "execute_result"
    }
   ],
   "source": [
    "sample_proportions(100, population_proportions)"
   ]
  },
  {
   "cell_type": "code",
   "execution_count": 39,
   "id": "9fe03eca-8195-4da3-ae4d-e8696f06c0b4",
   "metadata": {},
   "outputs": [],
   "source": [
    "def panel_proportion():\n",
    "    \"\"\"Sample proportion of black jurors chosen at random.\n",
    "    \"\"\"\n",
    "    return sample_proportions(100, population_proportions).item(0)"
   ]
  },
  {
   "cell_type": "code",
   "execution_count": 40,
   "id": "e24019b1-4a6b-4bf4-8e77-b6646db75919",
   "metadata": {},
   "outputs": [
    {
     "data": {
      "text/plain": [
       "0.25"
      ]
     },
     "execution_count": 40,
     "metadata": {},
     "output_type": "execute_result"
    }
   ],
   "source": [
    "panel_proportion()"
   ]
  },
  {
   "cell_type": "code",
   "execution_count": 41,
   "id": "897f9238-ab65-4eff-af7a-0bf685852db2",
   "metadata": {},
   "outputs": [],
   "source": [
    "# Set the number of times to repeat the experiment\n",
    "repetitions = 10000\n",
    "\n",
    "# Initialize an array to store the outcome from each experiment\n",
    "panels = make_array()\n",
    "\n",
    "# for loop to repeat the experiment and store the number of black jurors to an array\n",
    "for i in np.arange(repetitions):\n",
    "    new_panel = panel_proportion()*100\n",
    "    panels = np.append(panels, new_panel)"
   ]
  },
  {
   "cell_type": "markdown",
   "id": "3289f485-3f1a-495a-9b33-68d0b3b309b0",
   "metadata": {},
   "source": [
    "Finally we can visualize the distribution of black jurors chosen by making a histogram by creating a Table from the panels array and plotting a histogram using the .hist() function."
   ]
  },
  {
   "cell_type": "code",
   "execution_count": 42,
   "id": "877f29fc-f5bb-43ee-a371-9ab7a78ac0ba",
   "metadata": {
    "tags": []
   },
   "outputs": [
    {
     "data": {
      "image/png": "[encoded data removed]",
      "text/plain": [
       "<Figure size 432x288 with 1 Axes>"
      ]
     },
     "metadata": {
      "needs_background": "light"
     },
     "output_type": "display_data"
    }
   ],
   "source": [
    "Table().with_column('Number of Black Men on Panel of 100', panels).hist(bins=np.arange(5.5,40.))"
   ]
  },
  {
   "cell_type": "markdown",
   "id": "7ff2ac86-82b8-49f7-ae0d-d9b6ebabf697",
   "metadata": {},
   "source": [
    "**Question 5.** Do you think it would have been likely for no black jurors to be chosen for this case? Explain."
   ]
  },
  {
   "cell_type": "code",
   "execution_count": null,
   "id": "6671cf4b-350a-4bad-b6ca-2bb46a870cb9",
   "metadata": {},
   "outputs": [],
   "source": []
  },
  {
   "cell_type": "markdown",
   "id": "c213c7a6-c728-4b79-aad4-1668e2e18bb0",
   "metadata": {},
   "source": []
  },
  {
   "cell_type": "markdown",
   "id": "369ff584-cf75-4e2d-a83e-6078173b6f3f",
   "metadata": {},
   "source": [
    "**Question 6.** Suppose you wanted to design a game for children ages 3-6. What kinds of things would you need to consider? Make a list of design specifications that need to met before you game can be produced, manufactured, and sold. "
   ]
  },
  {
   "cell_type": "code",
   "execution_count": null,
   "id": "104901ea-beef-4b96-80e9-9f3dccf0d753",
   "metadata": {},
   "outputs": [],
   "source": []
  },
  {
   "cell_type": "markdown",
   "id": "406676ab-da7b-4891-8f75-8611456ee9a4",
   "metadata": {
    "tags": []
   },
   "source": [
    "## Hi-Ho! Cherry-O! [[3]](https://www.ncssm.edu/directory/taylor-gibson)\n",
    "\n",
    "In this activity, we'll be building a simulation of the classic children's game, Hi-Ho! Cherry-O!\n",
    "\n",
    "<img src=\"https://external-content.duckduckgo.com/iu/?u=https%3A%2F%2Ffarm3.staticflickr.com%2F2342%2F2352999023_28c32dc926_o_d.jpg&f=1&nofb=1\" width=500>\n",
    "\n",
    "If you're not familiar with this game run the cell below, there's a video that explains the rules:\n",
    "\n",
    "<iframe width=\"560\" height=\"315\" src=\"https://www.youtube.com/embed/81rf8hLjnRE\" title=\"YouTube video player\" frameborder=\"0\" allow=\"accelerometer; autoplay; clipboard-write; encrypted-media; gyroscope; picture-in-picture\" allowfullscreen></iframe>"
   ]
  },
  {
   "cell_type": "code",
   "execution_count": 43,
   "id": "b5e02c6b-0591-4554-9b29-262fe4f177e1",
   "metadata": {},
   "outputs": [
    {
     "data": {
      "image/jpeg": "[encoded data removed]",
      "text/html": [
       "\n",
       "        <iframe\n",
       "            width=\"500\"\n",
       "            height=\"300\"\n",
       "            src=\"https://www.youtube.com/embed/81rf8hLjnRE\"\n",
       "            frameborder=\"0\"\n",
       "            allowfullscreen\n",
       "        ></iframe>\n",
       "        "
      ],
      "text/plain": [
       "<IPython.lib.display.YouTubeVideo at 0x7fb09bfc5eb0>"
      ]
     },
     "execution_count": 43,
     "metadata": {},
     "output_type": "execute_result"
    }
   ],
   "source": [
    "from IPython.display import YouTubeVideo\n",
    "YouTubeVideo('81rf8hLjnRE', width=500)"
   ]
  },
  {
   "cell_type": "markdown",
   "id": "65306aae-6fd1-4075-88d4-e667d4ed6e1d",
   "metadata": {},
   "source": [
    "This kind of game is perfect for a simple simulation because it has the following characteristics:\n",
    "* Players do not interact with each other.\n",
    "* Each turn is exactly like the previous turn. The result of one turn does not impact the way the next turn is played.\n",
    "* Each turn is determined by a random event (no strategy or skill required).\n",
    "* There is a clear condition for the game to end.\n",
    "\n",
    "Coincidentally these are probably the same reasons that this game is great for children between the ages of 2 and 5.\n",
    "\n",
    "In this activity we will **only** simulate the game from the point of view of one player, **you**!"
   ]
  },
  {
   "cell_type": "markdown",
   "id": "4dcd3bb5-8ba5-47de-a998-5aaf90520aa2",
   "metadata": {},
   "source": [
    "### The Spinner\n",
    "\n",
    "Let's start by making an array that contains the possible outcomes for the spinner:\n",
    "* One\n",
    "* Two\n",
    "* Three\n",
    "* Four\n",
    "* Bird\n",
    "* Dog\n",
    "* Bucket\n",
    "\n",
    "**Step 1.** Make an array that contains these outcomes as `string` type objects. Name that array `spinner`."
   ]
  },
  {
   "cell_type": "code",
   "execution_count": 44,
   "id": "807ea76d-f0ae-4855-aecb-709a4f8f29c0",
   "metadata": {},
   "outputs": [
    {
     "data": {
      "text/plain": [
       "array(['One', 'Two', 'Three', 'Four', 'Bird', 'Dog', 'Bucket'],\n",
       "      dtype='<U6')"
      ]
     },
     "execution_count": 44,
     "metadata": {},
     "output_type": "execute_result"
    }
   ],
   "source": [
    "spinner = make_array('One', 'Two', 'Three', 'Four', 'Bird', 'Dog', 'Bucket')\n",
    "spinner "
   ]
  },
  {
   "cell_type": "markdown",
   "id": "1bc14123-8023-4f89-be22-364fcb9424c4",
   "metadata": {},
   "source": [
    "In this activity we we'll use `np.random.choice` (a `numpy` function that generates a random sample from a given 1-dimensional array). \n",
    "\n",
    "After defining the array, use the `np.random.choice` function in the cell below to \"spin the wheel\" a few times and make sure you know how to randomly obtain an outcome from the spinner"
   ]
  },
  {
   "cell_type": "code",
   "execution_count": 48,
   "id": "f10c8ced-4f53-4ac1-9100-a18bdb243d5f",
   "metadata": {},
   "outputs": [
    {
     "data": {
      "text/plain": [
       "'Two'"
      ]
     },
     "execution_count": 48,
     "metadata": {},
     "output_type": "execute_result"
    }
   ],
   "source": [
    "np.random.choice(spinner)"
   ]
  },
  {
   "cell_type": "markdown",
   "id": "6e3d6bb0-262e-4829-bf8f-bac45cf45530",
   "metadata": {},
   "source": [
    "### One Spin\n",
    "\n",
    "**Step2.** The function below, `one_spin`, will take in the current number of cherries in the bucket, spins the spinner using `np.random.choice`, and then computes how many cherries are in the bucket after the spin. The new number of cherries in the bucket is returned from this function as an integer.\n",
    "\n",
    "Examine the complicated series of `if` and `elif` statements to make sure you understand their logic. In particular, check out the section that checks to make sure spinning Dog or Bird doesn't cause your cherry count to become negative."
   ]
  },
  {
   "cell_type": "code",
   "execution_count": 49,
   "id": "72016be5-76f0-40ba-ac26-f646413ca25b",
   "metadata": {},
   "outputs": [],
   "source": [
    "def one_spin(current_count):\n",
    "    \"\"\"Simulate one spin of the spinner.\n",
    "    \"\"\"\n",
    "    # Spin the spinner to create a string of the outcome\n",
    "    spin = np.random.choice(spinner)\n",
    "    \n",
    "    # Use if/elif statements to determine what that \n",
    "    # outcome means for the new number of cherries \n",
    "    # in the bucket\n",
    "    \n",
    "    if spin == 'One':\n",
    "        new_count = current_count+1\n",
    "    elif spin == 'Two':\n",
    "        new_count = current_count+2\n",
    "    elif spin == 'Three':\n",
    "        new_count = current_count+3\n",
    "    elif spin == 'Four':\n",
    "        new_count = current_count+4\n",
    "    elif (spin == 'Bird' or spin == 'Dog'):\n",
    "        new_count = current_count-2 \n",
    "        \n",
    "        # If subtracting 2 from the Bird or Dog causes new_count \n",
    "        # to be negative then the new_count should really be 0 \n",
    "        # since you can't have negative cherries in your bucket\n",
    "        if new_count < 0:\n",
    "            new_count = 0      \n",
    "    elif spin == 'Bucket':\n",
    "        new_count = 0\n",
    "   \n",
    "    return new_count"
   ]
  },
  {
   "cell_type": "markdown",
   "id": "bed4e80d-0ab7-48be-b20a-9f9aeaf1e54a",
   "metadata": {},
   "source": [
    "Try this function out by running the cell below a few times. You should (hopefully) see all the possible outcomes appear after a few spins. Since the input to the function is 3, you could possibly see results of 0 (bucket), 1 (bird or dog), 4 (one), 5 (two), 6 (three), or 7 (four). You should **not** see outputs of 2 or 3, since there are no ways to reduce the number of cherries in the bucket by 1 or have them stay the same."
   ]
  },
  {
   "cell_type": "code",
   "execution_count": 53,
   "id": "b7196a43-8d38-4e0b-b6ea-ab08ff035e9e",
   "metadata": {},
   "outputs": [
    {
     "data": {
      "text/plain": [
       "5"
      ]
     },
     "execution_count": 53,
     "metadata": {},
     "output_type": "execute_result"
    }
   ],
   "source": [
    "one_spin(3)"
   ]
  },
  {
   "cell_type": "markdown",
   "id": "bbb22005-2e57-41c4-8843-621bca519096",
   "metadata": {
    "tags": []
   },
   "source": [
    "### One Game\n",
    "\n",
    "**Step 3.** Now that we have a way to determine the number of cherries that will be in our bucket after a spin of the spinner, let's turn that into a function that simulates a single game. We'll call that function `one_game`. Here are some ideas to get this function started.\n",
    "\n",
    "#### `bucket`\n",
    "We're going to use the number of cherries in the bucket to determine if the game is over. At the start of the game, there will be 0 cherries in the bucket. We'll know the game is over when the number of cherries in the bucket is 10 or more. When you call the function, it will create a variable named `bucket` that starts at 0.\n",
    "\n",
    "#### `turns`\n",
    "In this simulation, **the statistic we're going to collect is the number of turns it takes to complete a game**. When you call the function `one_game` it will create a variable named `turns` that starts at 0.\n",
    "\n",
    "#### `max_turns`\n",
    "Imagine a situation where you keep spinning bucket, Dog, and/or Bird very frequently. You could end up with a game that went out for a very long time. In fact, there's nothing that would stop you from playing a game that never ended! While is outcome is essentially impossible it's not *that* uncommon to have a game that goes on for a few hundred spins. To help make sure we don't end up with a game that goes on too long, we'll set `max_turns` to a value low enough so things don't go on too long. 200 should be low enough to not impact our analysis later on."
   ]
  },
  {
   "cell_type": "code",
   "execution_count": null,
   "id": "6ececfd5-12cc-4451-b02a-c4521169176a",
   "metadata": {},
   "outputs": [],
   "source": [
    "def one_game():\n",
    "    \"\"\"Simulate one game of Hi-Ho! Cherry-O!\n",
    "    \"\"\"\n",
    "    bucket = ...\n",
    "    turns = ...\n",
    "    max_turns = ...\n",
    "\n",
    "    # You write a for loop below that runs until bucket >= 10\n",
    "    # or it runs for max_turns number of times. Remember, a \n",
    "    # return statement will force a loop to complete, so if you \n",
    "    # determine bucket >= 10 and then return turns the loop will stop\n",
    "    \n",
    "    ...\n",
    "        # update the number of cherries in the bucket using one_spin\n",
    "        ...\n",
    "        \n",
    "        # update the number of turns that have been taken\n",
    "        ...\n",
    "        \n",
    "        # check to see if the game is over, if so return the number of spins\n",
    "        # this will cause the loop to finish, even if it didn't make it through\n",
    "        # the full array of values we're using to play max_turns\n",
    "        ...\n",
    "\n",
    "    # if your code makes it here, that means it played the max number of turns\n",
    "    # and the loop finished. just return the number of\n",
    "    return turns"
   ]
  },
  {
   "cell_type": "code",
   "execution_count": 54,
   "id": "e02fde1e-78aa-48e3-9129-a34980c7f143",
   "metadata": {},
   "outputs": [],
   "source": [
    "def one_game():\n",
    "    \"\"\"Simulate one game of Hi-Ho! Cherry-O!\n",
    "    \"\"\"\n",
    "    bucket = 0\n",
    "    turns = 0\n",
    "    max_turns = 200\n",
    "\n",
    "    # You write a for loop below that runs until bucket >= 10\n",
    "    # or it runs for max_turns number of times. Remember, a \n",
    "    # return statement will force a loop to complete, so if you \n",
    "    # determine bucket >= 10 and then return turns the loop will stop\n",
    "    \n",
    "    for turn in np.arange(max_turns):\n",
    "        \n",
    "        # Update the number of cherries in the bucket using one_spin\n",
    "        bucket = one_spin(bucket)\n",
    "        \n",
    "        # Update the number of turns that have been taken\n",
    "        turns = turns+1\n",
    "        \n",
    "        # Check to see if the game is over, if so return the number of spins.\n",
    "        # This will cause the loop to finish, even if it didn't make it through\n",
    "        # the full array of values we're using to play max_turns.\n",
    "        # Return the number of turns.\n",
    "        if bucket >= 10:\n",
    "            return turns\n",
    "\n",
    "    # If your code makes it here, that means it played the max number of turns\n",
    "    # and the loop finished. \n",
    "    # Return the number of turns.\n",
    "    return turns"
   ]
  },
  {
   "cell_type": "markdown",
   "id": "1231401d-5e27-423d-8e1b-3ae1b1bfc3a9",
   "metadata": {},
   "source": [
    "If you wrote the function correctly, running the cell below will display the number of turns needed to complete a single game. Run it a few times to get a feel for a typical result."
   ]
  },
  {
   "cell_type": "code",
   "execution_count": 57,
   "id": "22496847-4076-4152-b0f2-bf18704baa56",
   "metadata": {},
   "outputs": [
    {
     "data": {
      "text/plain": [
       "13"
      ]
     },
     "execution_count": 57,
     "metadata": {},
     "output_type": "execute_result"
    }
   ],
   "source": [
    "one_game()"
   ]
  },
  {
   "cell_type": "markdown",
   "id": "b5272d3d-0917-4f7c-97a9-3ce784d10d45",
   "metadata": {
    "tags": []
   },
   "source": [
    "### Analysis of Games\n",
    "\n",
    "**Step 4.** Now that we have a way to simulate a single game, let's play 10,000 games and analyze the results. In the cell below:\n",
    "\n",
    "* create an empty array called `outcomes`.\n",
    "\n",
    "* create a variable `num_of_games` that's set equal to 10,000.\n",
    "\n",
    "* create a loop that will run `num_of_games` times.\n",
    "\n",
    "* each time the loop runs it should play a game using `one_game` and append the result to the array you've named `outcomes`."
   ]
  },
  {
   "cell_type": "code",
   "execution_count": null,
   "id": "6cacff48-ef59-43a7-938d-8f0ca3dcdf59",
   "metadata": {},
   "outputs": [],
   "source": [
    "outcomes = ...\n",
    "\n",
    "...\n",
    "    ..."
   ]
  },
  {
   "cell_type": "code",
   "execution_count": 58,
   "id": "68917638-4128-426d-82c9-307bc7966c81",
   "metadata": {},
   "outputs": [],
   "source": [
    "num_of_games = 10000\n",
    "outcomes = make_array()\n",
    "\n",
    "for game in np.arange(num_of_games):\n",
    "    outcomes = np.append(outcomes, one_game())"
   ]
  },
  {
   "cell_type": "markdown",
   "id": "69c48c22-9ed6-4a6d-80ff-d0feddd33ff4",
   "metadata": {},
   "source": [
    "What are some results you infer about this game from the array of statistics we created about the length of the games? This is a good chance for you to practice your `numpy` commands.\n",
    "\n",
    "To get you started, can you compute:\n",
    "\n",
    "* What was the longest game that was simulated?\n",
    "\n",
    "* What was the shortest game that was simulated?\n",
    "\n",
    "* What was the average number of turns per simulated game?\n",
    "\n",
    "* What proportion of games were completed in 10 turns or less? **Hint:** Use a comparison operator (e.g. `==`, `<=`, ...) and `np.sum` to first count how many games meet this condition, then convert to a proportion.\n",
    "\n",
    "* What proportion of games took 50 or more turns to complete?\n",
    "\n",
    "See if there's anything else you can determine using the array of `outcomes`. If you find anything of interest, share on the course discussion board.\n",
    "\n",
    "**NOTE:** Since these games are played using random events, your results may vary from your classmates or the solutions."
   ]
  },
  {
   "cell_type": "code",
   "execution_count": null,
   "id": "bba2eafe-6fc8-4b54-8ad3-5d1daf5ff069",
   "metadata": {},
   "outputs": [],
   "source": [
    "# Longest game\n",
    "..."
   ]
  },
  {
   "cell_type": "code",
   "execution_count": 59,
   "id": "a7ed7a30-d3c5-4cd6-abe7-ba4c1ad262d5",
   "metadata": {},
   "outputs": [
    {
     "data": {
      "text/plain": [
       "117.0"
      ]
     },
     "execution_count": 59,
     "metadata": {},
     "output_type": "execute_result"
    }
   ],
   "source": [
    "# Longest game\n",
    "np.max(outcomes)"
   ]
  },
  {
   "cell_type": "code",
   "execution_count": null,
   "id": "972a1877-6417-4806-a768-bf6e9694fadc",
   "metadata": {},
   "outputs": [],
   "source": [
    "# Shortest game\n",
    "..."
   ]
  },
  {
   "cell_type": "code",
   "execution_count": 60,
   "id": "74bd7d8f-8399-44d3-af17-81a733a2362d",
   "metadata": {},
   "outputs": [
    {
     "data": {
      "text/plain": [
       "3.0"
      ]
     },
     "execution_count": 60,
     "metadata": {},
     "output_type": "execute_result"
    }
   ],
   "source": [
    "# Shortest game\n",
    "np.min(outcomes)"
   ]
  },
  {
   "cell_type": "code",
   "execution_count": null,
   "id": "05abdc83-cd52-4819-860e-c8e3e9c236f7",
   "metadata": {},
   "outputs": [],
   "source": [
    "# Average game\n",
    "..."
   ]
  },
  {
   "cell_type": "code",
   "execution_count": 61,
   "id": "b25e36cd-ca6a-4827-84f4-bfb3ff0f6d6d",
   "metadata": {},
   "outputs": [
    {
     "data": {
      "text/plain": [
       "15.8219"
      ]
     },
     "execution_count": 61,
     "metadata": {},
     "output_type": "execute_result"
    }
   ],
   "source": [
    "# Average game\n",
    "np.average(outcomes)"
   ]
  },
  {
   "cell_type": "code",
   "execution_count": null,
   "id": "1ff4bbef-5da5-4f5d-bf56-e83002af97fb",
   "metadata": {},
   "outputs": [],
   "source": [
    "# Proportion of games finished in 10 turns or less\n",
    "..."
   ]
  },
  {
   "cell_type": "code",
   "execution_count": 62,
   "id": "42d22a94-929f-4c55-8748-8508302719ba",
   "metadata": {},
   "outputs": [
    {
     "data": {
      "text/plain": [
       "0.4306"
      ]
     },
     "execution_count": 62,
     "metadata": {},
     "output_type": "execute_result"
    }
   ],
   "source": [
    "# Proportion of games finished in 10 turns or less\n",
    "np.sum( outcomes <= 10 )/len(outcomes)"
   ]
  },
  {
   "cell_type": "code",
   "execution_count": null,
   "id": "376703ab-487f-493d-b119-902aa4978819",
   "metadata": {},
   "outputs": [],
   "source": [
    "# Proportion of games that took 50 or more turns\n",
    "..."
   ]
  },
  {
   "cell_type": "code",
   "execution_count": 63,
   "id": "d0fbb65a-0cdf-4092-b97a-62c307bc37be",
   "metadata": {},
   "outputs": [
    {
     "data": {
      "text/plain": [
       "0.0249"
      ]
     },
     "execution_count": 63,
     "metadata": {},
     "output_type": "execute_result"
    }
   ],
   "source": [
    "# Proportion of games that took 50 or more turns\n",
    "np.sum( outcomes >= 50 )/len(outcomes)"
   ]
  },
  {
   "cell_type": "markdown",
   "id": "59e78ec1-1df9-4631-909b-da57d06f8132",
   "metadata": {
    "tags": []
   },
   "source": [
    "### Visualization\n",
    "\n",
    "**Step 5.** To create some visualizations, our array needs to be put into a table. In the cell below, create a table named `outcomes_table` that has a single column labeled `'Turns'`."
   ]
  },
  {
   "cell_type": "code",
   "execution_count": null,
   "id": "75f1b3a0-1322-4c7d-abe9-b3f4f723bf66",
   "metadata": {},
   "outputs": [],
   "source": [
    "outcomes_table = ...\n",
    "outcomes_table"
   ]
  },
  {
   "cell_type": "code",
   "execution_count": 64,
   "id": "a4d0b47b-c4ad-4de0-b81b-01f7185cb6f3",
   "metadata": {},
   "outputs": [
    {
     "data": {
      "text/html": [
       "<table border=\"1\" class=\"dataframe\">\n",
       "    <thead>\n",
       "        <tr>\n",
       "            <th>Turns</th>\n",
       "        </tr>\n",
       "    </thead>\n",
       "    <tbody>\n",
       "        <tr>\n",
       "            <td>15   </td>\n",
       "        </tr>\n",
       "        <tr>\n",
       "            <td>27   </td>\n",
       "        </tr>\n",
       "        <tr>\n",
       "            <td>9    </td>\n",
       "        </tr>\n",
       "        <tr>\n",
       "            <td>81   </td>\n",
       "        </tr>\n",
       "        <tr>\n",
       "            <td>22   </td>\n",
       "        </tr>\n",
       "        <tr>\n",
       "            <td>5    </td>\n",
       "        </tr>\n",
       "        <tr>\n",
       "            <td>12   </td>\n",
       "        </tr>\n",
       "        <tr>\n",
       "            <td>23   </td>\n",
       "        </tr>\n",
       "        <tr>\n",
       "            <td>24   </td>\n",
       "        </tr>\n",
       "        <tr>\n",
       "            <td>8    </td>\n",
       "        </tr>\n",
       "    </tbody>\n",
       "</table>\n",
       "<p>... (9990 rows omitted)</p>"
      ],
      "text/plain": [
       "Turns\n",
       "15\n",
       "27\n",
       "9\n",
       "81\n",
       "22\n",
       "5\n",
       "12\n",
       "23\n",
       "24\n",
       "8\n",
       "... (9990 rows omitted)"
      ]
     },
     "execution_count": 64,
     "metadata": {},
     "output_type": "execute_result"
    }
   ],
   "source": [
    "outcomes_table = Table().with_column('Turns', outcomes)\n",
    "outcomes_table"
   ]
  },
  {
   "cell_type": "code",
   "execution_count": null,
   "id": "4ab35996-3764-46ed-a207-38b1647551f3",
   "metadata": {},
   "outputs": [],
   "source": []
  },
  {
   "cell_type": "markdown",
   "id": "26ddfe16-260a-46db-acfa-40593aeb9931",
   "metadata": {},
   "source": [
    "Create a histogram to visualize the distribution of scores. Use the suggested bins that are provided in the code block below. You can use them in your `.hist()` call by including `bins = suggested_bins` after you've specified the column name. The suggested bins will automatically scale from 0 to the largest score using a bin width of 2."
   ]
  },
  {
   "cell_type": "code",
   "execution_count": null,
   "id": "692c4e3b-8dc2-4c77-ab44-e41922cabffc",
   "metadata": {},
   "outputs": [],
   "source": [
    "suggested_bins = ...\n",
    "..."
   ]
  },
  {
   "cell_type": "code",
   "execution_count": 65,
   "id": "11406bb0-fbc9-420b-af9e-e335f3b72b67",
   "metadata": {},
   "outputs": [
    {
     "data": {
      "image/png": "[encoded data removed]",
      "text/plain": [
       "<Figure size 432x288 with 1 Axes>"
      ]
     },
     "metadata": {
      "needs_background": "light"
     },
     "output_type": "display_data"
    }
   ],
   "source": [
    "suggested_bins = np.arange(0, np.max(outcomes), 2)\n",
    "outcomes_table.hist('Turns', bins = suggested_bins)"
   ]
  },
  {
   "cell_type": "markdown",
   "id": "242102bf-9e5c-4300-89ce-e3bf5cfcff2a",
   "metadata": {},
   "source": [
    "**Question 7.** Make a 3-slide presentation to explain your analysis of game play to the VP of Game Development. Use the results from the outcome of your simulation. Remember the VP is busy, she's only going to give you 5 minutes to present."
   ]
  },
  {
   "cell_type": "code",
   "execution_count": null,
   "id": "ceac5ec9-9ba1-4fd5-a889-7bc4a1621d4f",
   "metadata": {},
   "outputs": [],
   "source": []
  },
  {
   "cell_type": "markdown",
   "id": "6e79396a-306a-46c4-b623-45266cb33889",
   "metadata": {},
   "source": [
    "**References**\n",
    "\n",
    "[1] *Computational and Inferential Thinking*, Ani Adhikari and John DeNero and David Wagner, 10.3.5. The Power of Simulation.\n",
    "\n",
    "[2] *Computational and Inferential Thinking*, Ani Adhikari and John DeNero and David Wagner, 10.1.2. Empirical Distributions. \n",
    "\n",
    "[3] This activity was designed by Taylor Gibson, Dean of Mathematics at the North Carolina School of Science and Mathematics"
   ]
  },
  {
   "cell_type": "code",
   "execution_count": null,
   "id": "e70b7931-3d3f-4a52-a4e2-777305cf609a",
   "metadata": {},
   "outputs": [],
   "source": []
  }
 ],
 "metadata": {
  "kernelspec": {
   "display_name": "Python 3 (ipykernel)",
   "language": "python",
   "name": "python3"
  },
  "language_info": {
   "codemirror_mode": {
    "name": "ipython",
    "version": 3
   },
   "file_extension": ".py",
   "mimetype": "text/x-python",
   "name": "python",
   "nbconvert_exporter": "python",
   "pygments_lexer": "ipython3",
   "version": "3.9.6"
  }
 },
 "nbformat": 4,
 "nbformat_minor": 5
}
