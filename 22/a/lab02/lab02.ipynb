{
 "cells": [
  {
   "cell_type": "code",
   "execution_count": null,
   "metadata": {
    "deletable": false,
    "editable": false
   },
   "outputs": [],
   "source": [
    "# Initialize Otter\n",
    "import otter\n",
    "grader = otter.Notebook(\"lab02.ipynb\")"
   ]
  },
  {
   "cell_type": "markdown",
   "metadata": {},
   "source": [
    "# Lab 02: Fun with Text\n",
    "\n",
    "Welcome to Lab 02! This lab is meant to help you familiarize yourself with the basics of Python. In this lab you will review `if/elif/else`, `for` loops, and string methods.\n",
    "\n",
    "To receive credit for a lab, answer all questions correctly and submit before the deadline.\n",
    "\n",
    "**Due Date:** \n",
    "\n",
    "**Collaboration Policy:** Data science is a collaborative activity. While you may talk with others about the labs, we ask that you **write your solutions individually**. If you do discuss the assignments with others **please include their names below** (it's a good way to learn your classmates' names).\n",
    "\n",
    "**Collaborators:** \n",
    "\n",
    "List collaborators here."
   ]
  },
  {
   "cell_type": "markdown",
   "metadata": {},
   "source": [
    "The code below will read in the novel *Pride and Prejudice* by Jane Austen from a local text file.  Our file was originally downloaded from [this repository](https://github.com/laumann/ds/tree/master/hashing/books) and the text itself comes from [Project Gutenberg](https://www.gutenberg.org/). The first 1000 characters are printed out below to check that it was read in correctly.\n",
    "\n",
    "Run the cell below."
   ]
  },
  {
   "cell_type": "code",
   "execution_count": null,
   "metadata": {},
   "outputs": [],
   "source": [
    "with open('data/jane-austen-pride-prejudice.txt', 'r') as f:\n",
    "    pp_lines = f.read()\n",
    "print(pp_lines[:1000])"
   ]
  },
  {
   "cell_type": "markdown",
   "metadata": {},
   "source": [
    "To open the file, we used the built-in `open()` function. The `open()` function returns a file object, which has a `read()` method for reading the content of the file. To simplify the code we used a `with` statement. In Python the `with` statement simplifies our read process to just two lines."
   ]
  },
  {
   "cell_type": "markdown",
   "metadata": {
    "tags": []
   },
   "source": [
    "# 1. Basic Manipulations\n",
    "\n",
    "Now we'll remove the first part of the book that has the information from Project Gutenberg and the last part that has similar information.\n",
    "\n",
    " We'll start with our text at the string \"CHAPTER I\" and end it just prior to where the \"Transcriber's\" note appears at the end."
   ]
  },
  {
   "cell_type": "markdown",
   "metadata": {},
   "source": [
    "**Question 1.** Use the `.find` string method to locate the position of the words 'CHAPTER I' in the `pp_lines` string."
   ]
  },
  {
   "cell_type": "code",
   "execution_count": null,
   "metadata": {
    "tags": []
   },
   "outputs": [],
   "source": [
    "start_here = ...\n",
    "start_here"
   ]
  },
  {
   "cell_type": "code",
   "execution_count": null,
   "metadata": {
    "deletable": false,
    "editable": false
   },
   "outputs": [],
   "source": [
    "grader.check(\"q1\")"
   ]
  },
  {
   "cell_type": "markdown",
   "metadata": {},
   "source": [
    "<!-- BEGIN QUESTION -->\n",
    "\n",
    "**Question 2.** Print the first 250 characters of Chapter I not including the part we removed."
   ]
  },
  {
   "cell_type": "code",
   "execution_count": null,
   "metadata": {
    "tags": []
   },
   "outputs": [],
   "source": [
    "print(\"First 250 characters: \\n\")\n",
    "print(...)"
   ]
  },
  {
   "cell_type": "markdown",
   "metadata": {},
   "source": [
    "<!-- END QUESTION -->\n",
    "\n",
    "Now we want to remove all the Transcriber's notes."
   ]
  },
  {
   "cell_type": "markdown",
   "metadata": {},
   "source": [
    "**Question 3.** Locate the position of the beginning of the second chapter."
   ]
  },
  {
   "cell_type": "code",
   "execution_count": null,
   "metadata": {
    "tags": []
   },
   "outputs": [],
   "source": [
    "end_here = ...\n",
    "end_here"
   ]
  },
  {
   "cell_type": "code",
   "execution_count": null,
   "metadata": {
    "deletable": false,
    "editable": false
   },
   "outputs": [],
   "source": [
    "grader.check(\"q3\")"
   ]
  },
  {
   "cell_type": "markdown",
   "metadata": {},
   "source": [
    "<!-- BEGIN QUESTION -->\n",
    "\n",
    "**Question 4.** Print the last 250 characters Chapter I."
   ]
  },
  {
   "cell_type": "code",
   "execution_count": null,
   "metadata": {
    "tags": []
   },
   "outputs": [],
   "source": [
    "print(\"Last 250 characters: \\n\")\n",
    "print(...)"
   ]
  },
  {
   "cell_type": "markdown",
   "metadata": {},
   "source": [
    "<!-- END QUESTION -->\n",
    "\n",
    "**Question 5.** Save only the text for Chapter I (not including the title CHAPTER I, or the `\\n` characters at the beginning or the end) in the variable named `chapter_1`.\n",
    "\n",
    "**Note:** The `\\n` is an escape character for strings that is replaced with the newline object."
   ]
  },
  {
   "cell_type": "code",
   "execution_count": null,
   "metadata": {
    "tags": []
   },
   "outputs": [],
   "source": [
    "chapter_1 = ...\n",
    "chapter_1"
   ]
  },
  {
   "cell_type": "code",
   "execution_count": null,
   "metadata": {
    "deletable": false,
    "editable": false
   },
   "outputs": [],
   "source": [
    "grader.check(\"q5\")"
   ]
  },
  {
   "cell_type": "markdown",
   "metadata": {},
   "source": [
    "# 2. Counting the Number of Vowels, Consonants, and Other Characters\n",
    "\n",
    "Next, we turn to using a loop and `if/then/else` logic to count the number of characters we have of different types.  We'll ignore any `'_'` characters as they just represent italic text and aren't really characters of the text."
   ]
  },
  {
   "cell_type": "markdown",
   "metadata": {},
   "source": [
    "**Question 6.** Change all the letters in the `chapter_1` string to lowercase."
   ]
  },
  {
   "cell_type": "code",
   "execution_count": null,
   "metadata": {
    "tags": []
   },
   "outputs": [],
   "source": [
    "chapter_1_lowercase = ..."
   ]
  },
  {
   "cell_type": "code",
   "execution_count": null,
   "metadata": {
    "deletable": false,
    "editable": false
   },
   "outputs": [],
   "source": [
    "grader.check(\"q6\")"
   ]
  },
  {
   "cell_type": "markdown",
   "metadata": {},
   "source": [
    "**Question 7.** Now loop through and count the number of vowels, consonants, spaces, and others (not including `'_'`) characters.\n",
    "\n",
    "**Note:** To earn all the points for this question you **must** use a loop."
   ]
  },
  {
   "cell_type": "code",
   "execution_count": null,
   "metadata": {
    "tags": []
   },
   "outputs": [],
   "source": [
    "vowels = ...\n",
    "consonants = ...\n",
    "spaces = ...\n",
    "other = ...\n",
    "\n",
    "for ...\n",
    "print(\"The number of vowels is:\", vowels)\n",
    "print(\"The number of consonants is:\", consonants)\n",
    "print(\"The number of spaces are:\", spaces)\n",
    "print(\"The number of other characters is:\", other)"
   ]
  },
  {
   "cell_type": "code",
   "execution_count": null,
   "metadata": {
    "deletable": false,
    "editable": false
   },
   "outputs": [],
   "source": [
    "grader.check(\"q7\")"
   ]
  },
  {
   "cell_type": "markdown",
   "metadata": {},
   "source": [
    "<!-- BEGIN QUESTION -->\n",
    "\n",
    "**Question 8.** Use the `.format` string method to print the output in the format below.\n",
    "\n",
    "```\n",
    "The number of vowels is: xxxx\n",
    "The number of consonants is: xxxx\n",
    "The number of spaces are: xxx\n",
    "The number of other characters is: xxx\n",
    "```"
   ]
  },
  {
   "cell_type": "code",
   "execution_count": null,
   "metadata": {
    "tags": []
   },
   "outputs": [],
   "source": [
    "..."
   ]
  },
  {
   "cell_type": "markdown",
   "metadata": {},
   "source": [
    "<!-- END QUESTION -->\n",
    "\n",
    "**Question 9.** Compute the proportion of vowels, consonants, and other characters to the non-space characters. \n",
    "\n",
    "**Note:** Do not round the proportions. "
   ]
  },
  {
   "cell_type": "code",
   "execution_count": null,
   "metadata": {
    "tags": []
   },
   "outputs": [],
   "source": [
    "total_non_space = ...\n",
    "prop_vowels = ...\n",
    "prop_consonants = ...\n",
    "prop_other = ...\n",
    "print('The proportion of vowels is:', prop_vowels)\n",
    "print('The proportion of consonants is:', prop_consonants)\n",
    "print('The proportion of other characters is:', prop_other)"
   ]
  },
  {
   "cell_type": "code",
   "execution_count": null,
   "metadata": {
    "deletable": false,
    "editable": false
   },
   "outputs": [],
   "source": [
    "grader.check(\"q9\")"
   ]
  },
  {
   "cell_type": "markdown",
   "metadata": {},
   "source": [
    "<!-- BEGIN QUESTION -->\n",
    "\n",
    "**Question 10.** Use the `.format` string method to print the output in the format below.\n",
    "\n",
    "```\n",
    "The number of vowels is: 0.xxx\n",
    "The number of consonants is: 0.xxx\n",
    "The number of other characters is: 0.xxx\n",
    "```"
   ]
  },
  {
   "cell_type": "code",
   "execution_count": null,
   "metadata": {
    "tags": []
   },
   "outputs": [],
   "source": [
    "..."
   ]
  },
  {
   "cell_type": "markdown",
   "metadata": {},
   "source": [
    "<!-- END QUESTION -->\n",
    "\n",
    "## 3. Dictionary Practice\n",
    "\n",
    "In this part, we'll count the number of words in a book using a for loop and a dictionary.  Use the code below to read in the book as a string."
   ]
  },
  {
   "cell_type": "code",
   "execution_count": null,
   "metadata": {},
   "outputs": [],
   "source": [
    "with open('data/charles-dickens-oliver-twist.txt', 'r', encoding='utf-8-sig') as f:\n",
    "    cd_lines = f.read()\n",
    "print(cd_lines[:450])"
   ]
  },
  {
   "cell_type": "markdown",
   "metadata": {},
   "source": [
    "Our goal in this part of the lab is to iterate through the words in the book and count the number of times each word occurs. We can use a dictionary to store this type of data. \n",
    "\n",
    "For instance, you'll end up with a key of \"the\" with a corresponding value being the number of times \"the\" occurred."
   ]
  },
  {
   "cell_type": "markdown",
   "metadata": {},
   "source": [
    "**Question 11.** Replace all the `\\n` values with spaces and convert each word to lowercase."
   ]
  },
  {
   "cell_type": "code",
   "execution_count": null,
   "metadata": {
    "tags": []
   },
   "outputs": [],
   "source": [
    "cd_lines_spaces = ..."
   ]
  },
  {
   "cell_type": "code",
   "execution_count": null,
   "metadata": {
    "deletable": false,
    "editable": false
   },
   "outputs": [],
   "source": [
    "grader.check(\"q11\")"
   ]
  },
  {
   "cell_type": "markdown",
   "metadata": {},
   "source": [
    "We'll need to remove any punctuation (for instance, \"end.\" would need the '.' removed). The object `string.punctuation` from the `string` module  has a list of punctuation marks.\n",
    "\n",
    "Run the cell below to see."
   ]
  },
  {
   "cell_type": "code",
   "execution_count": null,
   "metadata": {},
   "outputs": [],
   "source": [
    "import string\n",
    "print(string.punctuation)"
   ]
  },
  {
   "cell_type": "markdown",
   "metadata": {},
   "source": [
    "To accomplish this task you can write a nested for loop that iterates over the values in `string.punctuation`. If the punctuation value exists in the `'word'` then you can use the `.replace()` method to replace it with an empty string `\"\"`. \n",
    "\n",
    "**Note:** This will make words like didn't into didnt, that's fine - ignore that as it will still count appropriately for the most part."
   ]
  },
  {
   "cell_type": "markdown",
   "metadata": {},
   "source": [
    "**Question 12.** Split the text up via the spaces to get a list of 'words' you can iterate over."
   ]
  },
  {
   "cell_type": "code",
   "execution_count": null,
   "metadata": {
    "tags": []
   },
   "outputs": [],
   "source": [
    "words_in_cd = ..."
   ]
  },
  {
   "cell_type": "code",
   "execution_count": null,
   "metadata": {
    "deletable": false,
    "editable": false
   },
   "outputs": [],
   "source": [
    "grader.check(\"q12\")"
   ]
  },
  {
   "cell_type": "markdown",
   "metadata": {},
   "source": [
    "Next let's remove the punctuation."
   ]
  },
  {
   "cell_type": "markdown",
   "metadata": {},
   "source": [
    "**Question 13.** Remove all the punctuation from the words `words_in_cd` list. Store the words without punctuation in a new list named `words_wo_punctuation`."
   ]
  },
  {
   "cell_type": "code",
   "execution_count": null,
   "metadata": {
    "tags": []
   },
   "outputs": [],
   "source": [
    "words_wo_punctuation = ...\n",
    "\n",
    "for ..."
   ]
  },
  {
   "cell_type": "code",
   "execution_count": null,
   "metadata": {
    "deletable": false,
    "editable": false
   },
   "outputs": [],
   "source": [
    "grader.check(\"q13\")"
   ]
  },
  {
   "cell_type": "markdown",
   "metadata": {},
   "source": [
    "Now the `'words'` are processed in a list and we are ready to count."
   ]
  },
  {
   "cell_type": "markdown",
   "metadata": {},
   "source": [
    "**Question 14.** Use `if/else` logic to check if the the word already exists in the dictionary. If it does, add one to the associated value. If not, add that key to the dictionary with a value of 1."
   ]
  },
  {
   "cell_type": "code",
   "execution_count": null,
   "metadata": {
    "tags": []
   },
   "outputs": [],
   "source": [
    "word_count_dictionary = ...\n",
    "\n",
    "for ..."
   ]
  },
  {
   "cell_type": "code",
   "execution_count": null,
   "metadata": {
    "deletable": false,
    "editable": false
   },
   "outputs": [],
   "source": [
    "grader.check(\"q14\")"
   ]
  },
  {
   "cell_type": "markdown",
   "metadata": {},
   "source": [
    "Let's print out a few items from your word count dictionary."
   ]
  },
  {
   "cell_type": "markdown",
   "metadata": {},
   "source": [
    "<!-- BEGIN QUESTION -->\n",
    "\n",
    "**Question 15.** Write a `for` loop to print out the first 20 key/value pairs in your dictionary."
   ]
  },
  {
   "cell_type": "code",
   "execution_count": null,
   "metadata": {
    "tags": []
   },
   "outputs": [],
   "source": [
    "for ..."
   ]
  },
  {
   "cell_type": "markdown",
   "metadata": {},
   "source": [
    "<!-- END QUESTION -->\n",
    "\n"
   ]
  },
  {
   "cell_type": "markdown",
   "metadata": {
    "deletable": false,
    "editable": false
   },
   "source": [
    "---\n",
    "\n",
    "To double-check your work, the cell below will rerun all of the autograder tests."
   ]
  },
  {
   "cell_type": "code",
   "execution_count": null,
   "metadata": {
    "deletable": false,
    "editable": false
   },
   "outputs": [],
   "source": [
    "grader.check_all()"
   ]
  },
  {
   "cell_type": "markdown",
   "metadata": {
    "deletable": false,
    "editable": false
   },
   "source": [
    "## Submission\n",
    "\n",
    "Make sure you have run all cells in your notebook in order before running the cell below, so that all images/graphs appear in the output. The cell below will generate a zip file for you to submit. **Please save before exporting!**\n",
    "\n",
    "When done exporting, download the .zip file by finding it in the file browswer on the left side of the screen, then right-click and select **Download**. You'll submit this .zip file for the assignment in Canvas to Gradescope for grading."
   ]
  },
  {
   "cell_type": "code",
   "execution_count": null,
   "metadata": {
    "deletable": false,
    "editable": false
   },
   "outputs": [],
   "source": [
    "# Save your notebook first, then run this cell to export your submission.\n",
    "grader.export(pdf=False)"
   ]
  },
  {
   "cell_type": "markdown",
   "metadata": {},
   "source": [
    " "
   ]
  }
 ],
 "metadata": {
  "kernelspec": {
   "display_name": "Python 3 (ipykernel)",
   "language": "python",
   "name": "python3"
  },
  "language_info": {
   "codemirror_mode": {
    "name": "ipython",
    "version": 3
   },
   "file_extension": ".py",
   "mimetype": "text/x-python",
   "name": "python",
   "nbconvert_exporter": "python",
   "pygments_lexer": "ipython3",
   "version": "3.9.6"
  },
  "otter": {
   "tests": {
    "q1": {
     "name": "q1",
     "points": null,
     "suites": [
      {
       "cases": [
        {
         "code": ">>> start_here\n1844",
         "hidden": false,
         "locked": false
        }
       ],
       "scored": true,
       "setup": "",
       "teardown": "",
       "type": "doctest"
      }
     ]
    },
    "q11": {
     "name": "q11",
     "points": null,
     "suites": [
      {
       "cases": [
        {
         "code": ">>> \"\\n\" not in cd_lines_spaces\nTrue",
         "hidden": false,
         "locked": false
        },
        {
         "code": ">>> cd_lines_spaces.islower()\nTrue",
         "hidden": false,
         "locked": false
        }
       ],
       "scored": true,
       "setup": "",
       "teardown": "",
       "type": "doctest"
      }
     ]
    },
    "q12": {
     "name": "q12",
     "points": null,
     "suites": [
      {
       "cases": [
        {
         "code": ">>> len(words_in_cd)\n164984",
         "hidden": false,
         "locked": false
        },
        {
         "code": ">>> isinstance(words_in_cd, list)\nTrue",
         "hidden": false,
         "locked": false
        }
       ],
       "scored": true,
       "setup": "",
       "teardown": "",
       "type": "doctest"
      }
     ]
    },
    "q13": {
     "name": "q13",
     "points": null,
     "suites": [
      {
       "cases": [
        {
         "code": ">>> len(words_wo_punctuation) \n157187",
         "hidden": false,
         "locked": false
        },
        {
         "code": ">>> isinstance(words_wo_punctuation, list)\nTrue",
         "hidden": false,
         "locked": false
        }
       ],
       "scored": true,
       "setup": "",
       "teardown": "",
       "type": "doctest"
      }
     ]
    },
    "q14": {
     "name": "q14",
     "points": null,
     "suites": [
      {
       "cases": [
        {
         "code": ">>> isinstance(word_count_dictionary, dict)\nTrue",
         "hidden": false,
         "locked": false
        },
        {
         "code": ">>> len(word_count_dictionary.keys())\n11278",
         "hidden": false,
         "locked": false
        },
        {
         "code": ">>> sum(word_count_dictionary.values())\n157187",
         "hidden": false,
         "locked": false
        }
       ],
       "scored": true,
       "setup": "",
       "teardown": "",
       "type": "doctest"
      }
     ]
    },
    "q3": {
     "name": "q3",
     "points": null,
     "suites": [
      {
       "cases": [
        {
         "code": ">>> end_here\n6345",
         "hidden": false,
         "locked": false
        }
       ],
       "scored": true,
       "setup": "",
       "teardown": "",
       "type": "doctest"
      }
     ]
    },
    "q5": {
     "name": "q5",
     "points": null,
     "suites": [
      {
       "cases": [
        {
         "code": ">>> isinstance(chapter_1, str)\nTrue",
         "hidden": false,
         "locked": false
        },
        {
         "code": ">>> len(chapter_1)\n4483",
         "hidden": false,
         "locked": false
        }
       ],
       "scored": true,
       "setup": "",
       "teardown": "",
       "type": "doctest"
      }
     ]
    },
    "q6": {
     "name": "q6",
     "points": null,
     "suites": [
      {
       "cases": [
        {
         "code": ">>> len(chapter_1_lowercase)\n4483",
         "hidden": false,
         "locked": false
        },
        {
         "code": ">>> chapter_1_lowercase.islower()\nTrue",
         "hidden": false,
         "locked": false
        }
       ],
       "scored": true,
       "setup": "",
       "teardown": "",
       "type": "doctest"
      }
     ]
    },
    "q7": {
     "name": "q7",
     "points": 0.5,
     "suites": [
      {
       "cases": [
        {
         "code": ">>> vowels\n1301",
         "hidden": false,
         "locked": false
        },
        {
         "code": ">>> consonants\n2086",
         "hidden": false,
         "locked": false
        },
        {
         "code": ">>> spaces\n775",
         "hidden": false,
         "locked": false
        },
        {
         "code": ">>> other\n309",
         "hidden": false,
         "locked": false
        }
       ],
       "scored": true,
       "setup": "",
       "teardown": "",
       "type": "doctest"
      }
     ]
    },
    "q9": {
     "name": "q9",
     "points": null,
     "suites": [
      {
       "cases": [
        {
         "code": ">>> total_non_space\n3708",
         "hidden": false,
         "locked": false
        },
        {
         "code": ">>> prop_vowels\n0.35086299892125133",
         "hidden": false,
         "locked": false
        },
        {
         "code": ">>> prop_consonants\n0.5625674217907227",
         "hidden": false,
         "locked": false
        },
        {
         "code": ">>> prop_other\n0.08333333333333333",
         "hidden": false,
         "locked": false
        }
       ],
       "scored": true,
       "setup": "",
       "teardown": "",
       "type": "doctest"
      }
     ]
    }
   }
  }
 },
 "nbformat": 4,
 "nbformat_minor": 4
}
