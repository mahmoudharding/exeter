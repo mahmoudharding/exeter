{
 "cells": [
  {
   "cell_type": "code",
   "execution_count": null,
   "id": "a24fe722",
   "metadata": {
    "deletable": false,
    "editable": false
   },
   "outputs": [],
   "source": [
    "# Initialize Otter\n",
    "import otter\n",
    "grader = otter.Notebook(\"lab10.ipynb\")"
   ]
  },
  {
   "cell_type": "markdown",
   "id": "e53c6d10",
   "metadata": {},
   "source": [
    "# Lab 10: Multiple Linear Regression and Feature Selection/Engineering\n",
    "\n",
    "Welcome to Lab 11! In this lab we will introduce feature engineering, build multiple linear regression models, and investigate methods to evaluate the \"goodness of fit\" for linear models.\n",
    "\n",
    "To receive credit for a lab, answer all questions correctly and submit before the deadline.\n",
    "\n",
    "**Due Date:**\n",
    "\n",
    "**Collaboration Policy:** Data science is a collaborative activity. While you may talk with others about the labs, we ask that you **write your solutions individually**. If you do discuss the assignments with others **please include their names below** (it's a good way to learn your classmates' names).\n",
    "\n",
    "**Collaborators:** \n",
    "\n",
    "List collaborators here.\n",
    "\n",
    "**Note:** In this notebook a custom figure size has been configured. Click [here](https://matplotlib.org/users/customizing.html) to read the documentation about customizing aspects of matplotlib.\n",
    "\n",
    "Run the cell below."
   ]
  },
  {
   "cell_type": "code",
   "execution_count": null,
   "id": "62d6aaad",
   "metadata": {},
   "outputs": [],
   "source": [
    "import pandas as pd\n",
    "import numpy as np\n",
    "import seaborn as sns\n",
    "import math\n",
    "from sklearn.linear_model import LinearRegression\n",
    "\n",
    "%matplotlib inline\n",
    "import matplotlib.pyplot as plt\n",
    "plt.rcParams['figure.figsize'] = (8, 4)\n",
    "plt.rcParams['figure.dpi'] = 100"
   ]
  },
  {
   "cell_type": "markdown",
   "id": "218c979b",
   "metadata": {},
   "source": [
    "# 1. Interpreting the Estimated Parameters\n",
    "\n",
    "In Foundations of Data Science we learned about the regression line in section 15.2 of the textbook, Computational and Inferential Thinking. To refresh your memory about the concept click [here](https://inferentialthinking.com/chapters/15/2/Regression_Line.html#).\n",
    "\n",
    "In regression with a single independent variable, the coefficient of the independent variable tells you how much the dependent variable is expected to increase (if the coefficient is positive) or decrease (if the coefficient is negative) when that independent variable increases by one. Interpreting the intercept in a regression model isn’t always straightforward. The intercept (often labeled the constant) is the expected mean value of the independent variable when the independent variable is 0. If the independent variable is never equal to 0, then the intercept has no meaning.\n",
    "\n",
    "We will continue our analysis of the `mpg` data set.\n",
    "\n",
    "**Note:** We load the full data set, and drop any rows that have missing data."
   ]
  },
  {
   "cell_type": "code",
   "execution_count": null,
   "id": "098c09ab",
   "metadata": {},
   "outputs": [],
   "source": [
    "mpg = sns.load_dataset('mpg').dropna()\n",
    "mpg = mpg.sort_values('horsepower', ascending = True)\n",
    "mpg.head()"
   ]
  },
  {
   "cell_type": "code",
   "execution_count": null,
   "id": "21e96eef",
   "metadata": {},
   "outputs": [],
   "source": [
    "mpg_model = LinearRegression()\n",
    "mpg_model.fit(mpg[['horsepower']], mpg['mpg'])\n",
    "slope = mpg_model.coef_[0]\n",
    "y_int = mpg_model.intercept_ \n",
    "print(\"The estimated parameter for the slope is\", slope)\n",
    "print(\"The estimated parameter for the y-intercept is\", y_int)"
   ]
  },
  {
   "cell_type": "markdown",
   "id": "0864d6c4",
   "metadata": {},
   "source": [
    "What is the interpretation of the value of the slope, within the context of the modeling scenario?"
   ]
  },
  {
   "cell_type": "markdown",
   "id": "cb280374",
   "metadata": {},
   "source": [
    "_Type your answer here, replacing this text._"
   ]
  },
  {
   "cell_type": "markdown",
   "id": "54fe0857",
   "metadata": {},
   "source": [
    "Does the intercept have meaning for this model? Explain."
   ]
  },
  {
   "cell_type": "markdown",
   "id": "e3d01935",
   "metadata": {},
   "source": [
    "_Type your answer here, replacing this text._"
   ]
  },
  {
   "cell_type": "markdown",
   "id": "2deb980a",
   "metadata": {},
   "source": [
    "# 2. Re-expression\n",
    "\n",
    "In the previous lab we showed how to establish relationships between one explanatory variable and a response variable. \n",
    "\n",
    "Let's review. Run the cell below to see a scatter plot of the data."
   ]
  },
  {
   "cell_type": "code",
   "execution_count": null,
   "id": "c23d3472",
   "metadata": {},
   "outputs": [],
   "source": [
    "sns.lmplot(x = 'horsepower', y = 'mpg', data = mpg, ci = None, line_kws = {'color': 'red'})\n",
    "plt.xlabel(\"Horsepower\")\n",
    "plt.ylabel(\"mpg\");"
   ]
  },
  {
   "cell_type": "markdown",
   "id": "c7371170",
   "metadata": {},
   "source": [
    "To straighten the data we re-expressed `mpg` by taking the square root."
   ]
  },
  {
   "cell_type": "code",
   "execution_count": null,
   "id": "22e0594d",
   "metadata": {},
   "outputs": [],
   "source": [
    "mpg['sqrt_mpg'] = np.sqrt(mpg['mpg'])\n",
    "mpg.head()"
   ]
  },
  {
   "cell_type": "markdown",
   "id": "879df8a7",
   "metadata": {},
   "source": [
    "Then we made a simple linear regression model using our re-expressed response `sqrt_mpg`."
   ]
  },
  {
   "cell_type": "code",
   "execution_count": null,
   "id": "c85434c4",
   "metadata": {},
   "outputs": [],
   "source": [
    "sqrt_mpg_model = LinearRegression()\n",
    "sqrt_mpg_model.fit(mpg[['horsepower']], mpg['sqrt_mpg'])"
   ]
  },
  {
   "cell_type": "markdown",
   "id": "06168e3d",
   "metadata": {},
   "source": [
    "We looked at the new scatter plot."
   ]
  },
  {
   "cell_type": "code",
   "execution_count": null,
   "id": "0a262703",
   "metadata": {},
   "outputs": [],
   "source": [
    "sns.lmplot(x = 'horsepower', y = 'sqrt_mpg', data = mpg, ci = None, line_kws = {'color': 'red'})\n",
    "plt.xlabel(\"Horsepower\")\n",
    "plt.ylabel(\"$\\sqrt{mpg}$\");"
   ]
  },
  {
   "cell_type": "markdown",
   "id": "39e7105f",
   "metadata": {},
   "source": [
    "The dip in our scatter plot is not as noticeable."
   ]
  },
  {
   "cell_type": "markdown",
   "id": "6ea68f9a",
   "metadata": {},
   "source": [
    "Then we looked at our residual plot."
   ]
  },
  {
   "cell_type": "code",
   "execution_count": null,
   "id": "a83ced39",
   "metadata": {},
   "outputs": [],
   "source": [
    "sns.residplot(x = \"horsepower\", y = \"sqrt_mpg\", data = mpg)\n",
    "plt.axhline(y = 0, color = 'r')\n",
    "plt.xlabel(\"Horsepower\")\n",
    "plt.ylabel(\"Residuals\");"
   ]
  },
  {
   "cell_type": "markdown",
   "id": "bfb74227",
   "metadata": {},
   "source": [
    "Re-expressing the response seemed to improve our residual plot. However, we still haven't quite captured the curvature in data, especially at the ends. Let's add more features!"
   ]
  },
  {
   "cell_type": "markdown",
   "id": "7b9c6aec",
   "metadata": {
    "tags": []
   },
   "source": [
    "# 3. Multiple Linear Regression\n",
    "\n",
    "With real-world problems you will often want to use **multiple features** to model and predict a response variable. To do so,you can use multiple linear regression. \n",
    "\n",
    "Multiple linear regression attempts to model the relationship between two or more explanatory variables and a response variable by fitting a linear equation to the observed data. Formally, the model for multiple linear regression, given $n$ features is:\n",
    "\n",
    "$$y = \\theta_0 + \\theta_1 x_2 + \\theta_2 x_2 + … + \\theta_n x_n $$\n",
    "\n",
    "where each $\\theta_i$ is an estimated linear parameter. This is what is meant by the phrase *\"linear in the parameters\"*. If you change the equation to\n",
    "\n",
    "$$y = \\theta_0 + \\theta_1 x_2^2 + \\theta_2 x_2 + … + \\theta_n x_n$$\n",
    "\n",
    "Then, it is no longer linear in variables (because of the squared term $\\theta_2 x_2^2$) but it is still linear in parameters. And for (multiple) linear regression, that's all that matters because in the end, you are trying to find a set of $\\theta$s that minimizes a loss function [(Data Science Exchange)](https://datascience.stackexchange.com/questions/12274/what-does-linear-in-parameters-mean).\n",
    "\n",
    "Let's look at an example.\n",
    "\n",
    "# 4. Advertising\n",
    "\n",
    "Suppose that we are statistical consultants hired by a client to provide advice on how to improve sales of a particular product. The `ads` data set consists of the sales (in thousands of units) of that product in 200 different markets, along with advertising budgets for the product in each of those markets for three different media: internet, streaming radio, and tv (all in thousands of dollars). \n",
    "\n",
    "It is not possible for our client to directly increase sales of the product. On the other hand, they can control the advertising expenditure in each of the three media. Therefore, if we determine that there is an **association between advertising and sales**, then we can instruct our client to adjust advertising budgets, thereby indirectly increasing sales. In other words, our goal is to develop an accurate model that can be used to predict sales on the basis of the three media budgets. [(An Introduction to Statistical Learning by Gareth James)](https://hastie.su.domains/ISLR2/ISLRv2_website.pdf) "
   ]
  },
  {
   "cell_type": "code",
   "execution_count": null,
   "id": "02487e17",
   "metadata": {},
   "outputs": [],
   "source": [
    "ads = pd.read_csv(\"data/ads.csv\",index_col = 0)\n",
    "ads.head()"
   ]
  },
  {
   "cell_type": "markdown",
   "id": "39dfb6cb",
   "metadata": {},
   "source": [
    "Use the three code cells below to perform EDA on the `ads` data set.\n",
    "\n",
    "### EDA Part 1 of 3"
   ]
  },
  {
   "cell_type": "code",
   "execution_count": null,
   "id": "5c46d3d2",
   "metadata": {},
   "outputs": [],
   "source": [
    "bins = np.arange(0, 35, 5)\n",
    "plt.hist(ads[\"sales\"], bins = bins, edgecolor = 'black')\n",
    "plt.title(\"Distribtion of Sales\");"
   ]
  },
  {
   "cell_type": "markdown",
   "id": "1f9d53bd",
   "metadata": {},
   "source": [
    "### EDA Part 2 of 3"
   ]
  },
  {
   "cell_type": "code",
   "execution_count": null,
   "id": "cb9d9d74",
   "metadata": {
    "tags": []
   },
   "outputs": [],
   "source": [
    "ads.corr()"
   ]
  },
  {
   "cell_type": "markdown",
   "id": "532b0b3a",
   "metadata": {},
   "source": [
    "### EDA Part 3 of 3"
   ]
  },
  {
   "cell_type": "code",
   "execution_count": null,
   "id": "59629f6b",
   "metadata": {},
   "outputs": [],
   "source": [
    "plt.scatter(x = ads.internet, y = ads.sales)\n",
    "plt.xlabel(\"Internet\")\n",
    "plt.ylabel(\"Sales\");"
   ]
  },
  {
   "cell_type": "markdown",
   "id": "15e2acde",
   "metadata": {},
   "source": [
    "Now choose one feature, plot the residuals, fit a simple linear regression model, calculate the root mean squared error.\n",
    "\n",
    "### SLR Step 1 of 4\n",
    "\n",
    "Choose a single feature and plot the residuals."
   ]
  },
  {
   "cell_type": "code",
   "execution_count": null,
   "id": "f6141fbc",
   "metadata": {},
   "outputs": [],
   "source": [
    "sns.residplot(x = \"internet\", y = \"sales\", data = ads)\n",
    "plt.axhline(y = 0, color = 'r')\n",
    "plt.xlabel(\"Internet\")\n",
    "plt.ylabel(\"Residuals\");"
   ]
  },
  {
   "cell_type": "markdown",
   "id": "7d98a5b0",
   "metadata": {},
   "source": [
    "### SLR Step 2 of 4\n",
    "\n",
    "Fit a simple linear regression model using `sci-kit learn`."
   ]
  },
  {
   "cell_type": "code",
   "execution_count": null,
   "id": "914ecdd0",
   "metadata": {},
   "outputs": [],
   "source": [
    "sales = LinearRegression()\n",
    "sales.fit(ads[['internet']], ads['sales'])"
   ]
  },
  {
   "cell_type": "markdown",
   "id": "e324d709",
   "metadata": {},
   "source": [
    "### SLR Step 3 of 4\n",
    "\n",
    "Calculate the root mean squared error."
   ]
  },
  {
   "cell_type": "code",
   "execution_count": null,
   "id": "3ed8a3ed",
   "metadata": {},
   "outputs": [],
   "source": [
    "(np.sum(np.square(ads['sales'] - sales.predict(ads[['internet']]))/len(ads['sales'])))**.5"
   ]
  },
  {
   "cell_type": "markdown",
   "id": "4f8435b6",
   "metadata": {},
   "source": [
    "### SLR Step 4 of 4 \n",
    "\n",
    "Write 2-3 sentences to asses your model. For example you could the meaning of your estimated parameters for the slope and $y-$intercept, you could interpret the meaning of your value for RMSE, etc.\n",
    "\n",
    "**Note:** Use the blank code cell below for additional programming analysis. Type your sentences in the markdown cell labeled *Type your answer here, replacing this text.*."
   ]
  },
  {
   "cell_type": "code",
   "execution_count": null,
   "id": "4af65e38",
   "metadata": {},
   "outputs": [],
   "source": []
  },
  {
   "cell_type": "markdown",
   "id": "1bb4e524",
   "metadata": {},
   "source": [
    "_Type your answer here, replacing this text._"
   ]
  },
  {
   "cell_type": "markdown",
   "id": "e5615e64",
   "metadata": {},
   "source": [
    "By limiting our model to one feature, we may be leaving out information that could produce a better model. In other words, the region sales could be affected by more than just the advertising money spent on internet ads. Let's fir another model with an additional feature, then compare it to our single feature model."
   ]
  },
  {
   "cell_type": "code",
   "execution_count": null,
   "id": "cb2dedb0",
   "metadata": {},
   "outputs": [],
   "source": [
    "sales2 = LinearRegression()\n",
    "sales2.fit(ads[['internet', 'streaming_radio']], ads['sales'])\n",
    "sales2_pred = sales2.predict(ads[['internet', 'streaming_radio']])"
   ]
  },
  {
   "cell_type": "markdown",
   "id": "31d0687d",
   "metadata": {},
   "source": [
    "Now let's calculate the RMSE."
   ]
  },
  {
   "cell_type": "code",
   "execution_count": null,
   "id": "d0906613",
   "metadata": {},
   "outputs": [],
   "source": [
    "(np.sum(np.square(ads['sales'] - sales2_pred))/len(ads['sales']))**(0.5)"
   ]
  },
  {
   "cell_type": "markdown",
   "id": "007f633e",
   "metadata": {},
   "source": [
    "Write 2-3 sentences to compare the `sales` model (simple linear regression using one predictor) to the `sales2` model (multiple linear regression using two predictors).\n",
    "\n",
    "**Note:** Use the blank code cell below for additional programming analysis. Type your sentences in the markdown cell labeled *Type your answer here, replacing this text.*."
   ]
  },
  {
   "cell_type": "code",
   "execution_count": null,
   "id": "6bb6aa53",
   "metadata": {},
   "outputs": [],
   "source": []
  },
  {
   "cell_type": "markdown",
   "id": "83627428",
   "metadata": {},
   "source": [
    "_Type your answer here, replacing this text._"
   ]
  },
  {
   "cell_type": "markdown",
   "id": "06e6097c",
   "metadata": {},
   "source": [
    "**Question 1.** Given the equation\n",
    "\n",
    "$$\\text{sales}=\\hat{\\theta}_0+\\hat{\\theta}_1 \\times \\text{internet}+\\hat{\\theta}_2 \\times \\text{streaming_radio},$$\n",
    "\n",
    "find the values for $\\hat{\\theta}_0$, $\\hat{\\theta}_1$, and $\\hat{\\theta}_2$ (rounded to 4 decimal places).\n",
    "\n",
    "**Hint:** In Lab 10 we used the `.coef_` and the `.intercept_` methods on our model instance to retrieve the estimated parameters of our simple linear regression model."
   ]
  },
  {
   "cell_type": "code",
   "execution_count": null,
   "id": "83c8a18e",
   "metadata": {
    "tags": []
   },
   "outputs": [],
   "source": [
    "theta0 = ...\n",
    "theta1 = ...\n",
    "theta2 = ..."
   ]
  },
  {
   "cell_type": "code",
   "execution_count": null,
   "id": "aa996c4d",
   "metadata": {
    "deletable": false,
    "editable": false
   },
   "outputs": [],
   "source": [
    "grader.check(\"q1\")"
   ]
  },
  {
   "cell_type": "markdown",
   "id": "2a8802c1",
   "metadata": {},
   "source": [
    "<!-- BEGIN QUESTION -->\n",
    "\n",
    "**Question 2.** Using the values for $\\hat{\\theta}_0$, $\\hat{\\theta}_1$, and $\\hat{\\theta}_2$ (rounded to 4 decimal places), in Latex ($\\LaTeX$), write out the function that the model `sales2` is using to predict `sale` from `internet` and `streaming_radio`.\n",
    "\n",
    "**Hint:** Click [here](http://tug.ctan.org/info/undergradmath/undergradmath.pdf) to view a brief two page guide on typesetting math equations in Latex. If you still need help, as a neighbor or your instructor."
   ]
  },
  {
   "cell_type": "markdown",
   "id": "8cfeed53",
   "metadata": {},
   "source": [
    "_Type your answer here, replacing this text._"
   ]
  },
  {
   "cell_type": "markdown",
   "id": "48274115",
   "metadata": {},
   "source": [
    "<!-- END QUESTION -->\n",
    "\n",
    "## Interpreting the Model Parameters\n",
    "\n",
    "- Each  parameter represents the change in the mean response, $\\hat y$, per unit increase in the associated predictor variable when all the other predictors are held constant.\n",
    "\n",
    "- For example,  $\\theta_1 = 0.0458$, represents the estimated change in the mean response, $\\hat y$, per unit increase in the amount spent on internet advertising when the amount spent on streaming radio advertisement is held constant.\n",
    "\n",
    "- The intercept term, $\\theta_0 = 2.9211$, represents the estimated mean response, $\\hat y$, when all the predictors (amount spent in advertising on internet and streaming radio) are all zero (which may or may not have any practical meaning)."
   ]
  },
  {
   "cell_type": "markdown",
   "id": "3fd6a6f7",
   "metadata": {},
   "source": [
    "<!-- BEGIN QUESTION -->\n",
    "\n",
    "**Question 3.** In our situation would it make sense to interpret the intercept term? Write 2-3 sentences to explain your answer. "
   ]
  },
  {
   "cell_type": "markdown",
   "id": "cad966b1",
   "metadata": {},
   "source": [
    "_Type your answer here, replacing this text._"
   ]
  },
  {
   "cell_type": "markdown",
   "id": "525863d3",
   "metadata": {
    "tags": []
   },
   "source": [
    "<!-- END QUESTION -->\n",
    "\n",
    "# 5. R Squared\n",
    "\n",
    "$R^2$, denoted by\n",
    "\n",
    "$$R^2 = \\frac{\\text{variance of fitted values}}{\\text{variance of true } y} = \\frac{\\hat{\\sigma}_{y}^2}{\\sigma_y^2}$$\n",
    "\n",
    "is a goodness-of-fit measure for linear regression models.\n",
    "\n",
    "This statistic indicates the percentage of the variance in the dependent variable that the independent variable(s) explain collectively. R-squared measures the strength of the relationship between your model and the dependent variable on a convenient 0$-$100% scale.\n",
    "\n",
    "Unlike $r$, the correlation coefficient we looked at in Lab 10, $R^2$, the **coefficient of determination**, can be used in the multiple regression setting. In simple regression, $r^{2}$ and Multiple $R^{2}$ are the same.\n",
    "\n",
    "To see exactly how much better our new model is, we can compare the Multiple $R^2$ from the simple linear and multiple linear fits.\n",
    "\n",
    "## Which Metric Should You Use?\n",
    "\n",
    "When assessing how well a model fits a data set, it’s useful to calculate both the RMSE and the $R^2$ value because each metric tells us something different.\n",
    "\n",
    "- One one hand, RMSE tells us the typical distance between the predicted value made by the regression model and the actual value.\n",
    "\n",
    "- On the other hand, $R^2$ tells us how well the predictor variables can explain the variation in the response variable."
   ]
  },
  {
   "cell_type": "markdown",
   "id": "8e058fd4",
   "metadata": {},
   "source": [
    "**Question 4.** Calculate the R-squared value for both the `sales` and `sales2` model."
   ]
  },
  {
   "cell_type": "code",
   "execution_count": null,
   "id": "80fc168d",
   "metadata": {
    "tags": []
   },
   "outputs": [],
   "source": [
    "r2_sales = ...\n",
    "r2_sales2 = ...\n",
    "r2_sales, r2_sales2"
   ]
  },
  {
   "cell_type": "code",
   "execution_count": null,
   "id": "ff1721da",
   "metadata": {
    "deletable": false,
    "editable": false
   },
   "outputs": [],
   "source": [
    "grader.check(\"q4\")"
   ]
  },
  {
   "cell_type": "markdown",
   "id": "063d065f",
   "metadata": {},
   "source": [
    "## Limitations of R-squared\n",
    "\n",
    "- R-squared can't determine whether the coefficient estimates ($theta_i$s) and predictions ($\\hat y_i$s) are biased, which is why you must assess the residual plots.\n",
    "\n",
    "- R-squared does not indicate whether a regression model is adequate. You can have a low R-squared value for a good model, or a high R-squared value for a model that does not fit the data.\n",
    "\n",
    "With this in mind let's examine our residual plots."
   ]
  },
  {
   "cell_type": "code",
   "execution_count": null,
   "id": "ab397703",
   "metadata": {},
   "outputs": [],
   "source": [
    "plt.figure(figsize = [10, 15])\n",
    "\n",
    "plt.subplot(3, 1, 1)\n",
    "sns.residplot(x = \"internet\", y = \"sales\", data = ads)\n",
    "plt.axhline(y = 0, color = 'r')\n",
    "plt.xlabel('Internet')\n",
    "plt.ylabel(\"Residuals\")\n",
    "\n",
    "plt.subplot(3, 1, 2)\n",
    "sns.residplot(x = \"streaming_radio\", y = \"sales\", data = ads)\n",
    "plt.axhline(y = 0, color = 'r')\n",
    "plt.xlabel('Streaming Radio')\n",
    "plt.ylabel(\"Residuals\")\n",
    "\n",
    "plt.subplot(3, 1, 3)\n",
    "plt.scatter(sales2_pred, ads['sales'] - sales2_pred)\n",
    "plt.axhline(y = 0, color = 'r')\n",
    "plt.xlabel('Predicted Sales')\n",
    "plt.ylabel('Residuals');"
   ]
  },
  {
   "cell_type": "markdown",
   "id": "02856493",
   "metadata": {},
   "source": [
    "Our residual plot for `Predicted Sales` has a dip. This indicates a nonlinear relationship in the original data set. We could try re-expression, fitting a nonlinear model, etc. Since the goal of this unit in the course is to introduce you to the idea of statistical modeling, techniques beyond what we have discussed will not be explored. \n",
    "\n",
    "Every time you add a predictor to a model, the R-squared increases, even if due to chance alone. It never decreases. Consequently, a model with more terms may appear to have a better fit simply because it has more terms. If a model has too many predictors, it begins to model the random noise in the data. This condition is known as overfitting the model and it produces misleadingly high R-squared values and a lessened ability to make predictions.\n",
    "\n",
    "R-squared is a handy, seemingly intuitive measure of how well your linear model fits a set of observations. However, R-squared doesn’t tell us the entire story. You should evaluate R-squared values in conjunction with residual plots, other model statistics (not part of this course), and subject area knowledge when choosing a statistical model."
   ]
  },
  {
   "cell_type": "markdown",
   "id": "2dc96506",
   "metadata": {},
   "source": [
    "# 6. Open Analysis\n",
    "\n",
    "Now it's your turn to develop a multiple linear regression model. Use the `mpg` data set and fit a multiple linear regression model (mlr) on more than one of the numerical predictors. Keep in mind how residual plots, RMSE, and R-squared can be used to help you compare the models you fit. Fit at least two mlr models using different predictors. Compare your results, choose one of your models, and interpret your results from the model you choose. Make sure you provide written commentary as your perform your analysis.\n",
    "\n",
    "**Note:** This part of the notebook will count 15 points towards the total grade of 20. It will be graded using the following rubric:\n",
    "\n",
    "|**Description**|**Points**|\n",
    "|---------------|----------|\n",
    "|EDA (numerical and graphical analysis)| 5|\n",
    "|Model development|5|\n",
    "|Written Commentary|5|"
   ]
  },
  {
   "cell_type": "code",
   "execution_count": null,
   "id": "c90c9bd0",
   "metadata": {},
   "outputs": [],
   "source": []
  },
  {
   "cell_type": "markdown",
   "id": "b1fb675e",
   "metadata": {
    "deletable": false,
    "editable": false
   },
   "source": [
    "---\n",
    "\n",
    "To double-check your work, the cell below will rerun all of the autograder tests."
   ]
  },
  {
   "cell_type": "code",
   "execution_count": null,
   "id": "76507dfa",
   "metadata": {
    "deletable": false,
    "editable": false
   },
   "outputs": [],
   "source": [
    "grader.check_all()"
   ]
  },
  {
   "cell_type": "markdown",
   "id": "b51a78ae",
   "metadata": {
    "deletable": false,
    "editable": false
   },
   "source": [
    "## Submission\n",
    "\n",
    "Make sure you have run all cells in your notebook in order before running the cell below, so that all images/graphs appear in the output. The cell below will generate a zip file for you to submit. **Please save before exporting!**\n",
    "\n",
    "When done exporting, download the .zip file by `SHIFT`-clicking on the file name and selecting **Save Link As**. Or, find the .zip file in the left side of the screen and right-click and select **Download**. You'll submit this .zip file for the assignment in Canvas to Gradescope for grading."
   ]
  },
  {
   "cell_type": "code",
   "execution_count": null,
   "id": "5f6eb87f",
   "metadata": {
    "deletable": false,
    "editable": false
   },
   "outputs": [],
   "source": [
    "# Save your notebook first, then run this cell to export your submission.\n",
    "grader.export(pdf=False)"
   ]
  },
  {
   "cell_type": "markdown",
   "id": "7082a0da",
   "metadata": {},
   "source": [
    " "
   ]
  }
 ],
 "metadata": {
  "kernelspec": {
   "display_name": "Python 3 (ipykernel)",
   "language": "python",
   "name": "python3"
  },
  "language_info": {
   "codemirror_mode": {
    "name": "ipython",
    "version": 3
   },
   "file_extension": ".py",
   "mimetype": "text/x-python",
   "name": "python",
   "nbconvert_exporter": "python",
   "pygments_lexer": "ipython3",
   "version": "3.9.6"
  },
  "otter": {
   "tests": {
    "q1": {
     "name": "q1",
     "points": null,
     "suites": [
      {
       "cases": [
        {
         "code": ">>> math.isclose(theta0, 2.9211)\nTrue",
         "hidden": false,
         "locked": false
        },
        {
         "code": ">>> math.isclose(theta1, 0.0458)\nTrue",
         "hidden": false,
         "locked": false
        },
        {
         "code": ">>> math.isclose(theta2, 0.188)\nTrue",
         "hidden": false,
         "locked": false
        }
       ],
       "scored": true,
       "setup": "",
       "teardown": "",
       "type": "doctest"
      }
     ]
    },
    "q4": {
     "name": "q4",
     "points": null,
     "suites": [
      {
       "cases": [
        {
         "code": ">>> round(r2_sales, 4) == 0.6119\nTrue",
         "hidden": false,
         "locked": false
        },
        {
         "code": ">>> round(r2_sales2, 4)  == 0.8972\nTrue",
         "hidden": false,
         "locked": false
        }
       ],
       "scored": true,
       "setup": "",
       "teardown": "",
       "type": "doctest"
      }
     ]
    }
   }
  }
 },
 "nbformat": 4,
 "nbformat_minor": 5
}
