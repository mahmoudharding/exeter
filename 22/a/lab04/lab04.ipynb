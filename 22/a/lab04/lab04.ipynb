{
 "cells": [
  {
   "cell_type": "code",
   "execution_count": null,
   "metadata": {
    "deletable": false,
    "editable": false
   },
   "outputs": [],
   "source": [
    "# Initialize Otter\n",
    "import otter\n",
    "grader = otter.Notebook(\"lab04.ipynb\")"
   ]
  },
  {
   "cell_type": "markdown",
   "metadata": {},
   "source": [
    "# Lab 04: Pandas Overview\n",
    "\n",
    "[Pandas](https://pandas.pydata.org/) is one of the most widely used Python libraries in data science. In this lab, you will learn commonly used data wrangling operations/tools in Pandas. We aim to give you familiarity with:\n",
    "\n",
    "* Creating dataframes\n",
    "\n",
    "* Slicing data frames (i.e. selecting rows and columns)\n",
    "\n",
    "* Filtering data (using boolean arrays)\n",
    "\n",
    "In this lab you are going to use several pandas methods, such as `drop` and `loc`. You may press `shift+tab` on the method parameters to see the documentation for that method. \n",
    "\n",
    "**Hint:** If you are familiar with the `datascience` library used in Foundations of Data Science, the `datascience-to-pandas.ipynb` conversion notebook may serve as a useful guide. It can be found in the lessons folder.\n",
    "\n",
    "To receive credit for a lab, answer all questions correctly and submit before the deadline.\n",
    "\n",
    "**Due Date:** \n",
    "\n",
    "**Collaboration Policy:** Data science is a collaborative activity. While you may talk with others about the labs, we ask that you **write your solutions individually**. If you do discuss the assignments with others **please include their names below** (it's a good way to learn your classmates' names).\n",
    "\n",
    "**Collaborators:** \n",
    "\n",
    "List collaborators here."
   ]
  },
  {
   "cell_type": "markdown",
   "metadata": {},
   "source": [
    "**Note**: The Pandas interface is notoriously confusing, and the documentation is not consistently great. Throughout the semester, you will have to search through Pandas documentation and experiment, but remember it is part of the learning experience and will help shape you as a data scientist.\n",
    "\n",
    "Run the cell below, but **please** don't change it."
   ]
  },
  {
   "cell_type": "code",
   "execution_count": null,
   "metadata": {},
   "outputs": [],
   "source": [
    "import pandas as pd\n",
    "import numpy as np\n",
    "\n",
    "%matplotlib inline\n",
    "import matplotlib.pyplot as plt\n",
    "plt.style.use('fivethirtyeight')"
   ]
  },
  {
   "cell_type": "markdown",
   "metadata": {},
   "source": [
    "# 1. Creating DataFrames & Basic Manipulations\n",
    "\n",
    "A [dataframe](http://pandas.pydata.org/pandas-docs/stable/dsintro.html#dataframe) is a table in which each column has a type; there is an index over the columns (typically string labels) and an index over the rows (typically ordinal numbers).\n",
    "\n",
    "The [documentation](https://pandas.pydata.org/pandas-docs/stable/generated/pandas.DataFrame.html) for the pandas `DataFrame` class  provide at least two syntaxes to create a data frame.\n",
    "\n",
    "**Syntax 1:** You can create a data frame by specifying the columns and values using a dictionary as shown below. \n",
    "\n",
    "The keys of the dictionary are the column names, and the values of the dictionary are lists containing the row entries."
   ]
  },
  {
   "cell_type": "code",
   "execution_count": null,
   "metadata": {},
   "outputs": [],
   "source": [
    "fruit_info = pd.DataFrame(\n",
    "    data = {'fruit': ['apple', 'orange', 'banana', 'raspberry'],\n",
    "            'color': ['red', 'orange', 'yellow', 'pink']})\n",
    "fruit_info"
   ]
  },
  {
   "cell_type": "markdown",
   "metadata": {},
   "source": [
    "**Syntax 2:** You can also define a dataframe by specifying the rows like below. \n",
    "\n",
    "Each row corresponds to a distinct tuple, and the columns are specified separately."
   ]
  },
  {
   "cell_type": "code",
   "execution_count": null,
   "metadata": {},
   "outputs": [],
   "source": [
    "fruit_info2 = pd.DataFrame(\n",
    "    [(\"red\", \"apple\"), (\"orange\", \"orange\"), (\"yellow\", \"banana\"),\n",
    "     (\"pink\", \"raspberry\")], \n",
    "    columns = [\"color\", \"fruit\"])\n",
    "fruit_info2"
   ]
  },
  {
   "cell_type": "markdown",
   "metadata": {},
   "source": [
    "You can obtain the dimensions of a dataframe by using the shape attribute `dataframe.shape`."
   ]
  },
  {
   "cell_type": "code",
   "execution_count": null,
   "metadata": {},
   "outputs": [],
   "source": [
    "fruit_info.shape"
   ]
  },
  {
   "cell_type": "markdown",
   "metadata": {},
   "source": [
    "You can also convert the entire dataframe into a two-dimensional numpy array."
   ]
  },
  {
   "cell_type": "code",
   "execution_count": null,
   "metadata": {},
   "outputs": [],
   "source": [
    "fruit_info.values"
   ]
  },
  {
   "cell_type": "markdown",
   "metadata": {},
   "source": [
    "<!-- BEGIN QUESTION -->\n",
    "\n",
    "**Question 1.** For a DataFrame `df`, you can add a column with `df['new column name'] = ...` and assign a list or array of values to the column. Use the `.Series` method to add a column of integers containing 1, 2, 3, and 4 called `rank1` to the `fruit_info` table which expresses your personal preference about the taste ordering for each fruit (1 is tastiest; 4 is least tasty).\n",
    "\n",
    "**Note:** To earn all the points for this question you **must** use the `.Series` method. \n"
   ]
  },
  {
   "cell_type": "code",
   "execution_count": null,
   "metadata": {
    "tags": []
   },
   "outputs": [],
   "source": [
    "...\n",
    "fruit_info"
   ]
  },
  {
   "cell_type": "markdown",
   "metadata": {},
   "source": [
    "<!-- END QUESTION -->\n",
    "\n",
    "<!-- BEGIN QUESTION -->\n",
    "\n",
    "**Question 2.** You can also add a column to `df` with `df.loc[:, 'new column name'] = ...`. As discussed in the lesson, the first parameter is for the rows and second is for columns. The `:` means change all rows and the `new column name` indicates the column you are modifying (or in this case, adding). \n",
    "\n",
    "Make a copy of the `fruit_info` dataframe named `fruit_info_copy` using the `.copy` method. Then add a column called `rank2` to the `fruit_info_copy` table which contains the same values in the same order as the `rank1` column.\n",
    "\n",
    "**Note:** To earn all the points for this question you **must** use the `.copy` method and `.loc`.\n"
   ]
  },
  {
   "cell_type": "code",
   "execution_count": null,
   "metadata": {
    "tags": []
   },
   "outputs": [],
   "source": [
    "...\n",
    "fruit_info_copy"
   ]
  },
  {
   "cell_type": "markdown",
   "metadata": {},
   "source": [
    "<!-- END QUESTION -->\n",
    "\n",
    "**Question 3.** Use the `.drop` method to [drop](https://pandas.pydata.org/pandas-docs/stable/generated/pandas.DataFrame.drop.html) both the `rank1` and `rank2` columns you created in `fruit_info_copy` (make sure to use the `axis` parameter correctly). Save the output to an object named `fruit_info_original`.\n",
    "\n",
    "**Note:** `.drop` does not change a table, but instead returns a new table with fewer columns or rows unless you set the optional `inplace` parameter.\n",
    "\n",
    "**Hint:** Look through the [documentation](https://pandas.pydata.org/docs/reference/api/pandas.DataFrame.drop.html) to see how you can drop multiple columns of a Pandas dataframe at once using a list of column names.\n"
   ]
  },
  {
   "cell_type": "code",
   "execution_count": null,
   "metadata": {
    "tags": []
   },
   "outputs": [],
   "source": [
    "fruit_info_original = ...\n",
    "fruit_info_original"
   ]
  },
  {
   "cell_type": "code",
   "execution_count": null,
   "metadata": {
    "deletable": false,
    "editable": false
   },
   "outputs": [],
   "source": [
    "grader.check(\"q3\")"
   ]
  },
  {
   "cell_type": "markdown",
   "metadata": {},
   "source": [
    "**Question 4.** Use the `.rename()` method to [rename](https://pandas.pydata.org/pandas-docs/stable/generated/pandas.DataFrame.rename.html) the columns of `fruit_info_copy` so they begin with capital letters. Set this new dataframe to `fruit_info_caps`.\n"
   ]
  },
  {
   "cell_type": "code",
   "execution_count": null,
   "metadata": {
    "tags": []
   },
   "outputs": [],
   "source": [
    "fruit_info_caps = ...\n",
    "fruit_info_caps"
   ]
  },
  {
   "cell_type": "code",
   "execution_count": null,
   "metadata": {
    "deletable": false,
    "editable": false
   },
   "outputs": [],
   "source": [
    "grader.check(\"q4\")"
   ]
  },
  {
   "cell_type": "markdown",
   "metadata": {},
   "source": [
    "# 2. Babynames\n",
    "\n",
    "Now that we have learned the basics, let's move on to the `babynames` dataset. The `babynames` dataset contains a record of the given names of babies born in the United States each year.\n",
    "\n",
    "First let's run the following cells to build the dataframe `babynames`. The cells below download the data from the web and extract the data into a dataframe. There should be a total of 890627 records."
   ]
  },
  {
   "cell_type": "code",
   "execution_count": null,
   "metadata": {},
   "outputs": [],
   "source": [
    "babynames = pd.read_csv('data/baby_names.csv', index_col = 0)\n",
    "len(babynames)"
   ]
  },
  {
   "cell_type": "code",
   "execution_count": null,
   "metadata": {},
   "outputs": [],
   "source": [
    "babynames.head()"
   ]
  },
  {
   "cell_type": "markdown",
   "metadata": {},
   "source": [
    "# 3. Selecting Rows and Columns (Slicing)\n",
    "\n",
    "## Selection Using Label/Index (using `.loc`)\n",
    "\n",
    "### Column Selection \n",
    "\n",
    "To select a column of a `DataFrame` by column label, the safest and fastest way is to use the `.loc` [method](https://pandas.pydata.org/pandas-docs/stable/generated/pandas.DataFrame.loc.html). General usage of `.loc` looks like `df.loc[rowname, colname]`. (Reminder that the colon `:` means \"everything.\")  For example, if we want the `color` column of the `flowers` data frame, we would use: `flowers.loc[:, 'color']`\n",
    "\n",
    "- You can also slice across columns. For example, `babynames.loc[:, 'Name':]` would select the column `Name` and all columns after `Name`.\n",
    "\n",
    "- **Alternative:** While `.loc` is invaluable when writing production code, it may be a little too verbose for interactive use. One recommended alternative is the `[]` method, which takes on the form `df['colname']`.\n",
    "\n",
    "### Row Selection\n",
    "\n",
    "Similarly, if we want to select a row by its label, we can use the same `.loc` method. In this case, the \"label\" of each row refers to the index (i.e. primary key) of the dataframe.\n",
    "\n",
    "**Example 1.**"
   ]
  },
  {
   "cell_type": "code",
   "execution_count": null,
   "metadata": {},
   "outputs": [],
   "source": [
    "babynames.loc[2:5, 'Name']"
   ]
  },
  {
   "cell_type": "markdown",
   "metadata": {},
   "source": [
    "**Example 2.**  Notice the difference between this method and the method in **Example: 1.**\n",
    "\n",
    "Just passing in `'Name'` returns a Series while `['Name']` returns a `Dataframe`."
   ]
  },
  {
   "cell_type": "code",
   "execution_count": null,
   "metadata": {},
   "outputs": [],
   "source": [
    "babynames.loc[2:5, ['Name']]"
   ]
  },
  {
   "cell_type": "markdown",
   "metadata": {},
   "source": [
    "**Note:** `.loc` actually uses the Pandas row index rather than row id/position of rows in the dataframe to perform the selection. Also, notice that if you write `2:5` with `.loc[]`, contrary to normal Python slicing functionality, the end index is included, so you get the row with index 5."
   ]
  },
  {
   "cell_type": "markdown",
   "metadata": {},
   "source": [
    "### Selection using Integer location (using `.iloc`)\n",
    "\n",
    "Another pandas feature is `.iloc[]` which lets you slice the dataframe by row position and column position instead of by row index and column label (which is the case for `.loc[]`). This is really the main difference between the two functions and it is **important** that you remember the difference and why you might want to use one over the other. In addition, with `.iloc[]`, the end index is **not** included, like with normal Python slicing.\n",
    "\n",
    "**Note:** As a mnemonic, remember that the i in `.iloc` means \"integer\". \n",
    "\n",
    "Below, we have sorted the `babynames` dataframe. Notice how the **position** of a row is not necessarily equal to the **index** of a row. For example, the first row is not necessarily the row associated with index 1. This distinction is important in understanding the different between `.loc[]` and `.iloc[]`.\n",
    "\n",
    "**Example 3.**"
   ]
  },
  {
   "cell_type": "code",
   "execution_count": null,
   "metadata": {},
   "outputs": [],
   "source": [
    "sorted_babynames = babynames.sort_values(by = ['Name'])\n",
    "sorted_babynames.head()"
   ]
  },
  {
   "cell_type": "markdown",
   "metadata": {},
   "source": [
    "**Example 4.** Here is an example of how we would get the 2nd, 3rd, and 4th rows with only the `Name` column of the `baby_names` dataframe using both `.iloc[]` and `.loc[]`. Observe the difference, especially after sorting `babynames` by name."
   ]
  },
  {
   "cell_type": "code",
   "execution_count": null,
   "metadata": {},
   "outputs": [],
   "source": [
    "sorted_babynames.iloc[1:4, 3]"
   ]
  },
  {
   "cell_type": "markdown",
   "metadata": {},
   "source": [
    "Notice that using `.loc[]` with 1:4 gives different results, since it selects using the **index**."
   ]
  },
  {
   "cell_type": "code",
   "execution_count": null,
   "metadata": {},
   "outputs": [],
   "source": [
    "sorted_babynames.loc[1:4, 'Name']"
   ]
  },
  {
   "cell_type": "markdown",
   "metadata": {},
   "source": [
    "**Example 5.** Lastly, we can change the index of a dataframe using the `set_index` method. We change the index from $0,1,2,\\ldots$ to the `Name` column."
   ]
  },
  {
   "cell_type": "code",
   "execution_count": null,
   "metadata": {},
   "outputs": [],
   "source": [
    "df = babynames[:5].set_index(\"Name\") \n",
    "df"
   ]
  },
  {
   "cell_type": "markdown",
   "metadata": {},
   "source": [
    "**Example 6.** However, if we still want to access rows by location we will need to use the integer location (`.iloc`) accessor.\n",
    "\n",
    "**Note:** We can't do this `df.loc[2:5, 'Year']`, but we can use the integer position."
   ]
  },
  {
   "cell_type": "code",
   "execution_count": null,
   "metadata": {},
   "outputs": [],
   "source": [
    "df.iloc[1:4, 2:3]"
   ]
  },
  {
   "cell_type": "markdown",
   "metadata": {},
   "source": [
    "<!-- BEGIN QUESTION -->\n",
    "\n",
    "**Question 5.** List the names of the states that are in the `babynames` data set. Do this using a `panda`s `DataFrame` method.\n",
    "\n",
    "**Note:** To earn all the points for the question you must do it programmatically . "
   ]
  },
  {
   "cell_type": "code",
   "execution_count": null,
   "metadata": {
    "tags": []
   },
   "outputs": [],
   "source": [
    "babynames.State.unique()"
   ]
  },
  {
   "cell_type": "markdown",
   "metadata": {},
   "source": [
    "<!-- END QUESTION -->\n",
    "\n",
    "<!-- BEGIN QUESTION -->\n",
    "\n",
    "**Question 6.** Selecting multiple columns is easy.  You just need to supply a list of column names.  Use `.loc` to select the `Name` and `Year` **in that order** from the `babynames` table.\n",
    "\n",
    "**Note:** To earn all the points for this question you **must** use the `.loc` method. \n"
   ]
  },
  {
   "cell_type": "code",
   "execution_count": null,
   "metadata": {
    "tags": []
   },
   "outputs": [],
   "source": [
    "name_and_year = ...\n",
    "name_and_year[:5]"
   ]
  },
  {
   "cell_type": "markdown",
   "metadata": {},
   "source": [
    "<!-- END QUESTION -->\n",
    "\n",
    "**Note:** `.loc[]` can be used to re-order the columns within a dataframe."
   ]
  },
  {
   "cell_type": "markdown",
   "metadata": {},
   "source": [
    "# 4. Filtering Data\n",
    "\n",
    "## Filtering with boolean arrays\n",
    "\n",
    "Filtering is the process of removing unwanted material.  In your quest for cleaner data, you will undoubtedly filter your data at some point: whether it be for clearing up cases with missing values, for culling out fishy outliers, or for analyzing subgroups of your data set.  Note that compound expressions have to be grouped with parentheses. Example usage looks like `df[df['column name'] < 5]]`.\n",
    "\n",
    "For your reference, some commonly used comparison operators are given below.\n",
    "\n",
    "Symbol   | Usage      | Meaning \n",
    "------   | ---------- | -------------------------------------\n",
    "$==$     | a == b     | Does a equal b?\n",
    "$\\lt =$  | a <= b     | Is a less than or equal to b?\n",
    "$\\gt =$  | a >= b     | Is a greater than or equal to b?\n",
    "$\\lt$    | a < b      | Is a less than \n",
    "$\\gt$    | a > b      | Is a greater than b?\n",
    "~        | ~p         | Returns negation of p\n",
    "&#124;   | p &#124; q | p OR q\n",
    "&        | p & q      | p AND q\n",
    "^        | p ^ q      | p XOR q (exclusive or)\n",
    "\n",
    "In the following we construct the DataFrame containing only names registered in North Carolina."
   ]
  },
  {
   "cell_type": "code",
   "execution_count": null,
   "metadata": {},
   "outputs": [],
   "source": [
    "nc = babynames[babynames['State'] == 'NC']\n",
    "nc.head()"
   ]
  },
  {
   "cell_type": "markdown",
   "metadata": {},
   "source": [
    "**Question 7.** To count the number of instances of each unique value in a Series, we can use the `value_counts()` method as `df['col_name'].value_counts()`. Count the number of different names for each Year in NC (North Carolina).\n",
    "\n",
    "**Note:** We are **not** computing the number of babies but instead the number of names (rows in the table) for each year.\n"
   ]
  },
  {
   "cell_type": "code",
   "execution_count": null,
   "metadata": {
    "tags": []
   },
   "outputs": [],
   "source": [
    "num_of_names_per_year = ...\n",
    "num_of_names_per_year.head()"
   ]
  },
  {
   "cell_type": "code",
   "execution_count": null,
   "metadata": {
    "deletable": false,
    "editable": false
   },
   "outputs": [],
   "source": [
    "grader.check(\"q7\")"
   ]
  },
  {
   "cell_type": "markdown",
   "metadata": {},
   "source": [
    "**Question 8.** Count the number of different names that were given to male and female babies in NC (North Carolina).\n"
   ]
  },
  {
   "cell_type": "code",
   "execution_count": null,
   "metadata": {
    "tags": []
   },
   "outputs": [],
   "source": [
    "num_of_names_per_sex = ...\n",
    "num_of_names_per_sex"
   ]
  },
  {
   "cell_type": "code",
   "execution_count": null,
   "metadata": {
    "deletable": false,
    "editable": false
   },
   "outputs": [],
   "source": [
    "grader.check(\"q8\")"
   ]
  },
  {
   "cell_type": "markdown",
   "metadata": {},
   "source": [
    "**Question 9.** Using a boolean array, select the names in Year 2019 from the `nc` table that have at least 500 counts. Keep all columns from the original `nc` dataframe.\n",
    "\n",
    "**Hint:** Any time you use `p & q` to filter the dataframe, make sure to use `df[(df[p]) & (df[q])]` or `df.loc[(df[p]) & (df[q])]`. That is, make sure to wrap conditions with parentheses.\n",
    "\n",
    "**Note:** Both slicing and `.loc` will achieve the same result, it is just that `.loc` is typically faster in production. You are free to use whichever one you would like.\n"
   ]
  },
  {
   "cell_type": "code",
   "execution_count": null,
   "metadata": {
    "tags": []
   },
   "outputs": [],
   "source": [
    "result = ...\n",
    "result.head()"
   ]
  },
  {
   "cell_type": "code",
   "execution_count": null,
   "metadata": {
    "deletable": false,
    "editable": false
   },
   "outputs": [],
   "source": [
    "grader.check(\"q9\")"
   ]
  },
  {
   "cell_type": "code",
   "execution_count": null,
   "metadata": {},
   "outputs": [],
   "source": [
    "all(i >= 500 for i in result['Count'].values)"
   ]
  },
  {
   "cell_type": "markdown",
   "metadata": {},
   "source": [
    "<!-- BEGIN QUESTION -->\n",
    "\n",
    "**Question 10.** Some names gain/lose popularity because of cultural phenomena such as a political figure coming to power or a successful athlete or entertainer in the during the prime years of his/her career. \n",
    "\n",
    "Below, we plot the popularity of the name Jordan in North Carolina over time. What do you notice about this plot? What might be the cause of the steep drop?\n"
   ]
  },
  {
   "cell_type": "code",
   "execution_count": null,
   "metadata": {
    "tags": []
   },
   "outputs": [],
   "source": [
    "name = 'Jordan'\n",
    "state = 'NC'\n",
    "\n",
    "male_baby = babynames[(babynames['Name'] == name) & (babynames['State'] == state) & (babynames['Sex'] == 'M')]\n",
    "female_baby = babynames[(babynames['Name'] == name) & (babynames['State'] == state) & (babynames['Sex'] == 'F')]\n",
    "\n",
    "plt.rcParams[\"figure.figsize\"] = (18,7)\n",
    "plt.plot(male_baby['Year'], male_baby['Count'], 'b', label = 'Male')\n",
    "plt.plot(female_baby['Year'], female_baby['Count'], 'r', label = 'Female')\n",
    "plt.title(f'Popularity of {name} Over Time')\n",
    "plt.xticks(np.arange(1940, 2025, step = 10))\n",
    "plt.xlabel('Year')\n",
    "plt.ylabel('Count')\n",
    "plt.legend();"
   ]
  },
  {
   "cell_type": "markdown",
   "metadata": {},
   "source": [
    "<!-- END QUESTION -->\n",
    "\n",
    "**Solution:** Answers will vary"
   ]
  },
  {
   "cell_type": "markdown",
   "metadata": {},
   "source": [
    "<!-- BEGIN QUESTION -->\n",
    "\n",
    "**Question 11.** Another cultural phenomena that has recently happened is the \"Karen\" meme. Read the NY Times article [A Brief History of Karen](https://ncssm.instructure.com/courses/6050/pages/a-brief-history-of-karen). Then use the `babynames` data set to investigate the change in popularity of the name Karen. \n",
    "\n",
    "Below, we plot the popularity of the name Karen in North Carolina over time. What do you notice about this plot? When did the first frop in popularity occur? What might be the cause of the steep drop? Look at plots from other states in the data set and compare the results to North Carolina. Do you think the change in popularity is restricted to Southeastern part of the US? What other information would you like to know?\n",
    "\n",
    "Finally, write 2-3 paragraphs based on your findings from the questions listed above. Be sure to mention any information you may have gotten from other sources (make sure you cite your sources). \n"
   ]
  },
  {
   "cell_type": "code",
   "execution_count": null,
   "metadata": {
    "tags": []
   },
   "outputs": [],
   "source": [
    "name = 'Karen'\n",
    "state = 'NC'\n",
    "\n",
    "karen = babynames[(babynames['Name'] == name) & (babynames['State'] == state) & (babynames['Sex'] == 'F')]\n",
    "\n",
    "plt.rcParams[\"figure.figsize\"] = (18,7)\n",
    "plt.plot(karen['Year'], karen['Count'], 'r')\n",
    "plt.title(f'Popularity of {name} Over Time')\n",
    "plt.xticks(np.arange(1940, 2025, step = 5))\n",
    "plt.xlabel('Year')\n",
    "plt.ylabel('Count');"
   ]
  },
  {
   "cell_type": "markdown",
   "metadata": {},
   "source": [
    "<!-- END QUESTION -->\n",
    "\n",
    "**Solution:** Answers will vary"
   ]
  },
  {
   "cell_type": "markdown",
   "metadata": {
    "deletable": false,
    "editable": false
   },
   "source": [
    "---\n",
    "\n",
    "To double-check your work, the cell below will rerun all of the autograder tests."
   ]
  },
  {
   "cell_type": "code",
   "execution_count": null,
   "metadata": {
    "deletable": false,
    "editable": false
   },
   "outputs": [],
   "source": [
    "grader.check_all()"
   ]
  },
  {
   "cell_type": "markdown",
   "metadata": {
    "deletable": false,
    "editable": false
   },
   "source": [
    "## Submission\n",
    "\n",
    "Make sure you have run all cells in your notebook in order before running the cell below, so that all images/graphs appear in the output. The cell below will generate a zip file for you to submit. **Please save before exporting!**\n",
    "\n",
    "When done exporting, download the .zip file by `SHIFT`-clicking on the file name and selecting **Save Link As**. Or, find the .zip file in the left side of the screen and right-click and select **Download**. You'll submit this .zip file for the assignment in Canvas to Gradescope for grading."
   ]
  },
  {
   "cell_type": "code",
   "execution_count": null,
   "metadata": {
    "deletable": false,
    "editable": false
   },
   "outputs": [],
   "source": [
    "# Save your notebook first, then run this cell to export your submission.\n",
    "grader.export(pdf=False)"
   ]
  },
  {
   "cell_type": "markdown",
   "metadata": {},
   "source": [
    " "
   ]
  }
 ],
 "metadata": {
  "kernelspec": {
   "display_name": "Python 3 (ipykernel)",
   "language": "python",
   "name": "python3"
  },
  "language_info": {
   "codemirror_mode": {
    "name": "ipython",
    "version": 3
   },
   "file_extension": ".py",
   "mimetype": "text/x-python",
   "name": "python",
   "nbconvert_exporter": "python",
   "pygments_lexer": "ipython3",
   "version": "3.9.6"
  },
  "otter": {
   "tests": {
    "q3": {
     "name": "q3",
     "points": null,
     "suites": [
      {
       "cases": [
        {
         "code": ">>> fruit_info_original.shape\n(4, 2)",
         "hidden": false,
         "locked": false
        },
        {
         "code": ">>> fruit_info_copy.shape\n(4, 4)",
         "hidden": false,
         "locked": false
        },
        {
         "code": ">>> isinstance(fruit_info_original, pd.core.frame.DataFrame)\nTrue",
         "hidden": false,
         "locked": false
        },
        {
         "code": ">>> list(fruit_info_original.columns) == ['fruit', 'color']\nTrue",
         "hidden": false,
         "locked": false
        }
       ],
       "scored": true,
       "setup": "",
       "teardown": "",
       "type": "doctest"
      }
     ]
    },
    "q4": {
     "name": "q4",
     "points": null,
     "suites": [
      {
       "cases": [
        {
         "code": ">>> 'rank1' not in list(fruit_info_caps.columns)\nTrue",
         "hidden": false,
         "locked": false
        },
        {
         "code": ">>> 'rank2' not in list(fruit_info_caps.columns)\nTrue",
         "hidden": false,
         "locked": false
        },
        {
         "code": ">>> 'fruit' not in list(fruit_info_caps.columns)\nTrue",
         "hidden": false,
         "locked": false
        },
        {
         "code": ">>> 'color' not in list(fruit_info_caps.columns)\nTrue",
         "hidden": false,
         "locked": false
        },
        {
         "code": ">>> set(['Fruit', 'Color', 'Rank1', 'Rank2']).issubset(set(list(fruit_info_caps.columns)))\nTrue",
         "hidden": false,
         "locked": false
        },
        {
         "code": ">>> set(['fruit', 'color', 'rank1', 'rank2']).issubset(set(list(fruit_info_copy.columns)))\nTrue",
         "hidden": false,
         "locked": false
        }
       ],
       "scored": true,
       "setup": "",
       "teardown": "",
       "type": "doctest"
      }
     ]
    },
    "q7": {
     "name": "q7",
     "points": null,
     "suites": [
      {
       "cases": [
        {
         "code": ">>> isinstance(num_of_names_per_year, pd.core.series.Series)\nTrue",
         "hidden": false,
         "locked": false
        },
        {
         "code": ">>> num_of_names_per_year.size\n110",
         "hidden": false,
         "locked": false
        },
        {
         "code": ">>> sum(num_of_names_per_year)\n175577",
         "hidden": false,
         "locked": false
        }
       ],
       "scored": true,
       "setup": "",
       "teardown": "",
       "type": "doctest"
      }
     ]
    },
    "q8": {
     "name": "q8",
     "points": null,
     "suites": [
      {
       "cases": [
        {
         "code": ">>> num_of_names_per_sex.get(key = 'M')\n79924",
         "hidden": false,
         "locked": false
        },
        {
         "code": ">>> num_of_names_per_sex.get(key = 'F')\n95653",
         "hidden": false,
         "locked": false
        }
       ],
       "scored": true,
       "setup": "",
       "teardown": "",
       "type": "doctest"
      }
     ]
    },
    "q9": {
     "name": "q9",
     "points": null,
     "suites": [
      {
       "cases": [
        {
         "code": ">>> len(result)\n7",
         "hidden": false,
         "locked": false
        }
       ],
       "scored": true,
       "setup": "",
       "teardown": "",
       "type": "doctest"
      }
     ]
    }
   }
  }
 },
 "nbformat": 4,
 "nbformat_minor": 4
}
