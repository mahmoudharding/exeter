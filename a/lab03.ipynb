{
 "cells": [
  {
   "cell_type": "code",
   "execution_count": null,
   "id": "4394645b",
   "metadata": {
    "deletable": false,
    "editable": false
   },
   "outputs": [],
   "source": [
    "# Initialize Otter\n",
    "import otter\n",
    "grader = otter.Notebook(\"lab03.ipynb\")"
   ]
  },
  {
   "cell_type": "markdown",
   "id": "cf5ccda9",
   "metadata": {},
   "source": [
    "# Lab 03: Probability Distributions\n",
    "\n",
    "Welcome to Lab 03! In this lab you will investigate probability and probability distributions.\n",
    "\n",
    "To receive credit for a lab, answer all questions correctly and submit before the deadline.\n",
    "\n",
    "**Due Date:** \n",
    "\n",
    "**Collaboration Policy:** Data science is a collaborative activity. While you may talk with others about the labs, we ask that you **write your solutions individually**. If you do discuss the assignments with others **please include their names below** (it's a good way to learn your classmates' names).\n",
    "\n",
    "**Collaborators:** \n",
    "\n",
    "List collaborators here.\n",
    "\n",
    "**Note:** For autograded probability questions, the provided tests will only check that your answer is within a reasonable range.\n",
    "\n",
    "Run the cell below."
   ]
  },
  {
   "cell_type": "code",
   "execution_count": null,
   "id": "aec798c2",
   "metadata": {},
   "outputs": [],
   "source": [
    "import numpy as np\n",
    "import seaborn as sns\n",
    "sns.set()"
   ]
  },
  {
   "cell_type": "markdown",
   "id": "6a9aa842",
   "metadata": {},
   "source": [
    "# 1. Distributions\n",
    "\n",
    "Visualizing distributions, both categorical and numerical, helps us understand variability. In Foundations of Data Science you visualized numerical distributions by drawing [histograms](https://www.inferentialthinking.com/chapters/07/2/Visualizing_Numerical_Distributions.html#A-Histogram), which look like bar charts but represent proportions by the *areas* of the bars instead of the heights or lengths. In this exercise you will use the [`histplot`](https://seaborn.pydata.org/generated/seaborn.histplot.html)  method in `seaborn` instead of the corresponding `Table` method (from Foundations of Data Science) to draw histograms.\n",
    "\n",
    "[`seaborn`](https://seaborn.pydata.org/index.html) is a Python data visualization library based on [`matplotlib`](https://matplotlib.org/). It provides a high-level interface for drawing statistical graphics. \n",
    "\n",
    "To start off, suppose we want to plot the probability distribution of the number of spots on a single roll of a die. That should be a flat histogram since the chance of each of the values 1 through 6 is $\\frac{1}{6}$. Here is a first attempt at drawing the histogram."
   ]
  },
  {
   "cell_type": "code",
   "execution_count": null,
   "id": "c2e5ae37",
   "metadata": {},
   "outputs": [],
   "source": [
    "faces = range(1, 7)\n",
    "sns.histplot(faces);"
   ]
  },
  {
   "cell_type": "markdown",
   "id": "723e4ebd",
   "metadata": {},
   "source": [
    "This default plot is not helpful. We have to choose some arguments to get a visualization that we can interpret. \n",
    "\n",
    "Note that the second printed line shows the left ends of the default bins, as well as the right end of the last bin. The first line shows the counts in the bins. \n",
    "\n",
    "Let's redraw the histogram with bins of unit length centered at the possible values. By the end of the exercise you'll see a reason for centering. Notice that the argument for specifying bins is the same as the one for the `Table` method `hist`."
   ]
  },
  {
   "cell_type": "code",
   "execution_count": null,
   "id": "295c8776",
   "metadata": {},
   "outputs": [],
   "source": [
    "unit_bins = np.arange(0.5, 7.5)\n",
    "sns.histplot(faces, bins=unit_bins);"
   ]
  },
  {
   "cell_type": "markdown",
   "id": "90620241",
   "metadata": {},
   "source": [
    "That's much better, but look at the vertical axis. It is not drawn to the [density scale](https://www.inferentialthinking.com/chapters/07/2/Visualizing_Numerical_Distributions.html#The-Histogram:-General-Principles-and-Calculation) defined in Foundations of Data Science. We want a histogram of a probability distribution, so the total area should be 1. \n",
    "\n",
    "To fix this we can use the parameter `stat='density'`."
   ]
  },
  {
   "cell_type": "code",
   "execution_count": null,
   "id": "91d3efcf",
   "metadata": {},
   "outputs": [],
   "source": [
    "sns.histplot(faces, bins=unit_bins, stat='density');"
   ]
  },
  {
   "cell_type": "markdown",
   "id": "27f7d7ad",
   "metadata": {},
   "source": [
    "That's the probability histogram of the number of spots on one roll of a die. The proportion is $\\frac{1}{6}$ in each of the bins."
   ]
  },
  {
   "cell_type": "markdown",
   "id": "3898c981",
   "metadata": {},
   "source": [
    "<!-- BEGIN QUESTION -->\n",
    "\n",
    "**Question 1.** Define a function `integer_distribution` that takes an array of integers and draws the histogram of the distribution using unit bins centered at the integers and white edges for the bars. The histogram should be drawn to the density scale. The left-most bar should be centered at the smallest integer in the array, and the right-most bar at the largest.\n",
    "\n",
    "Your function does not have to check that the input is an array consisting only of integers. The display does not need to include the printed proportions and bins.\n",
    "\n",
    "**Hint:** If you have trouble defining the function, go back and carefully read all the lines of code that resulted in the probability histogram of the number of spots on one roll of a die. Pay special attention to the bins.\n"
   ]
  },
  {
   "cell_type": "code",
   "execution_count": null,
   "id": "c288d3e9",
   "metadata": {
    "tags": []
   },
   "outputs": [],
   "source": [
    "def integer_distribution(x):\n",
    "    \"\"\"Draws a histogram of the distribution of an array of integers \n",
    "       centered at the integers and white edges for the bars.\n",
    "    \"\"\"\n",
    "    ...\n",
    "integer_distribution(np.random.randint(10, size=10))"
   ]
  },
  {
   "cell_type": "markdown",
   "id": "92d3cbd3",
   "metadata": {},
   "source": [
    "<!-- END QUESTION -->\n",
    "\n",
    "# 2. `SciPy` and `special`\n",
    "\n",
    "Factorials and the binomial coefficients \n",
    "\n",
    "$$\\binom{n}{k} = \\frac{n!}{k!(n-k)!}$$\n",
    "\n",
    "get large very quickly as $n$ gets large. One way to compute them is to use the `SciPy` module `special`. `SciPy` is a collection of Python-based software for math, probability, statistics, science, and engineering."
   ]
  },
  {
   "cell_type": "code",
   "execution_count": null,
   "id": "9daabf66",
   "metadata": {},
   "outputs": [],
   "source": [
    "from scipy import special"
   ]
  },
  {
   "cell_type": "markdown",
   "id": "b1008375",
   "metadata": {},
   "source": [
    "Below are two examples of `special.factorial`."
   ]
  },
  {
   "cell_type": "code",
   "execution_count": null,
   "id": "8be12416",
   "metadata": {},
   "outputs": [],
   "source": [
    "special.factorial(5)"
   ]
  },
  {
   "cell_type": "code",
   "execution_count": null,
   "id": "9bb23230",
   "metadata": {},
   "outputs": [],
   "source": [
    "special.factorial(range(1, 10), exact = True)"
   ]
  },
  {
   "cell_type": "markdown",
   "id": "fc473bb1",
   "metadata": {},
   "source": [
    "Traditionally, subsets of $k$ items out of a population of $n$ items are called **combinations**, and so `special.comb(n, k)` evaluates to $\\binom{n}{k}$. \n",
    "\n",
    "**Note:** We will always use the term **subsets** to mean un-ordered sets. We will use **permutations** in situations where we need to keep track of the order in which the elements appear.\n",
    "\n",
    "Look at the code and output from running the next 5 code cells carefully (including types) before starting **Question 2.**."
   ]
  },
  {
   "cell_type": "code",
   "execution_count": null,
   "id": "07373c57",
   "metadata": {},
   "outputs": [],
   "source": [
    "special.comb(5, 3)"
   ]
  },
  {
   "cell_type": "code",
   "execution_count": null,
   "id": "ad18e4c1",
   "metadata": {},
   "outputs": [],
   "source": [
    "special.factorial(5)/(special.factorial(3)*special.factorial(2))"
   ]
  },
  {
   "cell_type": "code",
   "execution_count": null,
   "id": "aa70ac8b",
   "metadata": {},
   "outputs": [],
   "source": [
    "special.comb(5, range(6))"
   ]
  },
  {
   "cell_type": "code",
   "execution_count": null,
   "id": "00c3d7ce",
   "metadata": {},
   "outputs": [],
   "source": [
    "special.comb(100, 50)"
   ]
  },
  {
   "cell_type": "code",
   "execution_count": null,
   "id": "181ff14f",
   "metadata": {},
   "outputs": [],
   "source": [
    "special.comb(100, 50, exact=True)"
   ]
  },
  {
   "cell_type": "markdown",
   "id": "47f0e331",
   "metadata": {},
   "source": [
    "Consider a population in which a proportion $p$ of individuals are called \"successes\" (or 1, if you prefer) and the remaining proportion are rudely called \"failures\" (or 0). \n",
    "\n",
    "Let $n$ be a positive integer. If you draw a sample of size $n$ at random with replacement from the population then the chance that you get $k$ successes and $n-k$ failures in your sample is \n",
    "\n",
    "$$\\binom{n}{k}p^k(1-p)^{n-k}$$ for $0 \\le k \\le n$. \n",
    "\n",
    "You saw examples of binomial probabilities in Group Assignment 1."
   ]
  },
  {
   "cell_type": "markdown",
   "id": "9e3c343c",
   "metadata": {},
   "source": [
    "**Quesion 2.** What is the probability that, if challenged, Eddy could make at least 3 out of 5 free throws? Given the fact that Eddy shoots 60% from the free-throw line, complete the cell with a Python expression that evaluates to a `NumPy` array whose elements are the chances of $k$ successes for $k = 0, 1, 2, 3, 4, 5$. Assign your array to `all_probs`. Your array should sum to 1."
   ]
  },
  {
   "cell_type": "code",
   "execution_count": null,
   "id": "3c23d2dd",
   "metadata": {
    "tags": []
   },
   "outputs": [],
   "source": [
    "all_probs = ...\n",
    "all_probs"
   ]
  },
  {
   "cell_type": "code",
   "execution_count": null,
   "id": "e50413e3",
   "metadata": {
    "deletable": false,
    "editable": false
   },
   "outputs": [],
   "source": [
    "grader.check(\"q2\")"
   ]
  },
  {
   "cell_type": "markdown",
   "id": "7c5a1e04",
   "metadata": {},
   "source": [
    "**Question 3.** Suppose you sample 100 times at random with replacement from a population in which 26% of the individuals are called \"successes\" (that's traditional terminology in probability). Write a Python expression that evaluates to the chance that the sample has 20 successes. \n",
    "\n",
    "**Computational Note:** Don't import any other libraries; just use the ones already imported and plug into the formula above. It's far from the best way numerically, but it is fine for the numbers involved in this lab. For this course, we are focusing on issues of numerical accuracy.\n"
   ]
  },
  {
   "cell_type": "code",
   "execution_count": null,
   "id": "d5580910",
   "metadata": {
    "tags": []
   },
   "outputs": [],
   "source": [
    "prob = ...\n",
    "prob"
   ]
  },
  {
   "cell_type": "code",
   "execution_count": null,
   "id": "ffd11995",
   "metadata": {
    "deletable": false,
    "editable": false
   },
   "outputs": [],
   "source": [
    "grader.check(\"q3\")"
   ]
  },
  {
   "cell_type": "markdown",
   "id": "407309de",
   "metadata": {},
   "source": [
    "**Question 4.** Suppose we want to know the theoretical probability that the number of successes in a sample of 100 is in the interval 20 to 30 (inclusive on both sides), where the probability of a success is 0.26. Calculate this probability and assign it to the variable `q4`.\n",
    "\n",
    "\n",
    "**Hints:** You can use the `special.comb` function to compute binomial probability.\n"
   ]
  },
  {
   "cell_type": "code",
   "execution_count": null,
   "id": "5a063d91",
   "metadata": {
    "tags": []
   },
   "outputs": [],
   "source": [
    "k = ...\n",
    "q4 = ...\n",
    "q4"
   ]
  },
  {
   "cell_type": "code",
   "execution_count": null,
   "id": "bdba3da6",
   "metadata": {
    "deletable": false,
    "editable": false
   },
   "outputs": [],
   "source": [
    "grader.check(\"q4\")"
   ]
  },
  {
   "cell_type": "markdown",
   "id": "fca7bb0b",
   "metadata": {},
   "source": [
    "Let $n$ and $s$ be an positive integers such that $0 \\le s \\le n$. Consider a sample of size $n$ drawn at random with replacement from a population in which a proportion $p$ of the individuals are called successes. The math expression for the probability that the number of successes in the sample is at most $s$ can be written as \n",
    "\n",
    "$$\\sum_{k=0}^s \\binom{n}{k}p^k(1-p)^{n-k} \\hspace{3cm}\\text{ (1) }$$\n",
    "\n",
    "In probability classes this probability will typically be denoted $P(S \\le s)$ where $S$ denotes the random number of successes in the sample. Formal definitions of the pieces of this notation aren't particularly helpful for our purposes. Just read it as \"the probability that the number of successes is at most $s$.\""
   ]
  },
  {
   "cell_type": "markdown",
   "id": "9a3f62a4",
   "metadata": {},
   "source": [
    "**Question 5.** Fill in the function `prob_at_most` which takes $n$, $p$, and $s$ and returns $P(S \\le s)$ as defined in summation $\\text{ (1) }$.\n",
    "\n",
    "**Note:** Make sure that the inputs are valid. For example, if $p > 1$ or $s > n$ then return 0.\n"
   ]
  },
  {
   "cell_type": "code",
   "execution_count": null,
   "id": "ac3d8d75",
   "metadata": {
    "tags": []
   },
   "outputs": [],
   "source": [
    "def prob_at_most(n, p, s):\n",
    "    \"\"\"Returns the probability of S <= s\n",
    "       Inputs n: sample size; p : proportion; s: number of successes at most\n",
    "    \"\"\"\n",
    "    ..."
   ]
  },
  {
   "cell_type": "code",
   "execution_count": null,
   "id": "b7adb28b",
   "metadata": {
    "deletable": false,
    "editable": false
   },
   "outputs": [],
   "source": [
    "grader.check(\"q5\")"
   ]
  },
  {
   "cell_type": "markdown",
   "id": "163262b9",
   "metadata": {},
   "source": [
    "**Question 6.**  In an election, supporters of Candidate C are in a minority. Only 45% of the voters in the population favor the candidate. Suppose a survey organization takes a sample of 200 voters at random with replacement from this population. Use `prob_at_most` to write an expression that evaluates to the chance that a majority (more than half) of the sampled voters favor Candidate C.\n"
   ]
  },
  {
   "cell_type": "code",
   "execution_count": null,
   "id": "75105d14",
   "metadata": {
    "tags": []
   },
   "outputs": [],
   "source": [
    "p_majority = ...\n",
    "p_majority"
   ]
  },
  {
   "cell_type": "code",
   "execution_count": null,
   "id": "7961e356",
   "metadata": {
    "deletable": false,
    "editable": false
   },
   "outputs": [],
   "source": [
    "grader.check(\"q6\")"
   ]
  },
  {
   "cell_type": "markdown",
   "id": "03744412",
   "metadata": {},
   "source": [
    "Suppose each of five survey organizations takes a sample of voters at random with replacement from the population of voters in **Question 6.**, independently of the samples drawn by the other organizations. \n",
    "\n",
    "- Three of the organizations use a sample size of 200\n",
    "- One organization uses a sample size of 300\n",
    "- One organization uses a sample size of 400\n",
    "\n",
    "**Question 7.**  Write an expression that evaluates to the chance that in at least one of the five samples the majority of voters favor Candidate C. You can use any quantity or function defined earlier in this lab.\n",
    "\n",
    "**Hints:** \n",
    "- When two or more events are independent, the probability that both will happen is the product of their individual probabilities.\n",
    "\n",
    "- The probability of an event occurring at least once, will be the complement of the event never occurring. This means that the probability of the event never occurring and the probability of the event occurring at least once will equal 1.\n"
   ]
  },
  {
   "cell_type": "code",
   "execution_count": null,
   "id": "1911df3e",
   "metadata": {
    "tags": []
   },
   "outputs": [],
   "source": [
    "prob_cand_c = ...\n",
    "prob_cand_c"
   ]
  },
  {
   "cell_type": "code",
   "execution_count": null,
   "id": "905a7ddb",
   "metadata": {
    "deletable": false,
    "editable": false
   },
   "outputs": [],
   "source": [
    "grader.check(\"q7\")"
   ]
  },
  {
   "cell_type": "markdown",
   "id": "006fc46d",
   "metadata": {},
   "source": [
    "# 3. Simulating Risk Probability"
   ]
  },
  {
   "cell_type": "markdown",
   "id": "8e544541",
   "metadata": {},
   "source": [
    "Studies indicate that about 90% of the booked passengers actually arrive for their flights. Suppose that a small plane has 75 seats and, for the purpose of this exercise, assume that passengers arrive independently of each other. \n",
    "\n",
    "**Note:** This assumption is not realistic (i.e. many people do not travel alone).\n",
    "\n",
    "Most of the time airlines overbook flights (i.e. the airline sells more tickets than there are seats on the plane). This is due to the fact that sometimes passengers fail to show up, and the plane must be flown with empty seats. However, if they overbook, they run the risk of having more passengers than seats. This will undoubtedly upset passengers. \n",
    "\n",
    "To entice overbooked passengers to give up their seats, the airline will give vouchers for free flights or offer money to passengers to take a later flight.\n",
    "\n",
    "With these risks in mind the airline decides to sell 80 tickets. You and your friends see this as an opportunity to design an application that will help the airlines determine if this is a good strategy.\n",
    "\n",
    "**Question 8.** Write a function named `number_of_tickets` that will simulate 80 tickets being sold for flight on an airplane with 75 available seats. Simulate the probability that the number of passengers who arrive for 1000 flights is more than the number of seats available. Store this proportion in `prop_tickets`. \n",
    "\n",
    "**Note:** Make sure that the inputs are valid. For example, if $p > 1$ or $s > n$ then return 0.\n"
   ]
  },
  {
   "cell_type": "code",
   "execution_count": null,
   "id": "09eb3628",
   "metadata": {
    "tags": []
   },
   "outputs": [],
   "source": [
    "def number_of_tickets(n, p, s):\n",
    "    \"\"\"Returns the probability of S >= s\n",
    "       Inputs n: number of tickets sold; \n",
    "       p: proportion of passengers expected to arrive; \n",
    "       s: number of available seats\n",
    "    \"\"\"\n",
    "    ...\n",
    "prop_tickets = ...\n",
    "prop_tickets"
   ]
  },
  {
   "cell_type": "code",
   "execution_count": null,
   "id": "874852f9",
   "metadata": {
    "deletable": false,
    "editable": false
   },
   "outputs": [],
   "source": [
    "grader.check(\"q8\")"
   ]
  },
  {
   "cell_type": "markdown",
   "id": "8013ea3e",
   "metadata": {},
   "source": [
    "**Question 9.** If the airline wants to keep the probability of having more than 75 passengers show up to get on the flight to around 1%, what is the maximum number of tickets they should sell? Assign this value to `tickets_to_sell`.\n"
   ]
  },
  {
   "cell_type": "code",
   "execution_count": null,
   "id": "63e34f28",
   "metadata": {
    "tags": []
   },
   "outputs": [],
   "source": [
    "tickets_to_sell = ..."
   ]
  },
  {
   "cell_type": "code",
   "execution_count": null,
   "id": "876064a3",
   "metadata": {
    "deletable": false,
    "editable": false
   },
   "outputs": [],
   "source": [
    "grader.check(\"q9\")"
   ]
  },
  {
   "cell_type": "markdown",
   "id": "6b310333",
   "metadata": {},
   "source": [
    "<!-- BEGIN QUESTION -->\n",
    "\n",
    "**Question 10.** In 2-3 sentences, explain how you determined your answer for **Question 9.**.\n"
   ]
  },
  {
   "cell_type": "markdown",
   "id": "15e1c960",
   "metadata": {},
   "source": [
    "_Type your answer here, replacing this text._"
   ]
  },
  {
   "cell_type": "markdown",
   "id": "755f2048",
   "metadata": {},
   "source": [
    "<!-- END QUESTION -->\n",
    "\n"
   ]
  },
  {
   "cell_type": "markdown",
   "id": "bbf5e4b0",
   "metadata": {
    "deletable": false,
    "editable": false
   },
   "source": [
    "---\n",
    "\n",
    "To double-check your work, the cell below will rerun all of the autograder tests."
   ]
  },
  {
   "cell_type": "code",
   "execution_count": null,
   "id": "fae03a44",
   "metadata": {
    "deletable": false,
    "editable": false
   },
   "outputs": [],
   "source": [
    "grader.check_all()"
   ]
  },
  {
   "cell_type": "markdown",
   "id": "cf0da516",
   "metadata": {
    "deletable": false,
    "editable": false
   },
   "source": [
    "## Submission\n",
    "\n",
    "Make sure you have run all cells in your notebook in order before running the cell below, so that all images/graphs appear in the output. The cell below will generate a zip file for you to submit. **Please save before exporting!**\n",
    "\n",
    "When done exporting, download the .zip file by `SHIFT`-clicking on the file name and selecting **Save Link As**. Or, find the .zip file in the left side of the screen and right-click and select **Download**. You'll submit this .zip file for the assignment in Canvas to Gradescope for grading."
   ]
  },
  {
   "cell_type": "code",
   "execution_count": null,
   "id": "086c6bfc",
   "metadata": {
    "deletable": false,
    "editable": false
   },
   "outputs": [],
   "source": [
    "# Save your notebook first, then run this cell to export your submission.\n",
    "grader.export(pdf=False)"
   ]
  },
  {
   "cell_type": "markdown",
   "id": "e9559ad8",
   "metadata": {},
   "source": [
    " "
   ]
  }
 ],
 "metadata": {
  "kernelspec": {
   "display_name": "Python 3 (ipykernel)",
   "language": "python",
   "name": "python3"
  },
  "language_info": {
   "codemirror_mode": {
    "name": "ipython",
    "version": 3
   },
   "file_extension": ".py",
   "mimetype": "text/x-python",
   "name": "python",
   "nbconvert_exporter": "python",
   "pygments_lexer": "ipython3",
   "version": "3.9.6"
  },
  "otter": {
   "tests": {
    "q2": {
     "name": "q2",
     "points": null,
     "suites": [
      {
       "cases": [
        {
         "code": ">>> isinstance(all_probs, np.ndarray)\nTrue",
         "hidden": false,
         "locked": false
        },
        {
         "code": ">>> sum(all_probs) == 1.0\nTrue",
         "hidden": false,
         "locked": false
        },
        {
         "code": ">>> len(all_probs) == 6\nTrue",
         "hidden": false,
         "locked": false
        },
        {
         "code": ">>> all_probs[3] == 0.3456\nTrue",
         "hidden": false,
         "locked": false
        }
       ],
       "scored": true,
       "setup": "",
       "teardown": "",
       "type": "doctest"
      }
     ]
    },
    "q3": {
     "name": "q3",
     "points": 0.5,
     "suites": [
      {
       "cases": [
        {
         "code": ">>> isinstance(prob, np.float64)\nTrue",
         "hidden": false,
         "locked": false
        },
        {
         "code": ">>> 0 < prob < 0.05\nTrue",
         "hidden": false,
         "locked": false
        },
        {
         "code": ">>> prob\n0.036911003560024636",
         "hidden": false,
         "locked": false
        }
       ],
       "scored": true,
       "setup": "",
       "teardown": "",
       "type": "doctest"
      }
     ]
    },
    "q4": {
     "name": "q4",
     "points": null,
     "suites": [
      {
       "cases": [
        {
         "code": ">>> isinstance(q4, np.float64)\nTrue",
         "hidden": false,
         "locked": false
        },
        {
         "code": ">>> round(q4, 2) < .79\nTrue",
         "hidden": false,
         "locked": false
        }
       ],
       "scored": true,
       "setup": "",
       "teardown": "",
       "type": "doctest"
      }
     ]
    },
    "q5": {
     "name": "q5",
     "points": null,
     "suites": [
      {
       "cases": [
        {
         "code": ">>> prob_at_most(5, 2, 3) == 0\nTrue",
         "hidden": false,
         "locked": false
        },
        {
         "code": ">>> prob_at_most(5, 1, 7) == 0\nTrue",
         "hidden": false,
         "locked": false
        },
        {
         "code": ">>> 0 < prob_at_most(5, 0.6, 3) < .67\nTrue",
         "hidden": false,
         "locked": false
        }
       ],
       "scored": true,
       "setup": "",
       "teardown": "",
       "type": "doctest"
      }
     ]
    },
    "q6": {
     "name": "q6",
     "points": null,
     "suites": [
      {
       "cases": [
        {
         "code": ">>> 0<p_majority<0.069\nTrue",
         "hidden": false,
         "locked": false
        }
       ],
       "scored": true,
       "setup": "",
       "teardown": "",
       "type": "doctest"
      }
     ]
    },
    "q7": {
     "name": "q7",
     "points": null,
     "suites": [
      {
       "cases": [
        {
         "code": ">>> 0 < prob_cand_c < 0.3\nTrue",
         "hidden": false,
         "locked": false
        }
       ],
       "scored": true,
       "setup": "",
       "teardown": "",
       "type": "doctest"
      }
     ]
    },
    "q8": {
     "name": "q8",
     "points": null,
     "suites": [
      {
       "cases": [
        {
         "code": ">>> number_of_tickets(5, 1, 7)\n0",
         "hidden": false,
         "locked": false
        },
        {
         "code": ">>> number_of_tickets(5, 2, 3)\n0",
         "hidden": false,
         "locked": false
        },
        {
         "code": ">>> 0 < prop_tickets < 0.2\nTrue",
         "hidden": false,
         "locked": false
        }
       ],
       "scored": true,
       "setup": "",
       "teardown": "",
       "type": "doctest"
      }
     ]
    },
    "q9": {
     "name": "q9",
     "points": null,
     "suites": [
      {
       "cases": [
        {
         "code": ">>> 0 < tickets_to_sell < 85\nTrue",
         "hidden": false,
         "locked": false
        }
       ],
       "scored": true,
       "setup": "",
       "teardown": "",
       "type": "doctest"
      }
     ]
    }
   }
  }
 },
 "nbformat": 4,
 "nbformat_minor": 5
}
