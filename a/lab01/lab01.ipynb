{
 "cells": [
  {
   "cell_type": "code",
   "execution_count": null,
   "metadata": {
    "deletable": false,
    "editable": false
   },
   "outputs": [],
   "source": [
    "# Initialize Otter\n",
    "import otter\n",
    "grader = otter.Notebook(\"lab01.ipynb\")"
   ]
  },
  {
   "cell_type": "markdown",
   "metadata": {},
   "source": [
    "# Lab 01: Python Basics\n",
    "\n",
    "Welcome to the first lab of Advanced Data Science! This lab is meant to help you familiarize yourself with the basics of Python. In this lab you will review `NumPy`, create collection arrays, practice writing `if` statement and `for` loops, and make a plot using `matplotlib`, a Python visualization library.\n",
    "\n",
    "To receive credit for a lab, answer all questions correctly and submit before the deadline.\n",
    "\n",
    "**Due Date:**\n",
    "\n",
    "**Collaboration Policy:** Data science is a collaborative activity. While you may talk with others about the labs, we ask that you **write your solutions individually**. If you do discuss the assignments with others **please include their names below** (it's a good way to learn your classmates' names).\n",
    "\n",
    "**Collaborators:** \n",
    "\n",
    "List collaborators here."
   ]
  },
  {
   "cell_type": "markdown",
   "metadata": {},
   "source": [
    "# 1. Importing Libraries and Magic Commands\n",
    "\n",
    "In Advanced Data Science, we will be using common Python libraries to help us process data. By convention, we import all libraries at the very top of the notebook. There are also a set of standard aliases that are used to shorten the library names. Below are some of the libraries that you may encounter throughout the course, along with their respective aliases.\n",
    "\n",
    "## Importing Libraries\n",
    "\n",
    "Run the cell below, but please **do not** change it."
   ]
  },
  {
   "cell_type": "code",
   "execution_count": null,
   "metadata": {},
   "outputs": [],
   "source": [
    "import numpy as np\n",
    "\n",
    "%matplotlib inline\n",
    "import matplotlib.pyplot as plt\n",
    "plt.style.use(\"fivethirtyeight\")"
   ]
  },
  {
   "cell_type": "markdown",
   "metadata": {},
   "source": [
    "## Magic Commands\n",
    "\n",
    "`%matplotlib inline` is a Jupyter magic command that configures the notebook so that Matplotlib displays any plots that you draw directly in the notebook rather than to a file, allowing you to view the plots upon executing your code.\n",
    "\n",
    "Another useful magic command is `%%time`, which times the execution of that cell. You can use this by writing it as the first line of a cell.\n",
    "\n",
    "**Note:** `%%` is used for cell magic commands that apply to the entire cell, whereas `%` is used for line magic commands that only apply to a single line.\n",
    "\n",
    "Run the cell below."
   ]
  },
  {
   "cell_type": "code",
   "execution_count": null,
   "metadata": {},
   "outputs": [],
   "source": [
    "%%time\n",
    "\n",
    "# Create an empty list\n",
    "my_list = []\n",
    "\n",
    "# for loop to iterate through the values 0 to 99\n",
    "for i in range(100):\n",
    "    my_list.append(i) # The .append method will add an item to the end of a list"
   ]
  },
  {
   "cell_type": "markdown",
   "metadata": {},
   "source": [
    "The cell above uses the `.append()` method to add an item to a list. "
   ]
  },
  {
   "cell_type": "markdown",
   "metadata": {},
   "source": [
    "The time for executing the previous cell is given in $\\mu$s (i.e. micro seconds). \n",
    "\n",
    "**Question 1.** How many seconds are in 1 micro-second? Assign your answer to `micro_second`.\n"
   ]
  },
  {
   "cell_type": "code",
   "execution_count": null,
   "metadata": {
    "tags": []
   },
   "outputs": [],
   "source": [
    "micro_second = ...\n",
    "micro_second"
   ]
  },
  {
   "cell_type": "code",
   "execution_count": null,
   "metadata": {
    "deletable": false,
    "editable": false
   },
   "outputs": [],
   "source": [
    "grader.check(\"q1\")"
   ]
  },
  {
   "cell_type": "markdown",
   "metadata": {},
   "source": [
    "# 2. Keyboard Shortcuts\n",
    "\n",
    "Even if you are familiar with Jupyter, we strongly encourage you to become proficient with keyboard shortcuts (this will save you time in the future). To learn about keyboard shortcuts, go to **Help $\\to$ Keyboard Shortcuts** in the menu above.\n",
    "\n",
    "Here are a few that we like:\n",
    "\n",
    "1. Ctrl + Return: Evaluate the current cell\n",
    "2. Shift + Return: Evaluate the current cell and move to the next\n",
    "3. ESC: command mode (may need to press before using any of the commands below)\n",
    " -  a: create a cell above\n",
    " -  b: create a cell below\n",
    " - dd: delete a cell\n",
    " -  z: undo the last cell operation\n",
    " -  m: convert a cell to markdown\n",
    " -  y: convert a cell to code\n",
    " \n",
    " "
   ]
  },
  {
   "cell_type": "markdown",
   "metadata": {},
   "source": [
    "# 3. Prerequisites\n",
    "\n",
    "It's time to answer some review questions. Each question has a response cell directly below it. Most response cells are followed by a test cell that runs automated tests to check your work. Please don't delete questions, response cells, or test cells. You won't get credit for your work if you do.\n",
    "\n",
    "If you have extra content in a response cell, such as an example call to a function you're implementing, that's fine.\n",
    "\n",
    "To receive full credit on this assignment, you must pass all test cases by the deadline. Most all test cases are **public** for labs.\n",
    "\n",
    "## Python\n",
    "\n",
    "Python is the main programming language we'll use in the course. We expect that you've taken Introduction to Data Science or an equivalent class, so we will not be covering general Python syntax. If any of the below exercises are challenging (or if you would like to refresh your Python knowledge), please review one or more of the following materials.\n",
    "\n",
    "- [Python Tutorial:](https://docs.python.org/3.5/tutorial/) Introduction to Python from the creators of Python.\n",
    "- [Composing Programs Chapter 1:](http://composingprograms.com/pages/11-getting-started.html) This is more of a introduction to programming with Python.\n",
    "- [Advanced Crash Course in `NumPy`:](http://cs231n.github.io/python-numpy-tutorial/) A fast crash course which assumes some programming background."
   ]
  },
  {
   "cell_type": "markdown",
   "metadata": {},
   "source": [
    "**Question 2.** Write a function named `summation` that evaluates the following summation \n",
    "\n",
    "$$\\sum_{i=1}^n i^3+3i^2$$\n",
    "\n",
    "for $n \\geq 1$.\n"
   ]
  },
  {
   "cell_type": "code",
   "execution_count": null,
   "metadata": {
    "tags": []
   },
   "outputs": [],
   "source": [
    "def summation(n):\n",
    "    \"\"\"Compute the summation i^3 + 3 * i^2 for 1 <= i <= n.\n",
    "    \"\"\"\n",
    "def summation(n):\n",
    "    total = ...\n",
    "    return ..."
   ]
  },
  {
   "cell_type": "code",
   "execution_count": null,
   "metadata": {
    "deletable": false,
    "editable": false
   },
   "outputs": [],
   "source": [
    "grader.check(\"q2\")"
   ]
  },
  {
   "cell_type": "markdown",
   "metadata": {},
   "source": [
    "## Lists \n",
    "\n",
    "* Lists are used to store multiple items in a single variable. \n",
    "\n",
    "* Lists are a built-in data type in Python used to store collections of data.\n",
    ".\n",
    "* Lists may contain different types\n",
    "\n",
    "* List items are ordered, changeable, and allow duplicate values. \n",
    "\n",
    "* List items are indexed, the first item has index `[0]`, the second item has index `[1]` etc\n",
    "\n",
    "* Lists are created using square brackets. For example, `my_list = [2, 3, 5, 7, 11]`, is a list of the first 5 prime numbers. \n",
    "\n",
    "**Question 3.** Write a function named `list_sum` that computes the square of each value in `list_1`, the cube of each value in `list_2`, then returns a list containing the element-wise sum of these results. \n",
    "\n",
    "**Note:** Assume that `list_1` and `list_2` have the same number of elements.\n"
   ]
  },
  {
   "cell_type": "code",
   "execution_count": null,
   "metadata": {
    "tags": []
   },
   "outputs": [],
   "source": [
    "def list_sum(list_1, list_2):\n",
    "    \"\"\"Compute x^2 + y^3 for each x in list_1, and each y in list_2. \n",
    "       Assume list_1 and list_2 have the same length. Both arguments \n",
    "       (lists) must have the same number of elements.\n",
    "    \"\"\"\n",
    "    ...\n",
    "    \n",
    "    for ...\n",
    "    \n",
    "    return ..."
   ]
  },
  {
   "cell_type": "code",
   "execution_count": null,
   "metadata": {
    "deletable": false,
    "editable": false
   },
   "outputs": [],
   "source": [
    "grader.check(\"q3\")"
   ]
  },
  {
   "cell_type": "markdown",
   "metadata": {},
   "source": [
    "**Question 4.** Write a function named `average_of_all` that takes a number and returns the average of all inputs on which it has ever been called. For example, `average_of_all(3)` would return 2 because \n",
    "\n",
    "$$1 + 2 + 3 = 6$$\n",
    "\n",
    "and \n",
    "\n",
    "$$\\frac{6}{3} = 2.$$\n",
    "\n",
    "**Hint:** You will need a check to make sure the value passed to the function is not 0. Otherwise assume that all values passed to `n` are positive. \n"
   ]
  },
  {
   "cell_type": "code",
   "execution_count": null,
   "metadata": {
    "tags": []
   },
   "outputs": [],
   "source": [
    "def average_of_all(n):\n",
    "    \"\"\"Return the average of all arguments ever passed to the average function.\n",
    "    >>> average(1)\n",
    "    1.0\n",
    "    >>> average(3)\n",
    "    2.0\n",
    "    >>> average(8)\n",
    "    4.5\n",
    "    >>> average(0)\n",
    "    0.0\n",
    "    \"\"\"\n",
    "    return ..."
   ]
  },
  {
   "cell_type": "code",
   "execution_count": null,
   "metadata": {
    "deletable": false,
    "editable": false
   },
   "outputs": [],
   "source": [
    "grader.check(\"q4\")"
   ]
  },
  {
   "cell_type": "markdown",
   "metadata": {},
   "source": [
    "## NumPy\n",
    "\n",
    "`NumPy` is the numerical computing module introduced in Foundations of Data Science, which is a prerequisite for this course. Here's a quick recap of `NumPy`. For more review, read the following [`NumPy` Quick Start Tutorial](https://docs.scipy.org/doc/numpy-1.15.4/user/quickstart.html).\n",
    "\n",
    "The core of `NumPy` is the array. Like Python lists, arrays store data; however, they store data in a more efficient manner. In many cases, this allows for faster computation and data manipulation.\n",
    "\n",
    "In Foundations of Data Science, we used `make_array` from the `datascience` module, but that's not the most typical way. Instead, use `np.array` to create an array. It takes a sequence, such as a list or range.\n",
    "\n",
    "**Question 5.** Below, create an array named `arr` containing the values 5, 4, 3, 2, and 1 (in that order).\n"
   ]
  },
  {
   "cell_type": "code",
   "execution_count": null,
   "metadata": {
    "tags": []
   },
   "outputs": [],
   "source": [
    "arr = ..."
   ]
  },
  {
   "cell_type": "code",
   "execution_count": null,
   "metadata": {
    "deletable": false,
    "editable": false
   },
   "outputs": [],
   "source": [
    "grader.check(\"q5\")"
   ]
  },
  {
   "cell_type": "markdown",
   "metadata": {},
   "source": [
    "In addition to values in the array, we can access attributes such as shape and data type. A full list of attributes can be found [here](https://docs.scipy.org/doc/numpy-1.15.0/reference/arrays.ndarray.html#array-attributes)."
   ]
  },
  {
   "cell_type": "code",
   "execution_count": null,
   "metadata": {},
   "outputs": [],
   "source": [
    "# The fourth item in the array\n",
    "arr[3]"
   ]
  },
  {
   "cell_type": "code",
   "execution_count": null,
   "metadata": {},
   "outputs": [],
   "source": [
    "# Items 2 through 3 not including 3\n",
    "arr[2:4]"
   ]
  },
  {
   "cell_type": "code",
   "execution_count": null,
   "metadata": {},
   "outputs": [],
   "source": [
    "# The dimensions (i.e. rows and columns)\n",
    "# arr is one-dimensional array with 5 rows\n",
    "arr.shape"
   ]
  },
  {
   "cell_type": "code",
   "execution_count": null,
   "metadata": {},
   "outputs": [],
   "source": [
    "# The data type for all the elements is numerical (integer)\n",
    "arr.dtype"
   ]
  },
  {
   "cell_type": "markdown",
   "metadata": {},
   "source": [
    "Arrays, unlike Python lists, cannot store items of different data types."
   ]
  },
  {
   "cell_type": "code",
   "execution_count": null,
   "metadata": {},
   "outputs": [],
   "source": [
    "# A regular Python list can store items of different data types\n",
    "[1, '3']"
   ]
  },
  {
   "cell_type": "code",
   "execution_count": null,
   "metadata": {},
   "outputs": [],
   "source": [
    "# Arrays will convert everything to the same data type\n",
    "np.array([1, '3'])"
   ]
  },
  {
   "cell_type": "code",
   "execution_count": null,
   "metadata": {},
   "outputs": [],
   "source": [
    "# Another example of array type conversion\n",
    "np.array([5, 8.3])"
   ]
  },
  {
   "cell_type": "markdown",
   "metadata": {},
   "source": [
    "Notice that the 5 was changed from an integer to a decimal (float)."
   ]
  },
  {
   "cell_type": "markdown",
   "metadata": {},
   "source": [
    "Arrays are also useful in performing **vectorized** operations. Given two or more arrays of equal length, arithmetic will perform element-wise computations across the arrays.\n",
    "\n",
    "For example, observe the following:"
   ]
  },
  {
   "cell_type": "code",
   "execution_count": null,
   "metadata": {},
   "outputs": [],
   "source": [
    "# Python list addition will concatenate the two lists\n",
    "[1, 2, 3] + [4, 5, 6]"
   ]
  },
  {
   "cell_type": "code",
   "execution_count": null,
   "metadata": {},
   "outputs": [],
   "source": [
    "# NumPy array addition will add them element-wise\n",
    "np.array([1, 2, 3]) + np.array([4, 5, 6])"
   ]
  },
  {
   "cell_type": "markdown",
   "metadata": {},
   "source": [
    "**Question 6.** Given the array `random_arr`, assign `valid_values` to an array containing all values $x$ such that $2x^4>1$.\n",
    "\n",
    "\n",
    "**Note:** The `np.random.seed` function sets a [seed](https://en.wikipedia.org/wiki/Random_seedhttps://en.wikipedia.org/wiki/Random_seed), a number (or vector) used to initialize a random number generator. The random number generator needs a number to start with (a seed value), to be able to generate a random number."
   ]
  },
  {
   "cell_type": "code",
   "execution_count": null,
   "metadata": {
    "tags": []
   },
   "outputs": [],
   "source": [
    "# Do not delete this line. It sets a seed so that the results are the same each time.\n",
    "np.random.seed(42)\n",
    "\n",
    "random_arr = np.random.rand(60)\n",
    "valid_values = ...\n",
    "valid_values"
   ]
  },
  {
   "cell_type": "code",
   "execution_count": null,
   "metadata": {
    "deletable": false,
    "editable": false
   },
   "outputs": [],
   "source": [
    "grader.check(\"q6\")"
   ]
  },
  {
   "cell_type": "markdown",
   "metadata": {},
   "source": [
    "**Question 7.** Use `NumPy` to recreate your answer to **Question 3.**. The input parameters will both be lists, so you will need to convert the lists into arrays before performing your operations. Additionally, you will need to make sure that both lists have the same number of items. Assume that both lists are numeric data types.\n",
    "\n",
    "**Hint:** You can use the `np.array` function to create a `NumPy` array.\n"
   ]
  },
  {
   "cell_type": "code",
   "execution_count": null,
   "metadata": {
    "tags": []
   },
   "outputs": [],
   "source": [
    "def array_sum(list_1, list_2):\n",
    "    \"\"\"Compute x^2 + y^3 for each x, y in list_1, list_2.\n",
    "       Assume list_1 and list_2 have the same length and return \n",
    "       a NumPy array. Both arguments (arrays) must have the \n",
    "       same number of elements.\n",
    "    \"\"\" \n",
    "    ...\n",
    "    \n",
    "    return ..."
   ]
  },
  {
   "cell_type": "code",
   "execution_count": null,
   "metadata": {
    "deletable": false,
    "editable": false
   },
   "outputs": [],
   "source": [
    "grader.check(\"q7\")"
   ]
  },
  {
   "cell_type": "markdown",
   "metadata": {},
   "source": [
    "You might have been told that Python is slow, but array arithmetic is carried out very fast, even for large arrays. For ten numbers, `list_sum` and `array_sum` both take a similar amount of time.\n",
    "\n",
    "**Note:** Line 1 in the code cell below uses list comprehension to create a list of 10 elements starting at 0 and ending at 9. For more information on list comprehension and when to use it, click [here](https://realpython.com/list-comprehension-python/)."
   ]
  },
  {
   "cell_type": "code",
   "execution_count": null,
   "metadata": {},
   "outputs": [],
   "source": [
    "# Here we use list comprehension to create a list\n",
    "# of 10 elements starting at 0 and ending at 9.\n",
    "sample_list_1 = [x for x in range(10)] \n",
    "\n",
    "# Here we use a NumPy function, np.arange(10)\n",
    "# to create an array of 10 elements starting \n",
    "# at 0 and ending at 9.\n",
    "sample_array_1 = np.arange(10)"
   ]
  },
  {
   "cell_type": "code",
   "execution_count": null,
   "metadata": {},
   "outputs": [],
   "source": [
    "%%time\n",
    "list_sum(sample_list_1, sample_list_1)"
   ]
  },
  {
   "cell_type": "code",
   "execution_count": null,
   "metadata": {},
   "outputs": [],
   "source": [
    "%%time\n",
    "array_sum(sample_array_1, sample_array_1)"
   ]
  },
  {
   "cell_type": "markdown",
   "metadata": {},
   "source": [
    "The time difference seems negligible for a list/array of size 10; depending on your setup, you may even observe that `list_sum` executes faster than `array_sum`. However, we will commonly be working with much larger datasets:"
   ]
  },
  {
   "cell_type": "code",
   "execution_count": null,
   "metadata": {},
   "outputs": [],
   "source": [
    "# Here we use list comprehension to create a list\n",
    "# of 100000 elements starting at 0 and ending at 99999.\n",
    "sample_list_2 = [x for x in range(100000)]\n",
    "\n",
    "# Here we use a NumPy function, np.arange(100000)\n",
    "# to create an array of 100000 elements starting \n",
    "# at 0 and ending at 99999.\n",
    "sample_array_2 = np.arange(100000)"
   ]
  },
  {
   "cell_type": "code",
   "execution_count": null,
   "metadata": {},
   "outputs": [],
   "source": [
    "%%time\n",
    "list_sum(sample_list_2, sample_list_2)\n",
    "\n",
    "# The semicolon hides the output\n",
    ";"
   ]
  },
  {
   "cell_type": "code",
   "execution_count": null,
   "metadata": {},
   "outputs": [],
   "source": [
    "%%time\n",
    "array_sum(sample_array_2, sample_array_2)\n",
    "\n",
    "# The semicolon hides the output\n",
    ";"
   ]
  },
  {
   "cell_type": "markdown",
   "metadata": {},
   "source": [
    "With the larger dataset, we see that using `NumPy` results in code that executes over 50 times faster. Throughout this course (and in the real world), you will find that writing efficient code will be important; arrays and vectorized operations are the most common way of making Python programs run quickly."
   ]
  },
  {
   "cell_type": "markdown",
   "metadata": {},
   "source": [
    "# 4. Collections\n",
    "\n",
    "## List Comprehension\n",
    "\n",
    "Lists in Python can be created by just placing the sequence inside the square brackets `[ ]`.\n",
    "\n",
    "* Empty list `[ ]`\n",
    "\n",
    "* List of numbers `[1, 3, 5, 7]`\n",
    "\n",
    "* List of strings `['red', 'white', 'blue']\n",
    "\n",
    "* List of mixed data types `[1, 2, 'red', 3, 'white', 4, 'blue']`\n",
    "\n",
    "Lists can be created using a `for` loop or using list comprehension"
   ]
  },
  {
   "cell_type": "markdown",
   "metadata": {},
   "source": [
    "**Question 8.** Create a list of the first 100 even integers using a `for` loop and the `.append()` method. Save the list to `even_list`.\n"
   ]
  },
  {
   "cell_type": "code",
   "execution_count": null,
   "metadata": {
    "tags": []
   },
   "outputs": [],
   "source": [
    "# Initialize empty list\n",
    "even_list = ...\n",
    "\n",
    "for ...\n",
    "even_list[0:10]"
   ]
  },
  {
   "cell_type": "code",
   "execution_count": null,
   "metadata": {
    "deletable": false,
    "editable": false
   },
   "outputs": [],
   "source": [
    "grader.check(\"q8\")"
   ]
  },
  {
   "cell_type": "markdown",
   "metadata": {},
   "source": [
    "**Question 9.** Create a list of the first 100 odd integers using a list comprehension. Save the list to `odd_list`.\n"
   ]
  },
  {
   "cell_type": "code",
   "execution_count": null,
   "metadata": {
    "tags": []
   },
   "outputs": [],
   "source": [
    "odd_list = ...\n",
    "odd_list[0:10]"
   ]
  },
  {
   "cell_type": "code",
   "execution_count": null,
   "metadata": {
    "deletable": false,
    "editable": false
   },
   "outputs": [],
   "source": [
    "grader.check(\"q9\")"
   ]
  },
  {
   "cell_type": "markdown",
   "metadata": {},
   "source": [
    "## Dictionary\n",
    "\n",
    "A Python dictionary is a mutable object, and it contains the data in the form of key-value pairs. Each key is separated from its value by a colon (:). For example, a dictionary can be created like this \n",
    "\n",
    "`my_dict = {'key1': value, 'key2': value, 'key3': value}`\n",
    "\n",
    "\n",
    "Dictionaries are a widely used data structure, and a good understanding of its methods and operations is necessary for doing data science. "
   ]
  },
  {
   "cell_type": "markdown",
   "metadata": {},
   "source": [
    "**Question 10.** Below are two lists. Using a `for` loop and the `update()` method of a dictionary convert them into a dictionary in a way that item from `keys_1` is the key and item from `values_1` is the value. Save it to `d1`.\n",
    "\n",
    "`keys_1 = ['Ten', 'Twenty', 'Thirty']`\n",
    "\n",
    "`values_1 = [10, 20, 30]`\n",
    "\n",
    "**Note:** Click [here](https://www.w3schools.com/python/ref_dictionary_update.asp) to read about how to use the `update` method.\n"
   ]
  },
  {
   "cell_type": "code",
   "execution_count": null,
   "metadata": {
    "tags": []
   },
   "outputs": [],
   "source": [
    "keys_1 = ['Ten', 'Twenty', 'Thirty']\n",
    "values_1 = [10, 20, 30]\n",
    "\n",
    "# Intialize an empty dictionary\n",
    "d1 = ...\n",
    "\n",
    "for ...\n",
    "print(d1)"
   ]
  },
  {
   "cell_type": "code",
   "execution_count": null,
   "metadata": {
    "deletable": false,
    "editable": false
   },
   "outputs": [],
   "source": [
    "grader.check(\"q10\")"
   ]
  },
  {
   "cell_type": "markdown",
   "metadata": {},
   "source": [
    "**Question 11.** Below are two lists. Using the `dict` function and the `zip` function convert them into a dictionary in a way that item from `keys_2` is the key and item from `values_2` is the value. Save it to `d2`.\n",
    "\n",
    "`keys_2 = ['Forty', 'Fifty', 'Sixty']`\n",
    "\n",
    "`values_2 = [40, 50, 60]`\n",
    "\n",
    "**Note:** Click [here](https://www.w3schools.com/python/ref_func_zip.asp) to read about how to use the `zip` function and [here](https://www.w3schools.com/python/ref_func_dict.asp) to read about how to use the `dict` function. \n"
   ]
  },
  {
   "cell_type": "code",
   "execution_count": null,
   "metadata": {
    "tags": []
   },
   "outputs": [],
   "source": [
    "keys_2 = ['Forty', 'Fifty', 'Sixty']\n",
    "values_2 = [40, 50, 60]\n",
    "\n",
    "d2 = ...\n",
    "print(d2)"
   ]
  },
  {
   "cell_type": "code",
   "execution_count": null,
   "metadata": {
    "deletable": false,
    "editable": false
   },
   "outputs": [],
   "source": [
    "grader.check(\"q11\")"
   ]
  },
  {
   "cell_type": "markdown",
   "metadata": {},
   "source": [
    "# 4. Matplotlib\n",
    "\n",
    "We're going to start by going through the official `pyplot` tutorial. Please click [here](https://matplotlib.org/stable/tutorials/introductory/pyplot.htmlhttps://matplotlib.org/stable/tutorials/introductory/pyplot.html) and at some point before the end of the week go through the tutorial notebook and familiarize yourself with the basics of `pyplot`. This should take roughly 25 minutes.\n",
    "\n",
    "**Note:** The tutorial uses `np.arange`, which returns an array that steps from $a$ to $b$ with a fixed step size $s$. While this is fine in some cases, we sometimes prefer to use `np.linspace(a, b, N)`, which divides the interval $[a, b]$ into $N$ equally spaced points.\n",
    "\n",
    "For example, `np.linspace` always includes both end points while `np.arange` will not include the second end point $b$. For this reason, when we are plotting ranges of values we tend to prefer `np.linspace`.\n",
    "\n",
    "Notice how the following two statements have different parameters but return the same result."
   ]
  },
  {
   "cell_type": "code",
   "execution_count": null,
   "metadata": {},
   "outputs": [],
   "source": [
    "np.arange(-5, 6, 1.0)"
   ]
  },
  {
   "cell_type": "code",
   "execution_count": null,
   "metadata": {},
   "outputs": [],
   "source": [
    "np.linspace(-5, 5, 11)"
   ]
  },
  {
   "cell_type": "markdown",
   "metadata": {},
   "source": [
    "Now that you're familiar with the basics of pyplot, let's practice with a plotting question."
   ]
  },
  {
   "cell_type": "markdown",
   "metadata": {},
   "source": [
    "<!-- BEGIN QUESTION -->\n",
    "\n",
    "**Question 12.** Let's visualize the function $f(t) = 3\\sin(2\\pi t)$.\n",
    "\n",
    "- Set the $x$ limit of all figures to $[0, \\pi]$ and the $y$ limit to $[-10, 10]$. \n",
    "\n",
    "- Plot the sine function using `plt.plot` with 30 red plus signs. \n",
    "\n",
    "- Make sure the $x$ ticks are labeled $[0, \\frac{\\pi}{2}, \\pi]$, and that your axes are labeled as well. \n",
    "\n",
    "**Note:** Click [here](https://matplotlib.org/api/pyplot_api.html) to use the matplotlib documentation for reference.\n",
    "\n",
    "Your plot should look like the following:\n",
    "\n",
    "<center><img src=\"images/graph1.png\"></center>\n",
    "\n",
    "**Hints:** \n",
    "\n",
    "* You can set axis bounds with `plt.axis`.\n",
    "\n",
    "* You can set xticks and labels with `plt.xticks`.\n",
    "\n",
    "* Make sure you add `plt.xlabel`, `plt.ylabel`, and `plt.title`.\n"
   ]
  },
  {
   "cell_type": "code",
   "execution_count": null,
   "metadata": {
    "tags": []
   },
   "outputs": [],
   "source": [
    "t = ...\n",
    "y = 3*np.sin(2*np.pi*t)\n",
    "plt.ylim((..., ...))\n",
    "plt.scatter(..., ..., ..., ..., linewidth=1)\n",
    "plt.xticks([0, np.pi/2, np.pi],[r'$0$', r'$\\pi/2$', r'$\\pi$'])\n",
    "plt.xlabel('t')\n",
    "plt.ylabel('f(t)')\n",
    "plt.title('f(t) = 3sin(2$\\pi$t)');"
   ]
  },
  {
   "cell_type": "markdown",
   "metadata": {},
   "source": [
    "<!-- END QUESTION -->\n",
    "\n"
   ]
  },
  {
   "cell_type": "markdown",
   "metadata": {
    "deletable": false,
    "editable": false
   },
   "source": [
    "---\n",
    "\n",
    "To double-check your work, the cell below will rerun all of the autograder tests."
   ]
  },
  {
   "cell_type": "code",
   "execution_count": null,
   "metadata": {
    "deletable": false,
    "editable": false
   },
   "outputs": [],
   "source": [
    "grader.check_all()"
   ]
  },
  {
   "cell_type": "markdown",
   "metadata": {
    "deletable": false,
    "editable": false
   },
   "source": [
    "## Submission\n",
    "\n",
    "Make sure you have run all cells in your notebook in order before running the cell below, so that all images/graphs appear in the output. The cell below will generate a zip file for you to submit. **Please save before exporting!**\n",
    "\n",
    "When done exporting, download the .zip file by `SHIFT`-clicking on the file name and selecting **Save Link As**. Or, find the .zip file in the left side of the screen and right-click and select **Download**. You'll submit this .zip file for the assignment in Canvas to Gradescope for grading."
   ]
  },
  {
   "cell_type": "code",
   "execution_count": null,
   "metadata": {
    "deletable": false,
    "editable": false
   },
   "outputs": [],
   "source": [
    "# Save your notebook first, then run this cell to export your submission.\n",
    "grader.export(pdf=False)"
   ]
  },
  {
   "cell_type": "markdown",
   "metadata": {},
   "source": [
    " "
   ]
  }
 ],
 "metadata": {
  "kernelspec": {
   "display_name": "Python 3 (ipykernel)",
   "language": "python",
   "name": "python3"
  },
  "language_info": {
   "codemirror_mode": {
    "name": "ipython",
    "version": 3
   },
   "file_extension": ".py",
   "mimetype": "text/x-python",
   "name": "python",
   "nbconvert_exporter": "python",
   "pygments_lexer": "ipython3",
   "version": "3.9.6"
  },
  "otter": {
   "tests": {
    "q1": {
     "name": "q1",
     "points": null,
     "suites": [
      {
       "cases": [
        {
         "code": ">>> micro_second\n1e-06",
         "hidden": false,
         "locked": false
        }
       ],
       "scored": true,
       "setup": "",
       "teardown": "",
       "type": "doctest"
      }
     ]
    },
    "q10": {
     "name": "q10",
     "points": 0.5,
     "suites": [
      {
       "cases": [
        {
         "code": ">>> isinstance(d1, dict)\nTrue",
         "hidden": false,
         "locked": false
        },
        {
         "code": ">>> len(d1)\n3",
         "hidden": false,
         "locked": false
        },
        {
         "code": ">>> [10, 20, 30] == [d1['Ten'], d1['Twenty'], d1['Thirty']]\nTrue",
         "hidden": false,
         "locked": false
        },
        {
         "code": ">>> d1.keys()\ndict_keys(['Ten', 'Twenty', 'Thirty'])",
         "hidden": false,
         "locked": false
        }
       ],
       "scored": true,
       "setup": "",
       "teardown": "",
       "type": "doctest"
      }
     ]
    },
    "q11": {
     "name": "q11",
     "points": 0.5,
     "suites": [
      {
       "cases": [
        {
         "code": ">>> isinstance(d2, dict)\nTrue",
         "hidden": false,
         "locked": false
        },
        {
         "code": ">>> len(d2)\n3",
         "hidden": false,
         "locked": false
        },
        {
         "code": ">>> [40, 50, 60] == [d2['Forty'], d2['Fifty'], d2['Sixty']]\nTrue",
         "hidden": false,
         "locked": false
        },
        {
         "code": ">>> d2.keys()\ndict_keys(['Forty', 'Fifty', 'Sixty'])",
         "hidden": false,
         "locked": false
        }
       ],
       "scored": true,
       "setup": "",
       "teardown": "",
       "type": "doctest"
      }
     ]
    },
    "q2": {
     "name": "q2",
     "points": null,
     "suites": [
      {
       "cases": [
        {
         "code": ">>> np.random.seed(123)\n>>> 4 <= summation(np.random.randint(0, 10)) <= 30\nTrue",
         "hidden": false,
         "locked": false
        }
       ],
       "scored": true,
       "setup": "",
       "teardown": "",
       "type": "doctest"
      }
     ]
    },
    "q3": {
     "name": "q3",
     "points": null,
     "suites": [
      {
       "cases": [
        {
         "code": ">>> a = [1, 3, 5]\n>>> b = [2, 4, 6] \n>>> sum(list_sum(a, b)) == 323\nTrue",
         "hidden": false,
         "locked": false
        }
       ],
       "scored": true,
       "setup": "",
       "teardown": "",
       "type": "doctest"
      }
     ]
    },
    "q4": {
     "name": "q4",
     "points": null,
     "suites": [
      {
       "cases": [
        {
         "code": ">>> [0.0, 1.0, 2.0, 4.5, 10.5] == [average_of_all(0), average_of_all(1), average_of_all(3), average_of_all(8), average_of_all(20)]\nTrue",
         "hidden": false,
         "locked": false
        }
       ],
       "scored": true,
       "setup": "",
       "teardown": "",
       "type": "doctest"
      }
     ]
    },
    "q5": {
     "name": "q5",
     "points": null,
     "suites": [
      {
       "cases": [
        {
         "code": ">>> isinstance(arr, np.ndarray)\nTrue",
         "hidden": false,
         "locked": false
        },
        {
         "code": ">>> np.random.seed(123)\n>>> np.random.randint(0, 5), len(arr)-1\n(2, 4)",
         "hidden": false,
         "locked": false
        },
        {
         "code": ">>> np.random.seed(123)\n>>> a = np.random.randint(0, 5)\n>>> a == arr[len(arr)-a]\nTrue",
         "hidden": false,
         "locked": false
        }
       ],
       "scored": true,
       "setup": "",
       "teardown": "",
       "type": "doctest"
      }
     ]
    },
    "q6": {
     "name": "q6",
     "points": null,
     "suites": [
      {
       "cases": [
        {
         "code": ">>> isinstance(valid_values, np.ndarray)\nTrue",
         "hidden": false,
         "locked": false
        },
        {
         "code": ">>> sum(valid_values) == 9.336423431533031\nTrue",
         "hidden": false,
         "locked": false
        }
       ],
       "scored": true,
       "setup": "",
       "teardown": "",
       "type": "doctest"
      }
     ]
    },
    "q7": {
     "name": "q7",
     "points": null,
     "suites": [
      {
       "cases": [
        {
         "code": ">>> a=np.array([1, 3, 5])\n>>> b=np.array([2, 4, 6])\n>>> isinstance(array_sum(a, b), np.ndarray)\nTrue",
         "hidden": false,
         "locked": false
        },
        {
         "code": ">>> a = np.array([1, 3, 5])\n>>> b = np.array([2, 4, 6])\n>>> np.sum(array_sum(a, b)) == 323\nTrue",
         "hidden": false,
         "locked": false
        }
       ],
       "scored": true,
       "setup": "",
       "teardown": "",
       "type": "doctest"
      }
     ]
    },
    "q8": {
     "name": "q8",
     "points": 0.5,
     "suites": [
      {
       "cases": [
        {
         "code": ">>> len(even_list)\n100",
         "hidden": false,
         "locked": false
        },
        {
         "code": ">>> even_list[99]\n200",
         "hidden": false,
         "locked": false
        },
        {
         "code": ">>> sum(even_list)\n10100",
         "hidden": false,
         "locked": false
        }
       ],
       "scored": true,
       "setup": "",
       "teardown": "",
       "type": "doctest"
      }
     ]
    },
    "q9": {
     "name": "q9",
     "points": 0.5,
     "suites": [
      {
       "cases": [
        {
         "code": ">>> len(odd_list)\n100",
         "hidden": false,
         "locked": false
        },
        {
         "code": ">>> odd_list[99]\n199",
         "hidden": false,
         "locked": false
        },
        {
         "code": ">>> sum(odd_list)\n10000",
         "hidden": false,
         "locked": false
        }
       ],
       "scored": true,
       "setup": "",
       "teardown": "",
       "type": "doctest"
      }
     ]
    }
   }
  }
 },
 "nbformat": 4,
 "nbformat_minor": 4
}
