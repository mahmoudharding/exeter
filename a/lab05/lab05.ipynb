{
 "cells": [
  {
   "cell_type": "code",
   "execution_count": null,
   "id": "b695a3d0",
   "metadata": {
    "deletable": false,
    "editable": false
   },
   "outputs": [],
   "source": [
    "# Initialize Otter\n",
    "import otter\n",
    "grader = otter.Notebook(\"lab05.ipynb\")"
   ]
  },
  {
   "cell_type": "markdown",
   "id": "eab3dc61",
   "metadata": {},
   "source": [
    "# Lab 05: Pandas Continued\n",
    "\n",
    "Welcome to Lab 05! In this lab we will continue discussion of [Pandas](https://pandas.pydata.org/) and you will learn about:\n",
    "\n",
    "* Grouping dataframes\n",
    "\n",
    "* Merging dataframes\n",
    "\n",
    "To receive credit for a lab, answer all questions correctly and submit before the deadline.\n",
    "\n",
    "**Due Date:** \n",
    "\n",
    "**Collaboration Policy:** Data science is a collaborative activity. While you may talk with others about the labs, we ask that you **write your solutions individually**. If you do discuss the assignments with others **please include their names below** (it's a good way to learn your classmates' names).\n",
    "\n",
    "**Collaborators:** \n",
    "\n",
    "List collaborators here.\n",
    "\n",
    "Run the cell below."
   ]
  },
  {
   "cell_type": "code",
   "execution_count": null,
   "id": "062fd4fa",
   "metadata": {},
   "outputs": [],
   "source": [
    "import pandas as pd\n",
    "import numpy as np"
   ]
  },
  {
   "cell_type": "markdown",
   "id": "f2806913",
   "metadata": {},
   "source": [
    "# 1. Dataframe Methods\n",
    "\n",
    "Read in the `baby_names.csv` as a dataframe named `baby_names`."
   ]
  },
  {
   "cell_type": "code",
   "execution_count": null,
   "id": "1c577d9f",
   "metadata": {},
   "outputs": [],
   "source": [
    "baby_names = pd.read_csv('data/baby_names.csv', index_col = 0)"
   ]
  },
  {
   "cell_type": "markdown",
   "id": "0119b377",
   "metadata": {},
   "source": [
    "**Question 1.** Create a dataframe named `nc` that only contains the names from North Carolina. \n"
   ]
  },
  {
   "cell_type": "code",
   "execution_count": null,
   "id": "a95a2871",
   "metadata": {
    "tags": []
   },
   "outputs": [],
   "source": [
    "nc = ...\n",
    "nc.head()"
   ]
  },
  {
   "cell_type": "code",
   "execution_count": null,
   "id": "35ba750c",
   "metadata": {
    "deletable": false,
    "editable": false
   },
   "outputs": [],
   "source": [
    "grader.check(\"q1\")"
   ]
  },
  {
   "cell_type": "markdown",
   "id": "c1727453",
   "metadata": {},
   "source": [
    "To count the number of instances of each unique value in a `Series`, we can use the `value_counts()` [method](https://pandas.pydata.org/pandas-docs/stable/generated/pandas.Series.value_counts.html) as `df[\"col_name\"].value_counts()`. \n",
    "\n",
    "**Question 2.** Count the number of different names for each Year in `NC` (North Carolina) from the `nc` DataFrame created in **Question 1**.\n",
    "\n",
    "**Note:** We are not computing the number of babies but instead the number of names (rows in the table) for each year.\n"
   ]
  },
  {
   "cell_type": "code",
   "execution_count": null,
   "id": "9f8dd6f8",
   "metadata": {
    "tags": []
   },
   "outputs": [],
   "source": [
    "num_of_names_per_year = ...\n",
    "num_of_names_per_year"
   ]
  },
  {
   "cell_type": "code",
   "execution_count": null,
   "id": "9e27018a",
   "metadata": {
    "deletable": false,
    "editable": false
   },
   "outputs": [],
   "source": [
    "grader.check(\"q2\")"
   ]
  },
  {
   "cell_type": "markdown",
   "id": "3c341b49",
   "metadata": {},
   "source": [
    "**Question 3.** Count the number of different names for each `Sex` in `NC`.\n"
   ]
  },
  {
   "cell_type": "code",
   "execution_count": null,
   "id": "a1755f3d",
   "metadata": {
    "tags": []
   },
   "outputs": [],
   "source": [
    "num_of_names_per_gender = ...\n",
    "num_of_names_per_gender"
   ]
  },
  {
   "cell_type": "code",
   "execution_count": null,
   "id": "6a573fe4",
   "metadata": {
    "deletable": false,
    "editable": false
   },
   "outputs": [],
   "source": [
    "grader.check(\"q3\")"
   ]
  },
  {
   "cell_type": "markdown",
   "id": "116ad8cb",
   "metadata": {},
   "source": [
    "# 2. Groupby\n",
    "\n",
    "Before we jump into using the [`groupby`](https://pandas.pydata.org/pandas-docs/stable/reference/api/pandas.DataFrame.groupby.html) function in Pandas, let's recap how grouping works in general for tabular data through a guided set of questions based on a small toy dataset of movies and genres. \n",
    "\n",
    "**Note:** If you want to see a visual of how grouping of data works, here is a link to an animation [Groupby Animation](http://www.ds100.org/sp18/assets/lectures/lec03/03-groupby_and_pivot.pdf)\n",
    "\n",
    "**Problem Setting:** In the summer of 2018, there were a lot of good and bad movies that came out. Below is a dataframe with 5 columns: name of the movie as a `string`, the genre of the movie as a `string`, the first name of the director of the movie as a `string`, the average rating out of 10 on Rotten Tomatoes as an `integer`, and the total gross revenue made by the movie as an `integer`. The point of the guided questions below is to understand how the grouping of data works in general, **not** how grouping works in code. \n",
    "\n",
    "Below is the `movies` dataframe we are using, imported from the `movies.csv` file.\n",
    "\n",
    "Run the cell below."
   ]
  },
  {
   "cell_type": "code",
   "execution_count": null,
   "id": "571b3283",
   "metadata": {},
   "outputs": [],
   "source": [
    "movies = pd.read_csv('data/movies.csv')\n",
    "movies"
   ]
  },
  {
   "cell_type": "markdown",
   "id": "9ffeec80",
   "metadata": {},
   "source": [
    "If we grouped the `movies` dataframe above by `genre`, how many groups would be in the output and what would be the groups? \n",
    "\n",
    "**Question 4.**  Assign `num_groups` to the number of groups created and fill in `genre_list` as a list containing the names of genres as strings that represent the groups."
   ]
  },
  {
   "cell_type": "code",
   "execution_count": null,
   "id": "d1680be4",
   "metadata": {
    "tags": []
   },
   "outputs": [],
   "source": [
    "num_groups = ...\n",
    "genre_list = ..."
   ]
  },
  {
   "cell_type": "code",
   "execution_count": null,
   "id": "3bf7c257",
   "metadata": {
    "deletable": false,
    "editable": false
   },
   "outputs": [],
   "source": [
    "grader.check(\"q4\")"
   ]
  },
  {
   "cell_type": "markdown",
   "id": "2a9fe87e",
   "metadata": {},
   "source": [
    "**Question 5.** Whenever we group tabular data, it is usually the case that we need to aggregate values from the ungrouped column(s). If we were to group the `movies` dataframe above by `genre`, which column(s) in the `movies` dataframe would it make sense to aggregate if we were interested in finding how well each genre did in the eyes of people? Fill in `agg_cols` with the column name(s) as a list.\n"
   ]
  },
  {
   "cell_type": "code",
   "execution_count": null,
   "id": "38264fd7",
   "metadata": {
    "tags": []
   },
   "outputs": [],
   "source": [
    "agg_cols = ...\n",
    "agg_cols"
   ]
  },
  {
   "cell_type": "code",
   "execution_count": null,
   "id": "bcb41754",
   "metadata": {
    "deletable": false,
    "editable": false
   },
   "outputs": [],
   "source": [
    "grader.check(\"q5\")"
   ]
  },
  {
   "cell_type": "markdown",
   "id": "fd4484a4",
   "metadata": {},
   "source": [
    "Now, let's see `groupby` in action, instead of keeping everything abstract. To aggregate data in Pandas, we use the `.groupby()` [function](https://pandas.pydata.org/pandas-docs/stable/reference/api/pandas.DataFrame.groupby.html). \n",
    "\n",
    "The code below will group the `movies` dataframe by `genre` and find the average revenue and rating for each genre.\n",
    "\n",
    "Run the cell below."
   ]
  },
  {
   "cell_type": "code",
   "execution_count": null,
   "id": "c86a9781",
   "metadata": {},
   "outputs": [],
   "source": [
    "movies.loc[:, ['genre', 'rating', 'revenue']].groupby('genre').mean()"
   ]
  },
  {
   "cell_type": "markdown",
   "id": "7a6e93c8",
   "metadata": {},
   "source": [
    "**Question 6.** Let's move back to baby names and specifically, the `nc` dataframe. Find the sum of `Count` for each `Name` in the `nc` table. You should use `df.groupby(\"col_name\").sum()` and your result should be a Pandas Series.\n",
    "\n",
    "**Note:** In this question we are now computing the number of registered babies with a given name.\n"
   ]
  },
  {
   "cell_type": "code",
   "execution_count": null,
   "id": "385e3ccb",
   "metadata": {
    "tags": []
   },
   "outputs": [],
   "source": [
    "count_for_names = ...\n",
    "count_for_names"
   ]
  },
  {
   "cell_type": "code",
   "execution_count": null,
   "id": "796ac071",
   "metadata": {
    "deletable": false,
    "editable": false
   },
   "outputs": [],
   "source": [
    "grader.check(\"q6\")"
   ]
  },
  {
   "cell_type": "markdown",
   "id": "5f5df389",
   "metadata": {},
   "source": [
    "**Question 7.** Find the sum of `Count`, in **descending order**, for each female name after year 2000 in North Carolina. Your result should be a Pandas Series.\n"
   ]
  },
  {
   "cell_type": "code",
   "execution_count": null,
   "id": "5a408366",
   "metadata": {
    "tags": []
   },
   "outputs": [],
   "source": [
    "...\n",
    "nc_female_name_count"
   ]
  },
  {
   "cell_type": "code",
   "execution_count": null,
   "id": "a6defe43",
   "metadata": {
    "deletable": false,
    "editable": false
   },
   "outputs": [],
   "source": [
    "grader.check(\"q7\")"
   ]
  },
  {
   "cell_type": "markdown",
   "id": "c61e16c4",
   "metadata": {},
   "source": [
    "# 3. Grouping Multiple Columns\n",
    "\n",
    "Let's move back to the `movies` dataframe. \n",
    "\n",
    "Which of the following lines of code \n",
    "\n",
    "1. `movies.groupby('revenue')[['genre', 'rating']].mean()`\n",
    "\n",
    "2. `movies.groupby(['genre', 'rating'])['revenue'].mean()`\n",
    "\n",
    "3. `pd.pivot_table(index = 'rating', columns = 'genre', values = 'revenue', aggfunc = np.mean)`\n",
    "\n",
    "4. `pd.pivot_table(index = 'genre', columns = 'rating', values = 'revenue', aggfunc = np.mean)`\n",
    "\n",
    "\n",
    "will output the following dataframe? \n",
    "\n",
    "<table border=\"1\" class=\"dataframe\">\n",
    "  <thead>\n",
    "    <tr style=\"text-align: right;\">\n",
    "      <th>rating</th>\n",
    "      <th>5</th>\n",
    "      <th>6</th>\n",
    "      <th>7</th>\n",
    "      <th>8</th>\n",
    "    </tr>\n",
    "    <tr>\n",
    "      <th>genre</th>\n",
    "      <th></th>\n",
    "      <th></th>\n",
    "      <th></th>\n",
    "      <th></th>\n",
    "    </tr>\n",
    "  </thead>\n",
    "  <tbody>\n",
    "    <tr>\n",
    "      <th>Action &amp; Adventure</th>\n",
    "      <td>208681866.0</td>\n",
    "      <td>129228350.0</td>\n",
    "      <td>318344544.0</td>\n",
    "      <td>6708147.0</td>\n",
    "    </tr>\n",
    "    <tr>\n",
    "      <th>Animation</th>\n",
    "      <td>374408165.0</td>\n",
    "      <td>NaN</td>\n",
    "      <td>NaN</td>\n",
    "      <td>NaN</td>\n",
    "    </tr>\n",
    "    <tr>\n",
    "      <th>Comedy</th>\n",
    "      <td>55383976.0</td>\n",
    "      <td>30561590.0</td>\n",
    "      <td>NaN</td>\n",
    "      <td>111705055.0</td>\n",
    "    </tr>\n",
    "    <tr>\n",
    "      <th>Drama</th>\n",
    "      <td>NaN</td>\n",
    "      <td>17146165.5</td>\n",
    "      <td>NaN</td>\n",
    "      <td>NaN</td>\n",
    "    </tr>\n",
    "    <tr>\n",
    "      <th>Horror</th>\n",
    "      <td>NaN</td>\n",
    "      <td>NaN</td>\n",
    "      <td>68765655.0</td>\n",
    "      <td>NaN</td>\n",
    "    </tr>\n",
    "    <tr>\n",
    "      <th>Science Fiction &amp; Fantasy</th>\n",
    "      <td>NaN</td>\n",
    "      <td>312674899.0</td>\n",
    "      <td>NaN</td>\n",
    "      <td>NaN</td>\n",
    "    </tr>\n",
    "  </tbody>\n",
    "</table>\n",
    "\n",
    "**Question 8.** Assign your answer (hard-coded) as either 1, 2, 3, or 4 to the variable `q8_answer`. \n",
    "\n",
    "**Note:** Recall that the arguments to `pd.pivot_table` are as follows: `data` is the input dataframe, `index` includes the values we use as rows, `columns` are the columns of the pivot table, `values` are the values in the pivot table, and `aggfunc` is the aggregation function that we use to aggregate `values`.\n",
    "\n",
    "\n",
    "**Hint:** Click [here](https://pandas.pydata.org/docs/reference/api/pandas.pivot_table.html) to look at the documentation for the `pivot_table` method."
   ]
  },
  {
   "cell_type": "code",
   "execution_count": null,
   "id": "44bcb353",
   "metadata": {
    "tags": []
   },
   "outputs": [],
   "source": [
    "q8_answer = ...\n",
    "q8_answer"
   ]
  },
  {
   "cell_type": "code",
   "execution_count": null,
   "id": "a04a4127",
   "metadata": {
    "deletable": false,
    "editable": false
   },
   "outputs": [],
   "source": [
    "grader.check(\"q8\")"
   ]
  },
  {
   "cell_type": "markdown",
   "id": "28d0354b",
   "metadata": {},
   "source": [
    "# 4. Merging\n",
    "\n",
    "Time to put everything together. \n",
    "\n",
    "**Quetion 9.** Merge `movies` and `count_for_names` to find the number of registered baby names for each director using [`pd.merge`](https://pandas.pydata.org/pandas-docs/stable/reference/api/pandas.merge.html?highlight=merge#pandas.merge). Only include names that appear in both `movies` and `count_for_names`.\n",
    "\n",
    "**Hint:** You might need to convert the `count_for_names` series to a dataframe. To do this click [here](https://pandas.pydata.org/docs/reference/api/pandas.Series.to_frame.html) to take a look at the `to_frame` method of a series. \n",
    "\n",
    "Your first row should look something like this:\n",
    "\n",
    "<table border=\"1\" class=\"dataframe\">\n",
    "  <thead>\n",
    "    <tr style=\"text-align: right;\">\n",
    "      <th></th>\n",
    "      <th>director</th>\n",
    "      <th>genre</th>\n",
    "      <th>movie</th>\n",
    "      <th>rating</th>\n",
    "      <th>revenue</th>\n",
    "      <th>Count</th>\n",
    "    </tr>\n",
    "  </thead>\n",
    "  <tbody>\n",
    "    <tr>\n",
    "      <th>0</th>\n",
    "      <td>David</td>\n",
    "      <td>Action &amp; Adventure</td>\n",
    "      <td>Deadpool 2</td>\n",
    "      <td>7</td>\n",
    "      <td>318344544</td>\n",
    "      <td>99158</td>\n",
    "    </tr>\n",
    "  </tbody>\n",
    "</table>\n",
    "</table>\n"
   ]
  },
  {
   "cell_type": "code",
   "execution_count": null,
   "id": "3480cb31",
   "metadata": {
    "tags": []
   },
   "outputs": [],
   "source": [
    "merged_movies = ...\n",
    "merged_movies"
   ]
  },
  {
   "cell_type": "markdown",
   "id": "2b45ce67",
   "metadata": {},
   "source": [
    "**Question 10.** How many directors in the original `movies` table did not get included in the `merged_movies` dataframe? Asign your answer (hard-coded) as a number in `q10_answer`."
   ]
  },
  {
   "cell_type": "code",
   "execution_count": null,
   "id": "bbd6a39c",
   "metadata": {
    "tags": []
   },
   "outputs": [],
   "source": [
    "movies.shape[0]-merged_movies.shape[0]"
   ]
  },
  {
   "cell_type": "code",
   "execution_count": null,
   "id": "a5754b2b",
   "metadata": {
    "tags": []
   },
   "outputs": [],
   "source": [
    "q10_answer = ...\n",
    "q10_answer"
   ]
  },
  {
   "cell_type": "code",
   "execution_count": null,
   "id": "925264b7",
   "metadata": {
    "deletable": false,
    "editable": false
   },
   "outputs": [],
   "source": [
    "grader.check(\"q10\")"
   ]
  },
  {
   "cell_type": "markdown",
   "id": "c6f9f0df",
   "metadata": {},
   "source": [
    "<!-- BEGIN QUESTION -->\n",
    "\n",
    "**Question 11.** In 1-2 sentences explain why some directors in the `movies` dataframe were left out of the `merged_movies` dataframe."
   ]
  },
  {
   "cell_type": "markdown",
   "id": "ab7acf67",
   "metadata": {},
   "source": [
    "_Type your answer here, replacing this text._"
   ]
  },
  {
   "cell_type": "markdown",
   "id": "e2ba2361",
   "metadata": {},
   "source": [
    "<!-- END QUESTION -->\n",
    "\n"
   ]
  },
  {
   "cell_type": "markdown",
   "id": "a8e24946",
   "metadata": {
    "deletable": false,
    "editable": false
   },
   "source": [
    "---\n",
    "\n",
    "To double-check your work, the cell below will rerun all of the autograder tests."
   ]
  },
  {
   "cell_type": "code",
   "execution_count": null,
   "id": "258a8baa",
   "metadata": {
    "deletable": false,
    "editable": false
   },
   "outputs": [],
   "source": [
    "grader.check_all()"
   ]
  },
  {
   "cell_type": "markdown",
   "id": "617fca6e",
   "metadata": {
    "deletable": false,
    "editable": false
   },
   "source": [
    "## Submission\n",
    "\n",
    "Make sure you have run all cells in your notebook in order before running the cell below, so that all images/graphs appear in the output. The cell below will generate a zip file for you to submit. **Please save before exporting!**\n",
    "\n",
    "When done exporting, download the .zip file by `SHIFT`-clicking on the file name and selecting **Save Link As**. Or, find the .zip file in the left side of the screen and right-click and select **Download**. You'll submit this .zip file for the assignment in Canvas to Gradescope for grading."
   ]
  },
  {
   "cell_type": "code",
   "execution_count": null,
   "id": "aa39893b",
   "metadata": {
    "deletable": false,
    "editable": false
   },
   "outputs": [],
   "source": [
    "# Save your notebook first, then run this cell to export your submission.\n",
    "grader.export(pdf=False)"
   ]
  },
  {
   "cell_type": "markdown",
   "id": "b94d5cdf",
   "metadata": {},
   "source": [
    " "
   ]
  }
 ],
 "metadata": {
  "kernelspec": {
   "display_name": "Python 3 (ipykernel)",
   "language": "python",
   "name": "python3"
  },
  "language_info": {
   "codemirror_mode": {
    "name": "ipython",
    "version": 3
   },
   "file_extension": ".py",
   "mimetype": "text/x-python",
   "name": "python",
   "nbconvert_exporter": "python",
   "pygments_lexer": "ipython3",
   "version": "3.9.6"
  },
  "otter": {
   "tests": {
    "q1": {
     "name": "q1",
     "points": null,
     "suites": [
      {
       "cases": [
        {
         "code": ">>> list(baby_names['State'].unique()) not in list(nc.State == 'NC')\nTrue",
         "hidden": false,
         "locked": false
        }
       ],
       "scored": true,
       "setup": "",
       "teardown": "",
       "type": "doctest"
      }
     ]
    },
    "q10": {
     "name": "q10",
     "points": null,
     "suites": [
      {
       "cases": [
        {
         "code": ">>> q10_answer in range(10)\nTrue",
         "hidden": false,
         "locked": false
        }
       ],
       "scored": true,
       "setup": "",
       "teardown": "",
       "type": "doctest"
      }
     ]
    },
    "q2": {
     "name": "q2",
     "points": null,
     "suites": [
      {
       "cases": [
        {
         "code": ">>> isinstance(num_of_names_per_year, pd.Series) \nTrue",
         "hidden": false,
         "locked": false
        },
        {
         "code": ">>> pd.api.types.is_numeric_dtype(num_of_names_per_year)\nTrue",
         "hidden": false,
         "locked": false
        },
        {
         "code": ">>> sum(num_of_names_per_year)\n175577",
         "hidden": false,
         "locked": false
        },
        {
         "code": ">>> len(num_of_names_per_year)\n110",
         "hidden": false,
         "locked": false
        }
       ],
       "scored": true,
       "setup": "",
       "teardown": "",
       "type": "doctest"
      }
     ]
    },
    "q3": {
     "name": "q3",
     "points": null,
     "suites": [
      {
       "cases": [
        {
         "code": ">>> isinstance(num_of_names_per_gender, pd.Series) \nTrue",
         "hidden": false,
         "locked": false
        },
        {
         "code": ">>> pd.api.types.is_numeric_dtype(num_of_names_per_gender)\nTrue",
         "hidden": false,
         "locked": false
        },
        {
         "code": ">>> sum(num_of_names_per_gender)\n175577",
         "hidden": false,
         "locked": false
        },
        {
         "code": ">>> len(num_of_names_per_gender)\n2",
         "hidden": false,
         "locked": false
        }
       ],
       "scored": true,
       "setup": "",
       "teardown": "",
       "type": "doctest"
      }
     ]
    },
    "q4": {
     "name": "q4",
     "points": null,
     "suites": [
      {
       "cases": [
        {
         "code": ">>> len(genre_list)\n6",
         "hidden": false,
         "locked": false
        }
       ],
       "scored": true,
       "setup": "",
       "teardown": "",
       "type": "doctest"
      }
     ]
    },
    "q5": {
     "name": "q5",
     "points": null,
     "suites": [
      {
       "cases": [
        {
         "code": ">>> [len(i) for i in sorted(agg_cols)] == [6, 7]\nTrue",
         "hidden": false,
         "locked": false
        },
        {
         "code": ">>> isinstance(agg_cols, list) \nTrue",
         "hidden": false,
         "locked": false
        }
       ],
       "scored": true,
       "setup": "",
       "teardown": "",
       "type": "doctest"
      }
     ]
    },
    "q6": {
     "name": "q6",
     "points": null,
     "suites": [
      {
       "cases": [
        {
         "code": ">>> isinstance(count_for_names, pd.Series) \nTrue",
         "hidden": false,
         "locked": false
        },
        {
         "code": ">>> pd.api.types.is_numeric_dtype(count_for_names)\nTrue",
         "hidden": false,
         "locked": false
        },
        {
         "code": ">>> sum(count_for_names)\n9019830",
         "hidden": false,
         "locked": false
        },
        {
         "code": ">>> len(count_for_names)\n9128",
         "hidden": false,
         "locked": false
        }
       ],
       "scored": true,
       "setup": "",
       "teardown": "",
       "type": "doctest"
      }
     ]
    },
    "q7": {
     "name": "q7",
     "points": null,
     "suites": [
      {
       "cases": [
        {
         "code": ">>> isinstance(nc_female_name_count, pd.Series) \nTrue",
         "hidden": false,
         "locked": false
        },
        {
         "code": ">>> len(nc_female_name_count)\n3708",
         "hidden": false,
         "locked": false
        },
        {
         "code": ">>> sum(nc_female_name_count)\n858330",
         "hidden": false,
         "locked": false
        }
       ],
       "scored": true,
       "setup": "",
       "teardown": "",
       "type": "doctest"
      }
     ]
    },
    "q8": {
     "name": "q8",
     "points": null,
     "suites": [
      {
       "cases": [
        {
         "code": ">>> q8_answer in [1, 2, 3, 4]\nTrue",
         "hidden": false,
         "locked": false
        }
       ],
       "scored": true,
       "setup": "",
       "teardown": "",
       "type": "doctest"
      }
     ]
    }
   }
  }
 },
 "nbformat": 4,
 "nbformat_minor": 5
}
